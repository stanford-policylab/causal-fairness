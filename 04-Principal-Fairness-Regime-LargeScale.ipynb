{
 "cells": [
  {
   "cell_type": "code",
   "execution_count": 11,
   "metadata": {
    "execution": {
     "iopub.execute_input": "2022-07-18T22:07:16.210265Z",
     "iopub.status.busy": "2022-07-18T22:07:16.209347Z",
     "iopub.status.idle": "2022-07-18T22:07:17.429327Z",
     "shell.execute_reply": "2022-07-18T22:07:17.429587Z"
    }
   },
   "outputs": [],
   "source": [
    "import numpy as np\n",
    "import pandas as pd\n",
    "import matplotlib.pyplot as plt\n",
    "import seaborn as sns\n",
    "import random\n",
    "import os\n",
    "\n",
    "FRAC_ADMIT = 0.5\n"
   ]
  },
  {
   "cell_type": "code",
   "execution_count": 19,
   "metadata": {
    "execution": {
     "iopub.execute_input": "2022-07-18T22:07:17.433856Z",
     "iopub.status.busy": "2022-07-18T22:07:17.433456Z",
     "iopub.status.idle": "2022-07-18T22:07:32.717812Z",
     "shell.execute_reply": "2022-07-18T22:07:32.718051Z"
    }
   },
   "outputs": [],
   "source": [
    "\n",
    "\n",
    "###\n",
    "## Load dataframe where each row is a single applicant\n",
    "###\n",
    "\n",
    "df = pd.read_csv('./df_test_large.csv')\n",
    "df['key'] = df['R'].astype(str) + \"_\"  + df['T'].astype(str)\n",
    "\n"
   ]
  },
  {
   "cell_type": "code",
   "execution_count": 20,
   "metadata": {
    "execution": {
     "iopub.execute_input": "2022-07-18T22:07:32.831932Z",
     "iopub.status.busy": "2022-07-18T22:07:32.777121Z",
     "iopub.status.idle": "2022-07-18T22:07:32.833010Z",
     "shell.execute_reply": "2022-07-18T22:07:32.833355Z"
    }
   },
   "outputs": [],
   "source": [
    "df['Y_stratum'] = df['Y'].astype(str) + df['Y_reject'].astype(str)\n",
    "\n"
   ]
  },
  {
   "cell_type": "code",
   "execution_count": 21,
   "metadata": {
    "execution": {
     "iopub.execute_input": "2022-07-18T22:07:32.902789Z",
     "iopub.status.busy": "2022-07-18T22:07:32.902412Z",
     "iopub.status.idle": "2022-07-18T22:07:32.908800Z",
     "shell.execute_reply": "2022-07-18T22:07:32.909040Z"
    }
   },
   "outputs": [],
   "source": [
    "###\n",
    "## Get number of people in each stratum\n",
    "###\n",
    "\n",
    "dff = df[['R','T','key','Y','Y_reject']].groupby(['R','T','Y','Y_reject']).count().reset_index()\n",
    "dff.columns = ['R','T','Y','Y_reject','N']"
   ]
  },
  {
   "cell_type": "code",
   "execution_count": 23,
   "metadata": {
    "scrolled": true
   },
   "outputs": [
    {
     "name": "stdout",
     "output_type": "stream",
     "text": [
      "0 292771\n",
      "1000 293348\n",
      "2000 293869\n",
      "3000 294373\n",
      "4000 294798\n",
      "5000 295246\n",
      "6000 295660\n",
      "7000 296067\n",
      "8000 296473\n",
      "9000 296863\n",
      "10000 297254\n",
      "11000 297612\n",
      "12000 297963\n",
      "13000 298332\n",
      "14000 298691\n",
      "15000 299019\n",
      "16000 299365\n",
      "17000 299667\n",
      "18000 299977\n",
      "19000 300274\n",
      "20000 300568\n",
      "21000 300856\n",
      "22000 301149\n",
      "23000 301406\n",
      "24000 301673\n",
      "25000 301924\n",
      "26000 302174\n",
      "27000 302462\n",
      "28000 302734\n",
      "29000 302941\n",
      "30000 303165\n",
      "31000 303348\n",
      "32000 303581\n",
      "33000 303755\n",
      "34000 303969\n",
      "35000 304170\n",
      "36000 304380\n",
      "37000 304610\n",
      "38000 304814\n",
      "39000 305001\n",
      "40000 305189\n",
      "41000 305359\n",
      "42000 305546\n",
      "43000 305716\n",
      "44000 305887\n",
      "45000 306035\n",
      "46000 306188\n",
      "47000 306365\n",
      "48000 306461\n",
      "49000 306562\n",
      "50000 306691\n",
      "51000 306796\n",
      "52000 306912\n",
      "53000 307067\n",
      "54000 307204\n",
      "55000 307327\n",
      "56000 307411\n",
      "57000 307470\n",
      "58000 307578\n",
      "59000 307711\n",
      "60000 307862\n",
      "61000 307962\n",
      "62000 308027\n",
      "63000 308129\n",
      "64000 308193\n",
      "65000 308294\n",
      "66000 308358\n",
      "67000 308430\n",
      "68000 308527\n",
      "69000 308531\n",
      "70000 308594\n",
      "71000 308653\n",
      "72000 308687\n",
      "73000 308706\n",
      "74000 308737\n",
      "75000 308773\n",
      "76000 308830\n",
      "77000 308870\n",
      "78000 308882\n",
      "79000 308886\n",
      "80000 308876\n",
      "81000 308887\n",
      "82000 308922\n",
      "83000 308949\n",
      "84000 308958\n",
      "85000 308971\n",
      "86000 308991\n",
      "87000 309006\n",
      "88000 308989\n",
      "89000 308982\n",
      "90000 308933\n",
      "91000 308942\n",
      "92000 308905\n",
      "93000 308900\n",
      "94000 308811\n",
      "95000 308824\n",
      "96000 308763\n",
      "97000 308686\n",
      "98000 308693\n",
      "99000 308690\n",
      "100000 308683\n",
      "101000 308638\n",
      "102000 308618\n",
      "103000 308605\n",
      "104000 308551\n",
      "105000 308514\n",
      "106000 308458\n",
      "107000 308414\n",
      "108000 308361\n",
      "109000 308324\n",
      "110000 308241\n",
      "111000 308156\n",
      "112000 308107\n",
      "113000 308051\n",
      "114000 307990\n",
      "115000 307949\n",
      "116000 307886\n",
      "117000 307851\n",
      "118000 307718\n",
      "119000 307599\n",
      "120000 307507\n",
      "121000 307422\n",
      "122000 307394\n",
      "123000 307315\n",
      "124000 307228\n",
      "125000 307136\n",
      "126000 307026\n",
      "127000 306923\n",
      "128000 306799\n",
      "129000 306672\n",
      "130000 306599\n",
      "131000 306455\n",
      "132000 306320\n",
      "133000 306137\n",
      "134000 306004\n",
      "135000 305896\n",
      "136000 305720\n",
      "137000 305571\n",
      "138000 305437\n",
      "139000 305256\n",
      "140000 305097\n",
      "141000 304903\n",
      "142000 304740\n",
      "143000 304615\n",
      "144000 304487\n",
      "145000 304346\n",
      "146000 304240\n",
      "147000 304098\n",
      "148000 303974\n",
      "149000 303854\n",
      "150000 303711\n",
      "151000 303530\n",
      "152000 303334\n",
      "153000 303141\n",
      "154000 302926\n",
      "155000 302738\n",
      "156000 302529\n",
      "157000 302358\n",
      "158000 302183\n",
      "159000 301984\n",
      "160000 301815\n",
      "161000 301637\n",
      "162000 301495\n",
      "163000 301296\n",
      "164000 301096\n",
      "165000 300899\n",
      "166000 300692\n",
      "167000 300483\n",
      "168000 300295\n",
      "169000 300137\n",
      "170000 299952\n",
      "171000 299677\n",
      "172000 299482\n",
      "173000 299273\n",
      "174000 299070\n",
      "175000 298850\n",
      "176000 298584\n",
      "177000 298358\n",
      "178000 298099\n",
      "179000 297861\n",
      "180000 297614\n",
      "181000 297357\n",
      "182000 297093\n",
      "183000 296877\n",
      "184000 296618\n",
      "185000 296418\n",
      "186000 296217\n",
      "187000 295990\n",
      "188000 295751\n",
      "189000 295512\n",
      "190000 295297\n",
      "191000 295045\n",
      "192000 294794\n",
      "193000 294571\n",
      "194000 294312\n",
      "195000 294018\n",
      "196000 293769\n",
      "197000 293540\n",
      "198000 293295\n",
      "199000 293052\n",
      "200000 292771\n",
      "201000 292508\n",
      "202000 292206\n",
      "203000 291919\n",
      "204000 291638\n",
      "205000 291344\n",
      "206000 291086\n",
      "207000 290787\n",
      "208000 290507\n",
      "209000 290193\n",
      "210000 289902\n",
      "211000 289632\n",
      "212000 289353\n",
      "213000 289052\n",
      "214000 288756\n",
      "215000 288426\n",
      "216000 288098\n",
      "217000 287761\n",
      "218000 287450\n",
      "219000 287127\n",
      "220000 286813\n",
      "221000 286478\n",
      "222000 286143\n",
      "223000 285797\n",
      "224000 285493\n",
      "225000 285158\n",
      "226000 284840\n",
      "227000 284479\n",
      "228000 284128\n",
      "229000 283834\n",
      "230000 283471\n",
      "231000 283122\n",
      "232000 282811\n",
      "233000 282476\n",
      "234000 282134\n",
      "235000 281788\n",
      "236000 281421\n",
      "237000 281074\n",
      "238000 280719\n",
      "239000 280362\n",
      "240000 279961\n",
      "241000 279563\n",
      "242000 279204\n",
      "243000 278799\n",
      "244000 278427\n",
      "245000 278088\n",
      "246000 277682\n",
      "247000 277303\n",
      "248000 276933\n",
      "249000 276554\n",
      "250000 276175\n",
      "251000 275834\n",
      "252000 275461\n",
      "253000 275079\n",
      "254000 274746\n",
      "255000 274346\n",
      "256000 273937\n",
      "257000 273535\n",
      "258000 273128\n",
      "259000 272726\n",
      "260000 272326\n",
      "261000 271927\n",
      "262000 271520\n",
      "263000 271137\n",
      "264000 270717\n",
      "265000 270359\n",
      "266000 269957\n",
      "267000 269536\n",
      "268000 269143\n",
      "269000 268711\n",
      "270000 268281\n",
      "271000 267851\n",
      "272000 267392\n",
      "273000 266973\n",
      "274000 266523\n",
      "275000 266089\n",
      "276000 265667\n",
      "277000 265237\n",
      "278000 264778\n",
      "279000 264336\n",
      "280000 263910\n",
      "281000 263434\n",
      "282000 262962\n",
      "283000 262517\n",
      "284000 262082\n",
      "285000 261638\n",
      "286000 261189\n",
      "287000 260750\n",
      "288000 260278\n",
      "289000 259841\n",
      "290000 259425\n",
      "291000 258972\n",
      "292000 258508\n",
      "293000 258014\n",
      "294000 257536\n",
      "295000 257058\n",
      "296000 256588\n",
      "297000 256108\n",
      "298000 255622\n",
      "299000 255099\n",
      "300000 254592\n",
      "301000 254081\n",
      "302000 253604\n",
      "303000 253130\n",
      "304000 252647\n",
      "305000 252166\n",
      "306000 251649\n",
      "307000 251151\n",
      "308000 250632\n",
      "309000 250145\n",
      "310000 249610\n",
      "311000 249075\n",
      "312000 248550\n",
      "313000 248021\n",
      "314000 247475\n",
      "315000 246921\n",
      "316000 246374\n",
      "317000 245826\n",
      "318000 245280\n",
      "319000 244732\n",
      "320000 244201\n",
      "321000 243661\n",
      "322000 243119\n",
      "323000 242572\n",
      "324000 242026\n",
      "325000 241477\n",
      "326000 240944\n",
      "327000 240372\n",
      "328000 239781\n",
      "329000 239177\n",
      "330000 238609\n"
     ]
    }
   ],
   "source": [
    "TOTAL_ADMITS = int(len(df)*FRAC_ADMIT)\n",
    "MAX_BLACK_ADMITS = len(df[df['R']==1])\n",
    "MIN_GRADUATES = 100000\n",
    "GRID_SIZE = 1000\n",
    "\n",
    "outcomes_grid = []\n",
    "Xs = []\n",
    "Ys = []\n",
    "\n",
    "for N_black_admits in range(0,MAX_BLACK_ADMITS):\n",
    "    \n",
    "    if N_black_admits % GRID_SIZE != 0:\n",
    "        continue\n",
    "    \n",
    "    black_admits = df[df['R']==1].sort_values(by='T',ascending=False).head(n=N_black_admits)\n",
    "    white_admits = df[df['R']==0].sort_values(by='T',ascending=False).head(n=TOTAL_ADMITS-N_black_admits)\n",
    "    \n",
    "    Y = black_admits['Y'].sum() + white_admits['Y'].sum()\n",
    "    \n",
    "    Xs.append(N_black_admits)\n",
    "    Ys.append(Y)\n",
    "    print(N_black_admits,Y)\n",
    "    \n",
    "    for y_iter in np.arange(MIN_GRADUATES,Y,GRID_SIZE):\n",
    "        outcomes_grid.append({'min_black_admits':N_black_admits-GRID_SIZE/2, 'max_black_admits':N_black_admits+GRID_SIZE/2, 'max_graduates':y_iter+GRID_SIZE, 'min_graduates':y_iter, 'policy_exists':'Unknown'})\n",
    "        "
   ]
  },
  {
   "cell_type": "code",
   "execution_count": 24,
   "metadata": {},
   "outputs": [],
   "source": [
    "df_pareto = pd.DataFrame({'# Black Admits':Xs, '# Graduates':Ys})"
   ]
  },
  {
   "cell_type": "code",
   "execution_count": null,
   "metadata": {},
   "outputs": [],
   "source": []
  },
  {
   "cell_type": "markdown",
   "metadata": {},
   "source": [
    "### Setup optimization problem "
   ]
  },
  {
   "cell_type": "code",
   "execution_count": 25,
   "metadata": {
    "execution": {
     "iopub.execute_input": "2022-07-18T22:07:32.925308Z",
     "iopub.status.busy": "2022-07-18T22:07:32.924951Z",
     "iopub.status.idle": "2022-07-18T22:07:32.948810Z",
     "shell.execute_reply": "2022-07-18T22:07:32.949026Z"
    }
   },
   "outputs": [],
   "source": [
    "from ortools.linear_solver import pywraplp\n"
   ]
  },
  {
   "cell_type": "code",
   "execution_count": 26,
   "metadata": {
    "execution": {
     "iopub.execute_input": "2022-07-18T22:07:32.951558Z",
     "iopub.status.busy": "2022-07-18T22:07:32.951201Z",
     "iopub.status.idle": "2022-07-18T22:07:32.952502Z",
     "shell.execute_reply": "2022-07-18T22:07:32.952736Z"
    }
   },
   "outputs": [],
   "source": [
    "solver = pywraplp.Solver.CreateSolver('GLOP')\n"
   ]
  },
  {
   "cell_type": "code",
   "execution_count": 27,
   "metadata": {
    "execution": {
     "iopub.execute_input": "2022-07-18T22:07:32.955051Z",
     "iopub.status.busy": "2022-07-18T22:07:32.954659Z",
     "iopub.status.idle": "2022-07-18T22:07:32.956956Z",
     "shell.execute_reply": "2022-07-18T22:07:32.957233Z"
    }
   },
   "outputs": [
    {
     "data": {
      "text/plain": [
       "568"
      ]
     },
     "execution_count": 27,
     "metadata": {},
     "output_type": "execute_result"
    }
   ],
   "source": [
    "len(dff[['R','T','Y','Y_reject']])"
   ]
  },
  {
   "cell_type": "code",
   "execution_count": 28,
   "metadata": {
    "execution": {
     "iopub.execute_input": "2022-07-18T22:07:32.963351Z",
     "iopub.status.busy": "2022-07-18T22:07:32.962958Z",
     "iopub.status.idle": "2022-07-18T22:07:32.964570Z",
     "shell.execute_reply": "2022-07-18T22:07:32.964864Z"
    }
   },
   "outputs": [
    {
     "data": {
      "text/html": [
       "<div>\n",
       "<style scoped>\n",
       "    .dataframe tbody tr th:only-of-type {\n",
       "        vertical-align: middle;\n",
       "    }\n",
       "\n",
       "    .dataframe tbody tr th {\n",
       "        vertical-align: top;\n",
       "    }\n",
       "\n",
       "    .dataframe thead th {\n",
       "        text-align: right;\n",
       "    }\n",
       "</style>\n",
       "<table border=\"1\" class=\"dataframe\">\n",
       "  <thead>\n",
       "    <tr style=\"text-align: right;\">\n",
       "      <th></th>\n",
       "      <th>R</th>\n",
       "      <th>T</th>\n",
       "      <th>Y</th>\n",
       "      <th>Y_reject</th>\n",
       "      <th>N</th>\n",
       "    </tr>\n",
       "  </thead>\n",
       "  <tbody>\n",
       "    <tr>\n",
       "      <th>0</th>\n",
       "      <td>0</td>\n",
       "      <td>8</td>\n",
       "      <td>0</td>\n",
       "      <td>0</td>\n",
       "      <td>1</td>\n",
       "    </tr>\n",
       "    <tr>\n",
       "      <th>1</th>\n",
       "      <td>0</td>\n",
       "      <td>9</td>\n",
       "      <td>0</td>\n",
       "      <td>0</td>\n",
       "      <td>2</td>\n",
       "    </tr>\n",
       "    <tr>\n",
       "      <th>2</th>\n",
       "      <td>0</td>\n",
       "      <td>10</td>\n",
       "      <td>0</td>\n",
       "      <td>0</td>\n",
       "      <td>1</td>\n",
       "    </tr>\n",
       "    <tr>\n",
       "      <th>3</th>\n",
       "      <td>0</td>\n",
       "      <td>11</td>\n",
       "      <td>0</td>\n",
       "      <td>0</td>\n",
       "      <td>4</td>\n",
       "    </tr>\n",
       "    <tr>\n",
       "      <th>4</th>\n",
       "      <td>0</td>\n",
       "      <td>12</td>\n",
       "      <td>0</td>\n",
       "      <td>0</td>\n",
       "      <td>4</td>\n",
       "    </tr>\n",
       "    <tr>\n",
       "      <th>...</th>\n",
       "      <td>...</td>\n",
       "      <td>...</td>\n",
       "      <td>...</td>\n",
       "      <td>...</td>\n",
       "      <td>...</td>\n",
       "    </tr>\n",
       "    <tr>\n",
       "      <th>563</th>\n",
       "      <td>1</td>\n",
       "      <td>105</td>\n",
       "      <td>1</td>\n",
       "      <td>1</td>\n",
       "      <td>1</td>\n",
       "    </tr>\n",
       "    <tr>\n",
       "      <th>564</th>\n",
       "      <td>1</td>\n",
       "      <td>107</td>\n",
       "      <td>0</td>\n",
       "      <td>0</td>\n",
       "      <td>1</td>\n",
       "    </tr>\n",
       "    <tr>\n",
       "      <th>565</th>\n",
       "      <td>1</td>\n",
       "      <td>107</td>\n",
       "      <td>1</td>\n",
       "      <td>1</td>\n",
       "      <td>1</td>\n",
       "    </tr>\n",
       "    <tr>\n",
       "      <th>566</th>\n",
       "      <td>1</td>\n",
       "      <td>109</td>\n",
       "      <td>1</td>\n",
       "      <td>1</td>\n",
       "      <td>2</td>\n",
       "    </tr>\n",
       "    <tr>\n",
       "      <th>567</th>\n",
       "      <td>1</td>\n",
       "      <td>113</td>\n",
       "      <td>1</td>\n",
       "      <td>1</td>\n",
       "      <td>2</td>\n",
       "    </tr>\n",
       "  </tbody>\n",
       "</table>\n",
       "<p>568 rows × 5 columns</p>\n",
       "</div>"
      ],
      "text/plain": [
       "     R    T  Y  Y_reject  N\n",
       "0    0    8  0         0  1\n",
       "1    0    9  0         0  2\n",
       "2    0   10  0         0  1\n",
       "3    0   11  0         0  4\n",
       "4    0   12  0         0  4\n",
       "..  ..  ... ..       ... ..\n",
       "563  1  105  1         1  1\n",
       "564  1  107  0         0  1\n",
       "565  1  107  1         1  1\n",
       "566  1  109  1         1  2\n",
       "567  1  113  1         1  2\n",
       "\n",
       "[568 rows x 5 columns]"
      ]
     },
     "execution_count": 28,
     "metadata": {},
     "output_type": "execute_result"
    }
   ],
   "source": [
    "dff"
   ]
  },
  {
   "cell_type": "code",
   "execution_count": 29,
   "metadata": {
    "execution": {
     "iopub.execute_input": "2022-07-18T22:07:32.982900Z",
     "iopub.status.busy": "2022-07-18T22:07:32.982532Z",
     "iopub.status.idle": "2022-07-18T22:07:32.983769Z",
     "shell.execute_reply": "2022-07-18T22:07:32.984056Z"
    }
   },
   "outputs": [],
   "source": [
    "applicant_stratum = []\n",
    "vars_cache = {}\n",
    "\n",
    "# Objective: Maximize the expected utility of the admitted students\n",
    "objective = solver.Objective()\n",
    "\n",
    "# For each stratum\n",
    "for ix, row in dff.iterrows():\n",
    "    # probability of admission\n",
    "    numvar = solver.NumVar(0.0, 1.0, str(ix))\n",
    "    \n",
    "    # store variable by index, and also by stratum R, T\n",
    "    applicant_stratum.append(numvar)\n",
    "    vars_cache[(row['R'],row['T'],row['Y'], row['Y_reject'])] = numvar\n",
    "    \n",
    "    # Benefit of admitting people is total utility in that stratum\n",
    "    objective.SetCoefficient(applicant_stratum[ix], float(row['N']))\n",
    "objective.SetMaximization()\n"
   ]
  },
  {
   "cell_type": "code",
   "execution_count": 30,
   "metadata": {
    "execution": {
     "iopub.execute_input": "2022-07-18T22:07:32.986363Z",
     "iopub.status.busy": "2022-07-18T22:07:32.985976Z",
     "iopub.status.idle": "2022-07-18T22:07:32.987568Z",
     "shell.execute_reply": "2022-07-18T22:07:32.987924Z"
    }
   },
   "outputs": [
    {
     "data": {
      "text/plain": [
       "0"
      ]
     },
     "execution_count": 30,
     "metadata": {},
     "output_type": "execute_result"
    }
   ],
   "source": [
    "# Currently we have no constraints \n",
    "solver.NumConstraints()"
   ]
  },
  {
   "cell_type": "code",
   "execution_count": 31,
   "metadata": {
    "execution": {
     "iopub.execute_input": "2022-07-18T22:07:33.000400Z",
     "iopub.status.busy": "2022-07-18T22:07:33.000034Z",
     "iopub.status.idle": "2022-07-18T22:07:33.001569Z",
     "shell.execute_reply": "2022-07-18T22:07:33.001811Z"
    },
    "scrolled": true
   },
   "outputs": [
    {
     "name": "stdout",
     "output_type": "stream",
     "text": [
      "500000\n"
     ]
    }
   ],
   "source": [
    "# Constraint: At most K applicants\n",
    "K = int(len(df)*FRAC_ADMIT)\n",
    "print(K)\n",
    "admit_quota = solver.Constraint(0, K)\n",
    "\n",
    "# Total applicants cannot exceed K \n",
    "for ix, row in dff.iterrows():\n",
    "    admit_quota.SetCoefficient(applicant_stratum[ix], float(row['N']))"
   ]
  },
  {
   "cell_type": "code",
   "execution_count": 32,
   "metadata": {
    "execution": {
     "iopub.execute_input": "2022-07-18T22:07:33.004068Z",
     "iopub.status.busy": "2022-07-18T22:07:33.003709Z",
     "iopub.status.idle": "2022-07-18T22:07:33.005200Z",
     "shell.execute_reply": "2022-07-18T22:07:33.005468Z"
    }
   },
   "outputs": [
    {
     "data": {
      "text/plain": [
       "1"
      ]
     },
     "execution_count": 32,
     "metadata": {},
     "output_type": "execute_result"
    }
   ],
   "source": [
    "# Now we have one constraint\n",
    "solver.NumConstraints()"
   ]
  },
  {
   "cell_type": "markdown",
   "metadata": {},
   "source": [
    "## Add Equalized Odds Constraints"
   ]
  },
  {
   "cell_type": "code",
   "execution_count": 33,
   "metadata": {
    "execution": {
     "iopub.execute_input": "2022-07-18T22:07:33.035615Z",
     "iopub.status.busy": "2022-07-18T22:07:33.035207Z",
     "iopub.status.idle": "2022-07-18T22:07:33.036832Z",
     "shell.execute_reply": "2022-07-18T22:07:33.037114Z"
    }
   },
   "outputs": [
    {
     "data": {
      "text/plain": [
       "(680, 1024)"
      ]
     },
     "execution_count": 33,
     "metadata": {},
     "output_type": "execute_result"
    }
   ],
   "source": [
    "## Make sure that you have to add all people in Y stratum or none\n",
    "## i.e. you can't add only people who pass boards and reject those who fail boards from same T, R stratum\n",
    "didntexist, exists = 0, 0 \n",
    "\n",
    "for ix, row in dff.iterrows():\n",
    "    \n",
    "    \n",
    "    var1 = vars_cache[(row['R'],row['T'],row['Y'], row['Y_reject'])]\n",
    "    key2s = [(row['R'],row['T'], 1-row['Y'], 1-row['Y_reject']), (row['R'],row['T'], row['Y'], 1-row['Y_reject']), (row['R'],row['T'], 1-row['Y'], row['Y_reject'])]\n",
    "    \n",
    "    for key2 in key2s:\n",
    "        constrain_bp = solver.Constraint(0.0, 0.0)\n",
    "        \n",
    "        if key2 not in vars_cache:\n",
    "            didntexist+=1\n",
    "            continue\n",
    "            \n",
    "        var2 = vars_cache[key2]\n",
    "        \n",
    "        constrain_bp.SetCoefficient(var1, -1.0)\n",
    "        constrain_bp.SetCoefficient(var2, 1.0)\n",
    "        exists+=1\n",
    "\n",
    "didntexist, exists"
   ]
  },
  {
   "cell_type": "code",
   "execution_count": 34,
   "metadata": {
    "execution": {
     "iopub.execute_input": "2022-07-18T22:07:33.043814Z",
     "iopub.status.busy": "2022-07-18T22:07:33.043435Z",
     "iopub.status.idle": "2022-07-18T22:07:33.045084Z",
     "shell.execute_reply": "2022-07-18T22:07:33.045453Z"
    }
   },
   "outputs": [
    {
     "data": {
      "text/plain": [
       "(114, 0, 96, 0)"
      ]
     },
     "execution_count": 34,
     "metadata": {},
     "output_type": "execute_result"
    }
   ],
   "source": [
    "majority_pass_boards_pass_boards_reject = []\n",
    "majority_fail_boards_pass_boards_reject = []\n",
    "minority_pass_boards_pass_boards_reject = []\n",
    "minority_fail_boards_pass_boards_reject = []\n",
    "majority_pass_boards_fail_boards_reject = []\n",
    "majority_fail_boards_fail_boards_reject = []\n",
    "minority_pass_boards_fail_boards_reject = []\n",
    "minority_fail_boards_fail_boards_reject = []\n",
    "\n",
    "\n",
    "for key in vars_cache:\n",
    "    r, t, Y, Y_reject = key\n",
    "    if Y == 1 and r==0 and Y_reject==1:\n",
    "        majority_pass_boards_pass_boards_reject.append(key)\n",
    "    elif Y == 0 and r==0 and Y_reject==1:\n",
    "        majority_fail_boards_pass_boards_reject.append(key)\n",
    "    elif Y == 1 and r==1 and Y_reject==1:\n",
    "        minority_pass_boards_pass_boards_reject.append(key)\n",
    "    elif Y == 0 and r==1 and Y_reject==1:\n",
    "        minority_fail_boards_pass_boards_reject.append(key)\n",
    "        \n",
    "    if Y == 1 and r==0 and Y_reject==0:\n",
    "        majority_pass_boards_fail_boards_reject.append(key)\n",
    "    elif Y == 0 and r==0 and Y_reject==0:\n",
    "        majority_fail_boards_fail_boards_reject.append(key)\n",
    "    elif Y == 1 and r==1 and Y_reject==0:\n",
    "        minority_pass_boards_fail_boards_reject.append(key)\n",
    "    elif Y == 0 and r==1 and Y_reject==0:\n",
    "        minority_fail_boards_fail_boards_reject.append(key)\n",
    "\n",
    "len(majority_pass_boards_pass_boards_reject),len(majority_fail_boards_pass_boards_reject),len(minority_pass_boards_pass_boards_reject),len(minority_fail_boards_pass_boards_reject)\n",
    "\n",
    "\n"
   ]
  },
  {
   "cell_type": "code",
   "execution_count": 35,
   "metadata": {
    "execution": {
     "iopub.execute_input": "2022-07-18T22:07:33.063922Z",
     "iopub.status.busy": "2022-07-18T22:07:33.063578Z",
     "iopub.status.idle": "2022-07-18T22:07:33.064862Z",
     "shell.execute_reply": "2022-07-18T22:07:33.065161Z"
    }
   },
   "outputs": [],
   "source": [
    "NUM_TOTALS = {}\n",
    "df_totals = dff[['N','R','Y','Y_reject']].groupby(['R','Y','Y_reject']).sum().reset_index()\n",
    "for ix, row in df_totals.iterrows():\n",
    "    NUM_TOTALS[(row['R'],row['Y'],row['Y_reject'])] = row['N']\n",
    "    \n",
    "N_IN_STRATAS = {}\n",
    "for ix, row in dff.iterrows():\n",
    "    N_IN_STRATAS[(row['R'],row['T'],row['Y'],row['Y_reject'])] = row['N']"
   ]
  },
  {
   "cell_type": "code",
   "execution_count": 36,
   "metadata": {
    "execution": {
     "iopub.execute_input": "2022-07-18T22:07:33.067495Z",
     "iopub.status.busy": "2022-07-18T22:07:33.067055Z",
     "iopub.status.idle": "2022-07-18T22:07:33.068709Z",
     "shell.execute_reply": "2022-07-18T22:07:33.068991Z"
    }
   },
   "outputs": [
    {
     "data": {
      "text/plain": [
       "1705"
      ]
     },
     "execution_count": 36,
     "metadata": {},
     "output_type": "execute_result"
    }
   ],
   "source": [
    "# Now we have one constraint\n",
    "solver.NumConstraints()"
   ]
  },
  {
   "cell_type": "code",
   "execution_count": 37,
   "metadata": {
    "execution": {
     "iopub.execute_input": "2022-07-18T22:07:33.073443Z",
     "iopub.status.busy": "2022-07-18T22:07:33.073089Z",
     "iopub.status.idle": "2022-07-18T22:07:33.074340Z",
     "shell.execute_reply": "2022-07-18T22:07:33.074677Z"
    }
   },
   "outputs": [],
   "source": [
    "#Of those who pass the boards exams, pass boards exams if rejected\n",
    "#Frac majority admitted and frac minority admitted should be the same\n",
    "\n",
    "constrain_pass_boards_pass_boards_reject = solver.Constraint(0.0, 0.0)\n",
    "\n",
    "for key in majority_pass_boards_pass_boards_reject:\n",
    "    r, t, Y, Y_reject = key\n",
    "    N_IN_STRATUM = N_IN_STRATAS[(r,t,Y, Y_reject)]\n",
    "    N_TOTAL = NUM_TOTALS[(r,Y, Y_reject)]\n",
    "    \n",
    "    constrain_pass_boards_pass_boards_reject.SetCoefficient(vars_cache[key], float(N_IN_STRATUM) / float(N_TOTAL))\n",
    "\n",
    "for key in minority_pass_boards_pass_boards_reject:\n",
    "    r, t, Y, Y_reject = key\n",
    "    N_IN_STRATUM = N_IN_STRATAS[(r,t,Y, Y_reject)]\n",
    "    N_TOTAL = NUM_TOTALS[(r,Y, Y_reject)]\n",
    "    \n",
    "    constrain_pass_boards_pass_boards_reject.SetCoefficient(vars_cache[key], -1.0 * (float(N_IN_STRATUM) / float(N_TOTAL)))\n"
   ]
  },
  {
   "cell_type": "code",
   "execution_count": 38,
   "metadata": {
    "execution": {
     "iopub.execute_input": "2022-07-18T22:07:33.078126Z",
     "iopub.status.busy": "2022-07-18T22:07:33.077766Z",
     "iopub.status.idle": "2022-07-18T22:07:33.079147Z",
     "shell.execute_reply": "2022-07-18T22:07:33.079506Z"
    }
   },
   "outputs": [],
   "source": [
    "#Of those who fail the boards exams, pass boards exams if rejected\n",
    "#Frac majority admitted and frac minority admitted should be the same\n",
    "\n",
    "constrain_fail_boards_pass_boards_reject = solver.Constraint(0.0, 0.0)\n",
    "\n",
    "for key in majority_fail_boards_pass_boards_reject:\n",
    "    r, t, Y, Y_reject = key\n",
    "    N_IN_STRATUM = N_IN_STRATAS[(r,t,Y, Y_reject)]\n",
    "    N_TOTAL = NUM_TOTALS[(r,Y, Y_reject)]\n",
    "    \n",
    "    constrain_fail_boards_pass_boards_reject.SetCoefficient(vars_cache[key], float(N_IN_STRATUM) / float(N_TOTAL))\n",
    "\n",
    "for key in minority_fail_boards_pass_boards_reject:\n",
    "    r, t, Y, Y_reject = key\n",
    "    N_IN_STRATUM = N_IN_STRATAS[(r,t,Y, Y_reject)]\n",
    "    N_TOTAL = NUM_TOTALS[(r,Y, Y_reject)]\n",
    "    \n",
    "    constrain_fail_boards_pass_boards_reject.SetCoefficient(vars_cache[key], -1.0 * (float(N_IN_STRATUM) / float(N_TOTAL)))\n"
   ]
  },
  {
   "cell_type": "code",
   "execution_count": 39,
   "metadata": {
    "execution": {
     "iopub.execute_input": "2022-07-18T22:07:33.086032Z",
     "iopub.status.busy": "2022-07-18T22:07:33.085672Z",
     "iopub.status.idle": "2022-07-18T22:07:33.086988Z",
     "shell.execute_reply": "2022-07-18T22:07:33.087274Z"
    }
   },
   "outputs": [],
   "source": [
    "constrain_pass_boards_fail_boards_reject = solver.Constraint(0.0, 0.0)\n",
    "\n",
    "for key in majority_pass_boards_fail_boards_reject:\n",
    "    r, t, Y, Y_reject = key\n",
    "    N_IN_STRATUM = N_IN_STRATAS[(r,t,Y, Y_reject)]\n",
    "    N_TOTAL = NUM_TOTALS[(r,Y, Y_reject)]\n",
    "    \n",
    "    constrain_pass_boards_fail_boards_reject.SetCoefficient(vars_cache[key], float(N_IN_STRATUM) / float(N_TOTAL))\n",
    "\n",
    "for key in minority_pass_boards_fail_boards_reject:\n",
    "    r, t, Y, Y_reject = key\n",
    "    N_IN_STRATUM = N_IN_STRATAS[(r,t,Y, Y_reject)]\n",
    "    N_TOTAL = NUM_TOTALS[(r,Y, Y_reject)]\n",
    "    \n",
    "    constrain_pass_boards_fail_boards_reject.SetCoefficient(vars_cache[key], -1.0 * (float(N_IN_STRATUM) / float(N_TOTAL)))\n",
    "\n",
    "    \n",
    "#Of those who fail the boards exams, fail boards exams if rejected\n",
    "#Frac majority admitted and frac minority admitted should be the same\n",
    "\n",
    "constrain_fail_boards_fail_boards_reject = solver.Constraint(0.0, 0.0)\n",
    "\n",
    "for key in majority_fail_boards_fail_boards_reject:\n",
    "    r, t, Y, Y_reject = key\n",
    "    N_IN_STRATUM = N_IN_STRATAS[(r,t,Y, Y_reject)]\n",
    "    N_TOTAL = NUM_TOTALS[(r,Y, Y_reject)]\n",
    "    \n",
    "    constrain_fail_boards_fail_boards_reject.SetCoefficient(vars_cache[key], float(N_IN_STRATUM) / float(N_TOTAL))\n",
    "\n",
    "for key in minority_fail_boards_fail_boards_reject:\n",
    "    r, t, Y, Y_reject = key\n",
    "    N_IN_STRATUM = N_IN_STRATAS[(r,t,Y, Y_reject)]\n",
    "    N_TOTAL = NUM_TOTALS[(r,Y, Y_reject)]\n",
    "    \n",
    "    constrain_fail_boards_fail_boards_reject.SetCoefficient(vars_cache[key], -1.0 * (float(N_IN_STRATUM) / float(N_TOTAL)))\n"
   ]
  },
  {
   "cell_type": "markdown",
   "metadata": {},
   "source": [
    "## Add outcome constraints"
   ]
  },
  {
   "cell_type": "code",
   "execution_count": 40,
   "metadata": {},
   "outputs": [],
   "source": [
    "constrain_graduate = solver.Constraint(0, 0)\n",
    "\n",
    "for ix, row in dff.iterrows():\n",
    "    \n",
    "    key = (row['R'],row['T'],row['Y'],row['Y_reject'])\n",
    "    n_graduate = row['Y'] * row['N']\n",
    "    constrain_graduate.SetCoefficient(vars_cache[key], float(n_graduate))\n",
    "\n",
    "constrain_black_admit = solver.Constraint(0, 0)\n",
    "\n",
    "for ix, row in dff.iterrows():\n",
    "    key = (row['R'],row['T'],row['Y'],row['Y_reject'])\n",
    "    n_black = row['R'] * row['N']\n",
    "    constrain_black_admit.SetCoefficient(vars_cache[key], float(n_black))\n"
   ]
  },
  {
   "cell_type": "markdown",
   "metadata": {},
   "source": [
    "## Solve linear program"
   ]
  },
  {
   "cell_type": "code",
   "execution_count": 41,
   "metadata": {
    "execution": {
     "iopub.execute_input": "2022-07-18T22:07:33.089749Z",
     "iopub.status.busy": "2022-07-18T22:07:33.089388Z",
     "iopub.status.idle": "2022-07-18T22:07:33.090959Z",
     "shell.execute_reply": "2022-07-18T22:07:33.091240Z"
    },
    "scrolled": true
   },
   "outputs": [
    {
     "name": "stdout",
     "output_type": "stream",
     "text": [
      "Total grid cells to check: 63021\n",
      "Total grid cells checked so far: 100/63021\n",
      "Total grid cells checked so far: 200/63021\n",
      "Total grid cells checked so far: 300/63021\n",
      "Total grid cells checked so far: 400/63021\n",
      "Total grid cells checked so far: 500/63021\n",
      "Total grid cells checked so far: 600/63021\n",
      "Total grid cells checked so far: 700/63021\n",
      "Total grid cells checked so far: 800/63021\n",
      "Total grid cells checked so far: 900/63021\n",
      "Total grid cells checked so far: 1000/63021\n",
      "Total grid cells checked so far: 1100/63021\n",
      "Total grid cells checked so far: 1200/63021\n",
      "Total grid cells checked so far: 1300/63021\n",
      "Total grid cells checked so far: 1400/63021\n",
      "Total grid cells checked so far: 1500/63021\n",
      "Total grid cells checked so far: 1600/63021\n",
      "Total grid cells checked so far: 1700/63021\n",
      "Total grid cells checked so far: 1800/63021\n",
      "Total grid cells checked so far: 1900/63021\n",
      "Total grid cells checked so far: 2000/63021\n",
      "Total grid cells checked so far: 2100/63021\n",
      "Total grid cells checked so far: 2200/63021\n",
      "Total grid cells checked so far: 2300/63021\n",
      "Total grid cells checked so far: 2400/63021\n",
      "Total grid cells checked so far: 2500/63021\n",
      "Total grid cells checked so far: 2600/63021\n",
      "Total grid cells checked so far: 2700/63021\n",
      "Total grid cells checked so far: 2800/63021\n",
      "Total grid cells checked so far: 2900/63021\n",
      "Total grid cells checked so far: 3000/63021\n",
      "Total grid cells checked so far: 3100/63021\n",
      "Total grid cells checked so far: 3200/63021\n",
      "Total grid cells checked so far: 3300/63021\n",
      "Total grid cells checked so far: 3400/63021\n",
      "Total grid cells checked so far: 3500/63021\n",
      "Total grid cells checked so far: 3600/63021\n",
      "Total grid cells checked so far: 3700/63021\n",
      "Total grid cells checked so far: 3800/63021\n",
      "Total grid cells checked so far: 3900/63021\n",
      "Total grid cells checked so far: 4000/63021\n",
      "Total grid cells checked so far: 4100/63021\n",
      "Total grid cells checked so far: 4200/63021\n",
      "Total grid cells checked so far: 4300/63021\n",
      "Total grid cells checked so far: 4400/63021\n",
      "Total grid cells checked so far: 4500/63021\n",
      "Total grid cells checked so far: 4600/63021\n",
      "Total grid cells checked so far: 4700/63021\n",
      "Total grid cells checked so far: 4800/63021\n",
      "Total grid cells checked so far: 4900/63021\n",
      "Total grid cells checked so far: 5000/63021\n",
      "Total grid cells checked so far: 5100/63021\n",
      "Total grid cells checked so far: 5200/63021\n",
      "Total grid cells checked so far: 5300/63021\n",
      "Total grid cells checked so far: 5400/63021\n",
      "Total grid cells checked so far: 5500/63021\n",
      "Total grid cells checked so far: 5600/63021\n",
      "Total grid cells checked so far: 5700/63021\n",
      "Total grid cells checked so far: 5800/63021\n",
      "Total grid cells checked so far: 5900/63021\n",
      "Total grid cells checked so far: 6000/63021\n",
      "Total grid cells checked so far: 6100/63021\n",
      "Total grid cells checked so far: 6200/63021\n",
      "Total grid cells checked so far: 6300/63021\n",
      "Total grid cells checked so far: 6400/63021\n",
      "Total grid cells checked so far: 6500/63021\n",
      "Total grid cells checked so far: 6600/63021\n",
      "Total grid cells checked so far: 6700/63021\n",
      "Total grid cells checked so far: 6800/63021\n",
      "Total grid cells checked so far: 6900/63021\n",
      "Total grid cells checked so far: 7000/63021\n",
      "Total grid cells checked so far: 7100/63021\n",
      "Total grid cells checked so far: 7200/63021\n",
      "Total grid cells checked so far: 7300/63021\n",
      "Total grid cells checked so far: 7400/63021\n",
      "Total grid cells checked so far: 7500/63021\n",
      "Total grid cells checked so far: 7600/63021\n",
      "Total grid cells checked so far: 7700/63021\n",
      "Total grid cells checked so far: 7800/63021\n",
      "Total grid cells checked so far: 7900/63021\n",
      "Total grid cells checked so far: 8000/63021\n",
      "Total grid cells checked so far: 8100/63021\n",
      "Total grid cells checked so far: 8200/63021\n",
      "Total grid cells checked so far: 8300/63021\n",
      "Total grid cells checked so far: 8400/63021\n",
      "Total grid cells checked so far: 8500/63021\n",
      "Total grid cells checked so far: 8600/63021\n",
      "Total grid cells checked so far: 8700/63021\n",
      "Total grid cells checked so far: 8800/63021\n",
      "Total grid cells checked so far: 8900/63021\n",
      "Total grid cells checked so far: 9000/63021\n",
      "Total grid cells checked so far: 9100/63021\n",
      "Total grid cells checked so far: 9200/63021\n",
      "Total grid cells checked so far: 9300/63021\n",
      "Total grid cells checked so far: 9400/63021\n",
      "Total grid cells checked so far: 9500/63021\n",
      "Total grid cells checked so far: 9600/63021\n",
      "Total grid cells checked so far: 9700/63021\n",
      "Total grid cells checked so far: 9800/63021\n",
      "Total grid cells checked so far: 9900/63021\n",
      "Total grid cells checked so far: 10000/63021\n",
      "Total grid cells checked so far: 10100/63021\n",
      "Total grid cells checked so far: 10200/63021\n",
      "Total grid cells checked so far: 10300/63021\n",
      "Total grid cells checked so far: 10400/63021\n",
      "Total grid cells checked so far: 10500/63021\n",
      "Total grid cells checked so far: 10600/63021\n",
      "Total grid cells checked so far: 10700/63021\n",
      "Total grid cells checked so far: 10800/63021\n",
      "Total grid cells checked so far: 10900/63021\n",
      "Total grid cells checked so far: 11000/63021\n",
      "Total grid cells checked so far: 11100/63021\n",
      "Total grid cells checked so far: 11200/63021\n",
      "Total grid cells checked so far: 11300/63021\n",
      "Total grid cells checked so far: 11400/63021\n",
      "Total grid cells checked so far: 11500/63021\n",
      "Total grid cells checked so far: 11600/63021\n",
      "Total grid cells checked so far: 11700/63021\n",
      "Total grid cells checked so far: 11800/63021\n",
      "Total grid cells checked so far: 11900/63021\n",
      "Total grid cells checked so far: 12000/63021\n",
      "Total grid cells checked so far: 12100/63021\n",
      "Total grid cells checked so far: 12200/63021\n",
      "Total grid cells checked so far: 12300/63021\n",
      "Total grid cells checked so far: 12400/63021\n",
      "Total grid cells checked so far: 12500/63021\n",
      "Total grid cells checked so far: 12600/63021\n",
      "Total grid cells checked so far: 12700/63021\n",
      "Total grid cells checked so far: 12800/63021\n",
      "Total grid cells checked so far: 12900/63021\n",
      "Total grid cells checked so far: 13000/63021\n",
      "Total grid cells checked so far: 13100/63021\n",
      "Total grid cells checked so far: 13200/63021\n",
      "Total grid cells checked so far: 13300/63021\n",
      "Total grid cells checked so far: 13400/63021\n",
      "Total grid cells checked so far: 13500/63021\n",
      "Total grid cells checked so far: 13600/63021\n",
      "Total grid cells checked so far: 13700/63021\n",
      "Total grid cells checked so far: 13800/63021\n",
      "Total grid cells checked so far: 13900/63021\n",
      "Total grid cells checked so far: 14000/63021\n",
      "Total grid cells checked so far: 14100/63021\n",
      "Total grid cells checked so far: 14200/63021\n",
      "Total grid cells checked so far: 14300/63021\n",
      "Total grid cells checked so far: 14400/63021\n"
     ]
    }
   ],
   "source": [
    "count = 0 \n",
    "\n",
    "print ('Total grid cells to check: {}'.format(len(outcomes_grid)))\n",
    "\n",
    "for region in outcomes_grid:\n",
    "    constrain_graduate.SetBounds(float(region['min_graduates']), float(region['max_graduates']))\n",
    "    constrain_black_admit.SetBounds(float(region['min_black_admits']), float(region['max_black_admits']))\n",
    "    status = solver.Solve()\n",
    "    if status == 0:\n",
    "        region['policy_exists'] = 1\n",
    "        \n",
    "        row = []\n",
    "        admit = []\n",
    "\n",
    "        for i in applicant_stratum:\n",
    "            row.append(int(str(i)))\n",
    "            admit.append(i.solution_value())\n",
    "        #df_decisions = pd.DataFrame({'row_id':row,'decision':admit})\n",
    "        region['policy'] = (row,admit)    \n",
    "    else:\n",
    "        continue\n",
    "        #print(status)\n",
    "        \n",
    "    count+=1\n",
    "    \n",
    "    if count % 100 ==0:\n",
    "        print ('Total grid cells checked so far: {}/{}'.format(count,len(outcomes_grid)))\n",
    "\n",
    "\n"
   ]
  },
  {
   "cell_type": "code",
   "execution_count": 46,
   "metadata": {},
   "outputs": [],
   "source": [
    "import pickle \n",
    "file = open(\"Fruits.obj\",'rb')\n",
    "outcomes_grid2 = pickle.load(file)\n",
    "file.close()\n"
   ]
  },
  {
   "cell_type": "code",
   "execution_count": 47,
   "metadata": {},
   "outputs": [
    {
     "data": {
      "text/html": [
       "<div>\n",
       "<style scoped>\n",
       "    .dataframe tbody tr th:only-of-type {\n",
       "        vertical-align: middle;\n",
       "    }\n",
       "\n",
       "    .dataframe tbody tr th {\n",
       "        vertical-align: top;\n",
       "    }\n",
       "\n",
       "    .dataframe thead th {\n",
       "        text-align: right;\n",
       "    }\n",
       "</style>\n",
       "<table border=\"1\" class=\"dataframe\">\n",
       "  <thead>\n",
       "    <tr style=\"text-align: right;\">\n",
       "      <th></th>\n",
       "      <th>Policy Name</th>\n",
       "      <th>Frac Diverse Candidates</th>\n",
       "      <th>Total Graduated</th>\n",
       "    </tr>\n",
       "  </thead>\n",
       "  <tbody>\n",
       "    <tr>\n",
       "      <th>0</th>\n",
       "      <td>Random</td>\n",
       "      <td>0.333515</td>\n",
       "      <td>21859.000000</td>\n",
       "    </tr>\n",
       "    <tr>\n",
       "      <th>1</th>\n",
       "      <td>Maximize Utility</td>\n",
       "      <td>0.381300</td>\n",
       "      <td>29476.446379</td>\n",
       "    </tr>\n",
       "    <tr>\n",
       "      <th>2</th>\n",
       "      <td>Counterfactual Fairness</td>\n",
       "      <td>0.332824</td>\n",
       "      <td>22021.879847</td>\n",
       "    </tr>\n",
       "    <tr>\n",
       "      <th>3</th>\n",
       "      <td>Path-Specific Fairness</td>\n",
       "      <td>0.332654</td>\n",
       "      <td>22037.819067</td>\n",
       "    </tr>\n",
       "    <tr>\n",
       "      <th>4</th>\n",
       "      <td>Counterfactual Equalized Odds</td>\n",
       "      <td>0.308245</td>\n",
       "      <td>29945.658086</td>\n",
       "    </tr>\n",
       "    <tr>\n",
       "      <th>5</th>\n",
       "      <td>Principal Fairness</td>\n",
       "      <td>0.308358</td>\n",
       "      <td>29534.758747</td>\n",
       "    </tr>\n",
       "    <tr>\n",
       "      <th>6</th>\n",
       "      <td>Counterfactual Pred. Parity</td>\n",
       "      <td>0.555653</td>\n",
       "      <td>25032.000000</td>\n",
       "    </tr>\n",
       "    <tr>\n",
       "      <th>7</th>\n",
       "      <td>Principal Fairness</td>\n",
       "      <td>0.306796</td>\n",
       "      <td>293445.544045</td>\n",
       "    </tr>\n",
       "    <tr>\n",
       "      <th>8</th>\n",
       "      <td>Counterfactual Equalized Odds</td>\n",
       "      <td>0.305994</td>\n",
       "      <td>299244.972711</td>\n",
       "    </tr>\n",
       "  </tbody>\n",
       "</table>\n",
       "</div>"
      ],
      "text/plain": [
       "                     Policy Name  Frac Diverse Candidates  Total Graduated\n",
       "0                         Random                 0.333515     21859.000000\n",
       "1               Maximize Utility                 0.381300     29476.446379\n",
       "2        Counterfactual Fairness                 0.332824     22021.879847\n",
       "3         Path-Specific Fairness                 0.332654     22037.819067\n",
       "4  Counterfactual Equalized Odds                 0.308245     29945.658086\n",
       "5             Principal Fairness                 0.308358     29534.758747\n",
       "6    Counterfactual Pred. Parity                 0.555653     25032.000000\n",
       "7             Principal Fairness                 0.306796    293445.544045\n",
       "8  Counterfactual Equalized Odds                 0.305994    299244.972711"
      ]
     },
     "execution_count": 47,
     "metadata": {},
     "output_type": "execute_result"
    }
   ],
   "source": [
    "dn = pd.read_csv('./lp_results.csv',sep='\\t')\n",
    "\n",
    "dn\n"
   ]
  },
  {
   "cell_type": "code",
   "execution_count": 48,
   "metadata": {},
   "outputs": [
    {
     "data": {
      "image/png": "[encoded data removed]",
      "text/plain": [
       "<Figure size 842.4x595.44 with 1 Axes>"
      ]
     },
     "metadata": {},
     "output_type": "display_data"
    }
   ],
   "source": [
    "import seaborn as sns\n",
    "import matplotlib.ticker as ticker\n",
    "from matplotlib.patches import Rectangle\n",
    "from matplotlib.collections import PatchCollection\n",
    "\n",
    "sns.set(rc={'figure.figsize':(11.7,8.27)})\n",
    "sns.set(style=\"white\", font_scale=1.5, )\n",
    "ax = sns.lineplot(data=df_pareto, x='# Black Admits', y='# Graduates',linewidth=5)\n",
    "errorboxes = []\n",
    "\n",
    "for outcome_block in outcomes_grid:\n",
    "    if outcome_block['policy_exists'] == 1:\n",
    "        errorboxes.append(Rectangle((outcome_block['min_black_admits'] , outcome_block['min_graduates']),GRID_SIZE,GRID_SIZE))\n",
    "\n",
    "pc = PatchCollection(errorboxes, facecolor='red', alpha=0.5,  edgecolor='none')\n",
    "                       \n",
    "ax.add_collection(pc)\n",
    "\n",
    "errorboxes2 = []\n",
    "\n",
    "for outcome_block in outcomes_grid2:\n",
    "    if outcome_block['policy_exists'] == 1:\n",
    "        errorboxes2.append(Rectangle((outcome_block['min_black_admits'] , outcome_block['min_graduates']),GRID_SIZE,GRID_SIZE))\n",
    "\n",
    "pc2 = PatchCollection(errorboxes2, facecolor='blue', alpha=0.5,  edgecolor='none')\n",
    "                       \n",
    "ax.add_collection(pc2)\n",
    "\n",
    "\n",
    "plt.scatter(x=(df['R']*0.5).sum(),y=(df['Y']*0.5).sum(),color='green')   \n",
    "plt.scatter(x=0.306796*len(df)*FRAC_ADMIT,y=293445.544045,color='red')   \n",
    "plt.scatter(x=0.305994*len(df)*FRAC_ADMIT,y=299244.972711,color='blue')   \n",
    "\n",
    "plt.xlim([0, MAX_BLACK_ADMITS])\n",
    "plt.ylim([df_pareto['# Graduates'].min()-20000, df_pareto['# Graduates'].max()+10000])\n",
    "plt.show()\n",
    "\n",
    "\n",
    "    \n"
   ]
  },
  {
   "cell_type": "code",
   "execution_count": 45,
   "metadata": {},
   "outputs": [
    {
     "data": {
      "image/png": "[encoded data removed]",
      "text/plain": [
       "<Figure size 842.4x595.44 with 1 Axes>"
      ]
     },
     "metadata": {},
     "output_type": "display_data"
    }
   ],
   "source": [
    "import seaborn as sns\n",
    "import matplotlib.ticker as ticker\n",
    "from matplotlib.patches import Rectangle\n",
    "from matplotlib.collections import PatchCollection\n",
    "\n",
    "sns.set(rc={'figure.figsize':(11.7,8.27)})\n",
    "sns.set(style=\"white\", font_scale=1.5, )\n",
    "ax = sns.lineplot(data=df_pareto, x='# Black Admits', y='# Graduates',linewidth=5)\n",
    "errorboxes = []\n",
    "\n",
    "for outcome_block in outcomes_grid:\n",
    "    if outcome_block['policy_exists'] == 1:\n",
    "        errorboxes.append(Rectangle((outcome_block['min_black_admits'] , outcome_block['min_graduates']),GRID_SIZE,GRID_SIZE))\n",
    "\n",
    "pc = PatchCollection(errorboxes, facecolor='red', alpha=0.5,  edgecolor='none')\n",
    "                       \n",
    "ax.add_collection(pc)\n",
    "\n",
    "\n",
    "\n",
    "plt.scatter(x=(df['R']*0.5).sum(),y=(df['Y']*0.5).sum(),color='green')   \n",
    "plt.scatter(x=0.306796*len(df)*FRAC_ADMIT,y=293445.544045,color='red')   \n",
    "\n",
    "plt.xlim([0, MAX_BLACK_ADMITS])\n",
    "plt.ylim([df_pareto['# Graduates'].min()-20000, df_pareto['# Graduates'].max()+10000])\n",
    "plt.show()\n",
    "\n",
    "\n",
    "    \n"
   ]
  },
  {
   "cell_type": "code",
   "execution_count": 34,
   "metadata": {},
   "outputs": [
    {
     "data": {
      "image/png": "[encoded data removed]",
      "text/plain": [
       "<Figure size 842.4x595.44 with 1 Axes>"
      ]
     },
     "metadata": {},
     "output_type": "display_data"
    }
   ],
   "source": [
    "import seaborn as sns\n",
    "import matplotlib.ticker as ticker\n",
    "from matplotlib.patches import Rectangle\n",
    "from matplotlib.collections import PatchCollection\n",
    "\n",
    "sns.set(rc={'figure.figsize':(11.7,8.27)})\n",
    "sns.set(style=\"white\", font_scale=1.5, )\n",
    "ax = sns.lineplot(data=df_pareto, x='# Black Admits', y='# Graduates',linewidth=5)\n",
    "\n",
    "errorboxes2 = []\n",
    "\n",
    "for outcome_block in outcomes_grid2:\n",
    "    if outcome_block['policy_exists'] == 1:\n",
    "        errorboxes2.append(Rectangle((outcome_block['min_black_admits'] , outcome_block['min_graduates']),GRID_SIZE,GRID_SIZE))\n",
    "\n",
    "pc2 = PatchCollection(errorboxes2, facecolor='blue', alpha=0.5,  edgecolor='none')\n",
    "                       \n",
    "ax.add_collection(pc2)\n",
    "\n",
    "\n",
    "plt.scatter(x=(df['R']*0.5).sum(),y=(df['Y']*0.5).sum(),color='green')   \n",
    "plt.scatter(x=0.308245*len(df)*FRAC_ADMIT,y=29945.658086,color='blue')   \n",
    "\n",
    "plt.xlim([0, MAX_BLACK_ADMITS])\n",
    "plt.ylim([df_pareto['# Graduates'].min()-2000, df_pareto['# Graduates'].max()+1000])\n",
    "plt.show()\n",
    "\n",
    "\n",
    "    \n"
   ]
  },
  {
   "cell_type": "code",
   "execution_count": null,
   "metadata": {},
   "outputs": [],
   "source": []
  }
 ],
 "metadata": {
  "kernelspec": {
   "display_name": "Python 3 (ipykernel)",
   "language": "python",
   "name": "python3"
  },
  "language_info": {
   "codemirror_mode": {
    "name": "ipython",
    "version": 3
   },
   "file_extension": ".py",
   "mimetype": "text/x-python",
   "name": "python",
   "nbconvert_exporter": "python",
   "pygments_lexer": "ipython3",
   "version": "3.9.7"
  }
 },
 "nbformat": 4,
 "nbformat_minor": 4
}
