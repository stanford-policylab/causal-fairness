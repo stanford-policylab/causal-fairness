{
 "cells": [
  {
   "cell_type": "code",
   "execution_count": 1,
   "metadata": {
    "execution": {
     "iopub.execute_input": "2022-01-20T04:28:12.689694Z",
     "iopub.status.busy": "2022-01-20T04:28:12.689152Z",
     "iopub.status.idle": "2022-01-20T04:28:14.388122Z",
     "shell.execute_reply": "2022-01-20T04:28:14.388433Z"
    }
   },
   "outputs": [],
   "source": [
    "import numpy as np\n",
    "import pandas as pd\n",
    "import matplotlib.pyplot as plt\n",
    "import seaborn as sns\n",
    "import random\n",
    "pd.options.display.max_rows = 10\n",
    "pd.options.display.max_columns = 500"
   ]
  },
  {
   "cell_type": "code",
   "execution_count": 2,
   "metadata": {
    "execution": {
     "iopub.execute_input": "2022-01-20T04:28:14.391698Z",
     "iopub.status.busy": "2022-01-20T04:28:14.391267Z",
     "iopub.status.idle": "2022-01-20T04:28:18.621718Z",
     "shell.execute_reply": "2022-01-20T04:28:18.621996Z"
    }
   },
   "outputs": [],
   "source": [
    "###\n",
    "## Load dataframe where each row is a single applicant\n",
    "###\n",
    "\n",
    "df = pd.read_csv('./df_test.csv')\n",
    "df['ml_outcomes'] = df['ml_outcomes_div'].round(2)# + df['R']*0.13\n",
    "#df['T'] = df['T'].round(2)#\n"
   ]
  },
  {
   "cell_type": "code",
   "execution_count": 3,
   "metadata": {
    "execution": {
     "iopub.execute_input": "2022-01-20T04:28:18.625128Z",
     "iopub.status.busy": "2022-01-20T04:28:18.624715Z",
     "iopub.status.idle": "2022-01-20T04:28:18.666570Z",
     "shell.execute_reply": "2022-01-20T04:28:18.666953Z"
    }
   },
   "outputs": [
    {
     "data": {
      "text/plain": [
       "count    1000000.000000\n",
       "mean           0.523725\n",
       "std            0.198167\n",
       "min            0.020000\n",
       "25%            0.380000\n",
       "50%            0.510000\n",
       "75%            0.660000\n",
       "max            1.230000\n",
       "Name: ml_outcomes, dtype: float64"
      ]
     },
     "execution_count": 3,
     "metadata": {},
     "output_type": "execute_result"
    }
   ],
   "source": [
    "df['ml_outcomes'].describe()"
   ]
  },
  {
   "cell_type": "code",
   "execution_count": 4,
   "metadata": {
    "execution": {
     "iopub.execute_input": "2022-01-20T04:28:18.671331Z",
     "iopub.status.busy": "2022-01-20T04:28:18.670897Z",
     "iopub.status.idle": "2022-01-20T04:28:18.672577Z",
     "shell.execute_reply": "2022-01-20T04:28:18.672905Z"
    }
   },
   "outputs": [
    {
     "data": {
      "text/plain": [
       "0         62\n",
       "1         53\n",
       "2         60\n",
       "3         42\n",
       "4         40\n",
       "          ..\n",
       "999995    71\n",
       "999996    48\n",
       "999997    47\n",
       "999998    50\n",
       "999999    46\n",
       "Name: T, Length: 1000000, dtype: int64"
      ]
     },
     "execution_count": 4,
     "metadata": {},
     "output_type": "execute_result"
    }
   ],
   "source": [
    "df['T']"
   ]
  },
  {
   "cell_type": "code",
   "execution_count": 5,
   "metadata": {
    "execution": {
     "iopub.execute_input": "2022-01-20T04:28:18.677883Z",
     "iopub.status.busy": "2022-01-20T04:28:18.677440Z",
     "iopub.status.idle": "2022-01-20T04:28:18.679715Z",
     "shell.execute_reply": "2022-01-20T04:28:18.680059Z"
    },
    "scrolled": true
   },
   "outputs": [],
   "source": [
    "FRAC_ADMIT = df[['A']].sum()/len(df)\n"
   ]
  },
  {
   "cell_type": "code",
   "execution_count": 6,
   "metadata": {
    "execution": {
     "iopub.execute_input": "2022-01-20T04:28:18.683877Z",
     "iopub.status.busy": "2022-01-20T04:28:18.683354Z",
     "iopub.status.idle": "2022-01-20T04:28:18.685464Z",
     "shell.execute_reply": "2022-01-20T04:28:18.685762Z"
    }
   },
   "outputs": [
    {
     "data": {
      "text/plain": [
       "A    0.485361\n",
       "dtype: float64"
      ]
     },
     "execution_count": 6,
     "metadata": {},
     "output_type": "execute_result"
    }
   ],
   "source": [
    "FRAC_ADMIT"
   ]
  },
  {
   "cell_type": "code",
   "execution_count": 7,
   "metadata": {
    "execution": {
     "iopub.execute_input": "2022-01-20T04:28:18.688866Z",
     "iopub.status.busy": "2022-01-20T04:28:18.688229Z",
     "iopub.status.idle": "2022-01-20T04:28:18.690536Z",
     "shell.execute_reply": "2022-01-20T04:28:18.690956Z"
    }
   },
   "outputs": [
    {
     "data": {
      "text/plain": [
       "1000000"
      ]
     },
     "execution_count": 7,
     "metadata": {},
     "output_type": "execute_result"
    }
   ],
   "source": [
    "len(df)"
   ]
  },
  {
   "cell_type": "code",
   "execution_count": 8,
   "metadata": {
    "execution": {
     "iopub.execute_input": "2022-01-20T04:28:18.694040Z",
     "iopub.status.busy": "2022-01-20T04:28:18.693623Z",
     "iopub.status.idle": "2022-01-20T04:28:18.813926Z",
     "shell.execute_reply": "2022-01-20T04:28:18.814223Z"
    }
   },
   "outputs": [
    {
     "data": {
      "text/plain": [
       "<AxesSubplot:>"
      ]
     },
     "execution_count": 8,
     "metadata": {},
     "output_type": "execute_result"
    },
    {
     "data": {
      "image/png": "[encoded data removed]",
      "text/plain": [
       "<Figure size 432x288 with 1 Axes>"
      ]
     },
     "metadata": {
      "needs_background": "light"
     },
     "output_type": "display_data"
    }
   ],
   "source": [
    "df['ml_outcomes'].hist()"
   ]
  },
  {
   "cell_type": "code",
   "execution_count": 9,
   "metadata": {
    "execution": {
     "iopub.execute_input": "2022-01-20T04:28:18.827855Z",
     "iopub.status.busy": "2022-01-20T04:28:18.827240Z",
     "iopub.status.idle": "2022-01-20T04:28:18.942648Z",
     "shell.execute_reply": "2022-01-20T04:28:18.943012Z"
    }
   },
   "outputs": [
    {
     "data": {
      "text/html": [
       "<div>\n",
       "<style scoped>\n",
       "    .dataframe tbody tr th:only-of-type {\n",
       "        vertical-align: middle;\n",
       "    }\n",
       "\n",
       "    .dataframe tbody tr th {\n",
       "        vertical-align: top;\n",
       "    }\n",
       "\n",
       "    .dataframe thead th {\n",
       "        text-align: right;\n",
       "    }\n",
       "</style>\n",
       "<table border=\"1\" class=\"dataframe\">\n",
       "  <thead>\n",
       "    <tr style=\"text-align: right;\">\n",
       "      <th></th>\n",
       "      <th>R</th>\n",
       "      <th>T</th>\n",
       "      <th>ml_outcomes</th>\n",
       "      <th>T_black</th>\n",
       "      <th>T_white</th>\n",
       "      <th>ml_outcomes_black</th>\n",
       "      <th>ml_outcomes_white</th>\n",
       "      <th>ml_outcomes_decision</th>\n",
       "      <th>B_p</th>\n",
       "    </tr>\n",
       "  </thead>\n",
       "  <tbody>\n",
       "    <tr>\n",
       "      <th>799856</th>\n",
       "      <td>0</td>\n",
       "      <td>7</td>\n",
       "      <td>0.02</td>\n",
       "      <td>6</td>\n",
       "      <td>7</td>\n",
       "      <td>-4.079949</td>\n",
       "      <td>-3.784626</td>\n",
       "      <td>0</td>\n",
       "      <td>0</td>\n",
       "    </tr>\n",
       "    <tr>\n",
       "      <th>381520</th>\n",
       "      <td>0</td>\n",
       "      <td>8</td>\n",
       "      <td>0.02</td>\n",
       "      <td>6</td>\n",
       "      <td>8</td>\n",
       "      <td>-4.079949</td>\n",
       "      <td>-3.705448</td>\n",
       "      <td>0</td>\n",
       "      <td>0</td>\n",
       "    </tr>\n",
       "    <tr>\n",
       "      <th>802371</th>\n",
       "      <td>0</td>\n",
       "      <td>12</td>\n",
       "      <td>0.03</td>\n",
       "      <td>10</td>\n",
       "      <td>12</td>\n",
       "      <td>-3.763237</td>\n",
       "      <td>-3.388736</td>\n",
       "      <td>0</td>\n",
       "      <td>0</td>\n",
       "    </tr>\n",
       "    <tr>\n",
       "      <th>475990</th>\n",
       "      <td>0</td>\n",
       "      <td>10</td>\n",
       "      <td>0.03</td>\n",
       "      <td>7</td>\n",
       "      <td>10</td>\n",
       "      <td>-4.000771</td>\n",
       "      <td>-3.547092</td>\n",
       "      <td>0</td>\n",
       "      <td>0</td>\n",
       "    </tr>\n",
       "    <tr>\n",
       "      <th>195611</th>\n",
       "      <td>0</td>\n",
       "      <td>12</td>\n",
       "      <td>0.03</td>\n",
       "      <td>7</td>\n",
       "      <td>12</td>\n",
       "      <td>-4.000771</td>\n",
       "      <td>-3.388736</td>\n",
       "      <td>0</td>\n",
       "      <td>0</td>\n",
       "    </tr>\n",
       "    <tr>\n",
       "      <th>...</th>\n",
       "      <td>...</td>\n",
       "      <td>...</td>\n",
       "      <td>...</td>\n",
       "      <td>...</td>\n",
       "      <td>...</td>\n",
       "      <td>...</td>\n",
       "      <td>...</td>\n",
       "      <td>...</td>\n",
       "      <td>...</td>\n",
       "    </tr>\n",
       "    <tr>\n",
       "      <th>774157</th>\n",
       "      <td>1</td>\n",
       "      <td>106</td>\n",
       "      <td>1.23</td>\n",
       "      <td>106</td>\n",
       "      <td>124</td>\n",
       "      <td>3.837851</td>\n",
       "      <td>5.479200</td>\n",
       "      <td>1</td>\n",
       "      <td>1</td>\n",
       "    </tr>\n",
       "    <tr>\n",
       "      <th>733667</th>\n",
       "      <td>1</td>\n",
       "      <td>108</td>\n",
       "      <td>1.23</td>\n",
       "      <td>108</td>\n",
       "      <td>126</td>\n",
       "      <td>3.996207</td>\n",
       "      <td>5.637556</td>\n",
       "      <td>1</td>\n",
       "      <td>1</td>\n",
       "    </tr>\n",
       "    <tr>\n",
       "      <th>777126</th>\n",
       "      <td>1</td>\n",
       "      <td>104</td>\n",
       "      <td>1.23</td>\n",
       "      <td>104</td>\n",
       "      <td>121</td>\n",
       "      <td>3.679495</td>\n",
       "      <td>5.241666</td>\n",
       "      <td>1</td>\n",
       "      <td>1</td>\n",
       "    </tr>\n",
       "    <tr>\n",
       "      <th>961510</th>\n",
       "      <td>1</td>\n",
       "      <td>105</td>\n",
       "      <td>1.23</td>\n",
       "      <td>105</td>\n",
       "      <td>123</td>\n",
       "      <td>3.758673</td>\n",
       "      <td>5.400022</td>\n",
       "      <td>1</td>\n",
       "      <td>1</td>\n",
       "    </tr>\n",
       "    <tr>\n",
       "      <th>277505</th>\n",
       "      <td>1</td>\n",
       "      <td>104</td>\n",
       "      <td>1.23</td>\n",
       "      <td>104</td>\n",
       "      <td>120</td>\n",
       "      <td>3.679495</td>\n",
       "      <td>5.162488</td>\n",
       "      <td>1</td>\n",
       "      <td>1</td>\n",
       "    </tr>\n",
       "  </tbody>\n",
       "</table>\n",
       "<p>1000000 rows × 9 columns</p>\n",
       "</div>"
      ],
      "text/plain": [
       "        R    T  ml_outcomes  T_black  T_white  ml_outcomes_black  \\\n",
       "799856  0    7         0.02        6        7          -4.079949   \n",
       "381520  0    8         0.02        6        8          -4.079949   \n",
       "802371  0   12         0.03       10       12          -3.763237   \n",
       "475990  0   10         0.03        7       10          -4.000771   \n",
       "195611  0   12         0.03        7       12          -4.000771   \n",
       "...    ..  ...          ...      ...      ...                ...   \n",
       "774157  1  106         1.23      106      124           3.837851   \n",
       "733667  1  108         1.23      108      126           3.996207   \n",
       "777126  1  104         1.23      104      121           3.679495   \n",
       "961510  1  105         1.23      105      123           3.758673   \n",
       "277505  1  104         1.23      104      120           3.679495   \n",
       "\n",
       "        ml_outcomes_white  ml_outcomes_decision  B_p  \n",
       "799856          -3.784626                     0    0  \n",
       "381520          -3.705448                     0    0  \n",
       "802371          -3.388736                     0    0  \n",
       "475990          -3.547092                     0    0  \n",
       "195611          -3.388736                     0    0  \n",
       "...                   ...                   ...  ...  \n",
       "774157           5.479200                     1    1  \n",
       "733667           5.637556                     1    1  \n",
       "777126           5.241666                     1    1  \n",
       "961510           5.400022                     1    1  \n",
       "277505           5.162488                     1    1  \n",
       "\n",
       "[1000000 rows x 9 columns]"
      ]
     },
     "execution_count": 9,
     "metadata": {},
     "output_type": "execute_result"
    }
   ],
   "source": [
    "##\n",
    "# R = race, T = test score, ml_outcomes = expected utility from admitting, \n",
    "# ml_outcomes_{} counterfactual utility given race \n",
    "##\n",
    "\n",
    "df[['R','T','ml_outcomes','T_black','T_white','ml_outcomes_black','ml_outcomes_white','ml_outcomes_decision','B_p']].sort_values(by='ml_outcomes')\n",
    "\n"
   ]
  },
  {
   "cell_type": "code",
   "execution_count": 10,
   "metadata": {
    "execution": {
     "iopub.execute_input": "2022-01-20T04:28:18.945590Z",
     "iopub.status.busy": "2022-01-20T04:28:18.945153Z",
     "iopub.status.idle": "2022-01-20T04:28:18.946814Z",
     "shell.execute_reply": "2022-01-20T04:28:18.947118Z"
    }
   },
   "outputs": [],
   "source": [
    "#df['ml_outcomes'] = df['ml_outcomes'] + 1*df['R']"
   ]
  },
  {
   "cell_type": "code",
   "execution_count": 11,
   "metadata": {
    "execution": {
     "iopub.execute_input": "2022-01-20T04:28:18.956290Z",
     "iopub.status.busy": "2022-01-20T04:28:18.955852Z",
     "iopub.status.idle": "2022-01-20T04:28:18.994217Z",
     "shell.execute_reply": "2022-01-20T04:28:18.994512Z"
    }
   },
   "outputs": [],
   "source": [
    "###\n",
    "## Get total utility from admitting people in a stratum \n",
    "###\n",
    "\n",
    "df_ = df[['R','T','ml_outcomes']].groupby(['R','T']).sum().reset_index()"
   ]
  },
  {
   "cell_type": "code",
   "execution_count": 12,
   "metadata": {
    "execution": {
     "iopub.execute_input": "2022-01-20T04:28:19.003769Z",
     "iopub.status.busy": "2022-01-20T04:28:19.003137Z",
     "iopub.status.idle": "2022-01-20T04:28:19.035643Z",
     "shell.execute_reply": "2022-01-20T04:28:19.035916Z"
    }
   },
   "outputs": [],
   "source": [
    "###\n",
    "## Get number of people in each stratum\n",
    "###\n",
    "\n",
    "df_count = df[['R','T','ml_outcomes']].groupby(['R','T']).count().reset_index()\n",
    "df_count.columns = ['R','T','Count']\n",
    "df_count['N'] = df_count['Count']"
   ]
  },
  {
   "cell_type": "code",
   "execution_count": 13,
   "metadata": {
    "execution": {
     "iopub.execute_input": "2022-01-20T04:28:19.040373Z",
     "iopub.status.busy": "2022-01-20T04:28:19.039891Z",
     "iopub.status.idle": "2022-01-20T04:28:19.042529Z",
     "shell.execute_reply": "2022-01-20T04:28:19.042822Z"
    }
   },
   "outputs": [],
   "source": [
    "###\n",
    "## Merge summary tables to get one table with Race, Test Score, SUM(Utility), COUNT(applicants) per stratum\n",
    "###\n",
    "\n",
    "dff = df_.merge(df_count[['N']],left_index=True,right_index=True).sort_values(by='ml_outcomes',ascending=False).reset_index().sort_values(by='index').reset_index()"
   ]
  },
  {
   "cell_type": "code",
   "execution_count": 14,
   "metadata": {
    "execution": {
     "iopub.execute_input": "2022-01-20T04:28:19.045814Z",
     "iopub.status.busy": "2022-01-20T04:28:19.045349Z",
     "iopub.status.idle": "2022-01-20T04:28:19.052285Z",
     "shell.execute_reply": "2022-01-20T04:28:19.052664Z"
    }
   },
   "outputs": [
    {
     "data": {
      "text/html": [
       "<div>\n",
       "<style scoped>\n",
       "    .dataframe tbody tr th:only-of-type {\n",
       "        vertical-align: middle;\n",
       "    }\n",
       "\n",
       "    .dataframe tbody tr th {\n",
       "        vertical-align: top;\n",
       "    }\n",
       "\n",
       "    .dataframe thead th {\n",
       "        text-align: right;\n",
       "    }\n",
       "</style>\n",
       "<table border=\"1\" class=\"dataframe\">\n",
       "  <thead>\n",
       "    <tr style=\"text-align: right;\">\n",
       "      <th></th>\n",
       "      <th>level_0</th>\n",
       "      <th>index</th>\n",
       "      <th>R</th>\n",
       "      <th>T</th>\n",
       "      <th>ml_outcomes</th>\n",
       "      <th>N</th>\n",
       "    </tr>\n",
       "  </thead>\n",
       "  <tbody>\n",
       "    <tr>\n",
       "      <th>0</th>\n",
       "      <td>225</td>\n",
       "      <td>0</td>\n",
       "      <td>0</td>\n",
       "      <td>7</td>\n",
       "      <td>0.02</td>\n",
       "      <td>1</td>\n",
       "    </tr>\n",
       "    <tr>\n",
       "      <th>1</th>\n",
       "      <td>224</td>\n",
       "      <td>1</td>\n",
       "      <td>0</td>\n",
       "      <td>8</td>\n",
       "      <td>0.02</td>\n",
       "      <td>1</td>\n",
       "    </tr>\n",
       "    <tr>\n",
       "      <th>3</th>\n",
       "      <td>223</td>\n",
       "      <td>3</td>\n",
       "      <td>0</td>\n",
       "      <td>10</td>\n",
       "      <td>0.03</td>\n",
       "      <td>1</td>\n",
       "    </tr>\n",
       "    <tr>\n",
       "      <th>4</th>\n",
       "      <td>222</td>\n",
       "      <td>4</td>\n",
       "      <td>0</td>\n",
       "      <td>11</td>\n",
       "      <td>0.03</td>\n",
       "      <td>1</td>\n",
       "    </tr>\n",
       "    <tr>\n",
       "      <th>2</th>\n",
       "      <td>221</td>\n",
       "      <td>2</td>\n",
       "      <td>0</td>\n",
       "      <td>9</td>\n",
       "      <td>0.06</td>\n",
       "      <td>2</td>\n",
       "    </tr>\n",
       "    <tr>\n",
       "      <th>...</th>\n",
       "      <td>...</td>\n",
       "      <td>...</td>\n",
       "      <td>...</td>\n",
       "      <td>...</td>\n",
       "      <td>...</td>\n",
       "      <td>...</td>\n",
       "    </tr>\n",
       "    <tr>\n",
       "      <th>49</th>\n",
       "      <td>4</td>\n",
       "      <td>49</td>\n",
       "      <td>0</td>\n",
       "      <td>56</td>\n",
       "      <td>10957.96</td>\n",
       "      <td>21073</td>\n",
       "    </tr>\n",
       "    <tr>\n",
       "      <th>52</th>\n",
       "      <td>3</td>\n",
       "      <td>52</td>\n",
       "      <td>0</td>\n",
       "      <td>59</td>\n",
       "      <td>11026.38</td>\n",
       "      <td>19011</td>\n",
       "    </tr>\n",
       "    <tr>\n",
       "      <th>53</th>\n",
       "      <td>2</td>\n",
       "      <td>53</td>\n",
       "      <td>0</td>\n",
       "      <td>60</td>\n",
       "      <td>11038.80</td>\n",
       "      <td>18398</td>\n",
       "    </tr>\n",
       "    <tr>\n",
       "      <th>50</th>\n",
       "      <td>1</td>\n",
       "      <td>50</td>\n",
       "      <td>0</td>\n",
       "      <td>57</td>\n",
       "      <td>11087.82</td>\n",
       "      <td>20533</td>\n",
       "    </tr>\n",
       "    <tr>\n",
       "      <th>51</th>\n",
       "      <td>0</td>\n",
       "      <td>51</td>\n",
       "      <td>0</td>\n",
       "      <td>58</td>\n",
       "      <td>11123.28</td>\n",
       "      <td>19863</td>\n",
       "    </tr>\n",
       "  </tbody>\n",
       "</table>\n",
       "<p>226 rows × 6 columns</p>\n",
       "</div>"
      ],
      "text/plain": [
       "    level_0  index  R   T  ml_outcomes      N\n",
       "0       225      0  0   7         0.02      1\n",
       "1       224      1  0   8         0.02      1\n",
       "3       223      3  0  10         0.03      1\n",
       "4       222      4  0  11         0.03      1\n",
       "2       221      2  0   9         0.06      2\n",
       "..      ...    ... ..  ..          ...    ...\n",
       "49        4     49  0  56     10957.96  21073\n",
       "52        3     52  0  59     11026.38  19011\n",
       "53        2     53  0  60     11038.80  18398\n",
       "50        1     50  0  57     11087.82  20533\n",
       "51        0     51  0  58     11123.28  19863\n",
       "\n",
       "[226 rows x 6 columns]"
      ]
     },
     "execution_count": 14,
     "metadata": {},
     "output_type": "execute_result"
    }
   ],
   "source": [
    "# final info table\n",
    "dff.sort_values(by='ml_outcomes')"
   ]
  },
  {
   "cell_type": "code",
   "execution_count": null,
   "metadata": {},
   "outputs": [],
   "source": []
  },
  {
   "cell_type": "markdown",
   "metadata": {},
   "source": [
    "### Setup optimization problem "
   ]
  },
  {
   "cell_type": "code",
   "execution_count": 15,
   "metadata": {
    "execution": {
     "iopub.execute_input": "2022-01-20T04:28:19.055612Z",
     "iopub.status.busy": "2022-01-20T04:28:19.055200Z",
     "iopub.status.idle": "2022-01-20T04:28:19.084909Z",
     "shell.execute_reply": "2022-01-20T04:28:19.085220Z"
    }
   },
   "outputs": [],
   "source": [
    "from ortools.linear_solver import pywraplp\n"
   ]
  },
  {
   "cell_type": "code",
   "execution_count": 16,
   "metadata": {
    "execution": {
     "iopub.execute_input": "2022-01-20T04:28:19.088566Z",
     "iopub.status.busy": "2022-01-20T04:28:19.088156Z",
     "iopub.status.idle": "2022-01-20T04:28:19.089556Z",
     "shell.execute_reply": "2022-01-20T04:28:19.089854Z"
    }
   },
   "outputs": [],
   "source": [
    "solver = pywraplp.Solver.CreateSolver('GLOP')\n"
   ]
  },
  {
   "cell_type": "code",
   "execution_count": 17,
   "metadata": {
    "execution": {
     "iopub.execute_input": "2022-01-20T04:28:19.097410Z",
     "iopub.status.busy": "2022-01-20T04:28:19.096918Z",
     "iopub.status.idle": "2022-01-20T04:28:19.098967Z",
     "shell.execute_reply": "2022-01-20T04:28:19.099241Z"
    }
   },
   "outputs": [
    {
     "data": {
      "text/html": [
       "<div>\n",
       "<style scoped>\n",
       "    .dataframe tbody tr th:only-of-type {\n",
       "        vertical-align: middle;\n",
       "    }\n",
       "\n",
       "    .dataframe tbody tr th {\n",
       "        vertical-align: top;\n",
       "    }\n",
       "\n",
       "    .dataframe thead th {\n",
       "        text-align: right;\n",
       "    }\n",
       "</style>\n",
       "<table border=\"1\" class=\"dataframe\">\n",
       "  <thead>\n",
       "    <tr style=\"text-align: right;\">\n",
       "      <th></th>\n",
       "      <th>level_0</th>\n",
       "      <th>index</th>\n",
       "      <th>R</th>\n",
       "      <th>T</th>\n",
       "      <th>ml_outcomes</th>\n",
       "      <th>N</th>\n",
       "    </tr>\n",
       "  </thead>\n",
       "  <tbody>\n",
       "    <tr>\n",
       "      <th>0</th>\n",
       "      <td>225</td>\n",
       "      <td>0</td>\n",
       "      <td>0</td>\n",
       "      <td>7</td>\n",
       "      <td>0.02</td>\n",
       "      <td>1</td>\n",
       "    </tr>\n",
       "    <tr>\n",
       "      <th>1</th>\n",
       "      <td>224</td>\n",
       "      <td>1</td>\n",
       "      <td>0</td>\n",
       "      <td>8</td>\n",
       "      <td>0.02</td>\n",
       "      <td>1</td>\n",
       "    </tr>\n",
       "    <tr>\n",
       "      <th>2</th>\n",
       "      <td>221</td>\n",
       "      <td>2</td>\n",
       "      <td>0</td>\n",
       "      <td>9</td>\n",
       "      <td>0.06</td>\n",
       "      <td>2</td>\n",
       "    </tr>\n",
       "    <tr>\n",
       "      <th>3</th>\n",
       "      <td>223</td>\n",
       "      <td>3</td>\n",
       "      <td>0</td>\n",
       "      <td>10</td>\n",
       "      <td>0.03</td>\n",
       "      <td>1</td>\n",
       "    </tr>\n",
       "    <tr>\n",
       "      <th>4</th>\n",
       "      <td>222</td>\n",
       "      <td>4</td>\n",
       "      <td>0</td>\n",
       "      <td>11</td>\n",
       "      <td>0.03</td>\n",
       "      <td>1</td>\n",
       "    </tr>\n",
       "    <tr>\n",
       "      <th>...</th>\n",
       "      <td>...</td>\n",
       "      <td>...</td>\n",
       "      <td>...</td>\n",
       "      <td>...</td>\n",
       "      <td>...</td>\n",
       "      <td>...</td>\n",
       "    </tr>\n",
       "    <tr>\n",
       "      <th>221</th>\n",
       "      <td>202</td>\n",
       "      <td>221</td>\n",
       "      <td>1</td>\n",
       "      <td>105</td>\n",
       "      <td>1.23</td>\n",
       "      <td>1</td>\n",
       "    </tr>\n",
       "    <tr>\n",
       "      <th>222</th>\n",
       "      <td>190</td>\n",
       "      <td>222</td>\n",
       "      <td>1</td>\n",
       "      <td>106</td>\n",
       "      <td>3.69</td>\n",
       "      <td>3</td>\n",
       "    </tr>\n",
       "    <tr>\n",
       "      <th>223</th>\n",
       "      <td>203</td>\n",
       "      <td>223</td>\n",
       "      <td>1</td>\n",
       "      <td>107</td>\n",
       "      <td>1.23</td>\n",
       "      <td>1</td>\n",
       "    </tr>\n",
       "    <tr>\n",
       "      <th>224</th>\n",
       "      <td>197</td>\n",
       "      <td>224</td>\n",
       "      <td>1</td>\n",
       "      <td>108</td>\n",
       "      <td>2.46</td>\n",
       "      <td>2</td>\n",
       "    </tr>\n",
       "    <tr>\n",
       "      <th>225</th>\n",
       "      <td>204</td>\n",
       "      <td>225</td>\n",
       "      <td>1</td>\n",
       "      <td>110</td>\n",
       "      <td>1.23</td>\n",
       "      <td>1</td>\n",
       "    </tr>\n",
       "  </tbody>\n",
       "</table>\n",
       "<p>226 rows × 6 columns</p>\n",
       "</div>"
      ],
      "text/plain": [
       "     level_0  index  R    T  ml_outcomes  N\n",
       "0        225      0  0    7         0.02  1\n",
       "1        224      1  0    8         0.02  1\n",
       "2        221      2  0    9         0.06  2\n",
       "3        223      3  0   10         0.03  1\n",
       "4        222      4  0   11         0.03  1\n",
       "..       ...    ... ..  ...          ... ..\n",
       "221      202    221  1  105         1.23  1\n",
       "222      190    222  1  106         3.69  3\n",
       "223      203    223  1  107         1.23  1\n",
       "224      197    224  1  108         2.46  2\n",
       "225      204    225  1  110         1.23  1\n",
       "\n",
       "[226 rows x 6 columns]"
      ]
     },
     "execution_count": 17,
     "metadata": {},
     "output_type": "execute_result"
    }
   ],
   "source": [
    "dff"
   ]
  },
  {
   "cell_type": "code",
   "execution_count": 18,
   "metadata": {
    "execution": {
     "iopub.execute_input": "2022-01-20T04:28:19.111468Z",
     "iopub.status.busy": "2022-01-20T04:28:19.111036Z",
     "iopub.status.idle": "2022-01-20T04:28:19.112615Z",
     "shell.execute_reply": "2022-01-20T04:28:19.112969Z"
    }
   },
   "outputs": [],
   "source": [
    "applicant_stratum = []\n",
    "vars_cache = {}\n",
    "\n",
    "# Objective: Maximize the expected utility of the admitted students\n",
    "objective = solver.Objective()\n",
    "\n",
    "# For each stratum\n",
    "for ix, row in dff.iterrows():\n",
    "    # probability of admission\n",
    "    numvar = solver.NumVar(0.0, 1.0, str(ix))\n",
    "    \n",
    "    # store variable by index, and also by stratum R, T\n",
    "    applicant_stratum.append(numvar)\n",
    "    vars_cache[(row['R'],row['T'])] = numvar\n",
    "    \n",
    "    # Benefit of admitting people is total utility in that stratum\n",
    "    objective.SetCoefficient(applicant_stratum[ix], float(row['ml_outcomes']))\n",
    "objective.SetMaximization()\n"
   ]
  },
  {
   "cell_type": "code",
   "execution_count": 19,
   "metadata": {
    "execution": {
     "iopub.execute_input": "2022-01-20T04:28:19.116065Z",
     "iopub.status.busy": "2022-01-20T04:28:19.115591Z",
     "iopub.status.idle": "2022-01-20T04:28:19.117397Z",
     "shell.execute_reply": "2022-01-20T04:28:19.117714Z"
    }
   },
   "outputs": [
    {
     "data": {
      "text/plain": [
       "0"
      ]
     },
     "execution_count": 19,
     "metadata": {},
     "output_type": "execute_result"
    }
   ],
   "source": [
    "# Currently we have no constraints \n",
    "solver.NumConstraints()"
   ]
  },
  {
   "cell_type": "code",
   "execution_count": 20,
   "metadata": {
    "execution": {
     "iopub.execute_input": "2022-01-20T04:28:19.127907Z",
     "iopub.status.busy": "2022-01-20T04:28:19.127413Z",
     "iopub.status.idle": "2022-01-20T04:28:19.129193Z",
     "shell.execute_reply": "2022-01-20T04:28:19.129496Z"
    },
    "scrolled": true
   },
   "outputs": [
    {
     "name": "stdout",
     "output_type": "stream",
     "text": [
      "485361\n"
     ]
    }
   ],
   "source": [
    "# Constraint: At most K applicants\n",
    "K = int(len(df)*FRAC_ADMIT)\n",
    "print(K)\n",
    "admit_quota = solver.Constraint(0, K)\n",
    "\n",
    "# Total admits cannot exceed K \n",
    "for ix, row in dff.iterrows():\n",
    "    admit_quota.SetCoefficient(applicant_stratum[ix], float(row['N']))"
   ]
  },
  {
   "cell_type": "code",
   "execution_count": 21,
   "metadata": {
    "execution": {
     "iopub.execute_input": "2022-01-20T04:28:19.132495Z",
     "iopub.status.busy": "2022-01-20T04:28:19.132060Z",
     "iopub.status.idle": "2022-01-20T04:28:19.133907Z",
     "shell.execute_reply": "2022-01-20T04:28:19.134160Z"
    }
   },
   "outputs": [
    {
     "data": {
      "text/plain": [
       "1"
      ]
     },
     "execution_count": 21,
     "metadata": {},
     "output_type": "execute_result"
    }
   ],
   "source": [
    "# Now we have one constraint\n",
    "solver.NumConstraints()"
   ]
  },
  {
   "cell_type": "markdown",
   "metadata": {},
   "source": [
    "## Add Equalized Odds Constraints"
   ]
  },
  {
   "cell_type": "code",
   "execution_count": 22,
   "metadata": {
    "execution": {
     "iopub.execute_input": "2022-01-20T04:28:19.138081Z",
     "iopub.status.busy": "2022-01-20T04:28:19.137662Z",
     "iopub.status.idle": "2022-01-20T04:28:19.138796Z",
     "shell.execute_reply": "2022-01-20T04:28:19.139201Z"
    }
   },
   "outputs": [],
   "source": [
    "from collections import Counter\n",
    "\n",
    "def convertListToProb(raw_list):\n",
    "    counts = dict(Counter(raw_list))\n",
    "    probs = {}\n",
    "    for test_score in counts:\n",
    "        probs[test_score]  = counts[test_score]/float(len(raw_list))\n",
    "    return [(probs[t], t) for t in probs]"
   ]
  },
  {
   "cell_type": "code",
   "execution_count": 23,
   "metadata": {
    "execution": {
     "iopub.execute_input": "2022-01-20T04:28:19.144290Z",
     "iopub.status.busy": "2022-01-20T04:28:19.143831Z",
     "iopub.status.idle": "2022-01-20T04:28:19.317044Z",
     "shell.execute_reply": "2022-01-20T04:28:19.317404Z"
    }
   },
   "outputs": [
    {
     "data": {
      "text/plain": [
       "(4, 963)"
      ]
     },
     "execution_count": 23,
     "metadata": {},
     "output_type": "execute_result"
    }
   ],
   "source": [
    "T_blacks_list = df[df['R']==0][['T','T_black']].groupby('T')['T_black'].apply(list).reset_index(name='T_blacks')\n",
    "T_blacks_list['probs'] = T_blacks_list['T_blacks'].apply(convertListToProb)\n",
    "didntexist = 0\n",
    "exists = 0\n",
    "for ix, row in T_blacks_list.iterrows():\n",
    "    cf_fair_stratum = solver.Constraint(0.0, 0.0)\n",
    "\n",
    "    White_T = row['T']\n",
    "    Blacks_Ts = row['probs']        \n",
    "    cf_fair_stratum.SetCoefficient(vars_cache[(0.0, White_T)], -1.0)\n",
    "    for prob in Blacks_Ts:\n",
    "        if (1.0, prob[1]) not in vars_cache:\n",
    "            vars_cache[(1.0, prob[1])] = solver.NumVar(0.0, 1.0, str((1.0, prob[1])))\n",
    "            didntexist+=1\n",
    "        else:\n",
    "            exists+=1\n",
    "        cf_fair_stratum.SetCoefficient(vars_cache[(1.0, prob[1])], prob[0])\n",
    "didntexist,exists"
   ]
  },
  {
   "cell_type": "code",
   "execution_count": 24,
   "metadata": {
    "execution": {
     "iopub.execute_input": "2022-01-20T04:28:19.322994Z",
     "iopub.status.busy": "2022-01-20T04:28:19.322547Z",
     "iopub.status.idle": "2022-01-20T04:28:19.406561Z",
     "shell.execute_reply": "2022-01-20T04:28:19.406850Z"
    }
   },
   "outputs": [
    {
     "data": {
      "text/plain": [
       "(2, 891)"
      ]
     },
     "execution_count": 24,
     "metadata": {},
     "output_type": "execute_result"
    }
   ],
   "source": [
    "T_whites_list = df[df['R']==1][['T','T_white']].groupby('T')['T_white'].apply(list).reset_index(name='T_whites')\n",
    "T_whites_list['probs'] = T_whites_list['T_whites'].apply(convertListToProb)\n",
    "didntexist = 0\n",
    "exists = 0\n",
    "\n",
    "for ix, row in T_whites_list.iterrows():\n",
    "    cf_fair_stratum = solver.Constraint(0.0, 0.0)\n",
    "\n",
    "    Black_T = row['T']\n",
    "    White_Ts = row['probs']\n",
    "    \n",
    "    cf_fair_stratum.SetCoefficient(vars_cache[(1.0, Black_T)], -1.0)\n",
    "    for prob in White_Ts:\n",
    "        if (0.0, prob[1]) not in vars_cache:\n",
    "            vars_cache[(0.0, prob[1])] = solver.NumVar(0.0, 1.0, str((0.0, prob[1])))\n",
    "            didntexist+=1\n",
    "        else:\n",
    "            exists+=1\n",
    "            \n",
    "        cf_fair_stratum.SetCoefficient(vars_cache[(0.0, prob[1])], prob[0])\n",
    "didntexist,exists  "
   ]
  },
  {
   "cell_type": "code",
   "execution_count": 25,
   "metadata": {
    "execution": {
     "iopub.execute_input": "2022-01-20T04:28:19.409703Z",
     "iopub.status.busy": "2022-01-20T04:28:19.409198Z",
     "iopub.status.idle": "2022-01-20T04:28:19.411060Z",
     "shell.execute_reply": "2022-01-20T04:28:19.411461Z"
    }
   },
   "outputs": [
    {
     "data": {
      "text/plain": [
       "227"
      ]
     },
     "execution_count": 25,
     "metadata": {},
     "output_type": "execute_result"
    }
   ],
   "source": [
    "solver.NumConstraints()"
   ]
  },
  {
   "cell_type": "markdown",
   "metadata": {},
   "source": [
    "## Solve linear program"
   ]
  },
  {
   "cell_type": "code",
   "execution_count": 26,
   "metadata": {
    "execution": {
     "iopub.execute_input": "2022-01-20T04:28:19.414862Z",
     "iopub.status.busy": "2022-01-20T04:28:19.414425Z",
     "iopub.status.idle": "2022-01-20T04:28:19.416106Z",
     "shell.execute_reply": "2022-01-20T04:28:19.416519Z"
    }
   },
   "outputs": [
    {
     "data": {
      "text/plain": [
       "4"
      ]
     },
     "execution_count": 26,
     "metadata": {},
     "output_type": "execute_result"
    }
   ],
   "source": [
    "solver.ABNORMAL"
   ]
  },
  {
   "cell_type": "code",
   "execution_count": 27,
   "metadata": {
    "execution": {
     "iopub.execute_input": "2022-01-20T04:28:19.424889Z",
     "iopub.status.busy": "2022-01-20T04:28:19.424461Z",
     "iopub.status.idle": "2022-01-20T04:28:19.425957Z",
     "shell.execute_reply": "2022-01-20T04:28:19.426306Z"
    }
   },
   "outputs": [],
   "source": [
    "status = solver.Solve()\n"
   ]
  },
  {
   "cell_type": "code",
   "execution_count": 28,
   "metadata": {
    "execution": {
     "iopub.execute_input": "2022-01-20T04:28:19.429545Z",
     "iopub.status.busy": "2022-01-20T04:28:19.429073Z",
     "iopub.status.idle": "2022-01-20T04:28:19.430696Z",
     "shell.execute_reply": "2022-01-20T04:28:19.430975Z"
    }
   },
   "outputs": [
    {
     "data": {
      "text/plain": [
       "0"
      ]
     },
     "execution_count": 28,
     "metadata": {},
     "output_type": "execute_result"
    }
   ],
   "source": [
    "status"
   ]
  },
  {
   "cell_type": "code",
   "execution_count": 29,
   "metadata": {
    "execution": {
     "iopub.execute_input": "2022-01-20T04:28:19.433582Z",
     "iopub.status.busy": "2022-01-20T04:28:19.433184Z",
     "iopub.status.idle": "2022-01-20T04:28:19.435045Z",
     "shell.execute_reply": "2022-01-20T04:28:19.435360Z"
    }
   },
   "outputs": [
    {
     "data": {
      "text/plain": [
       "0"
      ]
     },
     "execution_count": 29,
     "metadata": {},
     "output_type": "execute_result"
    }
   ],
   "source": [
    "solver.OPTIMAL"
   ]
  },
  {
   "cell_type": "code",
   "execution_count": 30,
   "metadata": {
    "execution": {
     "iopub.execute_input": "2022-01-20T04:28:19.439475Z",
     "iopub.status.busy": "2022-01-20T04:28:19.439064Z",
     "iopub.status.idle": "2022-01-20T04:28:19.440392Z",
     "shell.execute_reply": "2022-01-20T04:28:19.440660Z"
    },
    "scrolled": true
   },
   "outputs": [],
   "source": [
    "row = []\n",
    "admit = []\n",
    "\n",
    "for i in applicant_stratum:\n",
    "    row.append(int(str(i)))\n",
    "    admit.append(i.solution_value())\n",
    "\n",
    "df_decisions = pd.DataFrame({'row_id':row,'decision':admit})"
   ]
  },
  {
   "cell_type": "code",
   "execution_count": 31,
   "metadata": {
    "execution": {
     "iopub.execute_input": "2022-01-20T04:28:19.446601Z",
     "iopub.status.busy": "2022-01-20T04:28:19.445982Z",
     "iopub.status.idle": "2022-01-20T04:28:19.447940Z",
     "shell.execute_reply": "2022-01-20T04:28:19.448345Z"
    }
   },
   "outputs": [
    {
     "data": {
      "text/html": [
       "<div>\n",
       "<style scoped>\n",
       "    .dataframe tbody tr th:only-of-type {\n",
       "        vertical-align: middle;\n",
       "    }\n",
       "\n",
       "    .dataframe tbody tr th {\n",
       "        vertical-align: top;\n",
       "    }\n",
       "\n",
       "    .dataframe thead th {\n",
       "        text-align: right;\n",
       "    }\n",
       "</style>\n",
       "<table border=\"1\" class=\"dataframe\">\n",
       "  <thead>\n",
       "    <tr style=\"text-align: right;\">\n",
       "      <th></th>\n",
       "      <th>row_id</th>\n",
       "      <th>decision</th>\n",
       "    </tr>\n",
       "  </thead>\n",
       "  <tbody>\n",
       "    <tr>\n",
       "      <th>0</th>\n",
       "      <td>0</td>\n",
       "      <td>0.485351</td>\n",
       "    </tr>\n",
       "    <tr>\n",
       "      <th>1</th>\n",
       "      <td>1</td>\n",
       "      <td>0.485351</td>\n",
       "    </tr>\n",
       "    <tr>\n",
       "      <th>2</th>\n",
       "      <td>2</td>\n",
       "      <td>0.485351</td>\n",
       "    </tr>\n",
       "    <tr>\n",
       "      <th>3</th>\n",
       "      <td>3</td>\n",
       "      <td>0.485351</td>\n",
       "    </tr>\n",
       "    <tr>\n",
       "      <th>4</th>\n",
       "      <td>4</td>\n",
       "      <td>0.485351</td>\n",
       "    </tr>\n",
       "    <tr>\n",
       "      <th>...</th>\n",
       "      <td>...</td>\n",
       "      <td>...</td>\n",
       "    </tr>\n",
       "    <tr>\n",
       "      <th>221</th>\n",
       "      <td>221</td>\n",
       "      <td>1.000000</td>\n",
       "    </tr>\n",
       "    <tr>\n",
       "      <th>222</th>\n",
       "      <td>222</td>\n",
       "      <td>1.000000</td>\n",
       "    </tr>\n",
       "    <tr>\n",
       "      <th>223</th>\n",
       "      <td>223</td>\n",
       "      <td>1.000000</td>\n",
       "    </tr>\n",
       "    <tr>\n",
       "      <th>224</th>\n",
       "      <td>224</td>\n",
       "      <td>1.000000</td>\n",
       "    </tr>\n",
       "    <tr>\n",
       "      <th>225</th>\n",
       "      <td>225</td>\n",
       "      <td>1.000000</td>\n",
       "    </tr>\n",
       "  </tbody>\n",
       "</table>\n",
       "<p>226 rows × 2 columns</p>\n",
       "</div>"
      ],
      "text/plain": [
       "     row_id  decision\n",
       "0         0  0.485351\n",
       "1         1  0.485351\n",
       "2         2  0.485351\n",
       "3         3  0.485351\n",
       "4         4  0.485351\n",
       "..      ...       ...\n",
       "221     221  1.000000\n",
       "222     222  1.000000\n",
       "223     223  1.000000\n",
       "224     224  1.000000\n",
       "225     225  1.000000\n",
       "\n",
       "[226 rows x 2 columns]"
      ]
     },
     "execution_count": 31,
     "metadata": {},
     "output_type": "execute_result"
    }
   ],
   "source": [
    "df_decisions"
   ]
  },
  {
   "cell_type": "code",
   "execution_count": 32,
   "metadata": {
    "execution": {
     "iopub.execute_input": "2022-01-20T04:28:19.457410Z",
     "iopub.status.busy": "2022-01-20T04:28:19.451667Z",
     "iopub.status.idle": "2022-01-20T04:28:19.459284Z",
     "shell.execute_reply": "2022-01-20T04:28:19.459632Z"
    }
   },
   "outputs": [
    {
     "data": {
      "text/html": [
       "<div>\n",
       "<style scoped>\n",
       "    .dataframe tbody tr th:only-of-type {\n",
       "        vertical-align: middle;\n",
       "    }\n",
       "\n",
       "    .dataframe tbody tr th {\n",
       "        vertical-align: top;\n",
       "    }\n",
       "\n",
       "    .dataframe thead th {\n",
       "        text-align: right;\n",
       "    }\n",
       "</style>\n",
       "<table border=\"1\" class=\"dataframe\">\n",
       "  <thead>\n",
       "    <tr style=\"text-align: right;\">\n",
       "      <th></th>\n",
       "      <th>level_0</th>\n",
       "      <th>index</th>\n",
       "      <th>R</th>\n",
       "      <th>T</th>\n",
       "      <th>ml_outcomes</th>\n",
       "      <th>N</th>\n",
       "      <th>row_id</th>\n",
       "      <th>decision</th>\n",
       "    </tr>\n",
       "  </thead>\n",
       "  <tbody>\n",
       "    <tr>\n",
       "      <th>51</th>\n",
       "      <td>0</td>\n",
       "      <td>51</td>\n",
       "      <td>0</td>\n",
       "      <td>58</td>\n",
       "      <td>11123.28</td>\n",
       "      <td>19863</td>\n",
       "      <td>51</td>\n",
       "      <td>0.485351</td>\n",
       "    </tr>\n",
       "    <tr>\n",
       "      <th>50</th>\n",
       "      <td>1</td>\n",
       "      <td>50</td>\n",
       "      <td>0</td>\n",
       "      <td>57</td>\n",
       "      <td>11087.82</td>\n",
       "      <td>20533</td>\n",
       "      <td>50</td>\n",
       "      <td>0.485351</td>\n",
       "    </tr>\n",
       "    <tr>\n",
       "      <th>53</th>\n",
       "      <td>2</td>\n",
       "      <td>53</td>\n",
       "      <td>0</td>\n",
       "      <td>60</td>\n",
       "      <td>11038.80</td>\n",
       "      <td>18398</td>\n",
       "      <td>53</td>\n",
       "      <td>0.485351</td>\n",
       "    </tr>\n",
       "    <tr>\n",
       "      <th>52</th>\n",
       "      <td>3</td>\n",
       "      <td>52</td>\n",
       "      <td>0</td>\n",
       "      <td>59</td>\n",
       "      <td>11026.38</td>\n",
       "      <td>19011</td>\n",
       "      <td>52</td>\n",
       "      <td>0.485351</td>\n",
       "    </tr>\n",
       "    <tr>\n",
       "      <th>49</th>\n",
       "      <td>4</td>\n",
       "      <td>49</td>\n",
       "      <td>0</td>\n",
       "      <td>56</td>\n",
       "      <td>10957.96</td>\n",
       "      <td>21073</td>\n",
       "      <td>49</td>\n",
       "      <td>0.485351</td>\n",
       "    </tr>\n",
       "    <tr>\n",
       "      <th>...</th>\n",
       "      <td>...</td>\n",
       "      <td>...</td>\n",
       "      <td>...</td>\n",
       "      <td>...</td>\n",
       "      <td>...</td>\n",
       "      <td>...</td>\n",
       "      <td>...</td>\n",
       "      <td>...</td>\n",
       "    </tr>\n",
       "    <tr>\n",
       "      <th>2</th>\n",
       "      <td>221</td>\n",
       "      <td>2</td>\n",
       "      <td>0</td>\n",
       "      <td>9</td>\n",
       "      <td>0.06</td>\n",
       "      <td>2</td>\n",
       "      <td>2</td>\n",
       "      <td>0.485351</td>\n",
       "    </tr>\n",
       "    <tr>\n",
       "      <th>4</th>\n",
       "      <td>222</td>\n",
       "      <td>4</td>\n",
       "      <td>0</td>\n",
       "      <td>11</td>\n",
       "      <td>0.03</td>\n",
       "      <td>1</td>\n",
       "      <td>4</td>\n",
       "      <td>0.485351</td>\n",
       "    </tr>\n",
       "    <tr>\n",
       "      <th>3</th>\n",
       "      <td>223</td>\n",
       "      <td>3</td>\n",
       "      <td>0</td>\n",
       "      <td>10</td>\n",
       "      <td>0.03</td>\n",
       "      <td>1</td>\n",
       "      <td>3</td>\n",
       "      <td>0.485351</td>\n",
       "    </tr>\n",
       "    <tr>\n",
       "      <th>1</th>\n",
       "      <td>224</td>\n",
       "      <td>1</td>\n",
       "      <td>0</td>\n",
       "      <td>8</td>\n",
       "      <td>0.02</td>\n",
       "      <td>1</td>\n",
       "      <td>1</td>\n",
       "      <td>0.485351</td>\n",
       "    </tr>\n",
       "    <tr>\n",
       "      <th>0</th>\n",
       "      <td>225</td>\n",
       "      <td>0</td>\n",
       "      <td>0</td>\n",
       "      <td>7</td>\n",
       "      <td>0.02</td>\n",
       "      <td>1</td>\n",
       "      <td>0</td>\n",
       "      <td>0.485351</td>\n",
       "    </tr>\n",
       "  </tbody>\n",
       "</table>\n",
       "<p>226 rows × 8 columns</p>\n",
       "</div>"
      ],
      "text/plain": [
       "    level_0  index  R   T  ml_outcomes      N  row_id  decision\n",
       "51        0     51  0  58     11123.28  19863      51  0.485351\n",
       "50        1     50  0  57     11087.82  20533      50  0.485351\n",
       "53        2     53  0  60     11038.80  18398      53  0.485351\n",
       "52        3     52  0  59     11026.38  19011      52  0.485351\n",
       "49        4     49  0  56     10957.96  21073      49  0.485351\n",
       "..      ...    ... ..  ..          ...    ...     ...       ...\n",
       "2       221      2  0   9         0.06      2       2  0.485351\n",
       "4       222      4  0  11         0.03      1       4  0.485351\n",
       "3       223      3  0  10         0.03      1       3  0.485351\n",
       "1       224      1  0   8         0.02      1       1  0.485351\n",
       "0       225      0  0   7         0.02      1       0  0.485351\n",
       "\n",
       "[226 rows x 8 columns]"
      ]
     },
     "execution_count": 32,
     "metadata": {},
     "output_type": "execute_result"
    }
   ],
   "source": [
    "dff.merge(df_decisions,left_index=True,right_index=True).sort_values(by='ml_outcomes',ascending=False)"
   ]
  },
  {
   "cell_type": "code",
   "execution_count": 33,
   "metadata": {
    "execution": {
     "iopub.execute_input": "2022-01-20T04:28:19.468858Z",
     "iopub.status.busy": "2022-01-20T04:28:19.468371Z",
     "iopub.status.idle": "2022-01-20T04:28:19.470159Z",
     "shell.execute_reply": "2022-01-20T04:28:19.470513Z"
    }
   },
   "outputs": [
    {
     "data": {
      "text/html": [
       "<div>\n",
       "<style scoped>\n",
       "    .dataframe tbody tr th:only-of-type {\n",
       "        vertical-align: middle;\n",
       "    }\n",
       "\n",
       "    .dataframe tbody tr th {\n",
       "        vertical-align: top;\n",
       "    }\n",
       "\n",
       "    .dataframe thead th {\n",
       "        text-align: right;\n",
       "    }\n",
       "</style>\n",
       "<table border=\"1\" class=\"dataframe\">\n",
       "  <thead>\n",
       "    <tr style=\"text-align: right;\">\n",
       "      <th></th>\n",
       "      <th>level_0</th>\n",
       "      <th>index</th>\n",
       "      <th>R</th>\n",
       "      <th>T</th>\n",
       "      <th>ml_outcomes</th>\n",
       "      <th>N</th>\n",
       "      <th>row_id</th>\n",
       "      <th>decision</th>\n",
       "    </tr>\n",
       "  </thead>\n",
       "  <tbody>\n",
       "    <tr>\n",
       "      <th>122</th>\n",
       "      <td>219</td>\n",
       "      <td>122</td>\n",
       "      <td>1</td>\n",
       "      <td>4</td>\n",
       "      <td>0.26</td>\n",
       "      <td>1</td>\n",
       "      <td>122</td>\n",
       "      <td>0.485351</td>\n",
       "    </tr>\n",
       "    <tr>\n",
       "      <th>0</th>\n",
       "      <td>225</td>\n",
       "      <td>0</td>\n",
       "      <td>0</td>\n",
       "      <td>7</td>\n",
       "      <td>0.02</td>\n",
       "      <td>1</td>\n",
       "      <td>0</td>\n",
       "      <td>0.485351</td>\n",
       "    </tr>\n",
       "    <tr>\n",
       "      <th>123</th>\n",
       "      <td>215</td>\n",
       "      <td>123</td>\n",
       "      <td>1</td>\n",
       "      <td>7</td>\n",
       "      <td>0.54</td>\n",
       "      <td>2</td>\n",
       "      <td>123</td>\n",
       "      <td>0.485351</td>\n",
       "    </tr>\n",
       "    <tr>\n",
       "      <th>124</th>\n",
       "      <td>218</td>\n",
       "      <td>124</td>\n",
       "      <td>1</td>\n",
       "      <td>8</td>\n",
       "      <td>0.27</td>\n",
       "      <td>1</td>\n",
       "      <td>124</td>\n",
       "      <td>0.485351</td>\n",
       "    </tr>\n",
       "    <tr>\n",
       "      <th>1</th>\n",
       "      <td>224</td>\n",
       "      <td>1</td>\n",
       "      <td>0</td>\n",
       "      <td>8</td>\n",
       "      <td>0.02</td>\n",
       "      <td>1</td>\n",
       "      <td>1</td>\n",
       "      <td>0.485351</td>\n",
       "    </tr>\n",
       "    <tr>\n",
       "      <th>...</th>\n",
       "      <td>...</td>\n",
       "      <td>...</td>\n",
       "      <td>...</td>\n",
       "      <td>...</td>\n",
       "      <td>...</td>\n",
       "      <td>...</td>\n",
       "      <td>...</td>\n",
       "      <td>...</td>\n",
       "    </tr>\n",
       "    <tr>\n",
       "      <th>117</th>\n",
       "      <td>211</td>\n",
       "      <td>117</td>\n",
       "      <td>0</td>\n",
       "      <td>125</td>\n",
       "      <td>1.00</td>\n",
       "      <td>1</td>\n",
       "      <td>117</td>\n",
       "      <td>1.000000</td>\n",
       "    </tr>\n",
       "    <tr>\n",
       "      <th>118</th>\n",
       "      <td>210</td>\n",
       "      <td>118</td>\n",
       "      <td>0</td>\n",
       "      <td>127</td>\n",
       "      <td>1.00</td>\n",
       "      <td>1</td>\n",
       "      <td>118</td>\n",
       "      <td>1.000000</td>\n",
       "    </tr>\n",
       "    <tr>\n",
       "      <th>119</th>\n",
       "      <td>209</td>\n",
       "      <td>119</td>\n",
       "      <td>0</td>\n",
       "      <td>128</td>\n",
       "      <td>1.00</td>\n",
       "      <td>1</td>\n",
       "      <td>119</td>\n",
       "      <td>1.000000</td>\n",
       "    </tr>\n",
       "    <tr>\n",
       "      <th>120</th>\n",
       "      <td>208</td>\n",
       "      <td>120</td>\n",
       "      <td>0</td>\n",
       "      <td>130</td>\n",
       "      <td>1.00</td>\n",
       "      <td>1</td>\n",
       "      <td>120</td>\n",
       "      <td>1.000000</td>\n",
       "    </tr>\n",
       "    <tr>\n",
       "      <th>121</th>\n",
       "      <td>207</td>\n",
       "      <td>121</td>\n",
       "      <td>0</td>\n",
       "      <td>134</td>\n",
       "      <td>1.00</td>\n",
       "      <td>1</td>\n",
       "      <td>121</td>\n",
       "      <td>1.000000</td>\n",
       "    </tr>\n",
       "  </tbody>\n",
       "</table>\n",
       "<p>226 rows × 8 columns</p>\n",
       "</div>"
      ],
      "text/plain": [
       "     level_0  index  R    T  ml_outcomes  N  row_id  decision\n",
       "122      219    122  1    4         0.26  1     122  0.485351\n",
       "0        225      0  0    7         0.02  1       0  0.485351\n",
       "123      215    123  1    7         0.54  2     123  0.485351\n",
       "124      218    124  1    8         0.27  1     124  0.485351\n",
       "1        224      1  0    8         0.02  1       1  0.485351\n",
       "..       ...    ... ..  ...          ... ..     ...       ...\n",
       "117      211    117  0  125         1.00  1     117  1.000000\n",
       "118      210    118  0  127         1.00  1     118  1.000000\n",
       "119      209    119  0  128         1.00  1     119  1.000000\n",
       "120      208    120  0  130         1.00  1     120  1.000000\n",
       "121      207    121  0  134         1.00  1     121  1.000000\n",
       "\n",
       "[226 rows x 8 columns]"
      ]
     },
     "execution_count": 33,
     "metadata": {},
     "output_type": "execute_result"
    }
   ],
   "source": [
    "xxx_ = dff.merge(df_decisions,left_index=True,right_index=True).sort_values(by='ml_outcomes',ascending=False)\n",
    "xxx_.sort_values(by='T')"
   ]
  },
  {
   "cell_type": "code",
   "execution_count": 34,
   "metadata": {
    "execution": {
     "iopub.execute_input": "2022-01-20T04:28:19.479518Z",
     "iopub.status.busy": "2022-01-20T04:28:19.479026Z",
     "iopub.status.idle": "2022-01-20T04:28:19.480863Z",
     "shell.execute_reply": "2022-01-20T04:28:19.481113Z"
    }
   },
   "outputs": [
    {
     "data": {
      "text/html": [
       "<div>\n",
       "<style scoped>\n",
       "    .dataframe tbody tr th:only-of-type {\n",
       "        vertical-align: middle;\n",
       "    }\n",
       "\n",
       "    .dataframe tbody tr th {\n",
       "        vertical-align: top;\n",
       "    }\n",
       "\n",
       "    .dataframe thead th {\n",
       "        text-align: right;\n",
       "    }\n",
       "</style>\n",
       "<table border=\"1\" class=\"dataframe\">\n",
       "  <thead>\n",
       "    <tr style=\"text-align: right;\">\n",
       "      <th></th>\n",
       "      <th>level_0</th>\n",
       "      <th>index</th>\n",
       "      <th>R</th>\n",
       "      <th>T</th>\n",
       "      <th>ml_outcomes</th>\n",
       "      <th>N</th>\n",
       "      <th>row_id</th>\n",
       "      <th>decision</th>\n",
       "    </tr>\n",
       "  </thead>\n",
       "  <tbody>\n",
       "    <tr>\n",
       "      <th>51</th>\n",
       "      <td>0</td>\n",
       "      <td>51</td>\n",
       "      <td>0</td>\n",
       "      <td>58</td>\n",
       "      <td>11123.28</td>\n",
       "      <td>19863</td>\n",
       "      <td>51</td>\n",
       "      <td>0.485351</td>\n",
       "    </tr>\n",
       "    <tr>\n",
       "      <th>50</th>\n",
       "      <td>1</td>\n",
       "      <td>50</td>\n",
       "      <td>0</td>\n",
       "      <td>57</td>\n",
       "      <td>11087.82</td>\n",
       "      <td>20533</td>\n",
       "      <td>50</td>\n",
       "      <td>0.485351</td>\n",
       "    </tr>\n",
       "    <tr>\n",
       "      <th>53</th>\n",
       "      <td>2</td>\n",
       "      <td>53</td>\n",
       "      <td>0</td>\n",
       "      <td>60</td>\n",
       "      <td>11038.80</td>\n",
       "      <td>18398</td>\n",
       "      <td>53</td>\n",
       "      <td>0.485351</td>\n",
       "    </tr>\n",
       "    <tr>\n",
       "      <th>52</th>\n",
       "      <td>3</td>\n",
       "      <td>52</td>\n",
       "      <td>0</td>\n",
       "      <td>59</td>\n",
       "      <td>11026.38</td>\n",
       "      <td>19011</td>\n",
       "      <td>52</td>\n",
       "      <td>0.485351</td>\n",
       "    </tr>\n",
       "    <tr>\n",
       "      <th>49</th>\n",
       "      <td>4</td>\n",
       "      <td>49</td>\n",
       "      <td>0</td>\n",
       "      <td>56</td>\n",
       "      <td>10957.96</td>\n",
       "      <td>21073</td>\n",
       "      <td>49</td>\n",
       "      <td>0.485351</td>\n",
       "    </tr>\n",
       "    <tr>\n",
       "      <th>...</th>\n",
       "      <td>...</td>\n",
       "      <td>...</td>\n",
       "      <td>...</td>\n",
       "      <td>...</td>\n",
       "      <td>...</td>\n",
       "      <td>...</td>\n",
       "      <td>...</td>\n",
       "      <td>...</td>\n",
       "    </tr>\n",
       "    <tr>\n",
       "      <th>2</th>\n",
       "      <td>221</td>\n",
       "      <td>2</td>\n",
       "      <td>0</td>\n",
       "      <td>9</td>\n",
       "      <td>0.06</td>\n",
       "      <td>2</td>\n",
       "      <td>2</td>\n",
       "      <td>0.485351</td>\n",
       "    </tr>\n",
       "    <tr>\n",
       "      <th>4</th>\n",
       "      <td>222</td>\n",
       "      <td>4</td>\n",
       "      <td>0</td>\n",
       "      <td>11</td>\n",
       "      <td>0.03</td>\n",
       "      <td>1</td>\n",
       "      <td>4</td>\n",
       "      <td>0.485351</td>\n",
       "    </tr>\n",
       "    <tr>\n",
       "      <th>3</th>\n",
       "      <td>223</td>\n",
       "      <td>3</td>\n",
       "      <td>0</td>\n",
       "      <td>10</td>\n",
       "      <td>0.03</td>\n",
       "      <td>1</td>\n",
       "      <td>3</td>\n",
       "      <td>0.485351</td>\n",
       "    </tr>\n",
       "    <tr>\n",
       "      <th>1</th>\n",
       "      <td>224</td>\n",
       "      <td>1</td>\n",
       "      <td>0</td>\n",
       "      <td>8</td>\n",
       "      <td>0.02</td>\n",
       "      <td>1</td>\n",
       "      <td>1</td>\n",
       "      <td>0.485351</td>\n",
       "    </tr>\n",
       "    <tr>\n",
       "      <th>0</th>\n",
       "      <td>225</td>\n",
       "      <td>0</td>\n",
       "      <td>0</td>\n",
       "      <td>7</td>\n",
       "      <td>0.02</td>\n",
       "      <td>1</td>\n",
       "      <td>0</td>\n",
       "      <td>0.485351</td>\n",
       "    </tr>\n",
       "  </tbody>\n",
       "</table>\n",
       "<p>226 rows × 8 columns</p>\n",
       "</div>"
      ],
      "text/plain": [
       "    level_0  index  R   T  ml_outcomes      N  row_id  decision\n",
       "51        0     51  0  58     11123.28  19863      51  0.485351\n",
       "50        1     50  0  57     11087.82  20533      50  0.485351\n",
       "53        2     53  0  60     11038.80  18398      53  0.485351\n",
       "52        3     52  0  59     11026.38  19011      52  0.485351\n",
       "49        4     49  0  56     10957.96  21073      49  0.485351\n",
       "..      ...    ... ..  ..          ...    ...     ...       ...\n",
       "2       221      2  0   9         0.06      2       2  0.485351\n",
       "4       222      4  0  11         0.03      1       4  0.485351\n",
       "3       223      3  0  10         0.03      1       3  0.485351\n",
       "1       224      1  0   8         0.02      1       1  0.485351\n",
       "0       225      0  0   7         0.02      1       0  0.485351\n",
       "\n",
       "[226 rows x 8 columns]"
      ]
     },
     "execution_count": 34,
     "metadata": {},
     "output_type": "execute_result"
    }
   ],
   "source": [
    "xxx = dff.merge(df_decisions,left_index=True,right_index=True).sort_values(by='ml_outcomes',ascending=False)\n",
    "xxx"
   ]
  },
  {
   "cell_type": "code",
   "execution_count": 35,
   "metadata": {
    "execution": {
     "iopub.execute_input": "2022-01-20T04:28:19.484255Z",
     "iopub.status.busy": "2022-01-20T04:28:19.483626Z",
     "iopub.status.idle": "2022-01-20T04:28:19.485811Z",
     "shell.execute_reply": "2022-01-20T04:28:19.486167Z"
    }
   },
   "outputs": [
    {
     "data": {
      "text/plain": [
       "226"
      ]
     },
     "execution_count": 35,
     "metadata": {},
     "output_type": "execute_result"
    }
   ],
   "source": [
    "len(xxx_)"
   ]
  },
  {
   "cell_type": "code",
   "execution_count": 36,
   "metadata": {
    "execution": {
     "iopub.execute_input": "2022-01-20T04:28:19.489129Z",
     "iopub.status.busy": "2022-01-20T04:28:19.488715Z",
     "iopub.status.idle": "2022-01-20T04:28:19.494407Z",
     "shell.execute_reply": "2022-01-20T04:28:19.494770Z"
    }
   },
   "outputs": [],
   "source": [
    "xxx.to_csv('./decision.csv')"
   ]
  },
  {
   "cell_type": "code",
   "execution_count": 37,
   "metadata": {
    "execution": {
     "iopub.execute_input": "2022-01-20T04:28:19.497590Z",
     "iopub.status.busy": "2022-01-20T04:28:19.497178Z",
     "iopub.status.idle": "2022-01-20T04:28:19.500183Z",
     "shell.execute_reply": "2022-01-20T04:28:19.500465Z"
    }
   },
   "outputs": [],
   "source": [
    "solution = pd.read_csv('./decision.csv')"
   ]
  },
  {
   "cell_type": "code",
   "execution_count": null,
   "metadata": {},
   "outputs": [],
   "source": []
  },
  {
   "cell_type": "code",
   "execution_count": null,
   "metadata": {},
   "outputs": [],
   "source": []
  },
  {
   "cell_type": "code",
   "execution_count": 38,
   "metadata": {
    "execution": {
     "iopub.execute_input": "2022-01-20T04:28:19.509411Z",
     "iopub.status.busy": "2022-01-20T04:28:19.508882Z",
     "iopub.status.idle": "2022-01-20T04:28:19.510674Z",
     "shell.execute_reply": "2022-01-20T04:28:19.510954Z"
    }
   },
   "outputs": [
    {
     "data": {
      "text/html": [
       "<div>\n",
       "<style scoped>\n",
       "    .dataframe tbody tr th:only-of-type {\n",
       "        vertical-align: middle;\n",
       "    }\n",
       "\n",
       "    .dataframe tbody tr th {\n",
       "        vertical-align: top;\n",
       "    }\n",
       "\n",
       "    .dataframe thead th {\n",
       "        text-align: right;\n",
       "    }\n",
       "</style>\n",
       "<table border=\"1\" class=\"dataframe\">\n",
       "  <thead>\n",
       "    <tr style=\"text-align: right;\">\n",
       "      <th></th>\n",
       "      <th>level_0</th>\n",
       "      <th>index</th>\n",
       "      <th>R</th>\n",
       "      <th>T</th>\n",
       "      <th>ml_outcomes</th>\n",
       "      <th>N</th>\n",
       "      <th>row_id</th>\n",
       "      <th>decision</th>\n",
       "    </tr>\n",
       "  </thead>\n",
       "  <tbody>\n",
       "    <tr>\n",
       "      <th>51</th>\n",
       "      <td>0</td>\n",
       "      <td>51</td>\n",
       "      <td>0</td>\n",
       "      <td>58</td>\n",
       "      <td>11123.28</td>\n",
       "      <td>19863</td>\n",
       "      <td>51</td>\n",
       "      <td>0.485351</td>\n",
       "    </tr>\n",
       "    <tr>\n",
       "      <th>50</th>\n",
       "      <td>1</td>\n",
       "      <td>50</td>\n",
       "      <td>0</td>\n",
       "      <td>57</td>\n",
       "      <td>11087.82</td>\n",
       "      <td>20533</td>\n",
       "      <td>50</td>\n",
       "      <td>0.485351</td>\n",
       "    </tr>\n",
       "    <tr>\n",
       "      <th>53</th>\n",
       "      <td>2</td>\n",
       "      <td>53</td>\n",
       "      <td>0</td>\n",
       "      <td>60</td>\n",
       "      <td>11038.80</td>\n",
       "      <td>18398</td>\n",
       "      <td>53</td>\n",
       "      <td>0.485351</td>\n",
       "    </tr>\n",
       "    <tr>\n",
       "      <th>52</th>\n",
       "      <td>3</td>\n",
       "      <td>52</td>\n",
       "      <td>0</td>\n",
       "      <td>59</td>\n",
       "      <td>11026.38</td>\n",
       "      <td>19011</td>\n",
       "      <td>52</td>\n",
       "      <td>0.485351</td>\n",
       "    </tr>\n",
       "    <tr>\n",
       "      <th>49</th>\n",
       "      <td>4</td>\n",
       "      <td>49</td>\n",
       "      <td>0</td>\n",
       "      <td>56</td>\n",
       "      <td>10957.96</td>\n",
       "      <td>21073</td>\n",
       "      <td>49</td>\n",
       "      <td>0.485351</td>\n",
       "    </tr>\n",
       "    <tr>\n",
       "      <th>...</th>\n",
       "      <td>...</td>\n",
       "      <td>...</td>\n",
       "      <td>...</td>\n",
       "      <td>...</td>\n",
       "      <td>...</td>\n",
       "      <td>...</td>\n",
       "      <td>...</td>\n",
       "      <td>...</td>\n",
       "    </tr>\n",
       "    <tr>\n",
       "      <th>2</th>\n",
       "      <td>221</td>\n",
       "      <td>2</td>\n",
       "      <td>0</td>\n",
       "      <td>9</td>\n",
       "      <td>0.06</td>\n",
       "      <td>2</td>\n",
       "      <td>2</td>\n",
       "      <td>0.485351</td>\n",
       "    </tr>\n",
       "    <tr>\n",
       "      <th>4</th>\n",
       "      <td>222</td>\n",
       "      <td>4</td>\n",
       "      <td>0</td>\n",
       "      <td>11</td>\n",
       "      <td>0.03</td>\n",
       "      <td>1</td>\n",
       "      <td>4</td>\n",
       "      <td>0.485351</td>\n",
       "    </tr>\n",
       "    <tr>\n",
       "      <th>3</th>\n",
       "      <td>223</td>\n",
       "      <td>3</td>\n",
       "      <td>0</td>\n",
       "      <td>10</td>\n",
       "      <td>0.03</td>\n",
       "      <td>1</td>\n",
       "      <td>3</td>\n",
       "      <td>0.485351</td>\n",
       "    </tr>\n",
       "    <tr>\n",
       "      <th>1</th>\n",
       "      <td>224</td>\n",
       "      <td>1</td>\n",
       "      <td>0</td>\n",
       "      <td>8</td>\n",
       "      <td>0.02</td>\n",
       "      <td>1</td>\n",
       "      <td>1</td>\n",
       "      <td>0.485351</td>\n",
       "    </tr>\n",
       "    <tr>\n",
       "      <th>0</th>\n",
       "      <td>225</td>\n",
       "      <td>0</td>\n",
       "      <td>0</td>\n",
       "      <td>7</td>\n",
       "      <td>0.02</td>\n",
       "      <td>1</td>\n",
       "      <td>0</td>\n",
       "      <td>0.485351</td>\n",
       "    </tr>\n",
       "  </tbody>\n",
       "</table>\n",
       "<p>226 rows × 8 columns</p>\n",
       "</div>"
      ],
      "text/plain": [
       "    level_0  index  R   T  ml_outcomes      N  row_id  decision\n",
       "51        0     51  0  58     11123.28  19863      51  0.485351\n",
       "50        1     50  0  57     11087.82  20533      50  0.485351\n",
       "53        2     53  0  60     11038.80  18398      53  0.485351\n",
       "52        3     52  0  59     11026.38  19011      52  0.485351\n",
       "49        4     49  0  56     10957.96  21073      49  0.485351\n",
       "..      ...    ... ..  ..          ...    ...     ...       ...\n",
       "2       221      2  0   9         0.06      2       2  0.485351\n",
       "4       222      4  0  11         0.03      1       4  0.485351\n",
       "3       223      3  0  10         0.03      1       3  0.485351\n",
       "1       224      1  0   8         0.02      1       1  0.485351\n",
       "0       225      0  0   7         0.02      1       0  0.485351\n",
       "\n",
       "[226 rows x 8 columns]"
      ]
     },
     "execution_count": 38,
     "metadata": {},
     "output_type": "execute_result"
    }
   ],
   "source": [
    "xxx"
   ]
  },
  {
   "cell_type": "code",
   "execution_count": 39,
   "metadata": {
    "execution": {
     "iopub.execute_input": "2022-01-20T04:28:19.514644Z",
     "iopub.status.busy": "2022-01-20T04:28:19.514229Z",
     "iopub.status.idle": "2022-01-20T04:28:19.515880Z",
     "shell.execute_reply": "2022-01-20T04:28:19.516206Z"
    }
   },
   "outputs": [
    {
     "data": {
      "text/plain": [
       "254201.4264320009"
      ]
     },
     "execution_count": 39,
     "metadata": {},
     "output_type": "execute_result"
    }
   ],
   "source": [
    "(xxx['ml_outcomes']*xxx['decision']).sum()"
   ]
  },
  {
   "cell_type": "code",
   "execution_count": 40,
   "metadata": {
    "execution": {
     "iopub.execute_input": "2022-01-20T04:28:19.520105Z",
     "iopub.status.busy": "2022-01-20T04:28:19.519595Z",
     "iopub.status.idle": "2022-01-20T04:28:19.521090Z",
     "shell.execute_reply": "2022-01-20T04:28:19.521555Z"
    }
   },
   "outputs": [],
   "source": [
    "def maxMLOutcomes(frac_black=0.01):\n",
    "    black_admits = int(K*frac_black)\n",
    "    white_admits = int(K*(1-frac_black))\n",
    "    \n",
    "    b = df[df['R']==1].sort_values(by='ml_outcomes',ascending=False).head(n=black_admits)\n",
    "    w = df[df['R']==0].sort_values(by='ml_outcomes',ascending=False).head(n=white_admits)\n",
    "    \n",
    "    return b['B_p'].sum() + w['B_p'].sum()    "
   ]
  },
  {
   "cell_type": "code",
   "execution_count": 41,
   "metadata": {
    "execution": {
     "iopub.execute_input": "2022-01-20T04:28:19.525241Z",
     "iopub.status.busy": "2022-01-20T04:28:19.524833Z",
     "iopub.status.idle": "2022-01-20T04:28:19.526062Z",
     "shell.execute_reply": "2022-01-20T04:28:19.526488Z"
    }
   },
   "outputs": [],
   "source": [
    "def maxMLOutcomesBlack(frac_black=0.01):\n",
    "    black_admits = int(K*frac_black)\n",
    "    white_admits = int(K*(1-frac_black))\n",
    "    \n",
    "    b = df[df['R']==1].sort_values(by='ml_outcomes',ascending=False).head(n=black_admits)\n",
    "    w = df[df['R']==0].sort_values(by='ml_outcomes',ascending=False).head(n=white_admits)\n",
    "    \n",
    "    return b['B_p'].sum()   "
   ]
  },
  {
   "cell_type": "code",
   "execution_count": 42,
   "metadata": {
    "execution": {
     "iopub.execute_input": "2022-01-20T04:28:19.529718Z",
     "iopub.status.busy": "2022-01-20T04:28:19.529291Z",
     "iopub.status.idle": "2022-01-20T04:28:20.782383Z",
     "shell.execute_reply": "2022-01-20T04:28:20.782656Z"
    }
   },
   "outputs": [],
   "source": [
    "df['key'] = df['R'].astype(str)+'_'+df['T'].astype(str)\n",
    "xxx['key'] = xxx['R'].astype(str)+'_'+xxx['T'].astype(str)"
   ]
  },
  {
   "cell_type": "code",
   "execution_count": 43,
   "metadata": {
    "execution": {
     "iopub.execute_input": "2022-01-20T04:28:20.785402Z",
     "iopub.status.busy": "2022-01-20T04:28:20.785002Z",
     "iopub.status.idle": "2022-01-20T04:28:20.786631Z",
     "shell.execute_reply": "2022-01-20T04:28:20.787082Z"
    }
   },
   "outputs": [
    {
     "data": {
      "text/plain": [
       "226"
      ]
     },
     "execution_count": 43,
     "metadata": {},
     "output_type": "execute_result"
    }
   ],
   "source": [
    "len(xxx)"
   ]
  },
  {
   "cell_type": "code",
   "execution_count": 44,
   "metadata": {
    "execution": {
     "iopub.execute_input": "2022-01-20T04:28:20.856951Z",
     "iopub.status.busy": "2022-01-20T04:28:20.856367Z",
     "iopub.status.idle": "2022-01-20T04:28:21.409961Z",
     "shell.execute_reply": "2022-01-20T04:28:21.410271Z"
    }
   },
   "outputs": [],
   "source": [
    "admit_decisions = df.merge(xxx,how='left',on='key')\n",
    "admit_decisions['decision_random'] = pd.Series([random.random() for x in range(0,len(admit_decisions))]) < FRAC_ADMIT['A']\n",
    "\n",
    "\n",
    "FRAC_BLACK_POLICY = (admit_decisions['R_y'] * admit_decisions['decision']).sum()/admit_decisions['decision'].sum()\n",
    "SUM_BP_POLICY = ( admit_decisions['B_p'] * admit_decisions['decision']).sum()\n",
    "\n",
    "FRAC_RANDOM_POLICY = (admit_decisions['R_y'] * admit_decisions['decision_random']).sum()/admit_decisions['decision_random'].sum()\n",
    "SUM_BP_RAND_POLICY = ( admit_decisions['B_p'] * admit_decisions['decision_random']).sum()\n"
   ]
  },
  {
   "cell_type": "code",
   "execution_count": 45,
   "metadata": {
    "execution": {
     "iopub.execute_input": "2022-01-20T04:28:21.414135Z",
     "iopub.status.busy": "2022-01-20T04:28:21.413720Z",
     "iopub.status.idle": "2022-01-20T04:28:21.417389Z",
     "shell.execute_reply": "2022-01-20T04:28:21.417687Z"
    }
   },
   "outputs": [],
   "source": [
    "file = open('./lp_results.csv','w')\n",
    "file.write('{}\\t{}\\t{}\\n'.format('Policy Name','Frac Diverse Candidates','Total Graduated'))\n",
    "file.write('{}\\t{}\\t{}\\n'.format('Random',str(FRAC_RANDOM_POLICY),str(SUM_BP_RAND_POLICY)))\n",
    "file.write('{}\\t{}\\t{}\\n'.format('Counterfactual Fairness',str(FRAC_BLACK_POLICY),str(SUM_BP_POLICY)))\n",
    "file.close()\n"
   ]
  },
  {
   "cell_type": "code",
   "execution_count": 46,
   "metadata": {
    "execution": {
     "iopub.execute_input": "2022-01-20T04:28:21.421067Z",
     "iopub.status.busy": "2022-01-20T04:28:21.420650Z",
     "iopub.status.idle": "2022-01-20T04:28:21.422452Z",
     "shell.execute_reply": "2022-01-20T04:28:21.422754Z"
    }
   },
   "outputs": [
    {
     "data": {
      "text/plain": [
       "0.4853610000000002"
      ]
     },
     "execution_count": 46,
     "metadata": {},
     "output_type": "execute_result"
    }
   ],
   "source": [
    "(xxx['N']*xxx['decision']).sum()/len(df)"
   ]
  },
  {
   "cell_type": "code",
   "execution_count": null,
   "metadata": {},
   "outputs": [],
   "source": []
  }
 ],
 "metadata": {
  "kernelspec": {
   "display_name": "Python 3 (ipykernel)",
   "language": "python",
   "name": "python3"
  },
  "language_info": {
   "codemirror_mode": {
    "name": "ipython",
    "version": 3
   },
   "file_extension": ".py",
   "mimetype": "text/x-python",
   "name": "python",
   "nbconvert_exporter": "python",
   "pygments_lexer": "ipython3",
   "version": "3.9.7"
  }
 },
 "nbformat": 4,
 "nbformat_minor": 4
}
