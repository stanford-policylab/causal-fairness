{
 "cells": [
  {
   "cell_type": "code",
   "execution_count": 1,
   "metadata": {
    "execution": {
     "iopub.execute_input": "2022-01-20T04:28:26.096813Z",
     "iopub.status.busy": "2022-01-20T04:28:26.096144Z",
     "iopub.status.idle": "2022-01-20T04:28:27.522234Z",
     "shell.execute_reply": "2022-01-20T04:28:27.522536Z"
    }
   },
   "outputs": [],
   "source": [
    "import numpy as np\n",
    "import pandas as pd\n",
    "import matplotlib.pyplot as plt\n",
    "import seaborn as sns\n",
    "import random\n",
    "pd.options.display.max_rows = 10\n",
    "pd.options.display.max_columns = 500"
   ]
  },
  {
   "cell_type": "code",
   "execution_count": 2,
   "metadata": {
    "execution": {
     "iopub.execute_input": "2022-01-20T04:28:27.526351Z",
     "iopub.status.busy": "2022-01-20T04:28:27.525627Z",
     "iopub.status.idle": "2022-01-20T04:28:31.334715Z",
     "shell.execute_reply": "2022-01-20T04:28:31.335107Z"
    }
   },
   "outputs": [],
   "source": [
    "###\n",
    "## Load dataframe where each row is a single applicant\n",
    "###\n",
    "\n",
    "df = pd.read_csv('./df_test.csv')\n",
    "df['ml_outcomes'] = df['ml_outcomes_div'].round(2) #+ df['R']*0.13\n",
    "\n"
   ]
  },
  {
   "cell_type": "code",
   "execution_count": 3,
   "metadata": {
    "execution": {
     "iopub.execute_input": "2022-01-20T04:28:31.339722Z",
     "iopub.status.busy": "2022-01-20T04:28:31.339252Z",
     "iopub.status.idle": "2022-01-20T04:28:31.341913Z",
     "shell.execute_reply": "2022-01-20T04:28:31.342206Z"
    }
   },
   "outputs": [
    {
     "data": {
      "text/plain": [
       "1000000"
      ]
     },
     "execution_count": 3,
     "metadata": {},
     "output_type": "execute_result"
    }
   ],
   "source": [
    "len(df)"
   ]
  },
  {
   "cell_type": "code",
   "execution_count": 4,
   "metadata": {
    "execution": {
     "iopub.execute_input": "2022-01-20T04:28:31.347047Z",
     "iopub.status.busy": "2022-01-20T04:28:31.346599Z",
     "iopub.status.idle": "2022-01-20T04:28:31.349044Z",
     "shell.execute_reply": "2022-01-20T04:28:31.349317Z"
    }
   },
   "outputs": [],
   "source": [
    "FRAC_ADMIT = df[['A']].sum()/len(df)\n"
   ]
  },
  {
   "cell_type": "code",
   "execution_count": 5,
   "metadata": {
    "execution": {
     "iopub.execute_input": "2022-01-20T04:28:31.358026Z",
     "iopub.status.busy": "2022-01-20T04:28:31.357483Z",
     "iopub.status.idle": "2022-01-20T04:28:31.455970Z",
     "shell.execute_reply": "2022-01-20T04:28:31.456270Z"
    }
   },
   "outputs": [
    {
     "data": {
      "text/html": [
       "<div>\n",
       "<style scoped>\n",
       "    .dataframe tbody tr th:only-of-type {\n",
       "        vertical-align: middle;\n",
       "    }\n",
       "\n",
       "    .dataframe tbody tr th {\n",
       "        vertical-align: top;\n",
       "    }\n",
       "\n",
       "    .dataframe thead th {\n",
       "        text-align: right;\n",
       "    }\n",
       "</style>\n",
       "<table border=\"1\" class=\"dataframe\">\n",
       "  <thead>\n",
       "    <tr style=\"text-align: right;\">\n",
       "      <th></th>\n",
       "      <th>R</th>\n",
       "      <th>T</th>\n",
       "      <th>ml_outcomes</th>\n",
       "      <th>T_black</th>\n",
       "      <th>T_white</th>\n",
       "      <th>ml_outcomes_black</th>\n",
       "      <th>ml_outcomes_white</th>\n",
       "      <th>ml_outcomes_decision</th>\n",
       "    </tr>\n",
       "  </thead>\n",
       "  <tbody>\n",
       "    <tr>\n",
       "      <th>799856</th>\n",
       "      <td>0</td>\n",
       "      <td>7</td>\n",
       "      <td>0.02</td>\n",
       "      <td>6</td>\n",
       "      <td>7</td>\n",
       "      <td>-4.079949</td>\n",
       "      <td>-3.784626</td>\n",
       "      <td>0</td>\n",
       "    </tr>\n",
       "    <tr>\n",
       "      <th>381520</th>\n",
       "      <td>0</td>\n",
       "      <td>8</td>\n",
       "      <td>0.02</td>\n",
       "      <td>6</td>\n",
       "      <td>8</td>\n",
       "      <td>-4.079949</td>\n",
       "      <td>-3.705448</td>\n",
       "      <td>0</td>\n",
       "    </tr>\n",
       "    <tr>\n",
       "      <th>802371</th>\n",
       "      <td>0</td>\n",
       "      <td>12</td>\n",
       "      <td>0.03</td>\n",
       "      <td>10</td>\n",
       "      <td>12</td>\n",
       "      <td>-3.763237</td>\n",
       "      <td>-3.388736</td>\n",
       "      <td>0</td>\n",
       "    </tr>\n",
       "    <tr>\n",
       "      <th>475990</th>\n",
       "      <td>0</td>\n",
       "      <td>10</td>\n",
       "      <td>0.03</td>\n",
       "      <td>7</td>\n",
       "      <td>10</td>\n",
       "      <td>-4.000771</td>\n",
       "      <td>-3.547092</td>\n",
       "      <td>0</td>\n",
       "    </tr>\n",
       "    <tr>\n",
       "      <th>195611</th>\n",
       "      <td>0</td>\n",
       "      <td>12</td>\n",
       "      <td>0.03</td>\n",
       "      <td>7</td>\n",
       "      <td>12</td>\n",
       "      <td>-4.000771</td>\n",
       "      <td>-3.388736</td>\n",
       "      <td>0</td>\n",
       "    </tr>\n",
       "    <tr>\n",
       "      <th>...</th>\n",
       "      <td>...</td>\n",
       "      <td>...</td>\n",
       "      <td>...</td>\n",
       "      <td>...</td>\n",
       "      <td>...</td>\n",
       "      <td>...</td>\n",
       "      <td>...</td>\n",
       "      <td>...</td>\n",
       "    </tr>\n",
       "    <tr>\n",
       "      <th>774157</th>\n",
       "      <td>1</td>\n",
       "      <td>106</td>\n",
       "      <td>1.23</td>\n",
       "      <td>106</td>\n",
       "      <td>124</td>\n",
       "      <td>3.837851</td>\n",
       "      <td>5.479200</td>\n",
       "      <td>1</td>\n",
       "    </tr>\n",
       "    <tr>\n",
       "      <th>733667</th>\n",
       "      <td>1</td>\n",
       "      <td>108</td>\n",
       "      <td>1.23</td>\n",
       "      <td>108</td>\n",
       "      <td>126</td>\n",
       "      <td>3.996207</td>\n",
       "      <td>5.637556</td>\n",
       "      <td>1</td>\n",
       "    </tr>\n",
       "    <tr>\n",
       "      <th>777126</th>\n",
       "      <td>1</td>\n",
       "      <td>104</td>\n",
       "      <td>1.23</td>\n",
       "      <td>104</td>\n",
       "      <td>121</td>\n",
       "      <td>3.679495</td>\n",
       "      <td>5.241666</td>\n",
       "      <td>1</td>\n",
       "    </tr>\n",
       "    <tr>\n",
       "      <th>961510</th>\n",
       "      <td>1</td>\n",
       "      <td>105</td>\n",
       "      <td>1.23</td>\n",
       "      <td>105</td>\n",
       "      <td>123</td>\n",
       "      <td>3.758673</td>\n",
       "      <td>5.400022</td>\n",
       "      <td>1</td>\n",
       "    </tr>\n",
       "    <tr>\n",
       "      <th>277505</th>\n",
       "      <td>1</td>\n",
       "      <td>104</td>\n",
       "      <td>1.23</td>\n",
       "      <td>104</td>\n",
       "      <td>120</td>\n",
       "      <td>3.679495</td>\n",
       "      <td>5.162488</td>\n",
       "      <td>1</td>\n",
       "    </tr>\n",
       "  </tbody>\n",
       "</table>\n",
       "<p>1000000 rows × 8 columns</p>\n",
       "</div>"
      ],
      "text/plain": [
       "        R    T  ml_outcomes  T_black  T_white  ml_outcomes_black  \\\n",
       "799856  0    7         0.02        6        7          -4.079949   \n",
       "381520  0    8         0.02        6        8          -4.079949   \n",
       "802371  0   12         0.03       10       12          -3.763237   \n",
       "475990  0   10         0.03        7       10          -4.000771   \n",
       "195611  0   12         0.03        7       12          -4.000771   \n",
       "...    ..  ...          ...      ...      ...                ...   \n",
       "774157  1  106         1.23      106      124           3.837851   \n",
       "733667  1  108         1.23      108      126           3.996207   \n",
       "777126  1  104         1.23      104      121           3.679495   \n",
       "961510  1  105         1.23      105      123           3.758673   \n",
       "277505  1  104         1.23      104      120           3.679495   \n",
       "\n",
       "        ml_outcomes_white  ml_outcomes_decision  \n",
       "799856          -3.784626                     0  \n",
       "381520          -3.705448                     0  \n",
       "802371          -3.388736                     0  \n",
       "475990          -3.547092                     0  \n",
       "195611          -3.388736                     0  \n",
       "...                   ...                   ...  \n",
       "774157           5.479200                     1  \n",
       "733667           5.637556                     1  \n",
       "777126           5.241666                     1  \n",
       "961510           5.400022                     1  \n",
       "277505           5.162488                     1  \n",
       "\n",
       "[1000000 rows x 8 columns]"
      ]
     },
     "execution_count": 5,
     "metadata": {},
     "output_type": "execute_result"
    }
   ],
   "source": [
    "##\n",
    "# R = race, T = test score, ml_outcomes = expected utility from admitting, \n",
    "# ml_outcomes_{} counterfactual utility given race \n",
    "##\n",
    "\n",
    "df[['R','T','ml_outcomes','T_black','T_white','ml_outcomes_black','ml_outcomes_white','ml_outcomes_decision']].sort_values(by='ml_outcomes')\n",
    "\n"
   ]
  },
  {
   "cell_type": "code",
   "execution_count": 6,
   "metadata": {
    "execution": {
     "iopub.execute_input": "2022-01-20T04:28:31.465129Z",
     "iopub.status.busy": "2022-01-20T04:28:31.464688Z",
     "iopub.status.idle": "2022-01-20T04:28:31.504364Z",
     "shell.execute_reply": "2022-01-20T04:28:31.504045Z"
    }
   },
   "outputs": [],
   "source": [
    "###\n",
    "## Get total utility from admitting people in a stratum \n",
    "###\n",
    "\n",
    "df_ = df[['R','T','ml_outcomes']].groupby(['R','T']).sum().reset_index()"
   ]
  },
  {
   "cell_type": "code",
   "execution_count": 7,
   "metadata": {
    "execution": {
     "iopub.execute_input": "2022-01-20T04:28:31.512922Z",
     "iopub.status.busy": "2022-01-20T04:28:31.512407Z",
     "iopub.status.idle": "2022-01-20T04:28:31.542134Z",
     "shell.execute_reply": "2022-01-20T04:28:31.542433Z"
    }
   },
   "outputs": [],
   "source": [
    "###\n",
    "## Get number of people in each stratum\n",
    "###\n",
    "\n",
    "df_count = df[['R','T','ml_outcomes']].groupby(['R','T']).count().reset_index()\n",
    "df_count.columns = ['R','T','Count']\n",
    "df_count['N'] = df_count['Count']"
   ]
  },
  {
   "cell_type": "code",
   "execution_count": 8,
   "metadata": {
    "execution": {
     "iopub.execute_input": "2022-01-20T04:28:31.546961Z",
     "iopub.status.busy": "2022-01-20T04:28:31.544094Z",
     "iopub.status.idle": "2022-01-20T04:28:31.549739Z",
     "shell.execute_reply": "2022-01-20T04:28:31.550101Z"
    }
   },
   "outputs": [],
   "source": [
    "###\n",
    "## Merge summary tables to get one table with Race, Test Score, SUM(Utility), COUNT(applicants) per stratum\n",
    "###\n",
    "\n",
    "dff = df_.merge(df_count[['N']],left_index=True,right_index=True).sort_values(by='ml_outcomes',ascending=False).reset_index().sort_values(by='index').reset_index()"
   ]
  },
  {
   "cell_type": "code",
   "execution_count": 9,
   "metadata": {
    "execution": {
     "iopub.execute_input": "2022-01-20T04:28:31.558275Z",
     "iopub.status.busy": "2022-01-20T04:28:31.557799Z",
     "iopub.status.idle": "2022-01-20T04:28:31.559883Z",
     "shell.execute_reply": "2022-01-20T04:28:31.560202Z"
    }
   },
   "outputs": [
    {
     "data": {
      "text/html": [
       "<div>\n",
       "<style scoped>\n",
       "    .dataframe tbody tr th:only-of-type {\n",
       "        vertical-align: middle;\n",
       "    }\n",
       "\n",
       "    .dataframe tbody tr th {\n",
       "        vertical-align: top;\n",
       "    }\n",
       "\n",
       "    .dataframe thead th {\n",
       "        text-align: right;\n",
       "    }\n",
       "</style>\n",
       "<table border=\"1\" class=\"dataframe\">\n",
       "  <thead>\n",
       "    <tr style=\"text-align: right;\">\n",
       "      <th></th>\n",
       "      <th>level_0</th>\n",
       "      <th>index</th>\n",
       "      <th>R</th>\n",
       "      <th>T</th>\n",
       "      <th>ml_outcomes</th>\n",
       "      <th>N</th>\n",
       "    </tr>\n",
       "  </thead>\n",
       "  <tbody>\n",
       "    <tr>\n",
       "      <th>0</th>\n",
       "      <td>225</td>\n",
       "      <td>0</td>\n",
       "      <td>0</td>\n",
       "      <td>7</td>\n",
       "      <td>0.02</td>\n",
       "      <td>1</td>\n",
       "    </tr>\n",
       "    <tr>\n",
       "      <th>1</th>\n",
       "      <td>224</td>\n",
       "      <td>1</td>\n",
       "      <td>0</td>\n",
       "      <td>8</td>\n",
       "      <td>0.02</td>\n",
       "      <td>1</td>\n",
       "    </tr>\n",
       "    <tr>\n",
       "      <th>3</th>\n",
       "      <td>223</td>\n",
       "      <td>3</td>\n",
       "      <td>0</td>\n",
       "      <td>10</td>\n",
       "      <td>0.03</td>\n",
       "      <td>1</td>\n",
       "    </tr>\n",
       "    <tr>\n",
       "      <th>4</th>\n",
       "      <td>222</td>\n",
       "      <td>4</td>\n",
       "      <td>0</td>\n",
       "      <td>11</td>\n",
       "      <td>0.03</td>\n",
       "      <td>1</td>\n",
       "    </tr>\n",
       "    <tr>\n",
       "      <th>2</th>\n",
       "      <td>221</td>\n",
       "      <td>2</td>\n",
       "      <td>0</td>\n",
       "      <td>9</td>\n",
       "      <td>0.06</td>\n",
       "      <td>2</td>\n",
       "    </tr>\n",
       "    <tr>\n",
       "      <th>...</th>\n",
       "      <td>...</td>\n",
       "      <td>...</td>\n",
       "      <td>...</td>\n",
       "      <td>...</td>\n",
       "      <td>...</td>\n",
       "      <td>...</td>\n",
       "    </tr>\n",
       "    <tr>\n",
       "      <th>49</th>\n",
       "      <td>4</td>\n",
       "      <td>49</td>\n",
       "      <td>0</td>\n",
       "      <td>56</td>\n",
       "      <td>10957.96</td>\n",
       "      <td>21073</td>\n",
       "    </tr>\n",
       "    <tr>\n",
       "      <th>52</th>\n",
       "      <td>3</td>\n",
       "      <td>52</td>\n",
       "      <td>0</td>\n",
       "      <td>59</td>\n",
       "      <td>11026.38</td>\n",
       "      <td>19011</td>\n",
       "    </tr>\n",
       "    <tr>\n",
       "      <th>53</th>\n",
       "      <td>2</td>\n",
       "      <td>53</td>\n",
       "      <td>0</td>\n",
       "      <td>60</td>\n",
       "      <td>11038.80</td>\n",
       "      <td>18398</td>\n",
       "    </tr>\n",
       "    <tr>\n",
       "      <th>50</th>\n",
       "      <td>1</td>\n",
       "      <td>50</td>\n",
       "      <td>0</td>\n",
       "      <td>57</td>\n",
       "      <td>11087.82</td>\n",
       "      <td>20533</td>\n",
       "    </tr>\n",
       "    <tr>\n",
       "      <th>51</th>\n",
       "      <td>0</td>\n",
       "      <td>51</td>\n",
       "      <td>0</td>\n",
       "      <td>58</td>\n",
       "      <td>11123.28</td>\n",
       "      <td>19863</td>\n",
       "    </tr>\n",
       "  </tbody>\n",
       "</table>\n",
       "<p>226 rows × 6 columns</p>\n",
       "</div>"
      ],
      "text/plain": [
       "    level_0  index  R   T  ml_outcomes      N\n",
       "0       225      0  0   7         0.02      1\n",
       "1       224      1  0   8         0.02      1\n",
       "3       223      3  0  10         0.03      1\n",
       "4       222      4  0  11         0.03      1\n",
       "2       221      2  0   9         0.06      2\n",
       "..      ...    ... ..  ..          ...    ...\n",
       "49        4     49  0  56     10957.96  21073\n",
       "52        3     52  0  59     11026.38  19011\n",
       "53        2     53  0  60     11038.80  18398\n",
       "50        1     50  0  57     11087.82  20533\n",
       "51        0     51  0  58     11123.28  19863\n",
       "\n",
       "[226 rows x 6 columns]"
      ]
     },
     "execution_count": 9,
     "metadata": {},
     "output_type": "execute_result"
    }
   ],
   "source": [
    "# final info table\n",
    "dff.sort_values(by='ml_outcomes')"
   ]
  },
  {
   "cell_type": "code",
   "execution_count": null,
   "metadata": {},
   "outputs": [],
   "source": []
  },
  {
   "cell_type": "markdown",
   "metadata": {},
   "source": [
    "### Setup optimization problem "
   ]
  },
  {
   "cell_type": "code",
   "execution_count": 10,
   "metadata": {
    "execution": {
     "iopub.execute_input": "2022-01-20T04:28:31.563493Z",
     "iopub.status.busy": "2022-01-20T04:28:31.563067Z",
     "iopub.status.idle": "2022-01-20T04:28:31.591169Z",
     "shell.execute_reply": "2022-01-20T04:28:31.591468Z"
    }
   },
   "outputs": [],
   "source": [
    "from ortools.linear_solver import pywraplp\n"
   ]
  },
  {
   "cell_type": "code",
   "execution_count": 11,
   "metadata": {
    "execution": {
     "iopub.execute_input": "2022-01-20T04:28:31.594978Z",
     "iopub.status.busy": "2022-01-20T04:28:31.594433Z",
     "iopub.status.idle": "2022-01-20T04:28:31.595906Z",
     "shell.execute_reply": "2022-01-20T04:28:31.596263Z"
    }
   },
   "outputs": [],
   "source": [
    "solver = pywraplp.Solver.CreateSolver('GLOP')\n"
   ]
  },
  {
   "cell_type": "code",
   "execution_count": 12,
   "metadata": {
    "execution": {
     "iopub.execute_input": "2022-01-20T04:28:31.604380Z",
     "iopub.status.busy": "2022-01-20T04:28:31.603888Z",
     "iopub.status.idle": "2022-01-20T04:28:31.605787Z",
     "shell.execute_reply": "2022-01-20T04:28:31.606065Z"
    }
   },
   "outputs": [
    {
     "data": {
      "text/html": [
       "<div>\n",
       "<style scoped>\n",
       "    .dataframe tbody tr th:only-of-type {\n",
       "        vertical-align: middle;\n",
       "    }\n",
       "\n",
       "    .dataframe tbody tr th {\n",
       "        vertical-align: top;\n",
       "    }\n",
       "\n",
       "    .dataframe thead th {\n",
       "        text-align: right;\n",
       "    }\n",
       "</style>\n",
       "<table border=\"1\" class=\"dataframe\">\n",
       "  <thead>\n",
       "    <tr style=\"text-align: right;\">\n",
       "      <th></th>\n",
       "      <th>level_0</th>\n",
       "      <th>index</th>\n",
       "      <th>R</th>\n",
       "      <th>T</th>\n",
       "      <th>ml_outcomes</th>\n",
       "      <th>N</th>\n",
       "    </tr>\n",
       "  </thead>\n",
       "  <tbody>\n",
       "    <tr>\n",
       "      <th>0</th>\n",
       "      <td>225</td>\n",
       "      <td>0</td>\n",
       "      <td>0</td>\n",
       "      <td>7</td>\n",
       "      <td>0.02</td>\n",
       "      <td>1</td>\n",
       "    </tr>\n",
       "    <tr>\n",
       "      <th>1</th>\n",
       "      <td>224</td>\n",
       "      <td>1</td>\n",
       "      <td>0</td>\n",
       "      <td>8</td>\n",
       "      <td>0.02</td>\n",
       "      <td>1</td>\n",
       "    </tr>\n",
       "    <tr>\n",
       "      <th>2</th>\n",
       "      <td>221</td>\n",
       "      <td>2</td>\n",
       "      <td>0</td>\n",
       "      <td>9</td>\n",
       "      <td>0.06</td>\n",
       "      <td>2</td>\n",
       "    </tr>\n",
       "    <tr>\n",
       "      <th>3</th>\n",
       "      <td>223</td>\n",
       "      <td>3</td>\n",
       "      <td>0</td>\n",
       "      <td>10</td>\n",
       "      <td>0.03</td>\n",
       "      <td>1</td>\n",
       "    </tr>\n",
       "    <tr>\n",
       "      <th>4</th>\n",
       "      <td>222</td>\n",
       "      <td>4</td>\n",
       "      <td>0</td>\n",
       "      <td>11</td>\n",
       "      <td>0.03</td>\n",
       "      <td>1</td>\n",
       "    </tr>\n",
       "    <tr>\n",
       "      <th>...</th>\n",
       "      <td>...</td>\n",
       "      <td>...</td>\n",
       "      <td>...</td>\n",
       "      <td>...</td>\n",
       "      <td>...</td>\n",
       "      <td>...</td>\n",
       "    </tr>\n",
       "    <tr>\n",
       "      <th>221</th>\n",
       "      <td>202</td>\n",
       "      <td>221</td>\n",
       "      <td>1</td>\n",
       "      <td>105</td>\n",
       "      <td>1.23</td>\n",
       "      <td>1</td>\n",
       "    </tr>\n",
       "    <tr>\n",
       "      <th>222</th>\n",
       "      <td>190</td>\n",
       "      <td>222</td>\n",
       "      <td>1</td>\n",
       "      <td>106</td>\n",
       "      <td>3.69</td>\n",
       "      <td>3</td>\n",
       "    </tr>\n",
       "    <tr>\n",
       "      <th>223</th>\n",
       "      <td>203</td>\n",
       "      <td>223</td>\n",
       "      <td>1</td>\n",
       "      <td>107</td>\n",
       "      <td>1.23</td>\n",
       "      <td>1</td>\n",
       "    </tr>\n",
       "    <tr>\n",
       "      <th>224</th>\n",
       "      <td>197</td>\n",
       "      <td>224</td>\n",
       "      <td>1</td>\n",
       "      <td>108</td>\n",
       "      <td>2.46</td>\n",
       "      <td>2</td>\n",
       "    </tr>\n",
       "    <tr>\n",
       "      <th>225</th>\n",
       "      <td>204</td>\n",
       "      <td>225</td>\n",
       "      <td>1</td>\n",
       "      <td>110</td>\n",
       "      <td>1.23</td>\n",
       "      <td>1</td>\n",
       "    </tr>\n",
       "  </tbody>\n",
       "</table>\n",
       "<p>226 rows × 6 columns</p>\n",
       "</div>"
      ],
      "text/plain": [
       "     level_0  index  R    T  ml_outcomes  N\n",
       "0        225      0  0    7         0.02  1\n",
       "1        224      1  0    8         0.02  1\n",
       "2        221      2  0    9         0.06  2\n",
       "3        223      3  0   10         0.03  1\n",
       "4        222      4  0   11         0.03  1\n",
       "..       ...    ... ..  ...          ... ..\n",
       "221      202    221  1  105         1.23  1\n",
       "222      190    222  1  106         3.69  3\n",
       "223      203    223  1  107         1.23  1\n",
       "224      197    224  1  108         2.46  2\n",
       "225      204    225  1  110         1.23  1\n",
       "\n",
       "[226 rows x 6 columns]"
      ]
     },
     "execution_count": 12,
     "metadata": {},
     "output_type": "execute_result"
    }
   ],
   "source": [
    "dff"
   ]
  },
  {
   "cell_type": "code",
   "execution_count": 13,
   "metadata": {
    "execution": {
     "iopub.execute_input": "2022-01-20T04:28:31.610244Z",
     "iopub.status.busy": "2022-01-20T04:28:31.609801Z",
     "iopub.status.idle": "2022-01-20T04:28:31.620034Z",
     "shell.execute_reply": "2022-01-20T04:28:31.620324Z"
    }
   },
   "outputs": [],
   "source": [
    "applicant_stratum = []\n",
    "vars_cache = {}\n",
    "\n",
    "# Objective: Maximize the expected utility of the admitted students\n",
    "objective = solver.Objective()\n",
    "\n",
    "# For each stratum\n",
    "for ix, row in dff.iterrows():\n",
    "    # probability of admission\n",
    "    numvar = solver.NumVar(0.0, 1.0, str(ix))\n",
    "    \n",
    "    # store variable by index, and also by stratum R, T\n",
    "    applicant_stratum.append(numvar)\n",
    "    vars_cache[(row['R'],row['T'])] = numvar\n",
    "    \n",
    "    # Benefit of admitting people is total utility in that stratum\n",
    "    objective.SetCoefficient(applicant_stratum[ix], float(row['ml_outcomes']))\n",
    "objective.SetMaximization()\n"
   ]
  },
  {
   "cell_type": "code",
   "execution_count": 14,
   "metadata": {
    "execution": {
     "iopub.execute_input": "2022-01-20T04:28:31.623220Z",
     "iopub.status.busy": "2022-01-20T04:28:31.622802Z",
     "iopub.status.idle": "2022-01-20T04:28:31.624489Z",
     "shell.execute_reply": "2022-01-20T04:28:31.624778Z"
    }
   },
   "outputs": [
    {
     "data": {
      "text/plain": [
       "0"
      ]
     },
     "execution_count": 14,
     "metadata": {},
     "output_type": "execute_result"
    }
   ],
   "source": [
    "# Currently we have no constraints \n",
    "solver.NumConstraints()"
   ]
  },
  {
   "cell_type": "code",
   "execution_count": 15,
   "metadata": {
    "execution": {
     "iopub.execute_input": "2022-01-20T04:28:31.634846Z",
     "iopub.status.busy": "2022-01-20T04:28:31.634272Z",
     "iopub.status.idle": "2022-01-20T04:28:31.636155Z",
     "shell.execute_reply": "2022-01-20T04:28:31.636441Z"
    },
    "scrolled": true
   },
   "outputs": [
    {
     "name": "stdout",
     "output_type": "stream",
     "text": [
      "485361\n"
     ]
    }
   ],
   "source": [
    "# Constraint: At most K applicants\n",
    "K = int(len(df)*FRAC_ADMIT)\n",
    "print(K)\n",
    "admit_quota = solver.Constraint(0, K)\n",
    "\n",
    "# Total applicants cannot exceed K \n",
    "for ix, row in dff.iterrows():\n",
    "    admit_quota.SetCoefficient(applicant_stratum[ix], float(row['N']))"
   ]
  },
  {
   "cell_type": "code",
   "execution_count": 16,
   "metadata": {
    "execution": {
     "iopub.execute_input": "2022-01-20T04:28:31.639385Z",
     "iopub.status.busy": "2022-01-20T04:28:31.638975Z",
     "iopub.status.idle": "2022-01-20T04:28:31.640690Z",
     "shell.execute_reply": "2022-01-20T04:28:31.640978Z"
    }
   },
   "outputs": [
    {
     "data": {
      "text/plain": [
       "1"
      ]
     },
     "execution_count": 16,
     "metadata": {},
     "output_type": "execute_result"
    }
   ],
   "source": [
    "# Now we have one constraint\n",
    "solver.NumConstraints()"
   ]
  },
  {
   "cell_type": "code",
   "execution_count": null,
   "metadata": {},
   "outputs": [],
   "source": []
  },
  {
   "cell_type": "markdown",
   "metadata": {},
   "source": [
    "## Add CF Fair constraints"
   ]
  },
  {
   "cell_type": "code",
   "execution_count": 17,
   "metadata": {
    "execution": {
     "iopub.execute_input": "2022-01-20T04:28:31.644489Z",
     "iopub.status.busy": "2022-01-20T04:28:31.643997Z",
     "iopub.status.idle": "2022-01-20T04:28:31.645569Z",
     "shell.execute_reply": "2022-01-20T04:28:31.645928Z"
    }
   },
   "outputs": [],
   "source": [
    "from collections import Counter\n",
    "\n",
    "def convertListToProb(raw_list):\n",
    "    counts = dict(Counter(raw_list))\n",
    "    probs = {}\n",
    "    for test_score in counts:\n",
    "        probs[test_score]  = counts[test_score]/float(len(raw_list))\n",
    "    return [(probs[t], t) for t in probs]"
   ]
  },
  {
   "cell_type": "code",
   "execution_count": 18,
   "metadata": {
    "execution": {
     "iopub.execute_input": "2022-01-20T04:28:31.649150Z",
     "iopub.status.busy": "2022-01-20T04:28:31.648726Z",
     "iopub.status.idle": "2022-01-20T04:28:31.771552Z",
     "shell.execute_reply": "2022-01-20T04:28:31.771822Z"
    }
   },
   "outputs": [],
   "source": [
    "T_blacks_list = df[df['R']==0][['T','T_black_star']].groupby('T')['T_black_star'].apply(list).reset_index(name='T_blacks')\n"
   ]
  },
  {
   "cell_type": "code",
   "execution_count": 19,
   "metadata": {
    "execution": {
     "iopub.execute_input": "2022-01-20T04:28:31.803499Z",
     "iopub.status.busy": "2022-01-20T04:28:31.780199Z",
     "iopub.status.idle": "2022-01-20T04:28:31.804888Z",
     "shell.execute_reply": "2022-01-20T04:28:31.805232Z"
    }
   },
   "outputs": [],
   "source": [
    "T_blacks_list['probs'] = T_blacks_list['T_blacks'].apply(convertListToProb)\n"
   ]
  },
  {
   "cell_type": "code",
   "execution_count": 20,
   "metadata": {
    "execution": {
     "iopub.execute_input": "2022-01-20T04:28:31.808342Z",
     "iopub.status.busy": "2022-01-20T04:28:31.807944Z",
     "iopub.status.idle": "2022-01-20T04:28:31.818451Z",
     "shell.execute_reply": "2022-01-20T04:28:31.818838Z"
    }
   },
   "outputs": [
    {
     "data": {
      "text/html": [
       "<div>\n",
       "<style scoped>\n",
       "    .dataframe tbody tr th:only-of-type {\n",
       "        vertical-align: middle;\n",
       "    }\n",
       "\n",
       "    .dataframe tbody tr th {\n",
       "        vertical-align: top;\n",
       "    }\n",
       "\n",
       "    .dataframe thead th {\n",
       "        text-align: right;\n",
       "    }\n",
       "</style>\n",
       "<table border=\"1\" class=\"dataframe\">\n",
       "  <thead>\n",
       "    <tr style=\"text-align: right;\">\n",
       "      <th></th>\n",
       "      <th>T</th>\n",
       "      <th>T_blacks</th>\n",
       "      <th>probs</th>\n",
       "    </tr>\n",
       "  </thead>\n",
       "  <tbody>\n",
       "    <tr>\n",
       "      <th>0</th>\n",
       "      <td>7</td>\n",
       "      <td>[8]</td>\n",
       "      <td>[(1.0, 8)]</td>\n",
       "    </tr>\n",
       "    <tr>\n",
       "      <th>1</th>\n",
       "      <td>8</td>\n",
       "      <td>[8]</td>\n",
       "      <td>[(1.0, 8)]</td>\n",
       "    </tr>\n",
       "    <tr>\n",
       "      <th>2</th>\n",
       "      <td>9</td>\n",
       "      <td>[9, 9]</td>\n",
       "      <td>[(1.0, 9)]</td>\n",
       "    </tr>\n",
       "    <tr>\n",
       "      <th>3</th>\n",
       "      <td>10</td>\n",
       "      <td>[9]</td>\n",
       "      <td>[(1.0, 9)]</td>\n",
       "    </tr>\n",
       "    <tr>\n",
       "      <th>4</th>\n",
       "      <td>11</td>\n",
       "      <td>[12]</td>\n",
       "      <td>[(1.0, 12)]</td>\n",
       "    </tr>\n",
       "    <tr>\n",
       "      <th>...</th>\n",
       "      <td>...</td>\n",
       "      <td>...</td>\n",
       "      <td>...</td>\n",
       "    </tr>\n",
       "    <tr>\n",
       "      <th>117</th>\n",
       "      <td>125</td>\n",
       "      <td>[116]</td>\n",
       "      <td>[(1.0, 116)]</td>\n",
       "    </tr>\n",
       "    <tr>\n",
       "      <th>118</th>\n",
       "      <td>127</td>\n",
       "      <td>[117]</td>\n",
       "      <td>[(1.0, 117)]</td>\n",
       "    </tr>\n",
       "    <tr>\n",
       "      <th>119</th>\n",
       "      <td>128</td>\n",
       "      <td>[118]</td>\n",
       "      <td>[(1.0, 118)]</td>\n",
       "    </tr>\n",
       "    <tr>\n",
       "      <th>120</th>\n",
       "      <td>130</td>\n",
       "      <td>[120]</td>\n",
       "      <td>[(1.0, 120)]</td>\n",
       "    </tr>\n",
       "    <tr>\n",
       "      <th>121</th>\n",
       "      <td>134</td>\n",
       "      <td>[123]</td>\n",
       "      <td>[(1.0, 123)]</td>\n",
       "    </tr>\n",
       "  </tbody>\n",
       "</table>\n",
       "<p>122 rows × 3 columns</p>\n",
       "</div>"
      ],
      "text/plain": [
       "       T T_blacks         probs\n",
       "0      7      [8]    [(1.0, 8)]\n",
       "1      8      [8]    [(1.0, 8)]\n",
       "2      9   [9, 9]    [(1.0, 9)]\n",
       "3     10      [9]    [(1.0, 9)]\n",
       "4     11     [12]   [(1.0, 12)]\n",
       "..   ...      ...           ...\n",
       "117  125    [116]  [(1.0, 116)]\n",
       "118  127    [117]  [(1.0, 117)]\n",
       "119  128    [118]  [(1.0, 118)]\n",
       "120  130    [120]  [(1.0, 120)]\n",
       "121  134    [123]  [(1.0, 123)]\n",
       "\n",
       "[122 rows x 3 columns]"
      ]
     },
     "execution_count": 20,
     "metadata": {},
     "output_type": "execute_result"
    }
   ],
   "source": [
    "T_blacks_list"
   ]
  },
  {
   "cell_type": "code",
   "execution_count": 21,
   "metadata": {
    "execution": {
     "iopub.execute_input": "2022-01-20T04:28:31.828982Z",
     "iopub.status.busy": "2022-01-20T04:28:31.828537Z",
     "iopub.status.idle": "2022-01-20T04:28:31.830063Z",
     "shell.execute_reply": "2022-01-20T04:28:31.830348Z"
    }
   },
   "outputs": [],
   "source": [
    "didntexist = 0\n",
    "exists = 0\n",
    "for ix, row in T_blacks_list.iterrows():\n",
    "    cf_fair_stratum = solver.Constraint(0.0, 0.0)\n",
    "\n",
    "    White_T = row['T']\n",
    "    Blacks_Ts = row['probs']\n",
    "    \n",
    "    cf_fair_stratum.SetCoefficient(vars_cache[(0.0, White_T)], -1.0)\n",
    "    for prob in Blacks_Ts:\n",
    "        if (1.0, prob[1]) not in vars_cache:\n",
    "            vars_cache[(1.0, prob[1])] = solver.NumVar(0.0, 1.0, str((1.0, prob[1])))\n",
    "            didntexist+=1\n",
    "        else:\n",
    "            exists+=1\n",
    "        cf_fair_stratum.SetCoefficient(vars_cache[(1.0, prob[1])], prob[0])\n",
    "    "
   ]
  },
  {
   "cell_type": "code",
   "execution_count": 22,
   "metadata": {
    "execution": {
     "iopub.execute_input": "2022-01-20T04:28:31.833260Z",
     "iopub.status.busy": "2022-01-20T04:28:31.832829Z",
     "iopub.status.idle": "2022-01-20T04:28:31.834625Z",
     "shell.execute_reply": "2022-01-20T04:28:31.834967Z"
    }
   },
   "outputs": [
    {
     "data": {
      "text/plain": [
       "(11, 721)"
      ]
     },
     "execution_count": 22,
     "metadata": {},
     "output_type": "execute_result"
    }
   ],
   "source": [
    "didntexist,exists"
   ]
  },
  {
   "cell_type": "code",
   "execution_count": 23,
   "metadata": {
    "execution": {
     "iopub.execute_input": "2022-01-20T04:28:31.838270Z",
     "iopub.status.busy": "2022-01-20T04:28:31.837833Z",
     "iopub.status.idle": "2022-01-20T04:28:31.901412Z",
     "shell.execute_reply": "2022-01-20T04:28:31.902029Z"
    }
   },
   "outputs": [],
   "source": [
    "T_whites_list = df[df['R']==1][['T','T_white_star']].groupby('T')['T_white_star'].apply(list).reset_index(name='T_whites')"
   ]
  },
  {
   "cell_type": "code",
   "execution_count": 24,
   "metadata": {
    "execution": {
     "iopub.execute_input": "2022-01-20T04:28:31.910733Z",
     "iopub.status.busy": "2022-01-20T04:28:31.910231Z",
     "iopub.status.idle": "2022-01-20T04:28:31.921330Z",
     "shell.execute_reply": "2022-01-20T04:28:31.921605Z"
    }
   },
   "outputs": [],
   "source": [
    "T_whites_list['probs'] = T_whites_list['T_whites'].apply(convertListToProb)\n"
   ]
  },
  {
   "cell_type": "code",
   "execution_count": 25,
   "metadata": {
    "execution": {
     "iopub.execute_input": "2022-01-20T04:28:31.931132Z",
     "iopub.status.busy": "2022-01-20T04:28:31.930691Z",
     "iopub.status.idle": "2022-01-20T04:28:31.932075Z",
     "shell.execute_reply": "2022-01-20T04:28:31.932404Z"
    }
   },
   "outputs": [],
   "source": [
    "didntexist = 0\n",
    "exists = 0\n",
    "\n",
    "for ix, row in T_whites_list.iterrows():\n",
    "    cf_fair_stratum = solver.Constraint(0.0, 0.0)\n",
    "\n",
    "    Black_T = row['T']\n",
    "    White_Ts = row['probs']\n",
    "    \n",
    "    cf_fair_stratum.SetCoefficient(vars_cache[(1.0, Black_T)], -1.0)\n",
    "    for prob in White_Ts:\n",
    "        if (0.0, prob[1]) not in vars_cache:\n",
    "            vars_cache[(0.0, prob[1])] = solver.NumVar(0.0, 1.0, str((0.0, prob[1])))\n",
    "            didntexist+=1\n",
    "        else:\n",
    "            exists+=1\n",
    "            \n",
    "        cf_fair_stratum.SetCoefficient(vars_cache[(0.0, prob[1])], prob[0])\n",
    "    "
   ]
  },
  {
   "cell_type": "code",
   "execution_count": 26,
   "metadata": {
    "execution": {
     "iopub.execute_input": "2022-01-20T04:28:31.935878Z",
     "iopub.status.busy": "2022-01-20T04:28:31.935379Z",
     "iopub.status.idle": "2022-01-20T04:28:31.937009Z",
     "shell.execute_reply": "2022-01-20T04:28:31.937346Z"
    }
   },
   "outputs": [
    {
     "data": {
      "text/plain": [
       "<bound method Constraint.basis_status of <ortools.linear_solver.pywraplp.Constraint; proxy of <Swig Object of type 'operations_research::MPConstraint *' at 0x7fb9998f5390> >>"
      ]
     },
     "execution_count": 26,
     "metadata": {},
     "output_type": "execute_result"
    }
   ],
   "source": [
    "cf_fair_stratum.basis_status"
   ]
  },
  {
   "cell_type": "code",
   "execution_count": 27,
   "metadata": {
    "execution": {
     "iopub.execute_input": "2022-01-20T04:28:31.940169Z",
     "iopub.status.busy": "2022-01-20T04:28:31.939749Z",
     "iopub.status.idle": "2022-01-20T04:28:31.941280Z",
     "shell.execute_reply": "2022-01-20T04:28:31.941610Z"
    }
   },
   "outputs": [
    {
     "data": {
      "text/plain": [
       "227"
      ]
     },
     "execution_count": 27,
     "metadata": {},
     "output_type": "execute_result"
    }
   ],
   "source": [
    "solver.NumConstraints()"
   ]
  },
  {
   "cell_type": "markdown",
   "metadata": {},
   "source": [
    "## Solve linear program"
   ]
  },
  {
   "cell_type": "code",
   "execution_count": 28,
   "metadata": {
    "execution": {
     "iopub.execute_input": "2022-01-20T04:28:31.944407Z",
     "iopub.status.busy": "2022-01-20T04:28:31.943976Z",
     "iopub.status.idle": "2022-01-20T04:28:31.945737Z",
     "shell.execute_reply": "2022-01-20T04:28:31.946131Z"
    }
   },
   "outputs": [
    {
     "data": {
      "text/plain": [
       "4"
      ]
     },
     "execution_count": 28,
     "metadata": {},
     "output_type": "execute_result"
    }
   ],
   "source": [
    "solver.ABNORMAL"
   ]
  },
  {
   "cell_type": "code",
   "execution_count": 29,
   "metadata": {
    "execution": {
     "iopub.execute_input": "2022-01-20T04:28:31.954110Z",
     "iopub.status.busy": "2022-01-20T04:28:31.953702Z",
     "iopub.status.idle": "2022-01-20T04:28:31.955116Z",
     "shell.execute_reply": "2022-01-20T04:28:31.955377Z"
    }
   },
   "outputs": [],
   "source": [
    "status = solver.Solve()\n"
   ]
  },
  {
   "cell_type": "code",
   "execution_count": 30,
   "metadata": {
    "execution": {
     "iopub.execute_input": "2022-01-20T04:28:31.958068Z",
     "iopub.status.busy": "2022-01-20T04:28:31.957662Z",
     "iopub.status.idle": "2022-01-20T04:28:31.959467Z",
     "shell.execute_reply": "2022-01-20T04:28:31.959720Z"
    }
   },
   "outputs": [
    {
     "data": {
      "text/plain": [
       "0"
      ]
     },
     "execution_count": 30,
     "metadata": {},
     "output_type": "execute_result"
    }
   ],
   "source": [
    "status"
   ]
  },
  {
   "cell_type": "code",
   "execution_count": 31,
   "metadata": {
    "execution": {
     "iopub.execute_input": "2022-01-20T04:28:31.962870Z",
     "iopub.status.busy": "2022-01-20T04:28:31.962341Z",
     "iopub.status.idle": "2022-01-20T04:28:31.964257Z",
     "shell.execute_reply": "2022-01-20T04:28:31.964554Z"
    }
   },
   "outputs": [
    {
     "data": {
      "text/plain": [
       "0"
      ]
     },
     "execution_count": 31,
     "metadata": {},
     "output_type": "execute_result"
    }
   ],
   "source": [
    "solver.OPTIMAL"
   ]
  },
  {
   "cell_type": "code",
   "execution_count": 32,
   "metadata": {
    "execution": {
     "iopub.execute_input": "2022-01-20T04:28:31.968999Z",
     "iopub.status.busy": "2022-01-20T04:28:31.968478Z",
     "iopub.status.idle": "2022-01-20T04:28:31.969926Z",
     "shell.execute_reply": "2022-01-20T04:28:31.970208Z"
    },
    "scrolled": true
   },
   "outputs": [],
   "source": [
    "row = []\n",
    "admit = []\n",
    "\n",
    "for i in applicant_stratum:\n",
    "    row.append(int(str(i)))\n",
    "    admit.append(i.solution_value())\n",
    "\n",
    "df_decisions = pd.DataFrame({'row_id':row,'decision':admit})"
   ]
  },
  {
   "cell_type": "code",
   "execution_count": 33,
   "metadata": {
    "execution": {
     "iopub.execute_input": "2022-01-20T04:28:31.975993Z",
     "iopub.status.busy": "2022-01-20T04:28:31.975454Z",
     "iopub.status.idle": "2022-01-20T04:28:31.977381Z",
     "shell.execute_reply": "2022-01-20T04:28:31.977636Z"
    }
   },
   "outputs": [
    {
     "data": {
      "text/html": [
       "<div>\n",
       "<style scoped>\n",
       "    .dataframe tbody tr th:only-of-type {\n",
       "        vertical-align: middle;\n",
       "    }\n",
       "\n",
       "    .dataframe tbody tr th {\n",
       "        vertical-align: top;\n",
       "    }\n",
       "\n",
       "    .dataframe thead th {\n",
       "        text-align: right;\n",
       "    }\n",
       "</style>\n",
       "<table border=\"1\" class=\"dataframe\">\n",
       "  <thead>\n",
       "    <tr style=\"text-align: right;\">\n",
       "      <th></th>\n",
       "      <th>row_id</th>\n",
       "      <th>decision</th>\n",
       "    </tr>\n",
       "  </thead>\n",
       "  <tbody>\n",
       "    <tr>\n",
       "      <th>0</th>\n",
       "      <td>0</td>\n",
       "      <td>0.000000</td>\n",
       "    </tr>\n",
       "    <tr>\n",
       "      <th>1</th>\n",
       "      <td>1</td>\n",
       "      <td>0.000000</td>\n",
       "    </tr>\n",
       "    <tr>\n",
       "      <th>2</th>\n",
       "      <td>2</td>\n",
       "      <td>0.634978</td>\n",
       "    </tr>\n",
       "    <tr>\n",
       "      <th>3</th>\n",
       "      <td>3</td>\n",
       "      <td>0.634978</td>\n",
       "    </tr>\n",
       "    <tr>\n",
       "      <th>4</th>\n",
       "      <td>4</td>\n",
       "      <td>0.490718</td>\n",
       "    </tr>\n",
       "    <tr>\n",
       "      <th>...</th>\n",
       "      <td>...</td>\n",
       "      <td>...</td>\n",
       "    </tr>\n",
       "    <tr>\n",
       "      <th>221</th>\n",
       "      <td>221</td>\n",
       "      <td>0.485353</td>\n",
       "    </tr>\n",
       "    <tr>\n",
       "      <th>222</th>\n",
       "      <td>222</td>\n",
       "      <td>0.485353</td>\n",
       "    </tr>\n",
       "    <tr>\n",
       "      <th>223</th>\n",
       "      <td>223</td>\n",
       "      <td>0.485353</td>\n",
       "    </tr>\n",
       "    <tr>\n",
       "      <th>224</th>\n",
       "      <td>224</td>\n",
       "      <td>0.485353</td>\n",
       "    </tr>\n",
       "    <tr>\n",
       "      <th>225</th>\n",
       "      <td>225</td>\n",
       "      <td>0.485353</td>\n",
       "    </tr>\n",
       "  </tbody>\n",
       "</table>\n",
       "<p>226 rows × 2 columns</p>\n",
       "</div>"
      ],
      "text/plain": [
       "     row_id  decision\n",
       "0         0  0.000000\n",
       "1         1  0.000000\n",
       "2         2  0.634978\n",
       "3         3  0.634978\n",
       "4         4  0.490718\n",
       "..      ...       ...\n",
       "221     221  0.485353\n",
       "222     222  0.485353\n",
       "223     223  0.485353\n",
       "224     224  0.485353\n",
       "225     225  0.485353\n",
       "\n",
       "[226 rows x 2 columns]"
      ]
     },
     "execution_count": 33,
     "metadata": {},
     "output_type": "execute_result"
    }
   ],
   "source": [
    "df_decisions"
   ]
  },
  {
   "cell_type": "code",
   "execution_count": 34,
   "metadata": {
    "execution": {
     "iopub.execute_input": "2022-01-20T04:28:31.987149Z",
     "iopub.status.busy": "2022-01-20T04:28:31.986673Z",
     "iopub.status.idle": "2022-01-20T04:28:31.988506Z",
     "shell.execute_reply": "2022-01-20T04:28:31.988921Z"
    }
   },
   "outputs": [
    {
     "data": {
      "text/html": [
       "<div>\n",
       "<style scoped>\n",
       "    .dataframe tbody tr th:only-of-type {\n",
       "        vertical-align: middle;\n",
       "    }\n",
       "\n",
       "    .dataframe tbody tr th {\n",
       "        vertical-align: top;\n",
       "    }\n",
       "\n",
       "    .dataframe thead th {\n",
       "        text-align: right;\n",
       "    }\n",
       "</style>\n",
       "<table border=\"1\" class=\"dataframe\">\n",
       "  <thead>\n",
       "    <tr style=\"text-align: right;\">\n",
       "      <th></th>\n",
       "      <th>level_0</th>\n",
       "      <th>index</th>\n",
       "      <th>R</th>\n",
       "      <th>T</th>\n",
       "      <th>ml_outcomes</th>\n",
       "      <th>N</th>\n",
       "      <th>row_id</th>\n",
       "      <th>decision</th>\n",
       "    </tr>\n",
       "  </thead>\n",
       "  <tbody>\n",
       "    <tr>\n",
       "      <th>51</th>\n",
       "      <td>0</td>\n",
       "      <td>51</td>\n",
       "      <td>0</td>\n",
       "      <td>58</td>\n",
       "      <td>11123.28</td>\n",
       "      <td>19863</td>\n",
       "      <td>51</td>\n",
       "      <td>0.485353</td>\n",
       "    </tr>\n",
       "    <tr>\n",
       "      <th>50</th>\n",
       "      <td>1</td>\n",
       "      <td>50</td>\n",
       "      <td>0</td>\n",
       "      <td>57</td>\n",
       "      <td>11087.82</td>\n",
       "      <td>20533</td>\n",
       "      <td>50</td>\n",
       "      <td>0.485353</td>\n",
       "    </tr>\n",
       "    <tr>\n",
       "      <th>53</th>\n",
       "      <td>2</td>\n",
       "      <td>53</td>\n",
       "      <td>0</td>\n",
       "      <td>60</td>\n",
       "      <td>11038.80</td>\n",
       "      <td>18398</td>\n",
       "      <td>53</td>\n",
       "      <td>0.485353</td>\n",
       "    </tr>\n",
       "    <tr>\n",
       "      <th>52</th>\n",
       "      <td>3</td>\n",
       "      <td>52</td>\n",
       "      <td>0</td>\n",
       "      <td>59</td>\n",
       "      <td>11026.38</td>\n",
       "      <td>19011</td>\n",
       "      <td>52</td>\n",
       "      <td>0.485353</td>\n",
       "    </tr>\n",
       "    <tr>\n",
       "      <th>49</th>\n",
       "      <td>4</td>\n",
       "      <td>49</td>\n",
       "      <td>0</td>\n",
       "      <td>56</td>\n",
       "      <td>10957.96</td>\n",
       "      <td>21073</td>\n",
       "      <td>49</td>\n",
       "      <td>0.485353</td>\n",
       "    </tr>\n",
       "    <tr>\n",
       "      <th>...</th>\n",
       "      <td>...</td>\n",
       "      <td>...</td>\n",
       "      <td>...</td>\n",
       "      <td>...</td>\n",
       "      <td>...</td>\n",
       "      <td>...</td>\n",
       "      <td>...</td>\n",
       "      <td>...</td>\n",
       "    </tr>\n",
       "    <tr>\n",
       "      <th>2</th>\n",
       "      <td>221</td>\n",
       "      <td>2</td>\n",
       "      <td>0</td>\n",
       "      <td>9</td>\n",
       "      <td>0.06</td>\n",
       "      <td>2</td>\n",
       "      <td>2</td>\n",
       "      <td>0.634978</td>\n",
       "    </tr>\n",
       "    <tr>\n",
       "      <th>4</th>\n",
       "      <td>222</td>\n",
       "      <td>4</td>\n",
       "      <td>0</td>\n",
       "      <td>11</td>\n",
       "      <td>0.03</td>\n",
       "      <td>1</td>\n",
       "      <td>4</td>\n",
       "      <td>0.490718</td>\n",
       "    </tr>\n",
       "    <tr>\n",
       "      <th>3</th>\n",
       "      <td>223</td>\n",
       "      <td>3</td>\n",
       "      <td>0</td>\n",
       "      <td>10</td>\n",
       "      <td>0.03</td>\n",
       "      <td>1</td>\n",
       "      <td>3</td>\n",
       "      <td>0.634978</td>\n",
       "    </tr>\n",
       "    <tr>\n",
       "      <th>1</th>\n",
       "      <td>224</td>\n",
       "      <td>1</td>\n",
       "      <td>0</td>\n",
       "      <td>8</td>\n",
       "      <td>0.02</td>\n",
       "      <td>1</td>\n",
       "      <td>1</td>\n",
       "      <td>0.000000</td>\n",
       "    </tr>\n",
       "    <tr>\n",
       "      <th>0</th>\n",
       "      <td>225</td>\n",
       "      <td>0</td>\n",
       "      <td>0</td>\n",
       "      <td>7</td>\n",
       "      <td>0.02</td>\n",
       "      <td>1</td>\n",
       "      <td>0</td>\n",
       "      <td>0.000000</td>\n",
       "    </tr>\n",
       "  </tbody>\n",
       "</table>\n",
       "<p>226 rows × 8 columns</p>\n",
       "</div>"
      ],
      "text/plain": [
       "    level_0  index  R   T  ml_outcomes      N  row_id  decision\n",
       "51        0     51  0  58     11123.28  19863      51  0.485353\n",
       "50        1     50  0  57     11087.82  20533      50  0.485353\n",
       "53        2     53  0  60     11038.80  18398      53  0.485353\n",
       "52        3     52  0  59     11026.38  19011      52  0.485353\n",
       "49        4     49  0  56     10957.96  21073      49  0.485353\n",
       "..      ...    ... ..  ..          ...    ...     ...       ...\n",
       "2       221      2  0   9         0.06      2       2  0.634978\n",
       "4       222      4  0  11         0.03      1       4  0.490718\n",
       "3       223      3  0  10         0.03      1       3  0.634978\n",
       "1       224      1  0   8         0.02      1       1  0.000000\n",
       "0       225      0  0   7         0.02      1       0  0.000000\n",
       "\n",
       "[226 rows x 8 columns]"
      ]
     },
     "execution_count": 34,
     "metadata": {},
     "output_type": "execute_result"
    }
   ],
   "source": [
    "dff.merge(df_decisions,left_index=True,right_index=True).sort_values(by='ml_outcomes',ascending=False)"
   ]
  },
  {
   "cell_type": "code",
   "execution_count": 35,
   "metadata": {
    "execution": {
     "iopub.execute_input": "2022-01-20T04:28:31.998067Z",
     "iopub.status.busy": "2022-01-20T04:28:31.993117Z",
     "iopub.status.idle": "2022-01-20T04:28:31.999932Z",
     "shell.execute_reply": "2022-01-20T04:28:32.000229Z"
    }
   },
   "outputs": [
    {
     "data": {
      "text/html": [
       "<div>\n",
       "<style scoped>\n",
       "    .dataframe tbody tr th:only-of-type {\n",
       "        vertical-align: middle;\n",
       "    }\n",
       "\n",
       "    .dataframe tbody tr th {\n",
       "        vertical-align: top;\n",
       "    }\n",
       "\n",
       "    .dataframe thead th {\n",
       "        text-align: right;\n",
       "    }\n",
       "</style>\n",
       "<table border=\"1\" class=\"dataframe\">\n",
       "  <thead>\n",
       "    <tr style=\"text-align: right;\">\n",
       "      <th></th>\n",
       "      <th>level_0</th>\n",
       "      <th>index</th>\n",
       "      <th>R</th>\n",
       "      <th>T</th>\n",
       "      <th>ml_outcomes</th>\n",
       "      <th>N</th>\n",
       "      <th>row_id</th>\n",
       "      <th>decision</th>\n",
       "    </tr>\n",
       "  </thead>\n",
       "  <tbody>\n",
       "    <tr>\n",
       "      <th>51</th>\n",
       "      <td>0</td>\n",
       "      <td>51</td>\n",
       "      <td>0</td>\n",
       "      <td>58</td>\n",
       "      <td>11123.28</td>\n",
       "      <td>19863</td>\n",
       "      <td>51</td>\n",
       "      <td>0.485353</td>\n",
       "    </tr>\n",
       "    <tr>\n",
       "      <th>50</th>\n",
       "      <td>1</td>\n",
       "      <td>50</td>\n",
       "      <td>0</td>\n",
       "      <td>57</td>\n",
       "      <td>11087.82</td>\n",
       "      <td>20533</td>\n",
       "      <td>50</td>\n",
       "      <td>0.485353</td>\n",
       "    </tr>\n",
       "    <tr>\n",
       "      <th>53</th>\n",
       "      <td>2</td>\n",
       "      <td>53</td>\n",
       "      <td>0</td>\n",
       "      <td>60</td>\n",
       "      <td>11038.80</td>\n",
       "      <td>18398</td>\n",
       "      <td>53</td>\n",
       "      <td>0.485353</td>\n",
       "    </tr>\n",
       "    <tr>\n",
       "      <th>52</th>\n",
       "      <td>3</td>\n",
       "      <td>52</td>\n",
       "      <td>0</td>\n",
       "      <td>59</td>\n",
       "      <td>11026.38</td>\n",
       "      <td>19011</td>\n",
       "      <td>52</td>\n",
       "      <td>0.485353</td>\n",
       "    </tr>\n",
       "    <tr>\n",
       "      <th>49</th>\n",
       "      <td>4</td>\n",
       "      <td>49</td>\n",
       "      <td>0</td>\n",
       "      <td>56</td>\n",
       "      <td>10957.96</td>\n",
       "      <td>21073</td>\n",
       "      <td>49</td>\n",
       "      <td>0.485353</td>\n",
       "    </tr>\n",
       "    <tr>\n",
       "      <th>...</th>\n",
       "      <td>...</td>\n",
       "      <td>...</td>\n",
       "      <td>...</td>\n",
       "      <td>...</td>\n",
       "      <td>...</td>\n",
       "      <td>...</td>\n",
       "      <td>...</td>\n",
       "      <td>...</td>\n",
       "    </tr>\n",
       "    <tr>\n",
       "      <th>2</th>\n",
       "      <td>221</td>\n",
       "      <td>2</td>\n",
       "      <td>0</td>\n",
       "      <td>9</td>\n",
       "      <td>0.06</td>\n",
       "      <td>2</td>\n",
       "      <td>2</td>\n",
       "      <td>0.634978</td>\n",
       "    </tr>\n",
       "    <tr>\n",
       "      <th>4</th>\n",
       "      <td>222</td>\n",
       "      <td>4</td>\n",
       "      <td>0</td>\n",
       "      <td>11</td>\n",
       "      <td>0.03</td>\n",
       "      <td>1</td>\n",
       "      <td>4</td>\n",
       "      <td>0.490718</td>\n",
       "    </tr>\n",
       "    <tr>\n",
       "      <th>3</th>\n",
       "      <td>223</td>\n",
       "      <td>3</td>\n",
       "      <td>0</td>\n",
       "      <td>10</td>\n",
       "      <td>0.03</td>\n",
       "      <td>1</td>\n",
       "      <td>3</td>\n",
       "      <td>0.634978</td>\n",
       "    </tr>\n",
       "    <tr>\n",
       "      <th>1</th>\n",
       "      <td>224</td>\n",
       "      <td>1</td>\n",
       "      <td>0</td>\n",
       "      <td>8</td>\n",
       "      <td>0.02</td>\n",
       "      <td>1</td>\n",
       "      <td>1</td>\n",
       "      <td>0.000000</td>\n",
       "    </tr>\n",
       "    <tr>\n",
       "      <th>0</th>\n",
       "      <td>225</td>\n",
       "      <td>0</td>\n",
       "      <td>0</td>\n",
       "      <td>7</td>\n",
       "      <td>0.02</td>\n",
       "      <td>1</td>\n",
       "      <td>0</td>\n",
       "      <td>0.000000</td>\n",
       "    </tr>\n",
       "  </tbody>\n",
       "</table>\n",
       "<p>226 rows × 8 columns</p>\n",
       "</div>"
      ],
      "text/plain": [
       "    level_0  index  R   T  ml_outcomes      N  row_id  decision\n",
       "51        0     51  0  58     11123.28  19863      51  0.485353\n",
       "50        1     50  0  57     11087.82  20533      50  0.485353\n",
       "53        2     53  0  60     11038.80  18398      53  0.485353\n",
       "52        3     52  0  59     11026.38  19011      52  0.485353\n",
       "49        4     49  0  56     10957.96  21073      49  0.485353\n",
       "..      ...    ... ..  ..          ...    ...     ...       ...\n",
       "2       221      2  0   9         0.06      2       2  0.634978\n",
       "4       222      4  0  11         0.03      1       4  0.490718\n",
       "3       223      3  0  10         0.03      1       3  0.634978\n",
       "1       224      1  0   8         0.02      1       1  0.000000\n",
       "0       225      0  0   7         0.02      1       0  0.000000\n",
       "\n",
       "[226 rows x 8 columns]"
      ]
     },
     "execution_count": 35,
     "metadata": {},
     "output_type": "execute_result"
    }
   ],
   "source": [
    "xxx = dff.merge(df_decisions,left_index=True,right_index=True).sort_values(by='ml_outcomes',ascending=False)\n",
    "xxx"
   ]
  },
  {
   "cell_type": "code",
   "execution_count": 36,
   "metadata": {
    "execution": {
     "iopub.execute_input": "2022-01-20T04:28:32.009532Z",
     "iopub.status.busy": "2022-01-20T04:28:32.009040Z",
     "iopub.status.idle": "2022-01-20T04:28:32.010826Z",
     "shell.execute_reply": "2022-01-20T04:28:32.011185Z"
    }
   },
   "outputs": [
    {
     "data": {
      "text/html": [
       "<div>\n",
       "<style scoped>\n",
       "    .dataframe tbody tr th:only-of-type {\n",
       "        vertical-align: middle;\n",
       "    }\n",
       "\n",
       "    .dataframe tbody tr th {\n",
       "        vertical-align: top;\n",
       "    }\n",
       "\n",
       "    .dataframe thead th {\n",
       "        text-align: right;\n",
       "    }\n",
       "</style>\n",
       "<table border=\"1\" class=\"dataframe\">\n",
       "  <thead>\n",
       "    <tr style=\"text-align: right;\">\n",
       "      <th></th>\n",
       "      <th>level_0</th>\n",
       "      <th>index</th>\n",
       "      <th>R</th>\n",
       "      <th>T</th>\n",
       "      <th>ml_outcomes</th>\n",
       "      <th>N</th>\n",
       "      <th>row_id</th>\n",
       "      <th>decision</th>\n",
       "    </tr>\n",
       "  </thead>\n",
       "  <tbody>\n",
       "    <tr>\n",
       "      <th>117</th>\n",
       "      <td>211</td>\n",
       "      <td>117</td>\n",
       "      <td>0</td>\n",
       "      <td>125</td>\n",
       "      <td>1.00</td>\n",
       "      <td>1</td>\n",
       "      <td>117</td>\n",
       "      <td>1.0</td>\n",
       "    </tr>\n",
       "    <tr>\n",
       "      <th>114</th>\n",
       "      <td>192</td>\n",
       "      <td>114</td>\n",
       "      <td>0</td>\n",
       "      <td>122</td>\n",
       "      <td>3.00</td>\n",
       "      <td>3</td>\n",
       "      <td>114</td>\n",
       "      <td>1.0</td>\n",
       "    </tr>\n",
       "    <tr>\n",
       "      <th>115</th>\n",
       "      <td>199</td>\n",
       "      <td>115</td>\n",
       "      <td>0</td>\n",
       "      <td>123</td>\n",
       "      <td>2.00</td>\n",
       "      <td>2</td>\n",
       "      <td>115</td>\n",
       "      <td>1.0</td>\n",
       "    </tr>\n",
       "    <tr>\n",
       "      <th>116</th>\n",
       "      <td>206</td>\n",
       "      <td>116</td>\n",
       "      <td>0</td>\n",
       "      <td>124</td>\n",
       "      <td>1.00</td>\n",
       "      <td>1</td>\n",
       "      <td>116</td>\n",
       "      <td>1.0</td>\n",
       "    </tr>\n",
       "    <tr>\n",
       "      <th>121</th>\n",
       "      <td>207</td>\n",
       "      <td>121</td>\n",
       "      <td>0</td>\n",
       "      <td>134</td>\n",
       "      <td>1.00</td>\n",
       "      <td>1</td>\n",
       "      <td>121</td>\n",
       "      <td>1.0</td>\n",
       "    </tr>\n",
       "    <tr>\n",
       "      <th>...</th>\n",
       "      <td>...</td>\n",
       "      <td>...</td>\n",
       "      <td>...</td>\n",
       "      <td>...</td>\n",
       "      <td>...</td>\n",
       "      <td>...</td>\n",
       "      <td>...</td>\n",
       "      <td>...</td>\n",
       "    </tr>\n",
       "    <tr>\n",
       "      <th>122</th>\n",
       "      <td>219</td>\n",
       "      <td>122</td>\n",
       "      <td>1</td>\n",
       "      <td>4</td>\n",
       "      <td>0.26</td>\n",
       "      <td>1</td>\n",
       "      <td>122</td>\n",
       "      <td>0.0</td>\n",
       "    </tr>\n",
       "    <tr>\n",
       "      <th>124</th>\n",
       "      <td>218</td>\n",
       "      <td>124</td>\n",
       "      <td>1</td>\n",
       "      <td>8</td>\n",
       "      <td>0.27</td>\n",
       "      <td>1</td>\n",
       "      <td>124</td>\n",
       "      <td>0.0</td>\n",
       "    </tr>\n",
       "    <tr>\n",
       "      <th>123</th>\n",
       "      <td>215</td>\n",
       "      <td>123</td>\n",
       "      <td>1</td>\n",
       "      <td>7</td>\n",
       "      <td>0.54</td>\n",
       "      <td>2</td>\n",
       "      <td>123</td>\n",
       "      <td>0.0</td>\n",
       "    </tr>\n",
       "    <tr>\n",
       "      <th>1</th>\n",
       "      <td>224</td>\n",
       "      <td>1</td>\n",
       "      <td>0</td>\n",
       "      <td>8</td>\n",
       "      <td>0.02</td>\n",
       "      <td>1</td>\n",
       "      <td>1</td>\n",
       "      <td>0.0</td>\n",
       "    </tr>\n",
       "    <tr>\n",
       "      <th>0</th>\n",
       "      <td>225</td>\n",
       "      <td>0</td>\n",
       "      <td>0</td>\n",
       "      <td>7</td>\n",
       "      <td>0.02</td>\n",
       "      <td>1</td>\n",
       "      <td>0</td>\n",
       "      <td>0.0</td>\n",
       "    </tr>\n",
       "  </tbody>\n",
       "</table>\n",
       "<p>226 rows × 8 columns</p>\n",
       "</div>"
      ],
      "text/plain": [
       "     level_0  index  R    T  ml_outcomes  N  row_id  decision\n",
       "117      211    117  0  125         1.00  1     117       1.0\n",
       "114      192    114  0  122         3.00  3     114       1.0\n",
       "115      199    115  0  123         2.00  2     115       1.0\n",
       "116      206    116  0  124         1.00  1     116       1.0\n",
       "121      207    121  0  134         1.00  1     121       1.0\n",
       "..       ...    ... ..  ...          ... ..     ...       ...\n",
       "122      219    122  1    4         0.26  1     122       0.0\n",
       "124      218    124  1    8         0.27  1     124       0.0\n",
       "123      215    123  1    7         0.54  2     123       0.0\n",
       "1        224      1  0    8         0.02  1       1       0.0\n",
       "0        225      0  0    7         0.02  1       0       0.0\n",
       "\n",
       "[226 rows x 8 columns]"
      ]
     },
     "execution_count": 36,
     "metadata": {},
     "output_type": "execute_result"
    }
   ],
   "source": [
    "xxx.sort_values(by='decision',ascending=False)"
   ]
  },
  {
   "cell_type": "code",
   "execution_count": 37,
   "metadata": {
    "execution": {
     "iopub.execute_input": "2022-01-20T04:28:32.014804Z",
     "iopub.status.busy": "2022-01-20T04:28:32.014379Z",
     "iopub.status.idle": "2022-01-20T04:28:33.320778Z",
     "shell.execute_reply": "2022-01-20T04:28:33.321045Z"
    }
   },
   "outputs": [],
   "source": [
    "df['key'] = df['R'].astype(str)+'_'+df['T'].astype(str)\n",
    "xxx['key'] = xxx['R'].astype(str)+'_'+xxx['T'].astype(str)"
   ]
  },
  {
   "cell_type": "code",
   "execution_count": 38,
   "metadata": {
    "execution": {
     "iopub.execute_input": "2022-01-20T04:28:33.389509Z",
     "iopub.status.busy": "2022-01-20T04:28:33.324978Z",
     "iopub.status.idle": "2022-01-20T04:28:33.969036Z",
     "shell.execute_reply": "2022-01-20T04:28:33.969312Z"
    }
   },
   "outputs": [],
   "source": [
    "admit_decisions = df.merge(xxx,how='left',on='key')\n",
    "admit_decisions['decision_random'] = pd.Series([random.random() for x in range(0,len(admit_decisions))]) < FRAC_ADMIT['A']\n",
    "\n",
    "FRAC_BLACK_POLICY = (admit_decisions['R_y'] * admit_decisions['decision']).sum()/admit_decisions['decision'].sum()\n",
    "SUM_BP_POLICY = ( admit_decisions['B_p'] * admit_decisions['decision']).sum()\n",
    "\n",
    "FRAC_RANDOM_POLICY = (admit_decisions['R_y'] * admit_decisions['decision_random']).sum()/admit_decisions['decision_random'].sum()\n",
    "SUM_BP_RAND_POLICY = ( admit_decisions['B_p'] * admit_decisions['decision_random']).sum()\n"
   ]
  },
  {
   "cell_type": "code",
   "execution_count": 39,
   "metadata": {
    "execution": {
     "iopub.execute_input": "2022-01-20T04:28:33.972615Z",
     "iopub.status.busy": "2022-01-20T04:28:33.972178Z",
     "iopub.status.idle": "2022-01-20T04:28:33.974081Z",
     "shell.execute_reply": "2022-01-20T04:28:33.974374Z"
    }
   },
   "outputs": [],
   "source": [
    "file = open('./lp_results.csv','a')\n",
    "file.write('{}\\t{}\\t{}\\n'.format('Path-Specific Fairness',str(FRAC_BLACK_POLICY),str(SUM_BP_POLICY)))\n",
    "file.close()\n"
   ]
  },
  {
   "cell_type": "code",
   "execution_count": 40,
   "metadata": {
    "execution": {
     "iopub.execute_input": "2022-01-20T04:28:33.978184Z",
     "iopub.status.busy": "2022-01-20T04:28:33.977558Z",
     "iopub.status.idle": "2022-01-20T04:28:33.979388Z",
     "shell.execute_reply": "2022-01-20T04:28:33.979820Z"
    }
   },
   "outputs": [
    {
     "data": {
      "text/plain": [
       "0.48536099999999976"
      ]
     },
     "execution_count": 40,
     "metadata": {},
     "output_type": "execute_result"
    }
   ],
   "source": [
    "(xxx['N']*xxx['decision']).sum()/len(df)"
   ]
  },
  {
   "cell_type": "code",
   "execution_count": null,
   "metadata": {},
   "outputs": [],
   "source": []
  }
 ],
 "metadata": {
  "kernelspec": {
   "display_name": "Python 3 (ipykernel)",
   "language": "python",
   "name": "python3"
  },
  "language_info": {
   "codemirror_mode": {
    "name": "ipython",
    "version": 3
   },
   "file_extension": ".py",
   "mimetype": "text/x-python",
   "name": "python",
   "nbconvert_exporter": "python",
   "pygments_lexer": "ipython3",
   "version": "3.9.7"
  }
 },
 "nbformat": 4,
 "nbformat_minor": 4
}
