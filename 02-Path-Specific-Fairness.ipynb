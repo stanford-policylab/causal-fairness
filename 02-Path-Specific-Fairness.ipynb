{
 "cells": [
  {
   "cell_type": "code",
   "execution_count": 1,
   "metadata": {
    "execution": {
     "iopub.execute_input": "2022-07-18T22:06:37.160131Z",
     "iopub.status.busy": "2022-07-18T22:06:37.159402Z",
     "iopub.status.idle": "2022-07-18T22:06:38.346492Z",
     "shell.execute_reply": "2022-07-18T22:06:38.346846Z"
    }
   },
   "outputs": [],
   "source": [
    "import numpy as np\n",
    "import pandas as pd\n",
    "import matplotlib.pyplot as plt\n",
    "import seaborn as sns\n",
    "import random\n",
    "import os\n",
    "\n",
    "DIVERSITY_UTILITY = float(os.environ.get('DIVERSITY_UTILITY'))\n",
    "FRAC_ADMIT = 0.5\n"
   ]
  },
  {
   "cell_type": "code",
   "execution_count": 2,
   "metadata": {
    "execution": {
     "iopub.execute_input": "2022-07-18T22:06:38.351620Z",
     "iopub.status.busy": "2022-07-18T22:06:38.351210Z",
     "iopub.status.idle": "2022-07-18T22:06:52.488218Z",
     "shell.execute_reply": "2022-07-18T22:06:52.488446Z"
    }
   },
   "outputs": [],
   "source": [
    "###\n",
    "## Load dataframe where each row is a single applicant\n",
    "###\n",
    "\n",
    "df = pd.read_csv('./df_test.csv')\n",
    "df['key'] = df['R'].astype(str) + \"_\"  + df['T'].astype(str)\n",
    "\n",
    "###\n",
    "## Estimate E[Y(1)|T, A]\n",
    "###\n",
    "\n",
    "df_train = pd.read_csv('./df_train.csv')\n",
    "df_stratum_utility = df_train[['R','T','Y']].groupby(['R','T']).mean().reset_index()\n",
    "df_stratum_utility['stratum_utility'] = (df_stratum_utility['Y'] + DIVERSITY_UTILITY * df_stratum_utility['R']).round(2)\n",
    "df_stratum_utility['key'] = df_stratum_utility['R'].astype(str) + \"_\" + df_stratum_utility['T'].astype(str)\n",
    "\n",
    "df = df.merge(df_stratum_utility[['stratum_utility','key']], on='key')\n",
    "df['ml_outcomes'] = df['stratum_utility']"
   ]
  },
  {
   "cell_type": "code",
   "execution_count": 3,
   "metadata": {
    "execution": {
     "iopub.execute_input": "2022-07-18T22:06:52.496205Z",
     "iopub.status.busy": "2022-07-18T22:06:52.495549Z",
     "iopub.status.idle": "2022-07-18T22:06:52.516478Z",
     "shell.execute_reply": "2022-07-18T22:06:52.516726Z"
    }
   },
   "outputs": [
    {
     "data": {
      "text/html": [
       "<div>\n",
       "<style scoped>\n",
       "    .dataframe tbody tr th:only-of-type {\n",
       "        vertical-align: middle;\n",
       "    }\n",
       "\n",
       "    .dataframe tbody tr th {\n",
       "        vertical-align: top;\n",
       "    }\n",
       "\n",
       "    .dataframe thead th {\n",
       "        text-align: right;\n",
       "    }\n",
       "</style>\n",
       "<table border=\"1\" class=\"dataframe\">\n",
       "  <thead>\n",
       "    <tr style=\"text-align: right;\">\n",
       "      <th></th>\n",
       "      <th>Unnamed: 0</th>\n",
       "      <th>R</th>\n",
       "      <th>E_noise</th>\n",
       "      <th>E_minority</th>\n",
       "      <th>E_majority</th>\n",
       "      <th>M_noise</th>\n",
       "      <th>M_minority</th>\n",
       "      <th>M_majority</th>\n",
       "      <th>T_noise</th>\n",
       "      <th>T_minority</th>\n",
       "      <th>...</th>\n",
       "      <th>Y_unif</th>\n",
       "      <th>Y_reject_noise</th>\n",
       "      <th>Y</th>\n",
       "      <th>Y_raw</th>\n",
       "      <th>Y_reject</th>\n",
       "      <th>Y_reject_raw</th>\n",
       "      <th>D_p</th>\n",
       "      <th>key</th>\n",
       "      <th>stratum_utility</th>\n",
       "      <th>ml_outcomes</th>\n",
       "    </tr>\n",
       "  </thead>\n",
       "  <tbody>\n",
       "    <tr>\n",
       "      <th>0</th>\n",
       "      <td>1</td>\n",
       "      <td>0</td>\n",
       "      <td>0.158618</td>\n",
       "      <td>0.158618</td>\n",
       "      <td>1.158618</td>\n",
       "      <td>1.214932</td>\n",
       "      <td>0.373550</td>\n",
       "      <td>1.373550</td>\n",
       "      <td>-1.736028</td>\n",
       "      <td>50</td>\n",
       "      <td>...</td>\n",
       "      <td>0.297061</td>\n",
       "      <td>-0.606825</td>\n",
       "      <td>1</td>\n",
       "      <td>0.797953</td>\n",
       "      <td>1</td>\n",
       "      <td>0.705484</td>\n",
       "      <td>0</td>\n",
       "      <td>0_60</td>\n",
       "      <td>0.60</td>\n",
       "      <td>0.60</td>\n",
       "    </tr>\n",
       "    <tr>\n",
       "      <th>1</th>\n",
       "      <td>33</td>\n",
       "      <td>0</td>\n",
       "      <td>0.929559</td>\n",
       "      <td>0.929559</td>\n",
       "      <td>1.929559</td>\n",
       "      <td>1.030761</td>\n",
       "      <td>0.960320</td>\n",
       "      <td>1.960320</td>\n",
       "      <td>-9.231331</td>\n",
       "      <td>49</td>\n",
       "      <td>...</td>\n",
       "      <td>0.758953</td>\n",
       "      <td>-0.912900</td>\n",
       "      <td>1</td>\n",
       "      <td>0.876568</td>\n",
       "      <td>1</td>\n",
       "      <td>0.811582</td>\n",
       "      <td>0</td>\n",
       "      <td>0_60</td>\n",
       "      <td>0.60</td>\n",
       "      <td>0.60</td>\n",
       "    </tr>\n",
       "    <tr>\n",
       "      <th>2</th>\n",
       "      <td>93</td>\n",
       "      <td>0</td>\n",
       "      <td>0.394233</td>\n",
       "      <td>0.394233</td>\n",
       "      <td>1.394233</td>\n",
       "      <td>-0.162916</td>\n",
       "      <td>-0.768683</td>\n",
       "      <td>0.231317</td>\n",
       "      <td>2.849825</td>\n",
       "      <td>51</td>\n",
       "      <td>...</td>\n",
       "      <td>0.057257</td>\n",
       "      <td>-1.373668</td>\n",
       "      <td>1</td>\n",
       "      <td>0.557573</td>\n",
       "      <td>1</td>\n",
       "      <td>0.433230</td>\n",
       "      <td>0</td>\n",
       "      <td>0_60</td>\n",
       "      <td>0.60</td>\n",
       "      <td>0.60</td>\n",
       "    </tr>\n",
       "    <tr>\n",
       "      <th>3</th>\n",
       "      <td>122</td>\n",
       "      <td>0</td>\n",
       "      <td>0.847899</td>\n",
       "      <td>0.847899</td>\n",
       "      <td>1.847899</td>\n",
       "      <td>0.232451</td>\n",
       "      <td>0.080350</td>\n",
       "      <td>1.080350</td>\n",
       "      <td>-3.511498</td>\n",
       "      <td>50</td>\n",
       "      <td>...</td>\n",
       "      <td>0.501282</td>\n",
       "      <td>-0.570888</td>\n",
       "      <td>1</td>\n",
       "      <td>0.746560</td>\n",
       "      <td>1</td>\n",
       "      <td>0.641148</td>\n",
       "      <td>0</td>\n",
       "      <td>0_60</td>\n",
       "      <td>0.60</td>\n",
       "      <td>0.60</td>\n",
       "    </tr>\n",
       "    <tr>\n",
       "      <th>4</th>\n",
       "      <td>179</td>\n",
       "      <td>0</td>\n",
       "      <td>-0.418852</td>\n",
       "      <td>-0.418852</td>\n",
       "      <td>0.581148</td>\n",
       "      <td>2.455702</td>\n",
       "      <td>1.036849</td>\n",
       "      <td>2.036849</td>\n",
       "      <td>-1.452177</td>\n",
       "      <td>51</td>\n",
       "      <td>...</td>\n",
       "      <td>0.502588</td>\n",
       "      <td>-0.393381</td>\n",
       "      <td>1</td>\n",
       "      <td>0.884612</td>\n",
       "      <td>1</td>\n",
       "      <td>0.823006</td>\n",
       "      <td>0</td>\n",
       "      <td>0_60</td>\n",
       "      <td>0.60</td>\n",
       "      <td>0.60</td>\n",
       "    </tr>\n",
       "    <tr>\n",
       "      <th>...</th>\n",
       "      <td>...</td>\n",
       "      <td>...</td>\n",
       "      <td>...</td>\n",
       "      <td>...</td>\n",
       "      <td>...</td>\n",
       "      <td>...</td>\n",
       "      <td>...</td>\n",
       "      <td>...</td>\n",
       "      <td>...</td>\n",
       "      <td>...</td>\n",
       "      <td>...</td>\n",
       "      <td>...</td>\n",
       "      <td>...</td>\n",
       "      <td>...</td>\n",
       "      <td>...</td>\n",
       "      <td>...</td>\n",
       "      <td>...</td>\n",
       "      <td>...</td>\n",
       "      <td>...</td>\n",
       "      <td>...</td>\n",
       "      <td>...</td>\n",
       "    </tr>\n",
       "    <tr>\n",
       "      <th>99995</th>\n",
       "      <td>88718</td>\n",
       "      <td>0</td>\n",
       "      <td>3.072167</td>\n",
       "      <td>3.072167</td>\n",
       "      <td>4.072167</td>\n",
       "      <td>0.592295</td>\n",
       "      <td>2.664462</td>\n",
       "      <td>3.664462</td>\n",
       "      <td>10.416139</td>\n",
       "      <td>92</td>\n",
       "      <td>...</td>\n",
       "      <td>0.047716</td>\n",
       "      <td>-1.149934</td>\n",
       "      <td>1</td>\n",
       "      <td>0.975022</td>\n",
       "      <td>1</td>\n",
       "      <td>0.959475</td>\n",
       "      <td>0</td>\n",
       "      <td>0_106</td>\n",
       "      <td>0.98</td>\n",
       "      <td>0.98</td>\n",
       "    </tr>\n",
       "    <tr>\n",
       "      <th>99996</th>\n",
       "      <td>88564</td>\n",
       "      <td>0</td>\n",
       "      <td>3.785779</td>\n",
       "      <td>3.785779</td>\n",
       "      <td>4.785779</td>\n",
       "      <td>0.514379</td>\n",
       "      <td>3.300159</td>\n",
       "      <td>4.300159</td>\n",
       "      <td>10.936999</td>\n",
       "      <td>102</td>\n",
       "      <td>...</td>\n",
       "      <td>0.040181</td>\n",
       "      <td>-0.536345</td>\n",
       "      <td>1</td>\n",
       "      <td>0.986615</td>\n",
       "      <td>1</td>\n",
       "      <td>0.978122</td>\n",
       "      <td>0</td>\n",
       "      <td>0_118</td>\n",
       "      <td>0.98</td>\n",
       "      <td>0.98</td>\n",
       "    </tr>\n",
       "    <tr>\n",
       "      <th>99997</th>\n",
       "      <td>89639</td>\n",
       "      <td>1</td>\n",
       "      <td>3.230455</td>\n",
       "      <td>3.230455</td>\n",
       "      <td>4.230455</td>\n",
       "      <td>0.993001</td>\n",
       "      <td>3.223457</td>\n",
       "      <td>4.223457</td>\n",
       "      <td>8.873157</td>\n",
       "      <td>95</td>\n",
       "      <td>...</td>\n",
       "      <td>0.066753</td>\n",
       "      <td>-0.828693</td>\n",
       "      <td>1</td>\n",
       "      <td>0.961708</td>\n",
       "      <td>1</td>\n",
       "      <td>0.938397</td>\n",
       "      <td>1</td>\n",
       "      <td>1_95</td>\n",
       "      <td>1.19</td>\n",
       "      <td>1.19</td>\n",
       "    </tr>\n",
       "    <tr>\n",
       "      <th>99998</th>\n",
       "      <td>95298</td>\n",
       "      <td>1</td>\n",
       "      <td>-1.366077</td>\n",
       "      <td>-1.366077</td>\n",
       "      <td>-0.366077</td>\n",
       "      <td>-2.583951</td>\n",
       "      <td>-4.950028</td>\n",
       "      <td>-3.950028</td>\n",
       "      <td>-19.444103</td>\n",
       "      <td>12</td>\n",
       "      <td>...</td>\n",
       "      <td>0.781385</td>\n",
       "      <td>-0.635485</td>\n",
       "      <td>0</td>\n",
       "      <td>0.007033</td>\n",
       "      <td>0</td>\n",
       "      <td>0.004278</td>\n",
       "      <td>1</td>\n",
       "      <td>1_12</td>\n",
       "      <td>0.31</td>\n",
       "      <td>0.31</td>\n",
       "    </tr>\n",
       "    <tr>\n",
       "      <th>99999</th>\n",
       "      <td>99809</td>\n",
       "      <td>0</td>\n",
       "      <td>-3.713883</td>\n",
       "      <td>-3.713883</td>\n",
       "      <td>-2.713883</td>\n",
       "      <td>-0.597621</td>\n",
       "      <td>-5.311505</td>\n",
       "      <td>-4.311505</td>\n",
       "      <td>-20.349174</td>\n",
       "      <td>13</td>\n",
       "      <td>...</td>\n",
       "      <td>0.796157</td>\n",
       "      <td>-0.903310</td>\n",
       "      <td>0</td>\n",
       "      <td>0.013236</td>\n",
       "      <td>0</td>\n",
       "      <td>0.008070</td>\n",
       "      <td>0</td>\n",
       "      <td>0_13</td>\n",
       "      <td>0.10</td>\n",
       "      <td>0.10</td>\n",
       "    </tr>\n",
       "  </tbody>\n",
       "</table>\n",
       "<p>100000 rows × 26 columns</p>\n",
       "</div>"
      ],
      "text/plain": [
       "       Unnamed: 0  R   E_noise  E_minority  E_majority   M_noise  M_minority  \\\n",
       "0               1  0  0.158618    0.158618    1.158618  1.214932    0.373550   \n",
       "1              33  0  0.929559    0.929559    1.929559  1.030761    0.960320   \n",
       "2              93  0  0.394233    0.394233    1.394233 -0.162916   -0.768683   \n",
       "3             122  0  0.847899    0.847899    1.847899  0.232451    0.080350   \n",
       "4             179  0 -0.418852   -0.418852    0.581148  2.455702    1.036849   \n",
       "...           ... ..       ...         ...         ...       ...         ...   \n",
       "99995       88718  0  3.072167    3.072167    4.072167  0.592295    2.664462   \n",
       "99996       88564  0  3.785779    3.785779    4.785779  0.514379    3.300159   \n",
       "99997       89639  1  3.230455    3.230455    4.230455  0.993001    3.223457   \n",
       "99998       95298  1 -1.366077   -1.366077   -0.366077 -2.583951   -4.950028   \n",
       "99999       99809  0 -3.713883   -3.713883   -2.713883 -0.597621   -5.311505   \n",
       "\n",
       "       M_majority    T_noise  T_minority  ...    Y_unif  Y_reject_noise  Y  \\\n",
       "0        1.373550  -1.736028          50  ...  0.297061       -0.606825  1   \n",
       "1        1.960320  -9.231331          49  ...  0.758953       -0.912900  1   \n",
       "2        0.231317   2.849825          51  ...  0.057257       -1.373668  1   \n",
       "3        1.080350  -3.511498          50  ...  0.501282       -0.570888  1   \n",
       "4        2.036849  -1.452177          51  ...  0.502588       -0.393381  1   \n",
       "...           ...        ...         ...  ...       ...             ... ..   \n",
       "99995    3.664462  10.416139          92  ...  0.047716       -1.149934  1   \n",
       "99996    4.300159  10.936999         102  ...  0.040181       -0.536345  1   \n",
       "99997    4.223457   8.873157          95  ...  0.066753       -0.828693  1   \n",
       "99998   -3.950028 -19.444103          12  ...  0.781385       -0.635485  0   \n",
       "99999   -4.311505 -20.349174          13  ...  0.796157       -0.903310  0   \n",
       "\n",
       "          Y_raw  Y_reject  Y_reject_raw  D_p    key  stratum_utility  \\\n",
       "0      0.797953         1      0.705484    0   0_60             0.60   \n",
       "1      0.876568         1      0.811582    0   0_60             0.60   \n",
       "2      0.557573         1      0.433230    0   0_60             0.60   \n",
       "3      0.746560         1      0.641148    0   0_60             0.60   \n",
       "4      0.884612         1      0.823006    0   0_60             0.60   \n",
       "...         ...       ...           ...  ...    ...              ...   \n",
       "99995  0.975022         1      0.959475    0  0_106             0.98   \n",
       "99996  0.986615         1      0.978122    0  0_118             0.98   \n",
       "99997  0.961708         1      0.938397    1   1_95             1.19   \n",
       "99998  0.007033         0      0.004278    1   1_12             0.31   \n",
       "99999  0.013236         0      0.008070    0   0_13             0.10   \n",
       "\n",
       "       ml_outcomes  \n",
       "0             0.60  \n",
       "1             0.60  \n",
       "2             0.60  \n",
       "3             0.60  \n",
       "4             0.60  \n",
       "...            ...  \n",
       "99995         0.98  \n",
       "99996         0.98  \n",
       "99997         1.19  \n",
       "99998         0.31  \n",
       "99999         0.10  \n",
       "\n",
       "[100000 rows x 26 columns]"
      ]
     },
     "execution_count": 3,
     "metadata": {},
     "output_type": "execute_result"
    }
   ],
   "source": [
    "df"
   ]
  },
  {
   "cell_type": "code",
   "execution_count": 4,
   "metadata": {
    "execution": {
     "iopub.execute_input": "2022-07-18T22:06:52.519107Z",
     "iopub.status.busy": "2022-07-18T22:06:52.518727Z",
     "iopub.status.idle": "2022-07-18T22:06:52.519765Z",
     "shell.execute_reply": "2022-07-18T22:06:52.520059Z"
    }
   },
   "outputs": [],
   "source": [
    "FRAC_ADMIT = 0.5#df[['A']].sum()/len(df)\n"
   ]
  },
  {
   "cell_type": "code",
   "execution_count": 5,
   "metadata": {
    "execution": {
     "iopub.execute_input": "2022-07-18T22:06:52.522977Z",
     "iopub.status.busy": "2022-07-18T22:06:52.522474Z",
     "iopub.status.idle": "2022-07-18T22:06:52.531128Z",
     "shell.execute_reply": "2022-07-18T22:06:52.531389Z"
    }
   },
   "outputs": [],
   "source": [
    "###\n",
    "## Get total utility from admitting people in a stratum \n",
    "###\n",
    "\n",
    "df_ = df[['R','T','ml_outcomes']].groupby(['R','T']).sum().reset_index()"
   ]
  },
  {
   "cell_type": "code",
   "execution_count": 6,
   "metadata": {
    "execution": {
     "iopub.execute_input": "2022-07-18T22:06:52.535111Z",
     "iopub.status.busy": "2022-07-18T22:06:52.534737Z",
     "iopub.status.idle": "2022-07-18T22:06:52.539683Z",
     "shell.execute_reply": "2022-07-18T22:06:52.539367Z"
    }
   },
   "outputs": [],
   "source": [
    "###\n",
    "## Get number of people in each stratum\n",
    "###\n",
    "\n",
    "df_count = df[['R','T','ml_outcomes']].groupby(['R','T']).count().reset_index()\n",
    "df_count.columns = ['R','T','Count']\n",
    "df_count['N'] = df_count['Count']"
   ]
  },
  {
   "cell_type": "code",
   "execution_count": 7,
   "metadata": {
    "execution": {
     "iopub.execute_input": "2022-07-18T22:06:52.544214Z",
     "iopub.status.busy": "2022-07-18T22:06:52.543777Z",
     "iopub.status.idle": "2022-07-18T22:06:52.545305Z",
     "shell.execute_reply": "2022-07-18T22:06:52.545667Z"
    }
   },
   "outputs": [],
   "source": [
    "###\n",
    "## Merge summary tables to get one table with Race, Test Score, SUM(Utility), COUNT(applicants) per stratum\n",
    "###\n",
    "\n",
    "dff = df_.merge(df_count[['N']],left_index=True,right_index=True).sort_values(by='ml_outcomes',ascending=False).reset_index().sort_values(by='index').reset_index()"
   ]
  },
  {
   "cell_type": "code",
   "execution_count": 8,
   "metadata": {
    "execution": {
     "iopub.execute_input": "2022-07-18T22:06:52.552521Z",
     "iopub.status.busy": "2022-07-18T22:06:52.552145Z",
     "iopub.status.idle": "2022-07-18T22:06:52.553792Z",
     "shell.execute_reply": "2022-07-18T22:06:52.554088Z"
    }
   },
   "outputs": [
    {
     "data": {
      "text/html": [
       "<div>\n",
       "<style scoped>\n",
       "    .dataframe tbody tr th:only-of-type {\n",
       "        vertical-align: middle;\n",
       "    }\n",
       "\n",
       "    .dataframe tbody tr th {\n",
       "        vertical-align: top;\n",
       "    }\n",
       "\n",
       "    .dataframe thead th {\n",
       "        text-align: right;\n",
       "    }\n",
       "</style>\n",
       "<table border=\"1\" class=\"dataframe\">\n",
       "  <thead>\n",
       "    <tr style=\"text-align: right;\">\n",
       "      <th></th>\n",
       "      <th>level_0</th>\n",
       "      <th>index</th>\n",
       "      <th>R</th>\n",
       "      <th>T</th>\n",
       "      <th>ml_outcomes</th>\n",
       "      <th>N</th>\n",
       "    </tr>\n",
       "  </thead>\n",
       "  <tbody>\n",
       "    <tr>\n",
       "      <th>0</th>\n",
       "      <td>191</td>\n",
       "      <td>0</td>\n",
       "      <td>0</td>\n",
       "      <td>12</td>\n",
       "      <td>0.02</td>\n",
       "      <td>1</td>\n",
       "    </tr>\n",
       "    <tr>\n",
       "      <th>3</th>\n",
       "      <td>190</td>\n",
       "      <td>3</td>\n",
       "      <td>0</td>\n",
       "      <td>16</td>\n",
       "      <td>0.06</td>\n",
       "      <td>2</td>\n",
       "    </tr>\n",
       "    <tr>\n",
       "      <th>2</th>\n",
       "      <td>189</td>\n",
       "      <td>2</td>\n",
       "      <td>0</td>\n",
       "      <td>15</td>\n",
       "      <td>0.07</td>\n",
       "      <td>1</td>\n",
       "    </tr>\n",
       "    <tr>\n",
       "      <th>1</th>\n",
       "      <td>188</td>\n",
       "      <td>1</td>\n",
       "      <td>0</td>\n",
       "      <td>13</td>\n",
       "      <td>0.10</td>\n",
       "      <td>1</td>\n",
       "    </tr>\n",
       "    <tr>\n",
       "      <th>104</th>\n",
       "      <td>187</td>\n",
       "      <td>104</td>\n",
       "      <td>1</td>\n",
       "      <td>7</td>\n",
       "      <td>0.25</td>\n",
       "      <td>1</td>\n",
       "    </tr>\n",
       "    <tr>\n",
       "      <th>...</th>\n",
       "      <td>...</td>\n",
       "      <td>...</td>\n",
       "      <td>...</td>\n",
       "      <td>...</td>\n",
       "      <td>...</td>\n",
       "      <td>...</td>\n",
       "    </tr>\n",
       "    <tr>\n",
       "      <th>49</th>\n",
       "      <td>4</td>\n",
       "      <td>49</td>\n",
       "      <td>0</td>\n",
       "      <td>62</td>\n",
       "      <td>1074.56</td>\n",
       "      <td>1679</td>\n",
       "    </tr>\n",
       "    <tr>\n",
       "      <th>42</th>\n",
       "      <td>3</td>\n",
       "      <td>42</td>\n",
       "      <td>0</td>\n",
       "      <td>55</td>\n",
       "      <td>1091.00</td>\n",
       "      <td>2182</td>\n",
       "    </tr>\n",
       "    <tr>\n",
       "      <th>44</th>\n",
       "      <td>2</td>\n",
       "      <td>44</td>\n",
       "      <td>0</td>\n",
       "      <td>57</td>\n",
       "      <td>1107.54</td>\n",
       "      <td>2051</td>\n",
       "    </tr>\n",
       "    <tr>\n",
       "      <th>46</th>\n",
       "      <td>1</td>\n",
       "      <td>46</td>\n",
       "      <td>0</td>\n",
       "      <td>59</td>\n",
       "      <td>1115.34</td>\n",
       "      <td>1923</td>\n",
       "    </tr>\n",
       "    <tr>\n",
       "      <th>45</th>\n",
       "      <td>0</td>\n",
       "      <td>45</td>\n",
       "      <td>0</td>\n",
       "      <td>58</td>\n",
       "      <td>1123.36</td>\n",
       "      <td>2006</td>\n",
       "    </tr>\n",
       "  </tbody>\n",
       "</table>\n",
       "<p>192 rows × 6 columns</p>\n",
       "</div>"
      ],
      "text/plain": [
       "     level_0  index  R   T  ml_outcomes     N\n",
       "0        191      0  0  12         0.02     1\n",
       "3        190      3  0  16         0.06     2\n",
       "2        189      2  0  15         0.07     1\n",
       "1        188      1  0  13         0.10     1\n",
       "104      187    104  1   7         0.25     1\n",
       "..       ...    ... ..  ..          ...   ...\n",
       "49         4     49  0  62      1074.56  1679\n",
       "42         3     42  0  55      1091.00  2182\n",
       "44         2     44  0  57      1107.54  2051\n",
       "46         1     46  0  59      1115.34  1923\n",
       "45         0     45  0  58      1123.36  2006\n",
       "\n",
       "[192 rows x 6 columns]"
      ]
     },
     "execution_count": 8,
     "metadata": {},
     "output_type": "execute_result"
    }
   ],
   "source": [
    "# final info table\n",
    "dff.sort_values(by='ml_outcomes')"
   ]
  },
  {
   "cell_type": "code",
   "execution_count": null,
   "metadata": {},
   "outputs": [],
   "source": []
  },
  {
   "cell_type": "markdown",
   "metadata": {},
   "source": [
    "### Setup optimization problem "
   ]
  },
  {
   "cell_type": "code",
   "execution_count": 9,
   "metadata": {
    "execution": {
     "iopub.execute_input": "2022-07-18T22:06:52.556554Z",
     "iopub.status.busy": "2022-07-18T22:06:52.556195Z",
     "iopub.status.idle": "2022-07-18T22:06:52.580481Z",
     "shell.execute_reply": "2022-07-18T22:06:52.580775Z"
    }
   },
   "outputs": [],
   "source": [
    "from ortools.linear_solver import pywraplp\n"
   ]
  },
  {
   "cell_type": "code",
   "execution_count": 10,
   "metadata": {
    "execution": {
     "iopub.execute_input": "2022-07-18T22:06:52.583446Z",
     "iopub.status.busy": "2022-07-18T22:06:52.583090Z",
     "iopub.status.idle": "2022-07-18T22:06:52.584458Z",
     "shell.execute_reply": "2022-07-18T22:06:52.584852Z"
    }
   },
   "outputs": [],
   "source": [
    "solver = pywraplp.Solver.CreateSolver('GLOP')\n"
   ]
  },
  {
   "cell_type": "code",
   "execution_count": 11,
   "metadata": {
    "execution": {
     "iopub.execute_input": "2022-07-18T22:06:52.591091Z",
     "iopub.status.busy": "2022-07-18T22:06:52.590723Z",
     "iopub.status.idle": "2022-07-18T22:06:52.592278Z",
     "shell.execute_reply": "2022-07-18T22:06:52.592584Z"
    }
   },
   "outputs": [
    {
     "data": {
      "text/html": [
       "<div>\n",
       "<style scoped>\n",
       "    .dataframe tbody tr th:only-of-type {\n",
       "        vertical-align: middle;\n",
       "    }\n",
       "\n",
       "    .dataframe tbody tr th {\n",
       "        vertical-align: top;\n",
       "    }\n",
       "\n",
       "    .dataframe thead th {\n",
       "        text-align: right;\n",
       "    }\n",
       "</style>\n",
       "<table border=\"1\" class=\"dataframe\">\n",
       "  <thead>\n",
       "    <tr style=\"text-align: right;\">\n",
       "      <th></th>\n",
       "      <th>level_0</th>\n",
       "      <th>index</th>\n",
       "      <th>R</th>\n",
       "      <th>T</th>\n",
       "      <th>ml_outcomes</th>\n",
       "      <th>N</th>\n",
       "    </tr>\n",
       "  </thead>\n",
       "  <tbody>\n",
       "    <tr>\n",
       "      <th>0</th>\n",
       "      <td>191</td>\n",
       "      <td>0</td>\n",
       "      <td>0</td>\n",
       "      <td>12</td>\n",
       "      <td>0.02</td>\n",
       "      <td>1</td>\n",
       "    </tr>\n",
       "    <tr>\n",
       "      <th>1</th>\n",
       "      <td>188</td>\n",
       "      <td>1</td>\n",
       "      <td>0</td>\n",
       "      <td>13</td>\n",
       "      <td>0.10</td>\n",
       "      <td>1</td>\n",
       "    </tr>\n",
       "    <tr>\n",
       "      <th>2</th>\n",
       "      <td>189</td>\n",
       "      <td>2</td>\n",
       "      <td>0</td>\n",
       "      <td>15</td>\n",
       "      <td>0.07</td>\n",
       "      <td>1</td>\n",
       "    </tr>\n",
       "    <tr>\n",
       "      <th>3</th>\n",
       "      <td>190</td>\n",
       "      <td>3</td>\n",
       "      <td>0</td>\n",
       "      <td>16</td>\n",
       "      <td>0.06</td>\n",
       "      <td>2</td>\n",
       "    </tr>\n",
       "    <tr>\n",
       "      <th>4</th>\n",
       "      <td>183</td>\n",
       "      <td>4</td>\n",
       "      <td>0</td>\n",
       "      <td>17</td>\n",
       "      <td>0.48</td>\n",
       "      <td>8</td>\n",
       "    </tr>\n",
       "    <tr>\n",
       "      <th>...</th>\n",
       "      <td>...</td>\n",
       "      <td>...</td>\n",
       "      <td>...</td>\n",
       "      <td>...</td>\n",
       "      <td>...</td>\n",
       "      <td>...</td>\n",
       "    </tr>\n",
       "    <tr>\n",
       "      <th>187</th>\n",
       "      <td>172</td>\n",
       "      <td>187</td>\n",
       "      <td>1</td>\n",
       "      <td>95</td>\n",
       "      <td>1.19</td>\n",
       "      <td>1</td>\n",
       "    </tr>\n",
       "    <tr>\n",
       "      <th>188</th>\n",
       "      <td>166</td>\n",
       "      <td>188</td>\n",
       "      <td>1</td>\n",
       "      <td>97</td>\n",
       "      <td>1.25</td>\n",
       "      <td>1</td>\n",
       "    </tr>\n",
       "    <tr>\n",
       "      <th>189</th>\n",
       "      <td>167</td>\n",
       "      <td>189</td>\n",
       "      <td>1</td>\n",
       "      <td>98</td>\n",
       "      <td>1.25</td>\n",
       "      <td>1</td>\n",
       "    </tr>\n",
       "    <tr>\n",
       "      <th>190</th>\n",
       "      <td>169</td>\n",
       "      <td>190</td>\n",
       "      <td>1</td>\n",
       "      <td>101</td>\n",
       "      <td>1.23</td>\n",
       "      <td>1</td>\n",
       "    </tr>\n",
       "    <tr>\n",
       "      <th>191</th>\n",
       "      <td>168</td>\n",
       "      <td>191</td>\n",
       "      <td>1</td>\n",
       "      <td>112</td>\n",
       "      <td>1.25</td>\n",
       "      <td>1</td>\n",
       "    </tr>\n",
       "  </tbody>\n",
       "</table>\n",
       "<p>192 rows × 6 columns</p>\n",
       "</div>"
      ],
      "text/plain": [
       "     level_0  index  R    T  ml_outcomes  N\n",
       "0        191      0  0   12         0.02  1\n",
       "1        188      1  0   13         0.10  1\n",
       "2        189      2  0   15         0.07  1\n",
       "3        190      3  0   16         0.06  2\n",
       "4        183      4  0   17         0.48  8\n",
       "..       ...    ... ..  ...          ... ..\n",
       "187      172    187  1   95         1.19  1\n",
       "188      166    188  1   97         1.25  1\n",
       "189      167    189  1   98         1.25  1\n",
       "190      169    190  1  101         1.23  1\n",
       "191      168    191  1  112         1.25  1\n",
       "\n",
       "[192 rows x 6 columns]"
      ]
     },
     "execution_count": 11,
     "metadata": {},
     "output_type": "execute_result"
    }
   ],
   "source": [
    "dff"
   ]
  },
  {
   "cell_type": "code",
   "execution_count": 12,
   "metadata": {
    "execution": {
     "iopub.execute_input": "2022-07-18T22:06:52.601385Z",
     "iopub.status.busy": "2022-07-18T22:06:52.601027Z",
     "iopub.status.idle": "2022-07-18T22:06:52.602438Z",
     "shell.execute_reply": "2022-07-18T22:06:52.602724Z"
    }
   },
   "outputs": [],
   "source": [
    "applicant_stratum = []\n",
    "vars_cache = {}\n",
    "\n",
    "# Objective: Maximize the expected utility of the admitted students\n",
    "objective = solver.Objective()\n",
    "\n",
    "# For each stratum\n",
    "for ix, row in dff.iterrows():\n",
    "    # probability of admission\n",
    "    numvar = solver.NumVar(0.0, 1.0, str(ix))\n",
    "    \n",
    "    # store variable by index, and also by stratum R, T\n",
    "    applicant_stratum.append(numvar)\n",
    "    vars_cache[(row['R'],row['T'])] = numvar\n",
    "    \n",
    "    # Benefit of admitting people is total utility in that stratum\n",
    "    objective.SetCoefficient(applicant_stratum[ix], float(row['ml_outcomes']))\n",
    "objective.SetMaximization()\n"
   ]
  },
  {
   "cell_type": "code",
   "execution_count": 13,
   "metadata": {
    "execution": {
     "iopub.execute_input": "2022-07-18T22:06:52.605081Z",
     "iopub.status.busy": "2022-07-18T22:06:52.604687Z",
     "iopub.status.idle": "2022-07-18T22:06:52.606138Z",
     "shell.execute_reply": "2022-07-18T22:06:52.606522Z"
    }
   },
   "outputs": [
    {
     "data": {
      "text/plain": [
       "0"
      ]
     },
     "execution_count": 13,
     "metadata": {},
     "output_type": "execute_result"
    }
   ],
   "source": [
    "# Currently we have no constraints \n",
    "solver.NumConstraints()"
   ]
  },
  {
   "cell_type": "code",
   "execution_count": 14,
   "metadata": {
    "execution": {
     "iopub.execute_input": "2022-07-18T22:06:52.613312Z",
     "iopub.status.busy": "2022-07-18T22:06:52.612957Z",
     "iopub.status.idle": "2022-07-18T22:06:52.614448Z",
     "shell.execute_reply": "2022-07-18T22:06:52.614749Z"
    },
    "scrolled": true
   },
   "outputs": [
    {
     "name": "stdout",
     "output_type": "stream",
     "text": [
      "50000\n"
     ]
    }
   ],
   "source": [
    "# Constraint: At most K applicants\n",
    "K = int(len(df)*FRAC_ADMIT)\n",
    "print(K)\n",
    "admit_quota = solver.Constraint(0, K)\n",
    "\n",
    "# Total applicants cannot exceed K \n",
    "for ix, row in dff.iterrows():\n",
    "    admit_quota.SetCoefficient(applicant_stratum[ix], float(row['N']))"
   ]
  },
  {
   "cell_type": "code",
   "execution_count": 15,
   "metadata": {
    "execution": {
     "iopub.execute_input": "2022-07-18T22:06:52.617032Z",
     "iopub.status.busy": "2022-07-18T22:06:52.616643Z",
     "iopub.status.idle": "2022-07-18T22:06:52.618337Z",
     "shell.execute_reply": "2022-07-18T22:06:52.618665Z"
    }
   },
   "outputs": [
    {
     "data": {
      "text/plain": [
       "1"
      ]
     },
     "execution_count": 15,
     "metadata": {},
     "output_type": "execute_result"
    }
   ],
   "source": [
    "# Now we have one constraint\n",
    "solver.NumConstraints()"
   ]
  },
  {
   "cell_type": "code",
   "execution_count": null,
   "metadata": {},
   "outputs": [],
   "source": []
  },
  {
   "cell_type": "markdown",
   "metadata": {},
   "source": [
    "## Add CF Fair constraints"
   ]
  },
  {
   "cell_type": "code",
   "execution_count": 16,
   "metadata": {
    "execution": {
     "iopub.execute_input": "2022-07-18T22:06:52.621971Z",
     "iopub.status.busy": "2022-07-18T22:06:52.621566Z",
     "iopub.status.idle": "2022-07-18T22:06:52.622768Z",
     "shell.execute_reply": "2022-07-18T22:06:52.623008Z"
    }
   },
   "outputs": [],
   "source": [
    "from collections import Counter\n",
    "\n",
    "def convertListToProb(raw_list):\n",
    "    counts = dict(Counter(raw_list))\n",
    "    probs = {}\n",
    "    for test_score in counts:\n",
    "        probs[test_score]  = counts[test_score]/float(len(raw_list))\n",
    "    return [(probs[t], t) for t in probs]"
   ]
  },
  {
   "cell_type": "code",
   "execution_count": 17,
   "metadata": {
    "execution": {
     "iopub.execute_input": "2022-07-18T22:06:52.625986Z",
     "iopub.status.busy": "2022-07-18T22:06:52.625498Z",
     "iopub.status.idle": "2022-07-18T22:06:52.637985Z",
     "shell.execute_reply": "2022-07-18T22:06:52.638236Z"
    }
   },
   "outputs": [],
   "source": [
    "T_minoritys_list = df[df['R']==0][['T','T_minority_star']].groupby('T')['T_minority_star'].apply(list).reset_index(name='T_minoritys')\n"
   ]
  },
  {
   "cell_type": "code",
   "execution_count": 18,
   "metadata": {
    "execution": {
     "iopub.execute_input": "2022-07-18T22:06:52.643773Z",
     "iopub.status.busy": "2022-07-18T22:06:52.643427Z",
     "iopub.status.idle": "2022-07-18T22:06:52.645033Z",
     "shell.execute_reply": "2022-07-18T22:06:52.645321Z"
    }
   },
   "outputs": [],
   "source": [
    "T_minoritys_list['probs'] = T_minoritys_list['T_minoritys'].apply(convertListToProb)\n"
   ]
  },
  {
   "cell_type": "code",
   "execution_count": 19,
   "metadata": {
    "execution": {
     "iopub.execute_input": "2022-07-18T22:06:52.654800Z",
     "iopub.status.busy": "2022-07-18T22:06:52.654396Z",
     "iopub.status.idle": "2022-07-18T22:06:52.656010Z",
     "shell.execute_reply": "2022-07-18T22:06:52.656303Z"
    }
   },
   "outputs": [
    {
     "data": {
      "text/html": [
       "<div>\n",
       "<style scoped>\n",
       "    .dataframe tbody tr th:only-of-type {\n",
       "        vertical-align: middle;\n",
       "    }\n",
       "\n",
       "    .dataframe tbody tr th {\n",
       "        vertical-align: top;\n",
       "    }\n",
       "\n",
       "    .dataframe thead th {\n",
       "        text-align: right;\n",
       "    }\n",
       "</style>\n",
       "<table border=\"1\" class=\"dataframe\">\n",
       "  <thead>\n",
       "    <tr style=\"text-align: right;\">\n",
       "      <th></th>\n",
       "      <th>T</th>\n",
       "      <th>T_minoritys</th>\n",
       "      <th>probs</th>\n",
       "    </tr>\n",
       "  </thead>\n",
       "  <tbody>\n",
       "    <tr>\n",
       "      <th>0</th>\n",
       "      <td>12</td>\n",
       "      <td>[12]</td>\n",
       "      <td>[(1.0, 12)]</td>\n",
       "    </tr>\n",
       "    <tr>\n",
       "      <th>1</th>\n",
       "      <td>13</td>\n",
       "      <td>[14]</td>\n",
       "      <td>[(1.0, 14)]</td>\n",
       "    </tr>\n",
       "    <tr>\n",
       "      <th>2</th>\n",
       "      <td>15</td>\n",
       "      <td>[14]</td>\n",
       "      <td>[(1.0, 14)]</td>\n",
       "    </tr>\n",
       "    <tr>\n",
       "      <th>3</th>\n",
       "      <td>16</td>\n",
       "      <td>[14, 13]</td>\n",
       "      <td>[(0.5, 14), (0.5, 13)]</td>\n",
       "    </tr>\n",
       "    <tr>\n",
       "      <th>4</th>\n",
       "      <td>17</td>\n",
       "      <td>[16, 18, 16, 16, 17, 16, 16, 16]</td>\n",
       "      <td>[(0.75, 16), (0.125, 18), (0.125, 17)]</td>\n",
       "    </tr>\n",
       "    <tr>\n",
       "      <th>...</th>\n",
       "      <td>...</td>\n",
       "      <td>...</td>\n",
       "      <td>...</td>\n",
       "    </tr>\n",
       "    <tr>\n",
       "      <th>99</th>\n",
       "      <td>113</td>\n",
       "      <td>[105, 105]</td>\n",
       "      <td>[(1.0, 105)]</td>\n",
       "    </tr>\n",
       "    <tr>\n",
       "      <th>100</th>\n",
       "      <td>115</td>\n",
       "      <td>[105]</td>\n",
       "      <td>[(1.0, 105)]</td>\n",
       "    </tr>\n",
       "    <tr>\n",
       "      <th>101</th>\n",
       "      <td>116</td>\n",
       "      <td>[108]</td>\n",
       "      <td>[(1.0, 108)]</td>\n",
       "    </tr>\n",
       "    <tr>\n",
       "      <th>102</th>\n",
       "      <td>118</td>\n",
       "      <td>[110]</td>\n",
       "      <td>[(1.0, 110)]</td>\n",
       "    </tr>\n",
       "    <tr>\n",
       "      <th>103</th>\n",
       "      <td>130</td>\n",
       "      <td>[121]</td>\n",
       "      <td>[(1.0, 121)]</td>\n",
       "    </tr>\n",
       "  </tbody>\n",
       "</table>\n",
       "<p>104 rows × 3 columns</p>\n",
       "</div>"
      ],
      "text/plain": [
       "       T                       T_minoritys  \\\n",
       "0     12                              [12]   \n",
       "1     13                              [14]   \n",
       "2     15                              [14]   \n",
       "3     16                          [14, 13]   \n",
       "4     17  [16, 18, 16, 16, 17, 16, 16, 16]   \n",
       "..   ...                               ...   \n",
       "99   113                        [105, 105]   \n",
       "100  115                             [105]   \n",
       "101  116                             [108]   \n",
       "102  118                             [110]   \n",
       "103  130                             [121]   \n",
       "\n",
       "                                      probs  \n",
       "0                               [(1.0, 12)]  \n",
       "1                               [(1.0, 14)]  \n",
       "2                               [(1.0, 14)]  \n",
       "3                    [(0.5, 14), (0.5, 13)]  \n",
       "4    [(0.75, 16), (0.125, 18), (0.125, 17)]  \n",
       "..                                      ...  \n",
       "99                             [(1.0, 105)]  \n",
       "100                            [(1.0, 105)]  \n",
       "101                            [(1.0, 108)]  \n",
       "102                            [(1.0, 110)]  \n",
       "103                            [(1.0, 121)]  \n",
       "\n",
       "[104 rows x 3 columns]"
      ]
     },
     "execution_count": 19,
     "metadata": {},
     "output_type": "execute_result"
    }
   ],
   "source": [
    "T_minoritys_list"
   ]
  },
  {
   "cell_type": "code",
   "execution_count": 20,
   "metadata": {
    "execution": {
     "iopub.execute_input": "2022-07-18T22:06:52.663605Z",
     "iopub.status.busy": "2022-07-18T22:06:52.663246Z",
     "iopub.status.idle": "2022-07-18T22:06:52.664499Z",
     "shell.execute_reply": "2022-07-18T22:06:52.664798Z"
    }
   },
   "outputs": [],
   "source": [
    "didntexist = 0\n",
    "exists = 0\n",
    "for ix, row in T_minoritys_list.iterrows():\n",
    "    cf_fair_stratum = solver.Constraint(0.0, 0.0)\n",
    "\n",
    "    majority_T = row['T']\n",
    "    minoritys_Ts = row['probs']\n",
    "    \n",
    "    cf_fair_stratum.SetCoefficient(vars_cache[(0.0, majority_T)], -1.0)\n",
    "    for prob in minoritys_Ts:\n",
    "        if (1.0, prob[1]) not in vars_cache:\n",
    "            vars_cache[(1.0, prob[1])] = solver.NumVar(0.0, 1.0, str((1.0, prob[1])))\n",
    "            didntexist+=1\n",
    "        else:\n",
    "            exists+=1\n",
    "        cf_fair_stratum.SetCoefficient(vars_cache[(1.0, prob[1])], prob[0])\n",
    "    "
   ]
  },
  {
   "cell_type": "code",
   "execution_count": 21,
   "metadata": {
    "execution": {
     "iopub.execute_input": "2022-07-18T22:06:52.667136Z",
     "iopub.status.busy": "2022-07-18T22:06:52.666723Z",
     "iopub.status.idle": "2022-07-18T22:06:52.668496Z",
     "shell.execute_reply": "2022-07-18T22:06:52.668781Z"
    }
   },
   "outputs": [
    {
     "data": {
      "text/plain": [
       "(9, 542)"
      ]
     },
     "execution_count": 21,
     "metadata": {},
     "output_type": "execute_result"
    }
   ],
   "source": [
    "didntexist,exists"
   ]
  },
  {
   "cell_type": "code",
   "execution_count": 22,
   "metadata": {
    "execution": {
     "iopub.execute_input": "2022-07-18T22:06:52.671548Z",
     "iopub.status.busy": "2022-07-18T22:06:52.671111Z",
     "iopub.status.idle": "2022-07-18T22:06:52.678285Z",
     "shell.execute_reply": "2022-07-18T22:06:52.678497Z"
    }
   },
   "outputs": [],
   "source": [
    "T_majoritys_list = df[df['R']==1][['T','T_majority_star']].groupby('T')['T_majority_star'].apply(list).reset_index(name='T_majoritys')"
   ]
  },
  {
   "cell_type": "code",
   "execution_count": 23,
   "metadata": {
    "execution": {
     "iopub.execute_input": "2022-07-18T22:06:52.682299Z",
     "iopub.status.busy": "2022-07-18T22:06:52.681933Z",
     "iopub.status.idle": "2022-07-18T22:06:52.683188Z",
     "shell.execute_reply": "2022-07-18T22:06:52.683479Z"
    }
   },
   "outputs": [],
   "source": [
    "T_majoritys_list['probs'] = T_majoritys_list['T_majoritys'].apply(convertListToProb)\n"
   ]
  },
  {
   "cell_type": "code",
   "execution_count": 24,
   "metadata": {
    "execution": {
     "iopub.execute_input": "2022-07-18T22:06:52.690366Z",
     "iopub.status.busy": "2022-07-18T22:06:52.689950Z",
     "iopub.status.idle": "2022-07-18T22:06:52.691287Z",
     "shell.execute_reply": "2022-07-18T22:06:52.691564Z"
    }
   },
   "outputs": [],
   "source": [
    "didntexist = 0\n",
    "exists = 0\n",
    "\n",
    "for ix, row in T_majoritys_list.iterrows():\n",
    "    cf_fair_stratum = solver.Constraint(0.0, 0.0)\n",
    "\n",
    "    minority_T = row['T']\n",
    "    majority_Ts = row['probs']\n",
    "    \n",
    "    cf_fair_stratum.SetCoefficient(vars_cache[(1.0, minority_T)], -1.0)\n",
    "    for prob in majority_Ts:\n",
    "        if (0.0, prob[1]) not in vars_cache:\n",
    "            vars_cache[(0.0, prob[1])] = solver.NumVar(0.0, 1.0, str((0.0, prob[1])))\n",
    "            didntexist+=1\n",
    "        else:\n",
    "            exists+=1\n",
    "            \n",
    "        cf_fair_stratum.SetCoefficient(vars_cache[(0.0, prob[1])], prob[0])\n",
    "    "
   ]
  },
  {
   "cell_type": "code",
   "execution_count": 25,
   "metadata": {
    "execution": {
     "iopub.execute_input": "2022-07-18T22:06:52.694099Z",
     "iopub.status.busy": "2022-07-18T22:06:52.693577Z",
     "iopub.status.idle": "2022-07-18T22:06:52.695482Z",
     "shell.execute_reply": "2022-07-18T22:06:52.695732Z"
    }
   },
   "outputs": [
    {
     "data": {
      "text/plain": [
       "<bound method Constraint.basis_status of <ortools.linear_solver.pywraplp.Constraint; proxy of <Swig Object of type 'operations_research::MPConstraint *' at 0x7feb50e962d0> >>"
      ]
     },
     "execution_count": 25,
     "metadata": {},
     "output_type": "execute_result"
    }
   ],
   "source": [
    "cf_fair_stratum.basis_status"
   ]
  },
  {
   "cell_type": "code",
   "execution_count": 26,
   "metadata": {
    "execution": {
     "iopub.execute_input": "2022-07-18T22:06:52.698295Z",
     "iopub.status.busy": "2022-07-18T22:06:52.697904Z",
     "iopub.status.idle": "2022-07-18T22:06:52.699487Z",
     "shell.execute_reply": "2022-07-18T22:06:52.699774Z"
    }
   },
   "outputs": [
    {
     "data": {
      "text/plain": [
       "193"
      ]
     },
     "execution_count": 26,
     "metadata": {},
     "output_type": "execute_result"
    }
   ],
   "source": [
    "solver.NumConstraints()"
   ]
  },
  {
   "cell_type": "markdown",
   "metadata": {},
   "source": [
    "## Solve linear program"
   ]
  },
  {
   "cell_type": "code",
   "execution_count": 27,
   "metadata": {
    "execution": {
     "iopub.execute_input": "2022-07-18T22:06:52.702692Z",
     "iopub.status.busy": "2022-07-18T22:06:52.702284Z",
     "iopub.status.idle": "2022-07-18T22:06:52.703916Z",
     "shell.execute_reply": "2022-07-18T22:06:52.704216Z"
    }
   },
   "outputs": [
    {
     "data": {
      "text/plain": [
       "4"
      ]
     },
     "execution_count": 27,
     "metadata": {},
     "output_type": "execute_result"
    }
   ],
   "source": [
    "solver.ABNORMAL"
   ]
  },
  {
   "cell_type": "code",
   "execution_count": 28,
   "metadata": {
    "execution": {
     "iopub.execute_input": "2022-07-18T22:06:52.710049Z",
     "iopub.status.busy": "2022-07-18T22:06:52.709676Z",
     "iopub.status.idle": "2022-07-18T22:06:52.710902Z",
     "shell.execute_reply": "2022-07-18T22:06:52.711183Z"
    }
   },
   "outputs": [],
   "source": [
    "status = solver.Solve()\n"
   ]
  },
  {
   "cell_type": "code",
   "execution_count": 29,
   "metadata": {
    "execution": {
     "iopub.execute_input": "2022-07-18T22:06:52.713746Z",
     "iopub.status.busy": "2022-07-18T22:06:52.713355Z",
     "iopub.status.idle": "2022-07-18T22:06:52.714944Z",
     "shell.execute_reply": "2022-07-18T22:06:52.715299Z"
    }
   },
   "outputs": [
    {
     "data": {
      "text/plain": [
       "0"
      ]
     },
     "execution_count": 29,
     "metadata": {},
     "output_type": "execute_result"
    }
   ],
   "source": [
    "status"
   ]
  },
  {
   "cell_type": "code",
   "execution_count": 30,
   "metadata": {
    "execution": {
     "iopub.execute_input": "2022-07-18T22:06:52.717689Z",
     "iopub.status.busy": "2022-07-18T22:06:52.717303Z",
     "iopub.status.idle": "2022-07-18T22:06:52.718743Z",
     "shell.execute_reply": "2022-07-18T22:06:52.719021Z"
    }
   },
   "outputs": [
    {
     "data": {
      "text/plain": [
       "0"
      ]
     },
     "execution_count": 30,
     "metadata": {},
     "output_type": "execute_result"
    }
   ],
   "source": [
    "solver.OPTIMAL"
   ]
  },
  {
   "cell_type": "code",
   "execution_count": 31,
   "metadata": {
    "execution": {
     "iopub.execute_input": "2022-07-18T22:06:52.722250Z",
     "iopub.status.busy": "2022-07-18T22:06:52.721884Z",
     "iopub.status.idle": "2022-07-18T22:06:52.723091Z",
     "shell.execute_reply": "2022-07-18T22:06:52.723395Z"
    },
    "scrolled": true
   },
   "outputs": [],
   "source": [
    "row = []\n",
    "admit = []\n",
    "\n",
    "for i in applicant_stratum:\n",
    "    row.append(int(str(i)))\n",
    "    admit.append(i.solution_value())\n",
    "\n",
    "df_decisions = pd.DataFrame({'row_id':row,'decision':admit})"
   ]
  },
  {
   "cell_type": "code",
   "execution_count": 32,
   "metadata": {
    "execution": {
     "iopub.execute_input": "2022-07-18T22:06:52.728132Z",
     "iopub.status.busy": "2022-07-18T22:06:52.727744Z",
     "iopub.status.idle": "2022-07-18T22:06:52.729442Z",
     "shell.execute_reply": "2022-07-18T22:06:52.729674Z"
    }
   },
   "outputs": [
    {
     "data": {
      "text/html": [
       "<div>\n",
       "<style scoped>\n",
       "    .dataframe tbody tr th:only-of-type {\n",
       "        vertical-align: middle;\n",
       "    }\n",
       "\n",
       "    .dataframe tbody tr th {\n",
       "        vertical-align: top;\n",
       "    }\n",
       "\n",
       "    .dataframe thead th {\n",
       "        text-align: right;\n",
       "    }\n",
       "</style>\n",
       "<table border=\"1\" class=\"dataframe\">\n",
       "  <thead>\n",
       "    <tr style=\"text-align: right;\">\n",
       "      <th></th>\n",
       "      <th>row_id</th>\n",
       "      <th>decision</th>\n",
       "    </tr>\n",
       "  </thead>\n",
       "  <tbody>\n",
       "    <tr>\n",
       "      <th>0</th>\n",
       "      <td>0</td>\n",
       "      <td>0.000000</td>\n",
       "    </tr>\n",
       "    <tr>\n",
       "      <th>1</th>\n",
       "      <td>1</td>\n",
       "      <td>0.283597</td>\n",
       "    </tr>\n",
       "    <tr>\n",
       "      <th>2</th>\n",
       "      <td>2</td>\n",
       "      <td>0.283597</td>\n",
       "    </tr>\n",
       "    <tr>\n",
       "      <th>3</th>\n",
       "      <td>3</td>\n",
       "      <td>0.462698</td>\n",
       "    </tr>\n",
       "    <tr>\n",
       "      <th>4</th>\n",
       "      <td>4</td>\n",
       "      <td>0.522263</td>\n",
       "    </tr>\n",
       "    <tr>\n",
       "      <th>...</th>\n",
       "      <td>...</td>\n",
       "      <td>...</td>\n",
       "    </tr>\n",
       "    <tr>\n",
       "      <th>187</th>\n",
       "      <td>187</td>\n",
       "      <td>0.884360</td>\n",
       "    </tr>\n",
       "    <tr>\n",
       "      <th>188</th>\n",
       "      <td>188</td>\n",
       "      <td>0.961453</td>\n",
       "    </tr>\n",
       "    <tr>\n",
       "      <th>189</th>\n",
       "      <td>189</td>\n",
       "      <td>0.961453</td>\n",
       "    </tr>\n",
       "    <tr>\n",
       "      <th>190</th>\n",
       "      <td>190</td>\n",
       "      <td>1.000000</td>\n",
       "    </tr>\n",
       "    <tr>\n",
       "      <th>191</th>\n",
       "      <td>191</td>\n",
       "      <td>1.000000</td>\n",
       "    </tr>\n",
       "  </tbody>\n",
       "</table>\n",
       "<p>192 rows × 2 columns</p>\n",
       "</div>"
      ],
      "text/plain": [
       "     row_id  decision\n",
       "0         0  0.000000\n",
       "1         1  0.283597\n",
       "2         2  0.283597\n",
       "3         3  0.462698\n",
       "4         4  0.522263\n",
       "..      ...       ...\n",
       "187     187  0.884360\n",
       "188     188  0.961453\n",
       "189     189  0.961453\n",
       "190     190  1.000000\n",
       "191     191  1.000000\n",
       "\n",
       "[192 rows x 2 columns]"
      ]
     },
     "execution_count": 32,
     "metadata": {},
     "output_type": "execute_result"
    }
   ],
   "source": [
    "df_decisions"
   ]
  },
  {
   "cell_type": "code",
   "execution_count": 33,
   "metadata": {
    "execution": {
     "iopub.execute_input": "2022-07-18T22:06:52.736969Z",
     "iopub.status.busy": "2022-07-18T22:06:52.736605Z",
     "iopub.status.idle": "2022-07-18T22:06:52.738127Z",
     "shell.execute_reply": "2022-07-18T22:06:52.738420Z"
    }
   },
   "outputs": [
    {
     "data": {
      "text/html": [
       "<div>\n",
       "<style scoped>\n",
       "    .dataframe tbody tr th:only-of-type {\n",
       "        vertical-align: middle;\n",
       "    }\n",
       "\n",
       "    .dataframe tbody tr th {\n",
       "        vertical-align: top;\n",
       "    }\n",
       "\n",
       "    .dataframe thead th {\n",
       "        text-align: right;\n",
       "    }\n",
       "</style>\n",
       "<table border=\"1\" class=\"dataframe\">\n",
       "  <thead>\n",
       "    <tr style=\"text-align: right;\">\n",
       "      <th></th>\n",
       "      <th>level_0</th>\n",
       "      <th>index</th>\n",
       "      <th>R</th>\n",
       "      <th>T</th>\n",
       "      <th>ml_outcomes</th>\n",
       "      <th>N</th>\n",
       "      <th>row_id</th>\n",
       "      <th>decision</th>\n",
       "    </tr>\n",
       "  </thead>\n",
       "  <tbody>\n",
       "    <tr>\n",
       "      <th>45</th>\n",
       "      <td>0</td>\n",
       "      <td>45</td>\n",
       "      <td>0</td>\n",
       "      <td>58</td>\n",
       "      <td>1123.36</td>\n",
       "      <td>2006</td>\n",
       "      <td>45</td>\n",
       "      <td>0.499629</td>\n",
       "    </tr>\n",
       "    <tr>\n",
       "      <th>46</th>\n",
       "      <td>1</td>\n",
       "      <td>46</td>\n",
       "      <td>0</td>\n",
       "      <td>59</td>\n",
       "      <td>1115.34</td>\n",
       "      <td>1923</td>\n",
       "      <td>46</td>\n",
       "      <td>0.499629</td>\n",
       "    </tr>\n",
       "    <tr>\n",
       "      <th>44</th>\n",
       "      <td>2</td>\n",
       "      <td>44</td>\n",
       "      <td>0</td>\n",
       "      <td>57</td>\n",
       "      <td>1107.54</td>\n",
       "      <td>2051</td>\n",
       "      <td>44</td>\n",
       "      <td>0.499629</td>\n",
       "    </tr>\n",
       "    <tr>\n",
       "      <th>42</th>\n",
       "      <td>3</td>\n",
       "      <td>42</td>\n",
       "      <td>0</td>\n",
       "      <td>55</td>\n",
       "      <td>1091.00</td>\n",
       "      <td>2182</td>\n",
       "      <td>42</td>\n",
       "      <td>0.499629</td>\n",
       "    </tr>\n",
       "    <tr>\n",
       "      <th>49</th>\n",
       "      <td>4</td>\n",
       "      <td>49</td>\n",
       "      <td>0</td>\n",
       "      <td>62</td>\n",
       "      <td>1074.56</td>\n",
       "      <td>1679</td>\n",
       "      <td>49</td>\n",
       "      <td>0.499629</td>\n",
       "    </tr>\n",
       "    <tr>\n",
       "      <th>...</th>\n",
       "      <td>...</td>\n",
       "      <td>...</td>\n",
       "      <td>...</td>\n",
       "      <td>...</td>\n",
       "      <td>...</td>\n",
       "      <td>...</td>\n",
       "      <td>...</td>\n",
       "      <td>...</td>\n",
       "    </tr>\n",
       "    <tr>\n",
       "      <th>104</th>\n",
       "      <td>187</td>\n",
       "      <td>104</td>\n",
       "      <td>1</td>\n",
       "      <td>7</td>\n",
       "      <td>0.25</td>\n",
       "      <td>1</td>\n",
       "      <td>104</td>\n",
       "      <td>0.000000</td>\n",
       "    </tr>\n",
       "    <tr>\n",
       "      <th>1</th>\n",
       "      <td>188</td>\n",
       "      <td>1</td>\n",
       "      <td>0</td>\n",
       "      <td>13</td>\n",
       "      <td>0.10</td>\n",
       "      <td>1</td>\n",
       "      <td>1</td>\n",
       "      <td>0.283597</td>\n",
       "    </tr>\n",
       "    <tr>\n",
       "      <th>2</th>\n",
       "      <td>189</td>\n",
       "      <td>2</td>\n",
       "      <td>0</td>\n",
       "      <td>15</td>\n",
       "      <td>0.07</td>\n",
       "      <td>1</td>\n",
       "      <td>2</td>\n",
       "      <td>0.283597</td>\n",
       "    </tr>\n",
       "    <tr>\n",
       "      <th>3</th>\n",
       "      <td>190</td>\n",
       "      <td>3</td>\n",
       "      <td>0</td>\n",
       "      <td>16</td>\n",
       "      <td>0.06</td>\n",
       "      <td>2</td>\n",
       "      <td>3</td>\n",
       "      <td>0.462698</td>\n",
       "    </tr>\n",
       "    <tr>\n",
       "      <th>0</th>\n",
       "      <td>191</td>\n",
       "      <td>0</td>\n",
       "      <td>0</td>\n",
       "      <td>12</td>\n",
       "      <td>0.02</td>\n",
       "      <td>1</td>\n",
       "      <td>0</td>\n",
       "      <td>0.000000</td>\n",
       "    </tr>\n",
       "  </tbody>\n",
       "</table>\n",
       "<p>192 rows × 8 columns</p>\n",
       "</div>"
      ],
      "text/plain": [
       "     level_0  index  R   T  ml_outcomes     N  row_id  decision\n",
       "45         0     45  0  58      1123.36  2006      45  0.499629\n",
       "46         1     46  0  59      1115.34  1923      46  0.499629\n",
       "44         2     44  0  57      1107.54  2051      44  0.499629\n",
       "42         3     42  0  55      1091.00  2182      42  0.499629\n",
       "49         4     49  0  62      1074.56  1679      49  0.499629\n",
       "..       ...    ... ..  ..          ...   ...     ...       ...\n",
       "104      187    104  1   7         0.25     1     104  0.000000\n",
       "1        188      1  0  13         0.10     1       1  0.283597\n",
       "2        189      2  0  15         0.07     1       2  0.283597\n",
       "3        190      3  0  16         0.06     2       3  0.462698\n",
       "0        191      0  0  12         0.02     1       0  0.000000\n",
       "\n",
       "[192 rows x 8 columns]"
      ]
     },
     "execution_count": 33,
     "metadata": {},
     "output_type": "execute_result"
    }
   ],
   "source": [
    "dff.merge(df_decisions,left_index=True,right_index=True).sort_values(by='ml_outcomes',ascending=False)"
   ]
  },
  {
   "cell_type": "code",
   "execution_count": 34,
   "metadata": {
    "execution": {
     "iopub.execute_input": "2022-07-18T22:06:52.745606Z",
     "iopub.status.busy": "2022-07-18T22:06:52.745163Z",
     "iopub.status.idle": "2022-07-18T22:06:52.746935Z",
     "shell.execute_reply": "2022-07-18T22:06:52.747151Z"
    }
   },
   "outputs": [
    {
     "data": {
      "text/html": [
       "<div>\n",
       "<style scoped>\n",
       "    .dataframe tbody tr th:only-of-type {\n",
       "        vertical-align: middle;\n",
       "    }\n",
       "\n",
       "    .dataframe tbody tr th {\n",
       "        vertical-align: top;\n",
       "    }\n",
       "\n",
       "    .dataframe thead th {\n",
       "        text-align: right;\n",
       "    }\n",
       "</style>\n",
       "<table border=\"1\" class=\"dataframe\">\n",
       "  <thead>\n",
       "    <tr style=\"text-align: right;\">\n",
       "      <th></th>\n",
       "      <th>level_0</th>\n",
       "      <th>index</th>\n",
       "      <th>R</th>\n",
       "      <th>T</th>\n",
       "      <th>ml_outcomes</th>\n",
       "      <th>N</th>\n",
       "      <th>row_id</th>\n",
       "      <th>decision</th>\n",
       "    </tr>\n",
       "  </thead>\n",
       "  <tbody>\n",
       "    <tr>\n",
       "      <th>45</th>\n",
       "      <td>0</td>\n",
       "      <td>45</td>\n",
       "      <td>0</td>\n",
       "      <td>58</td>\n",
       "      <td>1123.36</td>\n",
       "      <td>2006</td>\n",
       "      <td>45</td>\n",
       "      <td>0.499629</td>\n",
       "    </tr>\n",
       "    <tr>\n",
       "      <th>46</th>\n",
       "      <td>1</td>\n",
       "      <td>46</td>\n",
       "      <td>0</td>\n",
       "      <td>59</td>\n",
       "      <td>1115.34</td>\n",
       "      <td>1923</td>\n",
       "      <td>46</td>\n",
       "      <td>0.499629</td>\n",
       "    </tr>\n",
       "    <tr>\n",
       "      <th>44</th>\n",
       "      <td>2</td>\n",
       "      <td>44</td>\n",
       "      <td>0</td>\n",
       "      <td>57</td>\n",
       "      <td>1107.54</td>\n",
       "      <td>2051</td>\n",
       "      <td>44</td>\n",
       "      <td>0.499629</td>\n",
       "    </tr>\n",
       "    <tr>\n",
       "      <th>42</th>\n",
       "      <td>3</td>\n",
       "      <td>42</td>\n",
       "      <td>0</td>\n",
       "      <td>55</td>\n",
       "      <td>1091.00</td>\n",
       "      <td>2182</td>\n",
       "      <td>42</td>\n",
       "      <td>0.499629</td>\n",
       "    </tr>\n",
       "    <tr>\n",
       "      <th>49</th>\n",
       "      <td>4</td>\n",
       "      <td>49</td>\n",
       "      <td>0</td>\n",
       "      <td>62</td>\n",
       "      <td>1074.56</td>\n",
       "      <td>1679</td>\n",
       "      <td>49</td>\n",
       "      <td>0.499629</td>\n",
       "    </tr>\n",
       "    <tr>\n",
       "      <th>...</th>\n",
       "      <td>...</td>\n",
       "      <td>...</td>\n",
       "      <td>...</td>\n",
       "      <td>...</td>\n",
       "      <td>...</td>\n",
       "      <td>...</td>\n",
       "      <td>...</td>\n",
       "      <td>...</td>\n",
       "    </tr>\n",
       "    <tr>\n",
       "      <th>104</th>\n",
       "      <td>187</td>\n",
       "      <td>104</td>\n",
       "      <td>1</td>\n",
       "      <td>7</td>\n",
       "      <td>0.25</td>\n",
       "      <td>1</td>\n",
       "      <td>104</td>\n",
       "      <td>0.000000</td>\n",
       "    </tr>\n",
       "    <tr>\n",
       "      <th>1</th>\n",
       "      <td>188</td>\n",
       "      <td>1</td>\n",
       "      <td>0</td>\n",
       "      <td>13</td>\n",
       "      <td>0.10</td>\n",
       "      <td>1</td>\n",
       "      <td>1</td>\n",
       "      <td>0.283597</td>\n",
       "    </tr>\n",
       "    <tr>\n",
       "      <th>2</th>\n",
       "      <td>189</td>\n",
       "      <td>2</td>\n",
       "      <td>0</td>\n",
       "      <td>15</td>\n",
       "      <td>0.07</td>\n",
       "      <td>1</td>\n",
       "      <td>2</td>\n",
       "      <td>0.283597</td>\n",
       "    </tr>\n",
       "    <tr>\n",
       "      <th>3</th>\n",
       "      <td>190</td>\n",
       "      <td>3</td>\n",
       "      <td>0</td>\n",
       "      <td>16</td>\n",
       "      <td>0.06</td>\n",
       "      <td>2</td>\n",
       "      <td>3</td>\n",
       "      <td>0.462698</td>\n",
       "    </tr>\n",
       "    <tr>\n",
       "      <th>0</th>\n",
       "      <td>191</td>\n",
       "      <td>0</td>\n",
       "      <td>0</td>\n",
       "      <td>12</td>\n",
       "      <td>0.02</td>\n",
       "      <td>1</td>\n",
       "      <td>0</td>\n",
       "      <td>0.000000</td>\n",
       "    </tr>\n",
       "  </tbody>\n",
       "</table>\n",
       "<p>192 rows × 8 columns</p>\n",
       "</div>"
      ],
      "text/plain": [
       "     level_0  index  R   T  ml_outcomes     N  row_id  decision\n",
       "45         0     45  0  58      1123.36  2006      45  0.499629\n",
       "46         1     46  0  59      1115.34  1923      46  0.499629\n",
       "44         2     44  0  57      1107.54  2051      44  0.499629\n",
       "42         3     42  0  55      1091.00  2182      42  0.499629\n",
       "49         4     49  0  62      1074.56  1679      49  0.499629\n",
       "..       ...    ... ..  ..          ...   ...     ...       ...\n",
       "104      187    104  1   7         0.25     1     104  0.000000\n",
       "1        188      1  0  13         0.10     1       1  0.283597\n",
       "2        189      2  0  15         0.07     1       2  0.283597\n",
       "3        190      3  0  16         0.06     2       3  0.462698\n",
       "0        191      0  0  12         0.02     1       0  0.000000\n",
       "\n",
       "[192 rows x 8 columns]"
      ]
     },
     "execution_count": 34,
     "metadata": {},
     "output_type": "execute_result"
    }
   ],
   "source": [
    "xxx = dff.merge(df_decisions,left_index=True,right_index=True).sort_values(by='ml_outcomes',ascending=False)\n",
    "xxx"
   ]
  },
  {
   "cell_type": "code",
   "execution_count": 35,
   "metadata": {
    "execution": {
     "iopub.execute_input": "2022-07-18T22:06:52.749387Z",
     "iopub.status.busy": "2022-07-18T22:06:52.748994Z",
     "iopub.status.idle": "2022-07-18T22:06:52.754930Z",
     "shell.execute_reply": "2022-07-18T22:06:52.755217Z"
    }
   },
   "outputs": [
    {
     "data": {
      "text/html": [
       "<div>\n",
       "<style scoped>\n",
       "    .dataframe tbody tr th:only-of-type {\n",
       "        vertical-align: middle;\n",
       "    }\n",
       "\n",
       "    .dataframe tbody tr th {\n",
       "        vertical-align: top;\n",
       "    }\n",
       "\n",
       "    .dataframe thead th {\n",
       "        text-align: right;\n",
       "    }\n",
       "</style>\n",
       "<table border=\"1\" class=\"dataframe\">\n",
       "  <thead>\n",
       "    <tr style=\"text-align: right;\">\n",
       "      <th></th>\n",
       "      <th>level_0</th>\n",
       "      <th>index</th>\n",
       "      <th>R</th>\n",
       "      <th>T</th>\n",
       "      <th>ml_outcomes</th>\n",
       "      <th>N</th>\n",
       "      <th>row_id</th>\n",
       "      <th>decision</th>\n",
       "    </tr>\n",
       "  </thead>\n",
       "  <tbody>\n",
       "    <tr>\n",
       "      <th>190</th>\n",
       "      <td>169</td>\n",
       "      <td>190</td>\n",
       "      <td>1</td>\n",
       "      <td>101</td>\n",
       "      <td>1.23</td>\n",
       "      <td>1</td>\n",
       "      <td>190</td>\n",
       "      <td>1.000000</td>\n",
       "    </tr>\n",
       "    <tr>\n",
       "      <th>100</th>\n",
       "      <td>177</td>\n",
       "      <td>100</td>\n",
       "      <td>0</td>\n",
       "      <td>115</td>\n",
       "      <td>1.00</td>\n",
       "      <td>1</td>\n",
       "      <td>100</td>\n",
       "      <td>1.000000</td>\n",
       "    </tr>\n",
       "    <tr>\n",
       "      <th>99</th>\n",
       "      <td>161</td>\n",
       "      <td>99</td>\n",
       "      <td>0</td>\n",
       "      <td>113</td>\n",
       "      <td>1.98</td>\n",
       "      <td>2</td>\n",
       "      <td>99</td>\n",
       "      <td>1.000000</td>\n",
       "    </tr>\n",
       "    <tr>\n",
       "      <th>191</th>\n",
       "      <td>168</td>\n",
       "      <td>191</td>\n",
       "      <td>1</td>\n",
       "      <td>112</td>\n",
       "      <td>1.25</td>\n",
       "      <td>1</td>\n",
       "      <td>191</td>\n",
       "      <td>1.000000</td>\n",
       "    </tr>\n",
       "    <tr>\n",
       "      <th>98</th>\n",
       "      <td>160</td>\n",
       "      <td>98</td>\n",
       "      <td>0</td>\n",
       "      <td>112</td>\n",
       "      <td>1.98</td>\n",
       "      <td>2</td>\n",
       "      <td>98</td>\n",
       "      <td>1.000000</td>\n",
       "    </tr>\n",
       "    <tr>\n",
       "      <th>...</th>\n",
       "      <td>...</td>\n",
       "      <td>...</td>\n",
       "      <td>...</td>\n",
       "      <td>...</td>\n",
       "      <td>...</td>\n",
       "      <td>...</td>\n",
       "      <td>...</td>\n",
       "      <td>...</td>\n",
       "    </tr>\n",
       "    <tr>\n",
       "      <th>1</th>\n",
       "      <td>188</td>\n",
       "      <td>1</td>\n",
       "      <td>0</td>\n",
       "      <td>13</td>\n",
       "      <td>0.10</td>\n",
       "      <td>1</td>\n",
       "      <td>1</td>\n",
       "      <td>0.283597</td>\n",
       "    </tr>\n",
       "    <tr>\n",
       "      <th>2</th>\n",
       "      <td>189</td>\n",
       "      <td>2</td>\n",
       "      <td>0</td>\n",
       "      <td>15</td>\n",
       "      <td>0.07</td>\n",
       "      <td>1</td>\n",
       "      <td>2</td>\n",
       "      <td>0.283597</td>\n",
       "    </tr>\n",
       "    <tr>\n",
       "      <th>105</th>\n",
       "      <td>186</td>\n",
       "      <td>105</td>\n",
       "      <td>1</td>\n",
       "      <td>12</td>\n",
       "      <td>0.31</td>\n",
       "      <td>1</td>\n",
       "      <td>105</td>\n",
       "      <td>0.000000</td>\n",
       "    </tr>\n",
       "    <tr>\n",
       "      <th>104</th>\n",
       "      <td>187</td>\n",
       "      <td>104</td>\n",
       "      <td>1</td>\n",
       "      <td>7</td>\n",
       "      <td>0.25</td>\n",
       "      <td>1</td>\n",
       "      <td>104</td>\n",
       "      <td>0.000000</td>\n",
       "    </tr>\n",
       "    <tr>\n",
       "      <th>0</th>\n",
       "      <td>191</td>\n",
       "      <td>0</td>\n",
       "      <td>0</td>\n",
       "      <td>12</td>\n",
       "      <td>0.02</td>\n",
       "      <td>1</td>\n",
       "      <td>0</td>\n",
       "      <td>0.000000</td>\n",
       "    </tr>\n",
       "  </tbody>\n",
       "</table>\n",
       "<p>192 rows × 8 columns</p>\n",
       "</div>"
      ],
      "text/plain": [
       "     level_0  index  R    T  ml_outcomes  N  row_id  decision\n",
       "190      169    190  1  101         1.23  1     190  1.000000\n",
       "100      177    100  0  115         1.00  1     100  1.000000\n",
       "99       161     99  0  113         1.98  2      99  1.000000\n",
       "191      168    191  1  112         1.25  1     191  1.000000\n",
       "98       160     98  0  112         1.98  2      98  1.000000\n",
       "..       ...    ... ..  ...          ... ..     ...       ...\n",
       "1        188      1  0   13         0.10  1       1  0.283597\n",
       "2        189      2  0   15         0.07  1       2  0.283597\n",
       "105      186    105  1   12         0.31  1     105  0.000000\n",
       "104      187    104  1    7         0.25  1     104  0.000000\n",
       "0        191      0  0   12         0.02  1       0  0.000000\n",
       "\n",
       "[192 rows x 8 columns]"
      ]
     },
     "execution_count": 35,
     "metadata": {},
     "output_type": "execute_result"
    }
   ],
   "source": [
    "xxx.sort_values(by='decision',ascending=False)"
   ]
  },
  {
   "cell_type": "code",
   "execution_count": 36,
   "metadata": {
    "execution": {
     "iopub.execute_input": "2022-07-18T22:06:52.870767Z",
     "iopub.status.busy": "2022-07-18T22:06:52.870383Z",
     "iopub.status.idle": "2022-07-18T22:06:52.871583Z",
     "shell.execute_reply": "2022-07-18T22:06:52.871927Z"
    }
   },
   "outputs": [],
   "source": [
    "df['key'] = df['R'].astype(str)+'_'+df['T'].astype(str)\n",
    "xxx['key'] = xxx['R'].astype(str)+'_'+xxx['T'].astype(str)"
   ]
  },
  {
   "cell_type": "code",
   "execution_count": 37,
   "metadata": {
    "execution": {
     "iopub.execute_input": "2022-07-18T22:06:52.875841Z",
     "iopub.status.busy": "2022-07-18T22:06:52.875463Z",
     "iopub.status.idle": "2022-07-18T22:06:52.916073Z",
     "shell.execute_reply": "2022-07-18T22:06:52.916316Z"
    }
   },
   "outputs": [],
   "source": [
    "admit_decisions = df.merge(xxx,how='left',on='key')\n",
    "admit_decisions['decision_random'] = pd.Series([random.random() for x in range(0,len(admit_decisions))]) < FRAC_ADMIT\n",
    "\n",
    "FRAC_minority_POLICY = (admit_decisions['R_y'] * admit_decisions['decision']).sum()/admit_decisions['decision'].sum()\n",
    "SUM_BP_POLICY = ( admit_decisions['Y'] * admit_decisions['decision']).sum()\n",
    "\n",
    "FRAC_RANDOM_POLICY = (admit_decisions['R_y'] * admit_decisions['decision_random']).sum()/admit_decisions['decision_random'].sum()\n",
    "SUM_BP_RAND_POLICY = ( admit_decisions['Y'] * admit_decisions['decision_random']).sum()\n"
   ]
  },
  {
   "cell_type": "code",
   "execution_count": 38,
   "metadata": {
    "execution": {
     "iopub.execute_input": "2022-07-18T22:06:52.919357Z",
     "iopub.status.busy": "2022-07-18T22:06:52.918924Z",
     "iopub.status.idle": "2022-07-18T22:06:52.920745Z",
     "shell.execute_reply": "2022-07-18T22:06:52.920993Z"
    }
   },
   "outputs": [],
   "source": [
    "file = open('./lp_results.csv','a')\n",
    "file.write('{}\\t{}\\t{}\\n'.format('Path-Specific Fairness',str(FRAC_minority_POLICY),str(SUM_BP_POLICY)))\n",
    "file.close()\n"
   ]
  },
  {
   "cell_type": "code",
   "execution_count": 39,
   "metadata": {
    "execution": {
     "iopub.execute_input": "2022-07-18T22:06:52.924108Z",
     "iopub.status.busy": "2022-07-18T22:06:52.923717Z",
     "iopub.status.idle": "2022-07-18T22:06:52.925490Z",
     "shell.execute_reply": "2022-07-18T22:06:52.926105Z"
    }
   },
   "outputs": [
    {
     "data": {
      "text/plain": [
       "0.49999999999999983"
      ]
     },
     "execution_count": 39,
     "metadata": {},
     "output_type": "execute_result"
    }
   ],
   "source": [
    "(xxx['N']*xxx['decision']).sum()/len(df)"
   ]
  },
  {
   "cell_type": "code",
   "execution_count": null,
   "metadata": {},
   "outputs": [],
   "source": []
  }
 ],
 "metadata": {
  "kernelspec": {
   "display_name": "Python 3 (ipykernel)",
   "language": "python",
   "name": "python3"
  },
  "language_info": {
   "codemirror_mode": {
    "name": "ipython",
    "version": 3
   },
   "file_extension": ".py",
   "mimetype": "text/x-python",
   "name": "python",
   "nbconvert_exporter": "python",
   "pygments_lexer": "ipython3",
   "version": "3.9.7"
  }
 },
 "nbformat": 4,
 "nbformat_minor": 4
}
