{
 "cells": [
  {
   "cell_type": "code",
   "execution_count": 1,
   "metadata": {
    "execution": {
     "iopub.execute_input": "2022-05-02T22:04:49.896394Z",
     "iopub.status.busy": "2022-05-02T22:04:49.895647Z",
     "iopub.status.idle": "2022-05-02T22:04:51.166875Z",
     "shell.execute_reply": "2022-05-02T22:04:51.167149Z"
    }
   },
   "outputs": [],
   "source": [
    "import numpy as np\n",
    "import pandas as pd\n",
    "import matplotlib.pyplot as plt\n",
    "import seaborn as sns\n",
    "import random\n",
    "pd.options.display.max_rows = 10\n",
    "pd.options.display.max_columns = 500"
   ]
  },
  {
   "cell_type": "code",
   "execution_count": 2,
   "metadata": {
    "execution": {
     "iopub.execute_input": "2022-05-02T22:04:51.170450Z",
     "iopub.status.busy": "2022-05-02T22:04:51.170057Z",
     "iopub.status.idle": "2022-05-02T22:04:51.531688Z",
     "shell.execute_reply": "2022-05-02T22:04:51.531931Z"
    }
   },
   "outputs": [],
   "source": [
    "###\n",
    "## Load dataframe where each row is a single applicant\n",
    "###\n",
    "\n",
    "df = pd.read_csv('./df_test.csv')\n",
    "df['ml_outcomes'] = df['ml_outcomes_div'].round(2) #+ df['R']*0.13\n",
    "\n"
   ]
  },
  {
   "cell_type": "code",
   "execution_count": 3,
   "metadata": {
    "execution": {
     "iopub.execute_input": "2022-05-02T22:04:51.536032Z",
     "iopub.status.busy": "2022-05-02T22:04:51.535599Z",
     "iopub.status.idle": "2022-05-02T22:04:51.538383Z",
     "shell.execute_reply": "2022-05-02T22:04:51.538622Z"
    }
   },
   "outputs": [
    {
     "data": {
      "text/plain": [
       "100000"
      ]
     },
     "execution_count": 3,
     "metadata": {},
     "output_type": "execute_result"
    }
   ],
   "source": [
    "len(df)"
   ]
  },
  {
   "cell_type": "code",
   "execution_count": 4,
   "metadata": {
    "execution": {
     "iopub.execute_input": "2022-05-02T22:04:51.541107Z",
     "iopub.status.busy": "2022-05-02T22:04:51.540751Z",
     "iopub.status.idle": "2022-05-02T22:04:51.542031Z",
     "shell.execute_reply": "2022-05-02T22:04:51.542273Z"
    }
   },
   "outputs": [],
   "source": [
    "FRAC_ADMIT = 0.5#df[['A']].sum()/len(df)\n"
   ]
  },
  {
   "cell_type": "code",
   "execution_count": 5,
   "metadata": {
    "execution": {
     "iopub.execute_input": "2022-05-02T22:04:51.547409Z",
     "iopub.status.busy": "2022-05-02T22:04:51.543588Z",
     "iopub.status.idle": "2022-05-02T22:04:51.563844Z",
     "shell.execute_reply": "2022-05-02T22:04:51.564143Z"
    }
   },
   "outputs": [
    {
     "data": {
      "text/html": [
       "<div>\n",
       "<style scoped>\n",
       "    .dataframe tbody tr th:only-of-type {\n",
       "        vertical-align: middle;\n",
       "    }\n",
       "\n",
       "    .dataframe tbody tr th {\n",
       "        vertical-align: top;\n",
       "    }\n",
       "\n",
       "    .dataframe thead th {\n",
       "        text-align: right;\n",
       "    }\n",
       "</style>\n",
       "<table border=\"1\" class=\"dataframe\">\n",
       "  <thead>\n",
       "    <tr style=\"text-align: right;\">\n",
       "      <th></th>\n",
       "      <th>R</th>\n",
       "      <th>T</th>\n",
       "      <th>ml_outcomes</th>\n",
       "      <th>T_black</th>\n",
       "      <th>T_white</th>\n",
       "      <th>ml_outcomes_black</th>\n",
       "      <th>ml_outcomes_white</th>\n",
       "      <th>ml_outcomes_decision</th>\n",
       "    </tr>\n",
       "  </thead>\n",
       "  <tbody>\n",
       "    <tr>\n",
       "      <th>87320</th>\n",
       "      <td>0</td>\n",
       "      <td>15</td>\n",
       "      <td>0.04</td>\n",
       "      <td>9</td>\n",
       "      <td>15</td>\n",
       "      <td>-3.823794</td>\n",
       "      <td>-3.135931</td>\n",
       "      <td>0</td>\n",
       "    </tr>\n",
       "    <tr>\n",
       "      <th>39625</th>\n",
       "      <td>0</td>\n",
       "      <td>16</td>\n",
       "      <td>0.04</td>\n",
       "      <td>16</td>\n",
       "      <td>16</td>\n",
       "      <td>-3.272046</td>\n",
       "      <td>-3.057110</td>\n",
       "      <td>0</td>\n",
       "    </tr>\n",
       "    <tr>\n",
       "      <th>23572</th>\n",
       "      <td>0</td>\n",
       "      <td>15</td>\n",
       "      <td>0.04</td>\n",
       "      <td>14</td>\n",
       "      <td>15</td>\n",
       "      <td>-3.429688</td>\n",
       "      <td>-3.135931</td>\n",
       "      <td>0</td>\n",
       "    </tr>\n",
       "    <tr>\n",
       "      <th>24019</th>\n",
       "      <td>0</td>\n",
       "      <td>13</td>\n",
       "      <td>0.04</td>\n",
       "      <td>10</td>\n",
       "      <td>13</td>\n",
       "      <td>-3.744973</td>\n",
       "      <td>-3.293573</td>\n",
       "      <td>0</td>\n",
       "    </tr>\n",
       "    <tr>\n",
       "      <th>18378</th>\n",
       "      <td>0</td>\n",
       "      <td>13</td>\n",
       "      <td>0.04</td>\n",
       "      <td>11</td>\n",
       "      <td>13</td>\n",
       "      <td>-3.666152</td>\n",
       "      <td>-3.293573</td>\n",
       "      <td>0</td>\n",
       "    </tr>\n",
       "    <tr>\n",
       "      <th>...</th>\n",
       "      <td>...</td>\n",
       "      <td>...</td>\n",
       "      <td>...</td>\n",
       "      <td>...</td>\n",
       "      <td>...</td>\n",
       "      <td>...</td>\n",
       "      <td>...</td>\n",
       "      <td>...</td>\n",
       "    </tr>\n",
       "    <tr>\n",
       "      <th>40292</th>\n",
       "      <td>1</td>\n",
       "      <td>98</td>\n",
       "      <td>1.21</td>\n",
       "      <td>98</td>\n",
       "      <td>114</td>\n",
       "      <td>3.191292</td>\n",
       "      <td>4.667368</td>\n",
       "      <td>1</td>\n",
       "    </tr>\n",
       "    <tr>\n",
       "      <th>28577</th>\n",
       "      <td>1</td>\n",
       "      <td>99</td>\n",
       "      <td>1.21</td>\n",
       "      <td>99</td>\n",
       "      <td>114</td>\n",
       "      <td>3.270114</td>\n",
       "      <td>4.667368</td>\n",
       "      <td>1</td>\n",
       "    </tr>\n",
       "    <tr>\n",
       "      <th>97213</th>\n",
       "      <td>1</td>\n",
       "      <td>99</td>\n",
       "      <td>1.21</td>\n",
       "      <td>99</td>\n",
       "      <td>115</td>\n",
       "      <td>3.270114</td>\n",
       "      <td>4.746189</td>\n",
       "      <td>1</td>\n",
       "    </tr>\n",
       "    <tr>\n",
       "      <th>68116</th>\n",
       "      <td>1</td>\n",
       "      <td>102</td>\n",
       "      <td>1.22</td>\n",
       "      <td>102</td>\n",
       "      <td>118</td>\n",
       "      <td>3.506577</td>\n",
       "      <td>4.982653</td>\n",
       "      <td>1</td>\n",
       "    </tr>\n",
       "    <tr>\n",
       "      <th>37431</th>\n",
       "      <td>1</td>\n",
       "      <td>105</td>\n",
       "      <td>1.23</td>\n",
       "      <td>105</td>\n",
       "      <td>123</td>\n",
       "      <td>3.743041</td>\n",
       "      <td>5.376759</td>\n",
       "      <td>1</td>\n",
       "    </tr>\n",
       "  </tbody>\n",
       "</table>\n",
       "<p>100000 rows × 8 columns</p>\n",
       "</div>"
      ],
      "text/plain": [
       "       R    T  ml_outcomes  T_black  T_white  ml_outcomes_black  \\\n",
       "87320  0   15         0.04        9       15          -3.823794   \n",
       "39625  0   16         0.04       16       16          -3.272046   \n",
       "23572  0   15         0.04       14       15          -3.429688   \n",
       "24019  0   13         0.04       10       13          -3.744973   \n",
       "18378  0   13         0.04       11       13          -3.666152   \n",
       "...   ..  ...          ...      ...      ...                ...   \n",
       "40292  1   98         1.21       98      114           3.191292   \n",
       "28577  1   99         1.21       99      114           3.270114   \n",
       "97213  1   99         1.21       99      115           3.270114   \n",
       "68116  1  102         1.22      102      118           3.506577   \n",
       "37431  1  105         1.23      105      123           3.743041   \n",
       "\n",
       "       ml_outcomes_white  ml_outcomes_decision  \n",
       "87320          -3.135931                     0  \n",
       "39625          -3.057110                     0  \n",
       "23572          -3.135931                     0  \n",
       "24019          -3.293573                     0  \n",
       "18378          -3.293573                     0  \n",
       "...                  ...                   ...  \n",
       "40292           4.667368                     1  \n",
       "28577           4.667368                     1  \n",
       "97213           4.746189                     1  \n",
       "68116           4.982653                     1  \n",
       "37431           5.376759                     1  \n",
       "\n",
       "[100000 rows x 8 columns]"
      ]
     },
     "execution_count": 5,
     "metadata": {},
     "output_type": "execute_result"
    }
   ],
   "source": [
    "##\n",
    "# R = race, T = test score, ml_outcomes = expected utility from admitting, \n",
    "# ml_outcomes_{} counterfactual utility given race \n",
    "##\n",
    "\n",
    "df[['R','T','ml_outcomes','T_black','T_white','ml_outcomes_black','ml_outcomes_white','ml_outcomes_decision']].sort_values(by='ml_outcomes')\n",
    "\n"
   ]
  },
  {
   "cell_type": "code",
   "execution_count": 6,
   "metadata": {
    "execution": {
     "iopub.execute_input": "2022-05-02T22:04:51.568844Z",
     "iopub.status.busy": "2022-05-02T22:04:51.568338Z",
     "iopub.status.idle": "2022-05-02T22:04:51.574786Z",
     "shell.execute_reply": "2022-05-02T22:04:51.575053Z"
    }
   },
   "outputs": [],
   "source": [
    "###\n",
    "## Get total utility from admitting people in a stratum \n",
    "###\n",
    "\n",
    "df_ = df[['R','T','ml_outcomes']].groupby(['R','T']).sum().reset_index()"
   ]
  },
  {
   "cell_type": "code",
   "execution_count": 7,
   "metadata": {
    "execution": {
     "iopub.execute_input": "2022-05-02T22:04:51.579848Z",
     "iopub.status.busy": "2022-05-02T22:04:51.579445Z",
     "iopub.status.idle": "2022-05-02T22:04:51.584883Z",
     "shell.execute_reply": "2022-05-02T22:04:51.585221Z"
    }
   },
   "outputs": [],
   "source": [
    "###\n",
    "## Get number of people in each stratum\n",
    "###\n",
    "\n",
    "df_count = df[['R','T','ml_outcomes']].groupby(['R','T']).count().reset_index()\n",
    "df_count.columns = ['R','T','Count']\n",
    "df_count['N'] = df_count['Count']"
   ]
  },
  {
   "cell_type": "code",
   "execution_count": 8,
   "metadata": {
    "execution": {
     "iopub.execute_input": "2022-05-02T22:04:51.590699Z",
     "iopub.status.busy": "2022-05-02T22:04:51.590308Z",
     "iopub.status.idle": "2022-05-02T22:04:51.591886Z",
     "shell.execute_reply": "2022-05-02T22:04:51.592187Z"
    }
   },
   "outputs": [],
   "source": [
    "###\n",
    "## Merge summary tables to get one table with Race, Test Score, SUM(Utility), COUNT(applicants) per stratum\n",
    "###\n",
    "\n",
    "dff = df_.merge(df_count[['N']],left_index=True,right_index=True).sort_values(by='ml_outcomes',ascending=False).reset_index().sort_values(by='index').reset_index()"
   ]
  },
  {
   "cell_type": "code",
   "execution_count": 9,
   "metadata": {
    "execution": {
     "iopub.execute_input": "2022-05-02T22:04:51.595010Z",
     "iopub.status.busy": "2022-05-02T22:04:51.594555Z",
     "iopub.status.idle": "2022-05-02T22:04:51.600956Z",
     "shell.execute_reply": "2022-05-02T22:04:51.601245Z"
    }
   },
   "outputs": [
    {
     "data": {
      "text/html": [
       "<div>\n",
       "<style scoped>\n",
       "    .dataframe tbody tr th:only-of-type {\n",
       "        vertical-align: middle;\n",
       "    }\n",
       "\n",
       "    .dataframe tbody tr th {\n",
       "        vertical-align: top;\n",
       "    }\n",
       "\n",
       "    .dataframe thead th {\n",
       "        text-align: right;\n",
       "    }\n",
       "</style>\n",
       "<table border=\"1\" class=\"dataframe\">\n",
       "  <thead>\n",
       "    <tr style=\"text-align: right;\">\n",
       "      <th></th>\n",
       "      <th>level_0</th>\n",
       "      <th>index</th>\n",
       "      <th>R</th>\n",
       "      <th>T</th>\n",
       "      <th>ml_outcomes</th>\n",
       "      <th>N</th>\n",
       "    </tr>\n",
       "  </thead>\n",
       "  <tbody>\n",
       "    <tr>\n",
       "      <th>2</th>\n",
       "      <td>192</td>\n",
       "      <td>2</td>\n",
       "      <td>0</td>\n",
       "      <td>16</td>\n",
       "      <td>0.04</td>\n",
       "      <td>1</td>\n",
       "    </tr>\n",
       "    <tr>\n",
       "      <th>3</th>\n",
       "      <td>191</td>\n",
       "      <td>3</td>\n",
       "      <td>0</td>\n",
       "      <td>17</td>\n",
       "      <td>0.05</td>\n",
       "      <td>1</td>\n",
       "    </tr>\n",
       "    <tr>\n",
       "      <th>0</th>\n",
       "      <td>190</td>\n",
       "      <td>0</td>\n",
       "      <td>0</td>\n",
       "      <td>13</td>\n",
       "      <td>0.12</td>\n",
       "      <td>3</td>\n",
       "    </tr>\n",
       "    <tr>\n",
       "      <th>1</th>\n",
       "      <td>189</td>\n",
       "      <td>1</td>\n",
       "      <td>0</td>\n",
       "      <td>15</td>\n",
       "      <td>0.12</td>\n",
       "      <td>3</td>\n",
       "    </tr>\n",
       "    <tr>\n",
       "      <th>104</th>\n",
       "      <td>188</td>\n",
       "      <td>104</td>\n",
       "      <td>1</td>\n",
       "      <td>11</td>\n",
       "      <td>0.27</td>\n",
       "      <td>1</td>\n",
       "    </tr>\n",
       "    <tr>\n",
       "      <th>...</th>\n",
       "      <td>...</td>\n",
       "      <td>...</td>\n",
       "      <td>...</td>\n",
       "      <td>...</td>\n",
       "      <td>...</td>\n",
       "      <td>...</td>\n",
       "    </tr>\n",
       "    <tr>\n",
       "      <th>44</th>\n",
       "      <td>4</td>\n",
       "      <td>44</td>\n",
       "      <td>0</td>\n",
       "      <td>58</td>\n",
       "      <td>1083.60</td>\n",
       "      <td>1935</td>\n",
       "    </tr>\n",
       "    <tr>\n",
       "      <th>47</th>\n",
       "      <td>3</td>\n",
       "      <td>47</td>\n",
       "      <td>0</td>\n",
       "      <td>61</td>\n",
       "      <td>1094.30</td>\n",
       "      <td>1765</td>\n",
       "    </tr>\n",
       "    <tr>\n",
       "      <th>46</th>\n",
       "      <td>2</td>\n",
       "      <td>46</td>\n",
       "      <td>0</td>\n",
       "      <td>60</td>\n",
       "      <td>1111.20</td>\n",
       "      <td>1852</td>\n",
       "    </tr>\n",
       "    <tr>\n",
       "      <th>45</th>\n",
       "      <td>1</td>\n",
       "      <td>45</td>\n",
       "      <td>0</td>\n",
       "      <td>59</td>\n",
       "      <td>1132.16</td>\n",
       "      <td>1952</td>\n",
       "    </tr>\n",
       "    <tr>\n",
       "      <th>42</th>\n",
       "      <td>0</td>\n",
       "      <td>42</td>\n",
       "      <td>0</td>\n",
       "      <td>56</td>\n",
       "      <td>1134.12</td>\n",
       "      <td>2181</td>\n",
       "    </tr>\n",
       "  </tbody>\n",
       "</table>\n",
       "<p>193 rows × 6 columns</p>\n",
       "</div>"
      ],
      "text/plain": [
       "     level_0  index  R   T  ml_outcomes     N\n",
       "2        192      2  0  16         0.04     1\n",
       "3        191      3  0  17         0.05     1\n",
       "0        190      0  0  13         0.12     3\n",
       "1        189      1  0  15         0.12     3\n",
       "104      188    104  1  11         0.27     1\n",
       "..       ...    ... ..  ..          ...   ...\n",
       "44         4     44  0  58      1083.60  1935\n",
       "47         3     47  0  61      1094.30  1765\n",
       "46         2     46  0  60      1111.20  1852\n",
       "45         1     45  0  59      1132.16  1952\n",
       "42         0     42  0  56      1134.12  2181\n",
       "\n",
       "[193 rows x 6 columns]"
      ]
     },
     "execution_count": 9,
     "metadata": {},
     "output_type": "execute_result"
    }
   ],
   "source": [
    "# final info table\n",
    "dff.sort_values(by='ml_outcomes')"
   ]
  },
  {
   "cell_type": "code",
   "execution_count": null,
   "metadata": {},
   "outputs": [],
   "source": []
  },
  {
   "cell_type": "markdown",
   "metadata": {},
   "source": [
    "### Setup optimization problem "
   ]
  },
  {
   "cell_type": "code",
   "execution_count": 10,
   "metadata": {
    "execution": {
     "iopub.execute_input": "2022-05-02T22:04:51.604344Z",
     "iopub.status.busy": "2022-05-02T22:04:51.603770Z",
     "iopub.status.idle": "2022-05-02T22:04:51.629137Z",
     "shell.execute_reply": "2022-05-02T22:04:51.629404Z"
    }
   },
   "outputs": [],
   "source": [
    "from ortools.linear_solver import pywraplp\n"
   ]
  },
  {
   "cell_type": "code",
   "execution_count": 11,
   "metadata": {
    "execution": {
     "iopub.execute_input": "2022-05-02T22:04:51.632759Z",
     "iopub.status.busy": "2022-05-02T22:04:51.632219Z",
     "iopub.status.idle": "2022-05-02T22:04:51.634054Z",
     "shell.execute_reply": "2022-05-02T22:04:51.634443Z"
    }
   },
   "outputs": [],
   "source": [
    "solver = pywraplp.Solver.CreateSolver('GLOP')\n"
   ]
  },
  {
   "cell_type": "code",
   "execution_count": 12,
   "metadata": {
    "execution": {
     "iopub.execute_input": "2022-05-02T22:04:51.641718Z",
     "iopub.status.busy": "2022-05-02T22:04:51.641024Z",
     "iopub.status.idle": "2022-05-02T22:04:51.643090Z",
     "shell.execute_reply": "2022-05-02T22:04:51.643499Z"
    }
   },
   "outputs": [
    {
     "data": {
      "text/html": [
       "<div>\n",
       "<style scoped>\n",
       "    .dataframe tbody tr th:only-of-type {\n",
       "        vertical-align: middle;\n",
       "    }\n",
       "\n",
       "    .dataframe tbody tr th {\n",
       "        vertical-align: top;\n",
       "    }\n",
       "\n",
       "    .dataframe thead th {\n",
       "        text-align: right;\n",
       "    }\n",
       "</style>\n",
       "<table border=\"1\" class=\"dataframe\">\n",
       "  <thead>\n",
       "    <tr style=\"text-align: right;\">\n",
       "      <th></th>\n",
       "      <th>level_0</th>\n",
       "      <th>index</th>\n",
       "      <th>R</th>\n",
       "      <th>T</th>\n",
       "      <th>ml_outcomes</th>\n",
       "      <th>N</th>\n",
       "    </tr>\n",
       "  </thead>\n",
       "  <tbody>\n",
       "    <tr>\n",
       "      <th>0</th>\n",
       "      <td>190</td>\n",
       "      <td>0</td>\n",
       "      <td>0</td>\n",
       "      <td>13</td>\n",
       "      <td>0.12</td>\n",
       "      <td>3</td>\n",
       "    </tr>\n",
       "    <tr>\n",
       "      <th>1</th>\n",
       "      <td>189</td>\n",
       "      <td>1</td>\n",
       "      <td>0</td>\n",
       "      <td>15</td>\n",
       "      <td>0.12</td>\n",
       "      <td>3</td>\n",
       "    </tr>\n",
       "    <tr>\n",
       "      <th>2</th>\n",
       "      <td>192</td>\n",
       "      <td>2</td>\n",
       "      <td>0</td>\n",
       "      <td>16</td>\n",
       "      <td>0.04</td>\n",
       "      <td>1</td>\n",
       "    </tr>\n",
       "    <tr>\n",
       "      <th>3</th>\n",
       "      <td>191</td>\n",
       "      <td>3</td>\n",
       "      <td>0</td>\n",
       "      <td>17</td>\n",
       "      <td>0.05</td>\n",
       "      <td>1</td>\n",
       "    </tr>\n",
       "    <tr>\n",
       "      <th>4</th>\n",
       "      <td>184</td>\n",
       "      <td>4</td>\n",
       "      <td>0</td>\n",
       "      <td>18</td>\n",
       "      <td>0.60</td>\n",
       "      <td>12</td>\n",
       "    </tr>\n",
       "    <tr>\n",
       "      <th>...</th>\n",
       "      <td>...</td>\n",
       "      <td>...</td>\n",
       "      <td>...</td>\n",
       "      <td>...</td>\n",
       "      <td>...</td>\n",
       "      <td>...</td>\n",
       "    </tr>\n",
       "    <tr>\n",
       "      <th>188</th>\n",
       "      <td>173</td>\n",
       "      <td>188</td>\n",
       "      <td>1</td>\n",
       "      <td>96</td>\n",
       "      <td>1.20</td>\n",
       "      <td>1</td>\n",
       "    </tr>\n",
       "    <tr>\n",
       "      <th>189</th>\n",
       "      <td>172</td>\n",
       "      <td>189</td>\n",
       "      <td>1</td>\n",
       "      <td>98</td>\n",
       "      <td>1.21</td>\n",
       "      <td>1</td>\n",
       "    </tr>\n",
       "    <tr>\n",
       "      <th>190</th>\n",
       "      <td>162</td>\n",
       "      <td>190</td>\n",
       "      <td>1</td>\n",
       "      <td>99</td>\n",
       "      <td>2.42</td>\n",
       "      <td>2</td>\n",
       "    </tr>\n",
       "    <tr>\n",
       "      <th>191</th>\n",
       "      <td>171</td>\n",
       "      <td>191</td>\n",
       "      <td>1</td>\n",
       "      <td>102</td>\n",
       "      <td>1.22</td>\n",
       "      <td>1</td>\n",
       "    </tr>\n",
       "    <tr>\n",
       "      <th>192</th>\n",
       "      <td>170</td>\n",
       "      <td>192</td>\n",
       "      <td>1</td>\n",
       "      <td>105</td>\n",
       "      <td>1.23</td>\n",
       "      <td>1</td>\n",
       "    </tr>\n",
       "  </tbody>\n",
       "</table>\n",
       "<p>193 rows × 6 columns</p>\n",
       "</div>"
      ],
      "text/plain": [
       "     level_0  index  R    T  ml_outcomes   N\n",
       "0        190      0  0   13         0.12   3\n",
       "1        189      1  0   15         0.12   3\n",
       "2        192      2  0   16         0.04   1\n",
       "3        191      3  0   17         0.05   1\n",
       "4        184      4  0   18         0.60  12\n",
       "..       ...    ... ..  ...          ...  ..\n",
       "188      173    188  1   96         1.20   1\n",
       "189      172    189  1   98         1.21   1\n",
       "190      162    190  1   99         2.42   2\n",
       "191      171    191  1  102         1.22   1\n",
       "192      170    192  1  105         1.23   1\n",
       "\n",
       "[193 rows x 6 columns]"
      ]
     },
     "execution_count": 12,
     "metadata": {},
     "output_type": "execute_result"
    }
   ],
   "source": [
    "dff"
   ]
  },
  {
   "cell_type": "code",
   "execution_count": 13,
   "metadata": {
    "execution": {
     "iopub.execute_input": "2022-05-02T22:04:51.653869Z",
     "iopub.status.busy": "2022-05-02T22:04:51.653415Z",
     "iopub.status.idle": "2022-05-02T22:04:51.654675Z",
     "shell.execute_reply": "2022-05-02T22:04:51.654978Z"
    }
   },
   "outputs": [],
   "source": [
    "applicant_stratum = []\n",
    "vars_cache = {}\n",
    "\n",
    "# Objective: Maximize the expected utility of the admitted students\n",
    "objective = solver.Objective()\n",
    "\n",
    "# For each stratum\n",
    "for ix, row in dff.iterrows():\n",
    "    # probability of admission\n",
    "    numvar = solver.NumVar(0.0, 1.0, str(ix))\n",
    "    \n",
    "    # store variable by index, and also by stratum R, T\n",
    "    applicant_stratum.append(numvar)\n",
    "    vars_cache[(row['R'],row['T'])] = numvar\n",
    "    \n",
    "    # Benefit of admitting people is total utility in that stratum\n",
    "    objective.SetCoefficient(applicant_stratum[ix], float(row['ml_outcomes']))\n",
    "objective.SetMaximization()\n"
   ]
  },
  {
   "cell_type": "code",
   "execution_count": 14,
   "metadata": {
    "execution": {
     "iopub.execute_input": "2022-05-02T22:04:51.657681Z",
     "iopub.status.busy": "2022-05-02T22:04:51.657272Z",
     "iopub.status.idle": "2022-05-02T22:04:51.658845Z",
     "shell.execute_reply": "2022-05-02T22:04:51.659140Z"
    }
   },
   "outputs": [
    {
     "data": {
      "text/plain": [
       "0"
      ]
     },
     "execution_count": 14,
     "metadata": {},
     "output_type": "execute_result"
    }
   ],
   "source": [
    "# Currently we have no constraints \n",
    "solver.NumConstraints()"
   ]
  },
  {
   "cell_type": "code",
   "execution_count": 15,
   "metadata": {
    "execution": {
     "iopub.execute_input": "2022-05-02T22:04:51.666540Z",
     "iopub.status.busy": "2022-05-02T22:04:51.666082Z",
     "iopub.status.idle": "2022-05-02T22:04:51.668175Z",
     "shell.execute_reply": "2022-05-02T22:04:51.668461Z"
    },
    "scrolled": true
   },
   "outputs": [
    {
     "name": "stdout",
     "output_type": "stream",
     "text": [
      "50000\n"
     ]
    }
   ],
   "source": [
    "# Constraint: At most K applicants\n",
    "K = int(len(df)*FRAC_ADMIT)\n",
    "print(K)\n",
    "admit_quota = solver.Constraint(0, K)\n",
    "\n",
    "# Total applicants cannot exceed K \n",
    "for ix, row in dff.iterrows():\n",
    "    admit_quota.SetCoefficient(applicant_stratum[ix], float(row['N']))"
   ]
  },
  {
   "cell_type": "code",
   "execution_count": 16,
   "metadata": {
    "execution": {
     "iopub.execute_input": "2022-05-02T22:04:51.671399Z",
     "iopub.status.busy": "2022-05-02T22:04:51.670894Z",
     "iopub.status.idle": "2022-05-02T22:04:51.672934Z",
     "shell.execute_reply": "2022-05-02T22:04:51.673389Z"
    }
   },
   "outputs": [
    {
     "data": {
      "text/plain": [
       "1"
      ]
     },
     "execution_count": 16,
     "metadata": {},
     "output_type": "execute_result"
    }
   ],
   "source": [
    "# Now we have one constraint\n",
    "solver.NumConstraints()"
   ]
  },
  {
   "cell_type": "code",
   "execution_count": null,
   "metadata": {},
   "outputs": [],
   "source": []
  },
  {
   "cell_type": "markdown",
   "metadata": {},
   "source": [
    "## Add CF Fair constraints"
   ]
  },
  {
   "cell_type": "code",
   "execution_count": 17,
   "metadata": {
    "execution": {
     "iopub.execute_input": "2022-05-02T22:04:51.677264Z",
     "iopub.status.busy": "2022-05-02T22:04:51.676865Z",
     "iopub.status.idle": "2022-05-02T22:04:51.678232Z",
     "shell.execute_reply": "2022-05-02T22:04:51.678624Z"
    }
   },
   "outputs": [],
   "source": [
    "from collections import Counter\n",
    "\n",
    "def convertListToProb(raw_list):\n",
    "    counts = dict(Counter(raw_list))\n",
    "    probs = {}\n",
    "    for test_score in counts:\n",
    "        probs[test_score]  = counts[test_score]/float(len(raw_list))\n",
    "    return [(probs[t], t) for t in probs]"
   ]
  },
  {
   "cell_type": "code",
   "execution_count": 18,
   "metadata": {
    "execution": {
     "iopub.execute_input": "2022-05-02T22:04:51.681788Z",
     "iopub.status.busy": "2022-05-02T22:04:51.681432Z",
     "iopub.status.idle": "2022-05-02T22:04:51.698280Z",
     "shell.execute_reply": "2022-05-02T22:04:51.697308Z"
    }
   },
   "outputs": [],
   "source": [
    "T_blacks_list = df[df['R']==0][['T','T_black_star']].groupby('T')['T_black_star'].apply(list).reset_index(name='T_blacks')\n"
   ]
  },
  {
   "cell_type": "code",
   "execution_count": 19,
   "metadata": {
    "execution": {
     "iopub.execute_input": "2022-05-02T22:04:51.708683Z",
     "iopub.status.busy": "2022-05-02T22:04:51.708108Z",
     "iopub.status.idle": "2022-05-02T22:04:51.709897Z",
     "shell.execute_reply": "2022-05-02T22:04:51.710186Z"
    }
   },
   "outputs": [],
   "source": [
    "T_blacks_list['probs'] = T_blacks_list['T_blacks'].apply(convertListToProb)\n"
   ]
  },
  {
   "cell_type": "code",
   "execution_count": 20,
   "metadata": {
    "execution": {
     "iopub.execute_input": "2022-05-02T22:04:51.725173Z",
     "iopub.status.busy": "2022-05-02T22:04:51.724434Z",
     "iopub.status.idle": "2022-05-02T22:04:51.726179Z",
     "shell.execute_reply": "2022-05-02T22:04:51.724858Z"
    }
   },
   "outputs": [
    {
     "data": {
      "text/html": [
       "<div>\n",
       "<style scoped>\n",
       "    .dataframe tbody tr th:only-of-type {\n",
       "        vertical-align: middle;\n",
       "    }\n",
       "\n",
       "    .dataframe tbody tr th {\n",
       "        vertical-align: top;\n",
       "    }\n",
       "\n",
       "    .dataframe thead th {\n",
       "        text-align: right;\n",
       "    }\n",
       "</style>\n",
       "<table border=\"1\" class=\"dataframe\">\n",
       "  <thead>\n",
       "    <tr style=\"text-align: right;\">\n",
       "      <th></th>\n",
       "      <th>T</th>\n",
       "      <th>T_blacks</th>\n",
       "      <th>probs</th>\n",
       "    </tr>\n",
       "  </thead>\n",
       "  <tbody>\n",
       "    <tr>\n",
       "      <th>0</th>\n",
       "      <td>13</td>\n",
       "      <td>[12, 13, 12]</td>\n",
       "      <td>[(0.6666666666666666, 12), (0.3333333333333333...</td>\n",
       "    </tr>\n",
       "    <tr>\n",
       "      <th>1</th>\n",
       "      <td>15</td>\n",
       "      <td>[16, 15, 13]</td>\n",
       "      <td>[(0.3333333333333333, 16), (0.3333333333333333...</td>\n",
       "    </tr>\n",
       "    <tr>\n",
       "      <th>2</th>\n",
       "      <td>16</td>\n",
       "      <td>[16]</td>\n",
       "      <td>[(1.0, 16)]</td>\n",
       "    </tr>\n",
       "    <tr>\n",
       "      <th>3</th>\n",
       "      <td>17</td>\n",
       "      <td>[17]</td>\n",
       "      <td>[(1.0, 17)]</td>\n",
       "    </tr>\n",
       "    <tr>\n",
       "      <th>4</th>\n",
       "      <td>18</td>\n",
       "      <td>[16, 18, 16, 16, 17, 16, 17, 17, 17, 16, 17, 17]</td>\n",
       "      <td>[(0.4166666666666667, 16), (0.0833333333333333...</td>\n",
       "    </tr>\n",
       "    <tr>\n",
       "      <th>...</th>\n",
       "      <td>...</td>\n",
       "      <td>...</td>\n",
       "      <td>...</td>\n",
       "    </tr>\n",
       "    <tr>\n",
       "      <th>97</th>\n",
       "      <td>112</td>\n",
       "      <td>[103]</td>\n",
       "      <td>[(1.0, 103)]</td>\n",
       "    </tr>\n",
       "    <tr>\n",
       "      <th>98</th>\n",
       "      <td>113</td>\n",
       "      <td>[103, 105]</td>\n",
       "      <td>[(0.5, 103), (0.5, 105)]</td>\n",
       "    </tr>\n",
       "    <tr>\n",
       "      <th>99</th>\n",
       "      <td>115</td>\n",
       "      <td>[106]</td>\n",
       "      <td>[(1.0, 106)]</td>\n",
       "    </tr>\n",
       "    <tr>\n",
       "      <th>100</th>\n",
       "      <td>123</td>\n",
       "      <td>[115, 113]</td>\n",
       "      <td>[(0.5, 115), (0.5, 113)]</td>\n",
       "    </tr>\n",
       "    <tr>\n",
       "      <th>101</th>\n",
       "      <td>131</td>\n",
       "      <td>[120]</td>\n",
       "      <td>[(1.0, 120)]</td>\n",
       "    </tr>\n",
       "  </tbody>\n",
       "</table>\n",
       "<p>102 rows × 3 columns</p>\n",
       "</div>"
      ],
      "text/plain": [
       "       T                                          T_blacks  \\\n",
       "0     13                                      [12, 13, 12]   \n",
       "1     15                                      [16, 15, 13]   \n",
       "2     16                                              [16]   \n",
       "3     17                                              [17]   \n",
       "4     18  [16, 18, 16, 16, 17, 16, 17, 17, 17, 16, 17, 17]   \n",
       "..   ...                                               ...   \n",
       "97   112                                             [103]   \n",
       "98   113                                        [103, 105]   \n",
       "99   115                                             [106]   \n",
       "100  123                                        [115, 113]   \n",
       "101  131                                             [120]   \n",
       "\n",
       "                                                 probs  \n",
       "0    [(0.6666666666666666, 12), (0.3333333333333333...  \n",
       "1    [(0.3333333333333333, 16), (0.3333333333333333...  \n",
       "2                                          [(1.0, 16)]  \n",
       "3                                          [(1.0, 17)]  \n",
       "4    [(0.4166666666666667, 16), (0.0833333333333333...  \n",
       "..                                                 ...  \n",
       "97                                        [(1.0, 103)]  \n",
       "98                            [(0.5, 103), (0.5, 105)]  \n",
       "99                                        [(1.0, 106)]  \n",
       "100                           [(0.5, 115), (0.5, 113)]  \n",
       "101                                       [(1.0, 120)]  \n",
       "\n",
       "[102 rows x 3 columns]"
      ]
     },
     "execution_count": 20,
     "metadata": {},
     "output_type": "execute_result"
    }
   ],
   "source": [
    "T_blacks_list"
   ]
  },
  {
   "cell_type": "code",
   "execution_count": 21,
   "metadata": {
    "execution": {
     "iopub.execute_input": "2022-05-02T22:04:51.734238Z",
     "iopub.status.busy": "2022-05-02T22:04:51.733830Z",
     "iopub.status.idle": "2022-05-02T22:04:51.735447Z",
     "shell.execute_reply": "2022-05-02T22:04:51.735843Z"
    }
   },
   "outputs": [],
   "source": [
    "didntexist = 0\n",
    "exists = 0\n",
    "for ix, row in T_blacks_list.iterrows():\n",
    "    cf_fair_stratum = solver.Constraint(0.0, 0.0)\n",
    "\n",
    "    White_T = row['T']\n",
    "    Blacks_Ts = row['probs']\n",
    "    \n",
    "    cf_fair_stratum.SetCoefficient(vars_cache[(0.0, White_T)], -1.0)\n",
    "    for prob in Blacks_Ts:\n",
    "        if (1.0, prob[1]) not in vars_cache:\n",
    "            vars_cache[(1.0, prob[1])] = solver.NumVar(0.0, 1.0, str((1.0, prob[1])))\n",
    "            didntexist+=1\n",
    "        else:\n",
    "            exists+=1\n",
    "        cf_fair_stratum.SetCoefficient(vars_cache[(1.0, prob[1])], prob[0])\n",
    "    "
   ]
  },
  {
   "cell_type": "code",
   "execution_count": 22,
   "metadata": {
    "execution": {
     "iopub.execute_input": "2022-05-02T22:04:51.738853Z",
     "iopub.status.busy": "2022-05-02T22:04:51.738385Z",
     "iopub.status.idle": "2022-05-02T22:04:51.739905Z",
     "shell.execute_reply": "2022-05-02T22:04:51.740146Z"
    }
   },
   "outputs": [
    {
     "data": {
      "text/plain": [
       "(10, 548)"
      ]
     },
     "execution_count": 22,
     "metadata": {},
     "output_type": "execute_result"
    }
   ],
   "source": [
    "didntexist,exists"
   ]
  },
  {
   "cell_type": "code",
   "execution_count": 23,
   "metadata": {
    "execution": {
     "iopub.execute_input": "2022-05-02T22:04:51.743216Z",
     "iopub.status.busy": "2022-05-02T22:04:51.742809Z",
     "iopub.status.idle": "2022-05-02T22:04:51.755448Z",
     "shell.execute_reply": "2022-05-02T22:04:51.755723Z"
    }
   },
   "outputs": [],
   "source": [
    "T_whites_list = df[df['R']==1][['T','T_white_star']].groupby('T')['T_white_star'].apply(list).reset_index(name='T_whites')"
   ]
  },
  {
   "cell_type": "code",
   "execution_count": 24,
   "metadata": {
    "execution": {
     "iopub.execute_input": "2022-05-02T22:04:51.760378Z",
     "iopub.status.busy": "2022-05-02T22:04:51.759945Z",
     "iopub.status.idle": "2022-05-02T22:04:51.761247Z",
     "shell.execute_reply": "2022-05-02T22:04:51.761748Z"
    }
   },
   "outputs": [],
   "source": [
    "T_whites_list['probs'] = T_whites_list['T_whites'].apply(convertListToProb)\n"
   ]
  },
  {
   "cell_type": "code",
   "execution_count": 25,
   "metadata": {
    "execution": {
     "iopub.execute_input": "2022-05-02T22:04:51.769733Z",
     "iopub.status.busy": "2022-05-02T22:04:51.769124Z",
     "iopub.status.idle": "2022-05-02T22:04:51.770981Z",
     "shell.execute_reply": "2022-05-02T22:04:51.771314Z"
    }
   },
   "outputs": [],
   "source": [
    "didntexist = 0\n",
    "exists = 0\n",
    "\n",
    "for ix, row in T_whites_list.iterrows():\n",
    "    cf_fair_stratum = solver.Constraint(0.0, 0.0)\n",
    "\n",
    "    Black_T = row['T']\n",
    "    White_Ts = row['probs']\n",
    "    \n",
    "    cf_fair_stratum.SetCoefficient(vars_cache[(1.0, Black_T)], -1.0)\n",
    "    for prob in White_Ts:\n",
    "        if (0.0, prob[1]) not in vars_cache:\n",
    "            vars_cache[(0.0, prob[1])] = solver.NumVar(0.0, 1.0, str((0.0, prob[1])))\n",
    "            didntexist+=1\n",
    "        else:\n",
    "            exists+=1\n",
    "            \n",
    "        cf_fair_stratum.SetCoefficient(vars_cache[(0.0, prob[1])], prob[0])\n",
    "    "
   ]
  },
  {
   "cell_type": "code",
   "execution_count": 26,
   "metadata": {
    "execution": {
     "iopub.execute_input": "2022-05-02T22:04:51.774096Z",
     "iopub.status.busy": "2022-05-02T22:04:51.773706Z",
     "iopub.status.idle": "2022-05-02T22:04:51.775259Z",
     "shell.execute_reply": "2022-05-02T22:04:51.775631Z"
    }
   },
   "outputs": [
    {
     "data": {
      "text/plain": [
       "<bound method Constraint.basis_status of <ortools.linear_solver.pywraplp.Constraint; proxy of <Swig Object of type 'operations_research::MPConstraint *' at 0x7fc45806bcf0> >>"
      ]
     },
     "execution_count": 26,
     "metadata": {},
     "output_type": "execute_result"
    }
   ],
   "source": [
    "cf_fair_stratum.basis_status"
   ]
  },
  {
   "cell_type": "code",
   "execution_count": 27,
   "metadata": {
    "execution": {
     "iopub.execute_input": "2022-05-02T22:04:51.778554Z",
     "iopub.status.busy": "2022-05-02T22:04:51.778009Z",
     "iopub.status.idle": "2022-05-02T22:04:51.779851Z",
     "shell.execute_reply": "2022-05-02T22:04:51.780104Z"
    }
   },
   "outputs": [
    {
     "data": {
      "text/plain": [
       "194"
      ]
     },
     "execution_count": 27,
     "metadata": {},
     "output_type": "execute_result"
    }
   ],
   "source": [
    "solver.NumConstraints()"
   ]
  },
  {
   "cell_type": "markdown",
   "metadata": {},
   "source": [
    "## Solve linear program"
   ]
  },
  {
   "cell_type": "code",
   "execution_count": 28,
   "metadata": {
    "execution": {
     "iopub.execute_input": "2022-05-02T22:04:51.782666Z",
     "iopub.status.busy": "2022-05-02T22:04:51.782270Z",
     "iopub.status.idle": "2022-05-02T22:04:51.783686Z",
     "shell.execute_reply": "2022-05-02T22:04:51.784125Z"
    }
   },
   "outputs": [
    {
     "data": {
      "text/plain": [
       "4"
      ]
     },
     "execution_count": 28,
     "metadata": {},
     "output_type": "execute_result"
    }
   ],
   "source": [
    "solver.ABNORMAL"
   ]
  },
  {
   "cell_type": "code",
   "execution_count": 29,
   "metadata": {
    "execution": {
     "iopub.execute_input": "2022-05-02T22:04:51.790154Z",
     "iopub.status.busy": "2022-05-02T22:04:51.789717Z",
     "iopub.status.idle": "2022-05-02T22:04:51.790857Z",
     "shell.execute_reply": "2022-05-02T22:04:51.791199Z"
    }
   },
   "outputs": [],
   "source": [
    "status = solver.Solve()\n"
   ]
  },
  {
   "cell_type": "code",
   "execution_count": 30,
   "metadata": {
    "execution": {
     "iopub.execute_input": "2022-05-02T22:04:51.793993Z",
     "iopub.status.busy": "2022-05-02T22:04:51.793536Z",
     "iopub.status.idle": "2022-05-02T22:04:51.795146Z",
     "shell.execute_reply": "2022-05-02T22:04:51.795397Z"
    }
   },
   "outputs": [
    {
     "data": {
      "text/plain": [
       "0"
      ]
     },
     "execution_count": 30,
     "metadata": {},
     "output_type": "execute_result"
    }
   ],
   "source": [
    "status"
   ]
  },
  {
   "cell_type": "code",
   "execution_count": 31,
   "metadata": {
    "execution": {
     "iopub.execute_input": "2022-05-02T22:04:51.797852Z",
     "iopub.status.busy": "2022-05-02T22:04:51.797445Z",
     "iopub.status.idle": "2022-05-02T22:04:51.798962Z",
     "shell.execute_reply": "2022-05-02T22:04:51.799289Z"
    }
   },
   "outputs": [
    {
     "data": {
      "text/plain": [
       "0"
      ]
     },
     "execution_count": 31,
     "metadata": {},
     "output_type": "execute_result"
    }
   ],
   "source": [
    "solver.OPTIMAL"
   ]
  },
  {
   "cell_type": "code",
   "execution_count": 32,
   "metadata": {
    "execution": {
     "iopub.execute_input": "2022-05-02T22:04:51.803220Z",
     "iopub.status.busy": "2022-05-02T22:04:51.802621Z",
     "iopub.status.idle": "2022-05-02T22:04:51.804114Z",
     "shell.execute_reply": "2022-05-02T22:04:51.804445Z"
    },
    "scrolled": true
   },
   "outputs": [],
   "source": [
    "row = []\n",
    "admit = []\n",
    "\n",
    "for i in applicant_stratum:\n",
    "    row.append(int(str(i)))\n",
    "    admit.append(i.solution_value())\n",
    "\n",
    "df_decisions = pd.DataFrame({'row_id':row,'decision':admit})"
   ]
  },
  {
   "cell_type": "code",
   "execution_count": 33,
   "metadata": {
    "execution": {
     "iopub.execute_input": "2022-05-02T22:04:51.809702Z",
     "iopub.status.busy": "2022-05-02T22:04:51.809186Z",
     "iopub.status.idle": "2022-05-02T22:04:51.811244Z",
     "shell.execute_reply": "2022-05-02T22:04:51.811547Z"
    }
   },
   "outputs": [
    {
     "data": {
      "text/html": [
       "<div>\n",
       "<style scoped>\n",
       "    .dataframe tbody tr th:only-of-type {\n",
       "        vertical-align: middle;\n",
       "    }\n",
       "\n",
       "    .dataframe tbody tr th {\n",
       "        vertical-align: top;\n",
       "    }\n",
       "\n",
       "    .dataframe thead th {\n",
       "        text-align: right;\n",
       "    }\n",
       "</style>\n",
       "<table border=\"1\" class=\"dataframe\">\n",
       "  <thead>\n",
       "    <tr style=\"text-align: right;\">\n",
       "      <th></th>\n",
       "      <th>row_id</th>\n",
       "      <th>decision</th>\n",
       "    </tr>\n",
       "  </thead>\n",
       "  <tbody>\n",
       "    <tr>\n",
       "      <th>0</th>\n",
       "      <td>0</td>\n",
       "      <td>0.111057</td>\n",
       "    </tr>\n",
       "    <tr>\n",
       "      <th>1</th>\n",
       "      <td>1</td>\n",
       "      <td>0.435686</td>\n",
       "    </tr>\n",
       "    <tr>\n",
       "      <th>2</th>\n",
       "      <td>2</td>\n",
       "      <td>0.499757</td>\n",
       "    </tr>\n",
       "    <tr>\n",
       "      <th>3</th>\n",
       "      <td>3</td>\n",
       "      <td>0.499757</td>\n",
       "    </tr>\n",
       "    <tr>\n",
       "      <th>4</th>\n",
       "      <td>4</td>\n",
       "      <td>0.499757</td>\n",
       "    </tr>\n",
       "    <tr>\n",
       "      <th>...</th>\n",
       "      <td>...</td>\n",
       "      <td>...</td>\n",
       "    </tr>\n",
       "    <tr>\n",
       "      <th>188</th>\n",
       "      <td>188</td>\n",
       "      <td>0.897009</td>\n",
       "    </tr>\n",
       "    <tr>\n",
       "      <th>189</th>\n",
       "      <td>189</td>\n",
       "      <td>1.000000</td>\n",
       "    </tr>\n",
       "    <tr>\n",
       "      <th>190</th>\n",
       "      <td>190</td>\n",
       "      <td>1.000000</td>\n",
       "    </tr>\n",
       "    <tr>\n",
       "      <th>191</th>\n",
       "      <td>191</td>\n",
       "      <td>1.000000</td>\n",
       "    </tr>\n",
       "    <tr>\n",
       "      <th>192</th>\n",
       "      <td>192</td>\n",
       "      <td>1.000000</td>\n",
       "    </tr>\n",
       "  </tbody>\n",
       "</table>\n",
       "<p>193 rows × 2 columns</p>\n",
       "</div>"
      ],
      "text/plain": [
       "     row_id  decision\n",
       "0         0  0.111057\n",
       "1         1  0.435686\n",
       "2         2  0.499757\n",
       "3         3  0.499757\n",
       "4         4  0.499757\n",
       "..      ...       ...\n",
       "188     188  0.897009\n",
       "189     189  1.000000\n",
       "190     190  1.000000\n",
       "191     191  1.000000\n",
       "192     192  1.000000\n",
       "\n",
       "[193 rows x 2 columns]"
      ]
     },
     "execution_count": 33,
     "metadata": {},
     "output_type": "execute_result"
    }
   ],
   "source": [
    "df_decisions"
   ]
  },
  {
   "cell_type": "code",
   "execution_count": 34,
   "metadata": {
    "execution": {
     "iopub.execute_input": "2022-05-02T22:04:51.820101Z",
     "iopub.status.busy": "2022-05-02T22:04:51.819649Z",
     "iopub.status.idle": "2022-05-02T22:04:51.821591Z",
     "shell.execute_reply": "2022-05-02T22:04:51.821864Z"
    }
   },
   "outputs": [
    {
     "data": {
      "text/html": [
       "<div>\n",
       "<style scoped>\n",
       "    .dataframe tbody tr th:only-of-type {\n",
       "        vertical-align: middle;\n",
       "    }\n",
       "\n",
       "    .dataframe tbody tr th {\n",
       "        vertical-align: top;\n",
       "    }\n",
       "\n",
       "    .dataframe thead th {\n",
       "        text-align: right;\n",
       "    }\n",
       "</style>\n",
       "<table border=\"1\" class=\"dataframe\">\n",
       "  <thead>\n",
       "    <tr style=\"text-align: right;\">\n",
       "      <th></th>\n",
       "      <th>level_0</th>\n",
       "      <th>index</th>\n",
       "      <th>R</th>\n",
       "      <th>T</th>\n",
       "      <th>ml_outcomes</th>\n",
       "      <th>N</th>\n",
       "      <th>row_id</th>\n",
       "      <th>decision</th>\n",
       "    </tr>\n",
       "  </thead>\n",
       "  <tbody>\n",
       "    <tr>\n",
       "      <th>42</th>\n",
       "      <td>0</td>\n",
       "      <td>42</td>\n",
       "      <td>0</td>\n",
       "      <td>56</td>\n",
       "      <td>1134.12</td>\n",
       "      <td>2181</td>\n",
       "      <td>42</td>\n",
       "      <td>0.499757</td>\n",
       "    </tr>\n",
       "    <tr>\n",
       "      <th>45</th>\n",
       "      <td>1</td>\n",
       "      <td>45</td>\n",
       "      <td>0</td>\n",
       "      <td>59</td>\n",
       "      <td>1132.16</td>\n",
       "      <td>1952</td>\n",
       "      <td>45</td>\n",
       "      <td>0.499757</td>\n",
       "    </tr>\n",
       "    <tr>\n",
       "      <th>46</th>\n",
       "      <td>2</td>\n",
       "      <td>46</td>\n",
       "      <td>0</td>\n",
       "      <td>60</td>\n",
       "      <td>1111.20</td>\n",
       "      <td>1852</td>\n",
       "      <td>46</td>\n",
       "      <td>0.499757</td>\n",
       "    </tr>\n",
       "    <tr>\n",
       "      <th>47</th>\n",
       "      <td>3</td>\n",
       "      <td>47</td>\n",
       "      <td>0</td>\n",
       "      <td>61</td>\n",
       "      <td>1094.30</td>\n",
       "      <td>1765</td>\n",
       "      <td>47</td>\n",
       "      <td>0.499757</td>\n",
       "    </tr>\n",
       "    <tr>\n",
       "      <th>44</th>\n",
       "      <td>4</td>\n",
       "      <td>44</td>\n",
       "      <td>0</td>\n",
       "      <td>58</td>\n",
       "      <td>1083.60</td>\n",
       "      <td>1935</td>\n",
       "      <td>44</td>\n",
       "      <td>0.499757</td>\n",
       "    </tr>\n",
       "    <tr>\n",
       "      <th>...</th>\n",
       "      <td>...</td>\n",
       "      <td>...</td>\n",
       "      <td>...</td>\n",
       "      <td>...</td>\n",
       "      <td>...</td>\n",
       "      <td>...</td>\n",
       "      <td>...</td>\n",
       "      <td>...</td>\n",
       "    </tr>\n",
       "    <tr>\n",
       "      <th>104</th>\n",
       "      <td>188</td>\n",
       "      <td>104</td>\n",
       "      <td>1</td>\n",
       "      <td>11</td>\n",
       "      <td>0.27</td>\n",
       "      <td>1</td>\n",
       "      <td>104</td>\n",
       "      <td>0.000000</td>\n",
       "    </tr>\n",
       "    <tr>\n",
       "      <th>1</th>\n",
       "      <td>189</td>\n",
       "      <td>1</td>\n",
       "      <td>0</td>\n",
       "      <td>15</td>\n",
       "      <td>0.12</td>\n",
       "      <td>3</td>\n",
       "      <td>1</td>\n",
       "      <td>0.435686</td>\n",
       "    </tr>\n",
       "    <tr>\n",
       "      <th>0</th>\n",
       "      <td>190</td>\n",
       "      <td>0</td>\n",
       "      <td>0</td>\n",
       "      <td>13</td>\n",
       "      <td>0.12</td>\n",
       "      <td>3</td>\n",
       "      <td>0</td>\n",
       "      <td>0.111057</td>\n",
       "    </tr>\n",
       "    <tr>\n",
       "      <th>3</th>\n",
       "      <td>191</td>\n",
       "      <td>3</td>\n",
       "      <td>0</td>\n",
       "      <td>17</td>\n",
       "      <td>0.05</td>\n",
       "      <td>1</td>\n",
       "      <td>3</td>\n",
       "      <td>0.499757</td>\n",
       "    </tr>\n",
       "    <tr>\n",
       "      <th>2</th>\n",
       "      <td>192</td>\n",
       "      <td>2</td>\n",
       "      <td>0</td>\n",
       "      <td>16</td>\n",
       "      <td>0.04</td>\n",
       "      <td>1</td>\n",
       "      <td>2</td>\n",
       "      <td>0.499757</td>\n",
       "    </tr>\n",
       "  </tbody>\n",
       "</table>\n",
       "<p>193 rows × 8 columns</p>\n",
       "</div>"
      ],
      "text/plain": [
       "     level_0  index  R   T  ml_outcomes     N  row_id  decision\n",
       "42         0     42  0  56      1134.12  2181      42  0.499757\n",
       "45         1     45  0  59      1132.16  1952      45  0.499757\n",
       "46         2     46  0  60      1111.20  1852      46  0.499757\n",
       "47         3     47  0  61      1094.30  1765      47  0.499757\n",
       "44         4     44  0  58      1083.60  1935      44  0.499757\n",
       "..       ...    ... ..  ..          ...   ...     ...       ...\n",
       "104      188    104  1  11         0.27     1     104  0.000000\n",
       "1        189      1  0  15         0.12     3       1  0.435686\n",
       "0        190      0  0  13         0.12     3       0  0.111057\n",
       "3        191      3  0  17         0.05     1       3  0.499757\n",
       "2        192      2  0  16         0.04     1       2  0.499757\n",
       "\n",
       "[193 rows x 8 columns]"
      ]
     },
     "execution_count": 34,
     "metadata": {},
     "output_type": "execute_result"
    }
   ],
   "source": [
    "dff.merge(df_decisions,left_index=True,right_index=True).sort_values(by='ml_outcomes',ascending=False)"
   ]
  },
  {
   "cell_type": "code",
   "execution_count": 35,
   "metadata": {
    "execution": {
     "iopub.execute_input": "2022-05-02T22:04:51.830444Z",
     "iopub.status.busy": "2022-05-02T22:04:51.830030Z",
     "iopub.status.idle": "2022-05-02T22:04:51.831805Z",
     "shell.execute_reply": "2022-05-02T22:04:51.832104Z"
    }
   },
   "outputs": [
    {
     "data": {
      "text/html": [
       "<div>\n",
       "<style scoped>\n",
       "    .dataframe tbody tr th:only-of-type {\n",
       "        vertical-align: middle;\n",
       "    }\n",
       "\n",
       "    .dataframe tbody tr th {\n",
       "        vertical-align: top;\n",
       "    }\n",
       "\n",
       "    .dataframe thead th {\n",
       "        text-align: right;\n",
       "    }\n",
       "</style>\n",
       "<table border=\"1\" class=\"dataframe\">\n",
       "  <thead>\n",
       "    <tr style=\"text-align: right;\">\n",
       "      <th></th>\n",
       "      <th>level_0</th>\n",
       "      <th>index</th>\n",
       "      <th>R</th>\n",
       "      <th>T</th>\n",
       "      <th>ml_outcomes</th>\n",
       "      <th>N</th>\n",
       "      <th>row_id</th>\n",
       "      <th>decision</th>\n",
       "    </tr>\n",
       "  </thead>\n",
       "  <tbody>\n",
       "    <tr>\n",
       "      <th>42</th>\n",
       "      <td>0</td>\n",
       "      <td>42</td>\n",
       "      <td>0</td>\n",
       "      <td>56</td>\n",
       "      <td>1134.12</td>\n",
       "      <td>2181</td>\n",
       "      <td>42</td>\n",
       "      <td>0.499757</td>\n",
       "    </tr>\n",
       "    <tr>\n",
       "      <th>45</th>\n",
       "      <td>1</td>\n",
       "      <td>45</td>\n",
       "      <td>0</td>\n",
       "      <td>59</td>\n",
       "      <td>1132.16</td>\n",
       "      <td>1952</td>\n",
       "      <td>45</td>\n",
       "      <td>0.499757</td>\n",
       "    </tr>\n",
       "    <tr>\n",
       "      <th>46</th>\n",
       "      <td>2</td>\n",
       "      <td>46</td>\n",
       "      <td>0</td>\n",
       "      <td>60</td>\n",
       "      <td>1111.20</td>\n",
       "      <td>1852</td>\n",
       "      <td>46</td>\n",
       "      <td>0.499757</td>\n",
       "    </tr>\n",
       "    <tr>\n",
       "      <th>47</th>\n",
       "      <td>3</td>\n",
       "      <td>47</td>\n",
       "      <td>0</td>\n",
       "      <td>61</td>\n",
       "      <td>1094.30</td>\n",
       "      <td>1765</td>\n",
       "      <td>47</td>\n",
       "      <td>0.499757</td>\n",
       "    </tr>\n",
       "    <tr>\n",
       "      <th>44</th>\n",
       "      <td>4</td>\n",
       "      <td>44</td>\n",
       "      <td>0</td>\n",
       "      <td>58</td>\n",
       "      <td>1083.60</td>\n",
       "      <td>1935</td>\n",
       "      <td>44</td>\n",
       "      <td>0.499757</td>\n",
       "    </tr>\n",
       "    <tr>\n",
       "      <th>...</th>\n",
       "      <td>...</td>\n",
       "      <td>...</td>\n",
       "      <td>...</td>\n",
       "      <td>...</td>\n",
       "      <td>...</td>\n",
       "      <td>...</td>\n",
       "      <td>...</td>\n",
       "      <td>...</td>\n",
       "    </tr>\n",
       "    <tr>\n",
       "      <th>104</th>\n",
       "      <td>188</td>\n",
       "      <td>104</td>\n",
       "      <td>1</td>\n",
       "      <td>11</td>\n",
       "      <td>0.27</td>\n",
       "      <td>1</td>\n",
       "      <td>104</td>\n",
       "      <td>0.000000</td>\n",
       "    </tr>\n",
       "    <tr>\n",
       "      <th>1</th>\n",
       "      <td>189</td>\n",
       "      <td>1</td>\n",
       "      <td>0</td>\n",
       "      <td>15</td>\n",
       "      <td>0.12</td>\n",
       "      <td>3</td>\n",
       "      <td>1</td>\n",
       "      <td>0.435686</td>\n",
       "    </tr>\n",
       "    <tr>\n",
       "      <th>0</th>\n",
       "      <td>190</td>\n",
       "      <td>0</td>\n",
       "      <td>0</td>\n",
       "      <td>13</td>\n",
       "      <td>0.12</td>\n",
       "      <td>3</td>\n",
       "      <td>0</td>\n",
       "      <td>0.111057</td>\n",
       "    </tr>\n",
       "    <tr>\n",
       "      <th>3</th>\n",
       "      <td>191</td>\n",
       "      <td>3</td>\n",
       "      <td>0</td>\n",
       "      <td>17</td>\n",
       "      <td>0.05</td>\n",
       "      <td>1</td>\n",
       "      <td>3</td>\n",
       "      <td>0.499757</td>\n",
       "    </tr>\n",
       "    <tr>\n",
       "      <th>2</th>\n",
       "      <td>192</td>\n",
       "      <td>2</td>\n",
       "      <td>0</td>\n",
       "      <td>16</td>\n",
       "      <td>0.04</td>\n",
       "      <td>1</td>\n",
       "      <td>2</td>\n",
       "      <td>0.499757</td>\n",
       "    </tr>\n",
       "  </tbody>\n",
       "</table>\n",
       "<p>193 rows × 8 columns</p>\n",
       "</div>"
      ],
      "text/plain": [
       "     level_0  index  R   T  ml_outcomes     N  row_id  decision\n",
       "42         0     42  0  56      1134.12  2181      42  0.499757\n",
       "45         1     45  0  59      1132.16  1952      45  0.499757\n",
       "46         2     46  0  60      1111.20  1852      46  0.499757\n",
       "47         3     47  0  61      1094.30  1765      47  0.499757\n",
       "44         4     44  0  58      1083.60  1935      44  0.499757\n",
       "..       ...    ... ..  ..          ...   ...     ...       ...\n",
       "104      188    104  1  11         0.27     1     104  0.000000\n",
       "1        189      1  0  15         0.12     3       1  0.435686\n",
       "0        190      0  0  13         0.12     3       0  0.111057\n",
       "3        191      3  0  17         0.05     1       3  0.499757\n",
       "2        192      2  0  16         0.04     1       2  0.499757\n",
       "\n",
       "[193 rows x 8 columns]"
      ]
     },
     "execution_count": 35,
     "metadata": {},
     "output_type": "execute_result"
    }
   ],
   "source": [
    "xxx = dff.merge(df_decisions,left_index=True,right_index=True).sort_values(by='ml_outcomes',ascending=False)\n",
    "xxx"
   ]
  },
  {
   "cell_type": "code",
   "execution_count": 36,
   "metadata": {
    "execution": {
     "iopub.execute_input": "2022-05-02T22:04:51.839814Z",
     "iopub.status.busy": "2022-05-02T22:04:51.839414Z",
     "iopub.status.idle": "2022-05-02T22:04:51.841078Z",
     "shell.execute_reply": "2022-05-02T22:04:51.841379Z"
    }
   },
   "outputs": [
    {
     "data": {
      "text/html": [
       "<div>\n",
       "<style scoped>\n",
       "    .dataframe tbody tr th:only-of-type {\n",
       "        vertical-align: middle;\n",
       "    }\n",
       "\n",
       "    .dataframe tbody tr th {\n",
       "        vertical-align: top;\n",
       "    }\n",
       "\n",
       "    .dataframe thead th {\n",
       "        text-align: right;\n",
       "    }\n",
       "</style>\n",
       "<table border=\"1\" class=\"dataframe\">\n",
       "  <thead>\n",
       "    <tr style=\"text-align: right;\">\n",
       "      <th></th>\n",
       "      <th>level_0</th>\n",
       "      <th>index</th>\n",
       "      <th>R</th>\n",
       "      <th>T</th>\n",
       "      <th>ml_outcomes</th>\n",
       "      <th>N</th>\n",
       "      <th>row_id</th>\n",
       "      <th>decision</th>\n",
       "    </tr>\n",
       "  </thead>\n",
       "  <tbody>\n",
       "    <tr>\n",
       "      <th>191</th>\n",
       "      <td>171</td>\n",
       "      <td>191</td>\n",
       "      <td>1</td>\n",
       "      <td>102</td>\n",
       "      <td>1.22</td>\n",
       "      <td>1</td>\n",
       "      <td>191</td>\n",
       "      <td>1.000000</td>\n",
       "    </tr>\n",
       "    <tr>\n",
       "      <th>96</th>\n",
       "      <td>156</td>\n",
       "      <td>96</td>\n",
       "      <td>0</td>\n",
       "      <td>111</td>\n",
       "      <td>3.96</td>\n",
       "      <td>4</td>\n",
       "      <td>96</td>\n",
       "      <td>1.000000</td>\n",
       "    </tr>\n",
       "    <tr>\n",
       "      <th>100</th>\n",
       "      <td>164</td>\n",
       "      <td>100</td>\n",
       "      <td>0</td>\n",
       "      <td>123</td>\n",
       "      <td>2.00</td>\n",
       "      <td>2</td>\n",
       "      <td>100</td>\n",
       "      <td>1.000000</td>\n",
       "    </tr>\n",
       "    <tr>\n",
       "      <th>95</th>\n",
       "      <td>166</td>\n",
       "      <td>95</td>\n",
       "      <td>0</td>\n",
       "      <td>109</td>\n",
       "      <td>1.98</td>\n",
       "      <td>2</td>\n",
       "      <td>95</td>\n",
       "      <td>1.000000</td>\n",
       "    </tr>\n",
       "    <tr>\n",
       "      <th>98</th>\n",
       "      <td>167</td>\n",
       "      <td>98</td>\n",
       "      <td>0</td>\n",
       "      <td>113</td>\n",
       "      <td>1.98</td>\n",
       "      <td>2</td>\n",
       "      <td>98</td>\n",
       "      <td>1.000000</td>\n",
       "    </tr>\n",
       "    <tr>\n",
       "      <th>...</th>\n",
       "      <td>...</td>\n",
       "      <td>...</td>\n",
       "      <td>...</td>\n",
       "      <td>...</td>\n",
       "      <td>...</td>\n",
       "      <td>...</td>\n",
       "      <td>...</td>\n",
       "      <td>...</td>\n",
       "    </tr>\n",
       "    <tr>\n",
       "      <th>106</th>\n",
       "      <td>185</td>\n",
       "      <td>106</td>\n",
       "      <td>1</td>\n",
       "      <td>14</td>\n",
       "      <td>0.56</td>\n",
       "      <td>2</td>\n",
       "      <td>106</td>\n",
       "      <td>0.305407</td>\n",
       "    </tr>\n",
       "    <tr>\n",
       "      <th>0</th>\n",
       "      <td>190</td>\n",
       "      <td>0</td>\n",
       "      <td>0</td>\n",
       "      <td>13</td>\n",
       "      <td>0.12</td>\n",
       "      <td>3</td>\n",
       "      <td>0</td>\n",
       "      <td>0.111057</td>\n",
       "    </tr>\n",
       "    <tr>\n",
       "      <th>102</th>\n",
       "      <td>186</td>\n",
       "      <td>102</td>\n",
       "      <td>1</td>\n",
       "      <td>7</td>\n",
       "      <td>0.27</td>\n",
       "      <td>1</td>\n",
       "      <td>102</td>\n",
       "      <td>0.000000</td>\n",
       "    </tr>\n",
       "    <tr>\n",
       "      <th>103</th>\n",
       "      <td>187</td>\n",
       "      <td>103</td>\n",
       "      <td>1</td>\n",
       "      <td>10</td>\n",
       "      <td>0.27</td>\n",
       "      <td>1</td>\n",
       "      <td>103</td>\n",
       "      <td>0.000000</td>\n",
       "    </tr>\n",
       "    <tr>\n",
       "      <th>104</th>\n",
       "      <td>188</td>\n",
       "      <td>104</td>\n",
       "      <td>1</td>\n",
       "      <td>11</td>\n",
       "      <td>0.27</td>\n",
       "      <td>1</td>\n",
       "      <td>104</td>\n",
       "      <td>0.000000</td>\n",
       "    </tr>\n",
       "  </tbody>\n",
       "</table>\n",
       "<p>193 rows × 8 columns</p>\n",
       "</div>"
      ],
      "text/plain": [
       "     level_0  index  R    T  ml_outcomes  N  row_id  decision\n",
       "191      171    191  1  102         1.22  1     191  1.000000\n",
       "96       156     96  0  111         3.96  4      96  1.000000\n",
       "100      164    100  0  123         2.00  2     100  1.000000\n",
       "95       166     95  0  109         1.98  2      95  1.000000\n",
       "98       167     98  0  113         1.98  2      98  1.000000\n",
       "..       ...    ... ..  ...          ... ..     ...       ...\n",
       "106      185    106  1   14         0.56  2     106  0.305407\n",
       "0        190      0  0   13         0.12  3       0  0.111057\n",
       "102      186    102  1    7         0.27  1     102  0.000000\n",
       "103      187    103  1   10         0.27  1     103  0.000000\n",
       "104      188    104  1   11         0.27  1     104  0.000000\n",
       "\n",
       "[193 rows x 8 columns]"
      ]
     },
     "execution_count": 36,
     "metadata": {},
     "output_type": "execute_result"
    }
   ],
   "source": [
    "xxx.sort_values(by='decision',ascending=False)"
   ]
  },
  {
   "cell_type": "code",
   "execution_count": 37,
   "metadata": {
    "execution": {
     "iopub.execute_input": "2022-05-02T22:04:51.895651Z",
     "iopub.status.busy": "2022-05-02T22:04:51.895210Z",
     "iopub.status.idle": "2022-05-02T22:04:51.960412Z",
     "shell.execute_reply": "2022-05-02T22:04:51.960672Z"
    }
   },
   "outputs": [],
   "source": [
    "df['key'] = df['R'].astype(str)+'_'+df['T'].astype(str)\n",
    "xxx['key'] = xxx['R'].astype(str)+'_'+xxx['T'].astype(str)"
   ]
  },
  {
   "cell_type": "code",
   "execution_count": 38,
   "metadata": {
    "execution": {
     "iopub.execute_input": "2022-05-02T22:04:51.970930Z",
     "iopub.status.busy": "2022-05-02T22:04:51.970533Z",
     "iopub.status.idle": "2022-05-02T22:04:52.029231Z",
     "shell.execute_reply": "2022-05-02T22:04:52.029507Z"
    }
   },
   "outputs": [],
   "source": [
    "admit_decisions = df.merge(xxx,how='left',on='key')\n",
    "admit_decisions['decision_random'] = pd.Series([random.random() for x in range(0,len(admit_decisions))]) < FRAC_ADMIT\n",
    "\n",
    "FRAC_BLACK_POLICY = (admit_decisions['R_y'] * admit_decisions['decision']).sum()/admit_decisions['decision'].sum()\n",
    "SUM_BP_POLICY = ( admit_decisions['B_p'] * admit_decisions['decision']).sum()\n",
    "\n",
    "FRAC_RANDOM_POLICY = (admit_decisions['R_y'] * admit_decisions['decision_random']).sum()/admit_decisions['decision_random'].sum()\n",
    "SUM_BP_RAND_POLICY = ( admit_decisions['B_p'] * admit_decisions['decision_random']).sum()\n"
   ]
  },
  {
   "cell_type": "code",
   "execution_count": 39,
   "metadata": {
    "execution": {
     "iopub.execute_input": "2022-05-02T22:04:52.032484Z",
     "iopub.status.busy": "2022-05-02T22:04:52.032120Z",
     "iopub.status.idle": "2022-05-02T22:04:52.033650Z",
     "shell.execute_reply": "2022-05-02T22:04:52.033955Z"
    }
   },
   "outputs": [],
   "source": [
    "file = open('./lp_results.csv','a')\n",
    "file.write('{}\\t{}\\t{}\\n'.format('Path-Specific Fairness',str(FRAC_BLACK_POLICY),str(SUM_BP_POLICY)))\n",
    "file.close()\n"
   ]
  },
  {
   "cell_type": "code",
   "execution_count": 40,
   "metadata": {
    "execution": {
     "iopub.execute_input": "2022-05-02T22:04:52.037483Z",
     "iopub.status.busy": "2022-05-02T22:04:52.036855Z",
     "iopub.status.idle": "2022-05-02T22:04:52.038677Z",
     "shell.execute_reply": "2022-05-02T22:04:52.038925Z"
    }
   },
   "outputs": [
    {
     "data": {
      "text/plain": [
       "0.5000000000000002"
      ]
     },
     "execution_count": 40,
     "metadata": {},
     "output_type": "execute_result"
    }
   ],
   "source": [
    "(xxx['N']*xxx['decision']).sum()/len(df)"
   ]
  },
  {
   "cell_type": "code",
   "execution_count": null,
   "metadata": {},
   "outputs": [],
   "source": []
  }
 ],
 "metadata": {
  "kernelspec": {
   "display_name": "Python 3 (ipykernel)",
   "language": "python",
   "name": "python3"
  },
  "language_info": {
   "codemirror_mode": {
    "name": "ipython",
    "version": 3
   },
   "file_extension": ".py",
   "mimetype": "text/x-python",
   "name": "python",
   "nbconvert_exporter": "python",
   "pygments_lexer": "ipython3",
   "version": "3.9.7"
  }
 },
 "nbformat": 4,
 "nbformat_minor": 4
}
