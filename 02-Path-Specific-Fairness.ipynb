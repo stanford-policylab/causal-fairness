{
 "cells": [
  {
   "cell_type": "code",
   "execution_count": 1,
   "metadata": {
    "execution": {
     "iopub.execute_input": "2022-06-10T03:56:28.034201Z",
     "iopub.status.busy": "2022-06-10T03:56:28.033727Z",
     "iopub.status.idle": "2022-06-10T03:56:29.296785Z",
     "shell.execute_reply": "2022-06-10T03:56:29.297037Z"
    }
   },
   "outputs": [],
   "source": [
    "import numpy as np\n",
    "import pandas as pd\n",
    "import matplotlib.pyplot as plt\n",
    "import seaborn as sns\n",
    "import random\n",
    "pd.options.display.max_rows = 10\n",
    "pd.options.display.max_columns = 500"
   ]
  },
  {
   "cell_type": "code",
   "execution_count": 2,
   "metadata": {
    "execution": {
     "iopub.execute_input": "2022-06-10T03:56:29.301613Z",
     "iopub.status.busy": "2022-06-10T03:56:29.301231Z",
     "iopub.status.idle": "2022-06-10T03:56:29.739187Z",
     "shell.execute_reply": "2022-06-10T03:56:29.739462Z"
    }
   },
   "outputs": [],
   "source": [
    "DIVERSITY_UTILITY = 0.25\n",
    "FRAC_ADMIT = 0.5\n",
    "\n",
    "\n",
    "###\n",
    "## Load dataframe where each row is a single applicant\n",
    "###\n",
    "\n",
    "df = pd.read_csv('./df_test.csv')\n",
    "df['key'] = df['R'].astype(str) + \"_\"  + df['T'].astype(str)\n",
    "\n",
    "df_stratum_utility = df[['R','T','B_p']].groupby(['R','T']).mean().reset_index()\n",
    "df_stratum_utility['stratum_utility'] = (df_stratum_utility['B_p'] + DIVERSITY_UTILITY * df_stratum_utility['R']).round(2)\n",
    "df_stratum_utility['key'] = df_stratum_utility['R'].astype(str) + \"_\" + df_stratum_utility['T'].astype(str)\n",
    "\n",
    "df = df.merge(df_stratum_utility[['stratum_utility','key']], on='key')\n",
    "df['ml_outcomes'] = df['stratum_utility']"
   ]
  },
  {
   "cell_type": "code",
   "execution_count": 3,
   "metadata": {
    "execution": {
     "iopub.execute_input": "2022-06-10T03:56:29.743219Z",
     "iopub.status.busy": "2022-06-10T03:56:29.742828Z",
     "iopub.status.idle": "2022-06-10T03:56:29.745110Z",
     "shell.execute_reply": "2022-06-10T03:56:29.745351Z"
    }
   },
   "outputs": [
    {
     "data": {
      "text/plain": [
       "100000"
      ]
     },
     "execution_count": 3,
     "metadata": {},
     "output_type": "execute_result"
    }
   ],
   "source": [
    "len(df)"
   ]
  },
  {
   "cell_type": "code",
   "execution_count": 4,
   "metadata": {
    "execution": {
     "iopub.execute_input": "2022-06-10T03:56:29.747791Z",
     "iopub.status.busy": "2022-06-10T03:56:29.747358Z",
     "iopub.status.idle": "2022-06-10T03:56:29.748831Z",
     "shell.execute_reply": "2022-06-10T03:56:29.749071Z"
    }
   },
   "outputs": [],
   "source": [
    "FRAC_ADMIT = 0.5#df[['A']].sum()/len(df)\n"
   ]
  },
  {
   "cell_type": "code",
   "execution_count": 5,
   "metadata": {
    "execution": {
     "iopub.execute_input": "2022-06-10T03:56:29.752105Z",
     "iopub.status.busy": "2022-06-10T03:56:29.751693Z",
     "iopub.status.idle": "2022-06-10T03:56:29.764069Z",
     "shell.execute_reply": "2022-06-10T03:56:29.764331Z"
    }
   },
   "outputs": [],
   "source": [
    "###\n",
    "## Get total utility from admitting people in a stratum \n",
    "###\n",
    "\n",
    "df_ = df[['R','T','ml_outcomes']].groupby(['R','T']).sum().reset_index()"
   ]
  },
  {
   "cell_type": "code",
   "execution_count": 6,
   "metadata": {
    "execution": {
     "iopub.execute_input": "2022-06-10T03:56:29.768575Z",
     "iopub.status.busy": "2022-06-10T03:56:29.768181Z",
     "iopub.status.idle": "2022-06-10T03:56:29.773001Z",
     "shell.execute_reply": "2022-06-10T03:56:29.773240Z"
    }
   },
   "outputs": [],
   "source": [
    "###\n",
    "## Get number of people in each stratum\n",
    "###\n",
    "\n",
    "df_count = df[['R','T','ml_outcomes']].groupby(['R','T']).count().reset_index()\n",
    "df_count.columns = ['R','T','Count']\n",
    "df_count['N'] = df_count['Count']"
   ]
  },
  {
   "cell_type": "code",
   "execution_count": 7,
   "metadata": {
    "execution": {
     "iopub.execute_input": "2022-06-10T03:56:29.779125Z",
     "iopub.status.busy": "2022-06-10T03:56:29.778670Z",
     "iopub.status.idle": "2022-06-10T03:56:29.780322Z",
     "shell.execute_reply": "2022-06-10T03:56:29.780600Z"
    }
   },
   "outputs": [],
   "source": [
    "###\n",
    "## Merge summary tables to get one table with Race, Test Score, SUM(Utility), COUNT(applicants) per stratum\n",
    "###\n",
    "\n",
    "dff = df_.merge(df_count[['N']],left_index=True,right_index=True).sort_values(by='ml_outcomes',ascending=False).reset_index().sort_values(by='index').reset_index()"
   ]
  },
  {
   "cell_type": "code",
   "execution_count": 8,
   "metadata": {
    "execution": {
     "iopub.execute_input": "2022-06-10T03:56:29.784897Z",
     "iopub.status.busy": "2022-06-10T03:56:29.784485Z",
     "iopub.status.idle": "2022-06-10T03:56:29.791626Z",
     "shell.execute_reply": "2022-06-10T03:56:29.791929Z"
    }
   },
   "outputs": [
    {
     "data": {
      "text/html": [
       "<div>\n",
       "<style scoped>\n",
       "    .dataframe tbody tr th:only-of-type {\n",
       "        vertical-align: middle;\n",
       "    }\n",
       "\n",
       "    .dataframe tbody tr th {\n",
       "        vertical-align: top;\n",
       "    }\n",
       "\n",
       "    .dataframe thead th {\n",
       "        text-align: right;\n",
       "    }\n",
       "</style>\n",
       "<table border=\"1\" class=\"dataframe\">\n",
       "  <thead>\n",
       "    <tr style=\"text-align: right;\">\n",
       "      <th></th>\n",
       "      <th>level_0</th>\n",
       "      <th>index</th>\n",
       "      <th>R</th>\n",
       "      <th>T</th>\n",
       "      <th>ml_outcomes</th>\n",
       "      <th>N</th>\n",
       "    </tr>\n",
       "  </thead>\n",
       "  <tbody>\n",
       "    <tr>\n",
       "      <th>0</th>\n",
       "      <td>191</td>\n",
       "      <td>0</td>\n",
       "      <td>0</td>\n",
       "      <td>14</td>\n",
       "      <td>0.00</td>\n",
       "      <td>1</td>\n",
       "    </tr>\n",
       "    <tr>\n",
       "      <th>1</th>\n",
       "      <td>186</td>\n",
       "      <td>1</td>\n",
       "      <td>0</td>\n",
       "      <td>15</td>\n",
       "      <td>0.00</td>\n",
       "      <td>2</td>\n",
       "    </tr>\n",
       "    <tr>\n",
       "      <th>2</th>\n",
       "      <td>190</td>\n",
       "      <td>2</td>\n",
       "      <td>0</td>\n",
       "      <td>16</td>\n",
       "      <td>0.00</td>\n",
       "      <td>2</td>\n",
       "    </tr>\n",
       "    <tr>\n",
       "      <th>4</th>\n",
       "      <td>189</td>\n",
       "      <td>4</td>\n",
       "      <td>0</td>\n",
       "      <td>18</td>\n",
       "      <td>0.00</td>\n",
       "      <td>6</td>\n",
       "    </tr>\n",
       "    <tr>\n",
       "      <th>5</th>\n",
       "      <td>188</td>\n",
       "      <td>5</td>\n",
       "      <td>0</td>\n",
       "      <td>19</td>\n",
       "      <td>0.00</td>\n",
       "      <td>10</td>\n",
       "    </tr>\n",
       "    <tr>\n",
       "      <th>...</th>\n",
       "      <td>...</td>\n",
       "      <td>...</td>\n",
       "      <td>...</td>\n",
       "      <td>...</td>\n",
       "      <td>...</td>\n",
       "      <td>...</td>\n",
       "    </tr>\n",
       "    <tr>\n",
       "      <th>46</th>\n",
       "      <td>4</td>\n",
       "      <td>46</td>\n",
       "      <td>0</td>\n",
       "      <td>60</td>\n",
       "      <td>1088.08</td>\n",
       "      <td>1876</td>\n",
       "    </tr>\n",
       "    <tr>\n",
       "      <th>45</th>\n",
       "      <td>3</td>\n",
       "      <td>45</td>\n",
       "      <td>0</td>\n",
       "      <td>59</td>\n",
       "      <td>1100.26</td>\n",
       "      <td>1897</td>\n",
       "    </tr>\n",
       "    <tr>\n",
       "      <th>47</th>\n",
       "      <td>2</td>\n",
       "      <td>47</td>\n",
       "      <td>0</td>\n",
       "      <td>61</td>\n",
       "      <td>1114.24</td>\n",
       "      <td>1741</td>\n",
       "    </tr>\n",
       "    <tr>\n",
       "      <th>44</th>\n",
       "      <td>1</td>\n",
       "      <td>44</td>\n",
       "      <td>0</td>\n",
       "      <td>58</td>\n",
       "      <td>1124.04</td>\n",
       "      <td>1972</td>\n",
       "    </tr>\n",
       "    <tr>\n",
       "      <th>43</th>\n",
       "      <td>0</td>\n",
       "      <td>43</td>\n",
       "      <td>0</td>\n",
       "      <td>57</td>\n",
       "      <td>1129.52</td>\n",
       "      <td>2017</td>\n",
       "    </tr>\n",
       "  </tbody>\n",
       "</table>\n",
       "<p>192 rows × 6 columns</p>\n",
       "</div>"
      ],
      "text/plain": [
       "    level_0  index  R   T  ml_outcomes     N\n",
       "0       191      0  0  14         0.00     1\n",
       "1       186      1  0  15         0.00     2\n",
       "2       190      2  0  16         0.00     2\n",
       "4       189      4  0  18         0.00     6\n",
       "5       188      5  0  19         0.00    10\n",
       "..      ...    ... ..  ..          ...   ...\n",
       "46        4     46  0  60      1088.08  1876\n",
       "45        3     45  0  59      1100.26  1897\n",
       "47        2     47  0  61      1114.24  1741\n",
       "44        1     44  0  58      1124.04  1972\n",
       "43        0     43  0  57      1129.52  2017\n",
       "\n",
       "[192 rows x 6 columns]"
      ]
     },
     "execution_count": 8,
     "metadata": {},
     "output_type": "execute_result"
    }
   ],
   "source": [
    "# final info table\n",
    "dff.sort_values(by='ml_outcomes')"
   ]
  },
  {
   "cell_type": "code",
   "execution_count": null,
   "metadata": {},
   "outputs": [],
   "source": []
  },
  {
   "cell_type": "markdown",
   "metadata": {},
   "source": [
    "### Setup optimization problem "
   ]
  },
  {
   "cell_type": "code",
   "execution_count": 9,
   "metadata": {
    "execution": {
     "iopub.execute_input": "2022-06-10T03:56:29.794442Z",
     "iopub.status.busy": "2022-06-10T03:56:29.794081Z",
     "iopub.status.idle": "2022-06-10T03:56:29.817516Z",
     "shell.execute_reply": "2022-06-10T03:56:29.817766Z"
    }
   },
   "outputs": [],
   "source": [
    "from ortools.linear_solver import pywraplp\n"
   ]
  },
  {
   "cell_type": "code",
   "execution_count": 10,
   "metadata": {
    "execution": {
     "iopub.execute_input": "2022-06-10T03:56:29.820506Z",
     "iopub.status.busy": "2022-06-10T03:56:29.820129Z",
     "iopub.status.idle": "2022-06-10T03:56:29.821754Z",
     "shell.execute_reply": "2022-06-10T03:56:29.821490Z"
    }
   },
   "outputs": [],
   "source": [
    "solver = pywraplp.Solver.CreateSolver('GLOP')\n"
   ]
  },
  {
   "cell_type": "code",
   "execution_count": 11,
   "metadata": {
    "execution": {
     "iopub.execute_input": "2022-06-10T03:56:29.827894Z",
     "iopub.status.busy": "2022-06-10T03:56:29.827469Z",
     "iopub.status.idle": "2022-06-10T03:56:29.829161Z",
     "shell.execute_reply": "2022-06-10T03:56:29.829528Z"
    }
   },
   "outputs": [
    {
     "data": {
      "text/html": [
       "<div>\n",
       "<style scoped>\n",
       "    .dataframe tbody tr th:only-of-type {\n",
       "        vertical-align: middle;\n",
       "    }\n",
       "\n",
       "    .dataframe tbody tr th {\n",
       "        vertical-align: top;\n",
       "    }\n",
       "\n",
       "    .dataframe thead th {\n",
       "        text-align: right;\n",
       "    }\n",
       "</style>\n",
       "<table border=\"1\" class=\"dataframe\">\n",
       "  <thead>\n",
       "    <tr style=\"text-align: right;\">\n",
       "      <th></th>\n",
       "      <th>level_0</th>\n",
       "      <th>index</th>\n",
       "      <th>R</th>\n",
       "      <th>T</th>\n",
       "      <th>ml_outcomes</th>\n",
       "      <th>N</th>\n",
       "    </tr>\n",
       "  </thead>\n",
       "  <tbody>\n",
       "    <tr>\n",
       "      <th>0</th>\n",
       "      <td>191</td>\n",
       "      <td>0</td>\n",
       "      <td>0</td>\n",
       "      <td>14</td>\n",
       "      <td>0.00</td>\n",
       "      <td>1</td>\n",
       "    </tr>\n",
       "    <tr>\n",
       "      <th>1</th>\n",
       "      <td>186</td>\n",
       "      <td>1</td>\n",
       "      <td>0</td>\n",
       "      <td>15</td>\n",
       "      <td>0.00</td>\n",
       "      <td>2</td>\n",
       "    </tr>\n",
       "    <tr>\n",
       "      <th>2</th>\n",
       "      <td>190</td>\n",
       "      <td>2</td>\n",
       "      <td>0</td>\n",
       "      <td>16</td>\n",
       "      <td>0.00</td>\n",
       "      <td>2</td>\n",
       "    </tr>\n",
       "    <tr>\n",
       "      <th>3</th>\n",
       "      <td>165</td>\n",
       "      <td>3</td>\n",
       "      <td>0</td>\n",
       "      <td>17</td>\n",
       "      <td>2.00</td>\n",
       "      <td>5</td>\n",
       "    </tr>\n",
       "    <tr>\n",
       "      <th>4</th>\n",
       "      <td>189</td>\n",
       "      <td>4</td>\n",
       "      <td>0</td>\n",
       "      <td>18</td>\n",
       "      <td>0.00</td>\n",
       "      <td>6</td>\n",
       "    </tr>\n",
       "    <tr>\n",
       "      <th>...</th>\n",
       "      <td>...</td>\n",
       "      <td>...</td>\n",
       "      <td>...</td>\n",
       "      <td>...</td>\n",
       "      <td>...</td>\n",
       "      <td>...</td>\n",
       "    </tr>\n",
       "    <tr>\n",
       "      <th>187</th>\n",
       "      <td>160</td>\n",
       "      <td>187</td>\n",
       "      <td>1</td>\n",
       "      <td>95</td>\n",
       "      <td>2.50</td>\n",
       "      <td>2</td>\n",
       "    </tr>\n",
       "    <tr>\n",
       "      <th>188</th>\n",
       "      <td>161</td>\n",
       "      <td>188</td>\n",
       "      <td>1</td>\n",
       "      <td>97</td>\n",
       "      <td>2.50</td>\n",
       "      <td>2</td>\n",
       "    </tr>\n",
       "    <tr>\n",
       "      <th>189</th>\n",
       "      <td>174</td>\n",
       "      <td>189</td>\n",
       "      <td>1</td>\n",
       "      <td>98</td>\n",
       "      <td>1.25</td>\n",
       "      <td>1</td>\n",
       "    </tr>\n",
       "    <tr>\n",
       "      <th>190</th>\n",
       "      <td>172</td>\n",
       "      <td>190</td>\n",
       "      <td>1</td>\n",
       "      <td>99</td>\n",
       "      <td>1.25</td>\n",
       "      <td>1</td>\n",
       "    </tr>\n",
       "    <tr>\n",
       "      <th>191</th>\n",
       "      <td>176</td>\n",
       "      <td>191</td>\n",
       "      <td>1</td>\n",
       "      <td>103</td>\n",
       "      <td>1.25</td>\n",
       "      <td>1</td>\n",
       "    </tr>\n",
       "  </tbody>\n",
       "</table>\n",
       "<p>192 rows × 6 columns</p>\n",
       "</div>"
      ],
      "text/plain": [
       "     level_0  index  R    T  ml_outcomes  N\n",
       "0        191      0  0   14         0.00  1\n",
       "1        186      1  0   15         0.00  2\n",
       "2        190      2  0   16         0.00  2\n",
       "3        165      3  0   17         2.00  5\n",
       "4        189      4  0   18         0.00  6\n",
       "..       ...    ... ..  ...          ... ..\n",
       "187      160    187  1   95         2.50  2\n",
       "188      161    188  1   97         2.50  2\n",
       "189      174    189  1   98         1.25  1\n",
       "190      172    190  1   99         1.25  1\n",
       "191      176    191  1  103         1.25  1\n",
       "\n",
       "[192 rows x 6 columns]"
      ]
     },
     "execution_count": 11,
     "metadata": {},
     "output_type": "execute_result"
    }
   ],
   "source": [
    "dff"
   ]
  },
  {
   "cell_type": "code",
   "execution_count": 12,
   "metadata": {
    "execution": {
     "iopub.execute_input": "2022-06-10T03:56:29.839226Z",
     "iopub.status.busy": "2022-06-10T03:56:29.838776Z",
     "iopub.status.idle": "2022-06-10T03:56:29.840105Z",
     "shell.execute_reply": "2022-06-10T03:56:29.840432Z"
    }
   },
   "outputs": [],
   "source": [
    "applicant_stratum = []\n",
    "vars_cache = {}\n",
    "\n",
    "# Objective: Maximize the expected utility of the admitted students\n",
    "objective = solver.Objective()\n",
    "\n",
    "# For each stratum\n",
    "for ix, row in dff.iterrows():\n",
    "    # probability of admission\n",
    "    numvar = solver.NumVar(0.0, 1.0, str(ix))\n",
    "    \n",
    "    # store variable by index, and also by stratum R, T\n",
    "    applicant_stratum.append(numvar)\n",
    "    vars_cache[(row['R'],row['T'])] = numvar\n",
    "    \n",
    "    # Benefit of admitting people is total utility in that stratum\n",
    "    objective.SetCoefficient(applicant_stratum[ix], float(row['ml_outcomes']))\n",
    "objective.SetMaximization()\n"
   ]
  },
  {
   "cell_type": "code",
   "execution_count": 13,
   "metadata": {
    "execution": {
     "iopub.execute_input": "2022-06-10T03:56:29.843453Z",
     "iopub.status.busy": "2022-06-10T03:56:29.842861Z",
     "iopub.status.idle": "2022-06-10T03:56:29.844717Z",
     "shell.execute_reply": "2022-06-10T03:56:29.845023Z"
    }
   },
   "outputs": [
    {
     "data": {
      "text/plain": [
       "0"
      ]
     },
     "execution_count": 13,
     "metadata": {},
     "output_type": "execute_result"
    }
   ],
   "source": [
    "# Currently we have no constraints \n",
    "solver.NumConstraints()"
   ]
  },
  {
   "cell_type": "code",
   "execution_count": 14,
   "metadata": {
    "execution": {
     "iopub.execute_input": "2022-06-10T03:56:29.857300Z",
     "iopub.status.busy": "2022-06-10T03:56:29.856529Z",
     "iopub.status.idle": "2022-06-10T03:56:29.858934Z",
     "shell.execute_reply": "2022-06-10T03:56:29.859218Z"
    },
    "scrolled": true
   },
   "outputs": [
    {
     "name": "stdout",
     "output_type": "stream",
     "text": [
      "50000\n"
     ]
    }
   ],
   "source": [
    "# Constraint: At most K applicants\n",
    "K = int(len(df)*FRAC_ADMIT)\n",
    "print(K)\n",
    "admit_quota = solver.Constraint(0, K)\n",
    "\n",
    "# Total applicants cannot exceed K \n",
    "for ix, row in dff.iterrows():\n",
    "    admit_quota.SetCoefficient(applicant_stratum[ix], float(row['N']))"
   ]
  },
  {
   "cell_type": "code",
   "execution_count": 15,
   "metadata": {
    "execution": {
     "iopub.execute_input": "2022-06-10T03:56:29.863768Z",
     "iopub.status.busy": "2022-06-10T03:56:29.863106Z",
     "iopub.status.idle": "2022-06-10T03:56:29.867017Z",
     "shell.execute_reply": "2022-06-10T03:56:29.867490Z"
    }
   },
   "outputs": [
    {
     "data": {
      "text/plain": [
       "1"
      ]
     },
     "execution_count": 15,
     "metadata": {},
     "output_type": "execute_result"
    }
   ],
   "source": [
    "# Now we have one constraint\n",
    "solver.NumConstraints()"
   ]
  },
  {
   "cell_type": "code",
   "execution_count": null,
   "metadata": {},
   "outputs": [],
   "source": []
  },
  {
   "cell_type": "markdown",
   "metadata": {},
   "source": [
    "## Add CF Fair constraints"
   ]
  },
  {
   "cell_type": "code",
   "execution_count": 16,
   "metadata": {
    "execution": {
     "iopub.execute_input": "2022-06-10T03:56:29.872250Z",
     "iopub.status.busy": "2022-06-10T03:56:29.871634Z",
     "iopub.status.idle": "2022-06-10T03:56:29.873548Z",
     "shell.execute_reply": "2022-06-10T03:56:29.873949Z"
    }
   },
   "outputs": [],
   "source": [
    "from collections import Counter\n",
    "\n",
    "def convertListToProb(raw_list):\n",
    "    counts = dict(Counter(raw_list))\n",
    "    probs = {}\n",
    "    for test_score in counts:\n",
    "        probs[test_score]  = counts[test_score]/float(len(raw_list))\n",
    "    return [(probs[t], t) for t in probs]"
   ]
  },
  {
   "cell_type": "code",
   "execution_count": 17,
   "metadata": {
    "execution": {
     "iopub.execute_input": "2022-06-10T03:56:29.877984Z",
     "iopub.status.busy": "2022-06-10T03:56:29.877424Z",
     "iopub.status.idle": "2022-06-10T03:56:29.890141Z",
     "shell.execute_reply": "2022-06-10T03:56:29.890402Z"
    }
   },
   "outputs": [],
   "source": [
    "T_blacks_list = df[df['R']==0][['T','T_black_star']].groupby('T')['T_black_star'].apply(list).reset_index(name='T_blacks')\n"
   ]
  },
  {
   "cell_type": "code",
   "execution_count": 18,
   "metadata": {
    "execution": {
     "iopub.execute_input": "2022-06-10T03:56:29.897042Z",
     "iopub.status.busy": "2022-06-10T03:56:29.896547Z",
     "iopub.status.idle": "2022-06-10T03:56:29.897930Z",
     "shell.execute_reply": "2022-06-10T03:56:29.898244Z"
    }
   },
   "outputs": [],
   "source": [
    "T_blacks_list['probs'] = T_blacks_list['T_blacks'].apply(convertListToProb)\n"
   ]
  },
  {
   "cell_type": "code",
   "execution_count": 19,
   "metadata": {
    "execution": {
     "iopub.execute_input": "2022-06-10T03:56:29.910760Z",
     "iopub.status.busy": "2022-06-10T03:56:29.910156Z",
     "iopub.status.idle": "2022-06-10T03:56:29.912414Z",
     "shell.execute_reply": "2022-06-10T03:56:29.912886Z"
    }
   },
   "outputs": [
    {
     "data": {
      "text/html": [
       "<div>\n",
       "<style scoped>\n",
       "    .dataframe tbody tr th:only-of-type {\n",
       "        vertical-align: middle;\n",
       "    }\n",
       "\n",
       "    .dataframe tbody tr th {\n",
       "        vertical-align: top;\n",
       "    }\n",
       "\n",
       "    .dataframe thead th {\n",
       "        text-align: right;\n",
       "    }\n",
       "</style>\n",
       "<table border=\"1\" class=\"dataframe\">\n",
       "  <thead>\n",
       "    <tr style=\"text-align: right;\">\n",
       "      <th></th>\n",
       "      <th>T</th>\n",
       "      <th>T_blacks</th>\n",
       "      <th>probs</th>\n",
       "    </tr>\n",
       "  </thead>\n",
       "  <tbody>\n",
       "    <tr>\n",
       "      <th>0</th>\n",
       "      <td>14</td>\n",
       "      <td>[15]</td>\n",
       "      <td>[(1.0, 15)]</td>\n",
       "    </tr>\n",
       "    <tr>\n",
       "      <th>1</th>\n",
       "      <td>15</td>\n",
       "      <td>[12, 16]</td>\n",
       "      <td>[(0.5, 12), (0.5, 16)]</td>\n",
       "    </tr>\n",
       "    <tr>\n",
       "      <th>2</th>\n",
       "      <td>16</td>\n",
       "      <td>[16, 15]</td>\n",
       "      <td>[(0.5, 16), (0.5, 15)]</td>\n",
       "    </tr>\n",
       "    <tr>\n",
       "      <th>3</th>\n",
       "      <td>17</td>\n",
       "      <td>[17, 16, 15, 16, 15]</td>\n",
       "      <td>[(0.2, 17), (0.4, 16), (0.4, 15)]</td>\n",
       "    </tr>\n",
       "    <tr>\n",
       "      <th>4</th>\n",
       "      <td>18</td>\n",
       "      <td>[17, 17, 17, 18, 19, 17]</td>\n",
       "      <td>[(0.6666666666666666, 17), (0.1666666666666666...</td>\n",
       "    </tr>\n",
       "    <tr>\n",
       "      <th>...</th>\n",
       "      <td>...</td>\n",
       "      <td>...</td>\n",
       "      <td>...</td>\n",
       "    </tr>\n",
       "    <tr>\n",
       "      <th>100</th>\n",
       "      <td>114</td>\n",
       "      <td>[105, 104]</td>\n",
       "      <td>[(0.5, 105), (0.5, 104)]</td>\n",
       "    </tr>\n",
       "    <tr>\n",
       "      <th>101</th>\n",
       "      <td>115</td>\n",
       "      <td>[107, 105]</td>\n",
       "      <td>[(0.5, 107), (0.5, 105)]</td>\n",
       "    </tr>\n",
       "    <tr>\n",
       "      <th>102</th>\n",
       "      <td>116</td>\n",
       "      <td>[107]</td>\n",
       "      <td>[(1.0, 107)]</td>\n",
       "    </tr>\n",
       "    <tr>\n",
       "      <th>103</th>\n",
       "      <td>120</td>\n",
       "      <td>[111]</td>\n",
       "      <td>[(1.0, 111)]</td>\n",
       "    </tr>\n",
       "    <tr>\n",
       "      <th>104</th>\n",
       "      <td>127</td>\n",
       "      <td>[118]</td>\n",
       "      <td>[(1.0, 118)]</td>\n",
       "    </tr>\n",
       "  </tbody>\n",
       "</table>\n",
       "<p>105 rows × 3 columns</p>\n",
       "</div>"
      ],
      "text/plain": [
       "       T                  T_blacks  \\\n",
       "0     14                      [15]   \n",
       "1     15                  [12, 16]   \n",
       "2     16                  [16, 15]   \n",
       "3     17      [17, 16, 15, 16, 15]   \n",
       "4     18  [17, 17, 17, 18, 19, 17]   \n",
       "..   ...                       ...   \n",
       "100  114                [105, 104]   \n",
       "101  115                [107, 105]   \n",
       "102  116                     [107]   \n",
       "103  120                     [111]   \n",
       "104  127                     [118]   \n",
       "\n",
       "                                                 probs  \n",
       "0                                          [(1.0, 15)]  \n",
       "1                               [(0.5, 12), (0.5, 16)]  \n",
       "2                               [(0.5, 16), (0.5, 15)]  \n",
       "3                    [(0.2, 17), (0.4, 16), (0.4, 15)]  \n",
       "4    [(0.6666666666666666, 17), (0.1666666666666666...  \n",
       "..                                                 ...  \n",
       "100                           [(0.5, 105), (0.5, 104)]  \n",
       "101                           [(0.5, 107), (0.5, 105)]  \n",
       "102                                       [(1.0, 107)]  \n",
       "103                                       [(1.0, 111)]  \n",
       "104                                       [(1.0, 118)]  \n",
       "\n",
       "[105 rows x 3 columns]"
      ]
     },
     "execution_count": 19,
     "metadata": {},
     "output_type": "execute_result"
    }
   ],
   "source": [
    "T_blacks_list"
   ]
  },
  {
   "cell_type": "code",
   "execution_count": 20,
   "metadata": {
    "execution": {
     "iopub.execute_input": "2022-06-10T03:56:29.922136Z",
     "iopub.status.busy": "2022-06-10T03:56:29.921567Z",
     "iopub.status.idle": "2022-06-10T03:56:29.923065Z",
     "shell.execute_reply": "2022-06-10T03:56:29.923506Z"
    }
   },
   "outputs": [],
   "source": [
    "didntexist = 0\n",
    "exists = 0\n",
    "for ix, row in T_blacks_list.iterrows():\n",
    "    cf_fair_stratum = solver.Constraint(0.0, 0.0)\n",
    "\n",
    "    White_T = row['T']\n",
    "    Blacks_Ts = row['probs']\n",
    "    \n",
    "    cf_fair_stratum.SetCoefficient(vars_cache[(0.0, White_T)], -1.0)\n",
    "    for prob in Blacks_Ts:\n",
    "        if (1.0, prob[1]) not in vars_cache:\n",
    "            vars_cache[(1.0, prob[1])] = solver.NumVar(0.0, 1.0, str((1.0, prob[1])))\n",
    "            didntexist+=1\n",
    "        else:\n",
    "            exists+=1\n",
    "        cf_fair_stratum.SetCoefficient(vars_cache[(1.0, prob[1])], prob[0])\n",
    "    "
   ]
  },
  {
   "cell_type": "code",
   "execution_count": 21,
   "metadata": {
    "execution": {
     "iopub.execute_input": "2022-06-10T03:56:29.927242Z",
     "iopub.status.busy": "2022-06-10T03:56:29.926653Z",
     "iopub.status.idle": "2022-06-10T03:56:29.928939Z",
     "shell.execute_reply": "2022-06-10T03:56:29.929282Z"
    }
   },
   "outputs": [
    {
     "data": {
      "text/plain": [
       "(10, 547)"
      ]
     },
     "execution_count": 21,
     "metadata": {},
     "output_type": "execute_result"
    }
   ],
   "source": [
    "didntexist,exists"
   ]
  },
  {
   "cell_type": "code",
   "execution_count": 22,
   "metadata": {
    "execution": {
     "iopub.execute_input": "2022-06-10T03:56:29.932751Z",
     "iopub.status.busy": "2022-06-10T03:56:29.932135Z",
     "iopub.status.idle": "2022-06-10T03:56:29.940791Z",
     "shell.execute_reply": "2022-06-10T03:56:29.940363Z"
    }
   },
   "outputs": [],
   "source": [
    "T_whites_list = df[df['R']==1][['T','T_white_star']].groupby('T')['T_white_star'].apply(list).reset_index(name='T_whites')"
   ]
  },
  {
   "cell_type": "code",
   "execution_count": 23,
   "metadata": {
    "execution": {
     "iopub.execute_input": "2022-06-10T03:56:29.945549Z",
     "iopub.status.busy": "2022-06-10T03:56:29.945153Z",
     "iopub.status.idle": "2022-06-10T03:56:29.946551Z",
     "shell.execute_reply": "2022-06-10T03:56:29.946845Z"
    }
   },
   "outputs": [],
   "source": [
    "T_whites_list['probs'] = T_whites_list['T_whites'].apply(convertListToProb)\n"
   ]
  },
  {
   "cell_type": "code",
   "execution_count": 24,
   "metadata": {
    "execution": {
     "iopub.execute_input": "2022-06-10T03:56:29.951658Z",
     "iopub.status.busy": "2022-06-10T03:56:29.951032Z",
     "iopub.status.idle": "2022-06-10T03:56:29.956378Z",
     "shell.execute_reply": "2022-06-10T03:56:29.956685Z"
    }
   },
   "outputs": [],
   "source": [
    "didntexist = 0\n",
    "exists = 0\n",
    "\n",
    "for ix, row in T_whites_list.iterrows():\n",
    "    cf_fair_stratum = solver.Constraint(0.0, 0.0)\n",
    "\n",
    "    Black_T = row['T']\n",
    "    White_Ts = row['probs']\n",
    "    \n",
    "    cf_fair_stratum.SetCoefficient(vars_cache[(1.0, Black_T)], -1.0)\n",
    "    for prob in White_Ts:\n",
    "        if (0.0, prob[1]) not in vars_cache:\n",
    "            vars_cache[(0.0, prob[1])] = solver.NumVar(0.0, 1.0, str((0.0, prob[1])))\n",
    "            didntexist+=1\n",
    "        else:\n",
    "            exists+=1\n",
    "            \n",
    "        cf_fair_stratum.SetCoefficient(vars_cache[(0.0, prob[1])], prob[0])\n",
    "    "
   ]
  },
  {
   "cell_type": "code",
   "execution_count": 25,
   "metadata": {
    "execution": {
     "iopub.execute_input": "2022-06-10T03:56:29.959841Z",
     "iopub.status.busy": "2022-06-10T03:56:29.959381Z",
     "iopub.status.idle": "2022-06-10T03:56:29.960986Z",
     "shell.execute_reply": "2022-06-10T03:56:29.961414Z"
    }
   },
   "outputs": [
    {
     "data": {
      "text/plain": [
       "<bound method Constraint.basis_status of <ortools.linear_solver.pywraplp.Constraint; proxy of <Swig Object of type 'operations_research::MPConstraint *' at 0x7ff77085edb0> >>"
      ]
     },
     "execution_count": 25,
     "metadata": {},
     "output_type": "execute_result"
    }
   ],
   "source": [
    "cf_fair_stratum.basis_status"
   ]
  },
  {
   "cell_type": "code",
   "execution_count": 26,
   "metadata": {
    "execution": {
     "iopub.execute_input": "2022-06-10T03:56:29.964283Z",
     "iopub.status.busy": "2022-06-10T03:56:29.963860Z",
     "iopub.status.idle": "2022-06-10T03:56:29.965642Z",
     "shell.execute_reply": "2022-06-10T03:56:29.965897Z"
    }
   },
   "outputs": [
    {
     "data": {
      "text/plain": [
       "193"
      ]
     },
     "execution_count": 26,
     "metadata": {},
     "output_type": "execute_result"
    }
   ],
   "source": [
    "solver.NumConstraints()"
   ]
  },
  {
   "cell_type": "markdown",
   "metadata": {},
   "source": [
    "## Solve linear program"
   ]
  },
  {
   "cell_type": "code",
   "execution_count": 27,
   "metadata": {
    "execution": {
     "iopub.execute_input": "2022-06-10T03:56:29.968667Z",
     "iopub.status.busy": "2022-06-10T03:56:29.968239Z",
     "iopub.status.idle": "2022-06-10T03:56:29.969963Z",
     "shell.execute_reply": "2022-06-10T03:56:29.970265Z"
    }
   },
   "outputs": [
    {
     "data": {
      "text/plain": [
       "4"
      ]
     },
     "execution_count": 27,
     "metadata": {},
     "output_type": "execute_result"
    }
   ],
   "source": [
    "solver.ABNORMAL"
   ]
  },
  {
   "cell_type": "code",
   "execution_count": 28,
   "metadata": {
    "execution": {
     "iopub.execute_input": "2022-06-10T03:56:29.976375Z",
     "iopub.status.busy": "2022-06-10T03:56:29.975915Z",
     "iopub.status.idle": "2022-06-10T03:56:29.977009Z",
     "shell.execute_reply": "2022-06-10T03:56:29.977237Z"
    }
   },
   "outputs": [],
   "source": [
    "status = solver.Solve()\n"
   ]
  },
  {
   "cell_type": "code",
   "execution_count": 29,
   "metadata": {
    "execution": {
     "iopub.execute_input": "2022-06-10T03:56:29.979855Z",
     "iopub.status.busy": "2022-06-10T03:56:29.979350Z",
     "iopub.status.idle": "2022-06-10T03:56:29.981046Z",
     "shell.execute_reply": "2022-06-10T03:56:29.981353Z"
    }
   },
   "outputs": [
    {
     "data": {
      "text/plain": [
       "0"
      ]
     },
     "execution_count": 29,
     "metadata": {},
     "output_type": "execute_result"
    }
   ],
   "source": [
    "status"
   ]
  },
  {
   "cell_type": "code",
   "execution_count": 30,
   "metadata": {
    "execution": {
     "iopub.execute_input": "2022-06-10T03:56:29.983811Z",
     "iopub.status.busy": "2022-06-10T03:56:29.983440Z",
     "iopub.status.idle": "2022-06-10T03:56:29.985016Z",
     "shell.execute_reply": "2022-06-10T03:56:29.985309Z"
    }
   },
   "outputs": [
    {
     "data": {
      "text/plain": [
       "0"
      ]
     },
     "execution_count": 30,
     "metadata": {},
     "output_type": "execute_result"
    }
   ],
   "source": [
    "solver.OPTIMAL"
   ]
  },
  {
   "cell_type": "code",
   "execution_count": 31,
   "metadata": {
    "execution": {
     "iopub.execute_input": "2022-06-10T03:56:29.988842Z",
     "iopub.status.busy": "2022-06-10T03:56:29.988409Z",
     "iopub.status.idle": "2022-06-10T03:56:29.989476Z",
     "shell.execute_reply": "2022-06-10T03:56:29.989768Z"
    },
    "scrolled": true
   },
   "outputs": [],
   "source": [
    "row = []\n",
    "admit = []\n",
    "\n",
    "for i in applicant_stratum:\n",
    "    row.append(int(str(i)))\n",
    "    admit.append(i.solution_value())\n",
    "\n",
    "df_decisions = pd.DataFrame({'row_id':row,'decision':admit})"
   ]
  },
  {
   "cell_type": "code",
   "execution_count": 32,
   "metadata": {
    "execution": {
     "iopub.execute_input": "2022-06-10T03:56:29.994900Z",
     "iopub.status.busy": "2022-06-10T03:56:29.994419Z",
     "iopub.status.idle": "2022-06-10T03:56:29.996461Z",
     "shell.execute_reply": "2022-06-10T03:56:29.996833Z"
    }
   },
   "outputs": [
    {
     "data": {
      "text/html": [
       "<div>\n",
       "<style scoped>\n",
       "    .dataframe tbody tr th:only-of-type {\n",
       "        vertical-align: middle;\n",
       "    }\n",
       "\n",
       "    .dataframe tbody tr th {\n",
       "        vertical-align: top;\n",
       "    }\n",
       "\n",
       "    .dataframe thead th {\n",
       "        text-align: right;\n",
       "    }\n",
       "</style>\n",
       "<table border=\"1\" class=\"dataframe\">\n",
       "  <thead>\n",
       "    <tr style=\"text-align: right;\">\n",
       "      <th></th>\n",
       "      <th>row_id</th>\n",
       "      <th>decision</th>\n",
       "    </tr>\n",
       "  </thead>\n",
       "  <tbody>\n",
       "    <tr>\n",
       "      <th>0</th>\n",
       "      <td>0</td>\n",
       "      <td>0.499361</td>\n",
       "    </tr>\n",
       "    <tr>\n",
       "      <th>1</th>\n",
       "      <td>1</td>\n",
       "      <td>0.499361</td>\n",
       "    </tr>\n",
       "    <tr>\n",
       "      <th>2</th>\n",
       "      <td>2</td>\n",
       "      <td>0.499361</td>\n",
       "    </tr>\n",
       "    <tr>\n",
       "      <th>3</th>\n",
       "      <td>3</td>\n",
       "      <td>0.499361</td>\n",
       "    </tr>\n",
       "    <tr>\n",
       "      <th>4</th>\n",
       "      <td>4</td>\n",
       "      <td>0.499361</td>\n",
       "    </tr>\n",
       "    <tr>\n",
       "      <th>...</th>\n",
       "      <td>...</td>\n",
       "      <td>...</td>\n",
       "    </tr>\n",
       "    <tr>\n",
       "      <th>187</th>\n",
       "      <td>187</td>\n",
       "      <td>0.981751</td>\n",
       "    </tr>\n",
       "    <tr>\n",
       "      <th>188</th>\n",
       "      <td>188</td>\n",
       "      <td>1.000000</td>\n",
       "    </tr>\n",
       "    <tr>\n",
       "      <th>189</th>\n",
       "      <td>189</td>\n",
       "      <td>1.000000</td>\n",
       "    </tr>\n",
       "    <tr>\n",
       "      <th>190</th>\n",
       "      <td>190</td>\n",
       "      <td>1.000000</td>\n",
       "    </tr>\n",
       "    <tr>\n",
       "      <th>191</th>\n",
       "      <td>191</td>\n",
       "      <td>1.000000</td>\n",
       "    </tr>\n",
       "  </tbody>\n",
       "</table>\n",
       "<p>192 rows × 2 columns</p>\n",
       "</div>"
      ],
      "text/plain": [
       "     row_id  decision\n",
       "0         0  0.499361\n",
       "1         1  0.499361\n",
       "2         2  0.499361\n",
       "3         3  0.499361\n",
       "4         4  0.499361\n",
       "..      ...       ...\n",
       "187     187  0.981751\n",
       "188     188  1.000000\n",
       "189     189  1.000000\n",
       "190     190  1.000000\n",
       "191     191  1.000000\n",
       "\n",
       "[192 rows x 2 columns]"
      ]
     },
     "execution_count": 32,
     "metadata": {},
     "output_type": "execute_result"
    }
   ],
   "source": [
    "df_decisions"
   ]
  },
  {
   "cell_type": "code",
   "execution_count": 33,
   "metadata": {
    "execution": {
     "iopub.execute_input": "2022-06-10T03:56:30.002758Z",
     "iopub.status.busy": "2022-06-10T03:56:30.002404Z",
     "iopub.status.idle": "2022-06-10T03:56:30.006279Z",
     "shell.execute_reply": "2022-06-10T03:56:30.006528Z"
    }
   },
   "outputs": [
    {
     "data": {
      "text/html": [
       "<div>\n",
       "<style scoped>\n",
       "    .dataframe tbody tr th:only-of-type {\n",
       "        vertical-align: middle;\n",
       "    }\n",
       "\n",
       "    .dataframe tbody tr th {\n",
       "        vertical-align: top;\n",
       "    }\n",
       "\n",
       "    .dataframe thead th {\n",
       "        text-align: right;\n",
       "    }\n",
       "</style>\n",
       "<table border=\"1\" class=\"dataframe\">\n",
       "  <thead>\n",
       "    <tr style=\"text-align: right;\">\n",
       "      <th></th>\n",
       "      <th>level_0</th>\n",
       "      <th>index</th>\n",
       "      <th>R</th>\n",
       "      <th>T</th>\n",
       "      <th>ml_outcomes</th>\n",
       "      <th>N</th>\n",
       "      <th>row_id</th>\n",
       "      <th>decision</th>\n",
       "    </tr>\n",
       "  </thead>\n",
       "  <tbody>\n",
       "    <tr>\n",
       "      <th>43</th>\n",
       "      <td>0</td>\n",
       "      <td>43</td>\n",
       "      <td>0</td>\n",
       "      <td>57</td>\n",
       "      <td>1129.52</td>\n",
       "      <td>2017</td>\n",
       "      <td>43</td>\n",
       "      <td>0.499361</td>\n",
       "    </tr>\n",
       "    <tr>\n",
       "      <th>44</th>\n",
       "      <td>1</td>\n",
       "      <td>44</td>\n",
       "      <td>0</td>\n",
       "      <td>58</td>\n",
       "      <td>1124.04</td>\n",
       "      <td>1972</td>\n",
       "      <td>44</td>\n",
       "      <td>0.499361</td>\n",
       "    </tr>\n",
       "    <tr>\n",
       "      <th>47</th>\n",
       "      <td>2</td>\n",
       "      <td>47</td>\n",
       "      <td>0</td>\n",
       "      <td>61</td>\n",
       "      <td>1114.24</td>\n",
       "      <td>1741</td>\n",
       "      <td>47</td>\n",
       "      <td>0.499361</td>\n",
       "    </tr>\n",
       "    <tr>\n",
       "      <th>45</th>\n",
       "      <td>3</td>\n",
       "      <td>45</td>\n",
       "      <td>0</td>\n",
       "      <td>59</td>\n",
       "      <td>1100.26</td>\n",
       "      <td>1897</td>\n",
       "      <td>45</td>\n",
       "      <td>0.499361</td>\n",
       "    </tr>\n",
       "    <tr>\n",
       "      <th>46</th>\n",
       "      <td>4</td>\n",
       "      <td>46</td>\n",
       "      <td>0</td>\n",
       "      <td>60</td>\n",
       "      <td>1088.08</td>\n",
       "      <td>1876</td>\n",
       "      <td>46</td>\n",
       "      <td>0.499361</td>\n",
       "    </tr>\n",
       "    <tr>\n",
       "      <th>...</th>\n",
       "      <td>...</td>\n",
       "      <td>...</td>\n",
       "      <td>...</td>\n",
       "      <td>...</td>\n",
       "      <td>...</td>\n",
       "      <td>...</td>\n",
       "      <td>...</td>\n",
       "      <td>...</td>\n",
       "    </tr>\n",
       "    <tr>\n",
       "      <th>6</th>\n",
       "      <td>187</td>\n",
       "      <td>6</td>\n",
       "      <td>0</td>\n",
       "      <td>20</td>\n",
       "      <td>0.00</td>\n",
       "      <td>11</td>\n",
       "      <td>6</td>\n",
       "      <td>0.499361</td>\n",
       "    </tr>\n",
       "    <tr>\n",
       "      <th>5</th>\n",
       "      <td>188</td>\n",
       "      <td>5</td>\n",
       "      <td>0</td>\n",
       "      <td>19</td>\n",
       "      <td>0.00</td>\n",
       "      <td>10</td>\n",
       "      <td>5</td>\n",
       "      <td>0.499361</td>\n",
       "    </tr>\n",
       "    <tr>\n",
       "      <th>4</th>\n",
       "      <td>189</td>\n",
       "      <td>4</td>\n",
       "      <td>0</td>\n",
       "      <td>18</td>\n",
       "      <td>0.00</td>\n",
       "      <td>6</td>\n",
       "      <td>4</td>\n",
       "      <td>0.499361</td>\n",
       "    </tr>\n",
       "    <tr>\n",
       "      <th>2</th>\n",
       "      <td>190</td>\n",
       "      <td>2</td>\n",
       "      <td>0</td>\n",
       "      <td>16</td>\n",
       "      <td>0.00</td>\n",
       "      <td>2</td>\n",
       "      <td>2</td>\n",
       "      <td>0.499361</td>\n",
       "    </tr>\n",
       "    <tr>\n",
       "      <th>0</th>\n",
       "      <td>191</td>\n",
       "      <td>0</td>\n",
       "      <td>0</td>\n",
       "      <td>14</td>\n",
       "      <td>0.00</td>\n",
       "      <td>1</td>\n",
       "      <td>0</td>\n",
       "      <td>0.499361</td>\n",
       "    </tr>\n",
       "  </tbody>\n",
       "</table>\n",
       "<p>192 rows × 8 columns</p>\n",
       "</div>"
      ],
      "text/plain": [
       "    level_0  index  R   T  ml_outcomes     N  row_id  decision\n",
       "43        0     43  0  57      1129.52  2017      43  0.499361\n",
       "44        1     44  0  58      1124.04  1972      44  0.499361\n",
       "47        2     47  0  61      1114.24  1741      47  0.499361\n",
       "45        3     45  0  59      1100.26  1897      45  0.499361\n",
       "46        4     46  0  60      1088.08  1876      46  0.499361\n",
       "..      ...    ... ..  ..          ...   ...     ...       ...\n",
       "6       187      6  0  20         0.00    11       6  0.499361\n",
       "5       188      5  0  19         0.00    10       5  0.499361\n",
       "4       189      4  0  18         0.00     6       4  0.499361\n",
       "2       190      2  0  16         0.00     2       2  0.499361\n",
       "0       191      0  0  14         0.00     1       0  0.499361\n",
       "\n",
       "[192 rows x 8 columns]"
      ]
     },
     "execution_count": 33,
     "metadata": {},
     "output_type": "execute_result"
    }
   ],
   "source": [
    "dff.merge(df_decisions,left_index=True,right_index=True).sort_values(by='ml_outcomes',ascending=False)"
   ]
  },
  {
   "cell_type": "code",
   "execution_count": 34,
   "metadata": {
    "execution": {
     "iopub.execute_input": "2022-06-10T03:56:30.014438Z",
     "iopub.status.busy": "2022-06-10T03:56:30.013950Z",
     "iopub.status.idle": "2022-06-10T03:56:30.015940Z",
     "shell.execute_reply": "2022-06-10T03:56:30.016362Z"
    }
   },
   "outputs": [
    {
     "data": {
      "text/html": [
       "<div>\n",
       "<style scoped>\n",
       "    .dataframe tbody tr th:only-of-type {\n",
       "        vertical-align: middle;\n",
       "    }\n",
       "\n",
       "    .dataframe tbody tr th {\n",
       "        vertical-align: top;\n",
       "    }\n",
       "\n",
       "    .dataframe thead th {\n",
       "        text-align: right;\n",
       "    }\n",
       "</style>\n",
       "<table border=\"1\" class=\"dataframe\">\n",
       "  <thead>\n",
       "    <tr style=\"text-align: right;\">\n",
       "      <th></th>\n",
       "      <th>level_0</th>\n",
       "      <th>index</th>\n",
       "      <th>R</th>\n",
       "      <th>T</th>\n",
       "      <th>ml_outcomes</th>\n",
       "      <th>N</th>\n",
       "      <th>row_id</th>\n",
       "      <th>decision</th>\n",
       "    </tr>\n",
       "  </thead>\n",
       "  <tbody>\n",
       "    <tr>\n",
       "      <th>43</th>\n",
       "      <td>0</td>\n",
       "      <td>43</td>\n",
       "      <td>0</td>\n",
       "      <td>57</td>\n",
       "      <td>1129.52</td>\n",
       "      <td>2017</td>\n",
       "      <td>43</td>\n",
       "      <td>0.499361</td>\n",
       "    </tr>\n",
       "    <tr>\n",
       "      <th>44</th>\n",
       "      <td>1</td>\n",
       "      <td>44</td>\n",
       "      <td>0</td>\n",
       "      <td>58</td>\n",
       "      <td>1124.04</td>\n",
       "      <td>1972</td>\n",
       "      <td>44</td>\n",
       "      <td>0.499361</td>\n",
       "    </tr>\n",
       "    <tr>\n",
       "      <th>47</th>\n",
       "      <td>2</td>\n",
       "      <td>47</td>\n",
       "      <td>0</td>\n",
       "      <td>61</td>\n",
       "      <td>1114.24</td>\n",
       "      <td>1741</td>\n",
       "      <td>47</td>\n",
       "      <td>0.499361</td>\n",
       "    </tr>\n",
       "    <tr>\n",
       "      <th>45</th>\n",
       "      <td>3</td>\n",
       "      <td>45</td>\n",
       "      <td>0</td>\n",
       "      <td>59</td>\n",
       "      <td>1100.26</td>\n",
       "      <td>1897</td>\n",
       "      <td>45</td>\n",
       "      <td>0.499361</td>\n",
       "    </tr>\n",
       "    <tr>\n",
       "      <th>46</th>\n",
       "      <td>4</td>\n",
       "      <td>46</td>\n",
       "      <td>0</td>\n",
       "      <td>60</td>\n",
       "      <td>1088.08</td>\n",
       "      <td>1876</td>\n",
       "      <td>46</td>\n",
       "      <td>0.499361</td>\n",
       "    </tr>\n",
       "    <tr>\n",
       "      <th>...</th>\n",
       "      <td>...</td>\n",
       "      <td>...</td>\n",
       "      <td>...</td>\n",
       "      <td>...</td>\n",
       "      <td>...</td>\n",
       "      <td>...</td>\n",
       "      <td>...</td>\n",
       "      <td>...</td>\n",
       "    </tr>\n",
       "    <tr>\n",
       "      <th>6</th>\n",
       "      <td>187</td>\n",
       "      <td>6</td>\n",
       "      <td>0</td>\n",
       "      <td>20</td>\n",
       "      <td>0.00</td>\n",
       "      <td>11</td>\n",
       "      <td>6</td>\n",
       "      <td>0.499361</td>\n",
       "    </tr>\n",
       "    <tr>\n",
       "      <th>5</th>\n",
       "      <td>188</td>\n",
       "      <td>5</td>\n",
       "      <td>0</td>\n",
       "      <td>19</td>\n",
       "      <td>0.00</td>\n",
       "      <td>10</td>\n",
       "      <td>5</td>\n",
       "      <td>0.499361</td>\n",
       "    </tr>\n",
       "    <tr>\n",
       "      <th>4</th>\n",
       "      <td>189</td>\n",
       "      <td>4</td>\n",
       "      <td>0</td>\n",
       "      <td>18</td>\n",
       "      <td>0.00</td>\n",
       "      <td>6</td>\n",
       "      <td>4</td>\n",
       "      <td>0.499361</td>\n",
       "    </tr>\n",
       "    <tr>\n",
       "      <th>2</th>\n",
       "      <td>190</td>\n",
       "      <td>2</td>\n",
       "      <td>0</td>\n",
       "      <td>16</td>\n",
       "      <td>0.00</td>\n",
       "      <td>2</td>\n",
       "      <td>2</td>\n",
       "      <td>0.499361</td>\n",
       "    </tr>\n",
       "    <tr>\n",
       "      <th>0</th>\n",
       "      <td>191</td>\n",
       "      <td>0</td>\n",
       "      <td>0</td>\n",
       "      <td>14</td>\n",
       "      <td>0.00</td>\n",
       "      <td>1</td>\n",
       "      <td>0</td>\n",
       "      <td>0.499361</td>\n",
       "    </tr>\n",
       "  </tbody>\n",
       "</table>\n",
       "<p>192 rows × 8 columns</p>\n",
       "</div>"
      ],
      "text/plain": [
       "    level_0  index  R   T  ml_outcomes     N  row_id  decision\n",
       "43        0     43  0  57      1129.52  2017      43  0.499361\n",
       "44        1     44  0  58      1124.04  1972      44  0.499361\n",
       "47        2     47  0  61      1114.24  1741      47  0.499361\n",
       "45        3     45  0  59      1100.26  1897      45  0.499361\n",
       "46        4     46  0  60      1088.08  1876      46  0.499361\n",
       "..      ...    ... ..  ..          ...   ...     ...       ...\n",
       "6       187      6  0  20         0.00    11       6  0.499361\n",
       "5       188      5  0  19         0.00    10       5  0.499361\n",
       "4       189      4  0  18         0.00     6       4  0.499361\n",
       "2       190      2  0  16         0.00     2       2  0.499361\n",
       "0       191      0  0  14         0.00     1       0  0.499361\n",
       "\n",
       "[192 rows x 8 columns]"
      ]
     },
     "execution_count": 34,
     "metadata": {},
     "output_type": "execute_result"
    }
   ],
   "source": [
    "xxx = dff.merge(df_decisions,left_index=True,right_index=True).sort_values(by='ml_outcomes',ascending=False)\n",
    "xxx"
   ]
  },
  {
   "cell_type": "code",
   "execution_count": 35,
   "metadata": {
    "execution": {
     "iopub.execute_input": "2022-06-10T03:56:30.023990Z",
     "iopub.status.busy": "2022-06-10T03:56:30.023475Z",
     "iopub.status.idle": "2022-06-10T03:56:30.025268Z",
     "shell.execute_reply": "2022-06-10T03:56:30.025571Z"
    }
   },
   "outputs": [
    {
     "data": {
      "text/html": [
       "<div>\n",
       "<style scoped>\n",
       "    .dataframe tbody tr th:only-of-type {\n",
       "        vertical-align: middle;\n",
       "    }\n",
       "\n",
       "    .dataframe tbody tr th {\n",
       "        vertical-align: top;\n",
       "    }\n",
       "\n",
       "    .dataframe thead th {\n",
       "        text-align: right;\n",
       "    }\n",
       "</style>\n",
       "<table border=\"1\" class=\"dataframe\">\n",
       "  <thead>\n",
       "    <tr style=\"text-align: right;\">\n",
       "      <th></th>\n",
       "      <th>level_0</th>\n",
       "      <th>index</th>\n",
       "      <th>R</th>\n",
       "      <th>T</th>\n",
       "      <th>ml_outcomes</th>\n",
       "      <th>N</th>\n",
       "      <th>row_id</th>\n",
       "      <th>decision</th>\n",
       "    </tr>\n",
       "  </thead>\n",
       "  <tbody>\n",
       "    <tr>\n",
       "      <th>104</th>\n",
       "      <td>179</td>\n",
       "      <td>104</td>\n",
       "      <td>0</td>\n",
       "      <td>127</td>\n",
       "      <td>1.00</td>\n",
       "      <td>1</td>\n",
       "      <td>104</td>\n",
       "      <td>1.000000</td>\n",
       "    </tr>\n",
       "    <tr>\n",
       "      <th>100</th>\n",
       "      <td>168</td>\n",
       "      <td>100</td>\n",
       "      <td>0</td>\n",
       "      <td>114</td>\n",
       "      <td>2.00</td>\n",
       "      <td>2</td>\n",
       "      <td>100</td>\n",
       "      <td>1.000000</td>\n",
       "    </tr>\n",
       "    <tr>\n",
       "      <th>94</th>\n",
       "      <td>149</td>\n",
       "      <td>94</td>\n",
       "      <td>0</td>\n",
       "      <td>108</td>\n",
       "      <td>6.00</td>\n",
       "      <td>6</td>\n",
       "      <td>94</td>\n",
       "      <td>1.000000</td>\n",
       "    </tr>\n",
       "    <tr>\n",
       "      <th>95</th>\n",
       "      <td>154</td>\n",
       "      <td>95</td>\n",
       "      <td>0</td>\n",
       "      <td>109</td>\n",
       "      <td>4.00</td>\n",
       "      <td>4</td>\n",
       "      <td>95</td>\n",
       "      <td>1.000000</td>\n",
       "    </tr>\n",
       "    <tr>\n",
       "      <th>190</th>\n",
       "      <td>172</td>\n",
       "      <td>190</td>\n",
       "      <td>1</td>\n",
       "      <td>99</td>\n",
       "      <td>1.25</td>\n",
       "      <td>1</td>\n",
       "      <td>190</td>\n",
       "      <td>1.000000</td>\n",
       "    </tr>\n",
       "    <tr>\n",
       "      <th>...</th>\n",
       "      <td>...</td>\n",
       "      <td>...</td>\n",
       "      <td>...</td>\n",
       "      <td>...</td>\n",
       "      <td>...</td>\n",
       "      <td>...</td>\n",
       "      <td>...</td>\n",
       "      <td>...</td>\n",
       "    </tr>\n",
       "    <tr>\n",
       "      <th>152</th>\n",
       "      <td>51</td>\n",
       "      <td>152</td>\n",
       "      <td>1</td>\n",
       "      <td>59</td>\n",
       "      <td>477.95</td>\n",
       "      <td>605</td>\n",
       "      <td>152</td>\n",
       "      <td>0.499361</td>\n",
       "    </tr>\n",
       "    <tr>\n",
       "      <th>149</th>\n",
       "      <td>42</td>\n",
       "      <td>149</td>\n",
       "      <td>1</td>\n",
       "      <td>56</td>\n",
       "      <td>550.42</td>\n",
       "      <td>754</td>\n",
       "      <td>149</td>\n",
       "      <td>0.499361</td>\n",
       "    </tr>\n",
       "    <tr>\n",
       "      <th>148</th>\n",
       "      <td>35</td>\n",
       "      <td>148</td>\n",
       "      <td>1</td>\n",
       "      <td>55</td>\n",
       "      <td>616.32</td>\n",
       "      <td>856</td>\n",
       "      <td>148</td>\n",
       "      <td>0.499361</td>\n",
       "    </tr>\n",
       "    <tr>\n",
       "      <th>44</th>\n",
       "      <td>1</td>\n",
       "      <td>44</td>\n",
       "      <td>0</td>\n",
       "      <td>58</td>\n",
       "      <td>1124.04</td>\n",
       "      <td>1972</td>\n",
       "      <td>44</td>\n",
       "      <td>0.499361</td>\n",
       "    </tr>\n",
       "    <tr>\n",
       "      <th>105</th>\n",
       "      <td>185</td>\n",
       "      <td>105</td>\n",
       "      <td>1</td>\n",
       "      <td>11</td>\n",
       "      <td>0.25</td>\n",
       "      <td>1</td>\n",
       "      <td>105</td>\n",
       "      <td>0.000000</td>\n",
       "    </tr>\n",
       "  </tbody>\n",
       "</table>\n",
       "<p>192 rows × 8 columns</p>\n",
       "</div>"
      ],
      "text/plain": [
       "     level_0  index  R    T  ml_outcomes     N  row_id  decision\n",
       "104      179    104  0  127         1.00     1     104  1.000000\n",
       "100      168    100  0  114         2.00     2     100  1.000000\n",
       "94       149     94  0  108         6.00     6      94  1.000000\n",
       "95       154     95  0  109         4.00     4      95  1.000000\n",
       "190      172    190  1   99         1.25     1     190  1.000000\n",
       "..       ...    ... ..  ...          ...   ...     ...       ...\n",
       "152       51    152  1   59       477.95   605     152  0.499361\n",
       "149       42    149  1   56       550.42   754     149  0.499361\n",
       "148       35    148  1   55       616.32   856     148  0.499361\n",
       "44         1     44  0   58      1124.04  1972      44  0.499361\n",
       "105      185    105  1   11         0.25     1     105  0.000000\n",
       "\n",
       "[192 rows x 8 columns]"
      ]
     },
     "execution_count": 35,
     "metadata": {},
     "output_type": "execute_result"
    }
   ],
   "source": [
    "xxx.sort_values(by='decision',ascending=False)"
   ]
  },
  {
   "cell_type": "code",
   "execution_count": 36,
   "metadata": {
    "execution": {
     "iopub.execute_input": "2022-06-10T03:56:30.079873Z",
     "iopub.status.busy": "2022-06-10T03:56:30.079447Z",
     "iopub.status.idle": "2022-06-10T03:56:30.147173Z",
     "shell.execute_reply": "2022-06-10T03:56:30.147395Z"
    }
   },
   "outputs": [],
   "source": [
    "df['key'] = df['R'].astype(str)+'_'+df['T'].astype(str)\n",
    "xxx['key'] = xxx['R'].astype(str)+'_'+xxx['T'].astype(str)"
   ]
  },
  {
   "cell_type": "code",
   "execution_count": 37,
   "metadata": {
    "execution": {
     "iopub.execute_input": "2022-06-10T03:56:30.157173Z",
     "iopub.status.busy": "2022-06-10T03:56:30.156803Z",
     "iopub.status.idle": "2022-06-10T03:56:30.202519Z",
     "shell.execute_reply": "2022-06-10T03:56:30.202750Z"
    }
   },
   "outputs": [],
   "source": [
    "admit_decisions = df.merge(xxx,how='left',on='key')\n",
    "admit_decisions['decision_random'] = pd.Series([random.random() for x in range(0,len(admit_decisions))]) < FRAC_ADMIT\n",
    "\n",
    "FRAC_BLACK_POLICY = (admit_decisions['R_y'] * admit_decisions['decision']).sum()/admit_decisions['decision'].sum()\n",
    "SUM_BP_POLICY = ( admit_decisions['B_p'] * admit_decisions['decision']).sum()\n",
    "\n",
    "FRAC_RANDOM_POLICY = (admit_decisions['R_y'] * admit_decisions['decision_random']).sum()/admit_decisions['decision_random'].sum()\n",
    "SUM_BP_RAND_POLICY = ( admit_decisions['B_p'] * admit_decisions['decision_random']).sum()\n"
   ]
  },
  {
   "cell_type": "code",
   "execution_count": 38,
   "metadata": {
    "execution": {
     "iopub.execute_input": "2022-06-10T03:56:30.205552Z",
     "iopub.status.busy": "2022-06-10T03:56:30.205171Z",
     "iopub.status.idle": "2022-06-10T03:56:30.206798Z",
     "shell.execute_reply": "2022-06-10T03:56:30.207047Z"
    }
   },
   "outputs": [],
   "source": [
    "file = open('./lp_results.csv','a')\n",
    "file.write('{}\\t{}\\t{}\\n'.format('Path-Specific Fairness',str(FRAC_BLACK_POLICY),str(SUM_BP_POLICY)))\n",
    "file.close()\n"
   ]
  },
  {
   "cell_type": "code",
   "execution_count": 39,
   "metadata": {
    "execution": {
     "iopub.execute_input": "2022-06-10T03:56:30.209985Z",
     "iopub.status.busy": "2022-06-10T03:56:30.209565Z",
     "iopub.status.idle": "2022-06-10T03:56:30.211299Z",
     "shell.execute_reply": "2022-06-10T03:56:30.211698Z"
    }
   },
   "outputs": [
    {
     "data": {
      "text/plain": [
       "0.5000000000000003"
      ]
     },
     "execution_count": 39,
     "metadata": {},
     "output_type": "execute_result"
    }
   ],
   "source": [
    "(xxx['N']*xxx['decision']).sum()/len(df)"
   ]
  },
  {
   "cell_type": "code",
   "execution_count": null,
   "metadata": {},
   "outputs": [],
   "source": []
  }
 ],
 "metadata": {
  "kernelspec": {
   "display_name": "Python 3 (ipykernel)",
   "language": "python",
   "name": "python3"
  },
  "language_info": {
   "codemirror_mode": {
    "name": "ipython",
    "version": 3
   },
   "file_extension": ".py",
   "mimetype": "text/x-python",
   "name": "python",
   "nbconvert_exporter": "python",
   "pygments_lexer": "ipython3",
   "version": "3.9.7"
  }
 },
 "nbformat": 4,
 "nbformat_minor": 4
}
