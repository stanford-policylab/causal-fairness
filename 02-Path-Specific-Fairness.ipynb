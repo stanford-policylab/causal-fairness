{
 "cells": [
  {
   "cell_type": "code",
   "execution_count": 1,
   "metadata": {
    "execution": {
     "iopub.execute_input": "2022-12-12T05:22:41.690948Z",
     "iopub.status.busy": "2022-12-12T05:22:41.689608Z",
     "iopub.status.idle": "2022-12-12T05:22:42.888363Z",
     "shell.execute_reply": "2022-12-12T05:22:42.888628Z"
    }
   },
   "outputs": [],
   "source": [
    "import numpy as np\n",
    "import pandas as pd\n",
    "import matplotlib.pyplot as plt\n",
    "import seaborn as sns\n",
    "import random\n",
    "import os\n",
    "\n",
    "DIVERSITY_UTILITY = float(os.environ.get('DIVERSITY_UTILITY'))\n",
    "FRAC_ADMIT = float(os.environ.get('FRAC_ADMIT'))"
   ]
  },
  {
   "cell_type": "code",
   "execution_count": 2,
   "metadata": {
    "execution": {
     "iopub.execute_input": "2022-12-12T05:22:42.893128Z",
     "iopub.status.busy": "2022-12-12T05:22:42.892710Z",
     "iopub.status.idle": "2022-12-12T05:22:59.991754Z",
     "shell.execute_reply": "2022-12-12T05:22:59.991456Z"
    }
   },
   "outputs": [],
   "source": [
    "###\n",
    "## Load dataframe where each row is a single applicant\n",
    "###\n",
    "\n",
    "df = pd.read_csv('./df_test.csv')\n",
    "df['key'] = df['R'].astype(str) + \"_\"  + df['T'].astype(str)\n",
    "\n",
    "###\n",
    "## Estimate E[Y(1)|T, A]\n",
    "###\n",
    "\n",
    "df_train = pd.read_csv('./df_train.csv')\n",
    "df_stratum_utility = df_train[['R','T','Y']].groupby(['R','T']).mean().reset_index()\n",
    "df_stratum_utility['stratum_utility'] = (df_stratum_utility['Y'] + DIVERSITY_UTILITY * df_stratum_utility['R']).round(2)\n",
    "df_stratum_utility['key'] = df_stratum_utility['R'].astype(str) + \"_\" + df_stratum_utility['T'].astype(str)\n",
    "\n",
    "df = df.merge(df_stratum_utility[['stratum_utility','key']], on='key')\n",
    "df['ml_outcomes'] = df['stratum_utility']"
   ]
  },
  {
   "cell_type": "code",
   "execution_count": 3,
   "metadata": {
    "execution": {
     "iopub.execute_input": "2022-12-12T05:23:00.048463Z",
     "iopub.status.busy": "2022-12-12T05:23:00.047780Z",
     "iopub.status.idle": "2022-12-12T05:23:00.173681Z",
     "shell.execute_reply": "2022-12-12T05:23:00.173931Z"
    }
   },
   "outputs": [
    {
     "data": {
      "text/html": [
       "<div>\n",
       "<style scoped>\n",
       "    .dataframe tbody tr th:only-of-type {\n",
       "        vertical-align: middle;\n",
       "    }\n",
       "\n",
       "    .dataframe tbody tr th {\n",
       "        vertical-align: top;\n",
       "    }\n",
       "\n",
       "    .dataframe thead th {\n",
       "        text-align: right;\n",
       "    }\n",
       "</style>\n",
       "<table border=\"1\" class=\"dataframe\">\n",
       "  <thead>\n",
       "    <tr style=\"text-align: right;\">\n",
       "      <th></th>\n",
       "      <th>Unnamed: 0</th>\n",
       "      <th>R</th>\n",
       "      <th>E_noise</th>\n",
       "      <th>E_minority</th>\n",
       "      <th>E_majority</th>\n",
       "      <th>M_noise</th>\n",
       "      <th>M_minority</th>\n",
       "      <th>M_majority</th>\n",
       "      <th>T_noise</th>\n",
       "      <th>T_minority</th>\n",
       "      <th>...</th>\n",
       "      <th>T</th>\n",
       "      <th>Y_unif</th>\n",
       "      <th>Y_reject_noise</th>\n",
       "      <th>Y</th>\n",
       "      <th>Y_raw</th>\n",
       "      <th>Y_reject</th>\n",
       "      <th>Y_reject_raw</th>\n",
       "      <th>key</th>\n",
       "      <th>stratum_utility</th>\n",
       "      <th>ml_outcomes</th>\n",
       "    </tr>\n",
       "  </thead>\n",
       "  <tbody>\n",
       "    <tr>\n",
       "      <th>0</th>\n",
       "      <td>1</td>\n",
       "      <td>0</td>\n",
       "      <td>1.389398</td>\n",
       "      <td>1.389398</td>\n",
       "      <td>2.389398</td>\n",
       "      <td>-1.253731</td>\n",
       "      <td>-0.864334</td>\n",
       "      <td>0.135666</td>\n",
       "      <td>3.772786</td>\n",
       "      <td>55</td>\n",
       "      <td>...</td>\n",
       "      <td>64</td>\n",
       "      <td>0.555882</td>\n",
       "      <td>0.070407</td>\n",
       "      <td>0</td>\n",
       "      <td>0.533865</td>\n",
       "      <td>0</td>\n",
       "      <td>0.409911</td>\n",
       "      <td>0_64</td>\n",
       "      <td>0.67</td>\n",
       "      <td>0.67</td>\n",
       "    </tr>\n",
       "    <tr>\n",
       "      <th>1</th>\n",
       "      <td>112</td>\n",
       "      <td>0</td>\n",
       "      <td>0.829848</td>\n",
       "      <td>0.829848</td>\n",
       "      <td>1.829848</td>\n",
       "      <td>0.458639</td>\n",
       "      <td>0.288488</td>\n",
       "      <td>1.288488</td>\n",
       "      <td>-0.897407</td>\n",
       "      <td>54</td>\n",
       "      <td>...</td>\n",
       "      <td>64</td>\n",
       "      <td>0.142150</td>\n",
       "      <td>-0.301607</td>\n",
       "      <td>1</td>\n",
       "      <td>0.783891</td>\n",
       "      <td>1</td>\n",
       "      <td>0.687506</td>\n",
       "      <td>0_64</td>\n",
       "      <td>0.67</td>\n",
       "      <td>0.67</td>\n",
       "    </tr>\n",
       "    <tr>\n",
       "      <th>2</th>\n",
       "      <td>266</td>\n",
       "      <td>0</td>\n",
       "      <td>-0.343388</td>\n",
       "      <td>-0.343388</td>\n",
       "      <td>0.656612</td>\n",
       "      <td>0.427825</td>\n",
       "      <td>-0.915563</td>\n",
       "      <td>0.084437</td>\n",
       "      <td>10.606118</td>\n",
       "      <td>56</td>\n",
       "      <td>...</td>\n",
       "      <td>64</td>\n",
       "      <td>0.826323</td>\n",
       "      <td>-0.054387</td>\n",
       "      <td>0</td>\n",
       "      <td>0.521097</td>\n",
       "      <td>0</td>\n",
       "      <td>0.397579</td>\n",
       "      <td>0_64</td>\n",
       "      <td>0.67</td>\n",
       "      <td>0.67</td>\n",
       "    </tr>\n",
       "    <tr>\n",
       "      <th>3</th>\n",
       "      <td>564</td>\n",
       "      <td>0</td>\n",
       "      <td>-0.083986</td>\n",
       "      <td>-0.083986</td>\n",
       "      <td>0.916014</td>\n",
       "      <td>0.888432</td>\n",
       "      <td>-0.195554</td>\n",
       "      <td>0.804446</td>\n",
       "      <td>5.890213</td>\n",
       "      <td>55</td>\n",
       "      <td>...</td>\n",
       "      <td>64</td>\n",
       "      <td>0.650710</td>\n",
       "      <td>-0.290176</td>\n",
       "      <td>1</td>\n",
       "      <td>0.690925</td>\n",
       "      <td>0</td>\n",
       "      <td>0.575529</td>\n",
       "      <td>0_64</td>\n",
       "      <td>0.67</td>\n",
       "      <td>0.67</td>\n",
       "    </tr>\n",
       "    <tr>\n",
       "      <th>4</th>\n",
       "      <td>592</td>\n",
       "      <td>0</td>\n",
       "      <td>1.340353</td>\n",
       "      <td>1.340353</td>\n",
       "      <td>2.340353</td>\n",
       "      <td>1.676530</td>\n",
       "      <td>2.016883</td>\n",
       "      <td>3.016883</td>\n",
       "      <td>-14.122165</td>\n",
       "      <td>52</td>\n",
       "      <td>...</td>\n",
       "      <td>64</td>\n",
       "      <td>0.617825</td>\n",
       "      <td>-0.602749</td>\n",
       "      <td>1</td>\n",
       "      <td>0.953331</td>\n",
       "      <td>1</td>\n",
       "      <td>0.925317</td>\n",
       "      <td>0_64</td>\n",
       "      <td>0.67</td>\n",
       "      <td>0.67</td>\n",
       "    </tr>\n",
       "    <tr>\n",
       "      <th>...</th>\n",
       "      <td>...</td>\n",
       "      <td>...</td>\n",
       "      <td>...</td>\n",
       "      <td>...</td>\n",
       "      <td>...</td>\n",
       "      <td>...</td>\n",
       "      <td>...</td>\n",
       "      <td>...</td>\n",
       "      <td>...</td>\n",
       "      <td>...</td>\n",
       "      <td>...</td>\n",
       "      <td>...</td>\n",
       "      <td>...</td>\n",
       "      <td>...</td>\n",
       "      <td>...</td>\n",
       "      <td>...</td>\n",
       "      <td>...</td>\n",
       "      <td>...</td>\n",
       "      <td>...</td>\n",
       "      <td>...</td>\n",
       "      <td>...</td>\n",
       "    </tr>\n",
       "    <tr>\n",
       "      <th>999994</th>\n",
       "      <td>881557</td>\n",
       "      <td>1</td>\n",
       "      <td>3.124335</td>\n",
       "      <td>3.124335</td>\n",
       "      <td>4.124335</td>\n",
       "      <td>1.126062</td>\n",
       "      <td>3.250397</td>\n",
       "      <td>4.250397</td>\n",
       "      <td>24.908820</td>\n",
       "      <td>111</td>\n",
       "      <td>...</td>\n",
       "      <td>111</td>\n",
       "      <td>0.060380</td>\n",
       "      <td>-0.397774</td>\n",
       "      <td>1</td>\n",
       "      <td>0.962687</td>\n",
       "      <td>1</td>\n",
       "      <td>0.939936</td>\n",
       "      <td>1_111</td>\n",
       "      <td>1.25</td>\n",
       "      <td>1.25</td>\n",
       "    </tr>\n",
       "    <tr>\n",
       "      <th>999995</th>\n",
       "      <td>896888</td>\n",
       "      <td>1</td>\n",
       "      <td>3.497749</td>\n",
       "      <td>3.497749</td>\n",
       "      <td>4.497749</td>\n",
       "      <td>1.051885</td>\n",
       "      <td>3.549634</td>\n",
       "      <td>4.549634</td>\n",
       "      <td>15.645740</td>\n",
       "      <td>106</td>\n",
       "      <td>...</td>\n",
       "      <td>106</td>\n",
       "      <td>0.048438</td>\n",
       "      <td>-0.079427</td>\n",
       "      <td>1</td>\n",
       "      <td>0.972067</td>\n",
       "      <td>1</td>\n",
       "      <td>0.954767</td>\n",
       "      <td>1_106</td>\n",
       "      <td>1.17</td>\n",
       "      <td>1.17</td>\n",
       "    </tr>\n",
       "    <tr>\n",
       "      <th>999996</th>\n",
       "      <td>957949</td>\n",
       "      <td>1</td>\n",
       "      <td>3.727728</td>\n",
       "      <td>3.727728</td>\n",
       "      <td>4.727728</td>\n",
       "      <td>1.444929</td>\n",
       "      <td>4.172658</td>\n",
       "      <td>5.172658</td>\n",
       "      <td>8.472932</td>\n",
       "      <td>106</td>\n",
       "      <td>...</td>\n",
       "      <td>106</td>\n",
       "      <td>0.471938</td>\n",
       "      <td>-0.536495</td>\n",
       "      <td>1</td>\n",
       "      <td>0.984823</td>\n",
       "      <td>1</td>\n",
       "      <td>0.975221</td>\n",
       "      <td>1_106</td>\n",
       "      <td>1.17</td>\n",
       "      <td>1.17</td>\n",
       "    </tr>\n",
       "    <tr>\n",
       "      <th>999997</th>\n",
       "      <td>949400</td>\n",
       "      <td>0</td>\n",
       "      <td>3.357725</td>\n",
       "      <td>3.357725</td>\n",
       "      <td>4.357725</td>\n",
       "      <td>1.626278</td>\n",
       "      <td>3.984003</td>\n",
       "      <td>4.984003</td>\n",
       "      <td>11.747240</td>\n",
       "      <td>104</td>\n",
       "      <td>...</td>\n",
       "      <td>121</td>\n",
       "      <td>0.206499</td>\n",
       "      <td>-0.427715</td>\n",
       "      <td>1</td>\n",
       "      <td>0.993200</td>\n",
       "      <td>1</td>\n",
       "      <td>0.988838</td>\n",
       "      <td>0_121</td>\n",
       "      <td>1.00</td>\n",
       "      <td>1.00</td>\n",
       "    </tr>\n",
       "    <tr>\n",
       "      <th>999998</th>\n",
       "      <td>999534</td>\n",
       "      <td>0</td>\n",
       "      <td>4.093557</td>\n",
       "      <td>4.093557</td>\n",
       "      <td>5.093557</td>\n",
       "      <td>1.169011</td>\n",
       "      <td>4.262568</td>\n",
       "      <td>5.262568</td>\n",
       "      <td>8.491392</td>\n",
       "      <td>109</td>\n",
       "      <td>...</td>\n",
       "      <td>127</td>\n",
       "      <td>0.615385</td>\n",
       "      <td>-0.148219</td>\n",
       "      <td>1</td>\n",
       "      <td>0.994845</td>\n",
       "      <td>1</td>\n",
       "      <td>0.991529</td>\n",
       "      <td>0_127</td>\n",
       "      <td>1.00</td>\n",
       "      <td>1.00</td>\n",
       "    </tr>\n",
       "  </tbody>\n",
       "</table>\n",
       "<p>999999 rows × 25 columns</p>\n",
       "</div>"
      ],
      "text/plain": [
       "        Unnamed: 0  R   E_noise  E_minority  E_majority   M_noise  M_minority  \\\n",
       "0                1  0  1.389398    1.389398    2.389398 -1.253731   -0.864334   \n",
       "1              112  0  0.829848    0.829848    1.829848  0.458639    0.288488   \n",
       "2              266  0 -0.343388   -0.343388    0.656612  0.427825   -0.915563   \n",
       "3              564  0 -0.083986   -0.083986    0.916014  0.888432   -0.195554   \n",
       "4              592  0  1.340353    1.340353    2.340353  1.676530    2.016883   \n",
       "...            ... ..       ...         ...         ...       ...         ...   \n",
       "999994      881557  1  3.124335    3.124335    4.124335  1.126062    3.250397   \n",
       "999995      896888  1  3.497749    3.497749    4.497749  1.051885    3.549634   \n",
       "999996      957949  1  3.727728    3.727728    4.727728  1.444929    4.172658   \n",
       "999997      949400  0  3.357725    3.357725    4.357725  1.626278    3.984003   \n",
       "999998      999534  0  4.093557    4.093557    5.093557  1.169011    4.262568   \n",
       "\n",
       "        M_majority    T_noise  T_minority  ...    T    Y_unif  Y_reject_noise  \\\n",
       "0         0.135666   3.772786          55  ...   64  0.555882        0.070407   \n",
       "1         1.288488  -0.897407          54  ...   64  0.142150       -0.301607   \n",
       "2         0.084437  10.606118          56  ...   64  0.826323       -0.054387   \n",
       "3         0.804446   5.890213          55  ...   64  0.650710       -0.290176   \n",
       "4         3.016883 -14.122165          52  ...   64  0.617825       -0.602749   \n",
       "...            ...        ...         ...  ...  ...       ...             ...   \n",
       "999994    4.250397  24.908820         111  ...  111  0.060380       -0.397774   \n",
       "999995    4.549634  15.645740         106  ...  106  0.048438       -0.079427   \n",
       "999996    5.172658   8.472932         106  ...  106  0.471938       -0.536495   \n",
       "999997    4.984003  11.747240         104  ...  121  0.206499       -0.427715   \n",
       "999998    5.262568   8.491392         109  ...  127  0.615385       -0.148219   \n",
       "\n",
       "        Y     Y_raw  Y_reject  Y_reject_raw    key  stratum_utility  \\\n",
       "0       0  0.533865         0      0.409911   0_64             0.67   \n",
       "1       1  0.783891         1      0.687506   0_64             0.67   \n",
       "2       0  0.521097         0      0.397579   0_64             0.67   \n",
       "3       1  0.690925         0      0.575529   0_64             0.67   \n",
       "4       1  0.953331         1      0.925317   0_64             0.67   \n",
       "...    ..       ...       ...           ...    ...              ...   \n",
       "999994  1  0.962687         1      0.939936  1_111             1.25   \n",
       "999995  1  0.972067         1      0.954767  1_106             1.17   \n",
       "999996  1  0.984823         1      0.975221  1_106             1.17   \n",
       "999997  1  0.993200         1      0.988838  0_121             1.00   \n",
       "999998  1  0.994845         1      0.991529  0_127             1.00   \n",
       "\n",
       "        ml_outcomes  \n",
       "0              0.67  \n",
       "1              0.67  \n",
       "2              0.67  \n",
       "3              0.67  \n",
       "4              0.67  \n",
       "...             ...  \n",
       "999994         1.25  \n",
       "999995         1.17  \n",
       "999996         1.17  \n",
       "999997         1.00  \n",
       "999998         1.00  \n",
       "\n",
       "[999999 rows x 25 columns]"
      ]
     },
     "execution_count": 3,
     "metadata": {},
     "output_type": "execute_result"
    }
   ],
   "source": [
    "df"
   ]
  },
  {
   "cell_type": "code",
   "execution_count": 4,
   "metadata": {
    "execution": {
     "iopub.execute_input": "2022-12-12T05:23:00.176792Z",
     "iopub.status.busy": "2022-12-12T05:23:00.176179Z",
     "iopub.status.idle": "2022-12-12T05:23:00.177752Z",
     "shell.execute_reply": "2022-12-12T05:23:00.178046Z"
    }
   },
   "outputs": [],
   "source": [
    "FRAC_ADMIT = 0.5#df[['A']].sum()/len(df)\n"
   ]
  },
  {
   "cell_type": "code",
   "execution_count": 5,
   "metadata": {
    "execution": {
     "iopub.execute_input": "2022-12-12T05:23:00.181232Z",
     "iopub.status.busy": "2022-12-12T05:23:00.180816Z",
     "iopub.status.idle": "2022-12-12T05:23:00.230281Z",
     "shell.execute_reply": "2022-12-12T05:23:00.230535Z"
    }
   },
   "outputs": [],
   "source": [
    "###\n",
    "## Get total utility from admitting people in a stratum \n",
    "###\n",
    "\n",
    "df_ = df[['R','T','ml_outcomes']].groupby(['R','T']).sum().reset_index()"
   ]
  },
  {
   "cell_type": "code",
   "execution_count": 6,
   "metadata": {
    "execution": {
     "iopub.execute_input": "2022-12-12T05:23:00.237866Z",
     "iopub.status.busy": "2022-12-12T05:23:00.232072Z",
     "iopub.status.idle": "2022-12-12T05:23:00.267807Z",
     "shell.execute_reply": "2022-12-12T05:23:00.268106Z"
    }
   },
   "outputs": [],
   "source": [
    "###\n",
    "## Get number of people in each stratum\n",
    "###\n",
    "\n",
    "df_count = df[['R','T','ml_outcomes']].groupby(['R','T']).count().reset_index()\n",
    "df_count.columns = ['R','T','Count']\n",
    "df_count['N'] = df_count['Count']"
   ]
  },
  {
   "cell_type": "code",
   "execution_count": 7,
   "metadata": {
    "execution": {
     "iopub.execute_input": "2022-12-12T05:23:00.274169Z",
     "iopub.status.busy": "2022-12-12T05:23:00.273750Z",
     "iopub.status.idle": "2022-12-12T05:23:00.275201Z",
     "shell.execute_reply": "2022-12-12T05:23:00.275464Z"
    }
   },
   "outputs": [],
   "source": [
    "###\n",
    "## Merge summary tables to get one table with Race, Test Score, SUM(Utility), COUNT(applicants) per stratum\n",
    "###\n",
    "\n",
    "dff = df_.merge(df_count[['N']],left_index=True,right_index=True).sort_values(by='ml_outcomes',ascending=False).reset_index().sort_values(by='index').reset_index()"
   ]
  },
  {
   "cell_type": "code",
   "execution_count": 8,
   "metadata": {
    "execution": {
     "iopub.execute_input": "2022-12-12T05:23:00.282561Z",
     "iopub.status.busy": "2022-12-12T05:23:00.282040Z",
     "iopub.status.idle": "2022-12-12T05:23:00.283940Z",
     "shell.execute_reply": "2022-12-12T05:23:00.284387Z"
    }
   },
   "outputs": [
    {
     "data": {
      "text/html": [
       "<div>\n",
       "<style scoped>\n",
       "    .dataframe tbody tr th:only-of-type {\n",
       "        vertical-align: middle;\n",
       "    }\n",
       "\n",
       "    .dataframe tbody tr th {\n",
       "        vertical-align: top;\n",
       "    }\n",
       "\n",
       "    .dataframe thead th {\n",
       "        text-align: right;\n",
       "    }\n",
       "</style>\n",
       "<table border=\"1\" class=\"dataframe\">\n",
       "  <thead>\n",
       "    <tr style=\"text-align: right;\">\n",
       "      <th></th>\n",
       "      <th>level_0</th>\n",
       "      <th>index</th>\n",
       "      <th>R</th>\n",
       "      <th>T</th>\n",
       "      <th>ml_outcomes</th>\n",
       "      <th>N</th>\n",
       "    </tr>\n",
       "  </thead>\n",
       "  <tbody>\n",
       "    <tr>\n",
       "      <th>2</th>\n",
       "      <td>221</td>\n",
       "      <td>2</td>\n",
       "      <td>0</td>\n",
       "      <td>11</td>\n",
       "      <td>0.00</td>\n",
       "      <td>4</td>\n",
       "    </tr>\n",
       "    <tr>\n",
       "      <th>1</th>\n",
       "      <td>219</td>\n",
       "      <td>1</td>\n",
       "      <td>0</td>\n",
       "      <td>10</td>\n",
       "      <td>0.08</td>\n",
       "      <td>1</td>\n",
       "    </tr>\n",
       "    <tr>\n",
       "      <th>3</th>\n",
       "      <td>220</td>\n",
       "      <td>3</td>\n",
       "      <td>0</td>\n",
       "      <td>12</td>\n",
       "      <td>0.08</td>\n",
       "      <td>4</td>\n",
       "    </tr>\n",
       "    <tr>\n",
       "      <th>0</th>\n",
       "      <td>218</td>\n",
       "      <td>0</td>\n",
       "      <td>0</td>\n",
       "      <td>9</td>\n",
       "      <td>0.10</td>\n",
       "      <td>1</td>\n",
       "    </tr>\n",
       "    <tr>\n",
       "      <th>120</th>\n",
       "      <td>217</td>\n",
       "      <td>120</td>\n",
       "      <td>1</td>\n",
       "      <td>8</td>\n",
       "      <td>0.32</td>\n",
       "      <td>1</td>\n",
       "    </tr>\n",
       "    <tr>\n",
       "      <th>...</th>\n",
       "      <td>...</td>\n",
       "      <td>...</td>\n",
       "      <td>...</td>\n",
       "      <td>...</td>\n",
       "      <td>...</td>\n",
       "      <td>...</td>\n",
       "    </tr>\n",
       "    <tr>\n",
       "      <th>51</th>\n",
       "      <td>4</td>\n",
       "      <td>51</td>\n",
       "      <td>0</td>\n",
       "      <td>60</td>\n",
       "      <td>10970.40</td>\n",
       "      <td>18284</td>\n",
       "    </tr>\n",
       "    <tr>\n",
       "      <th>47</th>\n",
       "      <td>3</td>\n",
       "      <td>47</td>\n",
       "      <td>0</td>\n",
       "      <td>56</td>\n",
       "      <td>10985.52</td>\n",
       "      <td>21126</td>\n",
       "    </tr>\n",
       "    <tr>\n",
       "      <th>48</th>\n",
       "      <td>2</td>\n",
       "      <td>48</td>\n",
       "      <td>0</td>\n",
       "      <td>57</td>\n",
       "      <td>11030.04</td>\n",
       "      <td>20426</td>\n",
       "    </tr>\n",
       "    <tr>\n",
       "      <th>50</th>\n",
       "      <td>1</td>\n",
       "      <td>50</td>\n",
       "      <td>0</td>\n",
       "      <td>59</td>\n",
       "      <td>11169.64</td>\n",
       "      <td>19258</td>\n",
       "    </tr>\n",
       "    <tr>\n",
       "      <th>49</th>\n",
       "      <td>0</td>\n",
       "      <td>49</td>\n",
       "      <td>0</td>\n",
       "      <td>58</td>\n",
       "      <td>11233.60</td>\n",
       "      <td>20060</td>\n",
       "    </tr>\n",
       "  </tbody>\n",
       "</table>\n",
       "<p>222 rows × 6 columns</p>\n",
       "</div>"
      ],
      "text/plain": [
       "     level_0  index  R   T  ml_outcomes      N\n",
       "2        221      2  0  11         0.00      4\n",
       "1        219      1  0  10         0.08      1\n",
       "3        220      3  0  12         0.08      4\n",
       "0        218      0  0   9         0.10      1\n",
       "120      217    120  1   8         0.32      1\n",
       "..       ...    ... ..  ..          ...    ...\n",
       "51         4     51  0  60     10970.40  18284\n",
       "47         3     47  0  56     10985.52  21126\n",
       "48         2     48  0  57     11030.04  20426\n",
       "50         1     50  0  59     11169.64  19258\n",
       "49         0     49  0  58     11233.60  20060\n",
       "\n",
       "[222 rows x 6 columns]"
      ]
     },
     "execution_count": 8,
     "metadata": {},
     "output_type": "execute_result"
    }
   ],
   "source": [
    "# final info table\n",
    "dff.sort_values(by='ml_outcomes')"
   ]
  },
  {
   "cell_type": "code",
   "execution_count": null,
   "metadata": {},
   "outputs": [],
   "source": []
  },
  {
   "cell_type": "markdown",
   "metadata": {},
   "source": [
    "### Setup optimization problem "
   ]
  },
  {
   "cell_type": "code",
   "execution_count": 9,
   "metadata": {
    "execution": {
     "iopub.execute_input": "2022-12-12T05:23:00.287377Z",
     "iopub.status.busy": "2022-12-12T05:23:00.286957Z",
     "iopub.status.idle": "2022-12-12T05:23:00.313793Z",
     "shell.execute_reply": "2022-12-12T05:23:00.314061Z"
    }
   },
   "outputs": [],
   "source": [
    "from ortools.linear_solver import pywraplp\n"
   ]
  },
  {
   "cell_type": "code",
   "execution_count": 10,
   "metadata": {
    "execution": {
     "iopub.execute_input": "2022-12-12T05:23:00.317164Z",
     "iopub.status.busy": "2022-12-12T05:23:00.316723Z",
     "iopub.status.idle": "2022-12-12T05:23:00.318227Z",
     "shell.execute_reply": "2022-12-12T05:23:00.318590Z"
    }
   },
   "outputs": [],
   "source": [
    "solver = pywraplp.Solver.CreateSolver('GLOP')\n"
   ]
  },
  {
   "cell_type": "code",
   "execution_count": 11,
   "metadata": {
    "execution": {
     "iopub.execute_input": "2022-12-12T05:23:00.325540Z",
     "iopub.status.busy": "2022-12-12T05:23:00.325075Z",
     "iopub.status.idle": "2022-12-12T05:23:00.326889Z",
     "shell.execute_reply": "2022-12-12T05:23:00.327160Z"
    }
   },
   "outputs": [
    {
     "data": {
      "text/html": [
       "<div>\n",
       "<style scoped>\n",
       "    .dataframe tbody tr th:only-of-type {\n",
       "        vertical-align: middle;\n",
       "    }\n",
       "\n",
       "    .dataframe tbody tr th {\n",
       "        vertical-align: top;\n",
       "    }\n",
       "\n",
       "    .dataframe thead th {\n",
       "        text-align: right;\n",
       "    }\n",
       "</style>\n",
       "<table border=\"1\" class=\"dataframe\">\n",
       "  <thead>\n",
       "    <tr style=\"text-align: right;\">\n",
       "      <th></th>\n",
       "      <th>level_0</th>\n",
       "      <th>index</th>\n",
       "      <th>R</th>\n",
       "      <th>T</th>\n",
       "      <th>ml_outcomes</th>\n",
       "      <th>N</th>\n",
       "    </tr>\n",
       "  </thead>\n",
       "  <tbody>\n",
       "    <tr>\n",
       "      <th>0</th>\n",
       "      <td>218</td>\n",
       "      <td>0</td>\n",
       "      <td>0</td>\n",
       "      <td>9</td>\n",
       "      <td>0.10</td>\n",
       "      <td>1</td>\n",
       "    </tr>\n",
       "    <tr>\n",
       "      <th>1</th>\n",
       "      <td>219</td>\n",
       "      <td>1</td>\n",
       "      <td>0</td>\n",
       "      <td>10</td>\n",
       "      <td>0.08</td>\n",
       "      <td>1</td>\n",
       "    </tr>\n",
       "    <tr>\n",
       "      <th>2</th>\n",
       "      <td>221</td>\n",
       "      <td>2</td>\n",
       "      <td>0</td>\n",
       "      <td>11</td>\n",
       "      <td>0.00</td>\n",
       "      <td>4</td>\n",
       "    </tr>\n",
       "    <tr>\n",
       "      <th>3</th>\n",
       "      <td>220</td>\n",
       "      <td>3</td>\n",
       "      <td>0</td>\n",
       "      <td>12</td>\n",
       "      <td>0.08</td>\n",
       "      <td>4</td>\n",
       "    </tr>\n",
       "    <tr>\n",
       "      <th>4</th>\n",
       "      <td>211</td>\n",
       "      <td>4</td>\n",
       "      <td>0</td>\n",
       "      <td>13</td>\n",
       "      <td>1.00</td>\n",
       "      <td>10</td>\n",
       "    </tr>\n",
       "    <tr>\n",
       "      <th>...</th>\n",
       "      <td>...</td>\n",
       "      <td>...</td>\n",
       "      <td>...</td>\n",
       "      <td>...</td>\n",
       "      <td>...</td>\n",
       "      <td>...</td>\n",
       "    </tr>\n",
       "    <tr>\n",
       "      <th>217</th>\n",
       "      <td>203</td>\n",
       "      <td>217</td>\n",
       "      <td>1</td>\n",
       "      <td>107</td>\n",
       "      <td>1.25</td>\n",
       "      <td>1</td>\n",
       "    </tr>\n",
       "    <tr>\n",
       "      <th>218</th>\n",
       "      <td>204</td>\n",
       "      <td>218</td>\n",
       "      <td>1</td>\n",
       "      <td>109</td>\n",
       "      <td>1.25</td>\n",
       "      <td>1</td>\n",
       "    </tr>\n",
       "    <tr>\n",
       "      <th>219</th>\n",
       "      <td>205</td>\n",
       "      <td>219</td>\n",
       "      <td>1</td>\n",
       "      <td>111</td>\n",
       "      <td>1.25</td>\n",
       "      <td>1</td>\n",
       "    </tr>\n",
       "    <tr>\n",
       "      <th>220</th>\n",
       "      <td>212</td>\n",
       "      <td>220</td>\n",
       "      <td>1</td>\n",
       "      <td>113</td>\n",
       "      <td>0.92</td>\n",
       "      <td>1</td>\n",
       "    </tr>\n",
       "    <tr>\n",
       "      <th>221</th>\n",
       "      <td>206</td>\n",
       "      <td>221</td>\n",
       "      <td>1</td>\n",
       "      <td>116</td>\n",
       "      <td>1.25</td>\n",
       "      <td>1</td>\n",
       "    </tr>\n",
       "  </tbody>\n",
       "</table>\n",
       "<p>222 rows × 6 columns</p>\n",
       "</div>"
      ],
      "text/plain": [
       "     level_0  index  R    T  ml_outcomes   N\n",
       "0        218      0  0    9         0.10   1\n",
       "1        219      1  0   10         0.08   1\n",
       "2        221      2  0   11         0.00   4\n",
       "3        220      3  0   12         0.08   4\n",
       "4        211      4  0   13         1.00  10\n",
       "..       ...    ... ..  ...          ...  ..\n",
       "217      203    217  1  107         1.25   1\n",
       "218      204    218  1  109         1.25   1\n",
       "219      205    219  1  111         1.25   1\n",
       "220      212    220  1  113         0.92   1\n",
       "221      206    221  1  116         1.25   1\n",
       "\n",
       "[222 rows x 6 columns]"
      ]
     },
     "execution_count": 11,
     "metadata": {},
     "output_type": "execute_result"
    }
   ],
   "source": [
    "dff"
   ]
  },
  {
   "cell_type": "code",
   "execution_count": 12,
   "metadata": {
    "execution": {
     "iopub.execute_input": "2022-12-12T05:23:00.330904Z",
     "iopub.status.busy": "2022-12-12T05:23:00.328967Z",
     "iopub.status.idle": "2022-12-12T05:23:00.339403Z",
     "shell.execute_reply": "2022-12-12T05:23:00.339662Z"
    }
   },
   "outputs": [],
   "source": [
    "applicant_stratum = []\n",
    "vars_cache = {}\n",
    "\n",
    "# Objective: Maximize the expected utility of the admitted students\n",
    "objective = solver.Objective()\n",
    "\n",
    "# For each stratum\n",
    "for ix, row in dff.iterrows():\n",
    "    # probability of admission\n",
    "    numvar = solver.NumVar(0.0, 1.0, str(ix))\n",
    "    \n",
    "    # store variable by index, and also by stratum R, T\n",
    "    applicant_stratum.append(numvar)\n",
    "    vars_cache[(row['R'],row['T'])] = numvar\n",
    "    \n",
    "    # Benefit of admitting people is total utility in that stratum\n",
    "    objective.SetCoefficient(applicant_stratum[ix], float(row['ml_outcomes']))\n",
    "objective.SetMaximization()\n"
   ]
  },
  {
   "cell_type": "code",
   "execution_count": 13,
   "metadata": {
    "execution": {
     "iopub.execute_input": "2022-12-12T05:23:00.342179Z",
     "iopub.status.busy": "2022-12-12T05:23:00.341066Z",
     "iopub.status.idle": "2022-12-12T05:23:00.343989Z",
     "shell.execute_reply": "2022-12-12T05:23:00.344319Z"
    }
   },
   "outputs": [
    {
     "data": {
      "text/plain": [
       "0"
      ]
     },
     "execution_count": 13,
     "metadata": {},
     "output_type": "execute_result"
    }
   ],
   "source": [
    "# Currently we have no constraints \n",
    "solver.NumConstraints()"
   ]
  },
  {
   "cell_type": "code",
   "execution_count": 14,
   "metadata": {
    "execution": {
     "iopub.execute_input": "2022-12-12T05:23:00.352463Z",
     "iopub.status.busy": "2022-12-12T05:23:00.351925Z",
     "iopub.status.idle": "2022-12-12T05:23:00.353913Z",
     "shell.execute_reply": "2022-12-12T05:23:00.354368Z"
    },
    "scrolled": true
   },
   "outputs": [
    {
     "name": "stdout",
     "output_type": "stream",
     "text": [
      "499999\n"
     ]
    }
   ],
   "source": [
    "# Constraint: At most K applicants\n",
    "K = int(len(df)*FRAC_ADMIT)\n",
    "print(K)\n",
    "admit_quota = solver.Constraint(0, K)\n",
    "\n",
    "# Total applicants cannot exceed K \n",
    "for ix, row in dff.iterrows():\n",
    "    admit_quota.SetCoefficient(applicant_stratum[ix], float(row['N']))"
   ]
  },
  {
   "cell_type": "code",
   "execution_count": 15,
   "metadata": {
    "execution": {
     "iopub.execute_input": "2022-12-12T05:23:00.357313Z",
     "iopub.status.busy": "2022-12-12T05:23:00.356882Z",
     "iopub.status.idle": "2022-12-12T05:23:00.358460Z",
     "shell.execute_reply": "2022-12-12T05:23:00.358718Z"
    }
   },
   "outputs": [
    {
     "data": {
      "text/plain": [
       "1"
      ]
     },
     "execution_count": 15,
     "metadata": {},
     "output_type": "execute_result"
    }
   ],
   "source": [
    "# Now we have one constraint\n",
    "solver.NumConstraints()"
   ]
  },
  {
   "cell_type": "code",
   "execution_count": null,
   "metadata": {},
   "outputs": [],
   "source": []
  },
  {
   "cell_type": "markdown",
   "metadata": {},
   "source": [
    "## Add CF Fair constraints"
   ]
  },
  {
   "cell_type": "code",
   "execution_count": 16,
   "metadata": {
    "execution": {
     "iopub.execute_input": "2022-12-12T05:23:00.361752Z",
     "iopub.status.busy": "2022-12-12T05:23:00.361376Z",
     "iopub.status.idle": "2022-12-12T05:23:00.362789Z",
     "shell.execute_reply": "2022-12-12T05:23:00.363090Z"
    }
   },
   "outputs": [],
   "source": [
    "from collections import Counter\n",
    "\n",
    "def convertListToProb(raw_list):\n",
    "    counts = dict(Counter(raw_list))\n",
    "    probs = {}\n",
    "    for test_score in counts:\n",
    "        probs[test_score]  = counts[test_score]/float(len(raw_list))\n",
    "    return [(probs[t], t) for t in probs]"
   ]
  },
  {
   "cell_type": "code",
   "execution_count": 17,
   "metadata": {
    "execution": {
     "iopub.execute_input": "2022-12-12T05:23:00.365882Z",
     "iopub.status.busy": "2022-12-12T05:23:00.365471Z",
     "iopub.status.idle": "2022-12-12T05:23:00.447630Z",
     "shell.execute_reply": "2022-12-12T05:23:00.447894Z"
    }
   },
   "outputs": [],
   "source": [
    "T_minoritys_list = df[df['R']==0][['T','T_minority_star']].groupby('T')['T_minority_star'].apply(list).reset_index(name='T_minoritys')\n"
   ]
  },
  {
   "cell_type": "code",
   "execution_count": 18,
   "metadata": {
    "execution": {
     "iopub.execute_input": "2022-12-12T05:23:00.456342Z",
     "iopub.status.busy": "2022-12-12T05:23:00.455946Z",
     "iopub.status.idle": "2022-12-12T05:23:00.479782Z",
     "shell.execute_reply": "2022-12-12T05:23:00.480044Z"
    }
   },
   "outputs": [],
   "source": [
    "T_minoritys_list['probs'] = T_minoritys_list['T_minoritys'].apply(convertListToProb)\n"
   ]
  },
  {
   "cell_type": "code",
   "execution_count": 19,
   "metadata": {
    "execution": {
     "iopub.execute_input": "2022-12-12T05:23:00.481795Z",
     "iopub.status.busy": "2022-12-12T05:23:00.481430Z",
     "iopub.status.idle": "2022-12-12T05:23:00.492600Z",
     "shell.execute_reply": "2022-12-12T05:23:00.493057Z"
    }
   },
   "outputs": [
    {
     "data": {
      "text/html": [
       "<div>\n",
       "<style scoped>\n",
       "    .dataframe tbody tr th:only-of-type {\n",
       "        vertical-align: middle;\n",
       "    }\n",
       "\n",
       "    .dataframe tbody tr th {\n",
       "        vertical-align: top;\n",
       "    }\n",
       "\n",
       "    .dataframe thead th {\n",
       "        text-align: right;\n",
       "    }\n",
       "</style>\n",
       "<table border=\"1\" class=\"dataframe\">\n",
       "  <thead>\n",
       "    <tr style=\"text-align: right;\">\n",
       "      <th></th>\n",
       "      <th>T</th>\n",
       "      <th>T_minoritys</th>\n",
       "      <th>probs</th>\n",
       "    </tr>\n",
       "  </thead>\n",
       "  <tbody>\n",
       "    <tr>\n",
       "      <th>0</th>\n",
       "      <td>9</td>\n",
       "      <td>[10]</td>\n",
       "      <td>[(1.0, 10)]</td>\n",
       "    </tr>\n",
       "    <tr>\n",
       "      <th>1</th>\n",
       "      <td>10</td>\n",
       "      <td>[10]</td>\n",
       "      <td>[(1.0, 10)]</td>\n",
       "    </tr>\n",
       "    <tr>\n",
       "      <th>2</th>\n",
       "      <td>11</td>\n",
       "      <td>[12, 12, 9, 9]</td>\n",
       "      <td>[(0.5, 12), (0.5, 9)]</td>\n",
       "    </tr>\n",
       "    <tr>\n",
       "      <th>3</th>\n",
       "      <td>12</td>\n",
       "      <td>[13, 13, 12, 13]</td>\n",
       "      <td>[(0.75, 13), (0.25, 12)]</td>\n",
       "    </tr>\n",
       "    <tr>\n",
       "      <th>4</th>\n",
       "      <td>13</td>\n",
       "      <td>[11, 13, 11, 13, 15, 13, 13, 13, 12, 11]</td>\n",
       "      <td>[(0.3, 11), (0.5, 13), (0.1, 15), (0.1, 12)]</td>\n",
       "    </tr>\n",
       "    <tr>\n",
       "      <th>...</th>\n",
       "      <td>...</td>\n",
       "      <td>...</td>\n",
       "      <td>...</td>\n",
       "    </tr>\n",
       "    <tr>\n",
       "      <th>114</th>\n",
       "      <td>123</td>\n",
       "      <td>[113, 114]</td>\n",
       "      <td>[(0.5, 113), (0.5, 114)]</td>\n",
       "    </tr>\n",
       "    <tr>\n",
       "      <th>115</th>\n",
       "      <td>124</td>\n",
       "      <td>[115]</td>\n",
       "      <td>[(1.0, 115)]</td>\n",
       "    </tr>\n",
       "    <tr>\n",
       "      <th>116</th>\n",
       "      <td>125</td>\n",
       "      <td>[116, 115]</td>\n",
       "      <td>[(0.5, 116), (0.5, 115)]</td>\n",
       "    </tr>\n",
       "    <tr>\n",
       "      <th>117</th>\n",
       "      <td>127</td>\n",
       "      <td>[117]</td>\n",
       "      <td>[(1.0, 117)]</td>\n",
       "    </tr>\n",
       "    <tr>\n",
       "      <th>118</th>\n",
       "      <td>128</td>\n",
       "      <td>[119, 118]</td>\n",
       "      <td>[(0.5, 119), (0.5, 118)]</td>\n",
       "    </tr>\n",
       "  </tbody>\n",
       "</table>\n",
       "<p>119 rows × 3 columns</p>\n",
       "</div>"
      ],
      "text/plain": [
       "       T                               T_minoritys  \\\n",
       "0      9                                      [10]   \n",
       "1     10                                      [10]   \n",
       "2     11                            [12, 12, 9, 9]   \n",
       "3     12                          [13, 13, 12, 13]   \n",
       "4     13  [11, 13, 11, 13, 15, 13, 13, 13, 12, 11]   \n",
       "..   ...                                       ...   \n",
       "114  123                                [113, 114]   \n",
       "115  124                                     [115]   \n",
       "116  125                                [116, 115]   \n",
       "117  127                                     [117]   \n",
       "118  128                                [119, 118]   \n",
       "\n",
       "                                            probs  \n",
       "0                                     [(1.0, 10)]  \n",
       "1                                     [(1.0, 10)]  \n",
       "2                           [(0.5, 12), (0.5, 9)]  \n",
       "3                        [(0.75, 13), (0.25, 12)]  \n",
       "4    [(0.3, 11), (0.5, 13), (0.1, 15), (0.1, 12)]  \n",
       "..                                            ...  \n",
       "114                      [(0.5, 113), (0.5, 114)]  \n",
       "115                                  [(1.0, 115)]  \n",
       "116                      [(0.5, 116), (0.5, 115)]  \n",
       "117                                  [(1.0, 117)]  \n",
       "118                      [(0.5, 119), (0.5, 118)]  \n",
       "\n",
       "[119 rows x 3 columns]"
      ]
     },
     "execution_count": 19,
     "metadata": {},
     "output_type": "execute_result"
    }
   ],
   "source": [
    "T_minoritys_list"
   ]
  },
  {
   "cell_type": "code",
   "execution_count": 20,
   "metadata": {
    "execution": {
     "iopub.execute_input": "2022-12-12T05:23:00.501985Z",
     "iopub.status.busy": "2022-12-12T05:23:00.501463Z",
     "iopub.status.idle": "2022-12-12T05:23:00.502920Z",
     "shell.execute_reply": "2022-12-12T05:23:00.503339Z"
    }
   },
   "outputs": [],
   "source": [
    "didntexist = 0\n",
    "exists = 0\n",
    "for ix, row in T_minoritys_list.iterrows():\n",
    "    cf_fair_stratum = solver.Constraint(0.0, 0.0)\n",
    "\n",
    "    majority_T = row['T']\n",
    "    minoritys_Ts = row['probs']\n",
    "    \n",
    "    cf_fair_stratum.SetCoefficient(vars_cache[(0.0, majority_T)], -1.0)\n",
    "    for prob in minoritys_Ts:\n",
    "        if (1.0, prob[1]) not in vars_cache:\n",
    "            vars_cache[(1.0, prob[1])] = solver.NumVar(0.0, 1.0, str((1.0, prob[1])))\n",
    "            didntexist+=1\n",
    "        else:\n",
    "            exists+=1\n",
    "        cf_fair_stratum.SetCoefficient(vars_cache[(1.0, prob[1])], prob[0])\n",
    "    "
   ]
  },
  {
   "cell_type": "code",
   "execution_count": 21,
   "metadata": {
    "execution": {
     "iopub.execute_input": "2022-12-12T05:23:00.506351Z",
     "iopub.status.busy": "2022-12-12T05:23:00.505952Z",
     "iopub.status.idle": "2022-12-12T05:23:00.507725Z",
     "shell.execute_reply": "2022-12-12T05:23:00.508041Z"
    }
   },
   "outputs": [
    {
     "data": {
      "text/plain": [
       "(10, 731)"
      ]
     },
     "execution_count": 21,
     "metadata": {},
     "output_type": "execute_result"
    }
   ],
   "source": [
    "didntexist,exists"
   ]
  },
  {
   "cell_type": "code",
   "execution_count": 22,
   "metadata": {
    "execution": {
     "iopub.execute_input": "2022-12-12T05:23:00.510811Z",
     "iopub.status.busy": "2022-12-12T05:23:00.510418Z",
     "iopub.status.idle": "2022-12-12T05:23:00.553357Z",
     "shell.execute_reply": "2022-12-12T05:23:00.553836Z"
    }
   },
   "outputs": [],
   "source": [
    "T_majoritys_list = df[df['R']==1][['T','T_majority_star']].groupby('T')['T_majority_star'].apply(list).reset_index(name='T_majoritys')"
   ]
  },
  {
   "cell_type": "code",
   "execution_count": 23,
   "metadata": {
    "execution": {
     "iopub.execute_input": "2022-12-12T05:23:00.570346Z",
     "iopub.status.busy": "2022-12-12T05:23:00.569919Z",
     "iopub.status.idle": "2022-12-12T05:23:00.571118Z",
     "shell.execute_reply": "2022-12-12T05:23:00.571423Z"
    }
   },
   "outputs": [],
   "source": [
    "T_majoritys_list['probs'] = T_majoritys_list['T_majoritys'].apply(convertListToProb)\n"
   ]
  },
  {
   "cell_type": "code",
   "execution_count": 24,
   "metadata": {
    "execution": {
     "iopub.execute_input": "2022-12-12T05:23:00.579160Z",
     "iopub.status.busy": "2022-12-12T05:23:00.578780Z",
     "iopub.status.idle": "2022-12-12T05:23:00.580122Z",
     "shell.execute_reply": "2022-12-12T05:23:00.580356Z"
    }
   },
   "outputs": [],
   "source": [
    "didntexist = 0\n",
    "exists = 0\n",
    "\n",
    "for ix, row in T_majoritys_list.iterrows():\n",
    "    cf_fair_stratum = solver.Constraint(0.0, 0.0)\n",
    "\n",
    "    minority_T = row['T']\n",
    "    majority_Ts = row['probs']\n",
    "    \n",
    "    cf_fair_stratum.SetCoefficient(vars_cache[(1.0, minority_T)], -1.0)\n",
    "    for prob in majority_Ts:\n",
    "        if (0.0, prob[1]) not in vars_cache:\n",
    "            vars_cache[(0.0, prob[1])] = solver.NumVar(0.0, 1.0, str((0.0, prob[1])))\n",
    "            didntexist+=1\n",
    "        else:\n",
    "            exists+=1\n",
    "            \n",
    "        cf_fair_stratum.SetCoefficient(vars_cache[(0.0, prob[1])], prob[0])\n",
    "    "
   ]
  },
  {
   "cell_type": "code",
   "execution_count": 25,
   "metadata": {
    "execution": {
     "iopub.execute_input": "2022-12-12T05:23:00.582757Z",
     "iopub.status.busy": "2022-12-12T05:23:00.582374Z",
     "iopub.status.idle": "2022-12-12T05:23:00.583846Z",
     "shell.execute_reply": "2022-12-12T05:23:00.584136Z"
    }
   },
   "outputs": [
    {
     "data": {
      "text/plain": [
       "<bound method Constraint.basis_status of <ortools.linear_solver.pywraplp.Constraint; proxy of <Swig Object of type 'operations_research::MPConstraint *' at 0x7f88f1799ea0> >>"
      ]
     },
     "execution_count": 25,
     "metadata": {},
     "output_type": "execute_result"
    }
   ],
   "source": [
    "cf_fair_stratum.basis_status"
   ]
  },
  {
   "cell_type": "code",
   "execution_count": 26,
   "metadata": {
    "execution": {
     "iopub.execute_input": "2022-12-12T05:23:00.586628Z",
     "iopub.status.busy": "2022-12-12T05:23:00.586194Z",
     "iopub.status.idle": "2022-12-12T05:23:00.588045Z",
     "shell.execute_reply": "2022-12-12T05:23:00.588369Z"
    }
   },
   "outputs": [
    {
     "data": {
      "text/plain": [
       "223"
      ]
     },
     "execution_count": 26,
     "metadata": {},
     "output_type": "execute_result"
    }
   ],
   "source": [
    "solver.NumConstraints()"
   ]
  },
  {
   "cell_type": "markdown",
   "metadata": {},
   "source": [
    "## Solve linear program"
   ]
  },
  {
   "cell_type": "code",
   "execution_count": 27,
   "metadata": {
    "execution": {
     "iopub.execute_input": "2022-12-12T05:23:00.591160Z",
     "iopub.status.busy": "2022-12-12T05:23:00.590776Z",
     "iopub.status.idle": "2022-12-12T05:23:00.592298Z",
     "shell.execute_reply": "2022-12-12T05:23:00.592537Z"
    }
   },
   "outputs": [
    {
     "data": {
      "text/plain": [
       "4"
      ]
     },
     "execution_count": 27,
     "metadata": {},
     "output_type": "execute_result"
    }
   ],
   "source": [
    "solver.ABNORMAL"
   ]
  },
  {
   "cell_type": "code",
   "execution_count": 28,
   "metadata": {
    "execution": {
     "iopub.execute_input": "2022-12-12T05:23:00.598732Z",
     "iopub.status.busy": "2022-12-12T05:23:00.598379Z",
     "iopub.status.idle": "2022-12-12T05:23:00.599686Z",
     "shell.execute_reply": "2022-12-12T05:23:00.599988Z"
    }
   },
   "outputs": [],
   "source": [
    "status = solver.Solve()\n"
   ]
  },
  {
   "cell_type": "code",
   "execution_count": 29,
   "metadata": {
    "execution": {
     "iopub.execute_input": "2022-12-12T05:23:00.602357Z",
     "iopub.status.busy": "2022-12-12T05:23:00.601983Z",
     "iopub.status.idle": "2022-12-12T05:23:00.603504Z",
     "shell.execute_reply": "2022-12-12T05:23:00.603803Z"
    }
   },
   "outputs": [
    {
     "data": {
      "text/plain": [
       "0"
      ]
     },
     "execution_count": 29,
     "metadata": {},
     "output_type": "execute_result"
    }
   ],
   "source": [
    "status"
   ]
  },
  {
   "cell_type": "code",
   "execution_count": 30,
   "metadata": {
    "execution": {
     "iopub.execute_input": "2022-12-12T05:23:00.606262Z",
     "iopub.status.busy": "2022-12-12T05:23:00.605903Z",
     "iopub.status.idle": "2022-12-12T05:23:00.607644Z",
     "shell.execute_reply": "2022-12-12T05:23:00.607417Z"
    }
   },
   "outputs": [
    {
     "data": {
      "text/plain": [
       "0"
      ]
     },
     "execution_count": 30,
     "metadata": {},
     "output_type": "execute_result"
    }
   ],
   "source": [
    "solver.OPTIMAL"
   ]
  },
  {
   "cell_type": "code",
   "execution_count": 31,
   "metadata": {
    "execution": {
     "iopub.execute_input": "2022-12-12T05:23:00.610931Z",
     "iopub.status.busy": "2022-12-12T05:23:00.610568Z",
     "iopub.status.idle": "2022-12-12T05:23:00.611773Z",
     "shell.execute_reply": "2022-12-12T05:23:00.612074Z"
    },
    "scrolled": true
   },
   "outputs": [],
   "source": [
    "row = []\n",
    "admit = []\n",
    "\n",
    "for i in applicant_stratum:\n",
    "    row.append(int(str(i)))\n",
    "    admit.append(i.solution_value())\n",
    "\n",
    "df_decisions = pd.DataFrame({'row_id':row,'decision':admit})"
   ]
  },
  {
   "cell_type": "code",
   "execution_count": 32,
   "metadata": {
    "execution": {
     "iopub.execute_input": "2022-12-12T05:23:00.616888Z",
     "iopub.status.busy": "2022-12-12T05:23:00.616472Z",
     "iopub.status.idle": "2022-12-12T05:23:00.618068Z",
     "shell.execute_reply": "2022-12-12T05:23:00.618304Z"
    }
   },
   "outputs": [
    {
     "data": {
      "text/html": [
       "<div>\n",
       "<style scoped>\n",
       "    .dataframe tbody tr th:only-of-type {\n",
       "        vertical-align: middle;\n",
       "    }\n",
       "\n",
       "    .dataframe tbody tr th {\n",
       "        vertical-align: top;\n",
       "    }\n",
       "\n",
       "    .dataframe thead th {\n",
       "        text-align: right;\n",
       "    }\n",
       "</style>\n",
       "<table border=\"1\" class=\"dataframe\">\n",
       "  <thead>\n",
       "    <tr style=\"text-align: right;\">\n",
       "      <th></th>\n",
       "      <th>row_id</th>\n",
       "      <th>decision</th>\n",
       "    </tr>\n",
       "  </thead>\n",
       "  <tbody>\n",
       "    <tr>\n",
       "      <th>0</th>\n",
       "      <td>0</td>\n",
       "      <td>0.499933</td>\n",
       "    </tr>\n",
       "    <tr>\n",
       "      <th>1</th>\n",
       "      <td>1</td>\n",
       "      <td>0.499933</td>\n",
       "    </tr>\n",
       "    <tr>\n",
       "      <th>2</th>\n",
       "      <td>2</td>\n",
       "      <td>0.499933</td>\n",
       "    </tr>\n",
       "    <tr>\n",
       "      <th>3</th>\n",
       "      <td>3</td>\n",
       "      <td>0.499933</td>\n",
       "    </tr>\n",
       "    <tr>\n",
       "      <th>4</th>\n",
       "      <td>4</td>\n",
       "      <td>0.499933</td>\n",
       "    </tr>\n",
       "    <tr>\n",
       "      <th>...</th>\n",
       "      <td>...</td>\n",
       "      <td>...</td>\n",
       "    </tr>\n",
       "    <tr>\n",
       "      <th>217</th>\n",
       "      <td>217</td>\n",
       "      <td>0.965715</td>\n",
       "    </tr>\n",
       "    <tr>\n",
       "      <th>218</th>\n",
       "      <td>218</td>\n",
       "      <td>1.000000</td>\n",
       "    </tr>\n",
       "    <tr>\n",
       "      <th>219</th>\n",
       "      <td>219</td>\n",
       "      <td>1.000000</td>\n",
       "    </tr>\n",
       "    <tr>\n",
       "      <th>220</th>\n",
       "      <td>220</td>\n",
       "      <td>1.000000</td>\n",
       "    </tr>\n",
       "    <tr>\n",
       "      <th>221</th>\n",
       "      <td>221</td>\n",
       "      <td>1.000000</td>\n",
       "    </tr>\n",
       "  </tbody>\n",
       "</table>\n",
       "<p>222 rows × 2 columns</p>\n",
       "</div>"
      ],
      "text/plain": [
       "     row_id  decision\n",
       "0         0  0.499933\n",
       "1         1  0.499933\n",
       "2         2  0.499933\n",
       "3         3  0.499933\n",
       "4         4  0.499933\n",
       "..      ...       ...\n",
       "217     217  0.965715\n",
       "218     218  1.000000\n",
       "219     219  1.000000\n",
       "220     220  1.000000\n",
       "221     221  1.000000\n",
       "\n",
       "[222 rows x 2 columns]"
      ]
     },
     "execution_count": 32,
     "metadata": {},
     "output_type": "execute_result"
    }
   ],
   "source": [
    "df_decisions"
   ]
  },
  {
   "cell_type": "code",
   "execution_count": 33,
   "metadata": {
    "execution": {
     "iopub.execute_input": "2022-12-12T05:23:00.626082Z",
     "iopub.status.busy": "2022-12-12T05:23:00.625640Z",
     "iopub.status.idle": "2022-12-12T05:23:00.627721Z",
     "shell.execute_reply": "2022-12-12T05:23:00.628131Z"
    }
   },
   "outputs": [
    {
     "data": {
      "text/html": [
       "<div>\n",
       "<style scoped>\n",
       "    .dataframe tbody tr th:only-of-type {\n",
       "        vertical-align: middle;\n",
       "    }\n",
       "\n",
       "    .dataframe tbody tr th {\n",
       "        vertical-align: top;\n",
       "    }\n",
       "\n",
       "    .dataframe thead th {\n",
       "        text-align: right;\n",
       "    }\n",
       "</style>\n",
       "<table border=\"1\" class=\"dataframe\">\n",
       "  <thead>\n",
       "    <tr style=\"text-align: right;\">\n",
       "      <th></th>\n",
       "      <th>level_0</th>\n",
       "      <th>index</th>\n",
       "      <th>R</th>\n",
       "      <th>T</th>\n",
       "      <th>ml_outcomes</th>\n",
       "      <th>N</th>\n",
       "      <th>row_id</th>\n",
       "      <th>decision</th>\n",
       "    </tr>\n",
       "  </thead>\n",
       "  <tbody>\n",
       "    <tr>\n",
       "      <th>49</th>\n",
       "      <td>0</td>\n",
       "      <td>49</td>\n",
       "      <td>0</td>\n",
       "      <td>58</td>\n",
       "      <td>11233.60</td>\n",
       "      <td>20060</td>\n",
       "      <td>49</td>\n",
       "      <td>0.499933</td>\n",
       "    </tr>\n",
       "    <tr>\n",
       "      <th>50</th>\n",
       "      <td>1</td>\n",
       "      <td>50</td>\n",
       "      <td>0</td>\n",
       "      <td>59</td>\n",
       "      <td>11169.64</td>\n",
       "      <td>19258</td>\n",
       "      <td>50</td>\n",
       "      <td>0.499933</td>\n",
       "    </tr>\n",
       "    <tr>\n",
       "      <th>48</th>\n",
       "      <td>2</td>\n",
       "      <td>48</td>\n",
       "      <td>0</td>\n",
       "      <td>57</td>\n",
       "      <td>11030.04</td>\n",
       "      <td>20426</td>\n",
       "      <td>48</td>\n",
       "      <td>0.499933</td>\n",
       "    </tr>\n",
       "    <tr>\n",
       "      <th>47</th>\n",
       "      <td>3</td>\n",
       "      <td>47</td>\n",
       "      <td>0</td>\n",
       "      <td>56</td>\n",
       "      <td>10985.52</td>\n",
       "      <td>21126</td>\n",
       "      <td>47</td>\n",
       "      <td>0.499933</td>\n",
       "    </tr>\n",
       "    <tr>\n",
       "      <th>51</th>\n",
       "      <td>4</td>\n",
       "      <td>51</td>\n",
       "      <td>0</td>\n",
       "      <td>60</td>\n",
       "      <td>10970.40</td>\n",
       "      <td>18284</td>\n",
       "      <td>51</td>\n",
       "      <td>0.499933</td>\n",
       "    </tr>\n",
       "    <tr>\n",
       "      <th>...</th>\n",
       "      <td>...</td>\n",
       "      <td>...</td>\n",
       "      <td>...</td>\n",
       "      <td>...</td>\n",
       "      <td>...</td>\n",
       "      <td>...</td>\n",
       "      <td>...</td>\n",
       "      <td>...</td>\n",
       "    </tr>\n",
       "    <tr>\n",
       "      <th>120</th>\n",
       "      <td>217</td>\n",
       "      <td>120</td>\n",
       "      <td>1</td>\n",
       "      <td>8</td>\n",
       "      <td>0.32</td>\n",
       "      <td>1</td>\n",
       "      <td>120</td>\n",
       "      <td>0.499933</td>\n",
       "    </tr>\n",
       "    <tr>\n",
       "      <th>0</th>\n",
       "      <td>218</td>\n",
       "      <td>0</td>\n",
       "      <td>0</td>\n",
       "      <td>9</td>\n",
       "      <td>0.10</td>\n",
       "      <td>1</td>\n",
       "      <td>0</td>\n",
       "      <td>0.499933</td>\n",
       "    </tr>\n",
       "    <tr>\n",
       "      <th>1</th>\n",
       "      <td>219</td>\n",
       "      <td>1</td>\n",
       "      <td>0</td>\n",
       "      <td>10</td>\n",
       "      <td>0.08</td>\n",
       "      <td>1</td>\n",
       "      <td>1</td>\n",
       "      <td>0.499933</td>\n",
       "    </tr>\n",
       "    <tr>\n",
       "      <th>3</th>\n",
       "      <td>220</td>\n",
       "      <td>3</td>\n",
       "      <td>0</td>\n",
       "      <td>12</td>\n",
       "      <td>0.08</td>\n",
       "      <td>4</td>\n",
       "      <td>3</td>\n",
       "      <td>0.499933</td>\n",
       "    </tr>\n",
       "    <tr>\n",
       "      <th>2</th>\n",
       "      <td>221</td>\n",
       "      <td>2</td>\n",
       "      <td>0</td>\n",
       "      <td>11</td>\n",
       "      <td>0.00</td>\n",
       "      <td>4</td>\n",
       "      <td>2</td>\n",
       "      <td>0.499933</td>\n",
       "    </tr>\n",
       "  </tbody>\n",
       "</table>\n",
       "<p>222 rows × 8 columns</p>\n",
       "</div>"
      ],
      "text/plain": [
       "     level_0  index  R   T  ml_outcomes      N  row_id  decision\n",
       "49         0     49  0  58     11233.60  20060      49  0.499933\n",
       "50         1     50  0  59     11169.64  19258      50  0.499933\n",
       "48         2     48  0  57     11030.04  20426      48  0.499933\n",
       "47         3     47  0  56     10985.52  21126      47  0.499933\n",
       "51         4     51  0  60     10970.40  18284      51  0.499933\n",
       "..       ...    ... ..  ..          ...    ...     ...       ...\n",
       "120      217    120  1   8         0.32      1     120  0.499933\n",
       "0        218      0  0   9         0.10      1       0  0.499933\n",
       "1        219      1  0  10         0.08      1       1  0.499933\n",
       "3        220      3  0  12         0.08      4       3  0.499933\n",
       "2        221      2  0  11         0.00      4       2  0.499933\n",
       "\n",
       "[222 rows x 8 columns]"
      ]
     },
     "execution_count": 33,
     "metadata": {},
     "output_type": "execute_result"
    }
   ],
   "source": [
    "dff.merge(df_decisions,left_index=True,right_index=True).sort_values(by='ml_outcomes',ascending=False)"
   ]
  },
  {
   "cell_type": "code",
   "execution_count": 34,
   "metadata": {
    "execution": {
     "iopub.execute_input": "2022-12-12T05:23:00.634549Z",
     "iopub.status.busy": "2022-12-12T05:23:00.634019Z",
     "iopub.status.idle": "2022-12-12T05:23:00.638717Z",
     "shell.execute_reply": "2022-12-12T05:23:00.639119Z"
    }
   },
   "outputs": [
    {
     "data": {
      "text/html": [
       "<div>\n",
       "<style scoped>\n",
       "    .dataframe tbody tr th:only-of-type {\n",
       "        vertical-align: middle;\n",
       "    }\n",
       "\n",
       "    .dataframe tbody tr th {\n",
       "        vertical-align: top;\n",
       "    }\n",
       "\n",
       "    .dataframe thead th {\n",
       "        text-align: right;\n",
       "    }\n",
       "</style>\n",
       "<table border=\"1\" class=\"dataframe\">\n",
       "  <thead>\n",
       "    <tr style=\"text-align: right;\">\n",
       "      <th></th>\n",
       "      <th>level_0</th>\n",
       "      <th>index</th>\n",
       "      <th>R</th>\n",
       "      <th>T</th>\n",
       "      <th>ml_outcomes</th>\n",
       "      <th>N</th>\n",
       "      <th>row_id</th>\n",
       "      <th>decision</th>\n",
       "    </tr>\n",
       "  </thead>\n",
       "  <tbody>\n",
       "    <tr>\n",
       "      <th>49</th>\n",
       "      <td>0</td>\n",
       "      <td>49</td>\n",
       "      <td>0</td>\n",
       "      <td>58</td>\n",
       "      <td>11233.60</td>\n",
       "      <td>20060</td>\n",
       "      <td>49</td>\n",
       "      <td>0.499933</td>\n",
       "    </tr>\n",
       "    <tr>\n",
       "      <th>50</th>\n",
       "      <td>1</td>\n",
       "      <td>50</td>\n",
       "      <td>0</td>\n",
       "      <td>59</td>\n",
       "      <td>11169.64</td>\n",
       "      <td>19258</td>\n",
       "      <td>50</td>\n",
       "      <td>0.499933</td>\n",
       "    </tr>\n",
       "    <tr>\n",
       "      <th>48</th>\n",
       "      <td>2</td>\n",
       "      <td>48</td>\n",
       "      <td>0</td>\n",
       "      <td>57</td>\n",
       "      <td>11030.04</td>\n",
       "      <td>20426</td>\n",
       "      <td>48</td>\n",
       "      <td>0.499933</td>\n",
       "    </tr>\n",
       "    <tr>\n",
       "      <th>47</th>\n",
       "      <td>3</td>\n",
       "      <td>47</td>\n",
       "      <td>0</td>\n",
       "      <td>56</td>\n",
       "      <td>10985.52</td>\n",
       "      <td>21126</td>\n",
       "      <td>47</td>\n",
       "      <td>0.499933</td>\n",
       "    </tr>\n",
       "    <tr>\n",
       "      <th>51</th>\n",
       "      <td>4</td>\n",
       "      <td>51</td>\n",
       "      <td>0</td>\n",
       "      <td>60</td>\n",
       "      <td>10970.40</td>\n",
       "      <td>18284</td>\n",
       "      <td>51</td>\n",
       "      <td>0.499933</td>\n",
       "    </tr>\n",
       "    <tr>\n",
       "      <th>...</th>\n",
       "      <td>...</td>\n",
       "      <td>...</td>\n",
       "      <td>...</td>\n",
       "      <td>...</td>\n",
       "      <td>...</td>\n",
       "      <td>...</td>\n",
       "      <td>...</td>\n",
       "      <td>...</td>\n",
       "    </tr>\n",
       "    <tr>\n",
       "      <th>120</th>\n",
       "      <td>217</td>\n",
       "      <td>120</td>\n",
       "      <td>1</td>\n",
       "      <td>8</td>\n",
       "      <td>0.32</td>\n",
       "      <td>1</td>\n",
       "      <td>120</td>\n",
       "      <td>0.499933</td>\n",
       "    </tr>\n",
       "    <tr>\n",
       "      <th>0</th>\n",
       "      <td>218</td>\n",
       "      <td>0</td>\n",
       "      <td>0</td>\n",
       "      <td>9</td>\n",
       "      <td>0.10</td>\n",
       "      <td>1</td>\n",
       "      <td>0</td>\n",
       "      <td>0.499933</td>\n",
       "    </tr>\n",
       "    <tr>\n",
       "      <th>1</th>\n",
       "      <td>219</td>\n",
       "      <td>1</td>\n",
       "      <td>0</td>\n",
       "      <td>10</td>\n",
       "      <td>0.08</td>\n",
       "      <td>1</td>\n",
       "      <td>1</td>\n",
       "      <td>0.499933</td>\n",
       "    </tr>\n",
       "    <tr>\n",
       "      <th>3</th>\n",
       "      <td>220</td>\n",
       "      <td>3</td>\n",
       "      <td>0</td>\n",
       "      <td>12</td>\n",
       "      <td>0.08</td>\n",
       "      <td>4</td>\n",
       "      <td>3</td>\n",
       "      <td>0.499933</td>\n",
       "    </tr>\n",
       "    <tr>\n",
       "      <th>2</th>\n",
       "      <td>221</td>\n",
       "      <td>2</td>\n",
       "      <td>0</td>\n",
       "      <td>11</td>\n",
       "      <td>0.00</td>\n",
       "      <td>4</td>\n",
       "      <td>2</td>\n",
       "      <td>0.499933</td>\n",
       "    </tr>\n",
       "  </tbody>\n",
       "</table>\n",
       "<p>222 rows × 8 columns</p>\n",
       "</div>"
      ],
      "text/plain": [
       "     level_0  index  R   T  ml_outcomes      N  row_id  decision\n",
       "49         0     49  0  58     11233.60  20060      49  0.499933\n",
       "50         1     50  0  59     11169.64  19258      50  0.499933\n",
       "48         2     48  0  57     11030.04  20426      48  0.499933\n",
       "47         3     47  0  56     10985.52  21126      47  0.499933\n",
       "51         4     51  0  60     10970.40  18284      51  0.499933\n",
       "..       ...    ... ..  ..          ...    ...     ...       ...\n",
       "120      217    120  1   8         0.32      1     120  0.499933\n",
       "0        218      0  0   9         0.10      1       0  0.499933\n",
       "1        219      1  0  10         0.08      1       1  0.499933\n",
       "3        220      3  0  12         0.08      4       3  0.499933\n",
       "2        221      2  0  11         0.00      4       2  0.499933\n",
       "\n",
       "[222 rows x 8 columns]"
      ]
     },
     "execution_count": 34,
     "metadata": {},
     "output_type": "execute_result"
    }
   ],
   "source": [
    "xxx = dff.merge(df_decisions,left_index=True,right_index=True).sort_values(by='ml_outcomes',ascending=False)\n",
    "xxx"
   ]
  },
  {
   "cell_type": "code",
   "execution_count": 35,
   "metadata": {
    "execution": {
     "iopub.execute_input": "2022-12-12T05:23:00.647154Z",
     "iopub.status.busy": "2022-12-12T05:23:00.646743Z",
     "iopub.status.idle": "2022-12-12T05:23:00.648738Z",
     "shell.execute_reply": "2022-12-12T05:23:00.648987Z"
    }
   },
   "outputs": [
    {
     "data": {
      "text/html": [
       "<div>\n",
       "<style scoped>\n",
       "    .dataframe tbody tr th:only-of-type {\n",
       "        vertical-align: middle;\n",
       "    }\n",
       "\n",
       "    .dataframe tbody tr th {\n",
       "        vertical-align: top;\n",
       "    }\n",
       "\n",
       "    .dataframe thead th {\n",
       "        text-align: right;\n",
       "    }\n",
       "</style>\n",
       "<table border=\"1\" class=\"dataframe\">\n",
       "  <thead>\n",
       "    <tr style=\"text-align: right;\">\n",
       "      <th></th>\n",
       "      <th>level_0</th>\n",
       "      <th>index</th>\n",
       "      <th>R</th>\n",
       "      <th>T</th>\n",
       "      <th>ml_outcomes</th>\n",
       "      <th>N</th>\n",
       "      <th>row_id</th>\n",
       "      <th>decision</th>\n",
       "    </tr>\n",
       "  </thead>\n",
       "  <tbody>\n",
       "    <tr>\n",
       "      <th>221</th>\n",
       "      <td>206</td>\n",
       "      <td>221</td>\n",
       "      <td>1</td>\n",
       "      <td>116</td>\n",
       "      <td>1.25</td>\n",
       "      <td>1</td>\n",
       "      <td>221</td>\n",
       "      <td>1.000000</td>\n",
       "    </tr>\n",
       "    <tr>\n",
       "      <th>118</th>\n",
       "      <td>198</td>\n",
       "      <td>118</td>\n",
       "      <td>0</td>\n",
       "      <td>128</td>\n",
       "      <td>2.00</td>\n",
       "      <td>2</td>\n",
       "      <td>118</td>\n",
       "      <td>1.000000</td>\n",
       "    </tr>\n",
       "    <tr>\n",
       "      <th>116</th>\n",
       "      <td>199</td>\n",
       "      <td>116</td>\n",
       "      <td>0</td>\n",
       "      <td>125</td>\n",
       "      <td>2.00</td>\n",
       "      <td>2</td>\n",
       "      <td>116</td>\n",
       "      <td>1.000000</td>\n",
       "    </tr>\n",
       "    <tr>\n",
       "      <th>114</th>\n",
       "      <td>200</td>\n",
       "      <td>114</td>\n",
       "      <td>0</td>\n",
       "      <td>123</td>\n",
       "      <td>2.00</td>\n",
       "      <td>2</td>\n",
       "      <td>114</td>\n",
       "      <td>1.000000</td>\n",
       "    </tr>\n",
       "    <tr>\n",
       "      <th>117</th>\n",
       "      <td>208</td>\n",
       "      <td>117</td>\n",
       "      <td>0</td>\n",
       "      <td>127</td>\n",
       "      <td>1.00</td>\n",
       "      <td>1</td>\n",
       "      <td>117</td>\n",
       "      <td>1.000000</td>\n",
       "    </tr>\n",
       "    <tr>\n",
       "      <th>...</th>\n",
       "      <td>...</td>\n",
       "      <td>...</td>\n",
       "      <td>...</td>\n",
       "      <td>...</td>\n",
       "      <td>...</td>\n",
       "      <td>...</td>\n",
       "      <td>...</td>\n",
       "      <td>...</td>\n",
       "    </tr>\n",
       "    <tr>\n",
       "      <th>137</th>\n",
       "      <td>115</td>\n",
       "      <td>137</td>\n",
       "      <td>1</td>\n",
       "      <td>25</td>\n",
       "      <td>407.22</td>\n",
       "      <td>1234</td>\n",
       "      <td>137</td>\n",
       "      <td>0.499933</td>\n",
       "    </tr>\n",
       "    <tr>\n",
       "      <th>136</th>\n",
       "      <td>123</td>\n",
       "      <td>136</td>\n",
       "      <td>1</td>\n",
       "      <td>24</td>\n",
       "      <td>297.60</td>\n",
       "      <td>930</td>\n",
       "      <td>136</td>\n",
       "      <td>0.499933</td>\n",
       "    </tr>\n",
       "    <tr>\n",
       "      <th>149</th>\n",
       "      <td>60</td>\n",
       "      <td>149</td>\n",
       "      <td>1</td>\n",
       "      <td>37</td>\n",
       "      <td>3743.71</td>\n",
       "      <td>9131</td>\n",
       "      <td>149</td>\n",
       "      <td>0.499933</td>\n",
       "    </tr>\n",
       "    <tr>\n",
       "      <th>16</th>\n",
       "      <td>150</td>\n",
       "      <td>16</td>\n",
       "      <td>0</td>\n",
       "      <td>25</td>\n",
       "      <td>58.41</td>\n",
       "      <td>649</td>\n",
       "      <td>16</td>\n",
       "      <td>0.499933</td>\n",
       "    </tr>\n",
       "    <tr>\n",
       "      <th>119</th>\n",
       "      <td>215</td>\n",
       "      <td>119</td>\n",
       "      <td>1</td>\n",
       "      <td>7</td>\n",
       "      <td>0.50</td>\n",
       "      <td>2</td>\n",
       "      <td>119</td>\n",
       "      <td>0.000000</td>\n",
       "    </tr>\n",
       "  </tbody>\n",
       "</table>\n",
       "<p>222 rows × 8 columns</p>\n",
       "</div>"
      ],
      "text/plain": [
       "     level_0  index  R    T  ml_outcomes     N  row_id  decision\n",
       "221      206    221  1  116         1.25     1     221  1.000000\n",
       "118      198    118  0  128         2.00     2     118  1.000000\n",
       "116      199    116  0  125         2.00     2     116  1.000000\n",
       "114      200    114  0  123         2.00     2     114  1.000000\n",
       "117      208    117  0  127         1.00     1     117  1.000000\n",
       "..       ...    ... ..  ...          ...   ...     ...       ...\n",
       "137      115    137  1   25       407.22  1234     137  0.499933\n",
       "136      123    136  1   24       297.60   930     136  0.499933\n",
       "149       60    149  1   37      3743.71  9131     149  0.499933\n",
       "16       150     16  0   25        58.41   649      16  0.499933\n",
       "119      215    119  1    7         0.50     2     119  0.000000\n",
       "\n",
       "[222 rows x 8 columns]"
      ]
     },
     "execution_count": 35,
     "metadata": {},
     "output_type": "execute_result"
    }
   ],
   "source": [
    "xxx.sort_values(by='decision',ascending=False)"
   ]
  },
  {
   "cell_type": "code",
   "execution_count": 36,
   "metadata": {
    "execution": {
     "iopub.execute_input": "2022-12-12T05:23:00.652010Z",
     "iopub.status.busy": "2022-12-12T05:23:00.651604Z",
     "iopub.status.idle": "2022-12-12T05:23:01.783581Z",
     "shell.execute_reply": "2022-12-12T05:23:01.783819Z"
    }
   },
   "outputs": [],
   "source": [
    "df['key'] = df['R'].astype(str)+'_'+df['T'].astype(str)\n",
    "xxx['key'] = xxx['R'].astype(str)+'_'+xxx['T'].astype(str)"
   ]
  },
  {
   "cell_type": "code",
   "execution_count": 37,
   "metadata": {
    "execution": {
     "iopub.execute_input": "2022-12-12T05:23:01.842640Z",
     "iopub.status.busy": "2022-12-12T05:23:01.842114Z",
     "iopub.status.idle": "2022-12-12T05:23:02.154005Z",
     "shell.execute_reply": "2022-12-12T05:23:02.154270Z"
    }
   },
   "outputs": [],
   "source": [
    "admit_decisions = df.merge(xxx,how='left',on='key')\n",
    "admit_decisions['decision_random'] = pd.Series([random.random() for x in range(0,len(admit_decisions))]) < FRAC_ADMIT\n",
    "\n",
    "FRAC_minority_POLICY = (admit_decisions['R_y'] * admit_decisions['decision']).sum()/admit_decisions['decision'].sum()\n",
    "SUM_BP_POLICY = ( admit_decisions['Y'] * admit_decisions['decision']).sum()\n",
    "\n",
    "FRAC_RANDOM_POLICY = (admit_decisions['R_y'] * admit_decisions['decision_random']).sum()/admit_decisions['decision_random'].sum()\n",
    "SUM_BP_RAND_POLICY = ( admit_decisions['Y'] * admit_decisions['decision_random']).sum()\n"
   ]
  },
  {
   "cell_type": "code",
   "execution_count": 38,
   "metadata": {
    "execution": {
     "iopub.execute_input": "2022-12-12T05:23:02.157325Z",
     "iopub.status.busy": "2022-12-12T05:23:02.156894Z",
     "iopub.status.idle": "2022-12-12T05:23:02.158398Z",
     "shell.execute_reply": "2022-12-12T05:23:02.158919Z"
    }
   },
   "outputs": [],
   "source": [
    "file = open('./lp_results.csv','a')\n",
    "file.write('{}\\t{}\\t{}\\n'.format('Path-Specific Fairness',str(FRAC_minority_POLICY),str(SUM_BP_POLICY)))\n",
    "file.close()\n"
   ]
  },
  {
   "cell_type": "code",
   "execution_count": 39,
   "metadata": {
    "execution": {
     "iopub.execute_input": "2022-12-12T05:23:02.162344Z",
     "iopub.status.busy": "2022-12-12T05:23:02.161959Z",
     "iopub.status.idle": "2022-12-12T05:23:02.163481Z",
     "shell.execute_reply": "2022-12-12T05:23:02.163836Z"
    }
   },
   "outputs": [
    {
     "data": {
      "text/plain": [
       "0.49999949999949994"
      ]
     },
     "execution_count": 39,
     "metadata": {},
     "output_type": "execute_result"
    }
   ],
   "source": [
    "(xxx['N']*xxx['decision']).sum()/len(df)"
   ]
  },
  {
   "cell_type": "code",
   "execution_count": null,
   "metadata": {},
   "outputs": [],
   "source": []
  }
 ],
 "metadata": {
  "kernelspec": {
   "display_name": "Python 3 (ipykernel)",
   "language": "python",
   "name": "python3"
  },
  "language_info": {
   "codemirror_mode": {
    "name": "ipython",
    "version": 3
   },
   "file_extension": ".py",
   "mimetype": "text/x-python",
   "name": "python",
   "nbconvert_exporter": "python",
   "pygments_lexer": "ipython3",
   "version": "3.9.7"
  }
 },
 "nbformat": 4,
 "nbformat_minor": 4
}
