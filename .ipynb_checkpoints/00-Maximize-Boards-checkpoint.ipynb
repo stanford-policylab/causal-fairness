{
 "cells": [
  {
   "cell_type": "code",
   "execution_count": 1,
   "metadata": {
    "execution": {
     "iopub.execute_input": "2022-06-09T22:13:59.114756Z",
     "iopub.status.busy": "2022-06-09T22:13:59.114313Z",
     "iopub.status.idle": "2022-06-09T22:14:00.496894Z",
     "shell.execute_reply": "2022-06-09T22:14:00.497172Z"
    }
   },
   "outputs": [],
   "source": [
    "import numpy as np\n",
    "import pandas as pd\n",
    "import matplotlib.pyplot as plt\n",
    "import seaborn as sns\n",
    "import random\n",
    "pd.options.display.max_rows = 10\n",
    "pd.options.display.max_columns = 500"
   ]
  },
  {
   "cell_type": "code",
   "execution_count": 2,
   "metadata": {
    "execution": {
     "iopub.execute_input": "2022-06-09T22:14:00.501708Z",
     "iopub.status.busy": "2022-06-09T22:14:00.501274Z",
     "iopub.status.idle": "2022-06-09T22:14:01.021382Z",
     "shell.execute_reply": "2022-06-09T22:14:01.021641Z"
    }
   },
   "outputs": [],
   "source": [
    "DIVERSITY_UTILITY = 0.0\n",
    "FRAC_ADMIT = 0.5\n",
    "\n",
    "\n",
    "###\n",
    "## Load dataframe where each row is a single applicant\n",
    "###\n",
    "\n",
    "df = pd.read_csv('./df_test.csv')\n",
    "df['key'] = df['R'].astype(str) + \"_\"  + df['T'].astype(str)\n",
    "\n",
    "df_stratum_utility = df[['R','T','B_p']].groupby(['R','T']).mean().reset_index()\n",
    "df_stratum_utility['stratum_utility'] = (df_stratum_utility['B_p'] + DIVERSITY_UTILITY * df_stratum_utility['R']).round(2)\n",
    "df_stratum_utility['key'] = df_stratum_utility['R'].astype(str) + \"_\" + df_stratum_utility['T'].astype(str)\n",
    "\n",
    "df = df.merge(df_stratum_utility[['stratum_utility','key']], on='key')\n",
    "df['ml_outcomes'] = df['stratum_utility']"
   ]
  },
  {
   "cell_type": "code",
   "execution_count": null,
   "metadata": {},
   "outputs": [],
   "source": []
  },
  {
   "cell_type": "code",
   "execution_count": 3,
   "metadata": {
    "execution": {
     "iopub.execute_input": "2022-06-09T22:14:01.025116Z",
     "iopub.status.busy": "2022-06-09T22:14:01.024691Z",
     "iopub.status.idle": "2022-06-09T22:14:01.052145Z",
     "shell.execute_reply": "2022-06-09T22:14:01.052550Z"
    }
   },
   "outputs": [
    {
     "data": {
      "text/html": [
       "<div>\n",
       "<style scoped>\n",
       "    .dataframe tbody tr th:only-of-type {\n",
       "        vertical-align: middle;\n",
       "    }\n",
       "\n",
       "    .dataframe tbody tr th {\n",
       "        vertical-align: top;\n",
       "    }\n",
       "\n",
       "    .dataframe thead th {\n",
       "        text-align: right;\n",
       "    }\n",
       "</style>\n",
       "<table border=\"1\" class=\"dataframe\">\n",
       "  <thead>\n",
       "    <tr style=\"text-align: right;\">\n",
       "      <th></th>\n",
       "      <th>R</th>\n",
       "      <th>T</th>\n",
       "      <th>ml_outcomes</th>\n",
       "      <th>T_black</th>\n",
       "      <th>T_white</th>\n",
       "      <th>ml_outcomes_black</th>\n",
       "      <th>ml_outcomes_white</th>\n",
       "      <th>ml_outcomes_decision</th>\n",
       "      <th>B_p</th>\n",
       "    </tr>\n",
       "  </thead>\n",
       "  <tbody>\n",
       "    <tr>\n",
       "      <th>99928</th>\n",
       "      <td>0</td>\n",
       "      <td>19</td>\n",
       "      <td>0.00</td>\n",
       "      <td>18</td>\n",
       "      <td>19</td>\n",
       "      <td>-3.123641</td>\n",
       "      <td>-2.830157</td>\n",
       "      <td>0</td>\n",
       "      <td>0</td>\n",
       "    </tr>\n",
       "    <tr>\n",
       "      <th>99929</th>\n",
       "      <td>0</td>\n",
       "      <td>19</td>\n",
       "      <td>0.00</td>\n",
       "      <td>14</td>\n",
       "      <td>19</td>\n",
       "      <td>-3.440023</td>\n",
       "      <td>-2.830157</td>\n",
       "      <td>0</td>\n",
       "      <td>0</td>\n",
       "    </tr>\n",
       "    <tr>\n",
       "      <th>99930</th>\n",
       "      <td>0</td>\n",
       "      <td>19</td>\n",
       "      <td>0.00</td>\n",
       "      <td>16</td>\n",
       "      <td>19</td>\n",
       "      <td>-3.281832</td>\n",
       "      <td>-2.830157</td>\n",
       "      <td>0</td>\n",
       "      <td>0</td>\n",
       "    </tr>\n",
       "    <tr>\n",
       "      <th>99931</th>\n",
       "      <td>0</td>\n",
       "      <td>19</td>\n",
       "      <td>0.00</td>\n",
       "      <td>14</td>\n",
       "      <td>19</td>\n",
       "      <td>-3.440023</td>\n",
       "      <td>-2.830157</td>\n",
       "      <td>0</td>\n",
       "      <td>0</td>\n",
       "    </tr>\n",
       "    <tr>\n",
       "      <th>99932</th>\n",
       "      <td>0</td>\n",
       "      <td>19</td>\n",
       "      <td>0.00</td>\n",
       "      <td>17</td>\n",
       "      <td>19</td>\n",
       "      <td>-3.202737</td>\n",
       "      <td>-2.830157</td>\n",
       "      <td>0</td>\n",
       "      <td>0</td>\n",
       "    </tr>\n",
       "    <tr>\n",
       "      <th>...</th>\n",
       "      <td>...</td>\n",
       "      <td>...</td>\n",
       "      <td>...</td>\n",
       "      <td>...</td>\n",
       "      <td>...</td>\n",
       "      <td>...</td>\n",
       "      <td>...</td>\n",
       "      <td>...</td>\n",
       "      <td>...</td>\n",
       "    </tr>\n",
       "    <tr>\n",
       "      <th>99936</th>\n",
       "      <td>1</td>\n",
       "      <td>90</td>\n",
       "      <td>1.25</td>\n",
       "      <td>90</td>\n",
       "      <td>101</td>\n",
       "      <td>2.571222</td>\n",
       "      <td>3.655659</td>\n",
       "      <td>1</td>\n",
       "      <td>1</td>\n",
       "    </tr>\n",
       "    <tr>\n",
       "      <th>99937</th>\n",
       "      <td>1</td>\n",
       "      <td>90</td>\n",
       "      <td>1.25</td>\n",
       "      <td>90</td>\n",
       "      <td>104</td>\n",
       "      <td>2.571222</td>\n",
       "      <td>3.892945</td>\n",
       "      <td>1</td>\n",
       "      <td>1</td>\n",
       "    </tr>\n",
       "    <tr>\n",
       "      <th>99966</th>\n",
       "      <td>1</td>\n",
       "      <td>86</td>\n",
       "      <td>1.25</td>\n",
       "      <td>86</td>\n",
       "      <td>100</td>\n",
       "      <td>2.254840</td>\n",
       "      <td>3.576564</td>\n",
       "      <td>1</td>\n",
       "      <td>1</td>\n",
       "    </tr>\n",
       "    <tr>\n",
       "      <th>99850</th>\n",
       "      <td>1</td>\n",
       "      <td>82</td>\n",
       "      <td>1.25</td>\n",
       "      <td>82</td>\n",
       "      <td>95</td>\n",
       "      <td>1.938459</td>\n",
       "      <td>3.181087</td>\n",
       "      <td>1</td>\n",
       "      <td>1</td>\n",
       "    </tr>\n",
       "    <tr>\n",
       "      <th>99634</th>\n",
       "      <td>1</td>\n",
       "      <td>89</td>\n",
       "      <td>1.25</td>\n",
       "      <td>89</td>\n",
       "      <td>104</td>\n",
       "      <td>2.492126</td>\n",
       "      <td>3.892945</td>\n",
       "      <td>1</td>\n",
       "      <td>1</td>\n",
       "    </tr>\n",
       "  </tbody>\n",
       "</table>\n",
       "<p>100000 rows × 9 columns</p>\n",
       "</div>"
      ],
      "text/plain": [
       "       R   T  ml_outcomes  T_black  T_white  ml_outcomes_black  \\\n",
       "99928  0  19         0.00       18       19          -3.123641   \n",
       "99929  0  19         0.00       14       19          -3.440023   \n",
       "99930  0  19         0.00       16       19          -3.281832   \n",
       "99931  0  19         0.00       14       19          -3.440023   \n",
       "99932  0  19         0.00       17       19          -3.202737   \n",
       "...   ..  ..          ...      ...      ...                ...   \n",
       "99936  1  90         1.25       90      101           2.571222   \n",
       "99937  1  90         1.25       90      104           2.571222   \n",
       "99966  1  86         1.25       86      100           2.254840   \n",
       "99850  1  82         1.25       82       95           1.938459   \n",
       "99634  1  89         1.25       89      104           2.492126   \n",
       "\n",
       "       ml_outcomes_white  ml_outcomes_decision  B_p  \n",
       "99928          -2.830157                     0    0  \n",
       "99929          -2.830157                     0    0  \n",
       "99930          -2.830157                     0    0  \n",
       "99931          -2.830157                     0    0  \n",
       "99932          -2.830157                     0    0  \n",
       "...                  ...                   ...  ...  \n",
       "99936           3.655659                     1    1  \n",
       "99937           3.892945                     1    1  \n",
       "99966           3.576564                     1    1  \n",
       "99850           3.181087                     1    1  \n",
       "99634           3.892945                     1    1  \n",
       "\n",
       "[100000 rows x 9 columns]"
      ]
     },
     "execution_count": 3,
     "metadata": {},
     "output_type": "execute_result"
    }
   ],
   "source": [
    "##\n",
    "# R = race, T = test score, ml_outcomes = expected utility from admitting, \n",
    "# ml_outcomes_{} counterfactual utility given race \n",
    "##\n",
    "\n",
    "df[['R','T','ml_outcomes','T_black','T_white','ml_outcomes_black','ml_outcomes_white','ml_outcomes_decision','B_p']].sort_values(by='ml_outcomes')\n",
    "\n"
   ]
  },
  {
   "cell_type": "code",
   "execution_count": 4,
   "metadata": {
    "execution": {
     "iopub.execute_input": "2022-06-09T22:14:01.055434Z",
     "iopub.status.busy": "2022-06-09T22:14:01.054924Z",
     "iopub.status.idle": "2022-06-09T22:14:01.056237Z",
     "shell.execute_reply": "2022-06-09T22:14:01.056594Z"
    }
   },
   "outputs": [],
   "source": [
    "#df['ml_outcomes'] = df['ml_outcomes'] + 1*df['R']"
   ]
  },
  {
   "cell_type": "code",
   "execution_count": 5,
   "metadata": {
    "execution": {
     "iopub.execute_input": "2022-06-09T22:14:01.062346Z",
     "iopub.status.busy": "2022-06-09T22:14:01.061574Z",
     "iopub.status.idle": "2022-06-09T22:14:01.068360Z",
     "shell.execute_reply": "2022-06-09T22:14:01.068645Z"
    }
   },
   "outputs": [],
   "source": [
    "###\n",
    "## Get total utility from admitting people in a stratum \n",
    "###\n",
    "\n",
    "df_ = df[['R','T','ml_outcomes']].groupby(['R','T']).sum().reset_index()"
   ]
  },
  {
   "cell_type": "code",
   "execution_count": 6,
   "metadata": {
    "execution": {
     "iopub.execute_input": "2022-06-09T22:14:01.073294Z",
     "iopub.status.busy": "2022-06-09T22:14:01.072869Z",
     "iopub.status.idle": "2022-06-09T22:14:01.078427Z",
     "shell.execute_reply": "2022-06-09T22:14:01.078689Z"
    }
   },
   "outputs": [],
   "source": [
    "###\n",
    "## Get number of people in each stratum\n",
    "###\n",
    "\n",
    "df_count = df[['R','T','ml_outcomes']].groupby(['R','T']).count().reset_index()\n",
    "df_count.columns = ['R','T','Count']\n",
    "df_count['N'] = df_count['Count']"
   ]
  },
  {
   "cell_type": "code",
   "execution_count": 7,
   "metadata": {
    "execution": {
     "iopub.execute_input": "2022-06-09T22:14:01.082824Z",
     "iopub.status.busy": "2022-06-09T22:14:01.082330Z",
     "iopub.status.idle": "2022-06-09T22:14:01.085846Z",
     "shell.execute_reply": "2022-06-09T22:14:01.086157Z"
    }
   },
   "outputs": [],
   "source": [
    "###\n",
    "## Merge summary tables to get one table with Race, Test Score, SUM(Utility), COUNT(applicants) per stratum\n",
    "###\n",
    "\n",
    "dff = df_.merge(df_count[['N']],left_index=True,right_index=True).sort_values(by='ml_outcomes',ascending=False).reset_index().sort_values(by='index').reset_index()"
   ]
  },
  {
   "cell_type": "code",
   "execution_count": 8,
   "metadata": {
    "execution": {
     "iopub.execute_input": "2022-06-09T22:14:01.094343Z",
     "iopub.status.busy": "2022-06-09T22:14:01.093936Z",
     "iopub.status.idle": "2022-06-09T22:14:01.095596Z",
     "shell.execute_reply": "2022-06-09T22:14:01.095833Z"
    }
   },
   "outputs": [
    {
     "data": {
      "text/html": [
       "<div>\n",
       "<style scoped>\n",
       "    .dataframe tbody tr th:only-of-type {\n",
       "        vertical-align: middle;\n",
       "    }\n",
       "\n",
       "    .dataframe tbody tr th {\n",
       "        vertical-align: top;\n",
       "    }\n",
       "\n",
       "    .dataframe thead th {\n",
       "        text-align: right;\n",
       "    }\n",
       "</style>\n",
       "<table border=\"1\" class=\"dataframe\">\n",
       "  <thead>\n",
       "    <tr style=\"text-align: right;\">\n",
       "      <th></th>\n",
       "      <th>level_0</th>\n",
       "      <th>index</th>\n",
       "      <th>R</th>\n",
       "      <th>T</th>\n",
       "      <th>ml_outcomes</th>\n",
       "      <th>N</th>\n",
       "    </tr>\n",
       "  </thead>\n",
       "  <tbody>\n",
       "    <tr>\n",
       "      <th>0</th>\n",
       "      <td>192</td>\n",
       "      <td>0</td>\n",
       "      <td>0</td>\n",
       "      <td>12</td>\n",
       "      <td>0.00</td>\n",
       "      <td>1</td>\n",
       "    </tr>\n",
       "    <tr>\n",
       "      <th>1</th>\n",
       "      <td>188</td>\n",
       "      <td>1</td>\n",
       "      <td>0</td>\n",
       "      <td>14</td>\n",
       "      <td>0.00</td>\n",
       "      <td>1</td>\n",
       "    </tr>\n",
       "    <tr>\n",
       "      <th>4</th>\n",
       "      <td>191</td>\n",
       "      <td>4</td>\n",
       "      <td>0</td>\n",
       "      <td>17</td>\n",
       "      <td>0.00</td>\n",
       "      <td>4</td>\n",
       "    </tr>\n",
       "    <tr>\n",
       "      <th>5</th>\n",
       "      <td>190</td>\n",
       "      <td>5</td>\n",
       "      <td>0</td>\n",
       "      <td>18</td>\n",
       "      <td>0.00</td>\n",
       "      <td>4</td>\n",
       "    </tr>\n",
       "    <tr>\n",
       "      <th>6</th>\n",
       "      <td>189</td>\n",
       "      <td>6</td>\n",
       "      <td>0</td>\n",
       "      <td>19</td>\n",
       "      <td>0.00</td>\n",
       "      <td>8</td>\n",
       "    </tr>\n",
       "    <tr>\n",
       "      <th>...</th>\n",
       "      <td>...</td>\n",
       "      <td>...</td>\n",
       "      <td>...</td>\n",
       "      <td>...</td>\n",
       "      <td>...</td>\n",
       "      <td>...</td>\n",
       "    </tr>\n",
       "    <tr>\n",
       "      <th>50</th>\n",
       "      <td>4</td>\n",
       "      <td>50</td>\n",
       "      <td>0</td>\n",
       "      <td>63</td>\n",
       "      <td>1065.90</td>\n",
       "      <td>1615</td>\n",
       "    </tr>\n",
       "    <tr>\n",
       "      <th>45</th>\n",
       "      <td>3</td>\n",
       "      <td>45</td>\n",
       "      <td>0</td>\n",
       "      <td>58</td>\n",
       "      <td>1102.38</td>\n",
       "      <td>1934</td>\n",
       "    </tr>\n",
       "    <tr>\n",
       "      <th>43</th>\n",
       "      <td>2</td>\n",
       "      <td>43</td>\n",
       "      <td>0</td>\n",
       "      <td>56</td>\n",
       "      <td>1126.25</td>\n",
       "      <td>2125</td>\n",
       "    </tr>\n",
       "    <tr>\n",
       "      <th>46</th>\n",
       "      <td>1</td>\n",
       "      <td>46</td>\n",
       "      <td>0</td>\n",
       "      <td>59</td>\n",
       "      <td>1144.60</td>\n",
       "      <td>1940</td>\n",
       "    </tr>\n",
       "    <tr>\n",
       "      <th>47</th>\n",
       "      <td>0</td>\n",
       "      <td>47</td>\n",
       "      <td>0</td>\n",
       "      <td>60</td>\n",
       "      <td>1146.60</td>\n",
       "      <td>1820</td>\n",
       "    </tr>\n",
       "  </tbody>\n",
       "</table>\n",
       "<p>193 rows × 6 columns</p>\n",
       "</div>"
      ],
      "text/plain": [
       "    level_0  index  R   T  ml_outcomes     N\n",
       "0       192      0  0  12         0.00     1\n",
       "1       188      1  0  14         0.00     1\n",
       "4       191      4  0  17         0.00     4\n",
       "5       190      5  0  18         0.00     4\n",
       "6       189      6  0  19         0.00     8\n",
       "..      ...    ... ..  ..          ...   ...\n",
       "50        4     50  0  63      1065.90  1615\n",
       "45        3     45  0  58      1102.38  1934\n",
       "43        2     43  0  56      1126.25  2125\n",
       "46        1     46  0  59      1144.60  1940\n",
       "47        0     47  0  60      1146.60  1820\n",
       "\n",
       "[193 rows x 6 columns]"
      ]
     },
     "execution_count": 8,
     "metadata": {},
     "output_type": "execute_result"
    }
   ],
   "source": [
    "# final info table\n",
    "dff.sort_values(by='ml_outcomes')"
   ]
  },
  {
   "cell_type": "code",
   "execution_count": null,
   "metadata": {},
   "outputs": [],
   "source": []
  },
  {
   "cell_type": "markdown",
   "metadata": {},
   "source": [
    "### Setup optimization problem "
   ]
  },
  {
   "cell_type": "code",
   "execution_count": 9,
   "metadata": {
    "execution": {
     "iopub.execute_input": "2022-06-09T22:14:01.098901Z",
     "iopub.status.busy": "2022-06-09T22:14:01.098341Z",
     "iopub.status.idle": "2022-06-09T22:14:01.123789Z",
     "shell.execute_reply": "2022-06-09T22:14:01.123421Z"
    }
   },
   "outputs": [],
   "source": [
    "from ortools.linear_solver import pywraplp\n"
   ]
  },
  {
   "cell_type": "code",
   "execution_count": 10,
   "metadata": {
    "execution": {
     "iopub.execute_input": "2022-06-09T22:14:01.127585Z",
     "iopub.status.busy": "2022-06-09T22:14:01.127036Z",
     "iopub.status.idle": "2022-06-09T22:14:01.128474Z",
     "shell.execute_reply": "2022-06-09T22:14:01.128212Z"
    }
   },
   "outputs": [],
   "source": [
    "solver = pywraplp.Solver.CreateSolver('GLOP')\n"
   ]
  },
  {
   "cell_type": "code",
   "execution_count": 11,
   "metadata": {
    "execution": {
     "iopub.execute_input": "2022-06-09T22:14:01.136022Z",
     "iopub.status.busy": "2022-06-09T22:14:01.135466Z",
     "iopub.status.idle": "2022-06-09T22:14:01.137391Z",
     "shell.execute_reply": "2022-06-09T22:14:01.137693Z"
    }
   },
   "outputs": [
    {
     "data": {
      "text/html": [
       "<div>\n",
       "<style scoped>\n",
       "    .dataframe tbody tr th:only-of-type {\n",
       "        vertical-align: middle;\n",
       "    }\n",
       "\n",
       "    .dataframe tbody tr th {\n",
       "        vertical-align: top;\n",
       "    }\n",
       "\n",
       "    .dataframe thead th {\n",
       "        text-align: right;\n",
       "    }\n",
       "</style>\n",
       "<table border=\"1\" class=\"dataframe\">\n",
       "  <thead>\n",
       "    <tr style=\"text-align: right;\">\n",
       "      <th></th>\n",
       "      <th>level_0</th>\n",
       "      <th>index</th>\n",
       "      <th>R</th>\n",
       "      <th>T</th>\n",
       "      <th>ml_outcomes</th>\n",
       "      <th>N</th>\n",
       "    </tr>\n",
       "  </thead>\n",
       "  <tbody>\n",
       "    <tr>\n",
       "      <th>0</th>\n",
       "      <td>192</td>\n",
       "      <td>0</td>\n",
       "      <td>0</td>\n",
       "      <td>12</td>\n",
       "      <td>0.00</td>\n",
       "      <td>1</td>\n",
       "    </tr>\n",
       "    <tr>\n",
       "      <th>1</th>\n",
       "      <td>188</td>\n",
       "      <td>1</td>\n",
       "      <td>0</td>\n",
       "      <td>14</td>\n",
       "      <td>0.00</td>\n",
       "      <td>1</td>\n",
       "    </tr>\n",
       "    <tr>\n",
       "      <th>2</th>\n",
       "      <td>176</td>\n",
       "      <td>2</td>\n",
       "      <td>0</td>\n",
       "      <td>15</td>\n",
       "      <td>1.00</td>\n",
       "      <td>2</td>\n",
       "    </tr>\n",
       "    <tr>\n",
       "      <th>3</th>\n",
       "      <td>177</td>\n",
       "      <td>3</td>\n",
       "      <td>0</td>\n",
       "      <td>16</td>\n",
       "      <td>1.00</td>\n",
       "      <td>2</td>\n",
       "    </tr>\n",
       "    <tr>\n",
       "      <th>4</th>\n",
       "      <td>191</td>\n",
       "      <td>4</td>\n",
       "      <td>0</td>\n",
       "      <td>17</td>\n",
       "      <td>0.00</td>\n",
       "      <td>4</td>\n",
       "    </tr>\n",
       "    <tr>\n",
       "      <th>...</th>\n",
       "      <td>...</td>\n",
       "      <td>...</td>\n",
       "      <td>...</td>\n",
       "      <td>...</td>\n",
       "      <td>...</td>\n",
       "      <td>...</td>\n",
       "    </tr>\n",
       "    <tr>\n",
       "      <th>188</th>\n",
       "      <td>171</td>\n",
       "      <td>188</td>\n",
       "      <td>1</td>\n",
       "      <td>94</td>\n",
       "      <td>1.25</td>\n",
       "      <td>1</td>\n",
       "    </tr>\n",
       "    <tr>\n",
       "      <th>189</th>\n",
       "      <td>172</td>\n",
       "      <td>189</td>\n",
       "      <td>1</td>\n",
       "      <td>95</td>\n",
       "      <td>1.25</td>\n",
       "      <td>1</td>\n",
       "    </tr>\n",
       "    <tr>\n",
       "      <th>190</th>\n",
       "      <td>173</td>\n",
       "      <td>190</td>\n",
       "      <td>1</td>\n",
       "      <td>97</td>\n",
       "      <td>1.25</td>\n",
       "      <td>1</td>\n",
       "    </tr>\n",
       "    <tr>\n",
       "      <th>191</th>\n",
       "      <td>183</td>\n",
       "      <td>191</td>\n",
       "      <td>1</td>\n",
       "      <td>101</td>\n",
       "      <td>0.25</td>\n",
       "      <td>1</td>\n",
       "    </tr>\n",
       "    <tr>\n",
       "      <th>192</th>\n",
       "      <td>174</td>\n",
       "      <td>192</td>\n",
       "      <td>1</td>\n",
       "      <td>104</td>\n",
       "      <td>1.25</td>\n",
       "      <td>1</td>\n",
       "    </tr>\n",
       "  </tbody>\n",
       "</table>\n",
       "<p>193 rows × 6 columns</p>\n",
       "</div>"
      ],
      "text/plain": [
       "     level_0  index  R    T  ml_outcomes  N\n",
       "0        192      0  0   12         0.00  1\n",
       "1        188      1  0   14         0.00  1\n",
       "2        176      2  0   15         1.00  2\n",
       "3        177      3  0   16         1.00  2\n",
       "4        191      4  0   17         0.00  4\n",
       "..       ...    ... ..  ...          ... ..\n",
       "188      171    188  1   94         1.25  1\n",
       "189      172    189  1   95         1.25  1\n",
       "190      173    190  1   97         1.25  1\n",
       "191      183    191  1  101         0.25  1\n",
       "192      174    192  1  104         1.25  1\n",
       "\n",
       "[193 rows x 6 columns]"
      ]
     },
     "execution_count": 11,
     "metadata": {},
     "output_type": "execute_result"
    }
   ],
   "source": [
    "dff"
   ]
  },
  {
   "cell_type": "code",
   "execution_count": 12,
   "metadata": {
    "execution": {
     "iopub.execute_input": "2022-06-09T22:14:01.147711Z",
     "iopub.status.busy": "2022-06-09T22:14:01.147255Z",
     "iopub.status.idle": "2022-06-09T22:14:01.148496Z",
     "shell.execute_reply": "2022-06-09T22:14:01.148813Z"
    }
   },
   "outputs": [],
   "source": [
    "applicant_stratum = []\n",
    "vars_cache = {}\n",
    "\n",
    "# Objective: Maximize the expected utility of the admitted students\n",
    "objective = solver.Objective()\n",
    "\n",
    "# For each stratum\n",
    "for ix, row in dff.iterrows():\n",
    "    # probability of admission\n",
    "    numvar = solver.NumVar(0.0, 1.0, str(ix))\n",
    "    \n",
    "    # store variable by index, and also by stratum R, T\n",
    "    applicant_stratum.append(numvar)\n",
    "    vars_cache[(row['R'],row['T'])] = numvar\n",
    "    \n",
    "    # Benefit of admitting people is total utility in that stratum\n",
    "    objective.SetCoefficient(applicant_stratum[ix], float(row['ml_outcomes']))\n",
    "objective.SetMaximization()\n"
   ]
  },
  {
   "cell_type": "code",
   "execution_count": 13,
   "metadata": {
    "execution": {
     "iopub.execute_input": "2022-06-09T22:14:01.151627Z",
     "iopub.status.busy": "2022-06-09T22:14:01.151154Z",
     "iopub.status.idle": "2022-06-09T22:14:01.153316Z",
     "shell.execute_reply": "2022-06-09T22:14:01.153058Z"
    }
   },
   "outputs": [
    {
     "data": {
      "text/plain": [
       "0"
      ]
     },
     "execution_count": 13,
     "metadata": {},
     "output_type": "execute_result"
    }
   ],
   "source": [
    "# Currently we have no constraints \n",
    "solver.NumConstraints()"
   ]
  },
  {
   "cell_type": "code",
   "execution_count": 14,
   "metadata": {
    "execution": {
     "iopub.execute_input": "2022-06-09T22:14:01.161884Z",
     "iopub.status.busy": "2022-06-09T22:14:01.161468Z",
     "iopub.status.idle": "2022-06-09T22:14:01.163146Z",
     "shell.execute_reply": "2022-06-09T22:14:01.163461Z"
    },
    "scrolled": true
   },
   "outputs": [
    {
     "name": "stdout",
     "output_type": "stream",
     "text": [
      "50000\n"
     ]
    }
   ],
   "source": [
    "# Constraint: At most K applicants\n",
    "K = int(len(df)*FRAC_ADMIT)\n",
    "print(K)\n",
    "admit_quota = solver.Constraint(0, K)\n",
    "\n",
    "# Total admits cannot exceed K \n",
    "for ix, row in dff.iterrows():\n",
    "    admit_quota.SetCoefficient(applicant_stratum[ix], float(row['N']))"
   ]
  },
  {
   "cell_type": "code",
   "execution_count": 15,
   "metadata": {
    "execution": {
     "iopub.execute_input": "2022-06-09T22:14:01.166180Z",
     "iopub.status.busy": "2022-06-09T22:14:01.165680Z",
     "iopub.status.idle": "2022-06-09T22:14:01.167324Z",
     "shell.execute_reply": "2022-06-09T22:14:01.167725Z"
    }
   },
   "outputs": [
    {
     "data": {
      "text/plain": [
       "1"
      ]
     },
     "execution_count": 15,
     "metadata": {},
     "output_type": "execute_result"
    }
   ],
   "source": [
    "# Now we have one constraint\n",
    "solver.NumConstraints()"
   ]
  },
  {
   "cell_type": "markdown",
   "metadata": {},
   "source": [
    "## Solve linear program"
   ]
  },
  {
   "cell_type": "code",
   "execution_count": 16,
   "metadata": {
    "execution": {
     "iopub.execute_input": "2022-06-09T22:14:01.171270Z",
     "iopub.status.busy": "2022-06-09T22:14:01.170791Z",
     "iopub.status.idle": "2022-06-09T22:14:01.172550Z",
     "shell.execute_reply": "2022-06-09T22:14:01.172787Z"
    }
   },
   "outputs": [
    {
     "data": {
      "text/plain": [
       "4"
      ]
     },
     "execution_count": 16,
     "metadata": {},
     "output_type": "execute_result"
    }
   ],
   "source": [
    "solver.ABNORMAL"
   ]
  },
  {
   "cell_type": "code",
   "execution_count": 17,
   "metadata": {
    "execution": {
     "iopub.execute_input": "2022-06-09T22:14:01.176518Z",
     "iopub.status.busy": "2022-06-09T22:14:01.176122Z",
     "iopub.status.idle": "2022-06-09T22:14:01.177525Z",
     "shell.execute_reply": "2022-06-09T22:14:01.177833Z"
    }
   },
   "outputs": [],
   "source": [
    "status = solver.Solve()\n"
   ]
  },
  {
   "cell_type": "code",
   "execution_count": 18,
   "metadata": {
    "execution": {
     "iopub.execute_input": "2022-06-09T22:14:01.180459Z",
     "iopub.status.busy": "2022-06-09T22:14:01.180036Z",
     "iopub.status.idle": "2022-06-09T22:14:01.181768Z",
     "shell.execute_reply": "2022-06-09T22:14:01.182069Z"
    }
   },
   "outputs": [
    {
     "data": {
      "text/plain": [
       "0"
      ]
     },
     "execution_count": 18,
     "metadata": {},
     "output_type": "execute_result"
    }
   ],
   "source": [
    "status"
   ]
  },
  {
   "cell_type": "code",
   "execution_count": 19,
   "metadata": {
    "execution": {
     "iopub.execute_input": "2022-06-09T22:14:01.184970Z",
     "iopub.status.busy": "2022-06-09T22:14:01.184381Z",
     "iopub.status.idle": "2022-06-09T22:14:01.186242Z",
     "shell.execute_reply": "2022-06-09T22:14:01.186541Z"
    }
   },
   "outputs": [
    {
     "data": {
      "text/plain": [
       "0"
      ]
     },
     "execution_count": 19,
     "metadata": {},
     "output_type": "execute_result"
    }
   ],
   "source": [
    "solver.OPTIMAL"
   ]
  },
  {
   "cell_type": "code",
   "execution_count": 20,
   "metadata": {
    "execution": {
     "iopub.execute_input": "2022-06-09T22:14:01.190729Z",
     "iopub.status.busy": "2022-06-09T22:14:01.190354Z",
     "iopub.status.idle": "2022-06-09T22:14:01.191593Z",
     "shell.execute_reply": "2022-06-09T22:14:01.192061Z"
    },
    "scrolled": true
   },
   "outputs": [],
   "source": [
    "row = []\n",
    "admit = []\n",
    "\n",
    "for i in applicant_stratum:\n",
    "    row.append(int(str(i)))\n",
    "    admit.append(i.solution_value())\n",
    "\n",
    "df_decisions = pd.DataFrame({'row_id':row,'decision':admit})"
   ]
  },
  {
   "cell_type": "code",
   "execution_count": 21,
   "metadata": {
    "execution": {
     "iopub.execute_input": "2022-06-09T22:14:01.197987Z",
     "iopub.status.busy": "2022-06-09T22:14:01.197613Z",
     "iopub.status.idle": "2022-06-09T22:14:01.199307Z",
     "shell.execute_reply": "2022-06-09T22:14:01.199612Z"
    }
   },
   "outputs": [
    {
     "data": {
      "text/html": [
       "<div>\n",
       "<style scoped>\n",
       "    .dataframe tbody tr th:only-of-type {\n",
       "        vertical-align: middle;\n",
       "    }\n",
       "\n",
       "    .dataframe tbody tr th {\n",
       "        vertical-align: top;\n",
       "    }\n",
       "\n",
       "    .dataframe thead th {\n",
       "        text-align: right;\n",
       "    }\n",
       "</style>\n",
       "<table border=\"1\" class=\"dataframe\">\n",
       "  <thead>\n",
       "    <tr style=\"text-align: right;\">\n",
       "      <th></th>\n",
       "      <th>row_id</th>\n",
       "      <th>decision</th>\n",
       "    </tr>\n",
       "  </thead>\n",
       "  <tbody>\n",
       "    <tr>\n",
       "      <th>0</th>\n",
       "      <td>0</td>\n",
       "      <td>0.0</td>\n",
       "    </tr>\n",
       "    <tr>\n",
       "      <th>1</th>\n",
       "      <td>1</td>\n",
       "      <td>0.0</td>\n",
       "    </tr>\n",
       "    <tr>\n",
       "      <th>2</th>\n",
       "      <td>2</td>\n",
       "      <td>1.0</td>\n",
       "    </tr>\n",
       "    <tr>\n",
       "      <th>3</th>\n",
       "      <td>3</td>\n",
       "      <td>1.0</td>\n",
       "    </tr>\n",
       "    <tr>\n",
       "      <th>4</th>\n",
       "      <td>4</td>\n",
       "      <td>0.0</td>\n",
       "    </tr>\n",
       "    <tr>\n",
       "      <th>...</th>\n",
       "      <td>...</td>\n",
       "      <td>...</td>\n",
       "    </tr>\n",
       "    <tr>\n",
       "      <th>188</th>\n",
       "      <td>188</td>\n",
       "      <td>1.0</td>\n",
       "    </tr>\n",
       "    <tr>\n",
       "      <th>189</th>\n",
       "      <td>189</td>\n",
       "      <td>1.0</td>\n",
       "    </tr>\n",
       "    <tr>\n",
       "      <th>190</th>\n",
       "      <td>190</td>\n",
       "      <td>1.0</td>\n",
       "    </tr>\n",
       "    <tr>\n",
       "      <th>191</th>\n",
       "      <td>191</td>\n",
       "      <td>0.0</td>\n",
       "    </tr>\n",
       "    <tr>\n",
       "      <th>192</th>\n",
       "      <td>192</td>\n",
       "      <td>1.0</td>\n",
       "    </tr>\n",
       "  </tbody>\n",
       "</table>\n",
       "<p>193 rows × 2 columns</p>\n",
       "</div>"
      ],
      "text/plain": [
       "     row_id  decision\n",
       "0         0       0.0\n",
       "1         1       0.0\n",
       "2         2       1.0\n",
       "3         3       1.0\n",
       "4         4       0.0\n",
       "..      ...       ...\n",
       "188     188       1.0\n",
       "189     189       1.0\n",
       "190     190       1.0\n",
       "191     191       0.0\n",
       "192     192       1.0\n",
       "\n",
       "[193 rows x 2 columns]"
      ]
     },
     "execution_count": 21,
     "metadata": {},
     "output_type": "execute_result"
    }
   ],
   "source": [
    "df_decisions"
   ]
  },
  {
   "cell_type": "code",
   "execution_count": 22,
   "metadata": {
    "execution": {
     "iopub.execute_input": "2022-06-09T22:14:01.208573Z",
     "iopub.status.busy": "2022-06-09T22:14:01.207999Z",
     "iopub.status.idle": "2022-06-09T22:14:01.210204Z",
     "shell.execute_reply": "2022-06-09T22:14:01.210453Z"
    }
   },
   "outputs": [
    {
     "data": {
      "text/html": [
       "<div>\n",
       "<style scoped>\n",
       "    .dataframe tbody tr th:only-of-type {\n",
       "        vertical-align: middle;\n",
       "    }\n",
       "\n",
       "    .dataframe tbody tr th {\n",
       "        vertical-align: top;\n",
       "    }\n",
       "\n",
       "    .dataframe thead th {\n",
       "        text-align: right;\n",
       "    }\n",
       "</style>\n",
       "<table border=\"1\" class=\"dataframe\">\n",
       "  <thead>\n",
       "    <tr style=\"text-align: right;\">\n",
       "      <th></th>\n",
       "      <th>level_0</th>\n",
       "      <th>index</th>\n",
       "      <th>R</th>\n",
       "      <th>T</th>\n",
       "      <th>ml_outcomes</th>\n",
       "      <th>N</th>\n",
       "      <th>row_id</th>\n",
       "      <th>decision</th>\n",
       "    </tr>\n",
       "  </thead>\n",
       "  <tbody>\n",
       "    <tr>\n",
       "      <th>47</th>\n",
       "      <td>0</td>\n",
       "      <td>47</td>\n",
       "      <td>0</td>\n",
       "      <td>60</td>\n",
       "      <td>1146.60</td>\n",
       "      <td>1820</td>\n",
       "      <td>47</td>\n",
       "      <td>1.0</td>\n",
       "    </tr>\n",
       "    <tr>\n",
       "      <th>46</th>\n",
       "      <td>1</td>\n",
       "      <td>46</td>\n",
       "      <td>0</td>\n",
       "      <td>59</td>\n",
       "      <td>1144.60</td>\n",
       "      <td>1940</td>\n",
       "      <td>46</td>\n",
       "      <td>1.0</td>\n",
       "    </tr>\n",
       "    <tr>\n",
       "      <th>43</th>\n",
       "      <td>2</td>\n",
       "      <td>43</td>\n",
       "      <td>0</td>\n",
       "      <td>56</td>\n",
       "      <td>1126.25</td>\n",
       "      <td>2125</td>\n",
       "      <td>43</td>\n",
       "      <td>1.0</td>\n",
       "    </tr>\n",
       "    <tr>\n",
       "      <th>45</th>\n",
       "      <td>3</td>\n",
       "      <td>45</td>\n",
       "      <td>0</td>\n",
       "      <td>58</td>\n",
       "      <td>1102.38</td>\n",
       "      <td>1934</td>\n",
       "      <td>45</td>\n",
       "      <td>1.0</td>\n",
       "    </tr>\n",
       "    <tr>\n",
       "      <th>50</th>\n",
       "      <td>4</td>\n",
       "      <td>50</td>\n",
       "      <td>0</td>\n",
       "      <td>63</td>\n",
       "      <td>1065.90</td>\n",
       "      <td>1615</td>\n",
       "      <td>50</td>\n",
       "      <td>1.0</td>\n",
       "    </tr>\n",
       "    <tr>\n",
       "      <th>...</th>\n",
       "      <td>...</td>\n",
       "      <td>...</td>\n",
       "      <td>...</td>\n",
       "      <td>...</td>\n",
       "      <td>...</td>\n",
       "      <td>...</td>\n",
       "      <td>...</td>\n",
       "      <td>...</td>\n",
       "    </tr>\n",
       "    <tr>\n",
       "      <th>1</th>\n",
       "      <td>188</td>\n",
       "      <td>1</td>\n",
       "      <td>0</td>\n",
       "      <td>14</td>\n",
       "      <td>0.00</td>\n",
       "      <td>1</td>\n",
       "      <td>1</td>\n",
       "      <td>0.0</td>\n",
       "    </tr>\n",
       "    <tr>\n",
       "      <th>6</th>\n",
       "      <td>189</td>\n",
       "      <td>6</td>\n",
       "      <td>0</td>\n",
       "      <td>19</td>\n",
       "      <td>0.00</td>\n",
       "      <td>8</td>\n",
       "      <td>6</td>\n",
       "      <td>0.0</td>\n",
       "    </tr>\n",
       "    <tr>\n",
       "      <th>5</th>\n",
       "      <td>190</td>\n",
       "      <td>5</td>\n",
       "      <td>0</td>\n",
       "      <td>18</td>\n",
       "      <td>0.00</td>\n",
       "      <td>4</td>\n",
       "      <td>5</td>\n",
       "      <td>0.0</td>\n",
       "    </tr>\n",
       "    <tr>\n",
       "      <th>4</th>\n",
       "      <td>191</td>\n",
       "      <td>4</td>\n",
       "      <td>0</td>\n",
       "      <td>17</td>\n",
       "      <td>0.00</td>\n",
       "      <td>4</td>\n",
       "      <td>4</td>\n",
       "      <td>0.0</td>\n",
       "    </tr>\n",
       "    <tr>\n",
       "      <th>0</th>\n",
       "      <td>192</td>\n",
       "      <td>0</td>\n",
       "      <td>0</td>\n",
       "      <td>12</td>\n",
       "      <td>0.00</td>\n",
       "      <td>1</td>\n",
       "      <td>0</td>\n",
       "      <td>0.0</td>\n",
       "    </tr>\n",
       "  </tbody>\n",
       "</table>\n",
       "<p>193 rows × 8 columns</p>\n",
       "</div>"
      ],
      "text/plain": [
       "    level_0  index  R   T  ml_outcomes     N  row_id  decision\n",
       "47        0     47  0  60      1146.60  1820      47       1.0\n",
       "46        1     46  0  59      1144.60  1940      46       1.0\n",
       "43        2     43  0  56      1126.25  2125      43       1.0\n",
       "45        3     45  0  58      1102.38  1934      45       1.0\n",
       "50        4     50  0  63      1065.90  1615      50       1.0\n",
       "..      ...    ... ..  ..          ...   ...     ...       ...\n",
       "1       188      1  0  14         0.00     1       1       0.0\n",
       "6       189      6  0  19         0.00     8       6       0.0\n",
       "5       190      5  0  18         0.00     4       5       0.0\n",
       "4       191      4  0  17         0.00     4       4       0.0\n",
       "0       192      0  0  12         0.00     1       0       0.0\n",
       "\n",
       "[193 rows x 8 columns]"
      ]
     },
     "execution_count": 22,
     "metadata": {},
     "output_type": "execute_result"
    }
   ],
   "source": [
    "dff.merge(df_decisions,left_index=True,right_index=True).sort_values(by='ml_outcomes',ascending=False)"
   ]
  },
  {
   "cell_type": "code",
   "execution_count": 23,
   "metadata": {
    "execution": {
     "iopub.execute_input": "2022-06-09T22:14:01.219828Z",
     "iopub.status.busy": "2022-06-09T22:14:01.219237Z",
     "iopub.status.idle": "2022-06-09T22:14:01.221377Z",
     "shell.execute_reply": "2022-06-09T22:14:01.221685Z"
    }
   },
   "outputs": [
    {
     "data": {
      "text/html": [
       "<div>\n",
       "<style scoped>\n",
       "    .dataframe tbody tr th:only-of-type {\n",
       "        vertical-align: middle;\n",
       "    }\n",
       "\n",
       "    .dataframe tbody tr th {\n",
       "        vertical-align: top;\n",
       "    }\n",
       "\n",
       "    .dataframe thead th {\n",
       "        text-align: right;\n",
       "    }\n",
       "</style>\n",
       "<table border=\"1\" class=\"dataframe\">\n",
       "  <thead>\n",
       "    <tr style=\"text-align: right;\">\n",
       "      <th></th>\n",
       "      <th>level_0</th>\n",
       "      <th>index</th>\n",
       "      <th>R</th>\n",
       "      <th>T</th>\n",
       "      <th>ml_outcomes</th>\n",
       "      <th>N</th>\n",
       "      <th>row_id</th>\n",
       "      <th>decision</th>\n",
       "    </tr>\n",
       "  </thead>\n",
       "  <tbody>\n",
       "    <tr>\n",
       "      <th>104</th>\n",
       "      <td>185</td>\n",
       "      <td>104</td>\n",
       "      <td>1</td>\n",
       "      <td>5</td>\n",
       "      <td>0.25</td>\n",
       "      <td>1</td>\n",
       "      <td>104</td>\n",
       "      <td>0.0</td>\n",
       "    </tr>\n",
       "    <tr>\n",
       "      <th>105</th>\n",
       "      <td>186</td>\n",
       "      <td>105</td>\n",
       "      <td>1</td>\n",
       "      <td>8</td>\n",
       "      <td>0.25</td>\n",
       "      <td>1</td>\n",
       "      <td>105</td>\n",
       "      <td>0.0</td>\n",
       "    </tr>\n",
       "    <tr>\n",
       "      <th>106</th>\n",
       "      <td>182</td>\n",
       "      <td>106</td>\n",
       "      <td>1</td>\n",
       "      <td>10</td>\n",
       "      <td>0.50</td>\n",
       "      <td>2</td>\n",
       "      <td>106</td>\n",
       "      <td>0.0</td>\n",
       "    </tr>\n",
       "    <tr>\n",
       "      <th>0</th>\n",
       "      <td>192</td>\n",
       "      <td>0</td>\n",
       "      <td>0</td>\n",
       "      <td>12</td>\n",
       "      <td>0.00</td>\n",
       "      <td>1</td>\n",
       "      <td>0</td>\n",
       "      <td>0.0</td>\n",
       "    </tr>\n",
       "    <tr>\n",
       "      <th>107</th>\n",
       "      <td>187</td>\n",
       "      <td>107</td>\n",
       "      <td>1</td>\n",
       "      <td>13</td>\n",
       "      <td>0.25</td>\n",
       "      <td>1</td>\n",
       "      <td>107</td>\n",
       "      <td>0.0</td>\n",
       "    </tr>\n",
       "    <tr>\n",
       "      <th>...</th>\n",
       "      <td>...</td>\n",
       "      <td>...</td>\n",
       "      <td>...</td>\n",
       "      <td>...</td>\n",
       "      <td>...</td>\n",
       "      <td>...</td>\n",
       "      <td>...</td>\n",
       "      <td>...</td>\n",
       "    </tr>\n",
       "    <tr>\n",
       "      <th>99</th>\n",
       "      <td>161</td>\n",
       "      <td>99</td>\n",
       "      <td>0</td>\n",
       "      <td>112</td>\n",
       "      <td>3.00</td>\n",
       "      <td>3</td>\n",
       "      <td>99</td>\n",
       "      <td>1.0</td>\n",
       "    </tr>\n",
       "    <tr>\n",
       "      <th>100</th>\n",
       "      <td>164</td>\n",
       "      <td>100</td>\n",
       "      <td>0</td>\n",
       "      <td>113</td>\n",
       "      <td>2.00</td>\n",
       "      <td>2</td>\n",
       "      <td>100</td>\n",
       "      <td>1.0</td>\n",
       "    </tr>\n",
       "    <tr>\n",
       "      <th>101</th>\n",
       "      <td>180</td>\n",
       "      <td>101</td>\n",
       "      <td>0</td>\n",
       "      <td>114</td>\n",
       "      <td>1.00</td>\n",
       "      <td>1</td>\n",
       "      <td>101</td>\n",
       "      <td>1.0</td>\n",
       "    </tr>\n",
       "    <tr>\n",
       "      <th>102</th>\n",
       "      <td>179</td>\n",
       "      <td>102</td>\n",
       "      <td>0</td>\n",
       "      <td>116</td>\n",
       "      <td>1.00</td>\n",
       "      <td>1</td>\n",
       "      <td>102</td>\n",
       "      <td>1.0</td>\n",
       "    </tr>\n",
       "    <tr>\n",
       "      <th>103</th>\n",
       "      <td>178</td>\n",
       "      <td>103</td>\n",
       "      <td>0</td>\n",
       "      <td>117</td>\n",
       "      <td>1.00</td>\n",
       "      <td>1</td>\n",
       "      <td>103</td>\n",
       "      <td>1.0</td>\n",
       "    </tr>\n",
       "  </tbody>\n",
       "</table>\n",
       "<p>193 rows × 8 columns</p>\n",
       "</div>"
      ],
      "text/plain": [
       "     level_0  index  R    T  ml_outcomes  N  row_id  decision\n",
       "104      185    104  1    5         0.25  1     104       0.0\n",
       "105      186    105  1    8         0.25  1     105       0.0\n",
       "106      182    106  1   10         0.50  2     106       0.0\n",
       "0        192      0  0   12         0.00  1       0       0.0\n",
       "107      187    107  1   13         0.25  1     107       0.0\n",
       "..       ...    ... ..  ...          ... ..     ...       ...\n",
       "99       161     99  0  112         3.00  3      99       1.0\n",
       "100      164    100  0  113         2.00  2     100       1.0\n",
       "101      180    101  0  114         1.00  1     101       1.0\n",
       "102      179    102  0  116         1.00  1     102       1.0\n",
       "103      178    103  0  117         1.00  1     103       1.0\n",
       "\n",
       "[193 rows x 8 columns]"
      ]
     },
     "execution_count": 23,
     "metadata": {},
     "output_type": "execute_result"
    }
   ],
   "source": [
    "xxx_ = dff.merge(df_decisions,left_index=True,right_index=True).sort_values(by='ml_outcomes',ascending=False)\n",
    "xxx_.sort_values(by='T')"
   ]
  },
  {
   "cell_type": "code",
   "execution_count": 24,
   "metadata": {
    "execution": {
     "iopub.execute_input": "2022-06-09T22:14:01.231207Z",
     "iopub.status.busy": "2022-06-09T22:14:01.230761Z",
     "iopub.status.idle": "2022-06-09T22:14:01.232347Z",
     "shell.execute_reply": "2022-06-09T22:14:01.232837Z"
    }
   },
   "outputs": [
    {
     "data": {
      "text/html": [
       "<div>\n",
       "<style scoped>\n",
       "    .dataframe tbody tr th:only-of-type {\n",
       "        vertical-align: middle;\n",
       "    }\n",
       "\n",
       "    .dataframe tbody tr th {\n",
       "        vertical-align: top;\n",
       "    }\n",
       "\n",
       "    .dataframe thead th {\n",
       "        text-align: right;\n",
       "    }\n",
       "</style>\n",
       "<table border=\"1\" class=\"dataframe\">\n",
       "  <thead>\n",
       "    <tr style=\"text-align: right;\">\n",
       "      <th></th>\n",
       "      <th>level_0</th>\n",
       "      <th>index</th>\n",
       "      <th>R</th>\n",
       "      <th>T</th>\n",
       "      <th>ml_outcomes</th>\n",
       "      <th>N</th>\n",
       "      <th>row_id</th>\n",
       "      <th>decision</th>\n",
       "    </tr>\n",
       "  </thead>\n",
       "  <tbody>\n",
       "    <tr>\n",
       "      <th>47</th>\n",
       "      <td>0</td>\n",
       "      <td>47</td>\n",
       "      <td>0</td>\n",
       "      <td>60</td>\n",
       "      <td>1146.60</td>\n",
       "      <td>1820</td>\n",
       "      <td>47</td>\n",
       "      <td>1.0</td>\n",
       "    </tr>\n",
       "    <tr>\n",
       "      <th>46</th>\n",
       "      <td>1</td>\n",
       "      <td>46</td>\n",
       "      <td>0</td>\n",
       "      <td>59</td>\n",
       "      <td>1144.60</td>\n",
       "      <td>1940</td>\n",
       "      <td>46</td>\n",
       "      <td>1.0</td>\n",
       "    </tr>\n",
       "    <tr>\n",
       "      <th>43</th>\n",
       "      <td>2</td>\n",
       "      <td>43</td>\n",
       "      <td>0</td>\n",
       "      <td>56</td>\n",
       "      <td>1126.25</td>\n",
       "      <td>2125</td>\n",
       "      <td>43</td>\n",
       "      <td>1.0</td>\n",
       "    </tr>\n",
       "    <tr>\n",
       "      <th>45</th>\n",
       "      <td>3</td>\n",
       "      <td>45</td>\n",
       "      <td>0</td>\n",
       "      <td>58</td>\n",
       "      <td>1102.38</td>\n",
       "      <td>1934</td>\n",
       "      <td>45</td>\n",
       "      <td>1.0</td>\n",
       "    </tr>\n",
       "    <tr>\n",
       "      <th>50</th>\n",
       "      <td>4</td>\n",
       "      <td>50</td>\n",
       "      <td>0</td>\n",
       "      <td>63</td>\n",
       "      <td>1065.90</td>\n",
       "      <td>1615</td>\n",
       "      <td>50</td>\n",
       "      <td>1.0</td>\n",
       "    </tr>\n",
       "    <tr>\n",
       "      <th>...</th>\n",
       "      <td>...</td>\n",
       "      <td>...</td>\n",
       "      <td>...</td>\n",
       "      <td>...</td>\n",
       "      <td>...</td>\n",
       "      <td>...</td>\n",
       "      <td>...</td>\n",
       "      <td>...</td>\n",
       "    </tr>\n",
       "    <tr>\n",
       "      <th>1</th>\n",
       "      <td>188</td>\n",
       "      <td>1</td>\n",
       "      <td>0</td>\n",
       "      <td>14</td>\n",
       "      <td>0.00</td>\n",
       "      <td>1</td>\n",
       "      <td>1</td>\n",
       "      <td>0.0</td>\n",
       "    </tr>\n",
       "    <tr>\n",
       "      <th>6</th>\n",
       "      <td>189</td>\n",
       "      <td>6</td>\n",
       "      <td>0</td>\n",
       "      <td>19</td>\n",
       "      <td>0.00</td>\n",
       "      <td>8</td>\n",
       "      <td>6</td>\n",
       "      <td>0.0</td>\n",
       "    </tr>\n",
       "    <tr>\n",
       "      <th>5</th>\n",
       "      <td>190</td>\n",
       "      <td>5</td>\n",
       "      <td>0</td>\n",
       "      <td>18</td>\n",
       "      <td>0.00</td>\n",
       "      <td>4</td>\n",
       "      <td>5</td>\n",
       "      <td>0.0</td>\n",
       "    </tr>\n",
       "    <tr>\n",
       "      <th>4</th>\n",
       "      <td>191</td>\n",
       "      <td>4</td>\n",
       "      <td>0</td>\n",
       "      <td>17</td>\n",
       "      <td>0.00</td>\n",
       "      <td>4</td>\n",
       "      <td>4</td>\n",
       "      <td>0.0</td>\n",
       "    </tr>\n",
       "    <tr>\n",
       "      <th>0</th>\n",
       "      <td>192</td>\n",
       "      <td>0</td>\n",
       "      <td>0</td>\n",
       "      <td>12</td>\n",
       "      <td>0.00</td>\n",
       "      <td>1</td>\n",
       "      <td>0</td>\n",
       "      <td>0.0</td>\n",
       "    </tr>\n",
       "  </tbody>\n",
       "</table>\n",
       "<p>193 rows × 8 columns</p>\n",
       "</div>"
      ],
      "text/plain": [
       "    level_0  index  R   T  ml_outcomes     N  row_id  decision\n",
       "47        0     47  0  60      1146.60  1820      47       1.0\n",
       "46        1     46  0  59      1144.60  1940      46       1.0\n",
       "43        2     43  0  56      1126.25  2125      43       1.0\n",
       "45        3     45  0  58      1102.38  1934      45       1.0\n",
       "50        4     50  0  63      1065.90  1615      50       1.0\n",
       "..      ...    ... ..  ..          ...   ...     ...       ...\n",
       "1       188      1  0  14         0.00     1       1       0.0\n",
       "6       189      6  0  19         0.00     8       6       0.0\n",
       "5       190      5  0  18         0.00     4       5       0.0\n",
       "4       191      4  0  17         0.00     4       4       0.0\n",
       "0       192      0  0  12         0.00     1       0       0.0\n",
       "\n",
       "[193 rows x 8 columns]"
      ]
     },
     "execution_count": 24,
     "metadata": {},
     "output_type": "execute_result"
    }
   ],
   "source": [
    "xxx = dff.merge(df_decisions,left_index=True,right_index=True).sort_values(by='ml_outcomes',ascending=False)\n",
    "xxx"
   ]
  },
  {
   "cell_type": "code",
   "execution_count": 25,
   "metadata": {
    "execution": {
     "iopub.execute_input": "2022-06-09T22:14:01.236408Z",
     "iopub.status.busy": "2022-06-09T22:14:01.235970Z",
     "iopub.status.idle": "2022-06-09T22:14:01.238020Z",
     "shell.execute_reply": "2022-06-09T22:14:01.238348Z"
    }
   },
   "outputs": [
    {
     "data": {
      "text/plain": [
       "193"
      ]
     },
     "execution_count": 25,
     "metadata": {},
     "output_type": "execute_result"
    }
   ],
   "source": [
    "len(xxx_)"
   ]
  },
  {
   "cell_type": "code",
   "execution_count": 26,
   "metadata": {
    "execution": {
     "iopub.execute_input": "2022-06-09T22:14:01.240814Z",
     "iopub.status.busy": "2022-06-09T22:14:01.240452Z",
     "iopub.status.idle": "2022-06-09T22:14:01.245473Z",
     "shell.execute_reply": "2022-06-09T22:14:01.245830Z"
    }
   },
   "outputs": [],
   "source": [
    "xxx.to_csv('./decision.csv')"
   ]
  },
  {
   "cell_type": "code",
   "execution_count": 27,
   "metadata": {
    "execution": {
     "iopub.execute_input": "2022-06-09T22:14:01.248967Z",
     "iopub.status.busy": "2022-06-09T22:14:01.248569Z",
     "iopub.status.idle": "2022-06-09T22:14:01.251372Z",
     "shell.execute_reply": "2022-06-09T22:14:01.251831Z"
    }
   },
   "outputs": [],
   "source": [
    "solution = pd.read_csv('./decision.csv')"
   ]
  },
  {
   "cell_type": "code",
   "execution_count": null,
   "metadata": {},
   "outputs": [],
   "source": []
  },
  {
   "cell_type": "code",
   "execution_count": null,
   "metadata": {},
   "outputs": [],
   "source": []
  },
  {
   "cell_type": "code",
   "execution_count": 28,
   "metadata": {
    "execution": {
     "iopub.execute_input": "2022-06-09T22:14:01.260545Z",
     "iopub.status.busy": "2022-06-09T22:14:01.259968Z",
     "iopub.status.idle": "2022-06-09T22:14:01.262094Z",
     "shell.execute_reply": "2022-06-09T22:14:01.262506Z"
    }
   },
   "outputs": [
    {
     "data": {
      "text/html": [
       "<div>\n",
       "<style scoped>\n",
       "    .dataframe tbody tr th:only-of-type {\n",
       "        vertical-align: middle;\n",
       "    }\n",
       "\n",
       "    .dataframe tbody tr th {\n",
       "        vertical-align: top;\n",
       "    }\n",
       "\n",
       "    .dataframe thead th {\n",
       "        text-align: right;\n",
       "    }\n",
       "</style>\n",
       "<table border=\"1\" class=\"dataframe\">\n",
       "  <thead>\n",
       "    <tr style=\"text-align: right;\">\n",
       "      <th></th>\n",
       "      <th>level_0</th>\n",
       "      <th>index</th>\n",
       "      <th>R</th>\n",
       "      <th>T</th>\n",
       "      <th>ml_outcomes</th>\n",
       "      <th>N</th>\n",
       "      <th>row_id</th>\n",
       "      <th>decision</th>\n",
       "    </tr>\n",
       "  </thead>\n",
       "  <tbody>\n",
       "    <tr>\n",
       "      <th>47</th>\n",
       "      <td>0</td>\n",
       "      <td>47</td>\n",
       "      <td>0</td>\n",
       "      <td>60</td>\n",
       "      <td>1146.60</td>\n",
       "      <td>1820</td>\n",
       "      <td>47</td>\n",
       "      <td>1.0</td>\n",
       "    </tr>\n",
       "    <tr>\n",
       "      <th>46</th>\n",
       "      <td>1</td>\n",
       "      <td>46</td>\n",
       "      <td>0</td>\n",
       "      <td>59</td>\n",
       "      <td>1144.60</td>\n",
       "      <td>1940</td>\n",
       "      <td>46</td>\n",
       "      <td>1.0</td>\n",
       "    </tr>\n",
       "    <tr>\n",
       "      <th>43</th>\n",
       "      <td>2</td>\n",
       "      <td>43</td>\n",
       "      <td>0</td>\n",
       "      <td>56</td>\n",
       "      <td>1126.25</td>\n",
       "      <td>2125</td>\n",
       "      <td>43</td>\n",
       "      <td>1.0</td>\n",
       "    </tr>\n",
       "    <tr>\n",
       "      <th>45</th>\n",
       "      <td>3</td>\n",
       "      <td>45</td>\n",
       "      <td>0</td>\n",
       "      <td>58</td>\n",
       "      <td>1102.38</td>\n",
       "      <td>1934</td>\n",
       "      <td>45</td>\n",
       "      <td>1.0</td>\n",
       "    </tr>\n",
       "    <tr>\n",
       "      <th>50</th>\n",
       "      <td>4</td>\n",
       "      <td>50</td>\n",
       "      <td>0</td>\n",
       "      <td>63</td>\n",
       "      <td>1065.90</td>\n",
       "      <td>1615</td>\n",
       "      <td>50</td>\n",
       "      <td>1.0</td>\n",
       "    </tr>\n",
       "    <tr>\n",
       "      <th>...</th>\n",
       "      <td>...</td>\n",
       "      <td>...</td>\n",
       "      <td>...</td>\n",
       "      <td>...</td>\n",
       "      <td>...</td>\n",
       "      <td>...</td>\n",
       "      <td>...</td>\n",
       "      <td>...</td>\n",
       "    </tr>\n",
       "    <tr>\n",
       "      <th>1</th>\n",
       "      <td>188</td>\n",
       "      <td>1</td>\n",
       "      <td>0</td>\n",
       "      <td>14</td>\n",
       "      <td>0.00</td>\n",
       "      <td>1</td>\n",
       "      <td>1</td>\n",
       "      <td>0.0</td>\n",
       "    </tr>\n",
       "    <tr>\n",
       "      <th>6</th>\n",
       "      <td>189</td>\n",
       "      <td>6</td>\n",
       "      <td>0</td>\n",
       "      <td>19</td>\n",
       "      <td>0.00</td>\n",
       "      <td>8</td>\n",
       "      <td>6</td>\n",
       "      <td>0.0</td>\n",
       "    </tr>\n",
       "    <tr>\n",
       "      <th>5</th>\n",
       "      <td>190</td>\n",
       "      <td>5</td>\n",
       "      <td>0</td>\n",
       "      <td>18</td>\n",
       "      <td>0.00</td>\n",
       "      <td>4</td>\n",
       "      <td>5</td>\n",
       "      <td>0.0</td>\n",
       "    </tr>\n",
       "    <tr>\n",
       "      <th>4</th>\n",
       "      <td>191</td>\n",
       "      <td>4</td>\n",
       "      <td>0</td>\n",
       "      <td>17</td>\n",
       "      <td>0.00</td>\n",
       "      <td>4</td>\n",
       "      <td>4</td>\n",
       "      <td>0.0</td>\n",
       "    </tr>\n",
       "    <tr>\n",
       "      <th>0</th>\n",
       "      <td>192</td>\n",
       "      <td>0</td>\n",
       "      <td>0</td>\n",
       "      <td>12</td>\n",
       "      <td>0.00</td>\n",
       "      <td>1</td>\n",
       "      <td>0</td>\n",
       "      <td>0.0</td>\n",
       "    </tr>\n",
       "  </tbody>\n",
       "</table>\n",
       "<p>193 rows × 8 columns</p>\n",
       "</div>"
      ],
      "text/plain": [
       "    level_0  index  R   T  ml_outcomes     N  row_id  decision\n",
       "47        0     47  0  60      1146.60  1820      47       1.0\n",
       "46        1     46  0  59      1144.60  1940      46       1.0\n",
       "43        2     43  0  56      1126.25  2125      43       1.0\n",
       "45        3     45  0  58      1102.38  1934      45       1.0\n",
       "50        4     50  0  63      1065.90  1615      50       1.0\n",
       "..      ...    ... ..  ..          ...   ...     ...       ...\n",
       "1       188      1  0  14         0.00     1       1       0.0\n",
       "6       189      6  0  19         0.00     8       6       0.0\n",
       "5       190      5  0  18         0.00     4       5       0.0\n",
       "4       191      4  0  17         0.00     4       4       0.0\n",
       "0       192      0  0  12         0.00     1       0       0.0\n",
       "\n",
       "[193 rows x 8 columns]"
      ]
     },
     "execution_count": 28,
     "metadata": {},
     "output_type": "execute_result"
    }
   ],
   "source": [
    "xxx"
   ]
  },
  {
   "cell_type": "code",
   "execution_count": 29,
   "metadata": {
    "execution": {
     "iopub.execute_input": "2022-06-09T22:14:01.266350Z",
     "iopub.status.busy": "2022-06-09T22:14:01.265786Z",
     "iopub.status.idle": "2022-06-09T22:14:01.267572Z",
     "shell.execute_reply": "2022-06-09T22:14:01.267847Z"
    }
   },
   "outputs": [
    {
     "data": {
      "text/plain": [
       "34247.06999999999"
      ]
     },
     "execution_count": 29,
     "metadata": {},
     "output_type": "execute_result"
    }
   ],
   "source": [
    "(xxx['ml_outcomes']*xxx['decision']).sum()"
   ]
  },
  {
   "cell_type": "code",
   "execution_count": 30,
   "metadata": {
    "execution": {
     "iopub.execute_input": "2022-06-09T22:14:01.272207Z",
     "iopub.status.busy": "2022-06-09T22:14:01.271831Z",
     "iopub.status.idle": "2022-06-09T22:14:01.273269Z",
     "shell.execute_reply": "2022-06-09T22:14:01.273538Z"
    }
   },
   "outputs": [],
   "source": [
    "def maxMLOutcomes(frac_black=0.01):\n",
    "    black_admits = int(K*frac_black)\n",
    "    white_admits = int(K*(1-frac_black))\n",
    "    \n",
    "    b = df[df['R']==1].sort_values(by='ml_outcomes',ascending=False).head(n=black_admits)\n",
    "    w = df[df['R']==0].sort_values(by='ml_outcomes',ascending=False).head(n=white_admits)\n",
    "    \n",
    "    return b['B_p'].sum() + w['B_p'].sum()    "
   ]
  },
  {
   "cell_type": "code",
   "execution_count": 31,
   "metadata": {
    "execution": {
     "iopub.execute_input": "2022-06-09T22:14:01.277471Z",
     "iopub.status.busy": "2022-06-09T22:14:01.276975Z",
     "iopub.status.idle": "2022-06-09T22:14:01.278194Z",
     "shell.execute_reply": "2022-06-09T22:14:01.278557Z"
    }
   },
   "outputs": [],
   "source": [
    "def maxMLOutcomesBlack(frac_black=0.01):\n",
    "    black_admits = int(K*frac_black)\n",
    "    white_admits = int(K*(1-frac_black))\n",
    "    \n",
    "    b = df[df['R']==1].sort_values(by='ml_outcomes',ascending=False).head(n=black_admits)\n",
    "    w = df[df['R']==0].sort_values(by='ml_outcomes',ascending=False).head(n=white_admits)\n",
    "    \n",
    "    return b['B_p'].sum()   "
   ]
  },
  {
   "cell_type": "code",
   "execution_count": 32,
   "metadata": {
    "execution": {
     "iopub.execute_input": "2022-06-09T22:14:01.398872Z",
     "iopub.status.busy": "2022-06-09T22:14:01.398469Z",
     "iopub.status.idle": "2022-06-09T22:14:01.399739Z",
     "shell.execute_reply": "2022-06-09T22:14:01.400145Z"
    }
   },
   "outputs": [],
   "source": [
    "df['key'] = df['R'].astype(str)+'_'+df['T'].astype(str)\n",
    "xxx['key'] = xxx['R'].astype(str)+'_'+xxx['T'].astype(str)"
   ]
  },
  {
   "cell_type": "code",
   "execution_count": 33,
   "metadata": {
    "execution": {
     "iopub.execute_input": "2022-06-09T22:14:01.403174Z",
     "iopub.status.busy": "2022-06-09T22:14:01.402770Z",
     "iopub.status.idle": "2022-06-09T22:14:01.404316Z",
     "shell.execute_reply": "2022-06-09T22:14:01.404603Z"
    }
   },
   "outputs": [
    {
     "data": {
      "text/plain": [
       "193"
      ]
     },
     "execution_count": 33,
     "metadata": {},
     "output_type": "execute_result"
    }
   ],
   "source": [
    "len(xxx)"
   ]
  },
  {
   "cell_type": "code",
   "execution_count": 34,
   "metadata": {
    "execution": {
     "iopub.execute_input": "2022-06-09T22:14:01.415858Z",
     "iopub.status.busy": "2022-06-09T22:14:01.415396Z",
     "iopub.status.idle": "2022-06-09T22:14:01.478453Z",
     "shell.execute_reply": "2022-06-09T22:14:01.478714Z"
    }
   },
   "outputs": [],
   "source": [
    "admit_decisions = df.merge(xxx,how='left',on='key')\n",
    "admit_decisions['decision_random'] = pd.Series([random.random() for x in range(0,len(admit_decisions))]) < FRAC_ADMIT\n",
    "\n",
    "\n",
    "FRAC_BLACK_POLICY = (admit_decisions['R_y'] * admit_decisions['decision']).sum()/admit_decisions['decision'].sum()\n",
    "SUM_BP_POLICY = ( admit_decisions['B_p'] * admit_decisions['decision']).sum()\n",
    "\n",
    "FRAC_RANDOM_POLICY = (admit_decisions['R_y'] * admit_decisions['decision_random']).sum()/admit_decisions['decision_random'].sum()\n",
    "SUM_BP_RAND_POLICY = ( admit_decisions['B_p'] * admit_decisions['decision_random']).sum()\n"
   ]
  },
  {
   "cell_type": "code",
   "execution_count": 35,
   "metadata": {
    "execution": {
     "iopub.execute_input": "2022-06-09T22:14:01.482825Z",
     "iopub.status.busy": "2022-06-09T22:14:01.482318Z",
     "iopub.status.idle": "2022-06-09T22:14:01.484209Z",
     "shell.execute_reply": "2022-06-09T22:14:01.484660Z"
    }
   },
   "outputs": [],
   "source": [
    "file = open('./lp_results.csv','a')\n",
    "file.write('{}\\t{}\\t{}\\n'.format('Maximize Boards',str(FRAC_BLACK_POLICY),str(SUM_BP_POLICY)))\n",
    "file.close()\n"
   ]
  },
  {
   "cell_type": "code",
   "execution_count": 36,
   "metadata": {
    "execution": {
     "iopub.execute_input": "2022-06-09T22:14:01.488332Z",
     "iopub.status.busy": "2022-06-09T22:14:01.487833Z",
     "iopub.status.idle": "2022-06-09T22:14:01.489592Z",
     "shell.execute_reply": "2022-06-09T22:14:01.490217Z"
    }
   },
   "outputs": [
    {
     "data": {
      "text/plain": [
       "0.5"
      ]
     },
     "execution_count": 36,
     "metadata": {},
     "output_type": "execute_result"
    }
   ],
   "source": [
    "(xxx['N']*xxx['decision']).sum()/len(df)"
   ]
  },
  {
   "cell_type": "code",
   "execution_count": null,
   "metadata": {},
   "outputs": [],
   "source": []
  }
 ],
 "metadata": {
  "kernelspec": {
   "display_name": "Python 3 (ipykernel)",
   "language": "python",
   "name": "python3"
  },
  "language_info": {
   "codemirror_mode": {
    "name": "ipython",
    "version": 3
   },
   "file_extension": ".py",
   "mimetype": "text/x-python",
   "name": "python",
   "nbconvert_exporter": "python",
   "pygments_lexer": "ipython3",
   "version": "3.9.7"
  }
 },
 "nbformat": 4,
 "nbformat_minor": 4
}
