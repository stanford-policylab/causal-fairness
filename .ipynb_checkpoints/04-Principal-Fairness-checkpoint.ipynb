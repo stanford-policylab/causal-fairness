{
 "cells": [
  {
   "cell_type": "code",
   "execution_count": 1,
   "metadata": {
    "execution": {
     "iopub.execute_input": "2022-06-10T00:04:31.028677Z",
     "iopub.status.busy": "2022-06-10T00:04:31.027766Z",
     "iopub.status.idle": "2022-06-10T00:04:32.306205Z",
     "shell.execute_reply": "2022-06-10T00:04:32.306454Z"
    }
   },
   "outputs": [],
   "source": [
    "import numpy as np\n",
    "import pandas as pd\n",
    "import matplotlib.pyplot as plt\n",
    "import seaborn as sns\n",
    "import random\n",
    "pd.options.display.max_rows = 10\n",
    "pd.options.display.max_columns = 500"
   ]
  },
  {
   "cell_type": "code",
   "execution_count": null,
   "metadata": {},
   "outputs": [],
   "source": []
  },
  {
   "cell_type": "code",
   "execution_count": 2,
   "metadata": {
    "execution": {
     "iopub.execute_input": "2022-06-10T00:04:32.311068Z",
     "iopub.status.busy": "2022-06-10T00:04:32.310617Z",
     "iopub.status.idle": "2022-06-10T00:04:32.839357Z",
     "shell.execute_reply": "2022-06-10T00:04:32.839616Z"
    }
   },
   "outputs": [],
   "source": [
    "DIVERSITY_UTILITY = 0.25\n",
    "FRAC_ADMIT = 0.5\n",
    "\n",
    "\n",
    "###\n",
    "## Load dataframe where each row is a single applicant\n",
    "###\n",
    "\n",
    "df = pd.read_csv('./df_test.csv')\n",
    "df['key'] = df['R'].astype(str) + \"_\"  + df['T'].astype(str)\n",
    "\n",
    "df_stratum_utility = df[['R','T','B_p']].groupby(['R','T']).mean().reset_index()\n",
    "df_stratum_utility['stratum_utility'] = (df_stratum_utility['B_p'] + DIVERSITY_UTILITY * df_stratum_utility['R']).round(2)\n",
    "df_stratum_utility['key'] = df_stratum_utility['R'].astype(str) + \"_\" + df_stratum_utility['T'].astype(str)\n",
    "\n",
    "df = df.merge(df_stratum_utility[['stratum_utility','key']], on='key')\n",
    "df['ml_outcomes'] = df['stratum_utility']"
   ]
  },
  {
   "cell_type": "code",
   "execution_count": 3,
   "metadata": {
    "execution": {
     "iopub.execute_input": "2022-06-10T00:04:32.842131Z",
     "iopub.status.busy": "2022-06-10T00:04:32.841761Z",
     "iopub.status.idle": "2022-06-10T00:04:32.843054Z",
     "shell.execute_reply": "2022-06-10T00:04:32.843295Z"
    }
   },
   "outputs": [],
   "source": [
    "#df['B_p_reject'] = np.random.randint(0,2,size=(len(df)))"
   ]
  },
  {
   "cell_type": "code",
   "execution_count": 4,
   "metadata": {
    "execution": {
     "iopub.execute_input": "2022-06-10T00:04:32.847675Z",
     "iopub.status.busy": "2022-06-10T00:04:32.847284Z",
     "iopub.status.idle": "2022-06-10T00:04:32.849844Z",
     "shell.execute_reply": "2022-06-10T00:04:32.850108Z"
    }
   },
   "outputs": [
    {
     "data": {
      "text/plain": [
       "0        0\n",
       "1        0\n",
       "2        0\n",
       "3        0\n",
       "4        0\n",
       "        ..\n",
       "99995    0\n",
       "99996    0\n",
       "99997    1\n",
       "99998    0\n",
       "99999    1\n",
       "Name: B_p_reject, Length: 100000, dtype: int64"
      ]
     },
     "execution_count": 4,
     "metadata": {},
     "output_type": "execute_result"
    }
   ],
   "source": [
    "df['B_p_reject']"
   ]
  },
  {
   "cell_type": "code",
   "execution_count": 5,
   "metadata": {
    "execution": {
     "iopub.execute_input": "2022-06-10T00:04:32.902234Z",
     "iopub.status.busy": "2022-06-10T00:04:32.901771Z",
     "iopub.status.idle": "2022-06-10T00:04:32.960503Z",
     "shell.execute_reply": "2022-06-10T00:04:32.960768Z"
    }
   },
   "outputs": [],
   "source": [
    "df['B_p_stratum'] = df['B_p'].astype(str) + df['B_p_reject'].astype(str)\n",
    "\n"
   ]
  },
  {
   "cell_type": "code",
   "execution_count": 6,
   "metadata": {
    "execution": {
     "iopub.execute_input": "2022-06-10T00:04:32.972031Z",
     "iopub.status.busy": "2022-06-10T00:04:32.971539Z",
     "iopub.status.idle": "2022-06-10T00:04:32.973448Z",
     "shell.execute_reply": "2022-06-10T00:04:32.973670Z"
    }
   },
   "outputs": [
    {
     "data": {
      "text/plain": [
       "00    55898\n",
       "11    35511\n",
       "10     8591\n",
       "Name: B_p_stratum, dtype: int64"
      ]
     },
     "execution_count": 6,
     "metadata": {},
     "output_type": "execute_result"
    }
   ],
   "source": [
    "df['B_p_stratum'].value_counts()"
   ]
  },
  {
   "cell_type": "code",
   "execution_count": 7,
   "metadata": {
    "execution": {
     "iopub.execute_input": "2022-06-10T00:04:32.975844Z",
     "iopub.status.busy": "2022-06-10T00:04:32.975487Z",
     "iopub.status.idle": "2022-06-10T00:04:32.976898Z",
     "shell.execute_reply": "2022-06-10T00:04:32.977121Z"
    }
   },
   "outputs": [],
   "source": [
    "# = \n",
    "#df['B_p_reject'] = df['B_p']"
   ]
  },
  {
   "cell_type": "code",
   "execution_count": null,
   "metadata": {},
   "outputs": [],
   "source": []
  },
  {
   "cell_type": "code",
   "execution_count": 8,
   "metadata": {
    "execution": {
     "iopub.execute_input": "2022-06-10T00:04:32.979711Z",
     "iopub.status.busy": "2022-06-10T00:04:32.979291Z",
     "iopub.status.idle": "2022-06-10T00:04:32.980520Z",
     "shell.execute_reply": "2022-06-10T00:04:32.980761Z"
    },
    "scrolled": true
   },
   "outputs": [],
   "source": [
    "FRAC_ADMIT = 0.5#df[['A']].sum()/len(df)\n"
   ]
  },
  {
   "cell_type": "code",
   "execution_count": 9,
   "metadata": {
    "execution": {
     "iopub.execute_input": "2022-06-10T00:04:32.983300Z",
     "iopub.status.busy": "2022-06-10T00:04:32.982864Z",
     "iopub.status.idle": "2022-06-10T00:04:32.984518Z",
     "shell.execute_reply": "2022-06-10T00:04:32.984756Z"
    }
   },
   "outputs": [
    {
     "data": {
      "text/plain": [
       "0.5"
      ]
     },
     "execution_count": 9,
     "metadata": {},
     "output_type": "execute_result"
    }
   ],
   "source": [
    "FRAC_ADMIT"
   ]
  },
  {
   "cell_type": "code",
   "execution_count": null,
   "metadata": {},
   "outputs": [],
   "source": []
  },
  {
   "cell_type": "code",
   "execution_count": 10,
   "metadata": {
    "execution": {
     "iopub.execute_input": "2022-06-10T00:04:32.987280Z",
     "iopub.status.busy": "2022-06-10T00:04:32.986890Z",
     "iopub.status.idle": "2022-06-10T00:04:32.988658Z",
     "shell.execute_reply": "2022-06-10T00:04:32.989028Z"
    }
   },
   "outputs": [
    {
     "data": {
      "text/plain": [
       "100000"
      ]
     },
     "execution_count": 10,
     "metadata": {},
     "output_type": "execute_result"
    }
   ],
   "source": [
    "len(df)"
   ]
  },
  {
   "cell_type": "code",
   "execution_count": 11,
   "metadata": {
    "execution": {
     "iopub.execute_input": "2022-06-10T00:04:32.991233Z",
     "iopub.status.busy": "2022-06-10T00:04:32.990881Z",
     "iopub.status.idle": "2022-06-10T00:04:32.992262Z",
     "shell.execute_reply": "2022-06-10T00:04:32.992499Z"
    }
   },
   "outputs": [],
   "source": [
    "#df['ml_outcomes'] = df['R']"
   ]
  },
  {
   "cell_type": "code",
   "execution_count": 12,
   "metadata": {
    "execution": {
     "iopub.execute_input": "2022-06-10T00:04:32.995594Z",
     "iopub.status.busy": "2022-06-10T00:04:32.995055Z",
     "iopub.status.idle": "2022-06-10T00:04:33.026127Z",
     "shell.execute_reply": "2022-06-10T00:04:33.026525Z"
    }
   },
   "outputs": [
    {
     "data": {
      "text/html": [
       "<div>\n",
       "<style scoped>\n",
       "    .dataframe tbody tr th:only-of-type {\n",
       "        vertical-align: middle;\n",
       "    }\n",
       "\n",
       "    .dataframe tbody tr th {\n",
       "        vertical-align: top;\n",
       "    }\n",
       "\n",
       "    .dataframe thead th {\n",
       "        text-align: right;\n",
       "    }\n",
       "</style>\n",
       "<table border=\"1\" class=\"dataframe\">\n",
       "  <thead>\n",
       "    <tr style=\"text-align: right;\">\n",
       "      <th></th>\n",
       "      <th>R</th>\n",
       "      <th>T</th>\n",
       "      <th>ml_outcomes</th>\n",
       "      <th>T_black</th>\n",
       "      <th>T_white</th>\n",
       "      <th>ml_outcomes_black</th>\n",
       "      <th>ml_outcomes_white</th>\n",
       "      <th>ml_outcomes_decision</th>\n",
       "      <th>B_p</th>\n",
       "    </tr>\n",
       "  </thead>\n",
       "  <tbody>\n",
       "    <tr>\n",
       "      <th>99967</th>\n",
       "      <td>0</td>\n",
       "      <td>14</td>\n",
       "      <td>0.00</td>\n",
       "      <td>13</td>\n",
       "      <td>14</td>\n",
       "      <td>-3.733393</td>\n",
       "      <td>-3.534056</td>\n",
       "      <td>0</td>\n",
       "      <td>0</td>\n",
       "    </tr>\n",
       "    <tr>\n",
       "      <th>98909</th>\n",
       "      <td>0</td>\n",
       "      <td>17</td>\n",
       "      <td>0.00</td>\n",
       "      <td>13</td>\n",
       "      <td>17</td>\n",
       "      <td>-3.733393</td>\n",
       "      <td>-3.287823</td>\n",
       "      <td>0</td>\n",
       "      <td>0</td>\n",
       "    </tr>\n",
       "    <tr>\n",
       "      <th>99969</th>\n",
       "      <td>0</td>\n",
       "      <td>15</td>\n",
       "      <td>0.00</td>\n",
       "      <td>10</td>\n",
       "      <td>15</td>\n",
       "      <td>-3.979626</td>\n",
       "      <td>-3.451979</td>\n",
       "      <td>0</td>\n",
       "      <td>0</td>\n",
       "    </tr>\n",
       "    <tr>\n",
       "      <th>99634</th>\n",
       "      <td>0</td>\n",
       "      <td>18</td>\n",
       "      <td>0.00</td>\n",
       "      <td>16</td>\n",
       "      <td>18</td>\n",
       "      <td>-3.487161</td>\n",
       "      <td>-3.205746</td>\n",
       "      <td>0</td>\n",
       "      <td>0</td>\n",
       "    </tr>\n",
       "    <tr>\n",
       "      <th>99633</th>\n",
       "      <td>0</td>\n",
       "      <td>18</td>\n",
       "      <td>0.00</td>\n",
       "      <td>16</td>\n",
       "      <td>18</td>\n",
       "      <td>-3.487161</td>\n",
       "      <td>-3.205746</td>\n",
       "      <td>0</td>\n",
       "      <td>0</td>\n",
       "    </tr>\n",
       "    <tr>\n",
       "      <th>...</th>\n",
       "      <td>...</td>\n",
       "      <td>...</td>\n",
       "      <td>...</td>\n",
       "      <td>...</td>\n",
       "      <td>...</td>\n",
       "      <td>...</td>\n",
       "      <td>...</td>\n",
       "      <td>...</td>\n",
       "      <td>...</td>\n",
       "    </tr>\n",
       "    <tr>\n",
       "      <th>99940</th>\n",
       "      <td>1</td>\n",
       "      <td>86</td>\n",
       "      <td>1.25</td>\n",
       "      <td>86</td>\n",
       "      <td>100</td>\n",
       "      <td>2.258267</td>\n",
       "      <td>3.524612</td>\n",
       "      <td>1</td>\n",
       "      <td>1</td>\n",
       "    </tr>\n",
       "    <tr>\n",
       "      <th>99349</th>\n",
       "      <td>1</td>\n",
       "      <td>85</td>\n",
       "      <td>1.25</td>\n",
       "      <td>85</td>\n",
       "      <td>99</td>\n",
       "      <td>2.176189</td>\n",
       "      <td>3.442535</td>\n",
       "      <td>1</td>\n",
       "      <td>1</td>\n",
       "    </tr>\n",
       "    <tr>\n",
       "      <th>99347</th>\n",
       "      <td>1</td>\n",
       "      <td>85</td>\n",
       "      <td>1.25</td>\n",
       "      <td>85</td>\n",
       "      <td>99</td>\n",
       "      <td>2.176189</td>\n",
       "      <td>3.442535</td>\n",
       "      <td>1</td>\n",
       "      <td>1</td>\n",
       "    </tr>\n",
       "    <tr>\n",
       "      <th>99345</th>\n",
       "      <td>1</td>\n",
       "      <td>85</td>\n",
       "      <td>1.25</td>\n",
       "      <td>85</td>\n",
       "      <td>99</td>\n",
       "      <td>2.176189</td>\n",
       "      <td>3.442535</td>\n",
       "      <td>1</td>\n",
       "      <td>1</td>\n",
       "    </tr>\n",
       "    <tr>\n",
       "      <th>99888</th>\n",
       "      <td>1</td>\n",
       "      <td>97</td>\n",
       "      <td>1.25</td>\n",
       "      <td>97</td>\n",
       "      <td>113</td>\n",
       "      <td>3.161120</td>\n",
       "      <td>4.591620</td>\n",
       "      <td>1</td>\n",
       "      <td>1</td>\n",
       "    </tr>\n",
       "  </tbody>\n",
       "</table>\n",
       "<p>100000 rows × 9 columns</p>\n",
       "</div>"
      ],
      "text/plain": [
       "       R   T  ml_outcomes  T_black  T_white  ml_outcomes_black  \\\n",
       "99967  0  14         0.00       13       14          -3.733393   \n",
       "98909  0  17         0.00       13       17          -3.733393   \n",
       "99969  0  15         0.00       10       15          -3.979626   \n",
       "99634  0  18         0.00       16       18          -3.487161   \n",
       "99633  0  18         0.00       16       18          -3.487161   \n",
       "...   ..  ..          ...      ...      ...                ...   \n",
       "99940  1  86         1.25       86      100           2.258267   \n",
       "99349  1  85         1.25       85       99           2.176189   \n",
       "99347  1  85         1.25       85       99           2.176189   \n",
       "99345  1  85         1.25       85       99           2.176189   \n",
       "99888  1  97         1.25       97      113           3.161120   \n",
       "\n",
       "       ml_outcomes_white  ml_outcomes_decision  B_p  \n",
       "99967          -3.534056                     0    0  \n",
       "98909          -3.287823                     0    0  \n",
       "99969          -3.451979                     0    0  \n",
       "99634          -3.205746                     0    0  \n",
       "99633          -3.205746                     0    0  \n",
       "...                  ...                   ...  ...  \n",
       "99940           3.524612                     1    1  \n",
       "99349           3.442535                     1    1  \n",
       "99347           3.442535                     1    1  \n",
       "99345           3.442535                     1    1  \n",
       "99888           4.591620                     1    1  \n",
       "\n",
       "[100000 rows x 9 columns]"
      ]
     },
     "execution_count": 12,
     "metadata": {},
     "output_type": "execute_result"
    }
   ],
   "source": [
    "##\n",
    "# R = race, T = test score, ml_outcomes = expected utility from admitting, \n",
    "# ml_outcomes_{} counterfactual utility given race \n",
    "##\n",
    "\n",
    "df[['R','T','ml_outcomes','T_black','T_white','B_p']].sort_values(by='ml_outcomes')\n",
    "\n"
   ]
  },
  {
   "cell_type": "code",
   "execution_count": 13,
   "metadata": {
    "execution": {
     "iopub.execute_input": "2022-06-10T00:04:33.029310Z",
     "iopub.status.busy": "2022-06-10T00:04:33.028825Z",
     "iopub.status.idle": "2022-06-10T00:04:33.029897Z",
     "shell.execute_reply": "2022-06-10T00:04:33.030179Z"
    }
   },
   "outputs": [],
   "source": [
    "#df['ml_outcomes'] = df['ml_outcomes'] + 1*df['R']"
   ]
  },
  {
   "cell_type": "code",
   "execution_count": 14,
   "metadata": {
    "execution": {
     "iopub.execute_input": "2022-06-10T00:04:33.034993Z",
     "iopub.status.busy": "2022-06-10T00:04:33.034520Z",
     "iopub.status.idle": "2022-06-10T00:04:33.041540Z",
     "shell.execute_reply": "2022-06-10T00:04:33.041791Z"
    }
   },
   "outputs": [],
   "source": [
    "###\n",
    "## Get total utility from admitting people in a stratum \n",
    "###\n",
    "\n",
    "df_ = df[['R','T','B_p','B_p_reject','ml_outcomes']].groupby(['R','T','B_p','B_p_reject']).sum().reset_index()"
   ]
  },
  {
   "cell_type": "code",
   "execution_count": 15,
   "metadata": {
    "execution": {
     "iopub.execute_input": "2022-06-10T00:04:33.046694Z",
     "iopub.status.busy": "2022-06-10T00:04:33.046124Z",
     "iopub.status.idle": "2022-06-10T00:04:33.052586Z",
     "shell.execute_reply": "2022-06-10T00:04:33.052834Z"
    }
   },
   "outputs": [],
   "source": [
    "###\n",
    "## Get number of people in each stratum\n",
    "###\n",
    "\n",
    "df_count = df[['R','T','ml_outcomes','B_p','B_p_reject']].groupby(['R','T','B_p','B_p_reject']).count().reset_index()\n",
    "df_count.columns = ['R','T','B_p','B_p_reject','Count']\n",
    "df_count['N'] = df_count['Count']"
   ]
  },
  {
   "cell_type": "code",
   "execution_count": 16,
   "metadata": {
    "execution": {
     "iopub.execute_input": "2022-06-10T00:04:33.057531Z",
     "iopub.status.busy": "2022-06-10T00:04:33.057084Z",
     "iopub.status.idle": "2022-06-10T00:04:33.059559Z",
     "shell.execute_reply": "2022-06-10T00:04:33.059799Z"
    }
   },
   "outputs": [],
   "source": [
    "###\n",
    "## Merge summary tables to get one table with Race, Test Score, SUM(Utility), COUNT(applicants) per stratum\n",
    "###\n",
    "\n",
    "dff = df_.merge(df_count[['N']],left_index=True,right_index=True).sort_values(by='ml_outcomes',ascending=False).reset_index().sort_values(by='index').reset_index()"
   ]
  },
  {
   "cell_type": "code",
   "execution_count": 17,
   "metadata": {
    "execution": {
     "iopub.execute_input": "2022-06-10T00:04:33.062240Z",
     "iopub.status.busy": "2022-06-10T00:04:33.061768Z",
     "iopub.status.idle": "2022-06-10T00:04:33.068706Z",
     "shell.execute_reply": "2022-06-10T00:04:33.068995Z"
    }
   },
   "outputs": [
    {
     "data": {
      "text/html": [
       "<div>\n",
       "<style scoped>\n",
       "    .dataframe tbody tr th:only-of-type {\n",
       "        vertical-align: middle;\n",
       "    }\n",
       "\n",
       "    .dataframe tbody tr th {\n",
       "        vertical-align: top;\n",
       "    }\n",
       "\n",
       "    .dataframe thead th {\n",
       "        text-align: right;\n",
       "    }\n",
       "</style>\n",
       "<table border=\"1\" class=\"dataframe\">\n",
       "  <thead>\n",
       "    <tr style=\"text-align: right;\">\n",
       "      <th></th>\n",
       "      <th>level_0</th>\n",
       "      <th>index</th>\n",
       "      <th>R</th>\n",
       "      <th>T</th>\n",
       "      <th>B_p</th>\n",
       "      <th>B_p_reject</th>\n",
       "      <th>ml_outcomes</th>\n",
       "      <th>N</th>\n",
       "    </tr>\n",
       "  </thead>\n",
       "  <tbody>\n",
       "    <tr>\n",
       "      <th>0</th>\n",
       "      <td>484</td>\n",
       "      <td>0</td>\n",
       "      <td>0</td>\n",
       "      <td>11</td>\n",
       "      <td>0</td>\n",
       "      <td>0</td>\n",
       "      <td>0.00</td>\n",
       "      <td>1</td>\n",
       "    </tr>\n",
       "    <tr>\n",
       "      <th>1</th>\n",
       "      <td>477</td>\n",
       "      <td>1</td>\n",
       "      <td>0</td>\n",
       "      <td>14</td>\n",
       "      <td>0</td>\n",
       "      <td>0</td>\n",
       "      <td>0.00</td>\n",
       "      <td>1</td>\n",
       "    </tr>\n",
       "    <tr>\n",
       "      <th>2</th>\n",
       "      <td>483</td>\n",
       "      <td>2</td>\n",
       "      <td>0</td>\n",
       "      <td>15</td>\n",
       "      <td>0</td>\n",
       "      <td>0</td>\n",
       "      <td>0.00</td>\n",
       "      <td>2</td>\n",
       "    </tr>\n",
       "    <tr>\n",
       "      <th>3</th>\n",
       "      <td>482</td>\n",
       "      <td>3</td>\n",
       "      <td>0</td>\n",
       "      <td>16</td>\n",
       "      <td>0</td>\n",
       "      <td>0</td>\n",
       "      <td>0.00</td>\n",
       "      <td>2</td>\n",
       "    </tr>\n",
       "    <tr>\n",
       "      <th>4</th>\n",
       "      <td>481</td>\n",
       "      <td>4</td>\n",
       "      <td>0</td>\n",
       "      <td>17</td>\n",
       "      <td>0</td>\n",
       "      <td>0</td>\n",
       "      <td>0.00</td>\n",
       "      <td>3</td>\n",
       "    </tr>\n",
       "    <tr>\n",
       "      <th>...</th>\n",
       "      <td>...</td>\n",
       "      <td>...</td>\n",
       "      <td>...</td>\n",
       "      <td>...</td>\n",
       "      <td>...</td>\n",
       "      <td>...</td>\n",
       "      <td>...</td>\n",
       "      <td>...</td>\n",
       "    </tr>\n",
       "    <tr>\n",
       "      <th>127</th>\n",
       "      <td>4</td>\n",
       "      <td>127</td>\n",
       "      <td>0</td>\n",
       "      <td>61</td>\n",
       "      <td>1</td>\n",
       "      <td>1</td>\n",
       "      <td>572.67</td>\n",
       "      <td>909</td>\n",
       "    </tr>\n",
       "    <tr>\n",
       "      <th>139</th>\n",
       "      <td>3</td>\n",
       "      <td>139</td>\n",
       "      <td>0</td>\n",
       "      <td>65</td>\n",
       "      <td>1</td>\n",
       "      <td>1</td>\n",
       "      <td>576.15</td>\n",
       "      <td>835</td>\n",
       "    </tr>\n",
       "    <tr>\n",
       "      <th>142</th>\n",
       "      <td>2</td>\n",
       "      <td>142</td>\n",
       "      <td>0</td>\n",
       "      <td>66</td>\n",
       "      <td>1</td>\n",
       "      <td>1</td>\n",
       "      <td>576.70</td>\n",
       "      <td>790</td>\n",
       "    </tr>\n",
       "    <tr>\n",
       "      <th>136</th>\n",
       "      <td>1</td>\n",
       "      <td>136</td>\n",
       "      <td>0</td>\n",
       "      <td>64</td>\n",
       "      <td>1</td>\n",
       "      <td>1</td>\n",
       "      <td>577.53</td>\n",
       "      <td>837</td>\n",
       "    </tr>\n",
       "    <tr>\n",
       "      <th>130</th>\n",
       "      <td>0</td>\n",
       "      <td>130</td>\n",
       "      <td>0</td>\n",
       "      <td>62</td>\n",
       "      <td>1</td>\n",
       "      <td>1</td>\n",
       "      <td>587.16</td>\n",
       "      <td>932</td>\n",
       "    </tr>\n",
       "  </tbody>\n",
       "</table>\n",
       "<p>485 rows × 8 columns</p>\n",
       "</div>"
      ],
      "text/plain": [
       "     level_0  index  R   T  B_p  B_p_reject  ml_outcomes    N\n",
       "0        484      0  0  11    0           0         0.00    1\n",
       "1        477      1  0  14    0           0         0.00    1\n",
       "2        483      2  0  15    0           0         0.00    2\n",
       "3        482      3  0  16    0           0         0.00    2\n",
       "4        481      4  0  17    0           0         0.00    3\n",
       "..       ...    ... ..  ..  ...         ...          ...  ...\n",
       "127        4    127  0  61    1           1       572.67  909\n",
       "139        3    139  0  65    1           1       576.15  835\n",
       "142        2    142  0  66    1           1       576.70  790\n",
       "136        1    136  0  64    1           1       577.53  837\n",
       "130        0    130  0  62    1           1       587.16  932\n",
       "\n",
       "[485 rows x 8 columns]"
      ]
     },
     "execution_count": 17,
     "metadata": {},
     "output_type": "execute_result"
    }
   ],
   "source": [
    "# final info table\n",
    "dff.sort_values(by='ml_outcomes')"
   ]
  },
  {
   "cell_type": "code",
   "execution_count": null,
   "metadata": {},
   "outputs": [],
   "source": []
  },
  {
   "cell_type": "markdown",
   "metadata": {},
   "source": [
    "### Setup optimization problem "
   ]
  },
  {
   "cell_type": "code",
   "execution_count": 18,
   "metadata": {
    "execution": {
     "iopub.execute_input": "2022-06-10T00:04:33.071913Z",
     "iopub.status.busy": "2022-06-10T00:04:33.071453Z",
     "iopub.status.idle": "2022-06-10T00:04:33.094875Z",
     "shell.execute_reply": "2022-06-10T00:04:33.095109Z"
    }
   },
   "outputs": [],
   "source": [
    "from ortools.linear_solver import pywraplp\n"
   ]
  },
  {
   "cell_type": "code",
   "execution_count": 19,
   "metadata": {
    "execution": {
     "iopub.execute_input": "2022-06-10T00:04:33.097984Z",
     "iopub.status.busy": "2022-06-10T00:04:33.097592Z",
     "iopub.status.idle": "2022-06-10T00:04:33.098839Z",
     "shell.execute_reply": "2022-06-10T00:04:33.099224Z"
    }
   },
   "outputs": [],
   "source": [
    "solver = pywraplp.Solver.CreateSolver('GLOP')\n"
   ]
  },
  {
   "cell_type": "code",
   "execution_count": 20,
   "metadata": {
    "execution": {
     "iopub.execute_input": "2022-06-10T00:04:33.102557Z",
     "iopub.status.busy": "2022-06-10T00:04:33.102175Z",
     "iopub.status.idle": "2022-06-10T00:04:33.103647Z",
     "shell.execute_reply": "2022-06-10T00:04:33.103988Z"
    }
   },
   "outputs": [
    {
     "data": {
      "text/plain": [
       "485"
      ]
     },
     "execution_count": 20,
     "metadata": {},
     "output_type": "execute_result"
    }
   ],
   "source": [
    "len(dff[['R','T','B_p','B_p_reject']])"
   ]
  },
  {
   "cell_type": "code",
   "execution_count": 21,
   "metadata": {
    "execution": {
     "iopub.execute_input": "2022-06-10T00:04:33.110843Z",
     "iopub.status.busy": "2022-06-10T00:04:33.110389Z",
     "iopub.status.idle": "2022-06-10T00:04:33.112196Z",
     "shell.execute_reply": "2022-06-10T00:04:33.112615Z"
    }
   },
   "outputs": [
    {
     "data": {
      "text/html": [
       "<div>\n",
       "<style scoped>\n",
       "    .dataframe tbody tr th:only-of-type {\n",
       "        vertical-align: middle;\n",
       "    }\n",
       "\n",
       "    .dataframe tbody tr th {\n",
       "        vertical-align: top;\n",
       "    }\n",
       "\n",
       "    .dataframe thead th {\n",
       "        text-align: right;\n",
       "    }\n",
       "</style>\n",
       "<table border=\"1\" class=\"dataframe\">\n",
       "  <thead>\n",
       "    <tr style=\"text-align: right;\">\n",
       "      <th></th>\n",
       "      <th>level_0</th>\n",
       "      <th>index</th>\n",
       "      <th>R</th>\n",
       "      <th>T</th>\n",
       "      <th>B_p</th>\n",
       "      <th>B_p_reject</th>\n",
       "      <th>ml_outcomes</th>\n",
       "      <th>N</th>\n",
       "    </tr>\n",
       "  </thead>\n",
       "  <tbody>\n",
       "    <tr>\n",
       "      <th>0</th>\n",
       "      <td>484</td>\n",
       "      <td>0</td>\n",
       "      <td>0</td>\n",
       "      <td>11</td>\n",
       "      <td>0</td>\n",
       "      <td>0</td>\n",
       "      <td>0.00</td>\n",
       "      <td>1</td>\n",
       "    </tr>\n",
       "    <tr>\n",
       "      <th>1</th>\n",
       "      <td>477</td>\n",
       "      <td>1</td>\n",
       "      <td>0</td>\n",
       "      <td>14</td>\n",
       "      <td>0</td>\n",
       "      <td>0</td>\n",
       "      <td>0.00</td>\n",
       "      <td>1</td>\n",
       "    </tr>\n",
       "    <tr>\n",
       "      <th>2</th>\n",
       "      <td>483</td>\n",
       "      <td>2</td>\n",
       "      <td>0</td>\n",
       "      <td>15</td>\n",
       "      <td>0</td>\n",
       "      <td>0</td>\n",
       "      <td>0.00</td>\n",
       "      <td>2</td>\n",
       "    </tr>\n",
       "    <tr>\n",
       "      <th>3</th>\n",
       "      <td>482</td>\n",
       "      <td>3</td>\n",
       "      <td>0</td>\n",
       "      <td>16</td>\n",
       "      <td>0</td>\n",
       "      <td>0</td>\n",
       "      <td>0.00</td>\n",
       "      <td>2</td>\n",
       "    </tr>\n",
       "    <tr>\n",
       "      <th>4</th>\n",
       "      <td>481</td>\n",
       "      <td>4</td>\n",
       "      <td>0</td>\n",
       "      <td>17</td>\n",
       "      <td>0</td>\n",
       "      <td>0</td>\n",
       "      <td>0.00</td>\n",
       "      <td>3</td>\n",
       "    </tr>\n",
       "    <tr>\n",
       "      <th>...</th>\n",
       "      <td>...</td>\n",
       "      <td>...</td>\n",
       "      <td>...</td>\n",
       "      <td>...</td>\n",
       "      <td>...</td>\n",
       "      <td>...</td>\n",
       "      <td>...</td>\n",
       "      <td>...</td>\n",
       "    </tr>\n",
       "    <tr>\n",
       "      <th>480</th>\n",
       "      <td>421</td>\n",
       "      <td>480</td>\n",
       "      <td>1</td>\n",
       "      <td>96</td>\n",
       "      <td>1</td>\n",
       "      <td>1</td>\n",
       "      <td>1.25</td>\n",
       "      <td>1</td>\n",
       "    </tr>\n",
       "    <tr>\n",
       "      <th>481</th>\n",
       "      <td>376</td>\n",
       "      <td>481</td>\n",
       "      <td>1</td>\n",
       "      <td>97</td>\n",
       "      <td>1</td>\n",
       "      <td>1</td>\n",
       "      <td>3.75</td>\n",
       "      <td>3</td>\n",
       "    </tr>\n",
       "    <tr>\n",
       "      <th>482</th>\n",
       "      <td>423</td>\n",
       "      <td>482</td>\n",
       "      <td>1</td>\n",
       "      <td>99</td>\n",
       "      <td>1</td>\n",
       "      <td>1</td>\n",
       "      <td>1.25</td>\n",
       "      <td>1</td>\n",
       "    </tr>\n",
       "    <tr>\n",
       "      <th>483</th>\n",
       "      <td>424</td>\n",
       "      <td>483</td>\n",
       "      <td>1</td>\n",
       "      <td>100</td>\n",
       "      <td>1</td>\n",
       "      <td>1</td>\n",
       "      <td>1.25</td>\n",
       "      <td>1</td>\n",
       "    </tr>\n",
       "    <tr>\n",
       "      <th>484</th>\n",
       "      <td>425</td>\n",
       "      <td>484</td>\n",
       "      <td>1</td>\n",
       "      <td>108</td>\n",
       "      <td>1</td>\n",
       "      <td>1</td>\n",
       "      <td>1.25</td>\n",
       "      <td>1</td>\n",
       "    </tr>\n",
       "  </tbody>\n",
       "</table>\n",
       "<p>485 rows × 8 columns</p>\n",
       "</div>"
      ],
      "text/plain": [
       "     level_0  index  R    T  B_p  B_p_reject  ml_outcomes  N\n",
       "0        484      0  0   11    0           0         0.00  1\n",
       "1        477      1  0   14    0           0         0.00  1\n",
       "2        483      2  0   15    0           0         0.00  2\n",
       "3        482      3  0   16    0           0         0.00  2\n",
       "4        481      4  0   17    0           0         0.00  3\n",
       "..       ...    ... ..  ...  ...         ...          ... ..\n",
       "480      421    480  1   96    1           1         1.25  1\n",
       "481      376    481  1   97    1           1         3.75  3\n",
       "482      423    482  1   99    1           1         1.25  1\n",
       "483      424    483  1  100    1           1         1.25  1\n",
       "484      425    484  1  108    1           1         1.25  1\n",
       "\n",
       "[485 rows x 8 columns]"
      ]
     },
     "execution_count": 21,
     "metadata": {},
     "output_type": "execute_result"
    }
   ],
   "source": [
    "dff"
   ]
  },
  {
   "cell_type": "code",
   "execution_count": 22,
   "metadata": {
    "execution": {
     "iopub.execute_input": "2022-06-10T00:04:33.132170Z",
     "iopub.status.busy": "2022-06-10T00:04:33.131668Z",
     "iopub.status.idle": "2022-06-10T00:04:33.132907Z",
     "shell.execute_reply": "2022-06-10T00:04:33.133217Z"
    }
   },
   "outputs": [],
   "source": [
    "applicant_stratum = []\n",
    "vars_cache = {}\n",
    "\n",
    "# Objective: Maximize the expected utility of the admitted students\n",
    "objective = solver.Objective()\n",
    "\n",
    "# For each stratum\n",
    "for ix, row in dff.iterrows():\n",
    "    # probability of admission\n",
    "    numvar = solver.NumVar(0.0, 1.0, str(ix))\n",
    "    \n",
    "    # store variable by index, and also by stratum R, T\n",
    "    applicant_stratum.append(numvar)\n",
    "    vars_cache[(row['R'],row['T'],row['B_p'], row['B_p_reject'])] = numvar\n",
    "    \n",
    "    # Benefit of admitting people is total utility in that stratum\n",
    "    objective.SetCoefficient(applicant_stratum[ix], float(row['ml_outcomes']))\n",
    "objective.SetMaximization()\n"
   ]
  },
  {
   "cell_type": "code",
   "execution_count": 23,
   "metadata": {
    "execution": {
     "iopub.execute_input": "2022-06-10T00:04:33.135854Z",
     "iopub.status.busy": "2022-06-10T00:04:33.135446Z",
     "iopub.status.idle": "2022-06-10T00:04:33.137158Z",
     "shell.execute_reply": "2022-06-10T00:04:33.137420Z"
    }
   },
   "outputs": [
    {
     "data": {
      "text/plain": [
       "0"
      ]
     },
     "execution_count": 23,
     "metadata": {},
     "output_type": "execute_result"
    }
   ],
   "source": [
    "# Currently we have no constraints \n",
    "solver.NumConstraints()"
   ]
  },
  {
   "cell_type": "code",
   "execution_count": 24,
   "metadata": {
    "execution": {
     "iopub.execute_input": "2022-06-10T00:04:33.151031Z",
     "iopub.status.busy": "2022-06-10T00:04:33.150644Z",
     "iopub.status.idle": "2022-06-10T00:04:33.152091Z",
     "shell.execute_reply": "2022-06-10T00:04:33.152381Z"
    },
    "scrolled": true
   },
   "outputs": [
    {
     "name": "stdout",
     "output_type": "stream",
     "text": [
      "50000\n"
     ]
    }
   ],
   "source": [
    "# Constraint: At most K applicants\n",
    "K = int(len(df)*FRAC_ADMIT)\n",
    "print(K)\n",
    "admit_quota = solver.Constraint(0, K)\n",
    "\n",
    "# Total applicants cannot exceed K \n",
    "for ix, row in dff.iterrows():\n",
    "    admit_quota.SetCoefficient(applicant_stratum[ix], float(row['N']))"
   ]
  },
  {
   "cell_type": "code",
   "execution_count": 25,
   "metadata": {
    "execution": {
     "iopub.execute_input": "2022-06-10T00:04:33.155339Z",
     "iopub.status.busy": "2022-06-10T00:04:33.154906Z",
     "iopub.status.idle": "2022-06-10T00:04:33.156662Z",
     "shell.execute_reply": "2022-06-10T00:04:33.157084Z"
    }
   },
   "outputs": [
    {
     "data": {
      "text/plain": [
       "1"
      ]
     },
     "execution_count": 25,
     "metadata": {},
     "output_type": "execute_result"
    }
   ],
   "source": [
    "# Now we have one constraint\n",
    "solver.NumConstraints()"
   ]
  },
  {
   "cell_type": "markdown",
   "metadata": {},
   "source": [
    "## Add Equalized Odds Constraints"
   ]
  },
  {
   "cell_type": "code",
   "execution_count": 26,
   "metadata": {
    "execution": {
     "iopub.execute_input": "2022-06-10T00:04:33.190224Z",
     "iopub.status.busy": "2022-06-10T00:04:33.167769Z",
     "iopub.status.idle": "2022-06-10T00:04:33.191798Z",
     "shell.execute_reply": "2022-06-10T00:04:33.192099Z"
    }
   },
   "outputs": [
    {
     "data": {
      "text/plain": [
       "(605, 850)"
      ]
     },
     "execution_count": 26,
     "metadata": {},
     "output_type": "execute_result"
    }
   ],
   "source": [
    "## Make sure that you have to add all people in B_p stratum or none\n",
    "## i.e. you can't add only people who pass boards and reject those who fail boards from same T, R stratum\n",
    "didntexist, exists = 0, 0 \n",
    "\n",
    "for ix, row in dff.iterrows():\n",
    "    \n",
    "    \n",
    "    var1 = vars_cache[(row['R'],row['T'],row['B_p'], row['B_p_reject'])]\n",
    "    key2s = [(row['R'],row['T'], 1-row['B_p'], 1-row['B_p_reject']), (row['R'],row['T'], row['B_p'], 1-row['B_p_reject']), (row['R'],row['T'], 1-row['B_p'], row['B_p_reject'])]\n",
    "    \n",
    "    for key2 in key2s:\n",
    "        constrain_bp = solver.Constraint(0.0, 0.0)\n",
    "        \n",
    "        if key2 not in vars_cache:\n",
    "            didntexist+=1\n",
    "            continue\n",
    "            \n",
    "        var2 = vars_cache[key2]\n",
    "        \n",
    "        constrain_bp.SetCoefficient(var1, -1.0)\n",
    "        constrain_bp.SetCoefficient(var2, 1.0)\n",
    "        exists+=1\n",
    "\n",
    "didntexist, exists"
   ]
  },
  {
   "cell_type": "code",
   "execution_count": 27,
   "metadata": {
    "execution": {
     "iopub.execute_input": "2022-06-10T00:04:33.199783Z",
     "iopub.status.busy": "2022-06-10T00:04:33.199359Z",
     "iopub.status.idle": "2022-06-10T00:04:33.200974Z",
     "shell.execute_reply": "2022-06-10T00:04:33.201258Z"
    }
   },
   "outputs": [
    {
     "data": {
      "text/plain": [
       "(100, 0, 81, 0)"
      ]
     },
     "execution_count": 27,
     "metadata": {},
     "output_type": "execute_result"
    }
   ],
   "source": [
    "white_pass_boards_pass_boards_reject = []\n",
    "white_fail_boards_pass_boards_reject = []\n",
    "black_pass_boards_pass_boards_reject = []\n",
    "black_fail_boards_pass_boards_reject = []\n",
    "white_pass_boards_fail_boards_reject = []\n",
    "white_fail_boards_fail_boards_reject = []\n",
    "black_pass_boards_fail_boards_reject = []\n",
    "black_fail_boards_fail_boards_reject = []\n",
    "\n",
    "\n",
    "for key in vars_cache:\n",
    "    r, t, b_p, b_p_reject = key\n",
    "    if b_p == 1 and r==0 and b_p_reject==1:\n",
    "        white_pass_boards_pass_boards_reject.append(key)\n",
    "    elif b_p == 0 and r==0 and b_p_reject==1:\n",
    "        white_fail_boards_pass_boards_reject.append(key)\n",
    "    elif b_p == 1 and r==1 and b_p_reject==1:\n",
    "        black_pass_boards_pass_boards_reject.append(key)\n",
    "    elif b_p == 0 and r==1 and b_p_reject==1:\n",
    "        black_fail_boards_pass_boards_reject.append(key)\n",
    "        \n",
    "    if b_p == 1 and r==0 and b_p_reject==0:\n",
    "        white_pass_boards_fail_boards_reject.append(key)\n",
    "    elif b_p == 0 and r==0 and b_p_reject==0:\n",
    "        white_fail_boards_fail_boards_reject.append(key)\n",
    "    elif b_p == 1 and r==1 and b_p_reject==0:\n",
    "        black_pass_boards_fail_boards_reject.append(key)\n",
    "    elif b_p == 0 and r==1 and b_p_reject==0:\n",
    "        black_fail_boards_fail_boards_reject.append(key)\n",
    "\n",
    "len(white_pass_boards_pass_boards_reject),len(white_fail_boards_pass_boards_reject),len(black_pass_boards_pass_boards_reject),len(black_fail_boards_pass_boards_reject)\n",
    "\n",
    "\n"
   ]
  },
  {
   "cell_type": "code",
   "execution_count": 28,
   "metadata": {
    "execution": {
     "iopub.execute_input": "2022-06-10T00:04:33.221039Z",
     "iopub.status.busy": "2022-06-10T00:04:33.220564Z",
     "iopub.status.idle": "2022-06-10T00:04:33.222043Z",
     "shell.execute_reply": "2022-06-10T00:04:33.222604Z"
    }
   },
   "outputs": [],
   "source": [
    "NUM_TOTALS = {}\n",
    "df_totals = dff[['N','R','B_p','B_p_reject']].groupby(['R','B_p','B_p_reject']).sum().reset_index()\n",
    "for ix, row in df_totals.iterrows():\n",
    "    NUM_TOTALS[(row['R'],row['B_p'],row['B_p_reject'])] = row['N']\n",
    "    \n",
    "N_IN_STRATAS = {}\n",
    "for ix, row in dff.iterrows():\n",
    "    N_IN_STRATAS[(row['R'],row['T'],row['B_p'],row['B_p_reject'])] = row['N']"
   ]
  },
  {
   "cell_type": "code",
   "execution_count": 29,
   "metadata": {
    "execution": {
     "iopub.execute_input": "2022-06-10T00:04:33.225328Z",
     "iopub.status.busy": "2022-06-10T00:04:33.224958Z",
     "iopub.status.idle": "2022-06-10T00:04:33.226537Z",
     "shell.execute_reply": "2022-06-10T00:04:33.226838Z"
    }
   },
   "outputs": [
    {
     "data": {
      "text/plain": [
       "1456"
      ]
     },
     "execution_count": 29,
     "metadata": {},
     "output_type": "execute_result"
    }
   ],
   "source": [
    "# Now we have one constraint\n",
    "solver.NumConstraints()"
   ]
  },
  {
   "cell_type": "code",
   "execution_count": 30,
   "metadata": {
    "execution": {
     "iopub.execute_input": "2022-06-10T00:04:33.232046Z",
     "iopub.status.busy": "2022-06-10T00:04:33.231601Z",
     "iopub.status.idle": "2022-06-10T00:04:33.232770Z",
     "shell.execute_reply": "2022-06-10T00:04:33.233081Z"
    }
   },
   "outputs": [],
   "source": [
    "#Of those who pass the boards exams, pass boards exams if rejected\n",
    "#Frac white admitted and frac black admitted should be the same\n",
    "\n",
    "constrain_pass_boards_pass_boards_reject = solver.Constraint(0.0, 0.0)\n",
    "\n",
    "for key in white_pass_boards_pass_boards_reject:\n",
    "    r, t, b_p, b_p_reject = key\n",
    "    N_IN_STRATUM = N_IN_STRATAS[(r,t,b_p, b_p_reject)]\n",
    "    N_TOTAL = NUM_TOTALS[(r,b_p, b_p_reject)]\n",
    "    \n",
    "    constrain_pass_boards_pass_boards_reject.SetCoefficient(vars_cache[key], float(N_IN_STRATUM) / float(N_TOTAL))\n",
    "\n",
    "for key in black_pass_boards_pass_boards_reject:\n",
    "    r, t, b_p, b_p_reject = key\n",
    "    N_IN_STRATUM = N_IN_STRATAS[(r,t,b_p, b_p_reject)]\n",
    "    N_TOTAL = NUM_TOTALS[(r,b_p, b_p_reject)]\n",
    "    \n",
    "    constrain_pass_boards_pass_boards_reject.SetCoefficient(vars_cache[key], -1.0 * (float(N_IN_STRATUM) / float(N_TOTAL)))\n"
   ]
  },
  {
   "cell_type": "code",
   "execution_count": 31,
   "metadata": {
    "execution": {
     "iopub.execute_input": "2022-06-10T00:04:33.237219Z",
     "iopub.status.busy": "2022-06-10T00:04:33.236813Z",
     "iopub.status.idle": "2022-06-10T00:04:33.238206Z",
     "shell.execute_reply": "2022-06-10T00:04:33.238576Z"
    }
   },
   "outputs": [],
   "source": [
    "#Of those who fail the boards exams, pass boards exams if rejected\n",
    "#Frac white admitted and frac black admitted should be the same\n",
    "\n",
    "constrain_fail_boards_pass_boards_reject = solver.Constraint(0.0, 0.0)\n",
    "\n",
    "for key in white_fail_boards_pass_boards_reject:\n",
    "    r, t, b_p, b_p_reject = key\n",
    "    N_IN_STRATUM = N_IN_STRATAS[(r,t,b_p, b_p_reject)]\n",
    "    N_TOTAL = NUM_TOTALS[(r,b_p, b_p_reject)]\n",
    "    \n",
    "    constrain_fail_boards_pass_boards_reject.SetCoefficient(vars_cache[key], float(N_IN_STRATUM) / float(N_TOTAL))\n",
    "\n",
    "for key in black_fail_boards_pass_boards_reject:\n",
    "    r, t, b_p, b_p_reject = key\n",
    "    N_IN_STRATUM = N_IN_STRATAS[(r,t,b_p, b_p_reject)]\n",
    "    N_TOTAL = NUM_TOTALS[(r,b_p, b_p_reject)]\n",
    "    \n",
    "    constrain_fail_boards_pass_boards_reject.SetCoefficient(vars_cache[key], -1.0 * (float(N_IN_STRATUM) / float(N_TOTAL)))\n"
   ]
  },
  {
   "cell_type": "code",
   "execution_count": 32,
   "metadata": {
    "execution": {
     "iopub.execute_input": "2022-06-10T00:04:33.246004Z",
     "iopub.status.busy": "2022-06-10T00:04:33.245533Z",
     "iopub.status.idle": "2022-06-10T00:04:33.246828Z",
     "shell.execute_reply": "2022-06-10T00:04:33.247131Z"
    }
   },
   "outputs": [],
   "source": [
    "constrain_pass_boards_fail_boards_reject = solver.Constraint(0.0, 0.0)\n",
    "\n",
    "for key in white_pass_boards_fail_boards_reject:\n",
    "    r, t, b_p, b_p_reject = key\n",
    "    N_IN_STRATUM = N_IN_STRATAS[(r,t,b_p, b_p_reject)]\n",
    "    N_TOTAL = NUM_TOTALS[(r,b_p, b_p_reject)]\n",
    "    \n",
    "    constrain_pass_boards_fail_boards_reject.SetCoefficient(vars_cache[key], float(N_IN_STRATUM) / float(N_TOTAL))\n",
    "\n",
    "for key in black_pass_boards_fail_boards_reject:\n",
    "    r, t, b_p, b_p_reject = key\n",
    "    N_IN_STRATUM = N_IN_STRATAS[(r,t,b_p, b_p_reject)]\n",
    "    N_TOTAL = NUM_TOTALS[(r,b_p, b_p_reject)]\n",
    "    \n",
    "    constrain_pass_boards_fail_boards_reject.SetCoefficient(vars_cache[key], -1.0 * (float(N_IN_STRATUM) / float(N_TOTAL)))\n",
    "\n",
    "    \n",
    "#Of those who fail the boards exams, fail boards exams if rejected\n",
    "#Frac white admitted and frac black admitted should be the same\n",
    "\n",
    "constrain_fail_boards_fail_boards_reject = solver.Constraint(0.0, 0.0)\n",
    "\n",
    "for key in white_fail_boards_fail_boards_reject:\n",
    "    r, t, b_p, b_p_reject = key\n",
    "    N_IN_STRATUM = N_IN_STRATAS[(r,t,b_p, b_p_reject)]\n",
    "    N_TOTAL = NUM_TOTALS[(r,b_p, b_p_reject)]\n",
    "    \n",
    "    constrain_fail_boards_fail_boards_reject.SetCoefficient(vars_cache[key], float(N_IN_STRATUM) / float(N_TOTAL))\n",
    "\n",
    "for key in black_fail_boards_fail_boards_reject:\n",
    "    r, t, b_p, b_p_reject = key\n",
    "    N_IN_STRATUM = N_IN_STRATAS[(r,t,b_p, b_p_reject)]\n",
    "    N_TOTAL = NUM_TOTALS[(r,b_p, b_p_reject)]\n",
    "    \n",
    "    constrain_fail_boards_fail_boards_reject.SetCoefficient(vars_cache[key], -1.0 * (float(N_IN_STRATUM) / float(N_TOTAL)))\n"
   ]
  },
  {
   "cell_type": "markdown",
   "metadata": {},
   "source": [
    "## Add constraints on people who fail boards exams"
   ]
  },
  {
   "cell_type": "markdown",
   "metadata": {},
   "source": [
    "## Solve linear program"
   ]
  },
  {
   "cell_type": "code",
   "execution_count": 33,
   "metadata": {
    "execution": {
     "iopub.execute_input": "2022-06-10T00:04:33.249905Z",
     "iopub.status.busy": "2022-06-10T00:04:33.249514Z",
     "iopub.status.idle": "2022-06-10T00:04:33.251106Z",
     "shell.execute_reply": "2022-06-10T00:04:33.251390Z"
    }
   },
   "outputs": [
    {
     "data": {
      "text/plain": [
       "4"
      ]
     },
     "execution_count": 33,
     "metadata": {},
     "output_type": "execute_result"
    }
   ],
   "source": [
    "solver.ABNORMAL"
   ]
  },
  {
   "cell_type": "code",
   "execution_count": 34,
   "metadata": {
    "execution": {
     "iopub.execute_input": "2022-06-10T00:04:33.255990Z",
     "iopub.status.busy": "2022-06-10T00:04:33.255614Z",
     "iopub.status.idle": "2022-06-10T00:04:33.256860Z",
     "shell.execute_reply": "2022-06-10T00:04:33.257199Z"
    }
   },
   "outputs": [],
   "source": [
    "status = solver.Solve()\n"
   ]
  },
  {
   "cell_type": "code",
   "execution_count": 35,
   "metadata": {
    "execution": {
     "iopub.execute_input": "2022-06-10T00:04:33.259621Z",
     "iopub.status.busy": "2022-06-10T00:04:33.259169Z",
     "iopub.status.idle": "2022-06-10T00:04:33.261077Z",
     "shell.execute_reply": "2022-06-10T00:04:33.261462Z"
    }
   },
   "outputs": [
    {
     "data": {
      "text/plain": [
       "0"
      ]
     },
     "execution_count": 35,
     "metadata": {},
     "output_type": "execute_result"
    }
   ],
   "source": [
    "status"
   ]
  },
  {
   "cell_type": "code",
   "execution_count": 36,
   "metadata": {
    "execution": {
     "iopub.execute_input": "2022-06-10T00:04:33.264255Z",
     "iopub.status.busy": "2022-06-10T00:04:33.263842Z",
     "iopub.status.idle": "2022-06-10T00:04:33.265396Z",
     "shell.execute_reply": "2022-06-10T00:04:33.265790Z"
    }
   },
   "outputs": [
    {
     "data": {
      "text/plain": [
       "0"
      ]
     },
     "execution_count": 36,
     "metadata": {},
     "output_type": "execute_result"
    }
   ],
   "source": [
    "solver.OPTIMAL"
   ]
  },
  {
   "cell_type": "code",
   "execution_count": 37,
   "metadata": {
    "execution": {
     "iopub.execute_input": "2022-06-10T00:04:33.272711Z",
     "iopub.status.busy": "2022-06-10T00:04:33.272236Z",
     "iopub.status.idle": "2022-06-10T00:04:33.274004Z",
     "shell.execute_reply": "2022-06-10T00:04:33.274301Z"
    }
   },
   "outputs": [
    {
     "data": {
      "text/plain": [
       "[0,\n",
       " 1,\n",
       " 2,\n",
       " 3,\n",
       " 4,\n",
       " 5,\n",
       " 6,\n",
       " 7,\n",
       " 8,\n",
       " 9,\n",
       " 10,\n",
       " 11,\n",
       " 12,\n",
       " 13,\n",
       " 14,\n",
       " 15,\n",
       " 16,\n",
       " 17,\n",
       " 18,\n",
       " 19,\n",
       " 20,\n",
       " 21,\n",
       " 22,\n",
       " 23,\n",
       " 24,\n",
       " 25,\n",
       " 26,\n",
       " 27,\n",
       " 28,\n",
       " 29,\n",
       " 30,\n",
       " 31,\n",
       " 32,\n",
       " 33,\n",
       " 34,\n",
       " 35,\n",
       " 36,\n",
       " 37,\n",
       " 38,\n",
       " 39,\n",
       " 40,\n",
       " 41,\n",
       " 42,\n",
       " 43,\n",
       " 44,\n",
       " 45,\n",
       " 46,\n",
       " 47,\n",
       " 48,\n",
       " 49,\n",
       " 50,\n",
       " 51,\n",
       " 52,\n",
       " 53,\n",
       " 54,\n",
       " 55,\n",
       " 56,\n",
       " 57,\n",
       " 58,\n",
       " 59,\n",
       " 60,\n",
       " 61,\n",
       " 62,\n",
       " 63,\n",
       " 64,\n",
       " 65,\n",
       " 66,\n",
       " 67,\n",
       " 68,\n",
       " 69,\n",
       " 70,\n",
       " 71,\n",
       " 72,\n",
       " 73,\n",
       " 74,\n",
       " 75,\n",
       " 76,\n",
       " 77,\n",
       " 78,\n",
       " 79,\n",
       " 80,\n",
       " 81,\n",
       " 82,\n",
       " 83,\n",
       " 84,\n",
       " 85,\n",
       " 86,\n",
       " 87,\n",
       " 88,\n",
       " 89,\n",
       " 90,\n",
       " 91,\n",
       " 92,\n",
       " 93,\n",
       " 94,\n",
       " 95,\n",
       " 96,\n",
       " 97,\n",
       " 98,\n",
       " 99,\n",
       " 100,\n",
       " 101,\n",
       " 102,\n",
       " 103,\n",
       " 104,\n",
       " 105,\n",
       " 106,\n",
       " 107,\n",
       " 108,\n",
       " 109,\n",
       " 110,\n",
       " 111,\n",
       " 112,\n",
       " 113,\n",
       " 114,\n",
       " 115,\n",
       " 116,\n",
       " 117,\n",
       " 118,\n",
       " 119,\n",
       " 120,\n",
       " 121,\n",
       " 122,\n",
       " 123,\n",
       " 124,\n",
       " 125,\n",
       " 126,\n",
       " 127,\n",
       " 128,\n",
       " 129,\n",
       " 130,\n",
       " 131,\n",
       " 132,\n",
       " 133,\n",
       " 134,\n",
       " 135,\n",
       " 136,\n",
       " 137,\n",
       " 138,\n",
       " 139,\n",
       " 140,\n",
       " 141,\n",
       " 142,\n",
       " 143,\n",
       " 144,\n",
       " 145,\n",
       " 146,\n",
       " 147,\n",
       " 148,\n",
       " 149,\n",
       " 150,\n",
       " 151,\n",
       " 152,\n",
       " 153,\n",
       " 154,\n",
       " 155,\n",
       " 156,\n",
       " 157,\n",
       " 158,\n",
       " 159,\n",
       " 160,\n",
       " 161,\n",
       " 162,\n",
       " 163,\n",
       " 164,\n",
       " 165,\n",
       " 166,\n",
       " 167,\n",
       " 168,\n",
       " 169,\n",
       " 170,\n",
       " 171,\n",
       " 172,\n",
       " 173,\n",
       " 174,\n",
       " 175,\n",
       " 176,\n",
       " 177,\n",
       " 178,\n",
       " 179,\n",
       " 180,\n",
       " 181,\n",
       " 182,\n",
       " 183,\n",
       " 184,\n",
       " 185,\n",
       " 186,\n",
       " 187,\n",
       " 188,\n",
       " 189,\n",
       " 190,\n",
       " 191,\n",
       " 192,\n",
       " 193,\n",
       " 194,\n",
       " 195,\n",
       " 196,\n",
       " 197,\n",
       " 198,\n",
       " 199,\n",
       " 200,\n",
       " 201,\n",
       " 202,\n",
       " 203,\n",
       " 204,\n",
       " 205,\n",
       " 206,\n",
       " 207,\n",
       " 208,\n",
       " 209,\n",
       " 210,\n",
       " 211,\n",
       " 212,\n",
       " 213,\n",
       " 214,\n",
       " 215,\n",
       " 216,\n",
       " 217,\n",
       " 218,\n",
       " 219,\n",
       " 220,\n",
       " 221,\n",
       " 222,\n",
       " 223,\n",
       " 224,\n",
       " 225,\n",
       " 226,\n",
       " 227,\n",
       " 228,\n",
       " 229,\n",
       " 230,\n",
       " 231,\n",
       " 232,\n",
       " 233,\n",
       " 234,\n",
       " 235,\n",
       " 236,\n",
       " 237,\n",
       " 238,\n",
       " 239,\n",
       " 240,\n",
       " 241,\n",
       " 242,\n",
       " 243,\n",
       " 244,\n",
       " 245,\n",
       " 246,\n",
       " 247,\n",
       " 248,\n",
       " 249,\n",
       " 250,\n",
       " 251,\n",
       " 252,\n",
       " 253,\n",
       " 254,\n",
       " 255,\n",
       " 256,\n",
       " 257,\n",
       " 258,\n",
       " 259,\n",
       " 260,\n",
       " 261,\n",
       " 262,\n",
       " 263,\n",
       " 264,\n",
       " 265,\n",
       " 266,\n",
       " 267,\n",
       " 268,\n",
       " 269,\n",
       " 270,\n",
       " 271,\n",
       " 272,\n",
       " 273,\n",
       " 274,\n",
       " 275,\n",
       " 276,\n",
       " 277,\n",
       " 278,\n",
       " 279,\n",
       " 280,\n",
       " 281,\n",
       " 282,\n",
       " 283,\n",
       " 284,\n",
       " 285,\n",
       " 286,\n",
       " 287,\n",
       " 288,\n",
       " 289,\n",
       " 290,\n",
       " 291,\n",
       " 292,\n",
       " 293,\n",
       " 294,\n",
       " 295,\n",
       " 296,\n",
       " 297,\n",
       " 298,\n",
       " 299,\n",
       " 300,\n",
       " 301,\n",
       " 302,\n",
       " 303,\n",
       " 304,\n",
       " 305,\n",
       " 306,\n",
       " 307,\n",
       " 308,\n",
       " 309,\n",
       " 310,\n",
       " 311,\n",
       " 312,\n",
       " 313,\n",
       " 314,\n",
       " 315,\n",
       " 316,\n",
       " 317,\n",
       " 318,\n",
       " 319,\n",
       " 320,\n",
       " 321,\n",
       " 322,\n",
       " 323,\n",
       " 324,\n",
       " 325,\n",
       " 326,\n",
       " 327,\n",
       " 328,\n",
       " 329,\n",
       " 330,\n",
       " 331,\n",
       " 332,\n",
       " 333,\n",
       " 334,\n",
       " 335,\n",
       " 336,\n",
       " 337,\n",
       " 338,\n",
       " 339,\n",
       " 340,\n",
       " 341,\n",
       " 342,\n",
       " 343,\n",
       " 344,\n",
       " 345,\n",
       " 346,\n",
       " 347,\n",
       " 348,\n",
       " 349,\n",
       " 350,\n",
       " 351,\n",
       " 352,\n",
       " 353,\n",
       " 354,\n",
       " 355,\n",
       " 356,\n",
       " 357,\n",
       " 358,\n",
       " 359,\n",
       " 360,\n",
       " 361,\n",
       " 362,\n",
       " 363,\n",
       " 364,\n",
       " 365,\n",
       " 366,\n",
       " 367,\n",
       " 368,\n",
       " 369,\n",
       " 370,\n",
       " 371,\n",
       " 372,\n",
       " 373,\n",
       " 374,\n",
       " 375,\n",
       " 376,\n",
       " 377,\n",
       " 378,\n",
       " 379,\n",
       " 380,\n",
       " 381,\n",
       " 382,\n",
       " 383,\n",
       " 384,\n",
       " 385,\n",
       " 386,\n",
       " 387,\n",
       " 388,\n",
       " 389,\n",
       " 390,\n",
       " 391,\n",
       " 392,\n",
       " 393,\n",
       " 394,\n",
       " 395,\n",
       " 396,\n",
       " 397,\n",
       " 398,\n",
       " 399,\n",
       " 400,\n",
       " 401,\n",
       " 402,\n",
       " 403,\n",
       " 404,\n",
       " 405,\n",
       " 406,\n",
       " 407,\n",
       " 408,\n",
       " 409,\n",
       " 410,\n",
       " 411,\n",
       " 412,\n",
       " 413,\n",
       " 414,\n",
       " 415,\n",
       " 416,\n",
       " 417,\n",
       " 418,\n",
       " 419,\n",
       " 420,\n",
       " 421,\n",
       " 422,\n",
       " 423,\n",
       " 424,\n",
       " 425,\n",
       " 426,\n",
       " 427,\n",
       " 428,\n",
       " 429,\n",
       " 430,\n",
       " 431,\n",
       " 432,\n",
       " 433,\n",
       " 434,\n",
       " 435,\n",
       " 436,\n",
       " 437,\n",
       " 438,\n",
       " 439,\n",
       " 440,\n",
       " 441,\n",
       " 442,\n",
       " 443,\n",
       " 444,\n",
       " 445,\n",
       " 446,\n",
       " 447,\n",
       " 448,\n",
       " 449,\n",
       " 450,\n",
       " 451,\n",
       " 452,\n",
       " 453,\n",
       " 454,\n",
       " 455,\n",
       " 456,\n",
       " 457,\n",
       " 458,\n",
       " 459,\n",
       " 460,\n",
       " 461,\n",
       " 462,\n",
       " 463,\n",
       " 464,\n",
       " 465,\n",
       " 466,\n",
       " 467,\n",
       " 468,\n",
       " 469,\n",
       " 470,\n",
       " 471,\n",
       " 472,\n",
       " 473,\n",
       " 474,\n",
       " 475,\n",
       " 476,\n",
       " 477,\n",
       " 478,\n",
       " 479,\n",
       " 480,\n",
       " 481,\n",
       " 482,\n",
       " 483,\n",
       " 484]"
      ]
     },
     "execution_count": 37,
     "metadata": {},
     "output_type": "execute_result"
    }
   ],
   "source": [
    "applicant_stratum"
   ]
  },
  {
   "cell_type": "code",
   "execution_count": 38,
   "metadata": {
    "execution": {
     "iopub.execute_input": "2022-06-10T00:04:33.278098Z",
     "iopub.status.busy": "2022-06-10T00:04:33.277639Z",
     "iopub.status.idle": "2022-06-10T00:04:33.278957Z",
     "shell.execute_reply": "2022-06-10T00:04:33.279246Z"
    },
    "scrolled": true
   },
   "outputs": [],
   "source": [
    "row = []\n",
    "admit = []\n",
    "\n",
    "for i in applicant_stratum:\n",
    "    row.append(int(str(i)))\n",
    "    admit.append(i.solution_value())\n",
    "\n",
    "df_decisions = pd.DataFrame({'row_id':row,'decision':admit})"
   ]
  },
  {
   "cell_type": "code",
   "execution_count": 39,
   "metadata": {
    "execution": {
     "iopub.execute_input": "2022-06-10T00:04:33.284998Z",
     "iopub.status.busy": "2022-06-10T00:04:33.284589Z",
     "iopub.status.idle": "2022-06-10T00:04:33.286142Z",
     "shell.execute_reply": "2022-06-10T00:04:33.286435Z"
    }
   },
   "outputs": [
    {
     "data": {
      "text/html": [
       "<div>\n",
       "<style scoped>\n",
       "    .dataframe tbody tr th:only-of-type {\n",
       "        vertical-align: middle;\n",
       "    }\n",
       "\n",
       "    .dataframe tbody tr th {\n",
       "        vertical-align: top;\n",
       "    }\n",
       "\n",
       "    .dataframe thead th {\n",
       "        text-align: right;\n",
       "    }\n",
       "</style>\n",
       "<table border=\"1\" class=\"dataframe\">\n",
       "  <thead>\n",
       "    <tr style=\"text-align: right;\">\n",
       "      <th></th>\n",
       "      <th>row_id</th>\n",
       "      <th>decision</th>\n",
       "    </tr>\n",
       "  </thead>\n",
       "  <tbody>\n",
       "    <tr>\n",
       "      <th>0</th>\n",
       "      <td>0</td>\n",
       "      <td>0.0</td>\n",
       "    </tr>\n",
       "    <tr>\n",
       "      <th>1</th>\n",
       "      <td>1</td>\n",
       "      <td>0.0</td>\n",
       "    </tr>\n",
       "    <tr>\n",
       "      <th>2</th>\n",
       "      <td>2</td>\n",
       "      <td>0.0</td>\n",
       "    </tr>\n",
       "    <tr>\n",
       "      <th>3</th>\n",
       "      <td>3</td>\n",
       "      <td>0.0</td>\n",
       "    </tr>\n",
       "    <tr>\n",
       "      <th>4</th>\n",
       "      <td>4</td>\n",
       "      <td>0.0</td>\n",
       "    </tr>\n",
       "    <tr>\n",
       "      <th>...</th>\n",
       "      <td>...</td>\n",
       "      <td>...</td>\n",
       "    </tr>\n",
       "    <tr>\n",
       "      <th>480</th>\n",
       "      <td>480</td>\n",
       "      <td>1.0</td>\n",
       "    </tr>\n",
       "    <tr>\n",
       "      <th>481</th>\n",
       "      <td>481</td>\n",
       "      <td>1.0</td>\n",
       "    </tr>\n",
       "    <tr>\n",
       "      <th>482</th>\n",
       "      <td>482</td>\n",
       "      <td>1.0</td>\n",
       "    </tr>\n",
       "    <tr>\n",
       "      <th>483</th>\n",
       "      <td>483</td>\n",
       "      <td>1.0</td>\n",
       "    </tr>\n",
       "    <tr>\n",
       "      <th>484</th>\n",
       "      <td>484</td>\n",
       "      <td>1.0</td>\n",
       "    </tr>\n",
       "  </tbody>\n",
       "</table>\n",
       "<p>485 rows × 2 columns</p>\n",
       "</div>"
      ],
      "text/plain": [
       "     row_id  decision\n",
       "0         0       0.0\n",
       "1         1       0.0\n",
       "2         2       0.0\n",
       "3         3       0.0\n",
       "4         4       0.0\n",
       "..      ...       ...\n",
       "480     480       1.0\n",
       "481     481       1.0\n",
       "482     482       1.0\n",
       "483     483       1.0\n",
       "484     484       1.0\n",
       "\n",
       "[485 rows x 2 columns]"
      ]
     },
     "execution_count": 39,
     "metadata": {},
     "output_type": "execute_result"
    }
   ],
   "source": [
    "df_decisions"
   ]
  },
  {
   "cell_type": "code",
   "execution_count": 40,
   "metadata": {
    "execution": {
     "iopub.execute_input": "2022-06-10T00:04:33.294747Z",
     "iopub.status.busy": "2022-06-10T00:04:33.289439Z",
     "iopub.status.idle": "2022-06-10T00:04:33.296710Z",
     "shell.execute_reply": "2022-06-10T00:04:33.297027Z"
    }
   },
   "outputs": [
    {
     "data": {
      "text/html": [
       "<div>\n",
       "<style scoped>\n",
       "    .dataframe tbody tr th:only-of-type {\n",
       "        vertical-align: middle;\n",
       "    }\n",
       "\n",
       "    .dataframe tbody tr th {\n",
       "        vertical-align: top;\n",
       "    }\n",
       "\n",
       "    .dataframe thead th {\n",
       "        text-align: right;\n",
       "    }\n",
       "</style>\n",
       "<table border=\"1\" class=\"dataframe\">\n",
       "  <thead>\n",
       "    <tr style=\"text-align: right;\">\n",
       "      <th></th>\n",
       "      <th>level_0</th>\n",
       "      <th>index</th>\n",
       "      <th>R</th>\n",
       "      <th>T</th>\n",
       "      <th>B_p</th>\n",
       "      <th>B_p_reject</th>\n",
       "      <th>ml_outcomes</th>\n",
       "      <th>N</th>\n",
       "      <th>row_id</th>\n",
       "      <th>decision</th>\n",
       "    </tr>\n",
       "  </thead>\n",
       "  <tbody>\n",
       "    <tr>\n",
       "      <th>130</th>\n",
       "      <td>0</td>\n",
       "      <td>130</td>\n",
       "      <td>0</td>\n",
       "      <td>62</td>\n",
       "      <td>1</td>\n",
       "      <td>1</td>\n",
       "      <td>587.16</td>\n",
       "      <td>932</td>\n",
       "      <td>130</td>\n",
       "      <td>1.0</td>\n",
       "    </tr>\n",
       "    <tr>\n",
       "      <th>136</th>\n",
       "      <td>1</td>\n",
       "      <td>136</td>\n",
       "      <td>0</td>\n",
       "      <td>64</td>\n",
       "      <td>1</td>\n",
       "      <td>1</td>\n",
       "      <td>577.53</td>\n",
       "      <td>837</td>\n",
       "      <td>136</td>\n",
       "      <td>1.0</td>\n",
       "    </tr>\n",
       "    <tr>\n",
       "      <th>142</th>\n",
       "      <td>2</td>\n",
       "      <td>142</td>\n",
       "      <td>0</td>\n",
       "      <td>66</td>\n",
       "      <td>1</td>\n",
       "      <td>1</td>\n",
       "      <td>576.70</td>\n",
       "      <td>790</td>\n",
       "      <td>142</td>\n",
       "      <td>1.0</td>\n",
       "    </tr>\n",
       "    <tr>\n",
       "      <th>139</th>\n",
       "      <td>3</td>\n",
       "      <td>139</td>\n",
       "      <td>0</td>\n",
       "      <td>65</td>\n",
       "      <td>1</td>\n",
       "      <td>1</td>\n",
       "      <td>576.15</td>\n",
       "      <td>835</td>\n",
       "      <td>139</td>\n",
       "      <td>1.0</td>\n",
       "    </tr>\n",
       "    <tr>\n",
       "      <th>127</th>\n",
       "      <td>4</td>\n",
       "      <td>127</td>\n",
       "      <td>0</td>\n",
       "      <td>61</td>\n",
       "      <td>1</td>\n",
       "      <td>1</td>\n",
       "      <td>572.67</td>\n",
       "      <td>909</td>\n",
       "      <td>127</td>\n",
       "      <td>1.0</td>\n",
       "    </tr>\n",
       "    <tr>\n",
       "      <th>...</th>\n",
       "      <td>...</td>\n",
       "      <td>...</td>\n",
       "      <td>...</td>\n",
       "      <td>...</td>\n",
       "      <td>...</td>\n",
       "      <td>...</td>\n",
       "      <td>...</td>\n",
       "      <td>...</td>\n",
       "      <td>...</td>\n",
       "      <td>...</td>\n",
       "    </tr>\n",
       "    <tr>\n",
       "      <th>5</th>\n",
       "      <td>480</td>\n",
       "      <td>5</td>\n",
       "      <td>0</td>\n",
       "      <td>18</td>\n",
       "      <td>0</td>\n",
       "      <td>0</td>\n",
       "      <td>0.00</td>\n",
       "      <td>11</td>\n",
       "      <td>5</td>\n",
       "      <td>0.0</td>\n",
       "    </tr>\n",
       "    <tr>\n",
       "      <th>4</th>\n",
       "      <td>481</td>\n",
       "      <td>4</td>\n",
       "      <td>0</td>\n",
       "      <td>17</td>\n",
       "      <td>0</td>\n",
       "      <td>0</td>\n",
       "      <td>0.00</td>\n",
       "      <td>3</td>\n",
       "      <td>4</td>\n",
       "      <td>0.0</td>\n",
       "    </tr>\n",
       "    <tr>\n",
       "      <th>3</th>\n",
       "      <td>482</td>\n",
       "      <td>3</td>\n",
       "      <td>0</td>\n",
       "      <td>16</td>\n",
       "      <td>0</td>\n",
       "      <td>0</td>\n",
       "      <td>0.00</td>\n",
       "      <td>2</td>\n",
       "      <td>3</td>\n",
       "      <td>0.0</td>\n",
       "    </tr>\n",
       "    <tr>\n",
       "      <th>2</th>\n",
       "      <td>483</td>\n",
       "      <td>2</td>\n",
       "      <td>0</td>\n",
       "      <td>15</td>\n",
       "      <td>0</td>\n",
       "      <td>0</td>\n",
       "      <td>0.00</td>\n",
       "      <td>2</td>\n",
       "      <td>2</td>\n",
       "      <td>0.0</td>\n",
       "    </tr>\n",
       "    <tr>\n",
       "      <th>0</th>\n",
       "      <td>484</td>\n",
       "      <td>0</td>\n",
       "      <td>0</td>\n",
       "      <td>11</td>\n",
       "      <td>0</td>\n",
       "      <td>0</td>\n",
       "      <td>0.00</td>\n",
       "      <td>1</td>\n",
       "      <td>0</td>\n",
       "      <td>0.0</td>\n",
       "    </tr>\n",
       "  </tbody>\n",
       "</table>\n",
       "<p>485 rows × 10 columns</p>\n",
       "</div>"
      ],
      "text/plain": [
       "     level_0  index  R   T  B_p  B_p_reject  ml_outcomes    N  row_id  \\\n",
       "130        0    130  0  62    1           1       587.16  932     130   \n",
       "136        1    136  0  64    1           1       577.53  837     136   \n",
       "142        2    142  0  66    1           1       576.70  790     142   \n",
       "139        3    139  0  65    1           1       576.15  835     139   \n",
       "127        4    127  0  61    1           1       572.67  909     127   \n",
       "..       ...    ... ..  ..  ...         ...          ...  ...     ...   \n",
       "5        480      5  0  18    0           0         0.00   11       5   \n",
       "4        481      4  0  17    0           0         0.00    3       4   \n",
       "3        482      3  0  16    0           0         0.00    2       3   \n",
       "2        483      2  0  15    0           0         0.00    2       2   \n",
       "0        484      0  0  11    0           0         0.00    1       0   \n",
       "\n",
       "     decision  \n",
       "130       1.0  \n",
       "136       1.0  \n",
       "142       1.0  \n",
       "139       1.0  \n",
       "127       1.0  \n",
       "..        ...  \n",
       "5         0.0  \n",
       "4         0.0  \n",
       "3         0.0  \n",
       "2         0.0  \n",
       "0         0.0  \n",
       "\n",
       "[485 rows x 10 columns]"
      ]
     },
     "execution_count": 40,
     "metadata": {},
     "output_type": "execute_result"
    }
   ],
   "source": [
    "dff.merge(df_decisions,left_index=True,right_index=True).sort_values(by='ml_outcomes',ascending=False)"
   ]
  },
  {
   "cell_type": "code",
   "execution_count": 41,
   "metadata": {
    "execution": {
     "iopub.execute_input": "2022-06-10T00:04:33.306387Z",
     "iopub.status.busy": "2022-06-10T00:04:33.305978Z",
     "iopub.status.idle": "2022-06-10T00:04:33.307658Z",
     "shell.execute_reply": "2022-06-10T00:04:33.307941Z"
    }
   },
   "outputs": [
    {
     "data": {
      "text/html": [
       "<div>\n",
       "<style scoped>\n",
       "    .dataframe tbody tr th:only-of-type {\n",
       "        vertical-align: middle;\n",
       "    }\n",
       "\n",
       "    .dataframe tbody tr th {\n",
       "        vertical-align: top;\n",
       "    }\n",
       "\n",
       "    .dataframe thead th {\n",
       "        text-align: right;\n",
       "    }\n",
       "</style>\n",
       "<table border=\"1\" class=\"dataframe\">\n",
       "  <thead>\n",
       "    <tr style=\"text-align: right;\">\n",
       "      <th></th>\n",
       "      <th>level_0</th>\n",
       "      <th>index</th>\n",
       "      <th>R</th>\n",
       "      <th>T</th>\n",
       "      <th>B_p</th>\n",
       "      <th>B_p_reject</th>\n",
       "      <th>ml_outcomes</th>\n",
       "      <th>N</th>\n",
       "      <th>row_id</th>\n",
       "      <th>decision</th>\n",
       "    </tr>\n",
       "  </thead>\n",
       "  <tbody>\n",
       "    <tr>\n",
       "      <th>0</th>\n",
       "      <td>484</td>\n",
       "      <td>0</td>\n",
       "      <td>0</td>\n",
       "      <td>11</td>\n",
       "      <td>0</td>\n",
       "      <td>0</td>\n",
       "      <td>0.00</td>\n",
       "      <td>1</td>\n",
       "      <td>0</td>\n",
       "      <td>0.0</td>\n",
       "    </tr>\n",
       "    <tr>\n",
       "      <th>261</th>\n",
       "      <td>469</td>\n",
       "      <td>261</td>\n",
       "      <td>1</td>\n",
       "      <td>11</td>\n",
       "      <td>0</td>\n",
       "      <td>0</td>\n",
       "      <td>0.25</td>\n",
       "      <td>1</td>\n",
       "      <td>261</td>\n",
       "      <td>0.0</td>\n",
       "    </tr>\n",
       "    <tr>\n",
       "      <th>262</th>\n",
       "      <td>471</td>\n",
       "      <td>262</td>\n",
       "      <td>1</td>\n",
       "      <td>12</td>\n",
       "      <td>0</td>\n",
       "      <td>0</td>\n",
       "      <td>0.25</td>\n",
       "      <td>1</td>\n",
       "      <td>262</td>\n",
       "      <td>0.0</td>\n",
       "    </tr>\n",
       "    <tr>\n",
       "      <th>263</th>\n",
       "      <td>458</td>\n",
       "      <td>263</td>\n",
       "      <td>1</td>\n",
       "      <td>13</td>\n",
       "      <td>0</td>\n",
       "      <td>0</td>\n",
       "      <td>0.50</td>\n",
       "      <td>2</td>\n",
       "      <td>263</td>\n",
       "      <td>0.0</td>\n",
       "    </tr>\n",
       "    <tr>\n",
       "      <th>264</th>\n",
       "      <td>451</td>\n",
       "      <td>264</td>\n",
       "      <td>1</td>\n",
       "      <td>14</td>\n",
       "      <td>0</td>\n",
       "      <td>0</td>\n",
       "      <td>0.75</td>\n",
       "      <td>3</td>\n",
       "      <td>264</td>\n",
       "      <td>0.0</td>\n",
       "    </tr>\n",
       "    <tr>\n",
       "      <th>...</th>\n",
       "      <td>...</td>\n",
       "      <td>...</td>\n",
       "      <td>...</td>\n",
       "      <td>...</td>\n",
       "      <td>...</td>\n",
       "      <td>...</td>\n",
       "      <td>...</td>\n",
       "      <td>...</td>\n",
       "      <td>...</td>\n",
       "      <td>...</td>\n",
       "    </tr>\n",
       "    <tr>\n",
       "      <th>256</th>\n",
       "      <td>403</td>\n",
       "      <td>256</td>\n",
       "      <td>0</td>\n",
       "      <td>116</td>\n",
       "      <td>1</td>\n",
       "      <td>1</td>\n",
       "      <td>2.00</td>\n",
       "      <td>2</td>\n",
       "      <td>256</td>\n",
       "      <td>0.0</td>\n",
       "    </tr>\n",
       "    <tr>\n",
       "      <th>257</th>\n",
       "      <td>402</td>\n",
       "      <td>257</td>\n",
       "      <td>0</td>\n",
       "      <td>119</td>\n",
       "      <td>1</td>\n",
       "      <td>1</td>\n",
       "      <td>2.00</td>\n",
       "      <td>2</td>\n",
       "      <td>257</td>\n",
       "      <td>0.0</td>\n",
       "    </tr>\n",
       "    <tr>\n",
       "      <th>258</th>\n",
       "      <td>441</td>\n",
       "      <td>258</td>\n",
       "      <td>0</td>\n",
       "      <td>121</td>\n",
       "      <td>1</td>\n",
       "      <td>1</td>\n",
       "      <td>1.00</td>\n",
       "      <td>1</td>\n",
       "      <td>258</td>\n",
       "      <td>0.0</td>\n",
       "    </tr>\n",
       "    <tr>\n",
       "      <th>259</th>\n",
       "      <td>442</td>\n",
       "      <td>259</td>\n",
       "      <td>0</td>\n",
       "      <td>127</td>\n",
       "      <td>1</td>\n",
       "      <td>1</td>\n",
       "      <td>1.00</td>\n",
       "      <td>1</td>\n",
       "      <td>259</td>\n",
       "      <td>0.0</td>\n",
       "    </tr>\n",
       "    <tr>\n",
       "      <th>260</th>\n",
       "      <td>440</td>\n",
       "      <td>260</td>\n",
       "      <td>0</td>\n",
       "      <td>129</td>\n",
       "      <td>1</td>\n",
       "      <td>1</td>\n",
       "      <td>1.00</td>\n",
       "      <td>1</td>\n",
       "      <td>260</td>\n",
       "      <td>0.0</td>\n",
       "    </tr>\n",
       "  </tbody>\n",
       "</table>\n",
       "<p>485 rows × 10 columns</p>\n",
       "</div>"
      ],
      "text/plain": [
       "     level_0  index  R    T  B_p  B_p_reject  ml_outcomes  N  row_id  decision\n",
       "0        484      0  0   11    0           0         0.00  1       0       0.0\n",
       "261      469    261  1   11    0           0         0.25  1     261       0.0\n",
       "262      471    262  1   12    0           0         0.25  1     262       0.0\n",
       "263      458    263  1   13    0           0         0.50  2     263       0.0\n",
       "264      451    264  1   14    0           0         0.75  3     264       0.0\n",
       "..       ...    ... ..  ...  ...         ...          ... ..     ...       ...\n",
       "256      403    256  0  116    1           1         2.00  2     256       0.0\n",
       "257      402    257  0  119    1           1         2.00  2     257       0.0\n",
       "258      441    258  0  121    1           1         1.00  1     258       0.0\n",
       "259      442    259  0  127    1           1         1.00  1     259       0.0\n",
       "260      440    260  0  129    1           1         1.00  1     260       0.0\n",
       "\n",
       "[485 rows x 10 columns]"
      ]
     },
     "execution_count": 41,
     "metadata": {},
     "output_type": "execute_result"
    }
   ],
   "source": [
    "xxx_ = dff.merge(df_decisions,left_index=True,right_index=True).sort_values(by='ml_outcomes',ascending=False)\n",
    "xxx_.sort_values(by='T')"
   ]
  },
  {
   "cell_type": "code",
   "execution_count": 42,
   "metadata": {
    "execution": {
     "iopub.execute_input": "2022-06-10T00:04:33.316776Z",
     "iopub.status.busy": "2022-06-10T00:04:33.316368Z",
     "iopub.status.idle": "2022-06-10T00:04:33.317980Z",
     "shell.execute_reply": "2022-06-10T00:04:33.318274Z"
    }
   },
   "outputs": [
    {
     "data": {
      "text/html": [
       "<div>\n",
       "<style scoped>\n",
       "    .dataframe tbody tr th:only-of-type {\n",
       "        vertical-align: middle;\n",
       "    }\n",
       "\n",
       "    .dataframe tbody tr th {\n",
       "        vertical-align: top;\n",
       "    }\n",
       "\n",
       "    .dataframe thead th {\n",
       "        text-align: right;\n",
       "    }\n",
       "</style>\n",
       "<table border=\"1\" class=\"dataframe\">\n",
       "  <thead>\n",
       "    <tr style=\"text-align: right;\">\n",
       "      <th></th>\n",
       "      <th>level_0</th>\n",
       "      <th>index</th>\n",
       "      <th>R</th>\n",
       "      <th>T</th>\n",
       "      <th>B_p</th>\n",
       "      <th>B_p_reject</th>\n",
       "      <th>ml_outcomes</th>\n",
       "      <th>N</th>\n",
       "      <th>row_id</th>\n",
       "      <th>decision</th>\n",
       "    </tr>\n",
       "  </thead>\n",
       "  <tbody>\n",
       "    <tr>\n",
       "      <th>130</th>\n",
       "      <td>0</td>\n",
       "      <td>130</td>\n",
       "      <td>0</td>\n",
       "      <td>62</td>\n",
       "      <td>1</td>\n",
       "      <td>1</td>\n",
       "      <td>587.16</td>\n",
       "      <td>932</td>\n",
       "      <td>130</td>\n",
       "      <td>1.0</td>\n",
       "    </tr>\n",
       "    <tr>\n",
       "      <th>136</th>\n",
       "      <td>1</td>\n",
       "      <td>136</td>\n",
       "      <td>0</td>\n",
       "      <td>64</td>\n",
       "      <td>1</td>\n",
       "      <td>1</td>\n",
       "      <td>577.53</td>\n",
       "      <td>837</td>\n",
       "      <td>136</td>\n",
       "      <td>1.0</td>\n",
       "    </tr>\n",
       "    <tr>\n",
       "      <th>142</th>\n",
       "      <td>2</td>\n",
       "      <td>142</td>\n",
       "      <td>0</td>\n",
       "      <td>66</td>\n",
       "      <td>1</td>\n",
       "      <td>1</td>\n",
       "      <td>576.70</td>\n",
       "      <td>790</td>\n",
       "      <td>142</td>\n",
       "      <td>1.0</td>\n",
       "    </tr>\n",
       "    <tr>\n",
       "      <th>139</th>\n",
       "      <td>3</td>\n",
       "      <td>139</td>\n",
       "      <td>0</td>\n",
       "      <td>65</td>\n",
       "      <td>1</td>\n",
       "      <td>1</td>\n",
       "      <td>576.15</td>\n",
       "      <td>835</td>\n",
       "      <td>139</td>\n",
       "      <td>1.0</td>\n",
       "    </tr>\n",
       "    <tr>\n",
       "      <th>127</th>\n",
       "      <td>4</td>\n",
       "      <td>127</td>\n",
       "      <td>0</td>\n",
       "      <td>61</td>\n",
       "      <td>1</td>\n",
       "      <td>1</td>\n",
       "      <td>572.67</td>\n",
       "      <td>909</td>\n",
       "      <td>127</td>\n",
       "      <td>1.0</td>\n",
       "    </tr>\n",
       "    <tr>\n",
       "      <th>...</th>\n",
       "      <td>...</td>\n",
       "      <td>...</td>\n",
       "      <td>...</td>\n",
       "      <td>...</td>\n",
       "      <td>...</td>\n",
       "      <td>...</td>\n",
       "      <td>...</td>\n",
       "      <td>...</td>\n",
       "      <td>...</td>\n",
       "      <td>...</td>\n",
       "    </tr>\n",
       "    <tr>\n",
       "      <th>5</th>\n",
       "      <td>480</td>\n",
       "      <td>5</td>\n",
       "      <td>0</td>\n",
       "      <td>18</td>\n",
       "      <td>0</td>\n",
       "      <td>0</td>\n",
       "      <td>0.00</td>\n",
       "      <td>11</td>\n",
       "      <td>5</td>\n",
       "      <td>0.0</td>\n",
       "    </tr>\n",
       "    <tr>\n",
       "      <th>4</th>\n",
       "      <td>481</td>\n",
       "      <td>4</td>\n",
       "      <td>0</td>\n",
       "      <td>17</td>\n",
       "      <td>0</td>\n",
       "      <td>0</td>\n",
       "      <td>0.00</td>\n",
       "      <td>3</td>\n",
       "      <td>4</td>\n",
       "      <td>0.0</td>\n",
       "    </tr>\n",
       "    <tr>\n",
       "      <th>3</th>\n",
       "      <td>482</td>\n",
       "      <td>3</td>\n",
       "      <td>0</td>\n",
       "      <td>16</td>\n",
       "      <td>0</td>\n",
       "      <td>0</td>\n",
       "      <td>0.00</td>\n",
       "      <td>2</td>\n",
       "      <td>3</td>\n",
       "      <td>0.0</td>\n",
       "    </tr>\n",
       "    <tr>\n",
       "      <th>2</th>\n",
       "      <td>483</td>\n",
       "      <td>2</td>\n",
       "      <td>0</td>\n",
       "      <td>15</td>\n",
       "      <td>0</td>\n",
       "      <td>0</td>\n",
       "      <td>0.00</td>\n",
       "      <td>2</td>\n",
       "      <td>2</td>\n",
       "      <td>0.0</td>\n",
       "    </tr>\n",
       "    <tr>\n",
       "      <th>0</th>\n",
       "      <td>484</td>\n",
       "      <td>0</td>\n",
       "      <td>0</td>\n",
       "      <td>11</td>\n",
       "      <td>0</td>\n",
       "      <td>0</td>\n",
       "      <td>0.00</td>\n",
       "      <td>1</td>\n",
       "      <td>0</td>\n",
       "      <td>0.0</td>\n",
       "    </tr>\n",
       "  </tbody>\n",
       "</table>\n",
       "<p>485 rows × 10 columns</p>\n",
       "</div>"
      ],
      "text/plain": [
       "     level_0  index  R   T  B_p  B_p_reject  ml_outcomes    N  row_id  \\\n",
       "130        0    130  0  62    1           1       587.16  932     130   \n",
       "136        1    136  0  64    1           1       577.53  837     136   \n",
       "142        2    142  0  66    1           1       576.70  790     142   \n",
       "139        3    139  0  65    1           1       576.15  835     139   \n",
       "127        4    127  0  61    1           1       572.67  909     127   \n",
       "..       ...    ... ..  ..  ...         ...          ...  ...     ...   \n",
       "5        480      5  0  18    0           0         0.00   11       5   \n",
       "4        481      4  0  17    0           0         0.00    3       4   \n",
       "3        482      3  0  16    0           0         0.00    2       3   \n",
       "2        483      2  0  15    0           0         0.00    2       2   \n",
       "0        484      0  0  11    0           0         0.00    1       0   \n",
       "\n",
       "     decision  \n",
       "130       1.0  \n",
       "136       1.0  \n",
       "142       1.0  \n",
       "139       1.0  \n",
       "127       1.0  \n",
       "..        ...  \n",
       "5         0.0  \n",
       "4         0.0  \n",
       "3         0.0  \n",
       "2         0.0  \n",
       "0         0.0  \n",
       "\n",
       "[485 rows x 10 columns]"
      ]
     },
     "execution_count": 42,
     "metadata": {},
     "output_type": "execute_result"
    }
   ],
   "source": [
    "xxx = dff.merge(df_decisions,left_index=True,right_index=True).sort_values(by='ml_outcomes',ascending=False)\n",
    "xxx"
   ]
  },
  {
   "cell_type": "code",
   "execution_count": 43,
   "metadata": {
    "execution": {
     "iopub.execute_input": "2022-06-10T00:04:33.320910Z",
     "iopub.status.busy": "2022-06-10T00:04:33.320447Z",
     "iopub.status.idle": "2022-06-10T00:04:33.324575Z",
     "shell.execute_reply": "2022-06-10T00:04:33.324837Z"
    }
   },
   "outputs": [],
   "source": [
    "xxx.to_csv('./decision.csv')"
   ]
  },
  {
   "cell_type": "code",
   "execution_count": 44,
   "metadata": {
    "execution": {
     "iopub.execute_input": "2022-06-10T00:04:33.326668Z",
     "iopub.status.busy": "2022-06-10T00:04:33.326169Z",
     "iopub.status.idle": "2022-06-10T00:04:33.329980Z",
     "shell.execute_reply": "2022-06-10T00:04:33.330198Z"
    }
   },
   "outputs": [],
   "source": [
    "solution = pd.read_csv('./decision.csv')"
   ]
  },
  {
   "cell_type": "code",
   "execution_count": 45,
   "metadata": {
    "execution": {
     "iopub.execute_input": "2022-06-10T00:04:33.332912Z",
     "iopub.status.busy": "2022-06-10T00:04:33.332438Z",
     "iopub.status.idle": "2022-06-10T00:04:33.334283Z",
     "shell.execute_reply": "2022-06-10T00:04:33.334577Z"
    }
   },
   "outputs": [
    {
     "data": {
      "text/plain": [
       "485"
      ]
     },
     "execution_count": 45,
     "metadata": {},
     "output_type": "execute_result"
    }
   ],
   "source": [
    "len(xxx)"
   ]
  },
  {
   "cell_type": "code",
   "execution_count": 46,
   "metadata": {
    "execution": {
     "iopub.execute_input": "2022-06-10T00:04:33.503825Z",
     "iopub.status.busy": "2022-06-10T00:04:33.503413Z",
     "iopub.status.idle": "2022-06-10T00:04:33.570696Z",
     "shell.execute_reply": "2022-06-10T00:04:33.571044Z"
    }
   },
   "outputs": [],
   "source": [
    "df['key'] = df['R'].astype(str)+'_'+df['T'].astype(str)+'_'+df['B_p'].astype(str)+'_'+df['B_p_reject'].astype(str)\n",
    "xxx['key'] = xxx['R'].astype(str)+'_'+xxx['T'].astype(str)+'_'+xxx['B_p'].astype(str)+'_'+xxx['B_p_reject'].astype(str)\n",
    "\n"
   ]
  },
  {
   "cell_type": "code",
   "execution_count": 47,
   "metadata": {
    "execution": {
     "iopub.execute_input": "2022-06-10T00:04:33.575306Z",
     "iopub.status.busy": "2022-06-10T00:04:33.574932Z",
     "iopub.status.idle": "2022-06-10T00:04:33.641368Z",
     "shell.execute_reply": "2022-06-10T00:04:33.641091Z"
    }
   },
   "outputs": [],
   "source": [
    "admit_decisions = df.merge(xxx[['key','decision']],how='left',on='key')\n",
    "admit_decisions['decision_random'] = pd.Series([random.random() for x in range(0,len(admit_decisions))]) < FRAC_ADMIT\n",
    "\n",
    "FRAC_BLACK_POLICY = (admit_decisions['R'] * admit_decisions['decision']).sum()/admit_decisions['decision'].sum()\n",
    "SUM_BP_POLICY = ( admit_decisions['B_p'] * admit_decisions['decision']).sum()\n",
    "\n",
    "FRAC_RANDOM_POLICY = (admit_decisions['R'] * admit_decisions['decision_random']).sum()/admit_decisions['decision_random'].sum()\n",
    "SUM_BP_RAND_POLICY = ( admit_decisions['B_p'] * admit_decisions['decision_random']).sum()"
   ]
  },
  {
   "cell_type": "code",
   "execution_count": 48,
   "metadata": {
    "execution": {
     "iopub.execute_input": "2022-06-10T00:04:33.644613Z",
     "iopub.status.busy": "2022-06-10T00:04:33.644106Z",
     "iopub.status.idle": "2022-06-10T00:04:33.645651Z",
     "shell.execute_reply": "2022-06-10T00:04:33.645983Z"
    }
   },
   "outputs": [],
   "source": [
    "file = open('./lp_results.csv','a')\n",
    "file.write('{}\\t{}\\t{}\\n'.format('Principal Fairness',str(FRAC_BLACK_POLICY),str(SUM_BP_POLICY)))\n",
    "file.close()"
   ]
  },
  {
   "cell_type": "code",
   "execution_count": null,
   "metadata": {},
   "outputs": [],
   "source": []
  },
  {
   "cell_type": "code",
   "execution_count": null,
   "metadata": {},
   "outputs": [],
   "source": []
  },
  {
   "cell_type": "code",
   "execution_count": 49,
   "metadata": {
    "execution": {
     "iopub.execute_input": "2022-06-10T00:04:33.649454Z",
     "iopub.status.busy": "2022-06-10T00:04:33.649021Z",
     "iopub.status.idle": "2022-06-10T00:04:33.650872Z",
     "shell.execute_reply": "2022-06-10T00:04:33.651355Z"
    }
   },
   "outputs": [
    {
     "data": {
      "text/plain": [
       "0.5"
      ]
     },
     "execution_count": 49,
     "metadata": {},
     "output_type": "execute_result"
    }
   ],
   "source": [
    "(xxx['N']*xxx['decision']).sum()/len(df)"
   ]
  }
 ],
 "metadata": {
  "kernelspec": {
   "display_name": "Python 3 (ipykernel)",
   "language": "python",
   "name": "python3"
  },
  "language_info": {
   "codemirror_mode": {
    "name": "ipython",
    "version": 3
   },
   "file_extension": ".py",
   "mimetype": "text/x-python",
   "name": "python",
   "nbconvert_exporter": "python",
   "pygments_lexer": "ipython3",
   "version": "3.9.7"
  }
 },
 "nbformat": 4,
 "nbformat_minor": 4
}
