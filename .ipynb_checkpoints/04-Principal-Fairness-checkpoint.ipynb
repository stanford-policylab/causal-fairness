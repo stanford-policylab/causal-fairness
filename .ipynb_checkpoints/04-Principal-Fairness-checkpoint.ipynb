{
 "cells": [
  {
   "cell_type": "code",
   "execution_count": 1,
   "metadata": {},
   "outputs": [],
   "source": [
    "import numpy as np\n",
    "import pandas as pd\n",
    "import matplotlib.pyplot as plt\n",
    "import seaborn as sns\n",
    "import random\n",
    "pd.options.display.max_rows = 5000\n",
    "pd.options.display.max_columns = 500"
   ]
  },
  {
   "cell_type": "code",
   "execution_count": null,
   "metadata": {},
   "outputs": [],
   "source": []
  },
  {
   "cell_type": "code",
   "execution_count": 2,
   "metadata": {},
   "outputs": [],
   "source": [
    "###\n",
    "## Load dataframe where each row is a single applicant\n",
    "###\n",
    "\n",
    "df = pd.read_csv('./df_test.csv')\n",
    "df['ml_outcomes'] = df['ml_outcomes_div'].round(4)\n"
   ]
  },
  {
   "cell_type": "code",
   "execution_count": 3,
   "metadata": {},
   "outputs": [],
   "source": [
    "#df['B_p_reject'] = np.random.randint(0,2,size=(len(df)))"
   ]
  },
  {
   "cell_type": "code",
   "execution_count": 4,
   "metadata": {},
   "outputs": [
    {
     "data": {
      "text/plain": [
       "0          1\n",
       "1          0\n",
       "2          1\n",
       "3          0\n",
       "4          1\n",
       "          ..\n",
       "9999995    1\n",
       "9999996    1\n",
       "9999997    1\n",
       "9999998    0\n",
       "9999999    1\n",
       "Name: B_p_reject, Length: 10000000, dtype: int64"
      ]
     },
     "execution_count": 4,
     "metadata": {},
     "output_type": "execute_result"
    }
   ],
   "source": [
    "df['B_p_reject']"
   ]
  },
  {
   "cell_type": "code",
   "execution_count": null,
   "metadata": {},
   "outputs": [],
   "source": [
    "df['B_p_stratum'] = df['B_p'].astype(str) + df['B_p_reject'].astype(str)\n",
    "\n"
   ]
  },
  {
   "cell_type": "code",
   "execution_count": null,
   "metadata": {},
   "outputs": [],
   "source": [
    "df['B_p_stratum'].value_counts()"
   ]
  },
  {
   "cell_type": "code",
   "execution_count": null,
   "metadata": {},
   "outputs": [],
   "source": [
    "# = \n",
    "#df['B_p_reject'] = df['B_p']"
   ]
  },
  {
   "cell_type": "code",
   "execution_count": null,
   "metadata": {},
   "outputs": [],
   "source": []
  },
  {
   "cell_type": "code",
   "execution_count": null,
   "metadata": {
    "scrolled": true
   },
   "outputs": [],
   "source": [
    "FRAC_ADMIT = df[['A']].sum()/len(df)\n"
   ]
  },
  {
   "cell_type": "code",
   "execution_count": null,
   "metadata": {},
   "outputs": [],
   "source": [
    "FRAC_ADMIT"
   ]
  },
  {
   "cell_type": "code",
   "execution_count": null,
   "metadata": {},
   "outputs": [],
   "source": []
  },
  {
   "cell_type": "code",
   "execution_count": null,
   "metadata": {},
   "outputs": [],
   "source": [
    "len(df)"
   ]
  },
  {
   "cell_type": "code",
   "execution_count": null,
   "metadata": {},
   "outputs": [],
   "source": [
    "#df['ml_outcomes'] = df['R']"
   ]
  },
  {
   "cell_type": "code",
   "execution_count": null,
   "metadata": {},
   "outputs": [],
   "source": [
    "##\n",
    "# R = race, T = test score, ml_outcomes = expected utility from admitting, \n",
    "# ml_outcomes_{} counterfactual utility given race \n",
    "##\n",
    "\n",
    "df[['R','T','ml_outcomes','T_black','T_white','ml_outcomes_black','ml_outcomes_white','ml_outcomes_decision','B_p']].sort_values(by='ml_outcomes')\n",
    "\n"
   ]
  },
  {
   "cell_type": "code",
   "execution_count": null,
   "metadata": {},
   "outputs": [],
   "source": [
    "#df['ml_outcomes'] = df['ml_outcomes'] + 1*df['R']"
   ]
  },
  {
   "cell_type": "code",
   "execution_count": null,
   "metadata": {},
   "outputs": [],
   "source": [
    "###\n",
    "## Get total utility from admitting people in a stratum \n",
    "###\n",
    "\n",
    "df_ = df[['R','T','B_p','B_p_reject','ml_outcomes']].groupby(['R','T','B_p','B_p_reject']).sum().reset_index()"
   ]
  },
  {
   "cell_type": "code",
   "execution_count": null,
   "metadata": {},
   "outputs": [],
   "source": [
    "###\n",
    "## Get number of people in each stratum\n",
    "###\n",
    "\n",
    "df_count = df[['R','T','ml_outcomes','B_p','B_p_reject']].groupby(['R','T','B_p','B_p_reject']).count().reset_index()\n",
    "df_count.columns = ['R','T','B_p','B_p_reject','Count']\n",
    "df_count['N'] = df_count['Count']"
   ]
  },
  {
   "cell_type": "code",
   "execution_count": null,
   "metadata": {},
   "outputs": [],
   "source": [
    "###\n",
    "## Merge summary tables to get one table with Race, Test Score, SUM(Utility), COUNT(applicants) per stratum\n",
    "###\n",
    "\n",
    "dff = df_.merge(df_count[['N']],left_index=True,right_index=True).sort_values(by='ml_outcomes',ascending=False).reset_index().sort_values(by='index').reset_index()"
   ]
  },
  {
   "cell_type": "code",
   "execution_count": null,
   "metadata": {},
   "outputs": [],
   "source": [
    "# final info table\n",
    "dff.sort_values(by='ml_outcomes')"
   ]
  },
  {
   "cell_type": "code",
   "execution_count": null,
   "metadata": {},
   "outputs": [],
   "source": []
  },
  {
   "cell_type": "markdown",
   "metadata": {},
   "source": [
    "### Setup optimization problem "
   ]
  },
  {
   "cell_type": "code",
   "execution_count": null,
   "metadata": {},
   "outputs": [],
   "source": [
    "from ortools.linear_solver import pywraplp\n"
   ]
  },
  {
   "cell_type": "code",
   "execution_count": null,
   "metadata": {},
   "outputs": [],
   "source": [
    "solver = pywraplp.Solver.CreateSolver('GLOP')\n"
   ]
  },
  {
   "cell_type": "code",
   "execution_count": null,
   "metadata": {},
   "outputs": [],
   "source": [
    "len(dff[['R','T','B_p','B_p_reject']])"
   ]
  },
  {
   "cell_type": "code",
   "execution_count": null,
   "metadata": {},
   "outputs": [],
   "source": [
    "dff"
   ]
  },
  {
   "cell_type": "code",
   "execution_count": null,
   "metadata": {},
   "outputs": [],
   "source": [
    "applicant_stratum = []\n",
    "vars_cache = {}\n",
    "\n",
    "# Objective: Maximize the expected utility of the admitted students\n",
    "objective = solver.Objective()\n",
    "\n",
    "# For each stratum\n",
    "for ix, row in dff.iterrows():\n",
    "    # probability of admission\n",
    "    numvar = solver.NumVar(0.0, 1.0, str(ix))\n",
    "    \n",
    "    # store variable by index, and also by stratum R, T\n",
    "    applicant_stratum.append(numvar)\n",
    "    vars_cache[(row['R'],row['T'],row['B_p'], row['B_p_reject'])] = numvar\n",
    "    \n",
    "    # Benefit of admitting people is total utility in that stratum\n",
    "    objective.SetCoefficient(applicant_stratum[ix], float(row['ml_outcomes']))\n",
    "objective.SetMaximization()\n"
   ]
  },
  {
   "cell_type": "code",
   "execution_count": null,
   "metadata": {},
   "outputs": [],
   "source": [
    "# Currently we have no constraints \n",
    "solver.NumConstraints()"
   ]
  },
  {
   "cell_type": "code",
   "execution_count": null,
   "metadata": {
    "scrolled": true
   },
   "outputs": [],
   "source": [
    "# Constraint: At most K applicants\n",
    "K = int(len(df)*FRAC_ADMIT)\n",
    "print(K)\n",
    "admit_quota = solver.Constraint(0, K)\n",
    "\n",
    "# Total applicants cannot exceed K \n",
    "for ix, row in dff.iterrows():\n",
    "    admit_quota.SetCoefficient(applicant_stratum[ix], float(row['N']))"
   ]
  },
  {
   "cell_type": "code",
   "execution_count": null,
   "metadata": {},
   "outputs": [],
   "source": [
    "# Now we have one constraint\n",
    "solver.NumConstraints()"
   ]
  },
  {
   "cell_type": "markdown",
   "metadata": {},
   "source": [
    "## Add Equalized Odds Constraints"
   ]
  },
  {
   "cell_type": "code",
   "execution_count": null,
   "metadata": {},
   "outputs": [],
   "source": [
    "## Make sure that you have to add all people in B_p stratum or none\n",
    "## i.e. you can't add only people who pass boards and reject those who fail boards from same T, R stratum\n",
    "didntexist, exists = 0, 0 \n",
    "\n",
    "for ix, row in dff.iterrows():\n",
    "    \n",
    "    \n",
    "    var1 = vars_cache[(row['R'],row['T'],row['B_p'], row['B_p_reject'])]\n",
    "    key2s = [(row['R'],row['T'], 1-row['B_p'], 1-row['B_p_reject']), (row['R'],row['T'], row['B_p'], 1-row['B_p_reject']), (row['R'],row['T'], 1-row['B_p'], row['B_p_reject'])]\n",
    "    \n",
    "    for key2 in key2s:\n",
    "        constrain_bp = solver.Constraint(0.0, 0.0)\n",
    "        \n",
    "        if key2 not in vars_cache:\n",
    "            didntexist+=1\n",
    "            continue\n",
    "            \n",
    "        var2 = vars_cache[key2]\n",
    "        \n",
    "        constrain_bp.SetCoefficient(var1, -1.0)\n",
    "        constrain_bp.SetCoefficient(var2, 1.0)\n",
    "        exists+=1\n",
    "\n",
    "didntexist, exists"
   ]
  },
  {
   "cell_type": "code",
   "execution_count": null,
   "metadata": {},
   "outputs": [],
   "source": [
    "white_pass_boards_pass_boards_reject = []\n",
    "white_fail_boards_pass_boards_reject = []\n",
    "black_pass_boards_pass_boards_reject = []\n",
    "black_fail_boards_pass_boards_reject = []\n",
    "white_pass_boards_fail_boards_reject = []\n",
    "white_fail_boards_fail_boards_reject = []\n",
    "black_pass_boards_fail_boards_reject = []\n",
    "black_fail_boards_fail_boards_reject = []\n",
    "\n",
    "\n",
    "for key in vars_cache:\n",
    "    r, t, b_p, b_p_reject = key\n",
    "    if b_p == 1 and r==0 and b_p_reject==1:\n",
    "        white_pass_boards_pass_boards_reject.append(key)\n",
    "    elif b_p == 0 and r==0 and b_p_reject==1:\n",
    "        white_fail_boards_pass_boards_reject.append(key)\n",
    "    elif b_p == 1 and r==1 and b_p_reject==1:\n",
    "        black_pass_boards_pass_boards_reject.append(key)\n",
    "    elif b_p == 0 and r==1 and b_p_reject==1:\n",
    "        black_fail_boards_pass_boards_reject.append(key)\n",
    "        \n",
    "    if b_p == 1 and r==0 and b_p_reject==0:\n",
    "        white_pass_boards_fail_boards_reject.append(key)\n",
    "    elif b_p == 0 and r==0 and b_p_reject==0:\n",
    "        white_fail_boards_fail_boards_reject.append(key)\n",
    "    elif b_p == 1 and r==1 and b_p_reject==0:\n",
    "        black_pass_boards_fail_boards_reject.append(key)\n",
    "    elif b_p == 0 and r==1 and b_p_reject==0:\n",
    "        black_fail_boards_fail_boards_reject.append(key)\n",
    "\n",
    "len(white_pass_boards_pass_boards_reject),len(white_fail_boards_pass_boards_reject),len(black_pass_boards_pass_boards_reject),len(black_fail_boards_pass_boards_reject)\n",
    "\n",
    "\n"
   ]
  },
  {
   "cell_type": "code",
   "execution_count": null,
   "metadata": {},
   "outputs": [],
   "source": [
    "NUM_TOTALS = {}\n",
    "df_totals = dff[['N','R','B_p','B_p_reject']].groupby(['R','B_p','B_p_reject']).sum().reset_index()\n",
    "for ix, row in df_totals.iterrows():\n",
    "    NUM_TOTALS[(row['R'],row['B_p'],row['B_p_reject'])] = row['N']\n",
    "    \n",
    "N_IN_STRATAS = {}\n",
    "for ix, row in dff.iterrows():\n",
    "    N_IN_STRATAS[(row['R'],row['T'],row['B_p'],row['B_p_reject'])] = row['N']"
   ]
  },
  {
   "cell_type": "code",
   "execution_count": null,
   "metadata": {},
   "outputs": [],
   "source": [
    "# Now we have one constraint\n",
    "solver.NumConstraints()"
   ]
  },
  {
   "cell_type": "code",
   "execution_count": null,
   "metadata": {},
   "outputs": [],
   "source": [
    "#Of those who pass the boards exams, pass boards exams if rejected\n",
    "#Frac white admitted and frac black admitted should be the same\n",
    "\n",
    "constrain_pass_boards_pass_boards_reject = solver.Constraint(0.0, 0.0)\n",
    "\n",
    "for key in white_pass_boards_pass_boards_reject:\n",
    "    r, t, b_p, b_p_reject = key\n",
    "    N_IN_STRATUM = N_IN_STRATAS[(r,t,b_p, b_p_reject)]\n",
    "    N_TOTAL = NUM_TOTALS[(r,b_p, b_p_reject)]\n",
    "    \n",
    "    constrain_pass_boards_pass_boards_reject.SetCoefficient(vars_cache[key], float(N_IN_STRATUM) / float(N_TOTAL))\n",
    "\n",
    "for key in black_pass_boards_pass_boards_reject:\n",
    "    r, t, b_p, b_p_reject = key\n",
    "    N_IN_STRATUM = N_IN_STRATAS[(r,t,b_p, b_p_reject)]\n",
    "    N_TOTAL = NUM_TOTALS[(r,b_p, b_p_reject)]\n",
    "    \n",
    "    constrain_pass_boards_pass_boards_reject.SetCoefficient(vars_cache[key], -1.0 * (float(N_IN_STRATUM) / float(N_TOTAL)))\n"
   ]
  },
  {
   "cell_type": "code",
   "execution_count": null,
   "metadata": {},
   "outputs": [],
   "source": [
    "#Of those who fail the boards exams, pass boards exams if rejected\n",
    "#Frac white admitted and frac black admitted should be the same\n",
    "\n",
    "constrain_fail_boards_pass_boards_reject = solver.Constraint(0.0, 0.0)\n",
    "\n",
    "for key in white_fail_boards_pass_boards_reject:\n",
    "    r, t, b_p, b_p_reject = key\n",
    "    N_IN_STRATUM = N_IN_STRATAS[(r,t,b_p, b_p_reject)]\n",
    "    N_TOTAL = NUM_TOTALS[(r,b_p, b_p_reject)]\n",
    "    \n",
    "    constrain_fail_boards_pass_boards_reject.SetCoefficient(vars_cache[key], float(N_IN_STRATUM) / float(N_TOTAL))\n",
    "\n",
    "for key in black_fail_boards_pass_boards_reject:\n",
    "    r, t, b_p, b_p_reject = key\n",
    "    N_IN_STRATUM = N_IN_STRATAS[(r,t,b_p, b_p_reject)]\n",
    "    N_TOTAL = NUM_TOTALS[(r,b_p, b_p_reject)]\n",
    "    \n",
    "    constrain_fail_boards_pass_boards_reject.SetCoefficient(vars_cache[key], -1.0 * (float(N_IN_STRATUM) / float(N_TOTAL)))\n"
   ]
  },
  {
   "cell_type": "code",
   "execution_count": null,
   "metadata": {},
   "outputs": [],
   "source": [
    "constrain_pass_boards_fail_boards_reject = solver.Constraint(0.0, 0.0)\n",
    "\n",
    "for key in white_pass_boards_fail_boards_reject:\n",
    "    r, t, b_p, b_p_reject = key\n",
    "    N_IN_STRATUM = N_IN_STRATAS[(r,t,b_p, b_p_reject)]\n",
    "    N_TOTAL = NUM_TOTALS[(r,b_p, b_p_reject)]\n",
    "    \n",
    "    constrain_pass_boards_fail_boards_reject.SetCoefficient(vars_cache[key], float(N_IN_STRATUM) / float(N_TOTAL))\n",
    "\n",
    "for key in black_pass_boards_fail_boards_reject:\n",
    "    r, t, b_p, b_p_reject = key\n",
    "    N_IN_STRATUM = N_IN_STRATAS[(r,t,b_p, b_p_reject)]\n",
    "    N_TOTAL = NUM_TOTALS[(r,b_p, b_p_reject)]\n",
    "    \n",
    "    constrain_pass_boards_fail_boards_reject.SetCoefficient(vars_cache[key], -1.0 * (float(N_IN_STRATUM) / float(N_TOTAL)))\n",
    "\n",
    "    \n",
    "#Of those who fail the boards exams, fail boards exams if rejected\n",
    "#Frac white admitted and frac black admitted should be the same\n",
    "\n",
    "constrain_fail_boards_fail_boards_reject = solver.Constraint(0.0, 0.0)\n",
    "\n",
    "for key in white_fail_boards_fail_boards_reject:\n",
    "    r, t, b_p, b_p_reject = key\n",
    "    N_IN_STRATUM = N_IN_STRATAS[(r,t,b_p, b_p_reject)]\n",
    "    N_TOTAL = NUM_TOTALS[(r,b_p, b_p_reject)]\n",
    "    \n",
    "    constrain_fail_boards_fail_boards_reject.SetCoefficient(vars_cache[key], float(N_IN_STRATUM) / float(N_TOTAL))\n",
    "\n",
    "for key in black_fail_boards_fail_boards_reject:\n",
    "    r, t, b_p, b_p_reject = key\n",
    "    N_IN_STRATUM = N_IN_STRATAS[(r,t,b_p, b_p_reject)]\n",
    "    N_TOTAL = NUM_TOTALS[(r,b_p, b_p_reject)]\n",
    "    \n",
    "    constrain_fail_boards_fail_boards_reject.SetCoefficient(vars_cache[key], -1.0 * (float(N_IN_STRATUM) / float(N_TOTAL)))\n"
   ]
  },
  {
   "cell_type": "markdown",
   "metadata": {},
   "source": [
    "## Add constraints on people who fail boards exams"
   ]
  },
  {
   "cell_type": "markdown",
   "metadata": {},
   "source": [
    "## Solve linear program"
   ]
  },
  {
   "cell_type": "code",
   "execution_count": null,
   "metadata": {},
   "outputs": [],
   "source": [
    "solver.ABNORMAL"
   ]
  },
  {
   "cell_type": "code",
   "execution_count": null,
   "metadata": {},
   "outputs": [],
   "source": [
    "status = solver.Solve()\n"
   ]
  },
  {
   "cell_type": "code",
   "execution_count": null,
   "metadata": {},
   "outputs": [],
   "source": [
    "status"
   ]
  },
  {
   "cell_type": "code",
   "execution_count": null,
   "metadata": {},
   "outputs": [],
   "source": [
    "solver.OPTIMAL"
   ]
  },
  {
   "cell_type": "code",
   "execution_count": null,
   "metadata": {},
   "outputs": [],
   "source": [
    "applicant_stratum"
   ]
  },
  {
   "cell_type": "code",
   "execution_count": null,
   "metadata": {
    "scrolled": true
   },
   "outputs": [],
   "source": [
    "row = []\n",
    "admit = []\n",
    "\n",
    "for i in applicant_stratum:\n",
    "    row.append(int(str(i)))\n",
    "    admit.append(i.solution_value())\n",
    "\n",
    "df_decisions = pd.DataFrame({'row_id':row,'decision':admit})"
   ]
  },
  {
   "cell_type": "code",
   "execution_count": null,
   "metadata": {},
   "outputs": [],
   "source": [
    "df_decisions"
   ]
  },
  {
   "cell_type": "code",
   "execution_count": null,
   "metadata": {},
   "outputs": [],
   "source": [
    "dff.merge(df_decisions,left_index=True,right_index=True).sort_values(by='ml_outcomes',ascending=False)"
   ]
  },
  {
   "cell_type": "code",
   "execution_count": null,
   "metadata": {},
   "outputs": [],
   "source": [
    "xxx_ = dff.merge(df_decisions,left_index=True,right_index=True).sort_values(by='ml_outcomes',ascending=False)\n",
    "xxx_.sort_values(by='T')"
   ]
  },
  {
   "cell_type": "code",
   "execution_count": null,
   "metadata": {},
   "outputs": [],
   "source": [
    "xxx = dff.merge(df_decisions,left_index=True,right_index=True).sort_values(by='ml_outcomes',ascending=False)\n",
    "xxx"
   ]
  },
  {
   "cell_type": "code",
   "execution_count": null,
   "metadata": {},
   "outputs": [],
   "source": [
    "xxx.to_csv('./decision.csv')"
   ]
  },
  {
   "cell_type": "code",
   "execution_count": null,
   "metadata": {},
   "outputs": [],
   "source": [
    "solution = pd.read_csv('./decision.csv')"
   ]
  },
  {
   "cell_type": "code",
   "execution_count": null,
   "metadata": {},
   "outputs": [],
   "source": [
    "len(xxx)"
   ]
  },
  {
   "cell_type": "code",
   "execution_count": null,
   "metadata": {},
   "outputs": [],
   "source": [
    "df['key'] = df['R'].astype(str)+'_'+df['T'].astype(str)+'_'+df['B_p'].astype(str)+'_'+df['B_p_reject'].astype(str)\n",
    "xxx['key'] = xxx['R'].astype(str)+'_'+xxx['T'].astype(str)+'_'+xxx['B_p'].astype(str)+'_'+xxx['B_p_reject'].astype(str)\n",
    "\n"
   ]
  },
  {
   "cell_type": "code",
   "execution_count": null,
   "metadata": {},
   "outputs": [],
   "source": [
    "admit_decisions = df.merge(xxx[['key','decision']],how='left',on='key')\n",
    "admit_decisions['decision_random'] = pd.Series([random.random() for x in range(0,len(admit_decisions))]) < FRAC_ADMIT['A']\n",
    "\n",
    "FRAC_BLACK_POLICY = (admit_decisions['R'] * admit_decisions['decision']).sum()/admit_decisions['decision'].sum()\n",
    "SUM_BP_POLICY = ( admit_decisions['B_p'] * admit_decisions['decision']).sum()\n",
    "\n",
    "FRAC_RANDOM_POLICY = (admit_decisions['R'] * admit_decisions['decision_random']).sum()/admit_decisions['decision_random'].sum()\n",
    "SUM_BP_RAND_POLICY = ( admit_decisions['B_p'] * admit_decisions['decision_random']).sum()"
   ]
  },
  {
   "cell_type": "code",
   "execution_count": null,
   "metadata": {},
   "outputs": [],
   "source": [
    "file = open('./lp_results.csv','a')\n",
    "file.write('{}\\t{}\\t{}\\n'.format('Principal Fairness',str(FRAC_BLACK_POLICY),str(SUM_BP_POLICY)))\n",
    "file.close()"
   ]
  },
  {
   "cell_type": "code",
   "execution_count": null,
   "metadata": {},
   "outputs": [],
   "source": []
  },
  {
   "cell_type": "code",
   "execution_count": null,
   "metadata": {},
   "outputs": [],
   "source": []
  },
  {
   "cell_type": "code",
   "execution_count": null,
   "metadata": {},
   "outputs": [],
   "source": []
  }
 ],
 "metadata": {
  "kernelspec": {
   "display_name": "Python 3 (ipykernel)",
   "language": "python",
   "name": "python3"
  },
  "language_info": {
   "codemirror_mode": {
    "name": "ipython",
    "version": 3
   },
   "file_extension": ".py",
   "mimetype": "text/x-python",
   "name": "python",
   "nbconvert_exporter": "python",
   "pygments_lexer": "ipython3",
   "version": "3.9.7"
  }
 },
 "nbformat": 4,
 "nbformat_minor": 4
}
