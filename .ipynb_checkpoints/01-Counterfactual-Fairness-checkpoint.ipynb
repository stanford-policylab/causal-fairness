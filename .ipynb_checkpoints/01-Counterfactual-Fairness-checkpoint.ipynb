{
 "cells": [
  {
   "cell_type": "code",
   "execution_count": 1,
   "metadata": {
    "execution": {
     "iopub.execute_input": "2022-05-02T20:33:01.442542Z",
     "iopub.status.busy": "2022-05-02T20:33:01.441372Z",
     "iopub.status.idle": "2022-05-02T20:33:03.027981Z",
     "shell.execute_reply": "2022-05-02T20:33:03.028246Z"
    }
   },
   "outputs": [],
   "source": [
    "import numpy as np\n",
    "import pandas as pd\n",
    "import matplotlib.pyplot as plt\n",
    "import seaborn as sns\n",
    "import random\n",
    "pd.options.display.max_rows = 10\n",
    "pd.options.display.max_columns = 500"
   ]
  },
  {
   "cell_type": "code",
   "execution_count": 2,
   "metadata": {
    "execution": {
     "iopub.execute_input": "2022-05-02T20:33:03.032752Z",
     "iopub.status.busy": "2022-05-02T20:33:03.032365Z",
     "iopub.status.idle": "2022-05-02T20:33:06.531391Z",
     "shell.execute_reply": "2022-05-02T20:33:06.531711Z"
    }
   },
   "outputs": [],
   "source": [
    "###\n",
    "## Load dataframe where each row is a single applicant\n",
    "###\n",
    "\n",
    "df = pd.read_csv('./df_test.csv')\n",
    "df['ml_outcomes'] = df['ml_outcomes_div'].round(2)# + df['R']*0.13\n",
    "#df['T'] = df['T'].round(2)#\n"
   ]
  },
  {
   "cell_type": "code",
   "execution_count": 3,
   "metadata": {
    "execution": {
     "iopub.execute_input": "2022-05-02T20:33:06.534873Z",
     "iopub.status.busy": "2022-05-02T20:33:06.534449Z",
     "iopub.status.idle": "2022-05-02T20:33:06.572703Z",
     "shell.execute_reply": "2022-05-02T20:33:06.572951Z"
    }
   },
   "outputs": [
    {
     "data": {
      "text/plain": [
       "count    1000000.000000\n",
       "mean           0.524156\n",
       "std            0.197883\n",
       "min            0.020000\n",
       "25%            0.380000\n",
       "50%            0.510000\n",
       "75%            0.660000\n",
       "max            1.240000\n",
       "Name: ml_outcomes, dtype: float64"
      ]
     },
     "execution_count": 3,
     "metadata": {},
     "output_type": "execute_result"
    }
   ],
   "source": [
    "df['ml_outcomes'].describe()"
   ]
  },
  {
   "cell_type": "code",
   "execution_count": 4,
   "metadata": {
    "execution": {
     "iopub.execute_input": "2022-05-02T20:33:06.576546Z",
     "iopub.status.busy": "2022-05-02T20:33:06.576080Z",
     "iopub.status.idle": "2022-05-02T20:33:06.578190Z",
     "shell.execute_reply": "2022-05-02T20:33:06.578444Z"
    }
   },
   "outputs": [
    {
     "data": {
      "text/plain": [
       "0         41\n",
       "1         47\n",
       "2         45\n",
       "3         84\n",
       "4         67\n",
       "          ..\n",
       "999995    70\n",
       "999996    64\n",
       "999997    60\n",
       "999998    53\n",
       "999999    52\n",
       "Name: T, Length: 1000000, dtype: int64"
      ]
     },
     "execution_count": 4,
     "metadata": {},
     "output_type": "execute_result"
    }
   ],
   "source": [
    "df['T']"
   ]
  },
  {
   "cell_type": "code",
   "execution_count": 5,
   "metadata": {
    "execution": {
     "iopub.execute_input": "2022-05-02T20:33:06.582755Z",
     "iopub.status.busy": "2022-05-02T20:33:06.582346Z",
     "iopub.status.idle": "2022-05-02T20:33:06.584418Z",
     "shell.execute_reply": "2022-05-02T20:33:06.584670Z"
    },
    "scrolled": true
   },
   "outputs": [],
   "source": [
    "FRAC_ADMIT = 0.5#df[['A']].sum()/len(df)\n"
   ]
  },
  {
   "cell_type": "code",
   "execution_count": 6,
   "metadata": {
    "execution": {
     "iopub.execute_input": "2022-05-02T20:33:06.588057Z",
     "iopub.status.busy": "2022-05-02T20:33:06.587661Z",
     "iopub.status.idle": "2022-05-02T20:33:06.589235Z",
     "shell.execute_reply": "2022-05-02T20:33:06.589541Z"
    }
   },
   "outputs": [
    {
     "data": {
      "text/plain": [
       "A    0.484752\n",
       "dtype: float64"
      ]
     },
     "execution_count": 6,
     "metadata": {},
     "output_type": "execute_result"
    }
   ],
   "source": [
    "FRAC_ADMIT"
   ]
  },
  {
   "cell_type": "code",
   "execution_count": 7,
   "metadata": {
    "execution": {
     "iopub.execute_input": "2022-05-02T20:33:06.592418Z",
     "iopub.status.busy": "2022-05-02T20:33:06.591879Z",
     "iopub.status.idle": "2022-05-02T20:33:06.593766Z",
     "shell.execute_reply": "2022-05-02T20:33:06.594063Z"
    }
   },
   "outputs": [
    {
     "data": {
      "text/plain": [
       "1000000"
      ]
     },
     "execution_count": 7,
     "metadata": {},
     "output_type": "execute_result"
    }
   ],
   "source": [
    "len(df)"
   ]
  },
  {
   "cell_type": "code",
   "execution_count": 8,
   "metadata": {
    "execution": {
     "iopub.execute_input": "2022-05-02T20:33:06.596644Z",
     "iopub.status.busy": "2022-05-02T20:33:06.596190Z",
     "iopub.status.idle": "2022-05-02T20:33:06.700134Z",
     "shell.execute_reply": "2022-05-02T20:33:06.700395Z"
    }
   },
   "outputs": [
    {
     "data": {
      "text/plain": [
       "<AxesSubplot:>"
      ]
     },
     "execution_count": 8,
     "metadata": {},
     "output_type": "execute_result"
    },
    {
     "data": {
      "image/png": "[encoded data removed]",
      "text/plain": [
       "<Figure size 432x288 with 1 Axes>"
      ]
     },
     "metadata": {
      "needs_background": "light"
     },
     "output_type": "display_data"
    }
   ],
   "source": [
    "df['ml_outcomes'].hist()"
   ]
  },
  {
   "cell_type": "code",
   "execution_count": 9,
   "metadata": {
    "execution": {
     "iopub.execute_input": "2022-05-02T20:33:06.708540Z",
     "iopub.status.busy": "2022-05-02T20:33:06.707977Z",
     "iopub.status.idle": "2022-05-02T20:33:06.815526Z",
     "shell.execute_reply": "2022-05-02T20:33:06.815919Z"
    }
   },
   "outputs": [
    {
     "data": {
      "text/html": [
       "<div>\n",
       "<style scoped>\n",
       "    .dataframe tbody tr th:only-of-type {\n",
       "        vertical-align: middle;\n",
       "    }\n",
       "\n",
       "    .dataframe tbody tr th {\n",
       "        vertical-align: top;\n",
       "    }\n",
       "\n",
       "    .dataframe thead th {\n",
       "        text-align: right;\n",
       "    }\n",
       "</style>\n",
       "<table border=\"1\" class=\"dataframe\">\n",
       "  <thead>\n",
       "    <tr style=\"text-align: right;\">\n",
       "      <th></th>\n",
       "      <th>R</th>\n",
       "      <th>T</th>\n",
       "      <th>ml_outcomes</th>\n",
       "      <th>T_black</th>\n",
       "      <th>T_white</th>\n",
       "      <th>ml_outcomes_black</th>\n",
       "      <th>ml_outcomes_white</th>\n",
       "      <th>ml_outcomes_decision</th>\n",
       "      <th>B_p</th>\n",
       "    </tr>\n",
       "  </thead>\n",
       "  <tbody>\n",
       "    <tr>\n",
       "      <th>754274</th>\n",
       "      <td>0</td>\n",
       "      <td>6</td>\n",
       "      <td>0.02</td>\n",
       "      <td>2</td>\n",
       "      <td>6</td>\n",
       "      <td>-4.389167</td>\n",
       "      <td>-3.858396</td>\n",
       "      <td>0</td>\n",
       "      <td>0</td>\n",
       "    </tr>\n",
       "    <tr>\n",
       "      <th>72841</th>\n",
       "      <td>0</td>\n",
       "      <td>12</td>\n",
       "      <td>0.03</td>\n",
       "      <td>8</td>\n",
       "      <td>12</td>\n",
       "      <td>-3.914595</td>\n",
       "      <td>-3.383824</td>\n",
       "      <td>0</td>\n",
       "      <td>0</td>\n",
       "    </tr>\n",
       "    <tr>\n",
       "      <th>729183</th>\n",
       "      <td>0</td>\n",
       "      <td>12</td>\n",
       "      <td>0.03</td>\n",
       "      <td>10</td>\n",
       "      <td>12</td>\n",
       "      <td>-3.756404</td>\n",
       "      <td>-3.383824</td>\n",
       "      <td>0</td>\n",
       "      <td>0</td>\n",
       "    </tr>\n",
       "    <tr>\n",
       "      <th>682741</th>\n",
       "      <td>0</td>\n",
       "      <td>11</td>\n",
       "      <td>0.03</td>\n",
       "      <td>8</td>\n",
       "      <td>11</td>\n",
       "      <td>-3.914595</td>\n",
       "      <td>-3.462920</td>\n",
       "      <td>0</td>\n",
       "      <td>0</td>\n",
       "    </tr>\n",
       "    <tr>\n",
       "      <th>181946</th>\n",
       "      <td>0</td>\n",
       "      <td>12</td>\n",
       "      <td>0.03</td>\n",
       "      <td>8</td>\n",
       "      <td>12</td>\n",
       "      <td>-3.914595</td>\n",
       "      <td>-3.383824</td>\n",
       "      <td>0</td>\n",
       "      <td>0</td>\n",
       "    </tr>\n",
       "    <tr>\n",
       "      <th>...</th>\n",
       "      <td>...</td>\n",
       "      <td>...</td>\n",
       "      <td>...</td>\n",
       "      <td>...</td>\n",
       "      <td>...</td>\n",
       "      <td>...</td>\n",
       "      <td>...</td>\n",
       "      <td>...</td>\n",
       "      <td>...</td>\n",
       "    </tr>\n",
       "    <tr>\n",
       "      <th>482376</th>\n",
       "      <td>1</td>\n",
       "      <td>104</td>\n",
       "      <td>1.23</td>\n",
       "      <td>104</td>\n",
       "      <td>120</td>\n",
       "      <td>3.678556</td>\n",
       "      <td>5.158470</td>\n",
       "      <td>1</td>\n",
       "      <td>1</td>\n",
       "    </tr>\n",
       "    <tr>\n",
       "      <th>570794</th>\n",
       "      <td>1</td>\n",
       "      <td>104</td>\n",
       "      <td>1.23</td>\n",
       "      <td>104</td>\n",
       "      <td>121</td>\n",
       "      <td>3.678556</td>\n",
       "      <td>5.237566</td>\n",
       "      <td>1</td>\n",
       "      <td>1</td>\n",
       "    </tr>\n",
       "    <tr>\n",
       "      <th>939337</th>\n",
       "      <td>1</td>\n",
       "      <td>107</td>\n",
       "      <td>1.23</td>\n",
       "      <td>107</td>\n",
       "      <td>124</td>\n",
       "      <td>3.915842</td>\n",
       "      <td>5.474852</td>\n",
       "      <td>1</td>\n",
       "      <td>1</td>\n",
       "    </tr>\n",
       "    <tr>\n",
       "      <th>836155</th>\n",
       "      <td>1</td>\n",
       "      <td>107</td>\n",
       "      <td>1.23</td>\n",
       "      <td>107</td>\n",
       "      <td>124</td>\n",
       "      <td>3.915842</td>\n",
       "      <td>5.474852</td>\n",
       "      <td>1</td>\n",
       "      <td>1</td>\n",
       "    </tr>\n",
       "    <tr>\n",
       "      <th>749129</th>\n",
       "      <td>1</td>\n",
       "      <td>119</td>\n",
       "      <td>1.24</td>\n",
       "      <td>119</td>\n",
       "      <td>137</td>\n",
       "      <td>4.864986</td>\n",
       "      <td>6.503091</td>\n",
       "      <td>1</td>\n",
       "      <td>1</td>\n",
       "    </tr>\n",
       "  </tbody>\n",
       "</table>\n",
       "<p>1000000 rows × 9 columns</p>\n",
       "</div>"
      ],
      "text/plain": [
       "        R    T  ml_outcomes  T_black  T_white  ml_outcomes_black  \\\n",
       "754274  0    6         0.02        2        6          -4.389167   \n",
       "72841   0   12         0.03        8       12          -3.914595   \n",
       "729183  0   12         0.03       10       12          -3.756404   \n",
       "682741  0   11         0.03        8       11          -3.914595   \n",
       "181946  0   12         0.03        8       12          -3.914595   \n",
       "...    ..  ...          ...      ...      ...                ...   \n",
       "482376  1  104         1.23      104      120           3.678556   \n",
       "570794  1  104         1.23      104      121           3.678556   \n",
       "939337  1  107         1.23      107      124           3.915842   \n",
       "836155  1  107         1.23      107      124           3.915842   \n",
       "749129  1  119         1.24      119      137           4.864986   \n",
       "\n",
       "        ml_outcomes_white  ml_outcomes_decision  B_p  \n",
       "754274          -3.858396                     0    0  \n",
       "72841           -3.383824                     0    0  \n",
       "729183          -3.383824                     0    0  \n",
       "682741          -3.462920                     0    0  \n",
       "181946          -3.383824                     0    0  \n",
       "...                   ...                   ...  ...  \n",
       "482376           5.158470                     1    1  \n",
       "570794           5.237566                     1    1  \n",
       "939337           5.474852                     1    1  \n",
       "836155           5.474852                     1    1  \n",
       "749129           6.503091                     1    1  \n",
       "\n",
       "[1000000 rows x 9 columns]"
      ]
     },
     "execution_count": 9,
     "metadata": {},
     "output_type": "execute_result"
    }
   ],
   "source": [
    "##\n",
    "# R = race, T = test score, ml_outcomes = expected utility from admitting, \n",
    "# ml_outcomes_{} counterfactual utility given race \n",
    "##\n",
    "\n",
    "df[['R','T','ml_outcomes','T_black','T_white','ml_outcomes_black','ml_outcomes_white','ml_outcomes_decision','B_p']].sort_values(by='ml_outcomes')\n",
    "\n"
   ]
  },
  {
   "cell_type": "code",
   "execution_count": 10,
   "metadata": {
    "execution": {
     "iopub.execute_input": "2022-05-02T20:33:06.818302Z",
     "iopub.status.busy": "2022-05-02T20:33:06.817923Z",
     "iopub.status.idle": "2022-05-02T20:33:06.819154Z",
     "shell.execute_reply": "2022-05-02T20:33:06.819436Z"
    }
   },
   "outputs": [],
   "source": [
    "#df['ml_outcomes'] = df['ml_outcomes'] + 1*df['R']"
   ]
  },
  {
   "cell_type": "code",
   "execution_count": 11,
   "metadata": {
    "execution": {
     "iopub.execute_input": "2022-05-02T20:33:06.827707Z",
     "iopub.status.busy": "2022-05-02T20:33:06.827316Z",
     "iopub.status.idle": "2022-05-02T20:33:06.858619Z",
     "shell.execute_reply": "2022-05-02T20:33:06.858880Z"
    }
   },
   "outputs": [],
   "source": [
    "###\n",
    "## Get total utility from admitting people in a stratum \n",
    "###\n",
    "\n",
    "df_ = df[['R','T','ml_outcomes']].groupby(['R','T']).sum().reset_index()"
   ]
  },
  {
   "cell_type": "code",
   "execution_count": 12,
   "metadata": {
    "execution": {
     "iopub.execute_input": "2022-05-02T20:33:06.866523Z",
     "iopub.status.busy": "2022-05-02T20:33:06.866118Z",
     "iopub.status.idle": "2022-05-02T20:33:06.892925Z",
     "shell.execute_reply": "2022-05-02T20:33:06.893170Z"
    }
   },
   "outputs": [],
   "source": [
    "###\n",
    "## Get number of people in each stratum\n",
    "###\n",
    "\n",
    "df_count = df[['R','T','ml_outcomes']].groupby(['R','T']).count().reset_index()\n",
    "df_count.columns = ['R','T','Count']\n",
    "df_count['N'] = df_count['Count']"
   ]
  },
  {
   "cell_type": "code",
   "execution_count": 13,
   "metadata": {
    "execution": {
     "iopub.execute_input": "2022-05-02T20:33:06.899547Z",
     "iopub.status.busy": "2022-05-02T20:33:06.899155Z",
     "iopub.status.idle": "2022-05-02T20:33:06.900478Z",
     "shell.execute_reply": "2022-05-02T20:33:06.900718Z"
    }
   },
   "outputs": [],
   "source": [
    "###\n",
    "## Merge summary tables to get one table with Race, Test Score, SUM(Utility), COUNT(applicants) per stratum\n",
    "###\n",
    "\n",
    "dff = df_.merge(df_count[['N']],left_index=True,right_index=True).sort_values(by='ml_outcomes',ascending=False).reset_index().sort_values(by='index').reset_index()"
   ]
  },
  {
   "cell_type": "code",
   "execution_count": 14,
   "metadata": {
    "execution": {
     "iopub.execute_input": "2022-05-02T20:33:06.907050Z",
     "iopub.status.busy": "2022-05-02T20:33:06.902117Z",
     "iopub.status.idle": "2022-05-02T20:33:06.908740Z",
     "shell.execute_reply": "2022-05-02T20:33:06.909047Z"
    }
   },
   "outputs": [
    {
     "data": {
      "text/html": [
       "<div>\n",
       "<style scoped>\n",
       "    .dataframe tbody tr th:only-of-type {\n",
       "        vertical-align: middle;\n",
       "    }\n",
       "\n",
       "    .dataframe tbody tr th {\n",
       "        vertical-align: top;\n",
       "    }\n",
       "\n",
       "    .dataframe thead th {\n",
       "        text-align: right;\n",
       "    }\n",
       "</style>\n",
       "<table border=\"1\" class=\"dataframe\">\n",
       "  <thead>\n",
       "    <tr style=\"text-align: right;\">\n",
       "      <th></th>\n",
       "      <th>level_0</th>\n",
       "      <th>index</th>\n",
       "      <th>R</th>\n",
       "      <th>T</th>\n",
       "      <th>ml_outcomes</th>\n",
       "      <th>N</th>\n",
       "    </tr>\n",
       "  </thead>\n",
       "  <tbody>\n",
       "    <tr>\n",
       "      <th>0</th>\n",
       "      <td>219</td>\n",
       "      <td>0</td>\n",
       "      <td>0</td>\n",
       "      <td>6</td>\n",
       "      <td>0.02</td>\n",
       "      <td>1</td>\n",
       "    </tr>\n",
       "    <tr>\n",
       "      <th>1</th>\n",
       "      <td>218</td>\n",
       "      <td>1</td>\n",
       "      <td>0</td>\n",
       "      <td>10</td>\n",
       "      <td>0.03</td>\n",
       "      <td>1</td>\n",
       "    </tr>\n",
       "    <tr>\n",
       "      <th>2</th>\n",
       "      <td>217</td>\n",
       "      <td>2</td>\n",
       "      <td>0</td>\n",
       "      <td>11</td>\n",
       "      <td>0.12</td>\n",
       "      <td>4</td>\n",
       "    </tr>\n",
       "    <tr>\n",
       "      <th>3</th>\n",
       "      <td>216</td>\n",
       "      <td>3</td>\n",
       "      <td>0</td>\n",
       "      <td>12</td>\n",
       "      <td>0.15</td>\n",
       "      <td>5</td>\n",
       "    </tr>\n",
       "    <tr>\n",
       "      <th>4</th>\n",
       "      <td>215</td>\n",
       "      <td>4</td>\n",
       "      <td>0</td>\n",
       "      <td>13</td>\n",
       "      <td>0.24</td>\n",
       "      <td>6</td>\n",
       "    </tr>\n",
       "    <tr>\n",
       "      <th>...</th>\n",
       "      <td>...</td>\n",
       "      <td>...</td>\n",
       "      <td>...</td>\n",
       "      <td>...</td>\n",
       "      <td>...</td>\n",
       "      <td>...</td>\n",
       "    </tr>\n",
       "    <tr>\n",
       "      <th>51</th>\n",
       "      <td>4</td>\n",
       "      <td>51</td>\n",
       "      <td>0</td>\n",
       "      <td>60</td>\n",
       "      <td>10902.60</td>\n",
       "      <td>18171</td>\n",
       "    </tr>\n",
       "    <tr>\n",
       "      <th>47</th>\n",
       "      <td>3</td>\n",
       "      <td>47</td>\n",
       "      <td>0</td>\n",
       "      <td>56</td>\n",
       "      <td>11013.08</td>\n",
       "      <td>21179</td>\n",
       "    </tr>\n",
       "    <tr>\n",
       "      <th>48</th>\n",
       "      <td>2</td>\n",
       "      <td>48</td>\n",
       "      <td>0</td>\n",
       "      <td>57</td>\n",
       "      <td>11021.94</td>\n",
       "      <td>20411</td>\n",
       "    </tr>\n",
       "    <tr>\n",
       "      <th>49</th>\n",
       "      <td>1</td>\n",
       "      <td>49</td>\n",
       "      <td>0</td>\n",
       "      <td>58</td>\n",
       "      <td>11055.52</td>\n",
       "      <td>19742</td>\n",
       "    </tr>\n",
       "    <tr>\n",
       "      <th>50</th>\n",
       "      <td>0</td>\n",
       "      <td>50</td>\n",
       "      <td>0</td>\n",
       "      <td>59</td>\n",
       "      <td>11122.66</td>\n",
       "      <td>19177</td>\n",
       "    </tr>\n",
       "  </tbody>\n",
       "</table>\n",
       "<p>220 rows × 6 columns</p>\n",
       "</div>"
      ],
      "text/plain": [
       "    level_0  index  R   T  ml_outcomes      N\n",
       "0       219      0  0   6         0.02      1\n",
       "1       218      1  0  10         0.03      1\n",
       "2       217      2  0  11         0.12      4\n",
       "3       216      3  0  12         0.15      5\n",
       "4       215      4  0  13         0.24      6\n",
       "..      ...    ... ..  ..          ...    ...\n",
       "51        4     51  0  60     10902.60  18171\n",
       "47        3     47  0  56     11013.08  21179\n",
       "48        2     48  0  57     11021.94  20411\n",
       "49        1     49  0  58     11055.52  19742\n",
       "50        0     50  0  59     11122.66  19177\n",
       "\n",
       "[220 rows x 6 columns]"
      ]
     },
     "execution_count": 14,
     "metadata": {},
     "output_type": "execute_result"
    }
   ],
   "source": [
    "# final info table\n",
    "dff.sort_values(by='ml_outcomes')"
   ]
  },
  {
   "cell_type": "code",
   "execution_count": null,
   "metadata": {},
   "outputs": [],
   "source": []
  },
  {
   "cell_type": "markdown",
   "metadata": {},
   "source": [
    "### Setup optimization problem "
   ]
  },
  {
   "cell_type": "code",
   "execution_count": 15,
   "metadata": {
    "execution": {
     "iopub.execute_input": "2022-05-02T20:33:06.911522Z",
     "iopub.status.busy": "2022-05-02T20:33:06.911146Z",
     "iopub.status.idle": "2022-05-02T20:33:08.500713Z",
     "shell.execute_reply": "2022-05-02T20:33:08.500994Z"
    }
   },
   "outputs": [],
   "source": [
    "from ortools.linear_solver import pywraplp\n"
   ]
  },
  {
   "cell_type": "code",
   "execution_count": 16,
   "metadata": {
    "execution": {
     "iopub.execute_input": "2022-05-02T20:33:08.504034Z",
     "iopub.status.busy": "2022-05-02T20:33:08.503637Z",
     "iopub.status.idle": "2022-05-02T20:33:08.505033Z",
     "shell.execute_reply": "2022-05-02T20:33:08.505280Z"
    }
   },
   "outputs": [],
   "source": [
    "solver = pywraplp.Solver.CreateSolver('GLOP')\n"
   ]
  },
  {
   "cell_type": "code",
   "execution_count": 17,
   "metadata": {
    "execution": {
     "iopub.execute_input": "2022-05-02T20:33:08.512651Z",
     "iopub.status.busy": "2022-05-02T20:33:08.512225Z",
     "iopub.status.idle": "2022-05-02T20:33:08.514162Z",
     "shell.execute_reply": "2022-05-02T20:33:08.514504Z"
    }
   },
   "outputs": [
    {
     "data": {
      "text/html": [
       "<div>\n",
       "<style scoped>\n",
       "    .dataframe tbody tr th:only-of-type {\n",
       "        vertical-align: middle;\n",
       "    }\n",
       "\n",
       "    .dataframe tbody tr th {\n",
       "        vertical-align: top;\n",
       "    }\n",
       "\n",
       "    .dataframe thead th {\n",
       "        text-align: right;\n",
       "    }\n",
       "</style>\n",
       "<table border=\"1\" class=\"dataframe\">\n",
       "  <thead>\n",
       "    <tr style=\"text-align: right;\">\n",
       "      <th></th>\n",
       "      <th>level_0</th>\n",
       "      <th>index</th>\n",
       "      <th>R</th>\n",
       "      <th>T</th>\n",
       "      <th>ml_outcomes</th>\n",
       "      <th>N</th>\n",
       "    </tr>\n",
       "  </thead>\n",
       "  <tbody>\n",
       "    <tr>\n",
       "      <th>0</th>\n",
       "      <td>219</td>\n",
       "      <td>0</td>\n",
       "      <td>0</td>\n",
       "      <td>6</td>\n",
       "      <td>0.02</td>\n",
       "      <td>1</td>\n",
       "    </tr>\n",
       "    <tr>\n",
       "      <th>1</th>\n",
       "      <td>218</td>\n",
       "      <td>1</td>\n",
       "      <td>0</td>\n",
       "      <td>10</td>\n",
       "      <td>0.03</td>\n",
       "      <td>1</td>\n",
       "    </tr>\n",
       "    <tr>\n",
       "      <th>2</th>\n",
       "      <td>217</td>\n",
       "      <td>2</td>\n",
       "      <td>0</td>\n",
       "      <td>11</td>\n",
       "      <td>0.12</td>\n",
       "      <td>4</td>\n",
       "    </tr>\n",
       "    <tr>\n",
       "      <th>3</th>\n",
       "      <td>216</td>\n",
       "      <td>3</td>\n",
       "      <td>0</td>\n",
       "      <td>12</td>\n",
       "      <td>0.15</td>\n",
       "      <td>5</td>\n",
       "    </tr>\n",
       "    <tr>\n",
       "      <th>4</th>\n",
       "      <td>215</td>\n",
       "      <td>4</td>\n",
       "      <td>0</td>\n",
       "      <td>13</td>\n",
       "      <td>0.24</td>\n",
       "      <td>6</td>\n",
       "    </tr>\n",
       "    <tr>\n",
       "      <th>...</th>\n",
       "      <td>...</td>\n",
       "      <td>...</td>\n",
       "      <td>...</td>\n",
       "      <td>...</td>\n",
       "      <td>...</td>\n",
       "      <td>...</td>\n",
       "    </tr>\n",
       "    <tr>\n",
       "      <th>215</th>\n",
       "      <td>192</td>\n",
       "      <td>215</td>\n",
       "      <td>1</td>\n",
       "      <td>105</td>\n",
       "      <td>3.69</td>\n",
       "      <td>3</td>\n",
       "    </tr>\n",
       "    <tr>\n",
       "      <th>216</th>\n",
       "      <td>198</td>\n",
       "      <td>216</td>\n",
       "      <td>1</td>\n",
       "      <td>107</td>\n",
       "      <td>2.46</td>\n",
       "      <td>2</td>\n",
       "    </tr>\n",
       "    <tr>\n",
       "      <th>217</th>\n",
       "      <td>206</td>\n",
       "      <td>217</td>\n",
       "      <td>1</td>\n",
       "      <td>108</td>\n",
       "      <td>1.23</td>\n",
       "      <td>1</td>\n",
       "    </tr>\n",
       "    <tr>\n",
       "      <th>218</th>\n",
       "      <td>207</td>\n",
       "      <td>218</td>\n",
       "      <td>1</td>\n",
       "      <td>110</td>\n",
       "      <td>1.23</td>\n",
       "      <td>1</td>\n",
       "    </tr>\n",
       "    <tr>\n",
       "      <th>219</th>\n",
       "      <td>205</td>\n",
       "      <td>219</td>\n",
       "      <td>1</td>\n",
       "      <td>119</td>\n",
       "      <td>1.24</td>\n",
       "      <td>1</td>\n",
       "    </tr>\n",
       "  </tbody>\n",
       "</table>\n",
       "<p>220 rows × 6 columns</p>\n",
       "</div>"
      ],
      "text/plain": [
       "     level_0  index  R    T  ml_outcomes  N\n",
       "0        219      0  0    6         0.02  1\n",
       "1        218      1  0   10         0.03  1\n",
       "2        217      2  0   11         0.12  4\n",
       "3        216      3  0   12         0.15  5\n",
       "4        215      4  0   13         0.24  6\n",
       "..       ...    ... ..  ...          ... ..\n",
       "215      192    215  1  105         3.69  3\n",
       "216      198    216  1  107         2.46  2\n",
       "217      206    217  1  108         1.23  1\n",
       "218      207    218  1  110         1.23  1\n",
       "219      205    219  1  119         1.24  1\n",
       "\n",
       "[220 rows x 6 columns]"
      ]
     },
     "execution_count": 17,
     "metadata": {},
     "output_type": "execute_result"
    }
   ],
   "source": [
    "dff"
   ]
  },
  {
   "cell_type": "code",
   "execution_count": 18,
   "metadata": {
    "execution": {
     "iopub.execute_input": "2022-05-02T20:33:08.525844Z",
     "iopub.status.busy": "2022-05-02T20:33:08.525429Z",
     "iopub.status.idle": "2022-05-02T20:33:08.526813Z",
     "shell.execute_reply": "2022-05-02T20:33:08.527179Z"
    }
   },
   "outputs": [],
   "source": [
    "applicant_stratum = []\n",
    "vars_cache = {}\n",
    "\n",
    "# Objective: Maximize the expected utility of the admitted students\n",
    "objective = solver.Objective()\n",
    "\n",
    "# For each stratum\n",
    "for ix, row in dff.iterrows():\n",
    "    # probability of admission\n",
    "    numvar = solver.NumVar(0.0, 1.0, str(ix))\n",
    "    \n",
    "    # store variable by index, and also by stratum R, T\n",
    "    applicant_stratum.append(numvar)\n",
    "    vars_cache[(row['R'],row['T'])] = numvar\n",
    "    \n",
    "    # Benefit of admitting people is total utility in that stratum\n",
    "    objective.SetCoefficient(applicant_stratum[ix], float(row['ml_outcomes']))\n",
    "objective.SetMaximization()\n"
   ]
  },
  {
   "cell_type": "code",
   "execution_count": 19,
   "metadata": {
    "execution": {
     "iopub.execute_input": "2022-05-02T20:33:08.530244Z",
     "iopub.status.busy": "2022-05-02T20:33:08.529798Z",
     "iopub.status.idle": "2022-05-02T20:33:08.531470Z",
     "shell.execute_reply": "2022-05-02T20:33:08.531874Z"
    }
   },
   "outputs": [
    {
     "data": {
      "text/plain": [
       "0"
      ]
     },
     "execution_count": 19,
     "metadata": {},
     "output_type": "execute_result"
    }
   ],
   "source": [
    "# Currently we have no constraints \n",
    "solver.NumConstraints()"
   ]
  },
  {
   "cell_type": "code",
   "execution_count": 20,
   "metadata": {
    "execution": {
     "iopub.execute_input": "2022-05-02T20:33:08.540749Z",
     "iopub.status.busy": "2022-05-02T20:33:08.540355Z",
     "iopub.status.idle": "2022-05-02T20:33:08.541962Z",
     "shell.execute_reply": "2022-05-02T20:33:08.542269Z"
    },
    "scrolled": true
   },
   "outputs": [
    {
     "name": "stdout",
     "output_type": "stream",
     "text": [
      "484752\n"
     ]
    }
   ],
   "source": [
    "# Constraint: At most K applicants\n",
    "K = int(len(df)*FRAC_ADMIT)\n",
    "print(K)\n",
    "admit_quota = solver.Constraint(0, K)\n",
    "\n",
    "# Total admits cannot exceed K \n",
    "for ix, row in dff.iterrows():\n",
    "    admit_quota.SetCoefficient(applicant_stratum[ix], float(row['N']))"
   ]
  },
  {
   "cell_type": "code",
   "execution_count": 21,
   "metadata": {
    "execution": {
     "iopub.execute_input": "2022-05-02T20:33:08.545140Z",
     "iopub.status.busy": "2022-05-02T20:33:08.544739Z",
     "iopub.status.idle": "2022-05-02T20:33:08.546643Z",
     "shell.execute_reply": "2022-05-02T20:33:08.546952Z"
    }
   },
   "outputs": [
    {
     "data": {
      "text/plain": [
       "1"
      ]
     },
     "execution_count": 21,
     "metadata": {},
     "output_type": "execute_result"
    }
   ],
   "source": [
    "# Now we have one constraint\n",
    "solver.NumConstraints()"
   ]
  },
  {
   "cell_type": "markdown",
   "metadata": {},
   "source": [
    "## Add Equalized Odds Constraints"
   ]
  },
  {
   "cell_type": "code",
   "execution_count": 22,
   "metadata": {
    "execution": {
     "iopub.execute_input": "2022-05-02T20:33:08.550580Z",
     "iopub.status.busy": "2022-05-02T20:33:08.550143Z",
     "iopub.status.idle": "2022-05-02T20:33:08.551298Z",
     "shell.execute_reply": "2022-05-02T20:33:08.551599Z"
    }
   },
   "outputs": [],
   "source": [
    "from collections import Counter\n",
    "\n",
    "def convertListToProb(raw_list):\n",
    "    counts = dict(Counter(raw_list))\n",
    "    probs = {}\n",
    "    for test_score in counts:\n",
    "        probs[test_score]  = counts[test_score]/float(len(raw_list))\n",
    "    return [(probs[t], t) for t in probs]"
   ]
  },
  {
   "cell_type": "code",
   "execution_count": 23,
   "metadata": {
    "execution": {
     "iopub.execute_input": "2022-05-02T20:33:08.556403Z",
     "iopub.status.busy": "2022-05-02T20:33:08.555914Z",
     "iopub.status.idle": "2022-05-02T20:33:08.715352Z",
     "shell.execute_reply": "2022-05-02T20:33:08.715742Z"
    }
   },
   "outputs": [
    {
     "data": {
      "text/plain": [
       "(4, 957)"
      ]
     },
     "execution_count": 23,
     "metadata": {},
     "output_type": "execute_result"
    }
   ],
   "source": [
    "T_blacks_list = df[df['R']==0][['T','T_black']].groupby('T')['T_black'].apply(list).reset_index(name='T_blacks')\n",
    "T_blacks_list['probs'] = T_blacks_list['T_blacks'].apply(convertListToProb)\n",
    "didntexist = 0\n",
    "exists = 0\n",
    "for ix, row in T_blacks_list.iterrows():\n",
    "    cf_fair_stratum = solver.Constraint(0.0, 0.0)\n",
    "\n",
    "    White_T = row['T']\n",
    "    Blacks_Ts = row['probs']        \n",
    "    cf_fair_stratum.SetCoefficient(vars_cache[(0.0, White_T)], -1.0)\n",
    "    for prob in Blacks_Ts:\n",
    "        if (1.0, prob[1]) not in vars_cache:\n",
    "            vars_cache[(1.0, prob[1])] = solver.NumVar(0.0, 1.0, str((1.0, prob[1])))\n",
    "            didntexist+=1\n",
    "        else:\n",
    "            exists+=1\n",
    "        cf_fair_stratum.SetCoefficient(vars_cache[(1.0, prob[1])], prob[0])\n",
    "didntexist,exists"
   ]
  },
  {
   "cell_type": "code",
   "execution_count": 24,
   "metadata": {
    "execution": {
     "iopub.execute_input": "2022-05-02T20:33:08.720619Z",
     "iopub.status.busy": "2022-05-02T20:33:08.720223Z",
     "iopub.status.idle": "2022-05-02T20:33:08.783097Z",
     "shell.execute_reply": "2022-05-02T20:33:08.783405Z"
    }
   },
   "outputs": [
    {
     "data": {
      "text/plain": [
       "(3, 881)"
      ]
     },
     "execution_count": 24,
     "metadata": {},
     "output_type": "execute_result"
    }
   ],
   "source": [
    "T_whites_list = df[df['R']==1][['T','T_white']].groupby('T')['T_white'].apply(list).reset_index(name='T_whites')\n",
    "T_whites_list['probs'] = T_whites_list['T_whites'].apply(convertListToProb)\n",
    "didntexist = 0\n",
    "exists = 0\n",
    "\n",
    "for ix, row in T_whites_list.iterrows():\n",
    "    cf_fair_stratum = solver.Constraint(0.0, 0.0)\n",
    "\n",
    "    Black_T = row['T']\n",
    "    White_Ts = row['probs']\n",
    "    \n",
    "    cf_fair_stratum.SetCoefficient(vars_cache[(1.0, Black_T)], -1.0)\n",
    "    for prob in White_Ts:\n",
    "        if (0.0, prob[1]) not in vars_cache:\n",
    "            vars_cache[(0.0, prob[1])] = solver.NumVar(0.0, 1.0, str((0.0, prob[1])))\n",
    "            didntexist+=1\n",
    "        else:\n",
    "            exists+=1\n",
    "            \n",
    "        cf_fair_stratum.SetCoefficient(vars_cache[(0.0, prob[1])], prob[0])\n",
    "didntexist,exists  "
   ]
  },
  {
   "cell_type": "code",
   "execution_count": 25,
   "metadata": {
    "execution": {
     "iopub.execute_input": "2022-05-02T20:33:08.786094Z",
     "iopub.status.busy": "2022-05-02T20:33:08.785680Z",
     "iopub.status.idle": "2022-05-02T20:33:08.787589Z",
     "shell.execute_reply": "2022-05-02T20:33:08.787913Z"
    }
   },
   "outputs": [
    {
     "data": {
      "text/plain": [
       "221"
      ]
     },
     "execution_count": 25,
     "metadata": {},
     "output_type": "execute_result"
    }
   ],
   "source": [
    "solver.NumConstraints()"
   ]
  },
  {
   "cell_type": "markdown",
   "metadata": {},
   "source": [
    "## Solve linear program"
   ]
  },
  {
   "cell_type": "code",
   "execution_count": 26,
   "metadata": {
    "execution": {
     "iopub.execute_input": "2022-05-02T20:33:08.790653Z",
     "iopub.status.busy": "2022-05-02T20:33:08.790075Z",
     "iopub.status.idle": "2022-05-02T20:33:08.792011Z",
     "shell.execute_reply": "2022-05-02T20:33:08.792258Z"
    }
   },
   "outputs": [
    {
     "data": {
      "text/plain": [
       "4"
      ]
     },
     "execution_count": 26,
     "metadata": {},
     "output_type": "execute_result"
    }
   ],
   "source": [
    "solver.ABNORMAL"
   ]
  },
  {
   "cell_type": "code",
   "execution_count": 27,
   "metadata": {
    "execution": {
     "iopub.execute_input": "2022-05-02T20:33:08.799414Z",
     "iopub.status.busy": "2022-05-02T20:33:08.799043Z",
     "iopub.status.idle": "2022-05-02T20:33:08.800431Z",
     "shell.execute_reply": "2022-05-02T20:33:08.800683Z"
    }
   },
   "outputs": [],
   "source": [
    "status = solver.Solve()\n"
   ]
  },
  {
   "cell_type": "code",
   "execution_count": 28,
   "metadata": {
    "execution": {
     "iopub.execute_input": "2022-05-02T20:33:08.803296Z",
     "iopub.status.busy": "2022-05-02T20:33:08.802801Z",
     "iopub.status.idle": "2022-05-02T20:33:08.804423Z",
     "shell.execute_reply": "2022-05-02T20:33:08.804707Z"
    }
   },
   "outputs": [
    {
     "data": {
      "text/plain": [
       "0"
      ]
     },
     "execution_count": 28,
     "metadata": {},
     "output_type": "execute_result"
    }
   ],
   "source": [
    "status"
   ]
  },
  {
   "cell_type": "code",
   "execution_count": 29,
   "metadata": {
    "execution": {
     "iopub.execute_input": "2022-05-02T20:33:08.807288Z",
     "iopub.status.busy": "2022-05-02T20:33:08.806927Z",
     "iopub.status.idle": "2022-05-02T20:33:08.808541Z",
     "shell.execute_reply": "2022-05-02T20:33:08.809052Z"
    }
   },
   "outputs": [
    {
     "data": {
      "text/plain": [
       "0"
      ]
     },
     "execution_count": 29,
     "metadata": {},
     "output_type": "execute_result"
    }
   ],
   "source": [
    "solver.OPTIMAL"
   ]
  },
  {
   "cell_type": "code",
   "execution_count": 30,
   "metadata": {
    "execution": {
     "iopub.execute_input": "2022-05-02T20:33:08.812999Z",
     "iopub.status.busy": "2022-05-02T20:33:08.812582Z",
     "iopub.status.idle": "2022-05-02T20:33:08.813633Z",
     "shell.execute_reply": "2022-05-02T20:33:08.814020Z"
    },
    "scrolled": true
   },
   "outputs": [],
   "source": [
    "row = []\n",
    "admit = []\n",
    "\n",
    "for i in applicant_stratum:\n",
    "    row.append(int(str(i)))\n",
    "    admit.append(i.solution_value())\n",
    "\n",
    "df_decisions = pd.DataFrame({'row_id':row,'decision':admit})"
   ]
  },
  {
   "cell_type": "code",
   "execution_count": 31,
   "metadata": {
    "execution": {
     "iopub.execute_input": "2022-05-02T20:33:08.819219Z",
     "iopub.status.busy": "2022-05-02T20:33:08.818629Z",
     "iopub.status.idle": "2022-05-02T20:33:08.820686Z",
     "shell.execute_reply": "2022-05-02T20:33:08.821000Z"
    }
   },
   "outputs": [
    {
     "data": {
      "text/html": [
       "<div>\n",
       "<style scoped>\n",
       "    .dataframe tbody tr th:only-of-type {\n",
       "        vertical-align: middle;\n",
       "    }\n",
       "\n",
       "    .dataframe tbody tr th {\n",
       "        vertical-align: top;\n",
       "    }\n",
       "\n",
       "    .dataframe thead th {\n",
       "        text-align: right;\n",
       "    }\n",
       "</style>\n",
       "<table border=\"1\" class=\"dataframe\">\n",
       "  <thead>\n",
       "    <tr style=\"text-align: right;\">\n",
       "      <th></th>\n",
       "      <th>row_id</th>\n",
       "      <th>decision</th>\n",
       "    </tr>\n",
       "  </thead>\n",
       "  <tbody>\n",
       "    <tr>\n",
       "      <th>0</th>\n",
       "      <td>0</td>\n",
       "      <td>0.000000</td>\n",
       "    </tr>\n",
       "    <tr>\n",
       "      <th>1</th>\n",
       "      <td>1</td>\n",
       "      <td>0.269711</td>\n",
       "    </tr>\n",
       "    <tr>\n",
       "      <th>2</th>\n",
       "      <td>2</td>\n",
       "      <td>0.322281</td>\n",
       "    </tr>\n",
       "    <tr>\n",
       "      <th>3</th>\n",
       "      <td>3</td>\n",
       "      <td>0.348566</td>\n",
       "    </tr>\n",
       "    <tr>\n",
       "      <th>4</th>\n",
       "      <td>4</td>\n",
       "      <td>0.348566</td>\n",
       "    </tr>\n",
       "    <tr>\n",
       "      <th>...</th>\n",
       "      <td>...</td>\n",
       "      <td>...</td>\n",
       "    </tr>\n",
       "    <tr>\n",
       "      <th>215</th>\n",
       "      <td>215</td>\n",
       "      <td>0.995590</td>\n",
       "    </tr>\n",
       "    <tr>\n",
       "      <th>216</th>\n",
       "      <td>216</td>\n",
       "      <td>0.997060</td>\n",
       "    </tr>\n",
       "    <tr>\n",
       "      <th>217</th>\n",
       "      <td>217</td>\n",
       "      <td>0.998530</td>\n",
       "    </tr>\n",
       "    <tr>\n",
       "      <th>218</th>\n",
       "      <td>218</td>\n",
       "      <td>1.000000</td>\n",
       "    </tr>\n",
       "    <tr>\n",
       "      <th>219</th>\n",
       "      <td>219</td>\n",
       "      <td>1.000000</td>\n",
       "    </tr>\n",
       "  </tbody>\n",
       "</table>\n",
       "<p>220 rows × 2 columns</p>\n",
       "</div>"
      ],
      "text/plain": [
       "     row_id  decision\n",
       "0         0  0.000000\n",
       "1         1  0.269711\n",
       "2         2  0.322281\n",
       "3         3  0.348566\n",
       "4         4  0.348566\n",
       "..      ...       ...\n",
       "215     215  0.995590\n",
       "216     216  0.997060\n",
       "217     217  0.998530\n",
       "218     218  1.000000\n",
       "219     219  1.000000\n",
       "\n",
       "[220 rows x 2 columns]"
      ]
     },
     "execution_count": 31,
     "metadata": {},
     "output_type": "execute_result"
    }
   ],
   "source": [
    "df_decisions"
   ]
  },
  {
   "cell_type": "code",
   "execution_count": 32,
   "metadata": {
    "execution": {
     "iopub.execute_input": "2022-05-02T20:33:08.828872Z",
     "iopub.status.busy": "2022-05-02T20:33:08.828432Z",
     "iopub.status.idle": "2022-05-02T20:33:08.829986Z",
     "shell.execute_reply": "2022-05-02T20:33:08.830500Z"
    }
   },
   "outputs": [
    {
     "data": {
      "text/html": [
       "<div>\n",
       "<style scoped>\n",
       "    .dataframe tbody tr th:only-of-type {\n",
       "        vertical-align: middle;\n",
       "    }\n",
       "\n",
       "    .dataframe tbody tr th {\n",
       "        vertical-align: top;\n",
       "    }\n",
       "\n",
       "    .dataframe thead th {\n",
       "        text-align: right;\n",
       "    }\n",
       "</style>\n",
       "<table border=\"1\" class=\"dataframe\">\n",
       "  <thead>\n",
       "    <tr style=\"text-align: right;\">\n",
       "      <th></th>\n",
       "      <th>level_0</th>\n",
       "      <th>index</th>\n",
       "      <th>R</th>\n",
       "      <th>T</th>\n",
       "      <th>ml_outcomes</th>\n",
       "      <th>N</th>\n",
       "      <th>row_id</th>\n",
       "      <th>decision</th>\n",
       "    </tr>\n",
       "  </thead>\n",
       "  <tbody>\n",
       "    <tr>\n",
       "      <th>50</th>\n",
       "      <td>0</td>\n",
       "      <td>50</td>\n",
       "      <td>0</td>\n",
       "      <td>59</td>\n",
       "      <td>11122.66</td>\n",
       "      <td>19177</td>\n",
       "      <td>50</td>\n",
       "      <td>0.484546</td>\n",
       "    </tr>\n",
       "    <tr>\n",
       "      <th>49</th>\n",
       "      <td>1</td>\n",
       "      <td>49</td>\n",
       "      <td>0</td>\n",
       "      <td>58</td>\n",
       "      <td>11055.52</td>\n",
       "      <td>19742</td>\n",
       "      <td>49</td>\n",
       "      <td>0.484525</td>\n",
       "    </tr>\n",
       "    <tr>\n",
       "      <th>48</th>\n",
       "      <td>2</td>\n",
       "      <td>48</td>\n",
       "      <td>0</td>\n",
       "      <td>57</td>\n",
       "      <td>11021.94</td>\n",
       "      <td>20411</td>\n",
       "      <td>48</td>\n",
       "      <td>0.484504</td>\n",
       "    </tr>\n",
       "    <tr>\n",
       "      <th>47</th>\n",
       "      <td>3</td>\n",
       "      <td>47</td>\n",
       "      <td>0</td>\n",
       "      <td>56</td>\n",
       "      <td>11013.08</td>\n",
       "      <td>21179</td>\n",
       "      <td>47</td>\n",
       "      <td>0.484485</td>\n",
       "    </tr>\n",
       "    <tr>\n",
       "      <th>51</th>\n",
       "      <td>4</td>\n",
       "      <td>51</td>\n",
       "      <td>0</td>\n",
       "      <td>60</td>\n",
       "      <td>10902.60</td>\n",
       "      <td>18171</td>\n",
       "      <td>51</td>\n",
       "      <td>0.484568</td>\n",
       "    </tr>\n",
       "    <tr>\n",
       "      <th>...</th>\n",
       "      <td>...</td>\n",
       "      <td>...</td>\n",
       "      <td>...</td>\n",
       "      <td>...</td>\n",
       "      <td>...</td>\n",
       "      <td>...</td>\n",
       "      <td>...</td>\n",
       "      <td>...</td>\n",
       "    </tr>\n",
       "    <tr>\n",
       "      <th>4</th>\n",
       "      <td>215</td>\n",
       "      <td>4</td>\n",
       "      <td>0</td>\n",
       "      <td>13</td>\n",
       "      <td>0.24</td>\n",
       "      <td>6</td>\n",
       "      <td>4</td>\n",
       "      <td>0.348566</td>\n",
       "    </tr>\n",
       "    <tr>\n",
       "      <th>3</th>\n",
       "      <td>216</td>\n",
       "      <td>3</td>\n",
       "      <td>0</td>\n",
       "      <td>12</td>\n",
       "      <td>0.15</td>\n",
       "      <td>5</td>\n",
       "      <td>3</td>\n",
       "      <td>0.348566</td>\n",
       "    </tr>\n",
       "    <tr>\n",
       "      <th>2</th>\n",
       "      <td>217</td>\n",
       "      <td>2</td>\n",
       "      <td>0</td>\n",
       "      <td>11</td>\n",
       "      <td>0.12</td>\n",
       "      <td>4</td>\n",
       "      <td>2</td>\n",
       "      <td>0.322281</td>\n",
       "    </tr>\n",
       "    <tr>\n",
       "      <th>1</th>\n",
       "      <td>218</td>\n",
       "      <td>1</td>\n",
       "      <td>0</td>\n",
       "      <td>10</td>\n",
       "      <td>0.03</td>\n",
       "      <td>1</td>\n",
       "      <td>1</td>\n",
       "      <td>0.269711</td>\n",
       "    </tr>\n",
       "    <tr>\n",
       "      <th>0</th>\n",
       "      <td>219</td>\n",
       "      <td>0</td>\n",
       "      <td>0</td>\n",
       "      <td>6</td>\n",
       "      <td>0.02</td>\n",
       "      <td>1</td>\n",
       "      <td>0</td>\n",
       "      <td>0.000000</td>\n",
       "    </tr>\n",
       "  </tbody>\n",
       "</table>\n",
       "<p>220 rows × 8 columns</p>\n",
       "</div>"
      ],
      "text/plain": [
       "    level_0  index  R   T  ml_outcomes      N  row_id  decision\n",
       "50        0     50  0  59     11122.66  19177      50  0.484546\n",
       "49        1     49  0  58     11055.52  19742      49  0.484525\n",
       "48        2     48  0  57     11021.94  20411      48  0.484504\n",
       "47        3     47  0  56     11013.08  21179      47  0.484485\n",
       "51        4     51  0  60     10902.60  18171      51  0.484568\n",
       "..      ...    ... ..  ..          ...    ...     ...       ...\n",
       "4       215      4  0  13         0.24      6       4  0.348566\n",
       "3       216      3  0  12         0.15      5       3  0.348566\n",
       "2       217      2  0  11         0.12      4       2  0.322281\n",
       "1       218      1  0  10         0.03      1       1  0.269711\n",
       "0       219      0  0   6         0.02      1       0  0.000000\n",
       "\n",
       "[220 rows x 8 columns]"
      ]
     },
     "execution_count": 32,
     "metadata": {},
     "output_type": "execute_result"
    }
   ],
   "source": [
    "dff.merge(df_decisions,left_index=True,right_index=True).sort_values(by='ml_outcomes',ascending=False)"
   ]
  },
  {
   "cell_type": "code",
   "execution_count": 33,
   "metadata": {
    "execution": {
     "iopub.execute_input": "2022-05-02T20:33:08.839061Z",
     "iopub.status.busy": "2022-05-02T20:33:08.838573Z",
     "iopub.status.idle": "2022-05-02T20:33:08.840663Z",
     "shell.execute_reply": "2022-05-02T20:33:08.840879Z"
    }
   },
   "outputs": [
    {
     "data": {
      "text/html": [
       "<div>\n",
       "<style scoped>\n",
       "    .dataframe tbody tr th:only-of-type {\n",
       "        vertical-align: middle;\n",
       "    }\n",
       "\n",
       "    .dataframe tbody tr th {\n",
       "        vertical-align: top;\n",
       "    }\n",
       "\n",
       "    .dataframe thead th {\n",
       "        text-align: right;\n",
       "    }\n",
       "</style>\n",
       "<table border=\"1\" class=\"dataframe\">\n",
       "  <thead>\n",
       "    <tr style=\"text-align: right;\">\n",
       "      <th></th>\n",
       "      <th>level_0</th>\n",
       "      <th>index</th>\n",
       "      <th>R</th>\n",
       "      <th>T</th>\n",
       "      <th>ml_outcomes</th>\n",
       "      <th>N</th>\n",
       "      <th>row_id</th>\n",
       "      <th>decision</th>\n",
       "    </tr>\n",
       "  </thead>\n",
       "  <tbody>\n",
       "    <tr>\n",
       "      <th>0</th>\n",
       "      <td>219</td>\n",
       "      <td>0</td>\n",
       "      <td>0</td>\n",
       "      <td>6</td>\n",
       "      <td>0.02</td>\n",
       "      <td>1</td>\n",
       "      <td>0</td>\n",
       "      <td>0.000000</td>\n",
       "    </tr>\n",
       "    <tr>\n",
       "      <th>117</th>\n",
       "      <td>214</td>\n",
       "      <td>117</td>\n",
       "      <td>1</td>\n",
       "      <td>6</td>\n",
       "      <td>0.27</td>\n",
       "      <td>1</td>\n",
       "      <td>117</td>\n",
       "      <td>0.000000</td>\n",
       "    </tr>\n",
       "    <tr>\n",
       "      <th>118</th>\n",
       "      <td>213</td>\n",
       "      <td>118</td>\n",
       "      <td>1</td>\n",
       "      <td>7</td>\n",
       "      <td>0.27</td>\n",
       "      <td>1</td>\n",
       "      <td>118</td>\n",
       "      <td>0.401136</td>\n",
       "    </tr>\n",
       "    <tr>\n",
       "      <th>119</th>\n",
       "      <td>211</td>\n",
       "      <td>119</td>\n",
       "      <td>1</td>\n",
       "      <td>8</td>\n",
       "      <td>0.54</td>\n",
       "      <td>2</td>\n",
       "      <td>119</td>\n",
       "      <td>0.348566</td>\n",
       "    </tr>\n",
       "    <tr>\n",
       "      <th>1</th>\n",
       "      <td>218</td>\n",
       "      <td>1</td>\n",
       "      <td>0</td>\n",
       "      <td>10</td>\n",
       "      <td>0.03</td>\n",
       "      <td>1</td>\n",
       "      <td>1</td>\n",
       "      <td>0.269711</td>\n",
       "    </tr>\n",
       "    <tr>\n",
       "      <th>...</th>\n",
       "      <td>...</td>\n",
       "      <td>...</td>\n",
       "      <td>...</td>\n",
       "      <td>...</td>\n",
       "      <td>...</td>\n",
       "      <td>...</td>\n",
       "      <td>...</td>\n",
       "      <td>...</td>\n",
       "    </tr>\n",
       "    <tr>\n",
       "      <th>112</th>\n",
       "      <td>189</td>\n",
       "      <td>112</td>\n",
       "      <td>0</td>\n",
       "      <td>121</td>\n",
       "      <td>4.95</td>\n",
       "      <td>5</td>\n",
       "      <td>112</td>\n",
       "      <td>0.991179</td>\n",
       "    </tr>\n",
       "    <tr>\n",
       "      <th>113</th>\n",
       "      <td>201</td>\n",
       "      <td>113</td>\n",
       "      <td>0</td>\n",
       "      <td>122</td>\n",
       "      <td>2.00</td>\n",
       "      <td>2</td>\n",
       "      <td>113</td>\n",
       "      <td>0.997795</td>\n",
       "    </tr>\n",
       "    <tr>\n",
       "      <th>114</th>\n",
       "      <td>202</td>\n",
       "      <td>114</td>\n",
       "      <td>0</td>\n",
       "      <td>123</td>\n",
       "      <td>2.00</td>\n",
       "      <td>2</td>\n",
       "      <td>114</td>\n",
       "      <td>0.998530</td>\n",
       "    </tr>\n",
       "    <tr>\n",
       "      <th>115</th>\n",
       "      <td>195</td>\n",
       "      <td>115</td>\n",
       "      <td>0</td>\n",
       "      <td>124</td>\n",
       "      <td>3.00</td>\n",
       "      <td>3</td>\n",
       "      <td>115</td>\n",
       "      <td>0.997060</td>\n",
       "    </tr>\n",
       "    <tr>\n",
       "      <th>116</th>\n",
       "      <td>203</td>\n",
       "      <td>116</td>\n",
       "      <td>0</td>\n",
       "      <td>129</td>\n",
       "      <td>2.00</td>\n",
       "      <td>2</td>\n",
       "      <td>116</td>\n",
       "      <td>1.000000</td>\n",
       "    </tr>\n",
       "  </tbody>\n",
       "</table>\n",
       "<p>220 rows × 8 columns</p>\n",
       "</div>"
      ],
      "text/plain": [
       "     level_0  index  R    T  ml_outcomes  N  row_id  decision\n",
       "0        219      0  0    6         0.02  1       0  0.000000\n",
       "117      214    117  1    6         0.27  1     117  0.000000\n",
       "118      213    118  1    7         0.27  1     118  0.401136\n",
       "119      211    119  1    8         0.54  2     119  0.348566\n",
       "1        218      1  0   10         0.03  1       1  0.269711\n",
       "..       ...    ... ..  ...          ... ..     ...       ...\n",
       "112      189    112  0  121         4.95  5     112  0.991179\n",
       "113      201    113  0  122         2.00  2     113  0.997795\n",
       "114      202    114  0  123         2.00  2     114  0.998530\n",
       "115      195    115  0  124         3.00  3     115  0.997060\n",
       "116      203    116  0  129         2.00  2     116  1.000000\n",
       "\n",
       "[220 rows x 8 columns]"
      ]
     },
     "execution_count": 33,
     "metadata": {},
     "output_type": "execute_result"
    }
   ],
   "source": [
    "xxx_ = dff.merge(df_decisions,left_index=True,right_index=True).sort_values(by='ml_outcomes',ascending=False)\n",
    "xxx_.sort_values(by='T')"
   ]
  },
  {
   "cell_type": "code",
   "execution_count": 34,
   "metadata": {
    "execution": {
     "iopub.execute_input": "2022-05-02T20:33:08.848728Z",
     "iopub.status.busy": "2022-05-02T20:33:08.848310Z",
     "iopub.status.idle": "2022-05-02T20:33:08.849942Z",
     "shell.execute_reply": "2022-05-02T20:33:08.850169Z"
    }
   },
   "outputs": [
    {
     "data": {
      "text/html": [
       "<div>\n",
       "<style scoped>\n",
       "    .dataframe tbody tr th:only-of-type {\n",
       "        vertical-align: middle;\n",
       "    }\n",
       "\n",
       "    .dataframe tbody tr th {\n",
       "        vertical-align: top;\n",
       "    }\n",
       "\n",
       "    .dataframe thead th {\n",
       "        text-align: right;\n",
       "    }\n",
       "</style>\n",
       "<table border=\"1\" class=\"dataframe\">\n",
       "  <thead>\n",
       "    <tr style=\"text-align: right;\">\n",
       "      <th></th>\n",
       "      <th>level_0</th>\n",
       "      <th>index</th>\n",
       "      <th>R</th>\n",
       "      <th>T</th>\n",
       "      <th>ml_outcomes</th>\n",
       "      <th>N</th>\n",
       "      <th>row_id</th>\n",
       "      <th>decision</th>\n",
       "    </tr>\n",
       "  </thead>\n",
       "  <tbody>\n",
       "    <tr>\n",
       "      <th>50</th>\n",
       "      <td>0</td>\n",
       "      <td>50</td>\n",
       "      <td>0</td>\n",
       "      <td>59</td>\n",
       "      <td>11122.66</td>\n",
       "      <td>19177</td>\n",
       "      <td>50</td>\n",
       "      <td>0.484546</td>\n",
       "    </tr>\n",
       "    <tr>\n",
       "      <th>49</th>\n",
       "      <td>1</td>\n",
       "      <td>49</td>\n",
       "      <td>0</td>\n",
       "      <td>58</td>\n",
       "      <td>11055.52</td>\n",
       "      <td>19742</td>\n",
       "      <td>49</td>\n",
       "      <td>0.484525</td>\n",
       "    </tr>\n",
       "    <tr>\n",
       "      <th>48</th>\n",
       "      <td>2</td>\n",
       "      <td>48</td>\n",
       "      <td>0</td>\n",
       "      <td>57</td>\n",
       "      <td>11021.94</td>\n",
       "      <td>20411</td>\n",
       "      <td>48</td>\n",
       "      <td>0.484504</td>\n",
       "    </tr>\n",
       "    <tr>\n",
       "      <th>47</th>\n",
       "      <td>3</td>\n",
       "      <td>47</td>\n",
       "      <td>0</td>\n",
       "      <td>56</td>\n",
       "      <td>11013.08</td>\n",
       "      <td>21179</td>\n",
       "      <td>47</td>\n",
       "      <td>0.484485</td>\n",
       "    </tr>\n",
       "    <tr>\n",
       "      <th>51</th>\n",
       "      <td>4</td>\n",
       "      <td>51</td>\n",
       "      <td>0</td>\n",
       "      <td>60</td>\n",
       "      <td>10902.60</td>\n",
       "      <td>18171</td>\n",
       "      <td>51</td>\n",
       "      <td>0.484568</td>\n",
       "    </tr>\n",
       "    <tr>\n",
       "      <th>...</th>\n",
       "      <td>...</td>\n",
       "      <td>...</td>\n",
       "      <td>...</td>\n",
       "      <td>...</td>\n",
       "      <td>...</td>\n",
       "      <td>...</td>\n",
       "      <td>...</td>\n",
       "      <td>...</td>\n",
       "    </tr>\n",
       "    <tr>\n",
       "      <th>4</th>\n",
       "      <td>215</td>\n",
       "      <td>4</td>\n",
       "      <td>0</td>\n",
       "      <td>13</td>\n",
       "      <td>0.24</td>\n",
       "      <td>6</td>\n",
       "      <td>4</td>\n",
       "      <td>0.348566</td>\n",
       "    </tr>\n",
       "    <tr>\n",
       "      <th>3</th>\n",
       "      <td>216</td>\n",
       "      <td>3</td>\n",
       "      <td>0</td>\n",
       "      <td>12</td>\n",
       "      <td>0.15</td>\n",
       "      <td>5</td>\n",
       "      <td>3</td>\n",
       "      <td>0.348566</td>\n",
       "    </tr>\n",
       "    <tr>\n",
       "      <th>2</th>\n",
       "      <td>217</td>\n",
       "      <td>2</td>\n",
       "      <td>0</td>\n",
       "      <td>11</td>\n",
       "      <td>0.12</td>\n",
       "      <td>4</td>\n",
       "      <td>2</td>\n",
       "      <td>0.322281</td>\n",
       "    </tr>\n",
       "    <tr>\n",
       "      <th>1</th>\n",
       "      <td>218</td>\n",
       "      <td>1</td>\n",
       "      <td>0</td>\n",
       "      <td>10</td>\n",
       "      <td>0.03</td>\n",
       "      <td>1</td>\n",
       "      <td>1</td>\n",
       "      <td>0.269711</td>\n",
       "    </tr>\n",
       "    <tr>\n",
       "      <th>0</th>\n",
       "      <td>219</td>\n",
       "      <td>0</td>\n",
       "      <td>0</td>\n",
       "      <td>6</td>\n",
       "      <td>0.02</td>\n",
       "      <td>1</td>\n",
       "      <td>0</td>\n",
       "      <td>0.000000</td>\n",
       "    </tr>\n",
       "  </tbody>\n",
       "</table>\n",
       "<p>220 rows × 8 columns</p>\n",
       "</div>"
      ],
      "text/plain": [
       "    level_0  index  R   T  ml_outcomes      N  row_id  decision\n",
       "50        0     50  0  59     11122.66  19177      50  0.484546\n",
       "49        1     49  0  58     11055.52  19742      49  0.484525\n",
       "48        2     48  0  57     11021.94  20411      48  0.484504\n",
       "47        3     47  0  56     11013.08  21179      47  0.484485\n",
       "51        4     51  0  60     10902.60  18171      51  0.484568\n",
       "..      ...    ... ..  ..          ...    ...     ...       ...\n",
       "4       215      4  0  13         0.24      6       4  0.348566\n",
       "3       216      3  0  12         0.15      5       3  0.348566\n",
       "2       217      2  0  11         0.12      4       2  0.322281\n",
       "1       218      1  0  10         0.03      1       1  0.269711\n",
       "0       219      0  0   6         0.02      1       0  0.000000\n",
       "\n",
       "[220 rows x 8 columns]"
      ]
     },
     "execution_count": 34,
     "metadata": {},
     "output_type": "execute_result"
    }
   ],
   "source": [
    "xxx = dff.merge(df_decisions,left_index=True,right_index=True).sort_values(by='ml_outcomes',ascending=False)\n",
    "xxx"
   ]
  },
  {
   "cell_type": "code",
   "execution_count": 35,
   "metadata": {
    "execution": {
     "iopub.execute_input": "2022-05-02T20:33:08.852805Z",
     "iopub.status.busy": "2022-05-02T20:33:08.852353Z",
     "iopub.status.idle": "2022-05-02T20:33:08.854237Z",
     "shell.execute_reply": "2022-05-02T20:33:08.854525Z"
    }
   },
   "outputs": [
    {
     "data": {
      "text/plain": [
       "220"
      ]
     },
     "execution_count": 35,
     "metadata": {},
     "output_type": "execute_result"
    }
   ],
   "source": [
    "len(xxx_)"
   ]
  },
  {
   "cell_type": "code",
   "execution_count": 36,
   "metadata": {
    "execution": {
     "iopub.execute_input": "2022-05-02T20:33:08.856880Z",
     "iopub.status.busy": "2022-05-02T20:33:08.856508Z",
     "iopub.status.idle": "2022-05-02T20:33:08.861365Z",
     "shell.execute_reply": "2022-05-02T20:33:08.861584Z"
    }
   },
   "outputs": [],
   "source": [
    "xxx.to_csv('./decision.csv')"
   ]
  },
  {
   "cell_type": "code",
   "execution_count": 37,
   "metadata": {
    "execution": {
     "iopub.execute_input": "2022-05-02T20:33:08.863627Z",
     "iopub.status.busy": "2022-05-02T20:33:08.862919Z",
     "iopub.status.idle": "2022-05-02T20:33:08.866773Z",
     "shell.execute_reply": "2022-05-02T20:33:08.867026Z"
    }
   },
   "outputs": [],
   "source": [
    "solution = pd.read_csv('./decision.csv')"
   ]
  },
  {
   "cell_type": "code",
   "execution_count": null,
   "metadata": {},
   "outputs": [],
   "source": []
  },
  {
   "cell_type": "code",
   "execution_count": null,
   "metadata": {},
   "outputs": [],
   "source": []
  },
  {
   "cell_type": "code",
   "execution_count": 38,
   "metadata": {
    "execution": {
     "iopub.execute_input": "2022-05-02T20:33:08.874329Z",
     "iopub.status.busy": "2022-05-02T20:33:08.873895Z",
     "iopub.status.idle": "2022-05-02T20:33:08.875971Z",
     "shell.execute_reply": "2022-05-02T20:33:08.876327Z"
    }
   },
   "outputs": [
    {
     "data": {
      "text/html": [
       "<div>\n",
       "<style scoped>\n",
       "    .dataframe tbody tr th:only-of-type {\n",
       "        vertical-align: middle;\n",
       "    }\n",
       "\n",
       "    .dataframe tbody tr th {\n",
       "        vertical-align: top;\n",
       "    }\n",
       "\n",
       "    .dataframe thead th {\n",
       "        text-align: right;\n",
       "    }\n",
       "</style>\n",
       "<table border=\"1\" class=\"dataframe\">\n",
       "  <thead>\n",
       "    <tr style=\"text-align: right;\">\n",
       "      <th></th>\n",
       "      <th>level_0</th>\n",
       "      <th>index</th>\n",
       "      <th>R</th>\n",
       "      <th>T</th>\n",
       "      <th>ml_outcomes</th>\n",
       "      <th>N</th>\n",
       "      <th>row_id</th>\n",
       "      <th>decision</th>\n",
       "    </tr>\n",
       "  </thead>\n",
       "  <tbody>\n",
       "    <tr>\n",
       "      <th>50</th>\n",
       "      <td>0</td>\n",
       "      <td>50</td>\n",
       "      <td>0</td>\n",
       "      <td>59</td>\n",
       "      <td>11122.66</td>\n",
       "      <td>19177</td>\n",
       "      <td>50</td>\n",
       "      <td>0.484546</td>\n",
       "    </tr>\n",
       "    <tr>\n",
       "      <th>49</th>\n",
       "      <td>1</td>\n",
       "      <td>49</td>\n",
       "      <td>0</td>\n",
       "      <td>58</td>\n",
       "      <td>11055.52</td>\n",
       "      <td>19742</td>\n",
       "      <td>49</td>\n",
       "      <td>0.484525</td>\n",
       "    </tr>\n",
       "    <tr>\n",
       "      <th>48</th>\n",
       "      <td>2</td>\n",
       "      <td>48</td>\n",
       "      <td>0</td>\n",
       "      <td>57</td>\n",
       "      <td>11021.94</td>\n",
       "      <td>20411</td>\n",
       "      <td>48</td>\n",
       "      <td>0.484504</td>\n",
       "    </tr>\n",
       "    <tr>\n",
       "      <th>47</th>\n",
       "      <td>3</td>\n",
       "      <td>47</td>\n",
       "      <td>0</td>\n",
       "      <td>56</td>\n",
       "      <td>11013.08</td>\n",
       "      <td>21179</td>\n",
       "      <td>47</td>\n",
       "      <td>0.484485</td>\n",
       "    </tr>\n",
       "    <tr>\n",
       "      <th>51</th>\n",
       "      <td>4</td>\n",
       "      <td>51</td>\n",
       "      <td>0</td>\n",
       "      <td>60</td>\n",
       "      <td>10902.60</td>\n",
       "      <td>18171</td>\n",
       "      <td>51</td>\n",
       "      <td>0.484568</td>\n",
       "    </tr>\n",
       "    <tr>\n",
       "      <th>...</th>\n",
       "      <td>...</td>\n",
       "      <td>...</td>\n",
       "      <td>...</td>\n",
       "      <td>...</td>\n",
       "      <td>...</td>\n",
       "      <td>...</td>\n",
       "      <td>...</td>\n",
       "      <td>...</td>\n",
       "    </tr>\n",
       "    <tr>\n",
       "      <th>4</th>\n",
       "      <td>215</td>\n",
       "      <td>4</td>\n",
       "      <td>0</td>\n",
       "      <td>13</td>\n",
       "      <td>0.24</td>\n",
       "      <td>6</td>\n",
       "      <td>4</td>\n",
       "      <td>0.348566</td>\n",
       "    </tr>\n",
       "    <tr>\n",
       "      <th>3</th>\n",
       "      <td>216</td>\n",
       "      <td>3</td>\n",
       "      <td>0</td>\n",
       "      <td>12</td>\n",
       "      <td>0.15</td>\n",
       "      <td>5</td>\n",
       "      <td>3</td>\n",
       "      <td>0.348566</td>\n",
       "    </tr>\n",
       "    <tr>\n",
       "      <th>2</th>\n",
       "      <td>217</td>\n",
       "      <td>2</td>\n",
       "      <td>0</td>\n",
       "      <td>11</td>\n",
       "      <td>0.12</td>\n",
       "      <td>4</td>\n",
       "      <td>2</td>\n",
       "      <td>0.322281</td>\n",
       "    </tr>\n",
       "    <tr>\n",
       "      <th>1</th>\n",
       "      <td>218</td>\n",
       "      <td>1</td>\n",
       "      <td>0</td>\n",
       "      <td>10</td>\n",
       "      <td>0.03</td>\n",
       "      <td>1</td>\n",
       "      <td>1</td>\n",
       "      <td>0.269711</td>\n",
       "    </tr>\n",
       "    <tr>\n",
       "      <th>0</th>\n",
       "      <td>219</td>\n",
       "      <td>0</td>\n",
       "      <td>0</td>\n",
       "      <td>6</td>\n",
       "      <td>0.02</td>\n",
       "      <td>1</td>\n",
       "      <td>0</td>\n",
       "      <td>0.000000</td>\n",
       "    </tr>\n",
       "  </tbody>\n",
       "</table>\n",
       "<p>220 rows × 8 columns</p>\n",
       "</div>"
      ],
      "text/plain": [
       "    level_0  index  R   T  ml_outcomes      N  row_id  decision\n",
       "50        0     50  0  59     11122.66  19177      50  0.484546\n",
       "49        1     49  0  58     11055.52  19742      49  0.484525\n",
       "48        2     48  0  57     11021.94  20411      48  0.484504\n",
       "47        3     47  0  56     11013.08  21179      47  0.484485\n",
       "51        4     51  0  60     10902.60  18171      51  0.484568\n",
       "..      ...    ... ..  ..          ...    ...     ...       ...\n",
       "4       215      4  0  13         0.24      6       4  0.348566\n",
       "3       216      3  0  12         0.15      5       3  0.348566\n",
       "2       217      2  0  11         0.12      4       2  0.322281\n",
       "1       218      1  0  10         0.03      1       1  0.269711\n",
       "0       219      0  0   6         0.02      1       0  0.000000\n",
       "\n",
       "[220 rows x 8 columns]"
      ]
     },
     "execution_count": 38,
     "metadata": {},
     "output_type": "execute_result"
    }
   ],
   "source": [
    "xxx"
   ]
  },
  {
   "cell_type": "code",
   "execution_count": 39,
   "metadata": {
    "execution": {
     "iopub.execute_input": "2022-05-02T20:33:08.879767Z",
     "iopub.status.busy": "2022-05-02T20:33:08.879366Z",
     "iopub.status.idle": "2022-05-02T20:33:08.881186Z",
     "shell.execute_reply": "2022-05-02T20:33:08.881516Z"
    }
   },
   "outputs": [
    {
     "data": {
      "text/plain": [
       "254295.90972575155"
      ]
     },
     "execution_count": 39,
     "metadata": {},
     "output_type": "execute_result"
    }
   ],
   "source": [
    "(xxx['ml_outcomes']*xxx['decision']).sum()"
   ]
  },
  {
   "cell_type": "code",
   "execution_count": 40,
   "metadata": {
    "execution": {
     "iopub.execute_input": "2022-05-02T20:33:08.884719Z",
     "iopub.status.busy": "2022-05-02T20:33:08.884346Z",
     "iopub.status.idle": "2022-05-02T20:33:08.886204Z",
     "shell.execute_reply": "2022-05-02T20:33:08.886572Z"
    }
   },
   "outputs": [],
   "source": [
    "def maxMLOutcomes(frac_black=0.01):\n",
    "    black_admits = int(K*frac_black)\n",
    "    white_admits = int(K*(1-frac_black))\n",
    "    \n",
    "    b = df[df['R']==1].sort_values(by='ml_outcomes',ascending=False).head(n=black_admits)\n",
    "    w = df[df['R']==0].sort_values(by='ml_outcomes',ascending=False).head(n=white_admits)\n",
    "    \n",
    "    return b['B_p'].sum() + w['B_p'].sum()    "
   ]
  },
  {
   "cell_type": "code",
   "execution_count": 41,
   "metadata": {
    "execution": {
     "iopub.execute_input": "2022-05-02T20:33:08.890075Z",
     "iopub.status.busy": "2022-05-02T20:33:08.889706Z",
     "iopub.status.idle": "2022-05-02T20:33:08.891051Z",
     "shell.execute_reply": "2022-05-02T20:33:08.891306Z"
    }
   },
   "outputs": [],
   "source": [
    "def maxMLOutcomesBlack(frac_black=0.01):\n",
    "    black_admits = int(K*frac_black)\n",
    "    white_admits = int(K*(1-frac_black))\n",
    "    \n",
    "    b = df[df['R']==1].sort_values(by='ml_outcomes',ascending=False).head(n=black_admits)\n",
    "    w = df[df['R']==0].sort_values(by='ml_outcomes',ascending=False).head(n=white_admits)\n",
    "    \n",
    "    return b['B_p'].sum()   "
   ]
  },
  {
   "cell_type": "code",
   "execution_count": 42,
   "metadata": {
    "execution": {
     "iopub.execute_input": "2022-05-02T20:33:08.894258Z",
     "iopub.status.busy": "2022-05-02T20:33:08.893899Z",
     "iopub.status.idle": "2022-05-02T20:33:09.995397Z",
     "shell.execute_reply": "2022-05-02T20:33:09.995659Z"
    }
   },
   "outputs": [],
   "source": [
    "df['key'] = df['R'].astype(str)+'_'+df['T'].astype(str)\n",
    "xxx['key'] = xxx['R'].astype(str)+'_'+xxx['T'].astype(str)"
   ]
  },
  {
   "cell_type": "code",
   "execution_count": 43,
   "metadata": {
    "execution": {
     "iopub.execute_input": "2022-05-02T20:33:09.998883Z",
     "iopub.status.busy": "2022-05-02T20:33:09.998434Z",
     "iopub.status.idle": "2022-05-02T20:33:10.000298Z",
     "shell.execute_reply": "2022-05-02T20:33:10.000690Z"
    }
   },
   "outputs": [
    {
     "data": {
      "text/plain": [
       "220"
      ]
     },
     "execution_count": 43,
     "metadata": {},
     "output_type": "execute_result"
    }
   ],
   "source": [
    "len(xxx)"
   ]
  },
  {
   "cell_type": "code",
   "execution_count": 44,
   "metadata": {
    "execution": {
     "iopub.execute_input": "2022-05-02T20:33:10.060979Z",
     "iopub.status.busy": "2022-05-02T20:33:10.060302Z",
     "iopub.status.idle": "2022-05-02T20:33:10.540918Z",
     "shell.execute_reply": "2022-05-02T20:33:10.541160Z"
    }
   },
   "outputs": [],
   "source": [
    "admit_decisions = df.merge(xxx,how='left',on='key')\n",
    "admit_decisions['decision_random'] = pd.Series([random.random() for x in range(0,len(admit_decisions))]) < FRAC_ADMIT\n",
    "\n",
    "\n",
    "FRAC_BLACK_POLICY = (admit_decisions['R_y'] * admit_decisions['decision']).sum()/admit_decisions['decision'].sum()\n",
    "SUM_BP_POLICY = ( admit_decisions['B_p'] * admit_decisions['decision']).sum()\n",
    "\n",
    "FRAC_RANDOM_POLICY = (admit_decisions['R_y'] * admit_decisions['decision_random']).sum()/admit_decisions['decision_random'].sum()\n",
    "SUM_BP_RAND_POLICY = ( admit_decisions['B_p'] * admit_decisions['decision_random']).sum()\n"
   ]
  },
  {
   "cell_type": "code",
   "execution_count": 45,
   "metadata": {
    "execution": {
     "iopub.execute_input": "2022-05-02T20:33:10.544733Z",
     "iopub.status.busy": "2022-05-02T20:33:10.544356Z",
     "iopub.status.idle": "2022-05-02T20:33:10.545735Z",
     "shell.execute_reply": "2022-05-02T20:33:10.546095Z"
    }
   },
   "outputs": [],
   "source": [
    "file = open('./lp_results.csv','w')\n",
    "file.write('{}\\t{}\\t{}\\n'.format('Policy Name','Frac Diverse Candidates','Total Graduated'))\n",
    "file.write('{}\\t{}\\t{}\\n'.format('Random',str(FRAC_RANDOM_POLICY),str(SUM_BP_RAND_POLICY)))\n",
    "file.write('{}\\t{}\\t{}\\n'.format('Counterfactual Fairness',str(FRAC_BLACK_POLICY),str(SUM_BP_POLICY)))\n",
    "file.close()\n"
   ]
  },
  {
   "cell_type": "code",
   "execution_count": 46,
   "metadata": {
    "execution": {
     "iopub.execute_input": "2022-05-02T20:33:10.549274Z",
     "iopub.status.busy": "2022-05-02T20:33:10.548860Z",
     "iopub.status.idle": "2022-05-02T20:33:10.550419Z",
     "shell.execute_reply": "2022-05-02T20:33:10.550786Z"
    }
   },
   "outputs": [
    {
     "data": {
      "text/plain": [
       "0.48475199999999996"
      ]
     },
     "execution_count": 46,
     "metadata": {},
     "output_type": "execute_result"
    }
   ],
   "source": [
    "(xxx['N']*xxx['decision']).sum()/len(df)"
   ]
  },
  {
   "cell_type": "code",
   "execution_count": null,
   "metadata": {},
   "outputs": [],
   "source": []
  }
 ],
 "metadata": {
  "kernelspec": {
   "display_name": "Python 3 (ipykernel)",
   "language": "python",
   "name": "python3"
  },
  "language_info": {
   "codemirror_mode": {
    "name": "ipython",
    "version": 3
   },
   "file_extension": ".py",
   "mimetype": "text/x-python",
   "name": "python",
   "nbconvert_exporter": "python",
   "pygments_lexer": "ipython3",
   "version": "3.9.7"
  }
 },
 "nbformat": 4,
 "nbformat_minor": 4
}
