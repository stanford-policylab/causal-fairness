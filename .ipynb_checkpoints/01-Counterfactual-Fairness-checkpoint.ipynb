{
 "cells": [
  {
   "cell_type": "code",
   "execution_count": 1,
   "metadata": {
    "execution": {
     "iopub.execute_input": "2022-06-10T00:04:16.600578Z",
     "iopub.status.busy": "2022-06-10T00:04:16.600046Z",
     "iopub.status.idle": "2022-06-10T00:04:17.905718Z",
     "shell.execute_reply": "2022-06-10T00:04:17.906018Z"
    }
   },
   "outputs": [],
   "source": [
    "import numpy as np\n",
    "import pandas as pd\n",
    "import matplotlib.pyplot as plt\n",
    "import seaborn as sns\n",
    "import random\n",
    "pd.options.display.max_rows = 10\n",
    "pd.options.display.max_columns = 500"
   ]
  },
  {
   "cell_type": "code",
   "execution_count": 2,
   "metadata": {
    "execution": {
     "iopub.execute_input": "2022-06-10T00:04:17.910788Z",
     "iopub.status.busy": "2022-06-10T00:04:17.910288Z",
     "iopub.status.idle": "2022-06-10T00:04:18.585689Z",
     "shell.execute_reply": "2022-06-10T00:04:18.585951Z"
    }
   },
   "outputs": [],
   "source": [
    "DIVERSITY_UTILITY = 0.25\n",
    "FRAC_ADMIT = 0.5\n",
    "\n",
    "\n",
    "###\n",
    "## Load dataframe where each row is a single applicant\n",
    "###\n",
    "\n",
    "df = pd.read_csv('./df_test.csv')\n",
    "df['key'] = df['R'].astype(str) + \"_\"  + df['T'].astype(str)\n",
    "\n",
    "df_stratum_utility = df[['R','T','B_p']].groupby(['R','T']).mean().reset_index()\n",
    "df_stratum_utility['stratum_utility'] = (df_stratum_utility['B_p'] + DIVERSITY_UTILITY * df_stratum_utility['R']).round(2)\n",
    "df_stratum_utility['key'] = df_stratum_utility['R'].astype(str) + \"_\" + df_stratum_utility['T'].astype(str)\n",
    "\n",
    "df = df.merge(df_stratum_utility[['stratum_utility','key']], on='key')\n",
    "df['ml_outcomes'] = df['stratum_utility']"
   ]
  },
  {
   "cell_type": "code",
   "execution_count": null,
   "metadata": {},
   "outputs": [],
   "source": []
  },
  {
   "cell_type": "code",
   "execution_count": 3,
   "metadata": {
    "execution": {
     "iopub.execute_input": "2022-06-10T00:04:18.589787Z",
     "iopub.status.busy": "2022-06-10T00:04:18.589333Z",
     "iopub.status.idle": "2022-06-10T00:04:18.616729Z",
     "shell.execute_reply": "2022-06-10T00:04:18.616974Z"
    }
   },
   "outputs": [
    {
     "data": {
      "text/html": [
       "<div>\n",
       "<style scoped>\n",
       "    .dataframe tbody tr th:only-of-type {\n",
       "        vertical-align: middle;\n",
       "    }\n",
       "\n",
       "    .dataframe tbody tr th {\n",
       "        vertical-align: top;\n",
       "    }\n",
       "\n",
       "    .dataframe thead th {\n",
       "        text-align: right;\n",
       "    }\n",
       "</style>\n",
       "<table border=\"1\" class=\"dataframe\">\n",
       "  <thead>\n",
       "    <tr style=\"text-align: right;\">\n",
       "      <th></th>\n",
       "      <th>R</th>\n",
       "      <th>T</th>\n",
       "      <th>ml_outcomes</th>\n",
       "      <th>T_black</th>\n",
       "      <th>T_white</th>\n",
       "      <th>ml_outcomes_black</th>\n",
       "      <th>ml_outcomes_white</th>\n",
       "      <th>ml_outcomes_decision</th>\n",
       "      <th>B_p</th>\n",
       "    </tr>\n",
       "  </thead>\n",
       "  <tbody>\n",
       "    <tr>\n",
       "      <th>99967</th>\n",
       "      <td>0</td>\n",
       "      <td>14</td>\n",
       "      <td>0.00</td>\n",
       "      <td>13</td>\n",
       "      <td>14</td>\n",
       "      <td>-3.733393</td>\n",
       "      <td>-3.534056</td>\n",
       "      <td>0</td>\n",
       "      <td>0</td>\n",
       "    </tr>\n",
       "    <tr>\n",
       "      <th>98909</th>\n",
       "      <td>0</td>\n",
       "      <td>17</td>\n",
       "      <td>0.00</td>\n",
       "      <td>13</td>\n",
       "      <td>17</td>\n",
       "      <td>-3.733393</td>\n",
       "      <td>-3.287823</td>\n",
       "      <td>0</td>\n",
       "      <td>0</td>\n",
       "    </tr>\n",
       "    <tr>\n",
       "      <th>99969</th>\n",
       "      <td>0</td>\n",
       "      <td>15</td>\n",
       "      <td>0.00</td>\n",
       "      <td>10</td>\n",
       "      <td>15</td>\n",
       "      <td>-3.979626</td>\n",
       "      <td>-3.451979</td>\n",
       "      <td>0</td>\n",
       "      <td>0</td>\n",
       "    </tr>\n",
       "    <tr>\n",
       "      <th>99634</th>\n",
       "      <td>0</td>\n",
       "      <td>18</td>\n",
       "      <td>0.00</td>\n",
       "      <td>16</td>\n",
       "      <td>18</td>\n",
       "      <td>-3.487161</td>\n",
       "      <td>-3.205746</td>\n",
       "      <td>0</td>\n",
       "      <td>0</td>\n",
       "    </tr>\n",
       "    <tr>\n",
       "      <th>99633</th>\n",
       "      <td>0</td>\n",
       "      <td>18</td>\n",
       "      <td>0.00</td>\n",
       "      <td>16</td>\n",
       "      <td>18</td>\n",
       "      <td>-3.487161</td>\n",
       "      <td>-3.205746</td>\n",
       "      <td>0</td>\n",
       "      <td>0</td>\n",
       "    </tr>\n",
       "    <tr>\n",
       "      <th>...</th>\n",
       "      <td>...</td>\n",
       "      <td>...</td>\n",
       "      <td>...</td>\n",
       "      <td>...</td>\n",
       "      <td>...</td>\n",
       "      <td>...</td>\n",
       "      <td>...</td>\n",
       "      <td>...</td>\n",
       "      <td>...</td>\n",
       "    </tr>\n",
       "    <tr>\n",
       "      <th>99940</th>\n",
       "      <td>1</td>\n",
       "      <td>86</td>\n",
       "      <td>1.25</td>\n",
       "      <td>86</td>\n",
       "      <td>100</td>\n",
       "      <td>2.258267</td>\n",
       "      <td>3.524612</td>\n",
       "      <td>1</td>\n",
       "      <td>1</td>\n",
       "    </tr>\n",
       "    <tr>\n",
       "      <th>99349</th>\n",
       "      <td>1</td>\n",
       "      <td>85</td>\n",
       "      <td>1.25</td>\n",
       "      <td>85</td>\n",
       "      <td>99</td>\n",
       "      <td>2.176189</td>\n",
       "      <td>3.442535</td>\n",
       "      <td>1</td>\n",
       "      <td>1</td>\n",
       "    </tr>\n",
       "    <tr>\n",
       "      <th>99347</th>\n",
       "      <td>1</td>\n",
       "      <td>85</td>\n",
       "      <td>1.25</td>\n",
       "      <td>85</td>\n",
       "      <td>99</td>\n",
       "      <td>2.176189</td>\n",
       "      <td>3.442535</td>\n",
       "      <td>1</td>\n",
       "      <td>1</td>\n",
       "    </tr>\n",
       "    <tr>\n",
       "      <th>99345</th>\n",
       "      <td>1</td>\n",
       "      <td>85</td>\n",
       "      <td>1.25</td>\n",
       "      <td>85</td>\n",
       "      <td>99</td>\n",
       "      <td>2.176189</td>\n",
       "      <td>3.442535</td>\n",
       "      <td>1</td>\n",
       "      <td>1</td>\n",
       "    </tr>\n",
       "    <tr>\n",
       "      <th>99888</th>\n",
       "      <td>1</td>\n",
       "      <td>97</td>\n",
       "      <td>1.25</td>\n",
       "      <td>97</td>\n",
       "      <td>113</td>\n",
       "      <td>3.161120</td>\n",
       "      <td>4.591620</td>\n",
       "      <td>1</td>\n",
       "      <td>1</td>\n",
       "    </tr>\n",
       "  </tbody>\n",
       "</table>\n",
       "<p>100000 rows × 9 columns</p>\n",
       "</div>"
      ],
      "text/plain": [
       "       R   T  ml_outcomes  T_black  T_white  ml_outcomes_black  \\\n",
       "99967  0  14         0.00       13       14          -3.733393   \n",
       "98909  0  17         0.00       13       17          -3.733393   \n",
       "99969  0  15         0.00       10       15          -3.979626   \n",
       "99634  0  18         0.00       16       18          -3.487161   \n",
       "99633  0  18         0.00       16       18          -3.487161   \n",
       "...   ..  ..          ...      ...      ...                ...   \n",
       "99940  1  86         1.25       86      100           2.258267   \n",
       "99349  1  85         1.25       85       99           2.176189   \n",
       "99347  1  85         1.25       85       99           2.176189   \n",
       "99345  1  85         1.25       85       99           2.176189   \n",
       "99888  1  97         1.25       97      113           3.161120   \n",
       "\n",
       "       ml_outcomes_white  ml_outcomes_decision  B_p  \n",
       "99967          -3.534056                     0    0  \n",
       "98909          -3.287823                     0    0  \n",
       "99969          -3.451979                     0    0  \n",
       "99634          -3.205746                     0    0  \n",
       "99633          -3.205746                     0    0  \n",
       "...                  ...                   ...  ...  \n",
       "99940           3.524612                     1    1  \n",
       "99349           3.442535                     1    1  \n",
       "99347           3.442535                     1    1  \n",
       "99345           3.442535                     1    1  \n",
       "99888           4.591620                     1    1  \n",
       "\n",
       "[100000 rows x 9 columns]"
      ]
     },
     "execution_count": 3,
     "metadata": {},
     "output_type": "execute_result"
    }
   ],
   "source": [
    "##\n",
    "# R = race, T = test score, ml_outcomes = expected utility from admitting, \n",
    "# ml_outcomes_{} counterfactual utility given race \n",
    "##\n",
    "\n",
    "df[['R','T','ml_outcomes','T_black','T_white','B_p']].sort_values(by='ml_outcomes')\n",
    "\n"
   ]
  },
  {
   "cell_type": "code",
   "execution_count": 4,
   "metadata": {
    "execution": {
     "iopub.execute_input": "2022-06-10T00:04:18.619354Z",
     "iopub.status.busy": "2022-06-10T00:04:18.618974Z",
     "iopub.status.idle": "2022-06-10T00:04:18.620275Z",
     "shell.execute_reply": "2022-06-10T00:04:18.620586Z"
    }
   },
   "outputs": [],
   "source": [
    "#df['ml_outcomes'] = df['ml_outcomes'] + 1*df['R']"
   ]
  },
  {
   "cell_type": "code",
   "execution_count": 5,
   "metadata": {
    "execution": {
     "iopub.execute_input": "2022-06-10T00:04:18.625497Z",
     "iopub.status.busy": "2022-06-10T00:04:18.625106Z",
     "iopub.status.idle": "2022-06-10T00:04:18.630646Z",
     "shell.execute_reply": "2022-06-10T00:04:18.630948Z"
    }
   },
   "outputs": [],
   "source": [
    "###\n",
    "## Get total utility from admitting people in a stratum \n",
    "###\n",
    "\n",
    "df_ = df[['R','T','ml_outcomes']].groupby(['R','T']).sum().reset_index()"
   ]
  },
  {
   "cell_type": "code",
   "execution_count": 6,
   "metadata": {
    "execution": {
     "iopub.execute_input": "2022-06-10T00:04:18.634986Z",
     "iopub.status.busy": "2022-06-10T00:04:18.634514Z",
     "iopub.status.idle": "2022-06-10T00:04:18.639388Z",
     "shell.execute_reply": "2022-06-10T00:04:18.639609Z"
    }
   },
   "outputs": [],
   "source": [
    "###\n",
    "## Get number of people in each stratum\n",
    "###\n",
    "\n",
    "df_count = df[['R','T','ml_outcomes']].groupby(['R','T']).count().reset_index()\n",
    "df_count.columns = ['R','T','Count']\n",
    "df_count['N'] = df_count['Count']"
   ]
  },
  {
   "cell_type": "code",
   "execution_count": 7,
   "metadata": {
    "execution": {
     "iopub.execute_input": "2022-06-10T00:04:18.644266Z",
     "iopub.status.busy": "2022-06-10T00:04:18.643770Z",
     "iopub.status.idle": "2022-06-10T00:04:18.645340Z",
     "shell.execute_reply": "2022-06-10T00:04:18.645719Z"
    }
   },
   "outputs": [],
   "source": [
    "###\n",
    "## Merge summary tables to get one table with Race, Test Score, SUM(Utility), COUNT(applicants) per stratum\n",
    "###\n",
    "\n",
    "dff = df_.merge(df_count[['N']],left_index=True,right_index=True).sort_values(by='ml_outcomes',ascending=False).reset_index().sort_values(by='index').reset_index()"
   ]
  },
  {
   "cell_type": "code",
   "execution_count": 8,
   "metadata": {
    "execution": {
     "iopub.execute_input": "2022-06-10T00:04:18.652490Z",
     "iopub.status.busy": "2022-06-10T00:04:18.652033Z",
     "iopub.status.idle": "2022-06-10T00:04:18.653818Z",
     "shell.execute_reply": "2022-06-10T00:04:18.654071Z"
    }
   },
   "outputs": [
    {
     "data": {
      "text/html": [
       "<div>\n",
       "<style scoped>\n",
       "    .dataframe tbody tr th:only-of-type {\n",
       "        vertical-align: middle;\n",
       "    }\n",
       "\n",
       "    .dataframe tbody tr th {\n",
       "        vertical-align: top;\n",
       "    }\n",
       "\n",
       "    .dataframe thead th {\n",
       "        text-align: right;\n",
       "    }\n",
       "</style>\n",
       "<table border=\"1\" class=\"dataframe\">\n",
       "  <thead>\n",
       "    <tr style=\"text-align: right;\">\n",
       "      <th></th>\n",
       "      <th>level_0</th>\n",
       "      <th>index</th>\n",
       "      <th>R</th>\n",
       "      <th>T</th>\n",
       "      <th>ml_outcomes</th>\n",
       "      <th>N</th>\n",
       "    </tr>\n",
       "  </thead>\n",
       "  <tbody>\n",
       "    <tr>\n",
       "      <th>0</th>\n",
       "      <td>196</td>\n",
       "      <td>0</td>\n",
       "      <td>0</td>\n",
       "      <td>11</td>\n",
       "      <td>0.00</td>\n",
       "      <td>1</td>\n",
       "    </tr>\n",
       "    <tr>\n",
       "      <th>1</th>\n",
       "      <td>192</td>\n",
       "      <td>1</td>\n",
       "      <td>0</td>\n",
       "      <td>14</td>\n",
       "      <td>0.00</td>\n",
       "      <td>1</td>\n",
       "    </tr>\n",
       "    <tr>\n",
       "      <th>2</th>\n",
       "      <td>190</td>\n",
       "      <td>2</td>\n",
       "      <td>0</td>\n",
       "      <td>15</td>\n",
       "      <td>0.00</td>\n",
       "      <td>2</td>\n",
       "    </tr>\n",
       "    <tr>\n",
       "      <th>3</th>\n",
       "      <td>191</td>\n",
       "      <td>3</td>\n",
       "      <td>0</td>\n",
       "      <td>16</td>\n",
       "      <td>0.00</td>\n",
       "      <td>2</td>\n",
       "    </tr>\n",
       "    <tr>\n",
       "      <th>4</th>\n",
       "      <td>189</td>\n",
       "      <td>4</td>\n",
       "      <td>0</td>\n",
       "      <td>17</td>\n",
       "      <td>0.00</td>\n",
       "      <td>3</td>\n",
       "    </tr>\n",
       "    <tr>\n",
       "      <th>...</th>\n",
       "      <td>...</td>\n",
       "      <td>...</td>\n",
       "      <td>...</td>\n",
       "      <td>...</td>\n",
       "      <td>...</td>\n",
       "      <td>...</td>\n",
       "    </tr>\n",
       "    <tr>\n",
       "      <th>49</th>\n",
       "      <td>4</td>\n",
       "      <td>49</td>\n",
       "      <td>0</td>\n",
       "      <td>62</td>\n",
       "      <td>1086.75</td>\n",
       "      <td>1725</td>\n",
       "    </tr>\n",
       "    <tr>\n",
       "      <th>43</th>\n",
       "      <td>3</td>\n",
       "      <td>43</td>\n",
       "      <td>0</td>\n",
       "      <td>56</td>\n",
       "      <td>1088.36</td>\n",
       "      <td>2093</td>\n",
       "    </tr>\n",
       "    <tr>\n",
       "      <th>44</th>\n",
       "      <td>2</td>\n",
       "      <td>44</td>\n",
       "      <td>0</td>\n",
       "      <td>57</td>\n",
       "      <td>1100.52</td>\n",
       "      <td>2038</td>\n",
       "    </tr>\n",
       "    <tr>\n",
       "      <th>48</th>\n",
       "      <td>1</td>\n",
       "      <td>48</td>\n",
       "      <td>0</td>\n",
       "      <td>61</td>\n",
       "      <td>1109.43</td>\n",
       "      <td>1761</td>\n",
       "    </tr>\n",
       "    <tr>\n",
       "      <th>47</th>\n",
       "      <td>0</td>\n",
       "      <td>47</td>\n",
       "      <td>0</td>\n",
       "      <td>60</td>\n",
       "      <td>1122.40</td>\n",
       "      <td>1840</td>\n",
       "    </tr>\n",
       "  </tbody>\n",
       "</table>\n",
       "<p>197 rows × 6 columns</p>\n",
       "</div>"
      ],
      "text/plain": [
       "    level_0  index  R   T  ml_outcomes     N\n",
       "0       196      0  0  11         0.00     1\n",
       "1       192      1  0  14         0.00     1\n",
       "2       190      2  0  15         0.00     2\n",
       "3       191      3  0  16         0.00     2\n",
       "4       189      4  0  17         0.00     3\n",
       "..      ...    ... ..  ..          ...   ...\n",
       "49        4     49  0  62      1086.75  1725\n",
       "43        3     43  0  56      1088.36  2093\n",
       "44        2     44  0  57      1100.52  2038\n",
       "48        1     48  0  61      1109.43  1761\n",
       "47        0     47  0  60      1122.40  1840\n",
       "\n",
       "[197 rows x 6 columns]"
      ]
     },
     "execution_count": 8,
     "metadata": {},
     "output_type": "execute_result"
    }
   ],
   "source": [
    "# final info table\n",
    "dff.sort_values(by='ml_outcomes')"
   ]
  },
  {
   "cell_type": "code",
   "execution_count": null,
   "metadata": {},
   "outputs": [],
   "source": []
  },
  {
   "cell_type": "markdown",
   "metadata": {},
   "source": [
    "### Setup optimization problem "
   ]
  },
  {
   "cell_type": "code",
   "execution_count": 9,
   "metadata": {
    "execution": {
     "iopub.execute_input": "2022-06-10T00:04:18.656881Z",
     "iopub.status.busy": "2022-06-10T00:04:18.656399Z",
     "iopub.status.idle": "2022-06-10T00:04:18.680194Z",
     "shell.execute_reply": "2022-06-10T00:04:18.680455Z"
    }
   },
   "outputs": [],
   "source": [
    "from ortools.linear_solver import pywraplp\n"
   ]
  },
  {
   "cell_type": "code",
   "execution_count": 10,
   "metadata": {
    "execution": {
     "iopub.execute_input": "2022-06-10T00:04:18.683362Z",
     "iopub.status.busy": "2022-06-10T00:04:18.682983Z",
     "iopub.status.idle": "2022-06-10T00:04:18.684239Z",
     "shell.execute_reply": "2022-06-10T00:04:18.684479Z"
    }
   },
   "outputs": [],
   "source": [
    "solver = pywraplp.Solver.CreateSolver('GLOP')\n"
   ]
  },
  {
   "cell_type": "code",
   "execution_count": 11,
   "metadata": {
    "execution": {
     "iopub.execute_input": "2022-06-10T00:04:18.690949Z",
     "iopub.status.busy": "2022-06-10T00:04:18.690546Z",
     "iopub.status.idle": "2022-06-10T00:04:18.692129Z",
     "shell.execute_reply": "2022-06-10T00:04:18.692378Z"
    }
   },
   "outputs": [
    {
     "data": {
      "text/html": [
       "<div>\n",
       "<style scoped>\n",
       "    .dataframe tbody tr th:only-of-type {\n",
       "        vertical-align: middle;\n",
       "    }\n",
       "\n",
       "    .dataframe tbody tr th {\n",
       "        vertical-align: top;\n",
       "    }\n",
       "\n",
       "    .dataframe thead th {\n",
       "        text-align: right;\n",
       "    }\n",
       "</style>\n",
       "<table border=\"1\" class=\"dataframe\">\n",
       "  <thead>\n",
       "    <tr style=\"text-align: right;\">\n",
       "      <th></th>\n",
       "      <th>level_0</th>\n",
       "      <th>index</th>\n",
       "      <th>R</th>\n",
       "      <th>T</th>\n",
       "      <th>ml_outcomes</th>\n",
       "      <th>N</th>\n",
       "    </tr>\n",
       "  </thead>\n",
       "  <tbody>\n",
       "    <tr>\n",
       "      <th>0</th>\n",
       "      <td>196</td>\n",
       "      <td>0</td>\n",
       "      <td>0</td>\n",
       "      <td>11</td>\n",
       "      <td>0.00</td>\n",
       "      <td>1</td>\n",
       "    </tr>\n",
       "    <tr>\n",
       "      <th>1</th>\n",
       "      <td>192</td>\n",
       "      <td>1</td>\n",
       "      <td>0</td>\n",
       "      <td>14</td>\n",
       "      <td>0.00</td>\n",
       "      <td>1</td>\n",
       "    </tr>\n",
       "    <tr>\n",
       "      <th>2</th>\n",
       "      <td>190</td>\n",
       "      <td>2</td>\n",
       "      <td>0</td>\n",
       "      <td>15</td>\n",
       "      <td>0.00</td>\n",
       "      <td>2</td>\n",
       "    </tr>\n",
       "    <tr>\n",
       "      <th>3</th>\n",
       "      <td>191</td>\n",
       "      <td>3</td>\n",
       "      <td>0</td>\n",
       "      <td>16</td>\n",
       "      <td>0.00</td>\n",
       "      <td>2</td>\n",
       "    </tr>\n",
       "    <tr>\n",
       "      <th>4</th>\n",
       "      <td>189</td>\n",
       "      <td>4</td>\n",
       "      <td>0</td>\n",
       "      <td>17</td>\n",
       "      <td>0.00</td>\n",
       "      <td>3</td>\n",
       "    </tr>\n",
       "    <tr>\n",
       "      <th>...</th>\n",
       "      <td>...</td>\n",
       "      <td>...</td>\n",
       "      <td>...</td>\n",
       "      <td>...</td>\n",
       "      <td>...</td>\n",
       "      <td>...</td>\n",
       "    </tr>\n",
       "    <tr>\n",
       "      <th>192</th>\n",
       "      <td>174</td>\n",
       "      <td>192</td>\n",
       "      <td>1</td>\n",
       "      <td>96</td>\n",
       "      <td>1.25</td>\n",
       "      <td>1</td>\n",
       "    </tr>\n",
       "    <tr>\n",
       "      <th>193</th>\n",
       "      <td>157</td>\n",
       "      <td>193</td>\n",
       "      <td>1</td>\n",
       "      <td>97</td>\n",
       "      <td>3.75</td>\n",
       "      <td>3</td>\n",
       "    </tr>\n",
       "    <tr>\n",
       "      <th>194</th>\n",
       "      <td>175</td>\n",
       "      <td>194</td>\n",
       "      <td>1</td>\n",
       "      <td>99</td>\n",
       "      <td>1.25</td>\n",
       "      <td>1</td>\n",
       "    </tr>\n",
       "    <tr>\n",
       "      <th>195</th>\n",
       "      <td>176</td>\n",
       "      <td>195</td>\n",
       "      <td>1</td>\n",
       "      <td>100</td>\n",
       "      <td>1.25</td>\n",
       "      <td>1</td>\n",
       "    </tr>\n",
       "    <tr>\n",
       "      <th>196</th>\n",
       "      <td>177</td>\n",
       "      <td>196</td>\n",
       "      <td>1</td>\n",
       "      <td>108</td>\n",
       "      <td>1.25</td>\n",
       "      <td>1</td>\n",
       "    </tr>\n",
       "  </tbody>\n",
       "</table>\n",
       "<p>197 rows × 6 columns</p>\n",
       "</div>"
      ],
      "text/plain": [
       "     level_0  index  R    T  ml_outcomes  N\n",
       "0        196      0  0   11         0.00  1\n",
       "1        192      1  0   14         0.00  1\n",
       "2        190      2  0   15         0.00  2\n",
       "3        191      3  0   16         0.00  2\n",
       "4        189      4  0   17         0.00  3\n",
       "..       ...    ... ..  ...          ... ..\n",
       "192      174    192  1   96         1.25  1\n",
       "193      157    193  1   97         3.75  3\n",
       "194      175    194  1   99         1.25  1\n",
       "195      176    195  1  100         1.25  1\n",
       "196      177    196  1  108         1.25  1\n",
       "\n",
       "[197 rows x 6 columns]"
      ]
     },
     "execution_count": 11,
     "metadata": {},
     "output_type": "execute_result"
    }
   ],
   "source": [
    "dff"
   ]
  },
  {
   "cell_type": "code",
   "execution_count": 12,
   "metadata": {
    "execution": {
     "iopub.execute_input": "2022-06-10T00:04:18.701673Z",
     "iopub.status.busy": "2022-06-10T00:04:18.695772Z",
     "iopub.status.idle": "2022-06-10T00:04:18.702903Z",
     "shell.execute_reply": "2022-06-10T00:04:18.703285Z"
    }
   },
   "outputs": [],
   "source": [
    "applicant_stratum = []\n",
    "vars_cache = {}\n",
    "\n",
    "# Objective: Maximize the expected utility of the admitted students\n",
    "objective = solver.Objective()\n",
    "\n",
    "# For each stratum\n",
    "for ix, row in dff.iterrows():\n",
    "    # probability of admission\n",
    "    numvar = solver.NumVar(0.0, 1.0, str(ix))\n",
    "    \n",
    "    # store variable by index, and also by stratum R, T\n",
    "    applicant_stratum.append(numvar)\n",
    "    vars_cache[(row['R'],row['T'])] = numvar\n",
    "    \n",
    "    # Benefit of admitting people is total utility in that stratum\n",
    "    objective.SetCoefficient(applicant_stratum[ix], float(row['ml_outcomes']))\n",
    "objective.SetMaximization()\n"
   ]
  },
  {
   "cell_type": "code",
   "execution_count": 13,
   "metadata": {
    "execution": {
     "iopub.execute_input": "2022-06-10T00:04:18.706463Z",
     "iopub.status.busy": "2022-06-10T00:04:18.705952Z",
     "iopub.status.idle": "2022-06-10T00:04:18.707583Z",
     "shell.execute_reply": "2022-06-10T00:04:18.707848Z"
    }
   },
   "outputs": [
    {
     "data": {
      "text/plain": [
       "0"
      ]
     },
     "execution_count": 13,
     "metadata": {},
     "output_type": "execute_result"
    }
   ],
   "source": [
    "# Currently we have no constraints \n",
    "solver.NumConstraints()"
   ]
  },
  {
   "cell_type": "code",
   "execution_count": 14,
   "metadata": {
    "execution": {
     "iopub.execute_input": "2022-06-10T00:04:18.715592Z",
     "iopub.status.busy": "2022-06-10T00:04:18.715143Z",
     "iopub.status.idle": "2022-06-10T00:04:18.716577Z",
     "shell.execute_reply": "2022-06-10T00:04:18.716874Z"
    },
    "scrolled": true
   },
   "outputs": [
    {
     "name": "stdout",
     "output_type": "stream",
     "text": [
      "50000\n"
     ]
    }
   ],
   "source": [
    "# Constraint: At most K applicants\n",
    "K = int(len(df)*FRAC_ADMIT)\n",
    "print(K)\n",
    "admit_quota = solver.Constraint(0, K)\n",
    "\n",
    "# Total admits cannot exceed K \n",
    "for ix, row in dff.iterrows():\n",
    "    admit_quota.SetCoefficient(applicant_stratum[ix], float(row['N']))"
   ]
  },
  {
   "cell_type": "code",
   "execution_count": 15,
   "metadata": {
    "execution": {
     "iopub.execute_input": "2022-06-10T00:04:18.719398Z",
     "iopub.status.busy": "2022-06-10T00:04:18.718960Z",
     "iopub.status.idle": "2022-06-10T00:04:18.720405Z",
     "shell.execute_reply": "2022-06-10T00:04:18.720801Z"
    }
   },
   "outputs": [
    {
     "data": {
      "text/plain": [
       "1"
      ]
     },
     "execution_count": 15,
     "metadata": {},
     "output_type": "execute_result"
    }
   ],
   "source": [
    "# Now we have one constraint\n",
    "solver.NumConstraints()"
   ]
  },
  {
   "cell_type": "markdown",
   "metadata": {},
   "source": [
    "## Add Equalized Odds Constraints"
   ]
  },
  {
   "cell_type": "code",
   "execution_count": 16,
   "metadata": {
    "execution": {
     "iopub.execute_input": "2022-06-10T00:04:18.723779Z",
     "iopub.status.busy": "2022-06-10T00:04:18.723376Z",
     "iopub.status.idle": "2022-06-10T00:04:18.724812Z",
     "shell.execute_reply": "2022-06-10T00:04:18.725102Z"
    }
   },
   "outputs": [],
   "source": [
    "from collections import Counter\n",
    "\n",
    "def convertListToProb(raw_list):\n",
    "    counts = dict(Counter(raw_list))\n",
    "    probs = {}\n",
    "    for test_score in counts:\n",
    "        probs[test_score]  = counts[test_score]/float(len(raw_list))\n",
    "    return [(probs[t], t) for t in probs]"
   ]
  },
  {
   "cell_type": "code",
   "execution_count": 17,
   "metadata": {
    "execution": {
     "iopub.execute_input": "2022-06-10T00:04:18.729939Z",
     "iopub.status.busy": "2022-06-10T00:04:18.729479Z",
     "iopub.status.idle": "2022-06-10T00:04:18.752409Z",
     "shell.execute_reply": "2022-06-10T00:04:18.752714Z"
    }
   },
   "outputs": [
    {
     "data": {
      "text/plain": [
       "(7, 727)"
      ]
     },
     "execution_count": 17,
     "metadata": {},
     "output_type": "execute_result"
    }
   ],
   "source": [
    "T_blacks_list = df[df['R']==0][['T','T_black']].groupby('T')['T_black'].apply(list).reset_index(name='T_blacks')\n",
    "T_blacks_list['probs'] = T_blacks_list['T_blacks'].apply(convertListToProb)\n",
    "didntexist = 0\n",
    "exists = 0\n",
    "for ix, row in T_blacks_list.iterrows():\n",
    "    cf_fair_stratum = solver.Constraint(0.0, 0.0)\n",
    "\n",
    "    White_T = row['T']\n",
    "    Blacks_Ts = row['probs']        \n",
    "    cf_fair_stratum.SetCoefficient(vars_cache[(0.0, White_T)], -1.0)\n",
    "    for prob in Blacks_Ts:\n",
    "        if (1.0, prob[1]) not in vars_cache:\n",
    "            vars_cache[(1.0, prob[1])] = solver.NumVar(0.0, 1.0, str((1.0, prob[1])))\n",
    "            didntexist+=1\n",
    "        else:\n",
    "            exists+=1\n",
    "        cf_fair_stratum.SetCoefficient(vars_cache[(1.0, prob[1])], prob[0])\n",
    "didntexist,exists"
   ]
  },
  {
   "cell_type": "code",
   "execution_count": 18,
   "metadata": {
    "execution": {
     "iopub.execute_input": "2022-06-10T00:04:18.757470Z",
     "iopub.status.busy": "2022-06-10T00:04:18.757007Z",
     "iopub.status.idle": "2022-06-10T00:04:18.771908Z",
     "shell.execute_reply": "2022-06-10T00:04:18.772249Z"
    }
   },
   "outputs": [
    {
     "data": {
      "text/plain": [
       "(1, 630)"
      ]
     },
     "execution_count": 18,
     "metadata": {},
     "output_type": "execute_result"
    }
   ],
   "source": [
    "T_whites_list = df[df['R']==1][['T','T_white']].groupby('T')['T_white'].apply(list).reset_index(name='T_whites')\n",
    "T_whites_list['probs'] = T_whites_list['T_whites'].apply(convertListToProb)\n",
    "didntexist = 0\n",
    "exists = 0\n",
    "\n",
    "for ix, row in T_whites_list.iterrows():\n",
    "    cf_fair_stratum = solver.Constraint(0.0, 0.0)\n",
    "\n",
    "    Black_T = row['T']\n",
    "    White_Ts = row['probs']\n",
    "    \n",
    "    cf_fair_stratum.SetCoefficient(vars_cache[(1.0, Black_T)], -1.0)\n",
    "    for prob in White_Ts:\n",
    "        if (0.0, prob[1]) not in vars_cache:\n",
    "            vars_cache[(0.0, prob[1])] = solver.NumVar(0.0, 1.0, str((0.0, prob[1])))\n",
    "            didntexist+=1\n",
    "        else:\n",
    "            exists+=1\n",
    "            \n",
    "        cf_fair_stratum.SetCoefficient(vars_cache[(0.0, prob[1])], prob[0])\n",
    "didntexist,exists  "
   ]
  },
  {
   "cell_type": "code",
   "execution_count": 19,
   "metadata": {
    "execution": {
     "iopub.execute_input": "2022-06-10T00:04:18.774996Z",
     "iopub.status.busy": "2022-06-10T00:04:18.774558Z",
     "iopub.status.idle": "2022-06-10T00:04:18.776279Z",
     "shell.execute_reply": "2022-06-10T00:04:18.776608Z"
    }
   },
   "outputs": [
    {
     "data": {
      "text/plain": [
       "198"
      ]
     },
     "execution_count": 19,
     "metadata": {},
     "output_type": "execute_result"
    }
   ],
   "source": [
    "solver.NumConstraints()"
   ]
  },
  {
   "cell_type": "markdown",
   "metadata": {},
   "source": [
    "## Solve linear program"
   ]
  },
  {
   "cell_type": "code",
   "execution_count": 20,
   "metadata": {
    "execution": {
     "iopub.execute_input": "2022-06-10T00:04:18.779527Z",
     "iopub.status.busy": "2022-06-10T00:04:18.779135Z",
     "iopub.status.idle": "2022-06-10T00:04:18.780565Z",
     "shell.execute_reply": "2022-06-10T00:04:18.780856Z"
    }
   },
   "outputs": [
    {
     "data": {
      "text/plain": [
       "4"
      ]
     },
     "execution_count": 20,
     "metadata": {},
     "output_type": "execute_result"
    }
   ],
   "source": [
    "solver.ABNORMAL"
   ]
  },
  {
   "cell_type": "code",
   "execution_count": 21,
   "metadata": {
    "execution": {
     "iopub.execute_input": "2022-06-10T00:04:18.786938Z",
     "iopub.status.busy": "2022-06-10T00:04:18.786581Z",
     "iopub.status.idle": "2022-06-10T00:04:18.788012Z",
     "shell.execute_reply": "2022-06-10T00:04:18.788340Z"
    }
   },
   "outputs": [],
   "source": [
    "status = solver.Solve()\n"
   ]
  },
  {
   "cell_type": "code",
   "execution_count": 22,
   "metadata": {
    "execution": {
     "iopub.execute_input": "2022-06-10T00:04:18.791153Z",
     "iopub.status.busy": "2022-06-10T00:04:18.790747Z",
     "iopub.status.idle": "2022-06-10T00:04:18.792420Z",
     "shell.execute_reply": "2022-06-10T00:04:18.792660Z"
    }
   },
   "outputs": [
    {
     "data": {
      "text/plain": [
       "0"
      ]
     },
     "execution_count": 22,
     "metadata": {},
     "output_type": "execute_result"
    }
   ],
   "source": [
    "status"
   ]
  },
  {
   "cell_type": "code",
   "execution_count": 23,
   "metadata": {
    "execution": {
     "iopub.execute_input": "2022-06-10T00:04:18.795364Z",
     "iopub.status.busy": "2022-06-10T00:04:18.794938Z",
     "iopub.status.idle": "2022-06-10T00:04:18.796680Z",
     "shell.execute_reply": "2022-06-10T00:04:18.796994Z"
    }
   },
   "outputs": [
    {
     "data": {
      "text/plain": [
       "0"
      ]
     },
     "execution_count": 23,
     "metadata": {},
     "output_type": "execute_result"
    }
   ],
   "source": [
    "solver.OPTIMAL"
   ]
  },
  {
   "cell_type": "code",
   "execution_count": 24,
   "metadata": {
    "execution": {
     "iopub.execute_input": "2022-06-10T00:04:18.800556Z",
     "iopub.status.busy": "2022-06-10T00:04:18.800207Z",
     "iopub.status.idle": "2022-06-10T00:04:18.801368Z",
     "shell.execute_reply": "2022-06-10T00:04:18.801748Z"
    },
    "scrolled": true
   },
   "outputs": [],
   "source": [
    "row = []\n",
    "admit = []\n",
    "\n",
    "for i in applicant_stratum:\n",
    "    row.append(int(str(i)))\n",
    "    admit.append(i.solution_value())\n",
    "\n",
    "df_decisions = pd.DataFrame({'row_id':row,'decision':admit})"
   ]
  },
  {
   "cell_type": "code",
   "execution_count": 25,
   "metadata": {
    "execution": {
     "iopub.execute_input": "2022-06-10T00:04:18.807117Z",
     "iopub.status.busy": "2022-06-10T00:04:18.806697Z",
     "iopub.status.idle": "2022-06-10T00:04:18.808404Z",
     "shell.execute_reply": "2022-06-10T00:04:18.808685Z"
    }
   },
   "outputs": [
    {
     "data": {
      "text/html": [
       "<div>\n",
       "<style scoped>\n",
       "    .dataframe tbody tr th:only-of-type {\n",
       "        vertical-align: middle;\n",
       "    }\n",
       "\n",
       "    .dataframe tbody tr th {\n",
       "        vertical-align: top;\n",
       "    }\n",
       "\n",
       "    .dataframe thead th {\n",
       "        text-align: right;\n",
       "    }\n",
       "</style>\n",
       "<table border=\"1\" class=\"dataframe\">\n",
       "  <thead>\n",
       "    <tr style=\"text-align: right;\">\n",
       "      <th></th>\n",
       "      <th>row_id</th>\n",
       "      <th>decision</th>\n",
       "    </tr>\n",
       "  </thead>\n",
       "  <tbody>\n",
       "    <tr>\n",
       "      <th>0</th>\n",
       "      <td>0</td>\n",
       "      <td>0.000000</td>\n",
       "    </tr>\n",
       "    <tr>\n",
       "      <th>1</th>\n",
       "      <td>1</td>\n",
       "      <td>0.499925</td>\n",
       "    </tr>\n",
       "    <tr>\n",
       "      <th>2</th>\n",
       "      <td>2</td>\n",
       "      <td>0.249962</td>\n",
       "    </tr>\n",
       "    <tr>\n",
       "      <th>3</th>\n",
       "      <td>3</td>\n",
       "      <td>0.499925</td>\n",
       "    </tr>\n",
       "    <tr>\n",
       "      <th>4</th>\n",
       "      <td>4</td>\n",
       "      <td>0.499925</td>\n",
       "    </tr>\n",
       "    <tr>\n",
       "      <th>...</th>\n",
       "      <td>...</td>\n",
       "      <td>...</td>\n",
       "    </tr>\n",
       "    <tr>\n",
       "      <th>192</th>\n",
       "      <td>192</td>\n",
       "      <td>0.499925</td>\n",
       "    </tr>\n",
       "    <tr>\n",
       "      <th>193</th>\n",
       "      <td>193</td>\n",
       "      <td>0.666617</td>\n",
       "    </tr>\n",
       "    <tr>\n",
       "      <th>194</th>\n",
       "      <td>194</td>\n",
       "      <td>1.000000</td>\n",
       "    </tr>\n",
       "    <tr>\n",
       "      <th>195</th>\n",
       "      <td>195</td>\n",
       "      <td>1.000000</td>\n",
       "    </tr>\n",
       "    <tr>\n",
       "      <th>196</th>\n",
       "      <td>196</td>\n",
       "      <td>1.000000</td>\n",
       "    </tr>\n",
       "  </tbody>\n",
       "</table>\n",
       "<p>197 rows × 2 columns</p>\n",
       "</div>"
      ],
      "text/plain": [
       "     row_id  decision\n",
       "0         0  0.000000\n",
       "1         1  0.499925\n",
       "2         2  0.249962\n",
       "3         3  0.499925\n",
       "4         4  0.499925\n",
       "..      ...       ...\n",
       "192     192  0.499925\n",
       "193     193  0.666617\n",
       "194     194  1.000000\n",
       "195     195  1.000000\n",
       "196     196  1.000000\n",
       "\n",
       "[197 rows x 2 columns]"
      ]
     },
     "execution_count": 25,
     "metadata": {},
     "output_type": "execute_result"
    }
   ],
   "source": [
    "df_decisions"
   ]
  },
  {
   "cell_type": "code",
   "execution_count": 26,
   "metadata": {
    "execution": {
     "iopub.execute_input": "2022-06-10T00:04:18.817279Z",
     "iopub.status.busy": "2022-06-10T00:04:18.816847Z",
     "iopub.status.idle": "2022-06-10T00:04:18.818357Z",
     "shell.execute_reply": "2022-06-10T00:04:18.818628Z"
    }
   },
   "outputs": [
    {
     "data": {
      "text/html": [
       "<div>\n",
       "<style scoped>\n",
       "    .dataframe tbody tr th:only-of-type {\n",
       "        vertical-align: middle;\n",
       "    }\n",
       "\n",
       "    .dataframe tbody tr th {\n",
       "        vertical-align: top;\n",
       "    }\n",
       "\n",
       "    .dataframe thead th {\n",
       "        text-align: right;\n",
       "    }\n",
       "</style>\n",
       "<table border=\"1\" class=\"dataframe\">\n",
       "  <thead>\n",
       "    <tr style=\"text-align: right;\">\n",
       "      <th></th>\n",
       "      <th>level_0</th>\n",
       "      <th>index</th>\n",
       "      <th>R</th>\n",
       "      <th>T</th>\n",
       "      <th>ml_outcomes</th>\n",
       "      <th>N</th>\n",
       "      <th>row_id</th>\n",
       "      <th>decision</th>\n",
       "    </tr>\n",
       "  </thead>\n",
       "  <tbody>\n",
       "    <tr>\n",
       "      <th>47</th>\n",
       "      <td>0</td>\n",
       "      <td>47</td>\n",
       "      <td>0</td>\n",
       "      <td>60</td>\n",
       "      <td>1122.40</td>\n",
       "      <td>1840</td>\n",
       "      <td>47</td>\n",
       "      <td>0.499925</td>\n",
       "    </tr>\n",
       "    <tr>\n",
       "      <th>48</th>\n",
       "      <td>1</td>\n",
       "      <td>48</td>\n",
       "      <td>0</td>\n",
       "      <td>61</td>\n",
       "      <td>1109.43</td>\n",
       "      <td>1761</td>\n",
       "      <td>48</td>\n",
       "      <td>0.499925</td>\n",
       "    </tr>\n",
       "    <tr>\n",
       "      <th>44</th>\n",
       "      <td>2</td>\n",
       "      <td>44</td>\n",
       "      <td>0</td>\n",
       "      <td>57</td>\n",
       "      <td>1100.52</td>\n",
       "      <td>2038</td>\n",
       "      <td>44</td>\n",
       "      <td>0.499925</td>\n",
       "    </tr>\n",
       "    <tr>\n",
       "      <th>43</th>\n",
       "      <td>3</td>\n",
       "      <td>43</td>\n",
       "      <td>0</td>\n",
       "      <td>56</td>\n",
       "      <td>1088.36</td>\n",
       "      <td>2093</td>\n",
       "      <td>43</td>\n",
       "      <td>0.499925</td>\n",
       "    </tr>\n",
       "    <tr>\n",
       "      <th>49</th>\n",
       "      <td>4</td>\n",
       "      <td>49</td>\n",
       "      <td>0</td>\n",
       "      <td>62</td>\n",
       "      <td>1086.75</td>\n",
       "      <td>1725</td>\n",
       "      <td>49</td>\n",
       "      <td>0.499925</td>\n",
       "    </tr>\n",
       "    <tr>\n",
       "      <th>...</th>\n",
       "      <td>...</td>\n",
       "      <td>...</td>\n",
       "      <td>...</td>\n",
       "      <td>...</td>\n",
       "      <td>...</td>\n",
       "      <td>...</td>\n",
       "      <td>...</td>\n",
       "      <td>...</td>\n",
       "    </tr>\n",
       "    <tr>\n",
       "      <th>1</th>\n",
       "      <td>192</td>\n",
       "      <td>1</td>\n",
       "      <td>0</td>\n",
       "      <td>14</td>\n",
       "      <td>0.00</td>\n",
       "      <td>1</td>\n",
       "      <td>1</td>\n",
       "      <td>0.499925</td>\n",
       "    </tr>\n",
       "    <tr>\n",
       "      <th>5</th>\n",
       "      <td>193</td>\n",
       "      <td>5</td>\n",
       "      <td>0</td>\n",
       "      <td>18</td>\n",
       "      <td>0.00</td>\n",
       "      <td>11</td>\n",
       "      <td>5</td>\n",
       "      <td>0.499925</td>\n",
       "    </tr>\n",
       "    <tr>\n",
       "      <th>6</th>\n",
       "      <td>194</td>\n",
       "      <td>6</td>\n",
       "      <td>0</td>\n",
       "      <td>19</td>\n",
       "      <td>0.00</td>\n",
       "      <td>11</td>\n",
       "      <td>6</td>\n",
       "      <td>0.499925</td>\n",
       "    </tr>\n",
       "    <tr>\n",
       "      <th>7</th>\n",
       "      <td>195</td>\n",
       "      <td>7</td>\n",
       "      <td>0</td>\n",
       "      <td>20</td>\n",
       "      <td>0.00</td>\n",
       "      <td>16</td>\n",
       "      <td>7</td>\n",
       "      <td>0.499925</td>\n",
       "    </tr>\n",
       "    <tr>\n",
       "      <th>0</th>\n",
       "      <td>196</td>\n",
       "      <td>0</td>\n",
       "      <td>0</td>\n",
       "      <td>11</td>\n",
       "      <td>0.00</td>\n",
       "      <td>1</td>\n",
       "      <td>0</td>\n",
       "      <td>0.000000</td>\n",
       "    </tr>\n",
       "  </tbody>\n",
       "</table>\n",
       "<p>197 rows × 8 columns</p>\n",
       "</div>"
      ],
      "text/plain": [
       "    level_0  index  R   T  ml_outcomes     N  row_id  decision\n",
       "47        0     47  0  60      1122.40  1840      47  0.499925\n",
       "48        1     48  0  61      1109.43  1761      48  0.499925\n",
       "44        2     44  0  57      1100.52  2038      44  0.499925\n",
       "43        3     43  0  56      1088.36  2093      43  0.499925\n",
       "49        4     49  0  62      1086.75  1725      49  0.499925\n",
       "..      ...    ... ..  ..          ...   ...     ...       ...\n",
       "1       192      1  0  14         0.00     1       1  0.499925\n",
       "5       193      5  0  18         0.00    11       5  0.499925\n",
       "6       194      6  0  19         0.00    11       6  0.499925\n",
       "7       195      7  0  20         0.00    16       7  0.499925\n",
       "0       196      0  0  11         0.00     1       0  0.000000\n",
       "\n",
       "[197 rows x 8 columns]"
      ]
     },
     "execution_count": 26,
     "metadata": {},
     "output_type": "execute_result"
    }
   ],
   "source": [
    "dff.merge(df_decisions,left_index=True,right_index=True).sort_values(by='ml_outcomes',ascending=False)"
   ]
  },
  {
   "cell_type": "code",
   "execution_count": 27,
   "metadata": {
    "execution": {
     "iopub.execute_input": "2022-06-10T00:04:18.827072Z",
     "iopub.status.busy": "2022-06-10T00:04:18.826625Z",
     "iopub.status.idle": "2022-06-10T00:04:18.828244Z",
     "shell.execute_reply": "2022-06-10T00:04:18.828496Z"
    }
   },
   "outputs": [
    {
     "data": {
      "text/html": [
       "<div>\n",
       "<style scoped>\n",
       "    .dataframe tbody tr th:only-of-type {\n",
       "        vertical-align: middle;\n",
       "    }\n",
       "\n",
       "    .dataframe tbody tr th {\n",
       "        vertical-align: top;\n",
       "    }\n",
       "\n",
       "    .dataframe thead th {\n",
       "        text-align: right;\n",
       "    }\n",
       "</style>\n",
       "<table border=\"1\" class=\"dataframe\">\n",
       "  <thead>\n",
       "    <tr style=\"text-align: right;\">\n",
       "      <th></th>\n",
       "      <th>level_0</th>\n",
       "      <th>index</th>\n",
       "      <th>R</th>\n",
       "      <th>T</th>\n",
       "      <th>ml_outcomes</th>\n",
       "      <th>N</th>\n",
       "      <th>row_id</th>\n",
       "      <th>decision</th>\n",
       "    </tr>\n",
       "  </thead>\n",
       "  <tbody>\n",
       "    <tr>\n",
       "      <th>0</th>\n",
       "      <td>196</td>\n",
       "      <td>0</td>\n",
       "      <td>0</td>\n",
       "      <td>11</td>\n",
       "      <td>0.00</td>\n",
       "      <td>1</td>\n",
       "      <td>0</td>\n",
       "      <td>0.000000</td>\n",
       "    </tr>\n",
       "    <tr>\n",
       "      <th>108</th>\n",
       "      <td>187</td>\n",
       "      <td>108</td>\n",
       "      <td>1</td>\n",
       "      <td>11</td>\n",
       "      <td>0.25</td>\n",
       "      <td>1</td>\n",
       "      <td>108</td>\n",
       "      <td>0.499925</td>\n",
       "    </tr>\n",
       "    <tr>\n",
       "      <th>109</th>\n",
       "      <td>186</td>\n",
       "      <td>109</td>\n",
       "      <td>1</td>\n",
       "      <td>12</td>\n",
       "      <td>0.25</td>\n",
       "      <td>1</td>\n",
       "      <td>109</td>\n",
       "      <td>0.499925</td>\n",
       "    </tr>\n",
       "    <tr>\n",
       "      <th>110</th>\n",
       "      <td>185</td>\n",
       "      <td>110</td>\n",
       "      <td>1</td>\n",
       "      <td>13</td>\n",
       "      <td>0.50</td>\n",
       "      <td>2</td>\n",
       "      <td>110</td>\n",
       "      <td>0.499925</td>\n",
       "    </tr>\n",
       "    <tr>\n",
       "      <th>111</th>\n",
       "      <td>184</td>\n",
       "      <td>111</td>\n",
       "      <td>1</td>\n",
       "      <td>14</td>\n",
       "      <td>0.75</td>\n",
       "      <td>3</td>\n",
       "      <td>111</td>\n",
       "      <td>0.499925</td>\n",
       "    </tr>\n",
       "    <tr>\n",
       "      <th>...</th>\n",
       "      <td>...</td>\n",
       "      <td>...</td>\n",
       "      <td>...</td>\n",
       "      <td>...</td>\n",
       "      <td>...</td>\n",
       "      <td>...</td>\n",
       "      <td>...</td>\n",
       "      <td>...</td>\n",
       "    </tr>\n",
       "    <tr>\n",
       "      <th>103</th>\n",
       "      <td>165</td>\n",
       "      <td>103</td>\n",
       "      <td>0</td>\n",
       "      <td>116</td>\n",
       "      <td>2.00</td>\n",
       "      <td>2</td>\n",
       "      <td>103</td>\n",
       "      <td>1.000000</td>\n",
       "    </tr>\n",
       "    <tr>\n",
       "      <th>104</th>\n",
       "      <td>164</td>\n",
       "      <td>104</td>\n",
       "      <td>0</td>\n",
       "      <td>119</td>\n",
       "      <td>2.00</td>\n",
       "      <td>2</td>\n",
       "      <td>104</td>\n",
       "      <td>1.000000</td>\n",
       "    </tr>\n",
       "    <tr>\n",
       "      <th>105</th>\n",
       "      <td>182</td>\n",
       "      <td>105</td>\n",
       "      <td>0</td>\n",
       "      <td>121</td>\n",
       "      <td>1.00</td>\n",
       "      <td>1</td>\n",
       "      <td>105</td>\n",
       "      <td>1.000000</td>\n",
       "    </tr>\n",
       "    <tr>\n",
       "      <th>106</th>\n",
       "      <td>181</td>\n",
       "      <td>106</td>\n",
       "      <td>0</td>\n",
       "      <td>127</td>\n",
       "      <td>1.00</td>\n",
       "      <td>1</td>\n",
       "      <td>106</td>\n",
       "      <td>1.000000</td>\n",
       "    </tr>\n",
       "    <tr>\n",
       "      <th>107</th>\n",
       "      <td>180</td>\n",
       "      <td>107</td>\n",
       "      <td>0</td>\n",
       "      <td>129</td>\n",
       "      <td>1.00</td>\n",
       "      <td>1</td>\n",
       "      <td>107</td>\n",
       "      <td>1.000000</td>\n",
       "    </tr>\n",
       "  </tbody>\n",
       "</table>\n",
       "<p>197 rows × 8 columns</p>\n",
       "</div>"
      ],
      "text/plain": [
       "     level_0  index  R    T  ml_outcomes  N  row_id  decision\n",
       "0        196      0  0   11         0.00  1       0  0.000000\n",
       "108      187    108  1   11         0.25  1     108  0.499925\n",
       "109      186    109  1   12         0.25  1     109  0.499925\n",
       "110      185    110  1   13         0.50  2     110  0.499925\n",
       "111      184    111  1   14         0.75  3     111  0.499925\n",
       "..       ...    ... ..  ...          ... ..     ...       ...\n",
       "103      165    103  0  116         2.00  2     103  1.000000\n",
       "104      164    104  0  119         2.00  2     104  1.000000\n",
       "105      182    105  0  121         1.00  1     105  1.000000\n",
       "106      181    106  0  127         1.00  1     106  1.000000\n",
       "107      180    107  0  129         1.00  1     107  1.000000\n",
       "\n",
       "[197 rows x 8 columns]"
      ]
     },
     "execution_count": 27,
     "metadata": {},
     "output_type": "execute_result"
    }
   ],
   "source": [
    "xxx_ = dff.merge(df_decisions,left_index=True,right_index=True).sort_values(by='ml_outcomes',ascending=False)\n",
    "xxx_.sort_values(by='T')"
   ]
  },
  {
   "cell_type": "code",
   "execution_count": 28,
   "metadata": {
    "execution": {
     "iopub.execute_input": "2022-06-10T00:04:18.836799Z",
     "iopub.status.busy": "2022-06-10T00:04:18.836272Z",
     "iopub.status.idle": "2022-06-10T00:04:18.838049Z",
     "shell.execute_reply": "2022-06-10T00:04:18.838477Z"
    }
   },
   "outputs": [
    {
     "data": {
      "text/html": [
       "<div>\n",
       "<style scoped>\n",
       "    .dataframe tbody tr th:only-of-type {\n",
       "        vertical-align: middle;\n",
       "    }\n",
       "\n",
       "    .dataframe tbody tr th {\n",
       "        vertical-align: top;\n",
       "    }\n",
       "\n",
       "    .dataframe thead th {\n",
       "        text-align: right;\n",
       "    }\n",
       "</style>\n",
       "<table border=\"1\" class=\"dataframe\">\n",
       "  <thead>\n",
       "    <tr style=\"text-align: right;\">\n",
       "      <th></th>\n",
       "      <th>level_0</th>\n",
       "      <th>index</th>\n",
       "      <th>R</th>\n",
       "      <th>T</th>\n",
       "      <th>ml_outcomes</th>\n",
       "      <th>N</th>\n",
       "      <th>row_id</th>\n",
       "      <th>decision</th>\n",
       "    </tr>\n",
       "  </thead>\n",
       "  <tbody>\n",
       "    <tr>\n",
       "      <th>47</th>\n",
       "      <td>0</td>\n",
       "      <td>47</td>\n",
       "      <td>0</td>\n",
       "      <td>60</td>\n",
       "      <td>1122.40</td>\n",
       "      <td>1840</td>\n",
       "      <td>47</td>\n",
       "      <td>0.499925</td>\n",
       "    </tr>\n",
       "    <tr>\n",
       "      <th>48</th>\n",
       "      <td>1</td>\n",
       "      <td>48</td>\n",
       "      <td>0</td>\n",
       "      <td>61</td>\n",
       "      <td>1109.43</td>\n",
       "      <td>1761</td>\n",
       "      <td>48</td>\n",
       "      <td>0.499925</td>\n",
       "    </tr>\n",
       "    <tr>\n",
       "      <th>44</th>\n",
       "      <td>2</td>\n",
       "      <td>44</td>\n",
       "      <td>0</td>\n",
       "      <td>57</td>\n",
       "      <td>1100.52</td>\n",
       "      <td>2038</td>\n",
       "      <td>44</td>\n",
       "      <td>0.499925</td>\n",
       "    </tr>\n",
       "    <tr>\n",
       "      <th>43</th>\n",
       "      <td>3</td>\n",
       "      <td>43</td>\n",
       "      <td>0</td>\n",
       "      <td>56</td>\n",
       "      <td>1088.36</td>\n",
       "      <td>2093</td>\n",
       "      <td>43</td>\n",
       "      <td>0.499925</td>\n",
       "    </tr>\n",
       "    <tr>\n",
       "      <th>49</th>\n",
       "      <td>4</td>\n",
       "      <td>49</td>\n",
       "      <td>0</td>\n",
       "      <td>62</td>\n",
       "      <td>1086.75</td>\n",
       "      <td>1725</td>\n",
       "      <td>49</td>\n",
       "      <td>0.499925</td>\n",
       "    </tr>\n",
       "    <tr>\n",
       "      <th>...</th>\n",
       "      <td>...</td>\n",
       "      <td>...</td>\n",
       "      <td>...</td>\n",
       "      <td>...</td>\n",
       "      <td>...</td>\n",
       "      <td>...</td>\n",
       "      <td>...</td>\n",
       "      <td>...</td>\n",
       "    </tr>\n",
       "    <tr>\n",
       "      <th>1</th>\n",
       "      <td>192</td>\n",
       "      <td>1</td>\n",
       "      <td>0</td>\n",
       "      <td>14</td>\n",
       "      <td>0.00</td>\n",
       "      <td>1</td>\n",
       "      <td>1</td>\n",
       "      <td>0.499925</td>\n",
       "    </tr>\n",
       "    <tr>\n",
       "      <th>5</th>\n",
       "      <td>193</td>\n",
       "      <td>5</td>\n",
       "      <td>0</td>\n",
       "      <td>18</td>\n",
       "      <td>0.00</td>\n",
       "      <td>11</td>\n",
       "      <td>5</td>\n",
       "      <td>0.499925</td>\n",
       "    </tr>\n",
       "    <tr>\n",
       "      <th>6</th>\n",
       "      <td>194</td>\n",
       "      <td>6</td>\n",
       "      <td>0</td>\n",
       "      <td>19</td>\n",
       "      <td>0.00</td>\n",
       "      <td>11</td>\n",
       "      <td>6</td>\n",
       "      <td>0.499925</td>\n",
       "    </tr>\n",
       "    <tr>\n",
       "      <th>7</th>\n",
       "      <td>195</td>\n",
       "      <td>7</td>\n",
       "      <td>0</td>\n",
       "      <td>20</td>\n",
       "      <td>0.00</td>\n",
       "      <td>16</td>\n",
       "      <td>7</td>\n",
       "      <td>0.499925</td>\n",
       "    </tr>\n",
       "    <tr>\n",
       "      <th>0</th>\n",
       "      <td>196</td>\n",
       "      <td>0</td>\n",
       "      <td>0</td>\n",
       "      <td>11</td>\n",
       "      <td>0.00</td>\n",
       "      <td>1</td>\n",
       "      <td>0</td>\n",
       "      <td>0.000000</td>\n",
       "    </tr>\n",
       "  </tbody>\n",
       "</table>\n",
       "<p>197 rows × 8 columns</p>\n",
       "</div>"
      ],
      "text/plain": [
       "    level_0  index  R   T  ml_outcomes     N  row_id  decision\n",
       "47        0     47  0  60      1122.40  1840      47  0.499925\n",
       "48        1     48  0  61      1109.43  1761      48  0.499925\n",
       "44        2     44  0  57      1100.52  2038      44  0.499925\n",
       "43        3     43  0  56      1088.36  2093      43  0.499925\n",
       "49        4     49  0  62      1086.75  1725      49  0.499925\n",
       "..      ...    ... ..  ..          ...   ...     ...       ...\n",
       "1       192      1  0  14         0.00     1       1  0.499925\n",
       "5       193      5  0  18         0.00    11       5  0.499925\n",
       "6       194      6  0  19         0.00    11       6  0.499925\n",
       "7       195      7  0  20         0.00    16       7  0.499925\n",
       "0       196      0  0  11         0.00     1       0  0.000000\n",
       "\n",
       "[197 rows x 8 columns]"
      ]
     },
     "execution_count": 28,
     "metadata": {},
     "output_type": "execute_result"
    }
   ],
   "source": [
    "xxx = dff.merge(df_decisions,left_index=True,right_index=True).sort_values(by='ml_outcomes',ascending=False)\n",
    "xxx"
   ]
  },
  {
   "cell_type": "code",
   "execution_count": 29,
   "metadata": {
    "execution": {
     "iopub.execute_input": "2022-06-10T00:04:18.841391Z",
     "iopub.status.busy": "2022-06-10T00:04:18.840974Z",
     "iopub.status.idle": "2022-06-10T00:04:18.842512Z",
     "shell.execute_reply": "2022-06-10T00:04:18.842806Z"
    }
   },
   "outputs": [
    {
     "data": {
      "text/plain": [
       "197"
      ]
     },
     "execution_count": 29,
     "metadata": {},
     "output_type": "execute_result"
    }
   ],
   "source": [
    "len(xxx_)"
   ]
  },
  {
   "cell_type": "code",
   "execution_count": 30,
   "metadata": {
    "execution": {
     "iopub.execute_input": "2022-06-10T00:04:18.845260Z",
     "iopub.status.busy": "2022-06-10T00:04:18.844781Z",
     "iopub.status.idle": "2022-06-10T00:04:18.848604Z",
     "shell.execute_reply": "2022-06-10T00:04:18.848847Z"
    }
   },
   "outputs": [],
   "source": [
    "xxx.to_csv('./decision.csv')"
   ]
  },
  {
   "cell_type": "code",
   "execution_count": 31,
   "metadata": {
    "execution": {
     "iopub.execute_input": "2022-06-10T00:04:18.851271Z",
     "iopub.status.busy": "2022-06-10T00:04:18.850907Z",
     "iopub.status.idle": "2022-06-10T00:04:18.853866Z",
     "shell.execute_reply": "2022-06-10T00:04:18.854125Z"
    }
   },
   "outputs": [],
   "source": [
    "solution = pd.read_csv('./decision.csv')"
   ]
  },
  {
   "cell_type": "code",
   "execution_count": null,
   "metadata": {},
   "outputs": [],
   "source": []
  },
  {
   "cell_type": "code",
   "execution_count": null,
   "metadata": {},
   "outputs": [],
   "source": []
  },
  {
   "cell_type": "code",
   "execution_count": 32,
   "metadata": {
    "execution": {
     "iopub.execute_input": "2022-06-10T00:04:18.860602Z",
     "iopub.status.busy": "2022-06-10T00:04:18.858724Z",
     "iopub.status.idle": "2022-06-10T00:04:18.862790Z",
     "shell.execute_reply": "2022-06-10T00:04:18.863093Z"
    }
   },
   "outputs": [
    {
     "data": {
      "text/html": [
       "<div>\n",
       "<style scoped>\n",
       "    .dataframe tbody tr th:only-of-type {\n",
       "        vertical-align: middle;\n",
       "    }\n",
       "\n",
       "    .dataframe tbody tr th {\n",
       "        vertical-align: top;\n",
       "    }\n",
       "\n",
       "    .dataframe thead th {\n",
       "        text-align: right;\n",
       "    }\n",
       "</style>\n",
       "<table border=\"1\" class=\"dataframe\">\n",
       "  <thead>\n",
       "    <tr style=\"text-align: right;\">\n",
       "      <th></th>\n",
       "      <th>level_0</th>\n",
       "      <th>index</th>\n",
       "      <th>R</th>\n",
       "      <th>T</th>\n",
       "      <th>ml_outcomes</th>\n",
       "      <th>N</th>\n",
       "      <th>row_id</th>\n",
       "      <th>decision</th>\n",
       "    </tr>\n",
       "  </thead>\n",
       "  <tbody>\n",
       "    <tr>\n",
       "      <th>47</th>\n",
       "      <td>0</td>\n",
       "      <td>47</td>\n",
       "      <td>0</td>\n",
       "      <td>60</td>\n",
       "      <td>1122.40</td>\n",
       "      <td>1840</td>\n",
       "      <td>47</td>\n",
       "      <td>0.499925</td>\n",
       "    </tr>\n",
       "    <tr>\n",
       "      <th>48</th>\n",
       "      <td>1</td>\n",
       "      <td>48</td>\n",
       "      <td>0</td>\n",
       "      <td>61</td>\n",
       "      <td>1109.43</td>\n",
       "      <td>1761</td>\n",
       "      <td>48</td>\n",
       "      <td>0.499925</td>\n",
       "    </tr>\n",
       "    <tr>\n",
       "      <th>44</th>\n",
       "      <td>2</td>\n",
       "      <td>44</td>\n",
       "      <td>0</td>\n",
       "      <td>57</td>\n",
       "      <td>1100.52</td>\n",
       "      <td>2038</td>\n",
       "      <td>44</td>\n",
       "      <td>0.499925</td>\n",
       "    </tr>\n",
       "    <tr>\n",
       "      <th>43</th>\n",
       "      <td>3</td>\n",
       "      <td>43</td>\n",
       "      <td>0</td>\n",
       "      <td>56</td>\n",
       "      <td>1088.36</td>\n",
       "      <td>2093</td>\n",
       "      <td>43</td>\n",
       "      <td>0.499925</td>\n",
       "    </tr>\n",
       "    <tr>\n",
       "      <th>49</th>\n",
       "      <td>4</td>\n",
       "      <td>49</td>\n",
       "      <td>0</td>\n",
       "      <td>62</td>\n",
       "      <td>1086.75</td>\n",
       "      <td>1725</td>\n",
       "      <td>49</td>\n",
       "      <td>0.499925</td>\n",
       "    </tr>\n",
       "    <tr>\n",
       "      <th>...</th>\n",
       "      <td>...</td>\n",
       "      <td>...</td>\n",
       "      <td>...</td>\n",
       "      <td>...</td>\n",
       "      <td>...</td>\n",
       "      <td>...</td>\n",
       "      <td>...</td>\n",
       "      <td>...</td>\n",
       "    </tr>\n",
       "    <tr>\n",
       "      <th>1</th>\n",
       "      <td>192</td>\n",
       "      <td>1</td>\n",
       "      <td>0</td>\n",
       "      <td>14</td>\n",
       "      <td>0.00</td>\n",
       "      <td>1</td>\n",
       "      <td>1</td>\n",
       "      <td>0.499925</td>\n",
       "    </tr>\n",
       "    <tr>\n",
       "      <th>5</th>\n",
       "      <td>193</td>\n",
       "      <td>5</td>\n",
       "      <td>0</td>\n",
       "      <td>18</td>\n",
       "      <td>0.00</td>\n",
       "      <td>11</td>\n",
       "      <td>5</td>\n",
       "      <td>0.499925</td>\n",
       "    </tr>\n",
       "    <tr>\n",
       "      <th>6</th>\n",
       "      <td>194</td>\n",
       "      <td>6</td>\n",
       "      <td>0</td>\n",
       "      <td>19</td>\n",
       "      <td>0.00</td>\n",
       "      <td>11</td>\n",
       "      <td>6</td>\n",
       "      <td>0.499925</td>\n",
       "    </tr>\n",
       "    <tr>\n",
       "      <th>7</th>\n",
       "      <td>195</td>\n",
       "      <td>7</td>\n",
       "      <td>0</td>\n",
       "      <td>20</td>\n",
       "      <td>0.00</td>\n",
       "      <td>16</td>\n",
       "      <td>7</td>\n",
       "      <td>0.499925</td>\n",
       "    </tr>\n",
       "    <tr>\n",
       "      <th>0</th>\n",
       "      <td>196</td>\n",
       "      <td>0</td>\n",
       "      <td>0</td>\n",
       "      <td>11</td>\n",
       "      <td>0.00</td>\n",
       "      <td>1</td>\n",
       "      <td>0</td>\n",
       "      <td>0.000000</td>\n",
       "    </tr>\n",
       "  </tbody>\n",
       "</table>\n",
       "<p>197 rows × 8 columns</p>\n",
       "</div>"
      ],
      "text/plain": [
       "    level_0  index  R   T  ml_outcomes     N  row_id  decision\n",
       "47        0     47  0  60      1122.40  1840      47  0.499925\n",
       "48        1     48  0  61      1109.43  1761      48  0.499925\n",
       "44        2     44  0  57      1100.52  2038      44  0.499925\n",
       "43        3     43  0  56      1088.36  2093      43  0.499925\n",
       "49        4     49  0  62      1086.75  1725      49  0.499925\n",
       "..      ...    ... ..  ..          ...   ...     ...       ...\n",
       "1       192      1  0  14         0.00     1       1  0.499925\n",
       "5       193      5  0  18         0.00    11       5  0.499925\n",
       "6       194      6  0  19         0.00    11       6  0.499925\n",
       "7       195      7  0  20         0.00    16       7  0.499925\n",
       "0       196      0  0  11         0.00     1       0  0.000000\n",
       "\n",
       "[197 rows x 8 columns]"
      ]
     },
     "execution_count": 32,
     "metadata": {},
     "output_type": "execute_result"
    }
   ],
   "source": [
    "xxx"
   ]
  },
  {
   "cell_type": "code",
   "execution_count": 33,
   "metadata": {
    "execution": {
     "iopub.execute_input": "2022-06-10T00:04:18.866353Z",
     "iopub.status.busy": "2022-06-10T00:04:18.865981Z",
     "iopub.status.idle": "2022-06-10T00:04:18.867454Z",
     "shell.execute_reply": "2022-06-10T00:04:18.867752Z"
    }
   },
   "outputs": [
    {
     "data": {
      "text/plain": [
       "26186.20343444714"
      ]
     },
     "execution_count": 33,
     "metadata": {},
     "output_type": "execute_result"
    }
   ],
   "source": [
    "(xxx['ml_outcomes']*xxx['decision']).sum()"
   ]
  },
  {
   "cell_type": "code",
   "execution_count": 34,
   "metadata": {
    "execution": {
     "iopub.execute_input": "2022-06-10T00:04:18.870989Z",
     "iopub.status.busy": "2022-06-10T00:04:18.870616Z",
     "iopub.status.idle": "2022-06-10T00:04:18.872246Z",
     "shell.execute_reply": "2022-06-10T00:04:18.872589Z"
    }
   },
   "outputs": [],
   "source": [
    "def maxMLOutcomes(frac_black=0.01):\n",
    "    black_admits = int(K*frac_black)\n",
    "    white_admits = int(K*(1-frac_black))\n",
    "    \n",
    "    b = df[df['R']==1].sort_values(by='ml_outcomes',ascending=False).head(n=black_admits)\n",
    "    w = df[df['R']==0].sort_values(by='ml_outcomes',ascending=False).head(n=white_admits)\n",
    "    \n",
    "    return b['B_p'].sum() + w['B_p'].sum()    "
   ]
  },
  {
   "cell_type": "code",
   "execution_count": 35,
   "metadata": {
    "execution": {
     "iopub.execute_input": "2022-06-10T00:04:18.875842Z",
     "iopub.status.busy": "2022-06-10T00:04:18.875461Z",
     "iopub.status.idle": "2022-06-10T00:04:18.876728Z",
     "shell.execute_reply": "2022-06-10T00:04:18.877027Z"
    }
   },
   "outputs": [],
   "source": [
    "def maxMLOutcomesBlack(frac_black=0.01):\n",
    "    black_admits = int(K*frac_black)\n",
    "    white_admits = int(K*(1-frac_black))\n",
    "    \n",
    "    b = df[df['R']==1].sort_values(by='ml_outcomes',ascending=False).head(n=black_admits)\n",
    "    w = df[df['R']==0].sort_values(by='ml_outcomes',ascending=False).head(n=white_admits)\n",
    "    \n",
    "    return b['B_p'].sum()   "
   ]
  },
  {
   "cell_type": "code",
   "execution_count": 36,
   "metadata": {
    "execution": {
     "iopub.execute_input": "2022-06-10T00:04:18.929060Z",
     "iopub.status.busy": "2022-06-10T00:04:18.928659Z",
     "iopub.status.idle": "2022-06-10T00:04:18.996247Z",
     "shell.execute_reply": "2022-06-10T00:04:18.996599Z"
    }
   },
   "outputs": [],
   "source": [
    "df['key'] = df['R'].astype(str)+'_'+df['T'].astype(str)\n",
    "xxx['key'] = xxx['R'].astype(str)+'_'+xxx['T'].astype(str)"
   ]
  },
  {
   "cell_type": "code",
   "execution_count": 37,
   "metadata": {
    "execution": {
     "iopub.execute_input": "2022-06-10T00:04:18.999493Z",
     "iopub.status.busy": "2022-06-10T00:04:18.999022Z",
     "iopub.status.idle": "2022-06-10T00:04:19.000518Z",
     "shell.execute_reply": "2022-06-10T00:04:19.000756Z"
    }
   },
   "outputs": [
    {
     "data": {
      "text/plain": [
       "197"
      ]
     },
     "execution_count": 37,
     "metadata": {},
     "output_type": "execute_result"
    }
   ],
   "source": [
    "len(xxx)"
   ]
  },
  {
   "cell_type": "code",
   "execution_count": 38,
   "metadata": {
    "execution": {
     "iopub.execute_input": "2022-06-10T00:04:19.010943Z",
     "iopub.status.busy": "2022-06-10T00:04:19.010560Z",
     "iopub.status.idle": "2022-06-10T00:04:19.067359Z",
     "shell.execute_reply": "2022-06-10T00:04:19.067672Z"
    }
   },
   "outputs": [],
   "source": [
    "admit_decisions = df.merge(xxx,how='left',on='key')\n",
    "admit_decisions['decision_random'] = pd.Series([random.random() for x in range(0,len(admit_decisions))]) < FRAC_ADMIT\n",
    "\n",
    "\n",
    "FRAC_BLACK_POLICY = (admit_decisions['R_y'] * admit_decisions['decision']).sum()/admit_decisions['decision'].sum()\n",
    "SUM_BP_POLICY = ( admit_decisions['B_p'] * admit_decisions['decision']).sum()\n",
    "\n",
    "FRAC_RANDOM_POLICY = (admit_decisions['R_y'] * admit_decisions['decision_random']).sum()/admit_decisions['decision_random'].sum()\n",
    "SUM_BP_RAND_POLICY = ( admit_decisions['B_p'] * admit_decisions['decision_random']).sum()\n"
   ]
  },
  {
   "cell_type": "code",
   "execution_count": 39,
   "metadata": {
    "execution": {
     "iopub.execute_input": "2022-06-10T00:04:19.070810Z",
     "iopub.status.busy": "2022-06-10T00:04:19.070420Z",
     "iopub.status.idle": "2022-06-10T00:04:19.071964Z",
     "shell.execute_reply": "2022-06-10T00:04:19.072303Z"
    }
   },
   "outputs": [],
   "source": [
    "file = open('./lp_results.csv','a')\n",
    "file.write('{}\\t{}\\t{}\\n'.format('Counterfactual Fairness',str(FRAC_BLACK_POLICY),str(SUM_BP_POLICY)))\n",
    "file.close()\n"
   ]
  },
  {
   "cell_type": "code",
   "execution_count": 40,
   "metadata": {
    "execution": {
     "iopub.execute_input": "2022-06-10T00:04:19.075624Z",
     "iopub.status.busy": "2022-06-10T00:04:19.075199Z",
     "iopub.status.idle": "2022-06-10T00:04:19.077100Z",
     "shell.execute_reply": "2022-06-10T00:04:19.077359Z"
    }
   },
   "outputs": [
    {
     "data": {
      "text/plain": [
       "0.4999999999999998"
      ]
     },
     "execution_count": 40,
     "metadata": {},
     "output_type": "execute_result"
    }
   ],
   "source": [
    "(xxx['N']*xxx['decision']).sum()/len(df)"
   ]
  },
  {
   "cell_type": "code",
   "execution_count": null,
   "metadata": {},
   "outputs": [],
   "source": []
  }
 ],
 "metadata": {
  "kernelspec": {
   "display_name": "Python 3 (ipykernel)",
   "language": "python",
   "name": "python3"
  },
  "language_info": {
   "codemirror_mode": {
    "name": "ipython",
    "version": 3
   },
   "file_extension": ".py",
   "mimetype": "text/x-python",
   "name": "python",
   "nbconvert_exporter": "python",
   "pygments_lexer": "ipython3",
   "version": "3.9.7"
  }
 },
 "nbformat": 4,
 "nbformat_minor": 4
}
