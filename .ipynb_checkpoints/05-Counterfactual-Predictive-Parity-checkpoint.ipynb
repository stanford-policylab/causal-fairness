{
 "cells": [
  {
   "cell_type": "code",
   "execution_count": 1,
   "metadata": {
    "execution": {
     "iopub.execute_input": "2022-12-12T05:19:22.122161Z",
     "iopub.status.busy": "2022-12-12T05:19:22.121189Z",
     "iopub.status.idle": "2022-12-12T05:19:23.456169Z",
     "shell.execute_reply": "2022-12-12T05:19:23.456407Z"
    }
   },
   "outputs": [],
   "source": [
    "import numpy as np\n",
    "import pandas as pd\n",
    "import matplotlib.pyplot as plt\n",
    "import seaborn as sns\n",
    "from ortools.linear_solver import pywraplp\n",
    "import random\n",
    "import os\n",
    "\n",
    "DIVERSITY_UTILITY = float(os.environ.get('DIVERSITY_UTILITY'))\n",
    "FRAC_ADMIT = float(os.environ.get('FRAC_ADMIT'))"
   ]
  },
  {
   "cell_type": "code",
   "execution_count": 2,
   "metadata": {
    "execution": {
     "iopub.execute_input": "2022-12-12T05:19:23.460723Z",
     "iopub.status.busy": "2022-12-12T05:19:23.460337Z",
     "iopub.status.idle": "2022-12-12T05:19:39.836217Z",
     "shell.execute_reply": "2022-12-12T05:19:39.836451Z"
    }
   },
   "outputs": [],
   "source": [
    "\n",
    "###\n",
    "## Load dataframe where each row is a single applicant\n",
    "###\n",
    "\n",
    "df = pd.read_csv('./df_test.csv')\n",
    "df['key'] = df['R'].astype(str) + \"_\"  + df['T'].astype(str)\n",
    "\n",
    "###\n",
    "## Estimate E[Y(1)|T, A]\n",
    "###\n",
    "\n",
    "df_train = pd.read_csv('./df_train.csv')\n",
    "df_stratum_utility = df_train[['R','T','Y']].groupby(['R','T']).mean().reset_index()\n",
    "df_stratum_utility['stratum_utility'] = (df_stratum_utility['Y'] + DIVERSITY_UTILITY * df_stratum_utility['R']).round(2)\n",
    "df_stratum_utility['key'] = df_stratum_utility['R'].astype(str) + \"_\" + df_stratum_utility['T'].astype(str)\n",
    "\n",
    "df = df.merge(df_stratum_utility[['stratum_utility','key']], on='key')\n",
    "df['ml_outcomes'] = df['stratum_utility']"
   ]
  },
  {
   "cell_type": "code",
   "execution_count": 5,
   "metadata": {
    "execution": {
     "iopub.execute_input": "2022-12-12T05:19:39.848095Z",
     "iopub.status.busy": "2022-12-12T05:19:39.847717Z",
     "iopub.status.idle": "2022-12-12T05:19:39.849433Z",
     "shell.execute_reply": "2022-12-12T05:19:39.849728Z"
    }
   },
   "outputs": [
    {
     "data": {
      "text/plain": [
       "999999"
      ]
     },
     "execution_count": 5,
     "metadata": {},
     "output_type": "execute_result"
    }
   ],
   "source": [
    "len(df)"
   ]
  },
  {
   "cell_type": "code",
   "execution_count": 6,
   "metadata": {
    "execution": {
     "iopub.execute_input": "2022-12-12T05:19:39.852089Z",
     "iopub.status.busy": "2022-12-12T05:19:39.851727Z",
     "iopub.status.idle": "2022-12-12T05:19:39.943741Z",
     "shell.execute_reply": "2022-12-12T05:19:39.944067Z"
    }
   },
   "outputs": [
    {
     "data": {
      "text/plain": [
       "<AxesSubplot:>"
      ]
     },
     "execution_count": 6,
     "metadata": {},
     "output_type": "execute_result"
    },
    {
     "data": {
      "image/png": "[encoded data removed]",
      "text/plain": [
       "<Figure size 432x288 with 1 Axes>"
      ]
     },
     "metadata": {
      "needs_background": "light"
     },
     "output_type": "display_data"
    }
   ],
   "source": [
    "df['ml_outcomes'].hist()"
   ]
  },
  {
   "cell_type": "code",
   "execution_count": 7,
   "metadata": {
    "execution": {
     "iopub.execute_input": "2022-12-12T05:19:39.948440Z",
     "iopub.status.busy": "2022-12-12T05:19:39.947558Z",
     "iopub.status.idle": "2022-12-12T05:19:40.012656Z",
     "shell.execute_reply": "2022-12-12T05:19:40.013193Z"
    }
   },
   "outputs": [
    {
     "data": {
      "text/html": [
       "<div>\n",
       "<style scoped>\n",
       "    .dataframe tbody tr th:only-of-type {\n",
       "        vertical-align: middle;\n",
       "    }\n",
       "\n",
       "    .dataframe tbody tr th {\n",
       "        vertical-align: top;\n",
       "    }\n",
       "\n",
       "    .dataframe thead th {\n",
       "        text-align: right;\n",
       "    }\n",
       "</style>\n",
       "<table border=\"1\" class=\"dataframe\">\n",
       "  <thead>\n",
       "    <tr style=\"text-align: right;\">\n",
       "      <th></th>\n",
       "      <th>R</th>\n",
       "      <th>T</th>\n",
       "      <th>ml_outcomes</th>\n",
       "      <th>T_minority</th>\n",
       "      <th>T_majority</th>\n",
       "      <th>Y</th>\n",
       "    </tr>\n",
       "  </thead>\n",
       "  <tbody>\n",
       "    <tr>\n",
       "      <th>999835</th>\n",
       "      <td>0</td>\n",
       "      <td>11</td>\n",
       "      <td>0.00</td>\n",
       "      <td>11</td>\n",
       "      <td>11</td>\n",
       "      <td>0</td>\n",
       "    </tr>\n",
       "    <tr>\n",
       "      <th>999838</th>\n",
       "      <td>0</td>\n",
       "      <td>11</td>\n",
       "      <td>0.00</td>\n",
       "      <td>7</td>\n",
       "      <td>11</td>\n",
       "      <td>0</td>\n",
       "    </tr>\n",
       "    <tr>\n",
       "      <th>999837</th>\n",
       "      <td>0</td>\n",
       "      <td>11</td>\n",
       "      <td>0.00</td>\n",
       "      <td>8</td>\n",
       "      <td>11</td>\n",
       "      <td>0</td>\n",
       "    </tr>\n",
       "    <tr>\n",
       "      <th>999836</th>\n",
       "      <td>0</td>\n",
       "      <td>11</td>\n",
       "      <td>0.00</td>\n",
       "      <td>11</td>\n",
       "      <td>11</td>\n",
       "      <td>0</td>\n",
       "    </tr>\n",
       "    <tr>\n",
       "      <th>999886</th>\n",
       "      <td>0</td>\n",
       "      <td>12</td>\n",
       "      <td>0.02</td>\n",
       "      <td>11</td>\n",
       "      <td>12</td>\n",
       "      <td>0</td>\n",
       "    </tr>\n",
       "    <tr>\n",
       "      <th>...</th>\n",
       "      <td>...</td>\n",
       "      <td>...</td>\n",
       "      <td>...</td>\n",
       "      <td>...</td>\n",
       "      <td>...</td>\n",
       "      <td>...</td>\n",
       "    </tr>\n",
       "    <tr>\n",
       "      <th>999913</th>\n",
       "      <td>1</td>\n",
       "      <td>98</td>\n",
       "      <td>1.25</td>\n",
       "      <td>98</td>\n",
       "      <td>115</td>\n",
       "      <td>1</td>\n",
       "    </tr>\n",
       "    <tr>\n",
       "      <th>999914</th>\n",
       "      <td>1</td>\n",
       "      <td>98</td>\n",
       "      <td>1.25</td>\n",
       "      <td>98</td>\n",
       "      <td>115</td>\n",
       "      <td>1</td>\n",
       "    </tr>\n",
       "    <tr>\n",
       "      <th>999925</th>\n",
       "      <td>1</td>\n",
       "      <td>109</td>\n",
       "      <td>1.25</td>\n",
       "      <td>109</td>\n",
       "      <td>126</td>\n",
       "      <td>1</td>\n",
       "    </tr>\n",
       "    <tr>\n",
       "      <th>998845</th>\n",
       "      <td>1</td>\n",
       "      <td>97</td>\n",
       "      <td>1.25</td>\n",
       "      <td>97</td>\n",
       "      <td>112</td>\n",
       "      <td>1</td>\n",
       "    </tr>\n",
       "    <tr>\n",
       "      <th>998844</th>\n",
       "      <td>1</td>\n",
       "      <td>97</td>\n",
       "      <td>1.25</td>\n",
       "      <td>97</td>\n",
       "      <td>112</td>\n",
       "      <td>1</td>\n",
       "    </tr>\n",
       "  </tbody>\n",
       "</table>\n",
       "<p>999999 rows × 6 columns</p>\n",
       "</div>"
      ],
      "text/plain": [
       "        R    T  ml_outcomes  T_minority  T_majority  Y\n",
       "999835  0   11         0.00          11          11  0\n",
       "999838  0   11         0.00           7          11  0\n",
       "999837  0   11         0.00           8          11  0\n",
       "999836  0   11         0.00          11          11  0\n",
       "999886  0   12         0.02          11          12  0\n",
       "...    ..  ...          ...         ...         ... ..\n",
       "999913  1   98         1.25          98         115  1\n",
       "999914  1   98         1.25          98         115  1\n",
       "999925  1  109         1.25         109         126  1\n",
       "998845  1   97         1.25          97         112  1\n",
       "998844  1   97         1.25          97         112  1\n",
       "\n",
       "[999999 rows x 6 columns]"
      ]
     },
     "execution_count": 7,
     "metadata": {},
     "output_type": "execute_result"
    }
   ],
   "source": [
    "##\n",
    "# R = race, T = test score, ml_outcomes = expected utility from admitting, \n",
    "# ml_outcomes_{} counterfactual utility given race \n",
    "##\n",
    "\n",
    "df[['R','T','ml_outcomes','T_minority','T_majority','Y']].sort_values(by='ml_outcomes')\n",
    "\n"
   ]
  },
  {
   "cell_type": "code",
   "execution_count": 8,
   "metadata": {
    "execution": {
     "iopub.execute_input": "2022-12-12T05:19:40.050327Z",
     "iopub.status.busy": "2022-12-12T05:19:40.049859Z",
     "iopub.status.idle": "2022-12-12T05:19:40.075487Z",
     "shell.execute_reply": "2022-12-12T05:19:40.075725Z"
    }
   },
   "outputs": [],
   "source": [
    "###\n",
    "## Get total utility from admitting people in a stratum \n",
    "###\n",
    "\n",
    "df_ = df[['R','T','ml_outcomes']].groupby(['R','T']).sum().reset_index()"
   ]
  },
  {
   "cell_type": "code",
   "execution_count": 9,
   "metadata": {
    "execution": {
     "iopub.execute_input": "2022-12-12T05:19:40.083657Z",
     "iopub.status.busy": "2022-12-12T05:19:40.083227Z",
     "iopub.status.idle": "2022-12-12T05:19:40.109157Z",
     "shell.execute_reply": "2022-12-12T05:19:40.109413Z"
    }
   },
   "outputs": [],
   "source": [
    "###\n",
    "## Get number of people in each stratum\n",
    "###\n",
    "\n",
    "df_count = df[['R','T','ml_outcomes']].groupby(['R','T']).count().reset_index()\n",
    "df_count.columns = ['R','T','Count']\n",
    "df_count['N'] = df_count['Count']"
   ]
  },
  {
   "cell_type": "code",
   "execution_count": 10,
   "metadata": {
    "execution": {
     "iopub.execute_input": "2022-12-12T05:19:40.115348Z",
     "iopub.status.busy": "2022-12-12T05:19:40.114805Z",
     "iopub.status.idle": "2022-12-12T05:19:40.145271Z",
     "shell.execute_reply": "2022-12-12T05:19:40.145525Z"
    }
   },
   "outputs": [],
   "source": [
    "###\n",
    "## Get boards passage probability in each stratum\n",
    "###\n",
    "\n",
    "df_prob = df[['R','T','Y']].groupby(['R','T']).mean().reset_index()\n",
    "df_prob.columns = ['R','T','ml_outcomes_prob']\n",
    "\n",
    "#df_prob = df[['R','T','ml_outcomes_prob']]"
   ]
  },
  {
   "cell_type": "code",
   "execution_count": null,
   "metadata": {},
   "outputs": [],
   "source": []
  },
  {
   "cell_type": "code",
   "execution_count": 11,
   "metadata": {
    "execution": {
     "iopub.execute_input": "2022-12-12T05:19:40.151843Z",
     "iopub.status.busy": "2022-12-12T05:19:40.151434Z",
     "iopub.status.idle": "2022-12-12T05:19:40.152608Z",
     "shell.execute_reply": "2022-12-12T05:19:40.152855Z"
    }
   },
   "outputs": [],
   "source": [
    "###\n",
    "## Merge summary tables to get one table with Race, Test Score, SUM(Utility), COUNT(applicants), E(Y(1)|X )\n",
    "###\n",
    "\n",
    "dff = df_.merge(df_count[['N']],left_index=True,right_index=True)\n",
    "dff = dff.merge(df_prob[['ml_outcomes_prob']],left_index=True,right_index=True).sort_values(by='ml_outcomes',ascending=False).reset_index().sort_values(by='index').reset_index()\n",
    "\n"
   ]
  },
  {
   "cell_type": "code",
   "execution_count": 12,
   "metadata": {
    "execution": {
     "iopub.execute_input": "2022-12-12T05:19:40.156249Z",
     "iopub.status.busy": "2022-12-12T05:19:40.155881Z",
     "iopub.status.idle": "2022-12-12T05:19:40.161962Z",
     "shell.execute_reply": "2022-12-12T05:19:40.162218Z"
    }
   },
   "outputs": [
    {
     "data": {
      "text/html": [
       "<div>\n",
       "<style scoped>\n",
       "    .dataframe tbody tr th:only-of-type {\n",
       "        vertical-align: middle;\n",
       "    }\n",
       "\n",
       "    .dataframe tbody tr th {\n",
       "        vertical-align: top;\n",
       "    }\n",
       "\n",
       "    .dataframe thead th {\n",
       "        text-align: right;\n",
       "    }\n",
       "</style>\n",
       "<table border=\"1\" class=\"dataframe\">\n",
       "  <thead>\n",
       "    <tr style=\"text-align: right;\">\n",
       "      <th></th>\n",
       "      <th>level_0</th>\n",
       "      <th>index</th>\n",
       "      <th>R</th>\n",
       "      <th>T</th>\n",
       "      <th>ml_outcomes</th>\n",
       "      <th>N</th>\n",
       "      <th>ml_outcomes_prob</th>\n",
       "    </tr>\n",
       "  </thead>\n",
       "  <tbody>\n",
       "    <tr>\n",
       "      <th>0</th>\n",
       "      <td>218</td>\n",
       "      <td>0</td>\n",
       "      <td>0</td>\n",
       "      <td>9</td>\n",
       "      <td>0.10</td>\n",
       "      <td>1</td>\n",
       "      <td>0.0</td>\n",
       "    </tr>\n",
       "    <tr>\n",
       "      <th>120</th>\n",
       "      <td>217</td>\n",
       "      <td>120</td>\n",
       "      <td>1</td>\n",
       "      <td>8</td>\n",
       "      <td>0.32</td>\n",
       "      <td>1</td>\n",
       "      <td>0.0</td>\n",
       "    </tr>\n",
       "    <tr>\n",
       "      <th>121</th>\n",
       "      <td>207</td>\n",
       "      <td>121</td>\n",
       "      <td>1</td>\n",
       "      <td>9</td>\n",
       "      <td>1.00</td>\n",
       "      <td>4</td>\n",
       "      <td>0.0</td>\n",
       "    </tr>\n",
       "    <tr>\n",
       "      <th>122</th>\n",
       "      <td>194</td>\n",
       "      <td>122</td>\n",
       "      <td>1</td>\n",
       "      <td>10</td>\n",
       "      <td>2.73</td>\n",
       "      <td>7</td>\n",
       "      <td>0.0</td>\n",
       "    </tr>\n",
       "    <tr>\n",
       "      <th>125</th>\n",
       "      <td>189</td>\n",
       "      <td>125</td>\n",
       "      <td>1</td>\n",
       "      <td>13</td>\n",
       "      <td>3.90</td>\n",
       "      <td>13</td>\n",
       "      <td>0.0</td>\n",
       "    </tr>\n",
       "    <tr>\n",
       "      <th>...</th>\n",
       "      <td>...</td>\n",
       "      <td>...</td>\n",
       "      <td>...</td>\n",
       "      <td>...</td>\n",
       "      <td>...</td>\n",
       "      <td>...</td>\n",
       "      <td>...</td>\n",
       "    </tr>\n",
       "    <tr>\n",
       "      <th>113</th>\n",
       "      <td>192</td>\n",
       "      <td>113</td>\n",
       "      <td>0</td>\n",
       "      <td>122</td>\n",
       "      <td>3.00</td>\n",
       "      <td>3</td>\n",
       "      <td>1.0</td>\n",
       "    </tr>\n",
       "    <tr>\n",
       "      <th>114</th>\n",
       "      <td>200</td>\n",
       "      <td>114</td>\n",
       "      <td>0</td>\n",
       "      <td>123</td>\n",
       "      <td>2.00</td>\n",
       "      <td>2</td>\n",
       "      <td>1.0</td>\n",
       "    </tr>\n",
       "    <tr>\n",
       "      <th>116</th>\n",
       "      <td>199</td>\n",
       "      <td>116</td>\n",
       "      <td>0</td>\n",
       "      <td>125</td>\n",
       "      <td>2.00</td>\n",
       "      <td>2</td>\n",
       "      <td>1.0</td>\n",
       "    </tr>\n",
       "    <tr>\n",
       "      <th>107</th>\n",
       "      <td>185</td>\n",
       "      <td>107</td>\n",
       "      <td>0</td>\n",
       "      <td>116</td>\n",
       "      <td>7.00</td>\n",
       "      <td>7</td>\n",
       "      <td>1.0</td>\n",
       "    </tr>\n",
       "    <tr>\n",
       "      <th>221</th>\n",
       "      <td>206</td>\n",
       "      <td>221</td>\n",
       "      <td>1</td>\n",
       "      <td>116</td>\n",
       "      <td>1.25</td>\n",
       "      <td>1</td>\n",
       "      <td>1.0</td>\n",
       "    </tr>\n",
       "  </tbody>\n",
       "</table>\n",
       "<p>222 rows × 7 columns</p>\n",
       "</div>"
      ],
      "text/plain": [
       "     level_0  index  R    T  ml_outcomes   N  ml_outcomes_prob\n",
       "0        218      0  0    9         0.10   1               0.0\n",
       "120      217    120  1    8         0.32   1               0.0\n",
       "121      207    121  1    9         1.00   4               0.0\n",
       "122      194    122  1   10         2.73   7               0.0\n",
       "125      189    125  1   13         3.90  13               0.0\n",
       "..       ...    ... ..  ...          ...  ..               ...\n",
       "113      192    113  0  122         3.00   3               1.0\n",
       "114      200    114  0  123         2.00   2               1.0\n",
       "116      199    116  0  125         2.00   2               1.0\n",
       "107      185    107  0  116         7.00   7               1.0\n",
       "221      206    221  1  116         1.25   1               1.0\n",
       "\n",
       "[222 rows x 7 columns]"
      ]
     },
     "execution_count": 12,
     "metadata": {},
     "output_type": "execute_result"
    }
   ],
   "source": [
    "# final info table\n",
    "dff.sort_values(by='ml_outcomes_prob')"
   ]
  },
  {
   "cell_type": "code",
   "execution_count": 13,
   "metadata": {
    "execution": {
     "iopub.execute_input": "2022-12-12T05:19:40.165376Z",
     "iopub.status.busy": "2022-12-12T05:19:40.165003Z",
     "iopub.status.idle": "2022-12-12T05:19:40.166236Z",
     "shell.execute_reply": "2022-12-12T05:19:40.166526Z"
    }
   },
   "outputs": [],
   "source": [
    "dff['Pr(X=X_j)'] = dff['N']/(dff['N']).sum()"
   ]
  },
  {
   "cell_type": "code",
   "execution_count": 14,
   "metadata": {
    "execution": {
     "iopub.execute_input": "2022-12-12T05:19:40.175548Z",
     "iopub.status.busy": "2022-12-12T05:19:40.175053Z",
     "iopub.status.idle": "2022-12-12T05:19:40.176853Z",
     "shell.execute_reply": "2022-12-12T05:19:40.177157Z"
    }
   },
   "outputs": [
    {
     "data": {
      "text/html": [
       "<div>\n",
       "<style scoped>\n",
       "    .dataframe tbody tr th:only-of-type {\n",
       "        vertical-align: middle;\n",
       "    }\n",
       "\n",
       "    .dataframe tbody tr th {\n",
       "        vertical-align: top;\n",
       "    }\n",
       "\n",
       "    .dataframe thead th {\n",
       "        text-align: right;\n",
       "    }\n",
       "</style>\n",
       "<table border=\"1\" class=\"dataframe\">\n",
       "  <thead>\n",
       "    <tr style=\"text-align: right;\">\n",
       "      <th></th>\n",
       "      <th>level_0</th>\n",
       "      <th>index</th>\n",
       "      <th>R</th>\n",
       "      <th>T</th>\n",
       "      <th>ml_outcomes</th>\n",
       "      <th>N</th>\n",
       "      <th>ml_outcomes_prob</th>\n",
       "      <th>Pr(X=X_j)</th>\n",
       "    </tr>\n",
       "  </thead>\n",
       "  <tbody>\n",
       "    <tr>\n",
       "      <th>119</th>\n",
       "      <td>215</td>\n",
       "      <td>119</td>\n",
       "      <td>1</td>\n",
       "      <td>7</td>\n",
       "      <td>0.50</td>\n",
       "      <td>2</td>\n",
       "      <td>0.0</td>\n",
       "      <td>0.000002</td>\n",
       "    </tr>\n",
       "    <tr>\n",
       "      <th>120</th>\n",
       "      <td>217</td>\n",
       "      <td>120</td>\n",
       "      <td>1</td>\n",
       "      <td>8</td>\n",
       "      <td>0.32</td>\n",
       "      <td>1</td>\n",
       "      <td>0.0</td>\n",
       "      <td>0.000001</td>\n",
       "    </tr>\n",
       "    <tr>\n",
       "      <th>121</th>\n",
       "      <td>207</td>\n",
       "      <td>121</td>\n",
       "      <td>1</td>\n",
       "      <td>9</td>\n",
       "      <td>1.00</td>\n",
       "      <td>4</td>\n",
       "      <td>0.0</td>\n",
       "      <td>0.000004</td>\n",
       "    </tr>\n",
       "    <tr>\n",
       "      <th>122</th>\n",
       "      <td>194</td>\n",
       "      <td>122</td>\n",
       "      <td>1</td>\n",
       "      <td>10</td>\n",
       "      <td>2.73</td>\n",
       "      <td>7</td>\n",
       "      <td>0.0</td>\n",
       "      <td>0.000007</td>\n",
       "    </tr>\n",
       "    <tr>\n",
       "      <th>123</th>\n",
       "      <td>214</td>\n",
       "      <td>123</td>\n",
       "      <td>1</td>\n",
       "      <td>11</td>\n",
       "      <td>0.52</td>\n",
       "      <td>2</td>\n",
       "      <td>0.5</td>\n",
       "      <td>0.000002</td>\n",
       "    </tr>\n",
       "    <tr>\n",
       "      <th>...</th>\n",
       "      <td>...</td>\n",
       "      <td>...</td>\n",
       "      <td>...</td>\n",
       "      <td>...</td>\n",
       "      <td>...</td>\n",
       "      <td>...</td>\n",
       "      <td>...</td>\n",
       "      <td>...</td>\n",
       "    </tr>\n",
       "    <tr>\n",
       "      <th>217</th>\n",
       "      <td>203</td>\n",
       "      <td>217</td>\n",
       "      <td>1</td>\n",
       "      <td>107</td>\n",
       "      <td>1.25</td>\n",
       "      <td>1</td>\n",
       "      <td>1.0</td>\n",
       "      <td>0.000001</td>\n",
       "    </tr>\n",
       "    <tr>\n",
       "      <th>218</th>\n",
       "      <td>204</td>\n",
       "      <td>218</td>\n",
       "      <td>1</td>\n",
       "      <td>109</td>\n",
       "      <td>1.25</td>\n",
       "      <td>1</td>\n",
       "      <td>1.0</td>\n",
       "      <td>0.000001</td>\n",
       "    </tr>\n",
       "    <tr>\n",
       "      <th>219</th>\n",
       "      <td>205</td>\n",
       "      <td>219</td>\n",
       "      <td>1</td>\n",
       "      <td>111</td>\n",
       "      <td>1.25</td>\n",
       "      <td>1</td>\n",
       "      <td>1.0</td>\n",
       "      <td>0.000001</td>\n",
       "    </tr>\n",
       "    <tr>\n",
       "      <th>220</th>\n",
       "      <td>212</td>\n",
       "      <td>220</td>\n",
       "      <td>1</td>\n",
       "      <td>113</td>\n",
       "      <td>0.92</td>\n",
       "      <td>1</td>\n",
       "      <td>1.0</td>\n",
       "      <td>0.000001</td>\n",
       "    </tr>\n",
       "    <tr>\n",
       "      <th>221</th>\n",
       "      <td>206</td>\n",
       "      <td>221</td>\n",
       "      <td>1</td>\n",
       "      <td>116</td>\n",
       "      <td>1.25</td>\n",
       "      <td>1</td>\n",
       "      <td>1.0</td>\n",
       "      <td>0.000001</td>\n",
       "    </tr>\n",
       "  </tbody>\n",
       "</table>\n",
       "<p>103 rows × 8 columns</p>\n",
       "</div>"
      ],
      "text/plain": [
       "     level_0  index  R    T  ml_outcomes  N  ml_outcomes_prob  Pr(X=X_j)\n",
       "119      215    119  1    7         0.50  2               0.0   0.000002\n",
       "120      217    120  1    8         0.32  1               0.0   0.000001\n",
       "121      207    121  1    9         1.00  4               0.0   0.000004\n",
       "122      194    122  1   10         2.73  7               0.0   0.000007\n",
       "123      214    123  1   11         0.52  2               0.5   0.000002\n",
       "..       ...    ... ..  ...          ... ..               ...        ...\n",
       "217      203    217  1  107         1.25  1               1.0   0.000001\n",
       "218      204    218  1  109         1.25  1               1.0   0.000001\n",
       "219      205    219  1  111         1.25  1               1.0   0.000001\n",
       "220      212    220  1  113         0.92  1               1.0   0.000001\n",
       "221      206    221  1  116         1.25  1               1.0   0.000001\n",
       "\n",
       "[103 rows x 8 columns]"
      ]
     },
     "execution_count": 14,
     "metadata": {},
     "output_type": "execute_result"
    }
   ],
   "source": [
    "dff[dff['R']==1].sort_values(by='T')"
   ]
  },
  {
   "cell_type": "code",
   "execution_count": 15,
   "metadata": {
    "execution": {
     "iopub.execute_input": "2022-12-12T05:19:40.348779Z",
     "iopub.status.busy": "2022-12-12T05:19:40.259479Z",
     "iopub.status.idle": "2022-12-12T05:19:41.688237Z",
     "shell.execute_reply": "2022-12-12T05:19:41.688489Z"
    },
    "scrolled": true
   },
   "outputs": [
    {
     "name": "stdout",
     "output_type": "stream",
     "text": [
      "0.28 317626.6027504757\n",
      "0.29 317833.1836364173\n",
      "0.3 318142.51318782987\n",
      "0.31 318320.37960722594\n",
      "0.32 318543.55147748\n",
      "0.33 318911.6524021152\n",
      "0.34 319303.25146488455\n",
      "0.35000000000000003 319626.9950205905\n",
      "0.36 319900.8788801523\n",
      "0.37 320154.8841668378\n",
      "0.38 320393.579894593\n",
      "0.39 320510.79027006676\n",
      "0.4 320522.2195697424\n",
      "0.41000000000000003 319584.4179449792\n",
      "0.42 314880.6981080871\n",
      "0.43 310109.7775452244\n",
      "0.44 305299.94754143566\n",
      "0.45 300439.6816833228\n",
      "0.46 295557.39707357634\n",
      "0.47000000000000003 290668.8216427606\n",
      "0.48 285737.8593294039\n",
      "0.49 280790.8560628971\n",
      "0.5 275836.68810447236\n",
      "0.51 270873.32338866673\n",
      "0.52 265887.50954130775\n",
      "0.53 260881.42183526087\n",
      "0.54 255836.04194577524\n",
      "0.55 250772.16595165964\n",
      "0.56 245686.33042392798\n",
      "0.5700000000000001 240494.12896194655\n",
      "0.58 235133.77542318095\n",
      "0.59 228272.46789037273\n",
      "0.6 218311.4971691151\n",
      "0.61 208379.93724007433\n"
     ]
    }
   ],
   "source": [
    "df_decisions = None\n",
    "max_utility = -1.0\n",
    "\n",
    "for C_y in np.linspace(0.0,1.0,101):\n",
    "    dff['alpha_j'] = dff['Pr(X=X_j)']* (dff['ml_outcomes_prob'] - C_y)\n",
    "    solver = pywraplp.Solver.CreateSolver('GLOP')\n",
    "\n",
    "    \n",
    "    applicant_stratum = []\n",
    "    vars_cache = {}\n",
    "    alpha_j = {}\n",
    "    \n",
    "    # Objective: Maximize the expected utility of the admitted students\n",
    "    objective = solver.Objective()\n",
    "    \n",
    "    # For each stratum\n",
    "    for ix, row in dff.iterrows():\n",
    "        # probability of admission\n",
    "        numvar = solver.NumVar(0.0, 1.0, str(ix))\n",
    "        \n",
    "        # store variable by index, and also by stratum R, T\n",
    "        applicant_stratum.append(numvar)\n",
    "        vars_cache[(row['R'],row['T'])] = numvar\n",
    "        \n",
    "        alpha_j[(row['R'],row['T'])] = row['alpha_j']\n",
    "        \n",
    "        # Benefit of admitting people is total utility in that stratum\n",
    "        objective.SetCoefficient(applicant_stratum[ix], float(row['ml_outcomes']))\n",
    "        \n",
    "    objective.SetMaximization()\n",
    "\n",
    "    # Constraint: At most K applicants\n",
    "    K = int(len(df)*FRAC_ADMIT)\n",
    "    admit_quota = solver.Constraint(0, K)\n",
    "    \n",
    "    # Total admits cannot exceed K \n",
    "    for ix, row in dff.iterrows():\n",
    "        admit_quota.SetCoefficient(applicant_stratum[ix], float(row['N']))\n",
    "    \n",
    "    \n",
    "    sum_alpha = 0\n",
    "    R = 1 \n",
    "    \n",
    "    for T in list(dff[dff['R']==R]['T']):\n",
    "        sum_alpha+= alpha_j[(R,T)] \n",
    "        \n",
    "    cf_minority = solver.Constraint(sum_alpha, sum_alpha)\n",
    "    \n",
    "    for T in list(dff[dff['R']==R]['T']):    \n",
    "        cf_minority.SetCoefficient(vars_cache[(R,T)], alpha_j[(R,T)] )    \n",
    "    \n",
    "    sum_alpha = 0\n",
    "    R = 0\n",
    "    \n",
    "    for T in list(dff[dff['R']==R]['T']):\n",
    "        sum_alpha+= alpha_j[(R,T)] \n",
    "        \n",
    "    cf_majority = solver.Constraint(sum_alpha, sum_alpha)\n",
    "    \n",
    "    for T in list(dff[dff['R']==R]['T']):    \n",
    "        cf_majority.SetCoefficient(vars_cache[(R,T)], alpha_j[(R,T)] )\n",
    "        \n",
    "    status = solver.Solve()\n",
    "\n",
    "    if status != 2:\n",
    "        TOTAL_UTILITY = 0\n",
    "        for ix, row in dff.iterrows():\n",
    "            TOTAL_UTILITY += float(row['ml_outcomes'])* vars_cache[(row['R'],row['T'])].solution_value()\n",
    "        print(C_y,TOTAL_UTILITY)\n",
    "        \n",
    "        if TOTAL_UTILITY > max_utility:\n",
    "            row = []\n",
    "            admit = []\n",
    "        \n",
    "            for i in applicant_stratum:\n",
    "                row.append(int(str(i)))\n",
    "                admit.append(i.solution_value())\n",
    "            \n",
    "            df_decisions = pd.DataFrame({'row_id':row,'decision':admit})\n",
    "            \n",
    "            max_utility = TOTAL_UTILITY\n"
   ]
  },
  {
   "cell_type": "markdown",
   "metadata": {},
   "source": [
    "## Add CF Predictive Parity Constraints"
   ]
  },
  {
   "cell_type": "code",
   "execution_count": 16,
   "metadata": {
    "execution": {
     "iopub.execute_input": "2022-12-12T05:19:41.691467Z",
     "iopub.status.busy": "2022-12-12T05:19:41.691059Z",
     "iopub.status.idle": "2022-12-12T05:19:41.692697Z",
     "shell.execute_reply": "2022-12-12T05:19:41.692938Z"
    }
   },
   "outputs": [
    {
     "data": {
      "text/plain": [
       "320522.2195697424"
      ]
     },
     "execution_count": 16,
     "metadata": {},
     "output_type": "execute_result"
    }
   ],
   "source": [
    "max_utility"
   ]
  },
  {
   "cell_type": "code",
   "execution_count": 17,
   "metadata": {
    "execution": {
     "iopub.execute_input": "2022-12-12T05:19:41.702371Z",
     "iopub.status.busy": "2022-12-12T05:19:41.701915Z",
     "iopub.status.idle": "2022-12-12T05:19:41.703494Z",
     "shell.execute_reply": "2022-12-12T05:19:41.703720Z"
    }
   },
   "outputs": [
    {
     "data": {
      "text/html": [
       "<div>\n",
       "<style scoped>\n",
       "    .dataframe tbody tr th:only-of-type {\n",
       "        vertical-align: middle;\n",
       "    }\n",
       "\n",
       "    .dataframe tbody tr th {\n",
       "        vertical-align: top;\n",
       "    }\n",
       "\n",
       "    .dataframe thead th {\n",
       "        text-align: right;\n",
       "    }\n",
       "</style>\n",
       "<table border=\"1\" class=\"dataframe\">\n",
       "  <thead>\n",
       "    <tr style=\"text-align: right;\">\n",
       "      <th></th>\n",
       "      <th>level_0</th>\n",
       "      <th>index</th>\n",
       "      <th>R</th>\n",
       "      <th>T</th>\n",
       "      <th>ml_outcomes</th>\n",
       "      <th>N</th>\n",
       "      <th>ml_outcomes_prob</th>\n",
       "      <th>Pr(X=X_j)</th>\n",
       "      <th>alpha_j</th>\n",
       "      <th>row_id</th>\n",
       "      <th>decision</th>\n",
       "    </tr>\n",
       "  </thead>\n",
       "  <tbody>\n",
       "    <tr>\n",
       "      <th>49</th>\n",
       "      <td>0</td>\n",
       "      <td>49</td>\n",
       "      <td>0</td>\n",
       "      <td>58</td>\n",
       "      <td>11233.60</td>\n",
       "      <td>20060</td>\n",
       "      <td>0.565852</td>\n",
       "      <td>0.020060</td>\n",
       "      <td>-0.008709</td>\n",
       "      <td>49</td>\n",
       "      <td>0.0</td>\n",
       "    </tr>\n",
       "    <tr>\n",
       "      <th>50</th>\n",
       "      <td>1</td>\n",
       "      <td>50</td>\n",
       "      <td>0</td>\n",
       "      <td>59</td>\n",
       "      <td>11169.64</td>\n",
       "      <td>19258</td>\n",
       "      <td>0.576903</td>\n",
       "      <td>0.019258</td>\n",
       "      <td>-0.008148</td>\n",
       "      <td>50</td>\n",
       "      <td>0.0</td>\n",
       "    </tr>\n",
       "    <tr>\n",
       "      <th>48</th>\n",
       "      <td>2</td>\n",
       "      <td>48</td>\n",
       "      <td>0</td>\n",
       "      <td>57</td>\n",
       "      <td>11030.04</td>\n",
       "      <td>20426</td>\n",
       "      <td>0.548517</td>\n",
       "      <td>0.020426</td>\n",
       "      <td>-0.009222</td>\n",
       "      <td>48</td>\n",
       "      <td>0.0</td>\n",
       "    </tr>\n",
       "    <tr>\n",
       "      <th>47</th>\n",
       "      <td>3</td>\n",
       "      <td>47</td>\n",
       "      <td>0</td>\n",
       "      <td>56</td>\n",
       "      <td>10985.52</td>\n",
       "      <td>21126</td>\n",
       "      <td>0.524709</td>\n",
       "      <td>0.021126</td>\n",
       "      <td>-0.010041</td>\n",
       "      <td>47</td>\n",
       "      <td>0.0</td>\n",
       "    </tr>\n",
       "    <tr>\n",
       "      <th>51</th>\n",
       "      <td>4</td>\n",
       "      <td>51</td>\n",
       "      <td>0</td>\n",
       "      <td>60</td>\n",
       "      <td>10970.40</td>\n",
       "      <td>18284</td>\n",
       "      <td>0.601783</td>\n",
       "      <td>0.018284</td>\n",
       "      <td>-0.007281</td>\n",
       "      <td>51</td>\n",
       "      <td>0.0</td>\n",
       "    </tr>\n",
       "    <tr>\n",
       "      <th>...</th>\n",
       "      <td>...</td>\n",
       "      <td>...</td>\n",
       "      <td>...</td>\n",
       "      <td>...</td>\n",
       "      <td>...</td>\n",
       "      <td>...</td>\n",
       "      <td>...</td>\n",
       "      <td>...</td>\n",
       "      <td>...</td>\n",
       "      <td>...</td>\n",
       "      <td>...</td>\n",
       "    </tr>\n",
       "    <tr>\n",
       "      <th>120</th>\n",
       "      <td>217</td>\n",
       "      <td>120</td>\n",
       "      <td>1</td>\n",
       "      <td>8</td>\n",
       "      <td>0.32</td>\n",
       "      <td>1</td>\n",
       "      <td>0.000000</td>\n",
       "      <td>0.000001</td>\n",
       "      <td>-0.000001</td>\n",
       "      <td>120</td>\n",
       "      <td>1.0</td>\n",
       "    </tr>\n",
       "    <tr>\n",
       "      <th>0</th>\n",
       "      <td>218</td>\n",
       "      <td>0</td>\n",
       "      <td>0</td>\n",
       "      <td>9</td>\n",
       "      <td>0.10</td>\n",
       "      <td>1</td>\n",
       "      <td>0.000000</td>\n",
       "      <td>0.000001</td>\n",
       "      <td>-0.000001</td>\n",
       "      <td>0</td>\n",
       "      <td>0.0</td>\n",
       "    </tr>\n",
       "    <tr>\n",
       "      <th>1</th>\n",
       "      <td>219</td>\n",
       "      <td>1</td>\n",
       "      <td>0</td>\n",
       "      <td>10</td>\n",
       "      <td>0.08</td>\n",
       "      <td>1</td>\n",
       "      <td>0.000000</td>\n",
       "      <td>0.000001</td>\n",
       "      <td>-0.000001</td>\n",
       "      <td>1</td>\n",
       "      <td>0.0</td>\n",
       "    </tr>\n",
       "    <tr>\n",
       "      <th>3</th>\n",
       "      <td>220</td>\n",
       "      <td>3</td>\n",
       "      <td>0</td>\n",
       "      <td>12</td>\n",
       "      <td>0.08</td>\n",
       "      <td>4</td>\n",
       "      <td>0.000000</td>\n",
       "      <td>0.000004</td>\n",
       "      <td>-0.000004</td>\n",
       "      <td>3</td>\n",
       "      <td>0.0</td>\n",
       "    </tr>\n",
       "    <tr>\n",
       "      <th>2</th>\n",
       "      <td>221</td>\n",
       "      <td>2</td>\n",
       "      <td>0</td>\n",
       "      <td>11</td>\n",
       "      <td>0.00</td>\n",
       "      <td>4</td>\n",
       "      <td>0.000000</td>\n",
       "      <td>0.000004</td>\n",
       "      <td>-0.000004</td>\n",
       "      <td>2</td>\n",
       "      <td>0.0</td>\n",
       "    </tr>\n",
       "  </tbody>\n",
       "</table>\n",
       "<p>222 rows × 11 columns</p>\n",
       "</div>"
      ],
      "text/plain": [
       "     level_0  index  R   T  ml_outcomes      N  ml_outcomes_prob  Pr(X=X_j)  \\\n",
       "49         0     49  0  58     11233.60  20060          0.565852   0.020060   \n",
       "50         1     50  0  59     11169.64  19258          0.576903   0.019258   \n",
       "48         2     48  0  57     11030.04  20426          0.548517   0.020426   \n",
       "47         3     47  0  56     10985.52  21126          0.524709   0.021126   \n",
       "51         4     51  0  60     10970.40  18284          0.601783   0.018284   \n",
       "..       ...    ... ..  ..          ...    ...               ...        ...   \n",
       "120      217    120  1   8         0.32      1          0.000000   0.000001   \n",
       "0        218      0  0   9         0.10      1          0.000000   0.000001   \n",
       "1        219      1  0  10         0.08      1          0.000000   0.000001   \n",
       "3        220      3  0  12         0.08      4          0.000000   0.000004   \n",
       "2        221      2  0  11         0.00      4          0.000000   0.000004   \n",
       "\n",
       "      alpha_j  row_id  decision  \n",
       "49  -0.008709      49       0.0  \n",
       "50  -0.008148      50       0.0  \n",
       "48  -0.009222      48       0.0  \n",
       "47  -0.010041      47       0.0  \n",
       "51  -0.007281      51       0.0  \n",
       "..        ...     ...       ...  \n",
       "120 -0.000001     120       1.0  \n",
       "0   -0.000001       0       0.0  \n",
       "1   -0.000001       1       0.0  \n",
       "3   -0.000004       3       0.0  \n",
       "2   -0.000004       2       0.0  \n",
       "\n",
       "[222 rows x 11 columns]"
      ]
     },
     "execution_count": 17,
     "metadata": {},
     "output_type": "execute_result"
    }
   ],
   "source": [
    "dff.merge(df_decisions,left_index=True,right_index=True).sort_values(by='ml_outcomes',ascending=False)"
   ]
  },
  {
   "cell_type": "code",
   "execution_count": 18,
   "metadata": {
    "execution": {
     "iopub.execute_input": "2022-12-12T05:19:41.713049Z",
     "iopub.status.busy": "2022-12-12T05:19:41.712597Z",
     "iopub.status.idle": "2022-12-12T05:19:41.714402Z",
     "shell.execute_reply": "2022-12-12T05:19:41.714704Z"
    }
   },
   "outputs": [
    {
     "data": {
      "text/html": [
       "<div>\n",
       "<style scoped>\n",
       "    .dataframe tbody tr th:only-of-type {\n",
       "        vertical-align: middle;\n",
       "    }\n",
       "\n",
       "    .dataframe tbody tr th {\n",
       "        vertical-align: top;\n",
       "    }\n",
       "\n",
       "    .dataframe thead th {\n",
       "        text-align: right;\n",
       "    }\n",
       "</style>\n",
       "<table border=\"1\" class=\"dataframe\">\n",
       "  <thead>\n",
       "    <tr style=\"text-align: right;\">\n",
       "      <th></th>\n",
       "      <th>level_0</th>\n",
       "      <th>index</th>\n",
       "      <th>R</th>\n",
       "      <th>T</th>\n",
       "      <th>ml_outcomes</th>\n",
       "      <th>N</th>\n",
       "      <th>ml_outcomes_prob</th>\n",
       "      <th>Pr(X=X_j)</th>\n",
       "      <th>alpha_j</th>\n",
       "      <th>row_id</th>\n",
       "      <th>decision</th>\n",
       "    </tr>\n",
       "  </thead>\n",
       "  <tbody>\n",
       "    <tr>\n",
       "      <th>119</th>\n",
       "      <td>215</td>\n",
       "      <td>119</td>\n",
       "      <td>1</td>\n",
       "      <td>7</td>\n",
       "      <td>0.50</td>\n",
       "      <td>2</td>\n",
       "      <td>0.0</td>\n",
       "      <td>0.000002</td>\n",
       "      <td>-0.000002</td>\n",
       "      <td>119</td>\n",
       "      <td>0.0</td>\n",
       "    </tr>\n",
       "    <tr>\n",
       "      <th>120</th>\n",
       "      <td>217</td>\n",
       "      <td>120</td>\n",
       "      <td>1</td>\n",
       "      <td>8</td>\n",
       "      <td>0.32</td>\n",
       "      <td>1</td>\n",
       "      <td>0.0</td>\n",
       "      <td>0.000001</td>\n",
       "      <td>-0.000001</td>\n",
       "      <td>120</td>\n",
       "      <td>1.0</td>\n",
       "    </tr>\n",
       "    <tr>\n",
       "      <th>0</th>\n",
       "      <td>218</td>\n",
       "      <td>0</td>\n",
       "      <td>0</td>\n",
       "      <td>9</td>\n",
       "      <td>0.10</td>\n",
       "      <td>1</td>\n",
       "      <td>0.0</td>\n",
       "      <td>0.000001</td>\n",
       "      <td>-0.000001</td>\n",
       "      <td>0</td>\n",
       "      <td>0.0</td>\n",
       "    </tr>\n",
       "    <tr>\n",
       "      <th>121</th>\n",
       "      <td>207</td>\n",
       "      <td>121</td>\n",
       "      <td>1</td>\n",
       "      <td>9</td>\n",
       "      <td>1.00</td>\n",
       "      <td>4</td>\n",
       "      <td>0.0</td>\n",
       "      <td>0.000004</td>\n",
       "      <td>-0.000004</td>\n",
       "      <td>121</td>\n",
       "      <td>0.0</td>\n",
       "    </tr>\n",
       "    <tr>\n",
       "      <th>1</th>\n",
       "      <td>219</td>\n",
       "      <td>1</td>\n",
       "      <td>0</td>\n",
       "      <td>10</td>\n",
       "      <td>0.08</td>\n",
       "      <td>1</td>\n",
       "      <td>0.0</td>\n",
       "      <td>0.000001</td>\n",
       "      <td>-0.000001</td>\n",
       "      <td>1</td>\n",
       "      <td>0.0</td>\n",
       "    </tr>\n",
       "    <tr>\n",
       "      <th>...</th>\n",
       "      <td>...</td>\n",
       "      <td>...</td>\n",
       "      <td>...</td>\n",
       "      <td>...</td>\n",
       "      <td>...</td>\n",
       "      <td>...</td>\n",
       "      <td>...</td>\n",
       "      <td>...</td>\n",
       "      <td>...</td>\n",
       "      <td>...</td>\n",
       "      <td>...</td>\n",
       "    </tr>\n",
       "    <tr>\n",
       "      <th>114</th>\n",
       "      <td>200</td>\n",
       "      <td>114</td>\n",
       "      <td>0</td>\n",
       "      <td>123</td>\n",
       "      <td>2.00</td>\n",
       "      <td>2</td>\n",
       "      <td>1.0</td>\n",
       "      <td>0.000002</td>\n",
       "      <td>0.000000</td>\n",
       "      <td>114</td>\n",
       "      <td>1.0</td>\n",
       "    </tr>\n",
       "    <tr>\n",
       "      <th>115</th>\n",
       "      <td>209</td>\n",
       "      <td>115</td>\n",
       "      <td>0</td>\n",
       "      <td>124</td>\n",
       "      <td>1.00</td>\n",
       "      <td>1</td>\n",
       "      <td>0.0</td>\n",
       "      <td>0.000001</td>\n",
       "      <td>-0.000001</td>\n",
       "      <td>115</td>\n",
       "      <td>1.0</td>\n",
       "    </tr>\n",
       "    <tr>\n",
       "      <th>116</th>\n",
       "      <td>199</td>\n",
       "      <td>116</td>\n",
       "      <td>0</td>\n",
       "      <td>125</td>\n",
       "      <td>2.00</td>\n",
       "      <td>2</td>\n",
       "      <td>1.0</td>\n",
       "      <td>0.000002</td>\n",
       "      <td>0.000000</td>\n",
       "      <td>116</td>\n",
       "      <td>1.0</td>\n",
       "    </tr>\n",
       "    <tr>\n",
       "      <th>117</th>\n",
       "      <td>208</td>\n",
       "      <td>117</td>\n",
       "      <td>0</td>\n",
       "      <td>127</td>\n",
       "      <td>1.00</td>\n",
       "      <td>1</td>\n",
       "      <td>1.0</td>\n",
       "      <td>0.000001</td>\n",
       "      <td>0.000000</td>\n",
       "      <td>117</td>\n",
       "      <td>1.0</td>\n",
       "    </tr>\n",
       "    <tr>\n",
       "      <th>118</th>\n",
       "      <td>198</td>\n",
       "      <td>118</td>\n",
       "      <td>0</td>\n",
       "      <td>128</td>\n",
       "      <td>2.00</td>\n",
       "      <td>2</td>\n",
       "      <td>1.0</td>\n",
       "      <td>0.000002</td>\n",
       "      <td>0.000000</td>\n",
       "      <td>118</td>\n",
       "      <td>1.0</td>\n",
       "    </tr>\n",
       "  </tbody>\n",
       "</table>\n",
       "<p>222 rows × 11 columns</p>\n",
       "</div>"
      ],
      "text/plain": [
       "     level_0  index  R    T  ml_outcomes  N  ml_outcomes_prob  Pr(X=X_j)  \\\n",
       "119      215    119  1    7         0.50  2               0.0   0.000002   \n",
       "120      217    120  1    8         0.32  1               0.0   0.000001   \n",
       "0        218      0  0    9         0.10  1               0.0   0.000001   \n",
       "121      207    121  1    9         1.00  4               0.0   0.000004   \n",
       "1        219      1  0   10         0.08  1               0.0   0.000001   \n",
       "..       ...    ... ..  ...          ... ..               ...        ...   \n",
       "114      200    114  0  123         2.00  2               1.0   0.000002   \n",
       "115      209    115  0  124         1.00  1               0.0   0.000001   \n",
       "116      199    116  0  125         2.00  2               1.0   0.000002   \n",
       "117      208    117  0  127         1.00  1               1.0   0.000001   \n",
       "118      198    118  0  128         2.00  2               1.0   0.000002   \n",
       "\n",
       "      alpha_j  row_id  decision  \n",
       "119 -0.000002     119       0.0  \n",
       "120 -0.000001     120       1.0  \n",
       "0   -0.000001       0       0.0  \n",
       "121 -0.000004     121       0.0  \n",
       "1   -0.000001       1       0.0  \n",
       "..        ...     ...       ...  \n",
       "114  0.000000     114       1.0  \n",
       "115 -0.000001     115       1.0  \n",
       "116  0.000000     116       1.0  \n",
       "117  0.000000     117       1.0  \n",
       "118  0.000000     118       1.0  \n",
       "\n",
       "[222 rows x 11 columns]"
      ]
     },
     "execution_count": 18,
     "metadata": {},
     "output_type": "execute_result"
    }
   ],
   "source": [
    "xxx_ = dff.merge(df_decisions,left_index=True,right_index=True).sort_values(by='ml_outcomes',ascending=False)\n",
    "xxx_.sort_values(by='T')"
   ]
  },
  {
   "cell_type": "code",
   "execution_count": 19,
   "metadata": {
    "execution": {
     "iopub.execute_input": "2022-12-12T05:19:41.723542Z",
     "iopub.status.busy": "2022-12-12T05:19:41.723074Z",
     "iopub.status.idle": "2022-12-12T05:19:41.724601Z",
     "shell.execute_reply": "2022-12-12T05:19:41.724893Z"
    }
   },
   "outputs": [
    {
     "data": {
      "text/html": [
       "<div>\n",
       "<style scoped>\n",
       "    .dataframe tbody tr th:only-of-type {\n",
       "        vertical-align: middle;\n",
       "    }\n",
       "\n",
       "    .dataframe tbody tr th {\n",
       "        vertical-align: top;\n",
       "    }\n",
       "\n",
       "    .dataframe thead th {\n",
       "        text-align: right;\n",
       "    }\n",
       "</style>\n",
       "<table border=\"1\" class=\"dataframe\">\n",
       "  <thead>\n",
       "    <tr style=\"text-align: right;\">\n",
       "      <th></th>\n",
       "      <th>level_0</th>\n",
       "      <th>index</th>\n",
       "      <th>R</th>\n",
       "      <th>T</th>\n",
       "      <th>ml_outcomes</th>\n",
       "      <th>N</th>\n",
       "      <th>ml_outcomes_prob</th>\n",
       "      <th>Pr(X=X_j)</th>\n",
       "      <th>alpha_j</th>\n",
       "      <th>row_id</th>\n",
       "      <th>decision</th>\n",
       "    </tr>\n",
       "  </thead>\n",
       "  <tbody>\n",
       "    <tr>\n",
       "      <th>49</th>\n",
       "      <td>0</td>\n",
       "      <td>49</td>\n",
       "      <td>0</td>\n",
       "      <td>58</td>\n",
       "      <td>11233.60</td>\n",
       "      <td>20060</td>\n",
       "      <td>0.565852</td>\n",
       "      <td>0.020060</td>\n",
       "      <td>-0.008709</td>\n",
       "      <td>49</td>\n",
       "      <td>0.0</td>\n",
       "    </tr>\n",
       "    <tr>\n",
       "      <th>50</th>\n",
       "      <td>1</td>\n",
       "      <td>50</td>\n",
       "      <td>0</td>\n",
       "      <td>59</td>\n",
       "      <td>11169.64</td>\n",
       "      <td>19258</td>\n",
       "      <td>0.576903</td>\n",
       "      <td>0.019258</td>\n",
       "      <td>-0.008148</td>\n",
       "      <td>50</td>\n",
       "      <td>0.0</td>\n",
       "    </tr>\n",
       "    <tr>\n",
       "      <th>48</th>\n",
       "      <td>2</td>\n",
       "      <td>48</td>\n",
       "      <td>0</td>\n",
       "      <td>57</td>\n",
       "      <td>11030.04</td>\n",
       "      <td>20426</td>\n",
       "      <td>0.548517</td>\n",
       "      <td>0.020426</td>\n",
       "      <td>-0.009222</td>\n",
       "      <td>48</td>\n",
       "      <td>0.0</td>\n",
       "    </tr>\n",
       "    <tr>\n",
       "      <th>47</th>\n",
       "      <td>3</td>\n",
       "      <td>47</td>\n",
       "      <td>0</td>\n",
       "      <td>56</td>\n",
       "      <td>10985.52</td>\n",
       "      <td>21126</td>\n",
       "      <td>0.524709</td>\n",
       "      <td>0.021126</td>\n",
       "      <td>-0.010041</td>\n",
       "      <td>47</td>\n",
       "      <td>0.0</td>\n",
       "    </tr>\n",
       "    <tr>\n",
       "      <th>51</th>\n",
       "      <td>4</td>\n",
       "      <td>51</td>\n",
       "      <td>0</td>\n",
       "      <td>60</td>\n",
       "      <td>10970.40</td>\n",
       "      <td>18284</td>\n",
       "      <td>0.601783</td>\n",
       "      <td>0.018284</td>\n",
       "      <td>-0.007281</td>\n",
       "      <td>51</td>\n",
       "      <td>0.0</td>\n",
       "    </tr>\n",
       "    <tr>\n",
       "      <th>...</th>\n",
       "      <td>...</td>\n",
       "      <td>...</td>\n",
       "      <td>...</td>\n",
       "      <td>...</td>\n",
       "      <td>...</td>\n",
       "      <td>...</td>\n",
       "      <td>...</td>\n",
       "      <td>...</td>\n",
       "      <td>...</td>\n",
       "      <td>...</td>\n",
       "      <td>...</td>\n",
       "    </tr>\n",
       "    <tr>\n",
       "      <th>120</th>\n",
       "      <td>217</td>\n",
       "      <td>120</td>\n",
       "      <td>1</td>\n",
       "      <td>8</td>\n",
       "      <td>0.32</td>\n",
       "      <td>1</td>\n",
       "      <td>0.000000</td>\n",
       "      <td>0.000001</td>\n",
       "      <td>-0.000001</td>\n",
       "      <td>120</td>\n",
       "      <td>1.0</td>\n",
       "    </tr>\n",
       "    <tr>\n",
       "      <th>0</th>\n",
       "      <td>218</td>\n",
       "      <td>0</td>\n",
       "      <td>0</td>\n",
       "      <td>9</td>\n",
       "      <td>0.10</td>\n",
       "      <td>1</td>\n",
       "      <td>0.000000</td>\n",
       "      <td>0.000001</td>\n",
       "      <td>-0.000001</td>\n",
       "      <td>0</td>\n",
       "      <td>0.0</td>\n",
       "    </tr>\n",
       "    <tr>\n",
       "      <th>1</th>\n",
       "      <td>219</td>\n",
       "      <td>1</td>\n",
       "      <td>0</td>\n",
       "      <td>10</td>\n",
       "      <td>0.08</td>\n",
       "      <td>1</td>\n",
       "      <td>0.000000</td>\n",
       "      <td>0.000001</td>\n",
       "      <td>-0.000001</td>\n",
       "      <td>1</td>\n",
       "      <td>0.0</td>\n",
       "    </tr>\n",
       "    <tr>\n",
       "      <th>3</th>\n",
       "      <td>220</td>\n",
       "      <td>3</td>\n",
       "      <td>0</td>\n",
       "      <td>12</td>\n",
       "      <td>0.08</td>\n",
       "      <td>4</td>\n",
       "      <td>0.000000</td>\n",
       "      <td>0.000004</td>\n",
       "      <td>-0.000004</td>\n",
       "      <td>3</td>\n",
       "      <td>0.0</td>\n",
       "    </tr>\n",
       "    <tr>\n",
       "      <th>2</th>\n",
       "      <td>221</td>\n",
       "      <td>2</td>\n",
       "      <td>0</td>\n",
       "      <td>11</td>\n",
       "      <td>0.00</td>\n",
       "      <td>4</td>\n",
       "      <td>0.000000</td>\n",
       "      <td>0.000004</td>\n",
       "      <td>-0.000004</td>\n",
       "      <td>2</td>\n",
       "      <td>0.0</td>\n",
       "    </tr>\n",
       "  </tbody>\n",
       "</table>\n",
       "<p>222 rows × 11 columns</p>\n",
       "</div>"
      ],
      "text/plain": [
       "     level_0  index  R   T  ml_outcomes      N  ml_outcomes_prob  Pr(X=X_j)  \\\n",
       "49         0     49  0  58     11233.60  20060          0.565852   0.020060   \n",
       "50         1     50  0  59     11169.64  19258          0.576903   0.019258   \n",
       "48         2     48  0  57     11030.04  20426          0.548517   0.020426   \n",
       "47         3     47  0  56     10985.52  21126          0.524709   0.021126   \n",
       "51         4     51  0  60     10970.40  18284          0.601783   0.018284   \n",
       "..       ...    ... ..  ..          ...    ...               ...        ...   \n",
       "120      217    120  1   8         0.32      1          0.000000   0.000001   \n",
       "0        218      0  0   9         0.10      1          0.000000   0.000001   \n",
       "1        219      1  0  10         0.08      1          0.000000   0.000001   \n",
       "3        220      3  0  12         0.08      4          0.000000   0.000004   \n",
       "2        221      2  0  11         0.00      4          0.000000   0.000004   \n",
       "\n",
       "      alpha_j  row_id  decision  \n",
       "49  -0.008709      49       0.0  \n",
       "50  -0.008148      50       0.0  \n",
       "48  -0.009222      48       0.0  \n",
       "47  -0.010041      47       0.0  \n",
       "51  -0.007281      51       0.0  \n",
       "..        ...     ...       ...  \n",
       "120 -0.000001     120       1.0  \n",
       "0   -0.000001       0       0.0  \n",
       "1   -0.000001       1       0.0  \n",
       "3   -0.000004       3       0.0  \n",
       "2   -0.000004       2       0.0  \n",
       "\n",
       "[222 rows x 11 columns]"
      ]
     },
     "execution_count": 19,
     "metadata": {},
     "output_type": "execute_result"
    }
   ],
   "source": [
    "xxx = dff.merge(df_decisions,left_index=True,right_index=True).sort_values(by='ml_outcomes',ascending=False)\n",
    "xxx"
   ]
  },
  {
   "cell_type": "code",
   "execution_count": 20,
   "metadata": {
    "execution": {
     "iopub.execute_input": "2022-12-12T05:19:41.727292Z",
     "iopub.status.busy": "2022-12-12T05:19:41.726924Z",
     "iopub.status.idle": "2022-12-12T05:19:41.728981Z",
     "shell.execute_reply": "2022-12-12T05:19:41.729231Z"
    }
   },
   "outputs": [
    {
     "data": {
      "text/plain": [
       "222"
      ]
     },
     "execution_count": 20,
     "metadata": {},
     "output_type": "execute_result"
    }
   ],
   "source": [
    "len(xxx_)"
   ]
  },
  {
   "cell_type": "code",
   "execution_count": null,
   "metadata": {},
   "outputs": [],
   "source": []
  },
  {
   "cell_type": "code",
   "execution_count": null,
   "metadata": {},
   "outputs": [],
   "source": []
  },
  {
   "cell_type": "code",
   "execution_count": 21,
   "metadata": {
    "execution": {
     "iopub.execute_input": "2022-12-12T05:19:41.738360Z",
     "iopub.status.busy": "2022-12-12T05:19:41.737858Z",
     "iopub.status.idle": "2022-12-12T05:19:41.740063Z",
     "shell.execute_reply": "2022-12-12T05:19:41.740382Z"
    }
   },
   "outputs": [
    {
     "data": {
      "text/html": [
       "<div>\n",
       "<style scoped>\n",
       "    .dataframe tbody tr th:only-of-type {\n",
       "        vertical-align: middle;\n",
       "    }\n",
       "\n",
       "    .dataframe tbody tr th {\n",
       "        vertical-align: top;\n",
       "    }\n",
       "\n",
       "    .dataframe thead th {\n",
       "        text-align: right;\n",
       "    }\n",
       "</style>\n",
       "<table border=\"1\" class=\"dataframe\">\n",
       "  <thead>\n",
       "    <tr style=\"text-align: right;\">\n",
       "      <th></th>\n",
       "      <th>level_0</th>\n",
       "      <th>index</th>\n",
       "      <th>R</th>\n",
       "      <th>T</th>\n",
       "      <th>ml_outcomes</th>\n",
       "      <th>N</th>\n",
       "      <th>ml_outcomes_prob</th>\n",
       "      <th>Pr(X=X_j)</th>\n",
       "      <th>alpha_j</th>\n",
       "      <th>row_id</th>\n",
       "      <th>decision</th>\n",
       "    </tr>\n",
       "  </thead>\n",
       "  <tbody>\n",
       "    <tr>\n",
       "      <th>49</th>\n",
       "      <td>0</td>\n",
       "      <td>49</td>\n",
       "      <td>0</td>\n",
       "      <td>58</td>\n",
       "      <td>11233.60</td>\n",
       "      <td>20060</td>\n",
       "      <td>0.565852</td>\n",
       "      <td>0.020060</td>\n",
       "      <td>-0.008709</td>\n",
       "      <td>49</td>\n",
       "      <td>0.0</td>\n",
       "    </tr>\n",
       "    <tr>\n",
       "      <th>50</th>\n",
       "      <td>1</td>\n",
       "      <td>50</td>\n",
       "      <td>0</td>\n",
       "      <td>59</td>\n",
       "      <td>11169.64</td>\n",
       "      <td>19258</td>\n",
       "      <td>0.576903</td>\n",
       "      <td>0.019258</td>\n",
       "      <td>-0.008148</td>\n",
       "      <td>50</td>\n",
       "      <td>0.0</td>\n",
       "    </tr>\n",
       "    <tr>\n",
       "      <th>48</th>\n",
       "      <td>2</td>\n",
       "      <td>48</td>\n",
       "      <td>0</td>\n",
       "      <td>57</td>\n",
       "      <td>11030.04</td>\n",
       "      <td>20426</td>\n",
       "      <td>0.548517</td>\n",
       "      <td>0.020426</td>\n",
       "      <td>-0.009222</td>\n",
       "      <td>48</td>\n",
       "      <td>0.0</td>\n",
       "    </tr>\n",
       "    <tr>\n",
       "      <th>47</th>\n",
       "      <td>3</td>\n",
       "      <td>47</td>\n",
       "      <td>0</td>\n",
       "      <td>56</td>\n",
       "      <td>10985.52</td>\n",
       "      <td>21126</td>\n",
       "      <td>0.524709</td>\n",
       "      <td>0.021126</td>\n",
       "      <td>-0.010041</td>\n",
       "      <td>47</td>\n",
       "      <td>0.0</td>\n",
       "    </tr>\n",
       "    <tr>\n",
       "      <th>51</th>\n",
       "      <td>4</td>\n",
       "      <td>51</td>\n",
       "      <td>0</td>\n",
       "      <td>60</td>\n",
       "      <td>10970.40</td>\n",
       "      <td>18284</td>\n",
       "      <td>0.601783</td>\n",
       "      <td>0.018284</td>\n",
       "      <td>-0.007281</td>\n",
       "      <td>51</td>\n",
       "      <td>0.0</td>\n",
       "    </tr>\n",
       "    <tr>\n",
       "      <th>...</th>\n",
       "      <td>...</td>\n",
       "      <td>...</td>\n",
       "      <td>...</td>\n",
       "      <td>...</td>\n",
       "      <td>...</td>\n",
       "      <td>...</td>\n",
       "      <td>...</td>\n",
       "      <td>...</td>\n",
       "      <td>...</td>\n",
       "      <td>...</td>\n",
       "      <td>...</td>\n",
       "    </tr>\n",
       "    <tr>\n",
       "      <th>120</th>\n",
       "      <td>217</td>\n",
       "      <td>120</td>\n",
       "      <td>1</td>\n",
       "      <td>8</td>\n",
       "      <td>0.32</td>\n",
       "      <td>1</td>\n",
       "      <td>0.000000</td>\n",
       "      <td>0.000001</td>\n",
       "      <td>-0.000001</td>\n",
       "      <td>120</td>\n",
       "      <td>1.0</td>\n",
       "    </tr>\n",
       "    <tr>\n",
       "      <th>0</th>\n",
       "      <td>218</td>\n",
       "      <td>0</td>\n",
       "      <td>0</td>\n",
       "      <td>9</td>\n",
       "      <td>0.10</td>\n",
       "      <td>1</td>\n",
       "      <td>0.000000</td>\n",
       "      <td>0.000001</td>\n",
       "      <td>-0.000001</td>\n",
       "      <td>0</td>\n",
       "      <td>0.0</td>\n",
       "    </tr>\n",
       "    <tr>\n",
       "      <th>1</th>\n",
       "      <td>219</td>\n",
       "      <td>1</td>\n",
       "      <td>0</td>\n",
       "      <td>10</td>\n",
       "      <td>0.08</td>\n",
       "      <td>1</td>\n",
       "      <td>0.000000</td>\n",
       "      <td>0.000001</td>\n",
       "      <td>-0.000001</td>\n",
       "      <td>1</td>\n",
       "      <td>0.0</td>\n",
       "    </tr>\n",
       "    <tr>\n",
       "      <th>3</th>\n",
       "      <td>220</td>\n",
       "      <td>3</td>\n",
       "      <td>0</td>\n",
       "      <td>12</td>\n",
       "      <td>0.08</td>\n",
       "      <td>4</td>\n",
       "      <td>0.000000</td>\n",
       "      <td>0.000004</td>\n",
       "      <td>-0.000004</td>\n",
       "      <td>3</td>\n",
       "      <td>0.0</td>\n",
       "    </tr>\n",
       "    <tr>\n",
       "      <th>2</th>\n",
       "      <td>221</td>\n",
       "      <td>2</td>\n",
       "      <td>0</td>\n",
       "      <td>11</td>\n",
       "      <td>0.00</td>\n",
       "      <td>4</td>\n",
       "      <td>0.000000</td>\n",
       "      <td>0.000004</td>\n",
       "      <td>-0.000004</td>\n",
       "      <td>2</td>\n",
       "      <td>0.0</td>\n",
       "    </tr>\n",
       "  </tbody>\n",
       "</table>\n",
       "<p>222 rows × 11 columns</p>\n",
       "</div>"
      ],
      "text/plain": [
       "     level_0  index  R   T  ml_outcomes      N  ml_outcomes_prob  Pr(X=X_j)  \\\n",
       "49         0     49  0  58     11233.60  20060          0.565852   0.020060   \n",
       "50         1     50  0  59     11169.64  19258          0.576903   0.019258   \n",
       "48         2     48  0  57     11030.04  20426          0.548517   0.020426   \n",
       "47         3     47  0  56     10985.52  21126          0.524709   0.021126   \n",
       "51         4     51  0  60     10970.40  18284          0.601783   0.018284   \n",
       "..       ...    ... ..  ..          ...    ...               ...        ...   \n",
       "120      217    120  1   8         0.32      1          0.000000   0.000001   \n",
       "0        218      0  0   9         0.10      1          0.000000   0.000001   \n",
       "1        219      1  0  10         0.08      1          0.000000   0.000001   \n",
       "3        220      3  0  12         0.08      4          0.000000   0.000004   \n",
       "2        221      2  0  11         0.00      4          0.000000   0.000004   \n",
       "\n",
       "      alpha_j  row_id  decision  \n",
       "49  -0.008709      49       0.0  \n",
       "50  -0.008148      50       0.0  \n",
       "48  -0.009222      48       0.0  \n",
       "47  -0.010041      47       0.0  \n",
       "51  -0.007281      51       0.0  \n",
       "..        ...     ...       ...  \n",
       "120 -0.000001     120       1.0  \n",
       "0   -0.000001       0       0.0  \n",
       "1   -0.000001       1       0.0  \n",
       "3   -0.000004       3       0.0  \n",
       "2   -0.000004       2       0.0  \n",
       "\n",
       "[222 rows x 11 columns]"
      ]
     },
     "execution_count": 21,
     "metadata": {},
     "output_type": "execute_result"
    }
   ],
   "source": [
    "xxx"
   ]
  },
  {
   "cell_type": "code",
   "execution_count": 22,
   "metadata": {
    "execution": {
     "iopub.execute_input": "2022-12-12T05:19:41.743995Z",
     "iopub.status.busy": "2022-12-12T05:19:41.743474Z",
     "iopub.status.idle": "2022-12-12T05:19:41.745103Z",
     "shell.execute_reply": "2022-12-12T05:19:41.745427Z"
    }
   },
   "outputs": [
    {
     "data": {
      "text/plain": [
       "320522.2195697422"
      ]
     },
     "execution_count": 22,
     "metadata": {},
     "output_type": "execute_result"
    }
   ],
   "source": [
    "(xxx['ml_outcomes']*xxx['decision']).sum()"
   ]
  },
  {
   "cell_type": "code",
   "execution_count": 23,
   "metadata": {
    "execution": {
     "iopub.execute_input": "2022-12-12T05:19:41.749024Z",
     "iopub.status.busy": "2022-12-12T05:19:41.748614Z",
     "iopub.status.idle": "2022-12-12T05:19:41.749968Z",
     "shell.execute_reply": "2022-12-12T05:19:41.750389Z"
    }
   },
   "outputs": [],
   "source": [
    "def maxMLOutcomes(frac_minority=0.01):\n",
    "    minority_admits = int(K*frac_minority)\n",
    "    majority_admits = int(K*(1-frac_minority))\n",
    "    \n",
    "    b = df[df['R']==1].sort_values(by='ml_outcomes',ascending=False).head(n=minority_admits)\n",
    "    w = df[df['R']==0].sort_values(by='ml_outcomes',ascending=False).head(n=majority_admits)\n",
    "    \n",
    "    return b['Y'].sum() + w['Y'].sum()    "
   ]
  },
  {
   "cell_type": "code",
   "execution_count": 24,
   "metadata": {
    "execution": {
     "iopub.execute_input": "2022-12-12T05:19:41.753702Z",
     "iopub.status.busy": "2022-12-12T05:19:41.753267Z",
     "iopub.status.idle": "2022-12-12T05:19:41.754601Z",
     "shell.execute_reply": "2022-12-12T05:19:41.754972Z"
    }
   },
   "outputs": [],
   "source": [
    "def maxMLOutcomesminority(frac_minority=0.01):\n",
    "    minority_admits = int(K*frac_minority)\n",
    "    majority_admits = int(K*(1-frac_minority))\n",
    "    \n",
    "    b = df[df['R']==1].sort_values(by='ml_outcomes',ascending=False).head(n=minority_admits)\n",
    "    w = df[df['R']==0].sort_values(by='ml_outcomes',ascending=False).head(n=majority_admits)\n",
    "    \n",
    "    return b['Y'].sum()   "
   ]
  },
  {
   "cell_type": "code",
   "execution_count": 25,
   "metadata": {
    "execution": {
     "iopub.execute_input": "2022-12-12T05:19:42.215150Z",
     "iopub.status.busy": "2022-12-12T05:19:41.757592Z",
     "iopub.status.idle": "2022-12-12T05:19:42.883373Z",
     "shell.execute_reply": "2022-12-12T05:19:42.883651Z"
    }
   },
   "outputs": [],
   "source": [
    "df['key'] = df['R'].astype(str)+'_'+df['T'].astype(str)\n",
    "xxx['key'] = xxx['R'].astype(str)+'_'+xxx['T'].astype(str)"
   ]
  },
  {
   "cell_type": "code",
   "execution_count": 26,
   "metadata": {
    "execution": {
     "iopub.execute_input": "2022-12-12T05:19:42.886492Z",
     "iopub.status.busy": "2022-12-12T05:19:42.886047Z",
     "iopub.status.idle": "2022-12-12T05:19:42.887767Z",
     "shell.execute_reply": "2022-12-12T05:19:42.888060Z"
    }
   },
   "outputs": [
    {
     "data": {
      "text/plain": [
       "222"
      ]
     },
     "execution_count": 26,
     "metadata": {},
     "output_type": "execute_result"
    }
   ],
   "source": [
    "len(xxx)"
   ]
  },
  {
   "cell_type": "code",
   "execution_count": 27,
   "metadata": {
    "execution": {
     "iopub.execute_input": "2022-12-12T05:19:42.946788Z",
     "iopub.status.busy": "2022-12-12T05:19:42.946229Z",
     "iopub.status.idle": "2022-12-12T05:19:43.284442Z",
     "shell.execute_reply": "2022-12-12T05:19:43.284708Z"
    }
   },
   "outputs": [],
   "source": [
    "admit_decisions = df.merge(xxx,how='left',on='key')\n",
    "admit_decisions['decision_random'] = pd.Series([random.random() for x in range(0,len(admit_decisions))]) < FRAC_ADMIT\n",
    "\n",
    "\n",
    "FRAC_minority_POLICY = (admit_decisions['R_y'] * admit_decisions['decision']).sum()/admit_decisions['decision'].sum()\n",
    "SUM_BP_POLICY = ( admit_decisions['Y'] * admit_decisions['decision']).sum()\n",
    "\n",
    "FRAC_RANDOM_POLICY = (admit_decisions['R_y'] * admit_decisions['decision_random']).sum()/admit_decisions['decision_random'].sum()\n",
    "SUM_BP_RAND_POLICY = ( admit_decisions['Y'] * admit_decisions['decision_random']).sum()\n"
   ]
  },
  {
   "cell_type": "code",
   "execution_count": 28,
   "metadata": {
    "execution": {
     "iopub.execute_input": "2022-12-12T05:19:43.287669Z",
     "iopub.status.busy": "2022-12-12T05:19:43.287290Z",
     "iopub.status.idle": "2022-12-12T05:19:43.288891Z",
     "shell.execute_reply": "2022-12-12T05:19:43.289168Z"
    }
   },
   "outputs": [
    {
     "data": {
      "text/plain": [
       "('0.6276404195224178', '242677.00000000012')"
      ]
     },
     "execution_count": 28,
     "metadata": {},
     "output_type": "execute_result"
    }
   ],
   "source": [
    "str(FRAC_minority_POLICY),str(SUM_BP_POLICY)"
   ]
  },
  {
   "cell_type": "code",
   "execution_count": 29,
   "metadata": {
    "execution": {
     "iopub.execute_input": "2022-12-12T05:19:43.291926Z",
     "iopub.status.busy": "2022-12-12T05:19:43.291568Z",
     "iopub.status.idle": "2022-12-12T05:19:43.293042Z",
     "shell.execute_reply": "2022-12-12T05:19:43.293276Z"
    }
   },
   "outputs": [],
   "source": [
    "file = open('./lp_results.csv','a')\n",
    "file.write('{}\\t{}\\t{}\\n'.format('Counterfactual Pred. Parity',str(FRAC_minority_POLICY),str(SUM_BP_POLICY)))\n",
    "file.close()\n"
   ]
  },
  {
   "cell_type": "code",
   "execution_count": 30,
   "metadata": {
    "execution": {
     "iopub.execute_input": "2022-12-12T05:19:43.296296Z",
     "iopub.status.busy": "2022-12-12T05:19:43.295923Z",
     "iopub.status.idle": "2022-12-12T05:19:43.297429Z",
     "shell.execute_reply": "2022-12-12T05:19:43.297739Z"
    }
   },
   "outputs": [
    {
     "data": {
      "text/plain": [
       "0.4999994999995003"
      ]
     },
     "execution_count": 30,
     "metadata": {},
     "output_type": "execute_result"
    }
   ],
   "source": [
    "(xxx['N']*xxx['decision']).sum()/len(df)"
   ]
  },
  {
   "cell_type": "code",
   "execution_count": 31,
   "metadata": {
    "execution": {
     "iopub.execute_input": "2022-12-12T05:19:43.328395Z",
     "iopub.status.busy": "2022-12-12T05:19:43.327703Z",
     "iopub.status.idle": "2022-12-12T05:19:43.433534Z",
     "shell.execute_reply": "2022-12-12T05:19:43.433855Z"
    }
   },
   "outputs": [
    {
     "data": {
      "text/plain": [
       "<matplotlib.lines.Line2D at 0x7fb96f9f4b50>"
      ]
     },
     "execution_count": 31,
     "metadata": {},
     "output_type": "execute_result"
    },
    {
     "data": {
      "image/png": "[encoded data removed]",
      "text/plain": [
       "<Figure size 1440x595.44 with 1 Axes>"
      ]
     },
     "metadata": {},
     "output_type": "display_data"
    }
   ],
   "source": [
    "sns.set(rc={'figure.figsize':(20,8.27)})\n",
    "sns.set(font_scale=2)  # crazy big\n",
    "g = sns.scatterplot(x='T',y='decision',hue='R',data=xxx[xxx['R']==1])\n",
    "g.set(xlim=(0, 150))\n",
    "plt.axvline(70.5, 0,1,color='red')\n"
   ]
  },
  {
   "cell_type": "code",
   "execution_count": 32,
   "metadata": {
    "execution": {
     "iopub.execute_input": "2022-12-12T05:19:43.447885Z",
     "iopub.status.busy": "2022-12-12T05:19:43.447475Z",
     "iopub.status.idle": "2022-12-12T05:19:43.560128Z",
     "shell.execute_reply": "2022-12-12T05:19:43.560434Z"
    }
   },
   "outputs": [
    {
     "data": {
      "text/plain": [
       "<matplotlib.lines.Line2D at 0x7fb96f9e2fa0>"
      ]
     },
     "execution_count": 32,
     "metadata": {},
     "output_type": "execute_result"
    },
    {
     "data": {
      "image/png": "[encoded data removed]",
      "text/plain": [
       "<Figure size 1440x595.44 with 1 Axes>"
      ]
     },
     "metadata": {},
     "output_type": "display_data"
    }
   ],
   "source": [
    "sns.set(rc={'figure.figsize':(20,8.27)})\n",
    "sns.set(font_scale=2)  # crazy big\n",
    "g = sns.scatterplot(x='T',y='decision',hue='R',data=xxx[xxx['R']==0])\n",
    "g.set(xlim=(0, 150))\n",
    "plt.axvline(52.5, 0,1,color='red')\n",
    "\n"
   ]
  },
  {
   "cell_type": "code",
   "execution_count": 33,
   "metadata": {
    "execution": {
     "iopub.execute_input": "2022-12-12T05:19:43.563532Z",
     "iopub.status.busy": "2022-12-12T05:19:43.563092Z",
     "iopub.status.idle": "2022-12-12T05:19:43.637654Z",
     "shell.execute_reply": "2022-12-12T05:19:43.637924Z"
    }
   },
   "outputs": [
    {
     "data": {
      "text/html": [
       "<div>\n",
       "<style scoped>\n",
       "    .dataframe tbody tr th:only-of-type {\n",
       "        vertical-align: middle;\n",
       "    }\n",
       "\n",
       "    .dataframe tbody tr th {\n",
       "        vertical-align: top;\n",
       "    }\n",
       "\n",
       "    .dataframe thead th {\n",
       "        text-align: right;\n",
       "    }\n",
       "</style>\n",
       "<table border=\"1\" class=\"dataframe\">\n",
       "  <thead>\n",
       "    <tr style=\"text-align: right;\">\n",
       "      <th></th>\n",
       "      <th>Y</th>\n",
       "    </tr>\n",
       "    <tr>\n",
       "      <th>R_x</th>\n",
       "      <th></th>\n",
       "    </tr>\n",
       "  </thead>\n",
       "  <tbody>\n",
       "    <tr>\n",
       "      <th>0</th>\n",
       "      <td>0.397818</td>\n",
       "    </tr>\n",
       "    <tr>\n",
       "      <th>1</th>\n",
       "      <td>0.495427</td>\n",
       "    </tr>\n",
       "  </tbody>\n",
       "</table>\n",
       "</div>"
      ],
      "text/plain": [
       "            Y\n",
       "R_x          \n",
       "0    0.397818\n",
       "1    0.495427"
      ]
     },
     "execution_count": 33,
     "metadata": {},
     "output_type": "execute_result"
    }
   ],
   "source": [
    "admit_decisions[admit_decisions['decision']==0][['R_x','Y']].groupby(['R_x']).mean()"
   ]
  },
  {
   "cell_type": "code",
   "execution_count": 34,
   "metadata": {
    "execution": {
     "iopub.execute_input": "2022-12-12T05:19:43.640901Z",
     "iopub.status.busy": "2022-12-12T05:19:43.640485Z",
     "iopub.status.idle": "2022-12-12T05:19:43.641942Z",
     "shell.execute_reply": "2022-12-12T05:19:43.642186Z"
    }
   },
   "outputs": [
    {
     "data": {
      "text/plain": [
       "('0.6276404195224178', '242677.00000000012')"
      ]
     },
     "execution_count": 34,
     "metadata": {},
     "output_type": "execute_result"
    }
   ],
   "source": [
    "str(FRAC_minority_POLICY),str(SUM_BP_POLICY)"
   ]
  },
  {
   "cell_type": "code",
   "execution_count": null,
   "metadata": {},
   "outputs": [],
   "source": []
  },
  {
   "cell_type": "code",
   "execution_count": 35,
   "metadata": {
    "execution": {
     "iopub.execute_input": "2022-12-12T05:19:43.644883Z",
     "iopub.status.busy": "2022-12-12T05:19:43.644531Z",
     "iopub.status.idle": "2022-12-12T05:19:43.646183Z",
     "shell.execute_reply": "2022-12-12T05:19:43.646590Z"
    }
   },
   "outputs": [
    {
     "data": {
      "text/plain": [
       "0.4853544853544856"
      ]
     },
     "execution_count": 35,
     "metadata": {},
     "output_type": "execute_result"
    }
   ],
   "source": [
    "SUM_BP_POLICY/(FRAC_ADMIT*len(df))"
   ]
  },
  {
   "cell_type": "code",
   "execution_count": 36,
   "metadata": {
    "execution": {
     "iopub.execute_input": "2022-12-12T05:19:43.649017Z",
     "iopub.status.busy": "2022-12-12T05:19:43.648647Z",
     "iopub.status.idle": "2022-12-12T05:19:43.650272Z",
     "shell.execute_reply": "2022-12-12T05:19:43.650568Z"
    }
   },
   "outputs": [
    {
     "data": {
      "text/plain": [
       "('0.6276404195224178', '242677.00000000012')"
      ]
     },
     "execution_count": 36,
     "metadata": {},
     "output_type": "execute_result"
    }
   ],
   "source": [
    "str(FRAC_minority_POLICY),str(SUM_BP_POLICY)"
   ]
  },
  {
   "cell_type": "code",
   "execution_count": 37,
   "metadata": {
    "execution": {
     "iopub.execute_input": "2022-12-12T05:19:43.653401Z",
     "iopub.status.busy": "2022-12-12T05:19:43.652999Z",
     "iopub.status.idle": "2022-12-12T05:19:43.673446Z",
     "shell.execute_reply": "2022-12-12T05:19:43.673757Z"
    }
   },
   "outputs": [
    {
     "data": {
      "text/plain": [
       "0.4841372002831091"
      ]
     },
     "execution_count": 37,
     "metadata": {},
     "output_type": "execute_result"
    }
   ],
   "source": [
    "admit_decisions[admit_decisions['decision']==1]['Y'].mean()"
   ]
  },
  {
   "cell_type": "code",
   "execution_count": 38,
   "metadata": {
    "execution": {
     "iopub.execute_input": "2022-12-12T05:19:43.676589Z",
     "iopub.status.busy": "2022-12-12T05:19:43.676151Z",
     "iopub.status.idle": "2022-12-12T05:19:43.679094Z",
     "shell.execute_reply": "2022-12-12T05:19:43.679340Z"
    }
   },
   "outputs": [
    {
     "data": {
      "text/plain": [
       "320522.2195697423"
      ]
     },
     "execution_count": 38,
     "metadata": {},
     "output_type": "execute_result"
    }
   ],
   "source": [
    "(admit_decisions['decision'] * admit_decisions['ml_outcomes_x']).sum()"
   ]
  },
  {
   "cell_type": "code",
   "execution_count": 39,
   "metadata": {
    "execution": {
     "iopub.execute_input": "2022-12-12T05:19:43.682002Z",
     "iopub.status.busy": "2022-12-12T05:19:43.681486Z",
     "iopub.status.idle": "2022-12-12T05:19:43.684740Z",
     "shell.execute_reply": "2022-12-12T05:19:43.685028Z"
    }
   },
   "outputs": [
    {
     "data": {
      "text/plain": [
       "242677.00000000012"
      ]
     },
     "execution_count": 39,
     "metadata": {},
     "output_type": "execute_result"
    }
   ],
   "source": [
    "(admit_decisions['decision'] * admit_decisions['Y']).sum()"
   ]
  },
  {
   "cell_type": "code",
   "execution_count": 40,
   "metadata": {
    "execution": {
     "iopub.execute_input": "2022-12-12T05:19:43.687878Z",
     "iopub.status.busy": "2022-12-12T05:19:43.687483Z",
     "iopub.status.idle": "2022-12-12T05:19:43.708098Z",
     "shell.execute_reply": "2022-12-12T05:19:43.708343Z"
    }
   },
   "outputs": [
    {
     "data": {
      "text/plain": [
       "233938"
      ]
     },
     "execution_count": 40,
     "metadata": {},
     "output_type": "execute_result"
    }
   ],
   "source": [
    "admit_decisions[admit_decisions['decision']==1]['Y'].sum()"
   ]
  },
  {
   "cell_type": "code",
   "execution_count": 41,
   "metadata": {
    "execution": {
     "iopub.execute_input": "2022-12-12T05:19:43.711321Z",
     "iopub.status.busy": "2022-12-12T05:19:43.710836Z",
     "iopub.status.idle": "2022-12-12T05:19:43.714339Z",
     "shell.execute_reply": "2022-12-12T05:19:43.714554Z"
    }
   },
   "outputs": [
    {
     "data": {
      "text/plain": [
       "0.4853544853544856"
      ]
     },
     "execution_count": 41,
     "metadata": {},
     "output_type": "execute_result"
    }
   ],
   "source": [
    "(admit_decisions['decision'] * admit_decisions['Y']).sum()/(len(admit_decisions)*FRAC_ADMIT)"
   ]
  },
  {
   "cell_type": "code",
   "execution_count": 42,
   "metadata": {
    "execution": {
     "iopub.execute_input": "2022-12-12T05:19:43.717073Z",
     "iopub.status.busy": "2022-12-12T05:19:43.716659Z",
     "iopub.status.idle": "2022-12-12T05:19:43.719021Z",
     "shell.execute_reply": "2022-12-12T05:19:43.719280Z"
    }
   },
   "outputs": [
    {
     "data": {
      "text/plain": [
       "499999.0000000003"
      ]
     },
     "execution_count": 42,
     "metadata": {},
     "output_type": "execute_result"
    }
   ],
   "source": [
    "(admit_decisions['decision'].sum())"
   ]
  },
  {
   "cell_type": "code",
   "execution_count": 43,
   "metadata": {
    "execution": {
     "iopub.execute_input": "2022-12-12T05:19:43.805402Z",
     "iopub.status.busy": "2022-12-12T05:19:43.768277Z",
     "iopub.status.idle": "2022-12-12T05:19:43.875085Z",
     "shell.execute_reply": "2022-12-12T05:19:43.875308Z"
    }
   },
   "outputs": [],
   "source": [
    "admit_decisions['rand'] = pd.Series([random.random() for x in range(0,len(admit_decisions))])\n",
    "admit_decisions['dec_binary'] = admit_decisions['rand'] < admit_decisions['decision']\n"
   ]
  },
  {
   "cell_type": "code",
   "execution_count": 44,
   "metadata": {
    "execution": {
     "iopub.execute_input": "2022-12-12T05:19:43.877981Z",
     "iopub.status.busy": "2022-12-12T05:19:43.877540Z",
     "iopub.status.idle": "2022-12-12T05:19:43.957290Z",
     "shell.execute_reply": "2022-12-12T05:19:43.957629Z"
    }
   },
   "outputs": [
    {
     "data": {
      "text/html": [
       "<div>\n",
       "<style scoped>\n",
       "    .dataframe tbody tr th:only-of-type {\n",
       "        vertical-align: middle;\n",
       "    }\n",
       "\n",
       "    .dataframe tbody tr th {\n",
       "        vertical-align: top;\n",
       "    }\n",
       "\n",
       "    .dataframe thead th {\n",
       "        text-align: right;\n",
       "    }\n",
       "</style>\n",
       "<table border=\"1\" class=\"dataframe\">\n",
       "  <thead>\n",
       "    <tr style=\"text-align: right;\">\n",
       "      <th></th>\n",
       "      <th>Y</th>\n",
       "    </tr>\n",
       "    <tr>\n",
       "      <th>R_x</th>\n",
       "      <th></th>\n",
       "    </tr>\n",
       "  </thead>\n",
       "  <tbody>\n",
       "    <tr>\n",
       "      <th>0</th>\n",
       "      <td>0.399978</td>\n",
       "    </tr>\n",
       "    <tr>\n",
       "      <th>1</th>\n",
       "      <td>0.400256</td>\n",
       "    </tr>\n",
       "  </tbody>\n",
       "</table>\n",
       "</div>"
      ],
      "text/plain": [
       "            Y\n",
       "R_x          \n",
       "0    0.399978\n",
       "1    0.400256"
      ]
     },
     "execution_count": 44,
     "metadata": {},
     "output_type": "execute_result"
    }
   ],
   "source": [
    "admit_decisions[admit_decisions['dec_binary']==0][['R_x','Y']].groupby(['R_x']).mean()"
   ]
  },
  {
   "cell_type": "code",
   "execution_count": 45,
   "metadata": {
    "execution": {
     "iopub.execute_input": "2022-12-12T05:19:43.964339Z",
     "iopub.status.busy": "2022-12-12T05:19:43.963892Z",
     "iopub.status.idle": "2022-12-12T05:19:43.965549Z",
     "shell.execute_reply": "2022-12-12T05:19:43.965869Z"
    }
   },
   "outputs": [
    {
     "data": {
      "text/plain": [
       "0    669901\n",
       "1    330098\n",
       "Name: R_x, dtype: int64"
      ]
     },
     "execution_count": 45,
     "metadata": {},
     "output_type": "execute_result"
    }
   ],
   "source": [
    "admit_decisions['R_x'].value_counts()"
   ]
  },
  {
   "cell_type": "code",
   "execution_count": null,
   "metadata": {},
   "outputs": [],
   "source": []
  },
  {
   "cell_type": "code",
   "execution_count": null,
   "metadata": {},
   "outputs": [],
   "source": []
  },
  {
   "cell_type": "code",
   "execution_count": null,
   "metadata": {},
   "outputs": [],
   "source": []
  }
 ],
 "metadata": {
  "kernelspec": {
   "display_name": "Python 3 (ipykernel)",
   "language": "python",
   "name": "python3"
  },
  "language_info": {
   "codemirror_mode": {
    "name": "ipython",
    "version": 3
   },
   "file_extension": ".py",
   "mimetype": "text/x-python",
   "name": "python",
   "nbconvert_exporter": "python",
   "pygments_lexer": "ipython3",
   "version": "3.9.7"
  }
 },
 "nbformat": 4,
 "nbformat_minor": 4
}
