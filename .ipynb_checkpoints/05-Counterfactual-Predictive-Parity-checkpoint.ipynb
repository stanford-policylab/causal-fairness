{
 "cells": [
  {
   "cell_type": "code",
   "execution_count": 1,
   "metadata": {
    "execution": {
     "iopub.execute_input": "2022-07-18T21:07:17.631088Z",
     "iopub.status.busy": "2022-07-18T21:07:17.628265Z",
     "iopub.status.idle": "2022-07-18T21:07:18.853684Z",
     "shell.execute_reply": "2022-07-18T21:07:18.853947Z"
    }
   },
   "outputs": [],
   "source": [
    "import numpy as np\n",
    "import pandas as pd\n",
    "import matplotlib.pyplot as plt\n",
    "import seaborn as sns\n",
    "from ortools.linear_solver import pywraplp\n",
    "import random\n",
    "import os\n",
    "\n",
    "DIVERSITY_UTILITY = float(os.environ.get('DIVERSITY_UTILITY'))\n",
    "FRAC_ADMIT = float(os.environ.get('FRAC_ADMIT'))"
   ]
  },
  {
   "cell_type": "code",
   "execution_count": 2,
   "metadata": {
    "execution": {
     "iopub.execute_input": "2022-07-18T21:07:18.858817Z",
     "iopub.status.busy": "2022-07-18T21:07:18.858405Z",
     "iopub.status.idle": "2022-07-18T21:07:39.784255Z",
     "shell.execute_reply": "2022-07-18T21:07:39.784505Z"
    }
   },
   "outputs": [],
   "source": [
    "\n",
    "###\n",
    "## Load dataframe where each row is a single applicant\n",
    "###\n",
    "\n",
    "df = pd.read_csv('./df_test.csv')\n",
    "df['key'] = df['R'].astype(str) + \"_\"  + df['T'].astype(str)\n",
    "\n",
    "###\n",
    "## Estimate E[Y(1)|T, A]\n",
    "###\n",
    "\n",
    "df_train = pd.read_csv('./df_train.csv')\n",
    "df_stratum_utility = df_train[['R','T','Y']].groupby(['R','T']).mean().reset_index()\n",
    "df_stratum_utility['stratum_utility'] = (df_stratum_utility['Y'] + DIVERSITY_UTILITY * df_stratum_utility['R']).round(2)\n",
    "df_stratum_utility['key'] = df_stratum_utility['R'].astype(str) + \"_\" + df_stratum_utility['T'].astype(str)\n",
    "\n",
    "df = df.merge(df_stratum_utility[['stratum_utility','key']], on='key')\n",
    "df['ml_outcomes'] = df['stratum_utility']"
   ]
  },
  {
   "cell_type": "code",
   "execution_count": 3,
   "metadata": {
    "execution": {
     "iopub.execute_input": "2022-07-18T21:07:39.787315Z",
     "iopub.status.busy": "2022-07-18T21:07:39.786817Z",
     "iopub.status.idle": "2022-07-18T21:07:39.788926Z",
     "shell.execute_reply": "2022-07-18T21:07:39.789372Z"
    },
    "scrolled": true
   },
   "outputs": [],
   "source": [
    "FRAC_ADMIT = 0.5#df[['A']].sum()/len(df)\n"
   ]
  },
  {
   "cell_type": "code",
   "execution_count": 4,
   "metadata": {
    "execution": {
     "iopub.execute_input": "2022-07-18T21:07:39.793613Z",
     "iopub.status.busy": "2022-07-18T21:07:39.793113Z",
     "iopub.status.idle": "2022-07-18T21:07:39.795954Z",
     "shell.execute_reply": "2022-07-18T21:07:39.796370Z"
    }
   },
   "outputs": [
    {
     "data": {
      "text/plain": [
       "0.5"
      ]
     },
     "execution_count": 4,
     "metadata": {},
     "output_type": "execute_result"
    }
   ],
   "source": [
    "FRAC_ADMIT"
   ]
  },
  {
   "cell_type": "code",
   "execution_count": 5,
   "metadata": {
    "execution": {
     "iopub.execute_input": "2022-07-18T21:07:39.799315Z",
     "iopub.status.busy": "2022-07-18T21:07:39.798886Z",
     "iopub.status.idle": "2022-07-18T21:07:39.800619Z",
     "shell.execute_reply": "2022-07-18T21:07:39.801007Z"
    }
   },
   "outputs": [
    {
     "data": {
      "text/plain": [
       "100000"
      ]
     },
     "execution_count": 5,
     "metadata": {},
     "output_type": "execute_result"
    }
   ],
   "source": [
    "len(df)"
   ]
  },
  {
   "cell_type": "code",
   "execution_count": 6,
   "metadata": {
    "execution": {
     "iopub.execute_input": "2022-07-18T21:07:39.804031Z",
     "iopub.status.busy": "2022-07-18T21:07:39.803662Z",
     "iopub.status.idle": "2022-07-18T21:07:39.885756Z",
     "shell.execute_reply": "2022-07-18T21:07:39.886075Z"
    }
   },
   "outputs": [
    {
     "data": {
      "text/plain": [
       "<AxesSubplot:>"
      ]
     },
     "execution_count": 6,
     "metadata": {},
     "output_type": "execute_result"
    },
    {
     "data": {
      "image/png": "[encoded data removed]",
      "text/plain": [
       "<Figure size 432x288 with 1 Axes>"
      ]
     },
     "metadata": {
      "needs_background": "light"
     },
     "output_type": "display_data"
    }
   ],
   "source": [
    "df['ml_outcomes'].hist()"
   ]
  },
  {
   "cell_type": "code",
   "execution_count": 7,
   "metadata": {
    "execution": {
     "iopub.execute_input": "2022-07-18T21:07:39.889727Z",
     "iopub.status.busy": "2022-07-18T21:07:39.889083Z",
     "iopub.status.idle": "2022-07-18T21:07:39.904611Z",
     "shell.execute_reply": "2022-07-18T21:07:39.904941Z"
    }
   },
   "outputs": [
    {
     "data": {
      "text/html": [
       "<div>\n",
       "<style scoped>\n",
       "    .dataframe tbody tr th:only-of-type {\n",
       "        vertical-align: middle;\n",
       "    }\n",
       "\n",
       "    .dataframe tbody tr th {\n",
       "        vertical-align: top;\n",
       "    }\n",
       "\n",
       "    .dataframe thead th {\n",
       "        text-align: right;\n",
       "    }\n",
       "</style>\n",
       "<table border=\"1\" class=\"dataframe\">\n",
       "  <thead>\n",
       "    <tr style=\"text-align: right;\">\n",
       "      <th></th>\n",
       "      <th>R</th>\n",
       "      <th>T</th>\n",
       "      <th>ml_outcomes</th>\n",
       "      <th>T_black</th>\n",
       "      <th>T_white</th>\n",
       "      <th>Y</th>\n",
       "    </tr>\n",
       "  </thead>\n",
       "  <tbody>\n",
       "    <tr>\n",
       "      <th>99985</th>\n",
       "      <td>0</td>\n",
       "      <td>14</td>\n",
       "      <td>0.03</td>\n",
       "      <td>13</td>\n",
       "      <td>14</td>\n",
       "      <td>0</td>\n",
       "    </tr>\n",
       "    <tr>\n",
       "      <th>99986</th>\n",
       "      <td>0</td>\n",
       "      <td>12</td>\n",
       "      <td>0.05</td>\n",
       "      <td>10</td>\n",
       "      <td>12</td>\n",
       "      <td>0</td>\n",
       "    </tr>\n",
       "    <tr>\n",
       "      <th>99935</th>\n",
       "      <td>0</td>\n",
       "      <td>19</td>\n",
       "      <td>0.06</td>\n",
       "      <td>15</td>\n",
       "      <td>19</td>\n",
       "      <td>0</td>\n",
       "    </tr>\n",
       "    <tr>\n",
       "      <th>99928</th>\n",
       "      <td>0</td>\n",
       "      <td>19</td>\n",
       "      <td>0.06</td>\n",
       "      <td>18</td>\n",
       "      <td>19</td>\n",
       "      <td>0</td>\n",
       "    </tr>\n",
       "    <tr>\n",
       "      <th>99929</th>\n",
       "      <td>0</td>\n",
       "      <td>19</td>\n",
       "      <td>0.06</td>\n",
       "      <td>14</td>\n",
       "      <td>19</td>\n",
       "      <td>0</td>\n",
       "    </tr>\n",
       "    <tr>\n",
       "      <th>...</th>\n",
       "      <td>...</td>\n",
       "      <td>...</td>\n",
       "      <td>...</td>\n",
       "      <td>...</td>\n",
       "      <td>...</td>\n",
       "      <td>...</td>\n",
       "    </tr>\n",
       "    <tr>\n",
       "      <th>99977</th>\n",
       "      <td>1</td>\n",
       "      <td>95</td>\n",
       "      <td>1.20</td>\n",
       "      <td>95</td>\n",
       "      <td>109</td>\n",
       "      <td>1</td>\n",
       "    </tr>\n",
       "    <tr>\n",
       "      <th>99994</th>\n",
       "      <td>1</td>\n",
       "      <td>94</td>\n",
       "      <td>1.23</td>\n",
       "      <td>94</td>\n",
       "      <td>108</td>\n",
       "      <td>1</td>\n",
       "    </tr>\n",
       "    <tr>\n",
       "      <th>99914</th>\n",
       "      <td>1</td>\n",
       "      <td>101</td>\n",
       "      <td>1.25</td>\n",
       "      <td>101</td>\n",
       "      <td>116</td>\n",
       "      <td>0</td>\n",
       "    </tr>\n",
       "    <tr>\n",
       "      <th>99996</th>\n",
       "      <td>1</td>\n",
       "      <td>104</td>\n",
       "      <td>1.25</td>\n",
       "      <td>104</td>\n",
       "      <td>121</td>\n",
       "      <td>1</td>\n",
       "    </tr>\n",
       "    <tr>\n",
       "      <th>99974</th>\n",
       "      <td>1</td>\n",
       "      <td>97</td>\n",
       "      <td>1.25</td>\n",
       "      <td>97</td>\n",
       "      <td>114</td>\n",
       "      <td>1</td>\n",
       "    </tr>\n",
       "  </tbody>\n",
       "</table>\n",
       "<p>100000 rows × 6 columns</p>\n",
       "</div>"
      ],
      "text/plain": [
       "       R    T  ml_outcomes  T_black  T_white  Y\n",
       "99985  0   14         0.03       13       14    0\n",
       "99986  0   12         0.05       10       12    0\n",
       "99935  0   19         0.06       15       19    0\n",
       "99928  0   19         0.06       18       19    0\n",
       "99929  0   19         0.06       14       19    0\n",
       "...   ..  ...          ...      ...      ...  ...\n",
       "99977  1   95         1.20       95      109    1\n",
       "99994  1   94         1.23       94      108    1\n",
       "99914  1  101         1.25      101      116    0\n",
       "99996  1  104         1.25      104      121    1\n",
       "99974  1   97         1.25       97      114    1\n",
       "\n",
       "[100000 rows x 6 columns]"
      ]
     },
     "execution_count": 7,
     "metadata": {},
     "output_type": "execute_result"
    }
   ],
   "source": [
    "##\n",
    "# R = race, T = test score, ml_outcomes = expected utility from admitting, \n",
    "# ml_outcomes_{} counterfactual utility given race \n",
    "##\n",
    "\n",
    "df[['R','T','ml_outcomes','T_black','T_white','Y']].sort_values(by='ml_outcomes')\n",
    "\n"
   ]
  },
  {
   "cell_type": "code",
   "execution_count": 8,
   "metadata": {
    "execution": {
     "iopub.execute_input": "2022-07-18T21:07:39.909161Z",
     "iopub.status.busy": "2022-07-18T21:07:39.908792Z",
     "iopub.status.idle": "2022-07-18T21:07:39.914274Z",
     "shell.execute_reply": "2022-07-18T21:07:39.914543Z"
    }
   },
   "outputs": [],
   "source": [
    "###\n",
    "## Get total utility from admitting people in a stratum \n",
    "###\n",
    "\n",
    "df_ = df[['R','T','ml_outcomes']].groupby(['R','T']).sum().reset_index()"
   ]
  },
  {
   "cell_type": "code",
   "execution_count": 9,
   "metadata": {
    "execution": {
     "iopub.execute_input": "2022-07-18T21:07:39.948806Z",
     "iopub.status.busy": "2022-07-18T21:07:39.948358Z",
     "iopub.status.idle": "2022-07-18T21:07:39.953560Z",
     "shell.execute_reply": "2022-07-18T21:07:39.953830Z"
    }
   },
   "outputs": [],
   "source": [
    "###\n",
    "## Get number of people in each stratum\n",
    "###\n",
    "\n",
    "df_count = df[['R','T','ml_outcomes']].groupby(['R','T']).count().reset_index()\n",
    "df_count.columns = ['R','T','Count']\n",
    "df_count['N'] = df_count['Count']"
   ]
  },
  {
   "cell_type": "code",
   "execution_count": 10,
   "metadata": {
    "execution": {
     "iopub.execute_input": "2022-07-18T21:07:39.958314Z",
     "iopub.status.busy": "2022-07-18T21:07:39.957915Z",
     "iopub.status.idle": "2022-07-18T21:07:39.963579Z",
     "shell.execute_reply": "2022-07-18T21:07:39.963946Z"
    }
   },
   "outputs": [],
   "source": [
    "###\n",
    "## Get boards passage probability in each stratum\n",
    "###\n",
    "\n",
    "df_prob = df[['R','T','Y']].groupby(['R','T']).mean().reset_index()\n",
    "df_prob.columns = ['R','T','ml_outcomes_prob']\n",
    "\n",
    "#df_prob = df[['R','T','ml_outcomes_prob']]"
   ]
  },
  {
   "cell_type": "code",
   "execution_count": null,
   "metadata": {},
   "outputs": [],
   "source": []
  },
  {
   "cell_type": "code",
   "execution_count": 11,
   "metadata": {
    "execution": {
     "iopub.execute_input": "2022-07-18T21:07:39.969717Z",
     "iopub.status.busy": "2022-07-18T21:07:39.969130Z",
     "iopub.status.idle": "2022-07-18T21:07:39.973060Z",
     "shell.execute_reply": "2022-07-18T21:07:39.973318Z"
    }
   },
   "outputs": [],
   "source": [
    "###\n",
    "## Merge summary tables to get one table with Race, Test Score, SUM(Utility), COUNT(applicants), E(Y(1)|X )\n",
    "###\n",
    "\n",
    "dff = df_.merge(df_count[['N']],left_index=True,right_index=True)\n",
    "dff = dff.merge(df_prob[['ml_outcomes_prob']],left_index=True,right_index=True).sort_values(by='ml_outcomes',ascending=False).reset_index().sort_values(by='index').reset_index()\n",
    "\n"
   ]
  },
  {
   "cell_type": "code",
   "execution_count": 12,
   "metadata": {
    "execution": {
     "iopub.execute_input": "2022-07-18T21:07:39.983044Z",
     "iopub.status.busy": "2022-07-18T21:07:39.982527Z",
     "iopub.status.idle": "2022-07-18T21:07:39.984469Z",
     "shell.execute_reply": "2022-07-18T21:07:39.984791Z"
    }
   },
   "outputs": [
    {
     "data": {
      "text/html": [
       "<div>\n",
       "<style scoped>\n",
       "    .dataframe tbody tr th:only-of-type {\n",
       "        vertical-align: middle;\n",
       "    }\n",
       "\n",
       "    .dataframe tbody tr th {\n",
       "        vertical-align: top;\n",
       "    }\n",
       "\n",
       "    .dataframe thead th {\n",
       "        text-align: right;\n",
       "    }\n",
       "</style>\n",
       "<table border=\"1\" class=\"dataframe\">\n",
       "  <thead>\n",
       "    <tr style=\"text-align: right;\">\n",
       "      <th></th>\n",
       "      <th>level_0</th>\n",
       "      <th>index</th>\n",
       "      <th>R</th>\n",
       "      <th>T</th>\n",
       "      <th>ml_outcomes</th>\n",
       "      <th>N</th>\n",
       "      <th>ml_outcomes_prob</th>\n",
       "    </tr>\n",
       "  </thead>\n",
       "  <tbody>\n",
       "    <tr>\n",
       "      <th>0</th>\n",
       "      <td>191</td>\n",
       "      <td>0</td>\n",
       "      <td>0</td>\n",
       "      <td>12</td>\n",
       "      <td>0.05</td>\n",
       "      <td>1</td>\n",
       "      <td>0.0</td>\n",
       "    </tr>\n",
       "    <tr>\n",
       "      <th>1</th>\n",
       "      <td>192</td>\n",
       "      <td>1</td>\n",
       "      <td>0</td>\n",
       "      <td>14</td>\n",
       "      <td>0.03</td>\n",
       "      <td>1</td>\n",
       "      <td>0.0</td>\n",
       "    </tr>\n",
       "    <tr>\n",
       "      <th>104</th>\n",
       "      <td>187</td>\n",
       "      <td>104</td>\n",
       "      <td>1</td>\n",
       "      <td>5</td>\n",
       "      <td>0.25</td>\n",
       "      <td>1</td>\n",
       "      <td>0.0</td>\n",
       "    </tr>\n",
       "    <tr>\n",
       "      <th>105</th>\n",
       "      <td>188</td>\n",
       "      <td>105</td>\n",
       "      <td>1</td>\n",
       "      <td>8</td>\n",
       "      <td>0.25</td>\n",
       "      <td>1</td>\n",
       "      <td>0.0</td>\n",
       "    </tr>\n",
       "    <tr>\n",
       "      <th>4</th>\n",
       "      <td>185</td>\n",
       "      <td>4</td>\n",
       "      <td>0</td>\n",
       "      <td>17</td>\n",
       "      <td>0.28</td>\n",
       "      <td>4</td>\n",
       "      <td>0.0</td>\n",
       "    </tr>\n",
       "    <tr>\n",
       "      <th>...</th>\n",
       "      <td>...</td>\n",
       "      <td>...</td>\n",
       "      <td>...</td>\n",
       "      <td>...</td>\n",
       "      <td>...</td>\n",
       "      <td>...</td>\n",
       "      <td>...</td>\n",
       "    </tr>\n",
       "    <tr>\n",
       "      <th>99</th>\n",
       "      <td>160</td>\n",
       "      <td>99</td>\n",
       "      <td>0</td>\n",
       "      <td>112</td>\n",
       "      <td>3.00</td>\n",
       "      <td>3</td>\n",
       "      <td>1.0</td>\n",
       "    </tr>\n",
       "    <tr>\n",
       "      <th>100</th>\n",
       "      <td>165</td>\n",
       "      <td>100</td>\n",
       "      <td>0</td>\n",
       "      <td>113</td>\n",
       "      <td>2.00</td>\n",
       "      <td>2</td>\n",
       "      <td>1.0</td>\n",
       "    </tr>\n",
       "    <tr>\n",
       "      <th>101</th>\n",
       "      <td>175</td>\n",
       "      <td>101</td>\n",
       "      <td>0</td>\n",
       "      <td>114</td>\n",
       "      <td>1.00</td>\n",
       "      <td>1</td>\n",
       "      <td>1.0</td>\n",
       "    </tr>\n",
       "    <tr>\n",
       "      <th>103</th>\n",
       "      <td>176</td>\n",
       "      <td>103</td>\n",
       "      <td>0</td>\n",
       "      <td>117</td>\n",
       "      <td>0.99</td>\n",
       "      <td>1</td>\n",
       "      <td>1.0</td>\n",
       "    </tr>\n",
       "    <tr>\n",
       "      <th>192</th>\n",
       "      <td>169</td>\n",
       "      <td>192</td>\n",
       "      <td>1</td>\n",
       "      <td>104</td>\n",
       "      <td>1.25</td>\n",
       "      <td>1</td>\n",
       "      <td>1.0</td>\n",
       "    </tr>\n",
       "  </tbody>\n",
       "</table>\n",
       "<p>193 rows × 7 columns</p>\n",
       "</div>"
      ],
      "text/plain": [
       "     level_0  index  R    T  ml_outcomes  N  ml_outcomes_prob\n",
       "0        191      0  0   12         0.05  1               0.0\n",
       "1        192      1  0   14         0.03  1               0.0\n",
       "104      187    104  1    5         0.25  1               0.0\n",
       "105      188    105  1    8         0.25  1               0.0\n",
       "4        185      4  0   17         0.28  4               0.0\n",
       "..       ...    ... ..  ...          ... ..               ...\n",
       "99       160     99  0  112         3.00  3               1.0\n",
       "100      165    100  0  113         2.00  2               1.0\n",
       "101      175    101  0  114         1.00  1               1.0\n",
       "103      176    103  0  117         0.99  1               1.0\n",
       "192      169    192  1  104         1.25  1               1.0\n",
       "\n",
       "[193 rows x 7 columns]"
      ]
     },
     "execution_count": 12,
     "metadata": {},
     "output_type": "execute_result"
    }
   ],
   "source": [
    "# final info table\n",
    "dff.sort_values(by='ml_outcomes_prob')"
   ]
  },
  {
   "cell_type": "code",
   "execution_count": 13,
   "metadata": {
    "execution": {
     "iopub.execute_input": "2022-07-18T21:07:39.989778Z",
     "iopub.status.busy": "2022-07-18T21:07:39.989051Z",
     "iopub.status.idle": "2022-07-18T21:07:39.990702Z",
     "shell.execute_reply": "2022-07-18T21:07:39.991197Z"
    }
   },
   "outputs": [],
   "source": [
    "dff['Pr(X=X_j)'] = dff['N']/(dff['N']).sum()"
   ]
  },
  {
   "cell_type": "code",
   "execution_count": 14,
   "metadata": {
    "execution": {
     "iopub.execute_input": "2022-07-18T21:07:40.001754Z",
     "iopub.status.busy": "2022-07-18T21:07:40.001268Z",
     "iopub.status.idle": "2022-07-18T21:07:40.003412Z",
     "shell.execute_reply": "2022-07-18T21:07:40.003679Z"
    }
   },
   "outputs": [
    {
     "data": {
      "text/html": [
       "<div>\n",
       "<style scoped>\n",
       "    .dataframe tbody tr th:only-of-type {\n",
       "        vertical-align: middle;\n",
       "    }\n",
       "\n",
       "    .dataframe tbody tr th {\n",
       "        vertical-align: top;\n",
       "    }\n",
       "\n",
       "    .dataframe thead th {\n",
       "        text-align: right;\n",
       "    }\n",
       "</style>\n",
       "<table border=\"1\" class=\"dataframe\">\n",
       "  <thead>\n",
       "    <tr style=\"text-align: right;\">\n",
       "      <th></th>\n",
       "      <th>level_0</th>\n",
       "      <th>index</th>\n",
       "      <th>R</th>\n",
       "      <th>T</th>\n",
       "      <th>ml_outcomes</th>\n",
       "      <th>N</th>\n",
       "      <th>ml_outcomes_prob</th>\n",
       "      <th>Pr(X=X_j)</th>\n",
       "    </tr>\n",
       "  </thead>\n",
       "  <tbody>\n",
       "    <tr>\n",
       "      <th>104</th>\n",
       "      <td>187</td>\n",
       "      <td>104</td>\n",
       "      <td>1</td>\n",
       "      <td>5</td>\n",
       "      <td>0.25</td>\n",
       "      <td>1</td>\n",
       "      <td>0.0</td>\n",
       "      <td>0.00001</td>\n",
       "    </tr>\n",
       "    <tr>\n",
       "      <th>105</th>\n",
       "      <td>188</td>\n",
       "      <td>105</td>\n",
       "      <td>1</td>\n",
       "      <td>8</td>\n",
       "      <td>0.25</td>\n",
       "      <td>1</td>\n",
       "      <td>0.0</td>\n",
       "      <td>0.00001</td>\n",
       "    </tr>\n",
       "    <tr>\n",
       "      <th>106</th>\n",
       "      <td>181</td>\n",
       "      <td>106</td>\n",
       "      <td>1</td>\n",
       "      <td>10</td>\n",
       "      <td>0.54</td>\n",
       "      <td>2</td>\n",
       "      <td>0.0</td>\n",
       "      <td>0.00002</td>\n",
       "    </tr>\n",
       "    <tr>\n",
       "      <th>107</th>\n",
       "      <td>186</td>\n",
       "      <td>107</td>\n",
       "      <td>1</td>\n",
       "      <td>13</td>\n",
       "      <td>0.27</td>\n",
       "      <td>1</td>\n",
       "      <td>0.0</td>\n",
       "      <td>0.00001</td>\n",
       "    </tr>\n",
       "    <tr>\n",
       "      <th>108</th>\n",
       "      <td>180</td>\n",
       "      <td>108</td>\n",
       "      <td>1</td>\n",
       "      <td>14</td>\n",
       "      <td>0.78</td>\n",
       "      <td>3</td>\n",
       "      <td>0.0</td>\n",
       "      <td>0.00003</td>\n",
       "    </tr>\n",
       "    <tr>\n",
       "      <th>...</th>\n",
       "      <td>...</td>\n",
       "      <td>...</td>\n",
       "      <td>...</td>\n",
       "      <td>...</td>\n",
       "      <td>...</td>\n",
       "      <td>...</td>\n",
       "      <td>...</td>\n",
       "      <td>...</td>\n",
       "    </tr>\n",
       "    <tr>\n",
       "      <th>188</th>\n",
       "      <td>170</td>\n",
       "      <td>188</td>\n",
       "      <td>1</td>\n",
       "      <td>94</td>\n",
       "      <td>1.23</td>\n",
       "      <td>1</td>\n",
       "      <td>1.0</td>\n",
       "      <td>0.00001</td>\n",
       "    </tr>\n",
       "    <tr>\n",
       "      <th>189</th>\n",
       "      <td>172</td>\n",
       "      <td>189</td>\n",
       "      <td>1</td>\n",
       "      <td>95</td>\n",
       "      <td>1.20</td>\n",
       "      <td>1</td>\n",
       "      <td>1.0</td>\n",
       "      <td>0.00001</td>\n",
       "    </tr>\n",
       "    <tr>\n",
       "      <th>190</th>\n",
       "      <td>167</td>\n",
       "      <td>190</td>\n",
       "      <td>1</td>\n",
       "      <td>97</td>\n",
       "      <td>1.25</td>\n",
       "      <td>1</td>\n",
       "      <td>1.0</td>\n",
       "      <td>0.00001</td>\n",
       "    </tr>\n",
       "    <tr>\n",
       "      <th>191</th>\n",
       "      <td>168</td>\n",
       "      <td>191</td>\n",
       "      <td>1</td>\n",
       "      <td>101</td>\n",
       "      <td>1.25</td>\n",
       "      <td>1</td>\n",
       "      <td>0.0</td>\n",
       "      <td>0.00001</td>\n",
       "    </tr>\n",
       "    <tr>\n",
       "      <th>192</th>\n",
       "      <td>169</td>\n",
       "      <td>192</td>\n",
       "      <td>1</td>\n",
       "      <td>104</td>\n",
       "      <td>1.25</td>\n",
       "      <td>1</td>\n",
       "      <td>1.0</td>\n",
       "      <td>0.00001</td>\n",
       "    </tr>\n",
       "  </tbody>\n",
       "</table>\n",
       "<p>89 rows × 8 columns</p>\n",
       "</div>"
      ],
      "text/plain": [
       "     level_0  index  R    T  ml_outcomes  N  ml_outcomes_prob  Pr(X=X_j)\n",
       "104      187    104  1    5         0.25  1               0.0    0.00001\n",
       "105      188    105  1    8         0.25  1               0.0    0.00001\n",
       "106      181    106  1   10         0.54  2               0.0    0.00002\n",
       "107      186    107  1   13         0.27  1               0.0    0.00001\n",
       "108      180    108  1   14         0.78  3               0.0    0.00003\n",
       "..       ...    ... ..  ...          ... ..               ...        ...\n",
       "188      170    188  1   94         1.23  1               1.0    0.00001\n",
       "189      172    189  1   95         1.20  1               1.0    0.00001\n",
       "190      167    190  1   97         1.25  1               1.0    0.00001\n",
       "191      168    191  1  101         1.25  1               0.0    0.00001\n",
       "192      169    192  1  104         1.25  1               1.0    0.00001\n",
       "\n",
       "[89 rows x 8 columns]"
      ]
     },
     "execution_count": 14,
     "metadata": {},
     "output_type": "execute_result"
    }
   ],
   "source": [
    "dff[dff['R']==1].sort_values(by='T')"
   ]
  },
  {
   "cell_type": "code",
   "execution_count": 15,
   "metadata": {
    "execution": {
     "iopub.execute_input": "2022-07-18T21:07:40.285080Z",
     "iopub.status.busy": "2022-07-18T21:07:40.166471Z",
     "iopub.status.idle": "2022-07-18T21:07:41.363236Z",
     "shell.execute_reply": "2022-07-18T21:07:41.363568Z"
    },
    "scrolled": true
   },
   "outputs": [
    {
     "name": "stdout",
     "output_type": "stream",
     "text": [
      "0.27 31584.831784590406\n",
      "0.28 31803.248764272834\n",
      "0.29 31880.757040619654\n",
      "0.3 31907.21875464702\n",
      "0.31 31925.628680036072\n",
      "0.32 31969.624459791852\n",
      "0.33 32020.41697372351\n",
      "0.34 32071.109023565816\n",
      "0.35000000000000003 32102.465774032826\n",
      "0.36 32136.45102019305\n",
      "0.37 32150.575734413476\n",
      "0.38 32158.537380970516\n",
      "0.39 32152.23488181216\n",
      "0.4 32128.27819758523\n",
      "0.41000000000000003 31995.074260581347\n",
      "0.42 31562.459715276145\n",
      "0.43 31110.6857089181\n",
      "0.44 30648.06095361035\n",
      "0.45 30177.847152691436\n",
      "0.46 29688.05697406137\n",
      "0.47000000000000003 29195.009061397228\n",
      "0.48 28699.19273578506\n",
      "0.49 28199.837089579978\n",
      "0.5 27697.883323038062\n",
      "0.51 27194.58750703555\n",
      "0.52 26690.369017294015\n",
      "0.53 26181.03034745774\n",
      "0.54 25665.959158013637\n",
      "0.55 25143.37763243166\n",
      "0.56 24616.018925500797\n",
      "0.5700000000000001 24079.485947482855\n",
      "0.58 23483.299889483806\n",
      "0.59 22617.81531546262\n",
      "0.6 21656.819678321684\n",
      "0.61 20688.56141019018\n"
     ]
    }
   ],
   "source": [
    "df_decisions = None\n",
    "max_utility = -1.0\n",
    "\n",
    "for C_y in np.linspace(0.0,1.0,101):\n",
    "    dff['alpha_j'] = dff['Pr(X=X_j)']* (dff['ml_outcomes_prob'] - C_y)\n",
    "    solver = pywraplp.Solver.CreateSolver('GLOP')\n",
    "\n",
    "    \n",
    "    applicant_stratum = []\n",
    "    vars_cache = {}\n",
    "    alpha_j = {}\n",
    "    \n",
    "    # Objective: Maximize the expected utility of the admitted students\n",
    "    objective = solver.Objective()\n",
    "    \n",
    "    # For each stratum\n",
    "    for ix, row in dff.iterrows():\n",
    "        # probability of admission\n",
    "        numvar = solver.NumVar(0.0, 1.0, str(ix))\n",
    "        \n",
    "        # store variable by index, and also by stratum R, T\n",
    "        applicant_stratum.append(numvar)\n",
    "        vars_cache[(row['R'],row['T'])] = numvar\n",
    "        \n",
    "        alpha_j[(row['R'],row['T'])] = row['alpha_j']\n",
    "        \n",
    "        # Benefit of admitting people is total utility in that stratum\n",
    "        objective.SetCoefficient(applicant_stratum[ix], float(row['ml_outcomes']))\n",
    "        \n",
    "    objective.SetMaximization()\n",
    "\n",
    "    # Constraint: At most K applicants\n",
    "    K = int(len(df)*FRAC_ADMIT)\n",
    "    admit_quota = solver.Constraint(0, K)\n",
    "    \n",
    "    # Total admits cannot exceed K \n",
    "    for ix, row in dff.iterrows():\n",
    "        admit_quota.SetCoefficient(applicant_stratum[ix], float(row['N']))\n",
    "    \n",
    "    \n",
    "    sum_alpha = 0\n",
    "    R = 1 \n",
    "    \n",
    "    for T in list(dff[dff['R']==R]['T']):\n",
    "        sum_alpha+= alpha_j[(R,T)] \n",
    "        \n",
    "    cf_black = solver.Constraint(sum_alpha, sum_alpha)\n",
    "    \n",
    "    for T in list(dff[dff['R']==R]['T']):    \n",
    "        cf_black.SetCoefficient(vars_cache[(R,T)], alpha_j[(R,T)] )    \n",
    "    \n",
    "    sum_alpha = 0\n",
    "    R = 0\n",
    "    \n",
    "    for T in list(dff[dff['R']==R]['T']):\n",
    "        sum_alpha+= alpha_j[(R,T)] \n",
    "        \n",
    "    cf_white = solver.Constraint(sum_alpha, sum_alpha)\n",
    "    \n",
    "    for T in list(dff[dff['R']==R]['T']):    \n",
    "        cf_white.SetCoefficient(vars_cache[(R,T)], alpha_j[(R,T)] )\n",
    "        \n",
    "    status = solver.Solve()\n",
    "\n",
    "    if status != 2:\n",
    "        TOTAL_UTILITY = 0\n",
    "        for ix, row in dff.iterrows():\n",
    "            TOTAL_UTILITY += float(row['ml_outcomes'])* vars_cache[(row['R'],row['T'])].solution_value()\n",
    "        print(C_y,TOTAL_UTILITY)\n",
    "        \n",
    "        if TOTAL_UTILITY > max_utility:\n",
    "            row = []\n",
    "            admit = []\n",
    "        \n",
    "            for i in applicant_stratum:\n",
    "                row.append(int(str(i)))\n",
    "                admit.append(i.solution_value())\n",
    "            \n",
    "            df_decisions = pd.DataFrame({'row_id':row,'decision':admit})\n",
    "            \n",
    "            max_utility = TOTAL_UTILITY\n"
   ]
  },
  {
   "cell_type": "markdown",
   "metadata": {},
   "source": [
    "## Add CF Predictive Parity Constraints"
   ]
  },
  {
   "cell_type": "code",
   "execution_count": 16,
   "metadata": {
    "execution": {
     "iopub.execute_input": "2022-07-18T21:07:41.366485Z",
     "iopub.status.busy": "2022-07-18T21:07:41.366047Z",
     "iopub.status.idle": "2022-07-18T21:07:41.368008Z",
     "shell.execute_reply": "2022-07-18T21:07:41.368281Z"
    }
   },
   "outputs": [
    {
     "data": {
      "text/plain": [
       "32158.537380970516"
      ]
     },
     "execution_count": 16,
     "metadata": {},
     "output_type": "execute_result"
    }
   ],
   "source": [
    "max_utility"
   ]
  },
  {
   "cell_type": "code",
   "execution_count": 17,
   "metadata": {
    "execution": {
     "iopub.execute_input": "2022-07-18T21:07:41.378568Z",
     "iopub.status.busy": "2022-07-18T21:07:41.378109Z",
     "iopub.status.idle": "2022-07-18T21:07:41.379632Z",
     "shell.execute_reply": "2022-07-18T21:07:41.379910Z"
    }
   },
   "outputs": [
    {
     "data": {
      "text/html": [
       "<div>\n",
       "<style scoped>\n",
       "    .dataframe tbody tr th:only-of-type {\n",
       "        vertical-align: middle;\n",
       "    }\n",
       "\n",
       "    .dataframe tbody tr th {\n",
       "        vertical-align: top;\n",
       "    }\n",
       "\n",
       "    .dataframe thead th {\n",
       "        text-align: right;\n",
       "    }\n",
       "</style>\n",
       "<table border=\"1\" class=\"dataframe\">\n",
       "  <thead>\n",
       "    <tr style=\"text-align: right;\">\n",
       "      <th></th>\n",
       "      <th>level_0</th>\n",
       "      <th>index</th>\n",
       "      <th>R</th>\n",
       "      <th>T</th>\n",
       "      <th>ml_outcomes</th>\n",
       "      <th>N</th>\n",
       "      <th>ml_outcomes_prob</th>\n",
       "      <th>Pr(X=X_j)</th>\n",
       "      <th>alpha_j</th>\n",
       "      <th>row_id</th>\n",
       "      <th>decision</th>\n",
       "    </tr>\n",
       "  </thead>\n",
       "  <tbody>\n",
       "    <tr>\n",
       "      <th>46</th>\n",
       "      <td>0</td>\n",
       "      <td>46</td>\n",
       "      <td>0</td>\n",
       "      <td>59</td>\n",
       "      <td>1125.20</td>\n",
       "      <td>1940</td>\n",
       "      <td>0.589691</td>\n",
       "      <td>0.01940</td>\n",
       "      <td>-0.00796</td>\n",
       "      <td>46</td>\n",
       "      <td>0.000000</td>\n",
       "    </tr>\n",
       "    <tr>\n",
       "      <th>43</th>\n",
       "      <td>1</td>\n",
       "      <td>43</td>\n",
       "      <td>0</td>\n",
       "      <td>56</td>\n",
       "      <td>1105.00</td>\n",
       "      <td>2125</td>\n",
       "      <td>0.525176</td>\n",
       "      <td>0.02125</td>\n",
       "      <td>-0.01009</td>\n",
       "      <td>43</td>\n",
       "      <td>0.000000</td>\n",
       "    </tr>\n",
       "    <tr>\n",
       "      <th>47</th>\n",
       "      <td>2</td>\n",
       "      <td>47</td>\n",
       "      <td>0</td>\n",
       "      <td>60</td>\n",
       "      <td>1092.00</td>\n",
       "      <td>1820</td>\n",
       "      <td>0.626923</td>\n",
       "      <td>0.01820</td>\n",
       "      <td>-0.00679</td>\n",
       "      <td>47</td>\n",
       "      <td>0.918291</td>\n",
       "    </tr>\n",
       "    <tr>\n",
       "      <th>45</th>\n",
       "      <td>3</td>\n",
       "      <td>45</td>\n",
       "      <td>0</td>\n",
       "      <td>58</td>\n",
       "      <td>1083.04</td>\n",
       "      <td>1934</td>\n",
       "      <td>0.569286</td>\n",
       "      <td>0.01934</td>\n",
       "      <td>-0.00833</td>\n",
       "      <td>45</td>\n",
       "      <td>0.000000</td>\n",
       "    </tr>\n",
       "    <tr>\n",
       "      <th>44</th>\n",
       "      <td>4</td>\n",
       "      <td>44</td>\n",
       "      <td>0</td>\n",
       "      <td>57</td>\n",
       "      <td>1071.36</td>\n",
       "      <td>1984</td>\n",
       "      <td>0.534778</td>\n",
       "      <td>0.01984</td>\n",
       "      <td>-0.00923</td>\n",
       "      <td>44</td>\n",
       "      <td>0.000000</td>\n",
       "    </tr>\n",
       "    <tr>\n",
       "      <th>...</th>\n",
       "      <td>...</td>\n",
       "      <td>...</td>\n",
       "      <td>...</td>\n",
       "      <td>...</td>\n",
       "      <td>...</td>\n",
       "      <td>...</td>\n",
       "      <td>...</td>\n",
       "      <td>...</td>\n",
       "      <td>...</td>\n",
       "      <td>...</td>\n",
       "      <td>...</td>\n",
       "    </tr>\n",
       "    <tr>\n",
       "      <th>105</th>\n",
       "      <td>188</td>\n",
       "      <td>105</td>\n",
       "      <td>1</td>\n",
       "      <td>8</td>\n",
       "      <td>0.25</td>\n",
       "      <td>1</td>\n",
       "      <td>0.000000</td>\n",
       "      <td>0.00001</td>\n",
       "      <td>-0.00001</td>\n",
       "      <td>105</td>\n",
       "      <td>1.000000</td>\n",
       "    </tr>\n",
       "    <tr>\n",
       "      <th>2</th>\n",
       "      <td>189</td>\n",
       "      <td>2</td>\n",
       "      <td>0</td>\n",
       "      <td>15</td>\n",
       "      <td>0.18</td>\n",
       "      <td>2</td>\n",
       "      <td>0.500000</td>\n",
       "      <td>0.00002</td>\n",
       "      <td>-0.00001</td>\n",
       "      <td>2</td>\n",
       "      <td>0.000000</td>\n",
       "    </tr>\n",
       "    <tr>\n",
       "      <th>3</th>\n",
       "      <td>190</td>\n",
       "      <td>3</td>\n",
       "      <td>0</td>\n",
       "      <td>16</td>\n",
       "      <td>0.14</td>\n",
       "      <td>2</td>\n",
       "      <td>0.500000</td>\n",
       "      <td>0.00002</td>\n",
       "      <td>-0.00001</td>\n",
       "      <td>3</td>\n",
       "      <td>0.000000</td>\n",
       "    </tr>\n",
       "    <tr>\n",
       "      <th>0</th>\n",
       "      <td>191</td>\n",
       "      <td>0</td>\n",
       "      <td>0</td>\n",
       "      <td>12</td>\n",
       "      <td>0.05</td>\n",
       "      <td>1</td>\n",
       "      <td>0.000000</td>\n",
       "      <td>0.00001</td>\n",
       "      <td>-0.00001</td>\n",
       "      <td>0</td>\n",
       "      <td>0.000000</td>\n",
       "    </tr>\n",
       "    <tr>\n",
       "      <th>1</th>\n",
       "      <td>192</td>\n",
       "      <td>1</td>\n",
       "      <td>0</td>\n",
       "      <td>14</td>\n",
       "      <td>0.03</td>\n",
       "      <td>1</td>\n",
       "      <td>0.000000</td>\n",
       "      <td>0.00001</td>\n",
       "      <td>-0.00001</td>\n",
       "      <td>1</td>\n",
       "      <td>0.000000</td>\n",
       "    </tr>\n",
       "  </tbody>\n",
       "</table>\n",
       "<p>193 rows × 11 columns</p>\n",
       "</div>"
      ],
      "text/plain": [
       "     level_0  index  R   T  ml_outcomes     N  ml_outcomes_prob  Pr(X=X_j)  \\\n",
       "46         0     46  0  59      1125.20  1940          0.589691    0.01940   \n",
       "43         1     43  0  56      1105.00  2125          0.525176    0.02125   \n",
       "47         2     47  0  60      1092.00  1820          0.626923    0.01820   \n",
       "45         3     45  0  58      1083.04  1934          0.569286    0.01934   \n",
       "44         4     44  0  57      1071.36  1984          0.534778    0.01984   \n",
       "..       ...    ... ..  ..          ...   ...               ...        ...   \n",
       "105      188    105  1   8         0.25     1          0.000000    0.00001   \n",
       "2        189      2  0  15         0.18     2          0.500000    0.00002   \n",
       "3        190      3  0  16         0.14     2          0.500000    0.00002   \n",
       "0        191      0  0  12         0.05     1          0.000000    0.00001   \n",
       "1        192      1  0  14         0.03     1          0.000000    0.00001   \n",
       "\n",
       "     alpha_j  row_id  decision  \n",
       "46  -0.00796      46  0.000000  \n",
       "43  -0.01009      43  0.000000  \n",
       "47  -0.00679      47  0.918291  \n",
       "45  -0.00833      45  0.000000  \n",
       "44  -0.00923      44  0.000000  \n",
       "..       ...     ...       ...  \n",
       "105 -0.00001     105  1.000000  \n",
       "2   -0.00001       2  0.000000  \n",
       "3   -0.00001       3  0.000000  \n",
       "0   -0.00001       0  0.000000  \n",
       "1   -0.00001       1  0.000000  \n",
       "\n",
       "[193 rows x 11 columns]"
      ]
     },
     "execution_count": 17,
     "metadata": {},
     "output_type": "execute_result"
    }
   ],
   "source": [
    "dff.merge(df_decisions,left_index=True,right_index=True).sort_values(by='ml_outcomes',ascending=False)"
   ]
  },
  {
   "cell_type": "code",
   "execution_count": 18,
   "metadata": {
    "execution": {
     "iopub.execute_input": "2022-07-18T21:07:41.391387Z",
     "iopub.status.busy": "2022-07-18T21:07:41.390937Z",
     "iopub.status.idle": "2022-07-18T21:07:41.392626Z",
     "shell.execute_reply": "2022-07-18T21:07:41.392999Z"
    }
   },
   "outputs": [
    {
     "data": {
      "text/html": [
       "<div>\n",
       "<style scoped>\n",
       "    .dataframe tbody tr th:only-of-type {\n",
       "        vertical-align: middle;\n",
       "    }\n",
       "\n",
       "    .dataframe tbody tr th {\n",
       "        vertical-align: top;\n",
       "    }\n",
       "\n",
       "    .dataframe thead th {\n",
       "        text-align: right;\n",
       "    }\n",
       "</style>\n",
       "<table border=\"1\" class=\"dataframe\">\n",
       "  <thead>\n",
       "    <tr style=\"text-align: right;\">\n",
       "      <th></th>\n",
       "      <th>level_0</th>\n",
       "      <th>index</th>\n",
       "      <th>R</th>\n",
       "      <th>T</th>\n",
       "      <th>ml_outcomes</th>\n",
       "      <th>N</th>\n",
       "      <th>ml_outcomes_prob</th>\n",
       "      <th>Pr(X=X_j)</th>\n",
       "      <th>alpha_j</th>\n",
       "      <th>row_id</th>\n",
       "      <th>decision</th>\n",
       "    </tr>\n",
       "  </thead>\n",
       "  <tbody>\n",
       "    <tr>\n",
       "      <th>104</th>\n",
       "      <td>187</td>\n",
       "      <td>104</td>\n",
       "      <td>1</td>\n",
       "      <td>5</td>\n",
       "      <td>0.25</td>\n",
       "      <td>1</td>\n",
       "      <td>0.0</td>\n",
       "      <td>0.00001</td>\n",
       "      <td>-0.00001</td>\n",
       "      <td>104</td>\n",
       "      <td>1.0</td>\n",
       "    </tr>\n",
       "    <tr>\n",
       "      <th>105</th>\n",
       "      <td>188</td>\n",
       "      <td>105</td>\n",
       "      <td>1</td>\n",
       "      <td>8</td>\n",
       "      <td>0.25</td>\n",
       "      <td>1</td>\n",
       "      <td>0.0</td>\n",
       "      <td>0.00001</td>\n",
       "      <td>-0.00001</td>\n",
       "      <td>105</td>\n",
       "      <td>1.0</td>\n",
       "    </tr>\n",
       "    <tr>\n",
       "      <th>106</th>\n",
       "      <td>181</td>\n",
       "      <td>106</td>\n",
       "      <td>1</td>\n",
       "      <td>10</td>\n",
       "      <td>0.54</td>\n",
       "      <td>2</td>\n",
       "      <td>0.0</td>\n",
       "      <td>0.00002</td>\n",
       "      <td>-0.00002</td>\n",
       "      <td>106</td>\n",
       "      <td>1.0</td>\n",
       "    </tr>\n",
       "    <tr>\n",
       "      <th>0</th>\n",
       "      <td>191</td>\n",
       "      <td>0</td>\n",
       "      <td>0</td>\n",
       "      <td>12</td>\n",
       "      <td>0.05</td>\n",
       "      <td>1</td>\n",
       "      <td>0.0</td>\n",
       "      <td>0.00001</td>\n",
       "      <td>-0.00001</td>\n",
       "      <td>0</td>\n",
       "      <td>0.0</td>\n",
       "    </tr>\n",
       "    <tr>\n",
       "      <th>107</th>\n",
       "      <td>186</td>\n",
       "      <td>107</td>\n",
       "      <td>1</td>\n",
       "      <td>13</td>\n",
       "      <td>0.27</td>\n",
       "      <td>1</td>\n",
       "      <td>0.0</td>\n",
       "      <td>0.00001</td>\n",
       "      <td>-0.00001</td>\n",
       "      <td>107</td>\n",
       "      <td>1.0</td>\n",
       "    </tr>\n",
       "    <tr>\n",
       "      <th>...</th>\n",
       "      <td>...</td>\n",
       "      <td>...</td>\n",
       "      <td>...</td>\n",
       "      <td>...</td>\n",
       "      <td>...</td>\n",
       "      <td>...</td>\n",
       "      <td>...</td>\n",
       "      <td>...</td>\n",
       "      <td>...</td>\n",
       "      <td>...</td>\n",
       "      <td>...</td>\n",
       "    </tr>\n",
       "    <tr>\n",
       "      <th>99</th>\n",
       "      <td>160</td>\n",
       "      <td>99</td>\n",
       "      <td>0</td>\n",
       "      <td>112</td>\n",
       "      <td>3.00</td>\n",
       "      <td>3</td>\n",
       "      <td>1.0</td>\n",
       "      <td>0.00003</td>\n",
       "      <td>0.00000</td>\n",
       "      <td>99</td>\n",
       "      <td>1.0</td>\n",
       "    </tr>\n",
       "    <tr>\n",
       "      <th>100</th>\n",
       "      <td>165</td>\n",
       "      <td>100</td>\n",
       "      <td>0</td>\n",
       "      <td>113</td>\n",
       "      <td>2.00</td>\n",
       "      <td>2</td>\n",
       "      <td>1.0</td>\n",
       "      <td>0.00002</td>\n",
       "      <td>0.00000</td>\n",
       "      <td>100</td>\n",
       "      <td>1.0</td>\n",
       "    </tr>\n",
       "    <tr>\n",
       "      <th>101</th>\n",
       "      <td>175</td>\n",
       "      <td>101</td>\n",
       "      <td>0</td>\n",
       "      <td>114</td>\n",
       "      <td>1.00</td>\n",
       "      <td>1</td>\n",
       "      <td>1.0</td>\n",
       "      <td>0.00001</td>\n",
       "      <td>0.00000</td>\n",
       "      <td>101</td>\n",
       "      <td>1.0</td>\n",
       "    </tr>\n",
       "    <tr>\n",
       "      <th>102</th>\n",
       "      <td>177</td>\n",
       "      <td>102</td>\n",
       "      <td>0</td>\n",
       "      <td>116</td>\n",
       "      <td>0.99</td>\n",
       "      <td>1</td>\n",
       "      <td>1.0</td>\n",
       "      <td>0.00001</td>\n",
       "      <td>0.00000</td>\n",
       "      <td>102</td>\n",
       "      <td>1.0</td>\n",
       "    </tr>\n",
       "    <tr>\n",
       "      <th>103</th>\n",
       "      <td>176</td>\n",
       "      <td>103</td>\n",
       "      <td>0</td>\n",
       "      <td>117</td>\n",
       "      <td>0.99</td>\n",
       "      <td>1</td>\n",
       "      <td>1.0</td>\n",
       "      <td>0.00001</td>\n",
       "      <td>0.00000</td>\n",
       "      <td>103</td>\n",
       "      <td>1.0</td>\n",
       "    </tr>\n",
       "  </tbody>\n",
       "</table>\n",
       "<p>193 rows × 11 columns</p>\n",
       "</div>"
      ],
      "text/plain": [
       "     level_0  index  R    T  ml_outcomes  N  ml_outcomes_prob  Pr(X=X_j)  \\\n",
       "104      187    104  1    5         0.25  1               0.0    0.00001   \n",
       "105      188    105  1    8         0.25  1               0.0    0.00001   \n",
       "106      181    106  1   10         0.54  2               0.0    0.00002   \n",
       "0        191      0  0   12         0.05  1               0.0    0.00001   \n",
       "107      186    107  1   13         0.27  1               0.0    0.00001   \n",
       "..       ...    ... ..  ...          ... ..               ...        ...   \n",
       "99       160     99  0  112         3.00  3               1.0    0.00003   \n",
       "100      165    100  0  113         2.00  2               1.0    0.00002   \n",
       "101      175    101  0  114         1.00  1               1.0    0.00001   \n",
       "102      177    102  0  116         0.99  1               1.0    0.00001   \n",
       "103      176    103  0  117         0.99  1               1.0    0.00001   \n",
       "\n",
       "     alpha_j  row_id  decision  \n",
       "104 -0.00001     104       1.0  \n",
       "105 -0.00001     105       1.0  \n",
       "106 -0.00002     106       1.0  \n",
       "0   -0.00001       0       0.0  \n",
       "107 -0.00001     107       1.0  \n",
       "..       ...     ...       ...  \n",
       "99   0.00000      99       1.0  \n",
       "100  0.00000     100       1.0  \n",
       "101  0.00000     101       1.0  \n",
       "102  0.00000     102       1.0  \n",
       "103  0.00000     103       1.0  \n",
       "\n",
       "[193 rows x 11 columns]"
      ]
     },
     "execution_count": 18,
     "metadata": {},
     "output_type": "execute_result"
    }
   ],
   "source": [
    "xxx_ = dff.merge(df_decisions,left_index=True,right_index=True).sort_values(by='ml_outcomes',ascending=False)\n",
    "xxx_.sort_values(by='T')"
   ]
  },
  {
   "cell_type": "code",
   "execution_count": 19,
   "metadata": {
    "execution": {
     "iopub.execute_input": "2022-07-18T21:07:41.402697Z",
     "iopub.status.busy": "2022-07-18T21:07:41.402181Z",
     "iopub.status.idle": "2022-07-18T21:07:41.404184Z",
     "shell.execute_reply": "2022-07-18T21:07:41.404481Z"
    }
   },
   "outputs": [
    {
     "data": {
      "text/html": [
       "<div>\n",
       "<style scoped>\n",
       "    .dataframe tbody tr th:only-of-type {\n",
       "        vertical-align: middle;\n",
       "    }\n",
       "\n",
       "    .dataframe tbody tr th {\n",
       "        vertical-align: top;\n",
       "    }\n",
       "\n",
       "    .dataframe thead th {\n",
       "        text-align: right;\n",
       "    }\n",
       "</style>\n",
       "<table border=\"1\" class=\"dataframe\">\n",
       "  <thead>\n",
       "    <tr style=\"text-align: right;\">\n",
       "      <th></th>\n",
       "      <th>level_0</th>\n",
       "      <th>index</th>\n",
       "      <th>R</th>\n",
       "      <th>T</th>\n",
       "      <th>ml_outcomes</th>\n",
       "      <th>N</th>\n",
       "      <th>ml_outcomes_prob</th>\n",
       "      <th>Pr(X=X_j)</th>\n",
       "      <th>alpha_j</th>\n",
       "      <th>row_id</th>\n",
       "      <th>decision</th>\n",
       "    </tr>\n",
       "  </thead>\n",
       "  <tbody>\n",
       "    <tr>\n",
       "      <th>46</th>\n",
       "      <td>0</td>\n",
       "      <td>46</td>\n",
       "      <td>0</td>\n",
       "      <td>59</td>\n",
       "      <td>1125.20</td>\n",
       "      <td>1940</td>\n",
       "      <td>0.589691</td>\n",
       "      <td>0.01940</td>\n",
       "      <td>-0.00796</td>\n",
       "      <td>46</td>\n",
       "      <td>0.000000</td>\n",
       "    </tr>\n",
       "    <tr>\n",
       "      <th>43</th>\n",
       "      <td>1</td>\n",
       "      <td>43</td>\n",
       "      <td>0</td>\n",
       "      <td>56</td>\n",
       "      <td>1105.00</td>\n",
       "      <td>2125</td>\n",
       "      <td>0.525176</td>\n",
       "      <td>0.02125</td>\n",
       "      <td>-0.01009</td>\n",
       "      <td>43</td>\n",
       "      <td>0.000000</td>\n",
       "    </tr>\n",
       "    <tr>\n",
       "      <th>47</th>\n",
       "      <td>2</td>\n",
       "      <td>47</td>\n",
       "      <td>0</td>\n",
       "      <td>60</td>\n",
       "      <td>1092.00</td>\n",
       "      <td>1820</td>\n",
       "      <td>0.626923</td>\n",
       "      <td>0.01820</td>\n",
       "      <td>-0.00679</td>\n",
       "      <td>47</td>\n",
       "      <td>0.918291</td>\n",
       "    </tr>\n",
       "    <tr>\n",
       "      <th>45</th>\n",
       "      <td>3</td>\n",
       "      <td>45</td>\n",
       "      <td>0</td>\n",
       "      <td>58</td>\n",
       "      <td>1083.04</td>\n",
       "      <td>1934</td>\n",
       "      <td>0.569286</td>\n",
       "      <td>0.01934</td>\n",
       "      <td>-0.00833</td>\n",
       "      <td>45</td>\n",
       "      <td>0.000000</td>\n",
       "    </tr>\n",
       "    <tr>\n",
       "      <th>44</th>\n",
       "      <td>4</td>\n",
       "      <td>44</td>\n",
       "      <td>0</td>\n",
       "      <td>57</td>\n",
       "      <td>1071.36</td>\n",
       "      <td>1984</td>\n",
       "      <td>0.534778</td>\n",
       "      <td>0.01984</td>\n",
       "      <td>-0.00923</td>\n",
       "      <td>44</td>\n",
       "      <td>0.000000</td>\n",
       "    </tr>\n",
       "    <tr>\n",
       "      <th>...</th>\n",
       "      <td>...</td>\n",
       "      <td>...</td>\n",
       "      <td>...</td>\n",
       "      <td>...</td>\n",
       "      <td>...</td>\n",
       "      <td>...</td>\n",
       "      <td>...</td>\n",
       "      <td>...</td>\n",
       "      <td>...</td>\n",
       "      <td>...</td>\n",
       "      <td>...</td>\n",
       "    </tr>\n",
       "    <tr>\n",
       "      <th>105</th>\n",
       "      <td>188</td>\n",
       "      <td>105</td>\n",
       "      <td>1</td>\n",
       "      <td>8</td>\n",
       "      <td>0.25</td>\n",
       "      <td>1</td>\n",
       "      <td>0.000000</td>\n",
       "      <td>0.00001</td>\n",
       "      <td>-0.00001</td>\n",
       "      <td>105</td>\n",
       "      <td>1.000000</td>\n",
       "    </tr>\n",
       "    <tr>\n",
       "      <th>2</th>\n",
       "      <td>189</td>\n",
       "      <td>2</td>\n",
       "      <td>0</td>\n",
       "      <td>15</td>\n",
       "      <td>0.18</td>\n",
       "      <td>2</td>\n",
       "      <td>0.500000</td>\n",
       "      <td>0.00002</td>\n",
       "      <td>-0.00001</td>\n",
       "      <td>2</td>\n",
       "      <td>0.000000</td>\n",
       "    </tr>\n",
       "    <tr>\n",
       "      <th>3</th>\n",
       "      <td>190</td>\n",
       "      <td>3</td>\n",
       "      <td>0</td>\n",
       "      <td>16</td>\n",
       "      <td>0.14</td>\n",
       "      <td>2</td>\n",
       "      <td>0.500000</td>\n",
       "      <td>0.00002</td>\n",
       "      <td>-0.00001</td>\n",
       "      <td>3</td>\n",
       "      <td>0.000000</td>\n",
       "    </tr>\n",
       "    <tr>\n",
       "      <th>0</th>\n",
       "      <td>191</td>\n",
       "      <td>0</td>\n",
       "      <td>0</td>\n",
       "      <td>12</td>\n",
       "      <td>0.05</td>\n",
       "      <td>1</td>\n",
       "      <td>0.000000</td>\n",
       "      <td>0.00001</td>\n",
       "      <td>-0.00001</td>\n",
       "      <td>0</td>\n",
       "      <td>0.000000</td>\n",
       "    </tr>\n",
       "    <tr>\n",
       "      <th>1</th>\n",
       "      <td>192</td>\n",
       "      <td>1</td>\n",
       "      <td>0</td>\n",
       "      <td>14</td>\n",
       "      <td>0.03</td>\n",
       "      <td>1</td>\n",
       "      <td>0.000000</td>\n",
       "      <td>0.00001</td>\n",
       "      <td>-0.00001</td>\n",
       "      <td>1</td>\n",
       "      <td>0.000000</td>\n",
       "    </tr>\n",
       "  </tbody>\n",
       "</table>\n",
       "<p>193 rows × 11 columns</p>\n",
       "</div>"
      ],
      "text/plain": [
       "     level_0  index  R   T  ml_outcomes     N  ml_outcomes_prob  Pr(X=X_j)  \\\n",
       "46         0     46  0  59      1125.20  1940          0.589691    0.01940   \n",
       "43         1     43  0  56      1105.00  2125          0.525176    0.02125   \n",
       "47         2     47  0  60      1092.00  1820          0.626923    0.01820   \n",
       "45         3     45  0  58      1083.04  1934          0.569286    0.01934   \n",
       "44         4     44  0  57      1071.36  1984          0.534778    0.01984   \n",
       "..       ...    ... ..  ..          ...   ...               ...        ...   \n",
       "105      188    105  1   8         0.25     1          0.000000    0.00001   \n",
       "2        189      2  0  15         0.18     2          0.500000    0.00002   \n",
       "3        190      3  0  16         0.14     2          0.500000    0.00002   \n",
       "0        191      0  0  12         0.05     1          0.000000    0.00001   \n",
       "1        192      1  0  14         0.03     1          0.000000    0.00001   \n",
       "\n",
       "     alpha_j  row_id  decision  \n",
       "46  -0.00796      46  0.000000  \n",
       "43  -0.01009      43  0.000000  \n",
       "47  -0.00679      47  0.918291  \n",
       "45  -0.00833      45  0.000000  \n",
       "44  -0.00923      44  0.000000  \n",
       "..       ...     ...       ...  \n",
       "105 -0.00001     105  1.000000  \n",
       "2   -0.00001       2  0.000000  \n",
       "3   -0.00001       3  0.000000  \n",
       "0   -0.00001       0  0.000000  \n",
       "1   -0.00001       1  0.000000  \n",
       "\n",
       "[193 rows x 11 columns]"
      ]
     },
     "execution_count": 19,
     "metadata": {},
     "output_type": "execute_result"
    }
   ],
   "source": [
    "xxx = dff.merge(df_decisions,left_index=True,right_index=True).sort_values(by='ml_outcomes',ascending=False)\n",
    "xxx"
   ]
  },
  {
   "cell_type": "code",
   "execution_count": 20,
   "metadata": {
    "execution": {
     "iopub.execute_input": "2022-07-18T21:07:41.407339Z",
     "iopub.status.busy": "2022-07-18T21:07:41.406901Z",
     "iopub.status.idle": "2022-07-18T21:07:41.408368Z",
     "shell.execute_reply": "2022-07-18T21:07:41.408679Z"
    }
   },
   "outputs": [
    {
     "data": {
      "text/plain": [
       "193"
      ]
     },
     "execution_count": 20,
     "metadata": {},
     "output_type": "execute_result"
    }
   ],
   "source": [
    "len(xxx_)"
   ]
  },
  {
   "cell_type": "code",
   "execution_count": null,
   "metadata": {},
   "outputs": [],
   "source": []
  },
  {
   "cell_type": "code",
   "execution_count": null,
   "metadata": {},
   "outputs": [],
   "source": []
  },
  {
   "cell_type": "code",
   "execution_count": 23,
   "metadata": {
    "execution": {
     "iopub.execute_input": "2022-07-18T21:07:41.429339Z",
     "iopub.status.busy": "2022-07-18T21:07:41.426939Z",
     "iopub.status.idle": "2022-07-18T21:07:41.431131Z",
     "shell.execute_reply": "2022-07-18T21:07:41.431583Z"
    }
   },
   "outputs": [
    {
     "data": {
      "text/html": [
       "<div>\n",
       "<style scoped>\n",
       "    .dataframe tbody tr th:only-of-type {\n",
       "        vertical-align: middle;\n",
       "    }\n",
       "\n",
       "    .dataframe tbody tr th {\n",
       "        vertical-align: top;\n",
       "    }\n",
       "\n",
       "    .dataframe thead th {\n",
       "        text-align: right;\n",
       "    }\n",
       "</style>\n",
       "<table border=\"1\" class=\"dataframe\">\n",
       "  <thead>\n",
       "    <tr style=\"text-align: right;\">\n",
       "      <th></th>\n",
       "      <th>level_0</th>\n",
       "      <th>index</th>\n",
       "      <th>R</th>\n",
       "      <th>T</th>\n",
       "      <th>ml_outcomes</th>\n",
       "      <th>N</th>\n",
       "      <th>ml_outcomes_prob</th>\n",
       "      <th>Pr(X=X_j)</th>\n",
       "      <th>alpha_j</th>\n",
       "      <th>row_id</th>\n",
       "      <th>decision</th>\n",
       "    </tr>\n",
       "  </thead>\n",
       "  <tbody>\n",
       "    <tr>\n",
       "      <th>46</th>\n",
       "      <td>0</td>\n",
       "      <td>46</td>\n",
       "      <td>0</td>\n",
       "      <td>59</td>\n",
       "      <td>1125.20</td>\n",
       "      <td>1940</td>\n",
       "      <td>0.589691</td>\n",
       "      <td>0.01940</td>\n",
       "      <td>-0.00796</td>\n",
       "      <td>46</td>\n",
       "      <td>0.000000</td>\n",
       "    </tr>\n",
       "    <tr>\n",
       "      <th>43</th>\n",
       "      <td>1</td>\n",
       "      <td>43</td>\n",
       "      <td>0</td>\n",
       "      <td>56</td>\n",
       "      <td>1105.00</td>\n",
       "      <td>2125</td>\n",
       "      <td>0.525176</td>\n",
       "      <td>0.02125</td>\n",
       "      <td>-0.01009</td>\n",
       "      <td>43</td>\n",
       "      <td>0.000000</td>\n",
       "    </tr>\n",
       "    <tr>\n",
       "      <th>47</th>\n",
       "      <td>2</td>\n",
       "      <td>47</td>\n",
       "      <td>0</td>\n",
       "      <td>60</td>\n",
       "      <td>1092.00</td>\n",
       "      <td>1820</td>\n",
       "      <td>0.626923</td>\n",
       "      <td>0.01820</td>\n",
       "      <td>-0.00679</td>\n",
       "      <td>47</td>\n",
       "      <td>0.918291</td>\n",
       "    </tr>\n",
       "    <tr>\n",
       "      <th>45</th>\n",
       "      <td>3</td>\n",
       "      <td>45</td>\n",
       "      <td>0</td>\n",
       "      <td>58</td>\n",
       "      <td>1083.04</td>\n",
       "      <td>1934</td>\n",
       "      <td>0.569286</td>\n",
       "      <td>0.01934</td>\n",
       "      <td>-0.00833</td>\n",
       "      <td>45</td>\n",
       "      <td>0.000000</td>\n",
       "    </tr>\n",
       "    <tr>\n",
       "      <th>44</th>\n",
       "      <td>4</td>\n",
       "      <td>44</td>\n",
       "      <td>0</td>\n",
       "      <td>57</td>\n",
       "      <td>1071.36</td>\n",
       "      <td>1984</td>\n",
       "      <td>0.534778</td>\n",
       "      <td>0.01984</td>\n",
       "      <td>-0.00923</td>\n",
       "      <td>44</td>\n",
       "      <td>0.000000</td>\n",
       "    </tr>\n",
       "    <tr>\n",
       "      <th>...</th>\n",
       "      <td>...</td>\n",
       "      <td>...</td>\n",
       "      <td>...</td>\n",
       "      <td>...</td>\n",
       "      <td>...</td>\n",
       "      <td>...</td>\n",
       "      <td>...</td>\n",
       "      <td>...</td>\n",
       "      <td>...</td>\n",
       "      <td>...</td>\n",
       "      <td>...</td>\n",
       "    </tr>\n",
       "    <tr>\n",
       "      <th>105</th>\n",
       "      <td>188</td>\n",
       "      <td>105</td>\n",
       "      <td>1</td>\n",
       "      <td>8</td>\n",
       "      <td>0.25</td>\n",
       "      <td>1</td>\n",
       "      <td>0.000000</td>\n",
       "      <td>0.00001</td>\n",
       "      <td>-0.00001</td>\n",
       "      <td>105</td>\n",
       "      <td>1.000000</td>\n",
       "    </tr>\n",
       "    <tr>\n",
       "      <th>2</th>\n",
       "      <td>189</td>\n",
       "      <td>2</td>\n",
       "      <td>0</td>\n",
       "      <td>15</td>\n",
       "      <td>0.18</td>\n",
       "      <td>2</td>\n",
       "      <td>0.500000</td>\n",
       "      <td>0.00002</td>\n",
       "      <td>-0.00001</td>\n",
       "      <td>2</td>\n",
       "      <td>0.000000</td>\n",
       "    </tr>\n",
       "    <tr>\n",
       "      <th>3</th>\n",
       "      <td>190</td>\n",
       "      <td>3</td>\n",
       "      <td>0</td>\n",
       "      <td>16</td>\n",
       "      <td>0.14</td>\n",
       "      <td>2</td>\n",
       "      <td>0.500000</td>\n",
       "      <td>0.00002</td>\n",
       "      <td>-0.00001</td>\n",
       "      <td>3</td>\n",
       "      <td>0.000000</td>\n",
       "    </tr>\n",
       "    <tr>\n",
       "      <th>0</th>\n",
       "      <td>191</td>\n",
       "      <td>0</td>\n",
       "      <td>0</td>\n",
       "      <td>12</td>\n",
       "      <td>0.05</td>\n",
       "      <td>1</td>\n",
       "      <td>0.000000</td>\n",
       "      <td>0.00001</td>\n",
       "      <td>-0.00001</td>\n",
       "      <td>0</td>\n",
       "      <td>0.000000</td>\n",
       "    </tr>\n",
       "    <tr>\n",
       "      <th>1</th>\n",
       "      <td>192</td>\n",
       "      <td>1</td>\n",
       "      <td>0</td>\n",
       "      <td>14</td>\n",
       "      <td>0.03</td>\n",
       "      <td>1</td>\n",
       "      <td>0.000000</td>\n",
       "      <td>0.00001</td>\n",
       "      <td>-0.00001</td>\n",
       "      <td>1</td>\n",
       "      <td>0.000000</td>\n",
       "    </tr>\n",
       "  </tbody>\n",
       "</table>\n",
       "<p>193 rows × 11 columns</p>\n",
       "</div>"
      ],
      "text/plain": [
       "     level_0  index  R   T  ml_outcomes     N  ml_outcomes_prob  Pr(X=X_j)  \\\n",
       "46         0     46  0  59      1125.20  1940          0.589691    0.01940   \n",
       "43         1     43  0  56      1105.00  2125          0.525176    0.02125   \n",
       "47         2     47  0  60      1092.00  1820          0.626923    0.01820   \n",
       "45         3     45  0  58      1083.04  1934          0.569286    0.01934   \n",
       "44         4     44  0  57      1071.36  1984          0.534778    0.01984   \n",
       "..       ...    ... ..  ..          ...   ...               ...        ...   \n",
       "105      188    105  1   8         0.25     1          0.000000    0.00001   \n",
       "2        189      2  0  15         0.18     2          0.500000    0.00002   \n",
       "3        190      3  0  16         0.14     2          0.500000    0.00002   \n",
       "0        191      0  0  12         0.05     1          0.000000    0.00001   \n",
       "1        192      1  0  14         0.03     1          0.000000    0.00001   \n",
       "\n",
       "     alpha_j  row_id  decision  \n",
       "46  -0.00796      46  0.000000  \n",
       "43  -0.01009      43  0.000000  \n",
       "47  -0.00679      47  0.918291  \n",
       "45  -0.00833      45  0.000000  \n",
       "44  -0.00923      44  0.000000  \n",
       "..       ...     ...       ...  \n",
       "105 -0.00001     105  1.000000  \n",
       "2   -0.00001       2  0.000000  \n",
       "3   -0.00001       3  0.000000  \n",
       "0   -0.00001       0  0.000000  \n",
       "1   -0.00001       1  0.000000  \n",
       "\n",
       "[193 rows x 11 columns]"
      ]
     },
     "execution_count": 23,
     "metadata": {},
     "output_type": "execute_result"
    }
   ],
   "source": [
    "xxx"
   ]
  },
  {
   "cell_type": "code",
   "execution_count": 24,
   "metadata": {
    "execution": {
     "iopub.execute_input": "2022-07-18T21:07:41.435019Z",
     "iopub.status.busy": "2022-07-18T21:07:41.434572Z",
     "iopub.status.idle": "2022-07-18T21:07:41.436613Z",
     "shell.execute_reply": "2022-07-18T21:07:41.436921Z"
    }
   },
   "outputs": [
    {
     "data": {
      "text/plain": [
       "32158.53738097051"
      ]
     },
     "execution_count": 24,
     "metadata": {},
     "output_type": "execute_result"
    }
   ],
   "source": [
    "(xxx['ml_outcomes']*xxx['decision']).sum()"
   ]
  },
  {
   "cell_type": "code",
   "execution_count": 25,
   "metadata": {
    "execution": {
     "iopub.execute_input": "2022-07-18T21:07:41.440293Z",
     "iopub.status.busy": "2022-07-18T21:07:41.439911Z",
     "iopub.status.idle": "2022-07-18T21:07:41.441708Z",
     "shell.execute_reply": "2022-07-18T21:07:41.441964Z"
    }
   },
   "outputs": [],
   "source": [
    "def maxMLOutcomes(frac_black=0.01):\n",
    "    black_admits = int(K*frac_black)\n",
    "    white_admits = int(K*(1-frac_black))\n",
    "    \n",
    "    b = df[df['R']==1].sort_values(by='ml_outcomes',ascending=False).head(n=black_admits)\n",
    "    w = df[df['R']==0].sort_values(by='ml_outcomes',ascending=False).head(n=white_admits)\n",
    "    \n",
    "    return b['Y'].sum() + w['Y'].sum()    "
   ]
  },
  {
   "cell_type": "code",
   "execution_count": 26,
   "metadata": {
    "execution": {
     "iopub.execute_input": "2022-07-18T21:07:41.445704Z",
     "iopub.status.busy": "2022-07-18T21:07:41.445327Z",
     "iopub.status.idle": "2022-07-18T21:07:41.446722Z",
     "shell.execute_reply": "2022-07-18T21:07:41.447165Z"
    }
   },
   "outputs": [],
   "source": [
    "def maxMLOutcomesBlack(frac_black=0.01):\n",
    "    black_admits = int(K*frac_black)\n",
    "    white_admits = int(K*(1-frac_black))\n",
    "    \n",
    "    b = df[df['R']==1].sort_values(by='ml_outcomes',ascending=False).head(n=black_admits)\n",
    "    w = df[df['R']==0].sort_values(by='ml_outcomes',ascending=False).head(n=white_admits)\n",
    "    \n",
    "    return b['Y'].sum()   "
   ]
  },
  {
   "cell_type": "code",
   "execution_count": 27,
   "metadata": {
    "execution": {
     "iopub.execute_input": "2022-07-18T21:07:41.558236Z",
     "iopub.status.busy": "2022-07-18T21:07:41.496539Z",
     "iopub.status.idle": "2022-07-18T21:07:41.559353Z",
     "shell.execute_reply": "2022-07-18T21:07:41.559655Z"
    }
   },
   "outputs": [],
   "source": [
    "df['key'] = df['R'].astype(str)+'_'+df['T'].astype(str)\n",
    "xxx['key'] = xxx['R'].astype(str)+'_'+xxx['T'].astype(str)"
   ]
  },
  {
   "cell_type": "code",
   "execution_count": 28,
   "metadata": {
    "execution": {
     "iopub.execute_input": "2022-07-18T21:07:41.562433Z",
     "iopub.status.busy": "2022-07-18T21:07:41.561980Z",
     "iopub.status.idle": "2022-07-18T21:07:41.563933Z",
     "shell.execute_reply": "2022-07-18T21:07:41.564301Z"
    }
   },
   "outputs": [
    {
     "data": {
      "text/plain": [
       "193"
      ]
     },
     "execution_count": 28,
     "metadata": {},
     "output_type": "execute_result"
    }
   ],
   "source": [
    "len(xxx)"
   ]
  },
  {
   "cell_type": "code",
   "execution_count": 29,
   "metadata": {
    "execution": {
     "iopub.execute_input": "2022-07-18T21:07:41.574640Z",
     "iopub.status.busy": "2022-07-18T21:07:41.574188Z",
     "iopub.status.idle": "2022-07-18T21:07:41.617424Z",
     "shell.execute_reply": "2022-07-18T21:07:41.617691Z"
    }
   },
   "outputs": [],
   "source": [
    "admit_decisions = df.merge(xxx,how='left',on='key')\n",
    "admit_decisions['decision_random'] = pd.Series([random.random() for x in range(0,len(admit_decisions))]) < FRAC_ADMIT\n",
    "\n",
    "\n",
    "FRAC_BLACK_POLICY = (admit_decisions['R_y'] * admit_decisions['decision']).sum()/admit_decisions['decision'].sum()\n",
    "SUM_BP_POLICY = ( admit_decisions['Y'] * admit_decisions['decision']).sum()\n",
    "\n",
    "FRAC_RANDOM_POLICY = (admit_decisions['R_y'] * admit_decisions['decision_random']).sum()/admit_decisions['decision_random'].sum()\n",
    "SUM_BP_RAND_POLICY = ( admit_decisions['Y'] * admit_decisions['decision_random']).sum()\n"
   ]
  },
  {
   "cell_type": "code",
   "execution_count": 30,
   "metadata": {
    "execution": {
     "iopub.execute_input": "2022-07-18T21:07:41.620847Z",
     "iopub.status.busy": "2022-07-18T21:07:41.620389Z",
     "iopub.status.idle": "2022-07-18T21:07:41.622365Z",
     "shell.execute_reply": "2022-07-18T21:07:41.622819Z"
    }
   },
   "outputs": [
    {
     "data": {
      "text/plain": [
       "('0.5526542056074767', '24977.00000000001')"
      ]
     },
     "execution_count": 30,
     "metadata": {},
     "output_type": "execute_result"
    }
   ],
   "source": [
    "str(FRAC_BLACK_POLICY),str(SUM_BP_POLICY)"
   ]
  },
  {
   "cell_type": "code",
   "execution_count": 31,
   "metadata": {
    "execution": {
     "iopub.execute_input": "2022-07-18T21:07:41.625905Z",
     "iopub.status.busy": "2022-07-18T21:07:41.625456Z",
     "iopub.status.idle": "2022-07-18T21:07:41.627449Z",
     "shell.execute_reply": "2022-07-18T21:07:41.627774Z"
    }
   },
   "outputs": [],
   "source": [
    "file = open('./lp_results.csv','a')\n",
    "file.write('{}\\t{}\\t{}\\n'.format('Counterfactual Pred. Parity',str(FRAC_BLACK_POLICY),str(SUM_BP_POLICY)))\n",
    "file.close()\n"
   ]
  },
  {
   "cell_type": "code",
   "execution_count": 32,
   "metadata": {
    "execution": {
     "iopub.execute_input": "2022-07-18T21:07:41.631745Z",
     "iopub.status.busy": "2022-07-18T21:07:41.631280Z",
     "iopub.status.idle": "2022-07-18T21:07:41.632934Z",
     "shell.execute_reply": "2022-07-18T21:07:41.633237Z"
    }
   },
   "outputs": [
    {
     "data": {
      "text/plain": [
       "0.5000000000000002"
      ]
     },
     "execution_count": 32,
     "metadata": {},
     "output_type": "execute_result"
    }
   ],
   "source": [
    "(xxx['N']*xxx['decision']).sum()/len(df)"
   ]
  },
  {
   "cell_type": "code",
   "execution_count": 33,
   "metadata": {
    "execution": {
     "iopub.execute_input": "2022-07-18T21:07:41.664297Z",
     "iopub.status.busy": "2022-07-18T21:07:41.663842Z",
     "iopub.status.idle": "2022-07-18T21:07:41.770606Z",
     "shell.execute_reply": "2022-07-18T21:07:41.770922Z"
    }
   },
   "outputs": [
    {
     "data": {
      "text/plain": [
       "<matplotlib.lines.Line2D at 0x7f9c3029f7c0>"
      ]
     },
     "execution_count": 33,
     "metadata": {},
     "output_type": "execute_result"
    },
    {
     "data": {
      "image/png": "[encoded data removed]",
      "text/plain": [
       "<Figure size 1440x595.44 with 1 Axes>"
      ]
     },
     "metadata": {},
     "output_type": "display_data"
    }
   ],
   "source": [
    "sns.set(rc={'figure.figsize':(20,8.27)})\n",
    "sns.set(font_scale=2)  # crazy big\n",
    "g = sns.scatterplot(x='T',y='decision',hue='R',data=xxx[xxx['R']==1])\n",
    "g.set(xlim=(0, 150))\n",
    "plt.axvline(70.5, 0,1,color='red')\n"
   ]
  },
  {
   "cell_type": "code",
   "execution_count": 34,
   "metadata": {
    "execution": {
     "iopub.execute_input": "2022-07-18T21:07:41.788843Z",
     "iopub.status.busy": "2022-07-18T21:07:41.788442Z",
     "iopub.status.idle": "2022-07-18T21:07:41.904838Z",
     "shell.execute_reply": "2022-07-18T21:07:41.905219Z"
    }
   },
   "outputs": [
    {
     "data": {
      "text/plain": [
       "<matplotlib.lines.Line2D at 0x7f9cc808fd30>"
      ]
     },
     "execution_count": 34,
     "metadata": {},
     "output_type": "execute_result"
    },
    {
     "data": {
      "image/png": "[encoded data removed]",
      "text/plain": [
       "<Figure size 1440x595.44 with 1 Axes>"
      ]
     },
     "metadata": {},
     "output_type": "display_data"
    }
   ],
   "source": [
    "sns.set(rc={'figure.figsize':(20,8.27)})\n",
    "sns.set(font_scale=2)  # crazy big\n",
    "g = sns.scatterplot(x='T',y='decision',hue='R',data=xxx[xxx['R']==0])\n",
    "g.set(xlim=(0, 150))\n",
    "plt.axvline(52.5, 0,1,color='red')\n",
    "\n"
   ]
  },
  {
   "cell_type": "code",
   "execution_count": 35,
   "metadata": {
    "execution": {
     "iopub.execute_input": "2022-07-18T21:07:41.908843Z",
     "iopub.status.busy": "2022-07-18T21:07:41.908440Z",
     "iopub.status.idle": "2022-07-18T21:07:41.928468Z",
     "shell.execute_reply": "2022-07-18T21:07:41.928901Z"
    }
   },
   "outputs": [
    {
     "data": {
      "text/html": [
       "<div>\n",
       "<style scoped>\n",
       "    .dataframe tbody tr th:only-of-type {\n",
       "        vertical-align: middle;\n",
       "    }\n",
       "\n",
       "    .dataframe tbody tr th {\n",
       "        vertical-align: top;\n",
       "    }\n",
       "\n",
       "    .dataframe thead th {\n",
       "        text-align: right;\n",
       "    }\n",
       "</style>\n",
       "<table border=\"1\" class=\"dataframe\">\n",
       "  <thead>\n",
       "    <tr style=\"text-align: right;\">\n",
       "      <th></th>\n",
       "      <th>Y</th>\n",
       "    </tr>\n",
       "    <tr>\n",
       "      <th>R_x</th>\n",
       "      <th></th>\n",
       "    </tr>\n",
       "  </thead>\n",
       "  <tbody>\n",
       "    <tr>\n",
       "      <th>0</th>\n",
       "      <td>0.379171</td>\n",
       "    </tr>\n",
       "    <tr>\n",
       "      <th>1</th>\n",
       "      <td>0.390523</td>\n",
       "    </tr>\n",
       "  </tbody>\n",
       "</table>\n",
       "</div>"
      ],
      "text/plain": [
       "          Y\n",
       "R_x          \n",
       "0    0.379171\n",
       "1    0.390523"
      ]
     },
     "execution_count": 35,
     "metadata": {},
     "output_type": "execute_result"
    }
   ],
   "source": [
    "admit_decisions[admit_decisions['decision']==0][['R_x','Y']].groupby(['R_x']).mean()"
   ]
  },
  {
   "cell_type": "code",
   "execution_count": 36,
   "metadata": {
    "execution": {
     "iopub.execute_input": "2022-07-18T21:07:41.933767Z",
     "iopub.status.busy": "2022-07-18T21:07:41.932532Z",
     "iopub.status.idle": "2022-07-18T21:07:41.935235Z",
     "shell.execute_reply": "2022-07-18T21:07:41.935573Z"
    }
   },
   "outputs": [
    {
     "data": {
      "text/plain": [
       "('0.5526542056074767', '24977.00000000001')"
      ]
     },
     "execution_count": 36,
     "metadata": {},
     "output_type": "execute_result"
    }
   ],
   "source": [
    "str(FRAC_BLACK_POLICY),str(SUM_BP_POLICY)"
   ]
  },
  {
   "cell_type": "code",
   "execution_count": null,
   "metadata": {},
   "outputs": [],
   "source": []
  },
  {
   "cell_type": "code",
   "execution_count": 37,
   "metadata": {
    "execution": {
     "iopub.execute_input": "2022-07-18T21:07:41.939782Z",
     "iopub.status.busy": "2022-07-18T21:07:41.939128Z",
     "iopub.status.idle": "2022-07-18T21:07:41.941305Z",
     "shell.execute_reply": "2022-07-18T21:07:41.941582Z"
    }
   },
   "outputs": [
    {
     "data": {
      "text/plain": [
       "0.4995400000000002"
      ]
     },
     "execution_count": 37,
     "metadata": {},
     "output_type": "execute_result"
    }
   ],
   "source": [
    "SUM_BP_POLICY/(FRAC_ADMIT*len(df))"
   ]
  },
  {
   "cell_type": "code",
   "execution_count": 38,
   "metadata": {
    "execution": {
     "iopub.execute_input": "2022-07-18T21:07:41.945142Z",
     "iopub.status.busy": "2022-07-18T21:07:41.944476Z",
     "iopub.status.idle": "2022-07-18T21:07:41.946540Z",
     "shell.execute_reply": "2022-07-18T21:07:41.946919Z"
    }
   },
   "outputs": [
    {
     "data": {
      "text/plain": [
       "('0.5526542056074767', '24977.00000000001')"
      ]
     },
     "execution_count": 38,
     "metadata": {},
     "output_type": "execute_result"
    }
   ],
   "source": [
    "str(FRAC_BLACK_POLICY),str(SUM_BP_POLICY)"
   ]
  },
  {
   "cell_type": "code",
   "execution_count": 39,
   "metadata": {
    "execution": {
     "iopub.execute_input": "2022-07-18T21:07:41.950144Z",
     "iopub.status.busy": "2022-07-18T21:07:41.949724Z",
     "iopub.status.idle": "2022-07-18T21:07:41.955173Z",
     "shell.execute_reply": "2022-07-18T21:07:41.955656Z"
    }
   },
   "outputs": [
    {
     "data": {
      "text/plain": [
       "0.49452318240729126"
      ]
     },
     "execution_count": 39,
     "metadata": {},
     "output_type": "execute_result"
    }
   ],
   "source": [
    "admit_decisions[admit_decisions['decision']==1]['Y'].mean()"
   ]
  },
  {
   "cell_type": "code",
   "execution_count": 40,
   "metadata": {
    "execution": {
     "iopub.execute_input": "2022-07-18T21:07:41.958963Z",
     "iopub.status.busy": "2022-07-18T21:07:41.957658Z",
     "iopub.status.idle": "2022-07-18T21:07:41.962028Z",
     "shell.execute_reply": "2022-07-18T21:07:41.962519Z"
    }
   },
   "outputs": [
    {
     "data": {
      "text/plain": [
       "32158.537380970505"
      ]
     },
     "execution_count": 40,
     "metadata": {},
     "output_type": "execute_result"
    }
   ],
   "source": [
    "(admit_decisions['decision'] * admit_decisions['ml_outcomes_x']).sum()"
   ]
  },
  {
   "cell_type": "code",
   "execution_count": 41,
   "metadata": {
    "execution": {
     "iopub.execute_input": "2022-07-18T21:07:41.966370Z",
     "iopub.status.busy": "2022-07-18T21:07:41.965943Z",
     "iopub.status.idle": "2022-07-18T21:07:41.967945Z",
     "shell.execute_reply": "2022-07-18T21:07:41.968358Z"
    }
   },
   "outputs": [
    {
     "data": {
      "text/plain": [
       "24977.00000000001"
      ]
     },
     "execution_count": 41,
     "metadata": {},
     "output_type": "execute_result"
    }
   ],
   "source": [
    "(admit_decisions['decision'] * admit_decisions['Y']).sum()"
   ]
  },
  {
   "cell_type": "code",
   "execution_count": 42,
   "metadata": {
    "execution": {
     "iopub.execute_input": "2022-07-18T21:07:41.972623Z",
     "iopub.status.busy": "2022-07-18T21:07:41.971940Z",
     "iopub.status.idle": "2022-07-18T21:07:41.976784Z",
     "shell.execute_reply": "2022-07-18T21:07:41.977051Z"
    }
   },
   "outputs": [
    {
     "data": {
      "text/plain": [
       "23657"
      ]
     },
     "execution_count": 42,
     "metadata": {},
     "output_type": "execute_result"
    }
   ],
   "source": [
    "admit_decisions[admit_decisions['decision']==1]['Y'].sum()"
   ]
  },
  {
   "cell_type": "code",
   "execution_count": 43,
   "metadata": {
    "execution": {
     "iopub.execute_input": "2022-07-18T21:07:41.980346Z",
     "iopub.status.busy": "2022-07-18T21:07:41.979889Z",
     "iopub.status.idle": "2022-07-18T21:07:41.982130Z",
     "shell.execute_reply": "2022-07-18T21:07:41.982389Z"
    }
   },
   "outputs": [
    {
     "data": {
      "text/plain": [
       "0.4995400000000002"
      ]
     },
     "execution_count": 43,
     "metadata": {},
     "output_type": "execute_result"
    }
   ],
   "source": [
    "(admit_decisions['decision'] * admit_decisions['Y']).sum()/(len(admit_decisions)*FRAC_ADMIT)"
   ]
  },
  {
   "cell_type": "code",
   "execution_count": 44,
   "metadata": {
    "execution": {
     "iopub.execute_input": "2022-07-18T21:07:41.985350Z",
     "iopub.status.busy": "2022-07-18T21:07:41.984520Z",
     "iopub.status.idle": "2022-07-18T21:07:41.987696Z",
     "shell.execute_reply": "2022-07-18T21:07:41.987963Z"
    }
   },
   "outputs": [
    {
     "data": {
      "text/plain": [
       "50000.00000000002"
      ]
     },
     "execution_count": 44,
     "metadata": {},
     "output_type": "execute_result"
    }
   ],
   "source": [
    "(admit_decisions['decision'].sum())"
   ]
  },
  {
   "cell_type": "code",
   "execution_count": 45,
   "metadata": {
    "execution": {
     "iopub.execute_input": "2022-07-18T21:07:42.007950Z",
     "iopub.status.busy": "2022-07-18T21:07:42.007291Z",
     "iopub.status.idle": "2022-07-18T21:07:42.010192Z",
     "shell.execute_reply": "2022-07-18T21:07:42.009896Z"
    }
   },
   "outputs": [],
   "source": [
    "admit_decisions['rand'] = pd.Series([random.random() for x in range(0,len(admit_decisions))])\n",
    "admit_decisions['dec_binary'] = admit_decisions['rand'] < admit_decisions['decision']\n"
   ]
  },
  {
   "cell_type": "code",
   "execution_count": 46,
   "metadata": {
    "execution": {
     "iopub.execute_input": "2022-07-18T21:07:42.014452Z",
     "iopub.status.busy": "2022-07-18T21:07:42.013958Z",
     "iopub.status.idle": "2022-07-18T21:07:42.032923Z",
     "shell.execute_reply": "2022-07-18T21:07:42.033261Z"
    }
   },
   "outputs": [
    {
     "data": {
      "text/html": [
       "<div>\n",
       "<style scoped>\n",
       "    .dataframe tbody tr th:only-of-type {\n",
       "        vertical-align: middle;\n",
       "    }\n",
       "\n",
       "    .dataframe tbody tr th {\n",
       "        vertical-align: top;\n",
       "    }\n",
       "\n",
       "    .dataframe thead th {\n",
       "        text-align: right;\n",
       "    }\n",
       "</style>\n",
       "<table border=\"1\" class=\"dataframe\">\n",
       "  <thead>\n",
       "    <tr style=\"text-align: right;\">\n",
       "      <th></th>\n",
       "      <th>Y</th>\n",
       "    </tr>\n",
       "    <tr>\n",
       "      <th>R_x</th>\n",
       "      <th></th>\n",
       "    </tr>\n",
       "  </thead>\n",
       "  <tbody>\n",
       "    <tr>\n",
       "      <th>0</th>\n",
       "      <td>0.380010</td>\n",
       "    </tr>\n",
       "    <tr>\n",
       "      <th>1</th>\n",
       "      <td>0.378388</td>\n",
       "    </tr>\n",
       "  </tbody>\n",
       "</table>\n",
       "</div>"
      ],
      "text/plain": [
       "          Y\n",
       "R_x          \n",
       "0    0.380010\n",
       "1    0.378388"
      ]
     },
     "execution_count": 46,
     "metadata": {},
     "output_type": "execute_result"
    }
   ],
   "source": [
    "admit_decisions[admit_decisions['dec_binary']==0][['R_x','Y']].groupby(['R_x']).mean()"
   ]
  },
  {
   "cell_type": "code",
   "execution_count": 47,
   "metadata": {
    "execution": {
     "iopub.execute_input": "2022-07-18T21:07:42.037829Z",
     "iopub.status.busy": "2022-07-18T21:07:42.036999Z",
     "iopub.status.idle": "2022-07-18T21:07:42.039959Z",
     "shell.execute_reply": "2022-07-18T21:07:42.040278Z"
    }
   },
   "outputs": [
    {
     "data": {
      "text/plain": [
       "0    66810\n",
       "1    33190\n",
       "Name: R_x, dtype: int64"
      ]
     },
     "execution_count": 47,
     "metadata": {},
     "output_type": "execute_result"
    }
   ],
   "source": [
    "admit_decisions['R_x'].value_counts()"
   ]
  },
  {
   "cell_type": "code",
   "execution_count": null,
   "metadata": {},
   "outputs": [],
   "source": []
  },
  {
   "cell_type": "code",
   "execution_count": null,
   "metadata": {},
   "outputs": [],
   "source": []
  },
  {
   "cell_type": "code",
   "execution_count": null,
   "metadata": {},
   "outputs": [],
   "source": []
  }
 ],
 "metadata": {
  "kernelspec": {
   "display_name": "Python 3 (ipykernel)",
   "language": "python",
   "name": "python3"
  },
  "language_info": {
   "codemirror_mode": {
    "name": "ipython",
    "version": 3
   },
   "file_extension": ".py",
   "mimetype": "text/x-python",
   "name": "python",
   "nbconvert_exporter": "python",
   "pygments_lexer": "ipython3",
   "version": "3.9.7"
  }
 },
 "nbformat": 4,
 "nbformat_minor": 4
}
