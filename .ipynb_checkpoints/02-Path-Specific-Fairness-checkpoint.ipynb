{
 "cells": [
  {
   "cell_type": "code",
   "execution_count": 1,
   "metadata": {
    "execution": {
     "iopub.execute_input": "2022-05-02T20:33:13.049393Z",
     "iopub.status.busy": "2022-05-02T20:33:13.048389Z",
     "iopub.status.idle": "2022-05-02T20:33:14.411917Z",
     "shell.execute_reply": "2022-05-02T20:33:14.412182Z"
    }
   },
   "outputs": [],
   "source": [
    "import numpy as np\n",
    "import pandas as pd\n",
    "import matplotlib.pyplot as plt\n",
    "import seaborn as sns\n",
    "import random\n",
    "pd.options.display.max_rows = 10\n",
    "pd.options.display.max_columns = 500"
   ]
  },
  {
   "cell_type": "code",
   "execution_count": 2,
   "metadata": {
    "execution": {
     "iopub.execute_input": "2022-05-02T20:33:14.415415Z",
     "iopub.status.busy": "2022-05-02T20:33:14.415005Z",
     "iopub.status.idle": "2022-05-02T20:33:17.705030Z",
     "shell.execute_reply": "2022-05-02T20:33:17.705456Z"
    }
   },
   "outputs": [],
   "source": [
    "###\n",
    "## Load dataframe where each row is a single applicant\n",
    "###\n",
    "\n",
    "df = pd.read_csv('./df_test.csv')\n",
    "df['ml_outcomes'] = df['ml_outcomes_div'].round(2) #+ df['R']*0.13\n",
    "\n"
   ]
  },
  {
   "cell_type": "code",
   "execution_count": 3,
   "metadata": {
    "execution": {
     "iopub.execute_input": "2022-05-02T20:33:17.709457Z",
     "iopub.status.busy": "2022-05-02T20:33:17.709087Z",
     "iopub.status.idle": "2022-05-02T20:33:17.711392Z",
     "shell.execute_reply": "2022-05-02T20:33:17.711697Z"
    }
   },
   "outputs": [
    {
     "data": {
      "text/plain": [
       "1000000"
      ]
     },
     "execution_count": 3,
     "metadata": {},
     "output_type": "execute_result"
    }
   ],
   "source": [
    "len(df)"
   ]
  },
  {
   "cell_type": "code",
   "execution_count": 4,
   "metadata": {
    "execution": {
     "iopub.execute_input": "2022-05-02T20:33:17.716371Z",
     "iopub.status.busy": "2022-05-02T20:33:17.715893Z",
     "iopub.status.idle": "2022-05-02T20:33:17.717927Z",
     "shell.execute_reply": "2022-05-02T20:33:17.718303Z"
    }
   },
   "outputs": [],
   "source": [
    "FRAC_ADMIT = 0.5#df[['A']].sum()/len(df)\n"
   ]
  },
  {
   "cell_type": "code",
   "execution_count": 5,
   "metadata": {
    "execution": {
     "iopub.execute_input": "2022-05-02T20:33:17.728471Z",
     "iopub.status.busy": "2022-05-02T20:33:17.727916Z",
     "iopub.status.idle": "2022-05-02T20:33:17.819824Z",
     "shell.execute_reply": "2022-05-02T20:33:17.820208Z"
    }
   },
   "outputs": [
    {
     "data": {
      "text/html": [
       "<div>\n",
       "<style scoped>\n",
       "    .dataframe tbody tr th:only-of-type {\n",
       "        vertical-align: middle;\n",
       "    }\n",
       "\n",
       "    .dataframe tbody tr th {\n",
       "        vertical-align: top;\n",
       "    }\n",
       "\n",
       "    .dataframe thead th {\n",
       "        text-align: right;\n",
       "    }\n",
       "</style>\n",
       "<table border=\"1\" class=\"dataframe\">\n",
       "  <thead>\n",
       "    <tr style=\"text-align: right;\">\n",
       "      <th></th>\n",
       "      <th>R</th>\n",
       "      <th>T</th>\n",
       "      <th>ml_outcomes</th>\n",
       "      <th>T_black</th>\n",
       "      <th>T_white</th>\n",
       "      <th>ml_outcomes_black</th>\n",
       "      <th>ml_outcomes_white</th>\n",
       "      <th>ml_outcomes_decision</th>\n",
       "    </tr>\n",
       "  </thead>\n",
       "  <tbody>\n",
       "    <tr>\n",
       "      <th>754274</th>\n",
       "      <td>0</td>\n",
       "      <td>6</td>\n",
       "      <td>0.02</td>\n",
       "      <td>2</td>\n",
       "      <td>6</td>\n",
       "      <td>-4.389167</td>\n",
       "      <td>-3.858396</td>\n",
       "      <td>0</td>\n",
       "    </tr>\n",
       "    <tr>\n",
       "      <th>72841</th>\n",
       "      <td>0</td>\n",
       "      <td>12</td>\n",
       "      <td>0.03</td>\n",
       "      <td>8</td>\n",
       "      <td>12</td>\n",
       "      <td>-3.914595</td>\n",
       "      <td>-3.383824</td>\n",
       "      <td>0</td>\n",
       "    </tr>\n",
       "    <tr>\n",
       "      <th>729183</th>\n",
       "      <td>0</td>\n",
       "      <td>12</td>\n",
       "      <td>0.03</td>\n",
       "      <td>10</td>\n",
       "      <td>12</td>\n",
       "      <td>-3.756404</td>\n",
       "      <td>-3.383824</td>\n",
       "      <td>0</td>\n",
       "    </tr>\n",
       "    <tr>\n",
       "      <th>682741</th>\n",
       "      <td>0</td>\n",
       "      <td>11</td>\n",
       "      <td>0.03</td>\n",
       "      <td>8</td>\n",
       "      <td>11</td>\n",
       "      <td>-3.914595</td>\n",
       "      <td>-3.462920</td>\n",
       "      <td>0</td>\n",
       "    </tr>\n",
       "    <tr>\n",
       "      <th>181946</th>\n",
       "      <td>0</td>\n",
       "      <td>12</td>\n",
       "      <td>0.03</td>\n",
       "      <td>8</td>\n",
       "      <td>12</td>\n",
       "      <td>-3.914595</td>\n",
       "      <td>-3.383824</td>\n",
       "      <td>0</td>\n",
       "    </tr>\n",
       "    <tr>\n",
       "      <th>...</th>\n",
       "      <td>...</td>\n",
       "      <td>...</td>\n",
       "      <td>...</td>\n",
       "      <td>...</td>\n",
       "      <td>...</td>\n",
       "      <td>...</td>\n",
       "      <td>...</td>\n",
       "      <td>...</td>\n",
       "    </tr>\n",
       "    <tr>\n",
       "      <th>482376</th>\n",
       "      <td>1</td>\n",
       "      <td>104</td>\n",
       "      <td>1.23</td>\n",
       "      <td>104</td>\n",
       "      <td>120</td>\n",
       "      <td>3.678556</td>\n",
       "      <td>5.158470</td>\n",
       "      <td>1</td>\n",
       "    </tr>\n",
       "    <tr>\n",
       "      <th>570794</th>\n",
       "      <td>1</td>\n",
       "      <td>104</td>\n",
       "      <td>1.23</td>\n",
       "      <td>104</td>\n",
       "      <td>121</td>\n",
       "      <td>3.678556</td>\n",
       "      <td>5.237566</td>\n",
       "      <td>1</td>\n",
       "    </tr>\n",
       "    <tr>\n",
       "      <th>939337</th>\n",
       "      <td>1</td>\n",
       "      <td>107</td>\n",
       "      <td>1.23</td>\n",
       "      <td>107</td>\n",
       "      <td>124</td>\n",
       "      <td>3.915842</td>\n",
       "      <td>5.474852</td>\n",
       "      <td>1</td>\n",
       "    </tr>\n",
       "    <tr>\n",
       "      <th>836155</th>\n",
       "      <td>1</td>\n",
       "      <td>107</td>\n",
       "      <td>1.23</td>\n",
       "      <td>107</td>\n",
       "      <td>124</td>\n",
       "      <td>3.915842</td>\n",
       "      <td>5.474852</td>\n",
       "      <td>1</td>\n",
       "    </tr>\n",
       "    <tr>\n",
       "      <th>749129</th>\n",
       "      <td>1</td>\n",
       "      <td>119</td>\n",
       "      <td>1.24</td>\n",
       "      <td>119</td>\n",
       "      <td>137</td>\n",
       "      <td>4.864986</td>\n",
       "      <td>6.503091</td>\n",
       "      <td>1</td>\n",
       "    </tr>\n",
       "  </tbody>\n",
       "</table>\n",
       "<p>1000000 rows × 8 columns</p>\n",
       "</div>"
      ],
      "text/plain": [
       "        R    T  ml_outcomes  T_black  T_white  ml_outcomes_black  \\\n",
       "754274  0    6         0.02        2        6          -4.389167   \n",
       "72841   0   12         0.03        8       12          -3.914595   \n",
       "729183  0   12         0.03       10       12          -3.756404   \n",
       "682741  0   11         0.03        8       11          -3.914595   \n",
       "181946  0   12         0.03        8       12          -3.914595   \n",
       "...    ..  ...          ...      ...      ...                ...   \n",
       "482376  1  104         1.23      104      120           3.678556   \n",
       "570794  1  104         1.23      104      121           3.678556   \n",
       "939337  1  107         1.23      107      124           3.915842   \n",
       "836155  1  107         1.23      107      124           3.915842   \n",
       "749129  1  119         1.24      119      137           4.864986   \n",
       "\n",
       "        ml_outcomes_white  ml_outcomes_decision  \n",
       "754274          -3.858396                     0  \n",
       "72841           -3.383824                     0  \n",
       "729183          -3.383824                     0  \n",
       "682741          -3.462920                     0  \n",
       "181946          -3.383824                     0  \n",
       "...                   ...                   ...  \n",
       "482376           5.158470                     1  \n",
       "570794           5.237566                     1  \n",
       "939337           5.474852                     1  \n",
       "836155           5.474852                     1  \n",
       "749129           6.503091                     1  \n",
       "\n",
       "[1000000 rows x 8 columns]"
      ]
     },
     "execution_count": 5,
     "metadata": {},
     "output_type": "execute_result"
    }
   ],
   "source": [
    "##\n",
    "# R = race, T = test score, ml_outcomes = expected utility from admitting, \n",
    "# ml_outcomes_{} counterfactual utility given race \n",
    "##\n",
    "\n",
    "df[['R','T','ml_outcomes','T_black','T_white','ml_outcomes_black','ml_outcomes_white','ml_outcomes_decision']].sort_values(by='ml_outcomes')\n",
    "\n"
   ]
  },
  {
   "cell_type": "code",
   "execution_count": 6,
   "metadata": {
    "execution": {
     "iopub.execute_input": "2022-05-02T20:33:17.828256Z",
     "iopub.status.busy": "2022-05-02T20:33:17.827871Z",
     "iopub.status.idle": "2022-05-02T20:33:17.857579Z",
     "shell.execute_reply": "2022-05-02T20:33:17.857820Z"
    }
   },
   "outputs": [],
   "source": [
    "###\n",
    "## Get total utility from admitting people in a stratum \n",
    "###\n",
    "\n",
    "df_ = df[['R','T','ml_outcomes']].groupby(['R','T']).sum().reset_index()"
   ]
  },
  {
   "cell_type": "code",
   "execution_count": 7,
   "metadata": {
    "execution": {
     "iopub.execute_input": "2022-05-02T20:33:17.865595Z",
     "iopub.status.busy": "2022-05-02T20:33:17.865042Z",
     "iopub.status.idle": "2022-05-02T20:33:17.890590Z",
     "shell.execute_reply": "2022-05-02T20:33:17.890852Z"
    }
   },
   "outputs": [],
   "source": [
    "###\n",
    "## Get number of people in each stratum\n",
    "###\n",
    "\n",
    "df_count = df[['R','T','ml_outcomes']].groupby(['R','T']).count().reset_index()\n",
    "df_count.columns = ['R','T','Count']\n",
    "df_count['N'] = df_count['Count']"
   ]
  },
  {
   "cell_type": "code",
   "execution_count": 8,
   "metadata": {
    "execution": {
     "iopub.execute_input": "2022-05-02T20:33:17.895478Z",
     "iopub.status.busy": "2022-05-02T20:33:17.895035Z",
     "iopub.status.idle": "2022-05-02T20:33:17.897078Z",
     "shell.execute_reply": "2022-05-02T20:33:17.897356Z"
    }
   },
   "outputs": [],
   "source": [
    "###\n",
    "## Merge summary tables to get one table with Race, Test Score, SUM(Utility), COUNT(applicants) per stratum\n",
    "###\n",
    "\n",
    "dff = df_.merge(df_count[['N']],left_index=True,right_index=True).sort_values(by='ml_outcomes',ascending=False).reset_index().sort_values(by='index').reset_index()"
   ]
  },
  {
   "cell_type": "code",
   "execution_count": 9,
   "metadata": {
    "execution": {
     "iopub.execute_input": "2022-05-02T20:33:17.899860Z",
     "iopub.status.busy": "2022-05-02T20:33:17.899483Z",
     "iopub.status.idle": "2022-05-02T20:33:17.905834Z",
     "shell.execute_reply": "2022-05-02T20:33:17.906141Z"
    }
   },
   "outputs": [
    {
     "data": {
      "text/html": [
       "<div>\n",
       "<style scoped>\n",
       "    .dataframe tbody tr th:only-of-type {\n",
       "        vertical-align: middle;\n",
       "    }\n",
       "\n",
       "    .dataframe tbody tr th {\n",
       "        vertical-align: top;\n",
       "    }\n",
       "\n",
       "    .dataframe thead th {\n",
       "        text-align: right;\n",
       "    }\n",
       "</style>\n",
       "<table border=\"1\" class=\"dataframe\">\n",
       "  <thead>\n",
       "    <tr style=\"text-align: right;\">\n",
       "      <th></th>\n",
       "      <th>level_0</th>\n",
       "      <th>index</th>\n",
       "      <th>R</th>\n",
       "      <th>T</th>\n",
       "      <th>ml_outcomes</th>\n",
       "      <th>N</th>\n",
       "    </tr>\n",
       "  </thead>\n",
       "  <tbody>\n",
       "    <tr>\n",
       "      <th>0</th>\n",
       "      <td>219</td>\n",
       "      <td>0</td>\n",
       "      <td>0</td>\n",
       "      <td>6</td>\n",
       "      <td>0.02</td>\n",
       "      <td>1</td>\n",
       "    </tr>\n",
       "    <tr>\n",
       "      <th>1</th>\n",
       "      <td>218</td>\n",
       "      <td>1</td>\n",
       "      <td>0</td>\n",
       "      <td>10</td>\n",
       "      <td>0.03</td>\n",
       "      <td>1</td>\n",
       "    </tr>\n",
       "    <tr>\n",
       "      <th>2</th>\n",
       "      <td>217</td>\n",
       "      <td>2</td>\n",
       "      <td>0</td>\n",
       "      <td>11</td>\n",
       "      <td>0.12</td>\n",
       "      <td>4</td>\n",
       "    </tr>\n",
       "    <tr>\n",
       "      <th>3</th>\n",
       "      <td>216</td>\n",
       "      <td>3</td>\n",
       "      <td>0</td>\n",
       "      <td>12</td>\n",
       "      <td>0.15</td>\n",
       "      <td>5</td>\n",
       "    </tr>\n",
       "    <tr>\n",
       "      <th>4</th>\n",
       "      <td>215</td>\n",
       "      <td>4</td>\n",
       "      <td>0</td>\n",
       "      <td>13</td>\n",
       "      <td>0.24</td>\n",
       "      <td>6</td>\n",
       "    </tr>\n",
       "    <tr>\n",
       "      <th>...</th>\n",
       "      <td>...</td>\n",
       "      <td>...</td>\n",
       "      <td>...</td>\n",
       "      <td>...</td>\n",
       "      <td>...</td>\n",
       "      <td>...</td>\n",
       "    </tr>\n",
       "    <tr>\n",
       "      <th>51</th>\n",
       "      <td>4</td>\n",
       "      <td>51</td>\n",
       "      <td>0</td>\n",
       "      <td>60</td>\n",
       "      <td>10902.60</td>\n",
       "      <td>18171</td>\n",
       "    </tr>\n",
       "    <tr>\n",
       "      <th>47</th>\n",
       "      <td>3</td>\n",
       "      <td>47</td>\n",
       "      <td>0</td>\n",
       "      <td>56</td>\n",
       "      <td>11013.08</td>\n",
       "      <td>21179</td>\n",
       "    </tr>\n",
       "    <tr>\n",
       "      <th>48</th>\n",
       "      <td>2</td>\n",
       "      <td>48</td>\n",
       "      <td>0</td>\n",
       "      <td>57</td>\n",
       "      <td>11021.94</td>\n",
       "      <td>20411</td>\n",
       "    </tr>\n",
       "    <tr>\n",
       "      <th>49</th>\n",
       "      <td>1</td>\n",
       "      <td>49</td>\n",
       "      <td>0</td>\n",
       "      <td>58</td>\n",
       "      <td>11055.52</td>\n",
       "      <td>19742</td>\n",
       "    </tr>\n",
       "    <tr>\n",
       "      <th>50</th>\n",
       "      <td>0</td>\n",
       "      <td>50</td>\n",
       "      <td>0</td>\n",
       "      <td>59</td>\n",
       "      <td>11122.66</td>\n",
       "      <td>19177</td>\n",
       "    </tr>\n",
       "  </tbody>\n",
       "</table>\n",
       "<p>220 rows × 6 columns</p>\n",
       "</div>"
      ],
      "text/plain": [
       "    level_0  index  R   T  ml_outcomes      N\n",
       "0       219      0  0   6         0.02      1\n",
       "1       218      1  0  10         0.03      1\n",
       "2       217      2  0  11         0.12      4\n",
       "3       216      3  0  12         0.15      5\n",
       "4       215      4  0  13         0.24      6\n",
       "..      ...    ... ..  ..          ...    ...\n",
       "51        4     51  0  60     10902.60  18171\n",
       "47        3     47  0  56     11013.08  21179\n",
       "48        2     48  0  57     11021.94  20411\n",
       "49        1     49  0  58     11055.52  19742\n",
       "50        0     50  0  59     11122.66  19177\n",
       "\n",
       "[220 rows x 6 columns]"
      ]
     },
     "execution_count": 9,
     "metadata": {},
     "output_type": "execute_result"
    }
   ],
   "source": [
    "# final info table\n",
    "dff.sort_values(by='ml_outcomes')"
   ]
  },
  {
   "cell_type": "code",
   "execution_count": null,
   "metadata": {},
   "outputs": [],
   "source": []
  },
  {
   "cell_type": "markdown",
   "metadata": {},
   "source": [
    "### Setup optimization problem "
   ]
  },
  {
   "cell_type": "code",
   "execution_count": 10,
   "metadata": {
    "execution": {
     "iopub.execute_input": "2022-05-02T20:33:17.908901Z",
     "iopub.status.busy": "2022-05-02T20:33:17.908531Z",
     "iopub.status.idle": "2022-05-02T20:33:17.934095Z",
     "shell.execute_reply": "2022-05-02T20:33:17.934355Z"
    }
   },
   "outputs": [],
   "source": [
    "from ortools.linear_solver import pywraplp\n"
   ]
  },
  {
   "cell_type": "code",
   "execution_count": 11,
   "metadata": {
    "execution": {
     "iopub.execute_input": "2022-05-02T20:33:17.936967Z",
     "iopub.status.busy": "2022-05-02T20:33:17.935761Z",
     "iopub.status.idle": "2022-05-02T20:33:17.938317Z",
     "shell.execute_reply": "2022-05-02T20:33:17.938611Z"
    }
   },
   "outputs": [],
   "source": [
    "solver = pywraplp.Solver.CreateSolver('GLOP')\n"
   ]
  },
  {
   "cell_type": "code",
   "execution_count": 12,
   "metadata": {
    "execution": {
     "iopub.execute_input": "2022-05-02T20:33:17.945443Z",
     "iopub.status.busy": "2022-05-02T20:33:17.945059Z",
     "iopub.status.idle": "2022-05-02T20:33:17.946892Z",
     "shell.execute_reply": "2022-05-02T20:33:17.947219Z"
    }
   },
   "outputs": [
    {
     "data": {
      "text/html": [
       "<div>\n",
       "<style scoped>\n",
       "    .dataframe tbody tr th:only-of-type {\n",
       "        vertical-align: middle;\n",
       "    }\n",
       "\n",
       "    .dataframe tbody tr th {\n",
       "        vertical-align: top;\n",
       "    }\n",
       "\n",
       "    .dataframe thead th {\n",
       "        text-align: right;\n",
       "    }\n",
       "</style>\n",
       "<table border=\"1\" class=\"dataframe\">\n",
       "  <thead>\n",
       "    <tr style=\"text-align: right;\">\n",
       "      <th></th>\n",
       "      <th>level_0</th>\n",
       "      <th>index</th>\n",
       "      <th>R</th>\n",
       "      <th>T</th>\n",
       "      <th>ml_outcomes</th>\n",
       "      <th>N</th>\n",
       "    </tr>\n",
       "  </thead>\n",
       "  <tbody>\n",
       "    <tr>\n",
       "      <th>0</th>\n",
       "      <td>219</td>\n",
       "      <td>0</td>\n",
       "      <td>0</td>\n",
       "      <td>6</td>\n",
       "      <td>0.02</td>\n",
       "      <td>1</td>\n",
       "    </tr>\n",
       "    <tr>\n",
       "      <th>1</th>\n",
       "      <td>218</td>\n",
       "      <td>1</td>\n",
       "      <td>0</td>\n",
       "      <td>10</td>\n",
       "      <td>0.03</td>\n",
       "      <td>1</td>\n",
       "    </tr>\n",
       "    <tr>\n",
       "      <th>2</th>\n",
       "      <td>217</td>\n",
       "      <td>2</td>\n",
       "      <td>0</td>\n",
       "      <td>11</td>\n",
       "      <td>0.12</td>\n",
       "      <td>4</td>\n",
       "    </tr>\n",
       "    <tr>\n",
       "      <th>3</th>\n",
       "      <td>216</td>\n",
       "      <td>3</td>\n",
       "      <td>0</td>\n",
       "      <td>12</td>\n",
       "      <td>0.15</td>\n",
       "      <td>5</td>\n",
       "    </tr>\n",
       "    <tr>\n",
       "      <th>4</th>\n",
       "      <td>215</td>\n",
       "      <td>4</td>\n",
       "      <td>0</td>\n",
       "      <td>13</td>\n",
       "      <td>0.24</td>\n",
       "      <td>6</td>\n",
       "    </tr>\n",
       "    <tr>\n",
       "      <th>...</th>\n",
       "      <td>...</td>\n",
       "      <td>...</td>\n",
       "      <td>...</td>\n",
       "      <td>...</td>\n",
       "      <td>...</td>\n",
       "      <td>...</td>\n",
       "    </tr>\n",
       "    <tr>\n",
       "      <th>215</th>\n",
       "      <td>192</td>\n",
       "      <td>215</td>\n",
       "      <td>1</td>\n",
       "      <td>105</td>\n",
       "      <td>3.69</td>\n",
       "      <td>3</td>\n",
       "    </tr>\n",
       "    <tr>\n",
       "      <th>216</th>\n",
       "      <td>198</td>\n",
       "      <td>216</td>\n",
       "      <td>1</td>\n",
       "      <td>107</td>\n",
       "      <td>2.46</td>\n",
       "      <td>2</td>\n",
       "    </tr>\n",
       "    <tr>\n",
       "      <th>217</th>\n",
       "      <td>206</td>\n",
       "      <td>217</td>\n",
       "      <td>1</td>\n",
       "      <td>108</td>\n",
       "      <td>1.23</td>\n",
       "      <td>1</td>\n",
       "    </tr>\n",
       "    <tr>\n",
       "      <th>218</th>\n",
       "      <td>207</td>\n",
       "      <td>218</td>\n",
       "      <td>1</td>\n",
       "      <td>110</td>\n",
       "      <td>1.23</td>\n",
       "      <td>1</td>\n",
       "    </tr>\n",
       "    <tr>\n",
       "      <th>219</th>\n",
       "      <td>205</td>\n",
       "      <td>219</td>\n",
       "      <td>1</td>\n",
       "      <td>119</td>\n",
       "      <td>1.24</td>\n",
       "      <td>1</td>\n",
       "    </tr>\n",
       "  </tbody>\n",
       "</table>\n",
       "<p>220 rows × 6 columns</p>\n",
       "</div>"
      ],
      "text/plain": [
       "     level_0  index  R    T  ml_outcomes  N\n",
       "0        219      0  0    6         0.02  1\n",
       "1        218      1  0   10         0.03  1\n",
       "2        217      2  0   11         0.12  4\n",
       "3        216      3  0   12         0.15  5\n",
       "4        215      4  0   13         0.24  6\n",
       "..       ...    ... ..  ...          ... ..\n",
       "215      192    215  1  105         3.69  3\n",
       "216      198    216  1  107         2.46  2\n",
       "217      206    217  1  108         1.23  1\n",
       "218      207    218  1  110         1.23  1\n",
       "219      205    219  1  119         1.24  1\n",
       "\n",
       "[220 rows x 6 columns]"
      ]
     },
     "execution_count": 12,
     "metadata": {},
     "output_type": "execute_result"
    }
   ],
   "source": [
    "dff"
   ]
  },
  {
   "cell_type": "code",
   "execution_count": 13,
   "metadata": {
    "execution": {
     "iopub.execute_input": "2022-05-02T20:33:17.957493Z",
     "iopub.status.busy": "2022-05-02T20:33:17.957107Z",
     "iopub.status.idle": "2022-05-02T20:33:17.958571Z",
     "shell.execute_reply": "2022-05-02T20:33:17.958817Z"
    }
   },
   "outputs": [],
   "source": [
    "applicant_stratum = []\n",
    "vars_cache = {}\n",
    "\n",
    "# Objective: Maximize the expected utility of the admitted students\n",
    "objective = solver.Objective()\n",
    "\n",
    "# For each stratum\n",
    "for ix, row in dff.iterrows():\n",
    "    # probability of admission\n",
    "    numvar = solver.NumVar(0.0, 1.0, str(ix))\n",
    "    \n",
    "    # store variable by index, and also by stratum R, T\n",
    "    applicant_stratum.append(numvar)\n",
    "    vars_cache[(row['R'],row['T'])] = numvar\n",
    "    \n",
    "    # Benefit of admitting people is total utility in that stratum\n",
    "    objective.SetCoefficient(applicant_stratum[ix], float(row['ml_outcomes']))\n",
    "objective.SetMaximization()\n"
   ]
  },
  {
   "cell_type": "code",
   "execution_count": 14,
   "metadata": {
    "execution": {
     "iopub.execute_input": "2022-05-02T20:33:17.961465Z",
     "iopub.status.busy": "2022-05-02T20:33:17.961099Z",
     "iopub.status.idle": "2022-05-02T20:33:17.962530Z",
     "shell.execute_reply": "2022-05-02T20:33:17.962834Z"
    }
   },
   "outputs": [
    {
     "data": {
      "text/plain": [
       "0"
      ]
     },
     "execution_count": 14,
     "metadata": {},
     "output_type": "execute_result"
    }
   ],
   "source": [
    "# Currently we have no constraints \n",
    "solver.NumConstraints()"
   ]
  },
  {
   "cell_type": "code",
   "execution_count": 15,
   "metadata": {
    "execution": {
     "iopub.execute_input": "2022-05-02T20:33:17.970846Z",
     "iopub.status.busy": "2022-05-02T20:33:17.970411Z",
     "iopub.status.idle": "2022-05-02T20:33:17.972070Z",
     "shell.execute_reply": "2022-05-02T20:33:17.972450Z"
    },
    "scrolled": true
   },
   "outputs": [
    {
     "name": "stdout",
     "output_type": "stream",
     "text": [
      "484752\n"
     ]
    }
   ],
   "source": [
    "# Constraint: At most K applicants\n",
    "K = int(len(df)*FRAC_ADMIT)\n",
    "print(K)\n",
    "admit_quota = solver.Constraint(0, K)\n",
    "\n",
    "# Total applicants cannot exceed K \n",
    "for ix, row in dff.iterrows():\n",
    "    admit_quota.SetCoefficient(applicant_stratum[ix], float(row['N']))"
   ]
  },
  {
   "cell_type": "code",
   "execution_count": 16,
   "metadata": {
    "execution": {
     "iopub.execute_input": "2022-05-02T20:33:17.975498Z",
     "iopub.status.busy": "2022-05-02T20:33:17.974973Z",
     "iopub.status.idle": "2022-05-02T20:33:17.976513Z",
     "shell.execute_reply": "2022-05-02T20:33:17.976752Z"
    }
   },
   "outputs": [
    {
     "data": {
      "text/plain": [
       "1"
      ]
     },
     "execution_count": 16,
     "metadata": {},
     "output_type": "execute_result"
    }
   ],
   "source": [
    "# Now we have one constraint\n",
    "solver.NumConstraints()"
   ]
  },
  {
   "cell_type": "code",
   "execution_count": null,
   "metadata": {},
   "outputs": [],
   "source": []
  },
  {
   "cell_type": "markdown",
   "metadata": {},
   "source": [
    "## Add CF Fair constraints"
   ]
  },
  {
   "cell_type": "code",
   "execution_count": 17,
   "metadata": {
    "execution": {
     "iopub.execute_input": "2022-05-02T20:33:17.979871Z",
     "iopub.status.busy": "2022-05-02T20:33:17.979487Z",
     "iopub.status.idle": "2022-05-02T20:33:17.980851Z",
     "shell.execute_reply": "2022-05-02T20:33:17.981146Z"
    }
   },
   "outputs": [],
   "source": [
    "from collections import Counter\n",
    "\n",
    "def convertListToProb(raw_list):\n",
    "    counts = dict(Counter(raw_list))\n",
    "    probs = {}\n",
    "    for test_score in counts:\n",
    "        probs[test_score]  = counts[test_score]/float(len(raw_list))\n",
    "    return [(probs[t], t) for t in probs]"
   ]
  },
  {
   "cell_type": "code",
   "execution_count": 18,
   "metadata": {
    "execution": {
     "iopub.execute_input": "2022-05-02T20:33:17.984231Z",
     "iopub.status.busy": "2022-05-02T20:33:17.983842Z",
     "iopub.status.idle": "2022-05-02T20:33:18.090703Z",
     "shell.execute_reply": "2022-05-02T20:33:18.090941Z"
    }
   },
   "outputs": [],
   "source": [
    "T_blacks_list = df[df['R']==0][['T','T_black_star']].groupby('T')['T_black_star'].apply(list).reset_index(name='T_blacks')\n"
   ]
  },
  {
   "cell_type": "code",
   "execution_count": 19,
   "metadata": {
    "execution": {
     "iopub.execute_input": "2022-05-02T20:33:18.118496Z",
     "iopub.status.busy": "2022-05-02T20:33:18.118065Z",
     "iopub.status.idle": "2022-05-02T20:33:18.119110Z",
     "shell.execute_reply": "2022-05-02T20:33:18.119400Z"
    }
   },
   "outputs": [],
   "source": [
    "T_blacks_list['probs'] = T_blacks_list['T_blacks'].apply(convertListToProb)\n"
   ]
  },
  {
   "cell_type": "code",
   "execution_count": 20,
   "metadata": {
    "execution": {
     "iopub.execute_input": "2022-05-02T20:33:18.130223Z",
     "iopub.status.busy": "2022-05-02T20:33:18.129828Z",
     "iopub.status.idle": "2022-05-02T20:33:18.131451Z",
     "shell.execute_reply": "2022-05-02T20:33:18.131763Z"
    }
   },
   "outputs": [
    {
     "data": {
      "text/html": [
       "<div>\n",
       "<style scoped>\n",
       "    .dataframe tbody tr th:only-of-type {\n",
       "        vertical-align: middle;\n",
       "    }\n",
       "\n",
       "    .dataframe tbody tr th {\n",
       "        vertical-align: top;\n",
       "    }\n",
       "\n",
       "    .dataframe thead th {\n",
       "        text-align: right;\n",
       "    }\n",
       "</style>\n",
       "<table border=\"1\" class=\"dataframe\">\n",
       "  <thead>\n",
       "    <tr style=\"text-align: right;\">\n",
       "      <th></th>\n",
       "      <th>T</th>\n",
       "      <th>T_blacks</th>\n",
       "      <th>probs</th>\n",
       "    </tr>\n",
       "  </thead>\n",
       "  <tbody>\n",
       "    <tr>\n",
       "      <th>0</th>\n",
       "      <td>6</td>\n",
       "      <td>[5]</td>\n",
       "      <td>[(1.0, 5)]</td>\n",
       "    </tr>\n",
       "    <tr>\n",
       "      <th>1</th>\n",
       "      <td>10</td>\n",
       "      <td>[11]</td>\n",
       "      <td>[(1.0, 11)]</td>\n",
       "    </tr>\n",
       "    <tr>\n",
       "      <th>2</th>\n",
       "      <td>11</td>\n",
       "      <td>[10, 11, 11, 11]</td>\n",
       "      <td>[(0.25, 10), (0.75, 11)]</td>\n",
       "    </tr>\n",
       "    <tr>\n",
       "      <th>3</th>\n",
       "      <td>12</td>\n",
       "      <td>[11, 12, 10, 11, 12]</td>\n",
       "      <td>[(0.4, 11), (0.4, 12), (0.2, 10)]</td>\n",
       "    </tr>\n",
       "    <tr>\n",
       "      <th>4</th>\n",
       "      <td>13</td>\n",
       "      <td>[10, 12, 12, 12, 11, 12]</td>\n",
       "      <td>[(0.16666666666666666, 10), (0.666666666666666...</td>\n",
       "    </tr>\n",
       "    <tr>\n",
       "      <th>...</th>\n",
       "      <td>...</td>\n",
       "      <td>...</td>\n",
       "      <td>...</td>\n",
       "    </tr>\n",
       "    <tr>\n",
       "      <th>112</th>\n",
       "      <td>121</td>\n",
       "      <td>[111, 112, 113, 112, 112]</td>\n",
       "      <td>[(0.2, 111), (0.6, 112), (0.2, 113)]</td>\n",
       "    </tr>\n",
       "    <tr>\n",
       "      <th>113</th>\n",
       "      <td>122</td>\n",
       "      <td>[113, 113]</td>\n",
       "      <td>[(1.0, 113)]</td>\n",
       "    </tr>\n",
       "    <tr>\n",
       "      <th>114</th>\n",
       "      <td>123</td>\n",
       "      <td>[114, 114]</td>\n",
       "      <td>[(1.0, 114)]</td>\n",
       "    </tr>\n",
       "    <tr>\n",
       "      <th>115</th>\n",
       "      <td>124</td>\n",
       "      <td>[114, 115, 113]</td>\n",
       "      <td>[(0.3333333333333333, 114), (0.333333333333333...</td>\n",
       "    </tr>\n",
       "    <tr>\n",
       "      <th>116</th>\n",
       "      <td>129</td>\n",
       "      <td>[119, 119]</td>\n",
       "      <td>[(1.0, 119)]</td>\n",
       "    </tr>\n",
       "  </tbody>\n",
       "</table>\n",
       "<p>117 rows × 3 columns</p>\n",
       "</div>"
      ],
      "text/plain": [
       "       T                   T_blacks  \\\n",
       "0      6                        [5]   \n",
       "1     10                       [11]   \n",
       "2     11           [10, 11, 11, 11]   \n",
       "3     12       [11, 12, 10, 11, 12]   \n",
       "4     13   [10, 12, 12, 12, 11, 12]   \n",
       "..   ...                        ...   \n",
       "112  121  [111, 112, 113, 112, 112]   \n",
       "113  122                 [113, 113]   \n",
       "114  123                 [114, 114]   \n",
       "115  124            [114, 115, 113]   \n",
       "116  129                 [119, 119]   \n",
       "\n",
       "                                                 probs  \n",
       "0                                           [(1.0, 5)]  \n",
       "1                                          [(1.0, 11)]  \n",
       "2                             [(0.25, 10), (0.75, 11)]  \n",
       "3                    [(0.4, 11), (0.4, 12), (0.2, 10)]  \n",
       "4    [(0.16666666666666666, 10), (0.666666666666666...  \n",
       "..                                                 ...  \n",
       "112               [(0.2, 111), (0.6, 112), (0.2, 113)]  \n",
       "113                                       [(1.0, 113)]  \n",
       "114                                       [(1.0, 114)]  \n",
       "115  [(0.3333333333333333, 114), (0.333333333333333...  \n",
       "116                                       [(1.0, 119)]  \n",
       "\n",
       "[117 rows x 3 columns]"
      ]
     },
     "execution_count": 20,
     "metadata": {},
     "output_type": "execute_result"
    }
   ],
   "source": [
    "T_blacks_list"
   ]
  },
  {
   "cell_type": "code",
   "execution_count": 21,
   "metadata": {
    "execution": {
     "iopub.execute_input": "2022-05-02T20:33:18.140429Z",
     "iopub.status.busy": "2022-05-02T20:33:18.139967Z",
     "iopub.status.idle": "2022-05-02T20:33:18.141325Z",
     "shell.execute_reply": "2022-05-02T20:33:18.141619Z"
    }
   },
   "outputs": [],
   "source": [
    "didntexist = 0\n",
    "exists = 0\n",
    "for ix, row in T_blacks_list.iterrows():\n",
    "    cf_fair_stratum = solver.Constraint(0.0, 0.0)\n",
    "\n",
    "    White_T = row['T']\n",
    "    Blacks_Ts = row['probs']\n",
    "    \n",
    "    cf_fair_stratum.SetCoefficient(vars_cache[(0.0, White_T)], -1.0)\n",
    "    for prob in Blacks_Ts:\n",
    "        if (1.0, prob[1]) not in vars_cache:\n",
    "            vars_cache[(1.0, prob[1])] = solver.NumVar(0.0, 1.0, str((1.0, prob[1])))\n",
    "            didntexist+=1\n",
    "        else:\n",
    "            exists+=1\n",
    "        cf_fair_stratum.SetCoefficient(vars_cache[(1.0, prob[1])], prob[0])\n",
    "    "
   ]
  },
  {
   "cell_type": "code",
   "execution_count": 22,
   "metadata": {
    "execution": {
     "iopub.execute_input": "2022-05-02T20:33:18.144196Z",
     "iopub.status.busy": "2022-05-02T20:33:18.143820Z",
     "iopub.status.idle": "2022-05-02T20:33:18.145393Z",
     "shell.execute_reply": "2022-05-02T20:33:18.145691Z"
    }
   },
   "outputs": [
    {
     "data": {
      "text/plain": [
       "(8, 718)"
      ]
     },
     "execution_count": 22,
     "metadata": {},
     "output_type": "execute_result"
    }
   ],
   "source": [
    "didntexist,exists"
   ]
  },
  {
   "cell_type": "code",
   "execution_count": 23,
   "metadata": {
    "execution": {
     "iopub.execute_input": "2022-05-02T20:33:18.148370Z",
     "iopub.status.busy": "2022-05-02T20:33:18.147968Z",
     "iopub.status.idle": "2022-05-02T20:33:18.202971Z",
     "shell.execute_reply": "2022-05-02T20:33:18.203225Z"
    }
   },
   "outputs": [],
   "source": [
    "T_whites_list = df[df['R']==1][['T','T_white_star']].groupby('T')['T_white_star'].apply(list).reset_index(name='T_whites')"
   ]
  },
  {
   "cell_type": "code",
   "execution_count": 24,
   "metadata": {
    "execution": {
     "iopub.execute_input": "2022-05-02T20:33:18.217968Z",
     "iopub.status.busy": "2022-05-02T20:33:18.211632Z",
     "iopub.status.idle": "2022-05-02T20:33:18.219307Z",
     "shell.execute_reply": "2022-05-02T20:33:18.219603Z"
    }
   },
   "outputs": [],
   "source": [
    "T_whites_list['probs'] = T_whites_list['T_whites'].apply(convertListToProb)\n"
   ]
  },
  {
   "cell_type": "code",
   "execution_count": 25,
   "metadata": {
    "execution": {
     "iopub.execute_input": "2022-05-02T20:33:18.227781Z",
     "iopub.status.busy": "2022-05-02T20:33:18.227329Z",
     "iopub.status.idle": "2022-05-02T20:33:18.228414Z",
     "shell.execute_reply": "2022-05-02T20:33:18.228697Z"
    }
   },
   "outputs": [],
   "source": [
    "didntexist = 0\n",
    "exists = 0\n",
    "\n",
    "for ix, row in T_whites_list.iterrows():\n",
    "    cf_fair_stratum = solver.Constraint(0.0, 0.0)\n",
    "\n",
    "    Black_T = row['T']\n",
    "    White_Ts = row['probs']\n",
    "    \n",
    "    cf_fair_stratum.SetCoefficient(vars_cache[(1.0, Black_T)], -1.0)\n",
    "    for prob in White_Ts:\n",
    "        if (0.0, prob[1]) not in vars_cache:\n",
    "            vars_cache[(0.0, prob[1])] = solver.NumVar(0.0, 1.0, str((0.0, prob[1])))\n",
    "            didntexist+=1\n",
    "        else:\n",
    "            exists+=1\n",
    "            \n",
    "        cf_fair_stratum.SetCoefficient(vars_cache[(0.0, prob[1])], prob[0])\n",
    "    "
   ]
  },
  {
   "cell_type": "code",
   "execution_count": 26,
   "metadata": {
    "execution": {
     "iopub.execute_input": "2022-05-02T20:33:18.231398Z",
     "iopub.status.busy": "2022-05-02T20:33:18.230937Z",
     "iopub.status.idle": "2022-05-02T20:33:18.232680Z",
     "shell.execute_reply": "2022-05-02T20:33:18.233045Z"
    }
   },
   "outputs": [
    {
     "data": {
      "text/plain": [
       "<bound method Constraint.basis_status of <ortools.linear_solver.pywraplp.Constraint; proxy of <Swig Object of type 'operations_research::MPConstraint *' at 0x7fdef8045e70> >>"
      ]
     },
     "execution_count": 26,
     "metadata": {},
     "output_type": "execute_result"
    }
   ],
   "source": [
    "cf_fair_stratum.basis_status"
   ]
  },
  {
   "cell_type": "code",
   "execution_count": 27,
   "metadata": {
    "execution": {
     "iopub.execute_input": "2022-05-02T20:33:18.235639Z",
     "iopub.status.busy": "2022-05-02T20:33:18.235264Z",
     "iopub.status.idle": "2022-05-02T20:33:18.236725Z",
     "shell.execute_reply": "2022-05-02T20:33:18.237015Z"
    }
   },
   "outputs": [
    {
     "data": {
      "text/plain": [
       "221"
      ]
     },
     "execution_count": 27,
     "metadata": {},
     "output_type": "execute_result"
    }
   ],
   "source": [
    "solver.NumConstraints()"
   ]
  },
  {
   "cell_type": "markdown",
   "metadata": {},
   "source": [
    "## Solve linear program"
   ]
  },
  {
   "cell_type": "code",
   "execution_count": 28,
   "metadata": {
    "execution": {
     "iopub.execute_input": "2022-05-02T20:33:18.239591Z",
     "iopub.status.busy": "2022-05-02T20:33:18.239051Z",
     "iopub.status.idle": "2022-05-02T20:33:18.240857Z",
     "shell.execute_reply": "2022-05-02T20:33:18.241223Z"
    }
   },
   "outputs": [
    {
     "data": {
      "text/plain": [
       "4"
      ]
     },
     "execution_count": 28,
     "metadata": {},
     "output_type": "execute_result"
    }
   ],
   "source": [
    "solver.ABNORMAL"
   ]
  },
  {
   "cell_type": "code",
   "execution_count": 29,
   "metadata": {
    "execution": {
     "iopub.execute_input": "2022-05-02T20:33:18.248220Z",
     "iopub.status.busy": "2022-05-02T20:33:18.247735Z",
     "iopub.status.idle": "2022-05-02T20:33:18.248994Z",
     "shell.execute_reply": "2022-05-02T20:33:18.249316Z"
    }
   },
   "outputs": [],
   "source": [
    "status = solver.Solve()\n"
   ]
  },
  {
   "cell_type": "code",
   "execution_count": 30,
   "metadata": {
    "execution": {
     "iopub.execute_input": "2022-05-02T20:33:18.251848Z",
     "iopub.status.busy": "2022-05-02T20:33:18.251439Z",
     "iopub.status.idle": "2022-05-02T20:33:18.252915Z",
     "shell.execute_reply": "2022-05-02T20:33:18.253264Z"
    }
   },
   "outputs": [
    {
     "data": {
      "text/plain": [
       "0"
      ]
     },
     "execution_count": 30,
     "metadata": {},
     "output_type": "execute_result"
    }
   ],
   "source": [
    "status"
   ]
  },
  {
   "cell_type": "code",
   "execution_count": 31,
   "metadata": {
    "execution": {
     "iopub.execute_input": "2022-05-02T20:33:18.255509Z",
     "iopub.status.busy": "2022-05-02T20:33:18.255160Z",
     "iopub.status.idle": "2022-05-02T20:33:18.256711Z",
     "shell.execute_reply": "2022-05-02T20:33:18.256994Z"
    }
   },
   "outputs": [
    {
     "data": {
      "text/plain": [
       "0"
      ]
     },
     "execution_count": 31,
     "metadata": {},
     "output_type": "execute_result"
    }
   ],
   "source": [
    "solver.OPTIMAL"
   ]
  },
  {
   "cell_type": "code",
   "execution_count": 32,
   "metadata": {
    "execution": {
     "iopub.execute_input": "2022-05-02T20:33:18.260271Z",
     "iopub.status.busy": "2022-05-02T20:33:18.259912Z",
     "iopub.status.idle": "2022-05-02T20:33:18.261236Z",
     "shell.execute_reply": "2022-05-02T20:33:18.261527Z"
    },
    "scrolled": true
   },
   "outputs": [],
   "source": [
    "row = []\n",
    "admit = []\n",
    "\n",
    "for i in applicant_stratum:\n",
    "    row.append(int(str(i)))\n",
    "    admit.append(i.solution_value())\n",
    "\n",
    "df_decisions = pd.DataFrame({'row_id':row,'decision':admit})"
   ]
  },
  {
   "cell_type": "code",
   "execution_count": 33,
   "metadata": {
    "execution": {
     "iopub.execute_input": "2022-05-02T20:33:18.266698Z",
     "iopub.status.busy": "2022-05-02T20:33:18.266258Z",
     "iopub.status.idle": "2022-05-02T20:33:18.267925Z",
     "shell.execute_reply": "2022-05-02T20:33:18.268209Z"
    }
   },
   "outputs": [
    {
     "data": {
      "text/html": [
       "<div>\n",
       "<style scoped>\n",
       "    .dataframe tbody tr th:only-of-type {\n",
       "        vertical-align: middle;\n",
       "    }\n",
       "\n",
       "    .dataframe tbody tr th {\n",
       "        vertical-align: top;\n",
       "    }\n",
       "\n",
       "    .dataframe thead th {\n",
       "        text-align: right;\n",
       "    }\n",
       "</style>\n",
       "<table border=\"1\" class=\"dataframe\">\n",
       "  <thead>\n",
       "    <tr style=\"text-align: right;\">\n",
       "      <th></th>\n",
       "      <th>row_id</th>\n",
       "      <th>decision</th>\n",
       "    </tr>\n",
       "  </thead>\n",
       "  <tbody>\n",
       "    <tr>\n",
       "      <th>0</th>\n",
       "      <td>0</td>\n",
       "      <td>0.000000</td>\n",
       "    </tr>\n",
       "    <tr>\n",
       "      <th>1</th>\n",
       "      <td>1</td>\n",
       "      <td>0.484716</td>\n",
       "    </tr>\n",
       "    <tr>\n",
       "      <th>2</th>\n",
       "      <td>2</td>\n",
       "      <td>0.484716</td>\n",
       "    </tr>\n",
       "    <tr>\n",
       "      <th>3</th>\n",
       "      <td>3</td>\n",
       "      <td>0.484716</td>\n",
       "    </tr>\n",
       "    <tr>\n",
       "      <th>4</th>\n",
       "      <td>4</td>\n",
       "      <td>0.484716</td>\n",
       "    </tr>\n",
       "    <tr>\n",
       "      <th>...</th>\n",
       "      <td>...</td>\n",
       "      <td>...</td>\n",
       "    </tr>\n",
       "    <tr>\n",
       "      <th>215</th>\n",
       "      <td>215</td>\n",
       "      <td>0.771242</td>\n",
       "    </tr>\n",
       "    <tr>\n",
       "      <th>216</th>\n",
       "      <td>216</td>\n",
       "      <td>0.989107</td>\n",
       "    </tr>\n",
       "    <tr>\n",
       "      <th>217</th>\n",
       "      <td>217</td>\n",
       "      <td>0.978213</td>\n",
       "    </tr>\n",
       "    <tr>\n",
       "      <th>218</th>\n",
       "      <td>218</td>\n",
       "      <td>0.996888</td>\n",
       "    </tr>\n",
       "    <tr>\n",
       "      <th>219</th>\n",
       "      <td>219</td>\n",
       "      <td>1.000000</td>\n",
       "    </tr>\n",
       "  </tbody>\n",
       "</table>\n",
       "<p>220 rows × 2 columns</p>\n",
       "</div>"
      ],
      "text/plain": [
       "     row_id  decision\n",
       "0         0  0.000000\n",
       "1         1  0.484716\n",
       "2         2  0.484716\n",
       "3         3  0.484716\n",
       "4         4  0.484716\n",
       "..      ...       ...\n",
       "215     215  0.771242\n",
       "216     216  0.989107\n",
       "217     217  0.978213\n",
       "218     218  0.996888\n",
       "219     219  1.000000\n",
       "\n",
       "[220 rows x 2 columns]"
      ]
     },
     "execution_count": 33,
     "metadata": {},
     "output_type": "execute_result"
    }
   ],
   "source": [
    "df_decisions"
   ]
  },
  {
   "cell_type": "code",
   "execution_count": 34,
   "metadata": {
    "execution": {
     "iopub.execute_input": "2022-05-02T20:33:18.276383Z",
     "iopub.status.busy": "2022-05-02T20:33:18.275927Z",
     "iopub.status.idle": "2022-05-02T20:33:18.277700Z",
     "shell.execute_reply": "2022-05-02T20:33:18.277944Z"
    }
   },
   "outputs": [
    {
     "data": {
      "text/html": [
       "<div>\n",
       "<style scoped>\n",
       "    .dataframe tbody tr th:only-of-type {\n",
       "        vertical-align: middle;\n",
       "    }\n",
       "\n",
       "    .dataframe tbody tr th {\n",
       "        vertical-align: top;\n",
       "    }\n",
       "\n",
       "    .dataframe thead th {\n",
       "        text-align: right;\n",
       "    }\n",
       "</style>\n",
       "<table border=\"1\" class=\"dataframe\">\n",
       "  <thead>\n",
       "    <tr style=\"text-align: right;\">\n",
       "      <th></th>\n",
       "      <th>level_0</th>\n",
       "      <th>index</th>\n",
       "      <th>R</th>\n",
       "      <th>T</th>\n",
       "      <th>ml_outcomes</th>\n",
       "      <th>N</th>\n",
       "      <th>row_id</th>\n",
       "      <th>decision</th>\n",
       "    </tr>\n",
       "  </thead>\n",
       "  <tbody>\n",
       "    <tr>\n",
       "      <th>50</th>\n",
       "      <td>0</td>\n",
       "      <td>50</td>\n",
       "      <td>0</td>\n",
       "      <td>59</td>\n",
       "      <td>11122.66</td>\n",
       "      <td>19177</td>\n",
       "      <td>50</td>\n",
       "      <td>0.484716</td>\n",
       "    </tr>\n",
       "    <tr>\n",
       "      <th>49</th>\n",
       "      <td>1</td>\n",
       "      <td>49</td>\n",
       "      <td>0</td>\n",
       "      <td>58</td>\n",
       "      <td>11055.52</td>\n",
       "      <td>19742</td>\n",
       "      <td>49</td>\n",
       "      <td>0.484716</td>\n",
       "    </tr>\n",
       "    <tr>\n",
       "      <th>48</th>\n",
       "      <td>2</td>\n",
       "      <td>48</td>\n",
       "      <td>0</td>\n",
       "      <td>57</td>\n",
       "      <td>11021.94</td>\n",
       "      <td>20411</td>\n",
       "      <td>48</td>\n",
       "      <td>0.484716</td>\n",
       "    </tr>\n",
       "    <tr>\n",
       "      <th>47</th>\n",
       "      <td>3</td>\n",
       "      <td>47</td>\n",
       "      <td>0</td>\n",
       "      <td>56</td>\n",
       "      <td>11013.08</td>\n",
       "      <td>21179</td>\n",
       "      <td>47</td>\n",
       "      <td>0.484716</td>\n",
       "    </tr>\n",
       "    <tr>\n",
       "      <th>51</th>\n",
       "      <td>4</td>\n",
       "      <td>51</td>\n",
       "      <td>0</td>\n",
       "      <td>60</td>\n",
       "      <td>10902.60</td>\n",
       "      <td>18171</td>\n",
       "      <td>51</td>\n",
       "      <td>0.484716</td>\n",
       "    </tr>\n",
       "    <tr>\n",
       "      <th>...</th>\n",
       "      <td>...</td>\n",
       "      <td>...</td>\n",
       "      <td>...</td>\n",
       "      <td>...</td>\n",
       "      <td>...</td>\n",
       "      <td>...</td>\n",
       "      <td>...</td>\n",
       "      <td>...</td>\n",
       "    </tr>\n",
       "    <tr>\n",
       "      <th>4</th>\n",
       "      <td>215</td>\n",
       "      <td>4</td>\n",
       "      <td>0</td>\n",
       "      <td>13</td>\n",
       "      <td>0.24</td>\n",
       "      <td>6</td>\n",
       "      <td>4</td>\n",
       "      <td>0.484716</td>\n",
       "    </tr>\n",
       "    <tr>\n",
       "      <th>3</th>\n",
       "      <td>216</td>\n",
       "      <td>3</td>\n",
       "      <td>0</td>\n",
       "      <td>12</td>\n",
       "      <td>0.15</td>\n",
       "      <td>5</td>\n",
       "      <td>3</td>\n",
       "      <td>0.484716</td>\n",
       "    </tr>\n",
       "    <tr>\n",
       "      <th>2</th>\n",
       "      <td>217</td>\n",
       "      <td>2</td>\n",
       "      <td>0</td>\n",
       "      <td>11</td>\n",
       "      <td>0.12</td>\n",
       "      <td>4</td>\n",
       "      <td>2</td>\n",
       "      <td>0.484716</td>\n",
       "    </tr>\n",
       "    <tr>\n",
       "      <th>1</th>\n",
       "      <td>218</td>\n",
       "      <td>1</td>\n",
       "      <td>0</td>\n",
       "      <td>10</td>\n",
       "      <td>0.03</td>\n",
       "      <td>1</td>\n",
       "      <td>1</td>\n",
       "      <td>0.484716</td>\n",
       "    </tr>\n",
       "    <tr>\n",
       "      <th>0</th>\n",
       "      <td>219</td>\n",
       "      <td>0</td>\n",
       "      <td>0</td>\n",
       "      <td>6</td>\n",
       "      <td>0.02</td>\n",
       "      <td>1</td>\n",
       "      <td>0</td>\n",
       "      <td>0.000000</td>\n",
       "    </tr>\n",
       "  </tbody>\n",
       "</table>\n",
       "<p>220 rows × 8 columns</p>\n",
       "</div>"
      ],
      "text/plain": [
       "    level_0  index  R   T  ml_outcomes      N  row_id  decision\n",
       "50        0     50  0  59     11122.66  19177      50  0.484716\n",
       "49        1     49  0  58     11055.52  19742      49  0.484716\n",
       "48        2     48  0  57     11021.94  20411      48  0.484716\n",
       "47        3     47  0  56     11013.08  21179      47  0.484716\n",
       "51        4     51  0  60     10902.60  18171      51  0.484716\n",
       "..      ...    ... ..  ..          ...    ...     ...       ...\n",
       "4       215      4  0  13         0.24      6       4  0.484716\n",
       "3       216      3  0  12         0.15      5       3  0.484716\n",
       "2       217      2  0  11         0.12      4       2  0.484716\n",
       "1       218      1  0  10         0.03      1       1  0.484716\n",
       "0       219      0  0   6         0.02      1       0  0.000000\n",
       "\n",
       "[220 rows x 8 columns]"
      ]
     },
     "execution_count": 34,
     "metadata": {},
     "output_type": "execute_result"
    }
   ],
   "source": [
    "dff.merge(df_decisions,left_index=True,right_index=True).sort_values(by='ml_outcomes',ascending=False)"
   ]
  },
  {
   "cell_type": "code",
   "execution_count": 35,
   "metadata": {
    "execution": {
     "iopub.execute_input": "2022-05-02T20:33:18.286350Z",
     "iopub.status.busy": "2022-05-02T20:33:18.285906Z",
     "iopub.status.idle": "2022-05-02T20:33:18.287660Z",
     "shell.execute_reply": "2022-05-02T20:33:18.288214Z"
    }
   },
   "outputs": [
    {
     "data": {
      "text/html": [
       "<div>\n",
       "<style scoped>\n",
       "    .dataframe tbody tr th:only-of-type {\n",
       "        vertical-align: middle;\n",
       "    }\n",
       "\n",
       "    .dataframe tbody tr th {\n",
       "        vertical-align: top;\n",
       "    }\n",
       "\n",
       "    .dataframe thead th {\n",
       "        text-align: right;\n",
       "    }\n",
       "</style>\n",
       "<table border=\"1\" class=\"dataframe\">\n",
       "  <thead>\n",
       "    <tr style=\"text-align: right;\">\n",
       "      <th></th>\n",
       "      <th>level_0</th>\n",
       "      <th>index</th>\n",
       "      <th>R</th>\n",
       "      <th>T</th>\n",
       "      <th>ml_outcomes</th>\n",
       "      <th>N</th>\n",
       "      <th>row_id</th>\n",
       "      <th>decision</th>\n",
       "    </tr>\n",
       "  </thead>\n",
       "  <tbody>\n",
       "    <tr>\n",
       "      <th>50</th>\n",
       "      <td>0</td>\n",
       "      <td>50</td>\n",
       "      <td>0</td>\n",
       "      <td>59</td>\n",
       "      <td>11122.66</td>\n",
       "      <td>19177</td>\n",
       "      <td>50</td>\n",
       "      <td>0.484716</td>\n",
       "    </tr>\n",
       "    <tr>\n",
       "      <th>49</th>\n",
       "      <td>1</td>\n",
       "      <td>49</td>\n",
       "      <td>0</td>\n",
       "      <td>58</td>\n",
       "      <td>11055.52</td>\n",
       "      <td>19742</td>\n",
       "      <td>49</td>\n",
       "      <td>0.484716</td>\n",
       "    </tr>\n",
       "    <tr>\n",
       "      <th>48</th>\n",
       "      <td>2</td>\n",
       "      <td>48</td>\n",
       "      <td>0</td>\n",
       "      <td>57</td>\n",
       "      <td>11021.94</td>\n",
       "      <td>20411</td>\n",
       "      <td>48</td>\n",
       "      <td>0.484716</td>\n",
       "    </tr>\n",
       "    <tr>\n",
       "      <th>47</th>\n",
       "      <td>3</td>\n",
       "      <td>47</td>\n",
       "      <td>0</td>\n",
       "      <td>56</td>\n",
       "      <td>11013.08</td>\n",
       "      <td>21179</td>\n",
       "      <td>47</td>\n",
       "      <td>0.484716</td>\n",
       "    </tr>\n",
       "    <tr>\n",
       "      <th>51</th>\n",
       "      <td>4</td>\n",
       "      <td>51</td>\n",
       "      <td>0</td>\n",
       "      <td>60</td>\n",
       "      <td>10902.60</td>\n",
       "      <td>18171</td>\n",
       "      <td>51</td>\n",
       "      <td>0.484716</td>\n",
       "    </tr>\n",
       "    <tr>\n",
       "      <th>...</th>\n",
       "      <td>...</td>\n",
       "      <td>...</td>\n",
       "      <td>...</td>\n",
       "      <td>...</td>\n",
       "      <td>...</td>\n",
       "      <td>...</td>\n",
       "      <td>...</td>\n",
       "      <td>...</td>\n",
       "    </tr>\n",
       "    <tr>\n",
       "      <th>4</th>\n",
       "      <td>215</td>\n",
       "      <td>4</td>\n",
       "      <td>0</td>\n",
       "      <td>13</td>\n",
       "      <td>0.24</td>\n",
       "      <td>6</td>\n",
       "      <td>4</td>\n",
       "      <td>0.484716</td>\n",
       "    </tr>\n",
       "    <tr>\n",
       "      <th>3</th>\n",
       "      <td>216</td>\n",
       "      <td>3</td>\n",
       "      <td>0</td>\n",
       "      <td>12</td>\n",
       "      <td>0.15</td>\n",
       "      <td>5</td>\n",
       "      <td>3</td>\n",
       "      <td>0.484716</td>\n",
       "    </tr>\n",
       "    <tr>\n",
       "      <th>2</th>\n",
       "      <td>217</td>\n",
       "      <td>2</td>\n",
       "      <td>0</td>\n",
       "      <td>11</td>\n",
       "      <td>0.12</td>\n",
       "      <td>4</td>\n",
       "      <td>2</td>\n",
       "      <td>0.484716</td>\n",
       "    </tr>\n",
       "    <tr>\n",
       "      <th>1</th>\n",
       "      <td>218</td>\n",
       "      <td>1</td>\n",
       "      <td>0</td>\n",
       "      <td>10</td>\n",
       "      <td>0.03</td>\n",
       "      <td>1</td>\n",
       "      <td>1</td>\n",
       "      <td>0.484716</td>\n",
       "    </tr>\n",
       "    <tr>\n",
       "      <th>0</th>\n",
       "      <td>219</td>\n",
       "      <td>0</td>\n",
       "      <td>0</td>\n",
       "      <td>6</td>\n",
       "      <td>0.02</td>\n",
       "      <td>1</td>\n",
       "      <td>0</td>\n",
       "      <td>0.000000</td>\n",
       "    </tr>\n",
       "  </tbody>\n",
       "</table>\n",
       "<p>220 rows × 8 columns</p>\n",
       "</div>"
      ],
      "text/plain": [
       "    level_0  index  R   T  ml_outcomes      N  row_id  decision\n",
       "50        0     50  0  59     11122.66  19177      50  0.484716\n",
       "49        1     49  0  58     11055.52  19742      49  0.484716\n",
       "48        2     48  0  57     11021.94  20411      48  0.484716\n",
       "47        3     47  0  56     11013.08  21179      47  0.484716\n",
       "51        4     51  0  60     10902.60  18171      51  0.484716\n",
       "..      ...    ... ..  ..          ...    ...     ...       ...\n",
       "4       215      4  0  13         0.24      6       4  0.484716\n",
       "3       216      3  0  12         0.15      5       3  0.484716\n",
       "2       217      2  0  11         0.12      4       2  0.484716\n",
       "1       218      1  0  10         0.03      1       1  0.484716\n",
       "0       219      0  0   6         0.02      1       0  0.000000\n",
       "\n",
       "[220 rows x 8 columns]"
      ]
     },
     "execution_count": 35,
     "metadata": {},
     "output_type": "execute_result"
    }
   ],
   "source": [
    "xxx = dff.merge(df_decisions,left_index=True,right_index=True).sort_values(by='ml_outcomes',ascending=False)\n",
    "xxx"
   ]
  },
  {
   "cell_type": "code",
   "execution_count": 36,
   "metadata": {
    "execution": {
     "iopub.execute_input": "2022-05-02T20:33:18.296216Z",
     "iopub.status.busy": "2022-05-02T20:33:18.295788Z",
     "iopub.status.idle": "2022-05-02T20:33:18.297689Z",
     "shell.execute_reply": "2022-05-02T20:33:18.297991Z"
    }
   },
   "outputs": [
    {
     "data": {
      "text/html": [
       "<div>\n",
       "<style scoped>\n",
       "    .dataframe tbody tr th:only-of-type {\n",
       "        vertical-align: middle;\n",
       "    }\n",
       "\n",
       "    .dataframe tbody tr th {\n",
       "        vertical-align: top;\n",
       "    }\n",
       "\n",
       "    .dataframe thead th {\n",
       "        text-align: right;\n",
       "    }\n",
       "</style>\n",
       "<table border=\"1\" class=\"dataframe\">\n",
       "  <thead>\n",
       "    <tr style=\"text-align: right;\">\n",
       "      <th></th>\n",
       "      <th>level_0</th>\n",
       "      <th>index</th>\n",
       "      <th>R</th>\n",
       "      <th>T</th>\n",
       "      <th>ml_outcomes</th>\n",
       "      <th>N</th>\n",
       "      <th>row_id</th>\n",
       "      <th>decision</th>\n",
       "    </tr>\n",
       "  </thead>\n",
       "  <tbody>\n",
       "    <tr>\n",
       "      <th>113</th>\n",
       "      <td>201</td>\n",
       "      <td>113</td>\n",
       "      <td>0</td>\n",
       "      <td>122</td>\n",
       "      <td>2.00</td>\n",
       "      <td>2</td>\n",
       "      <td>113</td>\n",
       "      <td>1.000000</td>\n",
       "    </tr>\n",
       "    <tr>\n",
       "      <th>219</th>\n",
       "      <td>205</td>\n",
       "      <td>219</td>\n",
       "      <td>1</td>\n",
       "      <td>119</td>\n",
       "      <td>1.24</td>\n",
       "      <td>1</td>\n",
       "      <td>219</td>\n",
       "      <td>1.000000</td>\n",
       "    </tr>\n",
       "    <tr>\n",
       "      <th>115</th>\n",
       "      <td>195</td>\n",
       "      <td>115</td>\n",
       "      <td>0</td>\n",
       "      <td>124</td>\n",
       "      <td>3.00</td>\n",
       "      <td>3</td>\n",
       "      <td>115</td>\n",
       "      <td>1.000000</td>\n",
       "    </tr>\n",
       "    <tr>\n",
       "      <th>114</th>\n",
       "      <td>202</td>\n",
       "      <td>114</td>\n",
       "      <td>0</td>\n",
       "      <td>123</td>\n",
       "      <td>2.00</td>\n",
       "      <td>2</td>\n",
       "      <td>114</td>\n",
       "      <td>1.000000</td>\n",
       "    </tr>\n",
       "    <tr>\n",
       "      <th>116</th>\n",
       "      <td>203</td>\n",
       "      <td>116</td>\n",
       "      <td>0</td>\n",
       "      <td>129</td>\n",
       "      <td>2.00</td>\n",
       "      <td>2</td>\n",
       "      <td>116</td>\n",
       "      <td>1.000000</td>\n",
       "    </tr>\n",
       "    <tr>\n",
       "      <th>...</th>\n",
       "      <td>...</td>\n",
       "      <td>...</td>\n",
       "      <td>...</td>\n",
       "      <td>...</td>\n",
       "      <td>...</td>\n",
       "      <td>...</td>\n",
       "      <td>...</td>\n",
       "      <td>...</td>\n",
       "    </tr>\n",
       "    <tr>\n",
       "      <th>120</th>\n",
       "      <td>208</td>\n",
       "      <td>120</td>\n",
       "      <td>1</td>\n",
       "      <td>10</td>\n",
       "      <td>1.08</td>\n",
       "      <td>4</td>\n",
       "      <td>120</td>\n",
       "      <td>0.484716</td>\n",
       "    </tr>\n",
       "    <tr>\n",
       "      <th>118</th>\n",
       "      <td>213</td>\n",
       "      <td>118</td>\n",
       "      <td>1</td>\n",
       "      <td>7</td>\n",
       "      <td>0.27</td>\n",
       "      <td>1</td>\n",
       "      <td>118</td>\n",
       "      <td>0.484716</td>\n",
       "    </tr>\n",
       "    <tr>\n",
       "      <th>119</th>\n",
       "      <td>211</td>\n",
       "      <td>119</td>\n",
       "      <td>1</td>\n",
       "      <td>8</td>\n",
       "      <td>0.54</td>\n",
       "      <td>2</td>\n",
       "      <td>119</td>\n",
       "      <td>0.242358</td>\n",
       "    </tr>\n",
       "    <tr>\n",
       "      <th>117</th>\n",
       "      <td>214</td>\n",
       "      <td>117</td>\n",
       "      <td>1</td>\n",
       "      <td>6</td>\n",
       "      <td>0.27</td>\n",
       "      <td>1</td>\n",
       "      <td>117</td>\n",
       "      <td>0.000000</td>\n",
       "    </tr>\n",
       "    <tr>\n",
       "      <th>0</th>\n",
       "      <td>219</td>\n",
       "      <td>0</td>\n",
       "      <td>0</td>\n",
       "      <td>6</td>\n",
       "      <td>0.02</td>\n",
       "      <td>1</td>\n",
       "      <td>0</td>\n",
       "      <td>0.000000</td>\n",
       "    </tr>\n",
       "  </tbody>\n",
       "</table>\n",
       "<p>220 rows × 8 columns</p>\n",
       "</div>"
      ],
      "text/plain": [
       "     level_0  index  R    T  ml_outcomes  N  row_id  decision\n",
       "113      201    113  0  122         2.00  2     113  1.000000\n",
       "219      205    219  1  119         1.24  1     219  1.000000\n",
       "115      195    115  0  124         3.00  3     115  1.000000\n",
       "114      202    114  0  123         2.00  2     114  1.000000\n",
       "116      203    116  0  129         2.00  2     116  1.000000\n",
       "..       ...    ... ..  ...          ... ..     ...       ...\n",
       "120      208    120  1   10         1.08  4     120  0.484716\n",
       "118      213    118  1    7         0.27  1     118  0.484716\n",
       "119      211    119  1    8         0.54  2     119  0.242358\n",
       "117      214    117  1    6         0.27  1     117  0.000000\n",
       "0        219      0  0    6         0.02  1       0  0.000000\n",
       "\n",
       "[220 rows x 8 columns]"
      ]
     },
     "execution_count": 36,
     "metadata": {},
     "output_type": "execute_result"
    }
   ],
   "source": [
    "xxx.sort_values(by='decision',ascending=False)"
   ]
  },
  {
   "cell_type": "code",
   "execution_count": 37,
   "metadata": {
    "execution": {
     "iopub.execute_input": "2022-05-02T20:33:18.300879Z",
     "iopub.status.busy": "2022-05-02T20:33:18.300487Z",
     "iopub.status.idle": "2022-05-02T20:33:19.446181Z",
     "shell.execute_reply": "2022-05-02T20:33:19.446517Z"
    }
   },
   "outputs": [],
   "source": [
    "df['key'] = df['R'].astype(str)+'_'+df['T'].astype(str)\n",
    "xxx['key'] = xxx['R'].astype(str)+'_'+xxx['T'].astype(str)"
   ]
  },
  {
   "cell_type": "code",
   "execution_count": 38,
   "metadata": {
    "execution": {
     "iopub.execute_input": "2022-05-02T20:33:19.506820Z",
     "iopub.status.busy": "2022-05-02T20:33:19.506207Z",
     "iopub.status.idle": "2022-05-02T20:33:19.990005Z",
     "shell.execute_reply": "2022-05-02T20:33:19.990289Z"
    }
   },
   "outputs": [],
   "source": [
    "admit_decisions = df.merge(xxx,how='left',on='key')\n",
    "admit_decisions['decision_random'] = pd.Series([random.random() for x in range(0,len(admit_decisions))]) < FRAC_ADMIT\n",
    "\n",
    "FRAC_BLACK_POLICY = (admit_decisions['R_y'] * admit_decisions['decision']).sum()/admit_decisions['decision'].sum()\n",
    "SUM_BP_POLICY = ( admit_decisions['B_p'] * admit_decisions['decision']).sum()\n",
    "\n",
    "FRAC_RANDOM_POLICY = (admit_decisions['R_y'] * admit_decisions['decision_random']).sum()/admit_decisions['decision_random'].sum()\n",
    "SUM_BP_RAND_POLICY = ( admit_decisions['B_p'] * admit_decisions['decision_random']).sum()\n"
   ]
  },
  {
   "cell_type": "code",
   "execution_count": 39,
   "metadata": {
    "execution": {
     "iopub.execute_input": "2022-05-02T20:33:19.993805Z",
     "iopub.status.busy": "2022-05-02T20:33:19.993409Z",
     "iopub.status.idle": "2022-05-02T20:33:19.995113Z",
     "shell.execute_reply": "2022-05-02T20:33:19.995418Z"
    }
   },
   "outputs": [],
   "source": [
    "file = open('./lp_results.csv','a')\n",
    "file.write('{}\\t{}\\t{}\\n'.format('Path-Specific Fairness',str(FRAC_BLACK_POLICY),str(SUM_BP_POLICY)))\n",
    "file.close()\n"
   ]
  },
  {
   "cell_type": "code",
   "execution_count": 40,
   "metadata": {
    "execution": {
     "iopub.execute_input": "2022-05-02T20:33:19.998809Z",
     "iopub.status.busy": "2022-05-02T20:33:19.998434Z",
     "iopub.status.idle": "2022-05-02T20:33:20.000002Z",
     "shell.execute_reply": "2022-05-02T20:33:20.000290Z"
    }
   },
   "outputs": [
    {
     "data": {
      "text/plain": [
       "0.4847519999999998"
      ]
     },
     "execution_count": 40,
     "metadata": {},
     "output_type": "execute_result"
    }
   ],
   "source": [
    "(xxx['N']*xxx['decision']).sum()/len(df)"
   ]
  },
  {
   "cell_type": "code",
   "execution_count": null,
   "metadata": {},
   "outputs": [],
   "source": []
  }
 ],
 "metadata": {
  "kernelspec": {
   "display_name": "Python 3 (ipykernel)",
   "language": "python",
   "name": "python3"
  },
  "language_info": {
   "codemirror_mode": {
    "name": "ipython",
    "version": 3
   },
   "file_extension": ".py",
   "mimetype": "text/x-python",
   "name": "python",
   "nbconvert_exporter": "python",
   "pygments_lexer": "ipython3",
   "version": "3.9.7"
  }
 },
 "nbformat": 4,
 "nbformat_minor": 4
}
