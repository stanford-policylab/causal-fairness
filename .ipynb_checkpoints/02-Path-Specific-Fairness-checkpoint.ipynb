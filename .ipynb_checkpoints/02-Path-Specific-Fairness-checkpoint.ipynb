{
 "cells": [
  {
   "cell_type": "code",
   "execution_count": 1,
   "metadata": {
    "execution": {
     "iopub.execute_input": "2022-01-18T20:39:13.404339Z",
     "iopub.status.busy": "2022-01-18T20:39:13.403673Z",
     "iopub.status.idle": "2022-01-18T20:39:14.706333Z",
     "shell.execute_reply": "2022-01-18T20:39:14.706567Z"
    }
   },
   "outputs": [],
   "source": [
    "import numpy as np\n",
    "import pandas as pd\n",
    "import matplotlib.pyplot as plt\n",
    "import seaborn as sns\n",
    "import random\n",
    "pd.options.display.max_rows = 10\n",
    "pd.options.display.max_columns = 500"
   ]
  },
  {
   "cell_type": "code",
   "execution_count": 2,
   "metadata": {
    "execution": {
     "iopub.execute_input": "2022-01-18T20:39:14.710087Z",
     "iopub.status.busy": "2022-01-18T20:39:14.709470Z",
     "iopub.status.idle": "2022-01-18T20:39:18.290250Z",
     "shell.execute_reply": "2022-01-18T20:39:18.290484Z"
    }
   },
   "outputs": [],
   "source": [
    "###\n",
    "## Load dataframe where each row is a single applicant\n",
    "###\n",
    "\n",
    "df = pd.read_csv('./df_test.csv')\n",
    "df['ml_outcomes'] = df['ml_outcomes_div'].round(2) #+ df['R']*0.13\n",
    "\n"
   ]
  },
  {
   "cell_type": "code",
   "execution_count": 3,
   "metadata": {
    "execution": {
     "iopub.execute_input": "2022-01-18T20:39:18.295071Z",
     "iopub.status.busy": "2022-01-18T20:39:18.294608Z",
     "iopub.status.idle": "2022-01-18T20:39:18.297328Z",
     "shell.execute_reply": "2022-01-18T20:39:18.297587Z"
    }
   },
   "outputs": [
    {
     "data": {
      "text/plain": [
       "1000000"
      ]
     },
     "execution_count": 3,
     "metadata": {},
     "output_type": "execute_result"
    }
   ],
   "source": [
    "len(df)"
   ]
  },
  {
   "cell_type": "code",
   "execution_count": 4,
   "metadata": {
    "execution": {
     "iopub.execute_input": "2022-01-18T20:39:18.303105Z",
     "iopub.status.busy": "2022-01-18T20:39:18.302576Z",
     "iopub.status.idle": "2022-01-18T20:39:18.304627Z",
     "shell.execute_reply": "2022-01-18T20:39:18.305031Z"
    }
   },
   "outputs": [],
   "source": [
    "FRAC_ADMIT = df[['A']].sum()/len(df)\n"
   ]
  },
  {
   "cell_type": "code",
   "execution_count": 5,
   "metadata": {
    "execution": {
     "iopub.execute_input": "2022-01-18T20:39:18.313903Z",
     "iopub.status.busy": "2022-01-18T20:39:18.313235Z",
     "iopub.status.idle": "2022-01-18T20:39:18.406153Z",
     "shell.execute_reply": "2022-01-18T20:39:18.406423Z"
    }
   },
   "outputs": [
    {
     "data": {
      "text/html": [
       "<div>\n",
       "<style scoped>\n",
       "    .dataframe tbody tr th:only-of-type {\n",
       "        vertical-align: middle;\n",
       "    }\n",
       "\n",
       "    .dataframe tbody tr th {\n",
       "        vertical-align: top;\n",
       "    }\n",
       "\n",
       "    .dataframe thead th {\n",
       "        text-align: right;\n",
       "    }\n",
       "</style>\n",
       "<table border=\"1\" class=\"dataframe\">\n",
       "  <thead>\n",
       "    <tr style=\"text-align: right;\">\n",
       "      <th></th>\n",
       "      <th>R</th>\n",
       "      <th>T</th>\n",
       "      <th>ml_outcomes</th>\n",
       "      <th>T_black</th>\n",
       "      <th>T_white</th>\n",
       "      <th>ml_outcomes_black</th>\n",
       "      <th>ml_outcomes_white</th>\n",
       "      <th>ml_outcomes_decision</th>\n",
       "    </tr>\n",
       "  </thead>\n",
       "  <tbody>\n",
       "    <tr>\n",
       "      <th>261180</th>\n",
       "      <td>0</td>\n",
       "      <td>12</td>\n",
       "      <td>0.03</td>\n",
       "      <td>9</td>\n",
       "      <td>12</td>\n",
       "      <td>-3.825614</td>\n",
       "      <td>-3.372248</td>\n",
       "      <td>0</td>\n",
       "    </tr>\n",
       "    <tr>\n",
       "      <th>275905</th>\n",
       "      <td>0</td>\n",
       "      <td>11</td>\n",
       "      <td>0.03</td>\n",
       "      <td>8</td>\n",
       "      <td>11</td>\n",
       "      <td>-3.904445</td>\n",
       "      <td>-3.451079</td>\n",
       "      <td>0</td>\n",
       "    </tr>\n",
       "    <tr>\n",
       "      <th>601095</th>\n",
       "      <td>0</td>\n",
       "      <td>10</td>\n",
       "      <td>0.03</td>\n",
       "      <td>11</td>\n",
       "      <td>10</td>\n",
       "      <td>-3.667952</td>\n",
       "      <td>-3.529910</td>\n",
       "      <td>0</td>\n",
       "    </tr>\n",
       "    <tr>\n",
       "      <th>32461</th>\n",
       "      <td>0</td>\n",
       "      <td>12</td>\n",
       "      <td>0.03</td>\n",
       "      <td>8</td>\n",
       "      <td>12</td>\n",
       "      <td>-3.904445</td>\n",
       "      <td>-3.372248</td>\n",
       "      <td>0</td>\n",
       "    </tr>\n",
       "    <tr>\n",
       "      <th>489547</th>\n",
       "      <td>0</td>\n",
       "      <td>12</td>\n",
       "      <td>0.03</td>\n",
       "      <td>10</td>\n",
       "      <td>12</td>\n",
       "      <td>-3.746783</td>\n",
       "      <td>-3.372248</td>\n",
       "      <td>0</td>\n",
       "    </tr>\n",
       "    <tr>\n",
       "      <th>...</th>\n",
       "      <td>...</td>\n",
       "      <td>...</td>\n",
       "      <td>...</td>\n",
       "      <td>...</td>\n",
       "      <td>...</td>\n",
       "      <td>...</td>\n",
       "      <td>...</td>\n",
       "      <td>...</td>\n",
       "    </tr>\n",
       "    <tr>\n",
       "      <th>897432</th>\n",
       "      <td>1</td>\n",
       "      <td>106</td>\n",
       "      <td>1.23</td>\n",
       "      <td>106</td>\n",
       "      <td>121</td>\n",
       "      <td>3.820987</td>\n",
       "      <td>5.220324</td>\n",
       "      <td>1</td>\n",
       "    </tr>\n",
       "    <tr>\n",
       "      <th>992959</th>\n",
       "      <td>1</td>\n",
       "      <td>107</td>\n",
       "      <td>1.23</td>\n",
       "      <td>107</td>\n",
       "      <td>124</td>\n",
       "      <td>3.899818</td>\n",
       "      <td>5.456817</td>\n",
       "      <td>1</td>\n",
       "    </tr>\n",
       "    <tr>\n",
       "      <th>934719</th>\n",
       "      <td>1</td>\n",
       "      <td>107</td>\n",
       "      <td>1.23</td>\n",
       "      <td>107</td>\n",
       "      <td>124</td>\n",
       "      <td>3.899818</td>\n",
       "      <td>5.456817</td>\n",
       "      <td>1</td>\n",
       "    </tr>\n",
       "    <tr>\n",
       "      <th>454722</th>\n",
       "      <td>1</td>\n",
       "      <td>105</td>\n",
       "      <td>1.23</td>\n",
       "      <td>105</td>\n",
       "      <td>120</td>\n",
       "      <td>3.742157</td>\n",
       "      <td>5.141493</td>\n",
       "      <td>1</td>\n",
       "    </tr>\n",
       "    <tr>\n",
       "      <th>529935</th>\n",
       "      <td>1</td>\n",
       "      <td>118</td>\n",
       "      <td>1.24</td>\n",
       "      <td>118</td>\n",
       "      <td>136</td>\n",
       "      <td>4.766959</td>\n",
       "      <td>6.402788</td>\n",
       "      <td>1</td>\n",
       "    </tr>\n",
       "  </tbody>\n",
       "</table>\n",
       "<p>1000000 rows × 8 columns</p>\n",
       "</div>"
      ],
      "text/plain": [
       "        R    T  ml_outcomes  T_black  T_white  ml_outcomes_black  \\\n",
       "261180  0   12         0.03        9       12          -3.825614   \n",
       "275905  0   11         0.03        8       11          -3.904445   \n",
       "601095  0   10         0.03       11       10          -3.667952   \n",
       "32461   0   12         0.03        8       12          -3.904445   \n",
       "489547  0   12         0.03       10       12          -3.746783   \n",
       "...    ..  ...          ...      ...      ...                ...   \n",
       "897432  1  106         1.23      106      121           3.820987   \n",
       "992959  1  107         1.23      107      124           3.899818   \n",
       "934719  1  107         1.23      107      124           3.899818   \n",
       "454722  1  105         1.23      105      120           3.742157   \n",
       "529935  1  118         1.24      118      136           4.766959   \n",
       "\n",
       "        ml_outcomes_white  ml_outcomes_decision  \n",
       "261180          -3.372248                     0  \n",
       "275905          -3.451079                     0  \n",
       "601095          -3.529910                     0  \n",
       "32461           -3.372248                     0  \n",
       "489547          -3.372248                     0  \n",
       "...                   ...                   ...  \n",
       "897432           5.220324                     1  \n",
       "992959           5.456817                     1  \n",
       "934719           5.456817                     1  \n",
       "454722           5.141493                     1  \n",
       "529935           6.402788                     1  \n",
       "\n",
       "[1000000 rows x 8 columns]"
      ]
     },
     "execution_count": 5,
     "metadata": {},
     "output_type": "execute_result"
    }
   ],
   "source": [
    "##\n",
    "# R = race, T = test score, ml_outcomes = expected utility from admitting, \n",
    "# ml_outcomes_{} counterfactual utility given race \n",
    "##\n",
    "\n",
    "df[['R','T','ml_outcomes','T_black','T_white','ml_outcomes_black','ml_outcomes_white','ml_outcomes_decision']].sort_values(by='ml_outcomes')\n",
    "\n"
   ]
  },
  {
   "cell_type": "code",
   "execution_count": 6,
   "metadata": {
    "execution": {
     "iopub.execute_input": "2022-01-18T20:39:18.414572Z",
     "iopub.status.busy": "2022-01-18T20:39:18.414164Z",
     "iopub.status.idle": "2022-01-18T20:39:18.447758Z",
     "shell.execute_reply": "2022-01-18T20:39:18.448023Z"
    }
   },
   "outputs": [],
   "source": [
    "###\n",
    "## Get total utility from admitting people in a stratum \n",
    "###\n",
    "\n",
    "df_ = df[['R','T','ml_outcomes']].groupby(['R','T']).sum().reset_index()"
   ]
  },
  {
   "cell_type": "code",
   "execution_count": 7,
   "metadata": {
    "execution": {
     "iopub.execute_input": "2022-01-18T20:39:18.456194Z",
     "iopub.status.busy": "2022-01-18T20:39:18.455783Z",
     "iopub.status.idle": "2022-01-18T20:39:18.482419Z",
     "shell.execute_reply": "2022-01-18T20:39:18.482674Z"
    }
   },
   "outputs": [],
   "source": [
    "###\n",
    "## Get number of people in each stratum\n",
    "###\n",
    "\n",
    "df_count = df[['R','T','ml_outcomes']].groupby(['R','T']).count().reset_index()\n",
    "df_count.columns = ['R','T','Count']\n",
    "df_count['N'] = df_count['Count']"
   ]
  },
  {
   "cell_type": "code",
   "execution_count": 8,
   "metadata": {
    "execution": {
     "iopub.execute_input": "2022-01-18T20:39:18.487166Z",
     "iopub.status.busy": "2022-01-18T20:39:18.486750Z",
     "iopub.status.idle": "2022-01-18T20:39:18.489047Z",
     "shell.execute_reply": "2022-01-18T20:39:18.489351Z"
    }
   },
   "outputs": [],
   "source": [
    "###\n",
    "## Merge summary tables to get one table with Race, Test Score, SUM(Utility), COUNT(applicants) per stratum\n",
    "###\n",
    "\n",
    "dff = df_.merge(df_count[['N']],left_index=True,right_index=True).sort_values(by='ml_outcomes',ascending=False).reset_index().sort_values(by='index').reset_index()"
   ]
  },
  {
   "cell_type": "code",
   "execution_count": 9,
   "metadata": {
    "execution": {
     "iopub.execute_input": "2022-01-18T20:39:18.511816Z",
     "iopub.status.busy": "2022-01-18T20:39:18.511359Z",
     "iopub.status.idle": "2022-01-18T20:39:18.513417Z",
     "shell.execute_reply": "2022-01-18T20:39:18.513941Z"
    }
   },
   "outputs": [
    {
     "data": {
      "text/html": [
       "<div>\n",
       "<style scoped>\n",
       "    .dataframe tbody tr th:only-of-type {\n",
       "        vertical-align: middle;\n",
       "    }\n",
       "\n",
       "    .dataframe tbody tr th {\n",
       "        vertical-align: top;\n",
       "    }\n",
       "\n",
       "    .dataframe thead th {\n",
       "        text-align: right;\n",
       "    }\n",
       "</style>\n",
       "<table border=\"1\" class=\"dataframe\">\n",
       "  <thead>\n",
       "    <tr style=\"text-align: right;\">\n",
       "      <th></th>\n",
       "      <th>level_0</th>\n",
       "      <th>index</th>\n",
       "      <th>R</th>\n",
       "      <th>T</th>\n",
       "      <th>ml_outcomes</th>\n",
       "      <th>N</th>\n",
       "    </tr>\n",
       "  </thead>\n",
       "  <tbody>\n",
       "    <tr>\n",
       "      <th>1</th>\n",
       "      <td>221</td>\n",
       "      <td>1</td>\n",
       "      <td>0</td>\n",
       "      <td>11</td>\n",
       "      <td>0.03</td>\n",
       "      <td>1</td>\n",
       "    </tr>\n",
       "    <tr>\n",
       "      <th>0</th>\n",
       "      <td>220</td>\n",
       "      <td>0</td>\n",
       "      <td>0</td>\n",
       "      <td>10</td>\n",
       "      <td>0.09</td>\n",
       "      <td>3</td>\n",
       "    </tr>\n",
       "    <tr>\n",
       "      <th>2</th>\n",
       "      <td>219</td>\n",
       "      <td>2</td>\n",
       "      <td>0</td>\n",
       "      <td>12</td>\n",
       "      <td>0.21</td>\n",
       "      <td>7</td>\n",
       "    </tr>\n",
       "    <tr>\n",
       "      <th>120</th>\n",
       "      <td>218</td>\n",
       "      <td>120</td>\n",
       "      <td>1</td>\n",
       "      <td>7</td>\n",
       "      <td>0.27</td>\n",
       "      <td>1</td>\n",
       "    </tr>\n",
       "    <tr>\n",
       "      <th>119</th>\n",
       "      <td>217</td>\n",
       "      <td>119</td>\n",
       "      <td>1</td>\n",
       "      <td>6</td>\n",
       "      <td>0.27</td>\n",
       "      <td>1</td>\n",
       "    </tr>\n",
       "    <tr>\n",
       "      <th>...</th>\n",
       "      <td>...</td>\n",
       "      <td>...</td>\n",
       "      <td>...</td>\n",
       "      <td>...</td>\n",
       "      <td>...</td>\n",
       "      <td>...</td>\n",
       "    </tr>\n",
       "    <tr>\n",
       "      <th>46</th>\n",
       "      <td>4</td>\n",
       "      <td>46</td>\n",
       "      <td>0</td>\n",
       "      <td>56</td>\n",
       "      <td>10859.68</td>\n",
       "      <td>20884</td>\n",
       "    </tr>\n",
       "    <tr>\n",
       "      <th>50</th>\n",
       "      <td>3</td>\n",
       "      <td>50</td>\n",
       "      <td>0</td>\n",
       "      <td>60</td>\n",
       "      <td>10907.40</td>\n",
       "      <td>18179</td>\n",
       "    </tr>\n",
       "    <tr>\n",
       "      <th>49</th>\n",
       "      <td>2</td>\n",
       "      <td>49</td>\n",
       "      <td>0</td>\n",
       "      <td>59</td>\n",
       "      <td>11000.28</td>\n",
       "      <td>18966</td>\n",
       "    </tr>\n",
       "    <tr>\n",
       "      <th>47</th>\n",
       "      <td>1</td>\n",
       "      <td>47</td>\n",
       "      <td>0</td>\n",
       "      <td>57</td>\n",
       "      <td>11008.98</td>\n",
       "      <td>20387</td>\n",
       "    </tr>\n",
       "    <tr>\n",
       "      <th>48</th>\n",
       "      <td>0</td>\n",
       "      <td>48</td>\n",
       "      <td>0</td>\n",
       "      <td>58</td>\n",
       "      <td>11182.64</td>\n",
       "      <td>19969</td>\n",
       "    </tr>\n",
       "  </tbody>\n",
       "</table>\n",
       "<p>222 rows × 6 columns</p>\n",
       "</div>"
      ],
      "text/plain": [
       "     level_0  index  R   T  ml_outcomes      N\n",
       "1        221      1  0  11         0.03      1\n",
       "0        220      0  0  10         0.09      3\n",
       "2        219      2  0  12         0.21      7\n",
       "120      218    120  1   7         0.27      1\n",
       "119      217    119  1   6         0.27      1\n",
       "..       ...    ... ..  ..          ...    ...\n",
       "46         4     46  0  56     10859.68  20884\n",
       "50         3     50  0  60     10907.40  18179\n",
       "49         2     49  0  59     11000.28  18966\n",
       "47         1     47  0  57     11008.98  20387\n",
       "48         0     48  0  58     11182.64  19969\n",
       "\n",
       "[222 rows x 6 columns]"
      ]
     },
     "execution_count": 9,
     "metadata": {},
     "output_type": "execute_result"
    }
   ],
   "source": [
    "# final info table\n",
    "dff.sort_values(by='ml_outcomes')"
   ]
  },
  {
   "cell_type": "code",
   "execution_count": null,
   "metadata": {},
   "outputs": [],
   "source": []
  },
  {
   "cell_type": "markdown",
   "metadata": {},
   "source": [
    "### Setup optimization problem "
   ]
  },
  {
   "cell_type": "code",
   "execution_count": 10,
   "metadata": {
    "execution": {
     "iopub.execute_input": "2022-01-18T20:39:18.516653Z",
     "iopub.status.busy": "2022-01-18T20:39:18.516260Z",
     "iopub.status.idle": "2022-01-18T20:39:18.540128Z",
     "shell.execute_reply": "2022-01-18T20:39:18.540363Z"
    }
   },
   "outputs": [],
   "source": [
    "from ortools.linear_solver import pywraplp\n"
   ]
  },
  {
   "cell_type": "code",
   "execution_count": 11,
   "metadata": {
    "execution": {
     "iopub.execute_input": "2022-01-18T20:39:18.543927Z",
     "iopub.status.busy": "2022-01-18T20:39:18.543354Z",
     "iopub.status.idle": "2022-01-18T20:39:18.544520Z",
     "shell.execute_reply": "2022-01-18T20:39:18.544808Z"
    }
   },
   "outputs": [],
   "source": [
    "solver = pywraplp.Solver.CreateSolver('GLOP')\n"
   ]
  },
  {
   "cell_type": "code",
   "execution_count": 12,
   "metadata": {
    "execution": {
     "iopub.execute_input": "2022-01-18T20:39:18.567376Z",
     "iopub.status.busy": "2022-01-18T20:39:18.566756Z",
     "iopub.status.idle": "2022-01-18T20:39:18.569184Z",
     "shell.execute_reply": "2022-01-18T20:39:18.569448Z"
    }
   },
   "outputs": [
    {
     "data": {
      "text/html": [
       "<div>\n",
       "<style scoped>\n",
       "    .dataframe tbody tr th:only-of-type {\n",
       "        vertical-align: middle;\n",
       "    }\n",
       "\n",
       "    .dataframe tbody tr th {\n",
       "        vertical-align: top;\n",
       "    }\n",
       "\n",
       "    .dataframe thead th {\n",
       "        text-align: right;\n",
       "    }\n",
       "</style>\n",
       "<table border=\"1\" class=\"dataframe\">\n",
       "  <thead>\n",
       "    <tr style=\"text-align: right;\">\n",
       "      <th></th>\n",
       "      <th>level_0</th>\n",
       "      <th>index</th>\n",
       "      <th>R</th>\n",
       "      <th>T</th>\n",
       "      <th>ml_outcomes</th>\n",
       "      <th>N</th>\n",
       "    </tr>\n",
       "  </thead>\n",
       "  <tbody>\n",
       "    <tr>\n",
       "      <th>0</th>\n",
       "      <td>220</td>\n",
       "      <td>0</td>\n",
       "      <td>0</td>\n",
       "      <td>10</td>\n",
       "      <td>0.09</td>\n",
       "      <td>3</td>\n",
       "    </tr>\n",
       "    <tr>\n",
       "      <th>1</th>\n",
       "      <td>221</td>\n",
       "      <td>1</td>\n",
       "      <td>0</td>\n",
       "      <td>11</td>\n",
       "      <td>0.03</td>\n",
       "      <td>1</td>\n",
       "    </tr>\n",
       "    <tr>\n",
       "      <th>2</th>\n",
       "      <td>219</td>\n",
       "      <td>2</td>\n",
       "      <td>0</td>\n",
       "      <td>12</td>\n",
       "      <td>0.21</td>\n",
       "      <td>7</td>\n",
       "    </tr>\n",
       "    <tr>\n",
       "      <th>3</th>\n",
       "      <td>216</td>\n",
       "      <td>3</td>\n",
       "      <td>0</td>\n",
       "      <td>13</td>\n",
       "      <td>0.48</td>\n",
       "      <td>12</td>\n",
       "    </tr>\n",
       "    <tr>\n",
       "      <th>4</th>\n",
       "      <td>215</td>\n",
       "      <td>4</td>\n",
       "      <td>0</td>\n",
       "      <td>14</td>\n",
       "      <td>0.48</td>\n",
       "      <td>12</td>\n",
       "    </tr>\n",
       "    <tr>\n",
       "      <th>...</th>\n",
       "      <td>...</td>\n",
       "      <td>...</td>\n",
       "      <td>...</td>\n",
       "      <td>...</td>\n",
       "      <td>...</td>\n",
       "      <td>...</td>\n",
       "    </tr>\n",
       "    <tr>\n",
       "      <th>217</th>\n",
       "      <td>187</td>\n",
       "      <td>217</td>\n",
       "      <td>1</td>\n",
       "      <td>105</td>\n",
       "      <td>3.69</td>\n",
       "      <td>3</td>\n",
       "    </tr>\n",
       "    <tr>\n",
       "      <th>218</th>\n",
       "      <td>202</td>\n",
       "      <td>218</td>\n",
       "      <td>1</td>\n",
       "      <td>106</td>\n",
       "      <td>1.23</td>\n",
       "      <td>1</td>\n",
       "    </tr>\n",
       "    <tr>\n",
       "      <th>219</th>\n",
       "      <td>193</td>\n",
       "      <td>219</td>\n",
       "      <td>1</td>\n",
       "      <td>107</td>\n",
       "      <td>2.46</td>\n",
       "      <td>2</td>\n",
       "    </tr>\n",
       "    <tr>\n",
       "      <th>220</th>\n",
       "      <td>201</td>\n",
       "      <td>220</td>\n",
       "      <td>1</td>\n",
       "      <td>108</td>\n",
       "      <td>1.23</td>\n",
       "      <td>1</td>\n",
       "    </tr>\n",
       "    <tr>\n",
       "      <th>221</th>\n",
       "      <td>200</td>\n",
       "      <td>221</td>\n",
       "      <td>1</td>\n",
       "      <td>118</td>\n",
       "      <td>1.24</td>\n",
       "      <td>1</td>\n",
       "    </tr>\n",
       "  </tbody>\n",
       "</table>\n",
       "<p>222 rows × 6 columns</p>\n",
       "</div>"
      ],
      "text/plain": [
       "     level_0  index  R    T  ml_outcomes   N\n",
       "0        220      0  0   10         0.09   3\n",
       "1        221      1  0   11         0.03   1\n",
       "2        219      2  0   12         0.21   7\n",
       "3        216      3  0   13         0.48  12\n",
       "4        215      4  0   14         0.48  12\n",
       "..       ...    ... ..  ...          ...  ..\n",
       "217      187    217  1  105         3.69   3\n",
       "218      202    218  1  106         1.23   1\n",
       "219      193    219  1  107         2.46   2\n",
       "220      201    220  1  108         1.23   1\n",
       "221      200    221  1  118         1.24   1\n",
       "\n",
       "[222 rows x 6 columns]"
      ]
     },
     "execution_count": 12,
     "metadata": {},
     "output_type": "execute_result"
    }
   ],
   "source": [
    "dff"
   ]
  },
  {
   "cell_type": "code",
   "execution_count": 13,
   "metadata": {
    "execution": {
     "iopub.execute_input": "2022-01-18T20:39:18.580307Z",
     "iopub.status.busy": "2022-01-18T20:39:18.579836Z",
     "iopub.status.idle": "2022-01-18T20:39:18.580920Z",
     "shell.execute_reply": "2022-01-18T20:39:18.581282Z"
    }
   },
   "outputs": [],
   "source": [
    "applicant_stratum = []\n",
    "vars_cache = {}\n",
    "\n",
    "# Objective: Maximize the expected utility of the admitted students\n",
    "objective = solver.Objective()\n",
    "\n",
    "# For each stratum\n",
    "for ix, row in dff.iterrows():\n",
    "    # probability of admission\n",
    "    numvar = solver.NumVar(0.0, 1.0, str(ix))\n",
    "    \n",
    "    # store variable by index, and also by stratum R, T\n",
    "    applicant_stratum.append(numvar)\n",
    "    vars_cache[(row['R'],row['T'])] = numvar\n",
    "    \n",
    "    # Benefit of admitting people is total utility in that stratum\n",
    "    objective.SetCoefficient(applicant_stratum[ix], float(row['ml_outcomes']))\n",
    "objective.SetMaximization()\n"
   ]
  },
  {
   "cell_type": "code",
   "execution_count": 14,
   "metadata": {
    "execution": {
     "iopub.execute_input": "2022-01-18T20:39:18.583991Z",
     "iopub.status.busy": "2022-01-18T20:39:18.583546Z",
     "iopub.status.idle": "2022-01-18T20:39:18.585101Z",
     "shell.execute_reply": "2022-01-18T20:39:18.585372Z"
    }
   },
   "outputs": [
    {
     "data": {
      "text/plain": [
       "0"
      ]
     },
     "execution_count": 14,
     "metadata": {},
     "output_type": "execute_result"
    }
   ],
   "source": [
    "# Currently we have no constraints \n",
    "solver.NumConstraints()"
   ]
  },
  {
   "cell_type": "code",
   "execution_count": 15,
   "metadata": {
    "execution": {
     "iopub.execute_input": "2022-01-18T20:39:18.593716Z",
     "iopub.status.busy": "2022-01-18T20:39:18.588540Z",
     "iopub.status.idle": "2022-01-18T20:39:18.595356Z",
     "shell.execute_reply": "2022-01-18T20:39:18.595742Z"
    },
    "scrolled": true
   },
   "outputs": [
    {
     "name": "stdout",
     "output_type": "stream",
     "text": [
      "369469\n"
     ]
    }
   ],
   "source": [
    "# Constraint: At most K applicants\n",
    "K = int(len(df)*FRAC_ADMIT)\n",
    "print(K)\n",
    "admit_quota = solver.Constraint(0, K)\n",
    "\n",
    "# Total applicants cannot exceed K \n",
    "for ix, row in dff.iterrows():\n",
    "    admit_quota.SetCoefficient(applicant_stratum[ix], float(row['N']))"
   ]
  },
  {
   "cell_type": "code",
   "execution_count": 16,
   "metadata": {
    "execution": {
     "iopub.execute_input": "2022-01-18T20:39:18.598427Z",
     "iopub.status.busy": "2022-01-18T20:39:18.598050Z",
     "iopub.status.idle": "2022-01-18T20:39:18.599571Z",
     "shell.execute_reply": "2022-01-18T20:39:18.599922Z"
    }
   },
   "outputs": [
    {
     "data": {
      "text/plain": [
       "1"
      ]
     },
     "execution_count": 16,
     "metadata": {},
     "output_type": "execute_result"
    }
   ],
   "source": [
    "# Now we have one constraint\n",
    "solver.NumConstraints()"
   ]
  },
  {
   "cell_type": "code",
   "execution_count": null,
   "metadata": {},
   "outputs": [],
   "source": []
  },
  {
   "cell_type": "markdown",
   "metadata": {},
   "source": [
    "## Add CF Fair constraints"
   ]
  },
  {
   "cell_type": "code",
   "execution_count": 17,
   "metadata": {
    "execution": {
     "iopub.execute_input": "2022-01-18T20:39:18.603229Z",
     "iopub.status.busy": "2022-01-18T20:39:18.602712Z",
     "iopub.status.idle": "2022-01-18T20:39:18.603970Z",
     "shell.execute_reply": "2022-01-18T20:39:18.604348Z"
    }
   },
   "outputs": [],
   "source": [
    "from collections import Counter\n",
    "\n",
    "def convertListToProb(raw_list):\n",
    "    counts = dict(Counter(raw_list))\n",
    "    probs = {}\n",
    "    for test_score in counts:\n",
    "        probs[test_score]  = counts[test_score]/float(len(raw_list))\n",
    "    return [(probs[t], t) for t in probs]"
   ]
  },
  {
   "cell_type": "code",
   "execution_count": 18,
   "metadata": {
    "execution": {
     "iopub.execute_input": "2022-01-18T20:39:18.607257Z",
     "iopub.status.busy": "2022-01-18T20:39:18.606835Z",
     "iopub.status.idle": "2022-01-18T20:39:18.713166Z",
     "shell.execute_reply": "2022-01-18T20:39:18.713422Z"
    }
   },
   "outputs": [],
   "source": [
    "T_blacks_list = df[df['R']==0][['T','T_black_star']].groupby('T')['T_black_star'].apply(list).reset_index(name='T_blacks')\n"
   ]
  },
  {
   "cell_type": "code",
   "execution_count": 19,
   "metadata": {
    "execution": {
     "iopub.execute_input": "2022-01-18T20:39:18.741049Z",
     "iopub.status.busy": "2022-01-18T20:39:18.740675Z",
     "iopub.status.idle": "2022-01-18T20:39:18.741913Z",
     "shell.execute_reply": "2022-01-18T20:39:18.742254Z"
    }
   },
   "outputs": [],
   "source": [
    "T_blacks_list['probs'] = T_blacks_list['T_blacks'].apply(convertListToProb)\n"
   ]
  },
  {
   "cell_type": "code",
   "execution_count": 20,
   "metadata": {
    "execution": {
     "iopub.execute_input": "2022-01-18T20:39:18.836542Z",
     "iopub.status.busy": "2022-01-18T20:39:18.792465Z",
     "iopub.status.idle": "2022-01-18T20:39:18.910729Z",
     "shell.execute_reply": "2022-01-18T20:39:18.911033Z"
    }
   },
   "outputs": [
    {
     "data": {
      "text/html": [
       "<div>\n",
       "<style scoped>\n",
       "    .dataframe tbody tr th:only-of-type {\n",
       "        vertical-align: middle;\n",
       "    }\n",
       "\n",
       "    .dataframe tbody tr th {\n",
       "        vertical-align: top;\n",
       "    }\n",
       "\n",
       "    .dataframe thead th {\n",
       "        text-align: right;\n",
       "    }\n",
       "</style>\n",
       "<table border=\"1\" class=\"dataframe\">\n",
       "  <thead>\n",
       "    <tr style=\"text-align: right;\">\n",
       "      <th></th>\n",
       "      <th>T</th>\n",
       "      <th>T_blacks</th>\n",
       "      <th>probs</th>\n",
       "    </tr>\n",
       "  </thead>\n",
       "  <tbody>\n",
       "    <tr>\n",
       "      <th>0</th>\n",
       "      <td>10</td>\n",
       "      <td>[11, 12, 10]</td>\n",
       "      <td>[(0.3333333333333333, 11), (0.3333333333333333...</td>\n",
       "    </tr>\n",
       "    <tr>\n",
       "      <th>1</th>\n",
       "      <td>11</td>\n",
       "      <td>[10]</td>\n",
       "      <td>[(1.0, 10)]</td>\n",
       "    </tr>\n",
       "    <tr>\n",
       "      <th>2</th>\n",
       "      <td>12</td>\n",
       "      <td>[11, 11, 12, 12, 14, 11, 13]</td>\n",
       "      <td>[(0.42857142857142855, 11), (0.285714285714285...</td>\n",
       "    </tr>\n",
       "    <tr>\n",
       "      <th>3</th>\n",
       "      <td>13</td>\n",
       "      <td>[12, 14, 13, 12, 14, 14, 14, 12, 13, 12, 12, 13]</td>\n",
       "      <td>[(0.4166666666666667, 12), (0.3333333333333333...</td>\n",
       "    </tr>\n",
       "    <tr>\n",
       "      <th>4</th>\n",
       "      <td>14</td>\n",
       "      <td>[14, 13, 15, 12, 15, 14, 14, 11, 13, 13, 14, 14]</td>\n",
       "      <td>[(0.4166666666666667, 14), (0.25, 13), (0.1666...</td>\n",
       "    </tr>\n",
       "    <tr>\n",
       "      <th>...</th>\n",
       "      <td>...</td>\n",
       "      <td>...</td>\n",
       "      <td>...</td>\n",
       "    </tr>\n",
       "    <tr>\n",
       "      <th>114</th>\n",
       "      <td>124</td>\n",
       "      <td>[114]</td>\n",
       "      <td>[(1.0, 114)]</td>\n",
       "    </tr>\n",
       "    <tr>\n",
       "      <th>115</th>\n",
       "      <td>125</td>\n",
       "      <td>[115]</td>\n",
       "      <td>[(1.0, 115)]</td>\n",
       "    </tr>\n",
       "    <tr>\n",
       "      <th>116</th>\n",
       "      <td>127</td>\n",
       "      <td>[118]</td>\n",
       "      <td>[(1.0, 118)]</td>\n",
       "    </tr>\n",
       "    <tr>\n",
       "      <th>117</th>\n",
       "      <td>129</td>\n",
       "      <td>[119]</td>\n",
       "      <td>[(1.0, 119)]</td>\n",
       "    </tr>\n",
       "    <tr>\n",
       "      <th>118</th>\n",
       "      <td>133</td>\n",
       "      <td>[122]</td>\n",
       "      <td>[(1.0, 122)]</td>\n",
       "    </tr>\n",
       "  </tbody>\n",
       "</table>\n",
       "<p>119 rows × 3 columns</p>\n",
       "</div>"
      ],
      "text/plain": [
       "       T                                          T_blacks  \\\n",
       "0     10                                      [11, 12, 10]   \n",
       "1     11                                              [10]   \n",
       "2     12                      [11, 11, 12, 12, 14, 11, 13]   \n",
       "3     13  [12, 14, 13, 12, 14, 14, 14, 12, 13, 12, 12, 13]   \n",
       "4     14  [14, 13, 15, 12, 15, 14, 14, 11, 13, 13, 14, 14]   \n",
       "..   ...                                               ...   \n",
       "114  124                                             [114]   \n",
       "115  125                                             [115]   \n",
       "116  127                                             [118]   \n",
       "117  129                                             [119]   \n",
       "118  133                                             [122]   \n",
       "\n",
       "                                                 probs  \n",
       "0    [(0.3333333333333333, 11), (0.3333333333333333...  \n",
       "1                                          [(1.0, 10)]  \n",
       "2    [(0.42857142857142855, 11), (0.285714285714285...  \n",
       "3    [(0.4166666666666667, 12), (0.3333333333333333...  \n",
       "4    [(0.4166666666666667, 14), (0.25, 13), (0.1666...  \n",
       "..                                                 ...  \n",
       "114                                       [(1.0, 114)]  \n",
       "115                                       [(1.0, 115)]  \n",
       "116                                       [(1.0, 118)]  \n",
       "117                                       [(1.0, 119)]  \n",
       "118                                       [(1.0, 122)]  \n",
       "\n",
       "[119 rows x 3 columns]"
      ]
     },
     "execution_count": 20,
     "metadata": {},
     "output_type": "execute_result"
    }
   ],
   "source": [
    "T_blacks_list"
   ]
  },
  {
   "cell_type": "code",
   "execution_count": 21,
   "metadata": {
    "execution": {
     "iopub.execute_input": "2022-01-18T20:39:18.919940Z",
     "iopub.status.busy": "2022-01-18T20:39:18.919414Z",
     "iopub.status.idle": "2022-01-18T20:39:18.920765Z",
     "shell.execute_reply": "2022-01-18T20:39:18.921063Z"
    }
   },
   "outputs": [],
   "source": [
    "didntexist = 0\n",
    "exists = 0\n",
    "for ix, row in T_blacks_list.iterrows():\n",
    "    cf_fair_stratum = solver.Constraint(0.0, 0.0)\n",
    "\n",
    "    White_T = row['T']\n",
    "    Blacks_Ts = row['probs']\n",
    "    \n",
    "    cf_fair_stratum.SetCoefficient(vars_cache[(0.0, White_T)], -1.0)\n",
    "    for prob in Blacks_Ts:\n",
    "        if (1.0, prob[1]) not in vars_cache:\n",
    "            vars_cache[(1.0, prob[1])] = solver.NumVar(0.0, 1.0, str((1.0, prob[1])))\n",
    "            didntexist+=1\n",
    "        else:\n",
    "            exists+=1\n",
    "        cf_fair_stratum.SetCoefficient(vars_cache[(1.0, prob[1])], prob[0])\n",
    "    "
   ]
  },
  {
   "cell_type": "code",
   "execution_count": 22,
   "metadata": {
    "execution": {
     "iopub.execute_input": "2022-01-18T20:39:18.923740Z",
     "iopub.status.busy": "2022-01-18T20:39:18.923283Z",
     "iopub.status.idle": "2022-01-18T20:39:18.924982Z",
     "shell.execute_reply": "2022-01-18T20:39:18.925281Z"
    }
   },
   "outputs": [
    {
     "data": {
      "text/plain": [
       "(10, 717)"
      ]
     },
     "execution_count": 22,
     "metadata": {},
     "output_type": "execute_result"
    }
   ],
   "source": [
    "didntexist,exists"
   ]
  },
  {
   "cell_type": "code",
   "execution_count": 23,
   "metadata": {
    "execution": {
     "iopub.execute_input": "2022-01-18T20:39:18.928524Z",
     "iopub.status.busy": "2022-01-18T20:39:18.928132Z",
     "iopub.status.idle": "2022-01-18T20:39:18.981012Z",
     "shell.execute_reply": "2022-01-18T20:39:18.981262Z"
    }
   },
   "outputs": [],
   "source": [
    "T_whites_list = df[df['R']==1][['T','T_white_star']].groupby('T')['T_white_star'].apply(list).reset_index(name='T_whites')"
   ]
  },
  {
   "cell_type": "code",
   "execution_count": 24,
   "metadata": {
    "execution": {
     "iopub.execute_input": "2022-01-18T20:39:18.996311Z",
     "iopub.status.busy": "2022-01-18T20:39:18.995921Z",
     "iopub.status.idle": "2022-01-18T20:39:18.997028Z",
     "shell.execute_reply": "2022-01-18T20:39:18.997407Z"
    }
   },
   "outputs": [],
   "source": [
    "T_whites_list['probs'] = T_whites_list['T_whites'].apply(convertListToProb)\n"
   ]
  },
  {
   "cell_type": "code",
   "execution_count": 25,
   "metadata": {
    "execution": {
     "iopub.execute_input": "2022-01-18T20:39:19.005254Z",
     "iopub.status.busy": "2022-01-18T20:39:19.004810Z",
     "iopub.status.idle": "2022-01-18T20:39:19.006012Z",
     "shell.execute_reply": "2022-01-18T20:39:19.006301Z"
    }
   },
   "outputs": [],
   "source": [
    "didntexist = 0\n",
    "exists = 0\n",
    "\n",
    "for ix, row in T_whites_list.iterrows():\n",
    "    cf_fair_stratum = solver.Constraint(0.0, 0.0)\n",
    "\n",
    "    Black_T = row['T']\n",
    "    White_Ts = row['probs']\n",
    "    \n",
    "    cf_fair_stratum.SetCoefficient(vars_cache[(1.0, Black_T)], -1.0)\n",
    "    for prob in White_Ts:\n",
    "        if (0.0, prob[1]) not in vars_cache:\n",
    "            vars_cache[(0.0, prob[1])] = solver.NumVar(0.0, 1.0, str((0.0, prob[1])))\n",
    "            didntexist+=1\n",
    "        else:\n",
    "            exists+=1\n",
    "            \n",
    "        cf_fair_stratum.SetCoefficient(vars_cache[(0.0, prob[1])], prob[0])\n",
    "    "
   ]
  },
  {
   "cell_type": "code",
   "execution_count": 26,
   "metadata": {
    "execution": {
     "iopub.execute_input": "2022-01-18T20:39:19.008677Z",
     "iopub.status.busy": "2022-01-18T20:39:19.008239Z",
     "iopub.status.idle": "2022-01-18T20:39:19.009897Z",
     "shell.execute_reply": "2022-01-18T20:39:19.010177Z"
    }
   },
   "outputs": [
    {
     "data": {
      "text/plain": [
       "<bound method Constraint.basis_status of <ortools.linear_solver.pywraplp.Constraint; proxy of <Swig Object of type 'operations_research::MPConstraint *' at 0x7fdfd1859e10> >>"
      ]
     },
     "execution_count": 26,
     "metadata": {},
     "output_type": "execute_result"
    }
   ],
   "source": [
    "cf_fair_stratum.basis_status"
   ]
  },
  {
   "cell_type": "code",
   "execution_count": 27,
   "metadata": {
    "execution": {
     "iopub.execute_input": "2022-01-18T20:39:19.012509Z",
     "iopub.status.busy": "2022-01-18T20:39:19.012123Z",
     "iopub.status.idle": "2022-01-18T20:39:19.013395Z",
     "shell.execute_reply": "2022-01-18T20:39:19.013748Z"
    }
   },
   "outputs": [
    {
     "data": {
      "text/plain": [
       "223"
      ]
     },
     "execution_count": 27,
     "metadata": {},
     "output_type": "execute_result"
    }
   ],
   "source": [
    "solver.NumConstraints()"
   ]
  },
  {
   "cell_type": "markdown",
   "metadata": {},
   "source": [
    "## Solve linear program"
   ]
  },
  {
   "cell_type": "code",
   "execution_count": 28,
   "metadata": {
    "execution": {
     "iopub.execute_input": "2022-01-18T20:39:19.015965Z",
     "iopub.status.busy": "2022-01-18T20:39:19.015612Z",
     "iopub.status.idle": "2022-01-18T20:39:19.017111Z",
     "shell.execute_reply": "2022-01-18T20:39:19.017434Z"
    }
   },
   "outputs": [
    {
     "data": {
      "text/plain": [
       "4"
      ]
     },
     "execution_count": 28,
     "metadata": {},
     "output_type": "execute_result"
    }
   ],
   "source": [
    "solver.ABNORMAL"
   ]
  },
  {
   "cell_type": "code",
   "execution_count": 29,
   "metadata": {
    "execution": {
     "iopub.execute_input": "2022-01-18T20:39:19.023695Z",
     "iopub.status.busy": "2022-01-18T20:39:19.023320Z",
     "iopub.status.idle": "2022-01-18T20:39:19.024439Z",
     "shell.execute_reply": "2022-01-18T20:39:19.024796Z"
    }
   },
   "outputs": [],
   "source": [
    "status = solver.Solve()\n"
   ]
  },
  {
   "cell_type": "code",
   "execution_count": 30,
   "metadata": {
    "execution": {
     "iopub.execute_input": "2022-01-18T20:39:19.027579Z",
     "iopub.status.busy": "2022-01-18T20:39:19.027218Z",
     "iopub.status.idle": "2022-01-18T20:39:19.028966Z",
     "shell.execute_reply": "2022-01-18T20:39:19.029268Z"
    }
   },
   "outputs": [
    {
     "data": {
      "text/plain": [
       "0"
      ]
     },
     "execution_count": 30,
     "metadata": {},
     "output_type": "execute_result"
    }
   ],
   "source": [
    "status"
   ]
  },
  {
   "cell_type": "code",
   "execution_count": 31,
   "metadata": {
    "execution": {
     "iopub.execute_input": "2022-01-18T20:39:19.031838Z",
     "iopub.status.busy": "2022-01-18T20:39:19.031476Z",
     "iopub.status.idle": "2022-01-18T20:39:19.033031Z",
     "shell.execute_reply": "2022-01-18T20:39:19.033345Z"
    }
   },
   "outputs": [
    {
     "data": {
      "text/plain": [
       "0"
      ]
     },
     "execution_count": 31,
     "metadata": {},
     "output_type": "execute_result"
    }
   ],
   "source": [
    "solver.OPTIMAL"
   ]
  },
  {
   "cell_type": "code",
   "execution_count": 32,
   "metadata": {
    "execution": {
     "iopub.execute_input": "2022-01-18T20:39:19.037065Z",
     "iopub.status.busy": "2022-01-18T20:39:19.036605Z",
     "iopub.status.idle": "2022-01-18T20:39:19.037870Z",
     "shell.execute_reply": "2022-01-18T20:39:19.038148Z"
    },
    "scrolled": true
   },
   "outputs": [],
   "source": [
    "row = []\n",
    "admit = []\n",
    "\n",
    "for i in applicant_stratum:\n",
    "    row.append(int(str(i)))\n",
    "    admit.append(i.solution_value())\n",
    "\n",
    "df_decisions = pd.DataFrame({'row_id':row,'decision':admit})"
   ]
  },
  {
   "cell_type": "code",
   "execution_count": 33,
   "metadata": {
    "execution": {
     "iopub.execute_input": "2022-01-18T20:39:19.048837Z",
     "iopub.status.busy": "2022-01-18T20:39:19.048330Z",
     "iopub.status.idle": "2022-01-18T20:39:19.050368Z",
     "shell.execute_reply": "2022-01-18T20:39:19.050663Z"
    }
   },
   "outputs": [
    {
     "data": {
      "text/html": [
       "<div>\n",
       "<style scoped>\n",
       "    .dataframe tbody tr th:only-of-type {\n",
       "        vertical-align: middle;\n",
       "    }\n",
       "\n",
       "    .dataframe tbody tr th {\n",
       "        vertical-align: top;\n",
       "    }\n",
       "\n",
       "    .dataframe thead th {\n",
       "        text-align: right;\n",
       "    }\n",
       "</style>\n",
       "<table border=\"1\" class=\"dataframe\">\n",
       "  <thead>\n",
       "    <tr style=\"text-align: right;\">\n",
       "      <th></th>\n",
       "      <th>row_id</th>\n",
       "      <th>decision</th>\n",
       "    </tr>\n",
       "  </thead>\n",
       "  <tbody>\n",
       "    <tr>\n",
       "      <th>0</th>\n",
       "      <td>0</td>\n",
       "      <td>0.369432</td>\n",
       "    </tr>\n",
       "    <tr>\n",
       "      <th>1</th>\n",
       "      <td>1</td>\n",
       "      <td>0.369432</td>\n",
       "    </tr>\n",
       "    <tr>\n",
       "      <th>2</th>\n",
       "      <td>2</td>\n",
       "      <td>0.369432</td>\n",
       "    </tr>\n",
       "    <tr>\n",
       "      <th>3</th>\n",
       "      <td>3</td>\n",
       "      <td>0.369432</td>\n",
       "    </tr>\n",
       "    <tr>\n",
       "      <th>4</th>\n",
       "      <td>4</td>\n",
       "      <td>0.369432</td>\n",
       "    </tr>\n",
       "    <tr>\n",
       "      <th>...</th>\n",
       "      <td>...</td>\n",
       "      <td>...</td>\n",
       "    </tr>\n",
       "    <tr>\n",
       "      <th>217</th>\n",
       "      <td>217</td>\n",
       "      <td>0.706040</td>\n",
       "    </tr>\n",
       "    <tr>\n",
       "      <th>218</th>\n",
       "      <td>218</td>\n",
       "      <td>0.751733</td>\n",
       "    </tr>\n",
       "    <tr>\n",
       "      <th>219</th>\n",
       "      <td>219</td>\n",
       "      <td>0.751733</td>\n",
       "    </tr>\n",
       "    <tr>\n",
       "      <th>220</th>\n",
       "      <td>220</td>\n",
       "      <td>0.751733</td>\n",
       "    </tr>\n",
       "    <tr>\n",
       "      <th>221</th>\n",
       "      <td>221</td>\n",
       "      <td>1.000000</td>\n",
       "    </tr>\n",
       "  </tbody>\n",
       "</table>\n",
       "<p>222 rows × 2 columns</p>\n",
       "</div>"
      ],
      "text/plain": [
       "     row_id  decision\n",
       "0         0  0.369432\n",
       "1         1  0.369432\n",
       "2         2  0.369432\n",
       "3         3  0.369432\n",
       "4         4  0.369432\n",
       "..      ...       ...\n",
       "217     217  0.706040\n",
       "218     218  0.751733\n",
       "219     219  0.751733\n",
       "220     220  0.751733\n",
       "221     221  1.000000\n",
       "\n",
       "[222 rows x 2 columns]"
      ]
     },
     "execution_count": 33,
     "metadata": {},
     "output_type": "execute_result"
    }
   ],
   "source": [
    "df_decisions"
   ]
  },
  {
   "cell_type": "code",
   "execution_count": 34,
   "metadata": {
    "execution": {
     "iopub.execute_input": "2022-01-18T20:39:19.078296Z",
     "iopub.status.busy": "2022-01-18T20:39:19.077805Z",
     "iopub.status.idle": "2022-01-18T20:39:19.080013Z",
     "shell.execute_reply": "2022-01-18T20:39:19.080308Z"
    }
   },
   "outputs": [
    {
     "data": {
      "text/html": [
       "<div>\n",
       "<style scoped>\n",
       "    .dataframe tbody tr th:only-of-type {\n",
       "        vertical-align: middle;\n",
       "    }\n",
       "\n",
       "    .dataframe tbody tr th {\n",
       "        vertical-align: top;\n",
       "    }\n",
       "\n",
       "    .dataframe thead th {\n",
       "        text-align: right;\n",
       "    }\n",
       "</style>\n",
       "<table border=\"1\" class=\"dataframe\">\n",
       "  <thead>\n",
       "    <tr style=\"text-align: right;\">\n",
       "      <th></th>\n",
       "      <th>level_0</th>\n",
       "      <th>index</th>\n",
       "      <th>R</th>\n",
       "      <th>T</th>\n",
       "      <th>ml_outcomes</th>\n",
       "      <th>N</th>\n",
       "      <th>row_id</th>\n",
       "      <th>decision</th>\n",
       "    </tr>\n",
       "  </thead>\n",
       "  <tbody>\n",
       "    <tr>\n",
       "      <th>48</th>\n",
       "      <td>0</td>\n",
       "      <td>48</td>\n",
       "      <td>0</td>\n",
       "      <td>58</td>\n",
       "      <td>11182.64</td>\n",
       "      <td>19969</td>\n",
       "      <td>48</td>\n",
       "      <td>0.369432</td>\n",
       "    </tr>\n",
       "    <tr>\n",
       "      <th>47</th>\n",
       "      <td>1</td>\n",
       "      <td>47</td>\n",
       "      <td>0</td>\n",
       "      <td>57</td>\n",
       "      <td>11008.98</td>\n",
       "      <td>20387</td>\n",
       "      <td>47</td>\n",
       "      <td>0.369432</td>\n",
       "    </tr>\n",
       "    <tr>\n",
       "      <th>49</th>\n",
       "      <td>2</td>\n",
       "      <td>49</td>\n",
       "      <td>0</td>\n",
       "      <td>59</td>\n",
       "      <td>11000.28</td>\n",
       "      <td>18966</td>\n",
       "      <td>49</td>\n",
       "      <td>0.369432</td>\n",
       "    </tr>\n",
       "    <tr>\n",
       "      <th>50</th>\n",
       "      <td>3</td>\n",
       "      <td>50</td>\n",
       "      <td>0</td>\n",
       "      <td>60</td>\n",
       "      <td>10907.40</td>\n",
       "      <td>18179</td>\n",
       "      <td>50</td>\n",
       "      <td>0.369432</td>\n",
       "    </tr>\n",
       "    <tr>\n",
       "      <th>46</th>\n",
       "      <td>4</td>\n",
       "      <td>46</td>\n",
       "      <td>0</td>\n",
       "      <td>56</td>\n",
       "      <td>10859.68</td>\n",
       "      <td>20884</td>\n",
       "      <td>46</td>\n",
       "      <td>0.369432</td>\n",
       "    </tr>\n",
       "    <tr>\n",
       "      <th>...</th>\n",
       "      <td>...</td>\n",
       "      <td>...</td>\n",
       "      <td>...</td>\n",
       "      <td>...</td>\n",
       "      <td>...</td>\n",
       "      <td>...</td>\n",
       "      <td>...</td>\n",
       "      <td>...</td>\n",
       "    </tr>\n",
       "    <tr>\n",
       "      <th>119</th>\n",
       "      <td>217</td>\n",
       "      <td>119</td>\n",
       "      <td>1</td>\n",
       "      <td>6</td>\n",
       "      <td>0.27</td>\n",
       "      <td>1</td>\n",
       "      <td>119</td>\n",
       "      <td>0.000000</td>\n",
       "    </tr>\n",
       "    <tr>\n",
       "      <th>120</th>\n",
       "      <td>218</td>\n",
       "      <td>120</td>\n",
       "      <td>1</td>\n",
       "      <td>7</td>\n",
       "      <td>0.27</td>\n",
       "      <td>1</td>\n",
       "      <td>120</td>\n",
       "      <td>0.000000</td>\n",
       "    </tr>\n",
       "    <tr>\n",
       "      <th>2</th>\n",
       "      <td>219</td>\n",
       "      <td>2</td>\n",
       "      <td>0</td>\n",
       "      <td>12</td>\n",
       "      <td>0.21</td>\n",
       "      <td>7</td>\n",
       "      <td>2</td>\n",
       "      <td>0.369432</td>\n",
       "    </tr>\n",
       "    <tr>\n",
       "      <th>0</th>\n",
       "      <td>220</td>\n",
       "      <td>0</td>\n",
       "      <td>0</td>\n",
       "      <td>10</td>\n",
       "      <td>0.09</td>\n",
       "      <td>3</td>\n",
       "      <td>0</td>\n",
       "      <td>0.369432</td>\n",
       "    </tr>\n",
       "    <tr>\n",
       "      <th>1</th>\n",
       "      <td>221</td>\n",
       "      <td>1</td>\n",
       "      <td>0</td>\n",
       "      <td>11</td>\n",
       "      <td>0.03</td>\n",
       "      <td>1</td>\n",
       "      <td>1</td>\n",
       "      <td>0.369432</td>\n",
       "    </tr>\n",
       "  </tbody>\n",
       "</table>\n",
       "<p>222 rows × 8 columns</p>\n",
       "</div>"
      ],
      "text/plain": [
       "     level_0  index  R   T  ml_outcomes      N  row_id  decision\n",
       "48         0     48  0  58     11182.64  19969      48  0.369432\n",
       "47         1     47  0  57     11008.98  20387      47  0.369432\n",
       "49         2     49  0  59     11000.28  18966      49  0.369432\n",
       "50         3     50  0  60     10907.40  18179      50  0.369432\n",
       "46         4     46  0  56     10859.68  20884      46  0.369432\n",
       "..       ...    ... ..  ..          ...    ...     ...       ...\n",
       "119      217    119  1   6         0.27      1     119  0.000000\n",
       "120      218    120  1   7         0.27      1     120  0.000000\n",
       "2        219      2  0  12         0.21      7       2  0.369432\n",
       "0        220      0  0  10         0.09      3       0  0.369432\n",
       "1        221      1  0  11         0.03      1       1  0.369432\n",
       "\n",
       "[222 rows x 8 columns]"
      ]
     },
     "execution_count": 34,
     "metadata": {},
     "output_type": "execute_result"
    }
   ],
   "source": [
    "dff.merge(df_decisions,left_index=True,right_index=True).sort_values(by='ml_outcomes',ascending=False)"
   ]
  },
  {
   "cell_type": "code",
   "execution_count": 35,
   "metadata": {
    "execution": {
     "iopub.execute_input": "2022-01-18T20:39:19.107194Z",
     "iopub.status.busy": "2022-01-18T20:39:19.083710Z",
     "iopub.status.idle": "2022-01-18T20:39:19.109456Z",
     "shell.execute_reply": "2022-01-18T20:39:19.109789Z"
    }
   },
   "outputs": [
    {
     "data": {
      "text/html": [
       "<div>\n",
       "<style scoped>\n",
       "    .dataframe tbody tr th:only-of-type {\n",
       "        vertical-align: middle;\n",
       "    }\n",
       "\n",
       "    .dataframe tbody tr th {\n",
       "        vertical-align: top;\n",
       "    }\n",
       "\n",
       "    .dataframe thead th {\n",
       "        text-align: right;\n",
       "    }\n",
       "</style>\n",
       "<table border=\"1\" class=\"dataframe\">\n",
       "  <thead>\n",
       "    <tr style=\"text-align: right;\">\n",
       "      <th></th>\n",
       "      <th>level_0</th>\n",
       "      <th>index</th>\n",
       "      <th>R</th>\n",
       "      <th>T</th>\n",
       "      <th>ml_outcomes</th>\n",
       "      <th>N</th>\n",
       "      <th>row_id</th>\n",
       "      <th>decision</th>\n",
       "    </tr>\n",
       "  </thead>\n",
       "  <tbody>\n",
       "    <tr>\n",
       "      <th>48</th>\n",
       "      <td>0</td>\n",
       "      <td>48</td>\n",
       "      <td>0</td>\n",
       "      <td>58</td>\n",
       "      <td>11182.64</td>\n",
       "      <td>19969</td>\n",
       "      <td>48</td>\n",
       "      <td>0.369432</td>\n",
       "    </tr>\n",
       "    <tr>\n",
       "      <th>47</th>\n",
       "      <td>1</td>\n",
       "      <td>47</td>\n",
       "      <td>0</td>\n",
       "      <td>57</td>\n",
       "      <td>11008.98</td>\n",
       "      <td>20387</td>\n",
       "      <td>47</td>\n",
       "      <td>0.369432</td>\n",
       "    </tr>\n",
       "    <tr>\n",
       "      <th>49</th>\n",
       "      <td>2</td>\n",
       "      <td>49</td>\n",
       "      <td>0</td>\n",
       "      <td>59</td>\n",
       "      <td>11000.28</td>\n",
       "      <td>18966</td>\n",
       "      <td>49</td>\n",
       "      <td>0.369432</td>\n",
       "    </tr>\n",
       "    <tr>\n",
       "      <th>50</th>\n",
       "      <td>3</td>\n",
       "      <td>50</td>\n",
       "      <td>0</td>\n",
       "      <td>60</td>\n",
       "      <td>10907.40</td>\n",
       "      <td>18179</td>\n",
       "      <td>50</td>\n",
       "      <td>0.369432</td>\n",
       "    </tr>\n",
       "    <tr>\n",
       "      <th>46</th>\n",
       "      <td>4</td>\n",
       "      <td>46</td>\n",
       "      <td>0</td>\n",
       "      <td>56</td>\n",
       "      <td>10859.68</td>\n",
       "      <td>20884</td>\n",
       "      <td>46</td>\n",
       "      <td>0.369432</td>\n",
       "    </tr>\n",
       "    <tr>\n",
       "      <th>...</th>\n",
       "      <td>...</td>\n",
       "      <td>...</td>\n",
       "      <td>...</td>\n",
       "      <td>...</td>\n",
       "      <td>...</td>\n",
       "      <td>...</td>\n",
       "      <td>...</td>\n",
       "      <td>...</td>\n",
       "    </tr>\n",
       "    <tr>\n",
       "      <th>119</th>\n",
       "      <td>217</td>\n",
       "      <td>119</td>\n",
       "      <td>1</td>\n",
       "      <td>6</td>\n",
       "      <td>0.27</td>\n",
       "      <td>1</td>\n",
       "      <td>119</td>\n",
       "      <td>0.000000</td>\n",
       "    </tr>\n",
       "    <tr>\n",
       "      <th>120</th>\n",
       "      <td>218</td>\n",
       "      <td>120</td>\n",
       "      <td>1</td>\n",
       "      <td>7</td>\n",
       "      <td>0.27</td>\n",
       "      <td>1</td>\n",
       "      <td>120</td>\n",
       "      <td>0.000000</td>\n",
       "    </tr>\n",
       "    <tr>\n",
       "      <th>2</th>\n",
       "      <td>219</td>\n",
       "      <td>2</td>\n",
       "      <td>0</td>\n",
       "      <td>12</td>\n",
       "      <td>0.21</td>\n",
       "      <td>7</td>\n",
       "      <td>2</td>\n",
       "      <td>0.369432</td>\n",
       "    </tr>\n",
       "    <tr>\n",
       "      <th>0</th>\n",
       "      <td>220</td>\n",
       "      <td>0</td>\n",
       "      <td>0</td>\n",
       "      <td>10</td>\n",
       "      <td>0.09</td>\n",
       "      <td>3</td>\n",
       "      <td>0</td>\n",
       "      <td>0.369432</td>\n",
       "    </tr>\n",
       "    <tr>\n",
       "      <th>1</th>\n",
       "      <td>221</td>\n",
       "      <td>1</td>\n",
       "      <td>0</td>\n",
       "      <td>11</td>\n",
       "      <td>0.03</td>\n",
       "      <td>1</td>\n",
       "      <td>1</td>\n",
       "      <td>0.369432</td>\n",
       "    </tr>\n",
       "  </tbody>\n",
       "</table>\n",
       "<p>222 rows × 8 columns</p>\n",
       "</div>"
      ],
      "text/plain": [
       "     level_0  index  R   T  ml_outcomes      N  row_id  decision\n",
       "48         0     48  0  58     11182.64  19969      48  0.369432\n",
       "47         1     47  0  57     11008.98  20387      47  0.369432\n",
       "49         2     49  0  59     11000.28  18966      49  0.369432\n",
       "50         3     50  0  60     10907.40  18179      50  0.369432\n",
       "46         4     46  0  56     10859.68  20884      46  0.369432\n",
       "..       ...    ... ..  ..          ...    ...     ...       ...\n",
       "119      217    119  1   6         0.27      1     119  0.000000\n",
       "120      218    120  1   7         0.27      1     120  0.000000\n",
       "2        219      2  0  12         0.21      7       2  0.369432\n",
       "0        220      0  0  10         0.09      3       0  0.369432\n",
       "1        221      1  0  11         0.03      1       1  0.369432\n",
       "\n",
       "[222 rows x 8 columns]"
      ]
     },
     "execution_count": 35,
     "metadata": {},
     "output_type": "execute_result"
    }
   ],
   "source": [
    "xxx = dff.merge(df_decisions,left_index=True,right_index=True).sort_values(by='ml_outcomes',ascending=False)\n",
    "xxx"
   ]
  },
  {
   "cell_type": "code",
   "execution_count": 36,
   "metadata": {
    "execution": {
     "iopub.execute_input": "2022-01-18T20:39:19.136948Z",
     "iopub.status.busy": "2022-01-18T20:39:19.136438Z",
     "iopub.status.idle": "2022-01-18T20:39:19.138744Z",
     "shell.execute_reply": "2022-01-18T20:39:19.138993Z"
    }
   },
   "outputs": [
    {
     "data": {
      "text/html": [
       "<div>\n",
       "<style scoped>\n",
       "    .dataframe tbody tr th:only-of-type {\n",
       "        vertical-align: middle;\n",
       "    }\n",
       "\n",
       "    .dataframe tbody tr th {\n",
       "        vertical-align: top;\n",
       "    }\n",
       "\n",
       "    .dataframe thead th {\n",
       "        text-align: right;\n",
       "    }\n",
       "</style>\n",
       "<table border=\"1\" class=\"dataframe\">\n",
       "  <thead>\n",
       "    <tr style=\"text-align: right;\">\n",
       "      <th></th>\n",
       "      <th>level_0</th>\n",
       "      <th>index</th>\n",
       "      <th>R</th>\n",
       "      <th>T</th>\n",
       "      <th>ml_outcomes</th>\n",
       "      <th>N</th>\n",
       "      <th>row_id</th>\n",
       "      <th>decision</th>\n",
       "    </tr>\n",
       "  </thead>\n",
       "  <tbody>\n",
       "    <tr>\n",
       "      <th>117</th>\n",
       "      <td>206</td>\n",
       "      <td>117</td>\n",
       "      <td>0</td>\n",
       "      <td>129</td>\n",
       "      <td>1.00</td>\n",
       "      <td>1</td>\n",
       "      <td>117</td>\n",
       "      <td>1.000000</td>\n",
       "    </tr>\n",
       "    <tr>\n",
       "      <th>114</th>\n",
       "      <td>209</td>\n",
       "      <td>114</td>\n",
       "      <td>0</td>\n",
       "      <td>124</td>\n",
       "      <td>1.00</td>\n",
       "      <td>1</td>\n",
       "      <td>114</td>\n",
       "      <td>1.000000</td>\n",
       "    </tr>\n",
       "    <tr>\n",
       "      <th>108</th>\n",
       "      <td>198</td>\n",
       "      <td>108</td>\n",
       "      <td>0</td>\n",
       "      <td>118</td>\n",
       "      <td>1.98</td>\n",
       "      <td>2</td>\n",
       "      <td>108</td>\n",
       "      <td>1.000000</td>\n",
       "    </tr>\n",
       "    <tr>\n",
       "      <th>109</th>\n",
       "      <td>190</td>\n",
       "      <td>109</td>\n",
       "      <td>0</td>\n",
       "      <td>119</td>\n",
       "      <td>2.97</td>\n",
       "      <td>3</td>\n",
       "      <td>109</td>\n",
       "      <td>1.000000</td>\n",
       "    </tr>\n",
       "    <tr>\n",
       "      <th>221</th>\n",
       "      <td>200</td>\n",
       "      <td>221</td>\n",
       "      <td>1</td>\n",
       "      <td>118</td>\n",
       "      <td>1.24</td>\n",
       "      <td>1</td>\n",
       "      <td>221</td>\n",
       "      <td>1.000000</td>\n",
       "    </tr>\n",
       "    <tr>\n",
       "      <th>...</th>\n",
       "      <td>...</td>\n",
       "      <td>...</td>\n",
       "      <td>...</td>\n",
       "      <td>...</td>\n",
       "      <td>...</td>\n",
       "      <td>...</td>\n",
       "      <td>...</td>\n",
       "      <td>...</td>\n",
       "    </tr>\n",
       "    <tr>\n",
       "      <th>139</th>\n",
       "      <td>110</td>\n",
       "      <td>139</td>\n",
       "      <td>1</td>\n",
       "      <td>26</td>\n",
       "      <td>514.14</td>\n",
       "      <td>1558</td>\n",
       "      <td>139</td>\n",
       "      <td>0.369432</td>\n",
       "    </tr>\n",
       "    <tr>\n",
       "      <th>17</th>\n",
       "      <td>138</td>\n",
       "      <td>17</td>\n",
       "      <td>0</td>\n",
       "      <td>27</td>\n",
       "      <td>114.60</td>\n",
       "      <td>1146</td>\n",
       "      <td>17</td>\n",
       "      <td>0.369432</td>\n",
       "    </tr>\n",
       "    <tr>\n",
       "      <th>121</th>\n",
       "      <td>214</td>\n",
       "      <td>121</td>\n",
       "      <td>1</td>\n",
       "      <td>8</td>\n",
       "      <td>0.54</td>\n",
       "      <td>2</td>\n",
       "      <td>121</td>\n",
       "      <td>0.277074</td>\n",
       "    </tr>\n",
       "    <tr>\n",
       "      <th>119</th>\n",
       "      <td>217</td>\n",
       "      <td>119</td>\n",
       "      <td>1</td>\n",
       "      <td>6</td>\n",
       "      <td>0.27</td>\n",
       "      <td>1</td>\n",
       "      <td>119</td>\n",
       "      <td>0.000000</td>\n",
       "    </tr>\n",
       "    <tr>\n",
       "      <th>120</th>\n",
       "      <td>218</td>\n",
       "      <td>120</td>\n",
       "      <td>1</td>\n",
       "      <td>7</td>\n",
       "      <td>0.27</td>\n",
       "      <td>1</td>\n",
       "      <td>120</td>\n",
       "      <td>0.000000</td>\n",
       "    </tr>\n",
       "  </tbody>\n",
       "</table>\n",
       "<p>222 rows × 8 columns</p>\n",
       "</div>"
      ],
      "text/plain": [
       "     level_0  index  R    T  ml_outcomes     N  row_id  decision\n",
       "117      206    117  0  129         1.00     1     117  1.000000\n",
       "114      209    114  0  124         1.00     1     114  1.000000\n",
       "108      198    108  0  118         1.98     2     108  1.000000\n",
       "109      190    109  0  119         2.97     3     109  1.000000\n",
       "221      200    221  1  118         1.24     1     221  1.000000\n",
       "..       ...    ... ..  ...          ...   ...     ...       ...\n",
       "139      110    139  1   26       514.14  1558     139  0.369432\n",
       "17       138     17  0   27       114.60  1146      17  0.369432\n",
       "121      214    121  1    8         0.54     2     121  0.277074\n",
       "119      217    119  1    6         0.27     1     119  0.000000\n",
       "120      218    120  1    7         0.27     1     120  0.000000\n",
       "\n",
       "[222 rows x 8 columns]"
      ]
     },
     "execution_count": 36,
     "metadata": {},
     "output_type": "execute_result"
    }
   ],
   "source": [
    "xxx.sort_values(by='decision',ascending=False)"
   ]
  },
  {
   "cell_type": "code",
   "execution_count": 37,
   "metadata": {
    "execution": {
     "iopub.execute_input": "2022-01-18T20:39:19.142072Z",
     "iopub.status.busy": "2022-01-18T20:39:19.141657Z",
     "iopub.status.idle": "2022-01-18T20:39:20.265527Z",
     "shell.execute_reply": "2022-01-18T20:39:20.265763Z"
    }
   },
   "outputs": [],
   "source": [
    "df['key'] = df['R'].astype(str)+'_'+df['T'].astype(str)\n",
    "xxx['key'] = xxx['R'].astype(str)+'_'+xxx['T'].astype(str)"
   ]
  },
  {
   "cell_type": "code",
   "execution_count": 38,
   "metadata": {
    "execution": {
     "iopub.execute_input": "2022-01-18T20:39:20.325089Z",
     "iopub.status.busy": "2022-01-18T20:39:20.324630Z",
     "iopub.status.idle": "2022-01-18T20:39:20.796521Z",
     "shell.execute_reply": "2022-01-18T20:39:20.796836Z"
    }
   },
   "outputs": [],
   "source": [
    "admit_decisions = df.merge(xxx,how='left',on='key')\n",
    "admit_decisions['decision_random'] = pd.Series([random.random() for x in range(0,len(admit_decisions))]) < FRAC_ADMIT['A']\n",
    "\n",
    "FRAC_BLACK_POLICY = (admit_decisions['R_y'] * admit_decisions['decision']).sum()/admit_decisions['decision'].sum()\n",
    "SUM_BP_POLICY = ( admit_decisions['B_p'] * admit_decisions['decision']).sum()\n",
    "\n",
    "FRAC_RANDOM_POLICY = (admit_decisions['R_y'] * admit_decisions['decision_random']).sum()/admit_decisions['decision_random'].sum()\n",
    "SUM_BP_RAND_POLICY = ( admit_decisions['B_p'] * admit_decisions['decision_random']).sum()\n"
   ]
  },
  {
   "cell_type": "code",
   "execution_count": 39,
   "metadata": {
    "execution": {
     "iopub.execute_input": "2022-01-18T20:39:20.799927Z",
     "iopub.status.busy": "2022-01-18T20:39:20.799560Z",
     "iopub.status.idle": "2022-01-18T20:39:20.801195Z",
     "shell.execute_reply": "2022-01-18T20:39:20.801462Z"
    }
   },
   "outputs": [],
   "source": [
    "file = open('./lp_results.csv','a')\n",
    "file.write('{}\\t{}\\t{}\\n'.format('Path-Specific Fairness',str(FRAC_BLACK_POLICY),str(SUM_BP_POLICY)))\n",
    "file.close()\n"
   ]
  },
  {
   "cell_type": "code",
   "execution_count": 40,
   "metadata": {
    "execution": {
     "iopub.execute_input": "2022-01-18T20:39:20.804819Z",
     "iopub.status.busy": "2022-01-18T20:39:20.804396Z",
     "iopub.status.idle": "2022-01-18T20:39:20.805920Z",
     "shell.execute_reply": "2022-01-18T20:39:20.806205Z"
    }
   },
   "outputs": [
    {
     "data": {
      "text/plain": [
       "0.36946900000000005"
      ]
     },
     "execution_count": 40,
     "metadata": {},
     "output_type": "execute_result"
    }
   ],
   "source": [
    "(xxx['N']*xxx['decision']).sum()/len(df)"
   ]
  },
  {
   "cell_type": "code",
   "execution_count": null,
   "metadata": {},
   "outputs": [],
   "source": []
  }
 ],
 "metadata": {
  "kernelspec": {
   "display_name": "Python 3 (ipykernel)",
   "language": "python",
   "name": "python3"
  },
  "language_info": {
   "codemirror_mode": {
    "name": "ipython",
    "version": 3
   },
   "file_extension": ".py",
   "mimetype": "text/x-python",
   "name": "python",
   "nbconvert_exporter": "python",
   "pygments_lexer": "ipython3",
   "version": "3.9.7"
  }
 },
 "nbformat": 4,
 "nbformat_minor": 4
}
