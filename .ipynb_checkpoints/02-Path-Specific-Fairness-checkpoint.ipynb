{
 "cells": [
  {
   "cell_type": "code",
   "execution_count": 1,
   "metadata": {
    "execution": {
     "iopub.execute_input": "2022-12-12T05:05:13.233872Z",
     "iopub.status.busy": "2022-12-12T05:05:13.233049Z",
     "iopub.status.idle": "2022-12-12T05:05:14.471170Z",
     "shell.execute_reply": "2022-12-12T05:05:14.471414Z"
    }
   },
   "outputs": [],
   "source": [
    "import numpy as np\n",
    "import pandas as pd\n",
    "import matplotlib.pyplot as plt\n",
    "import seaborn as sns\n",
    "import random\n",
    "import os\n",
    "\n",
    "DIVERSITY_UTILITY = float(os.environ.get('DIVERSITY_UTILITY'))\n",
    "FRAC_ADMIT = float(os.environ.get('FRAC_ADMIT'))"
   ]
  },
  {
   "cell_type": "code",
   "execution_count": 2,
   "metadata": {
    "execution": {
     "iopub.execute_input": "2022-12-12T05:05:14.475710Z",
     "iopub.status.busy": "2022-12-12T05:05:14.475292Z",
     "iopub.status.idle": "2022-12-12T05:05:30.678343Z",
     "shell.execute_reply": "2022-12-12T05:05:30.678576Z"
    }
   },
   "outputs": [],
   "source": [
    "###\n",
    "## Load dataframe where each row is a single applicant\n",
    "###\n",
    "\n",
    "df = pd.read_csv('./df_test.csv')\n",
    "df['key'] = df['R'].astype(str) + \"_\"  + df['T'].astype(str)\n",
    "\n",
    "###\n",
    "## Estimate E[Y(1)|T, A]\n",
    "###\n",
    "\n",
    "df_train = pd.read_csv('./df_train.csv')\n",
    "df_stratum_utility = df_train[['R','T','Y']].groupby(['R','T']).mean().reset_index()\n",
    "df_stratum_utility['stratum_utility'] = (df_stratum_utility['Y'] + DIVERSITY_UTILITY * df_stratum_utility['R']).round(2)\n",
    "df_stratum_utility['key'] = df_stratum_utility['R'].astype(str) + \"_\" + df_stratum_utility['T'].astype(str)\n",
    "\n",
    "df = df.merge(df_stratum_utility[['stratum_utility','key']], on='key')\n",
    "df['ml_outcomes'] = df['stratum_utility']"
   ]
  },
  {
   "cell_type": "code",
   "execution_count": 3,
   "metadata": {
    "execution": {
     "iopub.execute_input": "2022-12-12T05:05:30.695282Z",
     "iopub.status.busy": "2022-12-12T05:05:30.694795Z",
     "iopub.status.idle": "2022-12-12T05:05:30.833597Z",
     "shell.execute_reply": "2022-12-12T05:05:30.833870Z"
    }
   },
   "outputs": [
    {
     "data": {
      "text/html": [
       "<div>\n",
       "<style scoped>\n",
       "    .dataframe tbody tr th:only-of-type {\n",
       "        vertical-align: middle;\n",
       "    }\n",
       "\n",
       "    .dataframe tbody tr th {\n",
       "        vertical-align: top;\n",
       "    }\n",
       "\n",
       "    .dataframe thead th {\n",
       "        text-align: right;\n",
       "    }\n",
       "</style>\n",
       "<table border=\"1\" class=\"dataframe\">\n",
       "  <thead>\n",
       "    <tr style=\"text-align: right;\">\n",
       "      <th></th>\n",
       "      <th>Unnamed: 0</th>\n",
       "      <th>R</th>\n",
       "      <th>E_noise</th>\n",
       "      <th>E_minority</th>\n",
       "      <th>E_majority</th>\n",
       "      <th>M_noise</th>\n",
       "      <th>M_minority</th>\n",
       "      <th>M_majority</th>\n",
       "      <th>T_noise</th>\n",
       "      <th>T_minority</th>\n",
       "      <th>...</th>\n",
       "      <th>T</th>\n",
       "      <th>Y_unif</th>\n",
       "      <th>Y_reject_noise</th>\n",
       "      <th>Y</th>\n",
       "      <th>Y_raw</th>\n",
       "      <th>Y_reject</th>\n",
       "      <th>Y_reject_raw</th>\n",
       "      <th>key</th>\n",
       "      <th>stratum_utility</th>\n",
       "      <th>ml_outcomes</th>\n",
       "    </tr>\n",
       "  </thead>\n",
       "  <tbody>\n",
       "    <tr>\n",
       "      <th>0</th>\n",
       "      <td>1</td>\n",
       "      <td>0</td>\n",
       "      <td>1.389398</td>\n",
       "      <td>1.389398</td>\n",
       "      <td>2.389398</td>\n",
       "      <td>-1.253731</td>\n",
       "      <td>-0.864334</td>\n",
       "      <td>0.135666</td>\n",
       "      <td>3.772786</td>\n",
       "      <td>55</td>\n",
       "      <td>...</td>\n",
       "      <td>64</td>\n",
       "      <td>0.555882</td>\n",
       "      <td>0.070407</td>\n",
       "      <td>0</td>\n",
       "      <td>0.533865</td>\n",
       "      <td>0</td>\n",
       "      <td>0.409911</td>\n",
       "      <td>0_64</td>\n",
       "      <td>0.67</td>\n",
       "      <td>0.67</td>\n",
       "    </tr>\n",
       "    <tr>\n",
       "      <th>1</th>\n",
       "      <td>112</td>\n",
       "      <td>0</td>\n",
       "      <td>0.829848</td>\n",
       "      <td>0.829848</td>\n",
       "      <td>1.829848</td>\n",
       "      <td>0.458639</td>\n",
       "      <td>0.288488</td>\n",
       "      <td>1.288488</td>\n",
       "      <td>-0.897407</td>\n",
       "      <td>54</td>\n",
       "      <td>...</td>\n",
       "      <td>64</td>\n",
       "      <td>0.142150</td>\n",
       "      <td>-0.301607</td>\n",
       "      <td>1</td>\n",
       "      <td>0.783891</td>\n",
       "      <td>1</td>\n",
       "      <td>0.687506</td>\n",
       "      <td>0_64</td>\n",
       "      <td>0.67</td>\n",
       "      <td>0.67</td>\n",
       "    </tr>\n",
       "    <tr>\n",
       "      <th>2</th>\n",
       "      <td>266</td>\n",
       "      <td>0</td>\n",
       "      <td>-0.343388</td>\n",
       "      <td>-0.343388</td>\n",
       "      <td>0.656612</td>\n",
       "      <td>0.427825</td>\n",
       "      <td>-0.915563</td>\n",
       "      <td>0.084437</td>\n",
       "      <td>10.606118</td>\n",
       "      <td>56</td>\n",
       "      <td>...</td>\n",
       "      <td>64</td>\n",
       "      <td>0.826323</td>\n",
       "      <td>-0.054387</td>\n",
       "      <td>0</td>\n",
       "      <td>0.521097</td>\n",
       "      <td>0</td>\n",
       "      <td>0.397579</td>\n",
       "      <td>0_64</td>\n",
       "      <td>0.67</td>\n",
       "      <td>0.67</td>\n",
       "    </tr>\n",
       "    <tr>\n",
       "      <th>3</th>\n",
       "      <td>564</td>\n",
       "      <td>0</td>\n",
       "      <td>-0.083986</td>\n",
       "      <td>-0.083986</td>\n",
       "      <td>0.916014</td>\n",
       "      <td>0.888432</td>\n",
       "      <td>-0.195554</td>\n",
       "      <td>0.804446</td>\n",
       "      <td>5.890213</td>\n",
       "      <td>55</td>\n",
       "      <td>...</td>\n",
       "      <td>64</td>\n",
       "      <td>0.650710</td>\n",
       "      <td>-0.290176</td>\n",
       "      <td>1</td>\n",
       "      <td>0.690925</td>\n",
       "      <td>0</td>\n",
       "      <td>0.575529</td>\n",
       "      <td>0_64</td>\n",
       "      <td>0.67</td>\n",
       "      <td>0.67</td>\n",
       "    </tr>\n",
       "    <tr>\n",
       "      <th>4</th>\n",
       "      <td>592</td>\n",
       "      <td>0</td>\n",
       "      <td>1.340353</td>\n",
       "      <td>1.340353</td>\n",
       "      <td>2.340353</td>\n",
       "      <td>1.676530</td>\n",
       "      <td>2.016883</td>\n",
       "      <td>3.016883</td>\n",
       "      <td>-14.122165</td>\n",
       "      <td>52</td>\n",
       "      <td>...</td>\n",
       "      <td>64</td>\n",
       "      <td>0.617825</td>\n",
       "      <td>-0.602749</td>\n",
       "      <td>1</td>\n",
       "      <td>0.953331</td>\n",
       "      <td>1</td>\n",
       "      <td>0.925317</td>\n",
       "      <td>0_64</td>\n",
       "      <td>0.67</td>\n",
       "      <td>0.67</td>\n",
       "    </tr>\n",
       "    <tr>\n",
       "      <th>...</th>\n",
       "      <td>...</td>\n",
       "      <td>...</td>\n",
       "      <td>...</td>\n",
       "      <td>...</td>\n",
       "      <td>...</td>\n",
       "      <td>...</td>\n",
       "      <td>...</td>\n",
       "      <td>...</td>\n",
       "      <td>...</td>\n",
       "      <td>...</td>\n",
       "      <td>...</td>\n",
       "      <td>...</td>\n",
       "      <td>...</td>\n",
       "      <td>...</td>\n",
       "      <td>...</td>\n",
       "      <td>...</td>\n",
       "      <td>...</td>\n",
       "      <td>...</td>\n",
       "      <td>...</td>\n",
       "      <td>...</td>\n",
       "      <td>...</td>\n",
       "    </tr>\n",
       "    <tr>\n",
       "      <th>999994</th>\n",
       "      <td>881557</td>\n",
       "      <td>1</td>\n",
       "      <td>3.124335</td>\n",
       "      <td>3.124335</td>\n",
       "      <td>4.124335</td>\n",
       "      <td>1.126062</td>\n",
       "      <td>3.250397</td>\n",
       "      <td>4.250397</td>\n",
       "      <td>24.908820</td>\n",
       "      <td>111</td>\n",
       "      <td>...</td>\n",
       "      <td>111</td>\n",
       "      <td>0.060380</td>\n",
       "      <td>-0.397774</td>\n",
       "      <td>1</td>\n",
       "      <td>0.962687</td>\n",
       "      <td>1</td>\n",
       "      <td>0.939936</td>\n",
       "      <td>1_111</td>\n",
       "      <td>1.25</td>\n",
       "      <td>1.25</td>\n",
       "    </tr>\n",
       "    <tr>\n",
       "      <th>999995</th>\n",
       "      <td>896888</td>\n",
       "      <td>1</td>\n",
       "      <td>3.497749</td>\n",
       "      <td>3.497749</td>\n",
       "      <td>4.497749</td>\n",
       "      <td>1.051885</td>\n",
       "      <td>3.549634</td>\n",
       "      <td>4.549634</td>\n",
       "      <td>15.645740</td>\n",
       "      <td>106</td>\n",
       "      <td>...</td>\n",
       "      <td>106</td>\n",
       "      <td>0.048438</td>\n",
       "      <td>-0.079427</td>\n",
       "      <td>1</td>\n",
       "      <td>0.972067</td>\n",
       "      <td>1</td>\n",
       "      <td>0.954767</td>\n",
       "      <td>1_106</td>\n",
       "      <td>1.17</td>\n",
       "      <td>1.17</td>\n",
       "    </tr>\n",
       "    <tr>\n",
       "      <th>999996</th>\n",
       "      <td>957949</td>\n",
       "      <td>1</td>\n",
       "      <td>3.727728</td>\n",
       "      <td>3.727728</td>\n",
       "      <td>4.727728</td>\n",
       "      <td>1.444929</td>\n",
       "      <td>4.172658</td>\n",
       "      <td>5.172658</td>\n",
       "      <td>8.472932</td>\n",
       "      <td>106</td>\n",
       "      <td>...</td>\n",
       "      <td>106</td>\n",
       "      <td>0.471938</td>\n",
       "      <td>-0.536495</td>\n",
       "      <td>1</td>\n",
       "      <td>0.984823</td>\n",
       "      <td>1</td>\n",
       "      <td>0.975221</td>\n",
       "      <td>1_106</td>\n",
       "      <td>1.17</td>\n",
       "      <td>1.17</td>\n",
       "    </tr>\n",
       "    <tr>\n",
       "      <th>999997</th>\n",
       "      <td>949400</td>\n",
       "      <td>0</td>\n",
       "      <td>3.357725</td>\n",
       "      <td>3.357725</td>\n",
       "      <td>4.357725</td>\n",
       "      <td>1.626278</td>\n",
       "      <td>3.984003</td>\n",
       "      <td>4.984003</td>\n",
       "      <td>11.747240</td>\n",
       "      <td>104</td>\n",
       "      <td>...</td>\n",
       "      <td>121</td>\n",
       "      <td>0.206499</td>\n",
       "      <td>-0.427715</td>\n",
       "      <td>1</td>\n",
       "      <td>0.993200</td>\n",
       "      <td>1</td>\n",
       "      <td>0.988838</td>\n",
       "      <td>0_121</td>\n",
       "      <td>1.00</td>\n",
       "      <td>1.00</td>\n",
       "    </tr>\n",
       "    <tr>\n",
       "      <th>999998</th>\n",
       "      <td>999534</td>\n",
       "      <td>0</td>\n",
       "      <td>4.093557</td>\n",
       "      <td>4.093557</td>\n",
       "      <td>5.093557</td>\n",
       "      <td>1.169011</td>\n",
       "      <td>4.262568</td>\n",
       "      <td>5.262568</td>\n",
       "      <td>8.491392</td>\n",
       "      <td>109</td>\n",
       "      <td>...</td>\n",
       "      <td>127</td>\n",
       "      <td>0.615385</td>\n",
       "      <td>-0.148219</td>\n",
       "      <td>1</td>\n",
       "      <td>0.994845</td>\n",
       "      <td>1</td>\n",
       "      <td>0.991529</td>\n",
       "      <td>0_127</td>\n",
       "      <td>1.00</td>\n",
       "      <td>1.00</td>\n",
       "    </tr>\n",
       "  </tbody>\n",
       "</table>\n",
       "<p>999999 rows × 25 columns</p>\n",
       "</div>"
      ],
      "text/plain": [
       "        Unnamed: 0  R   E_noise  E_minority  E_majority   M_noise  M_minority  \\\n",
       "0                1  0  1.389398    1.389398    2.389398 -1.253731   -0.864334   \n",
       "1              112  0  0.829848    0.829848    1.829848  0.458639    0.288488   \n",
       "2              266  0 -0.343388   -0.343388    0.656612  0.427825   -0.915563   \n",
       "3              564  0 -0.083986   -0.083986    0.916014  0.888432   -0.195554   \n",
       "4              592  0  1.340353    1.340353    2.340353  1.676530    2.016883   \n",
       "...            ... ..       ...         ...         ...       ...         ...   \n",
       "999994      881557  1  3.124335    3.124335    4.124335  1.126062    3.250397   \n",
       "999995      896888  1  3.497749    3.497749    4.497749  1.051885    3.549634   \n",
       "999996      957949  1  3.727728    3.727728    4.727728  1.444929    4.172658   \n",
       "999997      949400  0  3.357725    3.357725    4.357725  1.626278    3.984003   \n",
       "999998      999534  0  4.093557    4.093557    5.093557  1.169011    4.262568   \n",
       "\n",
       "        M_majority    T_noise  T_minority  ...    T    Y_unif  Y_reject_noise  \\\n",
       "0         0.135666   3.772786          55  ...   64  0.555882        0.070407   \n",
       "1         1.288488  -0.897407          54  ...   64  0.142150       -0.301607   \n",
       "2         0.084437  10.606118          56  ...   64  0.826323       -0.054387   \n",
       "3         0.804446   5.890213          55  ...   64  0.650710       -0.290176   \n",
       "4         3.016883 -14.122165          52  ...   64  0.617825       -0.602749   \n",
       "...            ...        ...         ...  ...  ...       ...             ...   \n",
       "999994    4.250397  24.908820         111  ...  111  0.060380       -0.397774   \n",
       "999995    4.549634  15.645740         106  ...  106  0.048438       -0.079427   \n",
       "999996    5.172658   8.472932         106  ...  106  0.471938       -0.536495   \n",
       "999997    4.984003  11.747240         104  ...  121  0.206499       -0.427715   \n",
       "999998    5.262568   8.491392         109  ...  127  0.615385       -0.148219   \n",
       "\n",
       "        Y     Y_raw  Y_reject  Y_reject_raw    key  stratum_utility  \\\n",
       "0       0  0.533865         0      0.409911   0_64             0.67   \n",
       "1       1  0.783891         1      0.687506   0_64             0.67   \n",
       "2       0  0.521097         0      0.397579   0_64             0.67   \n",
       "3       1  0.690925         0      0.575529   0_64             0.67   \n",
       "4       1  0.953331         1      0.925317   0_64             0.67   \n",
       "...    ..       ...       ...           ...    ...              ...   \n",
       "999994  1  0.962687         1      0.939936  1_111             1.25   \n",
       "999995  1  0.972067         1      0.954767  1_106             1.17   \n",
       "999996  1  0.984823         1      0.975221  1_106             1.17   \n",
       "999997  1  0.993200         1      0.988838  0_121             1.00   \n",
       "999998  1  0.994845         1      0.991529  0_127             1.00   \n",
       "\n",
       "        ml_outcomes  \n",
       "0              0.67  \n",
       "1              0.67  \n",
       "2              0.67  \n",
       "3              0.67  \n",
       "4              0.67  \n",
       "...             ...  \n",
       "999994         1.25  \n",
       "999995         1.17  \n",
       "999996         1.17  \n",
       "999997         1.00  \n",
       "999998         1.00  \n",
       "\n",
       "[999999 rows x 25 columns]"
      ]
     },
     "execution_count": 3,
     "metadata": {},
     "output_type": "execute_result"
    }
   ],
   "source": [
    "df"
   ]
  },
  {
   "cell_type": "code",
   "execution_count": 4,
   "metadata": {
    "execution": {
     "iopub.execute_input": "2022-12-12T05:05:30.836382Z",
     "iopub.status.busy": "2022-12-12T05:05:30.836005Z",
     "iopub.status.idle": "2022-12-12T05:05:30.837335Z",
     "shell.execute_reply": "2022-12-12T05:05:30.837617Z"
    }
   },
   "outputs": [],
   "source": [
    "FRAC_ADMIT = 0.5#df[['A']].sum()/len(df)\n"
   ]
  },
  {
   "cell_type": "code",
   "execution_count": 5,
   "metadata": {
    "execution": {
     "iopub.execute_input": "2022-12-12T05:05:30.841034Z",
     "iopub.status.busy": "2022-12-12T05:05:30.840366Z",
     "iopub.status.idle": "2022-12-12T05:05:30.888239Z",
     "shell.execute_reply": "2022-12-12T05:05:30.888487Z"
    }
   },
   "outputs": [],
   "source": [
    "###\n",
    "## Get total utility from admitting people in a stratum \n",
    "###\n",
    "\n",
    "df_ = df[['R','T','ml_outcomes']].groupby(['R','T']).sum().reset_index()"
   ]
  },
  {
   "cell_type": "code",
   "execution_count": 6,
   "metadata": {
    "execution": {
     "iopub.execute_input": "2022-12-12T05:05:30.895855Z",
     "iopub.status.busy": "2022-12-12T05:05:30.895446Z",
     "iopub.status.idle": "2022-12-12T05:05:30.921237Z",
     "shell.execute_reply": "2022-12-12T05:05:30.921497Z"
    }
   },
   "outputs": [],
   "source": [
    "###\n",
    "## Get number of people in each stratum\n",
    "###\n",
    "\n",
    "df_count = df[['R','T','ml_outcomes']].groupby(['R','T']).count().reset_index()\n",
    "df_count.columns = ['R','T','Count']\n",
    "df_count['N'] = df_count['Count']"
   ]
  },
  {
   "cell_type": "code",
   "execution_count": 7,
   "metadata": {
    "execution": {
     "iopub.execute_input": "2022-12-12T05:05:30.926176Z",
     "iopub.status.busy": "2022-12-12T05:05:30.925793Z",
     "iopub.status.idle": "2022-12-12T05:05:30.927222Z",
     "shell.execute_reply": "2022-12-12T05:05:30.927584Z"
    }
   },
   "outputs": [],
   "source": [
    "###\n",
    "## Merge summary tables to get one table with Race, Test Score, SUM(Utility), COUNT(applicants) per stratum\n",
    "###\n",
    "\n",
    "dff = df_.merge(df_count[['N']],left_index=True,right_index=True).sort_values(by='ml_outcomes',ascending=False).reset_index().sort_values(by='index').reset_index()"
   ]
  },
  {
   "cell_type": "code",
   "execution_count": 8,
   "metadata": {
    "execution": {
     "iopub.execute_input": "2022-12-12T05:05:30.934171Z",
     "iopub.status.busy": "2022-12-12T05:05:30.933691Z",
     "iopub.status.idle": "2022-12-12T05:05:30.935272Z",
     "shell.execute_reply": "2022-12-12T05:05:30.935553Z"
    }
   },
   "outputs": [
    {
     "data": {
      "text/html": [
       "<div>\n",
       "<style scoped>\n",
       "    .dataframe tbody tr th:only-of-type {\n",
       "        vertical-align: middle;\n",
       "    }\n",
       "\n",
       "    .dataframe tbody tr th {\n",
       "        vertical-align: top;\n",
       "    }\n",
       "\n",
       "    .dataframe thead th {\n",
       "        text-align: right;\n",
       "    }\n",
       "</style>\n",
       "<table border=\"1\" class=\"dataframe\">\n",
       "  <thead>\n",
       "    <tr style=\"text-align: right;\">\n",
       "      <th></th>\n",
       "      <th>level_0</th>\n",
       "      <th>index</th>\n",
       "      <th>R</th>\n",
       "      <th>T</th>\n",
       "      <th>ml_outcomes</th>\n",
       "      <th>N</th>\n",
       "    </tr>\n",
       "  </thead>\n",
       "  <tbody>\n",
       "    <tr>\n",
       "      <th>2</th>\n",
       "      <td>221</td>\n",
       "      <td>2</td>\n",
       "      <td>0</td>\n",
       "      <td>11</td>\n",
       "      <td>0.00</td>\n",
       "      <td>4</td>\n",
       "    </tr>\n",
       "    <tr>\n",
       "      <th>1</th>\n",
       "      <td>219</td>\n",
       "      <td>1</td>\n",
       "      <td>0</td>\n",
       "      <td>10</td>\n",
       "      <td>0.08</td>\n",
       "      <td>1</td>\n",
       "    </tr>\n",
       "    <tr>\n",
       "      <th>3</th>\n",
       "      <td>220</td>\n",
       "      <td>3</td>\n",
       "      <td>0</td>\n",
       "      <td>12</td>\n",
       "      <td>0.08</td>\n",
       "      <td>4</td>\n",
       "    </tr>\n",
       "    <tr>\n",
       "      <th>0</th>\n",
       "      <td>218</td>\n",
       "      <td>0</td>\n",
       "      <td>0</td>\n",
       "      <td>9</td>\n",
       "      <td>0.10</td>\n",
       "      <td>1</td>\n",
       "    </tr>\n",
       "    <tr>\n",
       "      <th>120</th>\n",
       "      <td>217</td>\n",
       "      <td>120</td>\n",
       "      <td>1</td>\n",
       "      <td>8</td>\n",
       "      <td>0.32</td>\n",
       "      <td>1</td>\n",
       "    </tr>\n",
       "    <tr>\n",
       "      <th>...</th>\n",
       "      <td>...</td>\n",
       "      <td>...</td>\n",
       "      <td>...</td>\n",
       "      <td>...</td>\n",
       "      <td>...</td>\n",
       "      <td>...</td>\n",
       "    </tr>\n",
       "    <tr>\n",
       "      <th>51</th>\n",
       "      <td>4</td>\n",
       "      <td>51</td>\n",
       "      <td>0</td>\n",
       "      <td>60</td>\n",
       "      <td>10970.40</td>\n",
       "      <td>18284</td>\n",
       "    </tr>\n",
       "    <tr>\n",
       "      <th>47</th>\n",
       "      <td>3</td>\n",
       "      <td>47</td>\n",
       "      <td>0</td>\n",
       "      <td>56</td>\n",
       "      <td>10985.52</td>\n",
       "      <td>21126</td>\n",
       "    </tr>\n",
       "    <tr>\n",
       "      <th>48</th>\n",
       "      <td>2</td>\n",
       "      <td>48</td>\n",
       "      <td>0</td>\n",
       "      <td>57</td>\n",
       "      <td>11030.04</td>\n",
       "      <td>20426</td>\n",
       "    </tr>\n",
       "    <tr>\n",
       "      <th>50</th>\n",
       "      <td>1</td>\n",
       "      <td>50</td>\n",
       "      <td>0</td>\n",
       "      <td>59</td>\n",
       "      <td>11169.64</td>\n",
       "      <td>19258</td>\n",
       "    </tr>\n",
       "    <tr>\n",
       "      <th>49</th>\n",
       "      <td>0</td>\n",
       "      <td>49</td>\n",
       "      <td>0</td>\n",
       "      <td>58</td>\n",
       "      <td>11233.60</td>\n",
       "      <td>20060</td>\n",
       "    </tr>\n",
       "  </tbody>\n",
       "</table>\n",
       "<p>222 rows × 6 columns</p>\n",
       "</div>"
      ],
      "text/plain": [
       "     level_0  index  R   T  ml_outcomes      N\n",
       "2        221      2  0  11         0.00      4\n",
       "1        219      1  0  10         0.08      1\n",
       "3        220      3  0  12         0.08      4\n",
       "0        218      0  0   9         0.10      1\n",
       "120      217    120  1   8         0.32      1\n",
       "..       ...    ... ..  ..          ...    ...\n",
       "51         4     51  0  60     10970.40  18284\n",
       "47         3     47  0  56     10985.52  21126\n",
       "48         2     48  0  57     11030.04  20426\n",
       "50         1     50  0  59     11169.64  19258\n",
       "49         0     49  0  58     11233.60  20060\n",
       "\n",
       "[222 rows x 6 columns]"
      ]
     },
     "execution_count": 8,
     "metadata": {},
     "output_type": "execute_result"
    }
   ],
   "source": [
    "# final info table\n",
    "dff.sort_values(by='ml_outcomes')"
   ]
  },
  {
   "cell_type": "code",
   "execution_count": null,
   "metadata": {},
   "outputs": [],
   "source": []
  },
  {
   "cell_type": "markdown",
   "metadata": {},
   "source": [
    "### Setup optimization problem "
   ]
  },
  {
   "cell_type": "code",
   "execution_count": 9,
   "metadata": {
    "execution": {
     "iopub.execute_input": "2022-12-12T05:05:30.937899Z",
     "iopub.status.busy": "2022-12-12T05:05:30.937519Z",
     "iopub.status.idle": "2022-12-12T05:05:30.963301Z",
     "shell.execute_reply": "2022-12-12T05:05:30.963518Z"
    }
   },
   "outputs": [],
   "source": [
    "from ortools.linear_solver import pywraplp\n"
   ]
  },
  {
   "cell_type": "code",
   "execution_count": 10,
   "metadata": {
    "execution": {
     "iopub.execute_input": "2022-12-12T05:05:30.965236Z",
     "iopub.status.busy": "2022-12-12T05:05:30.964866Z",
     "iopub.status.idle": "2022-12-12T05:05:30.967167Z",
     "shell.execute_reply": "2022-12-12T05:05:30.967417Z"
    }
   },
   "outputs": [],
   "source": [
    "solver = pywraplp.Solver.CreateSolver('GLOP')\n"
   ]
  },
  {
   "cell_type": "code",
   "execution_count": 11,
   "metadata": {
    "execution": {
     "iopub.execute_input": "2022-12-12T05:05:30.973493Z",
     "iopub.status.busy": "2022-12-12T05:05:30.973106Z",
     "iopub.status.idle": "2022-12-12T05:05:30.974832Z",
     "shell.execute_reply": "2022-12-12T05:05:30.975111Z"
    }
   },
   "outputs": [
    {
     "data": {
      "text/html": [
       "<div>\n",
       "<style scoped>\n",
       "    .dataframe tbody tr th:only-of-type {\n",
       "        vertical-align: middle;\n",
       "    }\n",
       "\n",
       "    .dataframe tbody tr th {\n",
       "        vertical-align: top;\n",
       "    }\n",
       "\n",
       "    .dataframe thead th {\n",
       "        text-align: right;\n",
       "    }\n",
       "</style>\n",
       "<table border=\"1\" class=\"dataframe\">\n",
       "  <thead>\n",
       "    <tr style=\"text-align: right;\">\n",
       "      <th></th>\n",
       "      <th>level_0</th>\n",
       "      <th>index</th>\n",
       "      <th>R</th>\n",
       "      <th>T</th>\n",
       "      <th>ml_outcomes</th>\n",
       "      <th>N</th>\n",
       "    </tr>\n",
       "  </thead>\n",
       "  <tbody>\n",
       "    <tr>\n",
       "      <th>0</th>\n",
       "      <td>218</td>\n",
       "      <td>0</td>\n",
       "      <td>0</td>\n",
       "      <td>9</td>\n",
       "      <td>0.10</td>\n",
       "      <td>1</td>\n",
       "    </tr>\n",
       "    <tr>\n",
       "      <th>1</th>\n",
       "      <td>219</td>\n",
       "      <td>1</td>\n",
       "      <td>0</td>\n",
       "      <td>10</td>\n",
       "      <td>0.08</td>\n",
       "      <td>1</td>\n",
       "    </tr>\n",
       "    <tr>\n",
       "      <th>2</th>\n",
       "      <td>221</td>\n",
       "      <td>2</td>\n",
       "      <td>0</td>\n",
       "      <td>11</td>\n",
       "      <td>0.00</td>\n",
       "      <td>4</td>\n",
       "    </tr>\n",
       "    <tr>\n",
       "      <th>3</th>\n",
       "      <td>220</td>\n",
       "      <td>3</td>\n",
       "      <td>0</td>\n",
       "      <td>12</td>\n",
       "      <td>0.08</td>\n",
       "      <td>4</td>\n",
       "    </tr>\n",
       "    <tr>\n",
       "      <th>4</th>\n",
       "      <td>211</td>\n",
       "      <td>4</td>\n",
       "      <td>0</td>\n",
       "      <td>13</td>\n",
       "      <td>1.00</td>\n",
       "      <td>10</td>\n",
       "    </tr>\n",
       "    <tr>\n",
       "      <th>...</th>\n",
       "      <td>...</td>\n",
       "      <td>...</td>\n",
       "      <td>...</td>\n",
       "      <td>...</td>\n",
       "      <td>...</td>\n",
       "      <td>...</td>\n",
       "    </tr>\n",
       "    <tr>\n",
       "      <th>217</th>\n",
       "      <td>203</td>\n",
       "      <td>217</td>\n",
       "      <td>1</td>\n",
       "      <td>107</td>\n",
       "      <td>1.25</td>\n",
       "      <td>1</td>\n",
       "    </tr>\n",
       "    <tr>\n",
       "      <th>218</th>\n",
       "      <td>204</td>\n",
       "      <td>218</td>\n",
       "      <td>1</td>\n",
       "      <td>109</td>\n",
       "      <td>1.25</td>\n",
       "      <td>1</td>\n",
       "    </tr>\n",
       "    <tr>\n",
       "      <th>219</th>\n",
       "      <td>205</td>\n",
       "      <td>219</td>\n",
       "      <td>1</td>\n",
       "      <td>111</td>\n",
       "      <td>1.25</td>\n",
       "      <td>1</td>\n",
       "    </tr>\n",
       "    <tr>\n",
       "      <th>220</th>\n",
       "      <td>212</td>\n",
       "      <td>220</td>\n",
       "      <td>1</td>\n",
       "      <td>113</td>\n",
       "      <td>0.92</td>\n",
       "      <td>1</td>\n",
       "    </tr>\n",
       "    <tr>\n",
       "      <th>221</th>\n",
       "      <td>206</td>\n",
       "      <td>221</td>\n",
       "      <td>1</td>\n",
       "      <td>116</td>\n",
       "      <td>1.25</td>\n",
       "      <td>1</td>\n",
       "    </tr>\n",
       "  </tbody>\n",
       "</table>\n",
       "<p>222 rows × 6 columns</p>\n",
       "</div>"
      ],
      "text/plain": [
       "     level_0  index  R    T  ml_outcomes   N\n",
       "0        218      0  0    9         0.10   1\n",
       "1        219      1  0   10         0.08   1\n",
       "2        221      2  0   11         0.00   4\n",
       "3        220      3  0   12         0.08   4\n",
       "4        211      4  0   13         1.00  10\n",
       "..       ...    ... ..  ...          ...  ..\n",
       "217      203    217  1  107         1.25   1\n",
       "218      204    218  1  109         1.25   1\n",
       "219      205    219  1  111         1.25   1\n",
       "220      212    220  1  113         0.92   1\n",
       "221      206    221  1  116         1.25   1\n",
       "\n",
       "[222 rows x 6 columns]"
      ]
     },
     "execution_count": 11,
     "metadata": {},
     "output_type": "execute_result"
    }
   ],
   "source": [
    "dff"
   ]
  },
  {
   "cell_type": "code",
   "execution_count": 12,
   "metadata": {
    "execution": {
     "iopub.execute_input": "2022-12-12T05:05:30.986215Z",
     "iopub.status.busy": "2022-12-12T05:05:30.985748Z",
     "iopub.status.idle": "2022-12-12T05:05:30.987062Z",
     "shell.execute_reply": "2022-12-12T05:05:30.987410Z"
    }
   },
   "outputs": [],
   "source": [
    "applicant_stratum = []\n",
    "vars_cache = {}\n",
    "\n",
    "# Objective: Maximize the expected utility of the admitted students\n",
    "objective = solver.Objective()\n",
    "\n",
    "# For each stratum\n",
    "for ix, row in dff.iterrows():\n",
    "    # probability of admission\n",
    "    numvar = solver.NumVar(0.0, 1.0, str(ix))\n",
    "    \n",
    "    # store variable by index, and also by stratum R, T\n",
    "    applicant_stratum.append(numvar)\n",
    "    vars_cache[(row['R'],row['T'])] = numvar\n",
    "    \n",
    "    # Benefit of admitting people is total utility in that stratum\n",
    "    objective.SetCoefficient(applicant_stratum[ix], float(row['ml_outcomes']))\n",
    "objective.SetMaximization()\n"
   ]
  },
  {
   "cell_type": "code",
   "execution_count": 13,
   "metadata": {
    "execution": {
     "iopub.execute_input": "2022-12-12T05:05:30.990131Z",
     "iopub.status.busy": "2022-12-12T05:05:30.989673Z",
     "iopub.status.idle": "2022-12-12T05:05:30.991510Z",
     "shell.execute_reply": "2022-12-12T05:05:30.991770Z"
    }
   },
   "outputs": [
    {
     "data": {
      "text/plain": [
       "0"
      ]
     },
     "execution_count": 13,
     "metadata": {},
     "output_type": "execute_result"
    }
   ],
   "source": [
    "# Currently we have no constraints \n",
    "solver.NumConstraints()"
   ]
  },
  {
   "cell_type": "code",
   "execution_count": 14,
   "metadata": {
    "execution": {
     "iopub.execute_input": "2022-12-12T05:05:31.000223Z",
     "iopub.status.busy": "2022-12-12T05:05:30.999702Z",
     "iopub.status.idle": "2022-12-12T05:05:31.001328Z",
     "shell.execute_reply": "2022-12-12T05:05:31.001621Z"
    },
    "scrolled": true
   },
   "outputs": [
    {
     "name": "stdout",
     "output_type": "stream",
     "text": [
      "499999\n"
     ]
    }
   ],
   "source": [
    "# Constraint: At most K applicants\n",
    "K = int(len(df)*FRAC_ADMIT)\n",
    "print(K)\n",
    "admit_quota = solver.Constraint(0, K)\n",
    "\n",
    "# Total applicants cannot exceed K \n",
    "for ix, row in dff.iterrows():\n",
    "    admit_quota.SetCoefficient(applicant_stratum[ix], float(row['N']))"
   ]
  },
  {
   "cell_type": "code",
   "execution_count": 15,
   "metadata": {
    "execution": {
     "iopub.execute_input": "2022-12-12T05:05:31.004307Z",
     "iopub.status.busy": "2022-12-12T05:05:31.003931Z",
     "iopub.status.idle": "2022-12-12T05:05:31.005431Z",
     "shell.execute_reply": "2022-12-12T05:05:31.005728Z"
    }
   },
   "outputs": [
    {
     "data": {
      "text/plain": [
       "1"
      ]
     },
     "execution_count": 15,
     "metadata": {},
     "output_type": "execute_result"
    }
   ],
   "source": [
    "# Now we have one constraint\n",
    "solver.NumConstraints()"
   ]
  },
  {
   "cell_type": "code",
   "execution_count": null,
   "metadata": {},
   "outputs": [],
   "source": []
  },
  {
   "cell_type": "markdown",
   "metadata": {},
   "source": [
    "## Add CF Fair constraints"
   ]
  },
  {
   "cell_type": "code",
   "execution_count": 16,
   "metadata": {
    "execution": {
     "iopub.execute_input": "2022-12-12T05:05:31.008730Z",
     "iopub.status.busy": "2022-12-12T05:05:31.008367Z",
     "iopub.status.idle": "2022-12-12T05:05:31.009683Z",
     "shell.execute_reply": "2022-12-12T05:05:31.009978Z"
    }
   },
   "outputs": [],
   "source": [
    "from collections import Counter\n",
    "\n",
    "def convertListToProb(raw_list):\n",
    "    counts = dict(Counter(raw_list))\n",
    "    probs = {}\n",
    "    for test_score in counts:\n",
    "        probs[test_score]  = counts[test_score]/float(len(raw_list))\n",
    "    return [(probs[t], t) for t in probs]"
   ]
  },
  {
   "cell_type": "code",
   "execution_count": 17,
   "metadata": {
    "execution": {
     "iopub.execute_input": "2022-12-12T05:05:31.013020Z",
     "iopub.status.busy": "2022-12-12T05:05:31.012616Z",
     "iopub.status.idle": "2022-12-12T05:05:31.092264Z",
     "shell.execute_reply": "2022-12-12T05:05:31.092527Z"
    }
   },
   "outputs": [],
   "source": [
    "T_minoritys_list = df[df['R']==0][['T','T_minority_star']].groupby('T')['T_minority_star'].apply(list).reset_index(name='T_minoritys')\n"
   ]
  },
  {
   "cell_type": "code",
   "execution_count": 18,
   "metadata": {
    "execution": {
     "iopub.execute_input": "2022-12-12T05:05:31.121893Z",
     "iopub.status.busy": "2022-12-12T05:05:31.121512Z",
     "iopub.status.idle": "2022-12-12T05:05:31.122740Z",
     "shell.execute_reply": "2022-12-12T05:05:31.123033Z"
    }
   },
   "outputs": [],
   "source": [
    "T_minoritys_list['probs'] = T_minoritys_list['T_minoritys'].apply(convertListToProb)\n"
   ]
  },
  {
   "cell_type": "code",
   "execution_count": 19,
   "metadata": {
    "execution": {
     "iopub.execute_input": "2022-12-12T05:05:31.133862Z",
     "iopub.status.busy": "2022-12-12T05:05:31.133400Z",
     "iopub.status.idle": "2022-12-12T05:05:31.135207Z",
     "shell.execute_reply": "2022-12-12T05:05:31.135522Z"
    }
   },
   "outputs": [
    {
     "data": {
      "text/html": [
       "<div>\n",
       "<style scoped>\n",
       "    .dataframe tbody tr th:only-of-type {\n",
       "        vertical-align: middle;\n",
       "    }\n",
       "\n",
       "    .dataframe tbody tr th {\n",
       "        vertical-align: top;\n",
       "    }\n",
       "\n",
       "    .dataframe thead th {\n",
       "        text-align: right;\n",
       "    }\n",
       "</style>\n",
       "<table border=\"1\" class=\"dataframe\">\n",
       "  <thead>\n",
       "    <tr style=\"text-align: right;\">\n",
       "      <th></th>\n",
       "      <th>T</th>\n",
       "      <th>T_minoritys</th>\n",
       "      <th>probs</th>\n",
       "    </tr>\n",
       "  </thead>\n",
       "  <tbody>\n",
       "    <tr>\n",
       "      <th>0</th>\n",
       "      <td>9</td>\n",
       "      <td>[10]</td>\n",
       "      <td>[(1.0, 10)]</td>\n",
       "    </tr>\n",
       "    <tr>\n",
       "      <th>1</th>\n",
       "      <td>10</td>\n",
       "      <td>[10]</td>\n",
       "      <td>[(1.0, 10)]</td>\n",
       "    </tr>\n",
       "    <tr>\n",
       "      <th>2</th>\n",
       "      <td>11</td>\n",
       "      <td>[12, 12, 9, 9]</td>\n",
       "      <td>[(0.5, 12), (0.5, 9)]</td>\n",
       "    </tr>\n",
       "    <tr>\n",
       "      <th>3</th>\n",
       "      <td>12</td>\n",
       "      <td>[13, 13, 12, 13]</td>\n",
       "      <td>[(0.75, 13), (0.25, 12)]</td>\n",
       "    </tr>\n",
       "    <tr>\n",
       "      <th>4</th>\n",
       "      <td>13</td>\n",
       "      <td>[11, 13, 11, 13, 15, 13, 13, 13, 12, 11]</td>\n",
       "      <td>[(0.3, 11), (0.5, 13), (0.1, 15), (0.1, 12)]</td>\n",
       "    </tr>\n",
       "    <tr>\n",
       "      <th>...</th>\n",
       "      <td>...</td>\n",
       "      <td>...</td>\n",
       "      <td>...</td>\n",
       "    </tr>\n",
       "    <tr>\n",
       "      <th>114</th>\n",
       "      <td>123</td>\n",
       "      <td>[113, 114]</td>\n",
       "      <td>[(0.5, 113), (0.5, 114)]</td>\n",
       "    </tr>\n",
       "    <tr>\n",
       "      <th>115</th>\n",
       "      <td>124</td>\n",
       "      <td>[115]</td>\n",
       "      <td>[(1.0, 115)]</td>\n",
       "    </tr>\n",
       "    <tr>\n",
       "      <th>116</th>\n",
       "      <td>125</td>\n",
       "      <td>[116, 115]</td>\n",
       "      <td>[(0.5, 116), (0.5, 115)]</td>\n",
       "    </tr>\n",
       "    <tr>\n",
       "      <th>117</th>\n",
       "      <td>127</td>\n",
       "      <td>[117]</td>\n",
       "      <td>[(1.0, 117)]</td>\n",
       "    </tr>\n",
       "    <tr>\n",
       "      <th>118</th>\n",
       "      <td>128</td>\n",
       "      <td>[119, 118]</td>\n",
       "      <td>[(0.5, 119), (0.5, 118)]</td>\n",
       "    </tr>\n",
       "  </tbody>\n",
       "</table>\n",
       "<p>119 rows × 3 columns</p>\n",
       "</div>"
      ],
      "text/plain": [
       "       T                               T_minoritys  \\\n",
       "0      9                                      [10]   \n",
       "1     10                                      [10]   \n",
       "2     11                            [12, 12, 9, 9]   \n",
       "3     12                          [13, 13, 12, 13]   \n",
       "4     13  [11, 13, 11, 13, 15, 13, 13, 13, 12, 11]   \n",
       "..   ...                                       ...   \n",
       "114  123                                [113, 114]   \n",
       "115  124                                     [115]   \n",
       "116  125                                [116, 115]   \n",
       "117  127                                     [117]   \n",
       "118  128                                [119, 118]   \n",
       "\n",
       "                                            probs  \n",
       "0                                     [(1.0, 10)]  \n",
       "1                                     [(1.0, 10)]  \n",
       "2                           [(0.5, 12), (0.5, 9)]  \n",
       "3                        [(0.75, 13), (0.25, 12)]  \n",
       "4    [(0.3, 11), (0.5, 13), (0.1, 15), (0.1, 12)]  \n",
       "..                                            ...  \n",
       "114                      [(0.5, 113), (0.5, 114)]  \n",
       "115                                  [(1.0, 115)]  \n",
       "116                      [(0.5, 116), (0.5, 115)]  \n",
       "117                                  [(1.0, 117)]  \n",
       "118                      [(0.5, 119), (0.5, 118)]  \n",
       "\n",
       "[119 rows x 3 columns]"
      ]
     },
     "execution_count": 19,
     "metadata": {},
     "output_type": "execute_result"
    }
   ],
   "source": [
    "T_minoritys_list"
   ]
  },
  {
   "cell_type": "code",
   "execution_count": 20,
   "metadata": {
    "execution": {
     "iopub.execute_input": "2022-12-12T05:05:31.143994Z",
     "iopub.status.busy": "2022-12-12T05:05:31.143572Z",
     "iopub.status.idle": "2022-12-12T05:05:31.144831Z",
     "shell.execute_reply": "2022-12-12T05:05:31.145257Z"
    }
   },
   "outputs": [],
   "source": [
    "didntexist = 0\n",
    "exists = 0\n",
    "for ix, row in T_minoritys_list.iterrows():\n",
    "    cf_fair_stratum = solver.Constraint(0.0, 0.0)\n",
    "\n",
    "    majority_T = row['T']\n",
    "    minoritys_Ts = row['probs']\n",
    "    \n",
    "    cf_fair_stratum.SetCoefficient(vars_cache[(0.0, majority_T)], -1.0)\n",
    "    for prob in minoritys_Ts:\n",
    "        if (1.0, prob[1]) not in vars_cache:\n",
    "            vars_cache[(1.0, prob[1])] = solver.NumVar(0.0, 1.0, str((1.0, prob[1])))\n",
    "            didntexist+=1\n",
    "        else:\n",
    "            exists+=1\n",
    "        cf_fair_stratum.SetCoefficient(vars_cache[(1.0, prob[1])], prob[0])\n",
    "    "
   ]
  },
  {
   "cell_type": "code",
   "execution_count": 21,
   "metadata": {
    "execution": {
     "iopub.execute_input": "2022-12-12T05:05:31.148013Z",
     "iopub.status.busy": "2022-12-12T05:05:31.147580Z",
     "iopub.status.idle": "2022-12-12T05:05:31.149114Z",
     "shell.execute_reply": "2022-12-12T05:05:31.149354Z"
    }
   },
   "outputs": [
    {
     "data": {
      "text/plain": [
       "(10, 731)"
      ]
     },
     "execution_count": 21,
     "metadata": {},
     "output_type": "execute_result"
    }
   ],
   "source": [
    "didntexist,exists"
   ]
  },
  {
   "cell_type": "code",
   "execution_count": 22,
   "metadata": {
    "execution": {
     "iopub.execute_input": "2022-12-12T05:05:31.152203Z",
     "iopub.status.busy": "2022-12-12T05:05:31.151737Z",
     "iopub.status.idle": "2022-12-12T05:05:31.193122Z",
     "shell.execute_reply": "2022-12-12T05:05:31.193378Z"
    }
   },
   "outputs": [],
   "source": [
    "T_majoritys_list = df[df['R']==1][['T','T_majority_star']].groupby('T')['T_majority_star'].apply(list).reset_index(name='T_majoritys')"
   ]
  },
  {
   "cell_type": "code",
   "execution_count": 23,
   "metadata": {
    "execution": {
     "iopub.execute_input": "2022-12-12T05:05:31.209594Z",
     "iopub.status.busy": "2022-12-12T05:05:31.209143Z",
     "iopub.status.idle": "2022-12-12T05:05:31.210662Z",
     "shell.execute_reply": "2022-12-12T05:05:31.210883Z"
    }
   },
   "outputs": [],
   "source": [
    "T_majoritys_list['probs'] = T_majoritys_list['T_majoritys'].apply(convertListToProb)\n"
   ]
  },
  {
   "cell_type": "code",
   "execution_count": 24,
   "metadata": {
    "execution": {
     "iopub.execute_input": "2022-12-12T05:05:31.218652Z",
     "iopub.status.busy": "2022-12-12T05:05:31.218252Z",
     "iopub.status.idle": "2022-12-12T05:05:31.219585Z",
     "shell.execute_reply": "2022-12-12T05:05:31.219889Z"
    }
   },
   "outputs": [],
   "source": [
    "didntexist = 0\n",
    "exists = 0\n",
    "\n",
    "for ix, row in T_majoritys_list.iterrows():\n",
    "    cf_fair_stratum = solver.Constraint(0.0, 0.0)\n",
    "\n",
    "    minority_T = row['T']\n",
    "    majority_Ts = row['probs']\n",
    "    \n",
    "    cf_fair_stratum.SetCoefficient(vars_cache[(1.0, minority_T)], -1.0)\n",
    "    for prob in majority_Ts:\n",
    "        if (0.0, prob[1]) not in vars_cache:\n",
    "            vars_cache[(0.0, prob[1])] = solver.NumVar(0.0, 1.0, str((0.0, prob[1])))\n",
    "            didntexist+=1\n",
    "        else:\n",
    "            exists+=1\n",
    "            \n",
    "        cf_fair_stratum.SetCoefficient(vars_cache[(0.0, prob[1])], prob[0])\n",
    "    "
   ]
  },
  {
   "cell_type": "code",
   "execution_count": 25,
   "metadata": {
    "execution": {
     "iopub.execute_input": "2022-12-12T05:05:31.222460Z",
     "iopub.status.busy": "2022-12-12T05:05:31.222023Z",
     "iopub.status.idle": "2022-12-12T05:05:31.223767Z",
     "shell.execute_reply": "2022-12-12T05:05:31.224060Z"
    }
   },
   "outputs": [
    {
     "data": {
      "text/plain": [
       "<bound method Constraint.basis_status of <ortools.linear_solver.pywraplp.Constraint; proxy of <Swig Object of type 'operations_research::MPConstraint *' at 0x7f7fb9bb2540> >>"
      ]
     },
     "execution_count": 25,
     "metadata": {},
     "output_type": "execute_result"
    }
   ],
   "source": [
    "cf_fair_stratum.basis_status"
   ]
  },
  {
   "cell_type": "code",
   "execution_count": 26,
   "metadata": {
    "execution": {
     "iopub.execute_input": "2022-12-12T05:05:31.226714Z",
     "iopub.status.busy": "2022-12-12T05:05:31.226324Z",
     "iopub.status.idle": "2022-12-12T05:05:31.227719Z",
     "shell.execute_reply": "2022-12-12T05:05:31.228076Z"
    }
   },
   "outputs": [
    {
     "data": {
      "text/plain": [
       "223"
      ]
     },
     "execution_count": 26,
     "metadata": {},
     "output_type": "execute_result"
    }
   ],
   "source": [
    "solver.NumConstraints()"
   ]
  },
  {
   "cell_type": "markdown",
   "metadata": {},
   "source": [
    "## Solve linear program"
   ]
  },
  {
   "cell_type": "code",
   "execution_count": 27,
   "metadata": {
    "execution": {
     "iopub.execute_input": "2022-12-12T05:05:31.230530Z",
     "iopub.status.busy": "2022-12-12T05:05:31.230163Z",
     "iopub.status.idle": "2022-12-12T05:05:31.231731Z",
     "shell.execute_reply": "2022-12-12T05:05:31.232014Z"
    }
   },
   "outputs": [
    {
     "data": {
      "text/plain": [
       "4"
      ]
     },
     "execution_count": 27,
     "metadata": {},
     "output_type": "execute_result"
    }
   ],
   "source": [
    "solver.ABNORMAL"
   ]
  },
  {
   "cell_type": "code",
   "execution_count": 28,
   "metadata": {
    "execution": {
     "iopub.execute_input": "2022-12-12T05:05:31.238578Z",
     "iopub.status.busy": "2022-12-12T05:05:31.238220Z",
     "iopub.status.idle": "2022-12-12T05:05:31.239495Z",
     "shell.execute_reply": "2022-12-12T05:05:31.239727Z"
    }
   },
   "outputs": [],
   "source": [
    "status = solver.Solve()\n"
   ]
  },
  {
   "cell_type": "code",
   "execution_count": 29,
   "metadata": {
    "execution": {
     "iopub.execute_input": "2022-12-12T05:05:31.242445Z",
     "iopub.status.busy": "2022-12-12T05:05:31.241928Z",
     "iopub.status.idle": "2022-12-12T05:05:31.243495Z",
     "shell.execute_reply": "2022-12-12T05:05:31.243892Z"
    }
   },
   "outputs": [
    {
     "data": {
      "text/plain": [
       "0"
      ]
     },
     "execution_count": 29,
     "metadata": {},
     "output_type": "execute_result"
    }
   ],
   "source": [
    "status"
   ]
  },
  {
   "cell_type": "code",
   "execution_count": 30,
   "metadata": {
    "execution": {
     "iopub.execute_input": "2022-12-12T05:05:31.246364Z",
     "iopub.status.busy": "2022-12-12T05:05:31.245971Z",
     "iopub.status.idle": "2022-12-12T05:05:31.247444Z",
     "shell.execute_reply": "2022-12-12T05:05:31.247794Z"
    }
   },
   "outputs": [
    {
     "data": {
      "text/plain": [
       "0"
      ]
     },
     "execution_count": 30,
     "metadata": {},
     "output_type": "execute_result"
    }
   ],
   "source": [
    "solver.OPTIMAL"
   ]
  },
  {
   "cell_type": "code",
   "execution_count": 31,
   "metadata": {
    "execution": {
     "iopub.execute_input": "2022-12-12T05:05:31.251044Z",
     "iopub.status.busy": "2022-12-12T05:05:31.250682Z",
     "iopub.status.idle": "2022-12-12T05:05:31.251896Z",
     "shell.execute_reply": "2022-12-12T05:05:31.252267Z"
    },
    "scrolled": true
   },
   "outputs": [],
   "source": [
    "row = []\n",
    "admit = []\n",
    "\n",
    "for i in applicant_stratum:\n",
    "    row.append(int(str(i)))\n",
    "    admit.append(i.solution_value())\n",
    "\n",
    "df_decisions = pd.DataFrame({'row_id':row,'decision':admit})"
   ]
  },
  {
   "cell_type": "code",
   "execution_count": 32,
   "metadata": {
    "execution": {
     "iopub.execute_input": "2022-12-12T05:05:31.257004Z",
     "iopub.status.busy": "2022-12-12T05:05:31.256554Z",
     "iopub.status.idle": "2022-12-12T05:05:31.258175Z",
     "shell.execute_reply": "2022-12-12T05:05:31.258466Z"
    }
   },
   "outputs": [
    {
     "data": {
      "text/html": [
       "<div>\n",
       "<style scoped>\n",
       "    .dataframe tbody tr th:only-of-type {\n",
       "        vertical-align: middle;\n",
       "    }\n",
       "\n",
       "    .dataframe tbody tr th {\n",
       "        vertical-align: top;\n",
       "    }\n",
       "\n",
       "    .dataframe thead th {\n",
       "        text-align: right;\n",
       "    }\n",
       "</style>\n",
       "<table border=\"1\" class=\"dataframe\">\n",
       "  <thead>\n",
       "    <tr style=\"text-align: right;\">\n",
       "      <th></th>\n",
       "      <th>row_id</th>\n",
       "      <th>decision</th>\n",
       "    </tr>\n",
       "  </thead>\n",
       "  <tbody>\n",
       "    <tr>\n",
       "      <th>0</th>\n",
       "      <td>0</td>\n",
       "      <td>0.499933</td>\n",
       "    </tr>\n",
       "    <tr>\n",
       "      <th>1</th>\n",
       "      <td>1</td>\n",
       "      <td>0.499933</td>\n",
       "    </tr>\n",
       "    <tr>\n",
       "      <th>2</th>\n",
       "      <td>2</td>\n",
       "      <td>0.499933</td>\n",
       "    </tr>\n",
       "    <tr>\n",
       "      <th>3</th>\n",
       "      <td>3</td>\n",
       "      <td>0.499933</td>\n",
       "    </tr>\n",
       "    <tr>\n",
       "      <th>4</th>\n",
       "      <td>4</td>\n",
       "      <td>0.499933</td>\n",
       "    </tr>\n",
       "    <tr>\n",
       "      <th>...</th>\n",
       "      <td>...</td>\n",
       "      <td>...</td>\n",
       "    </tr>\n",
       "    <tr>\n",
       "      <th>217</th>\n",
       "      <td>217</td>\n",
       "      <td>0.965715</td>\n",
       "    </tr>\n",
       "    <tr>\n",
       "      <th>218</th>\n",
       "      <td>218</td>\n",
       "      <td>1.000000</td>\n",
       "    </tr>\n",
       "    <tr>\n",
       "      <th>219</th>\n",
       "      <td>219</td>\n",
       "      <td>1.000000</td>\n",
       "    </tr>\n",
       "    <tr>\n",
       "      <th>220</th>\n",
       "      <td>220</td>\n",
       "      <td>1.000000</td>\n",
       "    </tr>\n",
       "    <tr>\n",
       "      <th>221</th>\n",
       "      <td>221</td>\n",
       "      <td>1.000000</td>\n",
       "    </tr>\n",
       "  </tbody>\n",
       "</table>\n",
       "<p>222 rows × 2 columns</p>\n",
       "</div>"
      ],
      "text/plain": [
       "     row_id  decision\n",
       "0         0  0.499933\n",
       "1         1  0.499933\n",
       "2         2  0.499933\n",
       "3         3  0.499933\n",
       "4         4  0.499933\n",
       "..      ...       ...\n",
       "217     217  0.965715\n",
       "218     218  1.000000\n",
       "219     219  1.000000\n",
       "220     220  1.000000\n",
       "221     221  1.000000\n",
       "\n",
       "[222 rows x 2 columns]"
      ]
     },
     "execution_count": 32,
     "metadata": {},
     "output_type": "execute_result"
    }
   ],
   "source": [
    "df_decisions"
   ]
  },
  {
   "cell_type": "code",
   "execution_count": 33,
   "metadata": {
    "execution": {
     "iopub.execute_input": "2022-12-12T05:05:31.266206Z",
     "iopub.status.busy": "2022-12-12T05:05:31.265811Z",
     "iopub.status.idle": "2022-12-12T05:05:31.267428Z",
     "shell.execute_reply": "2022-12-12T05:05:31.267719Z"
    }
   },
   "outputs": [
    {
     "data": {
      "text/html": [
       "<div>\n",
       "<style scoped>\n",
       "    .dataframe tbody tr th:only-of-type {\n",
       "        vertical-align: middle;\n",
       "    }\n",
       "\n",
       "    .dataframe tbody tr th {\n",
       "        vertical-align: top;\n",
       "    }\n",
       "\n",
       "    .dataframe thead th {\n",
       "        text-align: right;\n",
       "    }\n",
       "</style>\n",
       "<table border=\"1\" class=\"dataframe\">\n",
       "  <thead>\n",
       "    <tr style=\"text-align: right;\">\n",
       "      <th></th>\n",
       "      <th>level_0</th>\n",
       "      <th>index</th>\n",
       "      <th>R</th>\n",
       "      <th>T</th>\n",
       "      <th>ml_outcomes</th>\n",
       "      <th>N</th>\n",
       "      <th>row_id</th>\n",
       "      <th>decision</th>\n",
       "    </tr>\n",
       "  </thead>\n",
       "  <tbody>\n",
       "    <tr>\n",
       "      <th>49</th>\n",
       "      <td>0</td>\n",
       "      <td>49</td>\n",
       "      <td>0</td>\n",
       "      <td>58</td>\n",
       "      <td>11233.60</td>\n",
       "      <td>20060</td>\n",
       "      <td>49</td>\n",
       "      <td>0.499933</td>\n",
       "    </tr>\n",
       "    <tr>\n",
       "      <th>50</th>\n",
       "      <td>1</td>\n",
       "      <td>50</td>\n",
       "      <td>0</td>\n",
       "      <td>59</td>\n",
       "      <td>11169.64</td>\n",
       "      <td>19258</td>\n",
       "      <td>50</td>\n",
       "      <td>0.499933</td>\n",
       "    </tr>\n",
       "    <tr>\n",
       "      <th>48</th>\n",
       "      <td>2</td>\n",
       "      <td>48</td>\n",
       "      <td>0</td>\n",
       "      <td>57</td>\n",
       "      <td>11030.04</td>\n",
       "      <td>20426</td>\n",
       "      <td>48</td>\n",
       "      <td>0.499933</td>\n",
       "    </tr>\n",
       "    <tr>\n",
       "      <th>47</th>\n",
       "      <td>3</td>\n",
       "      <td>47</td>\n",
       "      <td>0</td>\n",
       "      <td>56</td>\n",
       "      <td>10985.52</td>\n",
       "      <td>21126</td>\n",
       "      <td>47</td>\n",
       "      <td>0.499933</td>\n",
       "    </tr>\n",
       "    <tr>\n",
       "      <th>51</th>\n",
       "      <td>4</td>\n",
       "      <td>51</td>\n",
       "      <td>0</td>\n",
       "      <td>60</td>\n",
       "      <td>10970.40</td>\n",
       "      <td>18284</td>\n",
       "      <td>51</td>\n",
       "      <td>0.499933</td>\n",
       "    </tr>\n",
       "    <tr>\n",
       "      <th>...</th>\n",
       "      <td>...</td>\n",
       "      <td>...</td>\n",
       "      <td>...</td>\n",
       "      <td>...</td>\n",
       "      <td>...</td>\n",
       "      <td>...</td>\n",
       "      <td>...</td>\n",
       "      <td>...</td>\n",
       "    </tr>\n",
       "    <tr>\n",
       "      <th>120</th>\n",
       "      <td>217</td>\n",
       "      <td>120</td>\n",
       "      <td>1</td>\n",
       "      <td>8</td>\n",
       "      <td>0.32</td>\n",
       "      <td>1</td>\n",
       "      <td>120</td>\n",
       "      <td>0.499933</td>\n",
       "    </tr>\n",
       "    <tr>\n",
       "      <th>0</th>\n",
       "      <td>218</td>\n",
       "      <td>0</td>\n",
       "      <td>0</td>\n",
       "      <td>9</td>\n",
       "      <td>0.10</td>\n",
       "      <td>1</td>\n",
       "      <td>0</td>\n",
       "      <td>0.499933</td>\n",
       "    </tr>\n",
       "    <tr>\n",
       "      <th>1</th>\n",
       "      <td>219</td>\n",
       "      <td>1</td>\n",
       "      <td>0</td>\n",
       "      <td>10</td>\n",
       "      <td>0.08</td>\n",
       "      <td>1</td>\n",
       "      <td>1</td>\n",
       "      <td>0.499933</td>\n",
       "    </tr>\n",
       "    <tr>\n",
       "      <th>3</th>\n",
       "      <td>220</td>\n",
       "      <td>3</td>\n",
       "      <td>0</td>\n",
       "      <td>12</td>\n",
       "      <td>0.08</td>\n",
       "      <td>4</td>\n",
       "      <td>3</td>\n",
       "      <td>0.499933</td>\n",
       "    </tr>\n",
       "    <tr>\n",
       "      <th>2</th>\n",
       "      <td>221</td>\n",
       "      <td>2</td>\n",
       "      <td>0</td>\n",
       "      <td>11</td>\n",
       "      <td>0.00</td>\n",
       "      <td>4</td>\n",
       "      <td>2</td>\n",
       "      <td>0.499933</td>\n",
       "    </tr>\n",
       "  </tbody>\n",
       "</table>\n",
       "<p>222 rows × 8 columns</p>\n",
       "</div>"
      ],
      "text/plain": [
       "     level_0  index  R   T  ml_outcomes      N  row_id  decision\n",
       "49         0     49  0  58     11233.60  20060      49  0.499933\n",
       "50         1     50  0  59     11169.64  19258      50  0.499933\n",
       "48         2     48  0  57     11030.04  20426      48  0.499933\n",
       "47         3     47  0  56     10985.52  21126      47  0.499933\n",
       "51         4     51  0  60     10970.40  18284      51  0.499933\n",
       "..       ...    ... ..  ..          ...    ...     ...       ...\n",
       "120      217    120  1   8         0.32      1     120  0.499933\n",
       "0        218      0  0   9         0.10      1       0  0.499933\n",
       "1        219      1  0  10         0.08      1       1  0.499933\n",
       "3        220      3  0  12         0.08      4       3  0.499933\n",
       "2        221      2  0  11         0.00      4       2  0.499933\n",
       "\n",
       "[222 rows x 8 columns]"
      ]
     },
     "execution_count": 33,
     "metadata": {},
     "output_type": "execute_result"
    }
   ],
   "source": [
    "dff.merge(df_decisions,left_index=True,right_index=True).sort_values(by='ml_outcomes',ascending=False)"
   ]
  },
  {
   "cell_type": "code",
   "execution_count": 34,
   "metadata": {
    "execution": {
     "iopub.execute_input": "2022-12-12T05:05:31.274615Z",
     "iopub.status.busy": "2022-12-12T05:05:31.270937Z",
     "iopub.status.idle": "2022-12-12T05:05:31.276717Z",
     "shell.execute_reply": "2022-12-12T05:05:31.277021Z"
    }
   },
   "outputs": [
    {
     "data": {
      "text/html": [
       "<div>\n",
       "<style scoped>\n",
       "    .dataframe tbody tr th:only-of-type {\n",
       "        vertical-align: middle;\n",
       "    }\n",
       "\n",
       "    .dataframe tbody tr th {\n",
       "        vertical-align: top;\n",
       "    }\n",
       "\n",
       "    .dataframe thead th {\n",
       "        text-align: right;\n",
       "    }\n",
       "</style>\n",
       "<table border=\"1\" class=\"dataframe\">\n",
       "  <thead>\n",
       "    <tr style=\"text-align: right;\">\n",
       "      <th></th>\n",
       "      <th>level_0</th>\n",
       "      <th>index</th>\n",
       "      <th>R</th>\n",
       "      <th>T</th>\n",
       "      <th>ml_outcomes</th>\n",
       "      <th>N</th>\n",
       "      <th>row_id</th>\n",
       "      <th>decision</th>\n",
       "    </tr>\n",
       "  </thead>\n",
       "  <tbody>\n",
       "    <tr>\n",
       "      <th>49</th>\n",
       "      <td>0</td>\n",
       "      <td>49</td>\n",
       "      <td>0</td>\n",
       "      <td>58</td>\n",
       "      <td>11233.60</td>\n",
       "      <td>20060</td>\n",
       "      <td>49</td>\n",
       "      <td>0.499933</td>\n",
       "    </tr>\n",
       "    <tr>\n",
       "      <th>50</th>\n",
       "      <td>1</td>\n",
       "      <td>50</td>\n",
       "      <td>0</td>\n",
       "      <td>59</td>\n",
       "      <td>11169.64</td>\n",
       "      <td>19258</td>\n",
       "      <td>50</td>\n",
       "      <td>0.499933</td>\n",
       "    </tr>\n",
       "    <tr>\n",
       "      <th>48</th>\n",
       "      <td>2</td>\n",
       "      <td>48</td>\n",
       "      <td>0</td>\n",
       "      <td>57</td>\n",
       "      <td>11030.04</td>\n",
       "      <td>20426</td>\n",
       "      <td>48</td>\n",
       "      <td>0.499933</td>\n",
       "    </tr>\n",
       "    <tr>\n",
       "      <th>47</th>\n",
       "      <td>3</td>\n",
       "      <td>47</td>\n",
       "      <td>0</td>\n",
       "      <td>56</td>\n",
       "      <td>10985.52</td>\n",
       "      <td>21126</td>\n",
       "      <td>47</td>\n",
       "      <td>0.499933</td>\n",
       "    </tr>\n",
       "    <tr>\n",
       "      <th>51</th>\n",
       "      <td>4</td>\n",
       "      <td>51</td>\n",
       "      <td>0</td>\n",
       "      <td>60</td>\n",
       "      <td>10970.40</td>\n",
       "      <td>18284</td>\n",
       "      <td>51</td>\n",
       "      <td>0.499933</td>\n",
       "    </tr>\n",
       "    <tr>\n",
       "      <th>...</th>\n",
       "      <td>...</td>\n",
       "      <td>...</td>\n",
       "      <td>...</td>\n",
       "      <td>...</td>\n",
       "      <td>...</td>\n",
       "      <td>...</td>\n",
       "      <td>...</td>\n",
       "      <td>...</td>\n",
       "    </tr>\n",
       "    <tr>\n",
       "      <th>120</th>\n",
       "      <td>217</td>\n",
       "      <td>120</td>\n",
       "      <td>1</td>\n",
       "      <td>8</td>\n",
       "      <td>0.32</td>\n",
       "      <td>1</td>\n",
       "      <td>120</td>\n",
       "      <td>0.499933</td>\n",
       "    </tr>\n",
       "    <tr>\n",
       "      <th>0</th>\n",
       "      <td>218</td>\n",
       "      <td>0</td>\n",
       "      <td>0</td>\n",
       "      <td>9</td>\n",
       "      <td>0.10</td>\n",
       "      <td>1</td>\n",
       "      <td>0</td>\n",
       "      <td>0.499933</td>\n",
       "    </tr>\n",
       "    <tr>\n",
       "      <th>1</th>\n",
       "      <td>219</td>\n",
       "      <td>1</td>\n",
       "      <td>0</td>\n",
       "      <td>10</td>\n",
       "      <td>0.08</td>\n",
       "      <td>1</td>\n",
       "      <td>1</td>\n",
       "      <td>0.499933</td>\n",
       "    </tr>\n",
       "    <tr>\n",
       "      <th>3</th>\n",
       "      <td>220</td>\n",
       "      <td>3</td>\n",
       "      <td>0</td>\n",
       "      <td>12</td>\n",
       "      <td>0.08</td>\n",
       "      <td>4</td>\n",
       "      <td>3</td>\n",
       "      <td>0.499933</td>\n",
       "    </tr>\n",
       "    <tr>\n",
       "      <th>2</th>\n",
       "      <td>221</td>\n",
       "      <td>2</td>\n",
       "      <td>0</td>\n",
       "      <td>11</td>\n",
       "      <td>0.00</td>\n",
       "      <td>4</td>\n",
       "      <td>2</td>\n",
       "      <td>0.499933</td>\n",
       "    </tr>\n",
       "  </tbody>\n",
       "</table>\n",
       "<p>222 rows × 8 columns</p>\n",
       "</div>"
      ],
      "text/plain": [
       "     level_0  index  R   T  ml_outcomes      N  row_id  decision\n",
       "49         0     49  0  58     11233.60  20060      49  0.499933\n",
       "50         1     50  0  59     11169.64  19258      50  0.499933\n",
       "48         2     48  0  57     11030.04  20426      48  0.499933\n",
       "47         3     47  0  56     10985.52  21126      47  0.499933\n",
       "51         4     51  0  60     10970.40  18284      51  0.499933\n",
       "..       ...    ... ..  ..          ...    ...     ...       ...\n",
       "120      217    120  1   8         0.32      1     120  0.499933\n",
       "0        218      0  0   9         0.10      1       0  0.499933\n",
       "1        219      1  0  10         0.08      1       1  0.499933\n",
       "3        220      3  0  12         0.08      4       3  0.499933\n",
       "2        221      2  0  11         0.00      4       2  0.499933\n",
       "\n",
       "[222 rows x 8 columns]"
      ]
     },
     "execution_count": 34,
     "metadata": {},
     "output_type": "execute_result"
    }
   ],
   "source": [
    "xxx = dff.merge(df_decisions,left_index=True,right_index=True).sort_values(by='ml_outcomes',ascending=False)\n",
    "xxx"
   ]
  },
  {
   "cell_type": "code",
   "execution_count": 35,
   "metadata": {
    "execution": {
     "iopub.execute_input": "2022-12-12T05:05:31.284550Z",
     "iopub.status.busy": "2022-12-12T05:05:31.284138Z",
     "iopub.status.idle": "2022-12-12T05:05:31.285781Z",
     "shell.execute_reply": "2022-12-12T05:05:31.286047Z"
    }
   },
   "outputs": [
    {
     "data": {
      "text/html": [
       "<div>\n",
       "<style scoped>\n",
       "    .dataframe tbody tr th:only-of-type {\n",
       "        vertical-align: middle;\n",
       "    }\n",
       "\n",
       "    .dataframe tbody tr th {\n",
       "        vertical-align: top;\n",
       "    }\n",
       "\n",
       "    .dataframe thead th {\n",
       "        text-align: right;\n",
       "    }\n",
       "</style>\n",
       "<table border=\"1\" class=\"dataframe\">\n",
       "  <thead>\n",
       "    <tr style=\"text-align: right;\">\n",
       "      <th></th>\n",
       "      <th>level_0</th>\n",
       "      <th>index</th>\n",
       "      <th>R</th>\n",
       "      <th>T</th>\n",
       "      <th>ml_outcomes</th>\n",
       "      <th>N</th>\n",
       "      <th>row_id</th>\n",
       "      <th>decision</th>\n",
       "    </tr>\n",
       "  </thead>\n",
       "  <tbody>\n",
       "    <tr>\n",
       "      <th>221</th>\n",
       "      <td>206</td>\n",
       "      <td>221</td>\n",
       "      <td>1</td>\n",
       "      <td>116</td>\n",
       "      <td>1.25</td>\n",
       "      <td>1</td>\n",
       "      <td>221</td>\n",
       "      <td>1.000000</td>\n",
       "    </tr>\n",
       "    <tr>\n",
       "      <th>118</th>\n",
       "      <td>198</td>\n",
       "      <td>118</td>\n",
       "      <td>0</td>\n",
       "      <td>128</td>\n",
       "      <td>2.00</td>\n",
       "      <td>2</td>\n",
       "      <td>118</td>\n",
       "      <td>1.000000</td>\n",
       "    </tr>\n",
       "    <tr>\n",
       "      <th>116</th>\n",
       "      <td>199</td>\n",
       "      <td>116</td>\n",
       "      <td>0</td>\n",
       "      <td>125</td>\n",
       "      <td>2.00</td>\n",
       "      <td>2</td>\n",
       "      <td>116</td>\n",
       "      <td>1.000000</td>\n",
       "    </tr>\n",
       "    <tr>\n",
       "      <th>114</th>\n",
       "      <td>200</td>\n",
       "      <td>114</td>\n",
       "      <td>0</td>\n",
       "      <td>123</td>\n",
       "      <td>2.00</td>\n",
       "      <td>2</td>\n",
       "      <td>114</td>\n",
       "      <td>1.000000</td>\n",
       "    </tr>\n",
       "    <tr>\n",
       "      <th>117</th>\n",
       "      <td>208</td>\n",
       "      <td>117</td>\n",
       "      <td>0</td>\n",
       "      <td>127</td>\n",
       "      <td>1.00</td>\n",
       "      <td>1</td>\n",
       "      <td>117</td>\n",
       "      <td>1.000000</td>\n",
       "    </tr>\n",
       "    <tr>\n",
       "      <th>...</th>\n",
       "      <td>...</td>\n",
       "      <td>...</td>\n",
       "      <td>...</td>\n",
       "      <td>...</td>\n",
       "      <td>...</td>\n",
       "      <td>...</td>\n",
       "      <td>...</td>\n",
       "      <td>...</td>\n",
       "    </tr>\n",
       "    <tr>\n",
       "      <th>137</th>\n",
       "      <td>115</td>\n",
       "      <td>137</td>\n",
       "      <td>1</td>\n",
       "      <td>25</td>\n",
       "      <td>407.22</td>\n",
       "      <td>1234</td>\n",
       "      <td>137</td>\n",
       "      <td>0.499933</td>\n",
       "    </tr>\n",
       "    <tr>\n",
       "      <th>136</th>\n",
       "      <td>123</td>\n",
       "      <td>136</td>\n",
       "      <td>1</td>\n",
       "      <td>24</td>\n",
       "      <td>297.60</td>\n",
       "      <td>930</td>\n",
       "      <td>136</td>\n",
       "      <td>0.499933</td>\n",
       "    </tr>\n",
       "    <tr>\n",
       "      <th>149</th>\n",
       "      <td>60</td>\n",
       "      <td>149</td>\n",
       "      <td>1</td>\n",
       "      <td>37</td>\n",
       "      <td>3743.71</td>\n",
       "      <td>9131</td>\n",
       "      <td>149</td>\n",
       "      <td>0.499933</td>\n",
       "    </tr>\n",
       "    <tr>\n",
       "      <th>16</th>\n",
       "      <td>150</td>\n",
       "      <td>16</td>\n",
       "      <td>0</td>\n",
       "      <td>25</td>\n",
       "      <td>58.41</td>\n",
       "      <td>649</td>\n",
       "      <td>16</td>\n",
       "      <td>0.499933</td>\n",
       "    </tr>\n",
       "    <tr>\n",
       "      <th>119</th>\n",
       "      <td>215</td>\n",
       "      <td>119</td>\n",
       "      <td>1</td>\n",
       "      <td>7</td>\n",
       "      <td>0.50</td>\n",
       "      <td>2</td>\n",
       "      <td>119</td>\n",
       "      <td>0.000000</td>\n",
       "    </tr>\n",
       "  </tbody>\n",
       "</table>\n",
       "<p>222 rows × 8 columns</p>\n",
       "</div>"
      ],
      "text/plain": [
       "     level_0  index  R    T  ml_outcomes     N  row_id  decision\n",
       "221      206    221  1  116         1.25     1     221  1.000000\n",
       "118      198    118  0  128         2.00     2     118  1.000000\n",
       "116      199    116  0  125         2.00     2     116  1.000000\n",
       "114      200    114  0  123         2.00     2     114  1.000000\n",
       "117      208    117  0  127         1.00     1     117  1.000000\n",
       "..       ...    ... ..  ...          ...   ...     ...       ...\n",
       "137      115    137  1   25       407.22  1234     137  0.499933\n",
       "136      123    136  1   24       297.60   930     136  0.499933\n",
       "149       60    149  1   37      3743.71  9131     149  0.499933\n",
       "16       150     16  0   25        58.41   649      16  0.499933\n",
       "119      215    119  1    7         0.50     2     119  0.000000\n",
       "\n",
       "[222 rows x 8 columns]"
      ]
     },
     "execution_count": 35,
     "metadata": {},
     "output_type": "execute_result"
    }
   ],
   "source": [
    "xxx.sort_values(by='decision',ascending=False)"
   ]
  },
  {
   "cell_type": "code",
   "execution_count": 36,
   "metadata": {
    "execution": {
     "iopub.execute_input": "2022-12-12T05:05:31.288730Z",
     "iopub.status.busy": "2022-12-12T05:05:31.288350Z",
     "iopub.status.idle": "2022-12-12T05:05:32.411834Z",
     "shell.execute_reply": "2022-12-12T05:05:32.412098Z"
    }
   },
   "outputs": [],
   "source": [
    "df['key'] = df['R'].astype(str)+'_'+df['T'].astype(str)\n",
    "xxx['key'] = xxx['R'].astype(str)+'_'+xxx['T'].astype(str)"
   ]
  },
  {
   "cell_type": "code",
   "execution_count": 37,
   "metadata": {
    "execution": {
     "iopub.execute_input": "2022-12-12T05:05:32.470603Z",
     "iopub.status.busy": "2022-12-12T05:05:32.470058Z",
     "iopub.status.idle": "2022-12-12T05:05:32.770667Z",
     "shell.execute_reply": "2022-12-12T05:05:32.770934Z"
    }
   },
   "outputs": [],
   "source": [
    "admit_decisions = df.merge(xxx,how='left',on='key')\n",
    "admit_decisions['decision_random'] = pd.Series([random.random() for x in range(0,len(admit_decisions))]) < FRAC_ADMIT\n",
    "\n",
    "FRAC_minority_POLICY = (admit_decisions['R_y'] * admit_decisions['decision']).sum()/admit_decisions['decision'].sum()\n",
    "SUM_BP_POLICY = ( admit_decisions['Y'] * admit_decisions['decision']).sum()\n",
    "\n",
    "FRAC_RANDOM_POLICY = (admit_decisions['R_y'] * admit_decisions['decision_random']).sum()/admit_decisions['decision_random'].sum()\n",
    "SUM_BP_RAND_POLICY = ( admit_decisions['Y'] * admit_decisions['decision_random']).sum()\n"
   ]
  },
  {
   "cell_type": "code",
   "execution_count": 38,
   "metadata": {
    "execution": {
     "iopub.execute_input": "2022-12-12T05:05:32.773986Z",
     "iopub.status.busy": "2022-12-12T05:05:32.773610Z",
     "iopub.status.idle": "2022-12-12T05:05:32.775172Z",
     "shell.execute_reply": "2022-12-12T05:05:32.775460Z"
    }
   },
   "outputs": [],
   "source": [
    "file = open('./lp_results.csv','a')\n",
    "file.write('{}\\t{}\\t{}\\n'.format('Path-Specific Fairness',str(FRAC_minority_POLICY),str(SUM_BP_POLICY)))\n",
    "file.close()\n"
   ]
  },
  {
   "cell_type": "code",
   "execution_count": 39,
   "metadata": {
    "execution": {
     "iopub.execute_input": "2022-12-12T05:05:32.778935Z",
     "iopub.status.busy": "2022-12-12T05:05:32.778560Z",
     "iopub.status.idle": "2022-12-12T05:05:32.779991Z",
     "shell.execute_reply": "2022-12-12T05:05:32.780431Z"
    }
   },
   "outputs": [
    {
     "data": {
      "text/plain": [
       "0.49999949999949994"
      ]
     },
     "execution_count": 39,
     "metadata": {},
     "output_type": "execute_result"
    }
   ],
   "source": [
    "(xxx['N']*xxx['decision']).sum()/len(df)"
   ]
  },
  {
   "cell_type": "code",
   "execution_count": null,
   "metadata": {},
   "outputs": [],
   "source": []
  }
 ],
 "metadata": {
  "kernelspec": {
   "display_name": "Python 3 (ipykernel)",
   "language": "python",
   "name": "python3"
  },
  "language_info": {
   "codemirror_mode": {
    "name": "ipython",
    "version": 3
   },
   "file_extension": ".py",
   "mimetype": "text/x-python",
   "name": "python",
   "nbconvert_exporter": "python",
   "pygments_lexer": "ipython3",
   "version": "3.9.7"
  }
 },
 "nbformat": 4,
 "nbformat_minor": 4
}
