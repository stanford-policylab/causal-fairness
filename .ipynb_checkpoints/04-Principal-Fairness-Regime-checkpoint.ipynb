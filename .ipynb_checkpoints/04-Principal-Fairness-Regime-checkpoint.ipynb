{
 "cells": [
  {
   "cell_type": "code",
   "execution_count": 1,
   "metadata": {
    "execution": {
     "iopub.execute_input": "2022-07-18T22:07:16.210265Z",
     "iopub.status.busy": "2022-07-18T22:07:16.209347Z",
     "iopub.status.idle": "2022-07-18T22:07:17.429327Z",
     "shell.execute_reply": "2022-07-18T22:07:17.429587Z"
    }
   },
   "outputs": [],
   "source": [
    "import numpy as np\n",
    "import pandas as pd\n",
    "import matplotlib.pyplot as plt\n",
    "import seaborn as sns\n",
    "import random\n",
    "import os\n",
    "\n",
    "FRAC_ADMIT = 0.25\n"
   ]
  },
  {
   "cell_type": "code",
   "execution_count": 2,
   "metadata": {
    "execution": {
     "iopub.execute_input": "2022-07-18T22:07:17.433856Z",
     "iopub.status.busy": "2022-07-18T22:07:17.433456Z",
     "iopub.status.idle": "2022-07-18T22:07:32.717812Z",
     "shell.execute_reply": "2022-07-18T22:07:32.718051Z"
    }
   },
   "outputs": [],
   "source": [
    "\n",
    "\n",
    "###\n",
    "## Load dataframe where each row is a single applicant\n",
    "###\n",
    "\n",
    "df = pd.read_csv('./df_test.csv')\n",
    "df['key'] = df['R'].astype(str) + \"_\"  + df['T'].astype(str)\n",
    "\n"
   ]
  },
  {
   "cell_type": "code",
   "execution_count": 3,
   "metadata": {
    "execution": {
     "iopub.execute_input": "2022-07-18T22:07:32.831932Z",
     "iopub.status.busy": "2022-07-18T22:07:32.777121Z",
     "iopub.status.idle": "2022-07-18T22:07:32.833010Z",
     "shell.execute_reply": "2022-07-18T22:07:32.833355Z"
    }
   },
   "outputs": [],
   "source": [
    "df['Y_stratum'] = df['Y'].astype(str) + df['Y_reject'].astype(str)\n",
    "\n"
   ]
  },
  {
   "cell_type": "code",
   "execution_count": 4,
   "metadata": {
    "execution": {
     "iopub.execute_input": "2022-07-18T22:07:32.902789Z",
     "iopub.status.busy": "2022-07-18T22:07:32.902412Z",
     "iopub.status.idle": "2022-07-18T22:07:32.908800Z",
     "shell.execute_reply": "2022-07-18T22:07:32.909040Z"
    }
   },
   "outputs": [],
   "source": [
    "###\n",
    "## Get number of people in each stratum\n",
    "###\n",
    "\n",
    "dff = df[['R','T','key','Y','Y_reject']].groupby(['R','T','Y','Y_reject']).count().reset_index()\n",
    "dff.columns = ['R','T','Y','Y_reject','N']"
   ]
  },
  {
   "cell_type": "code",
   "execution_count": null,
   "metadata": {},
   "outputs": [],
   "source": []
  },
  {
   "cell_type": "code",
   "execution_count": null,
   "metadata": {},
   "outputs": [
    {
     "name": "stdout",
     "output_type": "stream",
     "text": [
      "0 180306\n",
      "500 180484\n",
      "1000 180637\n",
      "1500 180798\n",
      "2000 180937\n",
      "2500 181092\n",
      "3000 181226\n",
      "3500 181344\n",
      "4000 181486\n",
      "4500 181592\n",
      "5000 181695\n",
      "5500 181786\n",
      "6000 181877\n",
      "6500 181966\n",
      "7000 182082\n",
      "7500 182166\n",
      "8000 182257\n",
      "8500 182367\n",
      "9000 182427\n",
      "9500 182504\n",
      "10000 182585\n",
      "10500 182685\n",
      "11000 182759\n",
      "11500 182836\n",
      "12000 182909\n",
      "12500 182982\n",
      "13000 183059\n",
      "13500 183094\n",
      "14000 183131\n",
      "14500 183188\n",
      "15000 183242\n",
      "15500 183269\n",
      "16000 183340\n",
      "16500 183388\n",
      "17000 183449\n",
      "17500 183505\n",
      "18000 183533\n",
      "18500 183578\n",
      "19000 183634\n",
      "19500 183663\n",
      "20000 183686\n",
      "20500 183700\n",
      "21000 183727\n",
      "21500 183761\n",
      "22000 183767\n",
      "22500 183785\n",
      "23000 183807\n",
      "23500 183821\n",
      "24000 183843\n",
      "24500 183840\n",
      "25000 183866\n",
      "25500 183856\n",
      "26000 183882\n",
      "26500 183884\n",
      "27000 183890\n",
      "27500 183893\n",
      "28000 183872\n",
      "28500 183859\n",
      "29000 183834\n",
      "29500 183818\n",
      "30000 183823\n",
      "30500 183810\n",
      "31000 183817\n",
      "31500 183798\n",
      "32000 183791\n",
      "32500 183804\n",
      "33000 183780\n",
      "33500 183789\n",
      "34000 183783\n",
      "34500 183779\n",
      "35000 183785\n",
      "35500 183770\n",
      "36000 183752\n",
      "36500 183749\n",
      "37000 183703\n",
      "37500 183676\n",
      "38000 183657\n",
      "38500 183668\n",
      "39000 183651\n",
      "39500 183598\n",
      "40000 183589\n",
      "40500 183582\n",
      "41000 183559\n",
      "41500 183522\n",
      "42000 183473\n",
      "42500 183448\n",
      "43000 183383\n",
      "43500 183342\n",
      "44000 183285\n",
      "44500 183245\n",
      "45000 183188\n",
      "45500 183137\n",
      "46000 183069\n",
      "46500 183047\n",
      "47000 183013\n",
      "47500 182972\n",
      "48000 182927\n",
      "48500 182850\n",
      "49000 182806\n",
      "49500 182775\n",
      "50000 182729\n",
      "50500 182669\n",
      "51000 182631\n",
      "51500 182569\n",
      "52000 182516\n",
      "52500 182451\n",
      "53000 182408\n",
      "53500 182370\n",
      "54000 182304\n",
      "54500 182248\n",
      "55000 182169\n",
      "55500 182085\n",
      "56000 182049\n",
      "56500 181975\n",
      "57000 181918\n",
      "57500 181871\n",
      "58000 181817\n"
     ]
    }
   ],
   "source": [
    "TOTAL_ADMITS = int(len(df)*FRAC_ADMIT)\n",
    "MAX_BLACK_ADMITS = len(df[df['R']==1])\n",
    "MIN_GRADUATES = 75000\n",
    "GRID_SIZE = 500\n",
    "\n",
    "outcomes_grid = []\n",
    "Xs = []\n",
    "Ys = []\n",
    "\n",
    "for N_black_admits in range(0,MAX_BLACK_ADMITS):\n",
    "    \n",
    "    if N_black_admits % GRID_SIZE != 0:\n",
    "        continue\n",
    "    \n",
    "    black_admits = df[df['R']==1].sort_values(by='T',ascending=False).head(n=N_black_admits)\n",
    "    white_admits = df[df['R']==0].sort_values(by='T',ascending=False).head(n=TOTAL_ADMITS-N_black_admits)\n",
    "    \n",
    "    Y = black_admits['Y'].sum() + white_admits['Y'].sum()\n",
    "    \n",
    "    Xs.append(N_black_admits)\n",
    "    Ys.append(Y)\n",
    "    print(N_black_admits,Y)\n",
    "    \n",
    "    for y_iter in np.arange(MIN_GRADUATES,Y,GRID_SIZE):\n",
    "        outcomes_grid.append({'min_black_admits':N_black_admits-GRID_SIZE/2, 'max_black_admits':N_black_admits+GRID_SIZE/2, 'max_graduates':y_iter+GRID_SIZE, 'min_graduates':y_iter, 'policy_exists':'Unknown'})\n",
    "        "
   ]
  },
  {
   "cell_type": "code",
   "execution_count": null,
   "metadata": {},
   "outputs": [],
   "source": [
    "df_pareto = pd.DataFrame({'# Black Admits':Xs, '# Graduates':Ys})"
   ]
  },
  {
   "cell_type": "code",
   "execution_count": null,
   "metadata": {},
   "outputs": [],
   "source": []
  },
  {
   "cell_type": "markdown",
   "metadata": {},
   "source": [
    "### Setup optimization problem "
   ]
  },
  {
   "cell_type": "code",
   "execution_count": null,
   "metadata": {
    "execution": {
     "iopub.execute_input": "2022-07-18T22:07:32.925308Z",
     "iopub.status.busy": "2022-07-18T22:07:32.924951Z",
     "iopub.status.idle": "2022-07-18T22:07:32.948810Z",
     "shell.execute_reply": "2022-07-18T22:07:32.949026Z"
    }
   },
   "outputs": [],
   "source": [
    "from ortools.linear_solver import pywraplp\n"
   ]
  },
  {
   "cell_type": "code",
   "execution_count": null,
   "metadata": {
    "execution": {
     "iopub.execute_input": "2022-07-18T22:07:32.951558Z",
     "iopub.status.busy": "2022-07-18T22:07:32.951201Z",
     "iopub.status.idle": "2022-07-18T22:07:32.952502Z",
     "shell.execute_reply": "2022-07-18T22:07:32.952736Z"
    }
   },
   "outputs": [],
   "source": [
    "solver = pywraplp.Solver.CreateSolver('GLOP')\n"
   ]
  },
  {
   "cell_type": "code",
   "execution_count": null,
   "metadata": {
    "execution": {
     "iopub.execute_input": "2022-07-18T22:07:32.955051Z",
     "iopub.status.busy": "2022-07-18T22:07:32.954659Z",
     "iopub.status.idle": "2022-07-18T22:07:32.956956Z",
     "shell.execute_reply": "2022-07-18T22:07:32.957233Z"
    }
   },
   "outputs": [],
   "source": [
    "len(dff[['R','T','Y','Y_reject']])"
   ]
  },
  {
   "cell_type": "code",
   "execution_count": null,
   "metadata": {
    "execution": {
     "iopub.execute_input": "2022-07-18T22:07:32.963351Z",
     "iopub.status.busy": "2022-07-18T22:07:32.962958Z",
     "iopub.status.idle": "2022-07-18T22:07:32.964570Z",
     "shell.execute_reply": "2022-07-18T22:07:32.964864Z"
    }
   },
   "outputs": [],
   "source": [
    "dff"
   ]
  },
  {
   "cell_type": "code",
   "execution_count": null,
   "metadata": {
    "execution": {
     "iopub.execute_input": "2022-07-18T22:07:32.982900Z",
     "iopub.status.busy": "2022-07-18T22:07:32.982532Z",
     "iopub.status.idle": "2022-07-18T22:07:32.983769Z",
     "shell.execute_reply": "2022-07-18T22:07:32.984056Z"
    }
   },
   "outputs": [],
   "source": [
    "applicant_stratum = []\n",
    "vars_cache = {}\n",
    "\n",
    "# Objective: Maximize the expected utility of the admitted students\n",
    "objective = solver.Objective()\n",
    "\n",
    "# For each stratum\n",
    "for ix, row in dff.iterrows():\n",
    "    # probability of admission\n",
    "    numvar = solver.NumVar(0.0, 1.0, str(ix))\n",
    "    \n",
    "    # store variable by index, and also by stratum R, T\n",
    "    applicant_stratum.append(numvar)\n",
    "    vars_cache[(row['R'],row['T'],row['Y'], row['Y_reject'])] = numvar\n",
    "    \n",
    "    # Benefit of admitting people is total utility in that stratum\n",
    "    objective.SetCoefficient(applicant_stratum[ix], float(row['N']))\n",
    "objective.SetMaximization()\n"
   ]
  },
  {
   "cell_type": "code",
   "execution_count": null,
   "metadata": {
    "execution": {
     "iopub.execute_input": "2022-07-18T22:07:32.986363Z",
     "iopub.status.busy": "2022-07-18T22:07:32.985976Z",
     "iopub.status.idle": "2022-07-18T22:07:32.987568Z",
     "shell.execute_reply": "2022-07-18T22:07:32.987924Z"
    }
   },
   "outputs": [],
   "source": [
    "# Currently we have no constraints \n",
    "solver.NumConstraints()"
   ]
  },
  {
   "cell_type": "code",
   "execution_count": null,
   "metadata": {
    "execution": {
     "iopub.execute_input": "2022-07-18T22:07:33.000400Z",
     "iopub.status.busy": "2022-07-18T22:07:33.000034Z",
     "iopub.status.idle": "2022-07-18T22:07:33.001569Z",
     "shell.execute_reply": "2022-07-18T22:07:33.001811Z"
    },
    "scrolled": true
   },
   "outputs": [],
   "source": [
    "# Constraint: At most K applicants\n",
    "K = int(len(df)*FRAC_ADMIT)\n",
    "print(K)\n",
    "admit_quota = solver.Constraint(0, K)\n",
    "\n",
    "# Total applicants cannot exceed K \n",
    "for ix, row in dff.iterrows():\n",
    "    admit_quota.SetCoefficient(applicant_stratum[ix], float(row['N']))"
   ]
  },
  {
   "cell_type": "code",
   "execution_count": null,
   "metadata": {
    "execution": {
     "iopub.execute_input": "2022-07-18T22:07:33.004068Z",
     "iopub.status.busy": "2022-07-18T22:07:33.003709Z",
     "iopub.status.idle": "2022-07-18T22:07:33.005200Z",
     "shell.execute_reply": "2022-07-18T22:07:33.005468Z"
    }
   },
   "outputs": [],
   "source": [
    "# Now we have one constraint\n",
    "solver.NumConstraints()"
   ]
  },
  {
   "cell_type": "markdown",
   "metadata": {},
   "source": [
    "## Add Equalized Odds Constraints"
   ]
  },
  {
   "cell_type": "code",
   "execution_count": null,
   "metadata": {
    "execution": {
     "iopub.execute_input": "2022-07-18T22:07:33.035615Z",
     "iopub.status.busy": "2022-07-18T22:07:33.035207Z",
     "iopub.status.idle": "2022-07-18T22:07:33.036832Z",
     "shell.execute_reply": "2022-07-18T22:07:33.037114Z"
    }
   },
   "outputs": [],
   "source": [
    "## Make sure that you have to add all people in Y stratum or none\n",
    "## i.e. you can't add only people who pass boards and reject those who fail boards from same T, R stratum\n",
    "didntexist, exists = 0, 0 \n",
    "\n",
    "for ix, row in dff.iterrows():\n",
    "    \n",
    "    \n",
    "    var1 = vars_cache[(row['R'],row['T'],row['Y'], row['Y_reject'])]\n",
    "    key2s = [(row['R'],row['T'], 1-row['Y'], 1-row['Y_reject']), (row['R'],row['T'], row['Y'], 1-row['Y_reject']), (row['R'],row['T'], 1-row['Y'], row['Y_reject'])]\n",
    "    \n",
    "    for key2 in key2s:\n",
    "        constrain_bp = solver.Constraint(0.0, 0.0)\n",
    "        \n",
    "        if key2 not in vars_cache:\n",
    "            didntexist+=1\n",
    "            continue\n",
    "            \n",
    "        var2 = vars_cache[key2]\n",
    "        \n",
    "        constrain_bp.SetCoefficient(var1, -1.0)\n",
    "        constrain_bp.SetCoefficient(var2, 1.0)\n",
    "        exists+=1\n",
    "\n",
    "didntexist, exists"
   ]
  },
  {
   "cell_type": "code",
   "execution_count": null,
   "metadata": {
    "execution": {
     "iopub.execute_input": "2022-07-18T22:07:33.043814Z",
     "iopub.status.busy": "2022-07-18T22:07:33.043435Z",
     "iopub.status.idle": "2022-07-18T22:07:33.045084Z",
     "shell.execute_reply": "2022-07-18T22:07:33.045453Z"
    }
   },
   "outputs": [],
   "source": [
    "majority_pass_boards_pass_boards_reject = []\n",
    "majority_fail_boards_pass_boards_reject = []\n",
    "minority_pass_boards_pass_boards_reject = []\n",
    "minority_fail_boards_pass_boards_reject = []\n",
    "majority_pass_boards_fail_boards_reject = []\n",
    "majority_fail_boards_fail_boards_reject = []\n",
    "minority_pass_boards_fail_boards_reject = []\n",
    "minority_fail_boards_fail_boards_reject = []\n",
    "\n",
    "\n",
    "for key in vars_cache:\n",
    "    r, t, Y, Y_reject = key\n",
    "    if Y == 1 and r==0 and Y_reject==1:\n",
    "        majority_pass_boards_pass_boards_reject.append(key)\n",
    "    elif Y == 0 and r==0 and Y_reject==1:\n",
    "        majority_fail_boards_pass_boards_reject.append(key)\n",
    "    elif Y == 1 and r==1 and Y_reject==1:\n",
    "        minority_pass_boards_pass_boards_reject.append(key)\n",
    "    elif Y == 0 and r==1 and Y_reject==1:\n",
    "        minority_fail_boards_pass_boards_reject.append(key)\n",
    "        \n",
    "    if Y == 1 and r==0 and Y_reject==0:\n",
    "        majority_pass_boards_fail_boards_reject.append(key)\n",
    "    elif Y == 0 and r==0 and Y_reject==0:\n",
    "        majority_fail_boards_fail_boards_reject.append(key)\n",
    "    elif Y == 1 and r==1 and Y_reject==0:\n",
    "        minority_pass_boards_fail_boards_reject.append(key)\n",
    "    elif Y == 0 and r==1 and Y_reject==0:\n",
    "        minority_fail_boards_fail_boards_reject.append(key)\n",
    "\n",
    "len(majority_pass_boards_pass_boards_reject),len(majority_fail_boards_pass_boards_reject),len(minority_pass_boards_pass_boards_reject),len(minority_fail_boards_pass_boards_reject)\n",
    "\n",
    "\n"
   ]
  },
  {
   "cell_type": "code",
   "execution_count": null,
   "metadata": {
    "execution": {
     "iopub.execute_input": "2022-07-18T22:07:33.063922Z",
     "iopub.status.busy": "2022-07-18T22:07:33.063578Z",
     "iopub.status.idle": "2022-07-18T22:07:33.064862Z",
     "shell.execute_reply": "2022-07-18T22:07:33.065161Z"
    }
   },
   "outputs": [],
   "source": [
    "NUM_TOTALS = {}\n",
    "df_totals = dff[['N','R','Y','Y_reject']].groupby(['R','Y','Y_reject']).sum().reset_index()\n",
    "for ix, row in df_totals.iterrows():\n",
    "    NUM_TOTALS[(row['R'],row['Y'],row['Y_reject'])] = row['N']\n",
    "    \n",
    "N_IN_STRATAS = {}\n",
    "for ix, row in dff.iterrows():\n",
    "    N_IN_STRATAS[(row['R'],row['T'],row['Y'],row['Y_reject'])] = row['N']"
   ]
  },
  {
   "cell_type": "code",
   "execution_count": null,
   "metadata": {
    "execution": {
     "iopub.execute_input": "2022-07-18T22:07:33.067495Z",
     "iopub.status.busy": "2022-07-18T22:07:33.067055Z",
     "iopub.status.idle": "2022-07-18T22:07:33.068709Z",
     "shell.execute_reply": "2022-07-18T22:07:33.068991Z"
    }
   },
   "outputs": [],
   "source": [
    "# Now we have one constraint\n",
    "solver.NumConstraints()"
   ]
  },
  {
   "cell_type": "code",
   "execution_count": null,
   "metadata": {
    "execution": {
     "iopub.execute_input": "2022-07-18T22:07:33.073443Z",
     "iopub.status.busy": "2022-07-18T22:07:33.073089Z",
     "iopub.status.idle": "2022-07-18T22:07:33.074340Z",
     "shell.execute_reply": "2022-07-18T22:07:33.074677Z"
    }
   },
   "outputs": [],
   "source": [
    "#Of those who pass the boards exams, pass boards exams if rejected\n",
    "#Frac majority admitted and frac minority admitted should be the same\n",
    "\n",
    "constrain_pass_boards_pass_boards_reject = solver.Constraint(0.0, 0.0)\n",
    "\n",
    "for key in majority_pass_boards_pass_boards_reject:\n",
    "    r, t, Y, Y_reject = key\n",
    "    N_IN_STRATUM = N_IN_STRATAS[(r,t,Y, Y_reject)]\n",
    "    N_TOTAL = NUM_TOTALS[(r,Y, Y_reject)]\n",
    "    \n",
    "    constrain_pass_boards_pass_boards_reject.SetCoefficient(vars_cache[key], float(N_IN_STRATUM) / float(N_TOTAL))\n",
    "\n",
    "for key in minority_pass_boards_pass_boards_reject:\n",
    "    r, t, Y, Y_reject = key\n",
    "    N_IN_STRATUM = N_IN_STRATAS[(r,t,Y, Y_reject)]\n",
    "    N_TOTAL = NUM_TOTALS[(r,Y, Y_reject)]\n",
    "    \n",
    "    constrain_pass_boards_pass_boards_reject.SetCoefficient(vars_cache[key], -1.0 * (float(N_IN_STRATUM) / float(N_TOTAL)))\n"
   ]
  },
  {
   "cell_type": "code",
   "execution_count": null,
   "metadata": {
    "execution": {
     "iopub.execute_input": "2022-07-18T22:07:33.078126Z",
     "iopub.status.busy": "2022-07-18T22:07:33.077766Z",
     "iopub.status.idle": "2022-07-18T22:07:33.079147Z",
     "shell.execute_reply": "2022-07-18T22:07:33.079506Z"
    }
   },
   "outputs": [],
   "source": [
    "#Of those who fail the boards exams, pass boards exams if rejected\n",
    "#Frac majority admitted and frac minority admitted should be the same\n",
    "\n",
    "constrain_fail_boards_pass_boards_reject = solver.Constraint(0.0, 0.0)\n",
    "\n",
    "for key in majority_fail_boards_pass_boards_reject:\n",
    "    r, t, Y, Y_reject = key\n",
    "    N_IN_STRATUM = N_IN_STRATAS[(r,t,Y, Y_reject)]\n",
    "    N_TOTAL = NUM_TOTALS[(r,Y, Y_reject)]\n",
    "    \n",
    "    constrain_fail_boards_pass_boards_reject.SetCoefficient(vars_cache[key], float(N_IN_STRATUM) / float(N_TOTAL))\n",
    "\n",
    "for key in minority_fail_boards_pass_boards_reject:\n",
    "    r, t, Y, Y_reject = key\n",
    "    N_IN_STRATUM = N_IN_STRATAS[(r,t,Y, Y_reject)]\n",
    "    N_TOTAL = NUM_TOTALS[(r,Y, Y_reject)]\n",
    "    \n",
    "    constrain_fail_boards_pass_boards_reject.SetCoefficient(vars_cache[key], -1.0 * (float(N_IN_STRATUM) / float(N_TOTAL)))\n"
   ]
  },
  {
   "cell_type": "code",
   "execution_count": null,
   "metadata": {
    "execution": {
     "iopub.execute_input": "2022-07-18T22:07:33.086032Z",
     "iopub.status.busy": "2022-07-18T22:07:33.085672Z",
     "iopub.status.idle": "2022-07-18T22:07:33.086988Z",
     "shell.execute_reply": "2022-07-18T22:07:33.087274Z"
    }
   },
   "outputs": [],
   "source": [
    "constrain_pass_boards_fail_boards_reject = solver.Constraint(0.0, 0.0)\n",
    "\n",
    "for key in majority_pass_boards_fail_boards_reject:\n",
    "    r, t, Y, Y_reject = key\n",
    "    N_IN_STRATUM = N_IN_STRATAS[(r,t,Y, Y_reject)]\n",
    "    N_TOTAL = NUM_TOTALS[(r,Y, Y_reject)]\n",
    "    \n",
    "    constrain_pass_boards_fail_boards_reject.SetCoefficient(vars_cache[key], float(N_IN_STRATUM) / float(N_TOTAL))\n",
    "\n",
    "for key in minority_pass_boards_fail_boards_reject:\n",
    "    r, t, Y, Y_reject = key\n",
    "    N_IN_STRATUM = N_IN_STRATAS[(r,t,Y, Y_reject)]\n",
    "    N_TOTAL = NUM_TOTALS[(r,Y, Y_reject)]\n",
    "    \n",
    "    constrain_pass_boards_fail_boards_reject.SetCoefficient(vars_cache[key], -1.0 * (float(N_IN_STRATUM) / float(N_TOTAL)))\n",
    "\n",
    "    \n",
    "#Of those who fail the boards exams, fail boards exams if rejected\n",
    "#Frac majority admitted and frac minority admitted should be the same\n",
    "\n",
    "constrain_fail_boards_fail_boards_reject = solver.Constraint(0.0, 0.0)\n",
    "\n",
    "for key in majority_fail_boards_fail_boards_reject:\n",
    "    r, t, Y, Y_reject = key\n",
    "    N_IN_STRATUM = N_IN_STRATAS[(r,t,Y, Y_reject)]\n",
    "    N_TOTAL = NUM_TOTALS[(r,Y, Y_reject)]\n",
    "    \n",
    "    constrain_fail_boards_fail_boards_reject.SetCoefficient(vars_cache[key], float(N_IN_STRATUM) / float(N_TOTAL))\n",
    "\n",
    "for key in minority_fail_boards_fail_boards_reject:\n",
    "    r, t, Y, Y_reject = key\n",
    "    N_IN_STRATUM = N_IN_STRATAS[(r,t,Y, Y_reject)]\n",
    "    N_TOTAL = NUM_TOTALS[(r,Y, Y_reject)]\n",
    "    \n",
    "    constrain_fail_boards_fail_boards_reject.SetCoefficient(vars_cache[key], -1.0 * (float(N_IN_STRATUM) / float(N_TOTAL)))\n"
   ]
  },
  {
   "cell_type": "markdown",
   "metadata": {},
   "source": [
    "## Add outcome constraints"
   ]
  },
  {
   "cell_type": "code",
   "execution_count": null,
   "metadata": {},
   "outputs": [],
   "source": [
    "constrain_graduate = solver.Constraint(0, 0)\n",
    "\n",
    "for ix, row in dff.iterrows():\n",
    "    \n",
    "    key = (row['R'],row['T'],row['Y'],row['Y_reject'])\n",
    "    n_graduate = row['Y'] * row['N']\n",
    "    constrain_graduate.SetCoefficient(vars_cache[key], float(n_graduate))\n",
    "\n",
    "constrain_black_admit = solver.Constraint(0, 0)\n",
    "\n",
    "for ix, row in dff.iterrows():\n",
    "    key = (row['R'],row['T'],row['Y'],row['Y_reject'])\n",
    "    n_black = row['R'] * row['N']\n",
    "    constrain_black_admit.SetCoefficient(vars_cache[key], float(n_black))\n"
   ]
  },
  {
   "cell_type": "markdown",
   "metadata": {},
   "source": [
    "## Solve linear program"
   ]
  },
  {
   "cell_type": "code",
   "execution_count": null,
   "metadata": {
    "execution": {
     "iopub.execute_input": "2022-07-18T22:07:33.089749Z",
     "iopub.status.busy": "2022-07-18T22:07:33.089388Z",
     "iopub.status.idle": "2022-07-18T22:07:33.090959Z",
     "shell.execute_reply": "2022-07-18T22:07:33.091240Z"
    },
    "scrolled": true
   },
   "outputs": [],
   "source": [
    "count = 0 \n",
    "\n",
    "print ('Total grid cells to check: {}'.format(len(outcomes_grid)))\n",
    "\n",
    "for region in outcomes_grid:\n",
    "    constrain_graduate.SetBounds(float(region['min_graduates']), float(region['max_graduates']))\n",
    "    constrain_black_admit.SetBounds(float(region['min_black_admits']), float(region['max_black_admits']))\n",
    "    status = solver.Solve()\n",
    "    if status == 0:\n",
    "        region['policy_exists'] = 1\n",
    "        \n",
    "        row = []\n",
    "        admit = []\n",
    "\n",
    "        for i in applicant_stratum:\n",
    "            row.append(int(str(i)))\n",
    "            admit.append(i.solution_value())\n",
    "        #df_decisions = pd.DataFrame({'row_id':row,'decision':admit})\n",
    "        region['policy'] = (row,admit)    \n",
    "    else:\n",
    "        continue\n",
    "        #print(status)\n",
    "        \n",
    "    count+=1\n",
    "    \n",
    "    if count % 100 ==0:\n",
    "        print ('Total grid cells checked so far: {}/{}'.format(count,len(outcomes_grid)))\n",
    "\n",
    "\n"
   ]
  },
  {
   "cell_type": "code",
   "execution_count": null,
   "metadata": {},
   "outputs": [],
   "source": [
    "outcomes_grid = pd.DataFrame(outcomes_grid)\n",
    "outcomes_grid = outcomes_grid[outcomes_grid['policy_exists']==1]\n",
    "outcomes_grid.to_csv('./outcomes_grid_cf_eo.csv')"
   ]
  },
  {
   "cell_type": "code",
   "execution_count": null,
   "metadata": {},
   "outputs": [],
   "source": []
  },
  {
   "cell_type": "code",
   "execution_count": null,
   "metadata": {},
   "outputs": [],
   "source": []
  },
  {
   "cell_type": "code",
   "execution_count": null,
   "metadata": {},
   "outputs": [],
   "source": []
  },
  {
   "cell_type": "code",
   "execution_count": 24,
   "metadata": {},
   "outputs": [],
   "source": [
    "import pickle \n",
    "file = open(\"Fruits.obj\",'rb')\n",
    "outcomes_grid2 = pickle.load(file)\n",
    "file.close()\n"
   ]
  },
  {
   "cell_type": "code",
   "execution_count": 30,
   "metadata": {},
   "outputs": [
    {
     "data": {
      "text/html": [
       "<div>\n",
       "<style scoped>\n",
       "    .dataframe tbody tr th:only-of-type {\n",
       "        vertical-align: middle;\n",
       "    }\n",
       "\n",
       "    .dataframe tbody tr th {\n",
       "        vertical-align: top;\n",
       "    }\n",
       "\n",
       "    .dataframe thead th {\n",
       "        text-align: right;\n",
       "    }\n",
       "</style>\n",
       "<table border=\"1\" class=\"dataframe\">\n",
       "  <thead>\n",
       "    <tr style=\"text-align: right;\">\n",
       "      <th></th>\n",
       "      <th>Policy Name</th>\n",
       "      <th>Frac Diverse Candidates</th>\n",
       "      <th>Total Graduated</th>\n",
       "    </tr>\n",
       "  </thead>\n",
       "  <tbody>\n",
       "    <tr>\n",
       "      <th>0</th>\n",
       "      <td>Random</td>\n",
       "      <td>0.333515</td>\n",
       "      <td>21859.000000</td>\n",
       "    </tr>\n",
       "    <tr>\n",
       "      <th>1</th>\n",
       "      <td>Maximize Utility</td>\n",
       "      <td>0.381300</td>\n",
       "      <td>29476.446379</td>\n",
       "    </tr>\n",
       "    <tr>\n",
       "      <th>2</th>\n",
       "      <td>Counterfactual Fairness</td>\n",
       "      <td>0.332824</td>\n",
       "      <td>22021.879847</td>\n",
       "    </tr>\n",
       "    <tr>\n",
       "      <th>3</th>\n",
       "      <td>Path-Specific Fairness</td>\n",
       "      <td>0.332654</td>\n",
       "      <td>22037.819067</td>\n",
       "    </tr>\n",
       "    <tr>\n",
       "      <th>4</th>\n",
       "      <td>Counterfactual Equalized Odds</td>\n",
       "      <td>0.308245</td>\n",
       "      <td>29945.658086</td>\n",
       "    </tr>\n",
       "    <tr>\n",
       "      <th>5</th>\n",
       "      <td>Principal Fairness</td>\n",
       "      <td>0.308358</td>\n",
       "      <td>29534.758747</td>\n",
       "    </tr>\n",
       "    <tr>\n",
       "      <th>6</th>\n",
       "      <td>Counterfactual Pred. Parity</td>\n",
       "      <td>0.555653</td>\n",
       "      <td>25032.000000</td>\n",
       "    </tr>\n",
       "  </tbody>\n",
       "</table>\n",
       "</div>"
      ],
      "text/plain": [
       "                     Policy Name  Frac Diverse Candidates  Total Graduated\n",
       "0                         Random                 0.333515     21859.000000\n",
       "1               Maximize Utility                 0.381300     29476.446379\n",
       "2        Counterfactual Fairness                 0.332824     22021.879847\n",
       "3         Path-Specific Fairness                 0.332654     22037.819067\n",
       "4  Counterfactual Equalized Odds                 0.308245     29945.658086\n",
       "5             Principal Fairness                 0.308358     29534.758747\n",
       "6    Counterfactual Pred. Parity                 0.555653     25032.000000"
      ]
     },
     "execution_count": 30,
     "metadata": {},
     "output_type": "execute_result"
    }
   ],
   "source": [
    "dn = pd.read_csv('./lp_results.csv',sep='\\t')\n",
    "\n",
    "dn\n"
   ]
  },
  {
   "cell_type": "code",
   "execution_count": 35,
   "metadata": {},
   "outputs": [
    {
     "data": {
      "image/png": "[encoded data removed]",
      "text/plain": [
       "<Figure size 842.4x595.44 with 1 Axes>"
      ]
     },
     "metadata": {},
     "output_type": "display_data"
    }
   ],
   "source": [
    "import seaborn as sns\n",
    "import matplotlib.ticker as ticker\n",
    "from matplotlib.patches import Rectangle\n",
    "from matplotlib.collections import PatchCollection\n",
    "\n",
    "sns.set(rc={'figure.figsize':(11.7,8.27)})\n",
    "sns.set(style=\"white\", font_scale=1.5, )\n",
    "ax = sns.lineplot(data=df_pareto, x='# Black Admits', y='# Graduates',linewidth=5)\n",
    "errorboxes = []\n",
    "\n",
    "for outcome_block in outcomes_grid:\n",
    "    if outcome_block['policy_exists'] == 1:\n",
    "        errorboxes.append(Rectangle((outcome_block['min_black_admits'] , outcome_block['min_graduates']),GRID_SIZE,GRID_SIZE))\n",
    "\n",
    "pc = PatchCollection(errorboxes, facecolor='red', alpha=0.5,  edgecolor='none')\n",
    "                       \n",
    "ax.add_collection(pc)\n",
    "\n",
    "errorboxes2 = []\n",
    "\n",
    "for outcome_block in outcomes_grid2:\n",
    "    if outcome_block['policy_exists'] == 1:\n",
    "        errorboxes2.append(Rectangle((outcome_block['min_black_admits'] , outcome_block['min_graduates']),GRID_SIZE,GRID_SIZE))\n",
    "\n",
    "pc2 = PatchCollection(errorboxes2, facecolor='blue', alpha=0.5,  edgecolor='none')\n",
    "                       \n",
    "ax.add_collection(pc2)\n",
    "\n",
    "\n",
    "plt.scatter(x=(df['R']*0.5).sum(),y=(df['Y']*0.5).sum(),color='green')   \n",
    "plt.scatter(x=0.308245*len(df)*FRAC_ADMIT,y=29945.658086,color='blue')   \n",
    "plt.scatter(x=0.308358*len(df)*FRAC_ADMIT,y=29534.758747,color='red')   \n",
    "\n",
    "plt.xlim([0, MAX_BLACK_ADMITS])\n",
    "plt.ylim([df_pareto['# Graduates'].min()-2000, df_pareto['# Graduates'].max()+1000])\n",
    "plt.show()\n",
    "\n",
    "\n",
    "    \n"
   ]
  },
  {
   "cell_type": "code",
   "execution_count": 33,
   "metadata": {},
   "outputs": [
    {
     "data": {
      "image/png": "[encoded data removed]",
      "text/plain": [
       "<Figure size 842.4x595.44 with 1 Axes>"
      ]
     },
     "metadata": {},
     "output_type": "display_data"
    }
   ],
   "source": [
    "import seaborn as sns\n",
    "import matplotlib.ticker as ticker\n",
    "from matplotlib.patches import Rectangle\n",
    "from matplotlib.collections import PatchCollection\n",
    "\n",
    "sns.set(rc={'figure.figsize':(11.7,8.27)})\n",
    "sns.set(style=\"white\", font_scale=1.5, )\n",
    "ax = sns.lineplot(data=df_pareto, x='# Black Admits', y='# Graduates',linewidth=5)\n",
    "errorboxes = []\n",
    "\n",
    "for outcome_block in outcomes_grid:\n",
    "    if outcome_block['policy_exists'] == 1:\n",
    "        errorboxes.append(Rectangle((outcome_block['min_black_admits'] , outcome_block['min_graduates']),GRID_SIZE,GRID_SIZE))\n",
    "\n",
    "pc = PatchCollection(errorboxes, facecolor='red', alpha=0.5,  edgecolor='none')\n",
    "                       \n",
    "ax.add_collection(pc)\n",
    "\n",
    "\n",
    "\n",
    "plt.scatter(x=(df['R']*0.5).sum(),y=(df['Y']*0.5).sum(),color='green')   \n",
    "plt.scatter(x=0.308358*len(df)*FRAC_ADMIT,y=29534.758747,color='red')   \n",
    "\n",
    "plt.xlim([0, MAX_BLACK_ADMITS])\n",
    "plt.ylim([df_pareto['# Graduates'].min()-2000, df_pareto['# Graduates'].max()+1000])\n",
    "plt.show()\n",
    "\n",
    "\n",
    "    \n"
   ]
  },
  {
   "cell_type": "code",
   "execution_count": 34,
   "metadata": {},
   "outputs": [
    {
     "data": {
      "image/png": "[encoded data removed]",
      "text/plain": [
       "<Figure size 842.4x595.44 with 1 Axes>"
      ]
     },
     "metadata": {},
     "output_type": "display_data"
    }
   ],
   "source": [
    "import seaborn as sns\n",
    "import matplotlib.ticker as ticker\n",
    "from matplotlib.patches import Rectangle\n",
    "from matplotlib.collections import PatchCollection\n",
    "\n",
    "sns.set(rc={'figure.figsize':(11.7,8.27)})\n",
    "sns.set(style=\"white\", font_scale=1.5, )\n",
    "ax = sns.lineplot(data=df_pareto, x='# Black Admits', y='# Graduates',linewidth=5)\n",
    "\n",
    "errorboxes2 = []\n",
    "\n",
    "for outcome_block in outcomes_grid2:\n",
    "    if outcome_block['policy_exists'] == 1:\n",
    "        errorboxes2.append(Rectangle((outcome_block['min_black_admits'] , outcome_block['min_graduates']),GRID_SIZE,GRID_SIZE))\n",
    "\n",
    "pc2 = PatchCollection(errorboxes2, facecolor='blue', alpha=0.5,  edgecolor='none')\n",
    "                       \n",
    "ax.add_collection(pc2)\n",
    "\n",
    "\n",
    "plt.scatter(x=(df['R']*0.5).sum(),y=(df['Y']*0.5).sum(),color='green')   \n",
    "plt.scatter(x=0.308245*len(df)*FRAC_ADMIT,y=29945.658086,color='blue')   \n",
    "\n",
    "plt.xlim([0, MAX_BLACK_ADMITS])\n",
    "plt.ylim([df_pareto['# Graduates'].min()-2000, df_pareto['# Graduates'].max()+1000])\n",
    "plt.show()\n",
    "\n",
    "\n",
    "    \n"
   ]
  },
  {
   "cell_type": "code",
   "execution_count": null,
   "metadata": {},
   "outputs": [],
   "source": []
  }
 ],
 "metadata": {
  "kernelspec": {
   "display_name": "Python 3 (ipykernel)",
   "language": "python",
   "name": "python3"
  },
  "language_info": {
   "codemirror_mode": {
    "name": "ipython",
    "version": 3
   },
   "file_extension": ".py",
   "mimetype": "text/x-python",
   "name": "python",
   "nbconvert_exporter": "python",
   "pygments_lexer": "ipython3",
   "version": "3.9.7"
  }
 },
 "nbformat": 4,
 "nbformat_minor": 4
}
