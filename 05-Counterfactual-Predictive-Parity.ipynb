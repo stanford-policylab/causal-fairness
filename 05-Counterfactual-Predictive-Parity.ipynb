{
 "cells": [
  {
   "cell_type": "code",
   "execution_count": 1,
   "metadata": {
    "execution": {
     "iopub.execute_input": "2022-12-12T05:23:53.772066Z",
     "iopub.status.busy": "2022-12-12T05:23:53.771303Z",
     "iopub.status.idle": "2022-12-12T05:23:55.031213Z",
     "shell.execute_reply": "2022-12-12T05:23:55.030841Z"
    }
   },
   "outputs": [],
   "source": [
    "import numpy as np\n",
    "import pandas as pd\n",
    "import matplotlib.pyplot as plt\n",
    "import seaborn as sns\n",
    "from ortools.linear_solver import pywraplp\n",
    "import random\n",
    "import os\n",
    "\n",
    "DIVERSITY_UTILITY = float(os.environ.get('DIVERSITY_UTILITY'))\n",
    "FRAC_ADMIT = float(os.environ.get('FRAC_ADMIT'))"
   ]
  },
  {
   "cell_type": "code",
   "execution_count": 2,
   "metadata": {
    "execution": {
     "iopub.execute_input": "2022-12-12T05:23:55.035791Z",
     "iopub.status.busy": "2022-12-12T05:23:55.035379Z",
     "iopub.status.idle": "2022-12-12T05:24:12.640101Z",
     "shell.execute_reply": "2022-12-12T05:24:12.640372Z"
    }
   },
   "outputs": [],
   "source": [
    "\n",
    "###\n",
    "## Load dataframe where each row is a single applicant\n",
    "###\n",
    "\n",
    "df = pd.read_csv('./df_test.csv')\n",
    "df['key'] = df['R'].astype(str) + \"_\"  + df['T'].astype(str)\n",
    "\n",
    "###\n",
    "## Estimate E[Y(1)|T, A]\n",
    "###\n",
    "\n",
    "df_train = pd.read_csv('./df_train.csv')\n",
    "df_stratum_utility = df_train[['R','T','Y']].groupby(['R','T']).mean().reset_index()\n",
    "df_stratum_utility['stratum_utility'] = (df_stratum_utility['Y'] + DIVERSITY_UTILITY * df_stratum_utility['R']).round(2)\n",
    "df_stratum_utility['key'] = df_stratum_utility['R'].astype(str) + \"_\" + df_stratum_utility['T'].astype(str)\n",
    "\n",
    "df = df.merge(df_stratum_utility[['stratum_utility','key']], on='key')\n",
    "df['ml_outcomes'] = df['stratum_utility']"
   ]
  },
  {
   "cell_type": "code",
   "execution_count": 3,
   "metadata": {
    "execution": {
     "iopub.execute_input": "2022-12-12T05:24:12.644373Z",
     "iopub.status.busy": "2022-12-12T05:24:12.643888Z",
     "iopub.status.idle": "2022-12-12T05:24:12.646255Z",
     "shell.execute_reply": "2022-12-12T05:24:12.646505Z"
    }
   },
   "outputs": [
    {
     "data": {
      "text/plain": [
       "999999"
      ]
     },
     "execution_count": 3,
     "metadata": {},
     "output_type": "execute_result"
    }
   ],
   "source": [
    "len(df)"
   ]
  },
  {
   "cell_type": "code",
   "execution_count": 4,
   "metadata": {
    "execution": {
     "iopub.execute_input": "2022-12-12T05:24:12.649348Z",
     "iopub.status.busy": "2022-12-12T05:24:12.648964Z",
     "iopub.status.idle": "2022-12-12T05:24:12.738239Z",
     "shell.execute_reply": "2022-12-12T05:24:12.738541Z"
    }
   },
   "outputs": [
    {
     "data": {
      "text/plain": [
       "<AxesSubplot:>"
      ]
     },
     "execution_count": 4,
     "metadata": {},
     "output_type": "execute_result"
    },
    {
     "data": {
      "image/png": "[encoded data removed]",
      "text/plain": [
       "<Figure size 432x288 with 1 Axes>"
      ]
     },
     "metadata": {
      "needs_background": "light"
     },
     "output_type": "display_data"
    }
   ],
   "source": [
    "df['ml_outcomes'].hist()"
   ]
  },
  {
   "cell_type": "code",
   "execution_count": 5,
   "metadata": {
    "execution": {
     "iopub.execute_input": "2022-12-12T05:24:12.742246Z",
     "iopub.status.busy": "2022-12-12T05:24:12.741570Z",
     "iopub.status.idle": "2022-12-12T05:24:12.813043Z",
     "shell.execute_reply": "2022-12-12T05:24:12.813296Z"
    }
   },
   "outputs": [
    {
     "data": {
      "text/html": [
       "<div>\n",
       "<style scoped>\n",
       "    .dataframe tbody tr th:only-of-type {\n",
       "        vertical-align: middle;\n",
       "    }\n",
       "\n",
       "    .dataframe tbody tr th {\n",
       "        vertical-align: top;\n",
       "    }\n",
       "\n",
       "    .dataframe thead th {\n",
       "        text-align: right;\n",
       "    }\n",
       "</style>\n",
       "<table border=\"1\" class=\"dataframe\">\n",
       "  <thead>\n",
       "    <tr style=\"text-align: right;\">\n",
       "      <th></th>\n",
       "      <th>R</th>\n",
       "      <th>T</th>\n",
       "      <th>ml_outcomes</th>\n",
       "      <th>T_minority</th>\n",
       "      <th>T_majority</th>\n",
       "      <th>Y</th>\n",
       "    </tr>\n",
       "  </thead>\n",
       "  <tbody>\n",
       "    <tr>\n",
       "      <th>999835</th>\n",
       "      <td>0</td>\n",
       "      <td>11</td>\n",
       "      <td>0.00</td>\n",
       "      <td>11</td>\n",
       "      <td>11</td>\n",
       "      <td>0</td>\n",
       "    </tr>\n",
       "    <tr>\n",
       "      <th>999838</th>\n",
       "      <td>0</td>\n",
       "      <td>11</td>\n",
       "      <td>0.00</td>\n",
       "      <td>7</td>\n",
       "      <td>11</td>\n",
       "      <td>0</td>\n",
       "    </tr>\n",
       "    <tr>\n",
       "      <th>999837</th>\n",
       "      <td>0</td>\n",
       "      <td>11</td>\n",
       "      <td>0.00</td>\n",
       "      <td>8</td>\n",
       "      <td>11</td>\n",
       "      <td>0</td>\n",
       "    </tr>\n",
       "    <tr>\n",
       "      <th>999836</th>\n",
       "      <td>0</td>\n",
       "      <td>11</td>\n",
       "      <td>0.00</td>\n",
       "      <td>11</td>\n",
       "      <td>11</td>\n",
       "      <td>0</td>\n",
       "    </tr>\n",
       "    <tr>\n",
       "      <th>999886</th>\n",
       "      <td>0</td>\n",
       "      <td>12</td>\n",
       "      <td>0.02</td>\n",
       "      <td>11</td>\n",
       "      <td>12</td>\n",
       "      <td>0</td>\n",
       "    </tr>\n",
       "    <tr>\n",
       "      <th>...</th>\n",
       "      <td>...</td>\n",
       "      <td>...</td>\n",
       "      <td>...</td>\n",
       "      <td>...</td>\n",
       "      <td>...</td>\n",
       "      <td>...</td>\n",
       "    </tr>\n",
       "    <tr>\n",
       "      <th>999913</th>\n",
       "      <td>1</td>\n",
       "      <td>98</td>\n",
       "      <td>1.25</td>\n",
       "      <td>98</td>\n",
       "      <td>115</td>\n",
       "      <td>1</td>\n",
       "    </tr>\n",
       "    <tr>\n",
       "      <th>999914</th>\n",
       "      <td>1</td>\n",
       "      <td>98</td>\n",
       "      <td>1.25</td>\n",
       "      <td>98</td>\n",
       "      <td>115</td>\n",
       "      <td>1</td>\n",
       "    </tr>\n",
       "    <tr>\n",
       "      <th>999925</th>\n",
       "      <td>1</td>\n",
       "      <td>109</td>\n",
       "      <td>1.25</td>\n",
       "      <td>109</td>\n",
       "      <td>126</td>\n",
       "      <td>1</td>\n",
       "    </tr>\n",
       "    <tr>\n",
       "      <th>998845</th>\n",
       "      <td>1</td>\n",
       "      <td>97</td>\n",
       "      <td>1.25</td>\n",
       "      <td>97</td>\n",
       "      <td>112</td>\n",
       "      <td>1</td>\n",
       "    </tr>\n",
       "    <tr>\n",
       "      <th>998844</th>\n",
       "      <td>1</td>\n",
       "      <td>97</td>\n",
       "      <td>1.25</td>\n",
       "      <td>97</td>\n",
       "      <td>112</td>\n",
       "      <td>1</td>\n",
       "    </tr>\n",
       "  </tbody>\n",
       "</table>\n",
       "<p>999999 rows × 6 columns</p>\n",
       "</div>"
      ],
      "text/plain": [
       "        R    T  ml_outcomes  T_minority  T_majority  Y\n",
       "999835  0   11         0.00          11          11  0\n",
       "999838  0   11         0.00           7          11  0\n",
       "999837  0   11         0.00           8          11  0\n",
       "999836  0   11         0.00          11          11  0\n",
       "999886  0   12         0.02          11          12  0\n",
       "...    ..  ...          ...         ...         ... ..\n",
       "999913  1   98         1.25          98         115  1\n",
       "999914  1   98         1.25          98         115  1\n",
       "999925  1  109         1.25         109         126  1\n",
       "998845  1   97         1.25          97         112  1\n",
       "998844  1   97         1.25          97         112  1\n",
       "\n",
       "[999999 rows x 6 columns]"
      ]
     },
     "execution_count": 5,
     "metadata": {},
     "output_type": "execute_result"
    }
   ],
   "source": [
    "##\n",
    "# R = race, T = test score, ml_outcomes = expected utility from admitting, \n",
    "# ml_outcomes_{} counterfactual utility given race \n",
    "##\n",
    "\n",
    "df[['R','T','ml_outcomes','T_minority','T_majority','Y']].sort_values(by='ml_outcomes')\n",
    "\n"
   ]
  },
  {
   "cell_type": "code",
   "execution_count": 6,
   "metadata": {
    "execution": {
     "iopub.execute_input": "2022-12-12T05:24:12.821396Z",
     "iopub.status.busy": "2022-12-12T05:24:12.820854Z",
     "iopub.status.idle": "2022-12-12T05:24:12.850879Z",
     "shell.execute_reply": "2022-12-12T05:24:12.850623Z"
    }
   },
   "outputs": [],
   "source": [
    "###\n",
    "## Get total utility from admitting people in a stratum \n",
    "###\n",
    "\n",
    "df_ = df[['R','T','ml_outcomes']].groupby(['R','T']).sum().reset_index()"
   ]
  },
  {
   "cell_type": "code",
   "execution_count": 7,
   "metadata": {
    "execution": {
     "iopub.execute_input": "2022-12-12T05:24:12.886253Z",
     "iopub.status.busy": "2022-12-12T05:24:12.885805Z",
     "iopub.status.idle": "2022-12-12T05:24:12.913661Z",
     "shell.execute_reply": "2022-12-12T05:24:12.913915Z"
    }
   },
   "outputs": [],
   "source": [
    "###\n",
    "## Get number of people in each stratum\n",
    "###\n",
    "\n",
    "df_count = df[['R','T','ml_outcomes']].groupby(['R','T']).count().reset_index()\n",
    "df_count.columns = ['R','T','Count']\n",
    "df_count['N'] = df_count['Count']"
   ]
  },
  {
   "cell_type": "code",
   "execution_count": 8,
   "metadata": {
    "execution": {
     "iopub.execute_input": "2022-12-12T05:24:12.920117Z",
     "iopub.status.busy": "2022-12-12T05:24:12.919503Z",
     "iopub.status.idle": "2022-12-12T05:24:12.951803Z",
     "shell.execute_reply": "2022-12-12T05:24:12.952098Z"
    }
   },
   "outputs": [],
   "source": [
    "###\n",
    "## Get boards passage probability in each stratum\n",
    "###\n",
    "\n",
    "df_prob = df[['R','T','Y']].groupby(['R','T']).mean().reset_index()\n",
    "df_prob.columns = ['R','T','ml_outcomes_prob']\n",
    "\n",
    "#df_prob = df[['R','T','ml_outcomes_prob']]"
   ]
  },
  {
   "cell_type": "code",
   "execution_count": null,
   "metadata": {},
   "outputs": [],
   "source": []
  },
  {
   "cell_type": "code",
   "execution_count": 9,
   "metadata": {
    "execution": {
     "iopub.execute_input": "2022-12-12T05:24:12.958710Z",
     "iopub.status.busy": "2022-12-12T05:24:12.958319Z",
     "iopub.status.idle": "2022-12-12T05:24:12.959680Z",
     "shell.execute_reply": "2022-12-12T05:24:12.959969Z"
    }
   },
   "outputs": [],
   "source": [
    "###\n",
    "## Merge summary tables to get one table with Race, Test Score, SUM(Utility), COUNT(applicants), E(Y(1)|X )\n",
    "###\n",
    "\n",
    "dff = df_.merge(df_count[['N']],left_index=True,right_index=True)\n",
    "dff = dff.merge(df_prob[['ml_outcomes_prob']],left_index=True,right_index=True).sort_values(by='ml_outcomes',ascending=False).reset_index().sort_values(by='index').reset_index()\n",
    "\n"
   ]
  },
  {
   "cell_type": "code",
   "execution_count": 10,
   "metadata": {
    "execution": {
     "iopub.execute_input": "2022-12-12T05:24:12.965740Z",
     "iopub.status.busy": "2022-12-12T05:24:12.965153Z",
     "iopub.status.idle": "2022-12-12T05:24:12.969747Z",
     "shell.execute_reply": "2022-12-12T05:24:12.970078Z"
    }
   },
   "outputs": [
    {
     "data": {
      "text/html": [
       "<div>\n",
       "<style scoped>\n",
       "    .dataframe tbody tr th:only-of-type {\n",
       "        vertical-align: middle;\n",
       "    }\n",
       "\n",
       "    .dataframe tbody tr th {\n",
       "        vertical-align: top;\n",
       "    }\n",
       "\n",
       "    .dataframe thead th {\n",
       "        text-align: right;\n",
       "    }\n",
       "</style>\n",
       "<table border=\"1\" class=\"dataframe\">\n",
       "  <thead>\n",
       "    <tr style=\"text-align: right;\">\n",
       "      <th></th>\n",
       "      <th>level_0</th>\n",
       "      <th>index</th>\n",
       "      <th>R</th>\n",
       "      <th>T</th>\n",
       "      <th>ml_outcomes</th>\n",
       "      <th>N</th>\n",
       "      <th>ml_outcomes_prob</th>\n",
       "    </tr>\n",
       "  </thead>\n",
       "  <tbody>\n",
       "    <tr>\n",
       "      <th>0</th>\n",
       "      <td>218</td>\n",
       "      <td>0</td>\n",
       "      <td>0</td>\n",
       "      <td>9</td>\n",
       "      <td>0.10</td>\n",
       "      <td>1</td>\n",
       "      <td>0.0</td>\n",
       "    </tr>\n",
       "    <tr>\n",
       "      <th>120</th>\n",
       "      <td>217</td>\n",
       "      <td>120</td>\n",
       "      <td>1</td>\n",
       "      <td>8</td>\n",
       "      <td>0.32</td>\n",
       "      <td>1</td>\n",
       "      <td>0.0</td>\n",
       "    </tr>\n",
       "    <tr>\n",
       "      <th>121</th>\n",
       "      <td>207</td>\n",
       "      <td>121</td>\n",
       "      <td>1</td>\n",
       "      <td>9</td>\n",
       "      <td>1.00</td>\n",
       "      <td>4</td>\n",
       "      <td>0.0</td>\n",
       "    </tr>\n",
       "    <tr>\n",
       "      <th>122</th>\n",
       "      <td>194</td>\n",
       "      <td>122</td>\n",
       "      <td>1</td>\n",
       "      <td>10</td>\n",
       "      <td>2.73</td>\n",
       "      <td>7</td>\n",
       "      <td>0.0</td>\n",
       "    </tr>\n",
       "    <tr>\n",
       "      <th>125</th>\n",
       "      <td>189</td>\n",
       "      <td>125</td>\n",
       "      <td>1</td>\n",
       "      <td>13</td>\n",
       "      <td>3.90</td>\n",
       "      <td>13</td>\n",
       "      <td>0.0</td>\n",
       "    </tr>\n",
       "    <tr>\n",
       "      <th>...</th>\n",
       "      <td>...</td>\n",
       "      <td>...</td>\n",
       "      <td>...</td>\n",
       "      <td>...</td>\n",
       "      <td>...</td>\n",
       "      <td>...</td>\n",
       "      <td>...</td>\n",
       "    </tr>\n",
       "    <tr>\n",
       "      <th>113</th>\n",
       "      <td>192</td>\n",
       "      <td>113</td>\n",
       "      <td>0</td>\n",
       "      <td>122</td>\n",
       "      <td>3.00</td>\n",
       "      <td>3</td>\n",
       "      <td>1.0</td>\n",
       "    </tr>\n",
       "    <tr>\n",
       "      <th>114</th>\n",
       "      <td>200</td>\n",
       "      <td>114</td>\n",
       "      <td>0</td>\n",
       "      <td>123</td>\n",
       "      <td>2.00</td>\n",
       "      <td>2</td>\n",
       "      <td>1.0</td>\n",
       "    </tr>\n",
       "    <tr>\n",
       "      <th>116</th>\n",
       "      <td>199</td>\n",
       "      <td>116</td>\n",
       "      <td>0</td>\n",
       "      <td>125</td>\n",
       "      <td>2.00</td>\n",
       "      <td>2</td>\n",
       "      <td>1.0</td>\n",
       "    </tr>\n",
       "    <tr>\n",
       "      <th>107</th>\n",
       "      <td>185</td>\n",
       "      <td>107</td>\n",
       "      <td>0</td>\n",
       "      <td>116</td>\n",
       "      <td>7.00</td>\n",
       "      <td>7</td>\n",
       "      <td>1.0</td>\n",
       "    </tr>\n",
       "    <tr>\n",
       "      <th>221</th>\n",
       "      <td>206</td>\n",
       "      <td>221</td>\n",
       "      <td>1</td>\n",
       "      <td>116</td>\n",
       "      <td>1.25</td>\n",
       "      <td>1</td>\n",
       "      <td>1.0</td>\n",
       "    </tr>\n",
       "  </tbody>\n",
       "</table>\n",
       "<p>222 rows × 7 columns</p>\n",
       "</div>"
      ],
      "text/plain": [
       "     level_0  index  R    T  ml_outcomes   N  ml_outcomes_prob\n",
       "0        218      0  0    9         0.10   1               0.0\n",
       "120      217    120  1    8         0.32   1               0.0\n",
       "121      207    121  1    9         1.00   4               0.0\n",
       "122      194    122  1   10         2.73   7               0.0\n",
       "125      189    125  1   13         3.90  13               0.0\n",
       "..       ...    ... ..  ...          ...  ..               ...\n",
       "113      192    113  0  122         3.00   3               1.0\n",
       "114      200    114  0  123         2.00   2               1.0\n",
       "116      199    116  0  125         2.00   2               1.0\n",
       "107      185    107  0  116         7.00   7               1.0\n",
       "221      206    221  1  116         1.25   1               1.0\n",
       "\n",
       "[222 rows x 7 columns]"
      ]
     },
     "execution_count": 10,
     "metadata": {},
     "output_type": "execute_result"
    }
   ],
   "source": [
    "# final info table\n",
    "dff.sort_values(by='ml_outcomes_prob')"
   ]
  },
  {
   "cell_type": "code",
   "execution_count": 11,
   "metadata": {
    "execution": {
     "iopub.execute_input": "2022-12-12T05:24:12.973164Z",
     "iopub.status.busy": "2022-12-12T05:24:12.972749Z",
     "iopub.status.idle": "2022-12-12T05:24:12.974133Z",
     "shell.execute_reply": "2022-12-12T05:24:12.974425Z"
    }
   },
   "outputs": [],
   "source": [
    "dff['Pr(X=X_j)'] = dff['N']/(dff['N']).sum()"
   ]
  },
  {
   "cell_type": "code",
   "execution_count": 12,
   "metadata": {
    "execution": {
     "iopub.execute_input": "2022-12-12T05:24:12.982663Z",
     "iopub.status.busy": "2022-12-12T05:24:12.982287Z",
     "iopub.status.idle": "2022-12-12T05:24:12.983935Z",
     "shell.execute_reply": "2022-12-12T05:24:12.984293Z"
    }
   },
   "outputs": [
    {
     "data": {
      "text/html": [
       "<div>\n",
       "<style scoped>\n",
       "    .dataframe tbody tr th:only-of-type {\n",
       "        vertical-align: middle;\n",
       "    }\n",
       "\n",
       "    .dataframe tbody tr th {\n",
       "        vertical-align: top;\n",
       "    }\n",
       "\n",
       "    .dataframe thead th {\n",
       "        text-align: right;\n",
       "    }\n",
       "</style>\n",
       "<table border=\"1\" class=\"dataframe\">\n",
       "  <thead>\n",
       "    <tr style=\"text-align: right;\">\n",
       "      <th></th>\n",
       "      <th>level_0</th>\n",
       "      <th>index</th>\n",
       "      <th>R</th>\n",
       "      <th>T</th>\n",
       "      <th>ml_outcomes</th>\n",
       "      <th>N</th>\n",
       "      <th>ml_outcomes_prob</th>\n",
       "      <th>Pr(X=X_j)</th>\n",
       "    </tr>\n",
       "  </thead>\n",
       "  <tbody>\n",
       "    <tr>\n",
       "      <th>119</th>\n",
       "      <td>215</td>\n",
       "      <td>119</td>\n",
       "      <td>1</td>\n",
       "      <td>7</td>\n",
       "      <td>0.50</td>\n",
       "      <td>2</td>\n",
       "      <td>0.0</td>\n",
       "      <td>0.000002</td>\n",
       "    </tr>\n",
       "    <tr>\n",
       "      <th>120</th>\n",
       "      <td>217</td>\n",
       "      <td>120</td>\n",
       "      <td>1</td>\n",
       "      <td>8</td>\n",
       "      <td>0.32</td>\n",
       "      <td>1</td>\n",
       "      <td>0.0</td>\n",
       "      <td>0.000001</td>\n",
       "    </tr>\n",
       "    <tr>\n",
       "      <th>121</th>\n",
       "      <td>207</td>\n",
       "      <td>121</td>\n",
       "      <td>1</td>\n",
       "      <td>9</td>\n",
       "      <td>1.00</td>\n",
       "      <td>4</td>\n",
       "      <td>0.0</td>\n",
       "      <td>0.000004</td>\n",
       "    </tr>\n",
       "    <tr>\n",
       "      <th>122</th>\n",
       "      <td>194</td>\n",
       "      <td>122</td>\n",
       "      <td>1</td>\n",
       "      <td>10</td>\n",
       "      <td>2.73</td>\n",
       "      <td>7</td>\n",
       "      <td>0.0</td>\n",
       "      <td>0.000007</td>\n",
       "    </tr>\n",
       "    <tr>\n",
       "      <th>123</th>\n",
       "      <td>214</td>\n",
       "      <td>123</td>\n",
       "      <td>1</td>\n",
       "      <td>11</td>\n",
       "      <td>0.52</td>\n",
       "      <td>2</td>\n",
       "      <td>0.5</td>\n",
       "      <td>0.000002</td>\n",
       "    </tr>\n",
       "    <tr>\n",
       "      <th>...</th>\n",
       "      <td>...</td>\n",
       "      <td>...</td>\n",
       "      <td>...</td>\n",
       "      <td>...</td>\n",
       "      <td>...</td>\n",
       "      <td>...</td>\n",
       "      <td>...</td>\n",
       "      <td>...</td>\n",
       "    </tr>\n",
       "    <tr>\n",
       "      <th>217</th>\n",
       "      <td>203</td>\n",
       "      <td>217</td>\n",
       "      <td>1</td>\n",
       "      <td>107</td>\n",
       "      <td>1.25</td>\n",
       "      <td>1</td>\n",
       "      <td>1.0</td>\n",
       "      <td>0.000001</td>\n",
       "    </tr>\n",
       "    <tr>\n",
       "      <th>218</th>\n",
       "      <td>204</td>\n",
       "      <td>218</td>\n",
       "      <td>1</td>\n",
       "      <td>109</td>\n",
       "      <td>1.25</td>\n",
       "      <td>1</td>\n",
       "      <td>1.0</td>\n",
       "      <td>0.000001</td>\n",
       "    </tr>\n",
       "    <tr>\n",
       "      <th>219</th>\n",
       "      <td>205</td>\n",
       "      <td>219</td>\n",
       "      <td>1</td>\n",
       "      <td>111</td>\n",
       "      <td>1.25</td>\n",
       "      <td>1</td>\n",
       "      <td>1.0</td>\n",
       "      <td>0.000001</td>\n",
       "    </tr>\n",
       "    <tr>\n",
       "      <th>220</th>\n",
       "      <td>212</td>\n",
       "      <td>220</td>\n",
       "      <td>1</td>\n",
       "      <td>113</td>\n",
       "      <td>0.92</td>\n",
       "      <td>1</td>\n",
       "      <td>1.0</td>\n",
       "      <td>0.000001</td>\n",
       "    </tr>\n",
       "    <tr>\n",
       "      <th>221</th>\n",
       "      <td>206</td>\n",
       "      <td>221</td>\n",
       "      <td>1</td>\n",
       "      <td>116</td>\n",
       "      <td>1.25</td>\n",
       "      <td>1</td>\n",
       "      <td>1.0</td>\n",
       "      <td>0.000001</td>\n",
       "    </tr>\n",
       "  </tbody>\n",
       "</table>\n",
       "<p>103 rows × 8 columns</p>\n",
       "</div>"
      ],
      "text/plain": [
       "     level_0  index  R    T  ml_outcomes  N  ml_outcomes_prob  Pr(X=X_j)\n",
       "119      215    119  1    7         0.50  2               0.0   0.000002\n",
       "120      217    120  1    8         0.32  1               0.0   0.000001\n",
       "121      207    121  1    9         1.00  4               0.0   0.000004\n",
       "122      194    122  1   10         2.73  7               0.0   0.000007\n",
       "123      214    123  1   11         0.52  2               0.5   0.000002\n",
       "..       ...    ... ..  ...          ... ..               ...        ...\n",
       "217      203    217  1  107         1.25  1               1.0   0.000001\n",
       "218      204    218  1  109         1.25  1               1.0   0.000001\n",
       "219      205    219  1  111         1.25  1               1.0   0.000001\n",
       "220      212    220  1  113         0.92  1               1.0   0.000001\n",
       "221      206    221  1  116         1.25  1               1.0   0.000001\n",
       "\n",
       "[103 rows x 8 columns]"
      ]
     },
     "execution_count": 12,
     "metadata": {},
     "output_type": "execute_result"
    }
   ],
   "source": [
    "dff[dff['R']==1].sort_values(by='T')"
   ]
  },
  {
   "cell_type": "code",
   "execution_count": 13,
   "metadata": {
    "execution": {
     "iopub.execute_input": "2022-12-12T05:24:13.082348Z",
     "iopub.status.busy": "2022-12-12T05:24:13.068047Z",
     "iopub.status.idle": "2022-12-12T05:24:14.342682Z",
     "shell.execute_reply": "2022-12-12T05:24:14.342960Z"
    },
    "scrolled": true
   },
   "outputs": [
    {
     "name": "stdout",
     "output_type": "stream",
     "text": [
      "0.44 148658.77640573794\n",
      "0.45 146073.64251138366\n",
      "0.46 143323.27562669845\n",
      "0.47000000000000003 140412.8457978842\n",
      "0.48 137279.52144158276\n",
      "0.49 133909.64950645916\n",
      "0.5 130255.9629560271\n",
      "0.51 118933.38218049564\n",
      "0.52 106446.23523554557\n"
     ]
    }
   ],
   "source": [
    "df_decisions = None\n",
    "max_utility = -1.0\n",
    "\n",
    "for C_y in np.linspace(0.0,1.0,101):\n",
    "    dff['alpha_j'] = dff['Pr(X=X_j)']* (dff['ml_outcomes_prob'] - C_y)\n",
    "    solver = pywraplp.Solver.CreateSolver('GLOP')\n",
    "\n",
    "    \n",
    "    applicant_stratum = []\n",
    "    vars_cache = {}\n",
    "    alpha_j = {}\n",
    "    \n",
    "    # Objective: Maximize the expected utility of the admitted students\n",
    "    objective = solver.Objective()\n",
    "    \n",
    "    # For each stratum\n",
    "    for ix, row in dff.iterrows():\n",
    "        # probability of admission\n",
    "        numvar = solver.NumVar(0.0, 1.0, str(ix))\n",
    "        \n",
    "        # store variable by index, and also by stratum R, T\n",
    "        applicant_stratum.append(numvar)\n",
    "        vars_cache[(row['R'],row['T'])] = numvar\n",
    "        \n",
    "        alpha_j[(row['R'],row['T'])] = row['alpha_j']\n",
    "        \n",
    "        # Benefit of admitting people is total utility in that stratum\n",
    "        objective.SetCoefficient(applicant_stratum[ix], float(row['ml_outcomes']))\n",
    "        \n",
    "    objective.SetMaximization()\n",
    "\n",
    "    # Constraint: At most K applicants\n",
    "    K = int(len(df)*FRAC_ADMIT)\n",
    "    admit_quota = solver.Constraint(0, K)\n",
    "    \n",
    "    # Total admits cannot exceed K \n",
    "    for ix, row in dff.iterrows():\n",
    "        admit_quota.SetCoefficient(applicant_stratum[ix], float(row['N']))\n",
    "    \n",
    "    \n",
    "    sum_alpha = 0\n",
    "    R = 1 \n",
    "    \n",
    "    for T in list(dff[dff['R']==R]['T']):\n",
    "        sum_alpha+= alpha_j[(R,T)] \n",
    "        \n",
    "    cf_minority = solver.Constraint(sum_alpha, sum_alpha)\n",
    "    \n",
    "    for T in list(dff[dff['R']==R]['T']):    \n",
    "        cf_minority.SetCoefficient(vars_cache[(R,T)], alpha_j[(R,T)] )    \n",
    "    \n",
    "    sum_alpha = 0\n",
    "    R = 0\n",
    "    \n",
    "    for T in list(dff[dff['R']==R]['T']):\n",
    "        sum_alpha+= alpha_j[(R,T)] \n",
    "        \n",
    "    cf_majority = solver.Constraint(sum_alpha, sum_alpha)\n",
    "    \n",
    "    for T in list(dff[dff['R']==R]['T']):    \n",
    "        cf_majority.SetCoefficient(vars_cache[(R,T)], alpha_j[(R,T)] )\n",
    "        \n",
    "    status = solver.Solve()\n",
    "\n",
    "    if status != 2:\n",
    "        TOTAL_UTILITY = 0\n",
    "        for ix, row in dff.iterrows():\n",
    "            TOTAL_UTILITY += float(row['ml_outcomes'])* vars_cache[(row['R'],row['T'])].solution_value()\n",
    "        print(C_y,TOTAL_UTILITY)\n",
    "        \n",
    "        if TOTAL_UTILITY > max_utility:\n",
    "            row = []\n",
    "            admit = []\n",
    "        \n",
    "            for i in applicant_stratum:\n",
    "                row.append(int(str(i)))\n",
    "                admit.append(i.solution_value())\n",
    "            \n",
    "            df_decisions = pd.DataFrame({'row_id':row,'decision':admit})\n",
    "            \n",
    "            max_utility = TOTAL_UTILITY\n"
   ]
  },
  {
   "cell_type": "markdown",
   "metadata": {},
   "source": [
    "## Add CF Predictive Parity Constraints"
   ]
  },
  {
   "cell_type": "code",
   "execution_count": 14,
   "metadata": {
    "execution": {
     "iopub.execute_input": "2022-12-12T05:24:14.345941Z",
     "iopub.status.busy": "2022-12-12T05:24:14.345480Z",
     "iopub.status.idle": "2022-12-12T05:24:14.347261Z",
     "shell.execute_reply": "2022-12-12T05:24:14.347593Z"
    }
   },
   "outputs": [
    {
     "data": {
      "text/plain": [
       "148658.77640573794"
      ]
     },
     "execution_count": 14,
     "metadata": {},
     "output_type": "execute_result"
    }
   ],
   "source": [
    "max_utility"
   ]
  },
  {
   "cell_type": "code",
   "execution_count": 15,
   "metadata": {
    "execution": {
     "iopub.execute_input": "2022-12-12T05:24:14.357775Z",
     "iopub.status.busy": "2022-12-12T05:24:14.357340Z",
     "iopub.status.idle": "2022-12-12T05:24:14.359225Z",
     "shell.execute_reply": "2022-12-12T05:24:14.359586Z"
    }
   },
   "outputs": [
    {
     "data": {
      "text/html": [
       "<div>\n",
       "<style scoped>\n",
       "    .dataframe tbody tr th:only-of-type {\n",
       "        vertical-align: middle;\n",
       "    }\n",
       "\n",
       "    .dataframe tbody tr th {\n",
       "        vertical-align: top;\n",
       "    }\n",
       "\n",
       "    .dataframe thead th {\n",
       "        text-align: right;\n",
       "    }\n",
       "</style>\n",
       "<table border=\"1\" class=\"dataframe\">\n",
       "  <thead>\n",
       "    <tr style=\"text-align: right;\">\n",
       "      <th></th>\n",
       "      <th>level_0</th>\n",
       "      <th>index</th>\n",
       "      <th>R</th>\n",
       "      <th>T</th>\n",
       "      <th>ml_outcomes</th>\n",
       "      <th>N</th>\n",
       "      <th>ml_outcomes_prob</th>\n",
       "      <th>Pr(X=X_j)</th>\n",
       "      <th>alpha_j</th>\n",
       "      <th>row_id</th>\n",
       "      <th>decision</th>\n",
       "    </tr>\n",
       "  </thead>\n",
       "  <tbody>\n",
       "    <tr>\n",
       "      <th>49</th>\n",
       "      <td>0</td>\n",
       "      <td>49</td>\n",
       "      <td>0</td>\n",
       "      <td>58</td>\n",
       "      <td>11233.60</td>\n",
       "      <td>20060</td>\n",
       "      <td>0.565852</td>\n",
       "      <td>0.020060</td>\n",
       "      <td>-0.008709</td>\n",
       "      <td>49</td>\n",
       "      <td>0.0</td>\n",
       "    </tr>\n",
       "    <tr>\n",
       "      <th>50</th>\n",
       "      <td>1</td>\n",
       "      <td>50</td>\n",
       "      <td>0</td>\n",
       "      <td>59</td>\n",
       "      <td>11169.64</td>\n",
       "      <td>19258</td>\n",
       "      <td>0.576903</td>\n",
       "      <td>0.019258</td>\n",
       "      <td>-0.008148</td>\n",
       "      <td>50</td>\n",
       "      <td>0.0</td>\n",
       "    </tr>\n",
       "    <tr>\n",
       "      <th>48</th>\n",
       "      <td>2</td>\n",
       "      <td>48</td>\n",
       "      <td>0</td>\n",
       "      <td>57</td>\n",
       "      <td>11030.04</td>\n",
       "      <td>20426</td>\n",
       "      <td>0.548517</td>\n",
       "      <td>0.020426</td>\n",
       "      <td>-0.009222</td>\n",
       "      <td>48</td>\n",
       "      <td>0.0</td>\n",
       "    </tr>\n",
       "    <tr>\n",
       "      <th>47</th>\n",
       "      <td>3</td>\n",
       "      <td>47</td>\n",
       "      <td>0</td>\n",
       "      <td>56</td>\n",
       "      <td>10985.52</td>\n",
       "      <td>21126</td>\n",
       "      <td>0.524709</td>\n",
       "      <td>0.021126</td>\n",
       "      <td>-0.010041</td>\n",
       "      <td>47</td>\n",
       "      <td>0.0</td>\n",
       "    </tr>\n",
       "    <tr>\n",
       "      <th>51</th>\n",
       "      <td>4</td>\n",
       "      <td>51</td>\n",
       "      <td>0</td>\n",
       "      <td>60</td>\n",
       "      <td>10970.40</td>\n",
       "      <td>18284</td>\n",
       "      <td>0.601783</td>\n",
       "      <td>0.018284</td>\n",
       "      <td>-0.007281</td>\n",
       "      <td>51</td>\n",
       "      <td>0.0</td>\n",
       "    </tr>\n",
       "    <tr>\n",
       "      <th>...</th>\n",
       "      <td>...</td>\n",
       "      <td>...</td>\n",
       "      <td>...</td>\n",
       "      <td>...</td>\n",
       "      <td>...</td>\n",
       "      <td>...</td>\n",
       "      <td>...</td>\n",
       "      <td>...</td>\n",
       "      <td>...</td>\n",
       "      <td>...</td>\n",
       "      <td>...</td>\n",
       "    </tr>\n",
       "    <tr>\n",
       "      <th>120</th>\n",
       "      <td>217</td>\n",
       "      <td>120</td>\n",
       "      <td>1</td>\n",
       "      <td>8</td>\n",
       "      <td>0.32</td>\n",
       "      <td>1</td>\n",
       "      <td>0.000000</td>\n",
       "      <td>0.000001</td>\n",
       "      <td>-0.000001</td>\n",
       "      <td>120</td>\n",
       "      <td>1.0</td>\n",
       "    </tr>\n",
       "    <tr>\n",
       "      <th>0</th>\n",
       "      <td>218</td>\n",
       "      <td>0</td>\n",
       "      <td>0</td>\n",
       "      <td>9</td>\n",
       "      <td>0.10</td>\n",
       "      <td>1</td>\n",
       "      <td>0.000000</td>\n",
       "      <td>0.000001</td>\n",
       "      <td>-0.000001</td>\n",
       "      <td>0</td>\n",
       "      <td>0.0</td>\n",
       "    </tr>\n",
       "    <tr>\n",
       "      <th>1</th>\n",
       "      <td>219</td>\n",
       "      <td>1</td>\n",
       "      <td>0</td>\n",
       "      <td>10</td>\n",
       "      <td>0.08</td>\n",
       "      <td>1</td>\n",
       "      <td>0.000000</td>\n",
       "      <td>0.000001</td>\n",
       "      <td>-0.000001</td>\n",
       "      <td>1</td>\n",
       "      <td>0.0</td>\n",
       "    </tr>\n",
       "    <tr>\n",
       "      <th>3</th>\n",
       "      <td>220</td>\n",
       "      <td>3</td>\n",
       "      <td>0</td>\n",
       "      <td>12</td>\n",
       "      <td>0.08</td>\n",
       "      <td>4</td>\n",
       "      <td>0.000000</td>\n",
       "      <td>0.000004</td>\n",
       "      <td>-0.000004</td>\n",
       "      <td>3</td>\n",
       "      <td>0.0</td>\n",
       "    </tr>\n",
       "    <tr>\n",
       "      <th>2</th>\n",
       "      <td>221</td>\n",
       "      <td>2</td>\n",
       "      <td>0</td>\n",
       "      <td>11</td>\n",
       "      <td>0.00</td>\n",
       "      <td>4</td>\n",
       "      <td>0.000000</td>\n",
       "      <td>0.000004</td>\n",
       "      <td>-0.000004</td>\n",
       "      <td>2</td>\n",
       "      <td>0.0</td>\n",
       "    </tr>\n",
       "  </tbody>\n",
       "</table>\n",
       "<p>222 rows × 11 columns</p>\n",
       "</div>"
      ],
      "text/plain": [
       "     level_0  index  R   T  ml_outcomes      N  ml_outcomes_prob  Pr(X=X_j)  \\\n",
       "49         0     49  0  58     11233.60  20060          0.565852   0.020060   \n",
       "50         1     50  0  59     11169.64  19258          0.576903   0.019258   \n",
       "48         2     48  0  57     11030.04  20426          0.548517   0.020426   \n",
       "47         3     47  0  56     10985.52  21126          0.524709   0.021126   \n",
       "51         4     51  0  60     10970.40  18284          0.601783   0.018284   \n",
       "..       ...    ... ..  ..          ...    ...               ...        ...   \n",
       "120      217    120  1   8         0.32      1          0.000000   0.000001   \n",
       "0        218      0  0   9         0.10      1          0.000000   0.000001   \n",
       "1        219      1  0  10         0.08      1          0.000000   0.000001   \n",
       "3        220      3  0  12         0.08      4          0.000000   0.000004   \n",
       "2        221      2  0  11         0.00      4          0.000000   0.000004   \n",
       "\n",
       "      alpha_j  row_id  decision  \n",
       "49  -0.008709      49       0.0  \n",
       "50  -0.008148      50       0.0  \n",
       "48  -0.009222      48       0.0  \n",
       "47  -0.010041      47       0.0  \n",
       "51  -0.007281      51       0.0  \n",
       "..        ...     ...       ...  \n",
       "120 -0.000001     120       1.0  \n",
       "0   -0.000001       0       0.0  \n",
       "1   -0.000001       1       0.0  \n",
       "3   -0.000004       3       0.0  \n",
       "2   -0.000004       2       0.0  \n",
       "\n",
       "[222 rows x 11 columns]"
      ]
     },
     "execution_count": 15,
     "metadata": {},
     "output_type": "execute_result"
    }
   ],
   "source": [
    "dff.merge(df_decisions,left_index=True,right_index=True).sort_values(by='ml_outcomes',ascending=False)"
   ]
  },
  {
   "cell_type": "code",
   "execution_count": 16,
   "metadata": {
    "execution": {
     "iopub.execute_input": "2022-12-12T05:24:14.370138Z",
     "iopub.status.busy": "2022-12-12T05:24:14.369670Z",
     "iopub.status.idle": "2022-12-12T05:24:14.371687Z",
     "shell.execute_reply": "2022-12-12T05:24:14.371949Z"
    }
   },
   "outputs": [
    {
     "data": {
      "text/html": [
       "<div>\n",
       "<style scoped>\n",
       "    .dataframe tbody tr th:only-of-type {\n",
       "        vertical-align: middle;\n",
       "    }\n",
       "\n",
       "    .dataframe tbody tr th {\n",
       "        vertical-align: top;\n",
       "    }\n",
       "\n",
       "    .dataframe thead th {\n",
       "        text-align: right;\n",
       "    }\n",
       "</style>\n",
       "<table border=\"1\" class=\"dataframe\">\n",
       "  <thead>\n",
       "    <tr style=\"text-align: right;\">\n",
       "      <th></th>\n",
       "      <th>level_0</th>\n",
       "      <th>index</th>\n",
       "      <th>R</th>\n",
       "      <th>T</th>\n",
       "      <th>ml_outcomes</th>\n",
       "      <th>N</th>\n",
       "      <th>ml_outcomes_prob</th>\n",
       "      <th>Pr(X=X_j)</th>\n",
       "      <th>alpha_j</th>\n",
       "      <th>row_id</th>\n",
       "      <th>decision</th>\n",
       "    </tr>\n",
       "  </thead>\n",
       "  <tbody>\n",
       "    <tr>\n",
       "      <th>119</th>\n",
       "      <td>215</td>\n",
       "      <td>119</td>\n",
       "      <td>1</td>\n",
       "      <td>7</td>\n",
       "      <td>0.50</td>\n",
       "      <td>2</td>\n",
       "      <td>0.0</td>\n",
       "      <td>0.000002</td>\n",
       "      <td>-0.000002</td>\n",
       "      <td>119</td>\n",
       "      <td>1.0</td>\n",
       "    </tr>\n",
       "    <tr>\n",
       "      <th>120</th>\n",
       "      <td>217</td>\n",
       "      <td>120</td>\n",
       "      <td>1</td>\n",
       "      <td>8</td>\n",
       "      <td>0.32</td>\n",
       "      <td>1</td>\n",
       "      <td>0.0</td>\n",
       "      <td>0.000001</td>\n",
       "      <td>-0.000001</td>\n",
       "      <td>120</td>\n",
       "      <td>1.0</td>\n",
       "    </tr>\n",
       "    <tr>\n",
       "      <th>0</th>\n",
       "      <td>218</td>\n",
       "      <td>0</td>\n",
       "      <td>0</td>\n",
       "      <td>9</td>\n",
       "      <td>0.10</td>\n",
       "      <td>1</td>\n",
       "      <td>0.0</td>\n",
       "      <td>0.000001</td>\n",
       "      <td>-0.000001</td>\n",
       "      <td>0</td>\n",
       "      <td>0.0</td>\n",
       "    </tr>\n",
       "    <tr>\n",
       "      <th>121</th>\n",
       "      <td>207</td>\n",
       "      <td>121</td>\n",
       "      <td>1</td>\n",
       "      <td>9</td>\n",
       "      <td>1.00</td>\n",
       "      <td>4</td>\n",
       "      <td>0.0</td>\n",
       "      <td>0.000004</td>\n",
       "      <td>-0.000004</td>\n",
       "      <td>121</td>\n",
       "      <td>1.0</td>\n",
       "    </tr>\n",
       "    <tr>\n",
       "      <th>1</th>\n",
       "      <td>219</td>\n",
       "      <td>1</td>\n",
       "      <td>0</td>\n",
       "      <td>10</td>\n",
       "      <td>0.08</td>\n",
       "      <td>1</td>\n",
       "      <td>0.0</td>\n",
       "      <td>0.000001</td>\n",
       "      <td>-0.000001</td>\n",
       "      <td>1</td>\n",
       "      <td>0.0</td>\n",
       "    </tr>\n",
       "    <tr>\n",
       "      <th>...</th>\n",
       "      <td>...</td>\n",
       "      <td>...</td>\n",
       "      <td>...</td>\n",
       "      <td>...</td>\n",
       "      <td>...</td>\n",
       "      <td>...</td>\n",
       "      <td>...</td>\n",
       "      <td>...</td>\n",
       "      <td>...</td>\n",
       "      <td>...</td>\n",
       "      <td>...</td>\n",
       "    </tr>\n",
       "    <tr>\n",
       "      <th>114</th>\n",
       "      <td>200</td>\n",
       "      <td>114</td>\n",
       "      <td>0</td>\n",
       "      <td>123</td>\n",
       "      <td>2.00</td>\n",
       "      <td>2</td>\n",
       "      <td>1.0</td>\n",
       "      <td>0.000002</td>\n",
       "      <td>0.000000</td>\n",
       "      <td>114</td>\n",
       "      <td>1.0</td>\n",
       "    </tr>\n",
       "    <tr>\n",
       "      <th>115</th>\n",
       "      <td>209</td>\n",
       "      <td>115</td>\n",
       "      <td>0</td>\n",
       "      <td>124</td>\n",
       "      <td>1.00</td>\n",
       "      <td>1</td>\n",
       "      <td>0.0</td>\n",
       "      <td>0.000001</td>\n",
       "      <td>-0.000001</td>\n",
       "      <td>115</td>\n",
       "      <td>1.0</td>\n",
       "    </tr>\n",
       "    <tr>\n",
       "      <th>116</th>\n",
       "      <td>199</td>\n",
       "      <td>116</td>\n",
       "      <td>0</td>\n",
       "      <td>125</td>\n",
       "      <td>2.00</td>\n",
       "      <td>2</td>\n",
       "      <td>1.0</td>\n",
       "      <td>0.000002</td>\n",
       "      <td>0.000000</td>\n",
       "      <td>116</td>\n",
       "      <td>1.0</td>\n",
       "    </tr>\n",
       "    <tr>\n",
       "      <th>117</th>\n",
       "      <td>208</td>\n",
       "      <td>117</td>\n",
       "      <td>0</td>\n",
       "      <td>127</td>\n",
       "      <td>1.00</td>\n",
       "      <td>1</td>\n",
       "      <td>1.0</td>\n",
       "      <td>0.000001</td>\n",
       "      <td>0.000000</td>\n",
       "      <td>117</td>\n",
       "      <td>1.0</td>\n",
       "    </tr>\n",
       "    <tr>\n",
       "      <th>118</th>\n",
       "      <td>198</td>\n",
       "      <td>118</td>\n",
       "      <td>0</td>\n",
       "      <td>128</td>\n",
       "      <td>2.00</td>\n",
       "      <td>2</td>\n",
       "      <td>1.0</td>\n",
       "      <td>0.000002</td>\n",
       "      <td>0.000000</td>\n",
       "      <td>118</td>\n",
       "      <td>1.0</td>\n",
       "    </tr>\n",
       "  </tbody>\n",
       "</table>\n",
       "<p>222 rows × 11 columns</p>\n",
       "</div>"
      ],
      "text/plain": [
       "     level_0  index  R    T  ml_outcomes  N  ml_outcomes_prob  Pr(X=X_j)  \\\n",
       "119      215    119  1    7         0.50  2               0.0   0.000002   \n",
       "120      217    120  1    8         0.32  1               0.0   0.000001   \n",
       "0        218      0  0    9         0.10  1               0.0   0.000001   \n",
       "121      207    121  1    9         1.00  4               0.0   0.000004   \n",
       "1        219      1  0   10         0.08  1               0.0   0.000001   \n",
       "..       ...    ... ..  ...          ... ..               ...        ...   \n",
       "114      200    114  0  123         2.00  2               1.0   0.000002   \n",
       "115      209    115  0  124         1.00  1               0.0   0.000001   \n",
       "116      199    116  0  125         2.00  2               1.0   0.000002   \n",
       "117      208    117  0  127         1.00  1               1.0   0.000001   \n",
       "118      198    118  0  128         2.00  2               1.0   0.000002   \n",
       "\n",
       "      alpha_j  row_id  decision  \n",
       "119 -0.000002     119       1.0  \n",
       "120 -0.000001     120       1.0  \n",
       "0   -0.000001       0       0.0  \n",
       "121 -0.000004     121       1.0  \n",
       "1   -0.000001       1       0.0  \n",
       "..        ...     ...       ...  \n",
       "114  0.000000     114       1.0  \n",
       "115 -0.000001     115       1.0  \n",
       "116  0.000000     116       1.0  \n",
       "117  0.000000     117       1.0  \n",
       "118  0.000000     118       1.0  \n",
       "\n",
       "[222 rows x 11 columns]"
      ]
     },
     "execution_count": 16,
     "metadata": {},
     "output_type": "execute_result"
    }
   ],
   "source": [
    "xxx_ = dff.merge(df_decisions,left_index=True,right_index=True).sort_values(by='ml_outcomes',ascending=False)\n",
    "xxx_.sort_values(by='T')"
   ]
  },
  {
   "cell_type": "code",
   "execution_count": 17,
   "metadata": {
    "execution": {
     "iopub.execute_input": "2022-12-12T05:24:14.381845Z",
     "iopub.status.busy": "2022-12-12T05:24:14.381362Z",
     "iopub.status.idle": "2022-12-12T05:24:14.383372Z",
     "shell.execute_reply": "2022-12-12T05:24:14.383640Z"
    }
   },
   "outputs": [
    {
     "data": {
      "text/html": [
       "<div>\n",
       "<style scoped>\n",
       "    .dataframe tbody tr th:only-of-type {\n",
       "        vertical-align: middle;\n",
       "    }\n",
       "\n",
       "    .dataframe tbody tr th {\n",
       "        vertical-align: top;\n",
       "    }\n",
       "\n",
       "    .dataframe thead th {\n",
       "        text-align: right;\n",
       "    }\n",
       "</style>\n",
       "<table border=\"1\" class=\"dataframe\">\n",
       "  <thead>\n",
       "    <tr style=\"text-align: right;\">\n",
       "      <th></th>\n",
       "      <th>level_0</th>\n",
       "      <th>index</th>\n",
       "      <th>R</th>\n",
       "      <th>T</th>\n",
       "      <th>ml_outcomes</th>\n",
       "      <th>N</th>\n",
       "      <th>ml_outcomes_prob</th>\n",
       "      <th>Pr(X=X_j)</th>\n",
       "      <th>alpha_j</th>\n",
       "      <th>row_id</th>\n",
       "      <th>decision</th>\n",
       "    </tr>\n",
       "  </thead>\n",
       "  <tbody>\n",
       "    <tr>\n",
       "      <th>49</th>\n",
       "      <td>0</td>\n",
       "      <td>49</td>\n",
       "      <td>0</td>\n",
       "      <td>58</td>\n",
       "      <td>11233.60</td>\n",
       "      <td>20060</td>\n",
       "      <td>0.565852</td>\n",
       "      <td>0.020060</td>\n",
       "      <td>-0.008709</td>\n",
       "      <td>49</td>\n",
       "      <td>0.0</td>\n",
       "    </tr>\n",
       "    <tr>\n",
       "      <th>50</th>\n",
       "      <td>1</td>\n",
       "      <td>50</td>\n",
       "      <td>0</td>\n",
       "      <td>59</td>\n",
       "      <td>11169.64</td>\n",
       "      <td>19258</td>\n",
       "      <td>0.576903</td>\n",
       "      <td>0.019258</td>\n",
       "      <td>-0.008148</td>\n",
       "      <td>50</td>\n",
       "      <td>0.0</td>\n",
       "    </tr>\n",
       "    <tr>\n",
       "      <th>48</th>\n",
       "      <td>2</td>\n",
       "      <td>48</td>\n",
       "      <td>0</td>\n",
       "      <td>57</td>\n",
       "      <td>11030.04</td>\n",
       "      <td>20426</td>\n",
       "      <td>0.548517</td>\n",
       "      <td>0.020426</td>\n",
       "      <td>-0.009222</td>\n",
       "      <td>48</td>\n",
       "      <td>0.0</td>\n",
       "    </tr>\n",
       "    <tr>\n",
       "      <th>47</th>\n",
       "      <td>3</td>\n",
       "      <td>47</td>\n",
       "      <td>0</td>\n",
       "      <td>56</td>\n",
       "      <td>10985.52</td>\n",
       "      <td>21126</td>\n",
       "      <td>0.524709</td>\n",
       "      <td>0.021126</td>\n",
       "      <td>-0.010041</td>\n",
       "      <td>47</td>\n",
       "      <td>0.0</td>\n",
       "    </tr>\n",
       "    <tr>\n",
       "      <th>51</th>\n",
       "      <td>4</td>\n",
       "      <td>51</td>\n",
       "      <td>0</td>\n",
       "      <td>60</td>\n",
       "      <td>10970.40</td>\n",
       "      <td>18284</td>\n",
       "      <td>0.601783</td>\n",
       "      <td>0.018284</td>\n",
       "      <td>-0.007281</td>\n",
       "      <td>51</td>\n",
       "      <td>0.0</td>\n",
       "    </tr>\n",
       "    <tr>\n",
       "      <th>...</th>\n",
       "      <td>...</td>\n",
       "      <td>...</td>\n",
       "      <td>...</td>\n",
       "      <td>...</td>\n",
       "      <td>...</td>\n",
       "      <td>...</td>\n",
       "      <td>...</td>\n",
       "      <td>...</td>\n",
       "      <td>...</td>\n",
       "      <td>...</td>\n",
       "      <td>...</td>\n",
       "    </tr>\n",
       "    <tr>\n",
       "      <th>120</th>\n",
       "      <td>217</td>\n",
       "      <td>120</td>\n",
       "      <td>1</td>\n",
       "      <td>8</td>\n",
       "      <td>0.32</td>\n",
       "      <td>1</td>\n",
       "      <td>0.000000</td>\n",
       "      <td>0.000001</td>\n",
       "      <td>-0.000001</td>\n",
       "      <td>120</td>\n",
       "      <td>1.0</td>\n",
       "    </tr>\n",
       "    <tr>\n",
       "      <th>0</th>\n",
       "      <td>218</td>\n",
       "      <td>0</td>\n",
       "      <td>0</td>\n",
       "      <td>9</td>\n",
       "      <td>0.10</td>\n",
       "      <td>1</td>\n",
       "      <td>0.000000</td>\n",
       "      <td>0.000001</td>\n",
       "      <td>-0.000001</td>\n",
       "      <td>0</td>\n",
       "      <td>0.0</td>\n",
       "    </tr>\n",
       "    <tr>\n",
       "      <th>1</th>\n",
       "      <td>219</td>\n",
       "      <td>1</td>\n",
       "      <td>0</td>\n",
       "      <td>10</td>\n",
       "      <td>0.08</td>\n",
       "      <td>1</td>\n",
       "      <td>0.000000</td>\n",
       "      <td>0.000001</td>\n",
       "      <td>-0.000001</td>\n",
       "      <td>1</td>\n",
       "      <td>0.0</td>\n",
       "    </tr>\n",
       "    <tr>\n",
       "      <th>3</th>\n",
       "      <td>220</td>\n",
       "      <td>3</td>\n",
       "      <td>0</td>\n",
       "      <td>12</td>\n",
       "      <td>0.08</td>\n",
       "      <td>4</td>\n",
       "      <td>0.000000</td>\n",
       "      <td>0.000004</td>\n",
       "      <td>-0.000004</td>\n",
       "      <td>3</td>\n",
       "      <td>0.0</td>\n",
       "    </tr>\n",
       "    <tr>\n",
       "      <th>2</th>\n",
       "      <td>221</td>\n",
       "      <td>2</td>\n",
       "      <td>0</td>\n",
       "      <td>11</td>\n",
       "      <td>0.00</td>\n",
       "      <td>4</td>\n",
       "      <td>0.000000</td>\n",
       "      <td>0.000004</td>\n",
       "      <td>-0.000004</td>\n",
       "      <td>2</td>\n",
       "      <td>0.0</td>\n",
       "    </tr>\n",
       "  </tbody>\n",
       "</table>\n",
       "<p>222 rows × 11 columns</p>\n",
       "</div>"
      ],
      "text/plain": [
       "     level_0  index  R   T  ml_outcomes      N  ml_outcomes_prob  Pr(X=X_j)  \\\n",
       "49         0     49  0  58     11233.60  20060          0.565852   0.020060   \n",
       "50         1     50  0  59     11169.64  19258          0.576903   0.019258   \n",
       "48         2     48  0  57     11030.04  20426          0.548517   0.020426   \n",
       "47         3     47  0  56     10985.52  21126          0.524709   0.021126   \n",
       "51         4     51  0  60     10970.40  18284          0.601783   0.018284   \n",
       "..       ...    ... ..  ..          ...    ...               ...        ...   \n",
       "120      217    120  1   8         0.32      1          0.000000   0.000001   \n",
       "0        218      0  0   9         0.10      1          0.000000   0.000001   \n",
       "1        219      1  0  10         0.08      1          0.000000   0.000001   \n",
       "3        220      3  0  12         0.08      4          0.000000   0.000004   \n",
       "2        221      2  0  11         0.00      4          0.000000   0.000004   \n",
       "\n",
       "      alpha_j  row_id  decision  \n",
       "49  -0.008709      49       0.0  \n",
       "50  -0.008148      50       0.0  \n",
       "48  -0.009222      48       0.0  \n",
       "47  -0.010041      47       0.0  \n",
       "51  -0.007281      51       0.0  \n",
       "..        ...     ...       ...  \n",
       "120 -0.000001     120       1.0  \n",
       "0   -0.000001       0       0.0  \n",
       "1   -0.000001       1       0.0  \n",
       "3   -0.000004       3       0.0  \n",
       "2   -0.000004       2       0.0  \n",
       "\n",
       "[222 rows x 11 columns]"
      ]
     },
     "execution_count": 17,
     "metadata": {},
     "output_type": "execute_result"
    }
   ],
   "source": [
    "xxx = dff.merge(df_decisions,left_index=True,right_index=True).sort_values(by='ml_outcomes',ascending=False)\n",
    "xxx"
   ]
  },
  {
   "cell_type": "code",
   "execution_count": 18,
   "metadata": {
    "execution": {
     "iopub.execute_input": "2022-12-12T05:24:14.386395Z",
     "iopub.status.busy": "2022-12-12T05:24:14.386003Z",
     "iopub.status.idle": "2022-12-12T05:24:14.387754Z",
     "shell.execute_reply": "2022-12-12T05:24:14.388050Z"
    }
   },
   "outputs": [
    {
     "data": {
      "text/plain": [
       "222"
      ]
     },
     "execution_count": 18,
     "metadata": {},
     "output_type": "execute_result"
    }
   ],
   "source": [
    "len(xxx_)"
   ]
  },
  {
   "cell_type": "code",
   "execution_count": null,
   "metadata": {},
   "outputs": [],
   "source": []
  },
  {
   "cell_type": "code",
   "execution_count": null,
   "metadata": {},
   "outputs": [],
   "source": []
  },
  {
   "cell_type": "code",
   "execution_count": 19,
   "metadata": {
    "execution": {
     "iopub.execute_input": "2022-12-12T05:24:14.396906Z",
     "iopub.status.busy": "2022-12-12T05:24:14.396479Z",
     "iopub.status.idle": "2022-12-12T05:24:14.398217Z",
     "shell.execute_reply": "2022-12-12T05:24:14.398475Z"
    }
   },
   "outputs": [
    {
     "data": {
      "text/html": [
       "<div>\n",
       "<style scoped>\n",
       "    .dataframe tbody tr th:only-of-type {\n",
       "        vertical-align: middle;\n",
       "    }\n",
       "\n",
       "    .dataframe tbody tr th {\n",
       "        vertical-align: top;\n",
       "    }\n",
       "\n",
       "    .dataframe thead th {\n",
       "        text-align: right;\n",
       "    }\n",
       "</style>\n",
       "<table border=\"1\" class=\"dataframe\">\n",
       "  <thead>\n",
       "    <tr style=\"text-align: right;\">\n",
       "      <th></th>\n",
       "      <th>level_0</th>\n",
       "      <th>index</th>\n",
       "      <th>R</th>\n",
       "      <th>T</th>\n",
       "      <th>ml_outcomes</th>\n",
       "      <th>N</th>\n",
       "      <th>ml_outcomes_prob</th>\n",
       "      <th>Pr(X=X_j)</th>\n",
       "      <th>alpha_j</th>\n",
       "      <th>row_id</th>\n",
       "      <th>decision</th>\n",
       "    </tr>\n",
       "  </thead>\n",
       "  <tbody>\n",
       "    <tr>\n",
       "      <th>49</th>\n",
       "      <td>0</td>\n",
       "      <td>49</td>\n",
       "      <td>0</td>\n",
       "      <td>58</td>\n",
       "      <td>11233.60</td>\n",
       "      <td>20060</td>\n",
       "      <td>0.565852</td>\n",
       "      <td>0.020060</td>\n",
       "      <td>-0.008709</td>\n",
       "      <td>49</td>\n",
       "      <td>0.0</td>\n",
       "    </tr>\n",
       "    <tr>\n",
       "      <th>50</th>\n",
       "      <td>1</td>\n",
       "      <td>50</td>\n",
       "      <td>0</td>\n",
       "      <td>59</td>\n",
       "      <td>11169.64</td>\n",
       "      <td>19258</td>\n",
       "      <td>0.576903</td>\n",
       "      <td>0.019258</td>\n",
       "      <td>-0.008148</td>\n",
       "      <td>50</td>\n",
       "      <td>0.0</td>\n",
       "    </tr>\n",
       "    <tr>\n",
       "      <th>48</th>\n",
       "      <td>2</td>\n",
       "      <td>48</td>\n",
       "      <td>0</td>\n",
       "      <td>57</td>\n",
       "      <td>11030.04</td>\n",
       "      <td>20426</td>\n",
       "      <td>0.548517</td>\n",
       "      <td>0.020426</td>\n",
       "      <td>-0.009222</td>\n",
       "      <td>48</td>\n",
       "      <td>0.0</td>\n",
       "    </tr>\n",
       "    <tr>\n",
       "      <th>47</th>\n",
       "      <td>3</td>\n",
       "      <td>47</td>\n",
       "      <td>0</td>\n",
       "      <td>56</td>\n",
       "      <td>10985.52</td>\n",
       "      <td>21126</td>\n",
       "      <td>0.524709</td>\n",
       "      <td>0.021126</td>\n",
       "      <td>-0.010041</td>\n",
       "      <td>47</td>\n",
       "      <td>0.0</td>\n",
       "    </tr>\n",
       "    <tr>\n",
       "      <th>51</th>\n",
       "      <td>4</td>\n",
       "      <td>51</td>\n",
       "      <td>0</td>\n",
       "      <td>60</td>\n",
       "      <td>10970.40</td>\n",
       "      <td>18284</td>\n",
       "      <td>0.601783</td>\n",
       "      <td>0.018284</td>\n",
       "      <td>-0.007281</td>\n",
       "      <td>51</td>\n",
       "      <td>0.0</td>\n",
       "    </tr>\n",
       "    <tr>\n",
       "      <th>...</th>\n",
       "      <td>...</td>\n",
       "      <td>...</td>\n",
       "      <td>...</td>\n",
       "      <td>...</td>\n",
       "      <td>...</td>\n",
       "      <td>...</td>\n",
       "      <td>...</td>\n",
       "      <td>...</td>\n",
       "      <td>...</td>\n",
       "      <td>...</td>\n",
       "      <td>...</td>\n",
       "    </tr>\n",
       "    <tr>\n",
       "      <th>120</th>\n",
       "      <td>217</td>\n",
       "      <td>120</td>\n",
       "      <td>1</td>\n",
       "      <td>8</td>\n",
       "      <td>0.32</td>\n",
       "      <td>1</td>\n",
       "      <td>0.000000</td>\n",
       "      <td>0.000001</td>\n",
       "      <td>-0.000001</td>\n",
       "      <td>120</td>\n",
       "      <td>1.0</td>\n",
       "    </tr>\n",
       "    <tr>\n",
       "      <th>0</th>\n",
       "      <td>218</td>\n",
       "      <td>0</td>\n",
       "      <td>0</td>\n",
       "      <td>9</td>\n",
       "      <td>0.10</td>\n",
       "      <td>1</td>\n",
       "      <td>0.000000</td>\n",
       "      <td>0.000001</td>\n",
       "      <td>-0.000001</td>\n",
       "      <td>0</td>\n",
       "      <td>0.0</td>\n",
       "    </tr>\n",
       "    <tr>\n",
       "      <th>1</th>\n",
       "      <td>219</td>\n",
       "      <td>1</td>\n",
       "      <td>0</td>\n",
       "      <td>10</td>\n",
       "      <td>0.08</td>\n",
       "      <td>1</td>\n",
       "      <td>0.000000</td>\n",
       "      <td>0.000001</td>\n",
       "      <td>-0.000001</td>\n",
       "      <td>1</td>\n",
       "      <td>0.0</td>\n",
       "    </tr>\n",
       "    <tr>\n",
       "      <th>3</th>\n",
       "      <td>220</td>\n",
       "      <td>3</td>\n",
       "      <td>0</td>\n",
       "      <td>12</td>\n",
       "      <td>0.08</td>\n",
       "      <td>4</td>\n",
       "      <td>0.000000</td>\n",
       "      <td>0.000004</td>\n",
       "      <td>-0.000004</td>\n",
       "      <td>3</td>\n",
       "      <td>0.0</td>\n",
       "    </tr>\n",
       "    <tr>\n",
       "      <th>2</th>\n",
       "      <td>221</td>\n",
       "      <td>2</td>\n",
       "      <td>0</td>\n",
       "      <td>11</td>\n",
       "      <td>0.00</td>\n",
       "      <td>4</td>\n",
       "      <td>0.000000</td>\n",
       "      <td>0.000004</td>\n",
       "      <td>-0.000004</td>\n",
       "      <td>2</td>\n",
       "      <td>0.0</td>\n",
       "    </tr>\n",
       "  </tbody>\n",
       "</table>\n",
       "<p>222 rows × 11 columns</p>\n",
       "</div>"
      ],
      "text/plain": [
       "     level_0  index  R   T  ml_outcomes      N  ml_outcomes_prob  Pr(X=X_j)  \\\n",
       "49         0     49  0  58     11233.60  20060          0.565852   0.020060   \n",
       "50         1     50  0  59     11169.64  19258          0.576903   0.019258   \n",
       "48         2     48  0  57     11030.04  20426          0.548517   0.020426   \n",
       "47         3     47  0  56     10985.52  21126          0.524709   0.021126   \n",
       "51         4     51  0  60     10970.40  18284          0.601783   0.018284   \n",
       "..       ...    ... ..  ..          ...    ...               ...        ...   \n",
       "120      217    120  1   8         0.32      1          0.000000   0.000001   \n",
       "0        218      0  0   9         0.10      1          0.000000   0.000001   \n",
       "1        219      1  0  10         0.08      1          0.000000   0.000001   \n",
       "3        220      3  0  12         0.08      4          0.000000   0.000004   \n",
       "2        221      2  0  11         0.00      4          0.000000   0.000004   \n",
       "\n",
       "      alpha_j  row_id  decision  \n",
       "49  -0.008709      49       0.0  \n",
       "50  -0.008148      50       0.0  \n",
       "48  -0.009222      48       0.0  \n",
       "47  -0.010041      47       0.0  \n",
       "51  -0.007281      51       0.0  \n",
       "..        ...     ...       ...  \n",
       "120 -0.000001     120       1.0  \n",
       "0   -0.000001       0       0.0  \n",
       "1   -0.000001       1       0.0  \n",
       "3   -0.000004       3       0.0  \n",
       "2   -0.000004       2       0.0  \n",
       "\n",
       "[222 rows x 11 columns]"
      ]
     },
     "execution_count": 19,
     "metadata": {},
     "output_type": "execute_result"
    }
   ],
   "source": [
    "xxx"
   ]
  },
  {
   "cell_type": "code",
   "execution_count": 20,
   "metadata": {
    "execution": {
     "iopub.execute_input": "2022-12-12T05:24:14.401632Z",
     "iopub.status.busy": "2022-12-12T05:24:14.401246Z",
     "iopub.status.idle": "2022-12-12T05:24:14.402946Z",
     "shell.execute_reply": "2022-12-12T05:24:14.403267Z"
    }
   },
   "outputs": [
    {
     "data": {
      "text/plain": [
       "148658.77640573797"
      ]
     },
     "execution_count": 20,
     "metadata": {},
     "output_type": "execute_result"
    }
   ],
   "source": [
    "(xxx['ml_outcomes']*xxx['decision']).sum()"
   ]
  },
  {
   "cell_type": "code",
   "execution_count": 21,
   "metadata": {
    "execution": {
     "iopub.execute_input": "2022-12-12T05:24:14.406622Z",
     "iopub.status.busy": "2022-12-12T05:24:14.406245Z",
     "iopub.status.idle": "2022-12-12T05:24:14.407818Z",
     "shell.execute_reply": "2022-12-12T05:24:14.408082Z"
    }
   },
   "outputs": [],
   "source": [
    "def maxMLOutcomes(frac_minority=0.01):\n",
    "    minority_admits = int(K*frac_minority)\n",
    "    majority_admits = int(K*(1-frac_minority))\n",
    "    \n",
    "    b = df[df['R']==1].sort_values(by='ml_outcomes',ascending=False).head(n=minority_admits)\n",
    "    w = df[df['R']==0].sort_values(by='ml_outcomes',ascending=False).head(n=majority_admits)\n",
    "    \n",
    "    return b['Y'].sum() + w['Y'].sum()    "
   ]
  },
  {
   "cell_type": "code",
   "execution_count": 22,
   "metadata": {
    "execution": {
     "iopub.execute_input": "2022-12-12T05:24:14.411381Z",
     "iopub.status.busy": "2022-12-12T05:24:14.411005Z",
     "iopub.status.idle": "2022-12-12T05:24:14.412309Z",
     "shell.execute_reply": "2022-12-12T05:24:14.412564Z"
    }
   },
   "outputs": [],
   "source": [
    "def maxMLOutcomesminority(frac_minority=0.01):\n",
    "    minority_admits = int(K*frac_minority)\n",
    "    majority_admits = int(K*(1-frac_minority))\n",
    "    \n",
    "    b = df[df['R']==1].sort_values(by='ml_outcomes',ascending=False).head(n=minority_admits)\n",
    "    w = df[df['R']==0].sort_values(by='ml_outcomes',ascending=False).head(n=majority_admits)\n",
    "    \n",
    "    return b['Y'].sum()   "
   ]
  },
  {
   "cell_type": "code",
   "execution_count": 23,
   "metadata": {
    "execution": {
     "iopub.execute_input": "2022-12-12T05:24:14.917050Z",
     "iopub.status.busy": "2022-12-12T05:24:14.916623Z",
     "iopub.status.idle": "2022-12-12T05:24:15.623905Z",
     "shell.execute_reply": "2022-12-12T05:24:15.624166Z"
    }
   },
   "outputs": [],
   "source": [
    "df['key'] = df['R'].astype(str)+'_'+df['T'].astype(str)\n",
    "xxx['key'] = xxx['R'].astype(str)+'_'+xxx['T'].astype(str)"
   ]
  },
  {
   "cell_type": "code",
   "execution_count": 24,
   "metadata": {
    "execution": {
     "iopub.execute_input": "2022-12-12T05:24:15.626972Z",
     "iopub.status.busy": "2022-12-12T05:24:15.626404Z",
     "iopub.status.idle": "2022-12-12T05:24:15.628195Z",
     "shell.execute_reply": "2022-12-12T05:24:15.628463Z"
    }
   },
   "outputs": [
    {
     "data": {
      "text/plain": [
       "222"
      ]
     },
     "execution_count": 24,
     "metadata": {},
     "output_type": "execute_result"
    }
   ],
   "source": [
    "len(xxx)"
   ]
  },
  {
   "cell_type": "code",
   "execution_count": 25,
   "metadata": {
    "execution": {
     "iopub.execute_input": "2022-12-12T05:24:15.687643Z",
     "iopub.status.busy": "2022-12-12T05:24:15.687190Z",
     "iopub.status.idle": "2022-12-12T05:24:16.023236Z",
     "shell.execute_reply": "2022-12-12T05:24:16.023513Z"
    }
   },
   "outputs": [],
   "source": [
    "admit_decisions = df.merge(xxx,how='left',on='key')\n",
    "admit_decisions['decision_random'] = pd.Series([random.random() for x in range(0,len(admit_decisions))]) < FRAC_ADMIT\n",
    "\n",
    "\n",
    "FRAC_minority_POLICY = (admit_decisions['R_y'] * admit_decisions['decision']).sum()/admit_decisions['decision'].sum()\n",
    "SUM_BP_POLICY = ( admit_decisions['Y'] * admit_decisions['decision']).sum()\n",
    "\n",
    "FRAC_RANDOM_POLICY = (admit_decisions['R_y'] * admit_decisions['decision_random']).sum()/admit_decisions['decision_random'].sum()\n",
    "SUM_BP_RAND_POLICY = ( admit_decisions['Y'] * admit_decisions['decision_random']).sum()\n"
   ]
  },
  {
   "cell_type": "code",
   "execution_count": 26,
   "metadata": {
    "execution": {
     "iopub.execute_input": "2022-12-12T05:24:16.027141Z",
     "iopub.status.busy": "2022-12-12T05:24:16.026599Z",
     "iopub.status.idle": "2022-12-12T05:24:16.028264Z",
     "shell.execute_reply": "2022-12-12T05:24:16.028534Z"
    }
   },
   "outputs": [
    {
     "data": {
      "text/plain": [
       "('0.5758883998253692', '112677.00000000003')"
      ]
     },
     "execution_count": 26,
     "metadata": {},
     "output_type": "execute_result"
    }
   ],
   "source": [
    "str(FRAC_minority_POLICY),str(SUM_BP_POLICY)"
   ]
  },
  {
   "cell_type": "code",
   "execution_count": 27,
   "metadata": {
    "execution": {
     "iopub.execute_input": "2022-12-12T05:24:16.031939Z",
     "iopub.status.busy": "2022-12-12T05:24:16.031465Z",
     "iopub.status.idle": "2022-12-12T05:24:16.033336Z",
     "shell.execute_reply": "2022-12-12T05:24:16.033608Z"
    }
   },
   "outputs": [],
   "source": [
    "file = open('./lp_results.csv','a')\n",
    "file.write('{}\\t{}\\t{}\\n'.format('Counterfactual Pred. Parity',str(FRAC_minority_POLICY),str(SUM_BP_POLICY)))\n",
    "file.close()\n"
   ]
  },
  {
   "cell_type": "code",
   "execution_count": 28,
   "metadata": {
    "execution": {
     "iopub.execute_input": "2022-12-12T05:24:16.037744Z",
     "iopub.status.busy": "2022-12-12T05:24:16.037196Z",
     "iopub.status.idle": "2022-12-12T05:24:16.039259Z",
     "shell.execute_reply": "2022-12-12T05:24:16.039617Z"
    }
   },
   "outputs": [
    {
     "data": {
      "text/plain": [
       "0.24999924999925005"
      ]
     },
     "execution_count": 28,
     "metadata": {},
     "output_type": "execute_result"
    }
   ],
   "source": [
    "(xxx['N']*xxx['decision']).sum()/len(df)"
   ]
  },
  {
   "cell_type": "code",
   "execution_count": 29,
   "metadata": {
    "execution": {
     "iopub.execute_input": "2022-12-12T05:24:16.056271Z",
     "iopub.status.busy": "2022-12-12T05:24:16.055705Z",
     "iopub.status.idle": "2022-12-12T05:24:16.172879Z",
     "shell.execute_reply": "2022-12-12T05:24:16.173234Z"
    }
   },
   "outputs": [
    {
     "data": {
      "text/plain": [
       "<matplotlib.lines.Line2D at 0x7f8a6000d6d0>"
      ]
     },
     "execution_count": 29,
     "metadata": {},
     "output_type": "execute_result"
    },
    {
     "data": {
      "image/png": "[encoded data removed]",
      "text/plain": [
       "<Figure size 1440x595.44 with 1 Axes>"
      ]
     },
     "metadata": {},
     "output_type": "display_data"
    }
   ],
   "source": [
    "sns.set(rc={'figure.figsize':(20,8.27)})\n",
    "sns.set(font_scale=2)  # crazy big\n",
    "g = sns.scatterplot(x='T',y='decision',hue='R',data=xxx[xxx['R']==1])\n",
    "g.set(xlim=(0, 150))\n",
    "plt.axvline(70.5, 0,1,color='red')\n"
   ]
  },
  {
   "cell_type": "code",
   "execution_count": 30,
   "metadata": {
    "execution": {
     "iopub.execute_input": "2022-12-12T05:24:16.189033Z",
     "iopub.status.busy": "2022-12-12T05:24:16.188576Z",
     "iopub.status.idle": "2022-12-12T05:24:16.298104Z",
     "shell.execute_reply": "2022-12-12T05:24:16.298495Z"
    }
   },
   "outputs": [
    {
     "data": {
      "text/plain": [
       "<matplotlib.lines.Line2D at 0x7f8a50bb52b0>"
      ]
     },
     "execution_count": 30,
     "metadata": {},
     "output_type": "execute_result"
    },
    {
     "data": {
      "image/png": "[encoded data removed]",
      "text/plain": [
       "<Figure size 1440x595.44 with 1 Axes>"
      ]
     },
     "metadata": {},
     "output_type": "display_data"
    }
   ],
   "source": [
    "sns.set(rc={'figure.figsize':(20,8.27)})\n",
    "sns.set(font_scale=2)  # crazy big\n",
    "g = sns.scatterplot(x='T',y='decision',hue='R',data=xxx[xxx['R']==0])\n",
    "g.set(xlim=(0, 150))\n",
    "plt.axvline(52.5, 0,1,color='red')\n",
    "\n"
   ]
  },
  {
   "cell_type": "code",
   "execution_count": 31,
   "metadata": {
    "execution": {
     "iopub.execute_input": "2022-12-12T05:24:16.301304Z",
     "iopub.status.busy": "2022-12-12T05:24:16.300913Z",
     "iopub.status.idle": "2022-12-12T05:24:16.387516Z",
     "shell.execute_reply": "2022-12-12T05:24:16.387895Z"
    }
   },
   "outputs": [
    {
     "data": {
      "text/html": [
       "<div>\n",
       "<style scoped>\n",
       "    .dataframe tbody tr th:only-of-type {\n",
       "        vertical-align: middle;\n",
       "    }\n",
       "\n",
       "    .dataframe tbody tr th {\n",
       "        vertical-align: top;\n",
       "    }\n",
       "\n",
       "    .dataframe thead th {\n",
       "        text-align: right;\n",
       "    }\n",
       "</style>\n",
       "<table border=\"1\" class=\"dataframe\">\n",
       "  <thead>\n",
       "    <tr style=\"text-align: right;\">\n",
       "      <th></th>\n",
       "      <th>Y</th>\n",
       "    </tr>\n",
       "    <tr>\n",
       "      <th>R_x</th>\n",
       "      <th></th>\n",
       "    </tr>\n",
       "  </thead>\n",
       "  <tbody>\n",
       "    <tr>\n",
       "      <th>0</th>\n",
       "      <td>0.434171</td>\n",
       "    </tr>\n",
       "    <tr>\n",
       "      <th>1</th>\n",
       "      <td>0.452217</td>\n",
       "    </tr>\n",
       "  </tbody>\n",
       "</table>\n",
       "</div>"
      ],
      "text/plain": [
       "            Y\n",
       "R_x          \n",
       "0    0.434171\n",
       "1    0.452217"
      ]
     },
     "execution_count": 31,
     "metadata": {},
     "output_type": "execute_result"
    }
   ],
   "source": [
    "admit_decisions[admit_decisions['decision']==0][['R_x','Y']].groupby(['R_x']).mean()"
   ]
  },
  {
   "cell_type": "code",
   "execution_count": 32,
   "metadata": {
    "execution": {
     "iopub.execute_input": "2022-12-12T05:24:16.390820Z",
     "iopub.status.busy": "2022-12-12T05:24:16.390450Z",
     "iopub.status.idle": "2022-12-12T05:24:16.392097Z",
     "shell.execute_reply": "2022-12-12T05:24:16.392395Z"
    }
   },
   "outputs": [
    {
     "data": {
      "text/plain": [
       "('0.5758883998253692', '112677.00000000003')"
      ]
     },
     "execution_count": 32,
     "metadata": {},
     "output_type": "execute_result"
    }
   ],
   "source": [
    "str(FRAC_minority_POLICY),str(SUM_BP_POLICY)"
   ]
  },
  {
   "cell_type": "code",
   "execution_count": null,
   "metadata": {},
   "outputs": [],
   "source": []
  },
  {
   "cell_type": "code",
   "execution_count": 33,
   "metadata": {
    "execution": {
     "iopub.execute_input": "2022-12-12T05:24:16.395223Z",
     "iopub.status.busy": "2022-12-12T05:24:16.394794Z",
     "iopub.status.idle": "2022-12-12T05:24:16.396405Z",
     "shell.execute_reply": "2022-12-12T05:24:16.396639Z"
    }
   },
   "outputs": [
    {
     "data": {
      "text/plain": [
       "0.45070845070845084"
      ]
     },
     "execution_count": 33,
     "metadata": {},
     "output_type": "execute_result"
    }
   ],
   "source": [
    "SUM_BP_POLICY/(FRAC_ADMIT*len(df))"
   ]
  },
  {
   "cell_type": "code",
   "execution_count": 34,
   "metadata": {
    "execution": {
     "iopub.execute_input": "2022-12-12T05:24:16.399237Z",
     "iopub.status.busy": "2022-12-12T05:24:16.398834Z",
     "iopub.status.idle": "2022-12-12T05:24:16.400324Z",
     "shell.execute_reply": "2022-12-12T05:24:16.400605Z"
    }
   },
   "outputs": [
    {
     "data": {
      "text/plain": [
       "('0.5758883998253692', '112677.00000000003')"
      ]
     },
     "execution_count": 34,
     "metadata": {},
     "output_type": "execute_result"
    }
   ],
   "source": [
    "str(FRAC_minority_POLICY),str(SUM_BP_POLICY)"
   ]
  },
  {
   "cell_type": "code",
   "execution_count": 35,
   "metadata": {
    "execution": {
     "iopub.execute_input": "2022-12-12T05:24:16.403115Z",
     "iopub.status.busy": "2022-12-12T05:24:16.402726Z",
     "iopub.status.idle": "2022-12-12T05:24:16.414622Z",
     "shell.execute_reply": "2022-12-12T05:24:16.414921Z"
    }
   },
   "outputs": [
    {
     "data": {
      "text/plain": [
       "0.46288872769230116"
      ]
     },
     "execution_count": 35,
     "metadata": {},
     "output_type": "execute_result"
    }
   ],
   "source": [
    "admit_decisions[admit_decisions['decision']==1]['Y'].mean()"
   ]
  },
  {
   "cell_type": "code",
   "execution_count": 36,
   "metadata": {
    "execution": {
     "iopub.execute_input": "2022-12-12T05:24:16.417712Z",
     "iopub.status.busy": "2022-12-12T05:24:16.417272Z",
     "iopub.status.idle": "2022-12-12T05:24:16.420319Z",
     "shell.execute_reply": "2022-12-12T05:24:16.420557Z"
    }
   },
   "outputs": [
    {
     "data": {
      "text/plain": [
       "148658.77640573797"
      ]
     },
     "execution_count": 36,
     "metadata": {},
     "output_type": "execute_result"
    }
   ],
   "source": [
    "(admit_decisions['decision'] * admit_decisions['ml_outcomes_x']).sum()"
   ]
  },
  {
   "cell_type": "code",
   "execution_count": 37,
   "metadata": {
    "execution": {
     "iopub.execute_input": "2022-12-12T05:24:16.423043Z",
     "iopub.status.busy": "2022-12-12T05:24:16.422583Z",
     "iopub.status.idle": "2022-12-12T05:24:16.425892Z",
     "shell.execute_reply": "2022-12-12T05:24:16.426184Z"
    }
   },
   "outputs": [
    {
     "data": {
      "text/plain": [
       "112677.00000000003"
      ]
     },
     "execution_count": 37,
     "metadata": {},
     "output_type": "execute_result"
    }
   ],
   "source": [
    "(admit_decisions['decision'] * admit_decisions['Y']).sum()"
   ]
  },
  {
   "cell_type": "code",
   "execution_count": 38,
   "metadata": {
    "execution": {
     "iopub.execute_input": "2022-12-12T05:24:16.428947Z",
     "iopub.status.busy": "2022-12-12T05:24:16.428542Z",
     "iopub.status.idle": "2022-12-12T05:24:16.439901Z",
     "shell.execute_reply": "2022-12-12T05:24:16.440193Z"
    }
   },
   "outputs": [
    {
     "data": {
      "text/plain": [
       "109120"
      ]
     },
     "execution_count": 38,
     "metadata": {},
     "output_type": "execute_result"
    }
   ],
   "source": [
    "admit_decisions[admit_decisions['decision']==1]['Y'].sum()"
   ]
  },
  {
   "cell_type": "code",
   "execution_count": 39,
   "metadata": {
    "execution": {
     "iopub.execute_input": "2022-12-12T05:24:16.442918Z",
     "iopub.status.busy": "2022-12-12T05:24:16.442478Z",
     "iopub.status.idle": "2022-12-12T05:24:16.445916Z",
     "shell.execute_reply": "2022-12-12T05:24:16.446161Z"
    }
   },
   "outputs": [
    {
     "data": {
      "text/plain": [
       "0.45070845070845084"
      ]
     },
     "execution_count": 39,
     "metadata": {},
     "output_type": "execute_result"
    }
   ],
   "source": [
    "(admit_decisions['decision'] * admit_decisions['Y']).sum()/(len(admit_decisions)*FRAC_ADMIT)"
   ]
  },
  {
   "cell_type": "code",
   "execution_count": 40,
   "metadata": {
    "execution": {
     "iopub.execute_input": "2022-12-12T05:24:16.448412Z",
     "iopub.status.busy": "2022-12-12T05:24:16.448025Z",
     "iopub.status.idle": "2022-12-12T05:24:16.450450Z",
     "shell.execute_reply": "2022-12-12T05:24:16.450738Z"
    }
   },
   "outputs": [
    {
     "data": {
      "text/plain": [
       "249999.00000000006"
      ]
     },
     "execution_count": 40,
     "metadata": {},
     "output_type": "execute_result"
    }
   ],
   "source": [
    "(admit_decisions['decision'].sum())"
   ]
  },
  {
   "cell_type": "code",
   "execution_count": 41,
   "metadata": {
    "execution": {
     "iopub.execute_input": "2022-12-12T05:24:16.535931Z",
     "iopub.status.busy": "2022-12-12T05:24:16.495871Z",
     "iopub.status.idle": "2022-12-12T05:24:16.605111Z",
     "shell.execute_reply": "2022-12-12T05:24:16.605371Z"
    }
   },
   "outputs": [],
   "source": [
    "admit_decisions['rand'] = pd.Series([random.random() for x in range(0,len(admit_decisions))])\n",
    "admit_decisions['dec_binary'] = admit_decisions['rand'] < admit_decisions['decision']\n"
   ]
  },
  {
   "cell_type": "code",
   "execution_count": 42,
   "metadata": {
    "execution": {
     "iopub.execute_input": "2022-12-12T05:24:16.608538Z",
     "iopub.status.busy": "2022-12-12T05:24:16.608123Z",
     "iopub.status.idle": "2022-12-12T05:24:16.696819Z",
     "shell.execute_reply": "2022-12-12T05:24:16.697114Z"
    }
   },
   "outputs": [
    {
     "data": {
      "text/html": [
       "<div>\n",
       "<style scoped>\n",
       "    .dataframe tbody tr th:only-of-type {\n",
       "        vertical-align: middle;\n",
       "    }\n",
       "\n",
       "    .dataframe tbody tr th {\n",
       "        vertical-align: top;\n",
       "    }\n",
       "\n",
       "    .dataframe thead th {\n",
       "        text-align: right;\n",
       "    }\n",
       "</style>\n",
       "<table border=\"1\" class=\"dataframe\">\n",
       "  <thead>\n",
       "    <tr style=\"text-align: right;\">\n",
       "      <th></th>\n",
       "      <th>Y</th>\n",
       "    </tr>\n",
       "    <tr>\n",
       "      <th>R_x</th>\n",
       "      <th></th>\n",
       "    </tr>\n",
       "  </thead>\n",
       "  <tbody>\n",
       "    <tr>\n",
       "      <th>0</th>\n",
       "      <td>0.440043</td>\n",
       "    </tr>\n",
       "    <tr>\n",
       "      <th>1</th>\n",
       "      <td>0.439618</td>\n",
       "    </tr>\n",
       "  </tbody>\n",
       "</table>\n",
       "</div>"
      ],
      "text/plain": [
       "            Y\n",
       "R_x          \n",
       "0    0.440043\n",
       "1    0.439618"
      ]
     },
     "execution_count": 42,
     "metadata": {},
     "output_type": "execute_result"
    }
   ],
   "source": [
    "admit_decisions[admit_decisions['dec_binary']==0][['R_x','Y']].groupby(['R_x']).mean()"
   ]
  },
  {
   "cell_type": "code",
   "execution_count": 43,
   "metadata": {
    "execution": {
     "iopub.execute_input": "2022-12-12T05:24:16.703619Z",
     "iopub.status.busy": "2022-12-12T05:24:16.703245Z",
     "iopub.status.idle": "2022-12-12T05:24:16.704833Z",
     "shell.execute_reply": "2022-12-12T05:24:16.705119Z"
    }
   },
   "outputs": [
    {
     "data": {
      "text/plain": [
       "0    669901\n",
       "1    330098\n",
       "Name: R_x, dtype: int64"
      ]
     },
     "execution_count": 43,
     "metadata": {},
     "output_type": "execute_result"
    }
   ],
   "source": [
    "admit_decisions['R_x'].value_counts()"
   ]
  },
  {
   "cell_type": "code",
   "execution_count": null,
   "metadata": {},
   "outputs": [],
   "source": []
  },
  {
   "cell_type": "code",
   "execution_count": null,
   "metadata": {},
   "outputs": [],
   "source": []
  },
  {
   "cell_type": "code",
   "execution_count": null,
   "metadata": {},
   "outputs": [],
   "source": []
  }
 ],
 "metadata": {
  "kernelspec": {
   "display_name": "Python 3 (ipykernel)",
   "language": "python",
   "name": "python3"
  },
  "language_info": {
   "codemirror_mode": {
    "name": "ipython",
    "version": 3
   },
   "file_extension": ".py",
   "mimetype": "text/x-python",
   "name": "python",
   "nbconvert_exporter": "python",
   "pygments_lexer": "ipython3",
   "version": "3.9.7"
  }
 },
 "nbformat": 4,
 "nbformat_minor": 4
}
