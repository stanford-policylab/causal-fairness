{
 "cells": [
  {
   "cell_type": "code",
   "execution_count": 1,
   "metadata": {
    "execution": {
     "iopub.execute_input": "2022-07-18T22:07:35.798665Z",
     "iopub.status.busy": "2022-07-18T22:07:35.797966Z",
     "iopub.status.idle": "2022-07-18T22:07:36.990104Z",
     "shell.execute_reply": "2022-07-18T22:07:36.990382Z"
    }
   },
   "outputs": [],
   "source": [
    "import numpy as np\n",
    "import pandas as pd\n",
    "import matplotlib.pyplot as plt\n",
    "import seaborn as sns\n",
    "from ortools.linear_solver import pywraplp\n",
    "import random\n",
    "import os\n",
    "\n",
    "DIVERSITY_UTILITY = float(os.environ.get('DIVERSITY_UTILITY'))\n",
    "FRAC_ADMIT = float(os.environ.get('FRAC_ADMIT'))"
   ]
  },
  {
   "cell_type": "code",
   "execution_count": 2,
   "metadata": {
    "execution": {
     "iopub.execute_input": "2022-07-18T22:07:36.995065Z",
     "iopub.status.busy": "2022-07-18T22:07:36.994637Z",
     "iopub.status.idle": "2022-07-18T22:07:51.330695Z",
     "shell.execute_reply": "2022-07-18T22:07:51.330926Z"
    }
   },
   "outputs": [],
   "source": [
    "\n",
    "###\n",
    "## Load dataframe where each row is a single applicant\n",
    "###\n",
    "\n",
    "df = pd.read_csv('./df_test.csv')\n",
    "df['key'] = df['R'].astype(str) + \"_\"  + df['T'].astype(str)\n",
    "\n",
    "###\n",
    "## Estimate E[Y(1)|T, A]\n",
    "###\n",
    "\n",
    "df_train = pd.read_csv('./df_train.csv')\n",
    "df_stratum_utility = df_train[['R','T','Y']].groupby(['R','T']).mean().reset_index()\n",
    "df_stratum_utility['stratum_utility'] = (df_stratum_utility['Y'] + DIVERSITY_UTILITY * df_stratum_utility['R']).round(2)\n",
    "df_stratum_utility['key'] = df_stratum_utility['R'].astype(str) + \"_\" + df_stratum_utility['T'].astype(str)\n",
    "\n",
    "df = df.merge(df_stratum_utility[['stratum_utility','key']], on='key')\n",
    "df['ml_outcomes'] = df['stratum_utility']"
   ]
  },
  {
   "cell_type": "code",
   "execution_count": 3,
   "metadata": {
    "execution": {
     "iopub.execute_input": "2022-07-18T22:07:51.333425Z",
     "iopub.status.busy": "2022-07-18T22:07:51.333021Z",
     "iopub.status.idle": "2022-07-18T22:07:51.334141Z",
     "shell.execute_reply": "2022-07-18T22:07:51.334377Z"
    },
    "scrolled": true
   },
   "outputs": [],
   "source": [
    "FRAC_ADMIT = 0.5#df[['A']].sum()/len(df)\n"
   ]
  },
  {
   "cell_type": "code",
   "execution_count": 4,
   "metadata": {
    "execution": {
     "iopub.execute_input": "2022-07-18T22:07:51.337600Z",
     "iopub.status.busy": "2022-07-18T22:07:51.337233Z",
     "iopub.status.idle": "2022-07-18T22:07:51.339389Z",
     "shell.execute_reply": "2022-07-18T22:07:51.339625Z"
    }
   },
   "outputs": [
    {
     "data": {
      "text/plain": [
       "0.5"
      ]
     },
     "execution_count": 4,
     "metadata": {},
     "output_type": "execute_result"
    }
   ],
   "source": [
    "FRAC_ADMIT"
   ]
  },
  {
   "cell_type": "code",
   "execution_count": 5,
   "metadata": {
    "execution": {
     "iopub.execute_input": "2022-07-18T22:07:51.341961Z",
     "iopub.status.busy": "2022-07-18T22:07:51.341540Z",
     "iopub.status.idle": "2022-07-18T22:07:51.343330Z",
     "shell.execute_reply": "2022-07-18T22:07:51.343890Z"
    }
   },
   "outputs": [
    {
     "data": {
      "text/plain": [
       "100000"
      ]
     },
     "execution_count": 5,
     "metadata": {},
     "output_type": "execute_result"
    }
   ],
   "source": [
    "len(df)"
   ]
  },
  {
   "cell_type": "code",
   "execution_count": 6,
   "metadata": {
    "execution": {
     "iopub.execute_input": "2022-07-18T22:07:51.346545Z",
     "iopub.status.busy": "2022-07-18T22:07:51.346194Z",
     "iopub.status.idle": "2022-07-18T22:07:51.425229Z",
     "shell.execute_reply": "2022-07-18T22:07:51.425472Z"
    }
   },
   "outputs": [
    {
     "data": {
      "text/plain": [
       "<AxesSubplot:>"
      ]
     },
     "execution_count": 6,
     "metadata": {},
     "output_type": "execute_result"
    },
    {
     "data": {
      "image/png": "[encoded data removed]",
      "text/plain": [
       "<Figure size 432x288 with 1 Axes>"
      ]
     },
     "metadata": {
      "needs_background": "light"
     },
     "output_type": "display_data"
    }
   ],
   "source": [
    "df['ml_outcomes'].hist()"
   ]
  },
  {
   "cell_type": "code",
   "execution_count": 7,
   "metadata": {
    "execution": {
     "iopub.execute_input": "2022-07-18T22:07:51.428648Z",
     "iopub.status.busy": "2022-07-18T22:07:51.428244Z",
     "iopub.status.idle": "2022-07-18T22:07:51.443312Z",
     "shell.execute_reply": "2022-07-18T22:07:51.443626Z"
    }
   },
   "outputs": [
    {
     "data": {
      "text/html": [
       "<div>\n",
       "<style scoped>\n",
       "    .dataframe tbody tr th:only-of-type {\n",
       "        vertical-align: middle;\n",
       "    }\n",
       "\n",
       "    .dataframe tbody tr th {\n",
       "        vertical-align: top;\n",
       "    }\n",
       "\n",
       "    .dataframe thead th {\n",
       "        text-align: right;\n",
       "    }\n",
       "</style>\n",
       "<table border=\"1\" class=\"dataframe\">\n",
       "  <thead>\n",
       "    <tr style=\"text-align: right;\">\n",
       "      <th></th>\n",
       "      <th>R</th>\n",
       "      <th>T</th>\n",
       "      <th>ml_outcomes</th>\n",
       "      <th>T_minority</th>\n",
       "      <th>T_majority</th>\n",
       "      <th>Y</th>\n",
       "    </tr>\n",
       "  </thead>\n",
       "  <tbody>\n",
       "    <tr>\n",
       "      <th>99974</th>\n",
       "      <td>0</td>\n",
       "      <td>12</td>\n",
       "      <td>0.02</td>\n",
       "      <td>10</td>\n",
       "      <td>12</td>\n",
       "      <td>0</td>\n",
       "    </tr>\n",
       "    <tr>\n",
       "      <th>99914</th>\n",
       "      <td>0</td>\n",
       "      <td>16</td>\n",
       "      <td>0.03</td>\n",
       "      <td>10</td>\n",
       "      <td>16</td>\n",
       "      <td>0</td>\n",
       "    </tr>\n",
       "    <tr>\n",
       "      <th>99913</th>\n",
       "      <td>0</td>\n",
       "      <td>16</td>\n",
       "      <td>0.03</td>\n",
       "      <td>12</td>\n",
       "      <td>16</td>\n",
       "      <td>0</td>\n",
       "    </tr>\n",
       "    <tr>\n",
       "      <th>99650</th>\n",
       "      <td>0</td>\n",
       "      <td>17</td>\n",
       "      <td>0.06</td>\n",
       "      <td>14</td>\n",
       "      <td>17</td>\n",
       "      <td>0</td>\n",
       "    </tr>\n",
       "    <tr>\n",
       "      <th>99653</th>\n",
       "      <td>0</td>\n",
       "      <td>17</td>\n",
       "      <td>0.06</td>\n",
       "      <td>13</td>\n",
       "      <td>17</td>\n",
       "      <td>0</td>\n",
       "    </tr>\n",
       "    <tr>\n",
       "      <th>...</th>\n",
       "      <td>...</td>\n",
       "      <td>...</td>\n",
       "      <td>...</td>\n",
       "      <td>...</td>\n",
       "      <td>...</td>\n",
       "      <td>...</td>\n",
       "    </tr>\n",
       "    <tr>\n",
       "      <th>99940</th>\n",
       "      <td>1</td>\n",
       "      <td>94</td>\n",
       "      <td>1.21</td>\n",
       "      <td>94</td>\n",
       "      <td>107</td>\n",
       "      <td>0</td>\n",
       "    </tr>\n",
       "    <tr>\n",
       "      <th>99949</th>\n",
       "      <td>1</td>\n",
       "      <td>101</td>\n",
       "      <td>1.23</td>\n",
       "      <td>101</td>\n",
       "      <td>118</td>\n",
       "      <td>1</td>\n",
       "    </tr>\n",
       "    <tr>\n",
       "      <th>98552</th>\n",
       "      <td>1</td>\n",
       "      <td>98</td>\n",
       "      <td>1.25</td>\n",
       "      <td>98</td>\n",
       "      <td>114</td>\n",
       "      <td>1</td>\n",
       "    </tr>\n",
       "    <tr>\n",
       "      <th>99977</th>\n",
       "      <td>1</td>\n",
       "      <td>112</td>\n",
       "      <td>1.25</td>\n",
       "      <td>112</td>\n",
       "      <td>129</td>\n",
       "      <td>1</td>\n",
       "    </tr>\n",
       "    <tr>\n",
       "      <th>99976</th>\n",
       "      <td>1</td>\n",
       "      <td>97</td>\n",
       "      <td>1.25</td>\n",
       "      <td>97</td>\n",
       "      <td>114</td>\n",
       "      <td>1</td>\n",
       "    </tr>\n",
       "  </tbody>\n",
       "</table>\n",
       "<p>100000 rows × 6 columns</p>\n",
       "</div>"
      ],
      "text/plain": [
       "       R    T  ml_outcomes  T_minority  T_majority  Y\n",
       "99974  0   12         0.02          10          12  0\n",
       "99914  0   16         0.03          10          16  0\n",
       "99913  0   16         0.03          12          16  0\n",
       "99650  0   17         0.06          14          17  0\n",
       "99653  0   17         0.06          13          17  0\n",
       "...   ..  ...          ...         ...         ... ..\n",
       "99940  1   94         1.21          94         107  0\n",
       "99949  1  101         1.23         101         118  1\n",
       "98552  1   98         1.25          98         114  1\n",
       "99977  1  112         1.25         112         129  1\n",
       "99976  1   97         1.25          97         114  1\n",
       "\n",
       "[100000 rows x 6 columns]"
      ]
     },
     "execution_count": 7,
     "metadata": {},
     "output_type": "execute_result"
    }
   ],
   "source": [
    "##\n",
    "# R = race, T = test score, ml_outcomes = expected utility from admitting, \n",
    "# ml_outcomes_{} counterfactual utility given race \n",
    "##\n",
    "\n",
    "df[['R','T','ml_outcomes','T_minority','T_majority','Y']].sort_values(by='ml_outcomes')\n",
    "\n"
   ]
  },
  {
   "cell_type": "code",
   "execution_count": 8,
   "metadata": {
    "execution": {
     "iopub.execute_input": "2022-07-18T22:07:51.447929Z",
     "iopub.status.busy": "2022-07-18T22:07:51.447535Z",
     "iopub.status.idle": "2022-07-18T22:07:51.452457Z",
     "shell.execute_reply": "2022-07-18T22:07:51.452696Z"
    }
   },
   "outputs": [],
   "source": [
    "###\n",
    "## Get total utility from admitting people in a stratum \n",
    "###\n",
    "\n",
    "df_ = df[['R','T','ml_outcomes']].groupby(['R','T']).sum().reset_index()"
   ]
  },
  {
   "cell_type": "code",
   "execution_count": 9,
   "metadata": {
    "execution": {
     "iopub.execute_input": "2022-07-18T22:07:51.481290Z",
     "iopub.status.busy": "2022-07-18T22:07:51.480655Z",
     "iopub.status.idle": "2022-07-18T22:07:51.486291Z",
     "shell.execute_reply": "2022-07-18T22:07:51.486525Z"
    }
   },
   "outputs": [],
   "source": [
    "###\n",
    "## Get number of people in each stratum\n",
    "###\n",
    "\n",
    "df_count = df[['R','T','ml_outcomes']].groupby(['R','T']).count().reset_index()\n",
    "df_count.columns = ['R','T','Count']\n",
    "df_count['N'] = df_count['Count']"
   ]
  },
  {
   "cell_type": "code",
   "execution_count": 10,
   "metadata": {
    "execution": {
     "iopub.execute_input": "2022-07-18T22:07:51.488185Z",
     "iopub.status.busy": "2022-07-18T22:07:51.487834Z",
     "iopub.status.idle": "2022-07-18T22:07:51.494932Z",
     "shell.execute_reply": "2022-07-18T22:07:51.495175Z"
    }
   },
   "outputs": [],
   "source": [
    "###\n",
    "## Get boards passage probability in each stratum\n",
    "###\n",
    "\n",
    "df_prob = df[['R','T','Y']].groupby(['R','T']).mean().reset_index()\n",
    "df_prob.columns = ['R','T','ml_outcomes_prob']\n",
    "\n",
    "#df_prob = df[['R','T','ml_outcomes_prob']]"
   ]
  },
  {
   "cell_type": "code",
   "execution_count": null,
   "metadata": {},
   "outputs": [],
   "source": []
  },
  {
   "cell_type": "code",
   "execution_count": 11,
   "metadata": {
    "execution": {
     "iopub.execute_input": "2022-07-18T22:07:51.500608Z",
     "iopub.status.busy": "2022-07-18T22:07:51.500248Z",
     "iopub.status.idle": "2022-07-18T22:07:51.501592Z",
     "shell.execute_reply": "2022-07-18T22:07:51.501881Z"
    }
   },
   "outputs": [],
   "source": [
    "###\n",
    "## Merge summary tables to get one table with Race, Test Score, SUM(Utility), COUNT(applicants), E(Y(1)|X )\n",
    "###\n",
    "\n",
    "dff = df_.merge(df_count[['N']],left_index=True,right_index=True)\n",
    "dff = dff.merge(df_prob[['ml_outcomes_prob']],left_index=True,right_index=True).sort_values(by='ml_outcomes',ascending=False).reset_index().sort_values(by='index').reset_index()\n",
    "\n"
   ]
  },
  {
   "cell_type": "code",
   "execution_count": 12,
   "metadata": {
    "execution": {
     "iopub.execute_input": "2022-07-18T22:07:51.509050Z",
     "iopub.status.busy": "2022-07-18T22:07:51.508619Z",
     "iopub.status.idle": "2022-07-18T22:07:51.510704Z",
     "shell.execute_reply": "2022-07-18T22:07:51.511038Z"
    }
   },
   "outputs": [
    {
     "data": {
      "text/html": [
       "<div>\n",
       "<style scoped>\n",
       "    .dataframe tbody tr th:only-of-type {\n",
       "        vertical-align: middle;\n",
       "    }\n",
       "\n",
       "    .dataframe tbody tr th {\n",
       "        vertical-align: top;\n",
       "    }\n",
       "\n",
       "    .dataframe thead th {\n",
       "        text-align: right;\n",
       "    }\n",
       "</style>\n",
       "<table border=\"1\" class=\"dataframe\">\n",
       "  <thead>\n",
       "    <tr style=\"text-align: right;\">\n",
       "      <th></th>\n",
       "      <th>level_0</th>\n",
       "      <th>index</th>\n",
       "      <th>R</th>\n",
       "      <th>T</th>\n",
       "      <th>ml_outcomes</th>\n",
       "      <th>N</th>\n",
       "      <th>ml_outcomes_prob</th>\n",
       "    </tr>\n",
       "  </thead>\n",
       "  <tbody>\n",
       "    <tr>\n",
       "      <th>0</th>\n",
       "      <td>191</td>\n",
       "      <td>0</td>\n",
       "      <td>0</td>\n",
       "      <td>12</td>\n",
       "      <td>0.02</td>\n",
       "      <td>1</td>\n",
       "      <td>0.0</td>\n",
       "    </tr>\n",
       "    <tr>\n",
       "      <th>104</th>\n",
       "      <td>187</td>\n",
       "      <td>104</td>\n",
       "      <td>1</td>\n",
       "      <td>7</td>\n",
       "      <td>0.25</td>\n",
       "      <td>1</td>\n",
       "      <td>0.0</td>\n",
       "    </tr>\n",
       "    <tr>\n",
       "      <th>105</th>\n",
       "      <td>186</td>\n",
       "      <td>105</td>\n",
       "      <td>1</td>\n",
       "      <td>12</td>\n",
       "      <td>0.31</td>\n",
       "      <td>1</td>\n",
       "      <td>0.0</td>\n",
       "    </tr>\n",
       "    <tr>\n",
       "      <th>106</th>\n",
       "      <td>182</td>\n",
       "      <td>106</td>\n",
       "      <td>1</td>\n",
       "      <td>13</td>\n",
       "      <td>0.60</td>\n",
       "      <td>2</td>\n",
       "      <td>0.0</td>\n",
       "    </tr>\n",
       "    <tr>\n",
       "      <th>107</th>\n",
       "      <td>164</td>\n",
       "      <td>107</td>\n",
       "      <td>1</td>\n",
       "      <td>15</td>\n",
       "      <td>1.50</td>\n",
       "      <td>5</td>\n",
       "      <td>0.0</td>\n",
       "    </tr>\n",
       "    <tr>\n",
       "      <th>...</th>\n",
       "      <td>...</td>\n",
       "      <td>...</td>\n",
       "      <td>...</td>\n",
       "      <td>...</td>\n",
       "      <td>...</td>\n",
       "      <td>...</td>\n",
       "      <td>...</td>\n",
       "    </tr>\n",
       "    <tr>\n",
       "      <th>99</th>\n",
       "      <td>161</td>\n",
       "      <td>99</td>\n",
       "      <td>0</td>\n",
       "      <td>113</td>\n",
       "      <td>1.98</td>\n",
       "      <td>2</td>\n",
       "      <td>1.0</td>\n",
       "    </tr>\n",
       "    <tr>\n",
       "      <th>100</th>\n",
       "      <td>177</td>\n",
       "      <td>100</td>\n",
       "      <td>0</td>\n",
       "      <td>115</td>\n",
       "      <td>1.00</td>\n",
       "      <td>1</td>\n",
       "      <td>1.0</td>\n",
       "    </tr>\n",
       "    <tr>\n",
       "      <th>101</th>\n",
       "      <td>176</td>\n",
       "      <td>101</td>\n",
       "      <td>0</td>\n",
       "      <td>116</td>\n",
       "      <td>1.00</td>\n",
       "      <td>1</td>\n",
       "      <td>1.0</td>\n",
       "    </tr>\n",
       "    <tr>\n",
       "      <th>103</th>\n",
       "      <td>175</td>\n",
       "      <td>103</td>\n",
       "      <td>0</td>\n",
       "      <td>130</td>\n",
       "      <td>1.00</td>\n",
       "      <td>1</td>\n",
       "      <td>1.0</td>\n",
       "    </tr>\n",
       "    <tr>\n",
       "      <th>191</th>\n",
       "      <td>168</td>\n",
       "      <td>191</td>\n",
       "      <td>1</td>\n",
       "      <td>112</td>\n",
       "      <td>1.25</td>\n",
       "      <td>1</td>\n",
       "      <td>1.0</td>\n",
       "    </tr>\n",
       "  </tbody>\n",
       "</table>\n",
       "<p>192 rows × 7 columns</p>\n",
       "</div>"
      ],
      "text/plain": [
       "     level_0  index  R    T  ml_outcomes  N  ml_outcomes_prob\n",
       "0        191      0  0   12         0.02  1               0.0\n",
       "104      187    104  1    7         0.25  1               0.0\n",
       "105      186    105  1   12         0.31  1               0.0\n",
       "106      182    106  1   13         0.60  2               0.0\n",
       "107      164    107  1   15         1.50  5               0.0\n",
       "..       ...    ... ..  ...          ... ..               ...\n",
       "99       161     99  0  113         1.98  2               1.0\n",
       "100      177    100  0  115         1.00  1               1.0\n",
       "101      176    101  0  116         1.00  1               1.0\n",
       "103      175    103  0  130         1.00  1               1.0\n",
       "191      168    191  1  112         1.25  1               1.0\n",
       "\n",
       "[192 rows x 7 columns]"
      ]
     },
     "execution_count": 12,
     "metadata": {},
     "output_type": "execute_result"
    }
   ],
   "source": [
    "# final info table\n",
    "dff.sort_values(by='ml_outcomes_prob')"
   ]
  },
  {
   "cell_type": "code",
   "execution_count": 13,
   "metadata": {
    "execution": {
     "iopub.execute_input": "2022-07-18T22:07:51.514091Z",
     "iopub.status.busy": "2022-07-18T22:07:51.513744Z",
     "iopub.status.idle": "2022-07-18T22:07:51.515050Z",
     "shell.execute_reply": "2022-07-18T22:07:51.515333Z"
    }
   },
   "outputs": [],
   "source": [
    "dff['Pr(X=X_j)'] = dff['N']/(dff['N']).sum()"
   ]
  },
  {
   "cell_type": "code",
   "execution_count": 14,
   "metadata": {
    "execution": {
     "iopub.execute_input": "2022-07-18T22:07:51.519092Z",
     "iopub.status.busy": "2022-07-18T22:07:51.518725Z",
     "iopub.status.idle": "2022-07-18T22:07:51.524692Z",
     "shell.execute_reply": "2022-07-18T22:07:51.525020Z"
    }
   },
   "outputs": [
    {
     "data": {
      "text/html": [
       "<div>\n",
       "<style scoped>\n",
       "    .dataframe tbody tr th:only-of-type {\n",
       "        vertical-align: middle;\n",
       "    }\n",
       "\n",
       "    .dataframe tbody tr th {\n",
       "        vertical-align: top;\n",
       "    }\n",
       "\n",
       "    .dataframe thead th {\n",
       "        text-align: right;\n",
       "    }\n",
       "</style>\n",
       "<table border=\"1\" class=\"dataframe\">\n",
       "  <thead>\n",
       "    <tr style=\"text-align: right;\">\n",
       "      <th></th>\n",
       "      <th>level_0</th>\n",
       "      <th>index</th>\n",
       "      <th>R</th>\n",
       "      <th>T</th>\n",
       "      <th>ml_outcomes</th>\n",
       "      <th>N</th>\n",
       "      <th>ml_outcomes_prob</th>\n",
       "      <th>Pr(X=X_j)</th>\n",
       "    </tr>\n",
       "  </thead>\n",
       "  <tbody>\n",
       "    <tr>\n",
       "      <th>104</th>\n",
       "      <td>187</td>\n",
       "      <td>104</td>\n",
       "      <td>1</td>\n",
       "      <td>7</td>\n",
       "      <td>0.25</td>\n",
       "      <td>1</td>\n",
       "      <td>0.0</td>\n",
       "      <td>0.00001</td>\n",
       "    </tr>\n",
       "    <tr>\n",
       "      <th>105</th>\n",
       "      <td>186</td>\n",
       "      <td>105</td>\n",
       "      <td>1</td>\n",
       "      <td>12</td>\n",
       "      <td>0.31</td>\n",
       "      <td>1</td>\n",
       "      <td>0.0</td>\n",
       "      <td>0.00001</td>\n",
       "    </tr>\n",
       "    <tr>\n",
       "      <th>106</th>\n",
       "      <td>182</td>\n",
       "      <td>106</td>\n",
       "      <td>1</td>\n",
       "      <td>13</td>\n",
       "      <td>0.60</td>\n",
       "      <td>2</td>\n",
       "      <td>0.0</td>\n",
       "      <td>0.00002</td>\n",
       "    </tr>\n",
       "    <tr>\n",
       "      <th>107</th>\n",
       "      <td>164</td>\n",
       "      <td>107</td>\n",
       "      <td>1</td>\n",
       "      <td>15</td>\n",
       "      <td>1.50</td>\n",
       "      <td>5</td>\n",
       "      <td>0.0</td>\n",
       "      <td>0.00005</td>\n",
       "    </tr>\n",
       "    <tr>\n",
       "      <th>108</th>\n",
       "      <td>158</td>\n",
       "      <td>108</td>\n",
       "      <td>1</td>\n",
       "      <td>16</td>\n",
       "      <td>2.48</td>\n",
       "      <td>8</td>\n",
       "      <td>0.0</td>\n",
       "      <td>0.00008</td>\n",
       "    </tr>\n",
       "    <tr>\n",
       "      <th>...</th>\n",
       "      <td>...</td>\n",
       "      <td>...</td>\n",
       "      <td>...</td>\n",
       "      <td>...</td>\n",
       "      <td>...</td>\n",
       "      <td>...</td>\n",
       "      <td>...</td>\n",
       "      <td>...</td>\n",
       "    </tr>\n",
       "    <tr>\n",
       "      <th>187</th>\n",
       "      <td>172</td>\n",
       "      <td>187</td>\n",
       "      <td>1</td>\n",
       "      <td>95</td>\n",
       "      <td>1.19</td>\n",
       "      <td>1</td>\n",
       "      <td>1.0</td>\n",
       "      <td>0.00001</td>\n",
       "    </tr>\n",
       "    <tr>\n",
       "      <th>188</th>\n",
       "      <td>166</td>\n",
       "      <td>188</td>\n",
       "      <td>1</td>\n",
       "      <td>97</td>\n",
       "      <td>1.25</td>\n",
       "      <td>1</td>\n",
       "      <td>1.0</td>\n",
       "      <td>0.00001</td>\n",
       "    </tr>\n",
       "    <tr>\n",
       "      <th>189</th>\n",
       "      <td>167</td>\n",
       "      <td>189</td>\n",
       "      <td>1</td>\n",
       "      <td>98</td>\n",
       "      <td>1.25</td>\n",
       "      <td>1</td>\n",
       "      <td>1.0</td>\n",
       "      <td>0.00001</td>\n",
       "    </tr>\n",
       "    <tr>\n",
       "      <th>190</th>\n",
       "      <td>169</td>\n",
       "      <td>190</td>\n",
       "      <td>1</td>\n",
       "      <td>101</td>\n",
       "      <td>1.23</td>\n",
       "      <td>1</td>\n",
       "      <td>1.0</td>\n",
       "      <td>0.00001</td>\n",
       "    </tr>\n",
       "    <tr>\n",
       "      <th>191</th>\n",
       "      <td>168</td>\n",
       "      <td>191</td>\n",
       "      <td>1</td>\n",
       "      <td>112</td>\n",
       "      <td>1.25</td>\n",
       "      <td>1</td>\n",
       "      <td>1.0</td>\n",
       "      <td>0.00001</td>\n",
       "    </tr>\n",
       "  </tbody>\n",
       "</table>\n",
       "<p>88 rows × 8 columns</p>\n",
       "</div>"
      ],
      "text/plain": [
       "     level_0  index  R    T  ml_outcomes  N  ml_outcomes_prob  Pr(X=X_j)\n",
       "104      187    104  1    7         0.25  1               0.0    0.00001\n",
       "105      186    105  1   12         0.31  1               0.0    0.00001\n",
       "106      182    106  1   13         0.60  2               0.0    0.00002\n",
       "107      164    107  1   15         1.50  5               0.0    0.00005\n",
       "108      158    108  1   16         2.48  8               0.0    0.00008\n",
       "..       ...    ... ..  ...          ... ..               ...        ...\n",
       "187      172    187  1   95         1.19  1               1.0    0.00001\n",
       "188      166    188  1   97         1.25  1               1.0    0.00001\n",
       "189      167    189  1   98         1.25  1               1.0    0.00001\n",
       "190      169    190  1  101         1.23  1               1.0    0.00001\n",
       "191      168    191  1  112         1.25  1               1.0    0.00001\n",
       "\n",
       "[88 rows x 8 columns]"
      ]
     },
     "execution_count": 14,
     "metadata": {},
     "output_type": "execute_result"
    }
   ],
   "source": [
    "dff[dff['R']==1].sort_values(by='T')"
   ]
  },
  {
   "cell_type": "code",
   "execution_count": 15,
   "metadata": {
    "execution": {
     "iopub.execute_input": "2022-07-18T22:07:51.981977Z",
     "iopub.status.busy": "2022-07-18T22:07:51.887749Z",
     "iopub.status.idle": "2022-07-18T22:07:52.795849Z",
     "shell.execute_reply": "2022-07-18T22:07:52.796227Z"
    },
    "scrolled": true
   },
   "outputs": [
    {
     "name": "stdout",
     "output_type": "stream",
     "text": [
      "0.28 31779.827051568736\n",
      "0.29 31839.83307824725\n",
      "0.3 31910.74103248493\n",
      "0.31 31926.61471098919\n",
      "0.32 31957.637386462273\n",
      "0.33 32001.81264455291\n",
      "0.34 32038.051842028945\n",
      "0.35000000000000003 32065.126624530556\n",
      "0.36 32071.448212196003\n",
      "0.37 32094.573627669455\n",
      "0.38 32097.742933286772\n",
      "0.39 32085.584811827568\n",
      "0.4 32060.639150052553\n",
      "0.41000000000000003 31953.413571692625\n",
      "0.42 31538.58311358146\n",
      "0.43 31068.388002183172\n",
      "0.44 30589.241579280068\n",
      "0.45 30106.54331723333\n",
      "0.46 29621.517964458682\n",
      "0.47000000000000003 29133.597742961745\n",
      "0.48 28635.83791297029\n",
      "0.49 28132.72298488948\n",
      "0.5 27627.83465004427\n",
      "0.51 27117.987937792517\n",
      "0.52 26606.270224861662\n",
      "0.53 26091.47280881836\n",
      "0.54 25569.8744794962\n",
      "0.55 25043.424727121277\n",
      "0.56 24513.333988900755\n",
      "0.5700000000000001 23968.609701777044\n",
      "0.58 23406.532282884116\n",
      "0.59 22547.55666530272\n",
      "0.6 21568.085366816\n",
      "0.61 20489.660226883247\n"
     ]
    }
   ],
   "source": [
    "df_decisions = None\n",
    "max_utility = -1.0\n",
    "\n",
    "for C_y in np.linspace(0.0,1.0,101):\n",
    "    dff['alpha_j'] = dff['Pr(X=X_j)']* (dff['ml_outcomes_prob'] - C_y)\n",
    "    solver = pywraplp.Solver.CreateSolver('GLOP')\n",
    "\n",
    "    \n",
    "    applicant_stratum = []\n",
    "    vars_cache = {}\n",
    "    alpha_j = {}\n",
    "    \n",
    "    # Objective: Maximize the expected utility of the admitted students\n",
    "    objective = solver.Objective()\n",
    "    \n",
    "    # For each stratum\n",
    "    for ix, row in dff.iterrows():\n",
    "        # probability of admission\n",
    "        numvar = solver.NumVar(0.0, 1.0, str(ix))\n",
    "        \n",
    "        # store variable by index, and also by stratum R, T\n",
    "        applicant_stratum.append(numvar)\n",
    "        vars_cache[(row['R'],row['T'])] = numvar\n",
    "        \n",
    "        alpha_j[(row['R'],row['T'])] = row['alpha_j']\n",
    "        \n",
    "        # Benefit of admitting people is total utility in that stratum\n",
    "        objective.SetCoefficient(applicant_stratum[ix], float(row['ml_outcomes']))\n",
    "        \n",
    "    objective.SetMaximization()\n",
    "\n",
    "    # Constraint: At most K applicants\n",
    "    K = int(len(df)*FRAC_ADMIT)\n",
    "    admit_quota = solver.Constraint(0, K)\n",
    "    \n",
    "    # Total admits cannot exceed K \n",
    "    for ix, row in dff.iterrows():\n",
    "        admit_quota.SetCoefficient(applicant_stratum[ix], float(row['N']))\n",
    "    \n",
    "    \n",
    "    sum_alpha = 0\n",
    "    R = 1 \n",
    "    \n",
    "    for T in list(dff[dff['R']==R]['T']):\n",
    "        sum_alpha+= alpha_j[(R,T)] \n",
    "        \n",
    "    cf_minority = solver.Constraint(sum_alpha, sum_alpha)\n",
    "    \n",
    "    for T in list(dff[dff['R']==R]['T']):    \n",
    "        cf_minority.SetCoefficient(vars_cache[(R,T)], alpha_j[(R,T)] )    \n",
    "    \n",
    "    sum_alpha = 0\n",
    "    R = 0\n",
    "    \n",
    "    for T in list(dff[dff['R']==R]['T']):\n",
    "        sum_alpha+= alpha_j[(R,T)] \n",
    "        \n",
    "    cf_majority = solver.Constraint(sum_alpha, sum_alpha)\n",
    "    \n",
    "    for T in list(dff[dff['R']==R]['T']):    \n",
    "        cf_majority.SetCoefficient(vars_cache[(R,T)], alpha_j[(R,T)] )\n",
    "        \n",
    "    status = solver.Solve()\n",
    "\n",
    "    if status != 2:\n",
    "        TOTAL_UTILITY = 0\n",
    "        for ix, row in dff.iterrows():\n",
    "            TOTAL_UTILITY += float(row['ml_outcomes'])* vars_cache[(row['R'],row['T'])].solution_value()\n",
    "        print(C_y,TOTAL_UTILITY)\n",
    "        \n",
    "        if TOTAL_UTILITY > max_utility:\n",
    "            row = []\n",
    "            admit = []\n",
    "        \n",
    "            for i in applicant_stratum:\n",
    "                row.append(int(str(i)))\n",
    "                admit.append(i.solution_value())\n",
    "            \n",
    "            df_decisions = pd.DataFrame({'row_id':row,'decision':admit})\n",
    "            \n",
    "            max_utility = TOTAL_UTILITY\n"
   ]
  },
  {
   "cell_type": "markdown",
   "metadata": {},
   "source": [
    "## Add CF Predictive Parity Constraints"
   ]
  },
  {
   "cell_type": "code",
   "execution_count": 16,
   "metadata": {
    "execution": {
     "iopub.execute_input": "2022-07-18T22:07:52.798992Z",
     "iopub.status.busy": "2022-07-18T22:07:52.798583Z",
     "iopub.status.idle": "2022-07-18T22:07:52.800423Z",
     "shell.execute_reply": "2022-07-18T22:07:52.800800Z"
    }
   },
   "outputs": [
    {
     "data": {
      "text/plain": [
       "32097.742933286772"
      ]
     },
     "execution_count": 16,
     "metadata": {},
     "output_type": "execute_result"
    }
   ],
   "source": [
    "max_utility"
   ]
  },
  {
   "cell_type": "code",
   "execution_count": 17,
   "metadata": {
    "execution": {
     "iopub.execute_input": "2022-07-18T22:07:52.810513Z",
     "iopub.status.busy": "2022-07-18T22:07:52.810057Z",
     "iopub.status.idle": "2022-07-18T22:07:52.811914Z",
     "shell.execute_reply": "2022-07-18T22:07:52.812282Z"
    }
   },
   "outputs": [
    {
     "data": {
      "text/html": [
       "<div>\n",
       "<style scoped>\n",
       "    .dataframe tbody tr th:only-of-type {\n",
       "        vertical-align: middle;\n",
       "    }\n",
       "\n",
       "    .dataframe tbody tr th {\n",
       "        vertical-align: top;\n",
       "    }\n",
       "\n",
       "    .dataframe thead th {\n",
       "        text-align: right;\n",
       "    }\n",
       "</style>\n",
       "<table border=\"1\" class=\"dataframe\">\n",
       "  <thead>\n",
       "    <tr style=\"text-align: right;\">\n",
       "      <th></th>\n",
       "      <th>level_0</th>\n",
       "      <th>index</th>\n",
       "      <th>R</th>\n",
       "      <th>T</th>\n",
       "      <th>ml_outcomes</th>\n",
       "      <th>N</th>\n",
       "      <th>ml_outcomes_prob</th>\n",
       "      <th>Pr(X=X_j)</th>\n",
       "      <th>alpha_j</th>\n",
       "      <th>row_id</th>\n",
       "      <th>decision</th>\n",
       "    </tr>\n",
       "  </thead>\n",
       "  <tbody>\n",
       "    <tr>\n",
       "      <th>45</th>\n",
       "      <td>0</td>\n",
       "      <td>45</td>\n",
       "      <td>0</td>\n",
       "      <td>58</td>\n",
       "      <td>1123.36</td>\n",
       "      <td>2006</td>\n",
       "      <td>0.536889</td>\n",
       "      <td>0.02006</td>\n",
       "      <td>-0.00929</td>\n",
       "      <td>45</td>\n",
       "      <td>0.0</td>\n",
       "    </tr>\n",
       "    <tr>\n",
       "      <th>46</th>\n",
       "      <td>1</td>\n",
       "      <td>46</td>\n",
       "      <td>0</td>\n",
       "      <td>59</td>\n",
       "      <td>1115.34</td>\n",
       "      <td>1923</td>\n",
       "      <td>0.581383</td>\n",
       "      <td>0.01923</td>\n",
       "      <td>-0.00805</td>\n",
       "      <td>46</td>\n",
       "      <td>0.0</td>\n",
       "    </tr>\n",
       "    <tr>\n",
       "      <th>44</th>\n",
       "      <td>2</td>\n",
       "      <td>44</td>\n",
       "      <td>0</td>\n",
       "      <td>57</td>\n",
       "      <td>1107.54</td>\n",
       "      <td>2051</td>\n",
       "      <td>0.563140</td>\n",
       "      <td>0.02051</td>\n",
       "      <td>-0.00896</td>\n",
       "      <td>44</td>\n",
       "      <td>0.0</td>\n",
       "    </tr>\n",
       "    <tr>\n",
       "      <th>42</th>\n",
       "      <td>3</td>\n",
       "      <td>42</td>\n",
       "      <td>0</td>\n",
       "      <td>55</td>\n",
       "      <td>1091.00</td>\n",
       "      <td>2182</td>\n",
       "      <td>0.499083</td>\n",
       "      <td>0.02182</td>\n",
       "      <td>-0.01093</td>\n",
       "      <td>42</td>\n",
       "      <td>0.0</td>\n",
       "    </tr>\n",
       "    <tr>\n",
       "      <th>49</th>\n",
       "      <td>4</td>\n",
       "      <td>49</td>\n",
       "      <td>0</td>\n",
       "      <td>62</td>\n",
       "      <td>1074.56</td>\n",
       "      <td>1679</td>\n",
       "      <td>0.625372</td>\n",
       "      <td>0.01679</td>\n",
       "      <td>-0.00629</td>\n",
       "      <td>49</td>\n",
       "      <td>1.0</td>\n",
       "    </tr>\n",
       "    <tr>\n",
       "      <th>...</th>\n",
       "      <td>...</td>\n",
       "      <td>...</td>\n",
       "      <td>...</td>\n",
       "      <td>...</td>\n",
       "      <td>...</td>\n",
       "      <td>...</td>\n",
       "      <td>...</td>\n",
       "      <td>...</td>\n",
       "      <td>...</td>\n",
       "      <td>...</td>\n",
       "      <td>...</td>\n",
       "    </tr>\n",
       "    <tr>\n",
       "      <th>104</th>\n",
       "      <td>187</td>\n",
       "      <td>104</td>\n",
       "      <td>1</td>\n",
       "      <td>7</td>\n",
       "      <td>0.25</td>\n",
       "      <td>1</td>\n",
       "      <td>0.000000</td>\n",
       "      <td>0.00001</td>\n",
       "      <td>-0.00001</td>\n",
       "      <td>104</td>\n",
       "      <td>1.0</td>\n",
       "    </tr>\n",
       "    <tr>\n",
       "      <th>1</th>\n",
       "      <td>188</td>\n",
       "      <td>1</td>\n",
       "      <td>0</td>\n",
       "      <td>13</td>\n",
       "      <td>0.10</td>\n",
       "      <td>1</td>\n",
       "      <td>0.000000</td>\n",
       "      <td>0.00001</td>\n",
       "      <td>-0.00001</td>\n",
       "      <td>1</td>\n",
       "      <td>0.0</td>\n",
       "    </tr>\n",
       "    <tr>\n",
       "      <th>2</th>\n",
       "      <td>189</td>\n",
       "      <td>2</td>\n",
       "      <td>0</td>\n",
       "      <td>15</td>\n",
       "      <td>0.07</td>\n",
       "      <td>1</td>\n",
       "      <td>0.000000</td>\n",
       "      <td>0.00001</td>\n",
       "      <td>-0.00001</td>\n",
       "      <td>2</td>\n",
       "      <td>0.0</td>\n",
       "    </tr>\n",
       "    <tr>\n",
       "      <th>3</th>\n",
       "      <td>190</td>\n",
       "      <td>3</td>\n",
       "      <td>0</td>\n",
       "      <td>16</td>\n",
       "      <td>0.06</td>\n",
       "      <td>2</td>\n",
       "      <td>0.000000</td>\n",
       "      <td>0.00002</td>\n",
       "      <td>-0.00002</td>\n",
       "      <td>3</td>\n",
       "      <td>0.0</td>\n",
       "    </tr>\n",
       "    <tr>\n",
       "      <th>0</th>\n",
       "      <td>191</td>\n",
       "      <td>0</td>\n",
       "      <td>0</td>\n",
       "      <td>12</td>\n",
       "      <td>0.02</td>\n",
       "      <td>1</td>\n",
       "      <td>0.000000</td>\n",
       "      <td>0.00001</td>\n",
       "      <td>-0.00001</td>\n",
       "      <td>0</td>\n",
       "      <td>0.0</td>\n",
       "    </tr>\n",
       "  </tbody>\n",
       "</table>\n",
       "<p>192 rows × 11 columns</p>\n",
       "</div>"
      ],
      "text/plain": [
       "     level_0  index  R   T  ml_outcomes     N  ml_outcomes_prob  Pr(X=X_j)  \\\n",
       "45         0     45  0  58      1123.36  2006          0.536889    0.02006   \n",
       "46         1     46  0  59      1115.34  1923          0.581383    0.01923   \n",
       "44         2     44  0  57      1107.54  2051          0.563140    0.02051   \n",
       "42         3     42  0  55      1091.00  2182          0.499083    0.02182   \n",
       "49         4     49  0  62      1074.56  1679          0.625372    0.01679   \n",
       "..       ...    ... ..  ..          ...   ...               ...        ...   \n",
       "104      187    104  1   7         0.25     1          0.000000    0.00001   \n",
       "1        188      1  0  13         0.10     1          0.000000    0.00001   \n",
       "2        189      2  0  15         0.07     1          0.000000    0.00001   \n",
       "3        190      3  0  16         0.06     2          0.000000    0.00002   \n",
       "0        191      0  0  12         0.02     1          0.000000    0.00001   \n",
       "\n",
       "     alpha_j  row_id  decision  \n",
       "45  -0.00929      45       0.0  \n",
       "46  -0.00805      46       0.0  \n",
       "44  -0.00896      44       0.0  \n",
       "42  -0.01093      42       0.0  \n",
       "49  -0.00629      49       1.0  \n",
       "..       ...     ...       ...  \n",
       "104 -0.00001     104       1.0  \n",
       "1   -0.00001       1       0.0  \n",
       "2   -0.00001       2       0.0  \n",
       "3   -0.00002       3       0.0  \n",
       "0   -0.00001       0       0.0  \n",
       "\n",
       "[192 rows x 11 columns]"
      ]
     },
     "execution_count": 17,
     "metadata": {},
     "output_type": "execute_result"
    }
   ],
   "source": [
    "dff.merge(df_decisions,left_index=True,right_index=True).sort_values(by='ml_outcomes',ascending=False)"
   ]
  },
  {
   "cell_type": "code",
   "execution_count": 18,
   "metadata": {
    "execution": {
     "iopub.execute_input": "2022-07-18T22:07:52.821789Z",
     "iopub.status.busy": "2022-07-18T22:07:52.821405Z",
     "iopub.status.idle": "2022-07-18T22:07:52.823053Z",
     "shell.execute_reply": "2022-07-18T22:07:52.823340Z"
    }
   },
   "outputs": [
    {
     "data": {
      "text/html": [
       "<div>\n",
       "<style scoped>\n",
       "    .dataframe tbody tr th:only-of-type {\n",
       "        vertical-align: middle;\n",
       "    }\n",
       "\n",
       "    .dataframe tbody tr th {\n",
       "        vertical-align: top;\n",
       "    }\n",
       "\n",
       "    .dataframe thead th {\n",
       "        text-align: right;\n",
       "    }\n",
       "</style>\n",
       "<table border=\"1\" class=\"dataframe\">\n",
       "  <thead>\n",
       "    <tr style=\"text-align: right;\">\n",
       "      <th></th>\n",
       "      <th>level_0</th>\n",
       "      <th>index</th>\n",
       "      <th>R</th>\n",
       "      <th>T</th>\n",
       "      <th>ml_outcomes</th>\n",
       "      <th>N</th>\n",
       "      <th>ml_outcomes_prob</th>\n",
       "      <th>Pr(X=X_j)</th>\n",
       "      <th>alpha_j</th>\n",
       "      <th>row_id</th>\n",
       "      <th>decision</th>\n",
       "    </tr>\n",
       "  </thead>\n",
       "  <tbody>\n",
       "    <tr>\n",
       "      <th>104</th>\n",
       "      <td>187</td>\n",
       "      <td>104</td>\n",
       "      <td>1</td>\n",
       "      <td>7</td>\n",
       "      <td>0.25</td>\n",
       "      <td>1</td>\n",
       "      <td>0.0</td>\n",
       "      <td>0.00001</td>\n",
       "      <td>-0.00001</td>\n",
       "      <td>104</td>\n",
       "      <td>1.0</td>\n",
       "    </tr>\n",
       "    <tr>\n",
       "      <th>0</th>\n",
       "      <td>191</td>\n",
       "      <td>0</td>\n",
       "      <td>0</td>\n",
       "      <td>12</td>\n",
       "      <td>0.02</td>\n",
       "      <td>1</td>\n",
       "      <td>0.0</td>\n",
       "      <td>0.00001</td>\n",
       "      <td>-0.00001</td>\n",
       "      <td>0</td>\n",
       "      <td>0.0</td>\n",
       "    </tr>\n",
       "    <tr>\n",
       "      <th>105</th>\n",
       "      <td>186</td>\n",
       "      <td>105</td>\n",
       "      <td>1</td>\n",
       "      <td>12</td>\n",
       "      <td>0.31</td>\n",
       "      <td>1</td>\n",
       "      <td>0.0</td>\n",
       "      <td>0.00001</td>\n",
       "      <td>-0.00001</td>\n",
       "      <td>105</td>\n",
       "      <td>1.0</td>\n",
       "    </tr>\n",
       "    <tr>\n",
       "      <th>106</th>\n",
       "      <td>182</td>\n",
       "      <td>106</td>\n",
       "      <td>1</td>\n",
       "      <td>13</td>\n",
       "      <td>0.60</td>\n",
       "      <td>2</td>\n",
       "      <td>0.0</td>\n",
       "      <td>0.00002</td>\n",
       "      <td>-0.00002</td>\n",
       "      <td>106</td>\n",
       "      <td>1.0</td>\n",
       "    </tr>\n",
       "    <tr>\n",
       "      <th>1</th>\n",
       "      <td>188</td>\n",
       "      <td>1</td>\n",
       "      <td>0</td>\n",
       "      <td>13</td>\n",
       "      <td>0.10</td>\n",
       "      <td>1</td>\n",
       "      <td>0.0</td>\n",
       "      <td>0.00001</td>\n",
       "      <td>-0.00001</td>\n",
       "      <td>1</td>\n",
       "      <td>0.0</td>\n",
       "    </tr>\n",
       "    <tr>\n",
       "      <th>...</th>\n",
       "      <td>...</td>\n",
       "      <td>...</td>\n",
       "      <td>...</td>\n",
       "      <td>...</td>\n",
       "      <td>...</td>\n",
       "      <td>...</td>\n",
       "      <td>...</td>\n",
       "      <td>...</td>\n",
       "      <td>...</td>\n",
       "      <td>...</td>\n",
       "      <td>...</td>\n",
       "    </tr>\n",
       "    <tr>\n",
       "      <th>99</th>\n",
       "      <td>161</td>\n",
       "      <td>99</td>\n",
       "      <td>0</td>\n",
       "      <td>113</td>\n",
       "      <td>1.98</td>\n",
       "      <td>2</td>\n",
       "      <td>1.0</td>\n",
       "      <td>0.00002</td>\n",
       "      <td>0.00000</td>\n",
       "      <td>99</td>\n",
       "      <td>1.0</td>\n",
       "    </tr>\n",
       "    <tr>\n",
       "      <th>100</th>\n",
       "      <td>177</td>\n",
       "      <td>100</td>\n",
       "      <td>0</td>\n",
       "      <td>115</td>\n",
       "      <td>1.00</td>\n",
       "      <td>1</td>\n",
       "      <td>1.0</td>\n",
       "      <td>0.00001</td>\n",
       "      <td>0.00000</td>\n",
       "      <td>100</td>\n",
       "      <td>1.0</td>\n",
       "    </tr>\n",
       "    <tr>\n",
       "      <th>101</th>\n",
       "      <td>176</td>\n",
       "      <td>101</td>\n",
       "      <td>0</td>\n",
       "      <td>116</td>\n",
       "      <td>1.00</td>\n",
       "      <td>1</td>\n",
       "      <td>1.0</td>\n",
       "      <td>0.00001</td>\n",
       "      <td>0.00000</td>\n",
       "      <td>101</td>\n",
       "      <td>1.0</td>\n",
       "    </tr>\n",
       "    <tr>\n",
       "      <th>102</th>\n",
       "      <td>179</td>\n",
       "      <td>102</td>\n",
       "      <td>0</td>\n",
       "      <td>118</td>\n",
       "      <td>0.98</td>\n",
       "      <td>1</td>\n",
       "      <td>1.0</td>\n",
       "      <td>0.00001</td>\n",
       "      <td>0.00000</td>\n",
       "      <td>102</td>\n",
       "      <td>1.0</td>\n",
       "    </tr>\n",
       "    <tr>\n",
       "      <th>103</th>\n",
       "      <td>175</td>\n",
       "      <td>103</td>\n",
       "      <td>0</td>\n",
       "      <td>130</td>\n",
       "      <td>1.00</td>\n",
       "      <td>1</td>\n",
       "      <td>1.0</td>\n",
       "      <td>0.00001</td>\n",
       "      <td>0.00000</td>\n",
       "      <td>103</td>\n",
       "      <td>1.0</td>\n",
       "    </tr>\n",
       "  </tbody>\n",
       "</table>\n",
       "<p>192 rows × 11 columns</p>\n",
       "</div>"
      ],
      "text/plain": [
       "     level_0  index  R    T  ml_outcomes  N  ml_outcomes_prob  Pr(X=X_j)  \\\n",
       "104      187    104  1    7         0.25  1               0.0    0.00001   \n",
       "0        191      0  0   12         0.02  1               0.0    0.00001   \n",
       "105      186    105  1   12         0.31  1               0.0    0.00001   \n",
       "106      182    106  1   13         0.60  2               0.0    0.00002   \n",
       "1        188      1  0   13         0.10  1               0.0    0.00001   \n",
       "..       ...    ... ..  ...          ... ..               ...        ...   \n",
       "99       161     99  0  113         1.98  2               1.0    0.00002   \n",
       "100      177    100  0  115         1.00  1               1.0    0.00001   \n",
       "101      176    101  0  116         1.00  1               1.0    0.00001   \n",
       "102      179    102  0  118         0.98  1               1.0    0.00001   \n",
       "103      175    103  0  130         1.00  1               1.0    0.00001   \n",
       "\n",
       "     alpha_j  row_id  decision  \n",
       "104 -0.00001     104       1.0  \n",
       "0   -0.00001       0       0.0  \n",
       "105 -0.00001     105       1.0  \n",
       "106 -0.00002     106       1.0  \n",
       "1   -0.00001       1       0.0  \n",
       "..       ...     ...       ...  \n",
       "99   0.00000      99       1.0  \n",
       "100  0.00000     100       1.0  \n",
       "101  0.00000     101       1.0  \n",
       "102  0.00000     102       1.0  \n",
       "103  0.00000     103       1.0  \n",
       "\n",
       "[192 rows x 11 columns]"
      ]
     },
     "execution_count": 18,
     "metadata": {},
     "output_type": "execute_result"
    }
   ],
   "source": [
    "xxx_ = dff.merge(df_decisions,left_index=True,right_index=True).sort_values(by='ml_outcomes',ascending=False)\n",
    "xxx_.sort_values(by='T')"
   ]
  },
  {
   "cell_type": "code",
   "execution_count": 19,
   "metadata": {
    "execution": {
     "iopub.execute_input": "2022-07-18T22:07:52.832161Z",
     "iopub.status.busy": "2022-07-18T22:07:52.831742Z",
     "iopub.status.idle": "2022-07-18T22:07:52.833376Z",
     "shell.execute_reply": "2022-07-18T22:07:52.833652Z"
    }
   },
   "outputs": [
    {
     "data": {
      "text/html": [
       "<div>\n",
       "<style scoped>\n",
       "    .dataframe tbody tr th:only-of-type {\n",
       "        vertical-align: middle;\n",
       "    }\n",
       "\n",
       "    .dataframe tbody tr th {\n",
       "        vertical-align: top;\n",
       "    }\n",
       "\n",
       "    .dataframe thead th {\n",
       "        text-align: right;\n",
       "    }\n",
       "</style>\n",
       "<table border=\"1\" class=\"dataframe\">\n",
       "  <thead>\n",
       "    <tr style=\"text-align: right;\">\n",
       "      <th></th>\n",
       "      <th>level_0</th>\n",
       "      <th>index</th>\n",
       "      <th>R</th>\n",
       "      <th>T</th>\n",
       "      <th>ml_outcomes</th>\n",
       "      <th>N</th>\n",
       "      <th>ml_outcomes_prob</th>\n",
       "      <th>Pr(X=X_j)</th>\n",
       "      <th>alpha_j</th>\n",
       "      <th>row_id</th>\n",
       "      <th>decision</th>\n",
       "    </tr>\n",
       "  </thead>\n",
       "  <tbody>\n",
       "    <tr>\n",
       "      <th>45</th>\n",
       "      <td>0</td>\n",
       "      <td>45</td>\n",
       "      <td>0</td>\n",
       "      <td>58</td>\n",
       "      <td>1123.36</td>\n",
       "      <td>2006</td>\n",
       "      <td>0.536889</td>\n",
       "      <td>0.02006</td>\n",
       "      <td>-0.00929</td>\n",
       "      <td>45</td>\n",
       "      <td>0.0</td>\n",
       "    </tr>\n",
       "    <tr>\n",
       "      <th>46</th>\n",
       "      <td>1</td>\n",
       "      <td>46</td>\n",
       "      <td>0</td>\n",
       "      <td>59</td>\n",
       "      <td>1115.34</td>\n",
       "      <td>1923</td>\n",
       "      <td>0.581383</td>\n",
       "      <td>0.01923</td>\n",
       "      <td>-0.00805</td>\n",
       "      <td>46</td>\n",
       "      <td>0.0</td>\n",
       "    </tr>\n",
       "    <tr>\n",
       "      <th>44</th>\n",
       "      <td>2</td>\n",
       "      <td>44</td>\n",
       "      <td>0</td>\n",
       "      <td>57</td>\n",
       "      <td>1107.54</td>\n",
       "      <td>2051</td>\n",
       "      <td>0.563140</td>\n",
       "      <td>0.02051</td>\n",
       "      <td>-0.00896</td>\n",
       "      <td>44</td>\n",
       "      <td>0.0</td>\n",
       "    </tr>\n",
       "    <tr>\n",
       "      <th>42</th>\n",
       "      <td>3</td>\n",
       "      <td>42</td>\n",
       "      <td>0</td>\n",
       "      <td>55</td>\n",
       "      <td>1091.00</td>\n",
       "      <td>2182</td>\n",
       "      <td>0.499083</td>\n",
       "      <td>0.02182</td>\n",
       "      <td>-0.01093</td>\n",
       "      <td>42</td>\n",
       "      <td>0.0</td>\n",
       "    </tr>\n",
       "    <tr>\n",
       "      <th>49</th>\n",
       "      <td>4</td>\n",
       "      <td>49</td>\n",
       "      <td>0</td>\n",
       "      <td>62</td>\n",
       "      <td>1074.56</td>\n",
       "      <td>1679</td>\n",
       "      <td>0.625372</td>\n",
       "      <td>0.01679</td>\n",
       "      <td>-0.00629</td>\n",
       "      <td>49</td>\n",
       "      <td>1.0</td>\n",
       "    </tr>\n",
       "    <tr>\n",
       "      <th>...</th>\n",
       "      <td>...</td>\n",
       "      <td>...</td>\n",
       "      <td>...</td>\n",
       "      <td>...</td>\n",
       "      <td>...</td>\n",
       "      <td>...</td>\n",
       "      <td>...</td>\n",
       "      <td>...</td>\n",
       "      <td>...</td>\n",
       "      <td>...</td>\n",
       "      <td>...</td>\n",
       "    </tr>\n",
       "    <tr>\n",
       "      <th>104</th>\n",
       "      <td>187</td>\n",
       "      <td>104</td>\n",
       "      <td>1</td>\n",
       "      <td>7</td>\n",
       "      <td>0.25</td>\n",
       "      <td>1</td>\n",
       "      <td>0.000000</td>\n",
       "      <td>0.00001</td>\n",
       "      <td>-0.00001</td>\n",
       "      <td>104</td>\n",
       "      <td>1.0</td>\n",
       "    </tr>\n",
       "    <tr>\n",
       "      <th>1</th>\n",
       "      <td>188</td>\n",
       "      <td>1</td>\n",
       "      <td>0</td>\n",
       "      <td>13</td>\n",
       "      <td>0.10</td>\n",
       "      <td>1</td>\n",
       "      <td>0.000000</td>\n",
       "      <td>0.00001</td>\n",
       "      <td>-0.00001</td>\n",
       "      <td>1</td>\n",
       "      <td>0.0</td>\n",
       "    </tr>\n",
       "    <tr>\n",
       "      <th>2</th>\n",
       "      <td>189</td>\n",
       "      <td>2</td>\n",
       "      <td>0</td>\n",
       "      <td>15</td>\n",
       "      <td>0.07</td>\n",
       "      <td>1</td>\n",
       "      <td>0.000000</td>\n",
       "      <td>0.00001</td>\n",
       "      <td>-0.00001</td>\n",
       "      <td>2</td>\n",
       "      <td>0.0</td>\n",
       "    </tr>\n",
       "    <tr>\n",
       "      <th>3</th>\n",
       "      <td>190</td>\n",
       "      <td>3</td>\n",
       "      <td>0</td>\n",
       "      <td>16</td>\n",
       "      <td>0.06</td>\n",
       "      <td>2</td>\n",
       "      <td>0.000000</td>\n",
       "      <td>0.00002</td>\n",
       "      <td>-0.00002</td>\n",
       "      <td>3</td>\n",
       "      <td>0.0</td>\n",
       "    </tr>\n",
       "    <tr>\n",
       "      <th>0</th>\n",
       "      <td>191</td>\n",
       "      <td>0</td>\n",
       "      <td>0</td>\n",
       "      <td>12</td>\n",
       "      <td>0.02</td>\n",
       "      <td>1</td>\n",
       "      <td>0.000000</td>\n",
       "      <td>0.00001</td>\n",
       "      <td>-0.00001</td>\n",
       "      <td>0</td>\n",
       "      <td>0.0</td>\n",
       "    </tr>\n",
       "  </tbody>\n",
       "</table>\n",
       "<p>192 rows × 11 columns</p>\n",
       "</div>"
      ],
      "text/plain": [
       "     level_0  index  R   T  ml_outcomes     N  ml_outcomes_prob  Pr(X=X_j)  \\\n",
       "45         0     45  0  58      1123.36  2006          0.536889    0.02006   \n",
       "46         1     46  0  59      1115.34  1923          0.581383    0.01923   \n",
       "44         2     44  0  57      1107.54  2051          0.563140    0.02051   \n",
       "42         3     42  0  55      1091.00  2182          0.499083    0.02182   \n",
       "49         4     49  0  62      1074.56  1679          0.625372    0.01679   \n",
       "..       ...    ... ..  ..          ...   ...               ...        ...   \n",
       "104      187    104  1   7         0.25     1          0.000000    0.00001   \n",
       "1        188      1  0  13         0.10     1          0.000000    0.00001   \n",
       "2        189      2  0  15         0.07     1          0.000000    0.00001   \n",
       "3        190      3  0  16         0.06     2          0.000000    0.00002   \n",
       "0        191      0  0  12         0.02     1          0.000000    0.00001   \n",
       "\n",
       "     alpha_j  row_id  decision  \n",
       "45  -0.00929      45       0.0  \n",
       "46  -0.00805      46       0.0  \n",
       "44  -0.00896      44       0.0  \n",
       "42  -0.01093      42       0.0  \n",
       "49  -0.00629      49       1.0  \n",
       "..       ...     ...       ...  \n",
       "104 -0.00001     104       1.0  \n",
       "1   -0.00001       1       0.0  \n",
       "2   -0.00001       2       0.0  \n",
       "3   -0.00002       3       0.0  \n",
       "0   -0.00001       0       0.0  \n",
       "\n",
       "[192 rows x 11 columns]"
      ]
     },
     "execution_count": 19,
     "metadata": {},
     "output_type": "execute_result"
    }
   ],
   "source": [
    "xxx = dff.merge(df_decisions,left_index=True,right_index=True).sort_values(by='ml_outcomes',ascending=False)\n",
    "xxx"
   ]
  },
  {
   "cell_type": "code",
   "execution_count": 20,
   "metadata": {
    "execution": {
     "iopub.execute_input": "2022-07-18T22:07:52.835976Z",
     "iopub.status.busy": "2022-07-18T22:07:52.835603Z",
     "iopub.status.idle": "2022-07-18T22:07:52.837079Z",
     "shell.execute_reply": "2022-07-18T22:07:52.837403Z"
    }
   },
   "outputs": [
    {
     "data": {
      "text/plain": [
       "192"
      ]
     },
     "execution_count": 20,
     "metadata": {},
     "output_type": "execute_result"
    }
   ],
   "source": [
    "len(xxx_)"
   ]
  },
  {
   "cell_type": "code",
   "execution_count": null,
   "metadata": {},
   "outputs": [],
   "source": []
  },
  {
   "cell_type": "code",
   "execution_count": null,
   "metadata": {},
   "outputs": [],
   "source": []
  },
  {
   "cell_type": "code",
   "execution_count": 21,
   "metadata": {
    "execution": {
     "iopub.execute_input": "2022-07-18T22:07:52.845298Z",
     "iopub.status.busy": "2022-07-18T22:07:52.844890Z",
     "iopub.status.idle": "2022-07-18T22:07:52.846536Z",
     "shell.execute_reply": "2022-07-18T22:07:52.846772Z"
    }
   },
   "outputs": [
    {
     "data": {
      "text/html": [
       "<div>\n",
       "<style scoped>\n",
       "    .dataframe tbody tr th:only-of-type {\n",
       "        vertical-align: middle;\n",
       "    }\n",
       "\n",
       "    .dataframe tbody tr th {\n",
       "        vertical-align: top;\n",
       "    }\n",
       "\n",
       "    .dataframe thead th {\n",
       "        text-align: right;\n",
       "    }\n",
       "</style>\n",
       "<table border=\"1\" class=\"dataframe\">\n",
       "  <thead>\n",
       "    <tr style=\"text-align: right;\">\n",
       "      <th></th>\n",
       "      <th>level_0</th>\n",
       "      <th>index</th>\n",
       "      <th>R</th>\n",
       "      <th>T</th>\n",
       "      <th>ml_outcomes</th>\n",
       "      <th>N</th>\n",
       "      <th>ml_outcomes_prob</th>\n",
       "      <th>Pr(X=X_j)</th>\n",
       "      <th>alpha_j</th>\n",
       "      <th>row_id</th>\n",
       "      <th>decision</th>\n",
       "    </tr>\n",
       "  </thead>\n",
       "  <tbody>\n",
       "    <tr>\n",
       "      <th>45</th>\n",
       "      <td>0</td>\n",
       "      <td>45</td>\n",
       "      <td>0</td>\n",
       "      <td>58</td>\n",
       "      <td>1123.36</td>\n",
       "      <td>2006</td>\n",
       "      <td>0.536889</td>\n",
       "      <td>0.02006</td>\n",
       "      <td>-0.00929</td>\n",
       "      <td>45</td>\n",
       "      <td>0.0</td>\n",
       "    </tr>\n",
       "    <tr>\n",
       "      <th>46</th>\n",
       "      <td>1</td>\n",
       "      <td>46</td>\n",
       "      <td>0</td>\n",
       "      <td>59</td>\n",
       "      <td>1115.34</td>\n",
       "      <td>1923</td>\n",
       "      <td>0.581383</td>\n",
       "      <td>0.01923</td>\n",
       "      <td>-0.00805</td>\n",
       "      <td>46</td>\n",
       "      <td>0.0</td>\n",
       "    </tr>\n",
       "    <tr>\n",
       "      <th>44</th>\n",
       "      <td>2</td>\n",
       "      <td>44</td>\n",
       "      <td>0</td>\n",
       "      <td>57</td>\n",
       "      <td>1107.54</td>\n",
       "      <td>2051</td>\n",
       "      <td>0.563140</td>\n",
       "      <td>0.02051</td>\n",
       "      <td>-0.00896</td>\n",
       "      <td>44</td>\n",
       "      <td>0.0</td>\n",
       "    </tr>\n",
       "    <tr>\n",
       "      <th>42</th>\n",
       "      <td>3</td>\n",
       "      <td>42</td>\n",
       "      <td>0</td>\n",
       "      <td>55</td>\n",
       "      <td>1091.00</td>\n",
       "      <td>2182</td>\n",
       "      <td>0.499083</td>\n",
       "      <td>0.02182</td>\n",
       "      <td>-0.01093</td>\n",
       "      <td>42</td>\n",
       "      <td>0.0</td>\n",
       "    </tr>\n",
       "    <tr>\n",
       "      <th>49</th>\n",
       "      <td>4</td>\n",
       "      <td>49</td>\n",
       "      <td>0</td>\n",
       "      <td>62</td>\n",
       "      <td>1074.56</td>\n",
       "      <td>1679</td>\n",
       "      <td>0.625372</td>\n",
       "      <td>0.01679</td>\n",
       "      <td>-0.00629</td>\n",
       "      <td>49</td>\n",
       "      <td>1.0</td>\n",
       "    </tr>\n",
       "    <tr>\n",
       "      <th>...</th>\n",
       "      <td>...</td>\n",
       "      <td>...</td>\n",
       "      <td>...</td>\n",
       "      <td>...</td>\n",
       "      <td>...</td>\n",
       "      <td>...</td>\n",
       "      <td>...</td>\n",
       "      <td>...</td>\n",
       "      <td>...</td>\n",
       "      <td>...</td>\n",
       "      <td>...</td>\n",
       "    </tr>\n",
       "    <tr>\n",
       "      <th>104</th>\n",
       "      <td>187</td>\n",
       "      <td>104</td>\n",
       "      <td>1</td>\n",
       "      <td>7</td>\n",
       "      <td>0.25</td>\n",
       "      <td>1</td>\n",
       "      <td>0.000000</td>\n",
       "      <td>0.00001</td>\n",
       "      <td>-0.00001</td>\n",
       "      <td>104</td>\n",
       "      <td>1.0</td>\n",
       "    </tr>\n",
       "    <tr>\n",
       "      <th>1</th>\n",
       "      <td>188</td>\n",
       "      <td>1</td>\n",
       "      <td>0</td>\n",
       "      <td>13</td>\n",
       "      <td>0.10</td>\n",
       "      <td>1</td>\n",
       "      <td>0.000000</td>\n",
       "      <td>0.00001</td>\n",
       "      <td>-0.00001</td>\n",
       "      <td>1</td>\n",
       "      <td>0.0</td>\n",
       "    </tr>\n",
       "    <tr>\n",
       "      <th>2</th>\n",
       "      <td>189</td>\n",
       "      <td>2</td>\n",
       "      <td>0</td>\n",
       "      <td>15</td>\n",
       "      <td>0.07</td>\n",
       "      <td>1</td>\n",
       "      <td>0.000000</td>\n",
       "      <td>0.00001</td>\n",
       "      <td>-0.00001</td>\n",
       "      <td>2</td>\n",
       "      <td>0.0</td>\n",
       "    </tr>\n",
       "    <tr>\n",
       "      <th>3</th>\n",
       "      <td>190</td>\n",
       "      <td>3</td>\n",
       "      <td>0</td>\n",
       "      <td>16</td>\n",
       "      <td>0.06</td>\n",
       "      <td>2</td>\n",
       "      <td>0.000000</td>\n",
       "      <td>0.00002</td>\n",
       "      <td>-0.00002</td>\n",
       "      <td>3</td>\n",
       "      <td>0.0</td>\n",
       "    </tr>\n",
       "    <tr>\n",
       "      <th>0</th>\n",
       "      <td>191</td>\n",
       "      <td>0</td>\n",
       "      <td>0</td>\n",
       "      <td>12</td>\n",
       "      <td>0.02</td>\n",
       "      <td>1</td>\n",
       "      <td>0.000000</td>\n",
       "      <td>0.00001</td>\n",
       "      <td>-0.00001</td>\n",
       "      <td>0</td>\n",
       "      <td>0.0</td>\n",
       "    </tr>\n",
       "  </tbody>\n",
       "</table>\n",
       "<p>192 rows × 11 columns</p>\n",
       "</div>"
      ],
      "text/plain": [
       "     level_0  index  R   T  ml_outcomes     N  ml_outcomes_prob  Pr(X=X_j)  \\\n",
       "45         0     45  0  58      1123.36  2006          0.536889    0.02006   \n",
       "46         1     46  0  59      1115.34  1923          0.581383    0.01923   \n",
       "44         2     44  0  57      1107.54  2051          0.563140    0.02051   \n",
       "42         3     42  0  55      1091.00  2182          0.499083    0.02182   \n",
       "49         4     49  0  62      1074.56  1679          0.625372    0.01679   \n",
       "..       ...    ... ..  ..          ...   ...               ...        ...   \n",
       "104      187    104  1   7         0.25     1          0.000000    0.00001   \n",
       "1        188      1  0  13         0.10     1          0.000000    0.00001   \n",
       "2        189      2  0  15         0.07     1          0.000000    0.00001   \n",
       "3        190      3  0  16         0.06     2          0.000000    0.00002   \n",
       "0        191      0  0  12         0.02     1          0.000000    0.00001   \n",
       "\n",
       "     alpha_j  row_id  decision  \n",
       "45  -0.00929      45       0.0  \n",
       "46  -0.00805      46       0.0  \n",
       "44  -0.00896      44       0.0  \n",
       "42  -0.01093      42       0.0  \n",
       "49  -0.00629      49       1.0  \n",
       "..       ...     ...       ...  \n",
       "104 -0.00001     104       1.0  \n",
       "1   -0.00001       1       0.0  \n",
       "2   -0.00001       2       0.0  \n",
       "3   -0.00002       3       0.0  \n",
       "0   -0.00001       0       0.0  \n",
       "\n",
       "[192 rows x 11 columns]"
      ]
     },
     "execution_count": 21,
     "metadata": {},
     "output_type": "execute_result"
    }
   ],
   "source": [
    "xxx"
   ]
  },
  {
   "cell_type": "code",
   "execution_count": 22,
   "metadata": {
    "execution": {
     "iopub.execute_input": "2022-07-18T22:07:52.849503Z",
     "iopub.status.busy": "2022-07-18T22:07:52.849159Z",
     "iopub.status.idle": "2022-07-18T22:07:52.850692Z",
     "shell.execute_reply": "2022-07-18T22:07:52.850923Z"
    }
   },
   "outputs": [
    {
     "data": {
      "text/plain": [
       "32097.742933286776"
      ]
     },
     "execution_count": 22,
     "metadata": {},
     "output_type": "execute_result"
    }
   ],
   "source": [
    "(xxx['ml_outcomes']*xxx['decision']).sum()"
   ]
  },
  {
   "cell_type": "code",
   "execution_count": 23,
   "metadata": {
    "execution": {
     "iopub.execute_input": "2022-07-18T22:07:52.854086Z",
     "iopub.status.busy": "2022-07-18T22:07:52.853697Z",
     "iopub.status.idle": "2022-07-18T22:07:52.854735Z",
     "shell.execute_reply": "2022-07-18T22:07:52.855023Z"
    }
   },
   "outputs": [],
   "source": [
    "def maxMLOutcomes(frac_minority=0.01):\n",
    "    minority_admits = int(K*frac_minority)\n",
    "    majority_admits = int(K*(1-frac_minority))\n",
    "    \n",
    "    b = df[df['R']==1].sort_values(by='ml_outcomes',ascending=False).head(n=minority_admits)\n",
    "    w = df[df['R']==0].sort_values(by='ml_outcomes',ascending=False).head(n=majority_admits)\n",
    "    \n",
    "    return b['Y'].sum() + w['Y'].sum()    "
   ]
  },
  {
   "cell_type": "code",
   "execution_count": 24,
   "metadata": {
    "execution": {
     "iopub.execute_input": "2022-07-18T22:07:52.857962Z",
     "iopub.status.busy": "2022-07-18T22:07:52.857582Z",
     "iopub.status.idle": "2022-07-18T22:07:52.858781Z",
     "shell.execute_reply": "2022-07-18T22:07:52.859069Z"
    }
   },
   "outputs": [],
   "source": [
    "def maxMLOutcomesminority(frac_minority=0.01):\n",
    "    minority_admits = int(K*frac_minority)\n",
    "    majority_admits = int(K*(1-frac_minority))\n",
    "    \n",
    "    b = df[df['R']==1].sort_values(by='ml_outcomes',ascending=False).head(n=minority_admits)\n",
    "    w = df[df['R']==0].sort_values(by='ml_outcomes',ascending=False).head(n=majority_admits)\n",
    "    \n",
    "    return b['Y'].sum()   "
   ]
  },
  {
   "cell_type": "code",
   "execution_count": 25,
   "metadata": {
    "execution": {
     "iopub.execute_input": "2022-07-18T22:07:52.971613Z",
     "iopub.status.busy": "2022-07-18T22:07:52.971259Z",
     "iopub.status.idle": "2022-07-18T22:07:52.972565Z",
     "shell.execute_reply": "2022-07-18T22:07:52.972810Z"
    }
   },
   "outputs": [],
   "source": [
    "df['key'] = df['R'].astype(str)+'_'+df['T'].astype(str)\n",
    "xxx['key'] = xxx['R'].astype(str)+'_'+xxx['T'].astype(str)"
   ]
  },
  {
   "cell_type": "code",
   "execution_count": 26,
   "metadata": {
    "execution": {
     "iopub.execute_input": "2022-07-18T22:07:52.975218Z",
     "iopub.status.busy": "2022-07-18T22:07:52.974833Z",
     "iopub.status.idle": "2022-07-18T22:07:52.976736Z",
     "shell.execute_reply": "2022-07-18T22:07:52.976975Z"
    }
   },
   "outputs": [
    {
     "data": {
      "text/plain": [
       "192"
      ]
     },
     "execution_count": 26,
     "metadata": {},
     "output_type": "execute_result"
    }
   ],
   "source": [
    "len(xxx)"
   ]
  },
  {
   "cell_type": "code",
   "execution_count": 27,
   "metadata": {
    "execution": {
     "iopub.execute_input": "2022-07-18T22:07:52.986755Z",
     "iopub.status.busy": "2022-07-18T22:07:52.986389Z",
     "iopub.status.idle": "2022-07-18T22:07:53.023007Z",
     "shell.execute_reply": "2022-07-18T22:07:53.023228Z"
    }
   },
   "outputs": [],
   "source": [
    "admit_decisions = df.merge(xxx,how='left',on='key')\n",
    "admit_decisions['decision_random'] = pd.Series([random.random() for x in range(0,len(admit_decisions))]) < FRAC_ADMIT\n",
    "\n",
    "\n",
    "FRAC_minority_POLICY = (admit_decisions['R_y'] * admit_decisions['decision']).sum()/admit_decisions['decision'].sum()\n",
    "SUM_BP_POLICY = ( admit_decisions['Y'] * admit_decisions['decision']).sum()\n",
    "\n",
    "FRAC_RANDOM_POLICY = (admit_decisions['R_y'] * admit_decisions['decision_random']).sum()/admit_decisions['decision_random'].sum()\n",
    "SUM_BP_RAND_POLICY = ( admit_decisions['Y'] * admit_decisions['decision_random']).sum()\n"
   ]
  },
  {
   "cell_type": "code",
   "execution_count": 28,
   "metadata": {
    "execution": {
     "iopub.execute_input": "2022-07-18T22:07:53.025993Z",
     "iopub.status.busy": "2022-07-18T22:07:53.025633Z",
     "iopub.status.idle": "2022-07-18T22:07:53.027203Z",
     "shell.execute_reply": "2022-07-18T22:07:53.027491Z"
    }
   },
   "outputs": [
    {
     "data": {
      "text/plain": [
       "('0.5556530652803978', '25032.000000000007')"
      ]
     },
     "execution_count": 28,
     "metadata": {},
     "output_type": "execute_result"
    }
   ],
   "source": [
    "str(FRAC_minority_POLICY),str(SUM_BP_POLICY)"
   ]
  },
  {
   "cell_type": "code",
   "execution_count": 29,
   "metadata": {
    "execution": {
     "iopub.execute_input": "2022-07-18T22:07:53.030349Z",
     "iopub.status.busy": "2022-07-18T22:07:53.029993Z",
     "iopub.status.idle": "2022-07-18T22:07:53.031382Z",
     "shell.execute_reply": "2022-07-18T22:07:53.031669Z"
    }
   },
   "outputs": [],
   "source": [
    "file = open('./lp_results.csv','a')\n",
    "file.write('{}\\t{}\\t{}\\n'.format('Counterfactual Pred. Parity',str(FRAC_minority_POLICY),str(SUM_BP_POLICY)))\n",
    "file.close()\n"
   ]
  },
  {
   "cell_type": "code",
   "execution_count": 30,
   "metadata": {
    "execution": {
     "iopub.execute_input": "2022-07-18T22:07:53.034602Z",
     "iopub.status.busy": "2022-07-18T22:07:53.034187Z",
     "iopub.status.idle": "2022-07-18T22:07:53.035880Z",
     "shell.execute_reply": "2022-07-18T22:07:53.036116Z"
    }
   },
   "outputs": [
    {
     "data": {
      "text/plain": [
       "0.5000000000000001"
      ]
     },
     "execution_count": 30,
     "metadata": {},
     "output_type": "execute_result"
    }
   ],
   "source": [
    "(xxx['N']*xxx['decision']).sum()/len(df)"
   ]
  },
  {
   "cell_type": "code",
   "execution_count": 31,
   "metadata": {
    "execution": {
     "iopub.execute_input": "2022-07-18T22:07:53.049365Z",
     "iopub.status.busy": "2022-07-18T22:07:53.048996Z",
     "iopub.status.idle": "2022-07-18T22:07:53.162861Z",
     "shell.execute_reply": "2022-07-18T22:07:53.163106Z"
    }
   },
   "outputs": [
    {
     "data": {
      "text/plain": [
       "<matplotlib.lines.Line2D at 0x7fc7a966a3a0>"
      ]
     },
     "execution_count": 31,
     "metadata": {},
     "output_type": "execute_result"
    },
    {
     "data": {
      "image/png": "[encoded data removed]",
      "text/plain": [
       "<Figure size 1440x595.44 with 1 Axes>"
      ]
     },
     "metadata": {},
     "output_type": "display_data"
    }
   ],
   "source": [
    "sns.set(rc={'figure.figsize':(20,8.27)})\n",
    "sns.set(font_scale=2)  # crazy big\n",
    "g = sns.scatterplot(x='T',y='decision',hue='R',data=xxx[xxx['R']==1])\n",
    "g.set(xlim=(0, 150))\n",
    "plt.axvline(70.5, 0,1,color='red')\n"
   ]
  },
  {
   "cell_type": "code",
   "execution_count": 32,
   "metadata": {
    "execution": {
     "iopub.execute_input": "2022-07-18T22:07:53.191583Z",
     "iopub.status.busy": "2022-07-18T22:07:53.191151Z",
     "iopub.status.idle": "2022-07-18T22:07:53.285683Z",
     "shell.execute_reply": "2022-07-18T22:07:53.285992Z"
    }
   },
   "outputs": [
    {
     "data": {
      "text/plain": [
       "<matplotlib.lines.Line2D at 0x7fc7c842efd0>"
      ]
     },
     "execution_count": 32,
     "metadata": {},
     "output_type": "execute_result"
    },
    {
     "data": {
      "image/png": "[encoded data removed]",
      "text/plain": [
       "<Figure size 1440x595.44 with 1 Axes>"
      ]
     },
     "metadata": {},
     "output_type": "display_data"
    }
   ],
   "source": [
    "sns.set(rc={'figure.figsize':(20,8.27)})\n",
    "sns.set(font_scale=2)  # crazy big\n",
    "g = sns.scatterplot(x='T',y='decision',hue='R',data=xxx[xxx['R']==0])\n",
    "g.set(xlim=(0, 150))\n",
    "plt.axvline(52.5, 0,1,color='red')\n",
    "\n"
   ]
  },
  {
   "cell_type": "code",
   "execution_count": 33,
   "metadata": {
    "execution": {
     "iopub.execute_input": "2022-07-18T22:07:53.289119Z",
     "iopub.status.busy": "2022-07-18T22:07:53.288699Z",
     "iopub.status.idle": "2022-07-18T22:07:53.305675Z",
     "shell.execute_reply": "2022-07-18T22:07:53.305971Z"
    }
   },
   "outputs": [
    {
     "data": {
      "text/html": [
       "<div>\n",
       "<style scoped>\n",
       "    .dataframe tbody tr th:only-of-type {\n",
       "        vertical-align: middle;\n",
       "    }\n",
       "\n",
       "    .dataframe tbody tr th {\n",
       "        vertical-align: top;\n",
       "    }\n",
       "\n",
       "    .dataframe thead th {\n",
       "        text-align: right;\n",
       "    }\n",
       "</style>\n",
       "<table border=\"1\" class=\"dataframe\">\n",
       "  <thead>\n",
       "    <tr style=\"text-align: right;\">\n",
       "      <th></th>\n",
       "      <th>Y</th>\n",
       "    </tr>\n",
       "    <tr>\n",
       "      <th>R_x</th>\n",
       "      <th></th>\n",
       "    </tr>\n",
       "  </thead>\n",
       "  <tbody>\n",
       "    <tr>\n",
       "      <th>0</th>\n",
       "      <td>0.379451</td>\n",
       "    </tr>\n",
       "    <tr>\n",
       "      <th>1</th>\n",
       "      <td>0.409815</td>\n",
       "    </tr>\n",
       "  </tbody>\n",
       "</table>\n",
       "</div>"
      ],
      "text/plain": [
       "            Y\n",
       "R_x          \n",
       "0    0.379451\n",
       "1    0.409815"
      ]
     },
     "execution_count": 33,
     "metadata": {},
     "output_type": "execute_result"
    }
   ],
   "source": [
    "admit_decisions[admit_decisions['decision']==0][['R_x','Y']].groupby(['R_x']).mean()"
   ]
  },
  {
   "cell_type": "code",
   "execution_count": 34,
   "metadata": {
    "execution": {
     "iopub.execute_input": "2022-07-18T22:07:53.308751Z",
     "iopub.status.busy": "2022-07-18T22:07:53.308364Z",
     "iopub.status.idle": "2022-07-18T22:07:53.309962Z",
     "shell.execute_reply": "2022-07-18T22:07:53.310257Z"
    }
   },
   "outputs": [
    {
     "data": {
      "text/plain": [
       "('0.5556530652803978', '25032.000000000007')"
      ]
     },
     "execution_count": 34,
     "metadata": {},
     "output_type": "execute_result"
    }
   ],
   "source": [
    "str(FRAC_minority_POLICY),str(SUM_BP_POLICY)"
   ]
  },
  {
   "cell_type": "code",
   "execution_count": null,
   "metadata": {},
   "outputs": [],
   "source": []
  },
  {
   "cell_type": "code",
   "execution_count": 35,
   "metadata": {
    "execution": {
     "iopub.execute_input": "2022-07-18T22:07:53.312953Z",
     "iopub.status.busy": "2022-07-18T22:07:53.312535Z",
     "iopub.status.idle": "2022-07-18T22:07:53.314109Z",
     "shell.execute_reply": "2022-07-18T22:07:53.314400Z"
    }
   },
   "outputs": [
    {
     "data": {
      "text/plain": [
       "0.5006400000000002"
      ]
     },
     "execution_count": 35,
     "metadata": {},
     "output_type": "execute_result"
    }
   ],
   "source": [
    "SUM_BP_POLICY/(FRAC_ADMIT*len(df))"
   ]
  },
  {
   "cell_type": "code",
   "execution_count": 36,
   "metadata": {
    "execution": {
     "iopub.execute_input": "2022-07-18T22:07:53.316792Z",
     "iopub.status.busy": "2022-07-18T22:07:53.316434Z",
     "iopub.status.idle": "2022-07-18T22:07:53.317956Z",
     "shell.execute_reply": "2022-07-18T22:07:53.318200Z"
    }
   },
   "outputs": [
    {
     "data": {
      "text/plain": [
       "('0.5556530652803978', '25032.000000000007')"
      ]
     },
     "execution_count": 36,
     "metadata": {},
     "output_type": "execute_result"
    }
   ],
   "source": [
    "str(FRAC_minority_POLICY),str(SUM_BP_POLICY)"
   ]
  },
  {
   "cell_type": "code",
   "execution_count": 37,
   "metadata": {
    "execution": {
     "iopub.execute_input": "2022-07-18T22:07:53.320638Z",
     "iopub.status.busy": "2022-07-18T22:07:53.320270Z",
     "iopub.status.idle": "2022-07-18T22:07:53.324741Z",
     "shell.execute_reply": "2022-07-18T22:07:53.325029Z"
    }
   },
   "outputs": [
    {
     "data": {
      "text/plain": [
       "0.49911301262652613"
      ]
     },
     "execution_count": 37,
     "metadata": {},
     "output_type": "execute_result"
    }
   ],
   "source": [
    "admit_decisions[admit_decisions['decision']==1]['Y'].mean()"
   ]
  },
  {
   "cell_type": "code",
   "execution_count": 38,
   "metadata": {
    "execution": {
     "iopub.execute_input": "2022-07-18T22:07:53.327477Z",
     "iopub.status.busy": "2022-07-18T22:07:53.327087Z",
     "iopub.status.idle": "2022-07-18T22:07:53.329259Z",
     "shell.execute_reply": "2022-07-18T22:07:53.329550Z"
    }
   },
   "outputs": [
    {
     "data": {
      "text/plain": [
       "32097.742933286765"
      ]
     },
     "execution_count": 38,
     "metadata": {},
     "output_type": "execute_result"
    }
   ],
   "source": [
    "(admit_decisions['decision'] * admit_decisions['ml_outcomes_x']).sum()"
   ]
  },
  {
   "cell_type": "code",
   "execution_count": 39,
   "metadata": {
    "execution": {
     "iopub.execute_input": "2022-07-18T22:07:53.332050Z",
     "iopub.status.busy": "2022-07-18T22:07:53.331648Z",
     "iopub.status.idle": "2022-07-18T22:07:53.333657Z",
     "shell.execute_reply": "2022-07-18T22:07:53.333935Z"
    }
   },
   "outputs": [
    {
     "data": {
      "text/plain": [
       "25032.000000000007"
      ]
     },
     "execution_count": 39,
     "metadata": {},
     "output_type": "execute_result"
    }
   ],
   "source": [
    "(admit_decisions['decision'] * admit_decisions['Y']).sum()"
   ]
  },
  {
   "cell_type": "code",
   "execution_count": 40,
   "metadata": {
    "execution": {
     "iopub.execute_input": "2022-07-18T22:07:53.336376Z",
     "iopub.status.busy": "2022-07-18T22:07:53.335985Z",
     "iopub.status.idle": "2022-07-18T22:07:53.340154Z",
     "shell.execute_reply": "2022-07-18T22:07:53.340443Z"
    }
   },
   "outputs": [
    {
     "data": {
      "text/plain": [
       "23915"
      ]
     },
     "execution_count": 40,
     "metadata": {},
     "output_type": "execute_result"
    }
   ],
   "source": [
    "admit_decisions[admit_decisions['decision']==1]['Y'].sum()"
   ]
  },
  {
   "cell_type": "code",
   "execution_count": 41,
   "metadata": {
    "execution": {
     "iopub.execute_input": "2022-07-18T22:07:53.343575Z",
     "iopub.status.busy": "2022-07-18T22:07:53.343170Z",
     "iopub.status.idle": "2022-07-18T22:07:53.344650Z",
     "shell.execute_reply": "2022-07-18T22:07:53.345016Z"
    }
   },
   "outputs": [
    {
     "data": {
      "text/plain": [
       "0.5006400000000002"
      ]
     },
     "execution_count": 41,
     "metadata": {},
     "output_type": "execute_result"
    }
   ],
   "source": [
    "(admit_decisions['decision'] * admit_decisions['Y']).sum()/(len(admit_decisions)*FRAC_ADMIT)"
   ]
  },
  {
   "cell_type": "code",
   "execution_count": 42,
   "metadata": {
    "execution": {
     "iopub.execute_input": "2022-07-18T22:07:53.347243Z",
     "iopub.status.busy": "2022-07-18T22:07:53.346849Z",
     "iopub.status.idle": "2022-07-18T22:07:53.348851Z",
     "shell.execute_reply": "2022-07-18T22:07:53.349131Z"
    }
   },
   "outputs": [
    {
     "data": {
      "text/plain": [
       "50000.000000000015"
      ]
     },
     "execution_count": 42,
     "metadata": {},
     "output_type": "execute_result"
    }
   ],
   "source": [
    "(admit_decisions['decision'].sum())"
   ]
  },
  {
   "cell_type": "code",
   "execution_count": 43,
   "metadata": {
    "execution": {
     "iopub.execute_input": "2022-07-18T22:07:53.366265Z",
     "iopub.status.busy": "2022-07-18T22:07:53.365876Z",
     "iopub.status.idle": "2022-07-18T22:07:53.367987Z",
     "shell.execute_reply": "2022-07-18T22:07:53.368267Z"
    }
   },
   "outputs": [],
   "source": [
    "admit_decisions['rand'] = pd.Series([random.random() for x in range(0,len(admit_decisions))])\n",
    "admit_decisions['dec_binary'] = admit_decisions['rand'] < admit_decisions['decision']\n"
   ]
  },
  {
   "cell_type": "code",
   "execution_count": 44,
   "metadata": {
    "execution": {
     "iopub.execute_input": "2022-07-18T22:07:53.370834Z",
     "iopub.status.busy": "2022-07-18T22:07:53.370455Z",
     "iopub.status.idle": "2022-07-18T22:07:53.386008Z",
     "shell.execute_reply": "2022-07-18T22:07:53.386362Z"
    }
   },
   "outputs": [
    {
     "data": {
      "text/html": [
       "<div>\n",
       "<style scoped>\n",
       "    .dataframe tbody tr th:only-of-type {\n",
       "        vertical-align: middle;\n",
       "    }\n",
       "\n",
       "    .dataframe tbody tr th {\n",
       "        vertical-align: top;\n",
       "    }\n",
       "\n",
       "    .dataframe thead th {\n",
       "        text-align: right;\n",
       "    }\n",
       "</style>\n",
       "<table border=\"1\" class=\"dataframe\">\n",
       "  <thead>\n",
       "    <tr style=\"text-align: right;\">\n",
       "      <th></th>\n",
       "      <th>Y</th>\n",
       "    </tr>\n",
       "    <tr>\n",
       "      <th>R_x</th>\n",
       "      <th></th>\n",
       "    </tr>\n",
       "  </thead>\n",
       "  <tbody>\n",
       "    <tr>\n",
       "      <th>0</th>\n",
       "      <td>0.379983</td>\n",
       "    </tr>\n",
       "    <tr>\n",
       "      <th>1</th>\n",
       "      <td>0.379816</td>\n",
       "    </tr>\n",
       "  </tbody>\n",
       "</table>\n",
       "</div>"
      ],
      "text/plain": [
       "            Y\n",
       "R_x          \n",
       "0    0.379983\n",
       "1    0.379816"
      ]
     },
     "execution_count": 44,
     "metadata": {},
     "output_type": "execute_result"
    }
   ],
   "source": [
    "admit_decisions[admit_decisions['dec_binary']==0][['R_x','Y']].groupby(['R_x']).mean()"
   ]
  },
  {
   "cell_type": "code",
   "execution_count": 45,
   "metadata": {
    "execution": {
     "iopub.execute_input": "2022-07-18T22:07:53.389794Z",
     "iopub.status.busy": "2022-07-18T22:07:53.389394Z",
     "iopub.status.idle": "2022-07-18T22:07:53.390919Z",
     "shell.execute_reply": "2022-07-18T22:07:53.391141Z"
    }
   },
   "outputs": [
    {
     "data": {
      "text/plain": [
       "0    66718\n",
       "1    33282\n",
       "Name: R_x, dtype: int64"
      ]
     },
     "execution_count": 45,
     "metadata": {},
     "output_type": "execute_result"
    }
   ],
   "source": [
    "admit_decisions['R_x'].value_counts()"
   ]
  },
  {
   "cell_type": "code",
   "execution_count": null,
   "metadata": {},
   "outputs": [],
   "source": []
  },
  {
   "cell_type": "code",
   "execution_count": null,
   "metadata": {},
   "outputs": [],
   "source": []
  },
  {
   "cell_type": "code",
   "execution_count": null,
   "metadata": {},
   "outputs": [],
   "source": []
  }
 ],
 "metadata": {
  "kernelspec": {
   "display_name": "Python 3 (ipykernel)",
   "language": "python",
   "name": "python3"
  },
  "language_info": {
   "codemirror_mode": {
    "name": "ipython",
    "version": 3
   },
   "file_extension": ".py",
   "mimetype": "text/x-python",
   "name": "python",
   "nbconvert_exporter": "python",
   "pygments_lexer": "ipython3",
   "version": "3.9.7"
  }
 },
 "nbformat": 4,
 "nbformat_minor": 4
}
