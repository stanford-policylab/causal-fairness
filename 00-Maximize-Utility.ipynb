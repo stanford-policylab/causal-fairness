{
 "cells": [
  {
   "cell_type": "code",
   "execution_count": 1,
   "metadata": {
    "execution": {
     "iopub.execute_input": "2022-06-15T07:28:52.727783Z",
     "iopub.status.busy": "2022-06-15T07:28:52.727075Z",
     "iopub.status.idle": "2022-06-15T07:29:07.482779Z",
     "shell.execute_reply": "2022-06-15T07:29:07.483039Z"
    }
   },
   "outputs": [],
   "source": [
    "import numpy as np\n",
    "import pandas as pd\n",
    "import matplotlib.pyplot as plt\n",
    "import seaborn as sns\n",
    "import random\n",
    "pd.options.display.max_rows = 10\n",
    "pd.options.display.max_columns = 500"
   ]
  },
  {
   "cell_type": "code",
   "execution_count": 2,
   "metadata": {
    "execution": {
     "iopub.execute_input": "2022-06-15T07:29:07.487373Z",
     "iopub.status.busy": "2022-06-15T07:29:07.486953Z",
     "iopub.status.idle": "2022-06-15T07:29:32.795692Z",
     "shell.execute_reply": "2022-06-15T07:29:32.795951Z"
    }
   },
   "outputs": [],
   "source": [
    "DIVERSITY_UTILITY = 0.25\n",
    "FRAC_ADMIT = 0.5\n",
    "\n",
    "\n",
    "###\n",
    "## Load dataframe where each row is a single applicant\n",
    "###\n",
    "\n",
    "df = pd.read_csv('./df_test.csv')\n",
    "df['key'] = df['R'].astype(str) + \"_\"  + df['T'].astype(str)\n",
    "\n",
    "###\n",
    "## Estimate E[Y(1)|T, A]\n",
    "###\n",
    "\n",
    "df_train = pd.read_csv('./df_train.csv')\n",
    "df_stratum_utility = df_train[['R','T','B_p']].groupby(['R','T']).mean().reset_index()\n",
    "df_stratum_utility['stratum_utility'] = (df_stratum_utility['B_p'] + DIVERSITY_UTILITY * df_stratum_utility['R']).round(2)\n",
    "df_stratum_utility['key'] = df_stratum_utility['R'].astype(str) + \"_\" + df_stratum_utility['T'].astype(str)\n",
    "\n",
    "df = df.merge(df_stratum_utility[['stratum_utility','key']], on='key')\n",
    "df['ml_outcomes'] = df['stratum_utility']"
   ]
  },
  {
   "cell_type": "code",
   "execution_count": 3,
   "metadata": {
    "execution": {
     "iopub.execute_input": "2022-06-15T07:29:32.799449Z",
     "iopub.status.busy": "2022-06-15T07:29:32.798854Z",
     "iopub.status.idle": "2022-06-15T07:29:32.816695Z",
     "shell.execute_reply": "2022-06-15T07:29:32.816936Z"
    }
   },
   "outputs": [
    {
     "data": {
      "text/html": [
       "<div>\n",
       "<style scoped>\n",
       "    .dataframe tbody tr th:only-of-type {\n",
       "        vertical-align: middle;\n",
       "    }\n",
       "\n",
       "    .dataframe tbody tr th {\n",
       "        vertical-align: top;\n",
       "    }\n",
       "\n",
       "    .dataframe thead th {\n",
       "        text-align: right;\n",
       "    }\n",
       "</style>\n",
       "<table border=\"1\" class=\"dataframe\">\n",
       "  <thead>\n",
       "    <tr style=\"text-align: right;\">\n",
       "      <th></th>\n",
       "      <th>R</th>\n",
       "      <th>T</th>\n",
       "      <th>ml_outcomes</th>\n",
       "      <th>T_black</th>\n",
       "      <th>T_white</th>\n",
       "      <th>B_p</th>\n",
       "    </tr>\n",
       "  </thead>\n",
       "  <tbody>\n",
       "    <tr>\n",
       "      <th>99985</th>\n",
       "      <td>0</td>\n",
       "      <td>14</td>\n",
       "      <td>0.03</td>\n",
       "      <td>13</td>\n",
       "      <td>14</td>\n",
       "      <td>0</td>\n",
       "    </tr>\n",
       "    <tr>\n",
       "      <th>99986</th>\n",
       "      <td>0</td>\n",
       "      <td>12</td>\n",
       "      <td>0.05</td>\n",
       "      <td>10</td>\n",
       "      <td>12</td>\n",
       "      <td>0</td>\n",
       "    </tr>\n",
       "    <tr>\n",
       "      <th>99935</th>\n",
       "      <td>0</td>\n",
       "      <td>19</td>\n",
       "      <td>0.06</td>\n",
       "      <td>15</td>\n",
       "      <td>19</td>\n",
       "      <td>0</td>\n",
       "    </tr>\n",
       "    <tr>\n",
       "      <th>99928</th>\n",
       "      <td>0</td>\n",
       "      <td>19</td>\n",
       "      <td>0.06</td>\n",
       "      <td>18</td>\n",
       "      <td>19</td>\n",
       "      <td>0</td>\n",
       "    </tr>\n",
       "    <tr>\n",
       "      <th>99929</th>\n",
       "      <td>0</td>\n",
       "      <td>19</td>\n",
       "      <td>0.06</td>\n",
       "      <td>14</td>\n",
       "      <td>19</td>\n",
       "      <td>0</td>\n",
       "    </tr>\n",
       "    <tr>\n",
       "      <th>...</th>\n",
       "      <td>...</td>\n",
       "      <td>...</td>\n",
       "      <td>...</td>\n",
       "      <td>...</td>\n",
       "      <td>...</td>\n",
       "      <td>...</td>\n",
       "    </tr>\n",
       "    <tr>\n",
       "      <th>99977</th>\n",
       "      <td>1</td>\n",
       "      <td>95</td>\n",
       "      <td>1.20</td>\n",
       "      <td>95</td>\n",
       "      <td>109</td>\n",
       "      <td>1</td>\n",
       "    </tr>\n",
       "    <tr>\n",
       "      <th>99994</th>\n",
       "      <td>1</td>\n",
       "      <td>94</td>\n",
       "      <td>1.23</td>\n",
       "      <td>94</td>\n",
       "      <td>108</td>\n",
       "      <td>1</td>\n",
       "    </tr>\n",
       "    <tr>\n",
       "      <th>99914</th>\n",
       "      <td>1</td>\n",
       "      <td>101</td>\n",
       "      <td>1.25</td>\n",
       "      <td>101</td>\n",
       "      <td>116</td>\n",
       "      <td>0</td>\n",
       "    </tr>\n",
       "    <tr>\n",
       "      <th>99996</th>\n",
       "      <td>1</td>\n",
       "      <td>104</td>\n",
       "      <td>1.25</td>\n",
       "      <td>104</td>\n",
       "      <td>121</td>\n",
       "      <td>1</td>\n",
       "    </tr>\n",
       "    <tr>\n",
       "      <th>99974</th>\n",
       "      <td>1</td>\n",
       "      <td>97</td>\n",
       "      <td>1.25</td>\n",
       "      <td>97</td>\n",
       "      <td>114</td>\n",
       "      <td>1</td>\n",
       "    </tr>\n",
       "  </tbody>\n",
       "</table>\n",
       "<p>100000 rows × 6 columns</p>\n",
       "</div>"
      ],
      "text/plain": [
       "       R    T  ml_outcomes  T_black  T_white  B_p\n",
       "99985  0   14         0.03       13       14    0\n",
       "99986  0   12         0.05       10       12    0\n",
       "99935  0   19         0.06       15       19    0\n",
       "99928  0   19         0.06       18       19    0\n",
       "99929  0   19         0.06       14       19    0\n",
       "...   ..  ...          ...      ...      ...  ...\n",
       "99977  1   95         1.20       95      109    1\n",
       "99994  1   94         1.23       94      108    1\n",
       "99914  1  101         1.25      101      116    0\n",
       "99996  1  104         1.25      104      121    1\n",
       "99974  1   97         1.25       97      114    1\n",
       "\n",
       "[100000 rows x 6 columns]"
      ]
     },
     "execution_count": 3,
     "metadata": {},
     "output_type": "execute_result"
    }
   ],
   "source": [
    "##\n",
    "# R = race, T = test score, ml_outcomes = expected utility from admitting, \n",
    "# ml_outcomes_{} counterfactual utility given race \n",
    "##\n",
    "\n",
    "df[['R','T','ml_outcomes','T_black','T_white','B_p']].sort_values(by='ml_outcomes')\n",
    "\n"
   ]
  },
  {
   "cell_type": "code",
   "execution_count": 4,
   "metadata": {
    "execution": {
     "iopub.execute_input": "2022-06-15T07:29:32.819473Z",
     "iopub.status.busy": "2022-06-15T07:29:32.819009Z",
     "iopub.status.idle": "2022-06-15T07:29:32.820270Z",
     "shell.execute_reply": "2022-06-15T07:29:32.820516Z"
    }
   },
   "outputs": [],
   "source": [
    "#df['ml_outcomes'] = df['ml_outcomes'] + 1*df['R']"
   ]
  },
  {
   "cell_type": "code",
   "execution_count": 5,
   "metadata": {
    "execution": {
     "iopub.execute_input": "2022-06-15T07:29:32.825120Z",
     "iopub.status.busy": "2022-06-15T07:29:32.824734Z",
     "iopub.status.idle": "2022-06-15T07:29:32.829845Z",
     "shell.execute_reply": "2022-06-15T07:29:32.830082Z"
    }
   },
   "outputs": [],
   "source": [
    "###\n",
    "## Get total utility from admitting people in a stratum \n",
    "###\n",
    "\n",
    "df_ = df[['R','T','ml_outcomes']].groupby(['R','T']).sum().reset_index()"
   ]
  },
  {
   "cell_type": "code",
   "execution_count": 6,
   "metadata": {
    "execution": {
     "iopub.execute_input": "2022-06-15T07:29:32.833678Z",
     "iopub.status.busy": "2022-06-15T07:29:32.833315Z",
     "iopub.status.idle": "2022-06-15T07:29:32.838281Z",
     "shell.execute_reply": "2022-06-15T07:29:32.838520Z"
    }
   },
   "outputs": [],
   "source": [
    "###\n",
    "## Get number of people in each stratum\n",
    "###\n",
    "\n",
    "df_count = df[['R','T','ml_outcomes']].groupby(['R','T']).count().reset_index()\n",
    "df_count.columns = ['R','T','Count']\n",
    "df_count['N'] = df_count['Count']"
   ]
  },
  {
   "cell_type": "code",
   "execution_count": 7,
   "metadata": {
    "execution": {
     "iopub.execute_input": "2022-06-15T07:29:32.842986Z",
     "iopub.status.busy": "2022-06-15T07:29:32.842620Z",
     "iopub.status.idle": "2022-06-15T07:29:32.844612Z",
     "shell.execute_reply": "2022-06-15T07:29:32.845065Z"
    }
   },
   "outputs": [],
   "source": [
    "###\n",
    "## Merge summary tables to get one table with Race, Test Score, SUM(Utility), COUNT(applicants) per stratum\n",
    "###\n",
    "\n",
    "dff = df_.merge(df_count[['N']],left_index=True,right_index=True).sort_values(by='ml_outcomes',ascending=False).reset_index().sort_values(by='index').reset_index()"
   ]
  },
  {
   "cell_type": "code",
   "execution_count": 8,
   "metadata": {
    "execution": {
     "iopub.execute_input": "2022-06-15T07:29:32.851992Z",
     "iopub.status.busy": "2022-06-15T07:29:32.851566Z",
     "iopub.status.idle": "2022-06-15T07:29:32.853193Z",
     "shell.execute_reply": "2022-06-15T07:29:32.853492Z"
    }
   },
   "outputs": [
    {
     "data": {
      "text/html": [
       "<div>\n",
       "<style scoped>\n",
       "    .dataframe tbody tr th:only-of-type {\n",
       "        vertical-align: middle;\n",
       "    }\n",
       "\n",
       "    .dataframe tbody tr th {\n",
       "        vertical-align: top;\n",
       "    }\n",
       "\n",
       "    .dataframe thead th {\n",
       "        text-align: right;\n",
       "    }\n",
       "</style>\n",
       "<table border=\"1\" class=\"dataframe\">\n",
       "  <thead>\n",
       "    <tr style=\"text-align: right;\">\n",
       "      <th></th>\n",
       "      <th>level_0</th>\n",
       "      <th>index</th>\n",
       "      <th>R</th>\n",
       "      <th>T</th>\n",
       "      <th>ml_outcomes</th>\n",
       "      <th>N</th>\n",
       "    </tr>\n",
       "  </thead>\n",
       "  <tbody>\n",
       "    <tr>\n",
       "      <th>1</th>\n",
       "      <td>192</td>\n",
       "      <td>1</td>\n",
       "      <td>0</td>\n",
       "      <td>14</td>\n",
       "      <td>0.03</td>\n",
       "      <td>1</td>\n",
       "    </tr>\n",
       "    <tr>\n",
       "      <th>0</th>\n",
       "      <td>191</td>\n",
       "      <td>0</td>\n",
       "      <td>0</td>\n",
       "      <td>12</td>\n",
       "      <td>0.05</td>\n",
       "      <td>1</td>\n",
       "    </tr>\n",
       "    <tr>\n",
       "      <th>3</th>\n",
       "      <td>190</td>\n",
       "      <td>3</td>\n",
       "      <td>0</td>\n",
       "      <td>16</td>\n",
       "      <td>0.14</td>\n",
       "      <td>2</td>\n",
       "    </tr>\n",
       "    <tr>\n",
       "      <th>2</th>\n",
       "      <td>189</td>\n",
       "      <td>2</td>\n",
       "      <td>0</td>\n",
       "      <td>15</td>\n",
       "      <td>0.18</td>\n",
       "      <td>2</td>\n",
       "    </tr>\n",
       "    <tr>\n",
       "      <th>105</th>\n",
       "      <td>188</td>\n",
       "      <td>105</td>\n",
       "      <td>1</td>\n",
       "      <td>8</td>\n",
       "      <td>0.25</td>\n",
       "      <td>1</td>\n",
       "    </tr>\n",
       "    <tr>\n",
       "      <th>...</th>\n",
       "      <td>...</td>\n",
       "      <td>...</td>\n",
       "      <td>...</td>\n",
       "      <td>...</td>\n",
       "      <td>...</td>\n",
       "      <td>...</td>\n",
       "    </tr>\n",
       "    <tr>\n",
       "      <th>44</th>\n",
       "      <td>4</td>\n",
       "      <td>44</td>\n",
       "      <td>0</td>\n",
       "      <td>57</td>\n",
       "      <td>1071.36</td>\n",
       "      <td>1984</td>\n",
       "    </tr>\n",
       "    <tr>\n",
       "      <th>45</th>\n",
       "      <td>3</td>\n",
       "      <td>45</td>\n",
       "      <td>0</td>\n",
       "      <td>58</td>\n",
       "      <td>1083.04</td>\n",
       "      <td>1934</td>\n",
       "    </tr>\n",
       "    <tr>\n",
       "      <th>47</th>\n",
       "      <td>2</td>\n",
       "      <td>47</td>\n",
       "      <td>0</td>\n",
       "      <td>60</td>\n",
       "      <td>1092.00</td>\n",
       "      <td>1820</td>\n",
       "    </tr>\n",
       "    <tr>\n",
       "      <th>43</th>\n",
       "      <td>1</td>\n",
       "      <td>43</td>\n",
       "      <td>0</td>\n",
       "      <td>56</td>\n",
       "      <td>1105.00</td>\n",
       "      <td>2125</td>\n",
       "    </tr>\n",
       "    <tr>\n",
       "      <th>46</th>\n",
       "      <td>0</td>\n",
       "      <td>46</td>\n",
       "      <td>0</td>\n",
       "      <td>59</td>\n",
       "      <td>1125.20</td>\n",
       "      <td>1940</td>\n",
       "    </tr>\n",
       "  </tbody>\n",
       "</table>\n",
       "<p>193 rows × 6 columns</p>\n",
       "</div>"
      ],
      "text/plain": [
       "     level_0  index  R   T  ml_outcomes     N\n",
       "1        192      1  0  14         0.03     1\n",
       "0        191      0  0  12         0.05     1\n",
       "3        190      3  0  16         0.14     2\n",
       "2        189      2  0  15         0.18     2\n",
       "105      188    105  1   8         0.25     1\n",
       "..       ...    ... ..  ..          ...   ...\n",
       "44         4     44  0  57      1071.36  1984\n",
       "45         3     45  0  58      1083.04  1934\n",
       "47         2     47  0  60      1092.00  1820\n",
       "43         1     43  0  56      1105.00  2125\n",
       "46         0     46  0  59      1125.20  1940\n",
       "\n",
       "[193 rows x 6 columns]"
      ]
     },
     "execution_count": 8,
     "metadata": {},
     "output_type": "execute_result"
    }
   ],
   "source": [
    "# final info table\n",
    "dff.sort_values(by='ml_outcomes')"
   ]
  },
  {
   "cell_type": "code",
   "execution_count": null,
   "metadata": {},
   "outputs": [],
   "source": []
  },
  {
   "cell_type": "markdown",
   "metadata": {},
   "source": [
    "### Setup optimization problem "
   ]
  },
  {
   "cell_type": "code",
   "execution_count": 9,
   "metadata": {
    "execution": {
     "iopub.execute_input": "2022-06-15T07:29:32.856279Z",
     "iopub.status.busy": "2022-06-15T07:29:32.855907Z",
     "iopub.status.idle": "2022-06-15T07:29:34.188514Z",
     "shell.execute_reply": "2022-06-15T07:29:34.188769Z"
    }
   },
   "outputs": [],
   "source": [
    "from ortools.linear_solver import pywraplp\n"
   ]
  },
  {
   "cell_type": "code",
   "execution_count": 10,
   "metadata": {
    "execution": {
     "iopub.execute_input": "2022-06-15T07:29:34.191875Z",
     "iopub.status.busy": "2022-06-15T07:29:34.191491Z",
     "iopub.status.idle": "2022-06-15T07:29:34.192802Z",
     "shell.execute_reply": "2022-06-15T07:29:34.193052Z"
    }
   },
   "outputs": [],
   "source": [
    "solver = pywraplp.Solver.CreateSolver('GLOP')\n"
   ]
  },
  {
   "cell_type": "code",
   "execution_count": 11,
   "metadata": {
    "execution": {
     "iopub.execute_input": "2022-06-15T07:29:34.198139Z",
     "iopub.status.busy": "2022-06-15T07:29:34.195965Z",
     "iopub.status.idle": "2022-06-15T07:29:34.201542Z",
     "shell.execute_reply": "2022-06-15T07:29:34.201916Z"
    }
   },
   "outputs": [
    {
     "data": {
      "text/html": [
       "<div>\n",
       "<style scoped>\n",
       "    .dataframe tbody tr th:only-of-type {\n",
       "        vertical-align: middle;\n",
       "    }\n",
       "\n",
       "    .dataframe tbody tr th {\n",
       "        vertical-align: top;\n",
       "    }\n",
       "\n",
       "    .dataframe thead th {\n",
       "        text-align: right;\n",
       "    }\n",
       "</style>\n",
       "<table border=\"1\" class=\"dataframe\">\n",
       "  <thead>\n",
       "    <tr style=\"text-align: right;\">\n",
       "      <th></th>\n",
       "      <th>level_0</th>\n",
       "      <th>index</th>\n",
       "      <th>R</th>\n",
       "      <th>T</th>\n",
       "      <th>ml_outcomes</th>\n",
       "      <th>N</th>\n",
       "    </tr>\n",
       "  </thead>\n",
       "  <tbody>\n",
       "    <tr>\n",
       "      <th>0</th>\n",
       "      <td>191</td>\n",
       "      <td>0</td>\n",
       "      <td>0</td>\n",
       "      <td>12</td>\n",
       "      <td>0.05</td>\n",
       "      <td>1</td>\n",
       "    </tr>\n",
       "    <tr>\n",
       "      <th>1</th>\n",
       "      <td>192</td>\n",
       "      <td>1</td>\n",
       "      <td>0</td>\n",
       "      <td>14</td>\n",
       "      <td>0.03</td>\n",
       "      <td>1</td>\n",
       "    </tr>\n",
       "    <tr>\n",
       "      <th>2</th>\n",
       "      <td>189</td>\n",
       "      <td>2</td>\n",
       "      <td>0</td>\n",
       "      <td>15</td>\n",
       "      <td>0.18</td>\n",
       "      <td>2</td>\n",
       "    </tr>\n",
       "    <tr>\n",
       "      <th>3</th>\n",
       "      <td>190</td>\n",
       "      <td>3</td>\n",
       "      <td>0</td>\n",
       "      <td>16</td>\n",
       "      <td>0.14</td>\n",
       "      <td>2</td>\n",
       "    </tr>\n",
       "    <tr>\n",
       "      <th>4</th>\n",
       "      <td>185</td>\n",
       "      <td>4</td>\n",
       "      <td>0</td>\n",
       "      <td>17</td>\n",
       "      <td>0.28</td>\n",
       "      <td>4</td>\n",
       "    </tr>\n",
       "    <tr>\n",
       "      <th>...</th>\n",
       "      <td>...</td>\n",
       "      <td>...</td>\n",
       "      <td>...</td>\n",
       "      <td>...</td>\n",
       "      <td>...</td>\n",
       "      <td>...</td>\n",
       "    </tr>\n",
       "    <tr>\n",
       "      <th>188</th>\n",
       "      <td>170</td>\n",
       "      <td>188</td>\n",
       "      <td>1</td>\n",
       "      <td>94</td>\n",
       "      <td>1.23</td>\n",
       "      <td>1</td>\n",
       "    </tr>\n",
       "    <tr>\n",
       "      <th>189</th>\n",
       "      <td>172</td>\n",
       "      <td>189</td>\n",
       "      <td>1</td>\n",
       "      <td>95</td>\n",
       "      <td>1.20</td>\n",
       "      <td>1</td>\n",
       "    </tr>\n",
       "    <tr>\n",
       "      <th>190</th>\n",
       "      <td>167</td>\n",
       "      <td>190</td>\n",
       "      <td>1</td>\n",
       "      <td>97</td>\n",
       "      <td>1.25</td>\n",
       "      <td>1</td>\n",
       "    </tr>\n",
       "    <tr>\n",
       "      <th>191</th>\n",
       "      <td>168</td>\n",
       "      <td>191</td>\n",
       "      <td>1</td>\n",
       "      <td>101</td>\n",
       "      <td>1.25</td>\n",
       "      <td>1</td>\n",
       "    </tr>\n",
       "    <tr>\n",
       "      <th>192</th>\n",
       "      <td>169</td>\n",
       "      <td>192</td>\n",
       "      <td>1</td>\n",
       "      <td>104</td>\n",
       "      <td>1.25</td>\n",
       "      <td>1</td>\n",
       "    </tr>\n",
       "  </tbody>\n",
       "</table>\n",
       "<p>193 rows × 6 columns</p>\n",
       "</div>"
      ],
      "text/plain": [
       "     level_0  index  R    T  ml_outcomes  N\n",
       "0        191      0  0   12         0.05  1\n",
       "1        192      1  0   14         0.03  1\n",
       "2        189      2  0   15         0.18  2\n",
       "3        190      3  0   16         0.14  2\n",
       "4        185      4  0   17         0.28  4\n",
       "..       ...    ... ..  ...          ... ..\n",
       "188      170    188  1   94         1.23  1\n",
       "189      172    189  1   95         1.20  1\n",
       "190      167    190  1   97         1.25  1\n",
       "191      168    191  1  101         1.25  1\n",
       "192      169    192  1  104         1.25  1\n",
       "\n",
       "[193 rows x 6 columns]"
      ]
     },
     "execution_count": 11,
     "metadata": {},
     "output_type": "execute_result"
    }
   ],
   "source": [
    "dff"
   ]
  },
  {
   "cell_type": "code",
   "execution_count": 12,
   "metadata": {
    "execution": {
     "iopub.execute_input": "2022-06-15T07:29:34.211114Z",
     "iopub.status.busy": "2022-06-15T07:29:34.203334Z",
     "iopub.status.idle": "2022-06-15T07:29:34.212631Z",
     "shell.execute_reply": "2022-06-15T07:29:34.212873Z"
    }
   },
   "outputs": [],
   "source": [
    "applicant_stratum = []\n",
    "vars_cache = {}\n",
    "\n",
    "# Objective: Maximize the expected utility of the admitted students\n",
    "objective = solver.Objective()\n",
    "\n",
    "# For each stratum\n",
    "for ix, row in dff.iterrows():\n",
    "    # probability of admission\n",
    "    numvar = solver.NumVar(0.0, 1.0, str(ix))\n",
    "    \n",
    "    # store variable by index, and also by stratum R, T\n",
    "    applicant_stratum.append(numvar)\n",
    "    vars_cache[(row['R'],row['T'])] = numvar\n",
    "    \n",
    "    # Benefit of admitting people is total utility in that stratum\n",
    "    objective.SetCoefficient(applicant_stratum[ix], float(row['ml_outcomes']))\n",
    "objective.SetMaximization()\n"
   ]
  },
  {
   "cell_type": "code",
   "execution_count": 13,
   "metadata": {
    "execution": {
     "iopub.execute_input": "2022-06-15T07:29:34.215565Z",
     "iopub.status.busy": "2022-06-15T07:29:34.215188Z",
     "iopub.status.idle": "2022-06-15T07:29:34.216775Z",
     "shell.execute_reply": "2022-06-15T07:29:34.217083Z"
    }
   },
   "outputs": [
    {
     "data": {
      "text/plain": [
       "0"
      ]
     },
     "execution_count": 13,
     "metadata": {},
     "output_type": "execute_result"
    }
   ],
   "source": [
    "# Currently we have no constraints \n",
    "solver.NumConstraints()"
   ]
  },
  {
   "cell_type": "code",
   "execution_count": 14,
   "metadata": {
    "execution": {
     "iopub.execute_input": "2022-06-15T07:29:34.224507Z",
     "iopub.status.busy": "2022-06-15T07:29:34.224079Z",
     "iopub.status.idle": "2022-06-15T07:29:34.225679Z",
     "shell.execute_reply": "2022-06-15T07:29:34.225929Z"
    },
    "scrolled": true
   },
   "outputs": [
    {
     "name": "stdout",
     "output_type": "stream",
     "text": [
      "50000\n"
     ]
    }
   ],
   "source": [
    "# Constraint: At most K applicants\n",
    "K = int(len(df)*FRAC_ADMIT)\n",
    "print(K)\n",
    "admit_quota = solver.Constraint(0, K)\n",
    "\n",
    "# Total admits cannot exceed K \n",
    "for ix, row in dff.iterrows():\n",
    "    admit_quota.SetCoefficient(applicant_stratum[ix], float(row['N']))"
   ]
  },
  {
   "cell_type": "code",
   "execution_count": 15,
   "metadata": {
    "execution": {
     "iopub.execute_input": "2022-06-15T07:29:34.228601Z",
     "iopub.status.busy": "2022-06-15T07:29:34.228155Z",
     "iopub.status.idle": "2022-06-15T07:29:34.229885Z",
     "shell.execute_reply": "2022-06-15T07:29:34.230202Z"
    }
   },
   "outputs": [
    {
     "data": {
      "text/plain": [
       "1"
      ]
     },
     "execution_count": 15,
     "metadata": {},
     "output_type": "execute_result"
    }
   ],
   "source": [
    "# Now we have one constraint\n",
    "solver.NumConstraints()"
   ]
  },
  {
   "cell_type": "markdown",
   "metadata": {},
   "source": [
    "## Solve linear program"
   ]
  },
  {
   "cell_type": "code",
   "execution_count": 16,
   "metadata": {
    "execution": {
     "iopub.execute_input": "2022-06-15T07:29:34.232882Z",
     "iopub.status.busy": "2022-06-15T07:29:34.232489Z",
     "iopub.status.idle": "2022-06-15T07:29:34.234075Z",
     "shell.execute_reply": "2022-06-15T07:29:34.234357Z"
    }
   },
   "outputs": [
    {
     "data": {
      "text/plain": [
       "4"
      ]
     },
     "execution_count": 16,
     "metadata": {},
     "output_type": "execute_result"
    }
   ],
   "source": [
    "solver.ABNORMAL"
   ]
  },
  {
   "cell_type": "code",
   "execution_count": 17,
   "metadata": {
    "execution": {
     "iopub.execute_input": "2022-06-15T07:29:34.237382Z",
     "iopub.status.busy": "2022-06-15T07:29:34.236953Z",
     "iopub.status.idle": "2022-06-15T07:29:34.238479Z",
     "shell.execute_reply": "2022-06-15T07:29:34.238773Z"
    }
   },
   "outputs": [],
   "source": [
    "status = solver.Solve()\n"
   ]
  },
  {
   "cell_type": "code",
   "execution_count": 18,
   "metadata": {
    "execution": {
     "iopub.execute_input": "2022-06-15T07:29:34.241263Z",
     "iopub.status.busy": "2022-06-15T07:29:34.240880Z",
     "iopub.status.idle": "2022-06-15T07:29:34.242545Z",
     "shell.execute_reply": "2022-06-15T07:29:34.242826Z"
    }
   },
   "outputs": [
    {
     "data": {
      "text/plain": [
       "0"
      ]
     },
     "execution_count": 18,
     "metadata": {},
     "output_type": "execute_result"
    }
   ],
   "source": [
    "status"
   ]
  },
  {
   "cell_type": "code",
   "execution_count": 19,
   "metadata": {
    "execution": {
     "iopub.execute_input": "2022-06-15T07:29:34.245747Z",
     "iopub.status.busy": "2022-06-15T07:29:34.245342Z",
     "iopub.status.idle": "2022-06-15T07:29:34.246852Z",
     "shell.execute_reply": "2022-06-15T07:29:34.247242Z"
    }
   },
   "outputs": [
    {
     "data": {
      "text/plain": [
       "0"
      ]
     },
     "execution_count": 19,
     "metadata": {},
     "output_type": "execute_result"
    }
   ],
   "source": [
    "solver.OPTIMAL"
   ]
  },
  {
   "cell_type": "code",
   "execution_count": 20,
   "metadata": {
    "execution": {
     "iopub.execute_input": "2022-06-15T07:29:34.250748Z",
     "iopub.status.busy": "2022-06-15T07:29:34.250401Z",
     "iopub.status.idle": "2022-06-15T07:29:34.251568Z",
     "shell.execute_reply": "2022-06-15T07:29:34.251877Z"
    },
    "scrolled": true
   },
   "outputs": [],
   "source": [
    "row = []\n",
    "admit = []\n",
    "\n",
    "for i in applicant_stratum:\n",
    "    row.append(int(str(i)))\n",
    "    admit.append(i.solution_value())\n",
    "\n",
    "df_decisions = pd.DataFrame({'row_id':row,'decision':admit})"
   ]
  },
  {
   "cell_type": "code",
   "execution_count": 21,
   "metadata": {
    "execution": {
     "iopub.execute_input": "2022-06-15T07:29:34.257426Z",
     "iopub.status.busy": "2022-06-15T07:29:34.257025Z",
     "iopub.status.idle": "2022-06-15T07:29:34.258695Z",
     "shell.execute_reply": "2022-06-15T07:29:34.258993Z"
    }
   },
   "outputs": [
    {
     "data": {
      "text/html": [
       "<div>\n",
       "<style scoped>\n",
       "    .dataframe tbody tr th:only-of-type {\n",
       "        vertical-align: middle;\n",
       "    }\n",
       "\n",
       "    .dataframe tbody tr th {\n",
       "        vertical-align: top;\n",
       "    }\n",
       "\n",
       "    .dataframe thead th {\n",
       "        text-align: right;\n",
       "    }\n",
       "</style>\n",
       "<table border=\"1\" class=\"dataframe\">\n",
       "  <thead>\n",
       "    <tr style=\"text-align: right;\">\n",
       "      <th></th>\n",
       "      <th>row_id</th>\n",
       "      <th>decision</th>\n",
       "    </tr>\n",
       "  </thead>\n",
       "  <tbody>\n",
       "    <tr>\n",
       "      <th>0</th>\n",
       "      <td>0</td>\n",
       "      <td>0.0</td>\n",
       "    </tr>\n",
       "    <tr>\n",
       "      <th>1</th>\n",
       "      <td>1</td>\n",
       "      <td>0.0</td>\n",
       "    </tr>\n",
       "    <tr>\n",
       "      <th>2</th>\n",
       "      <td>2</td>\n",
       "      <td>0.0</td>\n",
       "    </tr>\n",
       "    <tr>\n",
       "      <th>3</th>\n",
       "      <td>3</td>\n",
       "      <td>0.0</td>\n",
       "    </tr>\n",
       "    <tr>\n",
       "      <th>4</th>\n",
       "      <td>4</td>\n",
       "      <td>0.0</td>\n",
       "    </tr>\n",
       "    <tr>\n",
       "      <th>...</th>\n",
       "      <td>...</td>\n",
       "      <td>...</td>\n",
       "    </tr>\n",
       "    <tr>\n",
       "      <th>188</th>\n",
       "      <td>188</td>\n",
       "      <td>1.0</td>\n",
       "    </tr>\n",
       "    <tr>\n",
       "      <th>189</th>\n",
       "      <td>189</td>\n",
       "      <td>1.0</td>\n",
       "    </tr>\n",
       "    <tr>\n",
       "      <th>190</th>\n",
       "      <td>190</td>\n",
       "      <td>1.0</td>\n",
       "    </tr>\n",
       "    <tr>\n",
       "      <th>191</th>\n",
       "      <td>191</td>\n",
       "      <td>1.0</td>\n",
       "    </tr>\n",
       "    <tr>\n",
       "      <th>192</th>\n",
       "      <td>192</td>\n",
       "      <td>1.0</td>\n",
       "    </tr>\n",
       "  </tbody>\n",
       "</table>\n",
       "<p>193 rows × 2 columns</p>\n",
       "</div>"
      ],
      "text/plain": [
       "     row_id  decision\n",
       "0         0       0.0\n",
       "1         1       0.0\n",
       "2         2       0.0\n",
       "3         3       0.0\n",
       "4         4       0.0\n",
       "..      ...       ...\n",
       "188     188       1.0\n",
       "189     189       1.0\n",
       "190     190       1.0\n",
       "191     191       1.0\n",
       "192     192       1.0\n",
       "\n",
       "[193 rows x 2 columns]"
      ]
     },
     "execution_count": 21,
     "metadata": {},
     "output_type": "execute_result"
    }
   ],
   "source": [
    "df_decisions"
   ]
  },
  {
   "cell_type": "code",
   "execution_count": 22,
   "metadata": {
    "execution": {
     "iopub.execute_input": "2022-06-15T07:29:34.267697Z",
     "iopub.status.busy": "2022-06-15T07:29:34.267237Z",
     "iopub.status.idle": "2022-06-15T07:29:34.268916Z",
     "shell.execute_reply": "2022-06-15T07:29:34.269204Z"
    }
   },
   "outputs": [
    {
     "data": {
      "text/html": [
       "<div>\n",
       "<style scoped>\n",
       "    .dataframe tbody tr th:only-of-type {\n",
       "        vertical-align: middle;\n",
       "    }\n",
       "\n",
       "    .dataframe tbody tr th {\n",
       "        vertical-align: top;\n",
       "    }\n",
       "\n",
       "    .dataframe thead th {\n",
       "        text-align: right;\n",
       "    }\n",
       "</style>\n",
       "<table border=\"1\" class=\"dataframe\">\n",
       "  <thead>\n",
       "    <tr style=\"text-align: right;\">\n",
       "      <th></th>\n",
       "      <th>level_0</th>\n",
       "      <th>index</th>\n",
       "      <th>R</th>\n",
       "      <th>T</th>\n",
       "      <th>ml_outcomes</th>\n",
       "      <th>N</th>\n",
       "      <th>row_id</th>\n",
       "      <th>decision</th>\n",
       "    </tr>\n",
       "  </thead>\n",
       "  <tbody>\n",
       "    <tr>\n",
       "      <th>46</th>\n",
       "      <td>0</td>\n",
       "      <td>46</td>\n",
       "      <td>0</td>\n",
       "      <td>59</td>\n",
       "      <td>1125.20</td>\n",
       "      <td>1940</td>\n",
       "      <td>46</td>\n",
       "      <td>1.0</td>\n",
       "    </tr>\n",
       "    <tr>\n",
       "      <th>43</th>\n",
       "      <td>1</td>\n",
       "      <td>43</td>\n",
       "      <td>0</td>\n",
       "      <td>56</td>\n",
       "      <td>1105.00</td>\n",
       "      <td>2125</td>\n",
       "      <td>43</td>\n",
       "      <td>1.0</td>\n",
       "    </tr>\n",
       "    <tr>\n",
       "      <th>47</th>\n",
       "      <td>2</td>\n",
       "      <td>47</td>\n",
       "      <td>0</td>\n",
       "      <td>60</td>\n",
       "      <td>1092.00</td>\n",
       "      <td>1820</td>\n",
       "      <td>47</td>\n",
       "      <td>1.0</td>\n",
       "    </tr>\n",
       "    <tr>\n",
       "      <th>45</th>\n",
       "      <td>3</td>\n",
       "      <td>45</td>\n",
       "      <td>0</td>\n",
       "      <td>58</td>\n",
       "      <td>1083.04</td>\n",
       "      <td>1934</td>\n",
       "      <td>45</td>\n",
       "      <td>1.0</td>\n",
       "    </tr>\n",
       "    <tr>\n",
       "      <th>44</th>\n",
       "      <td>4</td>\n",
       "      <td>44</td>\n",
       "      <td>0</td>\n",
       "      <td>57</td>\n",
       "      <td>1071.36</td>\n",
       "      <td>1984</td>\n",
       "      <td>44</td>\n",
       "      <td>1.0</td>\n",
       "    </tr>\n",
       "    <tr>\n",
       "      <th>...</th>\n",
       "      <td>...</td>\n",
       "      <td>...</td>\n",
       "      <td>...</td>\n",
       "      <td>...</td>\n",
       "      <td>...</td>\n",
       "      <td>...</td>\n",
       "      <td>...</td>\n",
       "      <td>...</td>\n",
       "    </tr>\n",
       "    <tr>\n",
       "      <th>105</th>\n",
       "      <td>188</td>\n",
       "      <td>105</td>\n",
       "      <td>1</td>\n",
       "      <td>8</td>\n",
       "      <td>0.25</td>\n",
       "      <td>1</td>\n",
       "      <td>105</td>\n",
       "      <td>0.0</td>\n",
       "    </tr>\n",
       "    <tr>\n",
       "      <th>2</th>\n",
       "      <td>189</td>\n",
       "      <td>2</td>\n",
       "      <td>0</td>\n",
       "      <td>15</td>\n",
       "      <td>0.18</td>\n",
       "      <td>2</td>\n",
       "      <td>2</td>\n",
       "      <td>0.0</td>\n",
       "    </tr>\n",
       "    <tr>\n",
       "      <th>3</th>\n",
       "      <td>190</td>\n",
       "      <td>3</td>\n",
       "      <td>0</td>\n",
       "      <td>16</td>\n",
       "      <td>0.14</td>\n",
       "      <td>2</td>\n",
       "      <td>3</td>\n",
       "      <td>0.0</td>\n",
       "    </tr>\n",
       "    <tr>\n",
       "      <th>0</th>\n",
       "      <td>191</td>\n",
       "      <td>0</td>\n",
       "      <td>0</td>\n",
       "      <td>12</td>\n",
       "      <td>0.05</td>\n",
       "      <td>1</td>\n",
       "      <td>0</td>\n",
       "      <td>0.0</td>\n",
       "    </tr>\n",
       "    <tr>\n",
       "      <th>1</th>\n",
       "      <td>192</td>\n",
       "      <td>1</td>\n",
       "      <td>0</td>\n",
       "      <td>14</td>\n",
       "      <td>0.03</td>\n",
       "      <td>1</td>\n",
       "      <td>1</td>\n",
       "      <td>0.0</td>\n",
       "    </tr>\n",
       "  </tbody>\n",
       "</table>\n",
       "<p>193 rows × 8 columns</p>\n",
       "</div>"
      ],
      "text/plain": [
       "     level_0  index  R   T  ml_outcomes     N  row_id  decision\n",
       "46         0     46  0  59      1125.20  1940      46       1.0\n",
       "43         1     43  0  56      1105.00  2125      43       1.0\n",
       "47         2     47  0  60      1092.00  1820      47       1.0\n",
       "45         3     45  0  58      1083.04  1934      45       1.0\n",
       "44         4     44  0  57      1071.36  1984      44       1.0\n",
       "..       ...    ... ..  ..          ...   ...     ...       ...\n",
       "105      188    105  1   8         0.25     1     105       0.0\n",
       "2        189      2  0  15         0.18     2       2       0.0\n",
       "3        190      3  0  16         0.14     2       3       0.0\n",
       "0        191      0  0  12         0.05     1       0       0.0\n",
       "1        192      1  0  14         0.03     1       1       0.0\n",
       "\n",
       "[193 rows x 8 columns]"
      ]
     },
     "execution_count": 22,
     "metadata": {},
     "output_type": "execute_result"
    }
   ],
   "source": [
    "dff.merge(df_decisions,left_index=True,right_index=True).sort_values(by='ml_outcomes',ascending=False)"
   ]
  },
  {
   "cell_type": "code",
   "execution_count": 23,
   "metadata": {
    "execution": {
     "iopub.execute_input": "2022-06-15T07:29:34.278153Z",
     "iopub.status.busy": "2022-06-15T07:29:34.277672Z",
     "iopub.status.idle": "2022-06-15T07:29:34.279322Z",
     "shell.execute_reply": "2022-06-15T07:29:34.279609Z"
    }
   },
   "outputs": [
    {
     "data": {
      "text/html": [
       "<div>\n",
       "<style scoped>\n",
       "    .dataframe tbody tr th:only-of-type {\n",
       "        vertical-align: middle;\n",
       "    }\n",
       "\n",
       "    .dataframe tbody tr th {\n",
       "        vertical-align: top;\n",
       "    }\n",
       "\n",
       "    .dataframe thead th {\n",
       "        text-align: right;\n",
       "    }\n",
       "</style>\n",
       "<table border=\"1\" class=\"dataframe\">\n",
       "  <thead>\n",
       "    <tr style=\"text-align: right;\">\n",
       "      <th></th>\n",
       "      <th>level_0</th>\n",
       "      <th>index</th>\n",
       "      <th>R</th>\n",
       "      <th>T</th>\n",
       "      <th>ml_outcomes</th>\n",
       "      <th>N</th>\n",
       "      <th>row_id</th>\n",
       "      <th>decision</th>\n",
       "    </tr>\n",
       "  </thead>\n",
       "  <tbody>\n",
       "    <tr>\n",
       "      <th>104</th>\n",
       "      <td>187</td>\n",
       "      <td>104</td>\n",
       "      <td>1</td>\n",
       "      <td>5</td>\n",
       "      <td>0.25</td>\n",
       "      <td>1</td>\n",
       "      <td>104</td>\n",
       "      <td>0.0</td>\n",
       "    </tr>\n",
       "    <tr>\n",
       "      <th>105</th>\n",
       "      <td>188</td>\n",
       "      <td>105</td>\n",
       "      <td>1</td>\n",
       "      <td>8</td>\n",
       "      <td>0.25</td>\n",
       "      <td>1</td>\n",
       "      <td>105</td>\n",
       "      <td>0.0</td>\n",
       "    </tr>\n",
       "    <tr>\n",
       "      <th>106</th>\n",
       "      <td>181</td>\n",
       "      <td>106</td>\n",
       "      <td>1</td>\n",
       "      <td>10</td>\n",
       "      <td>0.54</td>\n",
       "      <td>2</td>\n",
       "      <td>106</td>\n",
       "      <td>0.0</td>\n",
       "    </tr>\n",
       "    <tr>\n",
       "      <th>0</th>\n",
       "      <td>191</td>\n",
       "      <td>0</td>\n",
       "      <td>0</td>\n",
       "      <td>12</td>\n",
       "      <td>0.05</td>\n",
       "      <td>1</td>\n",
       "      <td>0</td>\n",
       "      <td>0.0</td>\n",
       "    </tr>\n",
       "    <tr>\n",
       "      <th>107</th>\n",
       "      <td>186</td>\n",
       "      <td>107</td>\n",
       "      <td>1</td>\n",
       "      <td>13</td>\n",
       "      <td>0.27</td>\n",
       "      <td>1</td>\n",
       "      <td>107</td>\n",
       "      <td>0.0</td>\n",
       "    </tr>\n",
       "    <tr>\n",
       "      <th>...</th>\n",
       "      <td>...</td>\n",
       "      <td>...</td>\n",
       "      <td>...</td>\n",
       "      <td>...</td>\n",
       "      <td>...</td>\n",
       "      <td>...</td>\n",
       "      <td>...</td>\n",
       "      <td>...</td>\n",
       "    </tr>\n",
       "    <tr>\n",
       "      <th>99</th>\n",
       "      <td>160</td>\n",
       "      <td>99</td>\n",
       "      <td>0</td>\n",
       "      <td>112</td>\n",
       "      <td>3.00</td>\n",
       "      <td>3</td>\n",
       "      <td>99</td>\n",
       "      <td>1.0</td>\n",
       "    </tr>\n",
       "    <tr>\n",
       "      <th>100</th>\n",
       "      <td>165</td>\n",
       "      <td>100</td>\n",
       "      <td>0</td>\n",
       "      <td>113</td>\n",
       "      <td>2.00</td>\n",
       "      <td>2</td>\n",
       "      <td>100</td>\n",
       "      <td>1.0</td>\n",
       "    </tr>\n",
       "    <tr>\n",
       "      <th>101</th>\n",
       "      <td>175</td>\n",
       "      <td>101</td>\n",
       "      <td>0</td>\n",
       "      <td>114</td>\n",
       "      <td>1.00</td>\n",
       "      <td>1</td>\n",
       "      <td>101</td>\n",
       "      <td>1.0</td>\n",
       "    </tr>\n",
       "    <tr>\n",
       "      <th>102</th>\n",
       "      <td>177</td>\n",
       "      <td>102</td>\n",
       "      <td>0</td>\n",
       "      <td>116</td>\n",
       "      <td>0.99</td>\n",
       "      <td>1</td>\n",
       "      <td>102</td>\n",
       "      <td>1.0</td>\n",
       "    </tr>\n",
       "    <tr>\n",
       "      <th>103</th>\n",
       "      <td>176</td>\n",
       "      <td>103</td>\n",
       "      <td>0</td>\n",
       "      <td>117</td>\n",
       "      <td>0.99</td>\n",
       "      <td>1</td>\n",
       "      <td>103</td>\n",
       "      <td>1.0</td>\n",
       "    </tr>\n",
       "  </tbody>\n",
       "</table>\n",
       "<p>193 rows × 8 columns</p>\n",
       "</div>"
      ],
      "text/plain": [
       "     level_0  index  R    T  ml_outcomes  N  row_id  decision\n",
       "104      187    104  1    5         0.25  1     104       0.0\n",
       "105      188    105  1    8         0.25  1     105       0.0\n",
       "106      181    106  1   10         0.54  2     106       0.0\n",
       "0        191      0  0   12         0.05  1       0       0.0\n",
       "107      186    107  1   13         0.27  1     107       0.0\n",
       "..       ...    ... ..  ...          ... ..     ...       ...\n",
       "99       160     99  0  112         3.00  3      99       1.0\n",
       "100      165    100  0  113         2.00  2     100       1.0\n",
       "101      175    101  0  114         1.00  1     101       1.0\n",
       "102      177    102  0  116         0.99  1     102       1.0\n",
       "103      176    103  0  117         0.99  1     103       1.0\n",
       "\n",
       "[193 rows x 8 columns]"
      ]
     },
     "execution_count": 23,
     "metadata": {},
     "output_type": "execute_result"
    }
   ],
   "source": [
    "xxx_ = dff.merge(df_decisions,left_index=True,right_index=True).sort_values(by='ml_outcomes',ascending=False)\n",
    "xxx_.sort_values(by='T')"
   ]
  },
  {
   "cell_type": "code",
   "execution_count": 24,
   "metadata": {
    "execution": {
     "iopub.execute_input": "2022-06-15T07:29:34.287900Z",
     "iopub.status.busy": "2022-06-15T07:29:34.287405Z",
     "iopub.status.idle": "2022-06-15T07:29:34.289071Z",
     "shell.execute_reply": "2022-06-15T07:29:34.289362Z"
    }
   },
   "outputs": [
    {
     "data": {
      "text/html": [
       "<div>\n",
       "<style scoped>\n",
       "    .dataframe tbody tr th:only-of-type {\n",
       "        vertical-align: middle;\n",
       "    }\n",
       "\n",
       "    .dataframe tbody tr th {\n",
       "        vertical-align: top;\n",
       "    }\n",
       "\n",
       "    .dataframe thead th {\n",
       "        text-align: right;\n",
       "    }\n",
       "</style>\n",
       "<table border=\"1\" class=\"dataframe\">\n",
       "  <thead>\n",
       "    <tr style=\"text-align: right;\">\n",
       "      <th></th>\n",
       "      <th>level_0</th>\n",
       "      <th>index</th>\n",
       "      <th>R</th>\n",
       "      <th>T</th>\n",
       "      <th>ml_outcomes</th>\n",
       "      <th>N</th>\n",
       "      <th>row_id</th>\n",
       "      <th>decision</th>\n",
       "    </tr>\n",
       "  </thead>\n",
       "  <tbody>\n",
       "    <tr>\n",
       "      <th>46</th>\n",
       "      <td>0</td>\n",
       "      <td>46</td>\n",
       "      <td>0</td>\n",
       "      <td>59</td>\n",
       "      <td>1125.20</td>\n",
       "      <td>1940</td>\n",
       "      <td>46</td>\n",
       "      <td>1.0</td>\n",
       "    </tr>\n",
       "    <tr>\n",
       "      <th>43</th>\n",
       "      <td>1</td>\n",
       "      <td>43</td>\n",
       "      <td>0</td>\n",
       "      <td>56</td>\n",
       "      <td>1105.00</td>\n",
       "      <td>2125</td>\n",
       "      <td>43</td>\n",
       "      <td>1.0</td>\n",
       "    </tr>\n",
       "    <tr>\n",
       "      <th>47</th>\n",
       "      <td>2</td>\n",
       "      <td>47</td>\n",
       "      <td>0</td>\n",
       "      <td>60</td>\n",
       "      <td>1092.00</td>\n",
       "      <td>1820</td>\n",
       "      <td>47</td>\n",
       "      <td>1.0</td>\n",
       "    </tr>\n",
       "    <tr>\n",
       "      <th>45</th>\n",
       "      <td>3</td>\n",
       "      <td>45</td>\n",
       "      <td>0</td>\n",
       "      <td>58</td>\n",
       "      <td>1083.04</td>\n",
       "      <td>1934</td>\n",
       "      <td>45</td>\n",
       "      <td>1.0</td>\n",
       "    </tr>\n",
       "    <tr>\n",
       "      <th>44</th>\n",
       "      <td>4</td>\n",
       "      <td>44</td>\n",
       "      <td>0</td>\n",
       "      <td>57</td>\n",
       "      <td>1071.36</td>\n",
       "      <td>1984</td>\n",
       "      <td>44</td>\n",
       "      <td>1.0</td>\n",
       "    </tr>\n",
       "    <tr>\n",
       "      <th>...</th>\n",
       "      <td>...</td>\n",
       "      <td>...</td>\n",
       "      <td>...</td>\n",
       "      <td>...</td>\n",
       "      <td>...</td>\n",
       "      <td>...</td>\n",
       "      <td>...</td>\n",
       "      <td>...</td>\n",
       "    </tr>\n",
       "    <tr>\n",
       "      <th>105</th>\n",
       "      <td>188</td>\n",
       "      <td>105</td>\n",
       "      <td>1</td>\n",
       "      <td>8</td>\n",
       "      <td>0.25</td>\n",
       "      <td>1</td>\n",
       "      <td>105</td>\n",
       "      <td>0.0</td>\n",
       "    </tr>\n",
       "    <tr>\n",
       "      <th>2</th>\n",
       "      <td>189</td>\n",
       "      <td>2</td>\n",
       "      <td>0</td>\n",
       "      <td>15</td>\n",
       "      <td>0.18</td>\n",
       "      <td>2</td>\n",
       "      <td>2</td>\n",
       "      <td>0.0</td>\n",
       "    </tr>\n",
       "    <tr>\n",
       "      <th>3</th>\n",
       "      <td>190</td>\n",
       "      <td>3</td>\n",
       "      <td>0</td>\n",
       "      <td>16</td>\n",
       "      <td>0.14</td>\n",
       "      <td>2</td>\n",
       "      <td>3</td>\n",
       "      <td>0.0</td>\n",
       "    </tr>\n",
       "    <tr>\n",
       "      <th>0</th>\n",
       "      <td>191</td>\n",
       "      <td>0</td>\n",
       "      <td>0</td>\n",
       "      <td>12</td>\n",
       "      <td>0.05</td>\n",
       "      <td>1</td>\n",
       "      <td>0</td>\n",
       "      <td>0.0</td>\n",
       "    </tr>\n",
       "    <tr>\n",
       "      <th>1</th>\n",
       "      <td>192</td>\n",
       "      <td>1</td>\n",
       "      <td>0</td>\n",
       "      <td>14</td>\n",
       "      <td>0.03</td>\n",
       "      <td>1</td>\n",
       "      <td>1</td>\n",
       "      <td>0.0</td>\n",
       "    </tr>\n",
       "  </tbody>\n",
       "</table>\n",
       "<p>193 rows × 8 columns</p>\n",
       "</div>"
      ],
      "text/plain": [
       "     level_0  index  R   T  ml_outcomes     N  row_id  decision\n",
       "46         0     46  0  59      1125.20  1940      46       1.0\n",
       "43         1     43  0  56      1105.00  2125      43       1.0\n",
       "47         2     47  0  60      1092.00  1820      47       1.0\n",
       "45         3     45  0  58      1083.04  1934      45       1.0\n",
       "44         4     44  0  57      1071.36  1984      44       1.0\n",
       "..       ...    ... ..  ..          ...   ...     ...       ...\n",
       "105      188    105  1   8         0.25     1     105       0.0\n",
       "2        189      2  0  15         0.18     2       2       0.0\n",
       "3        190      3  0  16         0.14     2       3       0.0\n",
       "0        191      0  0  12         0.05     1       0       0.0\n",
       "1        192      1  0  14         0.03     1       1       0.0\n",
       "\n",
       "[193 rows x 8 columns]"
      ]
     },
     "execution_count": 24,
     "metadata": {},
     "output_type": "execute_result"
    }
   ],
   "source": [
    "xxx = dff.merge(df_decisions,left_index=True,right_index=True).sort_values(by='ml_outcomes',ascending=False)\n",
    "xxx"
   ]
  },
  {
   "cell_type": "code",
   "execution_count": 25,
   "metadata": {
    "execution": {
     "iopub.execute_input": "2022-06-15T07:29:34.291951Z",
     "iopub.status.busy": "2022-06-15T07:29:34.291534Z",
     "iopub.status.idle": "2022-06-15T07:29:34.292906Z",
     "shell.execute_reply": "2022-06-15T07:29:34.293178Z"
    }
   },
   "outputs": [
    {
     "data": {
      "text/plain": [
       "193"
      ]
     },
     "execution_count": 25,
     "metadata": {},
     "output_type": "execute_result"
    }
   ],
   "source": [
    "len(xxx_)"
   ]
  },
  {
   "cell_type": "code",
   "execution_count": 26,
   "metadata": {
    "execution": {
     "iopub.execute_input": "2022-06-15T07:29:34.295455Z",
     "iopub.status.busy": "2022-06-15T07:29:34.295048Z",
     "iopub.status.idle": "2022-06-15T07:29:34.299559Z",
     "shell.execute_reply": "2022-06-15T07:29:34.299797Z"
    }
   },
   "outputs": [],
   "source": [
    "xxx.to_csv('./decision.csv')"
   ]
  },
  {
   "cell_type": "code",
   "execution_count": 27,
   "metadata": {
    "execution": {
     "iopub.execute_input": "2022-06-15T07:29:34.302033Z",
     "iopub.status.busy": "2022-06-15T07:29:34.301633Z",
     "iopub.status.idle": "2022-06-15T07:29:34.304898Z",
     "shell.execute_reply": "2022-06-15T07:29:34.305238Z"
    }
   },
   "outputs": [],
   "source": [
    "solution = pd.read_csv('./decision.csv')"
   ]
  },
  {
   "cell_type": "code",
   "execution_count": null,
   "metadata": {},
   "outputs": [],
   "source": []
  },
  {
   "cell_type": "code",
   "execution_count": null,
   "metadata": {},
   "outputs": [],
   "source": []
  },
  {
   "cell_type": "code",
   "execution_count": 28,
   "metadata": {
    "execution": {
     "iopub.execute_input": "2022-06-15T07:29:34.312756Z",
     "iopub.status.busy": "2022-06-15T07:29:34.312350Z",
     "iopub.status.idle": "2022-06-15T07:29:34.314111Z",
     "shell.execute_reply": "2022-06-15T07:29:34.314345Z"
    }
   },
   "outputs": [
    {
     "data": {
      "text/html": [
       "<div>\n",
       "<style scoped>\n",
       "    .dataframe tbody tr th:only-of-type {\n",
       "        vertical-align: middle;\n",
       "    }\n",
       "\n",
       "    .dataframe tbody tr th {\n",
       "        vertical-align: top;\n",
       "    }\n",
       "\n",
       "    .dataframe thead th {\n",
       "        text-align: right;\n",
       "    }\n",
       "</style>\n",
       "<table border=\"1\" class=\"dataframe\">\n",
       "  <thead>\n",
       "    <tr style=\"text-align: right;\">\n",
       "      <th></th>\n",
       "      <th>level_0</th>\n",
       "      <th>index</th>\n",
       "      <th>R</th>\n",
       "      <th>T</th>\n",
       "      <th>ml_outcomes</th>\n",
       "      <th>N</th>\n",
       "      <th>row_id</th>\n",
       "      <th>decision</th>\n",
       "    </tr>\n",
       "  </thead>\n",
       "  <tbody>\n",
       "    <tr>\n",
       "      <th>46</th>\n",
       "      <td>0</td>\n",
       "      <td>46</td>\n",
       "      <td>0</td>\n",
       "      <td>59</td>\n",
       "      <td>1125.20</td>\n",
       "      <td>1940</td>\n",
       "      <td>46</td>\n",
       "      <td>1.0</td>\n",
       "    </tr>\n",
       "    <tr>\n",
       "      <th>43</th>\n",
       "      <td>1</td>\n",
       "      <td>43</td>\n",
       "      <td>0</td>\n",
       "      <td>56</td>\n",
       "      <td>1105.00</td>\n",
       "      <td>2125</td>\n",
       "      <td>43</td>\n",
       "      <td>1.0</td>\n",
       "    </tr>\n",
       "    <tr>\n",
       "      <th>47</th>\n",
       "      <td>2</td>\n",
       "      <td>47</td>\n",
       "      <td>0</td>\n",
       "      <td>60</td>\n",
       "      <td>1092.00</td>\n",
       "      <td>1820</td>\n",
       "      <td>47</td>\n",
       "      <td>1.0</td>\n",
       "    </tr>\n",
       "    <tr>\n",
       "      <th>45</th>\n",
       "      <td>3</td>\n",
       "      <td>45</td>\n",
       "      <td>0</td>\n",
       "      <td>58</td>\n",
       "      <td>1083.04</td>\n",
       "      <td>1934</td>\n",
       "      <td>45</td>\n",
       "      <td>1.0</td>\n",
       "    </tr>\n",
       "    <tr>\n",
       "      <th>44</th>\n",
       "      <td>4</td>\n",
       "      <td>44</td>\n",
       "      <td>0</td>\n",
       "      <td>57</td>\n",
       "      <td>1071.36</td>\n",
       "      <td>1984</td>\n",
       "      <td>44</td>\n",
       "      <td>1.0</td>\n",
       "    </tr>\n",
       "    <tr>\n",
       "      <th>...</th>\n",
       "      <td>...</td>\n",
       "      <td>...</td>\n",
       "      <td>...</td>\n",
       "      <td>...</td>\n",
       "      <td>...</td>\n",
       "      <td>...</td>\n",
       "      <td>...</td>\n",
       "      <td>...</td>\n",
       "    </tr>\n",
       "    <tr>\n",
       "      <th>105</th>\n",
       "      <td>188</td>\n",
       "      <td>105</td>\n",
       "      <td>1</td>\n",
       "      <td>8</td>\n",
       "      <td>0.25</td>\n",
       "      <td>1</td>\n",
       "      <td>105</td>\n",
       "      <td>0.0</td>\n",
       "    </tr>\n",
       "    <tr>\n",
       "      <th>2</th>\n",
       "      <td>189</td>\n",
       "      <td>2</td>\n",
       "      <td>0</td>\n",
       "      <td>15</td>\n",
       "      <td>0.18</td>\n",
       "      <td>2</td>\n",
       "      <td>2</td>\n",
       "      <td>0.0</td>\n",
       "    </tr>\n",
       "    <tr>\n",
       "      <th>3</th>\n",
       "      <td>190</td>\n",
       "      <td>3</td>\n",
       "      <td>0</td>\n",
       "      <td>16</td>\n",
       "      <td>0.14</td>\n",
       "      <td>2</td>\n",
       "      <td>3</td>\n",
       "      <td>0.0</td>\n",
       "    </tr>\n",
       "    <tr>\n",
       "      <th>0</th>\n",
       "      <td>191</td>\n",
       "      <td>0</td>\n",
       "      <td>0</td>\n",
       "      <td>12</td>\n",
       "      <td>0.05</td>\n",
       "      <td>1</td>\n",
       "      <td>0</td>\n",
       "      <td>0.0</td>\n",
       "    </tr>\n",
       "    <tr>\n",
       "      <th>1</th>\n",
       "      <td>192</td>\n",
       "      <td>1</td>\n",
       "      <td>0</td>\n",
       "      <td>14</td>\n",
       "      <td>0.03</td>\n",
       "      <td>1</td>\n",
       "      <td>1</td>\n",
       "      <td>0.0</td>\n",
       "    </tr>\n",
       "  </tbody>\n",
       "</table>\n",
       "<p>193 rows × 8 columns</p>\n",
       "</div>"
      ],
      "text/plain": [
       "     level_0  index  R   T  ml_outcomes     N  row_id  decision\n",
       "46         0     46  0  59      1125.20  1940      46       1.0\n",
       "43         1     43  0  56      1105.00  2125      43       1.0\n",
       "47         2     47  0  60      1092.00  1820      47       1.0\n",
       "45         3     45  0  58      1083.04  1934      45       1.0\n",
       "44         4     44  0  57      1071.36  1984      44       1.0\n",
       "..       ...    ... ..  ..          ...   ...     ...       ...\n",
       "105      188    105  1   8         0.25     1     105       0.0\n",
       "2        189      2  0  15         0.18     2       2       0.0\n",
       "3        190      3  0  16         0.14     2       3       0.0\n",
       "0        191      0  0  12         0.05     1       0       0.0\n",
       "1        192      1  0  14         0.03     1       1       0.0\n",
       "\n",
       "[193 rows x 8 columns]"
      ]
     },
     "execution_count": 28,
     "metadata": {},
     "output_type": "execute_result"
    }
   ],
   "source": [
    "xxx"
   ]
  },
  {
   "cell_type": "code",
   "execution_count": 29,
   "metadata": {
    "execution": {
     "iopub.execute_input": "2022-06-15T07:29:34.317251Z",
     "iopub.status.busy": "2022-06-15T07:29:34.316885Z",
     "iopub.status.idle": "2022-06-15T07:29:34.318292Z",
     "shell.execute_reply": "2022-06-15T07:29:34.318651Z"
    }
   },
   "outputs": [
    {
     "data": {
      "text/plain": [
       "34259.01999999998"
      ]
     },
     "execution_count": 29,
     "metadata": {},
     "output_type": "execute_result"
    }
   ],
   "source": [
    "(xxx['ml_outcomes']*xxx['decision']).sum()"
   ]
  },
  {
   "cell_type": "code",
   "execution_count": 30,
   "metadata": {
    "execution": {
     "iopub.execute_input": "2022-06-15T07:29:34.322390Z",
     "iopub.status.busy": "2022-06-15T07:29:34.322024Z",
     "iopub.status.idle": "2022-06-15T07:29:34.323154Z",
     "shell.execute_reply": "2022-06-15T07:29:34.323501Z"
    }
   },
   "outputs": [],
   "source": [
    "def maxMLOutcomes(frac_black=0.01):\n",
    "    black_admits = int(K*frac_black)\n",
    "    white_admits = int(K*(1-frac_black))\n",
    "    \n",
    "    b = df[df['R']==1].sort_values(by='ml_outcomes',ascending=False).head(n=black_admits)\n",
    "    w = df[df['R']==0].sort_values(by='ml_outcomes',ascending=False).head(n=white_admits)\n",
    "    \n",
    "    return b['B_p'].sum() + w['B_p'].sum()    "
   ]
  },
  {
   "cell_type": "code",
   "execution_count": 31,
   "metadata": {
    "execution": {
     "iopub.execute_input": "2022-06-15T07:29:34.326897Z",
     "iopub.status.busy": "2022-06-15T07:29:34.326401Z",
     "iopub.status.idle": "2022-06-15T07:29:34.327980Z",
     "shell.execute_reply": "2022-06-15T07:29:34.328424Z"
    }
   },
   "outputs": [],
   "source": [
    "def maxMLOutcomesBlack(frac_black=0.01):\n",
    "    black_admits = int(K*frac_black)\n",
    "    white_admits = int(K*(1-frac_black))\n",
    "    \n",
    "    b = df[df['R']==1].sort_values(by='ml_outcomes',ascending=False).head(n=black_admits)\n",
    "    w = df[df['R']==0].sort_values(by='ml_outcomes',ascending=False).head(n=white_admits)\n",
    "    \n",
    "    return b['B_p'].sum()   "
   ]
  },
  {
   "cell_type": "code",
   "execution_count": 32,
   "metadata": {
    "execution": {
     "iopub.execute_input": "2022-06-15T07:29:34.444794Z",
     "iopub.status.busy": "2022-06-15T07:29:34.444296Z",
     "iopub.status.idle": "2022-06-15T07:29:34.445620Z",
     "shell.execute_reply": "2022-06-15T07:29:34.445872Z"
    }
   },
   "outputs": [],
   "source": [
    "df['key'] = df['R'].astype(str)+'_'+df['T'].astype(str)\n",
    "xxx['key'] = xxx['R'].astype(str)+'_'+xxx['T'].astype(str)"
   ]
  },
  {
   "cell_type": "code",
   "execution_count": 33,
   "metadata": {
    "execution": {
     "iopub.execute_input": "2022-06-15T07:29:34.448632Z",
     "iopub.status.busy": "2022-06-15T07:29:34.448215Z",
     "iopub.status.idle": "2022-06-15T07:29:34.449687Z",
     "shell.execute_reply": "2022-06-15T07:29:34.449962Z"
    }
   },
   "outputs": [
    {
     "data": {
      "text/plain": [
       "193"
      ]
     },
     "execution_count": 33,
     "metadata": {},
     "output_type": "execute_result"
    }
   ],
   "source": [
    "len(xxx)"
   ]
  },
  {
   "cell_type": "code",
   "execution_count": 34,
   "metadata": {
    "execution": {
     "iopub.execute_input": "2022-06-15T07:29:34.459881Z",
     "iopub.status.busy": "2022-06-15T07:29:34.459493Z",
     "iopub.status.idle": "2022-06-15T07:29:34.500623Z",
     "shell.execute_reply": "2022-06-15T07:29:34.500875Z"
    }
   },
   "outputs": [],
   "source": [
    "admit_decisions = df.merge(xxx,how='left',on='key')\n",
    "admit_decisions['decision_random'] = pd.Series([random.random() for x in range(0,len(admit_decisions))]) < FRAC_ADMIT\n",
    "\n",
    "\n",
    "FRAC_BLACK_POLICY = (admit_decisions['R_y'] * admit_decisions['decision']).sum()/admit_decisions['decision'].sum()\n",
    "SUM_BP_POLICY = ( admit_decisions['B_p'] * admit_decisions['decision']).sum()\n",
    "\n",
    "FRAC_RANDOM_POLICY = (admit_decisions['R_y'] * admit_decisions['decision_random']).sum()/admit_decisions['decision_random'].sum()\n",
    "SUM_BP_RAND_POLICY = ( admit_decisions['B_p'] * admit_decisions['decision_random']).sum()\n"
   ]
  },
  {
   "cell_type": "code",
   "execution_count": 35,
   "metadata": {
    "execution": {
     "iopub.execute_input": "2022-06-15T07:29:34.504031Z",
     "iopub.status.busy": "2022-06-15T07:29:34.503652Z",
     "iopub.status.idle": "2022-06-15T07:29:34.505389Z",
     "shell.execute_reply": "2022-06-15T07:29:34.505643Z"
    }
   },
   "outputs": [],
   "source": [
    "file = open('./lp_results.csv','w')\n",
    "file.write('{}\\t{}\\t{}\\n'.format('Policy Name','Frac Diverse Candidates','Total Graduated'))\n",
    "file.write('{}\\t{}\\t{}\\n'.format('Random',str(FRAC_RANDOM_POLICY),str(SUM_BP_RAND_POLICY)))\n",
    "file.write('{}\\t{}\\t{}\\n'.format('Maximize Utility',str(FRAC_BLACK_POLICY),str(SUM_BP_POLICY)))\n",
    "file.close()\n"
   ]
  },
  {
   "cell_type": "code",
   "execution_count": 36,
   "metadata": {
    "execution": {
     "iopub.execute_input": "2022-06-15T07:29:34.508416Z",
     "iopub.status.busy": "2022-06-15T07:29:34.508037Z",
     "iopub.status.idle": "2022-06-15T07:29:34.509590Z",
     "shell.execute_reply": "2022-06-15T07:29:34.509893Z"
    }
   },
   "outputs": [
    {
     "data": {
      "text/plain": [
       "0.4999999999999996"
      ]
     },
     "execution_count": 36,
     "metadata": {},
     "output_type": "execute_result"
    }
   ],
   "source": [
    "(xxx['N']*xxx['decision']).sum()/len(df)"
   ]
  },
  {
   "cell_type": "code",
   "execution_count": null,
   "metadata": {},
   "outputs": [],
   "source": []
  },
  {
   "cell_type": "code",
   "execution_count": null,
   "metadata": {},
   "outputs": [],
   "source": []
  }
 ],
 "metadata": {
  "kernelspec": {
   "display_name": "Python 3 (ipykernel)",
   "language": "python",
   "name": "python3"
  },
  "language_info": {
   "codemirror_mode": {
    "name": "ipython",
    "version": 3
   },
   "file_extension": ".py",
   "mimetype": "text/x-python",
   "name": "python",
   "nbconvert_exporter": "python",
   "pygments_lexer": "ipython3",
   "version": "3.9.7"
  }
 },
 "nbformat": 4,
 "nbformat_minor": 4
}
