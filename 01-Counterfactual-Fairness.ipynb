{
 "cells": [
  {
   "cell_type": "code",
   "execution_count": 1,
   "metadata": {
    "execution": {
     "iopub.execute_input": "2022-05-02T22:04:45.234862Z",
     "iopub.status.busy": "2022-05-02T22:04:45.234181Z",
     "iopub.status.idle": "2022-05-02T22:04:46.610160Z",
     "shell.execute_reply": "2022-05-02T22:04:46.609808Z"
    }
   },
   "outputs": [],
   "source": [
    "import numpy as np\n",
    "import pandas as pd\n",
    "import matplotlib.pyplot as plt\n",
    "import seaborn as sns\n",
    "import random\n",
    "pd.options.display.max_rows = 10\n",
    "pd.options.display.max_columns = 500"
   ]
  },
  {
   "cell_type": "code",
   "execution_count": 2,
   "metadata": {
    "execution": {
     "iopub.execute_input": "2022-05-02T22:04:46.613214Z",
     "iopub.status.busy": "2022-05-02T22:04:46.612837Z",
     "iopub.status.idle": "2022-05-02T22:04:46.986556Z",
     "shell.execute_reply": "2022-05-02T22:04:46.986820Z"
    }
   },
   "outputs": [],
   "source": [
    "###\n",
    "## Load dataframe where each row is a single applicant\n",
    "###\n",
    "\n",
    "df = pd.read_csv('./df_test.csv')\n",
    "df['ml_outcomes'] = df['ml_outcomes_div'].round(2)# + df['R']*0.13\n",
    "#df['T'] = df['T'].round(2)#\n"
   ]
  },
  {
   "cell_type": "code",
   "execution_count": 3,
   "metadata": {
    "execution": {
     "iopub.execute_input": "2022-05-02T22:04:46.990157Z",
     "iopub.status.busy": "2022-05-02T22:04:46.989673Z",
     "iopub.status.idle": "2022-05-02T22:04:46.998499Z",
     "shell.execute_reply": "2022-05-02T22:04:46.998746Z"
    }
   },
   "outputs": [
    {
     "data": {
      "text/plain": [
       "count    100000.000000\n",
       "mean          0.524983\n",
       "std           0.198072\n",
       "min           0.040000\n",
       "25%           0.390000\n",
       "50%           0.510000\n",
       "75%           0.660000\n",
       "max           1.230000\n",
       "Name: ml_outcomes, dtype: float64"
      ]
     },
     "execution_count": 3,
     "metadata": {},
     "output_type": "execute_result"
    }
   ],
   "source": [
    "df['ml_outcomes'].describe()"
   ]
  },
  {
   "cell_type": "code",
   "execution_count": 4,
   "metadata": {
    "execution": {
     "iopub.execute_input": "2022-05-02T22:04:47.002288Z",
     "iopub.status.busy": "2022-05-02T22:04:47.001859Z",
     "iopub.status.idle": "2022-05-02T22:04:47.003337Z",
     "shell.execute_reply": "2022-05-02T22:04:47.003617Z"
    }
   },
   "outputs": [
    {
     "data": {
      "text/plain": [
       "0        60\n",
       "1        37\n",
       "2        44\n",
       "3        39\n",
       "4        53\n",
       "         ..\n",
       "99995    31\n",
       "99996    58\n",
       "99997    27\n",
       "99998    38\n",
       "99999    50\n",
       "Name: T, Length: 100000, dtype: int64"
      ]
     },
     "execution_count": 4,
     "metadata": {},
     "output_type": "execute_result"
    }
   ],
   "source": [
    "df['T']"
   ]
  },
  {
   "cell_type": "code",
   "execution_count": 5,
   "metadata": {
    "execution": {
     "iopub.execute_input": "2022-05-02T22:04:47.005699Z",
     "iopub.status.busy": "2022-05-02T22:04:47.005331Z",
     "iopub.status.idle": "2022-05-02T22:04:47.006838Z",
     "shell.execute_reply": "2022-05-02T22:04:47.007137Z"
    },
    "scrolled": true
   },
   "outputs": [],
   "source": [
    "FRAC_ADMIT = 0.5#df[['A']].sum()/len(df)\n"
   ]
  },
  {
   "cell_type": "code",
   "execution_count": 6,
   "metadata": {
    "execution": {
     "iopub.execute_input": "2022-05-02T22:04:47.009759Z",
     "iopub.status.busy": "2022-05-02T22:04:47.009295Z",
     "iopub.status.idle": "2022-05-02T22:04:47.011277Z",
     "shell.execute_reply": "2022-05-02T22:04:47.011502Z"
    }
   },
   "outputs": [
    {
     "data": {
      "text/plain": [
       "0.5"
      ]
     },
     "execution_count": 6,
     "metadata": {},
     "output_type": "execute_result"
    }
   ],
   "source": [
    "FRAC_ADMIT"
   ]
  },
  {
   "cell_type": "code",
   "execution_count": 7,
   "metadata": {
    "execution": {
     "iopub.execute_input": "2022-05-02T22:04:47.014092Z",
     "iopub.status.busy": "2022-05-02T22:04:47.013668Z",
     "iopub.status.idle": "2022-05-02T22:04:47.015150Z",
     "shell.execute_reply": "2022-05-02T22:04:47.015479Z"
    }
   },
   "outputs": [
    {
     "data": {
      "text/plain": [
       "100000"
      ]
     },
     "execution_count": 7,
     "metadata": {},
     "output_type": "execute_result"
    }
   ],
   "source": [
    "len(df)"
   ]
  },
  {
   "cell_type": "code",
   "execution_count": 8,
   "metadata": {
    "execution": {
     "iopub.execute_input": "2022-05-02T22:04:47.018045Z",
     "iopub.status.busy": "2022-05-02T22:04:47.017602Z",
     "iopub.status.idle": "2022-05-02T22:04:47.101331Z",
     "shell.execute_reply": "2022-05-02T22:04:47.101797Z"
    }
   },
   "outputs": [
    {
     "data": {
      "text/plain": [
       "<AxesSubplot:>"
      ]
     },
     "execution_count": 8,
     "metadata": {},
     "output_type": "execute_result"
    },
    {
     "data": {
      "image/png": "[encoded data removed]",
      "text/plain": [
       "<Figure size 432x288 with 1 Axes>"
      ]
     },
     "metadata": {
      "needs_background": "light"
     },
     "output_type": "display_data"
    }
   ],
   "source": [
    "df['ml_outcomes'].hist()"
   ]
  },
  {
   "cell_type": "code",
   "execution_count": 9,
   "metadata": {
    "execution": {
     "iopub.execute_input": "2022-05-02T22:04:47.106724Z",
     "iopub.status.busy": "2022-05-02T22:04:47.106221Z",
     "iopub.status.idle": "2022-05-02T22:04:47.122415Z",
     "shell.execute_reply": "2022-05-02T22:04:47.122673Z"
    }
   },
   "outputs": [
    {
     "data": {
      "text/html": [
       "<div>\n",
       "<style scoped>\n",
       "    .dataframe tbody tr th:only-of-type {\n",
       "        vertical-align: middle;\n",
       "    }\n",
       "\n",
       "    .dataframe tbody tr th {\n",
       "        vertical-align: top;\n",
       "    }\n",
       "\n",
       "    .dataframe thead th {\n",
       "        text-align: right;\n",
       "    }\n",
       "</style>\n",
       "<table border=\"1\" class=\"dataframe\">\n",
       "  <thead>\n",
       "    <tr style=\"text-align: right;\">\n",
       "      <th></th>\n",
       "      <th>R</th>\n",
       "      <th>T</th>\n",
       "      <th>ml_outcomes</th>\n",
       "      <th>T_black</th>\n",
       "      <th>T_white</th>\n",
       "      <th>ml_outcomes_black</th>\n",
       "      <th>ml_outcomes_white</th>\n",
       "      <th>ml_outcomes_decision</th>\n",
       "      <th>B_p</th>\n",
       "    </tr>\n",
       "  </thead>\n",
       "  <tbody>\n",
       "    <tr>\n",
       "      <th>87320</th>\n",
       "      <td>0</td>\n",
       "      <td>15</td>\n",
       "      <td>0.04</td>\n",
       "      <td>9</td>\n",
       "      <td>15</td>\n",
       "      <td>-3.823794</td>\n",
       "      <td>-3.135931</td>\n",
       "      <td>0</td>\n",
       "      <td>0</td>\n",
       "    </tr>\n",
       "    <tr>\n",
       "      <th>39625</th>\n",
       "      <td>0</td>\n",
       "      <td>16</td>\n",
       "      <td>0.04</td>\n",
       "      <td>16</td>\n",
       "      <td>16</td>\n",
       "      <td>-3.272046</td>\n",
       "      <td>-3.057110</td>\n",
       "      <td>0</td>\n",
       "      <td>0</td>\n",
       "    </tr>\n",
       "    <tr>\n",
       "      <th>23572</th>\n",
       "      <td>0</td>\n",
       "      <td>15</td>\n",
       "      <td>0.04</td>\n",
       "      <td>14</td>\n",
       "      <td>15</td>\n",
       "      <td>-3.429688</td>\n",
       "      <td>-3.135931</td>\n",
       "      <td>0</td>\n",
       "      <td>0</td>\n",
       "    </tr>\n",
       "    <tr>\n",
       "      <th>24019</th>\n",
       "      <td>0</td>\n",
       "      <td>13</td>\n",
       "      <td>0.04</td>\n",
       "      <td>10</td>\n",
       "      <td>13</td>\n",
       "      <td>-3.744973</td>\n",
       "      <td>-3.293573</td>\n",
       "      <td>0</td>\n",
       "      <td>0</td>\n",
       "    </tr>\n",
       "    <tr>\n",
       "      <th>18378</th>\n",
       "      <td>0</td>\n",
       "      <td>13</td>\n",
       "      <td>0.04</td>\n",
       "      <td>11</td>\n",
       "      <td>13</td>\n",
       "      <td>-3.666152</td>\n",
       "      <td>-3.293573</td>\n",
       "      <td>0</td>\n",
       "      <td>0</td>\n",
       "    </tr>\n",
       "    <tr>\n",
       "      <th>...</th>\n",
       "      <td>...</td>\n",
       "      <td>...</td>\n",
       "      <td>...</td>\n",
       "      <td>...</td>\n",
       "      <td>...</td>\n",
       "      <td>...</td>\n",
       "      <td>...</td>\n",
       "      <td>...</td>\n",
       "      <td>...</td>\n",
       "    </tr>\n",
       "    <tr>\n",
       "      <th>40292</th>\n",
       "      <td>1</td>\n",
       "      <td>98</td>\n",
       "      <td>1.21</td>\n",
       "      <td>98</td>\n",
       "      <td>114</td>\n",
       "      <td>3.191292</td>\n",
       "      <td>4.667368</td>\n",
       "      <td>1</td>\n",
       "      <td>1</td>\n",
       "    </tr>\n",
       "    <tr>\n",
       "      <th>28577</th>\n",
       "      <td>1</td>\n",
       "      <td>99</td>\n",
       "      <td>1.21</td>\n",
       "      <td>99</td>\n",
       "      <td>114</td>\n",
       "      <td>3.270114</td>\n",
       "      <td>4.667368</td>\n",
       "      <td>1</td>\n",
       "      <td>1</td>\n",
       "    </tr>\n",
       "    <tr>\n",
       "      <th>97213</th>\n",
       "      <td>1</td>\n",
       "      <td>99</td>\n",
       "      <td>1.21</td>\n",
       "      <td>99</td>\n",
       "      <td>115</td>\n",
       "      <td>3.270114</td>\n",
       "      <td>4.746189</td>\n",
       "      <td>1</td>\n",
       "      <td>0</td>\n",
       "    </tr>\n",
       "    <tr>\n",
       "      <th>68116</th>\n",
       "      <td>1</td>\n",
       "      <td>102</td>\n",
       "      <td>1.22</td>\n",
       "      <td>102</td>\n",
       "      <td>118</td>\n",
       "      <td>3.506577</td>\n",
       "      <td>4.982653</td>\n",
       "      <td>1</td>\n",
       "      <td>1</td>\n",
       "    </tr>\n",
       "    <tr>\n",
       "      <th>37431</th>\n",
       "      <td>1</td>\n",
       "      <td>105</td>\n",
       "      <td>1.23</td>\n",
       "      <td>105</td>\n",
       "      <td>123</td>\n",
       "      <td>3.743041</td>\n",
       "      <td>5.376759</td>\n",
       "      <td>1</td>\n",
       "      <td>1</td>\n",
       "    </tr>\n",
       "  </tbody>\n",
       "</table>\n",
       "<p>100000 rows × 9 columns</p>\n",
       "</div>"
      ],
      "text/plain": [
       "       R    T  ml_outcomes  T_black  T_white  ml_outcomes_black  \\\n",
       "87320  0   15         0.04        9       15          -3.823794   \n",
       "39625  0   16         0.04       16       16          -3.272046   \n",
       "23572  0   15         0.04       14       15          -3.429688   \n",
       "24019  0   13         0.04       10       13          -3.744973   \n",
       "18378  0   13         0.04       11       13          -3.666152   \n",
       "...   ..  ...          ...      ...      ...                ...   \n",
       "40292  1   98         1.21       98      114           3.191292   \n",
       "28577  1   99         1.21       99      114           3.270114   \n",
       "97213  1   99         1.21       99      115           3.270114   \n",
       "68116  1  102         1.22      102      118           3.506577   \n",
       "37431  1  105         1.23      105      123           3.743041   \n",
       "\n",
       "       ml_outcomes_white  ml_outcomes_decision  B_p  \n",
       "87320          -3.135931                     0    0  \n",
       "39625          -3.057110                     0    0  \n",
       "23572          -3.135931                     0    0  \n",
       "24019          -3.293573                     0    0  \n",
       "18378          -3.293573                     0    0  \n",
       "...                  ...                   ...  ...  \n",
       "40292           4.667368                     1    1  \n",
       "28577           4.667368                     1    1  \n",
       "97213           4.746189                     1    0  \n",
       "68116           4.982653                     1    1  \n",
       "37431           5.376759                     1    1  \n",
       "\n",
       "[100000 rows x 9 columns]"
      ]
     },
     "execution_count": 9,
     "metadata": {},
     "output_type": "execute_result"
    }
   ],
   "source": [
    "##\n",
    "# R = race, T = test score, ml_outcomes = expected utility from admitting, \n",
    "# ml_outcomes_{} counterfactual utility given race \n",
    "##\n",
    "\n",
    "df[['R','T','ml_outcomes','T_black','T_white','ml_outcomes_black','ml_outcomes_white','ml_outcomes_decision','B_p']].sort_values(by='ml_outcomes')\n",
    "\n"
   ]
  },
  {
   "cell_type": "code",
   "execution_count": 10,
   "metadata": {
    "execution": {
     "iopub.execute_input": "2022-05-02T22:04:47.125199Z",
     "iopub.status.busy": "2022-05-02T22:04:47.124804Z",
     "iopub.status.idle": "2022-05-02T22:04:47.126034Z",
     "shell.execute_reply": "2022-05-02T22:04:47.126276Z"
    }
   },
   "outputs": [],
   "source": [
    "#df['ml_outcomes'] = df['ml_outcomes'] + 1*df['R']"
   ]
  },
  {
   "cell_type": "code",
   "execution_count": 11,
   "metadata": {
    "execution": {
     "iopub.execute_input": "2022-05-02T22:04:47.130841Z",
     "iopub.status.busy": "2022-05-02T22:04:47.130424Z",
     "iopub.status.idle": "2022-05-02T22:04:47.136569Z",
     "shell.execute_reply": "2022-05-02T22:04:47.136826Z"
    }
   },
   "outputs": [],
   "source": [
    "###\n",
    "## Get total utility from admitting people in a stratum \n",
    "###\n",
    "\n",
    "df_ = df[['R','T','ml_outcomes']].groupby(['R','T']).sum().reset_index()"
   ]
  },
  {
   "cell_type": "code",
   "execution_count": 12,
   "metadata": {
    "execution": {
     "iopub.execute_input": "2022-05-02T22:04:47.141269Z",
     "iopub.status.busy": "2022-05-02T22:04:47.140692Z",
     "iopub.status.idle": "2022-05-02T22:04:47.146367Z",
     "shell.execute_reply": "2022-05-02T22:04:47.146608Z"
    }
   },
   "outputs": [],
   "source": [
    "###\n",
    "## Get number of people in each stratum\n",
    "###\n",
    "\n",
    "df_count = df[['R','T','ml_outcomes']].groupby(['R','T']).count().reset_index()\n",
    "df_count.columns = ['R','T','Count']\n",
    "df_count['N'] = df_count['Count']"
   ]
  },
  {
   "cell_type": "code",
   "execution_count": 13,
   "metadata": {
    "execution": {
     "iopub.execute_input": "2022-05-02T22:04:47.151557Z",
     "iopub.status.busy": "2022-05-02T22:04:47.151128Z",
     "iopub.status.idle": "2022-05-02T22:04:47.152775Z",
     "shell.execute_reply": "2022-05-02T22:04:47.153157Z"
    }
   },
   "outputs": [],
   "source": [
    "###\n",
    "## Merge summary tables to get one table with Race, Test Score, SUM(Utility), COUNT(applicants) per stratum\n",
    "###\n",
    "\n",
    "dff = df_.merge(df_count[['N']],left_index=True,right_index=True).sort_values(by='ml_outcomes',ascending=False).reset_index().sort_values(by='index').reset_index()"
   ]
  },
  {
   "cell_type": "code",
   "execution_count": 14,
   "metadata": {
    "execution": {
     "iopub.execute_input": "2022-05-02T22:04:47.160541Z",
     "iopub.status.busy": "2022-05-02T22:04:47.160147Z",
     "iopub.status.idle": "2022-05-02T22:04:47.161701Z",
     "shell.execute_reply": "2022-05-02T22:04:47.162002Z"
    }
   },
   "outputs": [
    {
     "data": {
      "text/html": [
       "<div>\n",
       "<style scoped>\n",
       "    .dataframe tbody tr th:only-of-type {\n",
       "        vertical-align: middle;\n",
       "    }\n",
       "\n",
       "    .dataframe tbody tr th {\n",
       "        vertical-align: top;\n",
       "    }\n",
       "\n",
       "    .dataframe thead th {\n",
       "        text-align: right;\n",
       "    }\n",
       "</style>\n",
       "<table border=\"1\" class=\"dataframe\">\n",
       "  <thead>\n",
       "    <tr style=\"text-align: right;\">\n",
       "      <th></th>\n",
       "      <th>level_0</th>\n",
       "      <th>index</th>\n",
       "      <th>R</th>\n",
       "      <th>T</th>\n",
       "      <th>ml_outcomes</th>\n",
       "      <th>N</th>\n",
       "    </tr>\n",
       "  </thead>\n",
       "  <tbody>\n",
       "    <tr>\n",
       "      <th>2</th>\n",
       "      <td>192</td>\n",
       "      <td>2</td>\n",
       "      <td>0</td>\n",
       "      <td>16</td>\n",
       "      <td>0.04</td>\n",
       "      <td>1</td>\n",
       "    </tr>\n",
       "    <tr>\n",
       "      <th>3</th>\n",
       "      <td>191</td>\n",
       "      <td>3</td>\n",
       "      <td>0</td>\n",
       "      <td>17</td>\n",
       "      <td>0.05</td>\n",
       "      <td>1</td>\n",
       "    </tr>\n",
       "    <tr>\n",
       "      <th>0</th>\n",
       "      <td>190</td>\n",
       "      <td>0</td>\n",
       "      <td>0</td>\n",
       "      <td>13</td>\n",
       "      <td>0.12</td>\n",
       "      <td>3</td>\n",
       "    </tr>\n",
       "    <tr>\n",
       "      <th>1</th>\n",
       "      <td>189</td>\n",
       "      <td>1</td>\n",
       "      <td>0</td>\n",
       "      <td>15</td>\n",
       "      <td>0.12</td>\n",
       "      <td>3</td>\n",
       "    </tr>\n",
       "    <tr>\n",
       "      <th>104</th>\n",
       "      <td>188</td>\n",
       "      <td>104</td>\n",
       "      <td>1</td>\n",
       "      <td>11</td>\n",
       "      <td>0.27</td>\n",
       "      <td>1</td>\n",
       "    </tr>\n",
       "    <tr>\n",
       "      <th>...</th>\n",
       "      <td>...</td>\n",
       "      <td>...</td>\n",
       "      <td>...</td>\n",
       "      <td>...</td>\n",
       "      <td>...</td>\n",
       "      <td>...</td>\n",
       "    </tr>\n",
       "    <tr>\n",
       "      <th>44</th>\n",
       "      <td>4</td>\n",
       "      <td>44</td>\n",
       "      <td>0</td>\n",
       "      <td>58</td>\n",
       "      <td>1083.60</td>\n",
       "      <td>1935</td>\n",
       "    </tr>\n",
       "    <tr>\n",
       "      <th>47</th>\n",
       "      <td>3</td>\n",
       "      <td>47</td>\n",
       "      <td>0</td>\n",
       "      <td>61</td>\n",
       "      <td>1094.30</td>\n",
       "      <td>1765</td>\n",
       "    </tr>\n",
       "    <tr>\n",
       "      <th>46</th>\n",
       "      <td>2</td>\n",
       "      <td>46</td>\n",
       "      <td>0</td>\n",
       "      <td>60</td>\n",
       "      <td>1111.20</td>\n",
       "      <td>1852</td>\n",
       "    </tr>\n",
       "    <tr>\n",
       "      <th>45</th>\n",
       "      <td>1</td>\n",
       "      <td>45</td>\n",
       "      <td>0</td>\n",
       "      <td>59</td>\n",
       "      <td>1132.16</td>\n",
       "      <td>1952</td>\n",
       "    </tr>\n",
       "    <tr>\n",
       "      <th>42</th>\n",
       "      <td>0</td>\n",
       "      <td>42</td>\n",
       "      <td>0</td>\n",
       "      <td>56</td>\n",
       "      <td>1134.12</td>\n",
       "      <td>2181</td>\n",
       "    </tr>\n",
       "  </tbody>\n",
       "</table>\n",
       "<p>193 rows × 6 columns</p>\n",
       "</div>"
      ],
      "text/plain": [
       "     level_0  index  R   T  ml_outcomes     N\n",
       "2        192      2  0  16         0.04     1\n",
       "3        191      3  0  17         0.05     1\n",
       "0        190      0  0  13         0.12     3\n",
       "1        189      1  0  15         0.12     3\n",
       "104      188    104  1  11         0.27     1\n",
       "..       ...    ... ..  ..          ...   ...\n",
       "44         4     44  0  58      1083.60  1935\n",
       "47         3     47  0  61      1094.30  1765\n",
       "46         2     46  0  60      1111.20  1852\n",
       "45         1     45  0  59      1132.16  1952\n",
       "42         0     42  0  56      1134.12  2181\n",
       "\n",
       "[193 rows x 6 columns]"
      ]
     },
     "execution_count": 14,
     "metadata": {},
     "output_type": "execute_result"
    }
   ],
   "source": [
    "# final info table\n",
    "dff.sort_values(by='ml_outcomes')"
   ]
  },
  {
   "cell_type": "code",
   "execution_count": null,
   "metadata": {},
   "outputs": [],
   "source": []
  },
  {
   "cell_type": "markdown",
   "metadata": {},
   "source": [
    "### Setup optimization problem "
   ]
  },
  {
   "cell_type": "code",
   "execution_count": 15,
   "metadata": {
    "execution": {
     "iopub.execute_input": "2022-05-02T22:04:47.164976Z",
     "iopub.status.busy": "2022-05-02T22:04:47.164421Z",
     "iopub.status.idle": "2022-05-02T22:04:47.188545Z",
     "shell.execute_reply": "2022-05-02T22:04:47.188820Z"
    }
   },
   "outputs": [],
   "source": [
    "from ortools.linear_solver import pywraplp\n"
   ]
  },
  {
   "cell_type": "code",
   "execution_count": 16,
   "metadata": {
    "execution": {
     "iopub.execute_input": "2022-05-02T22:04:47.191845Z",
     "iopub.status.busy": "2022-05-02T22:04:47.191448Z",
     "iopub.status.idle": "2022-05-02T22:04:47.192794Z",
     "shell.execute_reply": "2022-05-02T22:04:47.193046Z"
    }
   },
   "outputs": [],
   "source": [
    "solver = pywraplp.Solver.CreateSolver('GLOP')\n"
   ]
  },
  {
   "cell_type": "code",
   "execution_count": 17,
   "metadata": {
    "execution": {
     "iopub.execute_input": "2022-05-02T22:04:47.199310Z",
     "iopub.status.busy": "2022-05-02T22:04:47.198876Z",
     "iopub.status.idle": "2022-05-02T22:04:47.200577Z",
     "shell.execute_reply": "2022-05-02T22:04:47.201022Z"
    }
   },
   "outputs": [
    {
     "data": {
      "text/html": [
       "<div>\n",
       "<style scoped>\n",
       "    .dataframe tbody tr th:only-of-type {\n",
       "        vertical-align: middle;\n",
       "    }\n",
       "\n",
       "    .dataframe tbody tr th {\n",
       "        vertical-align: top;\n",
       "    }\n",
       "\n",
       "    .dataframe thead th {\n",
       "        text-align: right;\n",
       "    }\n",
       "</style>\n",
       "<table border=\"1\" class=\"dataframe\">\n",
       "  <thead>\n",
       "    <tr style=\"text-align: right;\">\n",
       "      <th></th>\n",
       "      <th>level_0</th>\n",
       "      <th>index</th>\n",
       "      <th>R</th>\n",
       "      <th>T</th>\n",
       "      <th>ml_outcomes</th>\n",
       "      <th>N</th>\n",
       "    </tr>\n",
       "  </thead>\n",
       "  <tbody>\n",
       "    <tr>\n",
       "      <th>0</th>\n",
       "      <td>190</td>\n",
       "      <td>0</td>\n",
       "      <td>0</td>\n",
       "      <td>13</td>\n",
       "      <td>0.12</td>\n",
       "      <td>3</td>\n",
       "    </tr>\n",
       "    <tr>\n",
       "      <th>1</th>\n",
       "      <td>189</td>\n",
       "      <td>1</td>\n",
       "      <td>0</td>\n",
       "      <td>15</td>\n",
       "      <td>0.12</td>\n",
       "      <td>3</td>\n",
       "    </tr>\n",
       "    <tr>\n",
       "      <th>2</th>\n",
       "      <td>192</td>\n",
       "      <td>2</td>\n",
       "      <td>0</td>\n",
       "      <td>16</td>\n",
       "      <td>0.04</td>\n",
       "      <td>1</td>\n",
       "    </tr>\n",
       "    <tr>\n",
       "      <th>3</th>\n",
       "      <td>191</td>\n",
       "      <td>3</td>\n",
       "      <td>0</td>\n",
       "      <td>17</td>\n",
       "      <td>0.05</td>\n",
       "      <td>1</td>\n",
       "    </tr>\n",
       "    <tr>\n",
       "      <th>4</th>\n",
       "      <td>184</td>\n",
       "      <td>4</td>\n",
       "      <td>0</td>\n",
       "      <td>18</td>\n",
       "      <td>0.60</td>\n",
       "      <td>12</td>\n",
       "    </tr>\n",
       "    <tr>\n",
       "      <th>...</th>\n",
       "      <td>...</td>\n",
       "      <td>...</td>\n",
       "      <td>...</td>\n",
       "      <td>...</td>\n",
       "      <td>...</td>\n",
       "      <td>...</td>\n",
       "    </tr>\n",
       "    <tr>\n",
       "      <th>188</th>\n",
       "      <td>173</td>\n",
       "      <td>188</td>\n",
       "      <td>1</td>\n",
       "      <td>96</td>\n",
       "      <td>1.20</td>\n",
       "      <td>1</td>\n",
       "    </tr>\n",
       "    <tr>\n",
       "      <th>189</th>\n",
       "      <td>172</td>\n",
       "      <td>189</td>\n",
       "      <td>1</td>\n",
       "      <td>98</td>\n",
       "      <td>1.21</td>\n",
       "      <td>1</td>\n",
       "    </tr>\n",
       "    <tr>\n",
       "      <th>190</th>\n",
       "      <td>162</td>\n",
       "      <td>190</td>\n",
       "      <td>1</td>\n",
       "      <td>99</td>\n",
       "      <td>2.42</td>\n",
       "      <td>2</td>\n",
       "    </tr>\n",
       "    <tr>\n",
       "      <th>191</th>\n",
       "      <td>171</td>\n",
       "      <td>191</td>\n",
       "      <td>1</td>\n",
       "      <td>102</td>\n",
       "      <td>1.22</td>\n",
       "      <td>1</td>\n",
       "    </tr>\n",
       "    <tr>\n",
       "      <th>192</th>\n",
       "      <td>170</td>\n",
       "      <td>192</td>\n",
       "      <td>1</td>\n",
       "      <td>105</td>\n",
       "      <td>1.23</td>\n",
       "      <td>1</td>\n",
       "    </tr>\n",
       "  </tbody>\n",
       "</table>\n",
       "<p>193 rows × 6 columns</p>\n",
       "</div>"
      ],
      "text/plain": [
       "     level_0  index  R    T  ml_outcomes   N\n",
       "0        190      0  0   13         0.12   3\n",
       "1        189      1  0   15         0.12   3\n",
       "2        192      2  0   16         0.04   1\n",
       "3        191      3  0   17         0.05   1\n",
       "4        184      4  0   18         0.60  12\n",
       "..       ...    ... ..  ...          ...  ..\n",
       "188      173    188  1   96         1.20   1\n",
       "189      172    189  1   98         1.21   1\n",
       "190      162    190  1   99         2.42   2\n",
       "191      171    191  1  102         1.22   1\n",
       "192      170    192  1  105         1.23   1\n",
       "\n",
       "[193 rows x 6 columns]"
      ]
     },
     "execution_count": 17,
     "metadata": {},
     "output_type": "execute_result"
    }
   ],
   "source": [
    "dff"
   ]
  },
  {
   "cell_type": "code",
   "execution_count": 18,
   "metadata": {
    "execution": {
     "iopub.execute_input": "2022-05-02T22:04:47.210858Z",
     "iopub.status.busy": "2022-05-02T22:04:47.210458Z",
     "iopub.status.idle": "2022-05-02T22:04:47.211644Z",
     "shell.execute_reply": "2022-05-02T22:04:47.211942Z"
    }
   },
   "outputs": [],
   "source": [
    "applicant_stratum = []\n",
    "vars_cache = {}\n",
    "\n",
    "# Objective: Maximize the expected utility of the admitted students\n",
    "objective = solver.Objective()\n",
    "\n",
    "# For each stratum\n",
    "for ix, row in dff.iterrows():\n",
    "    # probability of admission\n",
    "    numvar = solver.NumVar(0.0, 1.0, str(ix))\n",
    "    \n",
    "    # store variable by index, and also by stratum R, T\n",
    "    applicant_stratum.append(numvar)\n",
    "    vars_cache[(row['R'],row['T'])] = numvar\n",
    "    \n",
    "    # Benefit of admitting people is total utility in that stratum\n",
    "    objective.SetCoefficient(applicant_stratum[ix], float(row['ml_outcomes']))\n",
    "objective.SetMaximization()\n"
   ]
  },
  {
   "cell_type": "code",
   "execution_count": 19,
   "metadata": {
    "execution": {
     "iopub.execute_input": "2022-05-02T22:04:47.214548Z",
     "iopub.status.busy": "2022-05-02T22:04:47.214125Z",
     "iopub.status.idle": "2022-05-02T22:04:47.215956Z",
     "shell.execute_reply": "2022-05-02T22:04:47.216208Z"
    }
   },
   "outputs": [
    {
     "data": {
      "text/plain": [
       "0"
      ]
     },
     "execution_count": 19,
     "metadata": {},
     "output_type": "execute_result"
    }
   ],
   "source": [
    "# Currently we have no constraints \n",
    "solver.NumConstraints()"
   ]
  },
  {
   "cell_type": "code",
   "execution_count": 20,
   "metadata": {
    "execution": {
     "iopub.execute_input": "2022-05-02T22:04:47.223914Z",
     "iopub.status.busy": "2022-05-02T22:04:47.223460Z",
     "iopub.status.idle": "2022-05-02T22:04:47.225128Z",
     "shell.execute_reply": "2022-05-02T22:04:47.225573Z"
    },
    "scrolled": true
   },
   "outputs": [
    {
     "name": "stdout",
     "output_type": "stream",
     "text": [
      "50000\n"
     ]
    }
   ],
   "source": [
    "# Constraint: At most K applicants\n",
    "K = int(len(df)*FRAC_ADMIT)\n",
    "print(K)\n",
    "admit_quota = solver.Constraint(0, K)\n",
    "\n",
    "# Total admits cannot exceed K \n",
    "for ix, row in dff.iterrows():\n",
    "    admit_quota.SetCoefficient(applicant_stratum[ix], float(row['N']))"
   ]
  },
  {
   "cell_type": "code",
   "execution_count": 21,
   "metadata": {
    "execution": {
     "iopub.execute_input": "2022-05-02T22:04:47.228124Z",
     "iopub.status.busy": "2022-05-02T22:04:47.227745Z",
     "iopub.status.idle": "2022-05-02T22:04:47.229243Z",
     "shell.execute_reply": "2022-05-02T22:04:47.229591Z"
    }
   },
   "outputs": [
    {
     "data": {
      "text/plain": [
       "1"
      ]
     },
     "execution_count": 21,
     "metadata": {},
     "output_type": "execute_result"
    }
   ],
   "source": [
    "# Now we have one constraint\n",
    "solver.NumConstraints()"
   ]
  },
  {
   "cell_type": "markdown",
   "metadata": {},
   "source": [
    "## Add Equalized Odds Constraints"
   ]
  },
  {
   "cell_type": "code",
   "execution_count": 22,
   "metadata": {
    "execution": {
     "iopub.execute_input": "2022-05-02T22:04:47.232558Z",
     "iopub.status.busy": "2022-05-02T22:04:47.232124Z",
     "iopub.status.idle": "2022-05-02T22:04:47.233415Z",
     "shell.execute_reply": "2022-05-02T22:04:47.233731Z"
    }
   },
   "outputs": [],
   "source": [
    "from collections import Counter\n",
    "\n",
    "def convertListToProb(raw_list):\n",
    "    counts = dict(Counter(raw_list))\n",
    "    probs = {}\n",
    "    for test_score in counts:\n",
    "        probs[test_score]  = counts[test_score]/float(len(raw_list))\n",
    "    return [(probs[t], t) for t in probs]"
   ]
  },
  {
   "cell_type": "code",
   "execution_count": 23,
   "metadata": {
    "execution": {
     "iopub.execute_input": "2022-05-02T22:04:47.238641Z",
     "iopub.status.busy": "2022-05-02T22:04:47.238194Z",
     "iopub.status.idle": "2022-05-02T22:04:47.261536Z",
     "shell.execute_reply": "2022-05-02T22:04:47.261924Z"
    }
   },
   "outputs": [
    {
     "data": {
      "text/plain": [
       "(6, 717)"
      ]
     },
     "execution_count": 23,
     "metadata": {},
     "output_type": "execute_result"
    }
   ],
   "source": [
    "T_blacks_list = df[df['R']==0][['T','T_black']].groupby('T')['T_black'].apply(list).reset_index(name='T_blacks')\n",
    "T_blacks_list['probs'] = T_blacks_list['T_blacks'].apply(convertListToProb)\n",
    "didntexist = 0\n",
    "exists = 0\n",
    "for ix, row in T_blacks_list.iterrows():\n",
    "    cf_fair_stratum = solver.Constraint(0.0, 0.0)\n",
    "\n",
    "    White_T = row['T']\n",
    "    Blacks_Ts = row['probs']        \n",
    "    cf_fair_stratum.SetCoefficient(vars_cache[(0.0, White_T)], -1.0)\n",
    "    for prob in Blacks_Ts:\n",
    "        if (1.0, prob[1]) not in vars_cache:\n",
    "            vars_cache[(1.0, prob[1])] = solver.NumVar(0.0, 1.0, str((1.0, prob[1])))\n",
    "            didntexist+=1\n",
    "        else:\n",
    "            exists+=1\n",
    "        cf_fair_stratum.SetCoefficient(vars_cache[(1.0, prob[1])], prob[0])\n",
    "didntexist,exists"
   ]
  },
  {
   "cell_type": "code",
   "execution_count": 24,
   "metadata": {
    "execution": {
     "iopub.execute_input": "2022-05-02T22:04:47.266610Z",
     "iopub.status.busy": "2022-05-02T22:04:47.266052Z",
     "iopub.status.idle": "2022-05-02T22:04:47.280761Z",
     "shell.execute_reply": "2022-05-02T22:04:47.281132Z"
    }
   },
   "outputs": [
    {
     "data": {
      "text/plain": [
       "(5, 673)"
      ]
     },
     "execution_count": 24,
     "metadata": {},
     "output_type": "execute_result"
    }
   ],
   "source": [
    "T_whites_list = df[df['R']==1][['T','T_white']].groupby('T')['T_white'].apply(list).reset_index(name='T_whites')\n",
    "T_whites_list['probs'] = T_whites_list['T_whites'].apply(convertListToProb)\n",
    "didntexist = 0\n",
    "exists = 0\n",
    "\n",
    "for ix, row in T_whites_list.iterrows():\n",
    "    cf_fair_stratum = solver.Constraint(0.0, 0.0)\n",
    "\n",
    "    Black_T = row['T']\n",
    "    White_Ts = row['probs']\n",
    "    \n",
    "    cf_fair_stratum.SetCoefficient(vars_cache[(1.0, Black_T)], -1.0)\n",
    "    for prob in White_Ts:\n",
    "        if (0.0, prob[1]) not in vars_cache:\n",
    "            vars_cache[(0.0, prob[1])] = solver.NumVar(0.0, 1.0, str((0.0, prob[1])))\n",
    "            didntexist+=1\n",
    "        else:\n",
    "            exists+=1\n",
    "            \n",
    "        cf_fair_stratum.SetCoefficient(vars_cache[(0.0, prob[1])], prob[0])\n",
    "didntexist,exists  "
   ]
  },
  {
   "cell_type": "code",
   "execution_count": 25,
   "metadata": {
    "execution": {
     "iopub.execute_input": "2022-05-02T22:04:47.283877Z",
     "iopub.status.busy": "2022-05-02T22:04:47.283409Z",
     "iopub.status.idle": "2022-05-02T22:04:47.285067Z",
     "shell.execute_reply": "2022-05-02T22:04:47.285316Z"
    }
   },
   "outputs": [
    {
     "data": {
      "text/plain": [
       "194"
      ]
     },
     "execution_count": 25,
     "metadata": {},
     "output_type": "execute_result"
    }
   ],
   "source": [
    "solver.NumConstraints()"
   ]
  },
  {
   "cell_type": "markdown",
   "metadata": {},
   "source": [
    "## Solve linear program"
   ]
  },
  {
   "cell_type": "code",
   "execution_count": 26,
   "metadata": {
    "execution": {
     "iopub.execute_input": "2022-05-02T22:04:47.287920Z",
     "iopub.status.busy": "2022-05-02T22:04:47.287513Z",
     "iopub.status.idle": "2022-05-02T22:04:47.288973Z",
     "shell.execute_reply": "2022-05-02T22:04:47.289280Z"
    }
   },
   "outputs": [
    {
     "data": {
      "text/plain": [
       "4"
      ]
     },
     "execution_count": 26,
     "metadata": {},
     "output_type": "execute_result"
    }
   ],
   "source": [
    "solver.ABNORMAL"
   ]
  },
  {
   "cell_type": "code",
   "execution_count": 27,
   "metadata": {
    "execution": {
     "iopub.execute_input": "2022-05-02T22:04:47.295884Z",
     "iopub.status.busy": "2022-05-02T22:04:47.295507Z",
     "iopub.status.idle": "2022-05-02T22:04:47.296770Z",
     "shell.execute_reply": "2022-05-02T22:04:47.297065Z"
    }
   },
   "outputs": [],
   "source": [
    "status = solver.Solve()\n"
   ]
  },
  {
   "cell_type": "code",
   "execution_count": 28,
   "metadata": {
    "execution": {
     "iopub.execute_input": "2022-05-02T22:04:47.299587Z",
     "iopub.status.busy": "2022-05-02T22:04:47.299169Z",
     "iopub.status.idle": "2022-05-02T22:04:47.301282Z",
     "shell.execute_reply": "2022-05-02T22:04:47.301516Z"
    }
   },
   "outputs": [
    {
     "data": {
      "text/plain": [
       "0"
      ]
     },
     "execution_count": 28,
     "metadata": {},
     "output_type": "execute_result"
    }
   ],
   "source": [
    "status"
   ]
  },
  {
   "cell_type": "code",
   "execution_count": 29,
   "metadata": {
    "execution": {
     "iopub.execute_input": "2022-05-02T22:04:47.304387Z",
     "iopub.status.busy": "2022-05-02T22:04:47.303996Z",
     "iopub.status.idle": "2022-05-02T22:04:47.305582Z",
     "shell.execute_reply": "2022-05-02T22:04:47.305972Z"
    }
   },
   "outputs": [
    {
     "data": {
      "text/plain": [
       "0"
      ]
     },
     "execution_count": 29,
     "metadata": {},
     "output_type": "execute_result"
    }
   ],
   "source": [
    "solver.OPTIMAL"
   ]
  },
  {
   "cell_type": "code",
   "execution_count": 30,
   "metadata": {
    "execution": {
     "iopub.execute_input": "2022-05-02T22:04:47.309992Z",
     "iopub.status.busy": "2022-05-02T22:04:47.309547Z",
     "iopub.status.idle": "2022-05-02T22:04:47.310637Z",
     "shell.execute_reply": "2022-05-02T22:04:47.310940Z"
    },
    "scrolled": true
   },
   "outputs": [],
   "source": [
    "row = []\n",
    "admit = []\n",
    "\n",
    "for i in applicant_stratum:\n",
    "    row.append(int(str(i)))\n",
    "    admit.append(i.solution_value())\n",
    "\n",
    "df_decisions = pd.DataFrame({'row_id':row,'decision':admit})"
   ]
  },
  {
   "cell_type": "code",
   "execution_count": 31,
   "metadata": {
    "execution": {
     "iopub.execute_input": "2022-05-02T22:04:47.315976Z",
     "iopub.status.busy": "2022-05-02T22:04:47.315502Z",
     "iopub.status.idle": "2022-05-02T22:04:47.317503Z",
     "shell.execute_reply": "2022-05-02T22:04:47.317771Z"
    }
   },
   "outputs": [
    {
     "data": {
      "text/html": [
       "<div>\n",
       "<style scoped>\n",
       "    .dataframe tbody tr th:only-of-type {\n",
       "        vertical-align: middle;\n",
       "    }\n",
       "\n",
       "    .dataframe tbody tr th {\n",
       "        vertical-align: top;\n",
       "    }\n",
       "\n",
       "    .dataframe thead th {\n",
       "        text-align: right;\n",
       "    }\n",
       "</style>\n",
       "<table border=\"1\" class=\"dataframe\">\n",
       "  <thead>\n",
       "    <tr style=\"text-align: right;\">\n",
       "      <th></th>\n",
       "      <th>row_id</th>\n",
       "      <th>decision</th>\n",
       "    </tr>\n",
       "  </thead>\n",
       "  <tbody>\n",
       "    <tr>\n",
       "      <th>0</th>\n",
       "      <td>0</td>\n",
       "      <td>0.038525</td>\n",
       "    </tr>\n",
       "    <tr>\n",
       "      <th>1</th>\n",
       "      <td>1</td>\n",
       "      <td>0.115575</td>\n",
       "    </tr>\n",
       "    <tr>\n",
       "      <th>2</th>\n",
       "      <td>2</td>\n",
       "      <td>0.389398</td>\n",
       "    </tr>\n",
       "    <tr>\n",
       "      <th>3</th>\n",
       "      <td>3</td>\n",
       "      <td>0.400192</td>\n",
       "    </tr>\n",
       "    <tr>\n",
       "      <th>4</th>\n",
       "      <td>4</td>\n",
       "      <td>0.304051</td>\n",
       "    </tr>\n",
       "    <tr>\n",
       "      <th>...</th>\n",
       "      <td>...</td>\n",
       "      <td>...</td>\n",
       "    </tr>\n",
       "    <tr>\n",
       "      <th>188</th>\n",
       "      <td>188</td>\n",
       "      <td>1.000000</td>\n",
       "    </tr>\n",
       "    <tr>\n",
       "      <th>189</th>\n",
       "      <td>189</td>\n",
       "      <td>1.000000</td>\n",
       "    </tr>\n",
       "    <tr>\n",
       "      <th>190</th>\n",
       "      <td>190</td>\n",
       "      <td>1.000000</td>\n",
       "    </tr>\n",
       "    <tr>\n",
       "      <th>191</th>\n",
       "      <td>191</td>\n",
       "      <td>1.000000</td>\n",
       "    </tr>\n",
       "    <tr>\n",
       "      <th>192</th>\n",
       "      <td>192</td>\n",
       "      <td>1.000000</td>\n",
       "    </tr>\n",
       "  </tbody>\n",
       "</table>\n",
       "<p>193 rows × 2 columns</p>\n",
       "</div>"
      ],
      "text/plain": [
       "     row_id  decision\n",
       "0         0  0.038525\n",
       "1         1  0.115575\n",
       "2         2  0.389398\n",
       "3         3  0.400192\n",
       "4         4  0.304051\n",
       "..      ...       ...\n",
       "188     188  1.000000\n",
       "189     189  1.000000\n",
       "190     190  1.000000\n",
       "191     191  1.000000\n",
       "192     192  1.000000\n",
       "\n",
       "[193 rows x 2 columns]"
      ]
     },
     "execution_count": 31,
     "metadata": {},
     "output_type": "execute_result"
    }
   ],
   "source": [
    "df_decisions"
   ]
  },
  {
   "cell_type": "code",
   "execution_count": 32,
   "metadata": {
    "execution": {
     "iopub.execute_input": "2022-05-02T22:04:47.326228Z",
     "iopub.status.busy": "2022-05-02T22:04:47.325772Z",
     "iopub.status.idle": "2022-05-02T22:04:47.327582Z",
     "shell.execute_reply": "2022-05-02T22:04:47.327896Z"
    }
   },
   "outputs": [
    {
     "data": {
      "text/html": [
       "<div>\n",
       "<style scoped>\n",
       "    .dataframe tbody tr th:only-of-type {\n",
       "        vertical-align: middle;\n",
       "    }\n",
       "\n",
       "    .dataframe tbody tr th {\n",
       "        vertical-align: top;\n",
       "    }\n",
       "\n",
       "    .dataframe thead th {\n",
       "        text-align: right;\n",
       "    }\n",
       "</style>\n",
       "<table border=\"1\" class=\"dataframe\">\n",
       "  <thead>\n",
       "    <tr style=\"text-align: right;\">\n",
       "      <th></th>\n",
       "      <th>level_0</th>\n",
       "      <th>index</th>\n",
       "      <th>R</th>\n",
       "      <th>T</th>\n",
       "      <th>ml_outcomes</th>\n",
       "      <th>N</th>\n",
       "      <th>row_id</th>\n",
       "      <th>decision</th>\n",
       "    </tr>\n",
       "  </thead>\n",
       "  <tbody>\n",
       "    <tr>\n",
       "      <th>42</th>\n",
       "      <td>0</td>\n",
       "      <td>42</td>\n",
       "      <td>0</td>\n",
       "      <td>56</td>\n",
       "      <td>1134.12</td>\n",
       "      <td>2181</td>\n",
       "      <td>42</td>\n",
       "      <td>0.498123</td>\n",
       "    </tr>\n",
       "    <tr>\n",
       "      <th>45</th>\n",
       "      <td>1</td>\n",
       "      <td>45</td>\n",
       "      <td>0</td>\n",
       "      <td>59</td>\n",
       "      <td>1132.16</td>\n",
       "      <td>1952</td>\n",
       "      <td>45</td>\n",
       "      <td>0.498875</td>\n",
       "    </tr>\n",
       "    <tr>\n",
       "      <th>46</th>\n",
       "      <td>2</td>\n",
       "      <td>46</td>\n",
       "      <td>0</td>\n",
       "      <td>60</td>\n",
       "      <td>1111.20</td>\n",
       "      <td>1852</td>\n",
       "      <td>46</td>\n",
       "      <td>0.499143</td>\n",
       "    </tr>\n",
       "    <tr>\n",
       "      <th>47</th>\n",
       "      <td>3</td>\n",
       "      <td>47</td>\n",
       "      <td>0</td>\n",
       "      <td>61</td>\n",
       "      <td>1094.30</td>\n",
       "      <td>1765</td>\n",
       "      <td>47</td>\n",
       "      <td>0.499460</td>\n",
       "    </tr>\n",
       "    <tr>\n",
       "      <th>44</th>\n",
       "      <td>4</td>\n",
       "      <td>44</td>\n",
       "      <td>0</td>\n",
       "      <td>58</td>\n",
       "      <td>1083.60</td>\n",
       "      <td>1935</td>\n",
       "      <td>44</td>\n",
       "      <td>0.498614</td>\n",
       "    </tr>\n",
       "    <tr>\n",
       "      <th>...</th>\n",
       "      <td>...</td>\n",
       "      <td>...</td>\n",
       "      <td>...</td>\n",
       "      <td>...</td>\n",
       "      <td>...</td>\n",
       "      <td>...</td>\n",
       "      <td>...</td>\n",
       "      <td>...</td>\n",
       "    </tr>\n",
       "    <tr>\n",
       "      <th>104</th>\n",
       "      <td>188</td>\n",
       "      <td>104</td>\n",
       "      <td>1</td>\n",
       "      <td>11</td>\n",
       "      <td>0.27</td>\n",
       "      <td>1</td>\n",
       "      <td>104</td>\n",
       "      <td>0.115575</td>\n",
       "    </tr>\n",
       "    <tr>\n",
       "      <th>1</th>\n",
       "      <td>189</td>\n",
       "      <td>1</td>\n",
       "      <td>0</td>\n",
       "      <td>15</td>\n",
       "      <td>0.12</td>\n",
       "      <td>3</td>\n",
       "      <td>1</td>\n",
       "      <td>0.115575</td>\n",
       "    </tr>\n",
       "    <tr>\n",
       "      <th>0</th>\n",
       "      <td>190</td>\n",
       "      <td>0</td>\n",
       "      <td>0</td>\n",
       "      <td>13</td>\n",
       "      <td>0.12</td>\n",
       "      <td>3</td>\n",
       "      <td>0</td>\n",
       "      <td>0.038525</td>\n",
       "    </tr>\n",
       "    <tr>\n",
       "      <th>3</th>\n",
       "      <td>191</td>\n",
       "      <td>3</td>\n",
       "      <td>0</td>\n",
       "      <td>17</td>\n",
       "      <td>0.05</td>\n",
       "      <td>1</td>\n",
       "      <td>3</td>\n",
       "      <td>0.400192</td>\n",
       "    </tr>\n",
       "    <tr>\n",
       "      <th>2</th>\n",
       "      <td>192</td>\n",
       "      <td>2</td>\n",
       "      <td>0</td>\n",
       "      <td>16</td>\n",
       "      <td>0.04</td>\n",
       "      <td>1</td>\n",
       "      <td>2</td>\n",
       "      <td>0.389398</td>\n",
       "    </tr>\n",
       "  </tbody>\n",
       "</table>\n",
       "<p>193 rows × 8 columns</p>\n",
       "</div>"
      ],
      "text/plain": [
       "     level_0  index  R   T  ml_outcomes     N  row_id  decision\n",
       "42         0     42  0  56      1134.12  2181      42  0.498123\n",
       "45         1     45  0  59      1132.16  1952      45  0.498875\n",
       "46         2     46  0  60      1111.20  1852      46  0.499143\n",
       "47         3     47  0  61      1094.30  1765      47  0.499460\n",
       "44         4     44  0  58      1083.60  1935      44  0.498614\n",
       "..       ...    ... ..  ..          ...   ...     ...       ...\n",
       "104      188    104  1  11         0.27     1     104  0.115575\n",
       "1        189      1  0  15         0.12     3       1  0.115575\n",
       "0        190      0  0  13         0.12     3       0  0.038525\n",
       "3        191      3  0  17         0.05     1       3  0.400192\n",
       "2        192      2  0  16         0.04     1       2  0.389398\n",
       "\n",
       "[193 rows x 8 columns]"
      ]
     },
     "execution_count": 32,
     "metadata": {},
     "output_type": "execute_result"
    }
   ],
   "source": [
    "dff.merge(df_decisions,left_index=True,right_index=True).sort_values(by='ml_outcomes',ascending=False)"
   ]
  },
  {
   "cell_type": "code",
   "execution_count": 33,
   "metadata": {
    "execution": {
     "iopub.execute_input": "2022-05-02T22:04:47.336433Z",
     "iopub.status.busy": "2022-05-02T22:04:47.335966Z",
     "iopub.status.idle": "2022-05-02T22:04:47.337812Z",
     "shell.execute_reply": "2022-05-02T22:04:47.338116Z"
    }
   },
   "outputs": [
    {
     "data": {
      "text/html": [
       "<div>\n",
       "<style scoped>\n",
       "    .dataframe tbody tr th:only-of-type {\n",
       "        vertical-align: middle;\n",
       "    }\n",
       "\n",
       "    .dataframe tbody tr th {\n",
       "        vertical-align: top;\n",
       "    }\n",
       "\n",
       "    .dataframe thead th {\n",
       "        text-align: right;\n",
       "    }\n",
       "</style>\n",
       "<table border=\"1\" class=\"dataframe\">\n",
       "  <thead>\n",
       "    <tr style=\"text-align: right;\">\n",
       "      <th></th>\n",
       "      <th>level_0</th>\n",
       "      <th>index</th>\n",
       "      <th>R</th>\n",
       "      <th>T</th>\n",
       "      <th>ml_outcomes</th>\n",
       "      <th>N</th>\n",
       "      <th>row_id</th>\n",
       "      <th>decision</th>\n",
       "    </tr>\n",
       "  </thead>\n",
       "  <tbody>\n",
       "    <tr>\n",
       "      <th>102</th>\n",
       "      <td>186</td>\n",
       "      <td>102</td>\n",
       "      <td>1</td>\n",
       "      <td>7</td>\n",
       "      <td>0.27</td>\n",
       "      <td>1</td>\n",
       "      <td>102</td>\n",
       "      <td>0.000000</td>\n",
       "    </tr>\n",
       "    <tr>\n",
       "      <th>103</th>\n",
       "      <td>187</td>\n",
       "      <td>103</td>\n",
       "      <td>1</td>\n",
       "      <td>10</td>\n",
       "      <td>0.27</td>\n",
       "      <td>1</td>\n",
       "      <td>103</td>\n",
       "      <td>0.000000</td>\n",
       "    </tr>\n",
       "    <tr>\n",
       "      <th>104</th>\n",
       "      <td>188</td>\n",
       "      <td>104</td>\n",
       "      <td>1</td>\n",
       "      <td>11</td>\n",
       "      <td>0.27</td>\n",
       "      <td>1</td>\n",
       "      <td>104</td>\n",
       "      <td>0.115575</td>\n",
       "    </tr>\n",
       "    <tr>\n",
       "      <th>0</th>\n",
       "      <td>190</td>\n",
       "      <td>0</td>\n",
       "      <td>0</td>\n",
       "      <td>13</td>\n",
       "      <td>0.12</td>\n",
       "      <td>3</td>\n",
       "      <td>0</td>\n",
       "      <td>0.038525</td>\n",
       "    </tr>\n",
       "    <tr>\n",
       "      <th>105</th>\n",
       "      <td>182</td>\n",
       "      <td>105</td>\n",
       "      <td>1</td>\n",
       "      <td>13</td>\n",
       "      <td>0.84</td>\n",
       "      <td>3</td>\n",
       "      <td>105</td>\n",
       "      <td>0.231149</td>\n",
       "    </tr>\n",
       "    <tr>\n",
       "      <th>...</th>\n",
       "      <td>...</td>\n",
       "      <td>...</td>\n",
       "      <td>...</td>\n",
       "      <td>...</td>\n",
       "      <td>...</td>\n",
       "      <td>...</td>\n",
       "      <td>...</td>\n",
       "      <td>...</td>\n",
       "    </tr>\n",
       "    <tr>\n",
       "      <th>97</th>\n",
       "      <td>179</td>\n",
       "      <td>97</td>\n",
       "      <td>0</td>\n",
       "      <td>112</td>\n",
       "      <td>0.99</td>\n",
       "      <td>1</td>\n",
       "      <td>97</td>\n",
       "      <td>1.000000</td>\n",
       "    </tr>\n",
       "    <tr>\n",
       "      <th>98</th>\n",
       "      <td>167</td>\n",
       "      <td>98</td>\n",
       "      <td>0</td>\n",
       "      <td>113</td>\n",
       "      <td>1.98</td>\n",
       "      <td>2</td>\n",
       "      <td>98</td>\n",
       "      <td>1.000000</td>\n",
       "    </tr>\n",
       "    <tr>\n",
       "      <th>99</th>\n",
       "      <td>178</td>\n",
       "      <td>99</td>\n",
       "      <td>0</td>\n",
       "      <td>115</td>\n",
       "      <td>0.99</td>\n",
       "      <td>1</td>\n",
       "      <td>99</td>\n",
       "      <td>1.000000</td>\n",
       "    </tr>\n",
       "    <tr>\n",
       "      <th>100</th>\n",
       "      <td>164</td>\n",
       "      <td>100</td>\n",
       "      <td>0</td>\n",
       "      <td>123</td>\n",
       "      <td>2.00</td>\n",
       "      <td>2</td>\n",
       "      <td>100</td>\n",
       "      <td>1.000000</td>\n",
       "    </tr>\n",
       "    <tr>\n",
       "      <th>101</th>\n",
       "      <td>177</td>\n",
       "      <td>101</td>\n",
       "      <td>0</td>\n",
       "      <td>131</td>\n",
       "      <td>1.00</td>\n",
       "      <td>1</td>\n",
       "      <td>101</td>\n",
       "      <td>1.000000</td>\n",
       "    </tr>\n",
       "  </tbody>\n",
       "</table>\n",
       "<p>193 rows × 8 columns</p>\n",
       "</div>"
      ],
      "text/plain": [
       "     level_0  index  R    T  ml_outcomes  N  row_id  decision\n",
       "102      186    102  1    7         0.27  1     102  0.000000\n",
       "103      187    103  1   10         0.27  1     103  0.000000\n",
       "104      188    104  1   11         0.27  1     104  0.115575\n",
       "0        190      0  0   13         0.12  3       0  0.038525\n",
       "105      182    105  1   13         0.84  3     105  0.231149\n",
       "..       ...    ... ..  ...          ... ..     ...       ...\n",
       "97       179     97  0  112         0.99  1      97  1.000000\n",
       "98       167     98  0  113         1.98  2      98  1.000000\n",
       "99       178     99  0  115         0.99  1      99  1.000000\n",
       "100      164    100  0  123         2.00  2     100  1.000000\n",
       "101      177    101  0  131         1.00  1     101  1.000000\n",
       "\n",
       "[193 rows x 8 columns]"
      ]
     },
     "execution_count": 33,
     "metadata": {},
     "output_type": "execute_result"
    }
   ],
   "source": [
    "xxx_ = dff.merge(df_decisions,left_index=True,right_index=True).sort_values(by='ml_outcomes',ascending=False)\n",
    "xxx_.sort_values(by='T')"
   ]
  },
  {
   "cell_type": "code",
   "execution_count": 34,
   "metadata": {
    "execution": {
     "iopub.execute_input": "2022-05-02T22:04:47.346819Z",
     "iopub.status.busy": "2022-05-02T22:04:47.346414Z",
     "iopub.status.idle": "2022-05-02T22:04:47.348289Z",
     "shell.execute_reply": "2022-05-02T22:04:47.348550Z"
    }
   },
   "outputs": [
    {
     "data": {
      "text/html": [
       "<div>\n",
       "<style scoped>\n",
       "    .dataframe tbody tr th:only-of-type {\n",
       "        vertical-align: middle;\n",
       "    }\n",
       "\n",
       "    .dataframe tbody tr th {\n",
       "        vertical-align: top;\n",
       "    }\n",
       "\n",
       "    .dataframe thead th {\n",
       "        text-align: right;\n",
       "    }\n",
       "</style>\n",
       "<table border=\"1\" class=\"dataframe\">\n",
       "  <thead>\n",
       "    <tr style=\"text-align: right;\">\n",
       "      <th></th>\n",
       "      <th>level_0</th>\n",
       "      <th>index</th>\n",
       "      <th>R</th>\n",
       "      <th>T</th>\n",
       "      <th>ml_outcomes</th>\n",
       "      <th>N</th>\n",
       "      <th>row_id</th>\n",
       "      <th>decision</th>\n",
       "    </tr>\n",
       "  </thead>\n",
       "  <tbody>\n",
       "    <tr>\n",
       "      <th>42</th>\n",
       "      <td>0</td>\n",
       "      <td>42</td>\n",
       "      <td>0</td>\n",
       "      <td>56</td>\n",
       "      <td>1134.12</td>\n",
       "      <td>2181</td>\n",
       "      <td>42</td>\n",
       "      <td>0.498123</td>\n",
       "    </tr>\n",
       "    <tr>\n",
       "      <th>45</th>\n",
       "      <td>1</td>\n",
       "      <td>45</td>\n",
       "      <td>0</td>\n",
       "      <td>59</td>\n",
       "      <td>1132.16</td>\n",
       "      <td>1952</td>\n",
       "      <td>45</td>\n",
       "      <td>0.498875</td>\n",
       "    </tr>\n",
       "    <tr>\n",
       "      <th>46</th>\n",
       "      <td>2</td>\n",
       "      <td>46</td>\n",
       "      <td>0</td>\n",
       "      <td>60</td>\n",
       "      <td>1111.20</td>\n",
       "      <td>1852</td>\n",
       "      <td>46</td>\n",
       "      <td>0.499143</td>\n",
       "    </tr>\n",
       "    <tr>\n",
       "      <th>47</th>\n",
       "      <td>3</td>\n",
       "      <td>47</td>\n",
       "      <td>0</td>\n",
       "      <td>61</td>\n",
       "      <td>1094.30</td>\n",
       "      <td>1765</td>\n",
       "      <td>47</td>\n",
       "      <td>0.499460</td>\n",
       "    </tr>\n",
       "    <tr>\n",
       "      <th>44</th>\n",
       "      <td>4</td>\n",
       "      <td>44</td>\n",
       "      <td>0</td>\n",
       "      <td>58</td>\n",
       "      <td>1083.60</td>\n",
       "      <td>1935</td>\n",
       "      <td>44</td>\n",
       "      <td>0.498614</td>\n",
       "    </tr>\n",
       "    <tr>\n",
       "      <th>...</th>\n",
       "      <td>...</td>\n",
       "      <td>...</td>\n",
       "      <td>...</td>\n",
       "      <td>...</td>\n",
       "      <td>...</td>\n",
       "      <td>...</td>\n",
       "      <td>...</td>\n",
       "      <td>...</td>\n",
       "    </tr>\n",
       "    <tr>\n",
       "      <th>104</th>\n",
       "      <td>188</td>\n",
       "      <td>104</td>\n",
       "      <td>1</td>\n",
       "      <td>11</td>\n",
       "      <td>0.27</td>\n",
       "      <td>1</td>\n",
       "      <td>104</td>\n",
       "      <td>0.115575</td>\n",
       "    </tr>\n",
       "    <tr>\n",
       "      <th>1</th>\n",
       "      <td>189</td>\n",
       "      <td>1</td>\n",
       "      <td>0</td>\n",
       "      <td>15</td>\n",
       "      <td>0.12</td>\n",
       "      <td>3</td>\n",
       "      <td>1</td>\n",
       "      <td>0.115575</td>\n",
       "    </tr>\n",
       "    <tr>\n",
       "      <th>0</th>\n",
       "      <td>190</td>\n",
       "      <td>0</td>\n",
       "      <td>0</td>\n",
       "      <td>13</td>\n",
       "      <td>0.12</td>\n",
       "      <td>3</td>\n",
       "      <td>0</td>\n",
       "      <td>0.038525</td>\n",
       "    </tr>\n",
       "    <tr>\n",
       "      <th>3</th>\n",
       "      <td>191</td>\n",
       "      <td>3</td>\n",
       "      <td>0</td>\n",
       "      <td>17</td>\n",
       "      <td>0.05</td>\n",
       "      <td>1</td>\n",
       "      <td>3</td>\n",
       "      <td>0.400192</td>\n",
       "    </tr>\n",
       "    <tr>\n",
       "      <th>2</th>\n",
       "      <td>192</td>\n",
       "      <td>2</td>\n",
       "      <td>0</td>\n",
       "      <td>16</td>\n",
       "      <td>0.04</td>\n",
       "      <td>1</td>\n",
       "      <td>2</td>\n",
       "      <td>0.389398</td>\n",
       "    </tr>\n",
       "  </tbody>\n",
       "</table>\n",
       "<p>193 rows × 8 columns</p>\n",
       "</div>"
      ],
      "text/plain": [
       "     level_0  index  R   T  ml_outcomes     N  row_id  decision\n",
       "42         0     42  0  56      1134.12  2181      42  0.498123\n",
       "45         1     45  0  59      1132.16  1952      45  0.498875\n",
       "46         2     46  0  60      1111.20  1852      46  0.499143\n",
       "47         3     47  0  61      1094.30  1765      47  0.499460\n",
       "44         4     44  0  58      1083.60  1935      44  0.498614\n",
       "..       ...    ... ..  ..          ...   ...     ...       ...\n",
       "104      188    104  1  11         0.27     1     104  0.115575\n",
       "1        189      1  0  15         0.12     3       1  0.115575\n",
       "0        190      0  0  13         0.12     3       0  0.038525\n",
       "3        191      3  0  17         0.05     1       3  0.400192\n",
       "2        192      2  0  16         0.04     1       2  0.389398\n",
       "\n",
       "[193 rows x 8 columns]"
      ]
     },
     "execution_count": 34,
     "metadata": {},
     "output_type": "execute_result"
    }
   ],
   "source": [
    "xxx = dff.merge(df_decisions,left_index=True,right_index=True).sort_values(by='ml_outcomes',ascending=False)\n",
    "xxx"
   ]
  },
  {
   "cell_type": "code",
   "execution_count": 35,
   "metadata": {
    "execution": {
     "iopub.execute_input": "2022-05-02T22:04:47.351524Z",
     "iopub.status.busy": "2022-05-02T22:04:47.351086Z",
     "iopub.status.idle": "2022-05-02T22:04:47.352751Z",
     "shell.execute_reply": "2022-05-02T22:04:47.353005Z"
    }
   },
   "outputs": [
    {
     "data": {
      "text/plain": [
       "193"
      ]
     },
     "execution_count": 35,
     "metadata": {},
     "output_type": "execute_result"
    }
   ],
   "source": [
    "len(xxx_)"
   ]
  },
  {
   "cell_type": "code",
   "execution_count": 36,
   "metadata": {
    "execution": {
     "iopub.execute_input": "2022-05-02T22:04:47.355670Z",
     "iopub.status.busy": "2022-05-02T22:04:47.355271Z",
     "iopub.status.idle": "2022-05-02T22:04:47.360001Z",
     "shell.execute_reply": "2022-05-02T22:04:47.360253Z"
    }
   },
   "outputs": [],
   "source": [
    "xxx.to_csv('./decision.csv')"
   ]
  },
  {
   "cell_type": "code",
   "execution_count": 37,
   "metadata": {
    "execution": {
     "iopub.execute_input": "2022-05-02T22:04:47.362952Z",
     "iopub.status.busy": "2022-05-02T22:04:47.362548Z",
     "iopub.status.idle": "2022-05-02T22:04:47.365530Z",
     "shell.execute_reply": "2022-05-02T22:04:47.365783Z"
    }
   },
   "outputs": [],
   "source": [
    "solution = pd.read_csv('./decision.csv')"
   ]
  },
  {
   "cell_type": "code",
   "execution_count": null,
   "metadata": {},
   "outputs": [],
   "source": []
  },
  {
   "cell_type": "code",
   "execution_count": null,
   "metadata": {},
   "outputs": [],
   "source": []
  },
  {
   "cell_type": "code",
   "execution_count": 38,
   "metadata": {
    "execution": {
     "iopub.execute_input": "2022-05-02T22:04:47.372734Z",
     "iopub.status.busy": "2022-05-02T22:04:47.372306Z",
     "iopub.status.idle": "2022-05-02T22:04:47.374128Z",
     "shell.execute_reply": "2022-05-02T22:04:47.374408Z"
    }
   },
   "outputs": [
    {
     "data": {
      "text/html": [
       "<div>\n",
       "<style scoped>\n",
       "    .dataframe tbody tr th:only-of-type {\n",
       "        vertical-align: middle;\n",
       "    }\n",
       "\n",
       "    .dataframe tbody tr th {\n",
       "        vertical-align: top;\n",
       "    }\n",
       "\n",
       "    .dataframe thead th {\n",
       "        text-align: right;\n",
       "    }\n",
       "</style>\n",
       "<table border=\"1\" class=\"dataframe\">\n",
       "  <thead>\n",
       "    <tr style=\"text-align: right;\">\n",
       "      <th></th>\n",
       "      <th>level_0</th>\n",
       "      <th>index</th>\n",
       "      <th>R</th>\n",
       "      <th>T</th>\n",
       "      <th>ml_outcomes</th>\n",
       "      <th>N</th>\n",
       "      <th>row_id</th>\n",
       "      <th>decision</th>\n",
       "    </tr>\n",
       "  </thead>\n",
       "  <tbody>\n",
       "    <tr>\n",
       "      <th>42</th>\n",
       "      <td>0</td>\n",
       "      <td>42</td>\n",
       "      <td>0</td>\n",
       "      <td>56</td>\n",
       "      <td>1134.12</td>\n",
       "      <td>2181</td>\n",
       "      <td>42</td>\n",
       "      <td>0.498123</td>\n",
       "    </tr>\n",
       "    <tr>\n",
       "      <th>45</th>\n",
       "      <td>1</td>\n",
       "      <td>45</td>\n",
       "      <td>0</td>\n",
       "      <td>59</td>\n",
       "      <td>1132.16</td>\n",
       "      <td>1952</td>\n",
       "      <td>45</td>\n",
       "      <td>0.498875</td>\n",
       "    </tr>\n",
       "    <tr>\n",
       "      <th>46</th>\n",
       "      <td>2</td>\n",
       "      <td>46</td>\n",
       "      <td>0</td>\n",
       "      <td>60</td>\n",
       "      <td>1111.20</td>\n",
       "      <td>1852</td>\n",
       "      <td>46</td>\n",
       "      <td>0.499143</td>\n",
       "    </tr>\n",
       "    <tr>\n",
       "      <th>47</th>\n",
       "      <td>3</td>\n",
       "      <td>47</td>\n",
       "      <td>0</td>\n",
       "      <td>61</td>\n",
       "      <td>1094.30</td>\n",
       "      <td>1765</td>\n",
       "      <td>47</td>\n",
       "      <td>0.499460</td>\n",
       "    </tr>\n",
       "    <tr>\n",
       "      <th>44</th>\n",
       "      <td>4</td>\n",
       "      <td>44</td>\n",
       "      <td>0</td>\n",
       "      <td>58</td>\n",
       "      <td>1083.60</td>\n",
       "      <td>1935</td>\n",
       "      <td>44</td>\n",
       "      <td>0.498614</td>\n",
       "    </tr>\n",
       "    <tr>\n",
       "      <th>...</th>\n",
       "      <td>...</td>\n",
       "      <td>...</td>\n",
       "      <td>...</td>\n",
       "      <td>...</td>\n",
       "      <td>...</td>\n",
       "      <td>...</td>\n",
       "      <td>...</td>\n",
       "      <td>...</td>\n",
       "    </tr>\n",
       "    <tr>\n",
       "      <th>104</th>\n",
       "      <td>188</td>\n",
       "      <td>104</td>\n",
       "      <td>1</td>\n",
       "      <td>11</td>\n",
       "      <td>0.27</td>\n",
       "      <td>1</td>\n",
       "      <td>104</td>\n",
       "      <td>0.115575</td>\n",
       "    </tr>\n",
       "    <tr>\n",
       "      <th>1</th>\n",
       "      <td>189</td>\n",
       "      <td>1</td>\n",
       "      <td>0</td>\n",
       "      <td>15</td>\n",
       "      <td>0.12</td>\n",
       "      <td>3</td>\n",
       "      <td>1</td>\n",
       "      <td>0.115575</td>\n",
       "    </tr>\n",
       "    <tr>\n",
       "      <th>0</th>\n",
       "      <td>190</td>\n",
       "      <td>0</td>\n",
       "      <td>0</td>\n",
       "      <td>13</td>\n",
       "      <td>0.12</td>\n",
       "      <td>3</td>\n",
       "      <td>0</td>\n",
       "      <td>0.038525</td>\n",
       "    </tr>\n",
       "    <tr>\n",
       "      <th>3</th>\n",
       "      <td>191</td>\n",
       "      <td>3</td>\n",
       "      <td>0</td>\n",
       "      <td>17</td>\n",
       "      <td>0.05</td>\n",
       "      <td>1</td>\n",
       "      <td>3</td>\n",
       "      <td>0.400192</td>\n",
       "    </tr>\n",
       "    <tr>\n",
       "      <th>2</th>\n",
       "      <td>192</td>\n",
       "      <td>2</td>\n",
       "      <td>0</td>\n",
       "      <td>16</td>\n",
       "      <td>0.04</td>\n",
       "      <td>1</td>\n",
       "      <td>2</td>\n",
       "      <td>0.389398</td>\n",
       "    </tr>\n",
       "  </tbody>\n",
       "</table>\n",
       "<p>193 rows × 8 columns</p>\n",
       "</div>"
      ],
      "text/plain": [
       "     level_0  index  R   T  ml_outcomes     N  row_id  decision\n",
       "42         0     42  0  56      1134.12  2181      42  0.498123\n",
       "45         1     45  0  59      1132.16  1952      45  0.498875\n",
       "46         2     46  0  60      1111.20  1852      46  0.499143\n",
       "47         3     47  0  61      1094.30  1765      47  0.499460\n",
       "44         4     44  0  58      1083.60  1935      44  0.498614\n",
       "..       ...    ... ..  ..          ...   ...     ...       ...\n",
       "104      188    104  1  11         0.27     1     104  0.115575\n",
       "1        189      1  0  15         0.12     3       1  0.115575\n",
       "0        190      0  0  13         0.12     3       0  0.038525\n",
       "3        191      3  0  17         0.05     1       3  0.400192\n",
       "2        192      2  0  16         0.04     1       2  0.389398\n",
       "\n",
       "[193 rows x 8 columns]"
      ]
     },
     "execution_count": 38,
     "metadata": {},
     "output_type": "execute_result"
    }
   ],
   "source": [
    "xxx"
   ]
  },
  {
   "cell_type": "code",
   "execution_count": 39,
   "metadata": {
    "execution": {
     "iopub.execute_input": "2022-05-02T22:04:47.377697Z",
     "iopub.status.busy": "2022-05-02T22:04:47.377290Z",
     "iopub.status.idle": "2022-05-02T22:04:47.378847Z",
     "shell.execute_reply": "2022-05-02T22:04:47.379096Z"
    }
   },
   "outputs": [
    {
     "data": {
      "text/plain": [
       "26434.070122061483"
      ]
     },
     "execution_count": 39,
     "metadata": {},
     "output_type": "execute_result"
    }
   ],
   "source": [
    "(xxx['ml_outcomes']*xxx['decision']).sum()"
   ]
  },
  {
   "cell_type": "code",
   "execution_count": 40,
   "metadata": {
    "execution": {
     "iopub.execute_input": "2022-05-02T22:04:47.382368Z",
     "iopub.status.busy": "2022-05-02T22:04:47.381996Z",
     "iopub.status.idle": "2022-05-02T22:04:47.383234Z",
     "shell.execute_reply": "2022-05-02T22:04:47.383538Z"
    }
   },
   "outputs": [],
   "source": [
    "def maxMLOutcomes(frac_black=0.01):\n",
    "    black_admits = int(K*frac_black)\n",
    "    white_admits = int(K*(1-frac_black))\n",
    "    \n",
    "    b = df[df['R']==1].sort_values(by='ml_outcomes',ascending=False).head(n=black_admits)\n",
    "    w = df[df['R']==0].sort_values(by='ml_outcomes',ascending=False).head(n=white_admits)\n",
    "    \n",
    "    return b['B_p'].sum() + w['B_p'].sum()    "
   ]
  },
  {
   "cell_type": "code",
   "execution_count": 41,
   "metadata": {
    "execution": {
     "iopub.execute_input": "2022-05-02T22:04:47.386967Z",
     "iopub.status.busy": "2022-05-02T22:04:47.386593Z",
     "iopub.status.idle": "2022-05-02T22:04:47.387889Z",
     "shell.execute_reply": "2022-05-02T22:04:47.388185Z"
    }
   },
   "outputs": [],
   "source": [
    "def maxMLOutcomesBlack(frac_black=0.01):\n",
    "    black_admits = int(K*frac_black)\n",
    "    white_admits = int(K*(1-frac_black))\n",
    "    \n",
    "    b = df[df['R']==1].sort_values(by='ml_outcomes',ascending=False).head(n=black_admits)\n",
    "    w = df[df['R']==0].sort_values(by='ml_outcomes',ascending=False).head(n=white_admits)\n",
    "    \n",
    "    return b['B_p'].sum()   "
   ]
  },
  {
   "cell_type": "code",
   "execution_count": 42,
   "metadata": {
    "execution": {
     "iopub.execute_input": "2022-05-02T22:04:47.391117Z",
     "iopub.status.busy": "2022-05-02T22:04:47.390542Z",
     "iopub.status.idle": "2022-05-02T22:04:47.504491Z",
     "shell.execute_reply": "2022-05-02T22:04:47.504756Z"
    }
   },
   "outputs": [],
   "source": [
    "df['key'] = df['R'].astype(str)+'_'+df['T'].astype(str)\n",
    "xxx['key'] = xxx['R'].astype(str)+'_'+xxx['T'].astype(str)"
   ]
  },
  {
   "cell_type": "code",
   "execution_count": 43,
   "metadata": {
    "execution": {
     "iopub.execute_input": "2022-05-02T22:04:47.507538Z",
     "iopub.status.busy": "2022-05-02T22:04:47.507077Z",
     "iopub.status.idle": "2022-05-02T22:04:47.508511Z",
     "shell.execute_reply": "2022-05-02T22:04:47.508798Z"
    }
   },
   "outputs": [
    {
     "data": {
      "text/plain": [
       "193"
      ]
     },
     "execution_count": 43,
     "metadata": {},
     "output_type": "execute_result"
    }
   ],
   "source": [
    "len(xxx)"
   ]
  },
  {
   "cell_type": "code",
   "execution_count": 44,
   "metadata": {
    "execution": {
     "iopub.execute_input": "2022-05-02T22:04:47.519155Z",
     "iopub.status.busy": "2022-05-02T22:04:47.518771Z",
     "iopub.status.idle": "2022-05-02T22:04:47.569781Z",
     "shell.execute_reply": "2022-05-02T22:04:47.570020Z"
    }
   },
   "outputs": [],
   "source": [
    "admit_decisions = df.merge(xxx,how='left',on='key')\n",
    "admit_decisions['decision_random'] = pd.Series([random.random() for x in range(0,len(admit_decisions))]) < FRAC_ADMIT\n",
    "\n",
    "\n",
    "FRAC_BLACK_POLICY = (admit_decisions['R_y'] * admit_decisions['decision']).sum()/admit_decisions['decision'].sum()\n",
    "SUM_BP_POLICY = ( admit_decisions['B_p'] * admit_decisions['decision']).sum()\n",
    "\n",
    "FRAC_RANDOM_POLICY = (admit_decisions['R_y'] * admit_decisions['decision_random']).sum()/admit_decisions['decision_random'].sum()\n",
    "SUM_BP_RAND_POLICY = ( admit_decisions['B_p'] * admit_decisions['decision_random']).sum()\n"
   ]
  },
  {
   "cell_type": "code",
   "execution_count": 45,
   "metadata": {
    "execution": {
     "iopub.execute_input": "2022-05-02T22:04:47.573468Z",
     "iopub.status.busy": "2022-05-02T22:04:47.573099Z",
     "iopub.status.idle": "2022-05-02T22:04:47.574615Z",
     "shell.execute_reply": "2022-05-02T22:04:47.574987Z"
    }
   },
   "outputs": [],
   "source": [
    "file = open('./lp_results.csv','w')\n",
    "file.write('{}\\t{}\\t{}\\n'.format('Policy Name','Frac Diverse Candidates','Total Graduated'))\n",
    "file.write('{}\\t{}\\t{}\\n'.format('Random',str(FRAC_RANDOM_POLICY),str(SUM_BP_RAND_POLICY)))\n",
    "file.write('{}\\t{}\\t{}\\n'.format('Counterfactual Fairness',str(FRAC_BLACK_POLICY),str(SUM_BP_POLICY)))\n",
    "file.close()\n"
   ]
  },
  {
   "cell_type": "code",
   "execution_count": 46,
   "metadata": {
    "execution": {
     "iopub.execute_input": "2022-05-02T22:04:47.578092Z",
     "iopub.status.busy": "2022-05-02T22:04:47.577692Z",
     "iopub.status.idle": "2022-05-02T22:04:47.579476Z",
     "shell.execute_reply": "2022-05-02T22:04:47.579735Z"
    }
   },
   "outputs": [
    {
     "data": {
      "text/plain": [
       "0.5000000000000002"
      ]
     },
     "execution_count": 46,
     "metadata": {},
     "output_type": "execute_result"
    }
   ],
   "source": [
    "(xxx['N']*xxx['decision']).sum()/len(df)"
   ]
  },
  {
   "cell_type": "code",
   "execution_count": null,
   "metadata": {},
   "outputs": [],
   "source": []
  }
 ],
 "metadata": {
  "kernelspec": {
   "display_name": "Python 3 (ipykernel)",
   "language": "python",
   "name": "python3"
  },
  "language_info": {
   "codemirror_mode": {
    "name": "ipython",
    "version": 3
   },
   "file_extension": ".py",
   "mimetype": "text/x-python",
   "name": "python",
   "nbconvert_exporter": "python",
   "pygments_lexer": "ipython3",
   "version": "3.9.7"
  }
 },
 "nbformat": 4,
 "nbformat_minor": 4
}
