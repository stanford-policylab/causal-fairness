{
 "cells": [
  {
   "cell_type": "code",
   "execution_count": 2,
   "metadata": {
    "execution": {
     "iopub.execute_input": "2022-07-18T22:07:16.210265Z",
     "iopub.status.busy": "2022-07-18T22:07:16.209347Z",
     "iopub.status.idle": "2022-07-18T22:07:17.429327Z",
     "shell.execute_reply": "2022-07-18T22:07:17.429587Z"
    }
   },
   "outputs": [],
   "source": [
    "import numpy as np\n",
    "import pandas as pd\n",
    "import matplotlib.pyplot as plt\n",
    "import seaborn as sns\n",
    "import random\n",
    "import os\n",
    "\n",
    "FRAC_ADMIT = 0.5\n"
   ]
  },
  {
   "cell_type": "code",
   "execution_count": 3,
   "metadata": {
    "execution": {
     "iopub.execute_input": "2022-07-18T22:07:17.433856Z",
     "iopub.status.busy": "2022-07-18T22:07:17.433456Z",
     "iopub.status.idle": "2022-07-18T22:07:32.717812Z",
     "shell.execute_reply": "2022-07-18T22:07:32.718051Z"
    }
   },
   "outputs": [],
   "source": [
    "\n",
    "\n",
    "###\n",
    "## Load dataframe where each row is a single applicant\n",
    "###\n",
    "\n",
    "df = pd.read_csv('./df_test.csv')\n",
    "df['key'] = df['R'].astype(str) + \"_\"  + df['T'].astype(str)\n",
    "\n"
   ]
  },
  {
   "cell_type": "code",
   "execution_count": 4,
   "metadata": {
    "execution": {
     "iopub.execute_input": "2022-07-18T22:07:32.831932Z",
     "iopub.status.busy": "2022-07-18T22:07:32.777121Z",
     "iopub.status.idle": "2022-07-18T22:07:32.833010Z",
     "shell.execute_reply": "2022-07-18T22:07:32.833355Z"
    }
   },
   "outputs": [],
   "source": [
    "df['Y_stratum'] = df['Y'].astype(str) + df['Y_reject'].astype(str)\n",
    "\n"
   ]
  },
  {
   "cell_type": "code",
   "execution_count": 5,
   "metadata": {
    "execution": {
     "iopub.execute_input": "2022-07-18T22:07:32.902789Z",
     "iopub.status.busy": "2022-07-18T22:07:32.902412Z",
     "iopub.status.idle": "2022-07-18T22:07:32.908800Z",
     "shell.execute_reply": "2022-07-18T22:07:32.909040Z"
    }
   },
   "outputs": [],
   "source": [
    "###\n",
    "## Get number of people in each stratum\n",
    "###\n",
    "\n",
    "dff = df[['R','T','key','Y','Y_reject']].groupby(['R','T','Y','Y_reject']).count().reset_index()\n",
    "dff.columns = ['R','T','Y','Y_reject','N']"
   ]
  },
  {
   "cell_type": "code",
   "execution_count": null,
   "metadata": {},
   "outputs": [],
   "source": []
  },
  {
   "cell_type": "code",
   "execution_count": 6,
   "metadata": {},
   "outputs": [
    {
     "name": "stdout",
     "output_type": "stream",
     "text": [
      "0 29333\n",
      "100 29381\n",
      "200 29447\n",
      "300 29503\n",
      "400 29542\n",
      "500 29595\n",
      "600 29637\n",
      "700 29682\n",
      "800 29719\n",
      "900 29756\n",
      "1000 29802\n",
      "1100 29842\n",
      "1200 29883\n",
      "1300 29908\n",
      "1400 29943\n",
      "1500 29968\n",
      "1600 29996\n",
      "1700 30028\n",
      "1800 30045\n",
      "1900 30084\n",
      "2000 30102\n",
      "2100 30142\n",
      "2200 30181\n",
      "2300 30206\n",
      "2400 30235\n",
      "2500 30260\n",
      "2600 30285\n",
      "2700 30306\n",
      "2800 30335\n",
      "2900 30359\n",
      "3000 30386\n",
      "3100 30423\n",
      "3200 30451\n",
      "3300 30475\n",
      "3400 30511\n",
      "3500 30536\n",
      "3600 30545\n",
      "3700 30560\n",
      "3800 30580\n",
      "3900 30594\n",
      "4000 30608\n",
      "4100 30638\n",
      "4200 30646\n",
      "4300 30662\n",
      "4400 30672\n",
      "4500 30686\n",
      "4600 30709\n",
      "4700 30732\n",
      "4800 30750\n",
      "4900 30778\n",
      "5000 30785\n",
      "5100 30788\n",
      "5200 30785\n",
      "5300 30792\n",
      "5400 30805\n",
      "5500 30817\n",
      "5600 30828\n",
      "5700 30836\n",
      "5800 30846\n",
      "5900 30865\n",
      "6000 30863\n",
      "6100 30881\n",
      "6200 30893\n",
      "6300 30903\n",
      "6400 30916\n",
      "6500 30915\n",
      "6600 30921\n",
      "6700 30930\n",
      "6800 30932\n",
      "6900 30939\n",
      "7000 30951\n",
      "7100 30953\n",
      "7200 30959\n",
      "7300 30969\n",
      "7400 30971\n",
      "7500 30971\n",
      "7600 30979\n",
      "7700 30979\n",
      "7800 30961\n",
      "7900 30965\n",
      "8000 30970\n",
      "8100 30966\n",
      "8200 30967\n",
      "8300 30978\n",
      "8400 30979\n",
      "8500 30979\n",
      "8600 30989\n",
      "8700 30975\n",
      "8800 30976\n",
      "8900 30962\n",
      "9000 30959\n",
      "9100 30944\n",
      "9200 30935\n",
      "9300 30937\n",
      "9400 30943\n",
      "9500 30928\n",
      "9600 30917\n",
      "9700 30899\n",
      "9800 30896\n",
      "9900 30891\n",
      "10000 30890\n",
      "10100 30901\n",
      "10200 30884\n",
      "10300 30878\n",
      "10400 30876\n",
      "10500 30881\n",
      "10600 30857\n",
      "10700 30853\n",
      "10800 30849\n",
      "10900 30842\n",
      "11000 30839\n",
      "11100 30837\n",
      "11200 30827\n",
      "11300 30823\n",
      "11400 30812\n",
      "11500 30790\n",
      "11600 30782\n",
      "11700 30762\n",
      "11800 30751\n",
      "11900 30734\n",
      "12000 30728\n",
      "12100 30724\n",
      "12200 30723\n",
      "12300 30713\n",
      "12400 30697\n",
      "12500 30690\n",
      "12600 30670\n",
      "12700 30669\n",
      "12800 30657\n",
      "12900 30650\n",
      "13000 30641\n",
      "13100 30635\n",
      "13200 30624\n",
      "13300 30603\n",
      "13400 30598\n",
      "13500 30584\n",
      "13600 30571\n",
      "13700 30564\n",
      "13800 30553\n",
      "13900 30538\n",
      "14000 30525\n",
      "14100 30506\n",
      "14200 30489\n",
      "14300 30478\n",
      "14400 30460\n",
      "14500 30453\n",
      "14600 30439\n",
      "14700 30424\n",
      "14800 30407\n",
      "14900 30399\n",
      "15000 30392\n",
      "15100 30385\n",
      "15200 30385\n",
      "15300 30360\n",
      "15400 30346\n",
      "15500 30335\n",
      "15600 30311\n",
      "15700 30288\n",
      "15800 30276\n",
      "15900 30249\n",
      "16000 30240\n",
      "16100 30217\n",
      "16200 30199\n",
      "16300 30188\n",
      "16400 30157\n",
      "16500 30149\n",
      "16600 30133\n",
      "16700 30107\n",
      "16800 30085\n",
      "16900 30061\n",
      "17000 30049\n",
      "17100 30030\n",
      "17200 30013\n",
      "17300 30000\n",
      "17400 29987\n",
      "17500 29963\n",
      "17600 29950\n",
      "17700 29921\n",
      "17800 29890\n",
      "17900 29862\n",
      "18000 29841\n",
      "18100 29822\n",
      "18200 29797\n",
      "18300 29766\n",
      "18400 29748\n",
      "18500 29719\n",
      "18600 29690\n",
      "18700 29662\n",
      "18800 29633\n",
      "18900 29605\n",
      "19000 29584\n",
      "19100 29563\n",
      "19200 29548\n",
      "19300 29512\n",
      "19400 29494\n",
      "19500 29465\n",
      "19600 29441\n",
      "19700 29408\n",
      "19800 29378\n",
      "19900 29355\n",
      "20000 29331\n",
      "20100 29304\n",
      "20200 29275\n",
      "20300 29240\n",
      "20400 29213\n",
      "20500 29178\n",
      "20600 29147\n",
      "20700 29119\n",
      "20800 29096\n",
      "20900 29067\n",
      "21000 29039\n",
      "21100 29013\n",
      "21200 28991\n",
      "21300 28962\n",
      "21400 28935\n",
      "21500 28907\n",
      "21600 28882\n",
      "21700 28842\n",
      "21800 28807\n",
      "21900 28765\n",
      "22000 28733\n",
      "22100 28702\n",
      "22200 28660\n",
      "22300 28623\n",
      "22400 28591\n",
      "22500 28559\n",
      "22600 28518\n",
      "22700 28485\n",
      "22800 28455\n",
      "22900 28420\n",
      "23000 28392\n",
      "23100 28367\n",
      "23200 28324\n",
      "23300 28292\n",
      "23400 28252\n",
      "23500 28221\n",
      "23600 28190\n",
      "23700 28161\n",
      "23800 28133\n",
      "23900 28094\n",
      "24000 28067\n",
      "24100 28042\n",
      "24200 28017\n",
      "24300 27969\n",
      "24400 27925\n",
      "24500 27888\n",
      "24600 27853\n",
      "24700 27815\n",
      "24800 27779\n",
      "24900 27727\n",
      "25000 27693\n",
      "25100 27659\n",
      "25200 27615\n",
      "25300 27575\n",
      "25400 27530\n",
      "25500 27496\n",
      "25600 27447\n",
      "25700 27409\n",
      "25800 27371\n",
      "25900 27333\n",
      "26000 27284\n",
      "26100 27226\n",
      "26200 27177\n",
      "26300 27137\n",
      "26400 27084\n",
      "26500 27054\n",
      "26600 27011\n",
      "26700 26961\n",
      "26800 26922\n",
      "26900 26876\n",
      "27000 26835\n",
      "27100 26794\n",
      "27200 26750\n",
      "27300 26712\n",
      "27400 26672\n",
      "27500 26624\n",
      "27600 26588\n",
      "27700 26542\n",
      "27800 26496\n",
      "27900 26445\n",
      "28000 26404\n",
      "28100 26367\n",
      "28200 26312\n",
      "28300 26267\n",
      "28400 26220\n",
      "28500 26170\n",
      "28600 26126\n",
      "28700 26075\n",
      "28800 26023\n",
      "28900 25974\n",
      "29000 25929\n",
      "29100 25871\n",
      "29200 25822\n",
      "29300 25761\n",
      "29400 25715\n",
      "29500 25678\n",
      "29600 25629\n",
      "29700 25582\n",
      "29800 25538\n",
      "29900 25485\n",
      "30000 25447\n",
      "30100 25400\n",
      "30200 25358\n",
      "30300 25307\n",
      "30400 25246\n",
      "30500 25199\n",
      "30600 25152\n",
      "30700 25099\n",
      "30800 25051\n",
      "30900 24998\n",
      "31000 24945\n",
      "31100 24888\n",
      "31200 24839\n",
      "31300 24788\n",
      "31400 24736\n",
      "31500 24673\n",
      "31600 24625\n",
      "31700 24570\n",
      "31800 24518\n",
      "31900 24457\n",
      "32000 24390\n",
      "32100 24339\n",
      "32200 24288\n",
      "32300 24231\n",
      "32400 24168\n",
      "32500 24117\n",
      "32600 24057\n",
      "32700 24000\n",
      "32800 23939\n",
      "32900 23884\n",
      "33000 23825\n",
      "33100 23770\n"
     ]
    }
   ],
   "source": [
    "TOTAL_ADMITS = int(len(df)*FRAC_ADMIT)\n",
    "MAX_BLACK_ADMITS = len(df[df['R']==1])\n",
    "MIN_GRADUATES = 10000\n",
    "GRID_SIZE = 100\n",
    "\n",
    "outcomes_grid = []\n",
    "Xs = []\n",
    "Ys = []\n",
    "\n",
    "for N_black_admits in range(0,MAX_BLACK_ADMITS):\n",
    "    \n",
    "    if N_black_admits % GRID_SIZE != 0:\n",
    "        continue\n",
    "    \n",
    "    black_admits = df[df['R']==1].sort_values(by='T',ascending=False).head(n=N_black_admits)\n",
    "    white_admits = df[df['R']==0].sort_values(by='T',ascending=False).head(n=TOTAL_ADMITS-N_black_admits)\n",
    "    \n",
    "    Y = black_admits['Y'].sum() + white_admits['Y'].sum()\n",
    "    \n",
    "    Xs.append(N_black_admits)\n",
    "    Ys.append(Y)\n",
    "    print(N_black_admits,Y)\n",
    "    \n",
    "    for y_iter in np.arange(MIN_GRADUATES,Y,GRID_SIZE):\n",
    "        outcomes_grid.append({'min_black_admits':N_black_admits-GRID_SIZE/2, 'max_black_admits':N_black_admits+GRID_SIZE/2, 'max_graduates':y_iter+GRID_SIZE, 'min_graduates':y_iter, 'policy_exists':'Unknown'})\n",
    "        "
   ]
  },
  {
   "cell_type": "code",
   "execution_count": 7,
   "metadata": {},
   "outputs": [],
   "source": [
    "df_pareto = pd.DataFrame({'# Black Admits':Xs, '# Graduates':Ys})"
   ]
  },
  {
   "cell_type": "code",
   "execution_count": null,
   "metadata": {},
   "outputs": [],
   "source": []
  },
  {
   "cell_type": "markdown",
   "metadata": {},
   "source": [
    "### Setup optimization problem "
   ]
  },
  {
   "cell_type": "code",
   "execution_count": 8,
   "metadata": {
    "execution": {
     "iopub.execute_input": "2022-07-18T22:07:32.925308Z",
     "iopub.status.busy": "2022-07-18T22:07:32.924951Z",
     "iopub.status.idle": "2022-07-18T22:07:32.948810Z",
     "shell.execute_reply": "2022-07-18T22:07:32.949026Z"
    }
   },
   "outputs": [],
   "source": [
    "from ortools.linear_solver import pywraplp\n"
   ]
  },
  {
   "cell_type": "code",
   "execution_count": 9,
   "metadata": {
    "execution": {
     "iopub.execute_input": "2022-07-18T22:07:32.951558Z",
     "iopub.status.busy": "2022-07-18T22:07:32.951201Z",
     "iopub.status.idle": "2022-07-18T22:07:32.952502Z",
     "shell.execute_reply": "2022-07-18T22:07:32.952736Z"
    }
   },
   "outputs": [],
   "source": [
    "solver = pywraplp.Solver.CreateSolver('GLOP')\n"
   ]
  },
  {
   "cell_type": "code",
   "execution_count": 10,
   "metadata": {
    "execution": {
     "iopub.execute_input": "2022-07-18T22:07:32.955051Z",
     "iopub.status.busy": "2022-07-18T22:07:32.954659Z",
     "iopub.status.idle": "2022-07-18T22:07:32.956956Z",
     "shell.execute_reply": "2022-07-18T22:07:32.957233Z"
    }
   },
   "outputs": [
    {
     "data": {
      "text/plain": [
       "476"
      ]
     },
     "execution_count": 10,
     "metadata": {},
     "output_type": "execute_result"
    }
   ],
   "source": [
    "len(dff[['R','T','Y','Y_reject']])"
   ]
  },
  {
   "cell_type": "code",
   "execution_count": 11,
   "metadata": {
    "execution": {
     "iopub.execute_input": "2022-07-18T22:07:32.963351Z",
     "iopub.status.busy": "2022-07-18T22:07:32.962958Z",
     "iopub.status.idle": "2022-07-18T22:07:32.964570Z",
     "shell.execute_reply": "2022-07-18T22:07:32.964864Z"
    }
   },
   "outputs": [
    {
     "data": {
      "text/html": [
       "<div>\n",
       "<style scoped>\n",
       "    .dataframe tbody tr th:only-of-type {\n",
       "        vertical-align: middle;\n",
       "    }\n",
       "\n",
       "    .dataframe tbody tr th {\n",
       "        vertical-align: top;\n",
       "    }\n",
       "\n",
       "    .dataframe thead th {\n",
       "        text-align: right;\n",
       "    }\n",
       "</style>\n",
       "<table border=\"1\" class=\"dataframe\">\n",
       "  <thead>\n",
       "    <tr style=\"text-align: right;\">\n",
       "      <th></th>\n",
       "      <th>R</th>\n",
       "      <th>T</th>\n",
       "      <th>Y</th>\n",
       "      <th>Y_reject</th>\n",
       "      <th>N</th>\n",
       "    </tr>\n",
       "  </thead>\n",
       "  <tbody>\n",
       "    <tr>\n",
       "      <th>0</th>\n",
       "      <td>0</td>\n",
       "      <td>12</td>\n",
       "      <td>0</td>\n",
       "      <td>0</td>\n",
       "      <td>1</td>\n",
       "    </tr>\n",
       "    <tr>\n",
       "      <th>1</th>\n",
       "      <td>0</td>\n",
       "      <td>14</td>\n",
       "      <td>0</td>\n",
       "      <td>0</td>\n",
       "      <td>1</td>\n",
       "    </tr>\n",
       "    <tr>\n",
       "      <th>2</th>\n",
       "      <td>0</td>\n",
       "      <td>15</td>\n",
       "      <td>0</td>\n",
       "      <td>0</td>\n",
       "      <td>2</td>\n",
       "    </tr>\n",
       "    <tr>\n",
       "      <th>3</th>\n",
       "      <td>0</td>\n",
       "      <td>16</td>\n",
       "      <td>0</td>\n",
       "      <td>0</td>\n",
       "      <td>2</td>\n",
       "    </tr>\n",
       "    <tr>\n",
       "      <th>4</th>\n",
       "      <td>0</td>\n",
       "      <td>17</td>\n",
       "      <td>0</td>\n",
       "      <td>0</td>\n",
       "      <td>4</td>\n",
       "    </tr>\n",
       "    <tr>\n",
       "      <th>...</th>\n",
       "      <td>...</td>\n",
       "      <td>...</td>\n",
       "      <td>...</td>\n",
       "      <td>...</td>\n",
       "      <td>...</td>\n",
       "    </tr>\n",
       "    <tr>\n",
       "      <th>471</th>\n",
       "      <td>1</td>\n",
       "      <td>94</td>\n",
       "      <td>0</td>\n",
       "      <td>0</td>\n",
       "      <td>1</td>\n",
       "    </tr>\n",
       "    <tr>\n",
       "      <th>472</th>\n",
       "      <td>1</td>\n",
       "      <td>95</td>\n",
       "      <td>1</td>\n",
       "      <td>1</td>\n",
       "      <td>1</td>\n",
       "    </tr>\n",
       "    <tr>\n",
       "      <th>473</th>\n",
       "      <td>1</td>\n",
       "      <td>97</td>\n",
       "      <td>1</td>\n",
       "      <td>1</td>\n",
       "      <td>1</td>\n",
       "    </tr>\n",
       "    <tr>\n",
       "      <th>474</th>\n",
       "      <td>1</td>\n",
       "      <td>101</td>\n",
       "      <td>1</td>\n",
       "      <td>1</td>\n",
       "      <td>1</td>\n",
       "    </tr>\n",
       "    <tr>\n",
       "      <th>475</th>\n",
       "      <td>1</td>\n",
       "      <td>104</td>\n",
       "      <td>1</td>\n",
       "      <td>1</td>\n",
       "      <td>1</td>\n",
       "    </tr>\n",
       "  </tbody>\n",
       "</table>\n",
       "<p>476 rows × 5 columns</p>\n",
       "</div>"
      ],
      "text/plain": [
       "     R    T  Y  Y_reject  N\n",
       "0    0   12  0         0  1\n",
       "1    0   14  0         0  1\n",
       "2    0   15  0         0  2\n",
       "3    0   16  0         0  2\n",
       "4    0   17  0         0  4\n",
       "..  ..  ... ..       ... ..\n",
       "471  1   94  0         0  1\n",
       "472  1   95  1         1  1\n",
       "473  1   97  1         1  1\n",
       "474  1  101  1         1  1\n",
       "475  1  104  1         1  1\n",
       "\n",
       "[476 rows x 5 columns]"
      ]
     },
     "execution_count": 11,
     "metadata": {},
     "output_type": "execute_result"
    }
   ],
   "source": [
    "dff"
   ]
  },
  {
   "cell_type": "code",
   "execution_count": 12,
   "metadata": {
    "execution": {
     "iopub.execute_input": "2022-07-18T22:07:32.982900Z",
     "iopub.status.busy": "2022-07-18T22:07:32.982532Z",
     "iopub.status.idle": "2022-07-18T22:07:32.983769Z",
     "shell.execute_reply": "2022-07-18T22:07:32.984056Z"
    }
   },
   "outputs": [],
   "source": [
    "applicant_stratum = []\n",
    "vars_cache = {}\n",
    "\n",
    "# Objective: Maximize the expected utility of the admitted students\n",
    "objective = solver.Objective()\n",
    "\n",
    "# For each stratum\n",
    "for ix, row in dff.iterrows():\n",
    "    # probability of admission\n",
    "    numvar = solver.NumVar(0.0, 1.0, str(ix))\n",
    "    \n",
    "    # store variable by index, and also by stratum R, T\n",
    "    applicant_stratum.append(numvar)\n",
    "    vars_cache[(row['R'],row['T'],row['Y'], row['Y_reject'])] = numvar\n",
    "    \n",
    "    # Benefit of admitting people is total utility in that stratum\n",
    "    objective.SetCoefficient(applicant_stratum[ix], float(row['N']))\n",
    "objective.SetMaximization()\n"
   ]
  },
  {
   "cell_type": "code",
   "execution_count": 13,
   "metadata": {
    "execution": {
     "iopub.execute_input": "2022-07-18T22:07:32.986363Z",
     "iopub.status.busy": "2022-07-18T22:07:32.985976Z",
     "iopub.status.idle": "2022-07-18T22:07:32.987568Z",
     "shell.execute_reply": "2022-07-18T22:07:32.987924Z"
    }
   },
   "outputs": [
    {
     "data": {
      "text/plain": [
       "0"
      ]
     },
     "execution_count": 13,
     "metadata": {},
     "output_type": "execute_result"
    }
   ],
   "source": [
    "# Currently we have no constraints \n",
    "solver.NumConstraints()"
   ]
  },
  {
   "cell_type": "code",
   "execution_count": 14,
   "metadata": {
    "execution": {
     "iopub.execute_input": "2022-07-18T22:07:33.000400Z",
     "iopub.status.busy": "2022-07-18T22:07:33.000034Z",
     "iopub.status.idle": "2022-07-18T22:07:33.001569Z",
     "shell.execute_reply": "2022-07-18T22:07:33.001811Z"
    },
    "scrolled": true
   },
   "outputs": [
    {
     "name": "stdout",
     "output_type": "stream",
     "text": [
      "50000\n"
     ]
    }
   ],
   "source": [
    "# Constraint: At most K applicants\n",
    "K = int(len(df)*FRAC_ADMIT)\n",
    "print(K)\n",
    "admit_quota = solver.Constraint(0, K)\n",
    "\n",
    "# Total applicants cannot exceed K \n",
    "for ix, row in dff.iterrows():\n",
    "    admit_quota.SetCoefficient(applicant_stratum[ix], float(row['N']))"
   ]
  },
  {
   "cell_type": "code",
   "execution_count": 15,
   "metadata": {
    "execution": {
     "iopub.execute_input": "2022-07-18T22:07:33.004068Z",
     "iopub.status.busy": "2022-07-18T22:07:33.003709Z",
     "iopub.status.idle": "2022-07-18T22:07:33.005200Z",
     "shell.execute_reply": "2022-07-18T22:07:33.005468Z"
    }
   },
   "outputs": [
    {
     "data": {
      "text/plain": [
       "1"
      ]
     },
     "execution_count": 15,
     "metadata": {},
     "output_type": "execute_result"
    }
   ],
   "source": [
    "# Now we have one constraint\n",
    "solver.NumConstraints()"
   ]
  },
  {
   "cell_type": "markdown",
   "metadata": {},
   "source": [
    "## Add Equalized Odds Constraints"
   ]
  },
  {
   "cell_type": "code",
   "execution_count": 16,
   "metadata": {
    "execution": {
     "iopub.execute_input": "2022-07-18T22:07:33.035615Z",
     "iopub.status.busy": "2022-07-18T22:07:33.035207Z",
     "iopub.status.idle": "2022-07-18T22:07:33.036832Z",
     "shell.execute_reply": "2022-07-18T22:07:33.037114Z"
    }
   },
   "outputs": [
    {
     "data": {
      "text/plain": [
       "(594, 834)"
      ]
     },
     "execution_count": 16,
     "metadata": {},
     "output_type": "execute_result"
    }
   ],
   "source": [
    "## Make sure that you have to add all people in Y stratum or none\n",
    "## i.e. you can't add only people who pass boards and reject those who fail boards from same T, R stratum\n",
    "didntexist, exists = 0, 0 \n",
    "\n",
    "for ix, row in dff.iterrows():\n",
    "    \n",
    "    \n",
    "    var1 = vars_cache[(row['R'],row['T'],row['Y'], row['Y_reject'])]\n",
    "    key2s = [(row['R'],row['T'], 1-row['Y'], 1-row['Y_reject']), (row['R'],row['T'], row['Y'], 1-row['Y_reject']), (row['R'],row['T'], 1-row['Y'], row['Y_reject'])]\n",
    "    \n",
    "    for key2 in key2s:\n",
    "        constrain_bp = solver.Constraint(0.0, 0.0)\n",
    "        \n",
    "        if key2 not in vars_cache:\n",
    "            didntexist+=1\n",
    "            continue\n",
    "            \n",
    "        var2 = vars_cache[key2]\n",
    "        \n",
    "        constrain_bp.SetCoefficient(var1, -1.0)\n",
    "        constrain_bp.SetCoefficient(var2, 1.0)\n",
    "        exists+=1\n",
    "\n",
    "didntexist, exists"
   ]
  },
  {
   "cell_type": "code",
   "execution_count": 17,
   "metadata": {
    "execution": {
     "iopub.execute_input": "2022-07-18T22:07:33.043814Z",
     "iopub.status.busy": "2022-07-18T22:07:33.043435Z",
     "iopub.status.idle": "2022-07-18T22:07:33.045084Z",
     "shell.execute_reply": "2022-07-18T22:07:33.045453Z"
    }
   },
   "outputs": [
    {
     "data": {
      "text/plain": [
       "(95, 0, 76, 0)"
      ]
     },
     "execution_count": 17,
     "metadata": {},
     "output_type": "execute_result"
    }
   ],
   "source": [
    "majority_pass_boards_pass_boards_reject = []\n",
    "majority_fail_boards_pass_boards_reject = []\n",
    "minority_pass_boards_pass_boards_reject = []\n",
    "minority_fail_boards_pass_boards_reject = []\n",
    "majority_pass_boards_fail_boards_reject = []\n",
    "majority_fail_boards_fail_boards_reject = []\n",
    "minority_pass_boards_fail_boards_reject = []\n",
    "minority_fail_boards_fail_boards_reject = []\n",
    "\n",
    "\n",
    "for key in vars_cache:\n",
    "    r, t, Y, Y_reject = key\n",
    "    if Y == 1 and r==0 and Y_reject==1:\n",
    "        majority_pass_boards_pass_boards_reject.append(key)\n",
    "    elif Y == 0 and r==0 and Y_reject==1:\n",
    "        majority_fail_boards_pass_boards_reject.append(key)\n",
    "    elif Y == 1 and r==1 and Y_reject==1:\n",
    "        minority_pass_boards_pass_boards_reject.append(key)\n",
    "    elif Y == 0 and r==1 and Y_reject==1:\n",
    "        minority_fail_boards_pass_boards_reject.append(key)\n",
    "        \n",
    "    if Y == 1 and r==0 and Y_reject==0:\n",
    "        majority_pass_boards_fail_boards_reject.append(key)\n",
    "    elif Y == 0 and r==0 and Y_reject==0:\n",
    "        majority_fail_boards_fail_boards_reject.append(key)\n",
    "    elif Y == 1 and r==1 and Y_reject==0:\n",
    "        minority_pass_boards_fail_boards_reject.append(key)\n",
    "    elif Y == 0 and r==1 and Y_reject==0:\n",
    "        minority_fail_boards_fail_boards_reject.append(key)\n",
    "\n",
    "len(majority_pass_boards_pass_boards_reject),len(majority_fail_boards_pass_boards_reject),len(minority_pass_boards_pass_boards_reject),len(minority_fail_boards_pass_boards_reject)\n",
    "\n",
    "\n"
   ]
  },
  {
   "cell_type": "code",
   "execution_count": 18,
   "metadata": {
    "execution": {
     "iopub.execute_input": "2022-07-18T22:07:33.063922Z",
     "iopub.status.busy": "2022-07-18T22:07:33.063578Z",
     "iopub.status.idle": "2022-07-18T22:07:33.064862Z",
     "shell.execute_reply": "2022-07-18T22:07:33.065161Z"
    }
   },
   "outputs": [],
   "source": [
    "NUM_TOTALS = {}\n",
    "df_totals = dff[['N','R','Y','Y_reject']].groupby(['R','Y','Y_reject']).sum().reset_index()\n",
    "for ix, row in df_totals.iterrows():\n",
    "    NUM_TOTALS[(row['R'],row['Y'],row['Y_reject'])] = row['N']\n",
    "    \n",
    "N_IN_STRATAS = {}\n",
    "for ix, row in dff.iterrows():\n",
    "    N_IN_STRATAS[(row['R'],row['T'],row['Y'],row['Y_reject'])] = row['N']"
   ]
  },
  {
   "cell_type": "code",
   "execution_count": 19,
   "metadata": {
    "execution": {
     "iopub.execute_input": "2022-07-18T22:07:33.067495Z",
     "iopub.status.busy": "2022-07-18T22:07:33.067055Z",
     "iopub.status.idle": "2022-07-18T22:07:33.068709Z",
     "shell.execute_reply": "2022-07-18T22:07:33.068991Z"
    }
   },
   "outputs": [
    {
     "data": {
      "text/plain": [
       "1429"
      ]
     },
     "execution_count": 19,
     "metadata": {},
     "output_type": "execute_result"
    }
   ],
   "source": [
    "# Now we have one constraint\n",
    "solver.NumConstraints()"
   ]
  },
  {
   "cell_type": "code",
   "execution_count": 20,
   "metadata": {
    "execution": {
     "iopub.execute_input": "2022-07-18T22:07:33.073443Z",
     "iopub.status.busy": "2022-07-18T22:07:33.073089Z",
     "iopub.status.idle": "2022-07-18T22:07:33.074340Z",
     "shell.execute_reply": "2022-07-18T22:07:33.074677Z"
    }
   },
   "outputs": [],
   "source": [
    "#Of those who pass the boards exams, pass boards exams if rejected\n",
    "#Frac majority admitted and frac minority admitted should be the same\n",
    "\n",
    "constrain_pass_boards_pass_boards_reject = solver.Constraint(0.0, 0.0)\n",
    "\n",
    "for key in majority_pass_boards_pass_boards_reject:\n",
    "    r, t, Y, Y_reject = key\n",
    "    N_IN_STRATUM = N_IN_STRATAS[(r,t,Y, Y_reject)]\n",
    "    N_TOTAL = NUM_TOTALS[(r,Y, Y_reject)]\n",
    "    \n",
    "    constrain_pass_boards_pass_boards_reject.SetCoefficient(vars_cache[key], float(N_IN_STRATUM) / float(N_TOTAL))\n",
    "\n",
    "for key in minority_pass_boards_pass_boards_reject:\n",
    "    r, t, Y, Y_reject = key\n",
    "    N_IN_STRATUM = N_IN_STRATAS[(r,t,Y, Y_reject)]\n",
    "    N_TOTAL = NUM_TOTALS[(r,Y, Y_reject)]\n",
    "    \n",
    "    constrain_pass_boards_pass_boards_reject.SetCoefficient(vars_cache[key], -1.0 * (float(N_IN_STRATUM) / float(N_TOTAL)))\n"
   ]
  },
  {
   "cell_type": "code",
   "execution_count": 21,
   "metadata": {
    "execution": {
     "iopub.execute_input": "2022-07-18T22:07:33.078126Z",
     "iopub.status.busy": "2022-07-18T22:07:33.077766Z",
     "iopub.status.idle": "2022-07-18T22:07:33.079147Z",
     "shell.execute_reply": "2022-07-18T22:07:33.079506Z"
    }
   },
   "outputs": [],
   "source": [
    "#Of those who fail the boards exams, pass boards exams if rejected\n",
    "#Frac majority admitted and frac minority admitted should be the same\n",
    "\n",
    "constrain_fail_boards_pass_boards_reject = solver.Constraint(0.0, 0.0)\n",
    "\n",
    "for key in majority_fail_boards_pass_boards_reject:\n",
    "    r, t, Y, Y_reject = key\n",
    "    N_IN_STRATUM = N_IN_STRATAS[(r,t,Y, Y_reject)]\n",
    "    N_TOTAL = NUM_TOTALS[(r,Y, Y_reject)]\n",
    "    \n",
    "    constrain_fail_boards_pass_boards_reject.SetCoefficient(vars_cache[key], float(N_IN_STRATUM) / float(N_TOTAL))\n",
    "\n",
    "for key in minority_fail_boards_pass_boards_reject:\n",
    "    r, t, Y, Y_reject = key\n",
    "    N_IN_STRATUM = N_IN_STRATAS[(r,t,Y, Y_reject)]\n",
    "    N_TOTAL = NUM_TOTALS[(r,Y, Y_reject)]\n",
    "    \n",
    "    constrain_fail_boards_pass_boards_reject.SetCoefficient(vars_cache[key], -1.0 * (float(N_IN_STRATUM) / float(N_TOTAL)))\n"
   ]
  },
  {
   "cell_type": "code",
   "execution_count": 22,
   "metadata": {
    "execution": {
     "iopub.execute_input": "2022-07-18T22:07:33.086032Z",
     "iopub.status.busy": "2022-07-18T22:07:33.085672Z",
     "iopub.status.idle": "2022-07-18T22:07:33.086988Z",
     "shell.execute_reply": "2022-07-18T22:07:33.087274Z"
    }
   },
   "outputs": [],
   "source": [
    "constrain_pass_boards_fail_boards_reject = solver.Constraint(0.0, 0.0)\n",
    "\n",
    "for key in majority_pass_boards_fail_boards_reject:\n",
    "    r, t, Y, Y_reject = key\n",
    "    N_IN_STRATUM = N_IN_STRATAS[(r,t,Y, Y_reject)]\n",
    "    N_TOTAL = NUM_TOTALS[(r,Y, Y_reject)]\n",
    "    \n",
    "    constrain_pass_boards_fail_boards_reject.SetCoefficient(vars_cache[key], float(N_IN_STRATUM) / float(N_TOTAL))\n",
    "\n",
    "for key in minority_pass_boards_fail_boards_reject:\n",
    "    r, t, Y, Y_reject = key\n",
    "    N_IN_STRATUM = N_IN_STRATAS[(r,t,Y, Y_reject)]\n",
    "    N_TOTAL = NUM_TOTALS[(r,Y, Y_reject)]\n",
    "    \n",
    "    constrain_pass_boards_fail_boards_reject.SetCoefficient(vars_cache[key], -1.0 * (float(N_IN_STRATUM) / float(N_TOTAL)))\n",
    "\n",
    "    \n",
    "#Of those who fail the boards exams, fail boards exams if rejected\n",
    "#Frac majority admitted and frac minority admitted should be the same\n",
    "\n",
    "constrain_fail_boards_fail_boards_reject = solver.Constraint(0.0, 0.0)\n",
    "\n",
    "for key in majority_fail_boards_fail_boards_reject:\n",
    "    r, t, Y, Y_reject = key\n",
    "    N_IN_STRATUM = N_IN_STRATAS[(r,t,Y, Y_reject)]\n",
    "    N_TOTAL = NUM_TOTALS[(r,Y, Y_reject)]\n",
    "    \n",
    "    constrain_fail_boards_fail_boards_reject.SetCoefficient(vars_cache[key], float(N_IN_STRATUM) / float(N_TOTAL))\n",
    "\n",
    "for key in minority_fail_boards_fail_boards_reject:\n",
    "    r, t, Y, Y_reject = key\n",
    "    N_IN_STRATUM = N_IN_STRATAS[(r,t,Y, Y_reject)]\n",
    "    N_TOTAL = NUM_TOTALS[(r,Y, Y_reject)]\n",
    "    \n",
    "    constrain_fail_boards_fail_boards_reject.SetCoefficient(vars_cache[key], -1.0 * (float(N_IN_STRATUM) / float(N_TOTAL)))\n"
   ]
  },
  {
   "cell_type": "markdown",
   "metadata": {},
   "source": [
    "## Add outcome constraints"
   ]
  },
  {
   "cell_type": "code",
   "execution_count": 23,
   "metadata": {},
   "outputs": [],
   "source": [
    "constrain_graduate = solver.Constraint(0, 0)\n",
    "\n",
    "for ix, row in dff.iterrows():\n",
    "    \n",
    "    key = (row['R'],row['T'],row['Y'],row['Y_reject'])\n",
    "    n_graduate = row['Y'] * row['N']\n",
    "    constrain_graduate.SetCoefficient(vars_cache[key], float(n_graduate))\n",
    "\n",
    "constrain_black_admit = solver.Constraint(0, 0)\n",
    "\n",
    "for ix, row in dff.iterrows():\n",
    "    key = (row['R'],row['T'],row['Y'],row['Y_reject'])\n",
    "    n_black = row['R'] * row['N']\n",
    "    constrain_black_admit.SetCoefficient(vars_cache[key], float(n_black))\n"
   ]
  },
  {
   "cell_type": "markdown",
   "metadata": {},
   "source": [
    "## Solve linear program"
   ]
  },
  {
   "cell_type": "code",
   "execution_count": 24,
   "metadata": {
    "execution": {
     "iopub.execute_input": "2022-07-18T22:07:33.089749Z",
     "iopub.status.busy": "2022-07-18T22:07:33.089388Z",
     "iopub.status.idle": "2022-07-18T22:07:33.090959Z",
     "shell.execute_reply": "2022-07-18T22:07:33.091240Z"
    },
    "scrolled": true
   },
   "outputs": [
    {
     "name": "stdout",
     "output_type": "stream",
     "text": [
      "Total grid cells to check: 63295\n",
      "Total grid cells checked so far: 100/63295\n",
      "Total grid cells checked so far: 200/63295\n",
      "Total grid cells checked so far: 300/63295\n",
      "Total grid cells checked so far: 400/63295\n",
      "Total grid cells checked so far: 500/63295\n",
      "Total grid cells checked so far: 600/63295\n",
      "Total grid cells checked so far: 700/63295\n",
      "Total grid cells checked so far: 800/63295\n",
      "Total grid cells checked so far: 900/63295\n",
      "Total grid cells checked so far: 1000/63295\n",
      "Total grid cells checked so far: 1100/63295\n",
      "Total grid cells checked so far: 1200/63295\n",
      "Total grid cells checked so far: 1300/63295\n",
      "Total grid cells checked so far: 1400/63295\n",
      "Total grid cells checked so far: 1500/63295\n",
      "Total grid cells checked so far: 1600/63295\n",
      "Total grid cells checked so far: 1700/63295\n",
      "Total grid cells checked so far: 1800/63295\n",
      "Total grid cells checked so far: 1900/63295\n",
      "Total grid cells checked so far: 2000/63295\n",
      "Total grid cells checked so far: 2100/63295\n",
      "Total grid cells checked so far: 2200/63295\n",
      "Total grid cells checked so far: 2300/63295\n",
      "Total grid cells checked so far: 2400/63295\n",
      "Total grid cells checked so far: 2500/63295\n",
      "Total grid cells checked so far: 2600/63295\n",
      "Total grid cells checked so far: 2700/63295\n",
      "Total grid cells checked so far: 2800/63295\n",
      "Total grid cells checked so far: 2900/63295\n",
      "Total grid cells checked so far: 3000/63295\n",
      "Total grid cells checked so far: 3100/63295\n",
      "Total grid cells checked so far: 3200/63295\n",
      "Total grid cells checked so far: 3300/63295\n",
      "Total grid cells checked so far: 3400/63295\n",
      "Total grid cells checked so far: 3500/63295\n",
      "Total grid cells checked so far: 3600/63295\n",
      "Total grid cells checked so far: 3700/63295\n",
      "Total grid cells checked so far: 3800/63295\n",
      "Total grid cells checked so far: 3900/63295\n",
      "Total grid cells checked so far: 4000/63295\n",
      "Total grid cells checked so far: 4100/63295\n",
      "Total grid cells checked so far: 4200/63295\n",
      "Total grid cells checked so far: 4300/63295\n",
      "Total grid cells checked so far: 4400/63295\n",
      "Total grid cells checked so far: 4500/63295\n",
      "Total grid cells checked so far: 4600/63295\n",
      "Total grid cells checked so far: 4700/63295\n",
      "Total grid cells checked so far: 4800/63295\n",
      "Total grid cells checked so far: 4900/63295\n",
      "Total grid cells checked so far: 5000/63295\n",
      "Total grid cells checked so far: 5100/63295\n",
      "Total grid cells checked so far: 5200/63295\n",
      "Total grid cells checked so far: 5300/63295\n",
      "Total grid cells checked so far: 5400/63295\n",
      "Total grid cells checked so far: 5500/63295\n",
      "Total grid cells checked so far: 5600/63295\n",
      "Total grid cells checked so far: 5700/63295\n",
      "Total grid cells checked so far: 5800/63295\n",
      "Total grid cells checked so far: 5900/63295\n",
      "Total grid cells checked so far: 6000/63295\n",
      "Total grid cells checked so far: 6100/63295\n",
      "Total grid cells checked so far: 6200/63295\n",
      "Total grid cells checked so far: 6300/63295\n",
      "Total grid cells checked so far: 6400/63295\n",
      "Total grid cells checked so far: 6500/63295\n",
      "Total grid cells checked so far: 6600/63295\n",
      "Total grid cells checked so far: 6700/63295\n",
      "Total grid cells checked so far: 6800/63295\n",
      "Total grid cells checked so far: 6900/63295\n",
      "Total grid cells checked so far: 7000/63295\n",
      "Total grid cells checked so far: 7100/63295\n",
      "Total grid cells checked so far: 7200/63295\n",
      "Total grid cells checked so far: 7300/63295\n",
      "Total grid cells checked so far: 7400/63295\n",
      "Total grid cells checked so far: 7500/63295\n",
      "Total grid cells checked so far: 7600/63295\n",
      "Total grid cells checked so far: 7700/63295\n",
      "Total grid cells checked so far: 7800/63295\n",
      "Total grid cells checked so far: 7900/63295\n",
      "Total grid cells checked so far: 8000/63295\n",
      "Total grid cells checked so far: 8100/63295\n",
      "Total grid cells checked so far: 8200/63295\n",
      "Total grid cells checked so far: 8300/63295\n",
      "Total grid cells checked so far: 8400/63295\n",
      "Total grid cells checked so far: 8500/63295\n",
      "Total grid cells checked so far: 8600/63295\n",
      "Total grid cells checked so far: 8700/63295\n",
      "Total grid cells checked so far: 8800/63295\n",
      "Total grid cells checked so far: 8900/63295\n",
      "Total grid cells checked so far: 9000/63295\n",
      "Total grid cells checked so far: 9100/63295\n",
      "Total grid cells checked so far: 9200/63295\n",
      "Total grid cells checked so far: 9300/63295\n",
      "Total grid cells checked so far: 9400/63295\n",
      "Total grid cells checked so far: 9500/63295\n",
      "Total grid cells checked so far: 9600/63295\n",
      "Total grid cells checked so far: 9700/63295\n",
      "Total grid cells checked so far: 9800/63295\n",
      "Total grid cells checked so far: 9900/63295\n",
      "Total grid cells checked so far: 10000/63295\n",
      "Total grid cells checked so far: 10100/63295\n",
      "Total grid cells checked so far: 10200/63295\n",
      "Total grid cells checked so far: 10300/63295\n",
      "Total grid cells checked so far: 10400/63295\n",
      "Total grid cells checked so far: 10500/63295\n",
      "Total grid cells checked so far: 10600/63295\n",
      "Total grid cells checked so far: 10700/63295\n",
      "Total grid cells checked so far: 10800/63295\n",
      "Total grid cells checked so far: 10900/63295\n",
      "Total grid cells checked so far: 11000/63295\n",
      "Total grid cells checked so far: 11100/63295\n",
      "Total grid cells checked so far: 11200/63295\n",
      "Total grid cells checked so far: 11300/63295\n",
      "Total grid cells checked so far: 11400/63295\n",
      "Total grid cells checked so far: 11500/63295\n",
      "Total grid cells checked so far: 11600/63295\n",
      "Total grid cells checked so far: 11700/63295\n",
      "Total grid cells checked so far: 11800/63295\n",
      "Total grid cells checked so far: 11900/63295\n",
      "Total grid cells checked so far: 12000/63295\n",
      "Total grid cells checked so far: 12100/63295\n",
      "Total grid cells checked so far: 12200/63295\n",
      "Total grid cells checked so far: 12300/63295\n",
      "Total grid cells checked so far: 12400/63295\n",
      "Total grid cells checked so far: 12500/63295\n",
      "Total grid cells checked so far: 12600/63295\n",
      "Total grid cells checked so far: 12700/63295\n",
      "Total grid cells checked so far: 12800/63295\n",
      "Total grid cells checked so far: 12900/63295\n",
      "Total grid cells checked so far: 13000/63295\n",
      "Total grid cells checked so far: 13100/63295\n",
      "Total grid cells checked so far: 13200/63295\n",
      "Total grid cells checked so far: 13300/63295\n",
      "Total grid cells checked so far: 13400/63295\n",
      "Total grid cells checked so far: 13500/63295\n",
      "Total grid cells checked so far: 13600/63295\n",
      "Total grid cells checked so far: 13700/63295\n",
      "Total grid cells checked so far: 13800/63295\n",
      "Total grid cells checked so far: 13900/63295\n",
      "Total grid cells checked so far: 14000/63295\n",
      "Total grid cells checked so far: 14100/63295\n",
      "Total grid cells checked so far: 14200/63295\n",
      "Total grid cells checked so far: 14300/63295\n",
      "Total grid cells checked so far: 14400/63295\n",
      "Total grid cells checked so far: 14500/63295\n",
      "Total grid cells checked so far: 14600/63295\n",
      "Total grid cells checked so far: 14700/63295\n",
      "Total grid cells checked so far: 14800/63295\n",
      "Total grid cells checked so far: 14900/63295\n",
      "Total grid cells checked so far: 15000/63295\n",
      "Total grid cells checked so far: 15100/63295\n",
      "Total grid cells checked so far: 15200/63295\n",
      "Total grid cells checked so far: 15300/63295\n",
      "Total grid cells checked so far: 15400/63295\n",
      "Total grid cells checked so far: 15500/63295\n",
      "Total grid cells checked so far: 15600/63295\n",
      "Total grid cells checked so far: 15700/63295\n",
      "Total grid cells checked so far: 15800/63295\n"
     ]
    }
   ],
   "source": [
    "count = 0 \n",
    "\n",
    "print ('Total grid cells to check: {}'.format(len(outcomes_grid)))\n",
    "\n",
    "for region in outcomes_grid:\n",
    "    constrain_graduate.SetBounds(float(region['min_graduates']), float(region['max_graduates']))\n",
    "    constrain_black_admit.SetBounds(float(region['min_black_admits']), float(region['max_black_admits']))\n",
    "    status = solver.Solve()\n",
    "    if status == 0:\n",
    "        region['policy_exists'] = 1\n",
    "        \n",
    "        row = []\n",
    "        admit = []\n",
    "\n",
    "        for i in applicant_stratum:\n",
    "            row.append(int(str(i)))\n",
    "            admit.append(i.solution_value())\n",
    "        #df_decisions = pd.DataFrame({'row_id':row,'decision':admit})\n",
    "        region['policy'] = (row,admit)    \n",
    "    else:\n",
    "        continue\n",
    "        #print(status)\n",
    "        \n",
    "    count+=1\n",
    "    \n",
    "    if count % 100 ==0:\n",
    "        print ('Total grid cells checked so far: {}/{}'.format(count,len(outcomes_grid)))\n",
    "\n",
    "\n"
   ]
  },
  {
   "cell_type": "code",
   "execution_count": 27,
   "metadata": {},
   "outputs": [],
   "source": [
    "import pickle \n",
    "file = open(\"Fruits.obj\",'rb')\n",
    "outcomes_grid2 = pickle.load(file)\n",
    "file.close()\n"
   ]
  },
  {
   "cell_type": "code",
   "execution_count": 29,
   "metadata": {},
   "outputs": [
    {
     "data": {
      "image/png": "[encoded data removed]",
      "text/plain": [
       "<Figure size 842.4x595.44 with 1 Axes>"
      ]
     },
     "metadata": {},
     "output_type": "display_data"
    }
   ],
   "source": [
    "import seaborn as sns\n",
    "import matplotlib.ticker as ticker\n",
    "from matplotlib.patches import Rectangle\n",
    "from matplotlib.collections import PatchCollection\n",
    "\n",
    "sns.set(rc={'figure.figsize':(11.7,8.27)})\n",
    "sns.set(style=\"white\", font_scale=1.5, )\n",
    "ax = sns.lineplot(data=df_pareto, x='# Black Admits', y='# Graduates',linewidth=5)\n",
    "errorboxes = []\n",
    "\n",
    "for outcome_block in outcomes_grid:\n",
    "    if outcome_block['policy_exists'] == 1:\n",
    "        errorboxes.append(Rectangle((outcome_block['min_black_admits'] , outcome_block['min_graduates']),GRID_SIZE,GRID_SIZE))\n",
    "\n",
    "pc = PatchCollection(errorboxes, facecolor='red', alpha=0.5,  edgecolor='none')\n",
    "                       \n",
    "ax.add_collection(pc)\n",
    "\n",
    "errorboxes2 = []\n",
    "\n",
    "for outcome_block in outcomes_grid2:\n",
    "    if outcome_block['policy_exists'] == 1:\n",
    "        errorboxes2.append(Rectangle((outcome_block['min_black_admits'] , outcome_block['min_graduates']),GRID_SIZE,GRID_SIZE))\n",
    "\n",
    "pc2 = PatchCollection(errorboxes2, facecolor='blue', alpha=0.5,  edgecolor='none')\n",
    "                       \n",
    "ax.add_collection(pc2)\n",
    "\n",
    "\n",
    "plt.scatter(x=(df['R']*0.5).sum(),y=(df['Y']*0.5).sum(),color='green')   \n",
    "plt.xlim([0, MAX_BLACK_ADMITS])\n",
    "plt.ylim([28000, df_pareto['# Graduates'].max()+1000])\n",
    "plt.show()\n",
    "\n",
    "\n",
    "    \n"
   ]
  },
  {
   "cell_type": "code",
   "execution_count": null,
   "metadata": {},
   "outputs": [],
   "source": []
  }
 ],
 "metadata": {
  "kernelspec": {
   "display_name": "Python 3 (ipykernel)",
   "language": "python",
   "name": "python3"
  },
  "language_info": {
   "codemirror_mode": {
    "name": "ipython",
    "version": 3
   },
   "file_extension": ".py",
   "mimetype": "text/x-python",
   "name": "python",
   "nbconvert_exporter": "python",
   "pygments_lexer": "ipython3",
   "version": "3.9.7"
  }
 },
 "nbformat": 4,
 "nbformat_minor": 4
}
